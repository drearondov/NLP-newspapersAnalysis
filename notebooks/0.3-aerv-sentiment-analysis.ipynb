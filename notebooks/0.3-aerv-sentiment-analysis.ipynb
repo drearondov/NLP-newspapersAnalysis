{
 "cells": [
  {
   "attachments": {},
   "cell_type": "markdown",
   "metadata": {},
   "source": [
    "# Sentiment Analysis\n",
    "\n",
    "## Introduction\n",
    "\n",
    "Now I'll proceed to analyse the sentiment of the headlines, for that I found a model trained in Spanish called [PySentimiento](https://github.com/pysentimiento/pysentimiento), which analyses posts in terms of wether they are **positive**, **negative** or **neutral**. Besides that package, I'll also be using **Spacy** and **TextBlob** as well as the package that combines both and allows us to work with them in combination.\n",
    "\n",
    "Now I'll be looking at sentiment in different ways.\n",
    "\n",
    "1. **Per tweet:** I'll analyse each tweet by itself.\n",
    "2. **Per week:** I'll group the tweets per day for each of the newspapers.\n",
    "\n",
    "Finally, I'll be looking at the results in relationship with twitter's engagement metrics."
   ]
  },
  {
   "cell_type": "code",
   "execution_count": 84,
   "metadata": {},
   "outputs": [],
   "source": [
    "import os\n",
    "import numpy as np\n",
    "import pandas as pd\n",
    "import pickle\n",
    "import plotly.express as px\n",
    "import plotly.io as pio\n",
    "\n",
    "from dotenv import load_dotenv, find_dotenv\n",
    "from pysentimiento import create_analyzer"
   ]
  },
  {
   "cell_type": "code",
   "execution_count": 2,
   "metadata": {},
   "outputs": [],
   "source": [
    "load_dotenv()\n",
    "\n",
    "BASE_DIR = os.environ.get(\"BASE_DIR\")\n",
    "BEARER_TOKEN = os.environ.get(\"BEARER_TOKEN\")"
   ]
  },
  {
   "cell_type": "code",
   "execution_count": 3,
   "metadata": {},
   "outputs": [],
   "source": [
    "pd.set_option(\"display.max_colwidth\", 300)\n",
    "pd.set_option(\"display.max_rows\", 100)\n",
    "pd.set_option(\"display.max_columns\", 50)\n",
    "pd.set_option(\"display.precision\", 2)\n",
    "pd.set_option(\"display.float_format\",  \"{:,.3f}\".format)\n",
    "\n",
    "pio.templates.default = \"plotly_white\"\n",
    "pio.kaleido.scope.default_scale = 2\n",
    "\n",
    "gruvbox_colors = [\"#fabd2f\", \"#b8bb26\", \"#458588\", \"#fe8019\", \"#b16286\", \"#fb4943\", \"#689d6a\", \"#d79921\", \"#98971a\", \"#83a598\", \"#d65d0e\", \"#d3869b\", \"#cc241d\", \"#8ec07c\", \"#b57614\", \"#79740e\", \"#076678\", \"#af3a03\", \"#8f3f71\", \"#9d0006\", \"#4d7b58\", \"#fbf1c7\", \"#928374\", \"#282828\"]"
   ]
  },
  {
   "cell_type": "code",
   "execution_count": 4,
   "metadata": {},
   "outputs": [],
   "source": [
    "TIME_STAMPS = [(2022, 35), (2022, 40), (2022, 45), (2022, 50), (2023, 3)]"
   ]
  },
  {
   "attachments": {},
   "cell_type": "markdown",
   "metadata": {},
   "source": [
    "### Data Loading\n",
    "\n",
    "There are three documents that I want to load. The corpus frame, document term matrix and clean data."
   ]
  },
  {
   "cell_type": "code",
   "execution_count": 5,
   "metadata": {},
   "outputs": [],
   "source": [
    "corpus = pd.read_feather(f\"{BASE_DIR}/data/processed/corpus-sentiment-{TIME_STAMPS[0]}-{TIME_STAMPS[-1]}.feather\")\n",
    "stats_data = pd.read_feather(f\"{BASE_DIR}/data/processed/stats_data-{TIME_STAMPS[0]}-{TIME_STAMPS[-1]}.feather\")\n",
    "top30_df = pd.read_feather(f\"{BASE_DIR}/data/processed/top30_df-{TIME_STAMPS[0]}-{TIME_STAMPS[-1]}.feather\")\n",
    "top30_stats = pd.read_feather(f\"{BASE_DIR}/data/processed/top30-stats-{TIME_STAMPS[0]}-{TIME_STAMPS[-1]}.feather\")"
   ]
  },
  {
   "cell_type": "code",
   "execution_count": 6,
   "metadata": {},
   "outputs": [],
   "source": [
    "top30_stats.set_index(\"index\", inplace=True)\n",
    "corpus.set_index(\"index\", inplace=True)\n",
    "stats_data.set_index(\"index\", inplace=True)"
   ]
  },
  {
   "cell_type": "code",
   "execution_count": 7,
   "metadata": {},
   "outputs": [
    {
     "data": {
      "text/html": [
       "<div>\n",
       "<style scoped>\n",
       "    .dataframe tbody tr th:only-of-type {\n",
       "        vertical-align: middle;\n",
       "    }\n",
       "\n",
       "    .dataframe tbody tr th {\n",
       "        vertical-align: top;\n",
       "    }\n",
       "\n",
       "    .dataframe thead th {\n",
       "        text-align: right;\n",
       "    }\n",
       "</style>\n",
       "<table border=\"1\" class=\"dataframe\">\n",
       "  <thead>\n",
       "    <tr style=\"text-align: right;\">\n",
       "      <th></th>\n",
       "      <th>id</th>\n",
       "      <th>created_at</th>\n",
       "      <th>newspaper</th>\n",
       "      <th>corpus</th>\n",
       "      <th>sentiment_output</th>\n",
       "      <th>sentiment_probas_NEG</th>\n",
       "      <th>sentiment_probas_NEU</th>\n",
       "      <th>sentiment_probas_POS</th>\n",
       "      <th>emotion_output</th>\n",
       "      <th>emotion_probas_others</th>\n",
       "      <th>emotion_probas_joy</th>\n",
       "      <th>emotion_probas_surprise</th>\n",
       "      <th>emotion_probas_sadness</th>\n",
       "      <th>emotion_probas_fear</th>\n",
       "      <th>emotion_probas_anger</th>\n",
       "      <th>emotion_probas_disgust</th>\n",
       "      <th>year</th>\n",
       "      <th>week</th>\n",
       "      <th>year_week</th>\n",
       "    </tr>\n",
       "    <tr>\n",
       "      <th>index</th>\n",
       "      <th></th>\n",
       "      <th></th>\n",
       "      <th></th>\n",
       "      <th></th>\n",
       "      <th></th>\n",
       "      <th></th>\n",
       "      <th></th>\n",
       "      <th></th>\n",
       "      <th></th>\n",
       "      <th></th>\n",
       "      <th></th>\n",
       "      <th></th>\n",
       "      <th></th>\n",
       "      <th></th>\n",
       "      <th></th>\n",
       "      <th></th>\n",
       "      <th></th>\n",
       "      <th></th>\n",
       "      <th></th>\n",
       "    </tr>\n",
       "  </thead>\n",
       "  <tbody>\n",
       "    <tr>\n",
       "      <th>0</th>\n",
       "      <td>1564039479391838209</td>\n",
       "      <td>2022-08-28 23:57:24+00:00</td>\n",
       "      <td>elcomercio_peru</td>\n",
       "      <td>venezuela colombia retoman relaciones diplomáticas rotas hace tres años</td>\n",
       "      <td>NEG</td>\n",
       "      <td>0.631</td>\n",
       "      <td>0.364</td>\n",
       "      <td>0.005</td>\n",
       "      <td>others</td>\n",
       "      <td>0.905</td>\n",
       "      <td>0.004</td>\n",
       "      <td>0.023</td>\n",
       "      <td>0.042</td>\n",
       "      <td>0.014</td>\n",
       "      <td>0.005</td>\n",
       "      <td>0.007</td>\n",
       "      <td>2022</td>\n",
       "      <td>34</td>\n",
       "      <td>2022w34</td>\n",
       "    </tr>\n",
       "    <tr>\n",
       "      <th>2</th>\n",
       "      <td>1564032331706470401</td>\n",
       "      <td>2022-08-28 23:29:00+00:00</td>\n",
       "      <td>elcomercio_peru</td>\n",
       "      <td>amlo afirma que familias ya aceptaron plan de rescate de mineros</td>\n",
       "      <td>NEU</td>\n",
       "      <td>0.031</td>\n",
       "      <td>0.889</td>\n",
       "      <td>0.080</td>\n",
       "      <td>others</td>\n",
       "      <td>0.961</td>\n",
       "      <td>0.016</td>\n",
       "      <td>0.009</td>\n",
       "      <td>0.006</td>\n",
       "      <td>0.003</td>\n",
       "      <td>0.002</td>\n",
       "      <td>0.002</td>\n",
       "      <td>2022</td>\n",
       "      <td>34</td>\n",
       "      <td>2022w34</td>\n",
       "    </tr>\n",
       "    <tr>\n",
       "      <th>3</th>\n",
       "      <td>1564028601053347843</td>\n",
       "      <td>2022-08-28 23:14:11+00:00</td>\n",
       "      <td>elcomercio_peru</td>\n",
       "      <td>zelensky los ocupantes rusos sentirán las consecuencias de futuras acciones</td>\n",
       "      <td>NEU</td>\n",
       "      <td>0.114</td>\n",
       "      <td>0.881</td>\n",
       "      <td>0.005</td>\n",
       "      <td>others</td>\n",
       "      <td>0.942</td>\n",
       "      <td>0.002</td>\n",
       "      <td>0.021</td>\n",
       "      <td>0.009</td>\n",
       "      <td>0.018</td>\n",
       "      <td>0.003</td>\n",
       "      <td>0.005</td>\n",
       "      <td>2022</td>\n",
       "      <td>34</td>\n",
       "      <td>2022w34</td>\n",
       "    </tr>\n",
       "    <tr>\n",
       "      <th>5</th>\n",
       "      <td>1564023766937731073</td>\n",
       "      <td>2022-08-28 22:54:58+00:00</td>\n",
       "      <td>elcomercio_peru</td>\n",
       "      <td>autoridades confirman transmisión comunitaria de viruela del mono en panamá</td>\n",
       "      <td>NEU</td>\n",
       "      <td>0.140</td>\n",
       "      <td>0.851</td>\n",
       "      <td>0.009</td>\n",
       "      <td>others</td>\n",
       "      <td>0.950</td>\n",
       "      <td>0.008</td>\n",
       "      <td>0.010</td>\n",
       "      <td>0.017</td>\n",
       "      <td>0.008</td>\n",
       "      <td>0.004</td>\n",
       "      <td>0.003</td>\n",
       "      <td>2022</td>\n",
       "      <td>34</td>\n",
       "      <td>2022w34</td>\n",
       "    </tr>\n",
       "    <tr>\n",
       "      <th>7</th>\n",
       "      <td>1564017585561141248</td>\n",
       "      <td>2022-08-28 22:30:25+00:00</td>\n",
       "      <td>elcomercio_peru</td>\n",
       "      <td>las imágenes de los enfrentamientos entre seguidores de cristina kirchner la policía en argentina</td>\n",
       "      <td>NEU</td>\n",
       "      <td>0.193</td>\n",
       "      <td>0.793</td>\n",
       "      <td>0.014</td>\n",
       "      <td>others</td>\n",
       "      <td>0.891</td>\n",
       "      <td>0.006</td>\n",
       "      <td>0.041</td>\n",
       "      <td>0.009</td>\n",
       "      <td>0.035</td>\n",
       "      <td>0.005</td>\n",
       "      <td>0.012</td>\n",
       "      <td>2022</td>\n",
       "      <td>34</td>\n",
       "      <td>2022w34</td>\n",
       "    </tr>\n",
       "  </tbody>\n",
       "</table>\n",
       "</div>"
      ],
      "text/plain": [
       "                        id                created_at        newspaper  \\\n",
       "index                                                                   \n",
       "0      1564039479391838209 2022-08-28 23:57:24+00:00  elcomercio_peru   \n",
       "2      1564032331706470401 2022-08-28 23:29:00+00:00  elcomercio_peru   \n",
       "3      1564028601053347843 2022-08-28 23:14:11+00:00  elcomercio_peru   \n",
       "5      1564023766937731073 2022-08-28 22:54:58+00:00  elcomercio_peru   \n",
       "7      1564017585561141248 2022-08-28 22:30:25+00:00  elcomercio_peru   \n",
       "\n",
       "                                                                                                   corpus  \\\n",
       "index                                                                                                       \n",
       "0                                venezuela colombia retoman relaciones diplomáticas rotas hace tres años    \n",
       "2                                       amlo afirma que familias ya aceptaron plan de rescate de mineros    \n",
       "3                            zelensky los ocupantes rusos sentirán las consecuencias de futuras acciones    \n",
       "5                            autoridades confirman transmisión comunitaria de viruela del mono en panamá    \n",
       "7      las imágenes de los enfrentamientos entre seguidores de cristina kirchner la policía en argentina    \n",
       "\n",
       "      sentiment_output  sentiment_probas_NEG  sentiment_probas_NEU  \\\n",
       "index                                                                \n",
       "0                  NEG                 0.631                 0.364   \n",
       "2                  NEU                 0.031                 0.889   \n",
       "3                  NEU                 0.114                 0.881   \n",
       "5                  NEU                 0.140                 0.851   \n",
       "7                  NEU                 0.193                 0.793   \n",
       "\n",
       "       sentiment_probas_POS emotion_output  emotion_probas_others  \\\n",
       "index                                                               \n",
       "0                     0.005         others                  0.905   \n",
       "2                     0.080         others                  0.961   \n",
       "3                     0.005         others                  0.942   \n",
       "5                     0.009         others                  0.950   \n",
       "7                     0.014         others                  0.891   \n",
       "\n",
       "       emotion_probas_joy  emotion_probas_surprise  emotion_probas_sadness  \\\n",
       "index                                                                        \n",
       "0                   0.004                    0.023                   0.042   \n",
       "2                   0.016                    0.009                   0.006   \n",
       "3                   0.002                    0.021                   0.009   \n",
       "5                   0.008                    0.010                   0.017   \n",
       "7                   0.006                    0.041                   0.009   \n",
       "\n",
       "       emotion_probas_fear  emotion_probas_anger  emotion_probas_disgust  \\\n",
       "index                                                                      \n",
       "0                    0.014                 0.005                   0.007   \n",
       "2                    0.003                 0.002                   0.002   \n",
       "3                    0.018                 0.003                   0.005   \n",
       "5                    0.008                 0.004                   0.003   \n",
       "7                    0.035                 0.005                   0.012   \n",
       "\n",
       "       year  week year_week  \n",
       "index                        \n",
       "0      2022    34   2022w34  \n",
       "2      2022    34   2022w34  \n",
       "3      2022    34   2022w34  \n",
       "5      2022    34   2022w34  \n",
       "7      2022    34   2022w34  "
      ]
     },
     "execution_count": 7,
     "metadata": {},
     "output_type": "execute_result"
    }
   ],
   "source": [
    "corpus.head()"
   ]
  },
  {
   "cell_type": "code",
   "execution_count": 8,
   "metadata": {},
   "outputs": [
    {
     "name": "stdout",
     "output_type": "stream",
     "text": [
      "<class 'pandas.core.frame.DataFrame'>\n",
      "Int64Index: 34924 entries, 0 to 23\n",
      "Data columns (total 19 columns):\n",
      " #   Column                   Non-Null Count  Dtype              \n",
      "---  ------                   --------------  -----              \n",
      " 0   id                       34924 non-null  object             \n",
      " 1   created_at               34924 non-null  datetime64[ns, UTC]\n",
      " 2   newspaper                34924 non-null  object             \n",
      " 3   corpus                   34924 non-null  object             \n",
      " 4   sentiment_output         34924 non-null  object             \n",
      " 5   sentiment_probas_NEG     34924 non-null  float64            \n",
      " 6   sentiment_probas_NEU     34924 non-null  float64            \n",
      " 7   sentiment_probas_POS     34924 non-null  float64            \n",
      " 8   emotion_output           34924 non-null  object             \n",
      " 9   emotion_probas_others    34924 non-null  float64            \n",
      " 10  emotion_probas_joy       34924 non-null  float64            \n",
      " 11  emotion_probas_surprise  34924 non-null  float64            \n",
      " 12  emotion_probas_sadness   34924 non-null  float64            \n",
      " 13  emotion_probas_fear      34924 non-null  float64            \n",
      " 14  emotion_probas_anger     34924 non-null  float64            \n",
      " 15  emotion_probas_disgust   34924 non-null  float64            \n",
      " 16  year                     34924 non-null  UInt32             \n",
      " 17  week                     34924 non-null  UInt32             \n",
      " 18  year_week                34924 non-null  object             \n",
      "dtypes: UInt32(2), datetime64[ns, UTC](1), float64(10), object(6)\n",
      "memory usage: 5.1+ MB\n"
     ]
    }
   ],
   "source": [
    "corpus.info()"
   ]
  },
  {
   "cell_type": "code",
   "execution_count": 9,
   "metadata": {},
   "outputs": [
    {
     "data": {
      "text/html": [
       "<div>\n",
       "<style scoped>\n",
       "    .dataframe tbody tr th:only-of-type {\n",
       "        vertical-align: middle;\n",
       "    }\n",
       "\n",
       "    .dataframe tbody tr th {\n",
       "        vertical-align: top;\n",
       "    }\n",
       "\n",
       "    .dataframe thead th {\n",
       "        text-align: right;\n",
       "    }\n",
       "</style>\n",
       "<table border=\"1\" class=\"dataframe\">\n",
       "  <thead>\n",
       "    <tr style=\"text-align: right;\">\n",
       "      <th></th>\n",
       "      <th>created_at</th>\n",
       "      <th>possibly_sensitive</th>\n",
       "      <th>id</th>\n",
       "      <th>retweet_count</th>\n",
       "      <th>reply_count</th>\n",
       "      <th>like_count</th>\n",
       "      <th>quote_count</th>\n",
       "      <th>referenced_tweets</th>\n",
       "      <th>newspaper</th>\n",
       "      <th>edit_history_tweet_ids</th>\n",
       "      <th>impression_count</th>\n",
       "    </tr>\n",
       "    <tr>\n",
       "      <th>index</th>\n",
       "      <th></th>\n",
       "      <th></th>\n",
       "      <th></th>\n",
       "      <th></th>\n",
       "      <th></th>\n",
       "      <th></th>\n",
       "      <th></th>\n",
       "      <th></th>\n",
       "      <th></th>\n",
       "      <th></th>\n",
       "      <th></th>\n",
       "    </tr>\n",
       "  </thead>\n",
       "  <tbody>\n",
       "    <tr>\n",
       "      <th>0</th>\n",
       "      <td>2022-08-28 23:57:24+00:00</td>\n",
       "      <td>False</td>\n",
       "      <td>1564039479391838209</td>\n",
       "      <td>0</td>\n",
       "      <td>0</td>\n",
       "      <td>6</td>\n",
       "      <td>1</td>\n",
       "      <td>None</td>\n",
       "      <td>elcomercio_peru</td>\n",
       "      <td>None</td>\n",
       "      <td>NaN</td>\n",
       "    </tr>\n",
       "    <tr>\n",
       "      <th>2</th>\n",
       "      <td>2022-08-28 23:29:00+00:00</td>\n",
       "      <td>False</td>\n",
       "      <td>1564032331706470401</td>\n",
       "      <td>0</td>\n",
       "      <td>0</td>\n",
       "      <td>2</td>\n",
       "      <td>0</td>\n",
       "      <td>None</td>\n",
       "      <td>elcomercio_peru</td>\n",
       "      <td>None</td>\n",
       "      <td>NaN</td>\n",
       "    </tr>\n",
       "    <tr>\n",
       "      <th>3</th>\n",
       "      <td>2022-08-28 23:14:11+00:00</td>\n",
       "      <td>False</td>\n",
       "      <td>1564028601053347843</td>\n",
       "      <td>6</td>\n",
       "      <td>7</td>\n",
       "      <td>18</td>\n",
       "      <td>1</td>\n",
       "      <td>None</td>\n",
       "      <td>elcomercio_peru</td>\n",
       "      <td>None</td>\n",
       "      <td>NaN</td>\n",
       "    </tr>\n",
       "    <tr>\n",
       "      <th>5</th>\n",
       "      <td>2022-08-28 22:54:58+00:00</td>\n",
       "      <td>False</td>\n",
       "      <td>1564023766937731073</td>\n",
       "      <td>1</td>\n",
       "      <td>0</td>\n",
       "      <td>1</td>\n",
       "      <td>1</td>\n",
       "      <td>None</td>\n",
       "      <td>elcomercio_peru</td>\n",
       "      <td>None</td>\n",
       "      <td>NaN</td>\n",
       "    </tr>\n",
       "    <tr>\n",
       "      <th>7</th>\n",
       "      <td>2022-08-28 22:30:25+00:00</td>\n",
       "      <td>False</td>\n",
       "      <td>1564017585561141248</td>\n",
       "      <td>3</td>\n",
       "      <td>0</td>\n",
       "      <td>8</td>\n",
       "      <td>0</td>\n",
       "      <td>None</td>\n",
       "      <td>elcomercio_peru</td>\n",
       "      <td>None</td>\n",
       "      <td>NaN</td>\n",
       "    </tr>\n",
       "  </tbody>\n",
       "</table>\n",
       "</div>"
      ],
      "text/plain": [
       "                     created_at  possibly_sensitive                   id  \\\n",
       "index                                                                      \n",
       "0     2022-08-28 23:57:24+00:00               False  1564039479391838209   \n",
       "2     2022-08-28 23:29:00+00:00               False  1564032331706470401   \n",
       "3     2022-08-28 23:14:11+00:00               False  1564028601053347843   \n",
       "5     2022-08-28 22:54:58+00:00               False  1564023766937731073   \n",
       "7     2022-08-28 22:30:25+00:00               False  1564017585561141248   \n",
       "\n",
       "       retweet_count  reply_count  like_count  quote_count referenced_tweets  \\\n",
       "index                                                                          \n",
       "0                  0            0           6            1              None   \n",
       "2                  0            0           2            0              None   \n",
       "3                  6            7          18            1              None   \n",
       "5                  1            0           1            1              None   \n",
       "7                  3            0           8            0              None   \n",
       "\n",
       "             newspaper edit_history_tweet_ids  impression_count  \n",
       "index                                                            \n",
       "0      elcomercio_peru                   None               NaN  \n",
       "2      elcomercio_peru                   None               NaN  \n",
       "3      elcomercio_peru                   None               NaN  \n",
       "5      elcomercio_peru                   None               NaN  \n",
       "7      elcomercio_peru                   None               NaN  "
      ]
     },
     "execution_count": 9,
     "metadata": {},
     "output_type": "execute_result"
    }
   ],
   "source": [
    "stats_data.head()"
   ]
  },
  {
   "cell_type": "code",
   "execution_count": 10,
   "metadata": {},
   "outputs": [
    {
     "name": "stdout",
     "output_type": "stream",
     "text": [
      "<class 'pandas.core.frame.DataFrame'>\n",
      "Int64Index: 34924 entries, 0 to 23\n",
      "Data columns (total 11 columns):\n",
      " #   Column                  Non-Null Count  Dtype              \n",
      "---  ------                  --------------  -----              \n",
      " 0   created_at              34924 non-null  datetime64[ns, UTC]\n",
      " 1   possibly_sensitive      34924 non-null  bool               \n",
      " 2   id                      34924 non-null  object             \n",
      " 3   retweet_count           34924 non-null  int64              \n",
      " 4   reply_count             34924 non-null  int64              \n",
      " 5   like_count              34924 non-null  int64              \n",
      " 6   quote_count             34924 non-null  int64              \n",
      " 7   referenced_tweets       3593 non-null   object             \n",
      " 8   newspaper               34924 non-null  object             \n",
      " 9   edit_history_tweet_ids  21727 non-null  object             \n",
      " 10  impression_count        4499 non-null   float64            \n",
      "dtypes: bool(1), datetime64[ns, UTC](1), float64(1), int64(4), object(4)\n",
      "memory usage: 3.0+ MB\n"
     ]
    }
   ],
   "source": [
    "stats_data.info()"
   ]
  },
  {
   "attachments": {},
   "cell_type": "markdown",
   "metadata": {},
   "source": [
    "## Sentiment per tweet"
   ]
  },
  {
   "cell_type": "code",
   "execution_count": null,
   "metadata": {},
   "outputs": [],
   "source": [
    "analyzer = create_analyzer(task=\"sentiment\", lang=\"es\", model_name=\"pysentimiento/robertuito-sentiment-analysis\")"
   ]
  },
  {
   "cell_type": "code",
   "execution_count": null,
   "metadata": {},
   "outputs": [],
   "source": [
    "emotion_analyzer = create_analyzer(task=\"emotion\", lang=\"es\", model_name=\"pysentimiento/robertuito-emotion-analysis\")"
   ]
  },
  {
   "cell_type": "code",
   "execution_count": null,
   "metadata": {},
   "outputs": [],
   "source": [
    "with open(f\"{BASE_DIR}/models/3-analyzer.pkl\", \"wb\") as file:\n",
    "    pickle.dump(analyzer, file)\n",
    "\n",
    "file.close()"
   ]
  },
  {
   "cell_type": "code",
   "execution_count": null,
   "metadata": {},
   "outputs": [],
   "source": [
    "with open(f\"{BASE_DIR}/models/3-emotion-analyzer.pkl\", \"wb\") as file:\n",
    "    pickle.dump(emotion_analyzer, file)\n",
    "\n",
    "file.close()"
   ]
  },
  {
   "cell_type": "code",
   "execution_count": null,
   "metadata": {},
   "outputs": [],
   "source": [
    "with open(f\"{BASE_DIR}/models/3-analyzer.pkl\", \"rb\") as file:\n",
    "    analyzer = pickle.load(file)\n",
    "\n",
    "file.close()"
   ]
  },
  {
   "cell_type": "code",
   "execution_count": null,
   "metadata": {},
   "outputs": [],
   "source": [
    "with open(f\"{BASE_DIR}/models/3-emotion-analyzer.pkl\", \"rb\") as file:\n",
    "    emotion_analyzer = pickle.load(file)\n",
    "\n",
    "file.close()"
   ]
  },
  {
   "cell_type": "code",
   "execution_count": 57,
   "metadata": {},
   "outputs": [],
   "source": [
    "corpus[\"sentiment\"] = corpus[\"corpus\"].apply(lambda x: analyzer.predict(x))\n",
    "corpus[\"emotion\"] = corpus[\"corpus\"].apply(lambda x: emotion_analyzer.predict(x))"
   ]
  },
  {
   "cell_type": "code",
   "execution_count": 58,
   "metadata": {},
   "outputs": [
    {
     "data": {
      "text/html": [
       "<div>\n",
       "<style scoped>\n",
       "    .dataframe tbody tr th:only-of-type {\n",
       "        vertical-align: middle;\n",
       "    }\n",
       "\n",
       "    .dataframe tbody tr th {\n",
       "        vertical-align: top;\n",
       "    }\n",
       "\n",
       "    .dataframe thead th {\n",
       "        text-align: right;\n",
       "    }\n",
       "</style>\n",
       "<table border=\"1\" class=\"dataframe\">\n",
       "  <thead>\n",
       "    <tr style=\"text-align: right;\">\n",
       "      <th></th>\n",
       "      <th>id</th>\n",
       "      <th>created_at</th>\n",
       "      <th>newspaper</th>\n",
       "      <th>corpus</th>\n",
       "      <th>sentiment_output</th>\n",
       "      <th>sentiment_probas_NEG</th>\n",
       "      <th>sentiment_probas_NEU</th>\n",
       "      <th>sentiment_probas_POS</th>\n",
       "      <th>emotion_output</th>\n",
       "      <th>emotion_probas_others</th>\n",
       "      <th>emotion_probas_joy</th>\n",
       "      <th>emotion_probas_surprise</th>\n",
       "      <th>emotion_probas_sadness</th>\n",
       "      <th>emotion_probas_fear</th>\n",
       "      <th>emotion_probas_anger</th>\n",
       "      <th>emotion_probas_disgust</th>\n",
       "      <th>year</th>\n",
       "      <th>week</th>\n",
       "      <th>year_week</th>\n",
       "      <th>sentiment</th>\n",
       "      <th>emotion</th>\n",
       "    </tr>\n",
       "    <tr>\n",
       "      <th>index</th>\n",
       "      <th></th>\n",
       "      <th></th>\n",
       "      <th></th>\n",
       "      <th></th>\n",
       "      <th></th>\n",
       "      <th></th>\n",
       "      <th></th>\n",
       "      <th></th>\n",
       "      <th></th>\n",
       "      <th></th>\n",
       "      <th></th>\n",
       "      <th></th>\n",
       "      <th></th>\n",
       "      <th></th>\n",
       "      <th></th>\n",
       "      <th></th>\n",
       "      <th></th>\n",
       "      <th></th>\n",
       "      <th></th>\n",
       "      <th></th>\n",
       "      <th></th>\n",
       "    </tr>\n",
       "  </thead>\n",
       "  <tbody>\n",
       "    <tr>\n",
       "      <th>0</th>\n",
       "      <td>1564039479391838209</td>\n",
       "      <td>2022-08-28 23:57:24+00:00</td>\n",
       "      <td>elcomercio_peru</td>\n",
       "      <td>venezuela colombia retoman relaciones diplomáticas rotas hace tres años</td>\n",
       "      <td>NEG</td>\n",
       "      <td>0.631</td>\n",
       "      <td>0.364</td>\n",
       "      <td>0.005</td>\n",
       "      <td>others</td>\n",
       "      <td>0.905</td>\n",
       "      <td>0.004</td>\n",
       "      <td>0.023</td>\n",
       "      <td>0.042</td>\n",
       "      <td>0.014</td>\n",
       "      <td>0.005</td>\n",
       "      <td>0.007</td>\n",
       "      <td>2022</td>\n",
       "      <td>34</td>\n",
       "      <td>2022w34</td>\n",
       "      <td>AnalyzerOutput(output=NEG, probas={NEG: 0.809, NEU: 0.178, POS: 0.013})</td>\n",
       "      <td>AnalyzerOutput(output=others, probas={others: 0.978, sadness: 0.011, surprise: 0.003, fear: 0.002, disgust: 0.002, anger: 0.002, joy: 0.002})</td>\n",
       "    </tr>\n",
       "    <tr>\n",
       "      <th>2</th>\n",
       "      <td>1564032331706470401</td>\n",
       "      <td>2022-08-28 23:29:00+00:00</td>\n",
       "      <td>elcomercio_peru</td>\n",
       "      <td>amlo afirma que familias ya aceptaron plan de rescate de mineros</td>\n",
       "      <td>NEU</td>\n",
       "      <td>0.031</td>\n",
       "      <td>0.889</td>\n",
       "      <td>0.080</td>\n",
       "      <td>others</td>\n",
       "      <td>0.961</td>\n",
       "      <td>0.016</td>\n",
       "      <td>0.009</td>\n",
       "      <td>0.006</td>\n",
       "      <td>0.003</td>\n",
       "      <td>0.002</td>\n",
       "      <td>0.002</td>\n",
       "      <td>2022</td>\n",
       "      <td>34</td>\n",
       "      <td>2022w34</td>\n",
       "      <td>AnalyzerOutput(output=POS, probas={POS: 0.478, NEU: 0.427, NEG: 0.094})</td>\n",
       "      <td>AnalyzerOutput(output=others, probas={others: 0.995, joy: 0.001, surprise: 0.001, sadness: 0.001, fear: 0.001, anger: 0.000, disgust: 0.000})</td>\n",
       "    </tr>\n",
       "    <tr>\n",
       "      <th>3</th>\n",
       "      <td>1564028601053347843</td>\n",
       "      <td>2022-08-28 23:14:11+00:00</td>\n",
       "      <td>elcomercio_peru</td>\n",
       "      <td>zelensky los ocupantes rusos sentirán las consecuencias de futuras acciones</td>\n",
       "      <td>NEU</td>\n",
       "      <td>0.114</td>\n",
       "      <td>0.881</td>\n",
       "      <td>0.005</td>\n",
       "      <td>others</td>\n",
       "      <td>0.942</td>\n",
       "      <td>0.002</td>\n",
       "      <td>0.021</td>\n",
       "      <td>0.009</td>\n",
       "      <td>0.018</td>\n",
       "      <td>0.003</td>\n",
       "      <td>0.005</td>\n",
       "      <td>2022</td>\n",
       "      <td>34</td>\n",
       "      <td>2022w34</td>\n",
       "      <td>AnalyzerOutput(output=NEU, probas={NEU: 0.535, NEG: 0.434, POS: 0.031})</td>\n",
       "      <td>AnalyzerOutput(output=others, probas={others: 0.965, fear: 0.015, sadness: 0.006, surprise: 0.006, anger: 0.003, disgust: 0.003, joy: 0.001})</td>\n",
       "    </tr>\n",
       "    <tr>\n",
       "      <th>5</th>\n",
       "      <td>1564023766937731073</td>\n",
       "      <td>2022-08-28 22:54:58+00:00</td>\n",
       "      <td>elcomercio_peru</td>\n",
       "      <td>autoridades confirman transmisión comunitaria de viruela del mono en panamá</td>\n",
       "      <td>NEU</td>\n",
       "      <td>0.140</td>\n",
       "      <td>0.851</td>\n",
       "      <td>0.009</td>\n",
       "      <td>others</td>\n",
       "      <td>0.950</td>\n",
       "      <td>0.008</td>\n",
       "      <td>0.010</td>\n",
       "      <td>0.017</td>\n",
       "      <td>0.008</td>\n",
       "      <td>0.004</td>\n",
       "      <td>0.003</td>\n",
       "      <td>2022</td>\n",
       "      <td>34</td>\n",
       "      <td>2022w34</td>\n",
       "      <td>AnalyzerOutput(output=NEU, probas={NEU: 0.703, NEG: 0.226, POS: 0.071})</td>\n",
       "      <td>AnalyzerOutput(output=others, probas={others: 0.976, surprise: 0.007, fear: 0.007, sadness: 0.004, joy: 0.003, anger: 0.001, disgust: 0.001})</td>\n",
       "    </tr>\n",
       "    <tr>\n",
       "      <th>7</th>\n",
       "      <td>1564017585561141248</td>\n",
       "      <td>2022-08-28 22:30:25+00:00</td>\n",
       "      <td>elcomercio_peru</td>\n",
       "      <td>las imágenes de los enfrentamientos entre seguidores de cristina kirchner la policía en argentina</td>\n",
       "      <td>NEU</td>\n",
       "      <td>0.193</td>\n",
       "      <td>0.793</td>\n",
       "      <td>0.014</td>\n",
       "      <td>others</td>\n",
       "      <td>0.891</td>\n",
       "      <td>0.006</td>\n",
       "      <td>0.041</td>\n",
       "      <td>0.009</td>\n",
       "      <td>0.035</td>\n",
       "      <td>0.005</td>\n",
       "      <td>0.012</td>\n",
       "      <td>2022</td>\n",
       "      <td>34</td>\n",
       "      <td>2022w34</td>\n",
       "      <td>AnalyzerOutput(output=NEG, probas={NEG: 0.611, NEU: 0.345, POS: 0.044})</td>\n",
       "      <td>AnalyzerOutput(output=others, probas={others: 0.927, fear: 0.032, surprise: 0.027, disgust: 0.005, sadness: 0.004, anger: 0.003, joy: 0.002})</td>\n",
       "    </tr>\n",
       "  </tbody>\n",
       "</table>\n",
       "</div>"
      ],
      "text/plain": [
       "                        id                created_at        newspaper  \\\n",
       "index                                                                   \n",
       "0      1564039479391838209 2022-08-28 23:57:24+00:00  elcomercio_peru   \n",
       "2      1564032331706470401 2022-08-28 23:29:00+00:00  elcomercio_peru   \n",
       "3      1564028601053347843 2022-08-28 23:14:11+00:00  elcomercio_peru   \n",
       "5      1564023766937731073 2022-08-28 22:54:58+00:00  elcomercio_peru   \n",
       "7      1564017585561141248 2022-08-28 22:30:25+00:00  elcomercio_peru   \n",
       "\n",
       "                                                                                                   corpus  \\\n",
       "index                                                                                                       \n",
       "0                                venezuela colombia retoman relaciones diplomáticas rotas hace tres años    \n",
       "2                                       amlo afirma que familias ya aceptaron plan de rescate de mineros    \n",
       "3                            zelensky los ocupantes rusos sentirán las consecuencias de futuras acciones    \n",
       "5                            autoridades confirman transmisión comunitaria de viruela del mono en panamá    \n",
       "7      las imágenes de los enfrentamientos entre seguidores de cristina kirchner la policía en argentina    \n",
       "\n",
       "      sentiment_output  sentiment_probas_NEG  sentiment_probas_NEU  \\\n",
       "index                                                                \n",
       "0                  NEG                 0.631                 0.364   \n",
       "2                  NEU                 0.031                 0.889   \n",
       "3                  NEU                 0.114                 0.881   \n",
       "5                  NEU                 0.140                 0.851   \n",
       "7                  NEU                 0.193                 0.793   \n",
       "\n",
       "       sentiment_probas_POS emotion_output  emotion_probas_others  \\\n",
       "index                                                               \n",
       "0                     0.005         others                  0.905   \n",
       "2                     0.080         others                  0.961   \n",
       "3                     0.005         others                  0.942   \n",
       "5                     0.009         others                  0.950   \n",
       "7                     0.014         others                  0.891   \n",
       "\n",
       "       emotion_probas_joy  emotion_probas_surprise  emotion_probas_sadness  \\\n",
       "index                                                                        \n",
       "0                   0.004                    0.023                   0.042   \n",
       "2                   0.016                    0.009                   0.006   \n",
       "3                   0.002                    0.021                   0.009   \n",
       "5                   0.008                    0.010                   0.017   \n",
       "7                   0.006                    0.041                   0.009   \n",
       "\n",
       "       emotion_probas_fear  emotion_probas_anger  emotion_probas_disgust  \\\n",
       "index                                                                      \n",
       "0                    0.014                 0.005                   0.007   \n",
       "2                    0.003                 0.002                   0.002   \n",
       "3                    0.018                 0.003                   0.005   \n",
       "5                    0.008                 0.004                   0.003   \n",
       "7                    0.035                 0.005                   0.012   \n",
       "\n",
       "       year  week year_week  \\\n",
       "index                         \n",
       "0      2022    34   2022w34   \n",
       "2      2022    34   2022w34   \n",
       "3      2022    34   2022w34   \n",
       "5      2022    34   2022w34   \n",
       "7      2022    34   2022w34   \n",
       "\n",
       "                                                                     sentiment  \\\n",
       "index                                                                            \n",
       "0      AnalyzerOutput(output=NEG, probas={NEG: 0.809, NEU: 0.178, POS: 0.013})   \n",
       "2      AnalyzerOutput(output=POS, probas={POS: 0.478, NEU: 0.427, NEG: 0.094})   \n",
       "3      AnalyzerOutput(output=NEU, probas={NEU: 0.535, NEG: 0.434, POS: 0.031})   \n",
       "5      AnalyzerOutput(output=NEU, probas={NEU: 0.703, NEG: 0.226, POS: 0.071})   \n",
       "7      AnalyzerOutput(output=NEG, probas={NEG: 0.611, NEU: 0.345, POS: 0.044})   \n",
       "\n",
       "                                                                                                                                             emotion  \n",
       "index                                                                                                                                                 \n",
       "0      AnalyzerOutput(output=others, probas={others: 0.978, sadness: 0.011, surprise: 0.003, fear: 0.002, disgust: 0.002, anger: 0.002, joy: 0.002})  \n",
       "2      AnalyzerOutput(output=others, probas={others: 0.995, joy: 0.001, surprise: 0.001, sadness: 0.001, fear: 0.001, anger: 0.000, disgust: 0.000})  \n",
       "3      AnalyzerOutput(output=others, probas={others: 0.965, fear: 0.015, sadness: 0.006, surprise: 0.006, anger: 0.003, disgust: 0.003, joy: 0.001})  \n",
       "5      AnalyzerOutput(output=others, probas={others: 0.976, surprise: 0.007, fear: 0.007, sadness: 0.004, joy: 0.003, anger: 0.001, disgust: 0.001})  \n",
       "7      AnalyzerOutput(output=others, probas={others: 0.927, fear: 0.032, surprise: 0.027, disgust: 0.005, sadness: 0.004, anger: 0.003, joy: 0.002})  "
      ]
     },
     "execution_count": 58,
     "metadata": {},
     "output_type": "execute_result"
    }
   ],
   "source": [
    "corpus.head()"
   ]
  },
  {
   "cell_type": "code",
   "execution_count": 59,
   "metadata": {},
   "outputs": [],
   "source": [
    "corpus[\"sentiment_output\"] = corpus[\"sentiment\"].apply(lambda x: x.output)\n",
    "corpus[\"sentiment_probas_NEG\"] = corpus[\"sentiment\"].apply(lambda x: x.probas[\"NEG\"])\n",
    "corpus[\"sentiment_probas_NEU\"] = corpus[\"sentiment\"].apply(lambda x: x.probas[\"NEU\"])\n",
    "corpus[\"sentiment_probas_POS\"] = corpus[\"sentiment\"].apply(lambda x: x.probas[\"POS\"])"
   ]
  },
  {
   "cell_type": "code",
   "execution_count": 60,
   "metadata": {},
   "outputs": [],
   "source": [
    "corpus[\"emotion_output\"] = corpus[\"emotion\"].apply(lambda x: x.output)\n",
    "corpus[\"emotion_probas_others\"] = corpus[\"emotion\"].apply(lambda x: x.probas[\"others\"])\n",
    "corpus[\"emotion_probas_joy\"] = corpus[\"emotion\"].apply(lambda x: x.probas[\"joy\"])\n",
    "corpus[\"emotion_probas_surprise\"] = corpus[\"emotion\"].apply(lambda x: x.probas[\"surprise\"])\n",
    "corpus[\"emotion_probas_sadness\"] = corpus[\"emotion\"].apply(lambda x: x.probas[\"sadness\"])\n",
    "corpus[\"emotion_probas_fear\"] = corpus[\"emotion\"].apply(lambda x: x.probas[\"fear\"])\n",
    "corpus[\"emotion_probas_anger\"] = corpus[\"emotion\"].apply(lambda x: x.probas[\"anger\"])\n",
    "corpus[\"emotion_probas_disgust\"] = corpus[\"emotion\"].apply(lambda x: x.probas[\"disgust\"])"
   ]
  },
  {
   "cell_type": "code",
   "execution_count": 61,
   "metadata": {},
   "outputs": [],
   "source": [
    "corpus[\"year\"] = corpus[\"created_at\"].dt.isocalendar().year\n",
    "corpus[\"week\"] = corpus[\"created_at\"].dt.isocalendar().week"
   ]
  },
  {
   "cell_type": "code",
   "execution_count": 62,
   "metadata": {},
   "outputs": [],
   "source": [
    "corpus[\"year_week\"] = corpus[\"year\"].astype(\"str\") + \"w\" + corpus[\"week\"].astype(\"str\")"
   ]
  },
  {
   "cell_type": "code",
   "execution_count": 63,
   "metadata": {},
   "outputs": [],
   "source": [
    "corpus.drop(labels=[\"sentiment\", \"emotion\"], axis=1).reset_index().to_feather(f\"{BASE_DIR}/data/processed/corpus-sentiment-{TIME_STAMPS[0]}-{TIME_STAMPS[-1]}.feather\")"
   ]
  },
  {
   "cell_type": "code",
   "execution_count": 64,
   "metadata": {},
   "outputs": [],
   "source": [
    "sentiment_counts = pd.DataFrame(corpus[[\"newspaper\", \"year_week\", \"sentiment_output\"]].groupby(by=[\"newspaper\", \"year_week\"]).value_counts())\n",
    "sentiment_counts.rename({0: \"counts\"},axis=1, inplace=True)\n",
    "sentiment_counts.reset_index(inplace=True)"
   ]
  },
  {
   "cell_type": "code",
   "execution_count": 65,
   "metadata": {},
   "outputs": [
    {
     "data": {
      "text/html": [
       "<div>\n",
       "<style scoped>\n",
       "    .dataframe tbody tr th:only-of-type {\n",
       "        vertical-align: middle;\n",
       "    }\n",
       "\n",
       "    .dataframe tbody tr th {\n",
       "        vertical-align: top;\n",
       "    }\n",
       "\n",
       "    .dataframe thead th {\n",
       "        text-align: right;\n",
       "    }\n",
       "</style>\n",
       "<table border=\"1\" class=\"dataframe\">\n",
       "  <thead>\n",
       "    <tr style=\"text-align: right;\">\n",
       "      <th></th>\n",
       "      <th>newspaper</th>\n",
       "      <th>year_week</th>\n",
       "      <th>sentiment_output</th>\n",
       "      <th>counts</th>\n",
       "    </tr>\n",
       "  </thead>\n",
       "  <tbody>\n",
       "    <tr>\n",
       "      <th>0</th>\n",
       "      <td>DiarioElPeruano</td>\n",
       "      <td>2022w33</td>\n",
       "      <td>NEU</td>\n",
       "      <td>177</td>\n",
       "    </tr>\n",
       "    <tr>\n",
       "      <th>1</th>\n",
       "      <td>DiarioElPeruano</td>\n",
       "      <td>2022w33</td>\n",
       "      <td>POS</td>\n",
       "      <td>34</td>\n",
       "    </tr>\n",
       "    <tr>\n",
       "      <th>2</th>\n",
       "      <td>DiarioElPeruano</td>\n",
       "      <td>2022w33</td>\n",
       "      <td>NEG</td>\n",
       "      <td>18</td>\n",
       "    </tr>\n",
       "    <tr>\n",
       "      <th>3</th>\n",
       "      <td>DiarioElPeruano</td>\n",
       "      <td>2022w34</td>\n",
       "      <td>NEU</td>\n",
       "      <td>141</td>\n",
       "    </tr>\n",
       "    <tr>\n",
       "      <th>4</th>\n",
       "      <td>DiarioElPeruano</td>\n",
       "      <td>2022w34</td>\n",
       "      <td>POS</td>\n",
       "      <td>39</td>\n",
       "    </tr>\n",
       "  </tbody>\n",
       "</table>\n",
       "</div>"
      ],
      "text/plain": [
       "         newspaper year_week sentiment_output  counts\n",
       "0  DiarioElPeruano   2022w33              NEU     177\n",
       "1  DiarioElPeruano   2022w33              POS      34\n",
       "2  DiarioElPeruano   2022w33              NEG      18\n",
       "3  DiarioElPeruano   2022w34              NEU     141\n",
       "4  DiarioElPeruano   2022w34              POS      39"
      ]
     },
     "execution_count": 65,
     "metadata": {},
     "output_type": "execute_result"
    }
   ],
   "source": [
    "sentiment_counts.head()"
   ]
  },
  {
   "cell_type": "code",
   "execution_count": 66,
   "metadata": {},
   "outputs": [
    {
     "data": {
      "application/vnd.plotly.v1+json": {
       "config": {
        "plotlyServerURL": "https://plot.ly"
       },
       "data": [
        {
         "alignmentgroup": "True",
         "hovertemplate": "sentiment_output=%{x}<br>newspaper=DiarioElPeruano<br>year_week=2022w33<br>counts=%{y}<extra></extra>",
         "legendgroup": "NEU",
         "marker": {
          "color": "#fabd2f",
          "pattern": {
           "shape": ""
          }
         },
         "name": "NEU",
         "offsetgroup": "NEU",
         "orientation": "v",
         "showlegend": true,
         "textposition": "auto",
         "type": "bar",
         "x": [
          "NEU"
         ],
         "xaxis": "x67",
         "y": [
          177
         ],
         "yaxis": "y67"
        },
        {
         "alignmentgroup": "True",
         "hovertemplate": "sentiment_output=%{x}<br>newspaper=DiarioElPeruano<br>year_week=2022w34<br>counts=%{y}<extra></extra>",
         "legendgroup": "NEU",
         "marker": {
          "color": "#fabd2f",
          "pattern": {
           "shape": ""
          }
         },
         "name": "NEU",
         "offsetgroup": "NEU",
         "orientation": "v",
         "showlegend": false,
         "textposition": "auto",
         "type": "bar",
         "x": [
          "NEU"
         ],
         "xaxis": "x68",
         "y": [
          141
         ],
         "yaxis": "y68"
        },
        {
         "alignmentgroup": "True",
         "hovertemplate": "sentiment_output=%{x}<br>newspaper=DiarioElPeruano<br>year_week=2022w39<br>counts=%{y}<extra></extra>",
         "legendgroup": "NEU",
         "marker": {
          "color": "#fabd2f",
          "pattern": {
           "shape": ""
          }
         },
         "name": "NEU",
         "offsetgroup": "NEU",
         "orientation": "v",
         "showlegend": false,
         "textposition": "auto",
         "type": "bar",
         "x": [
          "NEU"
         ],
         "xaxis": "x69",
         "y": [
          184
         ],
         "yaxis": "y69"
        },
        {
         "alignmentgroup": "True",
         "hovertemplate": "sentiment_output=%{x}<br>newspaper=DiarioElPeruano<br>year_week=2022w44<br>counts=%{y}<extra></extra>",
         "legendgroup": "NEU",
         "marker": {
          "color": "#fabd2f",
          "pattern": {
           "shape": ""
          }
         },
         "name": "NEU",
         "offsetgroup": "NEU",
         "orientation": "v",
         "showlegend": false,
         "textposition": "auto",
         "type": "bar",
         "x": [
          "NEU"
         ],
         "xaxis": "x70",
         "y": [
          138
         ],
         "yaxis": "y70"
        },
        {
         "alignmentgroup": "True",
         "hovertemplate": "sentiment_output=%{x}<br>newspaper=DiarioElPeruano<br>year_week=2022w49<br>counts=%{y}<extra></extra>",
         "legendgroup": "NEU",
         "marker": {
          "color": "#fabd2f",
          "pattern": {
           "shape": ""
          }
         },
         "name": "NEU",
         "offsetgroup": "NEU",
         "orientation": "v",
         "showlegend": false,
         "textposition": "auto",
         "type": "bar",
         "x": [
          "NEU"
         ],
         "xaxis": "x71",
         "y": [
          134
         ],
         "yaxis": "y71"
        },
        {
         "alignmentgroup": "True",
         "hovertemplate": "sentiment_output=%{x}<br>newspaper=DiarioElPeruano<br>year_week=2023w2<br>counts=%{y}<extra></extra>",
         "legendgroup": "NEU",
         "marker": {
          "color": "#fabd2f",
          "pattern": {
           "shape": ""
          }
         },
         "name": "NEU",
         "offsetgroup": "NEU",
         "orientation": "v",
         "showlegend": false,
         "textposition": "auto",
         "type": "bar",
         "x": [
          "NEU"
         ],
         "xaxis": "x72",
         "y": [
          158
         ],
         "yaxis": "y72"
        },
        {
         "alignmentgroup": "True",
         "hovertemplate": "sentiment_output=%{x}<br>newspaper=ExpresoPeru<br>year_week=2022w33<br>counts=%{y}<extra></extra>",
         "legendgroup": "NEU",
         "marker": {
          "color": "#fabd2f",
          "pattern": {
           "shape": ""
          }
         },
         "name": "NEU",
         "offsetgroup": "NEU",
         "orientation": "v",
         "showlegend": false,
         "textposition": "auto",
         "type": "bar",
         "x": [
          "NEU"
         ],
         "xaxis": "x61",
         "y": [
          163
         ],
         "yaxis": "y61"
        },
        {
         "alignmentgroup": "True",
         "hovertemplate": "sentiment_output=%{x}<br>newspaper=ExpresoPeru<br>year_week=2022w34<br>counts=%{y}<extra></extra>",
         "legendgroup": "NEU",
         "marker": {
          "color": "#fabd2f",
          "pattern": {
           "shape": ""
          }
         },
         "name": "NEU",
         "offsetgroup": "NEU",
         "orientation": "v",
         "showlegend": false,
         "textposition": "auto",
         "type": "bar",
         "x": [
          "NEU"
         ],
         "xaxis": "x62",
         "y": [
          130
         ],
         "yaxis": "y62"
        },
        {
         "alignmentgroup": "True",
         "hovertemplate": "sentiment_output=%{x}<br>newspaper=ExpresoPeru<br>year_week=2022w39<br>counts=%{y}<extra></extra>",
         "legendgroup": "NEU",
         "marker": {
          "color": "#fabd2f",
          "pattern": {
           "shape": ""
          }
         },
         "name": "NEU",
         "offsetgroup": "NEU",
         "orientation": "v",
         "showlegend": false,
         "textposition": "auto",
         "type": "bar",
         "x": [
          "NEU"
         ],
         "xaxis": "x63",
         "y": [
          151
         ],
         "yaxis": "y63"
        },
        {
         "alignmentgroup": "True",
         "hovertemplate": "sentiment_output=%{x}<br>newspaper=ExpresoPeru<br>year_week=2022w44<br>counts=%{y}<extra></extra>",
         "legendgroup": "NEU",
         "marker": {
          "color": "#fabd2f",
          "pattern": {
           "shape": ""
          }
         },
         "name": "NEU",
         "offsetgroup": "NEU",
         "orientation": "v",
         "showlegend": false,
         "textposition": "auto",
         "type": "bar",
         "x": [
          "NEU"
         ],
         "xaxis": "x64",
         "y": [
          108
         ],
         "yaxis": "y64"
        },
        {
         "alignmentgroup": "True",
         "hovertemplate": "sentiment_output=%{x}<br>newspaper=ExpresoPeru<br>year_week=2022w49<br>counts=%{y}<extra></extra>",
         "legendgroup": "NEU",
         "marker": {
          "color": "#fabd2f",
          "pattern": {
           "shape": ""
          }
         },
         "name": "NEU",
         "offsetgroup": "NEU",
         "orientation": "v",
         "showlegend": false,
         "textposition": "auto",
         "type": "bar",
         "x": [
          "NEU"
         ],
         "xaxis": "x65",
         "y": [
          117
         ],
         "yaxis": "y65"
        },
        {
         "alignmentgroup": "True",
         "hovertemplate": "sentiment_output=%{x}<br>newspaper=ExpresoPeru<br>year_week=2023w2<br>counts=%{y}<extra></extra>",
         "legendgroup": "NEU",
         "marker": {
          "color": "#fabd2f",
          "pattern": {
           "shape": ""
          }
         },
         "name": "NEU",
         "offsetgroup": "NEU",
         "orientation": "v",
         "showlegend": false,
         "textposition": "auto",
         "type": "bar",
         "x": [
          "NEU"
         ],
         "xaxis": "x66",
         "y": [
          132
         ],
         "yaxis": "y66"
        },
        {
         "alignmentgroup": "True",
         "hovertemplate": "sentiment_output=%{x}<br>newspaper=Gestionpe<br>year_week=2022w33<br>counts=%{y}<extra></extra>",
         "legendgroup": "NEU",
         "marker": {
          "color": "#fabd2f",
          "pattern": {
           "shape": ""
          }
         },
         "name": "NEU",
         "offsetgroup": "NEU",
         "orientation": "v",
         "showlegend": false,
         "textposition": "auto",
         "type": "bar",
         "x": [
          "NEU"
         ],
         "xaxis": "x55",
         "y": [
          998
         ],
         "yaxis": "y55"
        },
        {
         "alignmentgroup": "True",
         "hovertemplate": "sentiment_output=%{x}<br>newspaper=Gestionpe<br>year_week=2022w34<br>counts=%{y}<extra></extra>",
         "legendgroup": "NEU",
         "marker": {
          "color": "#fabd2f",
          "pattern": {
           "shape": ""
          }
         },
         "name": "NEU",
         "offsetgroup": "NEU",
         "orientation": "v",
         "showlegend": false,
         "textposition": "auto",
         "type": "bar",
         "x": [
          "NEU"
         ],
         "xaxis": "x56",
         "y": [
          621
         ],
         "yaxis": "y56"
        },
        {
         "alignmentgroup": "True",
         "hovertemplate": "sentiment_output=%{x}<br>newspaper=Gestionpe<br>year_week=2022w39<br>counts=%{y}<extra></extra>",
         "legendgroup": "NEU",
         "marker": {
          "color": "#fabd2f",
          "pattern": {
           "shape": ""
          }
         },
         "name": "NEU",
         "offsetgroup": "NEU",
         "orientation": "v",
         "showlegend": false,
         "textposition": "auto",
         "type": "bar",
         "x": [
          "NEU"
         ],
         "xaxis": "x57",
         "y": [
          822
         ],
         "yaxis": "y57"
        },
        {
         "alignmentgroup": "True",
         "hovertemplate": "sentiment_output=%{x}<br>newspaper=Gestionpe<br>year_week=2022w44<br>counts=%{y}<extra></extra>",
         "legendgroup": "NEU",
         "marker": {
          "color": "#fabd2f",
          "pattern": {
           "shape": ""
          }
         },
         "name": "NEU",
         "offsetgroup": "NEU",
         "orientation": "v",
         "showlegend": false,
         "textposition": "auto",
         "type": "bar",
         "x": [
          "NEU"
         ],
         "xaxis": "x58",
         "y": [
          556
         ],
         "yaxis": "y58"
        },
        {
         "alignmentgroup": "True",
         "hovertemplate": "sentiment_output=%{x}<br>newspaper=Gestionpe<br>year_week=2022w49<br>counts=%{y}<extra></extra>",
         "legendgroup": "NEU",
         "marker": {
          "color": "#fabd2f",
          "pattern": {
           "shape": ""
          }
         },
         "name": "NEU",
         "offsetgroup": "NEU",
         "orientation": "v",
         "showlegend": false,
         "textposition": "auto",
         "type": "bar",
         "x": [
          "NEU"
         ],
         "xaxis": "x59",
         "y": [
          533
         ],
         "yaxis": "y59"
        },
        {
         "alignmentgroup": "True",
         "hovertemplate": "sentiment_output=%{x}<br>newspaper=Gestionpe<br>year_week=2023w2<br>counts=%{y}<extra></extra>",
         "legendgroup": "NEU",
         "marker": {
          "color": "#fabd2f",
          "pattern": {
           "shape": ""
          }
         },
         "name": "NEU",
         "offsetgroup": "NEU",
         "orientation": "v",
         "showlegend": false,
         "textposition": "auto",
         "type": "bar",
         "x": [
          "NEU"
         ],
         "xaxis": "x60",
         "y": [
          596
         ],
         "yaxis": "y60"
        },
        {
         "alignmentgroup": "True",
         "hovertemplate": "sentiment_output=%{x}<br>newspaper=diariocorreo<br>year_week=2022w33<br>counts=%{y}<extra></extra>",
         "legendgroup": "NEU",
         "marker": {
          "color": "#fabd2f",
          "pattern": {
           "shape": ""
          }
         },
         "name": "NEU",
         "offsetgroup": "NEU",
         "orientation": "v",
         "showlegend": false,
         "textposition": "auto",
         "type": "bar",
         "x": [
          "NEU"
         ],
         "xaxis": "x49",
         "y": [
          477
         ],
         "yaxis": "y49"
        },
        {
         "alignmentgroup": "True",
         "hovertemplate": "sentiment_output=%{x}<br>newspaper=diariocorreo<br>year_week=2022w34<br>counts=%{y}<extra></extra>",
         "legendgroup": "NEU",
         "marker": {
          "color": "#fabd2f",
          "pattern": {
           "shape": ""
          }
         },
         "name": "NEU",
         "offsetgroup": "NEU",
         "orientation": "v",
         "showlegend": false,
         "textposition": "auto",
         "type": "bar",
         "x": [
          "NEU"
         ],
         "xaxis": "x50",
         "y": [
          301
         ],
         "yaxis": "y50"
        },
        {
         "alignmentgroup": "True",
         "hovertemplate": "sentiment_output=%{x}<br>newspaper=diariocorreo<br>year_week=2022w39<br>counts=%{y}<extra></extra>",
         "legendgroup": "NEU",
         "marker": {
          "color": "#fabd2f",
          "pattern": {
           "shape": ""
          }
         },
         "name": "NEU",
         "offsetgroup": "NEU",
         "orientation": "v",
         "showlegend": false,
         "textposition": "auto",
         "type": "bar",
         "x": [
          "NEU"
         ],
         "xaxis": "x51",
         "y": [
          399
         ],
         "yaxis": "y51"
        },
        {
         "alignmentgroup": "True",
         "hovertemplate": "sentiment_output=%{x}<br>newspaper=diariocorreo<br>year_week=2022w44<br>counts=%{y}<extra></extra>",
         "legendgroup": "NEU",
         "marker": {
          "color": "#fabd2f",
          "pattern": {
           "shape": ""
          }
         },
         "name": "NEU",
         "offsetgroup": "NEU",
         "orientation": "v",
         "showlegend": false,
         "textposition": "auto",
         "type": "bar",
         "x": [
          "NEU"
         ],
         "xaxis": "x52",
         "y": [
          255
         ],
         "yaxis": "y52"
        },
        {
         "alignmentgroup": "True",
         "hovertemplate": "sentiment_output=%{x}<br>newspaper=diariocorreo<br>year_week=2022w49<br>counts=%{y}<extra></extra>",
         "legendgroup": "NEU",
         "marker": {
          "color": "#fabd2f",
          "pattern": {
           "shape": ""
          }
         },
         "name": "NEU",
         "offsetgroup": "NEU",
         "orientation": "v",
         "showlegend": false,
         "textposition": "auto",
         "type": "bar",
         "x": [
          "NEU"
         ],
         "xaxis": "x53",
         "y": [
          296
         ],
         "yaxis": "y53"
        },
        {
         "alignmentgroup": "True",
         "hovertemplate": "sentiment_output=%{x}<br>newspaper=diariocorreo<br>year_week=2023w2<br>counts=%{y}<extra></extra>",
         "legendgroup": "NEU",
         "marker": {
          "color": "#fabd2f",
          "pattern": {
           "shape": ""
          }
         },
         "name": "NEU",
         "offsetgroup": "NEU",
         "orientation": "v",
         "showlegend": false,
         "textposition": "auto",
         "type": "bar",
         "x": [
          "NEU"
         ],
         "xaxis": "x54",
         "y": [
          167
         ],
         "yaxis": "y54"
        },
        {
         "alignmentgroup": "True",
         "hovertemplate": "sentiment_output=%{x}<br>newspaper=diarioojo<br>year_week=2022w33<br>counts=%{y}<extra></extra>",
         "legendgroup": "NEU",
         "marker": {
          "color": "#fabd2f",
          "pattern": {
           "shape": ""
          }
         },
         "name": "NEU",
         "offsetgroup": "NEU",
         "orientation": "v",
         "showlegend": false,
         "textposition": "auto",
         "type": "bar",
         "x": [
          "NEU"
         ],
         "xaxis": "x43",
         "y": [
          421
         ],
         "yaxis": "y43"
        },
        {
         "alignmentgroup": "True",
         "hovertemplate": "sentiment_output=%{x}<br>newspaper=diarioojo<br>year_week=2022w34<br>counts=%{y}<extra></extra>",
         "legendgroup": "NEU",
         "marker": {
          "color": "#fabd2f",
          "pattern": {
           "shape": ""
          }
         },
         "name": "NEU",
         "offsetgroup": "NEU",
         "orientation": "v",
         "showlegend": false,
         "textposition": "auto",
         "type": "bar",
         "x": [
          "NEU"
         ],
         "xaxis": "x44",
         "y": [
          297
         ],
         "yaxis": "y44"
        },
        {
         "alignmentgroup": "True",
         "hovertemplate": "sentiment_output=%{x}<br>newspaper=diarioojo<br>year_week=2022w39<br>counts=%{y}<extra></extra>",
         "legendgroup": "NEU",
         "marker": {
          "color": "#fabd2f",
          "pattern": {
           "shape": ""
          }
         },
         "name": "NEU",
         "offsetgroup": "NEU",
         "orientation": "v",
         "showlegend": false,
         "textposition": "auto",
         "type": "bar",
         "x": [
          "NEU"
         ],
         "xaxis": "x45",
         "y": [
          299
         ],
         "yaxis": "y45"
        },
        {
         "alignmentgroup": "True",
         "hovertemplate": "sentiment_output=%{x}<br>newspaper=diarioojo<br>year_week=2022w44<br>counts=%{y}<extra></extra>",
         "legendgroup": "NEU",
         "marker": {
          "color": "#fabd2f",
          "pattern": {
           "shape": ""
          }
         },
         "name": "NEU",
         "offsetgroup": "NEU",
         "orientation": "v",
         "showlegend": false,
         "textposition": "auto",
         "type": "bar",
         "x": [
          "NEU"
         ],
         "xaxis": "x46",
         "y": [
          264
         ],
         "yaxis": "y46"
        },
        {
         "alignmentgroup": "True",
         "hovertemplate": "sentiment_output=%{x}<br>newspaper=diarioojo<br>year_week=2022w49<br>counts=%{y}<extra></extra>",
         "legendgroup": "NEU",
         "marker": {
          "color": "#fabd2f",
          "pattern": {
           "shape": ""
          }
         },
         "name": "NEU",
         "offsetgroup": "NEU",
         "orientation": "v",
         "showlegend": false,
         "textposition": "auto",
         "type": "bar",
         "x": [
          "NEU"
         ],
         "xaxis": "x47",
         "y": [
          276
         ],
         "yaxis": "y47"
        },
        {
         "alignmentgroup": "True",
         "hovertemplate": "sentiment_output=%{x}<br>newspaper=diarioojo<br>year_week=2023w2<br>counts=%{y}<extra></extra>",
         "legendgroup": "NEU",
         "marker": {
          "color": "#fabd2f",
          "pattern": {
           "shape": ""
          }
         },
         "name": "NEU",
         "offsetgroup": "NEU",
         "orientation": "v",
         "showlegend": false,
         "textposition": "auto",
         "type": "bar",
         "x": [
          "NEU"
         ],
         "xaxis": "x48",
         "y": [
          146
         ],
         "yaxis": "y48"
        },
        {
         "alignmentgroup": "True",
         "hovertemplate": "sentiment_output=%{x}<br>newspaper=elbuho_pe<br>year_week=2022w34<br>counts=%{y}<extra></extra>",
         "legendgroup": "NEU",
         "marker": {
          "color": "#fabd2f",
          "pattern": {
           "shape": ""
          }
         },
         "name": "NEU",
         "offsetgroup": "NEU",
         "orientation": "v",
         "showlegend": false,
         "textposition": "auto",
         "type": "bar",
         "x": [
          "NEU"
         ],
         "xaxis": "x38",
         "y": [
          38
         ],
         "yaxis": "y38"
        },
        {
         "alignmentgroup": "True",
         "hovertemplate": "sentiment_output=%{x}<br>newspaper=elbuho_pe<br>year_week=2022w39<br>counts=%{y}<extra></extra>",
         "legendgroup": "NEU",
         "marker": {
          "color": "#fabd2f",
          "pattern": {
           "shape": ""
          }
         },
         "name": "NEU",
         "offsetgroup": "NEU",
         "orientation": "v",
         "showlegend": false,
         "textposition": "auto",
         "type": "bar",
         "x": [
          "NEU"
         ],
         "xaxis": "x39",
         "y": [
          69
         ],
         "yaxis": "y39"
        },
        {
         "alignmentgroup": "True",
         "hovertemplate": "sentiment_output=%{x}<br>newspaper=elbuho_pe<br>year_week=2022w44<br>counts=%{y}<extra></extra>",
         "legendgroup": "NEU",
         "marker": {
          "color": "#fabd2f",
          "pattern": {
           "shape": ""
          }
         },
         "name": "NEU",
         "offsetgroup": "NEU",
         "orientation": "v",
         "showlegend": false,
         "textposition": "auto",
         "type": "bar",
         "x": [
          "NEU"
         ],
         "xaxis": "x40",
         "y": [
          47
         ],
         "yaxis": "y40"
        },
        {
         "alignmentgroup": "True",
         "hovertemplate": "sentiment_output=%{x}<br>newspaper=elbuho_pe<br>year_week=2022w49<br>counts=%{y}<extra></extra>",
         "legendgroup": "NEU",
         "marker": {
          "color": "#fabd2f",
          "pattern": {
           "shape": ""
          }
         },
         "name": "NEU",
         "offsetgroup": "NEU",
         "orientation": "v",
         "showlegend": false,
         "textposition": "auto",
         "type": "bar",
         "x": [
          "NEU"
         ],
         "xaxis": "x41",
         "y": [
          31
         ],
         "yaxis": "y41"
        },
        {
         "alignmentgroup": "True",
         "hovertemplate": "sentiment_output=%{x}<br>newspaper=elbuho_pe<br>year_week=2023w2<br>counts=%{y}<extra></extra>",
         "legendgroup": "NEU",
         "marker": {
          "color": "#fabd2f",
          "pattern": {
           "shape": ""
          }
         },
         "name": "NEU",
         "offsetgroup": "NEU",
         "orientation": "v",
         "showlegend": false,
         "textposition": "auto",
         "type": "bar",
         "x": [
          "NEU"
         ],
         "xaxis": "x42",
         "y": [
          45
         ],
         "yaxis": "y42"
        },
        {
         "alignmentgroup": "True",
         "hovertemplate": "sentiment_output=%{x}<br>newspaper=elcomercio_peru<br>year_week=2022w33<br>counts=%{y}<extra></extra>",
         "legendgroup": "NEU",
         "marker": {
          "color": "#fabd2f",
          "pattern": {
           "shape": ""
          }
         },
         "name": "NEU",
         "offsetgroup": "NEU",
         "orientation": "v",
         "showlegend": false,
         "textposition": "auto",
         "type": "bar",
         "x": [
          "NEU"
         ],
         "xaxis": "x31",
         "y": [
          331
         ],
         "yaxis": "y31"
        },
        {
         "alignmentgroup": "True",
         "hovertemplate": "sentiment_output=%{x}<br>newspaper=elcomercio_peru<br>year_week=2022w34<br>counts=%{y}<extra></extra>",
         "legendgroup": "NEU",
         "marker": {
          "color": "#fabd2f",
          "pattern": {
           "shape": ""
          }
         },
         "name": "NEU",
         "offsetgroup": "NEU",
         "orientation": "v",
         "showlegend": false,
         "textposition": "auto",
         "type": "bar",
         "x": [
          "NEU"
         ],
         "xaxis": "x32",
         "y": [
          266
         ],
         "yaxis": "y32"
        },
        {
         "alignmentgroup": "True",
         "hovertemplate": "sentiment_output=%{x}<br>newspaper=elcomercio_peru<br>year_week=2022w39<br>counts=%{y}<extra></extra>",
         "legendgroup": "NEU",
         "marker": {
          "color": "#fabd2f",
          "pattern": {
           "shape": ""
          }
         },
         "name": "NEU",
         "offsetgroup": "NEU",
         "orientation": "v",
         "showlegend": false,
         "textposition": "auto",
         "type": "bar",
         "x": [
          "NEU"
         ],
         "xaxis": "x33",
         "y": [
          301
         ],
         "yaxis": "y33"
        },
        {
         "alignmentgroup": "True",
         "hovertemplate": "sentiment_output=%{x}<br>newspaper=elcomercio_peru<br>year_week=2022w44<br>counts=%{y}<extra></extra>",
         "legendgroup": "NEU",
         "marker": {
          "color": "#fabd2f",
          "pattern": {
           "shape": ""
          }
         },
         "name": "NEU",
         "offsetgroup": "NEU",
         "orientation": "v",
         "showlegend": false,
         "textposition": "auto",
         "type": "bar",
         "x": [
          "NEU"
         ],
         "xaxis": "x34",
         "y": [
          236
         ],
         "yaxis": "y34"
        },
        {
         "alignmentgroup": "True",
         "hovertemplate": "sentiment_output=%{x}<br>newspaper=elcomercio_peru<br>year_week=2022w49<br>counts=%{y}<extra></extra>",
         "legendgroup": "NEU",
         "marker": {
          "color": "#fabd2f",
          "pattern": {
           "shape": ""
          }
         },
         "name": "NEU",
         "offsetgroup": "NEU",
         "orientation": "v",
         "showlegend": false,
         "textposition": "auto",
         "type": "bar",
         "x": [
          "NEU"
         ],
         "xaxis": "x35",
         "y": [
          236
         ],
         "yaxis": "y35"
        },
        {
         "alignmentgroup": "True",
         "hovertemplate": "sentiment_output=%{x}<br>newspaper=elcomercio_peru<br>year_week=2023w2<br>counts=%{y}<extra></extra>",
         "legendgroup": "NEU",
         "marker": {
          "color": "#fabd2f",
          "pattern": {
           "shape": ""
          }
         },
         "name": "NEU",
         "offsetgroup": "NEU",
         "orientation": "v",
         "showlegend": false,
         "textposition": "auto",
         "type": "bar",
         "x": [
          "NEU"
         ],
         "xaxis": "x36",
         "y": [
          242
         ],
         "yaxis": "y36"
        },
        {
         "alignmentgroup": "True",
         "hovertemplate": "sentiment_output=%{x}<br>newspaper=ensustrece<br>year_week=2022w34<br>counts=%{y}<extra></extra>",
         "legendgroup": "NEU",
         "marker": {
          "color": "#fabd2f",
          "pattern": {
           "shape": ""
          }
         },
         "name": "NEU",
         "offsetgroup": "NEU",
         "orientation": "v",
         "showlegend": false,
         "textposition": "auto",
         "type": "bar",
         "x": [
          "NEU"
         ],
         "xaxis": "x26",
         "y": [
          6
         ],
         "yaxis": "y26"
        },
        {
         "alignmentgroup": "True",
         "hovertemplate": "sentiment_output=%{x}<br>newspaper=ensustrece<br>year_week=2022w39<br>counts=%{y}<extra></extra>",
         "legendgroup": "NEU",
         "marker": {
          "color": "#fabd2f",
          "pattern": {
           "shape": ""
          }
         },
         "name": "NEU",
         "offsetgroup": "NEU",
         "orientation": "v",
         "showlegend": false,
         "textposition": "auto",
         "type": "bar",
         "x": [
          "NEU"
         ],
         "xaxis": "x27",
         "y": [
          4
         ],
         "yaxis": "y27"
        },
        {
         "alignmentgroup": "True",
         "hovertemplate": "sentiment_output=%{x}<br>newspaper=ensustrece<br>year_week=2022w44<br>counts=%{y}<extra></extra>",
         "legendgroup": "NEU",
         "marker": {
          "color": "#fabd2f",
          "pattern": {
           "shape": ""
          }
         },
         "name": "NEU",
         "offsetgroup": "NEU",
         "orientation": "v",
         "showlegend": false,
         "textposition": "auto",
         "type": "bar",
         "x": [
          "NEU"
         ],
         "xaxis": "x28",
         "y": [
          3
         ],
         "yaxis": "y28"
        },
        {
         "alignmentgroup": "True",
         "hovertemplate": "sentiment_output=%{x}<br>newspaper=ensustrece<br>year_week=2022w49<br>counts=%{y}<extra></extra>",
         "legendgroup": "NEU",
         "marker": {
          "color": "#fabd2f",
          "pattern": {
           "shape": ""
          }
         },
         "name": "NEU",
         "offsetgroup": "NEU",
         "orientation": "v",
         "showlegend": false,
         "textposition": "auto",
         "type": "bar",
         "x": [
          "NEU"
         ],
         "xaxis": "x29",
         "y": [
          5
         ],
         "yaxis": "y29"
        },
        {
         "alignmentgroup": "True",
         "hovertemplate": "sentiment_output=%{x}<br>newspaper=ensustrece<br>year_week=2023w2<br>counts=%{y}<extra></extra>",
         "legendgroup": "NEU",
         "marker": {
          "color": "#fabd2f",
          "pattern": {
           "shape": ""
          }
         },
         "name": "NEU",
         "offsetgroup": "NEU",
         "orientation": "v",
         "showlegend": false,
         "textposition": "auto",
         "type": "bar",
         "x": [
          "NEU"
         ],
         "xaxis": "x30",
         "y": [
          5
         ],
         "yaxis": "y30"
        },
        {
         "alignmentgroup": "True",
         "hovertemplate": "sentiment_output=%{x}<br>newspaper=larazon_pe<br>year_week=2022w33<br>counts=%{y}<extra></extra>",
         "legendgroup": "NEU",
         "marker": {
          "color": "#fabd2f",
          "pattern": {
           "shape": ""
          }
         },
         "name": "NEU",
         "offsetgroup": "NEU",
         "orientation": "v",
         "showlegend": false,
         "textposition": "auto",
         "type": "bar",
         "x": [
          "NEU"
         ],
         "xaxis": "x19",
         "y": [
          50
         ],
         "yaxis": "y19"
        },
        {
         "alignmentgroup": "True",
         "hovertemplate": "sentiment_output=%{x}<br>newspaper=larazon_pe<br>year_week=2022w34<br>counts=%{y}<extra></extra>",
         "legendgroup": "NEU",
         "marker": {
          "color": "#fabd2f",
          "pattern": {
           "shape": ""
          }
         },
         "name": "NEU",
         "offsetgroup": "NEU",
         "orientation": "v",
         "showlegend": false,
         "textposition": "auto",
         "type": "bar",
         "x": [
          "NEU"
         ],
         "xaxis": "x20",
         "y": [
          34
         ],
         "yaxis": "y20"
        },
        {
         "alignmentgroup": "True",
         "hovertemplate": "sentiment_output=%{x}<br>newspaper=larazon_pe<br>year_week=2022w39<br>counts=%{y}<extra></extra>",
         "legendgroup": "NEU",
         "marker": {
          "color": "#fabd2f",
          "pattern": {
           "shape": ""
          }
         },
         "name": "NEU",
         "offsetgroup": "NEU",
         "orientation": "v",
         "showlegend": false,
         "textposition": "auto",
         "type": "bar",
         "x": [
          "NEU"
         ],
         "xaxis": "x21",
         "y": [
          30
         ],
         "yaxis": "y21"
        },
        {
         "alignmentgroup": "True",
         "hovertemplate": "sentiment_output=%{x}<br>newspaper=larazon_pe<br>year_week=2022w44<br>counts=%{y}<extra></extra>",
         "legendgroup": "NEU",
         "marker": {
          "color": "#fabd2f",
          "pattern": {
           "shape": ""
          }
         },
         "name": "NEU",
         "offsetgroup": "NEU",
         "orientation": "v",
         "showlegend": false,
         "textposition": "auto",
         "type": "bar",
         "x": [
          "NEU"
         ],
         "xaxis": "x22",
         "y": [
          37
         ],
         "yaxis": "y22"
        },
        {
         "alignmentgroup": "True",
         "hovertemplate": "sentiment_output=%{x}<br>newspaper=larazon_pe<br>year_week=2022w49<br>counts=%{y}<extra></extra>",
         "legendgroup": "NEU",
         "marker": {
          "color": "#fabd2f",
          "pattern": {
           "shape": ""
          }
         },
         "name": "NEU",
         "offsetgroup": "NEU",
         "orientation": "v",
         "showlegend": false,
         "textposition": "auto",
         "type": "bar",
         "x": [
          "NEU"
         ],
         "xaxis": "x23",
         "y": [
          55
         ],
         "yaxis": "y23"
        },
        {
         "alignmentgroup": "True",
         "hovertemplate": "sentiment_output=%{x}<br>newspaper=larazon_pe<br>year_week=2023w2<br>counts=%{y}<extra></extra>",
         "legendgroup": "NEU",
         "marker": {
          "color": "#fabd2f",
          "pattern": {
           "shape": ""
          }
         },
         "name": "NEU",
         "offsetgroup": "NEU",
         "orientation": "v",
         "showlegend": false,
         "textposition": "auto",
         "type": "bar",
         "x": [
          "NEU"
         ],
         "xaxis": "x24",
         "y": [
          30
         ],
         "yaxis": "y24"
        },
        {
         "alignmentgroup": "True",
         "hovertemplate": "sentiment_output=%{x}<br>newspaper=larepublica_pe<br>year_week=2022w33<br>counts=%{y}<extra></extra>",
         "legendgroup": "NEU",
         "marker": {
          "color": "#fabd2f",
          "pattern": {
           "shape": ""
          }
         },
         "name": "NEU",
         "offsetgroup": "NEU",
         "orientation": "v",
         "showlegend": false,
         "textposition": "auto",
         "type": "bar",
         "x": [
          "NEU"
         ],
         "xaxis": "x13",
         "y": [
          630
         ],
         "yaxis": "y13"
        },
        {
         "alignmentgroup": "True",
         "hovertemplate": "sentiment_output=%{x}<br>newspaper=larepublica_pe<br>year_week=2022w34<br>counts=%{y}<extra></extra>",
         "legendgroup": "NEU",
         "marker": {
          "color": "#fabd2f",
          "pattern": {
           "shape": ""
          }
         },
         "name": "NEU",
         "offsetgroup": "NEU",
         "orientation": "v",
         "showlegend": false,
         "textposition": "auto",
         "type": "bar",
         "x": [
          "NEU"
         ],
         "xaxis": "x14",
         "y": [
          491
         ],
         "yaxis": "y14"
        },
        {
         "alignmentgroup": "True",
         "hovertemplate": "sentiment_output=%{x}<br>newspaper=larepublica_pe<br>year_week=2022w39<br>counts=%{y}<extra></extra>",
         "legendgroup": "NEU",
         "marker": {
          "color": "#fabd2f",
          "pattern": {
           "shape": ""
          }
         },
         "name": "NEU",
         "offsetgroup": "NEU",
         "orientation": "v",
         "showlegend": false,
         "textposition": "auto",
         "type": "bar",
         "x": [
          "NEU"
         ],
         "xaxis": "x15",
         "y": [
          519
         ],
         "yaxis": "y15"
        },
        {
         "alignmentgroup": "True",
         "hovertemplate": "sentiment_output=%{x}<br>newspaper=larepublica_pe<br>year_week=2022w44<br>counts=%{y}<extra></extra>",
         "legendgroup": "NEU",
         "marker": {
          "color": "#fabd2f",
          "pattern": {
           "shape": ""
          }
         },
         "name": "NEU",
         "offsetgroup": "NEU",
         "orientation": "v",
         "showlegend": false,
         "textposition": "auto",
         "type": "bar",
         "x": [
          "NEU"
         ],
         "xaxis": "x16",
         "y": [
          410
         ],
         "yaxis": "y16"
        },
        {
         "alignmentgroup": "True",
         "hovertemplate": "sentiment_output=%{x}<br>newspaper=larepublica_pe<br>year_week=2022w49<br>counts=%{y}<extra></extra>",
         "legendgroup": "NEU",
         "marker": {
          "color": "#fabd2f",
          "pattern": {
           "shape": ""
          }
         },
         "name": "NEU",
         "offsetgroup": "NEU",
         "orientation": "v",
         "showlegend": false,
         "textposition": "auto",
         "type": "bar",
         "x": [
          "NEU"
         ],
         "xaxis": "x17",
         "y": [
          551
         ],
         "yaxis": "y17"
        },
        {
         "alignmentgroup": "True",
         "hovertemplate": "sentiment_output=%{x}<br>newspaper=larepublica_pe<br>year_week=2023w2<br>counts=%{y}<extra></extra>",
         "legendgroup": "NEU",
         "marker": {
          "color": "#fabd2f",
          "pattern": {
           "shape": ""
          }
         },
         "name": "NEU",
         "offsetgroup": "NEU",
         "orientation": "v",
         "showlegend": false,
         "textposition": "auto",
         "type": "bar",
         "x": [
          "NEU"
         ],
         "xaxis": "x18",
         "y": [
          356
         ],
         "yaxis": "y18"
        },
        {
         "alignmentgroup": "True",
         "hovertemplate": "sentiment_output=%{x}<br>newspaper=peru21noticias<br>year_week=2022w33<br>counts=%{y}<extra></extra>",
         "legendgroup": "NEU",
         "marker": {
          "color": "#fabd2f",
          "pattern": {
           "shape": ""
          }
         },
         "name": "NEU",
         "offsetgroup": "NEU",
         "orientation": "v",
         "showlegend": false,
         "textposition": "auto",
         "type": "bar",
         "x": [
          "NEU"
         ],
         "xaxis": "x7",
         "y": [
          745
         ],
         "yaxis": "y7"
        },
        {
         "alignmentgroup": "True",
         "hovertemplate": "sentiment_output=%{x}<br>newspaper=peru21noticias<br>year_week=2022w34<br>counts=%{y}<extra></extra>",
         "legendgroup": "NEU",
         "marker": {
          "color": "#fabd2f",
          "pattern": {
           "shape": ""
          }
         },
         "name": "NEU",
         "offsetgroup": "NEU",
         "orientation": "v",
         "showlegend": false,
         "textposition": "auto",
         "type": "bar",
         "x": [
          "NEU"
         ],
         "xaxis": "x8",
         "y": [
          574
         ],
         "yaxis": "y8"
        },
        {
         "alignmentgroup": "True",
         "hovertemplate": "sentiment_output=%{x}<br>newspaper=peru21noticias<br>year_week=2022w39<br>counts=%{y}<extra></extra>",
         "legendgroup": "NEU",
         "marker": {
          "color": "#fabd2f",
          "pattern": {
           "shape": ""
          }
         },
         "name": "NEU",
         "offsetgroup": "NEU",
         "orientation": "v",
         "showlegend": false,
         "textposition": "auto",
         "type": "bar",
         "x": [
          "NEU"
         ],
         "xaxis": "x9",
         "y": [
          573
         ],
         "yaxis": "y9"
        },
        {
         "alignmentgroup": "True",
         "hovertemplate": "sentiment_output=%{x}<br>newspaper=peru21noticias<br>year_week=2022w44<br>counts=%{y}<extra></extra>",
         "legendgroup": "NEU",
         "marker": {
          "color": "#fabd2f",
          "pattern": {
           "shape": ""
          }
         },
         "name": "NEU",
         "offsetgroup": "NEU",
         "orientation": "v",
         "showlegend": false,
         "textposition": "auto",
         "type": "bar",
         "x": [
          "NEU"
         ],
         "xaxis": "x10",
         "y": [
          404
         ],
         "yaxis": "y10"
        },
        {
         "alignmentgroup": "True",
         "hovertemplate": "sentiment_output=%{x}<br>newspaper=peru21noticias<br>year_week=2022w49<br>counts=%{y}<extra></extra>",
         "legendgroup": "NEU",
         "marker": {
          "color": "#fabd2f",
          "pattern": {
           "shape": ""
          }
         },
         "name": "NEU",
         "offsetgroup": "NEU",
         "orientation": "v",
         "showlegend": false,
         "textposition": "auto",
         "type": "bar",
         "x": [
          "NEU"
         ],
         "xaxis": "x11",
         "y": [
          600
         ],
         "yaxis": "y11"
        },
        {
         "alignmentgroup": "True",
         "hovertemplate": "sentiment_output=%{x}<br>newspaper=peru21noticias<br>year_week=2023w2<br>counts=%{y}<extra></extra>",
         "legendgroup": "NEU",
         "marker": {
          "color": "#fabd2f",
          "pattern": {
           "shape": ""
          }
         },
         "name": "NEU",
         "offsetgroup": "NEU",
         "orientation": "v",
         "showlegend": false,
         "textposition": "auto",
         "type": "bar",
         "x": [
          "NEU"
         ],
         "xaxis": "x12",
         "y": [
          279
         ],
         "yaxis": "y12"
        },
        {
         "alignmentgroup": "True",
         "hovertemplate": "sentiment_output=%{x}<br>newspaper=tromepe<br>year_week=2022w33<br>counts=%{y}<extra></extra>",
         "legendgroup": "NEU",
         "marker": {
          "color": "#fabd2f",
          "pattern": {
           "shape": ""
          }
         },
         "name": "NEU",
         "offsetgroup": "NEU",
         "orientation": "v",
         "showlegend": false,
         "textposition": "auto",
         "type": "bar",
         "x": [
          "NEU"
         ],
         "xaxis": "x",
         "y": [
          579
         ],
         "yaxis": "y"
        },
        {
         "alignmentgroup": "True",
         "hovertemplate": "sentiment_output=%{x}<br>newspaper=tromepe<br>year_week=2022w34<br>counts=%{y}<extra></extra>",
         "legendgroup": "NEU",
         "marker": {
          "color": "#fabd2f",
          "pattern": {
           "shape": ""
          }
         },
         "name": "NEU",
         "offsetgroup": "NEU",
         "orientation": "v",
         "showlegend": false,
         "textposition": "auto",
         "type": "bar",
         "x": [
          "NEU"
         ],
         "xaxis": "x2",
         "y": [
          485
         ],
         "yaxis": "y2"
        },
        {
         "alignmentgroup": "True",
         "hovertemplate": "sentiment_output=%{x}<br>newspaper=tromepe<br>year_week=2022w39<br>counts=%{y}<extra></extra>",
         "legendgroup": "NEU",
         "marker": {
          "color": "#fabd2f",
          "pattern": {
           "shape": ""
          }
         },
         "name": "NEU",
         "offsetgroup": "NEU",
         "orientation": "v",
         "showlegend": false,
         "textposition": "auto",
         "type": "bar",
         "x": [
          "NEU"
         ],
         "xaxis": "x3",
         "y": [
          529
         ],
         "yaxis": "y3"
        },
        {
         "alignmentgroup": "True",
         "hovertemplate": "sentiment_output=%{x}<br>newspaper=tromepe<br>year_week=2022w44<br>counts=%{y}<extra></extra>",
         "legendgroup": "NEU",
         "marker": {
          "color": "#fabd2f",
          "pattern": {
           "shape": ""
          }
         },
         "name": "NEU",
         "offsetgroup": "NEU",
         "orientation": "v",
         "showlegend": false,
         "textposition": "auto",
         "type": "bar",
         "x": [
          "NEU"
         ],
         "xaxis": "x4",
         "y": [
          399
         ],
         "yaxis": "y4"
        },
        {
         "alignmentgroup": "True",
         "hovertemplate": "sentiment_output=%{x}<br>newspaper=tromepe<br>year_week=2022w49<br>counts=%{y}<extra></extra>",
         "legendgroup": "NEU",
         "marker": {
          "color": "#fabd2f",
          "pattern": {
           "shape": ""
          }
         },
         "name": "NEU",
         "offsetgroup": "NEU",
         "orientation": "v",
         "showlegend": false,
         "textposition": "auto",
         "type": "bar",
         "x": [
          "NEU"
         ],
         "xaxis": "x5",
         "y": [
          475
         ],
         "yaxis": "y5"
        },
        {
         "alignmentgroup": "True",
         "hovertemplate": "sentiment_output=%{x}<br>newspaper=tromepe<br>year_week=2023w2<br>counts=%{y}<extra></extra>",
         "legendgroup": "NEU",
         "marker": {
          "color": "#fabd2f",
          "pattern": {
           "shape": ""
          }
         },
         "name": "NEU",
         "offsetgroup": "NEU",
         "orientation": "v",
         "showlegend": false,
         "textposition": "auto",
         "type": "bar",
         "x": [
          "NEU"
         ],
         "xaxis": "x6",
         "y": [
          332
         ],
         "yaxis": "y6"
        },
        {
         "alignmentgroup": "True",
         "hovertemplate": "sentiment_output=%{x}<br>newspaper=DiarioElPeruano<br>year_week=2022w33<br>counts=%{y}<extra></extra>",
         "legendgroup": "POS",
         "marker": {
          "color": "#b8bb26",
          "pattern": {
           "shape": ""
          }
         },
         "name": "POS",
         "offsetgroup": "POS",
         "orientation": "v",
         "showlegend": true,
         "textposition": "auto",
         "type": "bar",
         "x": [
          "POS"
         ],
         "xaxis": "x67",
         "y": [
          34
         ],
         "yaxis": "y67"
        },
        {
         "alignmentgroup": "True",
         "hovertemplate": "sentiment_output=%{x}<br>newspaper=DiarioElPeruano<br>year_week=2022w34<br>counts=%{y}<extra></extra>",
         "legendgroup": "POS",
         "marker": {
          "color": "#b8bb26",
          "pattern": {
           "shape": ""
          }
         },
         "name": "POS",
         "offsetgroup": "POS",
         "orientation": "v",
         "showlegend": false,
         "textposition": "auto",
         "type": "bar",
         "x": [
          "POS"
         ],
         "xaxis": "x68",
         "y": [
          39
         ],
         "yaxis": "y68"
        },
        {
         "alignmentgroup": "True",
         "hovertemplate": "sentiment_output=%{x}<br>newspaper=DiarioElPeruano<br>year_week=2022w39<br>counts=%{y}<extra></extra>",
         "legendgroup": "POS",
         "marker": {
          "color": "#b8bb26",
          "pattern": {
           "shape": ""
          }
         },
         "name": "POS",
         "offsetgroup": "POS",
         "orientation": "v",
         "showlegend": false,
         "textposition": "auto",
         "type": "bar",
         "x": [
          "POS"
         ],
         "xaxis": "x69",
         "y": [
          30
         ],
         "yaxis": "y69"
        },
        {
         "alignmentgroup": "True",
         "hovertemplate": "sentiment_output=%{x}<br>newspaper=DiarioElPeruano<br>year_week=2022w44<br>counts=%{y}<extra></extra>",
         "legendgroup": "POS",
         "marker": {
          "color": "#b8bb26",
          "pattern": {
           "shape": ""
          }
         },
         "name": "POS",
         "offsetgroup": "POS",
         "orientation": "v",
         "showlegend": false,
         "textposition": "auto",
         "type": "bar",
         "x": [
          "POS"
         ],
         "xaxis": "x70",
         "y": [
          37
         ],
         "yaxis": "y70"
        },
        {
         "alignmentgroup": "True",
         "hovertemplate": "sentiment_output=%{x}<br>newspaper=DiarioElPeruano<br>year_week=2022w49<br>counts=%{y}<extra></extra>",
         "legendgroup": "POS",
         "marker": {
          "color": "#b8bb26",
          "pattern": {
           "shape": ""
          }
         },
         "name": "POS",
         "offsetgroup": "POS",
         "orientation": "v",
         "showlegend": false,
         "textposition": "auto",
         "type": "bar",
         "x": [
          "POS"
         ],
         "xaxis": "x71",
         "y": [
          46
         ],
         "yaxis": "y71"
        },
        {
         "alignmentgroup": "True",
         "hovertemplate": "sentiment_output=%{x}<br>newspaper=DiarioElPeruano<br>year_week=2023w2<br>counts=%{y}<extra></extra>",
         "legendgroup": "POS",
         "marker": {
          "color": "#b8bb26",
          "pattern": {
           "shape": ""
          }
         },
         "name": "POS",
         "offsetgroup": "POS",
         "orientation": "v",
         "showlegend": false,
         "textposition": "auto",
         "type": "bar",
         "x": [
          "POS"
         ],
         "xaxis": "x72",
         "y": [
          24
         ],
         "yaxis": "y72"
        },
        {
         "alignmentgroup": "True",
         "hovertemplate": "sentiment_output=%{x}<br>newspaper=ExpresoPeru<br>year_week=2022w33<br>counts=%{y}<extra></extra>",
         "legendgroup": "POS",
         "marker": {
          "color": "#b8bb26",
          "pattern": {
           "shape": ""
          }
         },
         "name": "POS",
         "offsetgroup": "POS",
         "orientation": "v",
         "showlegend": false,
         "textposition": "auto",
         "type": "bar",
         "x": [
          "POS"
         ],
         "xaxis": "x61",
         "y": [
          10
         ],
         "yaxis": "y61"
        },
        {
         "alignmentgroup": "True",
         "hovertemplate": "sentiment_output=%{x}<br>newspaper=ExpresoPeru<br>year_week=2022w34<br>counts=%{y}<extra></extra>",
         "legendgroup": "POS",
         "marker": {
          "color": "#b8bb26",
          "pattern": {
           "shape": ""
          }
         },
         "name": "POS",
         "offsetgroup": "POS",
         "orientation": "v",
         "showlegend": false,
         "textposition": "auto",
         "type": "bar",
         "x": [
          "POS"
         ],
         "xaxis": "x62",
         "y": [
          9
         ],
         "yaxis": "y62"
        },
        {
         "alignmentgroup": "True",
         "hovertemplate": "sentiment_output=%{x}<br>newspaper=ExpresoPeru<br>year_week=2022w39<br>counts=%{y}<extra></extra>",
         "legendgroup": "POS",
         "marker": {
          "color": "#b8bb26",
          "pattern": {
           "shape": ""
          }
         },
         "name": "POS",
         "offsetgroup": "POS",
         "orientation": "v",
         "showlegend": false,
         "textposition": "auto",
         "type": "bar",
         "x": [
          "POS"
         ],
         "xaxis": "x63",
         "y": [
          11
         ],
         "yaxis": "y63"
        },
        {
         "alignmentgroup": "True",
         "hovertemplate": "sentiment_output=%{x}<br>newspaper=ExpresoPeru<br>year_week=2022w44<br>counts=%{y}<extra></extra>",
         "legendgroup": "POS",
         "marker": {
          "color": "#b8bb26",
          "pattern": {
           "shape": ""
          }
         },
         "name": "POS",
         "offsetgroup": "POS",
         "orientation": "v",
         "showlegend": false,
         "textposition": "auto",
         "type": "bar",
         "x": [
          "POS"
         ],
         "xaxis": "x64",
         "y": [
          14
         ],
         "yaxis": "y64"
        },
        {
         "alignmentgroup": "True",
         "hovertemplate": "sentiment_output=%{x}<br>newspaper=ExpresoPeru<br>year_week=2022w49<br>counts=%{y}<extra></extra>",
         "legendgroup": "POS",
         "marker": {
          "color": "#b8bb26",
          "pattern": {
           "shape": ""
          }
         },
         "name": "POS",
         "offsetgroup": "POS",
         "orientation": "v",
         "showlegend": false,
         "textposition": "auto",
         "type": "bar",
         "x": [
          "POS"
         ],
         "xaxis": "x65",
         "y": [
          6
         ],
         "yaxis": "y65"
        },
        {
         "alignmentgroup": "True",
         "hovertemplate": "sentiment_output=%{x}<br>newspaper=ExpresoPeru<br>year_week=2023w2<br>counts=%{y}<extra></extra>",
         "legendgroup": "POS",
         "marker": {
          "color": "#b8bb26",
          "pattern": {
           "shape": ""
          }
         },
         "name": "POS",
         "offsetgroup": "POS",
         "orientation": "v",
         "showlegend": false,
         "textposition": "auto",
         "type": "bar",
         "x": [
          "POS"
         ],
         "xaxis": "x66",
         "y": [
          10
         ],
         "yaxis": "y66"
        },
        {
         "alignmentgroup": "True",
         "hovertemplate": "sentiment_output=%{x}<br>newspaper=Gestionpe<br>year_week=2022w33<br>counts=%{y}<extra></extra>",
         "legendgroup": "POS",
         "marker": {
          "color": "#b8bb26",
          "pattern": {
           "shape": ""
          }
         },
         "name": "POS",
         "offsetgroup": "POS",
         "orientation": "v",
         "showlegend": false,
         "textposition": "auto",
         "type": "bar",
         "x": [
          "POS"
         ],
         "xaxis": "x55",
         "y": [
          56
         ],
         "yaxis": "y55"
        },
        {
         "alignmentgroup": "True",
         "hovertemplate": "sentiment_output=%{x}<br>newspaper=Gestionpe<br>year_week=2022w34<br>counts=%{y}<extra></extra>",
         "legendgroup": "POS",
         "marker": {
          "color": "#b8bb26",
          "pattern": {
           "shape": ""
          }
         },
         "name": "POS",
         "offsetgroup": "POS",
         "orientation": "v",
         "showlegend": false,
         "textposition": "auto",
         "type": "bar",
         "x": [
          "POS"
         ],
         "xaxis": "x56",
         "y": [
          33
         ],
         "yaxis": "y56"
        },
        {
         "alignmentgroup": "True",
         "hovertemplate": "sentiment_output=%{x}<br>newspaper=Gestionpe<br>year_week=2022w39<br>counts=%{y}<extra></extra>",
         "legendgroup": "POS",
         "marker": {
          "color": "#b8bb26",
          "pattern": {
           "shape": ""
          }
         },
         "name": "POS",
         "offsetgroup": "POS",
         "orientation": "v",
         "showlegend": false,
         "textposition": "auto",
         "type": "bar",
         "x": [
          "POS"
         ],
         "xaxis": "x57",
         "y": [
          63
         ],
         "yaxis": "y57"
        },
        {
         "alignmentgroup": "True",
         "hovertemplate": "sentiment_output=%{x}<br>newspaper=Gestionpe<br>year_week=2022w44<br>counts=%{y}<extra></extra>",
         "legendgroup": "POS",
         "marker": {
          "color": "#b8bb26",
          "pattern": {
           "shape": ""
          }
         },
         "name": "POS",
         "offsetgroup": "POS",
         "orientation": "v",
         "showlegend": false,
         "textposition": "auto",
         "type": "bar",
         "x": [
          "POS"
         ],
         "xaxis": "x58",
         "y": [
          44
         ],
         "yaxis": "y58"
        },
        {
         "alignmentgroup": "True",
         "hovertemplate": "sentiment_output=%{x}<br>newspaper=Gestionpe<br>year_week=2022w49<br>counts=%{y}<extra></extra>",
         "legendgroup": "POS",
         "marker": {
          "color": "#b8bb26",
          "pattern": {
           "shape": ""
          }
         },
         "name": "POS",
         "offsetgroup": "POS",
         "orientation": "v",
         "showlegend": false,
         "textposition": "auto",
         "type": "bar",
         "x": [
          "POS"
         ],
         "xaxis": "x59",
         "y": [
          40
         ],
         "yaxis": "y59"
        },
        {
         "alignmentgroup": "True",
         "hovertemplate": "sentiment_output=%{x}<br>newspaper=Gestionpe<br>year_week=2023w2<br>counts=%{y}<extra></extra>",
         "legendgroup": "POS",
         "marker": {
          "color": "#b8bb26",
          "pattern": {
           "shape": ""
          }
         },
         "name": "POS",
         "offsetgroup": "POS",
         "orientation": "v",
         "showlegend": false,
         "textposition": "auto",
         "type": "bar",
         "x": [
          "POS"
         ],
         "xaxis": "x60",
         "y": [
          53
         ],
         "yaxis": "y60"
        },
        {
         "alignmentgroup": "True",
         "hovertemplate": "sentiment_output=%{x}<br>newspaper=diariocorreo<br>year_week=2022w33<br>counts=%{y}<extra></extra>",
         "legendgroup": "POS",
         "marker": {
          "color": "#b8bb26",
          "pattern": {
           "shape": ""
          }
         },
         "name": "POS",
         "offsetgroup": "POS",
         "orientation": "v",
         "showlegend": false,
         "textposition": "auto",
         "type": "bar",
         "x": [
          "POS"
         ],
         "xaxis": "x49",
         "y": [
          44
         ],
         "yaxis": "y49"
        },
        {
         "alignmentgroup": "True",
         "hovertemplate": "sentiment_output=%{x}<br>newspaper=diariocorreo<br>year_week=2022w34<br>counts=%{y}<extra></extra>",
         "legendgroup": "POS",
         "marker": {
          "color": "#b8bb26",
          "pattern": {
           "shape": ""
          }
         },
         "name": "POS",
         "offsetgroup": "POS",
         "orientation": "v",
         "showlegend": false,
         "textposition": "auto",
         "type": "bar",
         "x": [
          "POS"
         ],
         "xaxis": "x50",
         "y": [
          34
         ],
         "yaxis": "y50"
        },
        {
         "alignmentgroup": "True",
         "hovertemplate": "sentiment_output=%{x}<br>newspaper=diariocorreo<br>year_week=2022w39<br>counts=%{y}<extra></extra>",
         "legendgroup": "POS",
         "marker": {
          "color": "#b8bb26",
          "pattern": {
           "shape": ""
          }
         },
         "name": "POS",
         "offsetgroup": "POS",
         "orientation": "v",
         "showlegend": false,
         "textposition": "auto",
         "type": "bar",
         "x": [
          "POS"
         ],
         "xaxis": "x51",
         "y": [
          41
         ],
         "yaxis": "y51"
        },
        {
         "alignmentgroup": "True",
         "hovertemplate": "sentiment_output=%{x}<br>newspaper=diariocorreo<br>year_week=2022w44<br>counts=%{y}<extra></extra>",
         "legendgroup": "POS",
         "marker": {
          "color": "#b8bb26",
          "pattern": {
           "shape": ""
          }
         },
         "name": "POS",
         "offsetgroup": "POS",
         "orientation": "v",
         "showlegend": false,
         "textposition": "auto",
         "type": "bar",
         "x": [
          "POS"
         ],
         "xaxis": "x52",
         "y": [
          41
         ],
         "yaxis": "y52"
        },
        {
         "alignmentgroup": "True",
         "hovertemplate": "sentiment_output=%{x}<br>newspaper=diariocorreo<br>year_week=2022w49<br>counts=%{y}<extra></extra>",
         "legendgroup": "POS",
         "marker": {
          "color": "#b8bb26",
          "pattern": {
           "shape": ""
          }
         },
         "name": "POS",
         "offsetgroup": "POS",
         "orientation": "v",
         "showlegend": false,
         "textposition": "auto",
         "type": "bar",
         "x": [
          "POS"
         ],
         "xaxis": "x53",
         "y": [
          41
         ],
         "yaxis": "y53"
        },
        {
         "alignmentgroup": "True",
         "hovertemplate": "sentiment_output=%{x}<br>newspaper=diariocorreo<br>year_week=2023w2<br>counts=%{y}<extra></extra>",
         "legendgroup": "POS",
         "marker": {
          "color": "#b8bb26",
          "pattern": {
           "shape": ""
          }
         },
         "name": "POS",
         "offsetgroup": "POS",
         "orientation": "v",
         "showlegend": false,
         "textposition": "auto",
         "type": "bar",
         "x": [
          "POS"
         ],
         "xaxis": "x54",
         "y": [
          10
         ],
         "yaxis": "y54"
        },
        {
         "alignmentgroup": "True",
         "hovertemplate": "sentiment_output=%{x}<br>newspaper=diarioojo<br>year_week=2022w33<br>counts=%{y}<extra></extra>",
         "legendgroup": "POS",
         "marker": {
          "color": "#b8bb26",
          "pattern": {
           "shape": ""
          }
         },
         "name": "POS",
         "offsetgroup": "POS",
         "orientation": "v",
         "showlegend": false,
         "textposition": "auto",
         "type": "bar",
         "x": [
          "POS"
         ],
         "xaxis": "x43",
         "y": [
          106
         ],
         "yaxis": "y43"
        },
        {
         "alignmentgroup": "True",
         "hovertemplate": "sentiment_output=%{x}<br>newspaper=diarioojo<br>year_week=2022w34<br>counts=%{y}<extra></extra>",
         "legendgroup": "POS",
         "marker": {
          "color": "#b8bb26",
          "pattern": {
           "shape": ""
          }
         },
         "name": "POS",
         "offsetgroup": "POS",
         "orientation": "v",
         "showlegend": false,
         "textposition": "auto",
         "type": "bar",
         "x": [
          "POS"
         ],
         "xaxis": "x44",
         "y": [
          91
         ],
         "yaxis": "y44"
        },
        {
         "alignmentgroup": "True",
         "hovertemplate": "sentiment_output=%{x}<br>newspaper=diarioojo<br>year_week=2022w39<br>counts=%{y}<extra></extra>",
         "legendgroup": "POS",
         "marker": {
          "color": "#b8bb26",
          "pattern": {
           "shape": ""
          }
         },
         "name": "POS",
         "offsetgroup": "POS",
         "orientation": "v",
         "showlegend": false,
         "textposition": "auto",
         "type": "bar",
         "x": [
          "POS"
         ],
         "xaxis": "x45",
         "y": [
          68
         ],
         "yaxis": "y45"
        },
        {
         "alignmentgroup": "True",
         "hovertemplate": "sentiment_output=%{x}<br>newspaper=diarioojo<br>year_week=2022w44<br>counts=%{y}<extra></extra>",
         "legendgroup": "POS",
         "marker": {
          "color": "#b8bb26",
          "pattern": {
           "shape": ""
          }
         },
         "name": "POS",
         "offsetgroup": "POS",
         "orientation": "v",
         "showlegend": false,
         "textposition": "auto",
         "type": "bar",
         "x": [
          "POS"
         ],
         "xaxis": "x46",
         "y": [
          91
         ],
         "yaxis": "y46"
        },
        {
         "alignmentgroup": "True",
         "hovertemplate": "sentiment_output=%{x}<br>newspaper=diarioojo<br>year_week=2022w49<br>counts=%{y}<extra></extra>",
         "legendgroup": "POS",
         "marker": {
          "color": "#b8bb26",
          "pattern": {
           "shape": ""
          }
         },
         "name": "POS",
         "offsetgroup": "POS",
         "orientation": "v",
         "showlegend": false,
         "textposition": "auto",
         "type": "bar",
         "x": [
          "POS"
         ],
         "xaxis": "x47",
         "y": [
          77
         ],
         "yaxis": "y47"
        },
        {
         "alignmentgroup": "True",
         "hovertemplate": "sentiment_output=%{x}<br>newspaper=diarioojo<br>year_week=2023w2<br>counts=%{y}<extra></extra>",
         "legendgroup": "POS",
         "marker": {
          "color": "#b8bb26",
          "pattern": {
           "shape": ""
          }
         },
         "name": "POS",
         "offsetgroup": "POS",
         "orientation": "v",
         "showlegend": false,
         "textposition": "auto",
         "type": "bar",
         "x": [
          "POS"
         ],
         "xaxis": "x48",
         "y": [
          50
         ],
         "yaxis": "y48"
        },
        {
         "alignmentgroup": "True",
         "hovertemplate": "sentiment_output=%{x}<br>newspaper=elbuho_pe<br>year_week=2022w34<br>counts=%{y}<extra></extra>",
         "legendgroup": "POS",
         "marker": {
          "color": "#b8bb26",
          "pattern": {
           "shape": ""
          }
         },
         "name": "POS",
         "offsetgroup": "POS",
         "orientation": "v",
         "showlegend": false,
         "textposition": "auto",
         "type": "bar",
         "x": [
          "POS"
         ],
         "xaxis": "x38",
         "y": [
          3
         ],
         "yaxis": "y38"
        },
        {
         "alignmentgroup": "True",
         "hovertemplate": "sentiment_output=%{x}<br>newspaper=elbuho_pe<br>year_week=2022w44<br>counts=%{y}<extra></extra>",
         "legendgroup": "POS",
         "marker": {
          "color": "#b8bb26",
          "pattern": {
           "shape": ""
          }
         },
         "name": "POS",
         "offsetgroup": "POS",
         "orientation": "v",
         "showlegend": false,
         "textposition": "auto",
         "type": "bar",
         "x": [
          "POS"
         ],
         "xaxis": "x40",
         "y": [
          3
         ],
         "yaxis": "y40"
        },
        {
         "alignmentgroup": "True",
         "hovertemplate": "sentiment_output=%{x}<br>newspaper=elbuho_pe<br>year_week=2022w49<br>counts=%{y}<extra></extra>",
         "legendgroup": "POS",
         "marker": {
          "color": "#b8bb26",
          "pattern": {
           "shape": ""
          }
         },
         "name": "POS",
         "offsetgroup": "POS",
         "orientation": "v",
         "showlegend": false,
         "textposition": "auto",
         "type": "bar",
         "x": [
          "POS"
         ],
         "xaxis": "x41",
         "y": [
          1
         ],
         "yaxis": "y41"
        },
        {
         "alignmentgroup": "True",
         "hovertemplate": "sentiment_output=%{x}<br>newspaper=elbuho_pe<br>year_week=2023w2<br>counts=%{y}<extra></extra>",
         "legendgroup": "POS",
         "marker": {
          "color": "#b8bb26",
          "pattern": {
           "shape": ""
          }
         },
         "name": "POS",
         "offsetgroup": "POS",
         "orientation": "v",
         "showlegend": false,
         "textposition": "auto",
         "type": "bar",
         "x": [
          "POS"
         ],
         "xaxis": "x42",
         "y": [
          4
         ],
         "yaxis": "y42"
        },
        {
         "alignmentgroup": "True",
         "hovertemplate": "sentiment_output=%{x}<br>newspaper=elcomercio_peru<br>year_week=2022w33<br>counts=%{y}<extra></extra>",
         "legendgroup": "POS",
         "marker": {
          "color": "#b8bb26",
          "pattern": {
           "shape": ""
          }
         },
         "name": "POS",
         "offsetgroup": "POS",
         "orientation": "v",
         "showlegend": false,
         "textposition": "auto",
         "type": "bar",
         "x": [
          "POS"
         ],
         "xaxis": "x31",
         "y": [
          17
         ],
         "yaxis": "y31"
        },
        {
         "alignmentgroup": "True",
         "hovertemplate": "sentiment_output=%{x}<br>newspaper=elcomercio_peru<br>year_week=2022w34<br>counts=%{y}<extra></extra>",
         "legendgroup": "POS",
         "marker": {
          "color": "#b8bb26",
          "pattern": {
           "shape": ""
          }
         },
         "name": "POS",
         "offsetgroup": "POS",
         "orientation": "v",
         "showlegend": false,
         "textposition": "auto",
         "type": "bar",
         "x": [
          "POS"
         ],
         "xaxis": "x32",
         "y": [
          18
         ],
         "yaxis": "y32"
        },
        {
         "alignmentgroup": "True",
         "hovertemplate": "sentiment_output=%{x}<br>newspaper=elcomercio_peru<br>year_week=2022w39<br>counts=%{y}<extra></extra>",
         "legendgroup": "POS",
         "marker": {
          "color": "#b8bb26",
          "pattern": {
           "shape": ""
          }
         },
         "name": "POS",
         "offsetgroup": "POS",
         "orientation": "v",
         "showlegend": false,
         "textposition": "auto",
         "type": "bar",
         "x": [
          "POS"
         ],
         "xaxis": "x33",
         "y": [
          13
         ],
         "yaxis": "y33"
        },
        {
         "alignmentgroup": "True",
         "hovertemplate": "sentiment_output=%{x}<br>newspaper=elcomercio_peru<br>year_week=2022w44<br>counts=%{y}<extra></extra>",
         "legendgroup": "POS",
         "marker": {
          "color": "#b8bb26",
          "pattern": {
           "shape": ""
          }
         },
         "name": "POS",
         "offsetgroup": "POS",
         "orientation": "v",
         "showlegend": false,
         "textposition": "auto",
         "type": "bar",
         "x": [
          "POS"
         ],
         "xaxis": "x34",
         "y": [
          25
         ],
         "yaxis": "y34"
        },
        {
         "alignmentgroup": "True",
         "hovertemplate": "sentiment_output=%{x}<br>newspaper=elcomercio_peru<br>year_week=2022w49<br>counts=%{y}<extra></extra>",
         "legendgroup": "POS",
         "marker": {
          "color": "#b8bb26",
          "pattern": {
           "shape": ""
          }
         },
         "name": "POS",
         "offsetgroup": "POS",
         "orientation": "v",
         "showlegend": false,
         "textposition": "auto",
         "type": "bar",
         "x": [
          "POS"
         ],
         "xaxis": "x35",
         "y": [
          17
         ],
         "yaxis": "y35"
        },
        {
         "alignmentgroup": "True",
         "hovertemplate": "sentiment_output=%{x}<br>newspaper=elcomercio_peru<br>year_week=2023w2<br>counts=%{y}<extra></extra>",
         "legendgroup": "POS",
         "marker": {
          "color": "#b8bb26",
          "pattern": {
           "shape": ""
          }
         },
         "name": "POS",
         "offsetgroup": "POS",
         "orientation": "v",
         "showlegend": false,
         "textposition": "auto",
         "type": "bar",
         "x": [
          "POS"
         ],
         "xaxis": "x36",
         "y": [
          13
         ],
         "yaxis": "y36"
        },
        {
         "alignmentgroup": "True",
         "hovertemplate": "sentiment_output=%{x}<br>newspaper=ensustrece<br>year_week=2022w34<br>counts=%{y}<extra></extra>",
         "legendgroup": "POS",
         "marker": {
          "color": "#b8bb26",
          "pattern": {
           "shape": ""
          }
         },
         "name": "POS",
         "offsetgroup": "POS",
         "orientation": "v",
         "showlegend": false,
         "textposition": "auto",
         "type": "bar",
         "x": [
          "POS"
         ],
         "xaxis": "x26",
         "y": [
          1
         ],
         "yaxis": "y26"
        },
        {
         "alignmentgroup": "True",
         "hovertemplate": "sentiment_output=%{x}<br>newspaper=ensustrece<br>year_week=2022w39<br>counts=%{y}<extra></extra>",
         "legendgroup": "POS",
         "marker": {
          "color": "#b8bb26",
          "pattern": {
           "shape": ""
          }
         },
         "name": "POS",
         "offsetgroup": "POS",
         "orientation": "v",
         "showlegend": false,
         "textposition": "auto",
         "type": "bar",
         "x": [
          "POS"
         ],
         "xaxis": "x27",
         "y": [
          4
         ],
         "yaxis": "y27"
        },
        {
         "alignmentgroup": "True",
         "hovertemplate": "sentiment_output=%{x}<br>newspaper=ensustrece<br>year_week=2022w44<br>counts=%{y}<extra></extra>",
         "legendgroup": "POS",
         "marker": {
          "color": "#b8bb26",
          "pattern": {
           "shape": ""
          }
         },
         "name": "POS",
         "offsetgroup": "POS",
         "orientation": "v",
         "showlegend": false,
         "textposition": "auto",
         "type": "bar",
         "x": [
          "POS"
         ],
         "xaxis": "x28",
         "y": [
          1
         ],
         "yaxis": "y28"
        },
        {
         "alignmentgroup": "True",
         "hovertemplate": "sentiment_output=%{x}<br>newspaper=ensustrece<br>year_week=2022w49<br>counts=%{y}<extra></extra>",
         "legendgroup": "POS",
         "marker": {
          "color": "#b8bb26",
          "pattern": {
           "shape": ""
          }
         },
         "name": "POS",
         "offsetgroup": "POS",
         "orientation": "v",
         "showlegend": false,
         "textposition": "auto",
         "type": "bar",
         "x": [
          "POS"
         ],
         "xaxis": "x29",
         "y": [
          2
         ],
         "yaxis": "y29"
        },
        {
         "alignmentgroup": "True",
         "hovertemplate": "sentiment_output=%{x}<br>newspaper=ensustrece<br>year_week=2023w2<br>counts=%{y}<extra></extra>",
         "legendgroup": "POS",
         "marker": {
          "color": "#b8bb26",
          "pattern": {
           "shape": ""
          }
         },
         "name": "POS",
         "offsetgroup": "POS",
         "orientation": "v",
         "showlegend": false,
         "textposition": "auto",
         "type": "bar",
         "x": [
          "POS"
         ],
         "xaxis": "x30",
         "y": [
          1
         ],
         "yaxis": "y30"
        },
        {
         "alignmentgroup": "True",
         "hovertemplate": "sentiment_output=%{x}<br>newspaper=larazon_pe<br>year_week=2022w33<br>counts=%{y}<extra></extra>",
         "legendgroup": "POS",
         "marker": {
          "color": "#b8bb26",
          "pattern": {
           "shape": ""
          }
         },
         "name": "POS",
         "offsetgroup": "POS",
         "orientation": "v",
         "showlegend": false,
         "textposition": "auto",
         "type": "bar",
         "x": [
          "POS"
         ],
         "xaxis": "x19",
         "y": [
          30
         ],
         "yaxis": "y19"
        },
        {
         "alignmentgroup": "True",
         "hovertemplate": "sentiment_output=%{x}<br>newspaper=larazon_pe<br>year_week=2022w34<br>counts=%{y}<extra></extra>",
         "legendgroup": "POS",
         "marker": {
          "color": "#b8bb26",
          "pattern": {
           "shape": ""
          }
         },
         "name": "POS",
         "offsetgroup": "POS",
         "orientation": "v",
         "showlegend": false,
         "textposition": "auto",
         "type": "bar",
         "x": [
          "POS"
         ],
         "xaxis": "x20",
         "y": [
          19
         ],
         "yaxis": "y20"
        },
        {
         "alignmentgroup": "True",
         "hovertemplate": "sentiment_output=%{x}<br>newspaper=larazon_pe<br>year_week=2022w39<br>counts=%{y}<extra></extra>",
         "legendgroup": "POS",
         "marker": {
          "color": "#b8bb26",
          "pattern": {
           "shape": ""
          }
         },
         "name": "POS",
         "offsetgroup": "POS",
         "orientation": "v",
         "showlegend": false,
         "textposition": "auto",
         "type": "bar",
         "x": [
          "POS"
         ],
         "xaxis": "x21",
         "y": [
          15
         ],
         "yaxis": "y21"
        },
        {
         "alignmentgroup": "True",
         "hovertemplate": "sentiment_output=%{x}<br>newspaper=larazon_pe<br>year_week=2022w44<br>counts=%{y}<extra></extra>",
         "legendgroup": "POS",
         "marker": {
          "color": "#b8bb26",
          "pattern": {
           "shape": ""
          }
         },
         "name": "POS",
         "offsetgroup": "POS",
         "orientation": "v",
         "showlegend": false,
         "textposition": "auto",
         "type": "bar",
         "x": [
          "POS"
         ],
         "xaxis": "x22",
         "y": [
          11
         ],
         "yaxis": "y22"
        },
        {
         "alignmentgroup": "True",
         "hovertemplate": "sentiment_output=%{x}<br>newspaper=larazon_pe<br>year_week=2022w49<br>counts=%{y}<extra></extra>",
         "legendgroup": "POS",
         "marker": {
          "color": "#b8bb26",
          "pattern": {
           "shape": ""
          }
         },
         "name": "POS",
         "offsetgroup": "POS",
         "orientation": "v",
         "showlegend": false,
         "textposition": "auto",
         "type": "bar",
         "x": [
          "POS"
         ],
         "xaxis": "x23",
         "y": [
          4
         ],
         "yaxis": "y23"
        },
        {
         "alignmentgroup": "True",
         "hovertemplate": "sentiment_output=%{x}<br>newspaper=larazon_pe<br>year_week=2023w2<br>counts=%{y}<extra></extra>",
         "legendgroup": "POS",
         "marker": {
          "color": "#b8bb26",
          "pattern": {
           "shape": ""
          }
         },
         "name": "POS",
         "offsetgroup": "POS",
         "orientation": "v",
         "showlegend": false,
         "textposition": "auto",
         "type": "bar",
         "x": [
          "POS"
         ],
         "xaxis": "x24",
         "y": [
          7
         ],
         "yaxis": "y24"
        },
        {
         "alignmentgroup": "True",
         "hovertemplate": "sentiment_output=%{x}<br>newspaper=larepublica_pe<br>year_week=2022w33<br>counts=%{y}<extra></extra>",
         "legendgroup": "POS",
         "marker": {
          "color": "#b8bb26",
          "pattern": {
           "shape": ""
          }
         },
         "name": "POS",
         "offsetgroup": "POS",
         "orientation": "v",
         "showlegend": false,
         "textposition": "auto",
         "type": "bar",
         "x": [
          "POS"
         ],
         "xaxis": "x13",
         "y": [
          78
         ],
         "yaxis": "y13"
        },
        {
         "alignmentgroup": "True",
         "hovertemplate": "sentiment_output=%{x}<br>newspaper=larepublica_pe<br>year_week=2022w34<br>counts=%{y}<extra></extra>",
         "legendgroup": "POS",
         "marker": {
          "color": "#b8bb26",
          "pattern": {
           "shape": ""
          }
         },
         "name": "POS",
         "offsetgroup": "POS",
         "orientation": "v",
         "showlegend": false,
         "textposition": "auto",
         "type": "bar",
         "x": [
          "POS"
         ],
         "xaxis": "x14",
         "y": [
          63
         ],
         "yaxis": "y14"
        },
        {
         "alignmentgroup": "True",
         "hovertemplate": "sentiment_output=%{x}<br>newspaper=larepublica_pe<br>year_week=2022w39<br>counts=%{y}<extra></extra>",
         "legendgroup": "POS",
         "marker": {
          "color": "#b8bb26",
          "pattern": {
           "shape": ""
          }
         },
         "name": "POS",
         "offsetgroup": "POS",
         "orientation": "v",
         "showlegend": false,
         "textposition": "auto",
         "type": "bar",
         "x": [
          "POS"
         ],
         "xaxis": "x15",
         "y": [
          75
         ],
         "yaxis": "y15"
        },
        {
         "alignmentgroup": "True",
         "hovertemplate": "sentiment_output=%{x}<br>newspaper=larepublica_pe<br>year_week=2022w44<br>counts=%{y}<extra></extra>",
         "legendgroup": "POS",
         "marker": {
          "color": "#b8bb26",
          "pattern": {
           "shape": ""
          }
         },
         "name": "POS",
         "offsetgroup": "POS",
         "orientation": "v",
         "showlegend": false,
         "textposition": "auto",
         "type": "bar",
         "x": [
          "POS"
         ],
         "xaxis": "x16",
         "y": [
          43
         ],
         "yaxis": "y16"
        },
        {
         "alignmentgroup": "True",
         "hovertemplate": "sentiment_output=%{x}<br>newspaper=larepublica_pe<br>year_week=2022w49<br>counts=%{y}<extra></extra>",
         "legendgroup": "POS",
         "marker": {
          "color": "#b8bb26",
          "pattern": {
           "shape": ""
          }
         },
         "name": "POS",
         "offsetgroup": "POS",
         "orientation": "v",
         "showlegend": false,
         "textposition": "auto",
         "type": "bar",
         "x": [
          "POS"
         ],
         "xaxis": "x17",
         "y": [
          81
         ],
         "yaxis": "y17"
        },
        {
         "alignmentgroup": "True",
         "hovertemplate": "sentiment_output=%{x}<br>newspaper=larepublica_pe<br>year_week=2023w2<br>counts=%{y}<extra></extra>",
         "legendgroup": "POS",
         "marker": {
          "color": "#b8bb26",
          "pattern": {
           "shape": ""
          }
         },
         "name": "POS",
         "offsetgroup": "POS",
         "orientation": "v",
         "showlegend": false,
         "textposition": "auto",
         "type": "bar",
         "x": [
          "POS"
         ],
         "xaxis": "x18",
         "y": [
          39
         ],
         "yaxis": "y18"
        },
        {
         "alignmentgroup": "True",
         "hovertemplate": "sentiment_output=%{x}<br>newspaper=peru21noticias<br>year_week=2022w33<br>counts=%{y}<extra></extra>",
         "legendgroup": "POS",
         "marker": {
          "color": "#b8bb26",
          "pattern": {
           "shape": ""
          }
         },
         "name": "POS",
         "offsetgroup": "POS",
         "orientation": "v",
         "showlegend": false,
         "textposition": "auto",
         "type": "bar",
         "x": [
          "POS"
         ],
         "xaxis": "x7",
         "y": [
          158
         ],
         "yaxis": "y7"
        },
        {
         "alignmentgroup": "True",
         "hovertemplate": "sentiment_output=%{x}<br>newspaper=peru21noticias<br>year_week=2022w34<br>counts=%{y}<extra></extra>",
         "legendgroup": "POS",
         "marker": {
          "color": "#b8bb26",
          "pattern": {
           "shape": ""
          }
         },
         "name": "POS",
         "offsetgroup": "POS",
         "orientation": "v",
         "showlegend": false,
         "textposition": "auto",
         "type": "bar",
         "x": [
          "POS"
         ],
         "xaxis": "x8",
         "y": [
          153
         ],
         "yaxis": "y8"
        },
        {
         "alignmentgroup": "True",
         "hovertemplate": "sentiment_output=%{x}<br>newspaper=peru21noticias<br>year_week=2022w39<br>counts=%{y}<extra></extra>",
         "legendgroup": "POS",
         "marker": {
          "color": "#b8bb26",
          "pattern": {
           "shape": ""
          }
         },
         "name": "POS",
         "offsetgroup": "POS",
         "orientation": "v",
         "showlegend": false,
         "textposition": "auto",
         "type": "bar",
         "x": [
          "POS"
         ],
         "xaxis": "x9",
         "y": [
          117
         ],
         "yaxis": "y9"
        },
        {
         "alignmentgroup": "True",
         "hovertemplate": "sentiment_output=%{x}<br>newspaper=peru21noticias<br>year_week=2022w44<br>counts=%{y}<extra></extra>",
         "legendgroup": "POS",
         "marker": {
          "color": "#b8bb26",
          "pattern": {
           "shape": ""
          }
         },
         "name": "POS",
         "offsetgroup": "POS",
         "orientation": "v",
         "showlegend": false,
         "textposition": "auto",
         "type": "bar",
         "x": [
          "POS"
         ],
         "xaxis": "x10",
         "y": [
          101
         ],
         "yaxis": "y10"
        },
        {
         "alignmentgroup": "True",
         "hovertemplate": "sentiment_output=%{x}<br>newspaper=peru21noticias<br>year_week=2022w49<br>counts=%{y}<extra></extra>",
         "legendgroup": "POS",
         "marker": {
          "color": "#b8bb26",
          "pattern": {
           "shape": ""
          }
         },
         "name": "POS",
         "offsetgroup": "POS",
         "orientation": "v",
         "showlegend": false,
         "textposition": "auto",
         "type": "bar",
         "x": [
          "POS"
         ],
         "xaxis": "x11",
         "y": [
          112
         ],
         "yaxis": "y11"
        },
        {
         "alignmentgroup": "True",
         "hovertemplate": "sentiment_output=%{x}<br>newspaper=peru21noticias<br>year_week=2023w2<br>counts=%{y}<extra></extra>",
         "legendgroup": "POS",
         "marker": {
          "color": "#b8bb26",
          "pattern": {
           "shape": ""
          }
         },
         "name": "POS",
         "offsetgroup": "POS",
         "orientation": "v",
         "showlegend": false,
         "textposition": "auto",
         "type": "bar",
         "x": [
          "POS"
         ],
         "xaxis": "x12",
         "y": [
          64
         ],
         "yaxis": "y12"
        },
        {
         "alignmentgroup": "True",
         "hovertemplate": "sentiment_output=%{x}<br>newspaper=tromepe<br>year_week=2022w33<br>counts=%{y}<extra></extra>",
         "legendgroup": "POS",
         "marker": {
          "color": "#b8bb26",
          "pattern": {
           "shape": ""
          }
         },
         "name": "POS",
         "offsetgroup": "POS",
         "orientation": "v",
         "showlegend": false,
         "textposition": "auto",
         "type": "bar",
         "x": [
          "POS"
         ],
         "xaxis": "x",
         "y": [
          174
         ],
         "yaxis": "y"
        },
        {
         "alignmentgroup": "True",
         "hovertemplate": "sentiment_output=%{x}<br>newspaper=tromepe<br>year_week=2022w34<br>counts=%{y}<extra></extra>",
         "legendgroup": "POS",
         "marker": {
          "color": "#b8bb26",
          "pattern": {
           "shape": ""
          }
         },
         "name": "POS",
         "offsetgroup": "POS",
         "orientation": "v",
         "showlegend": false,
         "textposition": "auto",
         "type": "bar",
         "x": [
          "POS"
         ],
         "xaxis": "x2",
         "y": [
          128
         ],
         "yaxis": "y2"
        },
        {
         "alignmentgroup": "True",
         "hovertemplate": "sentiment_output=%{x}<br>newspaper=tromepe<br>year_week=2022w39<br>counts=%{y}<extra></extra>",
         "legendgroup": "POS",
         "marker": {
          "color": "#b8bb26",
          "pattern": {
           "shape": ""
          }
         },
         "name": "POS",
         "offsetgroup": "POS",
         "orientation": "v",
         "showlegend": false,
         "textposition": "auto",
         "type": "bar",
         "x": [
          "POS"
         ],
         "xaxis": "x3",
         "y": [
          143
         ],
         "yaxis": "y3"
        },
        {
         "alignmentgroup": "True",
         "hovertemplate": "sentiment_output=%{x}<br>newspaper=tromepe<br>year_week=2022w44<br>counts=%{y}<extra></extra>",
         "legendgroup": "POS",
         "marker": {
          "color": "#b8bb26",
          "pattern": {
           "shape": ""
          }
         },
         "name": "POS",
         "offsetgroup": "POS",
         "orientation": "v",
         "showlegend": false,
         "textposition": "auto",
         "type": "bar",
         "x": [
          "POS"
         ],
         "xaxis": "x4",
         "y": [
          123
         ],
         "yaxis": "y4"
        },
        {
         "alignmentgroup": "True",
         "hovertemplate": "sentiment_output=%{x}<br>newspaper=tromepe<br>year_week=2022w49<br>counts=%{y}<extra></extra>",
         "legendgroup": "POS",
         "marker": {
          "color": "#b8bb26",
          "pattern": {
           "shape": ""
          }
         },
         "name": "POS",
         "offsetgroup": "POS",
         "orientation": "v",
         "showlegend": false,
         "textposition": "auto",
         "type": "bar",
         "x": [
          "POS"
         ],
         "xaxis": "x5",
         "y": [
          122
         ],
         "yaxis": "y5"
        },
        {
         "alignmentgroup": "True",
         "hovertemplate": "sentiment_output=%{x}<br>newspaper=tromepe<br>year_week=2023w2<br>counts=%{y}<extra></extra>",
         "legendgroup": "POS",
         "marker": {
          "color": "#b8bb26",
          "pattern": {
           "shape": ""
          }
         },
         "name": "POS",
         "offsetgroup": "POS",
         "orientation": "v",
         "showlegend": false,
         "textposition": "auto",
         "type": "bar",
         "x": [
          "POS"
         ],
         "xaxis": "x6",
         "y": [
          104
         ],
         "yaxis": "y6"
        },
        {
         "alignmentgroup": "True",
         "hovertemplate": "sentiment_output=%{x}<br>newspaper=DiarioElPeruano<br>year_week=2022w33<br>counts=%{y}<extra></extra>",
         "legendgroup": "NEG",
         "marker": {
          "color": "#458588",
          "pattern": {
           "shape": ""
          }
         },
         "name": "NEG",
         "offsetgroup": "NEG",
         "orientation": "v",
         "showlegend": true,
         "textposition": "auto",
         "type": "bar",
         "x": [
          "NEG"
         ],
         "xaxis": "x67",
         "y": [
          18
         ],
         "yaxis": "y67"
        },
        {
         "alignmentgroup": "True",
         "hovertemplate": "sentiment_output=%{x}<br>newspaper=DiarioElPeruano<br>year_week=2022w34<br>counts=%{y}<extra></extra>",
         "legendgroup": "NEG",
         "marker": {
          "color": "#458588",
          "pattern": {
           "shape": ""
          }
         },
         "name": "NEG",
         "offsetgroup": "NEG",
         "orientation": "v",
         "showlegend": false,
         "textposition": "auto",
         "type": "bar",
         "x": [
          "NEG"
         ],
         "xaxis": "x68",
         "y": [
          20
         ],
         "yaxis": "y68"
        },
        {
         "alignmentgroup": "True",
         "hovertemplate": "sentiment_output=%{x}<br>newspaper=DiarioElPeruano<br>year_week=2022w39<br>counts=%{y}<extra></extra>",
         "legendgroup": "NEG",
         "marker": {
          "color": "#458588",
          "pattern": {
           "shape": ""
          }
         },
         "name": "NEG",
         "offsetgroup": "NEG",
         "orientation": "v",
         "showlegend": false,
         "textposition": "auto",
         "type": "bar",
         "x": [
          "NEG"
         ],
         "xaxis": "x69",
         "y": [
          12
         ],
         "yaxis": "y69"
        },
        {
         "alignmentgroup": "True",
         "hovertemplate": "sentiment_output=%{x}<br>newspaper=DiarioElPeruano<br>year_week=2022w44<br>counts=%{y}<extra></extra>",
         "legendgroup": "NEG",
         "marker": {
          "color": "#458588",
          "pattern": {
           "shape": ""
          }
         },
         "name": "NEG",
         "offsetgroup": "NEG",
         "orientation": "v",
         "showlegend": false,
         "textposition": "auto",
         "type": "bar",
         "x": [
          "NEG"
         ],
         "xaxis": "x70",
         "y": [
          11
         ],
         "yaxis": "y70"
        },
        {
         "alignmentgroup": "True",
         "hovertemplate": "sentiment_output=%{x}<br>newspaper=DiarioElPeruano<br>year_week=2022w49<br>counts=%{y}<extra></extra>",
         "legendgroup": "NEG",
         "marker": {
          "color": "#458588",
          "pattern": {
           "shape": ""
          }
         },
         "name": "NEG",
         "offsetgroup": "NEG",
         "orientation": "v",
         "showlegend": false,
         "textposition": "auto",
         "type": "bar",
         "x": [
          "NEG"
         ],
         "xaxis": "x71",
         "y": [
          21
         ],
         "yaxis": "y71"
        },
        {
         "alignmentgroup": "True",
         "hovertemplate": "sentiment_output=%{x}<br>newspaper=DiarioElPeruano<br>year_week=2023w2<br>counts=%{y}<extra></extra>",
         "legendgroup": "NEG",
         "marker": {
          "color": "#458588",
          "pattern": {
           "shape": ""
          }
         },
         "name": "NEG",
         "offsetgroup": "NEG",
         "orientation": "v",
         "showlegend": false,
         "textposition": "auto",
         "type": "bar",
         "x": [
          "NEG"
         ],
         "xaxis": "x72",
         "y": [
          34
         ],
         "yaxis": "y72"
        },
        {
         "alignmentgroup": "True",
         "hovertemplate": "sentiment_output=%{x}<br>newspaper=ExpresoPeru<br>year_week=2022w33<br>counts=%{y}<extra></extra>",
         "legendgroup": "NEG",
         "marker": {
          "color": "#458588",
          "pattern": {
           "shape": ""
          }
         },
         "name": "NEG",
         "offsetgroup": "NEG",
         "orientation": "v",
         "showlegend": false,
         "textposition": "auto",
         "type": "bar",
         "x": [
          "NEG"
         ],
         "xaxis": "x61",
         "y": [
          114
         ],
         "yaxis": "y61"
        },
        {
         "alignmentgroup": "True",
         "hovertemplate": "sentiment_output=%{x}<br>newspaper=ExpresoPeru<br>year_week=2022w34<br>counts=%{y}<extra></extra>",
         "legendgroup": "NEG",
         "marker": {
          "color": "#458588",
          "pattern": {
           "shape": ""
          }
         },
         "name": "NEG",
         "offsetgroup": "NEG",
         "orientation": "v",
         "showlegend": false,
         "textposition": "auto",
         "type": "bar",
         "x": [
          "NEG"
         ],
         "xaxis": "x62",
         "y": [
          69
         ],
         "yaxis": "y62"
        },
        {
         "alignmentgroup": "True",
         "hovertemplate": "sentiment_output=%{x}<br>newspaper=ExpresoPeru<br>year_week=2022w39<br>counts=%{y}<extra></extra>",
         "legendgroup": "NEG",
         "marker": {
          "color": "#458588",
          "pattern": {
           "shape": ""
          }
         },
         "name": "NEG",
         "offsetgroup": "NEG",
         "orientation": "v",
         "showlegend": false,
         "textposition": "auto",
         "type": "bar",
         "x": [
          "NEG"
         ],
         "xaxis": "x63",
         "y": [
          97
         ],
         "yaxis": "y63"
        },
        {
         "alignmentgroup": "True",
         "hovertemplate": "sentiment_output=%{x}<br>newspaper=ExpresoPeru<br>year_week=2022w44<br>counts=%{y}<extra></extra>",
         "legendgroup": "NEG",
         "marker": {
          "color": "#458588",
          "pattern": {
           "shape": ""
          }
         },
         "name": "NEG",
         "offsetgroup": "NEG",
         "orientation": "v",
         "showlegend": false,
         "textposition": "auto",
         "type": "bar",
         "x": [
          "NEG"
         ],
         "xaxis": "x64",
         "y": [
          73
         ],
         "yaxis": "y64"
        },
        {
         "alignmentgroup": "True",
         "hovertemplate": "sentiment_output=%{x}<br>newspaper=ExpresoPeru<br>year_week=2022w49<br>counts=%{y}<extra></extra>",
         "legendgroup": "NEG",
         "marker": {
          "color": "#458588",
          "pattern": {
           "shape": ""
          }
         },
         "name": "NEG",
         "offsetgroup": "NEG",
         "orientation": "v",
         "showlegend": false,
         "textposition": "auto",
         "type": "bar",
         "x": [
          "NEG"
         ],
         "xaxis": "x65",
         "y": [
          127
         ],
         "yaxis": "y65"
        },
        {
         "alignmentgroup": "True",
         "hovertemplate": "sentiment_output=%{x}<br>newspaper=ExpresoPeru<br>year_week=2023w2<br>counts=%{y}<extra></extra>",
         "legendgroup": "NEG",
         "marker": {
          "color": "#458588",
          "pattern": {
           "shape": ""
          }
         },
         "name": "NEG",
         "offsetgroup": "NEG",
         "orientation": "v",
         "showlegend": false,
         "textposition": "auto",
         "type": "bar",
         "x": [
          "NEG"
         ],
         "xaxis": "x66",
         "y": [
          113
         ],
         "yaxis": "y66"
        },
        {
         "alignmentgroup": "True",
         "hovertemplate": "sentiment_output=%{x}<br>newspaper=Gestionpe<br>year_week=2022w33<br>counts=%{y}<extra></extra>",
         "legendgroup": "NEG",
         "marker": {
          "color": "#458588",
          "pattern": {
           "shape": ""
          }
         },
         "name": "NEG",
         "offsetgroup": "NEG",
         "orientation": "v",
         "showlegend": false,
         "textposition": "auto",
         "type": "bar",
         "x": [
          "NEG"
         ],
         "xaxis": "x55",
         "y": [
          455
         ],
         "yaxis": "y55"
        },
        {
         "alignmentgroup": "True",
         "hovertemplate": "sentiment_output=%{x}<br>newspaper=Gestionpe<br>year_week=2022w34<br>counts=%{y}<extra></extra>",
         "legendgroup": "NEG",
         "marker": {
          "color": "#458588",
          "pattern": {
           "shape": ""
          }
         },
         "name": "NEG",
         "offsetgroup": "NEG",
         "orientation": "v",
         "showlegend": false,
         "textposition": "auto",
         "type": "bar",
         "x": [
          "NEG"
         ],
         "xaxis": "x56",
         "y": [
          194
         ],
         "yaxis": "y56"
        },
        {
         "alignmentgroup": "True",
         "hovertemplate": "sentiment_output=%{x}<br>newspaper=Gestionpe<br>year_week=2022w39<br>counts=%{y}<extra></extra>",
         "legendgroup": "NEG",
         "marker": {
          "color": "#458588",
          "pattern": {
           "shape": ""
          }
         },
         "name": "NEG",
         "offsetgroup": "NEG",
         "orientation": "v",
         "showlegend": false,
         "textposition": "auto",
         "type": "bar",
         "x": [
          "NEG"
         ],
         "xaxis": "x57",
         "y": [
          314
         ],
         "yaxis": "y57"
        },
        {
         "alignmentgroup": "True",
         "hovertemplate": "sentiment_output=%{x}<br>newspaper=Gestionpe<br>year_week=2022w44<br>counts=%{y}<extra></extra>",
         "legendgroup": "NEG",
         "marker": {
          "color": "#458588",
          "pattern": {
           "shape": ""
          }
         },
         "name": "NEG",
         "offsetgroup": "NEG",
         "orientation": "v",
         "showlegend": false,
         "textposition": "auto",
         "type": "bar",
         "x": [
          "NEG"
         ],
         "xaxis": "x58",
         "y": [
          200
         ],
         "yaxis": "y58"
        },
        {
         "alignmentgroup": "True",
         "hovertemplate": "sentiment_output=%{x}<br>newspaper=Gestionpe<br>year_week=2022w49<br>counts=%{y}<extra></extra>",
         "legendgroup": "NEG",
         "marker": {
          "color": "#458588",
          "pattern": {
           "shape": ""
          }
         },
         "name": "NEG",
         "offsetgroup": "NEG",
         "orientation": "v",
         "showlegend": false,
         "textposition": "auto",
         "type": "bar",
         "x": [
          "NEG"
         ],
         "xaxis": "x59",
         "y": [
          236
         ],
         "yaxis": "y59"
        },
        {
         "alignmentgroup": "True",
         "hovertemplate": "sentiment_output=%{x}<br>newspaper=Gestionpe<br>year_week=2023w2<br>counts=%{y}<extra></extra>",
         "legendgroup": "NEG",
         "marker": {
          "color": "#458588",
          "pattern": {
           "shape": ""
          }
         },
         "name": "NEG",
         "offsetgroup": "NEG",
         "orientation": "v",
         "showlegend": false,
         "textposition": "auto",
         "type": "bar",
         "x": [
          "NEG"
         ],
         "xaxis": "x60",
         "y": [
          270
         ],
         "yaxis": "y60"
        },
        {
         "alignmentgroup": "True",
         "hovertemplate": "sentiment_output=%{x}<br>newspaper=diariocorreo<br>year_week=2022w33<br>counts=%{y}<extra></extra>",
         "legendgroup": "NEG",
         "marker": {
          "color": "#458588",
          "pattern": {
           "shape": ""
          }
         },
         "name": "NEG",
         "offsetgroup": "NEG",
         "orientation": "v",
         "showlegend": false,
         "textposition": "auto",
         "type": "bar",
         "x": [
          "NEG"
         ],
         "xaxis": "x49",
         "y": [
          272
         ],
         "yaxis": "y49"
        },
        {
         "alignmentgroup": "True",
         "hovertemplate": "sentiment_output=%{x}<br>newspaper=diariocorreo<br>year_week=2022w34<br>counts=%{y}<extra></extra>",
         "legendgroup": "NEG",
         "marker": {
          "color": "#458588",
          "pattern": {
           "shape": ""
          }
         },
         "name": "NEG",
         "offsetgroup": "NEG",
         "orientation": "v",
         "showlegend": false,
         "textposition": "auto",
         "type": "bar",
         "x": [
          "NEG"
         ],
         "xaxis": "x50",
         "y": [
          139
         ],
         "yaxis": "y50"
        },
        {
         "alignmentgroup": "True",
         "hovertemplate": "sentiment_output=%{x}<br>newspaper=diariocorreo<br>year_week=2022w39<br>counts=%{y}<extra></extra>",
         "legendgroup": "NEG",
         "marker": {
          "color": "#458588",
          "pattern": {
           "shape": ""
          }
         },
         "name": "NEG",
         "offsetgroup": "NEG",
         "orientation": "v",
         "showlegend": false,
         "textposition": "auto",
         "type": "bar",
         "x": [
          "NEG"
         ],
         "xaxis": "x51",
         "y": [
          174
         ],
         "yaxis": "y51"
        },
        {
         "alignmentgroup": "True",
         "hovertemplate": "sentiment_output=%{x}<br>newspaper=diariocorreo<br>year_week=2022w44<br>counts=%{y}<extra></extra>",
         "legendgroup": "NEG",
         "marker": {
          "color": "#458588",
          "pattern": {
           "shape": ""
          }
         },
         "name": "NEG",
         "offsetgroup": "NEG",
         "orientation": "v",
         "showlegend": false,
         "textposition": "auto",
         "type": "bar",
         "x": [
          "NEG"
         ],
         "xaxis": "x52",
         "y": [
          161
         ],
         "yaxis": "y52"
        },
        {
         "alignmentgroup": "True",
         "hovertemplate": "sentiment_output=%{x}<br>newspaper=diariocorreo<br>year_week=2022w49<br>counts=%{y}<extra></extra>",
         "legendgroup": "NEG",
         "marker": {
          "color": "#458588",
          "pattern": {
           "shape": ""
          }
         },
         "name": "NEG",
         "offsetgroup": "NEG",
         "orientation": "v",
         "showlegend": false,
         "textposition": "auto",
         "type": "bar",
         "x": [
          "NEG"
         ],
         "xaxis": "x53",
         "y": [
          192
         ],
         "yaxis": "y53"
        },
        {
         "alignmentgroup": "True",
         "hovertemplate": "sentiment_output=%{x}<br>newspaper=diariocorreo<br>year_week=2023w2<br>counts=%{y}<extra></extra>",
         "legendgroup": "NEG",
         "marker": {
          "color": "#458588",
          "pattern": {
           "shape": ""
          }
         },
         "name": "NEG",
         "offsetgroup": "NEG",
         "orientation": "v",
         "showlegend": false,
         "textposition": "auto",
         "type": "bar",
         "x": [
          "NEG"
         ],
         "xaxis": "x54",
         "y": [
          131
         ],
         "yaxis": "y54"
        },
        {
         "alignmentgroup": "True",
         "hovertemplate": "sentiment_output=%{x}<br>newspaper=diarioojo<br>year_week=2022w33<br>counts=%{y}<extra></extra>",
         "legendgroup": "NEG",
         "marker": {
          "color": "#458588",
          "pattern": {
           "shape": ""
          }
         },
         "name": "NEG",
         "offsetgroup": "NEG",
         "orientation": "v",
         "showlegend": false,
         "textposition": "auto",
         "type": "bar",
         "x": [
          "NEG"
         ],
         "xaxis": "x43",
         "y": [
          266
         ],
         "yaxis": "y43"
        },
        {
         "alignmentgroup": "True",
         "hovertemplate": "sentiment_output=%{x}<br>newspaper=diarioojo<br>year_week=2022w34<br>counts=%{y}<extra></extra>",
         "legendgroup": "NEG",
         "marker": {
          "color": "#458588",
          "pattern": {
           "shape": ""
          }
         },
         "name": "NEG",
         "offsetgroup": "NEG",
         "orientation": "v",
         "showlegend": false,
         "textposition": "auto",
         "type": "bar",
         "x": [
          "NEG"
         ],
         "xaxis": "x44",
         "y": [
          167
         ],
         "yaxis": "y44"
        },
        {
         "alignmentgroup": "True",
         "hovertemplate": "sentiment_output=%{x}<br>newspaper=diarioojo<br>year_week=2022w39<br>counts=%{y}<extra></extra>",
         "legendgroup": "NEG",
         "marker": {
          "color": "#458588",
          "pattern": {
           "shape": ""
          }
         },
         "name": "NEG",
         "offsetgroup": "NEG",
         "orientation": "v",
         "showlegend": false,
         "textposition": "auto",
         "type": "bar",
         "x": [
          "NEG"
         ],
         "xaxis": "x45",
         "y": [
          183
         ],
         "yaxis": "y45"
        },
        {
         "alignmentgroup": "True",
         "hovertemplate": "sentiment_output=%{x}<br>newspaper=diarioojo<br>year_week=2022w44<br>counts=%{y}<extra></extra>",
         "legendgroup": "NEG",
         "marker": {
          "color": "#458588",
          "pattern": {
           "shape": ""
          }
         },
         "name": "NEG",
         "offsetgroup": "NEG",
         "orientation": "v",
         "showlegend": false,
         "textposition": "auto",
         "type": "bar",
         "x": [
          "NEG"
         ],
         "xaxis": "x46",
         "y": [
          200
         ],
         "yaxis": "y46"
        },
        {
         "alignmentgroup": "True",
         "hovertemplate": "sentiment_output=%{x}<br>newspaper=diarioojo<br>year_week=2022w49<br>counts=%{y}<extra></extra>",
         "legendgroup": "NEG",
         "marker": {
          "color": "#458588",
          "pattern": {
           "shape": ""
          }
         },
         "name": "NEG",
         "offsetgroup": "NEG",
         "orientation": "v",
         "showlegend": false,
         "textposition": "auto",
         "type": "bar",
         "x": [
          "NEG"
         ],
         "xaxis": "x47",
         "y": [
          221
         ],
         "yaxis": "y47"
        },
        {
         "alignmentgroup": "True",
         "hovertemplate": "sentiment_output=%{x}<br>newspaper=diarioojo<br>year_week=2023w2<br>counts=%{y}<extra></extra>",
         "legendgroup": "NEG",
         "marker": {
          "color": "#458588",
          "pattern": {
           "shape": ""
          }
         },
         "name": "NEG",
         "offsetgroup": "NEG",
         "orientation": "v",
         "showlegend": false,
         "textposition": "auto",
         "type": "bar",
         "x": [
          "NEG"
         ],
         "xaxis": "x48",
         "y": [
          133
         ],
         "yaxis": "y48"
        },
        {
         "alignmentgroup": "True",
         "hovertemplate": "sentiment_output=%{x}<br>newspaper=elbuho_pe<br>year_week=2022w34<br>counts=%{y}<extra></extra>",
         "legendgroup": "NEG",
         "marker": {
          "color": "#458588",
          "pattern": {
           "shape": ""
          }
         },
         "name": "NEG",
         "offsetgroup": "NEG",
         "orientation": "v",
         "showlegend": false,
         "textposition": "auto",
         "type": "bar",
         "x": [
          "NEG"
         ],
         "xaxis": "x38",
         "y": [
          17
         ],
         "yaxis": "y38"
        },
        {
         "alignmentgroup": "True",
         "hovertemplate": "sentiment_output=%{x}<br>newspaper=elbuho_pe<br>year_week=2022w39<br>counts=%{y}<extra></extra>",
         "legendgroup": "NEG",
         "marker": {
          "color": "#458588",
          "pattern": {
           "shape": ""
          }
         },
         "name": "NEG",
         "offsetgroup": "NEG",
         "orientation": "v",
         "showlegend": false,
         "textposition": "auto",
         "type": "bar",
         "x": [
          "NEG"
         ],
         "xaxis": "x39",
         "y": [
          28
         ],
         "yaxis": "y39"
        },
        {
         "alignmentgroup": "True",
         "hovertemplate": "sentiment_output=%{x}<br>newspaper=elbuho_pe<br>year_week=2022w44<br>counts=%{y}<extra></extra>",
         "legendgroup": "NEG",
         "marker": {
          "color": "#458588",
          "pattern": {
           "shape": ""
          }
         },
         "name": "NEG",
         "offsetgroup": "NEG",
         "orientation": "v",
         "showlegend": false,
         "textposition": "auto",
         "type": "bar",
         "x": [
          "NEG"
         ],
         "xaxis": "x40",
         "y": [
          27
         ],
         "yaxis": "y40"
        },
        {
         "alignmentgroup": "True",
         "hovertemplate": "sentiment_output=%{x}<br>newspaper=elbuho_pe<br>year_week=2022w49<br>counts=%{y}<extra></extra>",
         "legendgroup": "NEG",
         "marker": {
          "color": "#458588",
          "pattern": {
           "shape": ""
          }
         },
         "name": "NEG",
         "offsetgroup": "NEG",
         "orientation": "v",
         "showlegend": false,
         "textposition": "auto",
         "type": "bar",
         "x": [
          "NEG"
         ],
         "xaxis": "x41",
         "y": [
          45
         ],
         "yaxis": "y41"
        },
        {
         "alignmentgroup": "True",
         "hovertemplate": "sentiment_output=%{x}<br>newspaper=elbuho_pe<br>year_week=2023w2<br>counts=%{y}<extra></extra>",
         "legendgroup": "NEG",
         "marker": {
          "color": "#458588",
          "pattern": {
           "shape": ""
          }
         },
         "name": "NEG",
         "offsetgroup": "NEG",
         "orientation": "v",
         "showlegend": false,
         "textposition": "auto",
         "type": "bar",
         "x": [
          "NEG"
         ],
         "xaxis": "x42",
         "y": [
          56
         ],
         "yaxis": "y42"
        },
        {
         "alignmentgroup": "True",
         "hovertemplate": "sentiment_output=%{x}<br>newspaper=elcomercio_peru<br>year_week=2022w33<br>counts=%{y}<extra></extra>",
         "legendgroup": "NEG",
         "marker": {
          "color": "#458588",
          "pattern": {
           "shape": ""
          }
         },
         "name": "NEG",
         "offsetgroup": "NEG",
         "orientation": "v",
         "showlegend": false,
         "textposition": "auto",
         "type": "bar",
         "x": [
          "NEG"
         ],
         "xaxis": "x31",
         "y": [
          236
         ],
         "yaxis": "y31"
        },
        {
         "alignmentgroup": "True",
         "hovertemplate": "sentiment_output=%{x}<br>newspaper=elcomercio_peru<br>year_week=2022w34<br>counts=%{y}<extra></extra>",
         "legendgroup": "NEG",
         "marker": {
          "color": "#458588",
          "pattern": {
           "shape": ""
          }
         },
         "name": "NEG",
         "offsetgroup": "NEG",
         "orientation": "v",
         "showlegend": false,
         "textposition": "auto",
         "type": "bar",
         "x": [
          "NEG"
         ],
         "xaxis": "x32",
         "y": [
          173
         ],
         "yaxis": "y32"
        },
        {
         "alignmentgroup": "True",
         "hovertemplate": "sentiment_output=%{x}<br>newspaper=elcomercio_peru<br>year_week=2022w39<br>counts=%{y}<extra></extra>",
         "legendgroup": "NEG",
         "marker": {
          "color": "#458588",
          "pattern": {
           "shape": ""
          }
         },
         "name": "NEG",
         "offsetgroup": "NEG",
         "orientation": "v",
         "showlegend": false,
         "textposition": "auto",
         "type": "bar",
         "x": [
          "NEG"
         ],
         "xaxis": "x33",
         "y": [
          198
         ],
         "yaxis": "y33"
        },
        {
         "alignmentgroup": "True",
         "hovertemplate": "sentiment_output=%{x}<br>newspaper=elcomercio_peru<br>year_week=2022w44<br>counts=%{y}<extra></extra>",
         "legendgroup": "NEG",
         "marker": {
          "color": "#458588",
          "pattern": {
           "shape": ""
          }
         },
         "name": "NEG",
         "offsetgroup": "NEG",
         "orientation": "v",
         "showlegend": false,
         "textposition": "auto",
         "type": "bar",
         "x": [
          "NEG"
         ],
         "xaxis": "x34",
         "y": [
          172
         ],
         "yaxis": "y34"
        },
        {
         "alignmentgroup": "True",
         "hovertemplate": "sentiment_output=%{x}<br>newspaper=elcomercio_peru<br>year_week=2022w49<br>counts=%{y}<extra></extra>",
         "legendgroup": "NEG",
         "marker": {
          "color": "#458588",
          "pattern": {
           "shape": ""
          }
         },
         "name": "NEG",
         "offsetgroup": "NEG",
         "orientation": "v",
         "showlegend": false,
         "textposition": "auto",
         "type": "bar",
         "x": [
          "NEG"
         ],
         "xaxis": "x35",
         "y": [
          189
         ],
         "yaxis": "y35"
        },
        {
         "alignmentgroup": "True",
         "hovertemplate": "sentiment_output=%{x}<br>newspaper=elcomercio_peru<br>year_week=2023w2<br>counts=%{y}<extra></extra>",
         "legendgroup": "NEG",
         "marker": {
          "color": "#458588",
          "pattern": {
           "shape": ""
          }
         },
         "name": "NEG",
         "offsetgroup": "NEG",
         "orientation": "v",
         "showlegend": false,
         "textposition": "auto",
         "type": "bar",
         "x": [
          "NEG"
         ],
         "xaxis": "x36",
         "y": [
          207
         ],
         "yaxis": "y36"
        },
        {
         "alignmentgroup": "True",
         "hovertemplate": "sentiment_output=%{x}<br>newspaper=ensustrece<br>year_week=2022w34<br>counts=%{y}<extra></extra>",
         "legendgroup": "NEG",
         "marker": {
          "color": "#458588",
          "pattern": {
           "shape": ""
          }
         },
         "name": "NEG",
         "offsetgroup": "NEG",
         "orientation": "v",
         "showlegend": false,
         "textposition": "auto",
         "type": "bar",
         "x": [
          "NEG"
         ],
         "xaxis": "x26",
         "y": [
          17
         ],
         "yaxis": "y26"
        },
        {
         "alignmentgroup": "True",
         "hovertemplate": "sentiment_output=%{x}<br>newspaper=ensustrece<br>year_week=2022w39<br>counts=%{y}<extra></extra>",
         "legendgroup": "NEG",
         "marker": {
          "color": "#458588",
          "pattern": {
           "shape": ""
          }
         },
         "name": "NEG",
         "offsetgroup": "NEG",
         "orientation": "v",
         "showlegend": false,
         "textposition": "auto",
         "type": "bar",
         "x": [
          "NEG"
         ],
         "xaxis": "x27",
         "y": [
          11
         ],
         "yaxis": "y27"
        },
        {
         "alignmentgroup": "True",
         "hovertemplate": "sentiment_output=%{x}<br>newspaper=ensustrece<br>year_week=2022w44<br>counts=%{y}<extra></extra>",
         "legendgroup": "NEG",
         "marker": {
          "color": "#458588",
          "pattern": {
           "shape": ""
          }
         },
         "name": "NEG",
         "offsetgroup": "NEG",
         "orientation": "v",
         "showlegend": false,
         "textposition": "auto",
         "type": "bar",
         "x": [
          "NEG"
         ],
         "xaxis": "x28",
         "y": [
          2
         ],
         "yaxis": "y28"
        },
        {
         "alignmentgroup": "True",
         "hovertemplate": "sentiment_output=%{x}<br>newspaper=ensustrece<br>year_week=2022w49<br>counts=%{y}<extra></extra>",
         "legendgroup": "NEG",
         "marker": {
          "color": "#458588",
          "pattern": {
           "shape": ""
          }
         },
         "name": "NEG",
         "offsetgroup": "NEG",
         "orientation": "v",
         "showlegend": false,
         "textposition": "auto",
         "type": "bar",
         "x": [
          "NEG"
         ],
         "xaxis": "x29",
         "y": [
          15
         ],
         "yaxis": "y29"
        },
        {
         "alignmentgroup": "True",
         "hovertemplate": "sentiment_output=%{x}<br>newspaper=ensustrece<br>year_week=2023w2<br>counts=%{y}<extra></extra>",
         "legendgroup": "NEG",
         "marker": {
          "color": "#458588",
          "pattern": {
           "shape": ""
          }
         },
         "name": "NEG",
         "offsetgroup": "NEG",
         "orientation": "v",
         "showlegend": false,
         "textposition": "auto",
         "type": "bar",
         "x": [
          "NEG"
         ],
         "xaxis": "x30",
         "y": [
          10
         ],
         "yaxis": "y30"
        },
        {
         "alignmentgroup": "True",
         "hovertemplate": "sentiment_output=%{x}<br>newspaper=larazon_pe<br>year_week=2022w33<br>counts=%{y}<extra></extra>",
         "legendgroup": "NEG",
         "marker": {
          "color": "#458588",
          "pattern": {
           "shape": ""
          }
         },
         "name": "NEG",
         "offsetgroup": "NEG",
         "orientation": "v",
         "showlegend": false,
         "textposition": "auto",
         "type": "bar",
         "x": [
          "NEG"
         ],
         "xaxis": "x19",
         "y": [
          26
         ],
         "yaxis": "y19"
        },
        {
         "alignmentgroup": "True",
         "hovertemplate": "sentiment_output=%{x}<br>newspaper=larazon_pe<br>year_week=2022w34<br>counts=%{y}<extra></extra>",
         "legendgroup": "NEG",
         "marker": {
          "color": "#458588",
          "pattern": {
           "shape": ""
          }
         },
         "name": "NEG",
         "offsetgroup": "NEG",
         "orientation": "v",
         "showlegend": false,
         "textposition": "auto",
         "type": "bar",
         "x": [
          "NEG"
         ],
         "xaxis": "x20",
         "y": [
          7
         ],
         "yaxis": "y20"
        },
        {
         "alignmentgroup": "True",
         "hovertemplate": "sentiment_output=%{x}<br>newspaper=larazon_pe<br>year_week=2022w39<br>counts=%{y}<extra></extra>",
         "legendgroup": "NEG",
         "marker": {
          "color": "#458588",
          "pattern": {
           "shape": ""
          }
         },
         "name": "NEG",
         "offsetgroup": "NEG",
         "orientation": "v",
         "showlegend": false,
         "textposition": "auto",
         "type": "bar",
         "x": [
          "NEG"
         ],
         "xaxis": "x21",
         "y": [
          13
         ],
         "yaxis": "y21"
        },
        {
         "alignmentgroup": "True",
         "hovertemplate": "sentiment_output=%{x}<br>newspaper=larazon_pe<br>year_week=2022w44<br>counts=%{y}<extra></extra>",
         "legendgroup": "NEG",
         "marker": {
          "color": "#458588",
          "pattern": {
           "shape": ""
          }
         },
         "name": "NEG",
         "offsetgroup": "NEG",
         "orientation": "v",
         "showlegend": false,
         "textposition": "auto",
         "type": "bar",
         "x": [
          "NEG"
         ],
         "xaxis": "x22",
         "y": [
          9
         ],
         "yaxis": "y22"
        },
        {
         "alignmentgroup": "True",
         "hovertemplate": "sentiment_output=%{x}<br>newspaper=larazon_pe<br>year_week=2022w49<br>counts=%{y}<extra></extra>",
         "legendgroup": "NEG",
         "marker": {
          "color": "#458588",
          "pattern": {
           "shape": ""
          }
         },
         "name": "NEG",
         "offsetgroup": "NEG",
         "orientation": "v",
         "showlegend": false,
         "textposition": "auto",
         "type": "bar",
         "x": [
          "NEG"
         ],
         "xaxis": "x23",
         "y": [
          11
         ],
         "yaxis": "y23"
        },
        {
         "alignmentgroup": "True",
         "hovertemplate": "sentiment_output=%{x}<br>newspaper=larazon_pe<br>year_week=2023w2<br>counts=%{y}<extra></extra>",
         "legendgroup": "NEG",
         "marker": {
          "color": "#458588",
          "pattern": {
           "shape": ""
          }
         },
         "name": "NEG",
         "offsetgroup": "NEG",
         "orientation": "v",
         "showlegend": false,
         "textposition": "auto",
         "type": "bar",
         "x": [
          "NEG"
         ],
         "xaxis": "x24",
         "y": [
          20
         ],
         "yaxis": "y24"
        },
        {
         "alignmentgroup": "True",
         "hovertemplate": "sentiment_output=%{x}<br>newspaper=larepublica_pe<br>year_week=2022w33<br>counts=%{y}<extra></extra>",
         "legendgroup": "NEG",
         "marker": {
          "color": "#458588",
          "pattern": {
           "shape": ""
          }
         },
         "name": "NEG",
         "offsetgroup": "NEG",
         "orientation": "v",
         "showlegend": false,
         "textposition": "auto",
         "type": "bar",
         "x": [
          "NEG"
         ],
         "xaxis": "x13",
         "y": [
          409
         ],
         "yaxis": "y13"
        },
        {
         "alignmentgroup": "True",
         "hovertemplate": "sentiment_output=%{x}<br>newspaper=larepublica_pe<br>year_week=2022w34<br>counts=%{y}<extra></extra>",
         "legendgroup": "NEG",
         "marker": {
          "color": "#458588",
          "pattern": {
           "shape": ""
          }
         },
         "name": "NEG",
         "offsetgroup": "NEG",
         "orientation": "v",
         "showlegend": false,
         "textposition": "auto",
         "type": "bar",
         "x": [
          "NEG"
         ],
         "xaxis": "x14",
         "y": [
          273
         ],
         "yaxis": "y14"
        },
        {
         "alignmentgroup": "True",
         "hovertemplate": "sentiment_output=%{x}<br>newspaper=larepublica_pe<br>year_week=2022w39<br>counts=%{y}<extra></extra>",
         "legendgroup": "NEG",
         "marker": {
          "color": "#458588",
          "pattern": {
           "shape": ""
          }
         },
         "name": "NEG",
         "offsetgroup": "NEG",
         "orientation": "v",
         "showlegend": false,
         "textposition": "auto",
         "type": "bar",
         "x": [
          "NEG"
         ],
         "xaxis": "x15",
         "y": [
          240
         ],
         "yaxis": "y15"
        },
        {
         "alignmentgroup": "True",
         "hovertemplate": "sentiment_output=%{x}<br>newspaper=larepublica_pe<br>year_week=2022w44<br>counts=%{y}<extra></extra>",
         "legendgroup": "NEG",
         "marker": {
          "color": "#458588",
          "pattern": {
           "shape": ""
          }
         },
         "name": "NEG",
         "offsetgroup": "NEG",
         "orientation": "v",
         "showlegend": false,
         "textposition": "auto",
         "type": "bar",
         "x": [
          "NEG"
         ],
         "xaxis": "x16",
         "y": [
          238
         ],
         "yaxis": "y16"
        },
        {
         "alignmentgroup": "True",
         "hovertemplate": "sentiment_output=%{x}<br>newspaper=larepublica_pe<br>year_week=2022w49<br>counts=%{y}<extra></extra>",
         "legendgroup": "NEG",
         "marker": {
          "color": "#458588",
          "pattern": {
           "shape": ""
          }
         },
         "name": "NEG",
         "offsetgroup": "NEG",
         "orientation": "v",
         "showlegend": false,
         "textposition": "auto",
         "type": "bar",
         "x": [
          "NEG"
         ],
         "xaxis": "x17",
         "y": [
          292
         ],
         "yaxis": "y17"
        },
        {
         "alignmentgroup": "True",
         "hovertemplate": "sentiment_output=%{x}<br>newspaper=larepublica_pe<br>year_week=2023w2<br>counts=%{y}<extra></extra>",
         "legendgroup": "NEG",
         "marker": {
          "color": "#458588",
          "pattern": {
           "shape": ""
          }
         },
         "name": "NEG",
         "offsetgroup": "NEG",
         "orientation": "v",
         "showlegend": false,
         "textposition": "auto",
         "type": "bar",
         "x": [
          "NEG"
         ],
         "xaxis": "x18",
         "y": [
          284
         ],
         "yaxis": "y18"
        },
        {
         "alignmentgroup": "True",
         "hovertemplate": "sentiment_output=%{x}<br>newspaper=peru21noticias<br>year_week=2022w33<br>counts=%{y}<extra></extra>",
         "legendgroup": "NEG",
         "marker": {
          "color": "#458588",
          "pattern": {
           "shape": ""
          }
         },
         "name": "NEG",
         "offsetgroup": "NEG",
         "orientation": "v",
         "showlegend": false,
         "textposition": "auto",
         "type": "bar",
         "x": [
          "NEG"
         ],
         "xaxis": "x7",
         "y": [
          384
         ],
         "yaxis": "y7"
        },
        {
         "alignmentgroup": "True",
         "hovertemplate": "sentiment_output=%{x}<br>newspaper=peru21noticias<br>year_week=2022w34<br>counts=%{y}<extra></extra>",
         "legendgroup": "NEG",
         "marker": {
          "color": "#458588",
          "pattern": {
           "shape": ""
          }
         },
         "name": "NEG",
         "offsetgroup": "NEG",
         "orientation": "v",
         "showlegend": false,
         "textposition": "auto",
         "type": "bar",
         "x": [
          "NEG"
         ],
         "xaxis": "x8",
         "y": [
          234
         ],
         "yaxis": "y8"
        },
        {
         "alignmentgroup": "True",
         "hovertemplate": "sentiment_output=%{x}<br>newspaper=peru21noticias<br>year_week=2022w39<br>counts=%{y}<extra></extra>",
         "legendgroup": "NEG",
         "marker": {
          "color": "#458588",
          "pattern": {
           "shape": ""
          }
         },
         "name": "NEG",
         "offsetgroup": "NEG",
         "orientation": "v",
         "showlegend": false,
         "textposition": "auto",
         "type": "bar",
         "x": [
          "NEG"
         ],
         "xaxis": "x9",
         "y": [
          280
         ],
         "yaxis": "y9"
        },
        {
         "alignmentgroup": "True",
         "hovertemplate": "sentiment_output=%{x}<br>newspaper=peru21noticias<br>year_week=2022w44<br>counts=%{y}<extra></extra>",
         "legendgroup": "NEG",
         "marker": {
          "color": "#458588",
          "pattern": {
           "shape": ""
          }
         },
         "name": "NEG",
         "offsetgroup": "NEG",
         "orientation": "v",
         "showlegend": false,
         "textposition": "auto",
         "type": "bar",
         "x": [
          "NEG"
         ],
         "xaxis": "x10",
         "y": [
          247
         ],
         "yaxis": "y10"
        },
        {
         "alignmentgroup": "True",
         "hovertemplate": "sentiment_output=%{x}<br>newspaper=peru21noticias<br>year_week=2022w49<br>counts=%{y}<extra></extra>",
         "legendgroup": "NEG",
         "marker": {
          "color": "#458588",
          "pattern": {
           "shape": ""
          }
         },
         "name": "NEG",
         "offsetgroup": "NEG",
         "orientation": "v",
         "showlegend": false,
         "textposition": "auto",
         "type": "bar",
         "x": [
          "NEG"
         ],
         "xaxis": "x11",
         "y": [
          352
         ],
         "yaxis": "y11"
        },
        {
         "alignmentgroup": "True",
         "hovertemplate": "sentiment_output=%{x}<br>newspaper=peru21noticias<br>year_week=2023w2<br>counts=%{y}<extra></extra>",
         "legendgroup": "NEG",
         "marker": {
          "color": "#458588",
          "pattern": {
           "shape": ""
          }
         },
         "name": "NEG",
         "offsetgroup": "NEG",
         "orientation": "v",
         "showlegend": false,
         "textposition": "auto",
         "type": "bar",
         "x": [
          "NEG"
         ],
         "xaxis": "x12",
         "y": [
          182
         ],
         "yaxis": "y12"
        },
        {
         "alignmentgroup": "True",
         "hovertemplate": "sentiment_output=%{x}<br>newspaper=tromepe<br>year_week=2022w33<br>counts=%{y}<extra></extra>",
         "legendgroup": "NEG",
         "marker": {
          "color": "#458588",
          "pattern": {
           "shape": ""
          }
         },
         "name": "NEG",
         "offsetgroup": "NEG",
         "orientation": "v",
         "showlegend": false,
         "textposition": "auto",
         "type": "bar",
         "x": [
          "NEG"
         ],
         "xaxis": "x",
         "y": [
          342
         ],
         "yaxis": "y"
        },
        {
         "alignmentgroup": "True",
         "hovertemplate": "sentiment_output=%{x}<br>newspaper=tromepe<br>year_week=2022w34<br>counts=%{y}<extra></extra>",
         "legendgroup": "NEG",
         "marker": {
          "color": "#458588",
          "pattern": {
           "shape": ""
          }
         },
         "name": "NEG",
         "offsetgroup": "NEG",
         "orientation": "v",
         "showlegend": false,
         "textposition": "auto",
         "type": "bar",
         "x": [
          "NEG"
         ],
         "xaxis": "x2",
         "y": [
          194
         ],
         "yaxis": "y2"
        },
        {
         "alignmentgroup": "True",
         "hovertemplate": "sentiment_output=%{x}<br>newspaper=tromepe<br>year_week=2022w39<br>counts=%{y}<extra></extra>",
         "legendgroup": "NEG",
         "marker": {
          "color": "#458588",
          "pattern": {
           "shape": ""
          }
         },
         "name": "NEG",
         "offsetgroup": "NEG",
         "orientation": "v",
         "showlegend": false,
         "textposition": "auto",
         "type": "bar",
         "x": [
          "NEG"
         ],
         "xaxis": "x3",
         "y": [
          284
         ],
         "yaxis": "y3"
        },
        {
         "alignmentgroup": "True",
         "hovertemplate": "sentiment_output=%{x}<br>newspaper=tromepe<br>year_week=2022w44<br>counts=%{y}<extra></extra>",
         "legendgroup": "NEG",
         "marker": {
          "color": "#458588",
          "pattern": {
           "shape": ""
          }
         },
         "name": "NEG",
         "offsetgroup": "NEG",
         "orientation": "v",
         "showlegend": false,
         "textposition": "auto",
         "type": "bar",
         "x": [
          "NEG"
         ],
         "xaxis": "x4",
         "y": [
          237
         ],
         "yaxis": "y4"
        },
        {
         "alignmentgroup": "True",
         "hovertemplate": "sentiment_output=%{x}<br>newspaper=tromepe<br>year_week=2022w49<br>counts=%{y}<extra></extra>",
         "legendgroup": "NEG",
         "marker": {
          "color": "#458588",
          "pattern": {
           "shape": ""
          }
         },
         "name": "NEG",
         "offsetgroup": "NEG",
         "orientation": "v",
         "showlegend": false,
         "textposition": "auto",
         "type": "bar",
         "x": [
          "NEG"
         ],
         "xaxis": "x5",
         "y": [
          325
         ],
         "yaxis": "y5"
        },
        {
         "alignmentgroup": "True",
         "hovertemplate": "sentiment_output=%{x}<br>newspaper=tromepe<br>year_week=2023w2<br>counts=%{y}<extra></extra>",
         "legendgroup": "NEG",
         "marker": {
          "color": "#458588",
          "pattern": {
           "shape": ""
          }
         },
         "name": "NEG",
         "offsetgroup": "NEG",
         "orientation": "v",
         "showlegend": false,
         "textposition": "auto",
         "type": "bar",
         "x": [
          "NEG"
         ],
         "xaxis": "x6",
         "y": [
          192
         ],
         "yaxis": "y6"
        }
       ],
       "layout": {
        "annotations": [
         {
          "font": {},
          "showarrow": false,
          "text": "2022w33",
          "x": 0.07333333333333333,
          "xanchor": "center",
          "xref": "paper",
          "y": 0.9999999999999999,
          "yanchor": "bottom",
          "yref": "paper"
         },
         {
          "font": {},
          "showarrow": false,
          "text": "2022w34",
          "x": 0.24,
          "xanchor": "center",
          "xref": "paper",
          "y": 0.9999999999999999,
          "yanchor": "bottom",
          "yref": "paper"
         },
         {
          "font": {},
          "showarrow": false,
          "text": "2022w39",
          "x": 0.4066666666666666,
          "xanchor": "center",
          "xref": "paper",
          "y": 0.9999999999999999,
          "yanchor": "bottom",
          "yref": "paper"
         },
         {
          "font": {},
          "showarrow": false,
          "text": "2022w44",
          "x": 0.5733333333333334,
          "xanchor": "center",
          "xref": "paper",
          "y": 0.9999999999999999,
          "yanchor": "bottom",
          "yref": "paper"
         },
         {
          "font": {},
          "showarrow": false,
          "text": "2022w49",
          "x": 0.74,
          "xanchor": "center",
          "xref": "paper",
          "y": 0.9999999999999999,
          "yanchor": "bottom",
          "yref": "paper"
         },
         {
          "font": {},
          "showarrow": false,
          "text": "2023w2",
          "x": 0.9066666666666667,
          "xanchor": "center",
          "xref": "paper",
          "y": 0.9999999999999999,
          "yanchor": "bottom",
          "yref": "paper"
         },
         {
          "font": {},
          "showarrow": false,
          "text": "tromepe",
          "textangle": 90,
          "x": 0.98,
          "xanchor": "left",
          "xref": "paper",
          "y": 0.027916666666666666,
          "yanchor": "middle",
          "yref": "paper"
         },
         {
          "font": {},
          "showarrow": false,
          "text": "peru21noticias",
          "textangle": 90,
          "x": 0.98,
          "xanchor": "left",
          "xref": "paper",
          "y": 0.11374999999999999,
          "yanchor": "middle",
          "yref": "paper"
         },
         {
          "font": {},
          "showarrow": false,
          "text": "larepublica_pe",
          "textangle": 90,
          "x": 0.98,
          "xanchor": "left",
          "xref": "paper",
          "y": 0.19958333333333333,
          "yanchor": "middle",
          "yref": "paper"
         },
         {
          "font": {},
          "showarrow": false,
          "text": "larazon_pe",
          "textangle": 90,
          "x": 0.98,
          "xanchor": "left",
          "xref": "paper",
          "y": 0.28541666666666665,
          "yanchor": "middle",
          "yref": "paper"
         },
         {
          "font": {},
          "showarrow": false,
          "text": "ensustrece",
          "textangle": 90,
          "x": 0.98,
          "xanchor": "left",
          "xref": "paper",
          "y": 0.37124999999999997,
          "yanchor": "middle",
          "yref": "paper"
         },
         {
          "font": {},
          "showarrow": false,
          "text": "elcomercio_peru",
          "textangle": 90,
          "x": 0.98,
          "xanchor": "left",
          "xref": "paper",
          "y": 0.4570833333333334,
          "yanchor": "middle",
          "yref": "paper"
         },
         {
          "font": {},
          "showarrow": false,
          "text": "elbuho_pe",
          "textangle": 90,
          "x": 0.98,
          "xanchor": "left",
          "xref": "paper",
          "y": 0.5429166666666667,
          "yanchor": "middle",
          "yref": "paper"
         },
         {
          "font": {},
          "showarrow": false,
          "text": "diarioojo",
          "textangle": 90,
          "x": 0.98,
          "xanchor": "left",
          "xref": "paper",
          "y": 0.6287499999999999,
          "yanchor": "middle",
          "yref": "paper"
         },
         {
          "font": {},
          "showarrow": false,
          "text": "diariocorreo",
          "textangle": 90,
          "x": 0.98,
          "xanchor": "left",
          "xref": "paper",
          "y": 0.7145833333333333,
          "yanchor": "middle",
          "yref": "paper"
         },
         {
          "font": {},
          "showarrow": false,
          "text": "Gestionpe",
          "textangle": 90,
          "x": 0.98,
          "xanchor": "left",
          "xref": "paper",
          "y": 0.8004166666666668,
          "yanchor": "middle",
          "yref": "paper"
         },
         {
          "font": {},
          "showarrow": false,
          "text": "ExpresoPeru",
          "textangle": 90,
          "x": 0.98,
          "xanchor": "left",
          "xref": "paper",
          "y": 0.88625,
          "yanchor": "middle",
          "yref": "paper"
         },
         {
          "font": {},
          "showarrow": false,
          "text": "DiarioElPeruano",
          "textangle": 90,
          "x": 0.98,
          "xanchor": "left",
          "xref": "paper",
          "y": 0.9720833333333332,
          "yanchor": "middle",
          "yref": "paper"
         }
        ],
        "barmode": "relative",
        "height": 2100,
        "legend": {
         "title": {
          "text": "sentiment_output"
         },
         "tracegroupgap": 0
        },
        "template": {
         "data": {
          "bar": [
           {
            "error_x": {
             "color": "#2a3f5f"
            },
            "error_y": {
             "color": "#2a3f5f"
            },
            "marker": {
             "line": {
              "color": "white",
              "width": 0.5
             },
             "pattern": {
              "fillmode": "overlay",
              "size": 10,
              "solidity": 0.2
             }
            },
            "type": "bar"
           }
          ],
          "barpolar": [
           {
            "marker": {
             "line": {
              "color": "white",
              "width": 0.5
             },
             "pattern": {
              "fillmode": "overlay",
              "size": 10,
              "solidity": 0.2
             }
            },
            "type": "barpolar"
           }
          ],
          "carpet": [
           {
            "aaxis": {
             "endlinecolor": "#2a3f5f",
             "gridcolor": "#C8D4E3",
             "linecolor": "#C8D4E3",
             "minorgridcolor": "#C8D4E3",
             "startlinecolor": "#2a3f5f"
            },
            "baxis": {
             "endlinecolor": "#2a3f5f",
             "gridcolor": "#C8D4E3",
             "linecolor": "#C8D4E3",
             "minorgridcolor": "#C8D4E3",
             "startlinecolor": "#2a3f5f"
            },
            "type": "carpet"
           }
          ],
          "choropleth": [
           {
            "colorbar": {
             "outlinewidth": 0,
             "ticks": ""
            },
            "type": "choropleth"
           }
          ],
          "contour": [
           {
            "colorbar": {
             "outlinewidth": 0,
             "ticks": ""
            },
            "colorscale": [
             [
              0,
              "#0d0887"
             ],
             [
              0.1111111111111111,
              "#46039f"
             ],
             [
              0.2222222222222222,
              "#7201a8"
             ],
             [
              0.3333333333333333,
              "#9c179e"
             ],
             [
              0.4444444444444444,
              "#bd3786"
             ],
             [
              0.5555555555555556,
              "#d8576b"
             ],
             [
              0.6666666666666666,
              "#ed7953"
             ],
             [
              0.7777777777777778,
              "#fb9f3a"
             ],
             [
              0.8888888888888888,
              "#fdca26"
             ],
             [
              1,
              "#f0f921"
             ]
            ],
            "type": "contour"
           }
          ],
          "contourcarpet": [
           {
            "colorbar": {
             "outlinewidth": 0,
             "ticks": ""
            },
            "type": "contourcarpet"
           }
          ],
          "heatmap": [
           {
            "colorbar": {
             "outlinewidth": 0,
             "ticks": ""
            },
            "colorscale": [
             [
              0,
              "#0d0887"
             ],
             [
              0.1111111111111111,
              "#46039f"
             ],
             [
              0.2222222222222222,
              "#7201a8"
             ],
             [
              0.3333333333333333,
              "#9c179e"
             ],
             [
              0.4444444444444444,
              "#bd3786"
             ],
             [
              0.5555555555555556,
              "#d8576b"
             ],
             [
              0.6666666666666666,
              "#ed7953"
             ],
             [
              0.7777777777777778,
              "#fb9f3a"
             ],
             [
              0.8888888888888888,
              "#fdca26"
             ],
             [
              1,
              "#f0f921"
             ]
            ],
            "type": "heatmap"
           }
          ],
          "heatmapgl": [
           {
            "colorbar": {
             "outlinewidth": 0,
             "ticks": ""
            },
            "colorscale": [
             [
              0,
              "#0d0887"
             ],
             [
              0.1111111111111111,
              "#46039f"
             ],
             [
              0.2222222222222222,
              "#7201a8"
             ],
             [
              0.3333333333333333,
              "#9c179e"
             ],
             [
              0.4444444444444444,
              "#bd3786"
             ],
             [
              0.5555555555555556,
              "#d8576b"
             ],
             [
              0.6666666666666666,
              "#ed7953"
             ],
             [
              0.7777777777777778,
              "#fb9f3a"
             ],
             [
              0.8888888888888888,
              "#fdca26"
             ],
             [
              1,
              "#f0f921"
             ]
            ],
            "type": "heatmapgl"
           }
          ],
          "histogram": [
           {
            "marker": {
             "pattern": {
              "fillmode": "overlay",
              "size": 10,
              "solidity": 0.2
             }
            },
            "type": "histogram"
           }
          ],
          "histogram2d": [
           {
            "colorbar": {
             "outlinewidth": 0,
             "ticks": ""
            },
            "colorscale": [
             [
              0,
              "#0d0887"
             ],
             [
              0.1111111111111111,
              "#46039f"
             ],
             [
              0.2222222222222222,
              "#7201a8"
             ],
             [
              0.3333333333333333,
              "#9c179e"
             ],
             [
              0.4444444444444444,
              "#bd3786"
             ],
             [
              0.5555555555555556,
              "#d8576b"
             ],
             [
              0.6666666666666666,
              "#ed7953"
             ],
             [
              0.7777777777777778,
              "#fb9f3a"
             ],
             [
              0.8888888888888888,
              "#fdca26"
             ],
             [
              1,
              "#f0f921"
             ]
            ],
            "type": "histogram2d"
           }
          ],
          "histogram2dcontour": [
           {
            "colorbar": {
             "outlinewidth": 0,
             "ticks": ""
            },
            "colorscale": [
             [
              0,
              "#0d0887"
             ],
             [
              0.1111111111111111,
              "#46039f"
             ],
             [
              0.2222222222222222,
              "#7201a8"
             ],
             [
              0.3333333333333333,
              "#9c179e"
             ],
             [
              0.4444444444444444,
              "#bd3786"
             ],
             [
              0.5555555555555556,
              "#d8576b"
             ],
             [
              0.6666666666666666,
              "#ed7953"
             ],
             [
              0.7777777777777778,
              "#fb9f3a"
             ],
             [
              0.8888888888888888,
              "#fdca26"
             ],
             [
              1,
              "#f0f921"
             ]
            ],
            "type": "histogram2dcontour"
           }
          ],
          "mesh3d": [
           {
            "colorbar": {
             "outlinewidth": 0,
             "ticks": ""
            },
            "type": "mesh3d"
           }
          ],
          "parcoords": [
           {
            "line": {
             "colorbar": {
              "outlinewidth": 0,
              "ticks": ""
             }
            },
            "type": "parcoords"
           }
          ],
          "pie": [
           {
            "automargin": true,
            "type": "pie"
           }
          ],
          "scatter": [
           {
            "fillpattern": {
             "fillmode": "overlay",
             "size": 10,
             "solidity": 0.2
            },
            "type": "scatter"
           }
          ],
          "scatter3d": [
           {
            "line": {
             "colorbar": {
              "outlinewidth": 0,
              "ticks": ""
             }
            },
            "marker": {
             "colorbar": {
              "outlinewidth": 0,
              "ticks": ""
             }
            },
            "type": "scatter3d"
           }
          ],
          "scattercarpet": [
           {
            "marker": {
             "colorbar": {
              "outlinewidth": 0,
              "ticks": ""
             }
            },
            "type": "scattercarpet"
           }
          ],
          "scattergeo": [
           {
            "marker": {
             "colorbar": {
              "outlinewidth": 0,
              "ticks": ""
             }
            },
            "type": "scattergeo"
           }
          ],
          "scattergl": [
           {
            "marker": {
             "colorbar": {
              "outlinewidth": 0,
              "ticks": ""
             }
            },
            "type": "scattergl"
           }
          ],
          "scattermapbox": [
           {
            "marker": {
             "colorbar": {
              "outlinewidth": 0,
              "ticks": ""
             }
            },
            "type": "scattermapbox"
           }
          ],
          "scatterpolar": [
           {
            "marker": {
             "colorbar": {
              "outlinewidth": 0,
              "ticks": ""
             }
            },
            "type": "scatterpolar"
           }
          ],
          "scatterpolargl": [
           {
            "marker": {
             "colorbar": {
              "outlinewidth": 0,
              "ticks": ""
             }
            },
            "type": "scatterpolargl"
           }
          ],
          "scatterternary": [
           {
            "marker": {
             "colorbar": {
              "outlinewidth": 0,
              "ticks": ""
             }
            },
            "type": "scatterternary"
           }
          ],
          "surface": [
           {
            "colorbar": {
             "outlinewidth": 0,
             "ticks": ""
            },
            "colorscale": [
             [
              0,
              "#0d0887"
             ],
             [
              0.1111111111111111,
              "#46039f"
             ],
             [
              0.2222222222222222,
              "#7201a8"
             ],
             [
              0.3333333333333333,
              "#9c179e"
             ],
             [
              0.4444444444444444,
              "#bd3786"
             ],
             [
              0.5555555555555556,
              "#d8576b"
             ],
             [
              0.6666666666666666,
              "#ed7953"
             ],
             [
              0.7777777777777778,
              "#fb9f3a"
             ],
             [
              0.8888888888888888,
              "#fdca26"
             ],
             [
              1,
              "#f0f921"
             ]
            ],
            "type": "surface"
           }
          ],
          "table": [
           {
            "cells": {
             "fill": {
              "color": "#EBF0F8"
             },
             "line": {
              "color": "white"
             }
            },
            "header": {
             "fill": {
              "color": "#C8D4E3"
             },
             "line": {
              "color": "white"
             }
            },
            "type": "table"
           }
          ]
         },
         "layout": {
          "annotationdefaults": {
           "arrowcolor": "#2a3f5f",
           "arrowhead": 0,
           "arrowwidth": 1
          },
          "autotypenumbers": "strict",
          "coloraxis": {
           "colorbar": {
            "outlinewidth": 0,
            "ticks": ""
           }
          },
          "colorscale": {
           "diverging": [
            [
             0,
             "#8e0152"
            ],
            [
             0.1,
             "#c51b7d"
            ],
            [
             0.2,
             "#de77ae"
            ],
            [
             0.3,
             "#f1b6da"
            ],
            [
             0.4,
             "#fde0ef"
            ],
            [
             0.5,
             "#f7f7f7"
            ],
            [
             0.6,
             "#e6f5d0"
            ],
            [
             0.7,
             "#b8e186"
            ],
            [
             0.8,
             "#7fbc41"
            ],
            [
             0.9,
             "#4d9221"
            ],
            [
             1,
             "#276419"
            ]
           ],
           "sequential": [
            [
             0,
             "#0d0887"
            ],
            [
             0.1111111111111111,
             "#46039f"
            ],
            [
             0.2222222222222222,
             "#7201a8"
            ],
            [
             0.3333333333333333,
             "#9c179e"
            ],
            [
             0.4444444444444444,
             "#bd3786"
            ],
            [
             0.5555555555555556,
             "#d8576b"
            ],
            [
             0.6666666666666666,
             "#ed7953"
            ],
            [
             0.7777777777777778,
             "#fb9f3a"
            ],
            [
             0.8888888888888888,
             "#fdca26"
            ],
            [
             1,
             "#f0f921"
            ]
           ],
           "sequentialminus": [
            [
             0,
             "#0d0887"
            ],
            [
             0.1111111111111111,
             "#46039f"
            ],
            [
             0.2222222222222222,
             "#7201a8"
            ],
            [
             0.3333333333333333,
             "#9c179e"
            ],
            [
             0.4444444444444444,
             "#bd3786"
            ],
            [
             0.5555555555555556,
             "#d8576b"
            ],
            [
             0.6666666666666666,
             "#ed7953"
            ],
            [
             0.7777777777777778,
             "#fb9f3a"
            ],
            [
             0.8888888888888888,
             "#fdca26"
            ],
            [
             1,
             "#f0f921"
            ]
           ]
          },
          "colorway": [
           "#636efa",
           "#EF553B",
           "#00cc96",
           "#ab63fa",
           "#FFA15A",
           "#19d3f3",
           "#FF6692",
           "#B6E880",
           "#FF97FF",
           "#FECB52"
          ],
          "font": {
           "color": "#2a3f5f"
          },
          "geo": {
           "bgcolor": "white",
           "lakecolor": "white",
           "landcolor": "white",
           "showlakes": true,
           "showland": true,
           "subunitcolor": "#C8D4E3"
          },
          "hoverlabel": {
           "align": "left"
          },
          "hovermode": "closest",
          "mapbox": {
           "style": "light"
          },
          "paper_bgcolor": "white",
          "plot_bgcolor": "white",
          "polar": {
           "angularaxis": {
            "gridcolor": "#EBF0F8",
            "linecolor": "#EBF0F8",
            "ticks": ""
           },
           "bgcolor": "white",
           "radialaxis": {
            "gridcolor": "#EBF0F8",
            "linecolor": "#EBF0F8",
            "ticks": ""
           }
          },
          "scene": {
           "xaxis": {
            "backgroundcolor": "white",
            "gridcolor": "#DFE8F3",
            "gridwidth": 2,
            "linecolor": "#EBF0F8",
            "showbackground": true,
            "ticks": "",
            "zerolinecolor": "#EBF0F8"
           },
           "yaxis": {
            "backgroundcolor": "white",
            "gridcolor": "#DFE8F3",
            "gridwidth": 2,
            "linecolor": "#EBF0F8",
            "showbackground": true,
            "ticks": "",
            "zerolinecolor": "#EBF0F8"
           },
           "zaxis": {
            "backgroundcolor": "white",
            "gridcolor": "#DFE8F3",
            "gridwidth": 2,
            "linecolor": "#EBF0F8",
            "showbackground": true,
            "ticks": "",
            "zerolinecolor": "#EBF0F8"
           }
          },
          "shapedefaults": {
           "line": {
            "color": "#2a3f5f"
           }
          },
          "ternary": {
           "aaxis": {
            "gridcolor": "#DFE8F3",
            "linecolor": "#A2B1C6",
            "ticks": ""
           },
           "baxis": {
            "gridcolor": "#DFE8F3",
            "linecolor": "#A2B1C6",
            "ticks": ""
           },
           "bgcolor": "white",
           "caxis": {
            "gridcolor": "#DFE8F3",
            "linecolor": "#A2B1C6",
            "ticks": ""
           }
          },
          "title": {
           "x": 0.05
          },
          "xaxis": {
           "automargin": true,
           "gridcolor": "#EBF0F8",
           "linecolor": "#EBF0F8",
           "ticks": "",
           "title": {
            "standoff": 15
           },
           "zerolinecolor": "#EBF0F8",
           "zerolinewidth": 2
          },
          "yaxis": {
           "automargin": true,
           "gridcolor": "#EBF0F8",
           "linecolor": "#EBF0F8",
           "ticks": "",
           "title": {
            "standoff": 15
           },
           "zerolinecolor": "#EBF0F8",
           "zerolinewidth": 2
          }
         }
        },
        "title": {
         "text": "Sentiment per newspaper"
        },
        "width": 1600,
        "xaxis": {
         "anchor": "y",
         "categoryarray": [
          "NEU",
          "POS",
          "NEG"
         ],
         "categoryorder": "array",
         "domain": [
          0,
          0.14666666666666667
         ],
         "showticklabels": true,
         "title": {
          "text": "sentiment_output"
         }
        },
        "xaxis10": {
         "anchor": "y10",
         "domain": [
          0.5,
          0.6466666666666667
         ],
         "showticklabels": true
        },
        "xaxis11": {
         "anchor": "y11",
         "domain": [
          0.6666666666666666,
          0.8133333333333332
         ],
         "showticklabels": true
        },
        "xaxis12": {
         "anchor": "y12",
         "domain": [
          0.8333333333333334,
          0.98
         ],
         "showticklabels": true
        },
        "xaxis13": {
         "anchor": "y13",
         "domain": [
          0,
          0.14666666666666667
         ],
         "showticklabels": true
        },
        "xaxis14": {
         "anchor": "y14",
         "domain": [
          0.16666666666666666,
          0.31333333333333335
         ],
         "showticklabels": true
        },
        "xaxis15": {
         "anchor": "y15",
         "domain": [
          0.3333333333333333,
          0.48
         ],
         "showticklabels": true
        },
        "xaxis16": {
         "anchor": "y16",
         "domain": [
          0.5,
          0.6466666666666667
         ],
         "showticklabels": true
        },
        "xaxis17": {
         "anchor": "y17",
         "domain": [
          0.6666666666666666,
          0.8133333333333332
         ],
         "showticklabels": true
        },
        "xaxis18": {
         "anchor": "y18",
         "domain": [
          0.8333333333333334,
          0.98
         ],
         "showticklabels": true
        },
        "xaxis19": {
         "anchor": "y19",
         "domain": [
          0,
          0.14666666666666667
         ],
         "showticklabels": true
        },
        "xaxis2": {
         "anchor": "y2",
         "categoryarray": [
          "NEU",
          "POS",
          "NEG"
         ],
         "categoryorder": "array",
         "domain": [
          0.16666666666666666,
          0.31333333333333335
         ],
         "showticklabels": true,
         "title": {
          "text": "sentiment_output"
         }
        },
        "xaxis20": {
         "anchor": "y20",
         "domain": [
          0.16666666666666666,
          0.31333333333333335
         ],
         "showticklabels": true
        },
        "xaxis21": {
         "anchor": "y21",
         "domain": [
          0.3333333333333333,
          0.48
         ],
         "showticklabels": true
        },
        "xaxis22": {
         "anchor": "y22",
         "domain": [
          0.5,
          0.6466666666666667
         ],
         "showticklabels": true
        },
        "xaxis23": {
         "anchor": "y23",
         "domain": [
          0.6666666666666666,
          0.8133333333333332
         ],
         "showticklabels": true
        },
        "xaxis24": {
         "anchor": "y24",
         "domain": [
          0.8333333333333334,
          0.98
         ],
         "showticklabels": true
        },
        "xaxis25": {
         "anchor": "y25",
         "domain": [
          0,
          0.14666666666666667
         ],
         "showticklabels": true
        },
        "xaxis26": {
         "anchor": "y26",
         "domain": [
          0.16666666666666666,
          0.31333333333333335
         ],
         "showticklabels": true
        },
        "xaxis27": {
         "anchor": "y27",
         "domain": [
          0.3333333333333333,
          0.48
         ],
         "showticklabels": true
        },
        "xaxis28": {
         "anchor": "y28",
         "domain": [
          0.5,
          0.6466666666666667
         ],
         "showticklabels": true
        },
        "xaxis29": {
         "anchor": "y29",
         "domain": [
          0.6666666666666666,
          0.8133333333333332
         ],
         "showticklabels": true
        },
        "xaxis3": {
         "anchor": "y3",
         "categoryarray": [
          "NEU",
          "POS",
          "NEG"
         ],
         "categoryorder": "array",
         "domain": [
          0.3333333333333333,
          0.48
         ],
         "showticklabels": true,
         "title": {
          "text": "sentiment_output"
         }
        },
        "xaxis30": {
         "anchor": "y30",
         "domain": [
          0.8333333333333334,
          0.98
         ],
         "showticklabels": true
        },
        "xaxis31": {
         "anchor": "y31",
         "domain": [
          0,
          0.14666666666666667
         ],
         "showticklabels": true
        },
        "xaxis32": {
         "anchor": "y32",
         "domain": [
          0.16666666666666666,
          0.31333333333333335
         ],
         "showticklabels": true
        },
        "xaxis33": {
         "anchor": "y33",
         "domain": [
          0.3333333333333333,
          0.48
         ],
         "showticklabels": true
        },
        "xaxis34": {
         "anchor": "y34",
         "domain": [
          0.5,
          0.6466666666666667
         ],
         "showticklabels": true
        },
        "xaxis35": {
         "anchor": "y35",
         "domain": [
          0.6666666666666666,
          0.8133333333333332
         ],
         "showticklabels": true
        },
        "xaxis36": {
         "anchor": "y36",
         "domain": [
          0.8333333333333334,
          0.98
         ],
         "showticklabels": true
        },
        "xaxis37": {
         "anchor": "y37",
         "domain": [
          0,
          0.14666666666666667
         ],
         "showticklabels": true
        },
        "xaxis38": {
         "anchor": "y38",
         "domain": [
          0.16666666666666666,
          0.31333333333333335
         ],
         "showticklabels": true
        },
        "xaxis39": {
         "anchor": "y39",
         "domain": [
          0.3333333333333333,
          0.48
         ],
         "showticklabels": true
        },
        "xaxis4": {
         "anchor": "y4",
         "categoryarray": [
          "NEU",
          "POS",
          "NEG"
         ],
         "categoryorder": "array",
         "domain": [
          0.5,
          0.6466666666666667
         ],
         "showticklabels": true,
         "title": {
          "text": "sentiment_output"
         }
        },
        "xaxis40": {
         "anchor": "y40",
         "domain": [
          0.5,
          0.6466666666666667
         ],
         "showticklabels": true
        },
        "xaxis41": {
         "anchor": "y41",
         "domain": [
          0.6666666666666666,
          0.8133333333333332
         ],
         "showticklabels": true
        },
        "xaxis42": {
         "anchor": "y42",
         "domain": [
          0.8333333333333334,
          0.98
         ],
         "showticklabels": true
        },
        "xaxis43": {
         "anchor": "y43",
         "domain": [
          0,
          0.14666666666666667
         ],
         "showticklabels": true
        },
        "xaxis44": {
         "anchor": "y44",
         "domain": [
          0.16666666666666666,
          0.31333333333333335
         ],
         "showticklabels": true
        },
        "xaxis45": {
         "anchor": "y45",
         "domain": [
          0.3333333333333333,
          0.48
         ],
         "showticklabels": true
        },
        "xaxis46": {
         "anchor": "y46",
         "domain": [
          0.5,
          0.6466666666666667
         ],
         "showticklabels": true
        },
        "xaxis47": {
         "anchor": "y47",
         "domain": [
          0.6666666666666666,
          0.8133333333333332
         ],
         "showticklabels": true
        },
        "xaxis48": {
         "anchor": "y48",
         "domain": [
          0.8333333333333334,
          0.98
         ],
         "showticklabels": true
        },
        "xaxis49": {
         "anchor": "y49",
         "domain": [
          0,
          0.14666666666666667
         ],
         "showticklabels": true
        },
        "xaxis5": {
         "anchor": "y5",
         "categoryarray": [
          "NEU",
          "POS",
          "NEG"
         ],
         "categoryorder": "array",
         "domain": [
          0.6666666666666666,
          0.8133333333333332
         ],
         "showticklabels": true,
         "title": {
          "text": "sentiment_output"
         }
        },
        "xaxis50": {
         "anchor": "y50",
         "domain": [
          0.16666666666666666,
          0.31333333333333335
         ],
         "showticklabels": true
        },
        "xaxis51": {
         "anchor": "y51",
         "domain": [
          0.3333333333333333,
          0.48
         ],
         "showticklabels": true
        },
        "xaxis52": {
         "anchor": "y52",
         "domain": [
          0.5,
          0.6466666666666667
         ],
         "showticklabels": true
        },
        "xaxis53": {
         "anchor": "y53",
         "domain": [
          0.6666666666666666,
          0.8133333333333332
         ],
         "showticklabels": true
        },
        "xaxis54": {
         "anchor": "y54",
         "domain": [
          0.8333333333333334,
          0.98
         ],
         "showticklabels": true
        },
        "xaxis55": {
         "anchor": "y55",
         "domain": [
          0,
          0.14666666666666667
         ],
         "showticklabels": true
        },
        "xaxis56": {
         "anchor": "y56",
         "domain": [
          0.16666666666666666,
          0.31333333333333335
         ],
         "showticklabels": true
        },
        "xaxis57": {
         "anchor": "y57",
         "domain": [
          0.3333333333333333,
          0.48
         ],
         "showticklabels": true
        },
        "xaxis58": {
         "anchor": "y58",
         "domain": [
          0.5,
          0.6466666666666667
         ],
         "showticklabels": true
        },
        "xaxis59": {
         "anchor": "y59",
         "domain": [
          0.6666666666666666,
          0.8133333333333332
         ],
         "showticklabels": true
        },
        "xaxis6": {
         "anchor": "y6",
         "categoryarray": [
          "NEU",
          "POS",
          "NEG"
         ],
         "categoryorder": "array",
         "domain": [
          0.8333333333333334,
          0.98
         ],
         "showticklabels": true,
         "title": {
          "text": "sentiment_output"
         }
        },
        "xaxis60": {
         "anchor": "y60",
         "domain": [
          0.8333333333333334,
          0.98
         ],
         "showticklabels": true
        },
        "xaxis61": {
         "anchor": "y61",
         "domain": [
          0,
          0.14666666666666667
         ],
         "showticklabels": true
        },
        "xaxis62": {
         "anchor": "y62",
         "domain": [
          0.16666666666666666,
          0.31333333333333335
         ],
         "showticklabels": true
        },
        "xaxis63": {
         "anchor": "y63",
         "domain": [
          0.3333333333333333,
          0.48
         ],
         "showticklabels": true
        },
        "xaxis64": {
         "anchor": "y64",
         "domain": [
          0.5,
          0.6466666666666667
         ],
         "showticklabels": true
        },
        "xaxis65": {
         "anchor": "y65",
         "domain": [
          0.6666666666666666,
          0.8133333333333332
         ],
         "showticklabels": true
        },
        "xaxis66": {
         "anchor": "y66",
         "domain": [
          0.8333333333333334,
          0.98
         ],
         "showticklabels": true
        },
        "xaxis67": {
         "anchor": "y67",
         "domain": [
          0,
          0.14666666666666667
         ],
         "showticklabels": true
        },
        "xaxis68": {
         "anchor": "y68",
         "domain": [
          0.16666666666666666,
          0.31333333333333335
         ],
         "showticklabels": true
        },
        "xaxis69": {
         "anchor": "y69",
         "domain": [
          0.3333333333333333,
          0.48
         ],
         "showticklabels": true
        },
        "xaxis7": {
         "anchor": "y7",
         "domain": [
          0,
          0.14666666666666667
         ],
         "showticklabels": true
        },
        "xaxis70": {
         "anchor": "y70",
         "domain": [
          0.5,
          0.6466666666666667
         ],
         "showticklabels": true
        },
        "xaxis71": {
         "anchor": "y71",
         "domain": [
          0.6666666666666666,
          0.8133333333333332
         ],
         "showticklabels": true
        },
        "xaxis72": {
         "anchor": "y72",
         "domain": [
          0.8333333333333334,
          0.98
         ],
         "showticklabels": true
        },
        "xaxis8": {
         "anchor": "y8",
         "domain": [
          0.16666666666666666,
          0.31333333333333335
         ],
         "showticklabels": true
        },
        "xaxis9": {
         "anchor": "y9",
         "domain": [
          0.3333333333333333,
          0.48
         ],
         "showticklabels": true
        },
        "yaxis": {
         "anchor": "x",
         "domain": [
          0,
          0.05583333333333333
         ],
         "showticklabels": true,
         "title": {
          "text": "counts"
         }
        },
        "yaxis10": {
         "anchor": "x10",
         "domain": [
          0.08583333333333333,
          0.14166666666666666
         ],
         "showticklabels": true
        },
        "yaxis11": {
         "anchor": "x11",
         "domain": [
          0.08583333333333333,
          0.14166666666666666
         ],
         "showticklabels": true
        },
        "yaxis12": {
         "anchor": "x12",
         "domain": [
          0.08583333333333333,
          0.14166666666666666
         ],
         "showticklabels": true
        },
        "yaxis13": {
         "anchor": "x13",
         "domain": [
          0.17166666666666666,
          0.22749999999999998
         ],
         "showticklabels": true,
         "title": {
          "text": "counts"
         }
        },
        "yaxis14": {
         "anchor": "x14",
         "domain": [
          0.17166666666666666,
          0.22749999999999998
         ],
         "showticklabels": true
        },
        "yaxis15": {
         "anchor": "x15",
         "domain": [
          0.17166666666666666,
          0.22749999999999998
         ],
         "showticklabels": true
        },
        "yaxis16": {
         "anchor": "x16",
         "domain": [
          0.17166666666666666,
          0.22749999999999998
         ],
         "showticklabels": true
        },
        "yaxis17": {
         "anchor": "x17",
         "domain": [
          0.17166666666666666,
          0.22749999999999998
         ],
         "showticklabels": true
        },
        "yaxis18": {
         "anchor": "x18",
         "domain": [
          0.17166666666666666,
          0.22749999999999998
         ],
         "showticklabels": true
        },
        "yaxis19": {
         "anchor": "x19",
         "domain": [
          0.25749999999999995,
          0.3133333333333333
         ],
         "showticklabels": true,
         "title": {
          "text": "counts"
         }
        },
        "yaxis2": {
         "anchor": "x2",
         "domain": [
          0,
          0.05583333333333333
         ],
         "showticklabels": true
        },
        "yaxis20": {
         "anchor": "x20",
         "domain": [
          0.25749999999999995,
          0.3133333333333333
         ],
         "showticklabels": true
        },
        "yaxis21": {
         "anchor": "x21",
         "domain": [
          0.25749999999999995,
          0.3133333333333333
         ],
         "showticklabels": true
        },
        "yaxis22": {
         "anchor": "x22",
         "domain": [
          0.25749999999999995,
          0.3133333333333333
         ],
         "showticklabels": true
        },
        "yaxis23": {
         "anchor": "x23",
         "domain": [
          0.25749999999999995,
          0.3133333333333333
         ],
         "showticklabels": true
        },
        "yaxis24": {
         "anchor": "x24",
         "domain": [
          0.25749999999999995,
          0.3133333333333333
         ],
         "showticklabels": true
        },
        "yaxis25": {
         "anchor": "x25",
         "domain": [
          0.3433333333333333,
          0.39916666666666667
         ],
         "showticklabels": true,
         "title": {
          "text": "counts"
         }
        },
        "yaxis26": {
         "anchor": "x26",
         "domain": [
          0.3433333333333333,
          0.39916666666666667
         ],
         "showticklabels": true
        },
        "yaxis27": {
         "anchor": "x27",
         "domain": [
          0.3433333333333333,
          0.39916666666666667
         ],
         "showticklabels": true
        },
        "yaxis28": {
         "anchor": "x28",
         "domain": [
          0.3433333333333333,
          0.39916666666666667
         ],
         "showticklabels": true
        },
        "yaxis29": {
         "anchor": "x29",
         "domain": [
          0.3433333333333333,
          0.39916666666666667
         ],
         "showticklabels": true
        },
        "yaxis3": {
         "anchor": "x3",
         "domain": [
          0,
          0.05583333333333333
         ],
         "showticklabels": true
        },
        "yaxis30": {
         "anchor": "x30",
         "domain": [
          0.3433333333333333,
          0.39916666666666667
         ],
         "showticklabels": true
        },
        "yaxis31": {
         "anchor": "x31",
         "domain": [
          0.4291666666666667,
          0.48500000000000004
         ],
         "showticklabels": true,
         "title": {
          "text": "counts"
         }
        },
        "yaxis32": {
         "anchor": "x32",
         "domain": [
          0.4291666666666667,
          0.48500000000000004
         ],
         "showticklabels": true
        },
        "yaxis33": {
         "anchor": "x33",
         "domain": [
          0.4291666666666667,
          0.48500000000000004
         ],
         "showticklabels": true
        },
        "yaxis34": {
         "anchor": "x34",
         "domain": [
          0.4291666666666667,
          0.48500000000000004
         ],
         "showticklabels": true
        },
        "yaxis35": {
         "anchor": "x35",
         "domain": [
          0.4291666666666667,
          0.48500000000000004
         ],
         "showticklabels": true
        },
        "yaxis36": {
         "anchor": "x36",
         "domain": [
          0.4291666666666667,
          0.48500000000000004
         ],
         "showticklabels": true
        },
        "yaxis37": {
         "anchor": "x37",
         "domain": [
          0.515,
          0.5708333333333333
         ],
         "showticklabels": true,
         "title": {
          "text": "counts"
         }
        },
        "yaxis38": {
         "anchor": "x38",
         "domain": [
          0.515,
          0.5708333333333333
         ],
         "showticklabels": true
        },
        "yaxis39": {
         "anchor": "x39",
         "domain": [
          0.515,
          0.5708333333333333
         ],
         "showticklabels": true
        },
        "yaxis4": {
         "anchor": "x4",
         "domain": [
          0,
          0.05583333333333333
         ],
         "showticklabels": true
        },
        "yaxis40": {
         "anchor": "x40",
         "domain": [
          0.515,
          0.5708333333333333
         ],
         "showticklabels": true
        },
        "yaxis41": {
         "anchor": "x41",
         "domain": [
          0.515,
          0.5708333333333333
         ],
         "showticklabels": true
        },
        "yaxis42": {
         "anchor": "x42",
         "domain": [
          0.515,
          0.5708333333333333
         ],
         "showticklabels": true
        },
        "yaxis43": {
         "anchor": "x43",
         "domain": [
          0.6008333333333333,
          0.6566666666666666
         ],
         "showticklabels": true,
         "title": {
          "text": "counts"
         }
        },
        "yaxis44": {
         "anchor": "x44",
         "domain": [
          0.6008333333333333,
          0.6566666666666666
         ],
         "showticklabels": true
        },
        "yaxis45": {
         "anchor": "x45",
         "domain": [
          0.6008333333333333,
          0.6566666666666666
         ],
         "showticklabels": true
        },
        "yaxis46": {
         "anchor": "x46",
         "domain": [
          0.6008333333333333,
          0.6566666666666666
         ],
         "showticklabels": true
        },
        "yaxis47": {
         "anchor": "x47",
         "domain": [
          0.6008333333333333,
          0.6566666666666666
         ],
         "showticklabels": true
        },
        "yaxis48": {
         "anchor": "x48",
         "domain": [
          0.6008333333333333,
          0.6566666666666666
         ],
         "showticklabels": true
        },
        "yaxis49": {
         "anchor": "x49",
         "domain": [
          0.6866666666666668,
          0.7425
         ],
         "showticklabels": true,
         "title": {
          "text": "counts"
         }
        },
        "yaxis5": {
         "anchor": "x5",
         "domain": [
          0,
          0.05583333333333333
         ],
         "showticklabels": true
        },
        "yaxis50": {
         "anchor": "x50",
         "domain": [
          0.6866666666666668,
          0.7425
         ],
         "showticklabels": true
        },
        "yaxis51": {
         "anchor": "x51",
         "domain": [
          0.6866666666666668,
          0.7425
         ],
         "showticklabels": true
        },
        "yaxis52": {
         "anchor": "x52",
         "domain": [
          0.6866666666666668,
          0.7425
         ],
         "showticklabels": true
        },
        "yaxis53": {
         "anchor": "x53",
         "domain": [
          0.6866666666666668,
          0.7425
         ],
         "showticklabels": true
        },
        "yaxis54": {
         "anchor": "x54",
         "domain": [
          0.6866666666666668,
          0.7425
         ],
         "showticklabels": true
        },
        "yaxis55": {
         "anchor": "x55",
         "domain": [
          0.7725000000000001,
          0.8283333333333334
         ],
         "showticklabels": true,
         "title": {
          "text": "counts"
         }
        },
        "yaxis56": {
         "anchor": "x56",
         "domain": [
          0.7725000000000001,
          0.8283333333333334
         ],
         "showticklabels": true
        },
        "yaxis57": {
         "anchor": "x57",
         "domain": [
          0.7725000000000001,
          0.8283333333333334
         ],
         "showticklabels": true
        },
        "yaxis58": {
         "anchor": "x58",
         "domain": [
          0.7725000000000001,
          0.8283333333333334
         ],
         "showticklabels": true
        },
        "yaxis59": {
         "anchor": "x59",
         "domain": [
          0.7725000000000001,
          0.8283333333333334
         ],
         "showticklabels": true
        },
        "yaxis6": {
         "anchor": "x6",
         "domain": [
          0,
          0.05583333333333333
         ],
         "showticklabels": true
        },
        "yaxis60": {
         "anchor": "x60",
         "domain": [
          0.7725000000000001,
          0.8283333333333334
         ],
         "showticklabels": true
        },
        "yaxis61": {
         "anchor": "x61",
         "domain": [
          0.8583333333333334,
          0.9141666666666667
         ],
         "showticklabels": true,
         "title": {
          "text": "counts"
         }
        },
        "yaxis62": {
         "anchor": "x62",
         "domain": [
          0.8583333333333334,
          0.9141666666666667
         ],
         "showticklabels": true
        },
        "yaxis63": {
         "anchor": "x63",
         "domain": [
          0.8583333333333334,
          0.9141666666666667
         ],
         "showticklabels": true
        },
        "yaxis64": {
         "anchor": "x64",
         "domain": [
          0.8583333333333334,
          0.9141666666666667
         ],
         "showticklabels": true
        },
        "yaxis65": {
         "anchor": "x65",
         "domain": [
          0.8583333333333334,
          0.9141666666666667
         ],
         "showticklabels": true
        },
        "yaxis66": {
         "anchor": "x66",
         "domain": [
          0.8583333333333334,
          0.9141666666666667
         ],
         "showticklabels": true
        },
        "yaxis67": {
         "anchor": "x67",
         "domain": [
          0.9441666666666666,
          0.9999999999999999
         ],
         "showticklabels": true,
         "title": {
          "text": "counts"
         }
        },
        "yaxis68": {
         "anchor": "x68",
         "domain": [
          0.9441666666666666,
          0.9999999999999999
         ],
         "showticklabels": true
        },
        "yaxis69": {
         "anchor": "x69",
         "domain": [
          0.9441666666666666,
          0.9999999999999999
         ],
         "showticklabels": true
        },
        "yaxis7": {
         "anchor": "x7",
         "domain": [
          0.08583333333333333,
          0.14166666666666666
         ],
         "showticklabels": true,
         "title": {
          "text": "counts"
         }
        },
        "yaxis70": {
         "anchor": "x70",
         "domain": [
          0.9441666666666666,
          0.9999999999999999
         ],
         "showticklabels": true
        },
        "yaxis71": {
         "anchor": "x71",
         "domain": [
          0.9441666666666666,
          0.9999999999999999
         ],
         "showticklabels": true
        },
        "yaxis72": {
         "anchor": "x72",
         "domain": [
          0.9441666666666666,
          0.9999999999999999
         ],
         "showticklabels": true
        },
        "yaxis8": {
         "anchor": "x8",
         "domain": [
          0.08583333333333333,
          0.14166666666666666
         ],
         "showticklabels": true
        },
        "yaxis9": {
         "anchor": "x9",
         "domain": [
          0.08583333333333333,
          0.14166666666666666
         ],
         "showticklabels": true
        }
       }
      }
     },
     "metadata": {},
     "output_type": "display_data"
    }
   ],
   "source": [
    "fig = px.bar(\n",
    "    sentiment_counts,\n",
    "    x=\"sentiment_output\",\n",
    "    y=\"counts\",\n",
    "    facet_row=\"newspaper\",\n",
    "    facet_col=\"year_week\",\n",
    "    color=\"sentiment_output\",\n",
    "    color_discrete_sequence=gruvbox_colors,\n",
    "    title=\"Sentiment per newspaper\",\n",
    "    height=2100,\n",
    "    width=1600\n",
    "    )\n",
    "\n",
    "fig.for_each_annotation(lambda a: a.update(text=f\"{a.text.split('=')[-1]}\"))\n",
    "fig.update_xaxes(matches=None, showticklabels=True)\n",
    "fig.update_yaxes(matches=None, showticklabels=True)\n",
    "\n",
    "fig.write_html(f\"{BASE_DIR}/reports/sentiment_bar-{TIME_STAMPS[0]}-{TIME_STAMPS[-1]}.html\")\n",
    "\n",
    "fig.show()"
   ]
  },
  {
   "cell_type": "code",
   "execution_count": 67,
   "metadata": {},
   "outputs": [],
   "source": [
    "emotion_counts = pd.DataFrame(corpus[[\"newspaper\", \"year_week\", \"emotion_output\"]].groupby(by=[\"newspaper\", \"year_week\"]).value_counts())\n",
    "emotion_counts.rename({0: \"counts\"},axis=1, inplace=True)\n",
    "emotion_counts.reset_index(inplace=True)"
   ]
  },
  {
   "cell_type": "code",
   "execution_count": 68,
   "metadata": {},
   "outputs": [
    {
     "data": {
      "text/html": [
       "<div>\n",
       "<style scoped>\n",
       "    .dataframe tbody tr th:only-of-type {\n",
       "        vertical-align: middle;\n",
       "    }\n",
       "\n",
       "    .dataframe tbody tr th {\n",
       "        vertical-align: top;\n",
       "    }\n",
       "\n",
       "    .dataframe thead th {\n",
       "        text-align: right;\n",
       "    }\n",
       "</style>\n",
       "<table border=\"1\" class=\"dataframe\">\n",
       "  <thead>\n",
       "    <tr style=\"text-align: right;\">\n",
       "      <th></th>\n",
       "      <th>newspaper</th>\n",
       "      <th>year_week</th>\n",
       "      <th>emotion_output</th>\n",
       "      <th>counts</th>\n",
       "    </tr>\n",
       "  </thead>\n",
       "  <tbody>\n",
       "    <tr>\n",
       "      <th>0</th>\n",
       "      <td>DiarioElPeruano</td>\n",
       "      <td>2022w33</td>\n",
       "      <td>others</td>\n",
       "      <td>223</td>\n",
       "    </tr>\n",
       "    <tr>\n",
       "      <th>1</th>\n",
       "      <td>DiarioElPeruano</td>\n",
       "      <td>2022w33</td>\n",
       "      <td>joy</td>\n",
       "      <td>6</td>\n",
       "    </tr>\n",
       "    <tr>\n",
       "      <th>2</th>\n",
       "      <td>DiarioElPeruano</td>\n",
       "      <td>2022w34</td>\n",
       "      <td>others</td>\n",
       "      <td>191</td>\n",
       "    </tr>\n",
       "    <tr>\n",
       "      <th>3</th>\n",
       "      <td>DiarioElPeruano</td>\n",
       "      <td>2022w34</td>\n",
       "      <td>sadness</td>\n",
       "      <td>5</td>\n",
       "    </tr>\n",
       "    <tr>\n",
       "      <th>4</th>\n",
       "      <td>DiarioElPeruano</td>\n",
       "      <td>2022w34</td>\n",
       "      <td>joy</td>\n",
       "      <td>4</td>\n",
       "    </tr>\n",
       "  </tbody>\n",
       "</table>\n",
       "</div>"
      ],
      "text/plain": [
       "         newspaper year_week emotion_output  counts\n",
       "0  DiarioElPeruano   2022w33         others     223\n",
       "1  DiarioElPeruano   2022w33            joy       6\n",
       "2  DiarioElPeruano   2022w34         others     191\n",
       "3  DiarioElPeruano   2022w34        sadness       5\n",
       "4  DiarioElPeruano   2022w34            joy       4"
      ]
     },
     "execution_count": 68,
     "metadata": {},
     "output_type": "execute_result"
    }
   ],
   "source": [
    "emotion_counts.head()"
   ]
  },
  {
   "cell_type": "code",
   "execution_count": 69,
   "metadata": {},
   "outputs": [
    {
     "data": {
      "application/vnd.plotly.v1+json": {
       "config": {
        "plotlyServerURL": "https://plot.ly"
       },
       "data": [
        {
         "alignmentgroup": "True",
         "hovertemplate": "emotion_output=%{x}<br>newspaper=DiarioElPeruano<br>year_week=2022w33<br>counts=%{y}<extra></extra>",
         "legendgroup": "others",
         "marker": {
          "color": "#fabd2f",
          "pattern": {
           "shape": ""
          }
         },
         "name": "others",
         "offsetgroup": "others",
         "orientation": "v",
         "showlegend": true,
         "textposition": "auto",
         "type": "bar",
         "x": [
          "others"
         ],
         "xaxis": "x67",
         "y": [
          223
         ],
         "yaxis": "y67"
        },
        {
         "alignmentgroup": "True",
         "hovertemplate": "emotion_output=%{x}<br>newspaper=DiarioElPeruano<br>year_week=2022w34<br>counts=%{y}<extra></extra>",
         "legendgroup": "others",
         "marker": {
          "color": "#fabd2f",
          "pattern": {
           "shape": ""
          }
         },
         "name": "others",
         "offsetgroup": "others",
         "orientation": "v",
         "showlegend": false,
         "textposition": "auto",
         "type": "bar",
         "x": [
          "others"
         ],
         "xaxis": "x68",
         "y": [
          191
         ],
         "yaxis": "y68"
        },
        {
         "alignmentgroup": "True",
         "hovertemplate": "emotion_output=%{x}<br>newspaper=DiarioElPeruano<br>year_week=2022w39<br>counts=%{y}<extra></extra>",
         "legendgroup": "others",
         "marker": {
          "color": "#fabd2f",
          "pattern": {
           "shape": ""
          }
         },
         "name": "others",
         "offsetgroup": "others",
         "orientation": "v",
         "showlegend": false,
         "textposition": "auto",
         "type": "bar",
         "x": [
          "others"
         ],
         "xaxis": "x69",
         "y": [
          221
         ],
         "yaxis": "y69"
        },
        {
         "alignmentgroup": "True",
         "hovertemplate": "emotion_output=%{x}<br>newspaper=DiarioElPeruano<br>year_week=2022w44<br>counts=%{y}<extra></extra>",
         "legendgroup": "others",
         "marker": {
          "color": "#fabd2f",
          "pattern": {
           "shape": ""
          }
         },
         "name": "others",
         "offsetgroup": "others",
         "orientation": "v",
         "showlegend": false,
         "textposition": "auto",
         "type": "bar",
         "x": [
          "others"
         ],
         "xaxis": "x70",
         "y": [
          180
         ],
         "yaxis": "y70"
        },
        {
         "alignmentgroup": "True",
         "hovertemplate": "emotion_output=%{x}<br>newspaper=DiarioElPeruano<br>year_week=2022w49<br>counts=%{y}<extra></extra>",
         "legendgroup": "others",
         "marker": {
          "color": "#fabd2f",
          "pattern": {
           "shape": ""
          }
         },
         "name": "others",
         "offsetgroup": "others",
         "orientation": "v",
         "showlegend": false,
         "textposition": "auto",
         "type": "bar",
         "x": [
          "others"
         ],
         "xaxis": "x71",
         "y": [
          195
         ],
         "yaxis": "y71"
        },
        {
         "alignmentgroup": "True",
         "hovertemplate": "emotion_output=%{x}<br>newspaper=DiarioElPeruano<br>year_week=2023w2<br>counts=%{y}<extra></extra>",
         "legendgroup": "others",
         "marker": {
          "color": "#fabd2f",
          "pattern": {
           "shape": ""
          }
         },
         "name": "others",
         "offsetgroup": "others",
         "orientation": "v",
         "showlegend": false,
         "textposition": "auto",
         "type": "bar",
         "x": [
          "others"
         ],
         "xaxis": "x72",
         "y": [
          207
         ],
         "yaxis": "y72"
        },
        {
         "alignmentgroup": "True",
         "hovertemplate": "emotion_output=%{x}<br>newspaper=ExpresoPeru<br>year_week=2022w33<br>counts=%{y}<extra></extra>",
         "legendgroup": "others",
         "marker": {
          "color": "#fabd2f",
          "pattern": {
           "shape": ""
          }
         },
         "name": "others",
         "offsetgroup": "others",
         "orientation": "v",
         "showlegend": false,
         "textposition": "auto",
         "type": "bar",
         "x": [
          "others"
         ],
         "xaxis": "x61",
         "y": [
          271
         ],
         "yaxis": "y61"
        },
        {
         "alignmentgroup": "True",
         "hovertemplate": "emotion_output=%{x}<br>newspaper=ExpresoPeru<br>year_week=2022w34<br>counts=%{y}<extra></extra>",
         "legendgroup": "others",
         "marker": {
          "color": "#fabd2f",
          "pattern": {
           "shape": ""
          }
         },
         "name": "others",
         "offsetgroup": "others",
         "orientation": "v",
         "showlegend": false,
         "textposition": "auto",
         "type": "bar",
         "x": [
          "others"
         ],
         "xaxis": "x62",
         "y": [
          196
         ],
         "yaxis": "y62"
        },
        {
         "alignmentgroup": "True",
         "hovertemplate": "emotion_output=%{x}<br>newspaper=ExpresoPeru<br>year_week=2022w39<br>counts=%{y}<extra></extra>",
         "legendgroup": "others",
         "marker": {
          "color": "#fabd2f",
          "pattern": {
           "shape": ""
          }
         },
         "name": "others",
         "offsetgroup": "others",
         "orientation": "v",
         "showlegend": false,
         "textposition": "auto",
         "type": "bar",
         "x": [
          "others"
         ],
         "xaxis": "x63",
         "y": [
          243
         ],
         "yaxis": "y63"
        },
        {
         "alignmentgroup": "True",
         "hovertemplate": "emotion_output=%{x}<br>newspaper=ExpresoPeru<br>year_week=2022w44<br>counts=%{y}<extra></extra>",
         "legendgroup": "others",
         "marker": {
          "color": "#fabd2f",
          "pattern": {
           "shape": ""
          }
         },
         "name": "others",
         "offsetgroup": "others",
         "orientation": "v",
         "showlegend": false,
         "textposition": "auto",
         "type": "bar",
         "x": [
          "others"
         ],
         "xaxis": "x64",
         "y": [
          178
         ],
         "yaxis": "y64"
        },
        {
         "alignmentgroup": "True",
         "hovertemplate": "emotion_output=%{x}<br>newspaper=ExpresoPeru<br>year_week=2022w49<br>counts=%{y}<extra></extra>",
         "legendgroup": "others",
         "marker": {
          "color": "#fabd2f",
          "pattern": {
           "shape": ""
          }
         },
         "name": "others",
         "offsetgroup": "others",
         "orientation": "v",
         "showlegend": false,
         "textposition": "auto",
         "type": "bar",
         "x": [
          "others"
         ],
         "xaxis": "x65",
         "y": [
          234
         ],
         "yaxis": "y65"
        },
        {
         "alignmentgroup": "True",
         "hovertemplate": "emotion_output=%{x}<br>newspaper=ExpresoPeru<br>year_week=2023w2<br>counts=%{y}<extra></extra>",
         "legendgroup": "others",
         "marker": {
          "color": "#fabd2f",
          "pattern": {
           "shape": ""
          }
         },
         "name": "others",
         "offsetgroup": "others",
         "orientation": "v",
         "showlegend": false,
         "textposition": "auto",
         "type": "bar",
         "x": [
          "others"
         ],
         "xaxis": "x66",
         "y": [
          233
         ],
         "yaxis": "y66"
        },
        {
         "alignmentgroup": "True",
         "hovertemplate": "emotion_output=%{x}<br>newspaper=Gestionpe<br>year_week=2022w33<br>counts=%{y}<extra></extra>",
         "legendgroup": "others",
         "marker": {
          "color": "#fabd2f",
          "pattern": {
           "shape": ""
          }
         },
         "name": "others",
         "offsetgroup": "others",
         "orientation": "v",
         "showlegend": false,
         "textposition": "auto",
         "type": "bar",
         "x": [
          "others"
         ],
         "xaxis": "x55",
         "y": [
          1485
         ],
         "yaxis": "y55"
        },
        {
         "alignmentgroup": "True",
         "hovertemplate": "emotion_output=%{x}<br>newspaper=Gestionpe<br>year_week=2022w34<br>counts=%{y}<extra></extra>",
         "legendgroup": "others",
         "marker": {
          "color": "#fabd2f",
          "pattern": {
           "shape": ""
          }
         },
         "name": "others",
         "offsetgroup": "others",
         "orientation": "v",
         "showlegend": false,
         "textposition": "auto",
         "type": "bar",
         "x": [
          "others"
         ],
         "xaxis": "x56",
         "y": [
          837
         ],
         "yaxis": "y56"
        },
        {
         "alignmentgroup": "True",
         "hovertemplate": "emotion_output=%{x}<br>newspaper=Gestionpe<br>year_week=2022w39<br>counts=%{y}<extra></extra>",
         "legendgroup": "others",
         "marker": {
          "color": "#fabd2f",
          "pattern": {
           "shape": ""
          }
         },
         "name": "others",
         "offsetgroup": "others",
         "orientation": "v",
         "showlegend": false,
         "textposition": "auto",
         "type": "bar",
         "x": [
          "others"
         ],
         "xaxis": "x57",
         "y": [
          1186
         ],
         "yaxis": "y57"
        },
        {
         "alignmentgroup": "True",
         "hovertemplate": "emotion_output=%{x}<br>newspaper=Gestionpe<br>year_week=2022w44<br>counts=%{y}<extra></extra>",
         "legendgroup": "others",
         "marker": {
          "color": "#fabd2f",
          "pattern": {
           "shape": ""
          }
         },
         "name": "others",
         "offsetgroup": "others",
         "orientation": "v",
         "showlegend": false,
         "textposition": "auto",
         "type": "bar",
         "x": [
          "others"
         ],
         "xaxis": "x58",
         "y": [
          788
         ],
         "yaxis": "y58"
        },
        {
         "alignmentgroup": "True",
         "hovertemplate": "emotion_output=%{x}<br>newspaper=Gestionpe<br>year_week=2022w49<br>counts=%{y}<extra></extra>",
         "legendgroup": "others",
         "marker": {
          "color": "#fabd2f",
          "pattern": {
           "shape": ""
          }
         },
         "name": "others",
         "offsetgroup": "others",
         "orientation": "v",
         "showlegend": false,
         "textposition": "auto",
         "type": "bar",
         "x": [
          "others"
         ],
         "xaxis": "x59",
         "y": [
          793
         ],
         "yaxis": "y59"
        },
        {
         "alignmentgroup": "True",
         "hovertemplate": "emotion_output=%{x}<br>newspaper=Gestionpe<br>year_week=2023w2<br>counts=%{y}<extra></extra>",
         "legendgroup": "others",
         "marker": {
          "color": "#fabd2f",
          "pattern": {
           "shape": ""
          }
         },
         "name": "others",
         "offsetgroup": "others",
         "orientation": "v",
         "showlegend": false,
         "textposition": "auto",
         "type": "bar",
         "x": [
          "others"
         ],
         "xaxis": "x60",
         "y": [
          894
         ],
         "yaxis": "y60"
        },
        {
         "alignmentgroup": "True",
         "hovertemplate": "emotion_output=%{x}<br>newspaper=diariocorreo<br>year_week=2022w33<br>counts=%{y}<extra></extra>",
         "legendgroup": "others",
         "marker": {
          "color": "#fabd2f",
          "pattern": {
           "shape": ""
          }
         },
         "name": "others",
         "offsetgroup": "others",
         "orientation": "v",
         "showlegend": false,
         "textposition": "auto",
         "type": "bar",
         "x": [
          "others"
         ],
         "xaxis": "x49",
         "y": [
          759
         ],
         "yaxis": "y49"
        },
        {
         "alignmentgroup": "True",
         "hovertemplate": "emotion_output=%{x}<br>newspaper=diariocorreo<br>year_week=2022w34<br>counts=%{y}<extra></extra>",
         "legendgroup": "others",
         "marker": {
          "color": "#fabd2f",
          "pattern": {
           "shape": ""
          }
         },
         "name": "others",
         "offsetgroup": "others",
         "orientation": "v",
         "showlegend": false,
         "textposition": "auto",
         "type": "bar",
         "x": [
          "others"
         ],
         "xaxis": "x50",
         "y": [
          460
         ],
         "yaxis": "y50"
        },
        {
         "alignmentgroup": "True",
         "hovertemplate": "emotion_output=%{x}<br>newspaper=diariocorreo<br>year_week=2022w39<br>counts=%{y}<extra></extra>",
         "legendgroup": "others",
         "marker": {
          "color": "#fabd2f",
          "pattern": {
           "shape": ""
          }
         },
         "name": "others",
         "offsetgroup": "others",
         "orientation": "v",
         "showlegend": false,
         "textposition": "auto",
         "type": "bar",
         "x": [
          "others"
         ],
         "xaxis": "x51",
         "y": [
          587
         ],
         "yaxis": "y51"
        },
        {
         "alignmentgroup": "True",
         "hovertemplate": "emotion_output=%{x}<br>newspaper=diariocorreo<br>year_week=2022w44<br>counts=%{y}<extra></extra>",
         "legendgroup": "others",
         "marker": {
          "color": "#fabd2f",
          "pattern": {
           "shape": ""
          }
         },
         "name": "others",
         "offsetgroup": "others",
         "orientation": "v",
         "showlegend": false,
         "textposition": "auto",
         "type": "bar",
         "x": [
          "others"
         ],
         "xaxis": "x52",
         "y": [
          424
         ],
         "yaxis": "y52"
        },
        {
         "alignmentgroup": "True",
         "hovertemplate": "emotion_output=%{x}<br>newspaper=diariocorreo<br>year_week=2022w49<br>counts=%{y}<extra></extra>",
         "legendgroup": "others",
         "marker": {
          "color": "#fabd2f",
          "pattern": {
           "shape": ""
          }
         },
         "name": "others",
         "offsetgroup": "others",
         "orientation": "v",
         "showlegend": false,
         "textposition": "auto",
         "type": "bar",
         "x": [
          "others"
         ],
         "xaxis": "x53",
         "y": [
          502
         ],
         "yaxis": "y53"
        },
        {
         "alignmentgroup": "True",
         "hovertemplate": "emotion_output=%{x}<br>newspaper=diariocorreo<br>year_week=2023w2<br>counts=%{y}<extra></extra>",
         "legendgroup": "others",
         "marker": {
          "color": "#fabd2f",
          "pattern": {
           "shape": ""
          }
         },
         "name": "others",
         "offsetgroup": "others",
         "orientation": "v",
         "showlegend": false,
         "textposition": "auto",
         "type": "bar",
         "x": [
          "others"
         ],
         "xaxis": "x54",
         "y": [
          287
         ],
         "yaxis": "y54"
        },
        {
         "alignmentgroup": "True",
         "hovertemplate": "emotion_output=%{x}<br>newspaper=diarioojo<br>year_week=2022w33<br>counts=%{y}<extra></extra>",
         "legendgroup": "others",
         "marker": {
          "color": "#fabd2f",
          "pattern": {
           "shape": ""
          }
         },
         "name": "others",
         "offsetgroup": "others",
         "orientation": "v",
         "showlegend": false,
         "textposition": "auto",
         "type": "bar",
         "x": [
          "others"
         ],
         "xaxis": "x43",
         "y": [
          693
         ],
         "yaxis": "y43"
        },
        {
         "alignmentgroup": "True",
         "hovertemplate": "emotion_output=%{x}<br>newspaper=diarioojo<br>year_week=2022w34<br>counts=%{y}<extra></extra>",
         "legendgroup": "others",
         "marker": {
          "color": "#fabd2f",
          "pattern": {
           "shape": ""
          }
         },
         "name": "others",
         "offsetgroup": "others",
         "orientation": "v",
         "showlegend": false,
         "textposition": "auto",
         "type": "bar",
         "x": [
          "others"
         ],
         "xaxis": "x44",
         "y": [
          478
         ],
         "yaxis": "y44"
        },
        {
         "alignmentgroup": "True",
         "hovertemplate": "emotion_output=%{x}<br>newspaper=diarioojo<br>year_week=2022w39<br>counts=%{y}<extra></extra>",
         "legendgroup": "others",
         "marker": {
          "color": "#fabd2f",
          "pattern": {
           "shape": ""
          }
         },
         "name": "others",
         "offsetgroup": "others",
         "orientation": "v",
         "showlegend": false,
         "textposition": "auto",
         "type": "bar",
         "x": [
          "others"
         ],
         "xaxis": "x45",
         "y": [
          500
         ],
         "yaxis": "y45"
        },
        {
         "alignmentgroup": "True",
         "hovertemplate": "emotion_output=%{x}<br>newspaper=diarioojo<br>year_week=2022w44<br>counts=%{y}<extra></extra>",
         "legendgroup": "others",
         "marker": {
          "color": "#fabd2f",
          "pattern": {
           "shape": ""
          }
         },
         "name": "others",
         "offsetgroup": "others",
         "orientation": "v",
         "showlegend": false,
         "textposition": "auto",
         "type": "bar",
         "x": [
          "others"
         ],
         "xaxis": "x46",
         "y": [
          480
         ],
         "yaxis": "y46"
        },
        {
         "alignmentgroup": "True",
         "hovertemplate": "emotion_output=%{x}<br>newspaper=diarioojo<br>year_week=2022w49<br>counts=%{y}<extra></extra>",
         "legendgroup": "others",
         "marker": {
          "color": "#fabd2f",
          "pattern": {
           "shape": ""
          }
         },
         "name": "others",
         "offsetgroup": "others",
         "orientation": "v",
         "showlegend": false,
         "textposition": "auto",
         "type": "bar",
         "x": [
          "others"
         ],
         "xaxis": "x47",
         "y": [
          521
         ],
         "yaxis": "y47"
        },
        {
         "alignmentgroup": "True",
         "hovertemplate": "emotion_output=%{x}<br>newspaper=diarioojo<br>year_week=2023w2<br>counts=%{y}<extra></extra>",
         "legendgroup": "others",
         "marker": {
          "color": "#fabd2f",
          "pattern": {
           "shape": ""
          }
         },
         "name": "others",
         "offsetgroup": "others",
         "orientation": "v",
         "showlegend": false,
         "textposition": "auto",
         "type": "bar",
         "x": [
          "others"
         ],
         "xaxis": "x48",
         "y": [
          275
         ],
         "yaxis": "y48"
        },
        {
         "alignmentgroup": "True",
         "hovertemplate": "emotion_output=%{x}<br>newspaper=elbuho_pe<br>year_week=2022w34<br>counts=%{y}<extra></extra>",
         "legendgroup": "others",
         "marker": {
          "color": "#fabd2f",
          "pattern": {
           "shape": ""
          }
         },
         "name": "others",
         "offsetgroup": "others",
         "orientation": "v",
         "showlegend": false,
         "textposition": "auto",
         "type": "bar",
         "x": [
          "others"
         ],
         "xaxis": "x38",
         "y": [
          55
         ],
         "yaxis": "y38"
        },
        {
         "alignmentgroup": "True",
         "hovertemplate": "emotion_output=%{x}<br>newspaper=elbuho_pe<br>year_week=2022w39<br>counts=%{y}<extra></extra>",
         "legendgroup": "others",
         "marker": {
          "color": "#fabd2f",
          "pattern": {
           "shape": ""
          }
         },
         "name": "others",
         "offsetgroup": "others",
         "orientation": "v",
         "showlegend": false,
         "textposition": "auto",
         "type": "bar",
         "x": [
          "others"
         ],
         "xaxis": "x39",
         "y": [
          95
         ],
         "yaxis": "y39"
        },
        {
         "alignmentgroup": "True",
         "hovertemplate": "emotion_output=%{x}<br>newspaper=elbuho_pe<br>year_week=2022w44<br>counts=%{y}<extra></extra>",
         "legendgroup": "others",
         "marker": {
          "color": "#fabd2f",
          "pattern": {
           "shape": ""
          }
         },
         "name": "others",
         "offsetgroup": "others",
         "orientation": "v",
         "showlegend": false,
         "textposition": "auto",
         "type": "bar",
         "x": [
          "others"
         ],
         "xaxis": "x40",
         "y": [
          71
         ],
         "yaxis": "y40"
        },
        {
         "alignmentgroup": "True",
         "hovertemplate": "emotion_output=%{x}<br>newspaper=elbuho_pe<br>year_week=2022w49<br>counts=%{y}<extra></extra>",
         "legendgroup": "others",
         "marker": {
          "color": "#fabd2f",
          "pattern": {
           "shape": ""
          }
         },
         "name": "others",
         "offsetgroup": "others",
         "orientation": "v",
         "showlegend": false,
         "textposition": "auto",
         "type": "bar",
         "x": [
          "others"
         ],
         "xaxis": "x41",
         "y": [
          76
         ],
         "yaxis": "y41"
        },
        {
         "alignmentgroup": "True",
         "hovertemplate": "emotion_output=%{x}<br>newspaper=elbuho_pe<br>year_week=2023w2<br>counts=%{y}<extra></extra>",
         "legendgroup": "others",
         "marker": {
          "color": "#fabd2f",
          "pattern": {
           "shape": ""
          }
         },
         "name": "others",
         "offsetgroup": "others",
         "orientation": "v",
         "showlegend": false,
         "textposition": "auto",
         "type": "bar",
         "x": [
          "others"
         ],
         "xaxis": "x42",
         "y": [
          98
         ],
         "yaxis": "y42"
        },
        {
         "alignmentgroup": "True",
         "hovertemplate": "emotion_output=%{x}<br>newspaper=elcomercio_peru<br>year_week=2022w33<br>counts=%{y}<extra></extra>",
         "legendgroup": "others",
         "marker": {
          "color": "#fabd2f",
          "pattern": {
           "shape": ""
          }
         },
         "name": "others",
         "offsetgroup": "others",
         "orientation": "v",
         "showlegend": false,
         "textposition": "auto",
         "type": "bar",
         "x": [
          "others"
         ],
         "xaxis": "x31",
         "y": [
          558
         ],
         "yaxis": "y31"
        },
        {
         "alignmentgroup": "True",
         "hovertemplate": "emotion_output=%{x}<br>newspaper=elcomercio_peru<br>year_week=2022w34<br>counts=%{y}<extra></extra>",
         "legendgroup": "others",
         "marker": {
          "color": "#fabd2f",
          "pattern": {
           "shape": ""
          }
         },
         "name": "others",
         "offsetgroup": "others",
         "orientation": "v",
         "showlegend": false,
         "textposition": "auto",
         "type": "bar",
         "x": [
          "others"
         ],
         "xaxis": "x32",
         "y": [
          431
         ],
         "yaxis": "y32"
        },
        {
         "alignmentgroup": "True",
         "hovertemplate": "emotion_output=%{x}<br>newspaper=elcomercio_peru<br>year_week=2022w39<br>counts=%{y}<extra></extra>",
         "legendgroup": "others",
         "marker": {
          "color": "#fabd2f",
          "pattern": {
           "shape": ""
          }
         },
         "name": "others",
         "offsetgroup": "others",
         "orientation": "v",
         "showlegend": false,
         "textposition": "auto",
         "type": "bar",
         "x": [
          "others"
         ],
         "xaxis": "x33",
         "y": [
          489
         ],
         "yaxis": "y33"
        },
        {
         "alignmentgroup": "True",
         "hovertemplate": "emotion_output=%{x}<br>newspaper=elcomercio_peru<br>year_week=2022w44<br>counts=%{y}<extra></extra>",
         "legendgroup": "others",
         "marker": {
          "color": "#fabd2f",
          "pattern": {
           "shape": ""
          }
         },
         "name": "others",
         "offsetgroup": "others",
         "orientation": "v",
         "showlegend": false,
         "textposition": "auto",
         "type": "bar",
         "x": [
          "others"
         ],
         "xaxis": "x34",
         "y": [
          412
         ],
         "yaxis": "y34"
        },
        {
         "alignmentgroup": "True",
         "hovertemplate": "emotion_output=%{x}<br>newspaper=elcomercio_peru<br>year_week=2022w49<br>counts=%{y}<extra></extra>",
         "legendgroup": "others",
         "marker": {
          "color": "#fabd2f",
          "pattern": {
           "shape": ""
          }
         },
         "name": "others",
         "offsetgroup": "others",
         "orientation": "v",
         "showlegend": false,
         "textposition": "auto",
         "type": "bar",
         "x": [
          "others"
         ],
         "xaxis": "x35",
         "y": [
          420
         ],
         "yaxis": "y35"
        },
        {
         "alignmentgroup": "True",
         "hovertemplate": "emotion_output=%{x}<br>newspaper=elcomercio_peru<br>year_week=2023w2<br>counts=%{y}<extra></extra>",
         "legendgroup": "others",
         "marker": {
          "color": "#fabd2f",
          "pattern": {
           "shape": ""
          }
         },
         "name": "others",
         "offsetgroup": "others",
         "orientation": "v",
         "showlegend": false,
         "textposition": "auto",
         "type": "bar",
         "x": [
          "others"
         ],
         "xaxis": "x36",
         "y": [
          425
         ],
         "yaxis": "y36"
        },
        {
         "alignmentgroup": "True",
         "hovertemplate": "emotion_output=%{x}<br>newspaper=ensustrece<br>year_week=2022w34<br>counts=%{y}<extra></extra>",
         "legendgroup": "others",
         "marker": {
          "color": "#fabd2f",
          "pattern": {
           "shape": ""
          }
         },
         "name": "others",
         "offsetgroup": "others",
         "orientation": "v",
         "showlegend": false,
         "textposition": "auto",
         "type": "bar",
         "x": [
          "others"
         ],
         "xaxis": "x26",
         "y": [
          20
         ],
         "yaxis": "y26"
        },
        {
         "alignmentgroup": "True",
         "hovertemplate": "emotion_output=%{x}<br>newspaper=ensustrece<br>year_week=2022w39<br>counts=%{y}<extra></extra>",
         "legendgroup": "others",
         "marker": {
          "color": "#fabd2f",
          "pattern": {
           "shape": ""
          }
         },
         "name": "others",
         "offsetgroup": "others",
         "orientation": "v",
         "showlegend": false,
         "textposition": "auto",
         "type": "bar",
         "x": [
          "others"
         ],
         "xaxis": "x27",
         "y": [
          15
         ],
         "yaxis": "y27"
        },
        {
         "alignmentgroup": "True",
         "hovertemplate": "emotion_output=%{x}<br>newspaper=ensustrece<br>year_week=2022w44<br>counts=%{y}<extra></extra>",
         "legendgroup": "others",
         "marker": {
          "color": "#fabd2f",
          "pattern": {
           "shape": ""
          }
         },
         "name": "others",
         "offsetgroup": "others",
         "orientation": "v",
         "showlegend": false,
         "textposition": "auto",
         "type": "bar",
         "x": [
          "others"
         ],
         "xaxis": "x28",
         "y": [
          5
         ],
         "yaxis": "y28"
        },
        {
         "alignmentgroup": "True",
         "hovertemplate": "emotion_output=%{x}<br>newspaper=ensustrece<br>year_week=2022w49<br>counts=%{y}<extra></extra>",
         "legendgroup": "others",
         "marker": {
          "color": "#fabd2f",
          "pattern": {
           "shape": ""
          }
         },
         "name": "others",
         "offsetgroup": "others",
         "orientation": "v",
         "showlegend": false,
         "textposition": "auto",
         "type": "bar",
         "x": [
          "others"
         ],
         "xaxis": "x29",
         "y": [
          17
         ],
         "yaxis": "y29"
        },
        {
         "alignmentgroup": "True",
         "hovertemplate": "emotion_output=%{x}<br>newspaper=ensustrece<br>year_week=2023w2<br>counts=%{y}<extra></extra>",
         "legendgroup": "others",
         "marker": {
          "color": "#fabd2f",
          "pattern": {
           "shape": ""
          }
         },
         "name": "others",
         "offsetgroup": "others",
         "orientation": "v",
         "showlegend": false,
         "textposition": "auto",
         "type": "bar",
         "x": [
          "others"
         ],
         "xaxis": "x30",
         "y": [
          13
         ],
         "yaxis": "y30"
        },
        {
         "alignmentgroup": "True",
         "hovertemplate": "emotion_output=%{x}<br>newspaper=larazon_pe<br>year_week=2022w33<br>counts=%{y}<extra></extra>",
         "legendgroup": "others",
         "marker": {
          "color": "#fabd2f",
          "pattern": {
           "shape": ""
          }
         },
         "name": "others",
         "offsetgroup": "others",
         "orientation": "v",
         "showlegend": false,
         "textposition": "auto",
         "type": "bar",
         "x": [
          "others"
         ],
         "xaxis": "x19",
         "y": [
          103
         ],
         "yaxis": "y19"
        },
        {
         "alignmentgroup": "True",
         "hovertemplate": "emotion_output=%{x}<br>newspaper=larazon_pe<br>year_week=2022w34<br>counts=%{y}<extra></extra>",
         "legendgroup": "others",
         "marker": {
          "color": "#fabd2f",
          "pattern": {
           "shape": ""
          }
         },
         "name": "others",
         "offsetgroup": "others",
         "orientation": "v",
         "showlegend": false,
         "textposition": "auto",
         "type": "bar",
         "x": [
          "others"
         ],
         "xaxis": "x20",
         "y": [
          60
         ],
         "yaxis": "y20"
        },
        {
         "alignmentgroup": "True",
         "hovertemplate": "emotion_output=%{x}<br>newspaper=larazon_pe<br>year_week=2022w39<br>counts=%{y}<extra></extra>",
         "legendgroup": "others",
         "marker": {
          "color": "#fabd2f",
          "pattern": {
           "shape": ""
          }
         },
         "name": "others",
         "offsetgroup": "others",
         "orientation": "v",
         "showlegend": false,
         "textposition": "auto",
         "type": "bar",
         "x": [
          "others"
         ],
         "xaxis": "x21",
         "y": [
          57
         ],
         "yaxis": "y21"
        },
        {
         "alignmentgroup": "True",
         "hovertemplate": "emotion_output=%{x}<br>newspaper=larazon_pe<br>year_week=2022w44<br>counts=%{y}<extra></extra>",
         "legendgroup": "others",
         "marker": {
          "color": "#fabd2f",
          "pattern": {
           "shape": ""
          }
         },
         "name": "others",
         "offsetgroup": "others",
         "orientation": "v",
         "showlegend": false,
         "textposition": "auto",
         "type": "bar",
         "x": [
          "others"
         ],
         "xaxis": "x22",
         "y": [
          55
         ],
         "yaxis": "y22"
        },
        {
         "alignmentgroup": "True",
         "hovertemplate": "emotion_output=%{x}<br>newspaper=larazon_pe<br>year_week=2022w49<br>counts=%{y}<extra></extra>",
         "legendgroup": "others",
         "marker": {
          "color": "#fabd2f",
          "pattern": {
           "shape": ""
          }
         },
         "name": "others",
         "offsetgroup": "others",
         "orientation": "v",
         "showlegend": false,
         "textposition": "auto",
         "type": "bar",
         "x": [
          "others"
         ],
         "xaxis": "x23",
         "y": [
          67
         ],
         "yaxis": "y23"
        },
        {
         "alignmentgroup": "True",
         "hovertemplate": "emotion_output=%{x}<br>newspaper=larazon_pe<br>year_week=2023w2<br>counts=%{y}<extra></extra>",
         "legendgroup": "others",
         "marker": {
          "color": "#fabd2f",
          "pattern": {
           "shape": ""
          }
         },
         "name": "others",
         "offsetgroup": "others",
         "orientation": "v",
         "showlegend": false,
         "textposition": "auto",
         "type": "bar",
         "x": [
          "others"
         ],
         "xaxis": "x24",
         "y": [
          56
         ],
         "yaxis": "y24"
        },
        {
         "alignmentgroup": "True",
         "hovertemplate": "emotion_output=%{x}<br>newspaper=larepublica_pe<br>year_week=2022w33<br>counts=%{y}<extra></extra>",
         "legendgroup": "others",
         "marker": {
          "color": "#fabd2f",
          "pattern": {
           "shape": ""
          }
         },
         "name": "others",
         "offsetgroup": "others",
         "orientation": "v",
         "showlegend": false,
         "textposition": "auto",
         "type": "bar",
         "x": [
          "others"
         ],
         "xaxis": "x13",
         "y": [
          1056
         ],
         "yaxis": "y13"
        },
        {
         "alignmentgroup": "True",
         "hovertemplate": "emotion_output=%{x}<br>newspaper=larepublica_pe<br>year_week=2022w34<br>counts=%{y}<extra></extra>",
         "legendgroup": "others",
         "marker": {
          "color": "#fabd2f",
          "pattern": {
           "shape": ""
          }
         },
         "name": "others",
         "offsetgroup": "others",
         "orientation": "v",
         "showlegend": false,
         "textposition": "auto",
         "type": "bar",
         "x": [
          "others"
         ],
         "xaxis": "x14",
         "y": [
          792
         ],
         "yaxis": "y14"
        },
        {
         "alignmentgroup": "True",
         "hovertemplate": "emotion_output=%{x}<br>newspaper=larepublica_pe<br>year_week=2022w39<br>counts=%{y}<extra></extra>",
         "legendgroup": "others",
         "marker": {
          "color": "#fabd2f",
          "pattern": {
           "shape": ""
          }
         },
         "name": "others",
         "offsetgroup": "others",
         "orientation": "v",
         "showlegend": false,
         "textposition": "auto",
         "type": "bar",
         "x": [
          "others"
         ],
         "xaxis": "x15",
         "y": [
          794
         ],
         "yaxis": "y15"
        },
        {
         "alignmentgroup": "True",
         "hovertemplate": "emotion_output=%{x}<br>newspaper=larepublica_pe<br>year_week=2022w44<br>counts=%{y}<extra></extra>",
         "legendgroup": "others",
         "marker": {
          "color": "#fabd2f",
          "pattern": {
           "shape": ""
          }
         },
         "name": "others",
         "offsetgroup": "others",
         "orientation": "v",
         "showlegend": false,
         "textposition": "auto",
         "type": "bar",
         "x": [
          "others"
         ],
         "xaxis": "x16",
         "y": [
          657
         ],
         "yaxis": "y16"
        },
        {
         "alignmentgroup": "True",
         "hovertemplate": "emotion_output=%{x}<br>newspaper=larepublica_pe<br>year_week=2022w49<br>counts=%{y}<extra></extra>",
         "legendgroup": "others",
         "marker": {
          "color": "#fabd2f",
          "pattern": {
           "shape": ""
          }
         },
         "name": "others",
         "offsetgroup": "others",
         "orientation": "v",
         "showlegend": false,
         "textposition": "auto",
         "type": "bar",
         "x": [
          "others"
         ],
         "xaxis": "x17",
         "y": [
          880
         ],
         "yaxis": "y17"
        },
        {
         "alignmentgroup": "True",
         "hovertemplate": "emotion_output=%{x}<br>newspaper=larepublica_pe<br>year_week=2023w2<br>counts=%{y}<extra></extra>",
         "legendgroup": "others",
         "marker": {
          "color": "#fabd2f",
          "pattern": {
           "shape": ""
          }
         },
         "name": "others",
         "offsetgroup": "others",
         "orientation": "v",
         "showlegend": false,
         "textposition": "auto",
         "type": "bar",
         "x": [
          "others"
         ],
         "xaxis": "x18",
         "y": [
          656
         ],
         "yaxis": "y18"
        },
        {
         "alignmentgroup": "True",
         "hovertemplate": "emotion_output=%{x}<br>newspaper=peru21noticias<br>year_week=2022w33<br>counts=%{y}<extra></extra>",
         "legendgroup": "others",
         "marker": {
          "color": "#fabd2f",
          "pattern": {
           "shape": ""
          }
         },
         "name": "others",
         "offsetgroup": "others",
         "orientation": "v",
         "showlegend": false,
         "textposition": "auto",
         "type": "bar",
         "x": [
          "others"
         ],
         "xaxis": "x7",
         "y": [
          1206
         ],
         "yaxis": "y7"
        },
        {
         "alignmentgroup": "True",
         "hovertemplate": "emotion_output=%{x}<br>newspaper=peru21noticias<br>year_week=2022w34<br>counts=%{y}<extra></extra>",
         "legendgroup": "others",
         "marker": {
          "color": "#fabd2f",
          "pattern": {
           "shape": ""
          }
         },
         "name": "others",
         "offsetgroup": "others",
         "orientation": "v",
         "showlegend": false,
         "textposition": "auto",
         "type": "bar",
         "x": [
          "others"
         ],
         "xaxis": "x8",
         "y": [
          900
         ],
         "yaxis": "y8"
        },
        {
         "alignmentgroup": "True",
         "hovertemplate": "emotion_output=%{x}<br>newspaper=peru21noticias<br>year_week=2022w39<br>counts=%{y}<extra></extra>",
         "legendgroup": "others",
         "marker": {
          "color": "#fabd2f",
          "pattern": {
           "shape": ""
          }
         },
         "name": "others",
         "offsetgroup": "others",
         "orientation": "v",
         "showlegend": false,
         "textposition": "auto",
         "type": "bar",
         "x": [
          "others"
         ],
         "xaxis": "x9",
         "y": [
          919
         ],
         "yaxis": "y9"
        },
        {
         "alignmentgroup": "True",
         "hovertemplate": "emotion_output=%{x}<br>newspaper=peru21noticias<br>year_week=2022w44<br>counts=%{y}<extra></extra>",
         "legendgroup": "others",
         "marker": {
          "color": "#fabd2f",
          "pattern": {
           "shape": ""
          }
         },
         "name": "others",
         "offsetgroup": "others",
         "orientation": "v",
         "showlegend": false,
         "textposition": "auto",
         "type": "bar",
         "x": [
          "others"
         ],
         "xaxis": "x10",
         "y": [
          694
         ],
         "yaxis": "y10"
        },
        {
         "alignmentgroup": "True",
         "hovertemplate": "emotion_output=%{x}<br>newspaper=peru21noticias<br>year_week=2022w49<br>counts=%{y}<extra></extra>",
         "legendgroup": "others",
         "marker": {
          "color": "#fabd2f",
          "pattern": {
           "shape": ""
          }
         },
         "name": "others",
         "offsetgroup": "others",
         "orientation": "v",
         "showlegend": false,
         "textposition": "auto",
         "type": "bar",
         "x": [
          "others"
         ],
         "xaxis": "x11",
         "y": [
          989
         ],
         "yaxis": "y11"
        },
        {
         "alignmentgroup": "True",
         "hovertemplate": "emotion_output=%{x}<br>newspaper=peru21noticias<br>year_week=2023w2<br>counts=%{y}<extra></extra>",
         "legendgroup": "others",
         "marker": {
          "color": "#fabd2f",
          "pattern": {
           "shape": ""
          }
         },
         "name": "others",
         "offsetgroup": "others",
         "orientation": "v",
         "showlegend": false,
         "textposition": "auto",
         "type": "bar",
         "x": [
          "others"
         ],
         "xaxis": "x12",
         "y": [
          487
         ],
         "yaxis": "y12"
        },
        {
         "alignmentgroup": "True",
         "hovertemplate": "emotion_output=%{x}<br>newspaper=tromepe<br>year_week=2022w33<br>counts=%{y}<extra></extra>",
         "legendgroup": "others",
         "marker": {
          "color": "#fabd2f",
          "pattern": {
           "shape": ""
          }
         },
         "name": "others",
         "offsetgroup": "others",
         "orientation": "v",
         "showlegend": false,
         "textposition": "auto",
         "type": "bar",
         "x": [
          "others"
         ],
         "xaxis": "x",
         "y": [
          970
         ],
         "yaxis": "y"
        },
        {
         "alignmentgroup": "True",
         "hovertemplate": "emotion_output=%{x}<br>newspaper=tromepe<br>year_week=2022w34<br>counts=%{y}<extra></extra>",
         "legendgroup": "others",
         "marker": {
          "color": "#fabd2f",
          "pattern": {
           "shape": ""
          }
         },
         "name": "others",
         "offsetgroup": "others",
         "orientation": "v",
         "showlegend": false,
         "textposition": "auto",
         "type": "bar",
         "x": [
          "others"
         ],
         "xaxis": "x2",
         "y": [
          738
         ],
         "yaxis": "y2"
        },
        {
         "alignmentgroup": "True",
         "hovertemplate": "emotion_output=%{x}<br>newspaper=tromepe<br>year_week=2022w39<br>counts=%{y}<extra></extra>",
         "legendgroup": "others",
         "marker": {
          "color": "#fabd2f",
          "pattern": {
           "shape": ""
          }
         },
         "name": "others",
         "offsetgroup": "others",
         "orientation": "v",
         "showlegend": false,
         "textposition": "auto",
         "type": "bar",
         "x": [
          "others"
         ],
         "xaxis": "x3",
         "y": [
          863
         ],
         "yaxis": "y3"
        },
        {
         "alignmentgroup": "True",
         "hovertemplate": "emotion_output=%{x}<br>newspaper=tromepe<br>year_week=2022w44<br>counts=%{y}<extra></extra>",
         "legendgroup": "others",
         "marker": {
          "color": "#fabd2f",
          "pattern": {
           "shape": ""
          }
         },
         "name": "others",
         "offsetgroup": "others",
         "orientation": "v",
         "showlegend": false,
         "textposition": "auto",
         "type": "bar",
         "x": [
          "others"
         ],
         "xaxis": "x4",
         "y": [
          679
         ],
         "yaxis": "y4"
        },
        {
         "alignmentgroup": "True",
         "hovertemplate": "emotion_output=%{x}<br>newspaper=tromepe<br>year_week=2022w49<br>counts=%{y}<extra></extra>",
         "legendgroup": "others",
         "marker": {
          "color": "#fabd2f",
          "pattern": {
           "shape": ""
          }
         },
         "name": "others",
         "offsetgroup": "others",
         "orientation": "v",
         "showlegend": false,
         "textposition": "auto",
         "type": "bar",
         "x": [
          "others"
         ],
         "xaxis": "x5",
         "y": [
          834
         ],
         "yaxis": "y5"
        },
        {
         "alignmentgroup": "True",
         "hovertemplate": "emotion_output=%{x}<br>newspaper=tromepe<br>year_week=2023w2<br>counts=%{y}<extra></extra>",
         "legendgroup": "others",
         "marker": {
          "color": "#fabd2f",
          "pattern": {
           "shape": ""
          }
         },
         "name": "others",
         "offsetgroup": "others",
         "orientation": "v",
         "showlegend": false,
         "textposition": "auto",
         "type": "bar",
         "x": [
          "others"
         ],
         "xaxis": "x6",
         "y": [
          559
         ],
         "yaxis": "y6"
        },
        {
         "alignmentgroup": "True",
         "hovertemplate": "emotion_output=%{x}<br>newspaper=DiarioElPeruano<br>year_week=2022w33<br>counts=%{y}<extra></extra>",
         "legendgroup": "joy",
         "marker": {
          "color": "#b8bb26",
          "pattern": {
           "shape": ""
          }
         },
         "name": "joy",
         "offsetgroup": "joy",
         "orientation": "v",
         "showlegend": true,
         "textposition": "auto",
         "type": "bar",
         "x": [
          "joy"
         ],
         "xaxis": "x67",
         "y": [
          6
         ],
         "yaxis": "y67"
        },
        {
         "alignmentgroup": "True",
         "hovertemplate": "emotion_output=%{x}<br>newspaper=DiarioElPeruano<br>year_week=2022w34<br>counts=%{y}<extra></extra>",
         "legendgroup": "joy",
         "marker": {
          "color": "#b8bb26",
          "pattern": {
           "shape": ""
          }
         },
         "name": "joy",
         "offsetgroup": "joy",
         "orientation": "v",
         "showlegend": false,
         "textposition": "auto",
         "type": "bar",
         "x": [
          "joy"
         ],
         "xaxis": "x68",
         "y": [
          4
         ],
         "yaxis": "y68"
        },
        {
         "alignmentgroup": "True",
         "hovertemplate": "emotion_output=%{x}<br>newspaper=DiarioElPeruano<br>year_week=2022w39<br>counts=%{y}<extra></extra>",
         "legendgroup": "joy",
         "marker": {
          "color": "#b8bb26",
          "pattern": {
           "shape": ""
          }
         },
         "name": "joy",
         "offsetgroup": "joy",
         "orientation": "v",
         "showlegend": false,
         "textposition": "auto",
         "type": "bar",
         "x": [
          "joy"
         ],
         "xaxis": "x69",
         "y": [
          5
         ],
         "yaxis": "y69"
        },
        {
         "alignmentgroup": "True",
         "hovertemplate": "emotion_output=%{x}<br>newspaper=DiarioElPeruano<br>year_week=2022w44<br>counts=%{y}<extra></extra>",
         "legendgroup": "joy",
         "marker": {
          "color": "#b8bb26",
          "pattern": {
           "shape": ""
          }
         },
         "name": "joy",
         "offsetgroup": "joy",
         "orientation": "v",
         "showlegend": false,
         "textposition": "auto",
         "type": "bar",
         "x": [
          "joy"
         ],
         "xaxis": "x70",
         "y": [
          4
         ],
         "yaxis": "y70"
        },
        {
         "alignmentgroup": "True",
         "hovertemplate": "emotion_output=%{x}<br>newspaper=DiarioElPeruano<br>year_week=2022w49<br>counts=%{y}<extra></extra>",
         "legendgroup": "joy",
         "marker": {
          "color": "#b8bb26",
          "pattern": {
           "shape": ""
          }
         },
         "name": "joy",
         "offsetgroup": "joy",
         "orientation": "v",
         "showlegend": false,
         "textposition": "auto",
         "type": "bar",
         "x": [
          "joy"
         ],
         "xaxis": "x71",
         "y": [
          4
         ],
         "yaxis": "y71"
        },
        {
         "alignmentgroup": "True",
         "hovertemplate": "emotion_output=%{x}<br>newspaper=DiarioElPeruano<br>year_week=2023w2<br>counts=%{y}<extra></extra>",
         "legendgroup": "joy",
         "marker": {
          "color": "#b8bb26",
          "pattern": {
           "shape": ""
          }
         },
         "name": "joy",
         "offsetgroup": "joy",
         "orientation": "v",
         "showlegend": false,
         "textposition": "auto",
         "type": "bar",
         "x": [
          "joy"
         ],
         "xaxis": "x72",
         "y": [
          4
         ],
         "yaxis": "y72"
        },
        {
         "alignmentgroup": "True",
         "hovertemplate": "emotion_output=%{x}<br>newspaper=ExpresoPeru<br>year_week=2022w33<br>counts=%{y}<extra></extra>",
         "legendgroup": "joy",
         "marker": {
          "color": "#b8bb26",
          "pattern": {
           "shape": ""
          }
         },
         "name": "joy",
         "offsetgroup": "joy",
         "orientation": "v",
         "showlegend": false,
         "textposition": "auto",
         "type": "bar",
         "x": [
          "joy"
         ],
         "xaxis": "x61",
         "y": [
          4
         ],
         "yaxis": "y61"
        },
        {
         "alignmentgroup": "True",
         "hovertemplate": "emotion_output=%{x}<br>newspaper=ExpresoPeru<br>year_week=2022w34<br>counts=%{y}<extra></extra>",
         "legendgroup": "joy",
         "marker": {
          "color": "#b8bb26",
          "pattern": {
           "shape": ""
          }
         },
         "name": "joy",
         "offsetgroup": "joy",
         "orientation": "v",
         "showlegend": false,
         "textposition": "auto",
         "type": "bar",
         "x": [
          "joy"
         ],
         "xaxis": "x62",
         "y": [
          1
         ],
         "yaxis": "y62"
        },
        {
         "alignmentgroup": "True",
         "hovertemplate": "emotion_output=%{x}<br>newspaper=ExpresoPeru<br>year_week=2022w39<br>counts=%{y}<extra></extra>",
         "legendgroup": "joy",
         "marker": {
          "color": "#b8bb26",
          "pattern": {
           "shape": ""
          }
         },
         "name": "joy",
         "offsetgroup": "joy",
         "orientation": "v",
         "showlegend": false,
         "textposition": "auto",
         "type": "bar",
         "x": [
          "joy"
         ],
         "xaxis": "x63",
         "y": [
          3
         ],
         "yaxis": "y63"
        },
        {
         "alignmentgroup": "True",
         "hovertemplate": "emotion_output=%{x}<br>newspaper=ExpresoPeru<br>year_week=2022w44<br>counts=%{y}<extra></extra>",
         "legendgroup": "joy",
         "marker": {
          "color": "#b8bb26",
          "pattern": {
           "shape": ""
          }
         },
         "name": "joy",
         "offsetgroup": "joy",
         "orientation": "v",
         "showlegend": false,
         "textposition": "auto",
         "type": "bar",
         "x": [
          "joy"
         ],
         "xaxis": "x64",
         "y": [
          3
         ],
         "yaxis": "y64"
        },
        {
         "alignmentgroup": "True",
         "hovertemplate": "emotion_output=%{x}<br>newspaper=ExpresoPeru<br>year_week=2022w49<br>counts=%{y}<extra></extra>",
         "legendgroup": "joy",
         "marker": {
          "color": "#b8bb26",
          "pattern": {
           "shape": ""
          }
         },
         "name": "joy",
         "offsetgroup": "joy",
         "orientation": "v",
         "showlegend": false,
         "textposition": "auto",
         "type": "bar",
         "x": [
          "joy"
         ],
         "xaxis": "x65",
         "y": [
          2
         ],
         "yaxis": "y65"
        },
        {
         "alignmentgroup": "True",
         "hovertemplate": "emotion_output=%{x}<br>newspaper=ExpresoPeru<br>year_week=2023w2<br>counts=%{y}<extra></extra>",
         "legendgroup": "joy",
         "marker": {
          "color": "#b8bb26",
          "pattern": {
           "shape": ""
          }
         },
         "name": "joy",
         "offsetgroup": "joy",
         "orientation": "v",
         "showlegend": false,
         "textposition": "auto",
         "type": "bar",
         "x": [
          "joy"
         ],
         "xaxis": "x66",
         "y": [
          1
         ],
         "yaxis": "y66"
        },
        {
         "alignmentgroup": "True",
         "hovertemplate": "emotion_output=%{x}<br>newspaper=Gestionpe<br>year_week=2022w33<br>counts=%{y}<extra></extra>",
         "legendgroup": "joy",
         "marker": {
          "color": "#b8bb26",
          "pattern": {
           "shape": ""
          }
         },
         "name": "joy",
         "offsetgroup": "joy",
         "orientation": "v",
         "showlegend": false,
         "textposition": "auto",
         "type": "bar",
         "x": [
          "joy"
         ],
         "xaxis": "x55",
         "y": [
          5
         ],
         "yaxis": "y55"
        },
        {
         "alignmentgroup": "True",
         "hovertemplate": "emotion_output=%{x}<br>newspaper=Gestionpe<br>year_week=2022w34<br>counts=%{y}<extra></extra>",
         "legendgroup": "joy",
         "marker": {
          "color": "#b8bb26",
          "pattern": {
           "shape": ""
          }
         },
         "name": "joy",
         "offsetgroup": "joy",
         "orientation": "v",
         "showlegend": false,
         "textposition": "auto",
         "type": "bar",
         "x": [
          "joy"
         ],
         "xaxis": "x56",
         "y": [
          5
         ],
         "yaxis": "y56"
        },
        {
         "alignmentgroup": "True",
         "hovertemplate": "emotion_output=%{x}<br>newspaper=Gestionpe<br>year_week=2022w39<br>counts=%{y}<extra></extra>",
         "legendgroup": "joy",
         "marker": {
          "color": "#b8bb26",
          "pattern": {
           "shape": ""
          }
         },
         "name": "joy",
         "offsetgroup": "joy",
         "orientation": "v",
         "showlegend": false,
         "textposition": "auto",
         "type": "bar",
         "x": [
          "joy"
         ],
         "xaxis": "x57",
         "y": [
          5
         ],
         "yaxis": "y57"
        },
        {
         "alignmentgroup": "True",
         "hovertemplate": "emotion_output=%{x}<br>newspaper=Gestionpe<br>year_week=2022w44<br>counts=%{y}<extra></extra>",
         "legendgroup": "joy",
         "marker": {
          "color": "#b8bb26",
          "pattern": {
           "shape": ""
          }
         },
         "name": "joy",
         "offsetgroup": "joy",
         "orientation": "v",
         "showlegend": false,
         "textposition": "auto",
         "type": "bar",
         "x": [
          "joy"
         ],
         "xaxis": "x58",
         "y": [
          8
         ],
         "yaxis": "y58"
        },
        {
         "alignmentgroup": "True",
         "hovertemplate": "emotion_output=%{x}<br>newspaper=Gestionpe<br>year_week=2022w49<br>counts=%{y}<extra></extra>",
         "legendgroup": "joy",
         "marker": {
          "color": "#b8bb26",
          "pattern": {
           "shape": ""
          }
         },
         "name": "joy",
         "offsetgroup": "joy",
         "orientation": "v",
         "showlegend": false,
         "textposition": "auto",
         "type": "bar",
         "x": [
          "joy"
         ],
         "xaxis": "x59",
         "y": [
          6
         ],
         "yaxis": "y59"
        },
        {
         "alignmentgroup": "True",
         "hovertemplate": "emotion_output=%{x}<br>newspaper=Gestionpe<br>year_week=2023w2<br>counts=%{y}<extra></extra>",
         "legendgroup": "joy",
         "marker": {
          "color": "#b8bb26",
          "pattern": {
           "shape": ""
          }
         },
         "name": "joy",
         "offsetgroup": "joy",
         "orientation": "v",
         "showlegend": false,
         "textposition": "auto",
         "type": "bar",
         "x": [
          "joy"
         ],
         "xaxis": "x60",
         "y": [
          7
         ],
         "yaxis": "y60"
        },
        {
         "alignmentgroup": "True",
         "hovertemplate": "emotion_output=%{x}<br>newspaper=diariocorreo<br>year_week=2022w33<br>counts=%{y}<extra></extra>",
         "legendgroup": "joy",
         "marker": {
          "color": "#b8bb26",
          "pattern": {
           "shape": ""
          }
         },
         "name": "joy",
         "offsetgroup": "joy",
         "orientation": "v",
         "showlegend": false,
         "textposition": "auto",
         "type": "bar",
         "x": [
          "joy"
         ],
         "xaxis": "x49",
         "y": [
          7
         ],
         "yaxis": "y49"
        },
        {
         "alignmentgroup": "True",
         "hovertemplate": "emotion_output=%{x}<br>newspaper=diariocorreo<br>year_week=2022w34<br>counts=%{y}<extra></extra>",
         "legendgroup": "joy",
         "marker": {
          "color": "#b8bb26",
          "pattern": {
           "shape": ""
          }
         },
         "name": "joy",
         "offsetgroup": "joy",
         "orientation": "v",
         "showlegend": false,
         "textposition": "auto",
         "type": "bar",
         "x": [
          "joy"
         ],
         "xaxis": "x50",
         "y": [
          5
         ],
         "yaxis": "y50"
        },
        {
         "alignmentgroup": "True",
         "hovertemplate": "emotion_output=%{x}<br>newspaper=diariocorreo<br>year_week=2022w39<br>counts=%{y}<extra></extra>",
         "legendgroup": "joy",
         "marker": {
          "color": "#b8bb26",
          "pattern": {
           "shape": ""
          }
         },
         "name": "joy",
         "offsetgroup": "joy",
         "orientation": "v",
         "showlegend": false,
         "textposition": "auto",
         "type": "bar",
         "x": [
          "joy"
         ],
         "xaxis": "x51",
         "y": [
          10
         ],
         "yaxis": "y51"
        },
        {
         "alignmentgroup": "True",
         "hovertemplate": "emotion_output=%{x}<br>newspaper=diariocorreo<br>year_week=2022w44<br>counts=%{y}<extra></extra>",
         "legendgroup": "joy",
         "marker": {
          "color": "#b8bb26",
          "pattern": {
           "shape": ""
          }
         },
         "name": "joy",
         "offsetgroup": "joy",
         "orientation": "v",
         "showlegend": false,
         "textposition": "auto",
         "type": "bar",
         "x": [
          "joy"
         ],
         "xaxis": "x52",
         "y": [
          9
         ],
         "yaxis": "y52"
        },
        {
         "alignmentgroup": "True",
         "hovertemplate": "emotion_output=%{x}<br>newspaper=diariocorreo<br>year_week=2022w49<br>counts=%{y}<extra></extra>",
         "legendgroup": "joy",
         "marker": {
          "color": "#b8bb26",
          "pattern": {
           "shape": ""
          }
         },
         "name": "joy",
         "offsetgroup": "joy",
         "orientation": "v",
         "showlegend": false,
         "textposition": "auto",
         "type": "bar",
         "x": [
          "joy"
         ],
         "xaxis": "x53",
         "y": [
          7
         ],
         "yaxis": "y53"
        },
        {
         "alignmentgroup": "True",
         "hovertemplate": "emotion_output=%{x}<br>newspaper=diariocorreo<br>year_week=2023w2<br>counts=%{y}<extra></extra>",
         "legendgroup": "joy",
         "marker": {
          "color": "#b8bb26",
          "pattern": {
           "shape": ""
          }
         },
         "name": "joy",
         "offsetgroup": "joy",
         "orientation": "v",
         "showlegend": false,
         "textposition": "auto",
         "type": "bar",
         "x": [
          "joy"
         ],
         "xaxis": "x54",
         "y": [
          3
         ],
         "yaxis": "y54"
        },
        {
         "alignmentgroup": "True",
         "hovertemplate": "emotion_output=%{x}<br>newspaper=diarioojo<br>year_week=2022w33<br>counts=%{y}<extra></extra>",
         "legendgroup": "joy",
         "marker": {
          "color": "#b8bb26",
          "pattern": {
           "shape": ""
          }
         },
         "name": "joy",
         "offsetgroup": "joy",
         "orientation": "v",
         "showlegend": false,
         "textposition": "auto",
         "type": "bar",
         "x": [
          "joy"
         ],
         "xaxis": "x43",
         "y": [
          37
         ],
         "yaxis": "y43"
        },
        {
         "alignmentgroup": "True",
         "hovertemplate": "emotion_output=%{x}<br>newspaper=diarioojo<br>year_week=2022w34<br>counts=%{y}<extra></extra>",
         "legendgroup": "joy",
         "marker": {
          "color": "#b8bb26",
          "pattern": {
           "shape": ""
          }
         },
         "name": "joy",
         "offsetgroup": "joy",
         "orientation": "v",
         "showlegend": false,
         "textposition": "auto",
         "type": "bar",
         "x": [
          "joy"
         ],
         "xaxis": "x44",
         "y": [
          37
         ],
         "yaxis": "y44"
        },
        {
         "alignmentgroup": "True",
         "hovertemplate": "emotion_output=%{x}<br>newspaper=diarioojo<br>year_week=2022w39<br>counts=%{y}<extra></extra>",
         "legendgroup": "joy",
         "marker": {
          "color": "#b8bb26",
          "pattern": {
           "shape": ""
          }
         },
         "name": "joy",
         "offsetgroup": "joy",
         "orientation": "v",
         "showlegend": false,
         "textposition": "auto",
         "type": "bar",
         "x": [
          "joy"
         ],
         "xaxis": "x45",
         "y": [
          15
         ],
         "yaxis": "y45"
        },
        {
         "alignmentgroup": "True",
         "hovertemplate": "emotion_output=%{x}<br>newspaper=diarioojo<br>year_week=2022w44<br>counts=%{y}<extra></extra>",
         "legendgroup": "joy",
         "marker": {
          "color": "#b8bb26",
          "pattern": {
           "shape": ""
          }
         },
         "name": "joy",
         "offsetgroup": "joy",
         "orientation": "v",
         "showlegend": false,
         "textposition": "auto",
         "type": "bar",
         "x": [
          "joy"
         ],
         "xaxis": "x46",
         "y": [
          31
         ],
         "yaxis": "y46"
        },
        {
         "alignmentgroup": "True",
         "hovertemplate": "emotion_output=%{x}<br>newspaper=diarioojo<br>year_week=2022w49<br>counts=%{y}<extra></extra>",
         "legendgroup": "joy",
         "marker": {
          "color": "#b8bb26",
          "pattern": {
           "shape": ""
          }
         },
         "name": "joy",
         "offsetgroup": "joy",
         "orientation": "v",
         "showlegend": false,
         "textposition": "auto",
         "type": "bar",
         "x": [
          "joy"
         ],
         "xaxis": "x47",
         "y": [
          21
         ],
         "yaxis": "y47"
        },
        {
         "alignmentgroup": "True",
         "hovertemplate": "emotion_output=%{x}<br>newspaper=diarioojo<br>year_week=2023w2<br>counts=%{y}<extra></extra>",
         "legendgroup": "joy",
         "marker": {
          "color": "#b8bb26",
          "pattern": {
           "shape": ""
          }
         },
         "name": "joy",
         "offsetgroup": "joy",
         "orientation": "v",
         "showlegend": false,
         "textposition": "auto",
         "type": "bar",
         "x": [
          "joy"
         ],
         "xaxis": "x48",
         "y": [
          22
         ],
         "yaxis": "y48"
        },
        {
         "alignmentgroup": "True",
         "hovertemplate": "emotion_output=%{x}<br>newspaper=elbuho_pe<br>year_week=2022w34<br>counts=%{y}<extra></extra>",
         "legendgroup": "joy",
         "marker": {
          "color": "#b8bb26",
          "pattern": {
           "shape": ""
          }
         },
         "name": "joy",
         "offsetgroup": "joy",
         "orientation": "v",
         "showlegend": false,
         "textposition": "auto",
         "type": "bar",
         "x": [
          "joy"
         ],
         "xaxis": "x38",
         "y": [
          1
         ],
         "yaxis": "y38"
        },
        {
         "alignmentgroup": "True",
         "hovertemplate": "emotion_output=%{x}<br>newspaper=elbuho_pe<br>year_week=2022w44<br>counts=%{y}<extra></extra>",
         "legendgroup": "joy",
         "marker": {
          "color": "#b8bb26",
          "pattern": {
           "shape": ""
          }
         },
         "name": "joy",
         "offsetgroup": "joy",
         "orientation": "v",
         "showlegend": false,
         "textposition": "auto",
         "type": "bar",
         "x": [
          "joy"
         ],
         "xaxis": "x40",
         "y": [
          2
         ],
         "yaxis": "y40"
        },
        {
         "alignmentgroup": "True",
         "hovertemplate": "emotion_output=%{x}<br>newspaper=elcomercio_peru<br>year_week=2022w33<br>counts=%{y}<extra></extra>",
         "legendgroup": "joy",
         "marker": {
          "color": "#b8bb26",
          "pattern": {
           "shape": ""
          }
         },
         "name": "joy",
         "offsetgroup": "joy",
         "orientation": "v",
         "showlegend": false,
         "textposition": "auto",
         "type": "bar",
         "x": [
          "joy"
         ],
         "xaxis": "x31",
         "y": [
          3
         ],
         "yaxis": "y31"
        },
        {
         "alignmentgroup": "True",
         "hovertemplate": "emotion_output=%{x}<br>newspaper=elcomercio_peru<br>year_week=2022w34<br>counts=%{y}<extra></extra>",
         "legendgroup": "joy",
         "marker": {
          "color": "#b8bb26",
          "pattern": {
           "shape": ""
          }
         },
         "name": "joy",
         "offsetgroup": "joy",
         "orientation": "v",
         "showlegend": false,
         "textposition": "auto",
         "type": "bar",
         "x": [
          "joy"
         ],
         "xaxis": "x32",
         "y": [
          1
         ],
         "yaxis": "y32"
        },
        {
         "alignmentgroup": "True",
         "hovertemplate": "emotion_output=%{x}<br>newspaper=elcomercio_peru<br>year_week=2022w39<br>counts=%{y}<extra></extra>",
         "legendgroup": "joy",
         "marker": {
          "color": "#b8bb26",
          "pattern": {
           "shape": ""
          }
         },
         "name": "joy",
         "offsetgroup": "joy",
         "orientation": "v",
         "showlegend": false,
         "textposition": "auto",
         "type": "bar",
         "x": [
          "joy"
         ],
         "xaxis": "x33",
         "y": [
          3
         ],
         "yaxis": "y33"
        },
        {
         "alignmentgroup": "True",
         "hovertemplate": "emotion_output=%{x}<br>newspaper=elcomercio_peru<br>year_week=2022w44<br>counts=%{y}<extra></extra>",
         "legendgroup": "joy",
         "marker": {
          "color": "#b8bb26",
          "pattern": {
           "shape": ""
          }
         },
         "name": "joy",
         "offsetgroup": "joy",
         "orientation": "v",
         "showlegend": false,
         "textposition": "auto",
         "type": "bar",
         "x": [
          "joy"
         ],
         "xaxis": "x34",
         "y": [
          1
         ],
         "yaxis": "y34"
        },
        {
         "alignmentgroup": "True",
         "hovertemplate": "emotion_output=%{x}<br>newspaper=elcomercio_peru<br>year_week=2022w49<br>counts=%{y}<extra></extra>",
         "legendgroup": "joy",
         "marker": {
          "color": "#b8bb26",
          "pattern": {
           "shape": ""
          }
         },
         "name": "joy",
         "offsetgroup": "joy",
         "orientation": "v",
         "showlegend": false,
         "textposition": "auto",
         "type": "bar",
         "x": [
          "joy"
         ],
         "xaxis": "x35",
         "y": [
          4
         ],
         "yaxis": "y35"
        },
        {
         "alignmentgroup": "True",
         "hovertemplate": "emotion_output=%{x}<br>newspaper=elcomercio_peru<br>year_week=2023w2<br>counts=%{y}<extra></extra>",
         "legendgroup": "joy",
         "marker": {
          "color": "#b8bb26",
          "pattern": {
           "shape": ""
          }
         },
         "name": "joy",
         "offsetgroup": "joy",
         "orientation": "v",
         "showlegend": false,
         "textposition": "auto",
         "type": "bar",
         "x": [
          "joy"
         ],
         "xaxis": "x36",
         "y": [
          1
         ],
         "yaxis": "y36"
        },
        {
         "alignmentgroup": "True",
         "hovertemplate": "emotion_output=%{x}<br>newspaper=ensustrece<br>year_week=2022w39<br>counts=%{y}<extra></extra>",
         "legendgroup": "joy",
         "marker": {
          "color": "#b8bb26",
          "pattern": {
           "shape": ""
          }
         },
         "name": "joy",
         "offsetgroup": "joy",
         "orientation": "v",
         "showlegend": false,
         "textposition": "auto",
         "type": "bar",
         "x": [
          "joy"
         ],
         "xaxis": "x27",
         "y": [
          1
         ],
         "yaxis": "y27"
        },
        {
         "alignmentgroup": "True",
         "hovertemplate": "emotion_output=%{x}<br>newspaper=ensustrece<br>year_week=2022w49<br>counts=%{y}<extra></extra>",
         "legendgroup": "joy",
         "marker": {
          "color": "#b8bb26",
          "pattern": {
           "shape": ""
          }
         },
         "name": "joy",
         "offsetgroup": "joy",
         "orientation": "v",
         "showlegend": false,
         "textposition": "auto",
         "type": "bar",
         "x": [
          "joy"
         ],
         "xaxis": "x29",
         "y": [
          1
         ],
         "yaxis": "y29"
        },
        {
         "alignmentgroup": "True",
         "hovertemplate": "emotion_output=%{x}<br>newspaper=ensustrece<br>year_week=2023w2<br>counts=%{y}<extra></extra>",
         "legendgroup": "joy",
         "marker": {
          "color": "#b8bb26",
          "pattern": {
           "shape": ""
          }
         },
         "name": "joy",
         "offsetgroup": "joy",
         "orientation": "v",
         "showlegend": false,
         "textposition": "auto",
         "type": "bar",
         "x": [
          "joy"
         ],
         "xaxis": "x30",
         "y": [
          1
         ],
         "yaxis": "y30"
        },
        {
         "alignmentgroup": "True",
         "hovertemplate": "emotion_output=%{x}<br>newspaper=larazon_pe<br>year_week=2022w44<br>counts=%{y}<extra></extra>",
         "legendgroup": "joy",
         "marker": {
          "color": "#b8bb26",
          "pattern": {
           "shape": ""
          }
         },
         "name": "joy",
         "offsetgroup": "joy",
         "orientation": "v",
         "showlegend": false,
         "textposition": "auto",
         "type": "bar",
         "x": [
          "joy"
         ],
         "xaxis": "x22",
         "y": [
          2
         ],
         "yaxis": "y22"
        },
        {
         "alignmentgroup": "True",
         "hovertemplate": "emotion_output=%{x}<br>newspaper=larazon_pe<br>year_week=2022w49<br>counts=%{y}<extra></extra>",
         "legendgroup": "joy",
         "marker": {
          "color": "#b8bb26",
          "pattern": {
           "shape": ""
          }
         },
         "name": "joy",
         "offsetgroup": "joy",
         "orientation": "v",
         "showlegend": false,
         "textposition": "auto",
         "type": "bar",
         "x": [
          "joy"
         ],
         "xaxis": "x23",
         "y": [
          1
         ],
         "yaxis": "y23"
        },
        {
         "alignmentgroup": "True",
         "hovertemplate": "emotion_output=%{x}<br>newspaper=larepublica_pe<br>year_week=2022w33<br>counts=%{y}<extra></extra>",
         "legendgroup": "joy",
         "marker": {
          "color": "#b8bb26",
          "pattern": {
           "shape": ""
          }
         },
         "name": "joy",
         "offsetgroup": "joy",
         "orientation": "v",
         "showlegend": false,
         "textposition": "auto",
         "type": "bar",
         "x": [
          "joy"
         ],
         "xaxis": "x13",
         "y": [
          16
         ],
         "yaxis": "y13"
        },
        {
         "alignmentgroup": "True",
         "hovertemplate": "emotion_output=%{x}<br>newspaper=larepublica_pe<br>year_week=2022w34<br>counts=%{y}<extra></extra>",
         "legendgroup": "joy",
         "marker": {
          "color": "#b8bb26",
          "pattern": {
           "shape": ""
          }
         },
         "name": "joy",
         "offsetgroup": "joy",
         "orientation": "v",
         "showlegend": false,
         "textposition": "auto",
         "type": "bar",
         "x": [
          "joy"
         ],
         "xaxis": "x14",
         "y": [
          6
         ],
         "yaxis": "y14"
        },
        {
         "alignmentgroup": "True",
         "hovertemplate": "emotion_output=%{x}<br>newspaper=larepublica_pe<br>year_week=2022w39<br>counts=%{y}<extra></extra>",
         "legendgroup": "joy",
         "marker": {
          "color": "#b8bb26",
          "pattern": {
           "shape": ""
          }
         },
         "name": "joy",
         "offsetgroup": "joy",
         "orientation": "v",
         "showlegend": false,
         "textposition": "auto",
         "type": "bar",
         "x": [
          "joy"
         ],
         "xaxis": "x15",
         "y": [
          13
         ],
         "yaxis": "y15"
        },
        {
         "alignmentgroup": "True",
         "hovertemplate": "emotion_output=%{x}<br>newspaper=larepublica_pe<br>year_week=2022w44<br>counts=%{y}<extra></extra>",
         "legendgroup": "joy",
         "marker": {
          "color": "#b8bb26",
          "pattern": {
           "shape": ""
          }
         },
         "name": "joy",
         "offsetgroup": "joy",
         "orientation": "v",
         "showlegend": false,
         "textposition": "auto",
         "type": "bar",
         "x": [
          "joy"
         ],
         "xaxis": "x16",
         "y": [
          3
         ],
         "yaxis": "y16"
        },
        {
         "alignmentgroup": "True",
         "hovertemplate": "emotion_output=%{x}<br>newspaper=larepublica_pe<br>year_week=2022w49<br>counts=%{y}<extra></extra>",
         "legendgroup": "joy",
         "marker": {
          "color": "#b8bb26",
          "pattern": {
           "shape": ""
          }
         },
         "name": "joy",
         "offsetgroup": "joy",
         "orientation": "v",
         "showlegend": false,
         "textposition": "auto",
         "type": "bar",
         "x": [
          "joy"
         ],
         "xaxis": "x17",
         "y": [
          25
         ],
         "yaxis": "y17"
        },
        {
         "alignmentgroup": "True",
         "hovertemplate": "emotion_output=%{x}<br>newspaper=larepublica_pe<br>year_week=2023w2<br>counts=%{y}<extra></extra>",
         "legendgroup": "joy",
         "marker": {
          "color": "#b8bb26",
          "pattern": {
           "shape": ""
          }
         },
         "name": "joy",
         "offsetgroup": "joy",
         "orientation": "v",
         "showlegend": false,
         "textposition": "auto",
         "type": "bar",
         "x": [
          "joy"
         ],
         "xaxis": "x18",
         "y": [
          2
         ],
         "yaxis": "y18"
        },
        {
         "alignmentgroup": "True",
         "hovertemplate": "emotion_output=%{x}<br>newspaper=peru21noticias<br>year_week=2022w33<br>counts=%{y}<extra></extra>",
         "legendgroup": "joy",
         "marker": {
          "color": "#b8bb26",
          "pattern": {
           "shape": ""
          }
         },
         "name": "joy",
         "offsetgroup": "joy",
         "orientation": "v",
         "showlegend": false,
         "textposition": "auto",
         "type": "bar",
         "x": [
          "joy"
         ],
         "xaxis": "x7",
         "y": [
          26
         ],
         "yaxis": "y7"
        },
        {
         "alignmentgroup": "True",
         "hovertemplate": "emotion_output=%{x}<br>newspaper=peru21noticias<br>year_week=2022w34<br>counts=%{y}<extra></extra>",
         "legendgroup": "joy",
         "marker": {
          "color": "#b8bb26",
          "pattern": {
           "shape": ""
          }
         },
         "name": "joy",
         "offsetgroup": "joy",
         "orientation": "v",
         "showlegend": false,
         "textposition": "auto",
         "type": "bar",
         "x": [
          "joy"
         ],
         "xaxis": "x8",
         "y": [
          31
         ],
         "yaxis": "y8"
        },
        {
         "alignmentgroup": "True",
         "hovertemplate": "emotion_output=%{x}<br>newspaper=peru21noticias<br>year_week=2022w39<br>counts=%{y}<extra></extra>",
         "legendgroup": "joy",
         "marker": {
          "color": "#b8bb26",
          "pattern": {
           "shape": ""
          }
         },
         "name": "joy",
         "offsetgroup": "joy",
         "orientation": "v",
         "showlegend": false,
         "textposition": "auto",
         "type": "bar",
         "x": [
          "joy"
         ],
         "xaxis": "x9",
         "y": [
          19
         ],
         "yaxis": "y9"
        },
        {
         "alignmentgroup": "True",
         "hovertemplate": "emotion_output=%{x}<br>newspaper=peru21noticias<br>year_week=2022w44<br>counts=%{y}<extra></extra>",
         "legendgroup": "joy",
         "marker": {
          "color": "#b8bb26",
          "pattern": {
           "shape": ""
          }
         },
         "name": "joy",
         "offsetgroup": "joy",
         "orientation": "v",
         "showlegend": false,
         "textposition": "auto",
         "type": "bar",
         "x": [
          "joy"
         ],
         "xaxis": "x10",
         "y": [
          24
         ],
         "yaxis": "y10"
        },
        {
         "alignmentgroup": "True",
         "hovertemplate": "emotion_output=%{x}<br>newspaper=peru21noticias<br>year_week=2022w49<br>counts=%{y}<extra></extra>",
         "legendgroup": "joy",
         "marker": {
          "color": "#b8bb26",
          "pattern": {
           "shape": ""
          }
         },
         "name": "joy",
         "offsetgroup": "joy",
         "orientation": "v",
         "showlegend": false,
         "textposition": "auto",
         "type": "bar",
         "x": [
          "joy"
         ],
         "xaxis": "x11",
         "y": [
          30
         ],
         "yaxis": "y11"
        },
        {
         "alignmentgroup": "True",
         "hovertemplate": "emotion_output=%{x}<br>newspaper=peru21noticias<br>year_week=2023w2<br>counts=%{y}<extra></extra>",
         "legendgroup": "joy",
         "marker": {
          "color": "#b8bb26",
          "pattern": {
           "shape": ""
          }
         },
         "name": "joy",
         "offsetgroup": "joy",
         "orientation": "v",
         "showlegend": false,
         "textposition": "auto",
         "type": "bar",
         "x": [
          "joy"
         ],
         "xaxis": "x12",
         "y": [
          17
         ],
         "yaxis": "y12"
        },
        {
         "alignmentgroup": "True",
         "hovertemplate": "emotion_output=%{x}<br>newspaper=tromepe<br>year_week=2022w33<br>counts=%{y}<extra></extra>",
         "legendgroup": "joy",
         "marker": {
          "color": "#b8bb26",
          "pattern": {
           "shape": ""
          }
         },
         "name": "joy",
         "offsetgroup": "joy",
         "orientation": "v",
         "showlegend": false,
         "textposition": "auto",
         "type": "bar",
         "x": [
          "joy"
         ],
         "xaxis": "x",
         "y": [
          52
         ],
         "yaxis": "y"
        },
        {
         "alignmentgroup": "True",
         "hovertemplate": "emotion_output=%{x}<br>newspaper=tromepe<br>year_week=2022w34<br>counts=%{y}<extra></extra>",
         "legendgroup": "joy",
         "marker": {
          "color": "#b8bb26",
          "pattern": {
           "shape": ""
          }
         },
         "name": "joy",
         "offsetgroup": "joy",
         "orientation": "v",
         "showlegend": false,
         "textposition": "auto",
         "type": "bar",
         "x": [
          "joy"
         ],
         "xaxis": "x2",
         "y": [
          27
         ],
         "yaxis": "y2"
        },
        {
         "alignmentgroup": "True",
         "hovertemplate": "emotion_output=%{x}<br>newspaper=tromepe<br>year_week=2022w39<br>counts=%{y}<extra></extra>",
         "legendgroup": "joy",
         "marker": {
          "color": "#b8bb26",
          "pattern": {
           "shape": ""
          }
         },
         "name": "joy",
         "offsetgroup": "joy",
         "orientation": "v",
         "showlegend": false,
         "textposition": "auto",
         "type": "bar",
         "x": [
          "joy"
         ],
         "xaxis": "x3",
         "y": [
          35
         ],
         "yaxis": "y3"
        },
        {
         "alignmentgroup": "True",
         "hovertemplate": "emotion_output=%{x}<br>newspaper=tromepe<br>year_week=2022w44<br>counts=%{y}<extra></extra>",
         "legendgroup": "joy",
         "marker": {
          "color": "#b8bb26",
          "pattern": {
           "shape": ""
          }
         },
         "name": "joy",
         "offsetgroup": "joy",
         "orientation": "v",
         "showlegend": false,
         "textposition": "auto",
         "type": "bar",
         "x": [
          "joy"
         ],
         "xaxis": "x4",
         "y": [
          36
         ],
         "yaxis": "y4"
        },
        {
         "alignmentgroup": "True",
         "hovertemplate": "emotion_output=%{x}<br>newspaper=tromepe<br>year_week=2022w49<br>counts=%{y}<extra></extra>",
         "legendgroup": "joy",
         "marker": {
          "color": "#b8bb26",
          "pattern": {
           "shape": ""
          }
         },
         "name": "joy",
         "offsetgroup": "joy",
         "orientation": "v",
         "showlegend": false,
         "textposition": "auto",
         "type": "bar",
         "x": [
          "joy"
         ],
         "xaxis": "x5",
         "y": [
          36
         ],
         "yaxis": "y5"
        },
        {
         "alignmentgroup": "True",
         "hovertemplate": "emotion_output=%{x}<br>newspaper=tromepe<br>year_week=2023w2<br>counts=%{y}<extra></extra>",
         "legendgroup": "joy",
         "marker": {
          "color": "#b8bb26",
          "pattern": {
           "shape": ""
          }
         },
         "name": "joy",
         "offsetgroup": "joy",
         "orientation": "v",
         "showlegend": false,
         "textposition": "auto",
         "type": "bar",
         "x": [
          "joy"
         ],
         "xaxis": "x6",
         "y": [
          21
         ],
         "yaxis": "y6"
        },
        {
         "alignmentgroup": "True",
         "hovertemplate": "emotion_output=%{x}<br>newspaper=DiarioElPeruano<br>year_week=2022w34<br>counts=%{y}<extra></extra>",
         "legendgroup": "sadness",
         "marker": {
          "color": "#458588",
          "pattern": {
           "shape": ""
          }
         },
         "name": "sadness",
         "offsetgroup": "sadness",
         "orientation": "v",
         "showlegend": true,
         "textposition": "auto",
         "type": "bar",
         "x": [
          "sadness"
         ],
         "xaxis": "x68",
         "y": [
          5
         ],
         "yaxis": "y68"
        },
        {
         "alignmentgroup": "True",
         "hovertemplate": "emotion_output=%{x}<br>newspaper=DiarioElPeruano<br>year_week=2022w44<br>counts=%{y}<extra></extra>",
         "legendgroup": "sadness",
         "marker": {
          "color": "#458588",
          "pattern": {
           "shape": ""
          }
         },
         "name": "sadness",
         "offsetgroup": "sadness",
         "orientation": "v",
         "showlegend": false,
         "textposition": "auto",
         "type": "bar",
         "x": [
          "sadness"
         ],
         "xaxis": "x70",
         "y": [
          2
         ],
         "yaxis": "y70"
        },
        {
         "alignmentgroup": "True",
         "hovertemplate": "emotion_output=%{x}<br>newspaper=DiarioElPeruano<br>year_week=2022w49<br>counts=%{y}<extra></extra>",
         "legendgroup": "sadness",
         "marker": {
          "color": "#458588",
          "pattern": {
           "shape": ""
          }
         },
         "name": "sadness",
         "offsetgroup": "sadness",
         "orientation": "v",
         "showlegend": false,
         "textposition": "auto",
         "type": "bar",
         "x": [
          "sadness"
         ],
         "xaxis": "x71",
         "y": [
          2
         ],
         "yaxis": "y71"
        },
        {
         "alignmentgroup": "True",
         "hovertemplate": "emotion_output=%{x}<br>newspaper=DiarioElPeruano<br>year_week=2023w2<br>counts=%{y}<extra></extra>",
         "legendgroup": "sadness",
         "marker": {
          "color": "#458588",
          "pattern": {
           "shape": ""
          }
         },
         "name": "sadness",
         "offsetgroup": "sadness",
         "orientation": "v",
         "showlegend": false,
         "textposition": "auto",
         "type": "bar",
         "x": [
          "sadness"
         ],
         "xaxis": "x72",
         "y": [
          5
         ],
         "yaxis": "y72"
        },
        {
         "alignmentgroup": "True",
         "hovertemplate": "emotion_output=%{x}<br>newspaper=ExpresoPeru<br>year_week=2022w33<br>counts=%{y}<extra></extra>",
         "legendgroup": "sadness",
         "marker": {
          "color": "#458588",
          "pattern": {
           "shape": ""
          }
         },
         "name": "sadness",
         "offsetgroup": "sadness",
         "orientation": "v",
         "showlegend": false,
         "textposition": "auto",
         "type": "bar",
         "x": [
          "sadness"
         ],
         "xaxis": "x61",
         "y": [
          4
         ],
         "yaxis": "y61"
        },
        {
         "alignmentgroup": "True",
         "hovertemplate": "emotion_output=%{x}<br>newspaper=ExpresoPeru<br>year_week=2022w34<br>counts=%{y}<extra></extra>",
         "legendgroup": "sadness",
         "marker": {
          "color": "#458588",
          "pattern": {
           "shape": ""
          }
         },
         "name": "sadness",
         "offsetgroup": "sadness",
         "orientation": "v",
         "showlegend": false,
         "textposition": "auto",
         "type": "bar",
         "x": [
          "sadness"
         ],
         "xaxis": "x62",
         "y": [
          5
         ],
         "yaxis": "y62"
        },
        {
         "alignmentgroup": "True",
         "hovertemplate": "emotion_output=%{x}<br>newspaper=ExpresoPeru<br>year_week=2022w39<br>counts=%{y}<extra></extra>",
         "legendgroup": "sadness",
         "marker": {
          "color": "#458588",
          "pattern": {
           "shape": ""
          }
         },
         "name": "sadness",
         "offsetgroup": "sadness",
         "orientation": "v",
         "showlegend": false,
         "textposition": "auto",
         "type": "bar",
         "x": [
          "sadness"
         ],
         "xaxis": "x63",
         "y": [
          5
         ],
         "yaxis": "y63"
        },
        {
         "alignmentgroup": "True",
         "hovertemplate": "emotion_output=%{x}<br>newspaper=ExpresoPeru<br>year_week=2022w44<br>counts=%{y}<extra></extra>",
         "legendgroup": "sadness",
         "marker": {
          "color": "#458588",
          "pattern": {
           "shape": ""
          }
         },
         "name": "sadness",
         "offsetgroup": "sadness",
         "orientation": "v",
         "showlegend": false,
         "textposition": "auto",
         "type": "bar",
         "x": [
          "sadness"
         ],
         "xaxis": "x64",
         "y": [
          4
         ],
         "yaxis": "y64"
        },
        {
         "alignmentgroup": "True",
         "hovertemplate": "emotion_output=%{x}<br>newspaper=ExpresoPeru<br>year_week=2022w49<br>counts=%{y}<extra></extra>",
         "legendgroup": "sadness",
         "marker": {
          "color": "#458588",
          "pattern": {
           "shape": ""
          }
         },
         "name": "sadness",
         "offsetgroup": "sadness",
         "orientation": "v",
         "showlegend": false,
         "textposition": "auto",
         "type": "bar",
         "x": [
          "sadness"
         ],
         "xaxis": "x65",
         "y": [
          4
         ],
         "yaxis": "y65"
        },
        {
         "alignmentgroup": "True",
         "hovertemplate": "emotion_output=%{x}<br>newspaper=ExpresoPeru<br>year_week=2023w2<br>counts=%{y}<extra></extra>",
         "legendgroup": "sadness",
         "marker": {
          "color": "#458588",
          "pattern": {
           "shape": ""
          }
         },
         "name": "sadness",
         "offsetgroup": "sadness",
         "orientation": "v",
         "showlegend": false,
         "textposition": "auto",
         "type": "bar",
         "x": [
          "sadness"
         ],
         "xaxis": "x66",
         "y": [
          7
         ],
         "yaxis": "y66"
        },
        {
         "alignmentgroup": "True",
         "hovertemplate": "emotion_output=%{x}<br>newspaper=Gestionpe<br>year_week=2022w33<br>counts=%{y}<extra></extra>",
         "legendgroup": "sadness",
         "marker": {
          "color": "#458588",
          "pattern": {
           "shape": ""
          }
         },
         "name": "sadness",
         "offsetgroup": "sadness",
         "orientation": "v",
         "showlegend": false,
         "textposition": "auto",
         "type": "bar",
         "x": [
          "sadness"
         ],
         "xaxis": "x55",
         "y": [
          12
         ],
         "yaxis": "y55"
        },
        {
         "alignmentgroup": "True",
         "hovertemplate": "emotion_output=%{x}<br>newspaper=Gestionpe<br>year_week=2022w34<br>counts=%{y}<extra></extra>",
         "legendgroup": "sadness",
         "marker": {
          "color": "#458588",
          "pattern": {
           "shape": ""
          }
         },
         "name": "sadness",
         "offsetgroup": "sadness",
         "orientation": "v",
         "showlegend": false,
         "textposition": "auto",
         "type": "bar",
         "x": [
          "sadness"
         ],
         "xaxis": "x56",
         "y": [
          2
         ],
         "yaxis": "y56"
        },
        {
         "alignmentgroup": "True",
         "hovertemplate": "emotion_output=%{x}<br>newspaper=Gestionpe<br>year_week=2022w39<br>counts=%{y}<extra></extra>",
         "legendgroup": "sadness",
         "marker": {
          "color": "#458588",
          "pattern": {
           "shape": ""
          }
         },
         "name": "sadness",
         "offsetgroup": "sadness",
         "orientation": "v",
         "showlegend": false,
         "textposition": "auto",
         "type": "bar",
         "x": [
          "sadness"
         ],
         "xaxis": "x57",
         "y": [
          3
         ],
         "yaxis": "y57"
        },
        {
         "alignmentgroup": "True",
         "hovertemplate": "emotion_output=%{x}<br>newspaper=Gestionpe<br>year_week=2022w49<br>counts=%{y}<extra></extra>",
         "legendgroup": "sadness",
         "marker": {
          "color": "#458588",
          "pattern": {
           "shape": ""
          }
         },
         "name": "sadness",
         "offsetgroup": "sadness",
         "orientation": "v",
         "showlegend": false,
         "textposition": "auto",
         "type": "bar",
         "x": [
          "sadness"
         ],
         "xaxis": "x59",
         "y": [
          5
         ],
         "yaxis": "y59"
        },
        {
         "alignmentgroup": "True",
         "hovertemplate": "emotion_output=%{x}<br>newspaper=Gestionpe<br>year_week=2023w2<br>counts=%{y}<extra></extra>",
         "legendgroup": "sadness",
         "marker": {
          "color": "#458588",
          "pattern": {
           "shape": ""
          }
         },
         "name": "sadness",
         "offsetgroup": "sadness",
         "orientation": "v",
         "showlegend": false,
         "textposition": "auto",
         "type": "bar",
         "x": [
          "sadness"
         ],
         "xaxis": "x60",
         "y": [
          11
         ],
         "yaxis": "y60"
        },
        {
         "alignmentgroup": "True",
         "hovertemplate": "emotion_output=%{x}<br>newspaper=diariocorreo<br>year_week=2022w33<br>counts=%{y}<extra></extra>",
         "legendgroup": "sadness",
         "marker": {
          "color": "#458588",
          "pattern": {
           "shape": ""
          }
         },
         "name": "sadness",
         "offsetgroup": "sadness",
         "orientation": "v",
         "showlegend": false,
         "textposition": "auto",
         "type": "bar",
         "x": [
          "sadness"
         ],
         "xaxis": "x49",
         "y": [
          17
         ],
         "yaxis": "y49"
        },
        {
         "alignmentgroup": "True",
         "hovertemplate": "emotion_output=%{x}<br>newspaper=diariocorreo<br>year_week=2022w34<br>counts=%{y}<extra></extra>",
         "legendgroup": "sadness",
         "marker": {
          "color": "#458588",
          "pattern": {
           "shape": ""
          }
         },
         "name": "sadness",
         "offsetgroup": "sadness",
         "orientation": "v",
         "showlegend": false,
         "textposition": "auto",
         "type": "bar",
         "x": [
          "sadness"
         ],
         "xaxis": "x50",
         "y": [
          4
         ],
         "yaxis": "y50"
        },
        {
         "alignmentgroup": "True",
         "hovertemplate": "emotion_output=%{x}<br>newspaper=diariocorreo<br>year_week=2022w39<br>counts=%{y}<extra></extra>",
         "legendgroup": "sadness",
         "marker": {
          "color": "#458588",
          "pattern": {
           "shape": ""
          }
         },
         "name": "sadness",
         "offsetgroup": "sadness",
         "orientation": "v",
         "showlegend": false,
         "textposition": "auto",
         "type": "bar",
         "x": [
          "sadness"
         ],
         "xaxis": "x51",
         "y": [
          10
         ],
         "yaxis": "y51"
        },
        {
         "alignmentgroup": "True",
         "hovertemplate": "emotion_output=%{x}<br>newspaper=diariocorreo<br>year_week=2022w44<br>counts=%{y}<extra></extra>",
         "legendgroup": "sadness",
         "marker": {
          "color": "#458588",
          "pattern": {
           "shape": ""
          }
         },
         "name": "sadness",
         "offsetgroup": "sadness",
         "orientation": "v",
         "showlegend": false,
         "textposition": "auto",
         "type": "bar",
         "x": [
          "sadness"
         ],
         "xaxis": "x52",
         "y": [
          13
         ],
         "yaxis": "y52"
        },
        {
         "alignmentgroup": "True",
         "hovertemplate": "emotion_output=%{x}<br>newspaper=diariocorreo<br>year_week=2022w49<br>counts=%{y}<extra></extra>",
         "legendgroup": "sadness",
         "marker": {
          "color": "#458588",
          "pattern": {
           "shape": ""
          }
         },
         "name": "sadness",
         "offsetgroup": "sadness",
         "orientation": "v",
         "showlegend": false,
         "textposition": "auto",
         "type": "bar",
         "x": [
          "sadness"
         ],
         "xaxis": "x53",
         "y": [
          9
         ],
         "yaxis": "y53"
        },
        {
         "alignmentgroup": "True",
         "hovertemplate": "emotion_output=%{x}<br>newspaper=diariocorreo<br>year_week=2023w2<br>counts=%{y}<extra></extra>",
         "legendgroup": "sadness",
         "marker": {
          "color": "#458588",
          "pattern": {
           "shape": ""
          }
         },
         "name": "sadness",
         "offsetgroup": "sadness",
         "orientation": "v",
         "showlegend": false,
         "textposition": "auto",
         "type": "bar",
         "x": [
          "sadness"
         ],
         "xaxis": "x54",
         "y": [
          6
         ],
         "yaxis": "y54"
        },
        {
         "alignmentgroup": "True",
         "hovertemplate": "emotion_output=%{x}<br>newspaper=diarioojo<br>year_week=2022w33<br>counts=%{y}<extra></extra>",
         "legendgroup": "sadness",
         "marker": {
          "color": "#458588",
          "pattern": {
           "shape": ""
          }
         },
         "name": "sadness",
         "offsetgroup": "sadness",
         "orientation": "v",
         "showlegend": false,
         "textposition": "auto",
         "type": "bar",
         "x": [
          "sadness"
         ],
         "xaxis": "x43",
         "y": [
          19
         ],
         "yaxis": "y43"
        },
        {
         "alignmentgroup": "True",
         "hovertemplate": "emotion_output=%{x}<br>newspaper=diarioojo<br>year_week=2022w34<br>counts=%{y}<extra></extra>",
         "legendgroup": "sadness",
         "marker": {
          "color": "#458588",
          "pattern": {
           "shape": ""
          }
         },
         "name": "sadness",
         "offsetgroup": "sadness",
         "orientation": "v",
         "showlegend": false,
         "textposition": "auto",
         "type": "bar",
         "x": [
          "sadness"
         ],
         "xaxis": "x44",
         "y": [
          17
         ],
         "yaxis": "y44"
        },
        {
         "alignmentgroup": "True",
         "hovertemplate": "emotion_output=%{x}<br>newspaper=diarioojo<br>year_week=2022w39<br>counts=%{y}<extra></extra>",
         "legendgroup": "sadness",
         "marker": {
          "color": "#458588",
          "pattern": {
           "shape": ""
          }
         },
         "name": "sadness",
         "offsetgroup": "sadness",
         "orientation": "v",
         "showlegend": false,
         "textposition": "auto",
         "type": "bar",
         "x": [
          "sadness"
         ],
         "xaxis": "x45",
         "y": [
          9
         ],
         "yaxis": "y45"
        },
        {
         "alignmentgroup": "True",
         "hovertemplate": "emotion_output=%{x}<br>newspaper=diarioojo<br>year_week=2022w44<br>counts=%{y}<extra></extra>",
         "legendgroup": "sadness",
         "marker": {
          "color": "#458588",
          "pattern": {
           "shape": ""
          }
         },
         "name": "sadness",
         "offsetgroup": "sadness",
         "orientation": "v",
         "showlegend": false,
         "textposition": "auto",
         "type": "bar",
         "x": [
          "sadness"
         ],
         "xaxis": "x46",
         "y": [
          20
         ],
         "yaxis": "y46"
        },
        {
         "alignmentgroup": "True",
         "hovertemplate": "emotion_output=%{x}<br>newspaper=diarioojo<br>year_week=2022w49<br>counts=%{y}<extra></extra>",
         "legendgroup": "sadness",
         "marker": {
          "color": "#458588",
          "pattern": {
           "shape": ""
          }
         },
         "name": "sadness",
         "offsetgroup": "sadness",
         "orientation": "v",
         "showlegend": false,
         "textposition": "auto",
         "type": "bar",
         "x": [
          "sadness"
         ],
         "xaxis": "x47",
         "y": [
          14
         ],
         "yaxis": "y47"
        },
        {
         "alignmentgroup": "True",
         "hovertemplate": "emotion_output=%{x}<br>newspaper=diarioojo<br>year_week=2023w2<br>counts=%{y}<extra></extra>",
         "legendgroup": "sadness",
         "marker": {
          "color": "#458588",
          "pattern": {
           "shape": ""
          }
         },
         "name": "sadness",
         "offsetgroup": "sadness",
         "orientation": "v",
         "showlegend": false,
         "textposition": "auto",
         "type": "bar",
         "x": [
          "sadness"
         ],
         "xaxis": "x48",
         "y": [
          10
         ],
         "yaxis": "y48"
        },
        {
         "alignmentgroup": "True",
         "hovertemplate": "emotion_output=%{x}<br>newspaper=elbuho_pe<br>year_week=2022w34<br>counts=%{y}<extra></extra>",
         "legendgroup": "sadness",
         "marker": {
          "color": "#458588",
          "pattern": {
           "shape": ""
          }
         },
         "name": "sadness",
         "offsetgroup": "sadness",
         "orientation": "v",
         "showlegend": false,
         "textposition": "auto",
         "type": "bar",
         "x": [
          "sadness"
         ],
         "xaxis": "x38",
         "y": [
          1
         ],
         "yaxis": "y38"
        },
        {
         "alignmentgroup": "True",
         "hovertemplate": "emotion_output=%{x}<br>newspaper=elbuho_pe<br>year_week=2022w39<br>counts=%{y}<extra></extra>",
         "legendgroup": "sadness",
         "marker": {
          "color": "#458588",
          "pattern": {
           "shape": ""
          }
         },
         "name": "sadness",
         "offsetgroup": "sadness",
         "orientation": "v",
         "showlegend": false,
         "textposition": "auto",
         "type": "bar",
         "x": [
          "sadness"
         ],
         "xaxis": "x39",
         "y": [
          1
         ],
         "yaxis": "y39"
        },
        {
         "alignmentgroup": "True",
         "hovertemplate": "emotion_output=%{x}<br>newspaper=elbuho_pe<br>year_week=2022w44<br>counts=%{y}<extra></extra>",
         "legendgroup": "sadness",
         "marker": {
          "color": "#458588",
          "pattern": {
           "shape": ""
          }
         },
         "name": "sadness",
         "offsetgroup": "sadness",
         "orientation": "v",
         "showlegend": false,
         "textposition": "auto",
         "type": "bar",
         "x": [
          "sadness"
         ],
         "xaxis": "x40",
         "y": [
          2
         ],
         "yaxis": "y40"
        },
        {
         "alignmentgroup": "True",
         "hovertemplate": "emotion_output=%{x}<br>newspaper=elbuho_pe<br>year_week=2022w49<br>counts=%{y}<extra></extra>",
         "legendgroup": "sadness",
         "marker": {
          "color": "#458588",
          "pattern": {
           "shape": ""
          }
         },
         "name": "sadness",
         "offsetgroup": "sadness",
         "orientation": "v",
         "showlegend": false,
         "textposition": "auto",
         "type": "bar",
         "x": [
          "sadness"
         ],
         "xaxis": "x41",
         "y": [
          1
         ],
         "yaxis": "y41"
        },
        {
         "alignmentgroup": "True",
         "hovertemplate": "emotion_output=%{x}<br>newspaper=elbuho_pe<br>year_week=2023w2<br>counts=%{y}<extra></extra>",
         "legendgroup": "sadness",
         "marker": {
          "color": "#458588",
          "pattern": {
           "shape": ""
          }
         },
         "name": "sadness",
         "offsetgroup": "sadness",
         "orientation": "v",
         "showlegend": false,
         "textposition": "auto",
         "type": "bar",
         "x": [
          "sadness"
         ],
         "xaxis": "x42",
         "y": [
          4
         ],
         "yaxis": "y42"
        },
        {
         "alignmentgroup": "True",
         "hovertemplate": "emotion_output=%{x}<br>newspaper=elcomercio_peru<br>year_week=2022w33<br>counts=%{y}<extra></extra>",
         "legendgroup": "sadness",
         "marker": {
          "color": "#458588",
          "pattern": {
           "shape": ""
          }
         },
         "name": "sadness",
         "offsetgroup": "sadness",
         "orientation": "v",
         "showlegend": false,
         "textposition": "auto",
         "type": "bar",
         "x": [
          "sadness"
         ],
         "xaxis": "x31",
         "y": [
          10
         ],
         "yaxis": "y31"
        },
        {
         "alignmentgroup": "True",
         "hovertemplate": "emotion_output=%{x}<br>newspaper=elcomercio_peru<br>year_week=2022w34<br>counts=%{y}<extra></extra>",
         "legendgroup": "sadness",
         "marker": {
          "color": "#458588",
          "pattern": {
           "shape": ""
          }
         },
         "name": "sadness",
         "offsetgroup": "sadness",
         "orientation": "v",
         "showlegend": false,
         "textposition": "auto",
         "type": "bar",
         "x": [
          "sadness"
         ],
         "xaxis": "x32",
         "y": [
          10
         ],
         "yaxis": "y32"
        },
        {
         "alignmentgroup": "True",
         "hovertemplate": "emotion_output=%{x}<br>newspaper=elcomercio_peru<br>year_week=2022w39<br>counts=%{y}<extra></extra>",
         "legendgroup": "sadness",
         "marker": {
          "color": "#458588",
          "pattern": {
           "shape": ""
          }
         },
         "name": "sadness",
         "offsetgroup": "sadness",
         "orientation": "v",
         "showlegend": false,
         "textposition": "auto",
         "type": "bar",
         "x": [
          "sadness"
         ],
         "xaxis": "x33",
         "y": [
          8
         ],
         "yaxis": "y33"
        },
        {
         "alignmentgroup": "True",
         "hovertemplate": "emotion_output=%{x}<br>newspaper=elcomercio_peru<br>year_week=2022w44<br>counts=%{y}<extra></extra>",
         "legendgroup": "sadness",
         "marker": {
          "color": "#458588",
          "pattern": {
           "shape": ""
          }
         },
         "name": "sadness",
         "offsetgroup": "sadness",
         "orientation": "v",
         "showlegend": false,
         "textposition": "auto",
         "type": "bar",
         "x": [
          "sadness"
         ],
         "xaxis": "x34",
         "y": [
          8
         ],
         "yaxis": "y34"
        },
        {
         "alignmentgroup": "True",
         "hovertemplate": "emotion_output=%{x}<br>newspaper=elcomercio_peru<br>year_week=2022w49<br>counts=%{y}<extra></extra>",
         "legendgroup": "sadness",
         "marker": {
          "color": "#458588",
          "pattern": {
           "shape": ""
          }
         },
         "name": "sadness",
         "offsetgroup": "sadness",
         "orientation": "v",
         "showlegend": false,
         "textposition": "auto",
         "type": "bar",
         "x": [
          "sadness"
         ],
         "xaxis": "x35",
         "y": [
          6
         ],
         "yaxis": "y35"
        },
        {
         "alignmentgroup": "True",
         "hovertemplate": "emotion_output=%{x}<br>newspaper=elcomercio_peru<br>year_week=2023w2<br>counts=%{y}<extra></extra>",
         "legendgroup": "sadness",
         "marker": {
          "color": "#458588",
          "pattern": {
           "shape": ""
          }
         },
         "name": "sadness",
         "offsetgroup": "sadness",
         "orientation": "v",
         "showlegend": false,
         "textposition": "auto",
         "type": "bar",
         "x": [
          "sadness"
         ],
         "xaxis": "x36",
         "y": [
          18
         ],
         "yaxis": "y36"
        },
        {
         "alignmentgroup": "True",
         "hovertemplate": "emotion_output=%{x}<br>newspaper=ensustrece<br>year_week=2022w34<br>counts=%{y}<extra></extra>",
         "legendgroup": "sadness",
         "marker": {
          "color": "#458588",
          "pattern": {
           "shape": ""
          }
         },
         "name": "sadness",
         "offsetgroup": "sadness",
         "orientation": "v",
         "showlegend": false,
         "textposition": "auto",
         "type": "bar",
         "x": [
          "sadness"
         ],
         "xaxis": "x26",
         "y": [
          2
         ],
         "yaxis": "y26"
        },
        {
         "alignmentgroup": "True",
         "hovertemplate": "emotion_output=%{x}<br>newspaper=ensustrece<br>year_week=2022w49<br>counts=%{y}<extra></extra>",
         "legendgroup": "sadness",
         "marker": {
          "color": "#458588",
          "pattern": {
           "shape": ""
          }
         },
         "name": "sadness",
         "offsetgroup": "sadness",
         "orientation": "v",
         "showlegend": false,
         "textposition": "auto",
         "type": "bar",
         "x": [
          "sadness"
         ],
         "xaxis": "x29",
         "y": [
          1
         ],
         "yaxis": "y29"
        },
        {
         "alignmentgroup": "True",
         "hovertemplate": "emotion_output=%{x}<br>newspaper=larazon_pe<br>year_week=2022w33<br>counts=%{y}<extra></extra>",
         "legendgroup": "sadness",
         "marker": {
          "color": "#458588",
          "pattern": {
           "shape": ""
          }
         },
         "name": "sadness",
         "offsetgroup": "sadness",
         "orientation": "v",
         "showlegend": false,
         "textposition": "auto",
         "type": "bar",
         "x": [
          "sadness"
         ],
         "xaxis": "x19",
         "y": [
          2
         ],
         "yaxis": "y19"
        },
        {
         "alignmentgroup": "True",
         "hovertemplate": "emotion_output=%{x}<br>newspaper=larazon_pe<br>year_week=2022w49<br>counts=%{y}<extra></extra>",
         "legendgroup": "sadness",
         "marker": {
          "color": "#458588",
          "pattern": {
           "shape": ""
          }
         },
         "name": "sadness",
         "offsetgroup": "sadness",
         "orientation": "v",
         "showlegend": false,
         "textposition": "auto",
         "type": "bar",
         "x": [
          "sadness"
         ],
         "xaxis": "x23",
         "y": [
          1
         ],
         "yaxis": "y23"
        },
        {
         "alignmentgroup": "True",
         "hovertemplate": "emotion_output=%{x}<br>newspaper=larazon_pe<br>year_week=2023w2<br>counts=%{y}<extra></extra>",
         "legendgroup": "sadness",
         "marker": {
          "color": "#458588",
          "pattern": {
           "shape": ""
          }
         },
         "name": "sadness",
         "offsetgroup": "sadness",
         "orientation": "v",
         "showlegend": false,
         "textposition": "auto",
         "type": "bar",
         "x": [
          "sadness"
         ],
         "xaxis": "x24",
         "y": [
          1
         ],
         "yaxis": "y24"
        },
        {
         "alignmentgroup": "True",
         "hovertemplate": "emotion_output=%{x}<br>newspaper=larepublica_pe<br>year_week=2022w33<br>counts=%{y}<extra></extra>",
         "legendgroup": "sadness",
         "marker": {
          "color": "#458588",
          "pattern": {
           "shape": ""
          }
         },
         "name": "sadness",
         "offsetgroup": "sadness",
         "orientation": "v",
         "showlegend": false,
         "textposition": "auto",
         "type": "bar",
         "x": [
          "sadness"
         ],
         "xaxis": "x13",
         "y": [
          14
         ],
         "yaxis": "y13"
        },
        {
         "alignmentgroup": "True",
         "hovertemplate": "emotion_output=%{x}<br>newspaper=larepublica_pe<br>year_week=2022w34<br>counts=%{y}<extra></extra>",
         "legendgroup": "sadness",
         "marker": {
          "color": "#458588",
          "pattern": {
           "shape": ""
          }
         },
         "name": "sadness",
         "offsetgroup": "sadness",
         "orientation": "v",
         "showlegend": false,
         "textposition": "auto",
         "type": "bar",
         "x": [
          "sadness"
         ],
         "xaxis": "x14",
         "y": [
          12
         ],
         "yaxis": "y14"
        },
        {
         "alignmentgroup": "True",
         "hovertemplate": "emotion_output=%{x}<br>newspaper=larepublica_pe<br>year_week=2022w39<br>counts=%{y}<extra></extra>",
         "legendgroup": "sadness",
         "marker": {
          "color": "#458588",
          "pattern": {
           "shape": ""
          }
         },
         "name": "sadness",
         "offsetgroup": "sadness",
         "orientation": "v",
         "showlegend": false,
         "textposition": "auto",
         "type": "bar",
         "x": [
          "sadness"
         ],
         "xaxis": "x15",
         "y": [
          14
         ],
         "yaxis": "y15"
        },
        {
         "alignmentgroup": "True",
         "hovertemplate": "emotion_output=%{x}<br>newspaper=larepublica_pe<br>year_week=2022w44<br>counts=%{y}<extra></extra>",
         "legendgroup": "sadness",
         "marker": {
          "color": "#458588",
          "pattern": {
           "shape": ""
          }
         },
         "name": "sadness",
         "offsetgroup": "sadness",
         "orientation": "v",
         "showlegend": false,
         "textposition": "auto",
         "type": "bar",
         "x": [
          "sadness"
         ],
         "xaxis": "x16",
         "y": [
          15
         ],
         "yaxis": "y16"
        },
        {
         "alignmentgroup": "True",
         "hovertemplate": "emotion_output=%{x}<br>newspaper=larepublica_pe<br>year_week=2022w49<br>counts=%{y}<extra></extra>",
         "legendgroup": "sadness",
         "marker": {
          "color": "#458588",
          "pattern": {
           "shape": ""
          }
         },
         "name": "sadness",
         "offsetgroup": "sadness",
         "orientation": "v",
         "showlegend": false,
         "textposition": "auto",
         "type": "bar",
         "x": [
          "sadness"
         ],
         "xaxis": "x17",
         "y": [
          11
         ],
         "yaxis": "y17"
        },
        {
         "alignmentgroup": "True",
         "hovertemplate": "emotion_output=%{x}<br>newspaper=larepublica_pe<br>year_week=2023w2<br>counts=%{y}<extra></extra>",
         "legendgroup": "sadness",
         "marker": {
          "color": "#458588",
          "pattern": {
           "shape": ""
          }
         },
         "name": "sadness",
         "offsetgroup": "sadness",
         "orientation": "v",
         "showlegend": false,
         "textposition": "auto",
         "type": "bar",
         "x": [
          "sadness"
         ],
         "xaxis": "x18",
         "y": [
          10
         ],
         "yaxis": "y18"
        },
        {
         "alignmentgroup": "True",
         "hovertemplate": "emotion_output=%{x}<br>newspaper=peru21noticias<br>year_week=2022w33<br>counts=%{y}<extra></extra>",
         "legendgroup": "sadness",
         "marker": {
          "color": "#458588",
          "pattern": {
           "shape": ""
          }
         },
         "name": "sadness",
         "offsetgroup": "sadness",
         "orientation": "v",
         "showlegend": false,
         "textposition": "auto",
         "type": "bar",
         "x": [
          "sadness"
         ],
         "xaxis": "x7",
         "y": [
          26
         ],
         "yaxis": "y7"
        },
        {
         "alignmentgroup": "True",
         "hovertemplate": "emotion_output=%{x}<br>newspaper=peru21noticias<br>year_week=2022w34<br>counts=%{y}<extra></extra>",
         "legendgroup": "sadness",
         "marker": {
          "color": "#458588",
          "pattern": {
           "shape": ""
          }
         },
         "name": "sadness",
         "offsetgroup": "sadness",
         "orientation": "v",
         "showlegend": false,
         "textposition": "auto",
         "type": "bar",
         "x": [
          "sadness"
         ],
         "xaxis": "x8",
         "y": [
          12
         ],
         "yaxis": "y8"
        },
        {
         "alignmentgroup": "True",
         "hovertemplate": "emotion_output=%{x}<br>newspaper=peru21noticias<br>year_week=2022w39<br>counts=%{y}<extra></extra>",
         "legendgroup": "sadness",
         "marker": {
          "color": "#458588",
          "pattern": {
           "shape": ""
          }
         },
         "name": "sadness",
         "offsetgroup": "sadness",
         "orientation": "v",
         "showlegend": false,
         "textposition": "auto",
         "type": "bar",
         "x": [
          "sadness"
         ],
         "xaxis": "x9",
         "y": [
          17
         ],
         "yaxis": "y9"
        },
        {
         "alignmentgroup": "True",
         "hovertemplate": "emotion_output=%{x}<br>newspaper=peru21noticias<br>year_week=2022w44<br>counts=%{y}<extra></extra>",
         "legendgroup": "sadness",
         "marker": {
          "color": "#458588",
          "pattern": {
           "shape": ""
          }
         },
         "name": "sadness",
         "offsetgroup": "sadness",
         "orientation": "v",
         "showlegend": false,
         "textposition": "auto",
         "type": "bar",
         "x": [
          "sadness"
         ],
         "xaxis": "x10",
         "y": [
          10
         ],
         "yaxis": "y10"
        },
        {
         "alignmentgroup": "True",
         "hovertemplate": "emotion_output=%{x}<br>newspaper=peru21noticias<br>year_week=2022w49<br>counts=%{y}<extra></extra>",
         "legendgroup": "sadness",
         "marker": {
          "color": "#458588",
          "pattern": {
           "shape": ""
          }
         },
         "name": "sadness",
         "offsetgroup": "sadness",
         "orientation": "v",
         "showlegend": false,
         "textposition": "auto",
         "type": "bar",
         "x": [
          "sadness"
         ],
         "xaxis": "x11",
         "y": [
          17
         ],
         "yaxis": "y11"
        },
        {
         "alignmentgroup": "True",
         "hovertemplate": "emotion_output=%{x}<br>newspaper=peru21noticias<br>year_week=2023w2<br>counts=%{y}<extra></extra>",
         "legendgroup": "sadness",
         "marker": {
          "color": "#458588",
          "pattern": {
           "shape": ""
          }
         },
         "name": "sadness",
         "offsetgroup": "sadness",
         "orientation": "v",
         "showlegend": false,
         "textposition": "auto",
         "type": "bar",
         "x": [
          "sadness"
         ],
         "xaxis": "x12",
         "y": [
          8
         ],
         "yaxis": "y12"
        },
        {
         "alignmentgroup": "True",
         "hovertemplate": "emotion_output=%{x}<br>newspaper=tromepe<br>year_week=2022w33<br>counts=%{y}<extra></extra>",
         "legendgroup": "sadness",
         "marker": {
          "color": "#458588",
          "pattern": {
           "shape": ""
          }
         },
         "name": "sadness",
         "offsetgroup": "sadness",
         "orientation": "v",
         "showlegend": false,
         "textposition": "auto",
         "type": "bar",
         "x": [
          "sadness"
         ],
         "xaxis": "x",
         "y": [
          22
         ],
         "yaxis": "y"
        },
        {
         "alignmentgroup": "True",
         "hovertemplate": "emotion_output=%{x}<br>newspaper=tromepe<br>year_week=2022w34<br>counts=%{y}<extra></extra>",
         "legendgroup": "sadness",
         "marker": {
          "color": "#458588",
          "pattern": {
           "shape": ""
          }
         },
         "name": "sadness",
         "offsetgroup": "sadness",
         "orientation": "v",
         "showlegend": false,
         "textposition": "auto",
         "type": "bar",
         "x": [
          "sadness"
         ],
         "xaxis": "x2",
         "y": [
          16
         ],
         "yaxis": "y2"
        },
        {
         "alignmentgroup": "True",
         "hovertemplate": "emotion_output=%{x}<br>newspaper=tromepe<br>year_week=2022w39<br>counts=%{y}<extra></extra>",
         "legendgroup": "sadness",
         "marker": {
          "color": "#458588",
          "pattern": {
           "shape": ""
          }
         },
         "name": "sadness",
         "offsetgroup": "sadness",
         "orientation": "v",
         "showlegend": false,
         "textposition": "auto",
         "type": "bar",
         "x": [
          "sadness"
         ],
         "xaxis": "x3",
         "y": [
          23
         ],
         "yaxis": "y3"
        },
        {
         "alignmentgroup": "True",
         "hovertemplate": "emotion_output=%{x}<br>newspaper=tromepe<br>year_week=2022w44<br>counts=%{y}<extra></extra>",
         "legendgroup": "sadness",
         "marker": {
          "color": "#458588",
          "pattern": {
           "shape": ""
          }
         },
         "name": "sadness",
         "offsetgroup": "sadness",
         "orientation": "v",
         "showlegend": false,
         "textposition": "auto",
         "type": "bar",
         "x": [
          "sadness"
         ],
         "xaxis": "x4",
         "y": [
          12
         ],
         "yaxis": "y4"
        },
        {
         "alignmentgroup": "True",
         "hovertemplate": "emotion_output=%{x}<br>newspaper=tromepe<br>year_week=2022w49<br>counts=%{y}<extra></extra>",
         "legendgroup": "sadness",
         "marker": {
          "color": "#458588",
          "pattern": {
           "shape": ""
          }
         },
         "name": "sadness",
         "offsetgroup": "sadness",
         "orientation": "v",
         "showlegend": false,
         "textposition": "auto",
         "type": "bar",
         "x": [
          "sadness"
         ],
         "xaxis": "x5",
         "y": [
          22
         ],
         "yaxis": "y5"
        },
        {
         "alignmentgroup": "True",
         "hovertemplate": "emotion_output=%{x}<br>newspaper=tromepe<br>year_week=2023w2<br>counts=%{y}<extra></extra>",
         "legendgroup": "sadness",
         "marker": {
          "color": "#458588",
          "pattern": {
           "shape": ""
          }
         },
         "name": "sadness",
         "offsetgroup": "sadness",
         "orientation": "v",
         "showlegend": false,
         "textposition": "auto",
         "type": "bar",
         "x": [
          "sadness"
         ],
         "xaxis": "x6",
         "y": [
          26
         ],
         "yaxis": "y6"
        },
        {
         "alignmentgroup": "True",
         "hovertemplate": "emotion_output=%{x}<br>newspaper=ExpresoPeru<br>year_week=2022w33<br>counts=%{y}<extra></extra>",
         "legendgroup": "anger",
         "marker": {
          "color": "#fe8019",
          "pattern": {
           "shape": ""
          }
         },
         "name": "anger",
         "offsetgroup": "anger",
         "orientation": "v",
         "showlegend": true,
         "textposition": "auto",
         "type": "bar",
         "x": [
          "anger"
         ],
         "xaxis": "x61",
         "y": [
          7
         ],
         "yaxis": "y61"
        },
        {
         "alignmentgroup": "True",
         "hovertemplate": "emotion_output=%{x}<br>newspaper=ExpresoPeru<br>year_week=2022w34<br>counts=%{y}<extra></extra>",
         "legendgroup": "anger",
         "marker": {
          "color": "#fe8019",
          "pattern": {
           "shape": ""
          }
         },
         "name": "anger",
         "offsetgroup": "anger",
         "orientation": "v",
         "showlegend": false,
         "textposition": "auto",
         "type": "bar",
         "x": [
          "anger"
         ],
         "xaxis": "x62",
         "y": [
          6
         ],
         "yaxis": "y62"
        },
        {
         "alignmentgroup": "True",
         "hovertemplate": "emotion_output=%{x}<br>newspaper=ExpresoPeru<br>year_week=2022w39<br>counts=%{y}<extra></extra>",
         "legendgroup": "anger",
         "marker": {
          "color": "#fe8019",
          "pattern": {
           "shape": ""
          }
         },
         "name": "anger",
         "offsetgroup": "anger",
         "orientation": "v",
         "showlegend": false,
         "textposition": "auto",
         "type": "bar",
         "x": [
          "anger"
         ],
         "xaxis": "x63",
         "y": [
          5
         ],
         "yaxis": "y63"
        },
        {
         "alignmentgroup": "True",
         "hovertemplate": "emotion_output=%{x}<br>newspaper=ExpresoPeru<br>year_week=2022w44<br>counts=%{y}<extra></extra>",
         "legendgroup": "anger",
         "marker": {
          "color": "#fe8019",
          "pattern": {
           "shape": ""
          }
         },
         "name": "anger",
         "offsetgroup": "anger",
         "orientation": "v",
         "showlegend": false,
         "textposition": "auto",
         "type": "bar",
         "x": [
          "anger"
         ],
         "xaxis": "x64",
         "y": [
          10
         ],
         "yaxis": "y64"
        },
        {
         "alignmentgroup": "True",
         "hovertemplate": "emotion_output=%{x}<br>newspaper=ExpresoPeru<br>year_week=2022w49<br>counts=%{y}<extra></extra>",
         "legendgroup": "anger",
         "marker": {
          "color": "#fe8019",
          "pattern": {
           "shape": ""
          }
         },
         "name": "anger",
         "offsetgroup": "anger",
         "orientation": "v",
         "showlegend": false,
         "textposition": "auto",
         "type": "bar",
         "x": [
          "anger"
         ],
         "xaxis": "x65",
         "y": [
          9
         ],
         "yaxis": "y65"
        },
        {
         "alignmentgroup": "True",
         "hovertemplate": "emotion_output=%{x}<br>newspaper=ExpresoPeru<br>year_week=2023w2<br>counts=%{y}<extra></extra>",
         "legendgroup": "anger",
         "marker": {
          "color": "#fe8019",
          "pattern": {
           "shape": ""
          }
         },
         "name": "anger",
         "offsetgroup": "anger",
         "orientation": "v",
         "showlegend": false,
         "textposition": "auto",
         "type": "bar",
         "x": [
          "anger"
         ],
         "xaxis": "x66",
         "y": [
          14
         ],
         "yaxis": "y66"
        },
        {
         "alignmentgroup": "True",
         "hovertemplate": "emotion_output=%{x}<br>newspaper=Gestionpe<br>year_week=2022w33<br>counts=%{y}<extra></extra>",
         "legendgroup": "anger",
         "marker": {
          "color": "#fe8019",
          "pattern": {
           "shape": ""
          }
         },
         "name": "anger",
         "offsetgroup": "anger",
         "orientation": "v",
         "showlegend": false,
         "textposition": "auto",
         "type": "bar",
         "x": [
          "anger"
         ],
         "xaxis": "x55",
         "y": [
          4
         ],
         "yaxis": "y55"
        },
        {
         "alignmentgroup": "True",
         "hovertemplate": "emotion_output=%{x}<br>newspaper=Gestionpe<br>year_week=2022w34<br>counts=%{y}<extra></extra>",
         "legendgroup": "anger",
         "marker": {
          "color": "#fe8019",
          "pattern": {
           "shape": ""
          }
         },
         "name": "anger",
         "offsetgroup": "anger",
         "orientation": "v",
         "showlegend": false,
         "textposition": "auto",
         "type": "bar",
         "x": [
          "anger"
         ],
         "xaxis": "x56",
         "y": [
          4
         ],
         "yaxis": "y56"
        },
        {
         "alignmentgroup": "True",
         "hovertemplate": "emotion_output=%{x}<br>newspaper=Gestionpe<br>year_week=2022w39<br>counts=%{y}<extra></extra>",
         "legendgroup": "anger",
         "marker": {
          "color": "#fe8019",
          "pattern": {
           "shape": ""
          }
         },
         "name": "anger",
         "offsetgroup": "anger",
         "orientation": "v",
         "showlegend": false,
         "textposition": "auto",
         "type": "bar",
         "x": [
          "anger"
         ],
         "xaxis": "x57",
         "y": [
          5
         ],
         "yaxis": "y57"
        },
        {
         "alignmentgroup": "True",
         "hovertemplate": "emotion_output=%{x}<br>newspaper=Gestionpe<br>year_week=2022w44<br>counts=%{y}<extra></extra>",
         "legendgroup": "anger",
         "marker": {
          "color": "#fe8019",
          "pattern": {
           "shape": ""
          }
         },
         "name": "anger",
         "offsetgroup": "anger",
         "orientation": "v",
         "showlegend": false,
         "textposition": "auto",
         "type": "bar",
         "x": [
          "anger"
         ],
         "xaxis": "x58",
         "y": [
          4
         ],
         "yaxis": "y58"
        },
        {
         "alignmentgroup": "True",
         "hovertemplate": "emotion_output=%{x}<br>newspaper=Gestionpe<br>year_week=2022w49<br>counts=%{y}<extra></extra>",
         "legendgroup": "anger",
         "marker": {
          "color": "#fe8019",
          "pattern": {
           "shape": ""
          }
         },
         "name": "anger",
         "offsetgroup": "anger",
         "orientation": "v",
         "showlegend": false,
         "textposition": "auto",
         "type": "bar",
         "x": [
          "anger"
         ],
         "xaxis": "x59",
         "y": [
          3
         ],
         "yaxis": "y59"
        },
        {
         "alignmentgroup": "True",
         "hovertemplate": "emotion_output=%{x}<br>newspaper=Gestionpe<br>year_week=2023w2<br>counts=%{y}<extra></extra>",
         "legendgroup": "anger",
         "marker": {
          "color": "#fe8019",
          "pattern": {
           "shape": ""
          }
         },
         "name": "anger",
         "offsetgroup": "anger",
         "orientation": "v",
         "showlegend": false,
         "textposition": "auto",
         "type": "bar",
         "x": [
          "anger"
         ],
         "xaxis": "x60",
         "y": [
          4
         ],
         "yaxis": "y60"
        },
        {
         "alignmentgroup": "True",
         "hovertemplate": "emotion_output=%{x}<br>newspaper=diariocorreo<br>year_week=2022w33<br>counts=%{y}<extra></extra>",
         "legendgroup": "anger",
         "marker": {
          "color": "#fe8019",
          "pattern": {
           "shape": ""
          }
         },
         "name": "anger",
         "offsetgroup": "anger",
         "orientation": "v",
         "showlegend": false,
         "textposition": "auto",
         "type": "bar",
         "x": [
          "anger"
         ],
         "xaxis": "x49",
         "y": [
          9
         ],
         "yaxis": "y49"
        },
        {
         "alignmentgroup": "True",
         "hovertemplate": "emotion_output=%{x}<br>newspaper=diariocorreo<br>year_week=2022w34<br>counts=%{y}<extra></extra>",
         "legendgroup": "anger",
         "marker": {
          "color": "#fe8019",
          "pattern": {
           "shape": ""
          }
         },
         "name": "anger",
         "offsetgroup": "anger",
         "orientation": "v",
         "showlegend": false,
         "textposition": "auto",
         "type": "bar",
         "x": [
          "anger"
         ],
         "xaxis": "x50",
         "y": [
          3
         ],
         "yaxis": "y50"
        },
        {
         "alignmentgroup": "True",
         "hovertemplate": "emotion_output=%{x}<br>newspaper=diariocorreo<br>year_week=2022w39<br>counts=%{y}<extra></extra>",
         "legendgroup": "anger",
         "marker": {
          "color": "#fe8019",
          "pattern": {
           "shape": ""
          }
         },
         "name": "anger",
         "offsetgroup": "anger",
         "orientation": "v",
         "showlegend": false,
         "textposition": "auto",
         "type": "bar",
         "x": [
          "anger"
         ],
         "xaxis": "x51",
         "y": [
          5
         ],
         "yaxis": "y51"
        },
        {
         "alignmentgroup": "True",
         "hovertemplate": "emotion_output=%{x}<br>newspaper=diariocorreo<br>year_week=2022w44<br>counts=%{y}<extra></extra>",
         "legendgroup": "anger",
         "marker": {
          "color": "#fe8019",
          "pattern": {
           "shape": ""
          }
         },
         "name": "anger",
         "offsetgroup": "anger",
         "orientation": "v",
         "showlegend": false,
         "textposition": "auto",
         "type": "bar",
         "x": [
          "anger"
         ],
         "xaxis": "x52",
         "y": [
          10
         ],
         "yaxis": "y52"
        },
        {
         "alignmentgroup": "True",
         "hovertemplate": "emotion_output=%{x}<br>newspaper=diariocorreo<br>year_week=2022w49<br>counts=%{y}<extra></extra>",
         "legendgroup": "anger",
         "marker": {
          "color": "#fe8019",
          "pattern": {
           "shape": ""
          }
         },
         "name": "anger",
         "offsetgroup": "anger",
         "orientation": "v",
         "showlegend": false,
         "textposition": "auto",
         "type": "bar",
         "x": [
          "anger"
         ],
         "xaxis": "x53",
         "y": [
          11
         ],
         "yaxis": "y53"
        },
        {
         "alignmentgroup": "True",
         "hovertemplate": "emotion_output=%{x}<br>newspaper=diariocorreo<br>year_week=2023w2<br>counts=%{y}<extra></extra>",
         "legendgroup": "anger",
         "marker": {
          "color": "#fe8019",
          "pattern": {
           "shape": ""
          }
         },
         "name": "anger",
         "offsetgroup": "anger",
         "orientation": "v",
         "showlegend": false,
         "textposition": "auto",
         "type": "bar",
         "x": [
          "anger"
         ],
         "xaxis": "x54",
         "y": [
          8
         ],
         "yaxis": "y54"
        },
        {
         "alignmentgroup": "True",
         "hovertemplate": "emotion_output=%{x}<br>newspaper=diarioojo<br>year_week=2022w33<br>counts=%{y}<extra></extra>",
         "legendgroup": "anger",
         "marker": {
          "color": "#fe8019",
          "pattern": {
           "shape": ""
          }
         },
         "name": "anger",
         "offsetgroup": "anger",
         "orientation": "v",
         "showlegend": false,
         "textposition": "auto",
         "type": "bar",
         "x": [
          "anger"
         ],
         "xaxis": "x43",
         "y": [
          34
         ],
         "yaxis": "y43"
        },
        {
         "alignmentgroup": "True",
         "hovertemplate": "emotion_output=%{x}<br>newspaper=diarioojo<br>year_week=2022w34<br>counts=%{y}<extra></extra>",
         "legendgroup": "anger",
         "marker": {
          "color": "#fe8019",
          "pattern": {
           "shape": ""
          }
         },
         "name": "anger",
         "offsetgroup": "anger",
         "orientation": "v",
         "showlegend": false,
         "textposition": "auto",
         "type": "bar",
         "x": [
          "anger"
         ],
         "xaxis": "x44",
         "y": [
          19
         ],
         "yaxis": "y44"
        },
        {
         "alignmentgroup": "True",
         "hovertemplate": "emotion_output=%{x}<br>newspaper=diarioojo<br>year_week=2022w39<br>counts=%{y}<extra></extra>",
         "legendgroup": "anger",
         "marker": {
          "color": "#fe8019",
          "pattern": {
           "shape": ""
          }
         },
         "name": "anger",
         "offsetgroup": "anger",
         "orientation": "v",
         "showlegend": false,
         "textposition": "auto",
         "type": "bar",
         "x": [
          "anger"
         ],
         "xaxis": "x45",
         "y": [
          20
         ],
         "yaxis": "y45"
        },
        {
         "alignmentgroup": "True",
         "hovertemplate": "emotion_output=%{x}<br>newspaper=diarioojo<br>year_week=2022w44<br>counts=%{y}<extra></extra>",
         "legendgroup": "anger",
         "marker": {
          "color": "#fe8019",
          "pattern": {
           "shape": ""
          }
         },
         "name": "anger",
         "offsetgroup": "anger",
         "orientation": "v",
         "showlegend": false,
         "textposition": "auto",
         "type": "bar",
         "x": [
          "anger"
         ],
         "xaxis": "x46",
         "y": [
          20
         ],
         "yaxis": "y46"
        },
        {
         "alignmentgroup": "True",
         "hovertemplate": "emotion_output=%{x}<br>newspaper=diarioojo<br>year_week=2022w49<br>counts=%{y}<extra></extra>",
         "legendgroup": "anger",
         "marker": {
          "color": "#fe8019",
          "pattern": {
           "shape": ""
          }
         },
         "name": "anger",
         "offsetgroup": "anger",
         "orientation": "v",
         "showlegend": false,
         "textposition": "auto",
         "type": "bar",
         "x": [
          "anger"
         ],
         "xaxis": "x47",
         "y": [
          14
         ],
         "yaxis": "y47"
        },
        {
         "alignmentgroup": "True",
         "hovertemplate": "emotion_output=%{x}<br>newspaper=diarioojo<br>year_week=2023w2<br>counts=%{y}<extra></extra>",
         "legendgroup": "anger",
         "marker": {
          "color": "#fe8019",
          "pattern": {
           "shape": ""
          }
         },
         "name": "anger",
         "offsetgroup": "anger",
         "orientation": "v",
         "showlegend": false,
         "textposition": "auto",
         "type": "bar",
         "x": [
          "anger"
         ],
         "xaxis": "x48",
         "y": [
          19
         ],
         "yaxis": "y48"
        },
        {
         "alignmentgroup": "True",
         "hovertemplate": "emotion_output=%{x}<br>newspaper=elbuho_pe<br>year_week=2022w34<br>counts=%{y}<extra></extra>",
         "legendgroup": "anger",
         "marker": {
          "color": "#fe8019",
          "pattern": {
           "shape": ""
          }
         },
         "name": "anger",
         "offsetgroup": "anger",
         "orientation": "v",
         "showlegend": false,
         "textposition": "auto",
         "type": "bar",
         "x": [
          "anger"
         ],
         "xaxis": "x38",
         "y": [
          1
         ],
         "yaxis": "y38"
        },
        {
         "alignmentgroup": "True",
         "hovertemplate": "emotion_output=%{x}<br>newspaper=elbuho_pe<br>year_week=2022w39<br>counts=%{y}<extra></extra>",
         "legendgroup": "anger",
         "marker": {
          "color": "#fe8019",
          "pattern": {
           "shape": ""
          }
         },
         "name": "anger",
         "offsetgroup": "anger",
         "orientation": "v",
         "showlegend": false,
         "textposition": "auto",
         "type": "bar",
         "x": [
          "anger"
         ],
         "xaxis": "x39",
         "y": [
          1
         ],
         "yaxis": "y39"
        },
        {
         "alignmentgroup": "True",
         "hovertemplate": "emotion_output=%{x}<br>newspaper=elbuho_pe<br>year_week=2022w44<br>counts=%{y}<extra></extra>",
         "legendgroup": "anger",
         "marker": {
          "color": "#fe8019",
          "pattern": {
           "shape": ""
          }
         },
         "name": "anger",
         "offsetgroup": "anger",
         "orientation": "v",
         "showlegend": false,
         "textposition": "auto",
         "type": "bar",
         "x": [
          "anger"
         ],
         "xaxis": "x40",
         "y": [
          2
         ],
         "yaxis": "y40"
        },
        {
         "alignmentgroup": "True",
         "hovertemplate": "emotion_output=%{x}<br>newspaper=elbuho_pe<br>year_week=2023w2<br>counts=%{y}<extra></extra>",
         "legendgroup": "anger",
         "marker": {
          "color": "#fe8019",
          "pattern": {
           "shape": ""
          }
         },
         "name": "anger",
         "offsetgroup": "anger",
         "orientation": "v",
         "showlegend": false,
         "textposition": "auto",
         "type": "bar",
         "x": [
          "anger"
         ],
         "xaxis": "x42",
         "y": [
          3
         ],
         "yaxis": "y42"
        },
        {
         "alignmentgroup": "True",
         "hovertemplate": "emotion_output=%{x}<br>newspaper=elcomercio_peru<br>year_week=2022w33<br>counts=%{y}<extra></extra>",
         "legendgroup": "anger",
         "marker": {
          "color": "#fe8019",
          "pattern": {
           "shape": ""
          }
         },
         "name": "anger",
         "offsetgroup": "anger",
         "orientation": "v",
         "showlegend": false,
         "textposition": "auto",
         "type": "bar",
         "x": [
          "anger"
         ],
         "xaxis": "x31",
         "y": [
          7
         ],
         "yaxis": "y31"
        },
        {
         "alignmentgroup": "True",
         "hovertemplate": "emotion_output=%{x}<br>newspaper=elcomercio_peru<br>year_week=2022w34<br>counts=%{y}<extra></extra>",
         "legendgroup": "anger",
         "marker": {
          "color": "#fe8019",
          "pattern": {
           "shape": ""
          }
         },
         "name": "anger",
         "offsetgroup": "anger",
         "orientation": "v",
         "showlegend": false,
         "textposition": "auto",
         "type": "bar",
         "x": [
          "anger"
         ],
         "xaxis": "x32",
         "y": [
          10
         ],
         "yaxis": "y32"
        },
        {
         "alignmentgroup": "True",
         "hovertemplate": "emotion_output=%{x}<br>newspaper=elcomercio_peru<br>year_week=2022w39<br>counts=%{y}<extra></extra>",
         "legendgroup": "anger",
         "marker": {
          "color": "#fe8019",
          "pattern": {
           "shape": ""
          }
         },
         "name": "anger",
         "offsetgroup": "anger",
         "orientation": "v",
         "showlegend": false,
         "textposition": "auto",
         "type": "bar",
         "x": [
          "anger"
         ],
         "xaxis": "x33",
         "y": [
          6
         ],
         "yaxis": "y33"
        },
        {
         "alignmentgroup": "True",
         "hovertemplate": "emotion_output=%{x}<br>newspaper=elcomercio_peru<br>year_week=2022w44<br>counts=%{y}<extra></extra>",
         "legendgroup": "anger",
         "marker": {
          "color": "#fe8019",
          "pattern": {
           "shape": ""
          }
         },
         "name": "anger",
         "offsetgroup": "anger",
         "orientation": "v",
         "showlegend": false,
         "textposition": "auto",
         "type": "bar",
         "x": [
          "anger"
         ],
         "xaxis": "x34",
         "y": [
          7
         ],
         "yaxis": "y34"
        },
        {
         "alignmentgroup": "True",
         "hovertemplate": "emotion_output=%{x}<br>newspaper=elcomercio_peru<br>year_week=2022w49<br>counts=%{y}<extra></extra>",
         "legendgroup": "anger",
         "marker": {
          "color": "#fe8019",
          "pattern": {
           "shape": ""
          }
         },
         "name": "anger",
         "offsetgroup": "anger",
         "orientation": "v",
         "showlegend": false,
         "textposition": "auto",
         "type": "bar",
         "x": [
          "anger"
         ],
         "xaxis": "x35",
         "y": [
          9
         ],
         "yaxis": "y35"
        },
        {
         "alignmentgroup": "True",
         "hovertemplate": "emotion_output=%{x}<br>newspaper=elcomercio_peru<br>year_week=2023w2<br>counts=%{y}<extra></extra>",
         "legendgroup": "anger",
         "marker": {
          "color": "#fe8019",
          "pattern": {
           "shape": ""
          }
         },
         "name": "anger",
         "offsetgroup": "anger",
         "orientation": "v",
         "showlegend": false,
         "textposition": "auto",
         "type": "bar",
         "x": [
          "anger"
         ],
         "xaxis": "x36",
         "y": [
          14
         ],
         "yaxis": "y36"
        },
        {
         "alignmentgroup": "True",
         "hovertemplate": "emotion_output=%{x}<br>newspaper=ensustrece<br>year_week=2022w34<br>counts=%{y}<extra></extra>",
         "legendgroup": "anger",
         "marker": {
          "color": "#fe8019",
          "pattern": {
           "shape": ""
          }
         },
         "name": "anger",
         "offsetgroup": "anger",
         "orientation": "v",
         "showlegend": false,
         "textposition": "auto",
         "type": "bar",
         "x": [
          "anger"
         ],
         "xaxis": "x26",
         "y": [
          2
         ],
         "yaxis": "y26"
        },
        {
         "alignmentgroup": "True",
         "hovertemplate": "emotion_output=%{x}<br>newspaper=ensustrece<br>year_week=2022w39<br>counts=%{y}<extra></extra>",
         "legendgroup": "anger",
         "marker": {
          "color": "#fe8019",
          "pattern": {
           "shape": ""
          }
         },
         "name": "anger",
         "offsetgroup": "anger",
         "orientation": "v",
         "showlegend": false,
         "textposition": "auto",
         "type": "bar",
         "x": [
          "anger"
         ],
         "xaxis": "x27",
         "y": [
          3
         ],
         "yaxis": "y27"
        },
        {
         "alignmentgroup": "True",
         "hovertemplate": "emotion_output=%{x}<br>newspaper=ensustrece<br>year_week=2022w44<br>counts=%{y}<extra></extra>",
         "legendgroup": "anger",
         "marker": {
          "color": "#fe8019",
          "pattern": {
           "shape": ""
          }
         },
         "name": "anger",
         "offsetgroup": "anger",
         "orientation": "v",
         "showlegend": false,
         "textposition": "auto",
         "type": "bar",
         "x": [
          "anger"
         ],
         "xaxis": "x28",
         "y": [
          1
         ],
         "yaxis": "y28"
        },
        {
         "alignmentgroup": "True",
         "hovertemplate": "emotion_output=%{x}<br>newspaper=ensustrece<br>year_week=2022w49<br>counts=%{y}<extra></extra>",
         "legendgroup": "anger",
         "marker": {
          "color": "#fe8019",
          "pattern": {
           "shape": ""
          }
         },
         "name": "anger",
         "offsetgroup": "anger",
         "orientation": "v",
         "showlegend": false,
         "textposition": "auto",
         "type": "bar",
         "x": [
          "anger"
         ],
         "xaxis": "x29",
         "y": [
          3
         ],
         "yaxis": "y29"
        },
        {
         "alignmentgroup": "True",
         "hovertemplate": "emotion_output=%{x}<br>newspaper=ensustrece<br>year_week=2023w2<br>counts=%{y}<extra></extra>",
         "legendgroup": "anger",
         "marker": {
          "color": "#fe8019",
          "pattern": {
           "shape": ""
          }
         },
         "name": "anger",
         "offsetgroup": "anger",
         "orientation": "v",
         "showlegend": false,
         "textposition": "auto",
         "type": "bar",
         "x": [
          "anger"
         ],
         "xaxis": "x30",
         "y": [
          2
         ],
         "yaxis": "y30"
        },
        {
         "alignmentgroup": "True",
         "hovertemplate": "emotion_output=%{x}<br>newspaper=larazon_pe<br>year_week=2022w33<br>counts=%{y}<extra></extra>",
         "legendgroup": "anger",
         "marker": {
          "color": "#fe8019",
          "pattern": {
           "shape": ""
          }
         },
         "name": "anger",
         "offsetgroup": "anger",
         "orientation": "v",
         "showlegend": false,
         "textposition": "auto",
         "type": "bar",
         "x": [
          "anger"
         ],
         "xaxis": "x19",
         "y": [
          1
         ],
         "yaxis": "y19"
        },
        {
         "alignmentgroup": "True",
         "hovertemplate": "emotion_output=%{x}<br>newspaper=larazon_pe<br>year_week=2022w39<br>counts=%{y}<extra></extra>",
         "legendgroup": "anger",
         "marker": {
          "color": "#fe8019",
          "pattern": {
           "shape": ""
          }
         },
         "name": "anger",
         "offsetgroup": "anger",
         "orientation": "v",
         "showlegend": false,
         "textposition": "auto",
         "type": "bar",
         "x": [
          "anger"
         ],
         "xaxis": "x21",
         "y": [
          1
         ],
         "yaxis": "y21"
        },
        {
         "alignmentgroup": "True",
         "hovertemplate": "emotion_output=%{x}<br>newspaper=larazon_pe<br>year_week=2022w49<br>counts=%{y}<extra></extra>",
         "legendgroup": "anger",
         "marker": {
          "color": "#fe8019",
          "pattern": {
           "shape": ""
          }
         },
         "name": "anger",
         "offsetgroup": "anger",
         "orientation": "v",
         "showlegend": false,
         "textposition": "auto",
         "type": "bar",
         "x": [
          "anger"
         ],
         "xaxis": "x23",
         "y": [
          1
         ],
         "yaxis": "y23"
        },
        {
         "alignmentgroup": "True",
         "hovertemplate": "emotion_output=%{x}<br>newspaper=larepublica_pe<br>year_week=2022w33<br>counts=%{y}<extra></extra>",
         "legendgroup": "anger",
         "marker": {
          "color": "#fe8019",
          "pattern": {
           "shape": ""
          }
         },
         "name": "anger",
         "offsetgroup": "anger",
         "orientation": "v",
         "showlegend": false,
         "textposition": "auto",
         "type": "bar",
         "x": [
          "anger"
         ],
         "xaxis": "x13",
         "y": [
          28
         ],
         "yaxis": "y13"
        },
        {
         "alignmentgroup": "True",
         "hovertemplate": "emotion_output=%{x}<br>newspaper=larepublica_pe<br>year_week=2022w34<br>counts=%{y}<extra></extra>",
         "legendgroup": "anger",
         "marker": {
          "color": "#fe8019",
          "pattern": {
           "shape": ""
          }
         },
         "name": "anger",
         "offsetgroup": "anger",
         "orientation": "v",
         "showlegend": false,
         "textposition": "auto",
         "type": "bar",
         "x": [
          "anger"
         ],
         "xaxis": "x14",
         "y": [
          17
         ],
         "yaxis": "y14"
        },
        {
         "alignmentgroup": "True",
         "hovertemplate": "emotion_output=%{x}<br>newspaper=larepublica_pe<br>year_week=2022w39<br>counts=%{y}<extra></extra>",
         "legendgroup": "anger",
         "marker": {
          "color": "#fe8019",
          "pattern": {
           "shape": ""
          }
         },
         "name": "anger",
         "offsetgroup": "anger",
         "orientation": "v",
         "showlegend": false,
         "textposition": "auto",
         "type": "bar",
         "x": [
          "anger"
         ],
         "xaxis": "x15",
         "y": [
          11
         ],
         "yaxis": "y15"
        },
        {
         "alignmentgroup": "True",
         "hovertemplate": "emotion_output=%{x}<br>newspaper=larepublica_pe<br>year_week=2022w44<br>counts=%{y}<extra></extra>",
         "legendgroup": "anger",
         "marker": {
          "color": "#fe8019",
          "pattern": {
           "shape": ""
          }
         },
         "name": "anger",
         "offsetgroup": "anger",
         "orientation": "v",
         "showlegend": false,
         "textposition": "auto",
         "type": "bar",
         "x": [
          "anger"
         ],
         "xaxis": "x16",
         "y": [
          13
         ],
         "yaxis": "y16"
        },
        {
         "alignmentgroup": "True",
         "hovertemplate": "emotion_output=%{x}<br>newspaper=larepublica_pe<br>year_week=2022w49<br>counts=%{y}<extra></extra>",
         "legendgroup": "anger",
         "marker": {
          "color": "#fe8019",
          "pattern": {
           "shape": ""
          }
         },
         "name": "anger",
         "offsetgroup": "anger",
         "orientation": "v",
         "showlegend": false,
         "textposition": "auto",
         "type": "bar",
         "x": [
          "anger"
         ],
         "xaxis": "x17",
         "y": [
          7
         ],
         "yaxis": "y17"
        },
        {
         "alignmentgroup": "True",
         "hovertemplate": "emotion_output=%{x}<br>newspaper=larepublica_pe<br>year_week=2023w2<br>counts=%{y}<extra></extra>",
         "legendgroup": "anger",
         "marker": {
          "color": "#fe8019",
          "pattern": {
           "shape": ""
          }
         },
         "name": "anger",
         "offsetgroup": "anger",
         "orientation": "v",
         "showlegend": false,
         "textposition": "auto",
         "type": "bar",
         "x": [
          "anger"
         ],
         "xaxis": "x18",
         "y": [
          10
         ],
         "yaxis": "y18"
        },
        {
         "alignmentgroup": "True",
         "hovertemplate": "emotion_output=%{x}<br>newspaper=peru21noticias<br>year_week=2022w33<br>counts=%{y}<extra></extra>",
         "legendgroup": "anger",
         "marker": {
          "color": "#fe8019",
          "pattern": {
           "shape": ""
          }
         },
         "name": "anger",
         "offsetgroup": "anger",
         "orientation": "v",
         "showlegend": false,
         "textposition": "auto",
         "type": "bar",
         "x": [
          "anger"
         ],
         "xaxis": "x7",
         "y": [
          26
         ],
         "yaxis": "y7"
        },
        {
         "alignmentgroup": "True",
         "hovertemplate": "emotion_output=%{x}<br>newspaper=peru21noticias<br>year_week=2022w34<br>counts=%{y}<extra></extra>",
         "legendgroup": "anger",
         "marker": {
          "color": "#fe8019",
          "pattern": {
           "shape": ""
          }
         },
         "name": "anger",
         "offsetgroup": "anger",
         "orientation": "v",
         "showlegend": false,
         "textposition": "auto",
         "type": "bar",
         "x": [
          "anger"
         ],
         "xaxis": "x8",
         "y": [
          12
         ],
         "yaxis": "y8"
        },
        {
         "alignmentgroup": "True",
         "hovertemplate": "emotion_output=%{x}<br>newspaper=peru21noticias<br>year_week=2022w39<br>counts=%{y}<extra></extra>",
         "legendgroup": "anger",
         "marker": {
          "color": "#fe8019",
          "pattern": {
           "shape": ""
          }
         },
         "name": "anger",
         "offsetgroup": "anger",
         "orientation": "v",
         "showlegend": false,
         "textposition": "auto",
         "type": "bar",
         "x": [
          "anger"
         ],
         "xaxis": "x9",
         "y": [
          13
         ],
         "yaxis": "y9"
        },
        {
         "alignmentgroup": "True",
         "hovertemplate": "emotion_output=%{x}<br>newspaper=peru21noticias<br>year_week=2022w44<br>counts=%{y}<extra></extra>",
         "legendgroup": "anger",
         "marker": {
          "color": "#fe8019",
          "pattern": {
           "shape": ""
          }
         },
         "name": "anger",
         "offsetgroup": "anger",
         "orientation": "v",
         "showlegend": false,
         "textposition": "auto",
         "type": "bar",
         "x": [
          "anger"
         ],
         "xaxis": "x10",
         "y": [
          18
         ],
         "yaxis": "y10"
        },
        {
         "alignmentgroup": "True",
         "hovertemplate": "emotion_output=%{x}<br>newspaper=peru21noticias<br>year_week=2022w49<br>counts=%{y}<extra></extra>",
         "legendgroup": "anger",
         "marker": {
          "color": "#fe8019",
          "pattern": {
           "shape": ""
          }
         },
         "name": "anger",
         "offsetgroup": "anger",
         "orientation": "v",
         "showlegend": false,
         "textposition": "auto",
         "type": "bar",
         "x": [
          "anger"
         ],
         "xaxis": "x11",
         "y": [
          25
         ],
         "yaxis": "y11"
        },
        {
         "alignmentgroup": "True",
         "hovertemplate": "emotion_output=%{x}<br>newspaper=peru21noticias<br>year_week=2023w2<br>counts=%{y}<extra></extra>",
         "legendgroup": "anger",
         "marker": {
          "color": "#fe8019",
          "pattern": {
           "shape": ""
          }
         },
         "name": "anger",
         "offsetgroup": "anger",
         "orientation": "v",
         "showlegend": false,
         "textposition": "auto",
         "type": "bar",
         "x": [
          "anger"
         ],
         "xaxis": "x12",
         "y": [
          13
         ],
         "yaxis": "y12"
        },
        {
         "alignmentgroup": "True",
         "hovertemplate": "emotion_output=%{x}<br>newspaper=tromepe<br>year_week=2022w33<br>counts=%{y}<extra></extra>",
         "legendgroup": "anger",
         "marker": {
          "color": "#fe8019",
          "pattern": {
           "shape": ""
          }
         },
         "name": "anger",
         "offsetgroup": "anger",
         "orientation": "v",
         "showlegend": false,
         "textposition": "auto",
         "type": "bar",
         "x": [
          "anger"
         ],
         "xaxis": "x",
         "y": [
          39
         ],
         "yaxis": "y"
        },
        {
         "alignmentgroup": "True",
         "hovertemplate": "emotion_output=%{x}<br>newspaper=tromepe<br>year_week=2022w34<br>counts=%{y}<extra></extra>",
         "legendgroup": "anger",
         "marker": {
          "color": "#fe8019",
          "pattern": {
           "shape": ""
          }
         },
         "name": "anger",
         "offsetgroup": "anger",
         "orientation": "v",
         "showlegend": false,
         "textposition": "auto",
         "type": "bar",
         "x": [
          "anger"
         ],
         "xaxis": "x2",
         "y": [
          21
         ],
         "yaxis": "y2"
        },
        {
         "alignmentgroup": "True",
         "hovertemplate": "emotion_output=%{x}<br>newspaper=tromepe<br>year_week=2022w39<br>counts=%{y}<extra></extra>",
         "legendgroup": "anger",
         "marker": {
          "color": "#fe8019",
          "pattern": {
           "shape": ""
          }
         },
         "name": "anger",
         "offsetgroup": "anger",
         "orientation": "v",
         "showlegend": false,
         "textposition": "auto",
         "type": "bar",
         "x": [
          "anger"
         ],
         "xaxis": "x3",
         "y": [
          27
         ],
         "yaxis": "y3"
        },
        {
         "alignmentgroup": "True",
         "hovertemplate": "emotion_output=%{x}<br>newspaper=tromepe<br>year_week=2022w44<br>counts=%{y}<extra></extra>",
         "legendgroup": "anger",
         "marker": {
          "color": "#fe8019",
          "pattern": {
           "shape": ""
          }
         },
         "name": "anger",
         "offsetgroup": "anger",
         "orientation": "v",
         "showlegend": false,
         "textposition": "auto",
         "type": "bar",
         "x": [
          "anger"
         ],
         "xaxis": "x4",
         "y": [
          28
         ],
         "yaxis": "y4"
        },
        {
         "alignmentgroup": "True",
         "hovertemplate": "emotion_output=%{x}<br>newspaper=tromepe<br>year_week=2022w49<br>counts=%{y}<extra></extra>",
         "legendgroup": "anger",
         "marker": {
          "color": "#fe8019",
          "pattern": {
           "shape": ""
          }
         },
         "name": "anger",
         "offsetgroup": "anger",
         "orientation": "v",
         "showlegend": false,
         "textposition": "auto",
         "type": "bar",
         "x": [
          "anger"
         ],
         "xaxis": "x5",
         "y": [
          26
         ],
         "yaxis": "y5"
        },
        {
         "alignmentgroup": "True",
         "hovertemplate": "emotion_output=%{x}<br>newspaper=tromepe<br>year_week=2023w2<br>counts=%{y}<extra></extra>",
         "legendgroup": "anger",
         "marker": {
          "color": "#fe8019",
          "pattern": {
           "shape": ""
          }
         },
         "name": "anger",
         "offsetgroup": "anger",
         "orientation": "v",
         "showlegend": false,
         "textposition": "auto",
         "type": "bar",
         "x": [
          "anger"
         ],
         "xaxis": "x6",
         "y": [
          14
         ],
         "yaxis": "y6"
        },
        {
         "alignmentgroup": "True",
         "hovertemplate": "emotion_output=%{x}<br>newspaper=ExpresoPeru<br>year_week=2022w33<br>counts=%{y}<extra></extra>",
         "legendgroup": "fear",
         "marker": {
          "color": "#b16286",
          "pattern": {
           "shape": ""
          }
         },
         "name": "fear",
         "offsetgroup": "fear",
         "orientation": "v",
         "showlegend": true,
         "textposition": "auto",
         "type": "bar",
         "x": [
          "fear"
         ],
         "xaxis": "x61",
         "y": [
          1
         ],
         "yaxis": "y61"
        },
        {
         "alignmentgroup": "True",
         "hovertemplate": "emotion_output=%{x}<br>newspaper=ExpresoPeru<br>year_week=2022w39<br>counts=%{y}<extra></extra>",
         "legendgroup": "fear",
         "marker": {
          "color": "#b16286",
          "pattern": {
           "shape": ""
          }
         },
         "name": "fear",
         "offsetgroup": "fear",
         "orientation": "v",
         "showlegend": false,
         "textposition": "auto",
         "type": "bar",
         "x": [
          "fear"
         ],
         "xaxis": "x63",
         "y": [
          3
         ],
         "yaxis": "y63"
        },
        {
         "alignmentgroup": "True",
         "hovertemplate": "emotion_output=%{x}<br>newspaper=ExpresoPeru<br>year_week=2022w49<br>counts=%{y}<extra></extra>",
         "legendgroup": "fear",
         "marker": {
          "color": "#b16286",
          "pattern": {
           "shape": ""
          }
         },
         "name": "fear",
         "offsetgroup": "fear",
         "orientation": "v",
         "showlegend": false,
         "textposition": "auto",
         "type": "bar",
         "x": [
          "fear"
         ],
         "xaxis": "x65",
         "y": [
          1
         ],
         "yaxis": "y65"
        },
        {
         "alignmentgroup": "True",
         "hovertemplate": "emotion_output=%{x}<br>newspaper=Gestionpe<br>year_week=2022w33<br>counts=%{y}<extra></extra>",
         "legendgroup": "fear",
         "marker": {
          "color": "#b16286",
          "pattern": {
           "shape": ""
          }
         },
         "name": "fear",
         "offsetgroup": "fear",
         "orientation": "v",
         "showlegend": false,
         "textposition": "auto",
         "type": "bar",
         "x": [
          "fear"
         ],
         "xaxis": "x55",
         "y": [
          3
         ],
         "yaxis": "y55"
        },
        {
         "alignmentgroup": "True",
         "hovertemplate": "emotion_output=%{x}<br>newspaper=Gestionpe<br>year_week=2023w2<br>counts=%{y}<extra></extra>",
         "legendgroup": "fear",
         "marker": {
          "color": "#b16286",
          "pattern": {
           "shape": ""
          }
         },
         "name": "fear",
         "offsetgroup": "fear",
         "orientation": "v",
         "showlegend": false,
         "textposition": "auto",
         "type": "bar",
         "x": [
          "fear"
         ],
         "xaxis": "x60",
         "y": [
          2
         ],
         "yaxis": "y60"
        },
        {
         "alignmentgroup": "True",
         "hovertemplate": "emotion_output=%{x}<br>newspaper=diariocorreo<br>year_week=2022w33<br>counts=%{y}<extra></extra>",
         "legendgroup": "fear",
         "marker": {
          "color": "#b16286",
          "pattern": {
           "shape": ""
          }
         },
         "name": "fear",
         "offsetgroup": "fear",
         "orientation": "v",
         "showlegend": false,
         "textposition": "auto",
         "type": "bar",
         "x": [
          "fear"
         ],
         "xaxis": "x49",
         "y": [
          1
         ],
         "yaxis": "y49"
        },
        {
         "alignmentgroup": "True",
         "hovertemplate": "emotion_output=%{x}<br>newspaper=diariocorreo<br>year_week=2022w39<br>counts=%{y}<extra></extra>",
         "legendgroup": "fear",
         "marker": {
          "color": "#b16286",
          "pattern": {
           "shape": ""
          }
         },
         "name": "fear",
         "offsetgroup": "fear",
         "orientation": "v",
         "showlegend": false,
         "textposition": "auto",
         "type": "bar",
         "x": [
          "fear"
         ],
         "xaxis": "x51",
         "y": [
          1
         ],
         "yaxis": "y51"
        },
        {
         "alignmentgroup": "True",
         "hovertemplate": "emotion_output=%{x}<br>newspaper=diariocorreo<br>year_week=2022w44<br>counts=%{y}<extra></extra>",
         "legendgroup": "fear",
         "marker": {
          "color": "#b16286",
          "pattern": {
           "shape": ""
          }
         },
         "name": "fear",
         "offsetgroup": "fear",
         "orientation": "v",
         "showlegend": false,
         "textposition": "auto",
         "type": "bar",
         "x": [
          "fear"
         ],
         "xaxis": "x52",
         "y": [
          1
         ],
         "yaxis": "y52"
        },
        {
         "alignmentgroup": "True",
         "hovertemplate": "emotion_output=%{x}<br>newspaper=diariocorreo<br>year_week=2023w2<br>counts=%{y}<extra></extra>",
         "legendgroup": "fear",
         "marker": {
          "color": "#b16286",
          "pattern": {
           "shape": ""
          }
         },
         "name": "fear",
         "offsetgroup": "fear",
         "orientation": "v",
         "showlegend": false,
         "textposition": "auto",
         "type": "bar",
         "x": [
          "fear"
         ],
         "xaxis": "x54",
         "y": [
          2
         ],
         "yaxis": "y54"
        },
        {
         "alignmentgroup": "True",
         "hovertemplate": "emotion_output=%{x}<br>newspaper=diarioojo<br>year_week=2022w33<br>counts=%{y}<extra></extra>",
         "legendgroup": "fear",
         "marker": {
          "color": "#b16286",
          "pattern": {
           "shape": ""
          }
         },
         "name": "fear",
         "offsetgroup": "fear",
         "orientation": "v",
         "showlegend": false,
         "textposition": "auto",
         "type": "bar",
         "x": [
          "fear"
         ],
         "xaxis": "x43",
         "y": [
          4
         ],
         "yaxis": "y43"
        },
        {
         "alignmentgroup": "True",
         "hovertemplate": "emotion_output=%{x}<br>newspaper=diarioojo<br>year_week=2022w44<br>counts=%{y}<extra></extra>",
         "legendgroup": "fear",
         "marker": {
          "color": "#b16286",
          "pattern": {
           "shape": ""
          }
         },
         "name": "fear",
         "offsetgroup": "fear",
         "orientation": "v",
         "showlegend": false,
         "textposition": "auto",
         "type": "bar",
         "x": [
          "fear"
         ],
         "xaxis": "x46",
         "y": [
          1
         ],
         "yaxis": "y46"
        },
        {
         "alignmentgroup": "True",
         "hovertemplate": "emotion_output=%{x}<br>newspaper=diarioojo<br>year_week=2022w49<br>counts=%{y}<extra></extra>",
         "legendgroup": "fear",
         "marker": {
          "color": "#b16286",
          "pattern": {
           "shape": ""
          }
         },
         "name": "fear",
         "offsetgroup": "fear",
         "orientation": "v",
         "showlegend": false,
         "textposition": "auto",
         "type": "bar",
         "x": [
          "fear"
         ],
         "xaxis": "x47",
         "y": [
          2
         ],
         "yaxis": "y47"
        },
        {
         "alignmentgroup": "True",
         "hovertemplate": "emotion_output=%{x}<br>newspaper=diarioojo<br>year_week=2023w2<br>counts=%{y}<extra></extra>",
         "legendgroup": "fear",
         "marker": {
          "color": "#b16286",
          "pattern": {
           "shape": ""
          }
         },
         "name": "fear",
         "offsetgroup": "fear",
         "orientation": "v",
         "showlegend": false,
         "textposition": "auto",
         "type": "bar",
         "x": [
          "fear"
         ],
         "xaxis": "x48",
         "y": [
          1
         ],
         "yaxis": "y48"
        },
        {
         "alignmentgroup": "True",
         "hovertemplate": "emotion_output=%{x}<br>newspaper=elcomercio_peru<br>year_week=2022w33<br>counts=%{y}<extra></extra>",
         "legendgroup": "fear",
         "marker": {
          "color": "#b16286",
          "pattern": {
           "shape": ""
          }
         },
         "name": "fear",
         "offsetgroup": "fear",
         "orientation": "v",
         "showlegend": false,
         "textposition": "auto",
         "type": "bar",
         "x": [
          "fear"
         ],
         "xaxis": "x31",
         "y": [
          2
         ],
         "yaxis": "y31"
        },
        {
         "alignmentgroup": "True",
         "hovertemplate": "emotion_output=%{x}<br>newspaper=elcomercio_peru<br>year_week=2022w34<br>counts=%{y}<extra></extra>",
         "legendgroup": "fear",
         "marker": {
          "color": "#b16286",
          "pattern": {
           "shape": ""
          }
         },
         "name": "fear",
         "offsetgroup": "fear",
         "orientation": "v",
         "showlegend": false,
         "textposition": "auto",
         "type": "bar",
         "x": [
          "fear"
         ],
         "xaxis": "x32",
         "y": [
          1
         ],
         "yaxis": "y32"
        },
        {
         "alignmentgroup": "True",
         "hovertemplate": "emotion_output=%{x}<br>newspaper=elcomercio_peru<br>year_week=2022w39<br>counts=%{y}<extra></extra>",
         "legendgroup": "fear",
         "marker": {
          "color": "#b16286",
          "pattern": {
           "shape": ""
          }
         },
         "name": "fear",
         "offsetgroup": "fear",
         "orientation": "v",
         "showlegend": false,
         "textposition": "auto",
         "type": "bar",
         "x": [
          "fear"
         ],
         "xaxis": "x33",
         "y": [
          5
         ],
         "yaxis": "y33"
        },
        {
         "alignmentgroup": "True",
         "hovertemplate": "emotion_output=%{x}<br>newspaper=elcomercio_peru<br>year_week=2022w44<br>counts=%{y}<extra></extra>",
         "legendgroup": "fear",
         "marker": {
          "color": "#b16286",
          "pattern": {
           "shape": ""
          }
         },
         "name": "fear",
         "offsetgroup": "fear",
         "orientation": "v",
         "showlegend": false,
         "textposition": "auto",
         "type": "bar",
         "x": [
          "fear"
         ],
         "xaxis": "x34",
         "y": [
          2
         ],
         "yaxis": "y34"
        },
        {
         "alignmentgroup": "True",
         "hovertemplate": "emotion_output=%{x}<br>newspaper=elcomercio_peru<br>year_week=2022w49<br>counts=%{y}<extra></extra>",
         "legendgroup": "fear",
         "marker": {
          "color": "#b16286",
          "pattern": {
           "shape": ""
          }
         },
         "name": "fear",
         "offsetgroup": "fear",
         "orientation": "v",
         "showlegend": false,
         "textposition": "auto",
         "type": "bar",
         "x": [
          "fear"
         ],
         "xaxis": "x35",
         "y": [
          2
         ],
         "yaxis": "y35"
        },
        {
         "alignmentgroup": "True",
         "hovertemplate": "emotion_output=%{x}<br>newspaper=elcomercio_peru<br>year_week=2023w2<br>counts=%{y}<extra></extra>",
         "legendgroup": "fear",
         "marker": {
          "color": "#b16286",
          "pattern": {
           "shape": ""
          }
         },
         "name": "fear",
         "offsetgroup": "fear",
         "orientation": "v",
         "showlegend": false,
         "textposition": "auto",
         "type": "bar",
         "x": [
          "fear"
         ],
         "xaxis": "x36",
         "y": [
          2
         ],
         "yaxis": "y36"
        },
        {
         "alignmentgroup": "True",
         "hovertemplate": "emotion_output=%{x}<br>newspaper=larepublica_pe<br>year_week=2022w33<br>counts=%{y}<extra></extra>",
         "legendgroup": "fear",
         "marker": {
          "color": "#b16286",
          "pattern": {
           "shape": ""
          }
         },
         "name": "fear",
         "offsetgroup": "fear",
         "orientation": "v",
         "showlegend": false,
         "textposition": "auto",
         "type": "bar",
         "x": [
          "fear"
         ],
         "xaxis": "x13",
         "y": [
          2
         ],
         "yaxis": "y13"
        },
        {
         "alignmentgroup": "True",
         "hovertemplate": "emotion_output=%{x}<br>newspaper=larepublica_pe<br>year_week=2022w39<br>counts=%{y}<extra></extra>",
         "legendgroup": "fear",
         "marker": {
          "color": "#b16286",
          "pattern": {
           "shape": ""
          }
         },
         "name": "fear",
         "offsetgroup": "fear",
         "orientation": "v",
         "showlegend": false,
         "textposition": "auto",
         "type": "bar",
         "x": [
          "fear"
         ],
         "xaxis": "x15",
         "y": [
          2
         ],
         "yaxis": "y15"
        },
        {
         "alignmentgroup": "True",
         "hovertemplate": "emotion_output=%{x}<br>newspaper=larepublica_pe<br>year_week=2022w44<br>counts=%{y}<extra></extra>",
         "legendgroup": "fear",
         "marker": {
          "color": "#b16286",
          "pattern": {
           "shape": ""
          }
         },
         "name": "fear",
         "offsetgroup": "fear",
         "orientation": "v",
         "showlegend": false,
         "textposition": "auto",
         "type": "bar",
         "x": [
          "fear"
         ],
         "xaxis": "x16",
         "y": [
          2
         ],
         "yaxis": "y16"
        },
        {
         "alignmentgroup": "True",
         "hovertemplate": "emotion_output=%{x}<br>newspaper=larepublica_pe<br>year_week=2022w49<br>counts=%{y}<extra></extra>",
         "legendgroup": "fear",
         "marker": {
          "color": "#b16286",
          "pattern": {
           "shape": ""
          }
         },
         "name": "fear",
         "offsetgroup": "fear",
         "orientation": "v",
         "showlegend": false,
         "textposition": "auto",
         "type": "bar",
         "x": [
          "fear"
         ],
         "xaxis": "x17",
         "y": [
          1
         ],
         "yaxis": "y17"
        },
        {
         "alignmentgroup": "True",
         "hovertemplate": "emotion_output=%{x}<br>newspaper=peru21noticias<br>year_week=2022w33<br>counts=%{y}<extra></extra>",
         "legendgroup": "fear",
         "marker": {
          "color": "#b16286",
          "pattern": {
           "shape": ""
          }
         },
         "name": "fear",
         "offsetgroup": "fear",
         "orientation": "v",
         "showlegend": false,
         "textposition": "auto",
         "type": "bar",
         "x": [
          "fear"
         ],
         "xaxis": "x7",
         "y": [
          1
         ],
         "yaxis": "y7"
        },
        {
         "alignmentgroup": "True",
         "hovertemplate": "emotion_output=%{x}<br>newspaper=peru21noticias<br>year_week=2022w34<br>counts=%{y}<extra></extra>",
         "legendgroup": "fear",
         "marker": {
          "color": "#b16286",
          "pattern": {
           "shape": ""
          }
         },
         "name": "fear",
         "offsetgroup": "fear",
         "orientation": "v",
         "showlegend": false,
         "textposition": "auto",
         "type": "bar",
         "x": [
          "fear"
         ],
         "xaxis": "x8",
         "y": [
          1
         ],
         "yaxis": "y8"
        },
        {
         "alignmentgroup": "True",
         "hovertemplate": "emotion_output=%{x}<br>newspaper=peru21noticias<br>year_week=2022w39<br>counts=%{y}<extra></extra>",
         "legendgroup": "fear",
         "marker": {
          "color": "#b16286",
          "pattern": {
           "shape": ""
          }
         },
         "name": "fear",
         "offsetgroup": "fear",
         "orientation": "v",
         "showlegend": false,
         "textposition": "auto",
         "type": "bar",
         "x": [
          "fear"
         ],
         "xaxis": "x9",
         "y": [
          1
         ],
         "yaxis": "y9"
        },
        {
         "alignmentgroup": "True",
         "hovertemplate": "emotion_output=%{x}<br>newspaper=peru21noticias<br>year_week=2022w44<br>counts=%{y}<extra></extra>",
         "legendgroup": "fear",
         "marker": {
          "color": "#b16286",
          "pattern": {
           "shape": ""
          }
         },
         "name": "fear",
         "offsetgroup": "fear",
         "orientation": "v",
         "showlegend": false,
         "textposition": "auto",
         "type": "bar",
         "x": [
          "fear"
         ],
         "xaxis": "x10",
         "y": [
          3
         ],
         "yaxis": "y10"
        },
        {
         "alignmentgroup": "True",
         "hovertemplate": "emotion_output=%{x}<br>newspaper=peru21noticias<br>year_week=2022w49<br>counts=%{y}<extra></extra>",
         "legendgroup": "fear",
         "marker": {
          "color": "#b16286",
          "pattern": {
           "shape": ""
          }
         },
         "name": "fear",
         "offsetgroup": "fear",
         "orientation": "v",
         "showlegend": false,
         "textposition": "auto",
         "type": "bar",
         "x": [
          "fear"
         ],
         "xaxis": "x11",
         "y": [
          2
         ],
         "yaxis": "y11"
        },
        {
         "alignmentgroup": "True",
         "hovertemplate": "emotion_output=%{x}<br>newspaper=tromepe<br>year_week=2022w33<br>counts=%{y}<extra></extra>",
         "legendgroup": "fear",
         "marker": {
          "color": "#b16286",
          "pattern": {
           "shape": ""
          }
         },
         "name": "fear",
         "offsetgroup": "fear",
         "orientation": "v",
         "showlegend": false,
         "textposition": "auto",
         "type": "bar",
         "x": [
          "fear"
         ],
         "xaxis": "x",
         "y": [
          4
         ],
         "yaxis": "y"
        },
        {
         "alignmentgroup": "True",
         "hovertemplate": "emotion_output=%{x}<br>newspaper=tromepe<br>year_week=2022w39<br>counts=%{y}<extra></extra>",
         "legendgroup": "fear",
         "marker": {
          "color": "#b16286",
          "pattern": {
           "shape": ""
          }
         },
         "name": "fear",
         "offsetgroup": "fear",
         "orientation": "v",
         "showlegend": false,
         "textposition": "auto",
         "type": "bar",
         "x": [
          "fear"
         ],
         "xaxis": "x3",
         "y": [
          1
         ],
         "yaxis": "y3"
        },
        {
         "alignmentgroup": "True",
         "hovertemplate": "emotion_output=%{x}<br>newspaper=tromepe<br>year_week=2022w44<br>counts=%{y}<extra></extra>",
         "legendgroup": "fear",
         "marker": {
          "color": "#b16286",
          "pattern": {
           "shape": ""
          }
         },
         "name": "fear",
         "offsetgroup": "fear",
         "orientation": "v",
         "showlegend": false,
         "textposition": "auto",
         "type": "bar",
         "x": [
          "fear"
         ],
         "xaxis": "x4",
         "y": [
          1
         ],
         "yaxis": "y4"
        },
        {
         "alignmentgroup": "True",
         "hovertemplate": "emotion_output=%{x}<br>newspaper=tromepe<br>year_week=2022w49<br>counts=%{y}<extra></extra>",
         "legendgroup": "fear",
         "marker": {
          "color": "#b16286",
          "pattern": {
           "shape": ""
          }
         },
         "name": "fear",
         "offsetgroup": "fear",
         "orientation": "v",
         "showlegend": false,
         "textposition": "auto",
         "type": "bar",
         "x": [
          "fear"
         ],
         "xaxis": "x5",
         "y": [
          2
         ],
         "yaxis": "y5"
        },
        {
         "alignmentgroup": "True",
         "hovertemplate": "emotion_output=%{x}<br>newspaper=tromepe<br>year_week=2023w2<br>counts=%{y}<extra></extra>",
         "legendgroup": "fear",
         "marker": {
          "color": "#b16286",
          "pattern": {
           "shape": ""
          }
         },
         "name": "fear",
         "offsetgroup": "fear",
         "orientation": "v",
         "showlegend": false,
         "textposition": "auto",
         "type": "bar",
         "x": [
          "fear"
         ],
         "xaxis": "x6",
         "y": [
          4
         ],
         "yaxis": "y6"
        },
        {
         "alignmentgroup": "True",
         "hovertemplate": "emotion_output=%{x}<br>newspaper=Gestionpe<br>year_week=2022w49<br>counts=%{y}<extra></extra>",
         "legendgroup": "surprise",
         "marker": {
          "color": "#fb4943",
          "pattern": {
           "shape": ""
          }
         },
         "name": "surprise",
         "offsetgroup": "surprise",
         "orientation": "v",
         "showlegend": true,
         "textposition": "auto",
         "type": "bar",
         "x": [
          "surprise"
         ],
         "xaxis": "x59",
         "y": [
          2
         ],
         "yaxis": "y59"
        },
        {
         "alignmentgroup": "True",
         "hovertemplate": "emotion_output=%{x}<br>newspaper=Gestionpe<br>year_week=2023w2<br>counts=%{y}<extra></extra>",
         "legendgroup": "surprise",
         "marker": {
          "color": "#fb4943",
          "pattern": {
           "shape": ""
          }
         },
         "name": "surprise",
         "offsetgroup": "surprise",
         "orientation": "v",
         "showlegend": false,
         "textposition": "auto",
         "type": "bar",
         "x": [
          "surprise"
         ],
         "xaxis": "x60",
         "y": [
          1
         ],
         "yaxis": "y60"
        },
        {
         "alignmentgroup": "True",
         "hovertemplate": "emotion_output=%{x}<br>newspaper=diariocorreo<br>year_week=2022w34<br>counts=%{y}<extra></extra>",
         "legendgroup": "surprise",
         "marker": {
          "color": "#fb4943",
          "pattern": {
           "shape": ""
          }
         },
         "name": "surprise",
         "offsetgroup": "surprise",
         "orientation": "v",
         "showlegend": false,
         "textposition": "auto",
         "type": "bar",
         "x": [
          "surprise"
         ],
         "xaxis": "x50",
         "y": [
          2
         ],
         "yaxis": "y50"
        },
        {
         "alignmentgroup": "True",
         "hovertemplate": "emotion_output=%{x}<br>newspaper=diariocorreo<br>year_week=2022w39<br>counts=%{y}<extra></extra>",
         "legendgroup": "surprise",
         "marker": {
          "color": "#fb4943",
          "pattern": {
           "shape": ""
          }
         },
         "name": "surprise",
         "offsetgroup": "surprise",
         "orientation": "v",
         "showlegend": false,
         "textposition": "auto",
         "type": "bar",
         "x": [
          "surprise"
         ],
         "xaxis": "x51",
         "y": [
          1
         ],
         "yaxis": "y51"
        },
        {
         "alignmentgroup": "True",
         "hovertemplate": "emotion_output=%{x}<br>newspaper=diariocorreo<br>year_week=2023w2<br>counts=%{y}<extra></extra>",
         "legendgroup": "surprise",
         "marker": {
          "color": "#fb4943",
          "pattern": {
           "shape": ""
          }
         },
         "name": "surprise",
         "offsetgroup": "surprise",
         "orientation": "v",
         "showlegend": false,
         "textposition": "auto",
         "type": "bar",
         "x": [
          "surprise"
         ],
         "xaxis": "x54",
         "y": [
          1
         ],
         "yaxis": "y54"
        },
        {
         "alignmentgroup": "True",
         "hovertemplate": "emotion_output=%{x}<br>newspaper=diarioojo<br>year_week=2022w33<br>counts=%{y}<extra></extra>",
         "legendgroup": "surprise",
         "marker": {
          "color": "#fb4943",
          "pattern": {
           "shape": ""
          }
         },
         "name": "surprise",
         "offsetgroup": "surprise",
         "orientation": "v",
         "showlegend": false,
         "textposition": "auto",
         "type": "bar",
         "x": [
          "surprise"
         ],
         "xaxis": "x43",
         "y": [
          3
         ],
         "yaxis": "y43"
        },
        {
         "alignmentgroup": "True",
         "hovertemplate": "emotion_output=%{x}<br>newspaper=diarioojo<br>year_week=2022w34<br>counts=%{y}<extra></extra>",
         "legendgroup": "surprise",
         "marker": {
          "color": "#fb4943",
          "pattern": {
           "shape": ""
          }
         },
         "name": "surprise",
         "offsetgroup": "surprise",
         "orientation": "v",
         "showlegend": false,
         "textposition": "auto",
         "type": "bar",
         "x": [
          "surprise"
         ],
         "xaxis": "x44",
         "y": [
          4
         ],
         "yaxis": "y44"
        },
        {
         "alignmentgroup": "True",
         "hovertemplate": "emotion_output=%{x}<br>newspaper=diarioojo<br>year_week=2022w39<br>counts=%{y}<extra></extra>",
         "legendgroup": "surprise",
         "marker": {
          "color": "#fb4943",
          "pattern": {
           "shape": ""
          }
         },
         "name": "surprise",
         "offsetgroup": "surprise",
         "orientation": "v",
         "showlegend": false,
         "textposition": "auto",
         "type": "bar",
         "x": [
          "surprise"
         ],
         "xaxis": "x45",
         "y": [
          6
         ],
         "yaxis": "y45"
        },
        {
         "alignmentgroup": "True",
         "hovertemplate": "emotion_output=%{x}<br>newspaper=diarioojo<br>year_week=2022w44<br>counts=%{y}<extra></extra>",
         "legendgroup": "surprise",
         "marker": {
          "color": "#fb4943",
          "pattern": {
           "shape": ""
          }
         },
         "name": "surprise",
         "offsetgroup": "surprise",
         "orientation": "v",
         "showlegend": false,
         "textposition": "auto",
         "type": "bar",
         "x": [
          "surprise"
         ],
         "xaxis": "x46",
         "y": [
          3
         ],
         "yaxis": "y46"
        },
        {
         "alignmentgroup": "True",
         "hovertemplate": "emotion_output=%{x}<br>newspaper=diarioojo<br>year_week=2022w49<br>counts=%{y}<extra></extra>",
         "legendgroup": "surprise",
         "marker": {
          "color": "#fb4943",
          "pattern": {
           "shape": ""
          }
         },
         "name": "surprise",
         "offsetgroup": "surprise",
         "orientation": "v",
         "showlegend": false,
         "textposition": "auto",
         "type": "bar",
         "x": [
          "surprise"
         ],
         "xaxis": "x47",
         "y": [
          2
         ],
         "yaxis": "y47"
        },
        {
         "alignmentgroup": "True",
         "hovertemplate": "emotion_output=%{x}<br>newspaper=diarioojo<br>year_week=2023w2<br>counts=%{y}<extra></extra>",
         "legendgroup": "surprise",
         "marker": {
          "color": "#fb4943",
          "pattern": {
           "shape": ""
          }
         },
         "name": "surprise",
         "offsetgroup": "surprise",
         "orientation": "v",
         "showlegend": false,
         "textposition": "auto",
         "type": "bar",
         "x": [
          "surprise"
         ],
         "xaxis": "x48",
         "y": [
          2
         ],
         "yaxis": "y48"
        },
        {
         "alignmentgroup": "True",
         "hovertemplate": "emotion_output=%{x}<br>newspaper=elcomercio_peru<br>year_week=2022w33<br>counts=%{y}<extra></extra>",
         "legendgroup": "surprise",
         "marker": {
          "color": "#fb4943",
          "pattern": {
           "shape": ""
          }
         },
         "name": "surprise",
         "offsetgroup": "surprise",
         "orientation": "v",
         "showlegend": false,
         "textposition": "auto",
         "type": "bar",
         "x": [
          "surprise"
         ],
         "xaxis": "x31",
         "y": [
          4
         ],
         "yaxis": "y31"
        },
        {
         "alignmentgroup": "True",
         "hovertemplate": "emotion_output=%{x}<br>newspaper=elcomercio_peru<br>year_week=2022w34<br>counts=%{y}<extra></extra>",
         "legendgroup": "surprise",
         "marker": {
          "color": "#fb4943",
          "pattern": {
           "shape": ""
          }
         },
         "name": "surprise",
         "offsetgroup": "surprise",
         "orientation": "v",
         "showlegend": false,
         "textposition": "auto",
         "type": "bar",
         "x": [
          "surprise"
         ],
         "xaxis": "x32",
         "y": [
          4
         ],
         "yaxis": "y32"
        },
        {
         "alignmentgroup": "True",
         "hovertemplate": "emotion_output=%{x}<br>newspaper=elcomercio_peru<br>year_week=2022w39<br>counts=%{y}<extra></extra>",
         "legendgroup": "surprise",
         "marker": {
          "color": "#fb4943",
          "pattern": {
           "shape": ""
          }
         },
         "name": "surprise",
         "offsetgroup": "surprise",
         "orientation": "v",
         "showlegend": false,
         "textposition": "auto",
         "type": "bar",
         "x": [
          "surprise"
         ],
         "xaxis": "x33",
         "y": [
          1
         ],
         "yaxis": "y33"
        },
        {
         "alignmentgroup": "True",
         "hovertemplate": "emotion_output=%{x}<br>newspaper=elcomercio_peru<br>year_week=2022w44<br>counts=%{y}<extra></extra>",
         "legendgroup": "surprise",
         "marker": {
          "color": "#fb4943",
          "pattern": {
           "shape": ""
          }
         },
         "name": "surprise",
         "offsetgroup": "surprise",
         "orientation": "v",
         "showlegend": false,
         "textposition": "auto",
         "type": "bar",
         "x": [
          "surprise"
         ],
         "xaxis": "x34",
         "y": [
          2
         ],
         "yaxis": "y34"
        },
        {
         "alignmentgroup": "True",
         "hovertemplate": "emotion_output=%{x}<br>newspaper=elcomercio_peru<br>year_week=2023w2<br>counts=%{y}<extra></extra>",
         "legendgroup": "surprise",
         "marker": {
          "color": "#fb4943",
          "pattern": {
           "shape": ""
          }
         },
         "name": "surprise",
         "offsetgroup": "surprise",
         "orientation": "v",
         "showlegend": false,
         "textposition": "auto",
         "type": "bar",
         "x": [
          "surprise"
         ],
         "xaxis": "x36",
         "y": [
          1
         ],
         "yaxis": "y36"
        },
        {
         "alignmentgroup": "True",
         "hovertemplate": "emotion_output=%{x}<br>newspaper=larepublica_pe<br>year_week=2022w33<br>counts=%{y}<extra></extra>",
         "legendgroup": "surprise",
         "marker": {
          "color": "#fb4943",
          "pattern": {
           "shape": ""
          }
         },
         "name": "surprise",
         "offsetgroup": "surprise",
         "orientation": "v",
         "showlegend": false,
         "textposition": "auto",
         "type": "bar",
         "x": [
          "surprise"
         ],
         "xaxis": "x13",
         "y": [
          1
         ],
         "yaxis": "y13"
        },
        {
         "alignmentgroup": "True",
         "hovertemplate": "emotion_output=%{x}<br>newspaper=larepublica_pe<br>year_week=2022w44<br>counts=%{y}<extra></extra>",
         "legendgroup": "surprise",
         "marker": {
          "color": "#fb4943",
          "pattern": {
           "shape": ""
          }
         },
         "name": "surprise",
         "offsetgroup": "surprise",
         "orientation": "v",
         "showlegend": false,
         "textposition": "auto",
         "type": "bar",
         "x": [
          "surprise"
         ],
         "xaxis": "x16",
         "y": [
          1
         ],
         "yaxis": "y16"
        },
        {
         "alignmentgroup": "True",
         "hovertemplate": "emotion_output=%{x}<br>newspaper=peru21noticias<br>year_week=2022w33<br>counts=%{y}<extra></extra>",
         "legendgroup": "surprise",
         "marker": {
          "color": "#fb4943",
          "pattern": {
           "shape": ""
          }
         },
         "name": "surprise",
         "offsetgroup": "surprise",
         "orientation": "v",
         "showlegend": false,
         "textposition": "auto",
         "type": "bar",
         "x": [
          "surprise"
         ],
         "xaxis": "x7",
         "y": [
          2
         ],
         "yaxis": "y7"
        },
        {
         "alignmentgroup": "True",
         "hovertemplate": "emotion_output=%{x}<br>newspaper=peru21noticias<br>year_week=2022w34<br>counts=%{y}<extra></extra>",
         "legendgroup": "surprise",
         "marker": {
          "color": "#fb4943",
          "pattern": {
           "shape": ""
          }
         },
         "name": "surprise",
         "offsetgroup": "surprise",
         "orientation": "v",
         "showlegend": false,
         "textposition": "auto",
         "type": "bar",
         "x": [
          "surprise"
         ],
         "xaxis": "x8",
         "y": [
          5
         ],
         "yaxis": "y8"
        },
        {
         "alignmentgroup": "True",
         "hovertemplate": "emotion_output=%{x}<br>newspaper=peru21noticias<br>year_week=2022w39<br>counts=%{y}<extra></extra>",
         "legendgroup": "surprise",
         "marker": {
          "color": "#fb4943",
          "pattern": {
           "shape": ""
          }
         },
         "name": "surprise",
         "offsetgroup": "surprise",
         "orientation": "v",
         "showlegend": false,
         "textposition": "auto",
         "type": "bar",
         "x": [
          "surprise"
         ],
         "xaxis": "x9",
         "y": [
          1
         ],
         "yaxis": "y9"
        },
        {
         "alignmentgroup": "True",
         "hovertemplate": "emotion_output=%{x}<br>newspaper=peru21noticias<br>year_week=2022w44<br>counts=%{y}<extra></extra>",
         "legendgroup": "surprise",
         "marker": {
          "color": "#fb4943",
          "pattern": {
           "shape": ""
          }
         },
         "name": "surprise",
         "offsetgroup": "surprise",
         "orientation": "v",
         "showlegend": false,
         "textposition": "auto",
         "type": "bar",
         "x": [
          "surprise"
         ],
         "xaxis": "x10",
         "y": [
          2
         ],
         "yaxis": "y10"
        },
        {
         "alignmentgroup": "True",
         "hovertemplate": "emotion_output=%{x}<br>newspaper=peru21noticias<br>year_week=2022w49<br>counts=%{y}<extra></extra>",
         "legendgroup": "surprise",
         "marker": {
          "color": "#fb4943",
          "pattern": {
           "shape": ""
          }
         },
         "name": "surprise",
         "offsetgroup": "surprise",
         "orientation": "v",
         "showlegend": false,
         "textposition": "auto",
         "type": "bar",
         "x": [
          "surprise"
         ],
         "xaxis": "x11",
         "y": [
          1
         ],
         "yaxis": "y11"
        },
        {
         "alignmentgroup": "True",
         "hovertemplate": "emotion_output=%{x}<br>newspaper=tromepe<br>year_week=2022w33<br>counts=%{y}<extra></extra>",
         "legendgroup": "surprise",
         "marker": {
          "color": "#fb4943",
          "pattern": {
           "shape": ""
          }
         },
         "name": "surprise",
         "offsetgroup": "surprise",
         "orientation": "v",
         "showlegend": false,
         "textposition": "auto",
         "type": "bar",
         "x": [
          "surprise"
         ],
         "xaxis": "x",
         "y": [
          5
         ],
         "yaxis": "y"
        },
        {
         "alignmentgroup": "True",
         "hovertemplate": "emotion_output=%{x}<br>newspaper=tromepe<br>year_week=2022w34<br>counts=%{y}<extra></extra>",
         "legendgroup": "surprise",
         "marker": {
          "color": "#fb4943",
          "pattern": {
           "shape": ""
          }
         },
         "name": "surprise",
         "offsetgroup": "surprise",
         "orientation": "v",
         "showlegend": false,
         "textposition": "auto",
         "type": "bar",
         "x": [
          "surprise"
         ],
         "xaxis": "x2",
         "y": [
          5
         ],
         "yaxis": "y2"
        },
        {
         "alignmentgroup": "True",
         "hovertemplate": "emotion_output=%{x}<br>newspaper=tromepe<br>year_week=2022w39<br>counts=%{y}<extra></extra>",
         "legendgroup": "surprise",
         "marker": {
          "color": "#fb4943",
          "pattern": {
           "shape": ""
          }
         },
         "name": "surprise",
         "offsetgroup": "surprise",
         "orientation": "v",
         "showlegend": false,
         "textposition": "auto",
         "type": "bar",
         "x": [
          "surprise"
         ],
         "xaxis": "x3",
         "y": [
          6
         ],
         "yaxis": "y3"
        },
        {
         "alignmentgroup": "True",
         "hovertemplate": "emotion_output=%{x}<br>newspaper=tromepe<br>year_week=2022w44<br>counts=%{y}<extra></extra>",
         "legendgroup": "surprise",
         "marker": {
          "color": "#fb4943",
          "pattern": {
           "shape": ""
          }
         },
         "name": "surprise",
         "offsetgroup": "surprise",
         "orientation": "v",
         "showlegend": false,
         "textposition": "auto",
         "type": "bar",
         "x": [
          "surprise"
         ],
         "xaxis": "x4",
         "y": [
          3
         ],
         "yaxis": "y4"
        },
        {
         "alignmentgroup": "True",
         "hovertemplate": "emotion_output=%{x}<br>newspaper=tromepe<br>year_week=2022w49<br>counts=%{y}<extra></extra>",
         "legendgroup": "surprise",
         "marker": {
          "color": "#fb4943",
          "pattern": {
           "shape": ""
          }
         },
         "name": "surprise",
         "offsetgroup": "surprise",
         "orientation": "v",
         "showlegend": false,
         "textposition": "auto",
         "type": "bar",
         "x": [
          "surprise"
         ],
         "xaxis": "x5",
         "y": [
          1
         ],
         "yaxis": "y5"
        },
        {
         "alignmentgroup": "True",
         "hovertemplate": "emotion_output=%{x}<br>newspaper=tromepe<br>year_week=2023w2<br>counts=%{y}<extra></extra>",
         "legendgroup": "surprise",
         "marker": {
          "color": "#fb4943",
          "pattern": {
           "shape": ""
          }
         },
         "name": "surprise",
         "offsetgroup": "surprise",
         "orientation": "v",
         "showlegend": false,
         "textposition": "auto",
         "type": "bar",
         "x": [
          "surprise"
         ],
         "xaxis": "x6",
         "y": [
          4
         ],
         "yaxis": "y6"
        },
        {
         "alignmentgroup": "True",
         "hovertemplate": "emotion_output=%{x}<br>newspaper=diariocorreo<br>year_week=2023w2<br>counts=%{y}<extra></extra>",
         "legendgroup": "disgust",
         "marker": {
          "color": "#689d6a",
          "pattern": {
           "shape": ""
          }
         },
         "name": "disgust",
         "offsetgroup": "disgust",
         "orientation": "v",
         "showlegend": true,
         "textposition": "auto",
         "type": "bar",
         "x": [
          "disgust"
         ],
         "xaxis": "x54",
         "y": [
          1
         ],
         "yaxis": "y54"
        },
        {
         "alignmentgroup": "True",
         "hovertemplate": "emotion_output=%{x}<br>newspaper=diarioojo<br>year_week=2022w33<br>counts=%{y}<extra></extra>",
         "legendgroup": "disgust",
         "marker": {
          "color": "#689d6a",
          "pattern": {
           "shape": ""
          }
         },
         "name": "disgust",
         "offsetgroup": "disgust",
         "orientation": "v",
         "showlegend": false,
         "textposition": "auto",
         "type": "bar",
         "x": [
          "disgust"
         ],
         "xaxis": "x43",
         "y": [
          3
         ],
         "yaxis": "y43"
        },
        {
         "alignmentgroup": "True",
         "hovertemplate": "emotion_output=%{x}<br>newspaper=elcomercio_peru<br>year_week=2022w44<br>counts=%{y}<extra></extra>",
         "legendgroup": "disgust",
         "marker": {
          "color": "#689d6a",
          "pattern": {
           "shape": ""
          }
         },
         "name": "disgust",
         "offsetgroup": "disgust",
         "orientation": "v",
         "showlegend": false,
         "textposition": "auto",
         "type": "bar",
         "x": [
          "disgust"
         ],
         "xaxis": "x34",
         "y": [
          1
         ],
         "yaxis": "y34"
        },
        {
         "alignmentgroup": "True",
         "hovertemplate": "emotion_output=%{x}<br>newspaper=elcomercio_peru<br>year_week=2022w49<br>counts=%{y}<extra></extra>",
         "legendgroup": "disgust",
         "marker": {
          "color": "#689d6a",
          "pattern": {
           "shape": ""
          }
         },
         "name": "disgust",
         "offsetgroup": "disgust",
         "orientation": "v",
         "showlegend": false,
         "textposition": "auto",
         "type": "bar",
         "x": [
          "disgust"
         ],
         "xaxis": "x35",
         "y": [
          1
         ],
         "yaxis": "y35"
        },
        {
         "alignmentgroup": "True",
         "hovertemplate": "emotion_output=%{x}<br>newspaper=elcomercio_peru<br>year_week=2023w2<br>counts=%{y}<extra></extra>",
         "legendgroup": "disgust",
         "marker": {
          "color": "#689d6a",
          "pattern": {
           "shape": ""
          }
         },
         "name": "disgust",
         "offsetgroup": "disgust",
         "orientation": "v",
         "showlegend": false,
         "textposition": "auto",
         "type": "bar",
         "x": [
          "disgust"
         ],
         "xaxis": "x36",
         "y": [
          1
         ],
         "yaxis": "y36"
        },
        {
         "alignmentgroup": "True",
         "hovertemplate": "emotion_output=%{x}<br>newspaper=larepublica_pe<br>year_week=2023w2<br>counts=%{y}<extra></extra>",
         "legendgroup": "disgust",
         "marker": {
          "color": "#689d6a",
          "pattern": {
           "shape": ""
          }
         },
         "name": "disgust",
         "offsetgroup": "disgust",
         "orientation": "v",
         "showlegend": false,
         "textposition": "auto",
         "type": "bar",
         "x": [
          "disgust"
         ],
         "xaxis": "x18",
         "y": [
          1
         ],
         "yaxis": "y18"
        },
        {
         "alignmentgroup": "True",
         "hovertemplate": "emotion_output=%{x}<br>newspaper=peru21noticias<br>year_week=2022w44<br>counts=%{y}<extra></extra>",
         "legendgroup": "disgust",
         "marker": {
          "color": "#689d6a",
          "pattern": {
           "shape": ""
          }
         },
         "name": "disgust",
         "offsetgroup": "disgust",
         "orientation": "v",
         "showlegend": false,
         "textposition": "auto",
         "type": "bar",
         "x": [
          "disgust"
         ],
         "xaxis": "x10",
         "y": [
          1
         ],
         "yaxis": "y10"
        },
        {
         "alignmentgroup": "True",
         "hovertemplate": "emotion_output=%{x}<br>newspaper=tromepe<br>year_week=2022w33<br>counts=%{y}<extra></extra>",
         "legendgroup": "disgust",
         "marker": {
          "color": "#689d6a",
          "pattern": {
           "shape": ""
          }
         },
         "name": "disgust",
         "offsetgroup": "disgust",
         "orientation": "v",
         "showlegend": false,
         "textposition": "auto",
         "type": "bar",
         "x": [
          "disgust"
         ],
         "xaxis": "x",
         "y": [
          3
         ],
         "yaxis": "y"
        },
        {
         "alignmentgroup": "True",
         "hovertemplate": "emotion_output=%{x}<br>newspaper=tromepe<br>year_week=2022w39<br>counts=%{y}<extra></extra>",
         "legendgroup": "disgust",
         "marker": {
          "color": "#689d6a",
          "pattern": {
           "shape": ""
          }
         },
         "name": "disgust",
         "offsetgroup": "disgust",
         "orientation": "v",
         "showlegend": false,
         "textposition": "auto",
         "type": "bar",
         "x": [
          "disgust"
         ],
         "xaxis": "x3",
         "y": [
          1
         ],
         "yaxis": "y3"
        },
        {
         "alignmentgroup": "True",
         "hovertemplate": "emotion_output=%{x}<br>newspaper=tromepe<br>year_week=2022w49<br>counts=%{y}<extra></extra>",
         "legendgroup": "disgust",
         "marker": {
          "color": "#689d6a",
          "pattern": {
           "shape": ""
          }
         },
         "name": "disgust",
         "offsetgroup": "disgust",
         "orientation": "v",
         "showlegend": false,
         "textposition": "auto",
         "type": "bar",
         "x": [
          "disgust"
         ],
         "xaxis": "x5",
         "y": [
          1
         ],
         "yaxis": "y5"
        }
       ],
       "layout": {
        "annotations": [
         {
          "font": {},
          "showarrow": false,
          "text": "2022w33",
          "x": 0.07333333333333333,
          "xanchor": "center",
          "xref": "paper",
          "y": 0.9999999999999999,
          "yanchor": "bottom",
          "yref": "paper"
         },
         {
          "font": {},
          "showarrow": false,
          "text": "2022w34",
          "x": 0.24,
          "xanchor": "center",
          "xref": "paper",
          "y": 0.9999999999999999,
          "yanchor": "bottom",
          "yref": "paper"
         },
         {
          "font": {},
          "showarrow": false,
          "text": "2022w39",
          "x": 0.4066666666666666,
          "xanchor": "center",
          "xref": "paper",
          "y": 0.9999999999999999,
          "yanchor": "bottom",
          "yref": "paper"
         },
         {
          "font": {},
          "showarrow": false,
          "text": "2022w44",
          "x": 0.5733333333333334,
          "xanchor": "center",
          "xref": "paper",
          "y": 0.9999999999999999,
          "yanchor": "bottom",
          "yref": "paper"
         },
         {
          "font": {},
          "showarrow": false,
          "text": "2022w49",
          "x": 0.74,
          "xanchor": "center",
          "xref": "paper",
          "y": 0.9999999999999999,
          "yanchor": "bottom",
          "yref": "paper"
         },
         {
          "font": {},
          "showarrow": false,
          "text": "2023w2",
          "x": 0.9066666666666667,
          "xanchor": "center",
          "xref": "paper",
          "y": 0.9999999999999999,
          "yanchor": "bottom",
          "yref": "paper"
         },
         {
          "font": {},
          "showarrow": false,
          "text": "tromepe",
          "textangle": 90,
          "x": 0.98,
          "xanchor": "left",
          "xref": "paper",
          "y": 0.027916666666666666,
          "yanchor": "middle",
          "yref": "paper"
         },
         {
          "font": {},
          "showarrow": false,
          "text": "peru21noticias",
          "textangle": 90,
          "x": 0.98,
          "xanchor": "left",
          "xref": "paper",
          "y": 0.11374999999999999,
          "yanchor": "middle",
          "yref": "paper"
         },
         {
          "font": {},
          "showarrow": false,
          "text": "larepublica_pe",
          "textangle": 90,
          "x": 0.98,
          "xanchor": "left",
          "xref": "paper",
          "y": 0.19958333333333333,
          "yanchor": "middle",
          "yref": "paper"
         },
         {
          "font": {},
          "showarrow": false,
          "text": "larazon_pe",
          "textangle": 90,
          "x": 0.98,
          "xanchor": "left",
          "xref": "paper",
          "y": 0.28541666666666665,
          "yanchor": "middle",
          "yref": "paper"
         },
         {
          "font": {},
          "showarrow": false,
          "text": "ensustrece",
          "textangle": 90,
          "x": 0.98,
          "xanchor": "left",
          "xref": "paper",
          "y": 0.37124999999999997,
          "yanchor": "middle",
          "yref": "paper"
         },
         {
          "font": {},
          "showarrow": false,
          "text": "elcomercio_peru",
          "textangle": 90,
          "x": 0.98,
          "xanchor": "left",
          "xref": "paper",
          "y": 0.4570833333333334,
          "yanchor": "middle",
          "yref": "paper"
         },
         {
          "font": {},
          "showarrow": false,
          "text": "elbuho_pe",
          "textangle": 90,
          "x": 0.98,
          "xanchor": "left",
          "xref": "paper",
          "y": 0.5429166666666667,
          "yanchor": "middle",
          "yref": "paper"
         },
         {
          "font": {},
          "showarrow": false,
          "text": "diarioojo",
          "textangle": 90,
          "x": 0.98,
          "xanchor": "left",
          "xref": "paper",
          "y": 0.6287499999999999,
          "yanchor": "middle",
          "yref": "paper"
         },
         {
          "font": {},
          "showarrow": false,
          "text": "diariocorreo",
          "textangle": 90,
          "x": 0.98,
          "xanchor": "left",
          "xref": "paper",
          "y": 0.7145833333333333,
          "yanchor": "middle",
          "yref": "paper"
         },
         {
          "font": {},
          "showarrow": false,
          "text": "Gestionpe",
          "textangle": 90,
          "x": 0.98,
          "xanchor": "left",
          "xref": "paper",
          "y": 0.8004166666666668,
          "yanchor": "middle",
          "yref": "paper"
         },
         {
          "font": {},
          "showarrow": false,
          "text": "ExpresoPeru",
          "textangle": 90,
          "x": 0.98,
          "xanchor": "left",
          "xref": "paper",
          "y": 0.88625,
          "yanchor": "middle",
          "yref": "paper"
         },
         {
          "font": {},
          "showarrow": false,
          "text": "DiarioElPeruano",
          "textangle": 90,
          "x": 0.98,
          "xanchor": "left",
          "xref": "paper",
          "y": 0.9720833333333332,
          "yanchor": "middle",
          "yref": "paper"
         }
        ],
        "barmode": "relative",
        "height": 2100,
        "legend": {
         "title": {
          "text": "emotion_output"
         },
         "tracegroupgap": 0
        },
        "showlegend": false,
        "template": {
         "data": {
          "bar": [
           {
            "error_x": {
             "color": "#2a3f5f"
            },
            "error_y": {
             "color": "#2a3f5f"
            },
            "marker": {
             "line": {
              "color": "white",
              "width": 0.5
             },
             "pattern": {
              "fillmode": "overlay",
              "size": 10,
              "solidity": 0.2
             }
            },
            "type": "bar"
           }
          ],
          "barpolar": [
           {
            "marker": {
             "line": {
              "color": "white",
              "width": 0.5
             },
             "pattern": {
              "fillmode": "overlay",
              "size": 10,
              "solidity": 0.2
             }
            },
            "type": "barpolar"
           }
          ],
          "carpet": [
           {
            "aaxis": {
             "endlinecolor": "#2a3f5f",
             "gridcolor": "#C8D4E3",
             "linecolor": "#C8D4E3",
             "minorgridcolor": "#C8D4E3",
             "startlinecolor": "#2a3f5f"
            },
            "baxis": {
             "endlinecolor": "#2a3f5f",
             "gridcolor": "#C8D4E3",
             "linecolor": "#C8D4E3",
             "minorgridcolor": "#C8D4E3",
             "startlinecolor": "#2a3f5f"
            },
            "type": "carpet"
           }
          ],
          "choropleth": [
           {
            "colorbar": {
             "outlinewidth": 0,
             "ticks": ""
            },
            "type": "choropleth"
           }
          ],
          "contour": [
           {
            "colorbar": {
             "outlinewidth": 0,
             "ticks": ""
            },
            "colorscale": [
             [
              0,
              "#0d0887"
             ],
             [
              0.1111111111111111,
              "#46039f"
             ],
             [
              0.2222222222222222,
              "#7201a8"
             ],
             [
              0.3333333333333333,
              "#9c179e"
             ],
             [
              0.4444444444444444,
              "#bd3786"
             ],
             [
              0.5555555555555556,
              "#d8576b"
             ],
             [
              0.6666666666666666,
              "#ed7953"
             ],
             [
              0.7777777777777778,
              "#fb9f3a"
             ],
             [
              0.8888888888888888,
              "#fdca26"
             ],
             [
              1,
              "#f0f921"
             ]
            ],
            "type": "contour"
           }
          ],
          "contourcarpet": [
           {
            "colorbar": {
             "outlinewidth": 0,
             "ticks": ""
            },
            "type": "contourcarpet"
           }
          ],
          "heatmap": [
           {
            "colorbar": {
             "outlinewidth": 0,
             "ticks": ""
            },
            "colorscale": [
             [
              0,
              "#0d0887"
             ],
             [
              0.1111111111111111,
              "#46039f"
             ],
             [
              0.2222222222222222,
              "#7201a8"
             ],
             [
              0.3333333333333333,
              "#9c179e"
             ],
             [
              0.4444444444444444,
              "#bd3786"
             ],
             [
              0.5555555555555556,
              "#d8576b"
             ],
             [
              0.6666666666666666,
              "#ed7953"
             ],
             [
              0.7777777777777778,
              "#fb9f3a"
             ],
             [
              0.8888888888888888,
              "#fdca26"
             ],
             [
              1,
              "#f0f921"
             ]
            ],
            "type": "heatmap"
           }
          ],
          "heatmapgl": [
           {
            "colorbar": {
             "outlinewidth": 0,
             "ticks": ""
            },
            "colorscale": [
             [
              0,
              "#0d0887"
             ],
             [
              0.1111111111111111,
              "#46039f"
             ],
             [
              0.2222222222222222,
              "#7201a8"
             ],
             [
              0.3333333333333333,
              "#9c179e"
             ],
             [
              0.4444444444444444,
              "#bd3786"
             ],
             [
              0.5555555555555556,
              "#d8576b"
             ],
             [
              0.6666666666666666,
              "#ed7953"
             ],
             [
              0.7777777777777778,
              "#fb9f3a"
             ],
             [
              0.8888888888888888,
              "#fdca26"
             ],
             [
              1,
              "#f0f921"
             ]
            ],
            "type": "heatmapgl"
           }
          ],
          "histogram": [
           {
            "marker": {
             "pattern": {
              "fillmode": "overlay",
              "size": 10,
              "solidity": 0.2
             }
            },
            "type": "histogram"
           }
          ],
          "histogram2d": [
           {
            "colorbar": {
             "outlinewidth": 0,
             "ticks": ""
            },
            "colorscale": [
             [
              0,
              "#0d0887"
             ],
             [
              0.1111111111111111,
              "#46039f"
             ],
             [
              0.2222222222222222,
              "#7201a8"
             ],
             [
              0.3333333333333333,
              "#9c179e"
             ],
             [
              0.4444444444444444,
              "#bd3786"
             ],
             [
              0.5555555555555556,
              "#d8576b"
             ],
             [
              0.6666666666666666,
              "#ed7953"
             ],
             [
              0.7777777777777778,
              "#fb9f3a"
             ],
             [
              0.8888888888888888,
              "#fdca26"
             ],
             [
              1,
              "#f0f921"
             ]
            ],
            "type": "histogram2d"
           }
          ],
          "histogram2dcontour": [
           {
            "colorbar": {
             "outlinewidth": 0,
             "ticks": ""
            },
            "colorscale": [
             [
              0,
              "#0d0887"
             ],
             [
              0.1111111111111111,
              "#46039f"
             ],
             [
              0.2222222222222222,
              "#7201a8"
             ],
             [
              0.3333333333333333,
              "#9c179e"
             ],
             [
              0.4444444444444444,
              "#bd3786"
             ],
             [
              0.5555555555555556,
              "#d8576b"
             ],
             [
              0.6666666666666666,
              "#ed7953"
             ],
             [
              0.7777777777777778,
              "#fb9f3a"
             ],
             [
              0.8888888888888888,
              "#fdca26"
             ],
             [
              1,
              "#f0f921"
             ]
            ],
            "type": "histogram2dcontour"
           }
          ],
          "mesh3d": [
           {
            "colorbar": {
             "outlinewidth": 0,
             "ticks": ""
            },
            "type": "mesh3d"
           }
          ],
          "parcoords": [
           {
            "line": {
             "colorbar": {
              "outlinewidth": 0,
              "ticks": ""
             }
            },
            "type": "parcoords"
           }
          ],
          "pie": [
           {
            "automargin": true,
            "type": "pie"
           }
          ],
          "scatter": [
           {
            "fillpattern": {
             "fillmode": "overlay",
             "size": 10,
             "solidity": 0.2
            },
            "type": "scatter"
           }
          ],
          "scatter3d": [
           {
            "line": {
             "colorbar": {
              "outlinewidth": 0,
              "ticks": ""
             }
            },
            "marker": {
             "colorbar": {
              "outlinewidth": 0,
              "ticks": ""
             }
            },
            "type": "scatter3d"
           }
          ],
          "scattercarpet": [
           {
            "marker": {
             "colorbar": {
              "outlinewidth": 0,
              "ticks": ""
             }
            },
            "type": "scattercarpet"
           }
          ],
          "scattergeo": [
           {
            "marker": {
             "colorbar": {
              "outlinewidth": 0,
              "ticks": ""
             }
            },
            "type": "scattergeo"
           }
          ],
          "scattergl": [
           {
            "marker": {
             "colorbar": {
              "outlinewidth": 0,
              "ticks": ""
             }
            },
            "type": "scattergl"
           }
          ],
          "scattermapbox": [
           {
            "marker": {
             "colorbar": {
              "outlinewidth": 0,
              "ticks": ""
             }
            },
            "type": "scattermapbox"
           }
          ],
          "scatterpolar": [
           {
            "marker": {
             "colorbar": {
              "outlinewidth": 0,
              "ticks": ""
             }
            },
            "type": "scatterpolar"
           }
          ],
          "scatterpolargl": [
           {
            "marker": {
             "colorbar": {
              "outlinewidth": 0,
              "ticks": ""
             }
            },
            "type": "scatterpolargl"
           }
          ],
          "scatterternary": [
           {
            "marker": {
             "colorbar": {
              "outlinewidth": 0,
              "ticks": ""
             }
            },
            "type": "scatterternary"
           }
          ],
          "surface": [
           {
            "colorbar": {
             "outlinewidth": 0,
             "ticks": ""
            },
            "colorscale": [
             [
              0,
              "#0d0887"
             ],
             [
              0.1111111111111111,
              "#46039f"
             ],
             [
              0.2222222222222222,
              "#7201a8"
             ],
             [
              0.3333333333333333,
              "#9c179e"
             ],
             [
              0.4444444444444444,
              "#bd3786"
             ],
             [
              0.5555555555555556,
              "#d8576b"
             ],
             [
              0.6666666666666666,
              "#ed7953"
             ],
             [
              0.7777777777777778,
              "#fb9f3a"
             ],
             [
              0.8888888888888888,
              "#fdca26"
             ],
             [
              1,
              "#f0f921"
             ]
            ],
            "type": "surface"
           }
          ],
          "table": [
           {
            "cells": {
             "fill": {
              "color": "#EBF0F8"
             },
             "line": {
              "color": "white"
             }
            },
            "header": {
             "fill": {
              "color": "#C8D4E3"
             },
             "line": {
              "color": "white"
             }
            },
            "type": "table"
           }
          ]
         },
         "layout": {
          "annotationdefaults": {
           "arrowcolor": "#2a3f5f",
           "arrowhead": 0,
           "arrowwidth": 1
          },
          "autotypenumbers": "strict",
          "coloraxis": {
           "colorbar": {
            "outlinewidth": 0,
            "ticks": ""
           }
          },
          "colorscale": {
           "diverging": [
            [
             0,
             "#8e0152"
            ],
            [
             0.1,
             "#c51b7d"
            ],
            [
             0.2,
             "#de77ae"
            ],
            [
             0.3,
             "#f1b6da"
            ],
            [
             0.4,
             "#fde0ef"
            ],
            [
             0.5,
             "#f7f7f7"
            ],
            [
             0.6,
             "#e6f5d0"
            ],
            [
             0.7,
             "#b8e186"
            ],
            [
             0.8,
             "#7fbc41"
            ],
            [
             0.9,
             "#4d9221"
            ],
            [
             1,
             "#276419"
            ]
           ],
           "sequential": [
            [
             0,
             "#0d0887"
            ],
            [
             0.1111111111111111,
             "#46039f"
            ],
            [
             0.2222222222222222,
             "#7201a8"
            ],
            [
             0.3333333333333333,
             "#9c179e"
            ],
            [
             0.4444444444444444,
             "#bd3786"
            ],
            [
             0.5555555555555556,
             "#d8576b"
            ],
            [
             0.6666666666666666,
             "#ed7953"
            ],
            [
             0.7777777777777778,
             "#fb9f3a"
            ],
            [
             0.8888888888888888,
             "#fdca26"
            ],
            [
             1,
             "#f0f921"
            ]
           ],
           "sequentialminus": [
            [
             0,
             "#0d0887"
            ],
            [
             0.1111111111111111,
             "#46039f"
            ],
            [
             0.2222222222222222,
             "#7201a8"
            ],
            [
             0.3333333333333333,
             "#9c179e"
            ],
            [
             0.4444444444444444,
             "#bd3786"
            ],
            [
             0.5555555555555556,
             "#d8576b"
            ],
            [
             0.6666666666666666,
             "#ed7953"
            ],
            [
             0.7777777777777778,
             "#fb9f3a"
            ],
            [
             0.8888888888888888,
             "#fdca26"
            ],
            [
             1,
             "#f0f921"
            ]
           ]
          },
          "colorway": [
           "#636efa",
           "#EF553B",
           "#00cc96",
           "#ab63fa",
           "#FFA15A",
           "#19d3f3",
           "#FF6692",
           "#B6E880",
           "#FF97FF",
           "#FECB52"
          ],
          "font": {
           "color": "#2a3f5f"
          },
          "geo": {
           "bgcolor": "white",
           "lakecolor": "white",
           "landcolor": "white",
           "showlakes": true,
           "showland": true,
           "subunitcolor": "#C8D4E3"
          },
          "hoverlabel": {
           "align": "left"
          },
          "hovermode": "closest",
          "mapbox": {
           "style": "light"
          },
          "paper_bgcolor": "white",
          "plot_bgcolor": "white",
          "polar": {
           "angularaxis": {
            "gridcolor": "#EBF0F8",
            "linecolor": "#EBF0F8",
            "ticks": ""
           },
           "bgcolor": "white",
           "radialaxis": {
            "gridcolor": "#EBF0F8",
            "linecolor": "#EBF0F8",
            "ticks": ""
           }
          },
          "scene": {
           "xaxis": {
            "backgroundcolor": "white",
            "gridcolor": "#DFE8F3",
            "gridwidth": 2,
            "linecolor": "#EBF0F8",
            "showbackground": true,
            "ticks": "",
            "zerolinecolor": "#EBF0F8"
           },
           "yaxis": {
            "backgroundcolor": "white",
            "gridcolor": "#DFE8F3",
            "gridwidth": 2,
            "linecolor": "#EBF0F8",
            "showbackground": true,
            "ticks": "",
            "zerolinecolor": "#EBF0F8"
           },
           "zaxis": {
            "backgroundcolor": "white",
            "gridcolor": "#DFE8F3",
            "gridwidth": 2,
            "linecolor": "#EBF0F8",
            "showbackground": true,
            "ticks": "",
            "zerolinecolor": "#EBF0F8"
           }
          },
          "shapedefaults": {
           "line": {
            "color": "#2a3f5f"
           }
          },
          "ternary": {
           "aaxis": {
            "gridcolor": "#DFE8F3",
            "linecolor": "#A2B1C6",
            "ticks": ""
           },
           "baxis": {
            "gridcolor": "#DFE8F3",
            "linecolor": "#A2B1C6",
            "ticks": ""
           },
           "bgcolor": "white",
           "caxis": {
            "gridcolor": "#DFE8F3",
            "linecolor": "#A2B1C6",
            "ticks": ""
           }
          },
          "title": {
           "x": 0.05
          },
          "xaxis": {
           "automargin": true,
           "gridcolor": "#EBF0F8",
           "linecolor": "#EBF0F8",
           "ticks": "",
           "title": {
            "standoff": 15
           },
           "zerolinecolor": "#EBF0F8",
           "zerolinewidth": 2
          },
          "yaxis": {
           "automargin": true,
           "gridcolor": "#EBF0F8",
           "linecolor": "#EBF0F8",
           "ticks": "",
           "title": {
            "standoff": 15
           },
           "zerolinecolor": "#EBF0F8",
           "zerolinewidth": 2
          }
         }
        },
        "title": {
         "text": "Emotion per newspaper"
        },
        "width": 2100,
        "xaxis": {
         "anchor": "y",
         "categoryarray": [
          "others",
          "joy",
          "sadness",
          "anger",
          "fear",
          "surprise",
          "disgust"
         ],
         "categoryorder": "array",
         "domain": [
          0,
          0.14666666666666667
         ],
         "showticklabels": true,
         "title": {
          "text": "emotion_output"
         }
        },
        "xaxis10": {
         "anchor": "y10",
         "domain": [
          0.5,
          0.6466666666666667
         ],
         "showticklabels": true
        },
        "xaxis11": {
         "anchor": "y11",
         "domain": [
          0.6666666666666666,
          0.8133333333333332
         ],
         "showticklabels": true
        },
        "xaxis12": {
         "anchor": "y12",
         "domain": [
          0.8333333333333334,
          0.98
         ],
         "showticklabels": true
        },
        "xaxis13": {
         "anchor": "y13",
         "domain": [
          0,
          0.14666666666666667
         ],
         "showticklabels": true
        },
        "xaxis14": {
         "anchor": "y14",
         "domain": [
          0.16666666666666666,
          0.31333333333333335
         ],
         "showticklabels": true
        },
        "xaxis15": {
         "anchor": "y15",
         "domain": [
          0.3333333333333333,
          0.48
         ],
         "showticklabels": true
        },
        "xaxis16": {
         "anchor": "y16",
         "domain": [
          0.5,
          0.6466666666666667
         ],
         "showticklabels": true
        },
        "xaxis17": {
         "anchor": "y17",
         "domain": [
          0.6666666666666666,
          0.8133333333333332
         ],
         "showticklabels": true
        },
        "xaxis18": {
         "anchor": "y18",
         "domain": [
          0.8333333333333334,
          0.98
         ],
         "showticklabels": true
        },
        "xaxis19": {
         "anchor": "y19",
         "domain": [
          0,
          0.14666666666666667
         ],
         "showticklabels": true
        },
        "xaxis2": {
         "anchor": "y2",
         "categoryarray": [
          "others",
          "joy",
          "sadness",
          "anger",
          "fear",
          "surprise",
          "disgust"
         ],
         "categoryorder": "array",
         "domain": [
          0.16666666666666666,
          0.31333333333333335
         ],
         "showticklabels": true,
         "title": {
          "text": "emotion_output"
         }
        },
        "xaxis20": {
         "anchor": "y20",
         "domain": [
          0.16666666666666666,
          0.31333333333333335
         ],
         "showticklabels": true
        },
        "xaxis21": {
         "anchor": "y21",
         "domain": [
          0.3333333333333333,
          0.48
         ],
         "showticklabels": true
        },
        "xaxis22": {
         "anchor": "y22",
         "domain": [
          0.5,
          0.6466666666666667
         ],
         "showticklabels": true
        },
        "xaxis23": {
         "anchor": "y23",
         "domain": [
          0.6666666666666666,
          0.8133333333333332
         ],
         "showticklabels": true
        },
        "xaxis24": {
         "anchor": "y24",
         "domain": [
          0.8333333333333334,
          0.98
         ],
         "showticklabels": true
        },
        "xaxis25": {
         "anchor": "y25",
         "domain": [
          0,
          0.14666666666666667
         ],
         "showticklabels": true
        },
        "xaxis26": {
         "anchor": "y26",
         "domain": [
          0.16666666666666666,
          0.31333333333333335
         ],
         "showticklabels": true
        },
        "xaxis27": {
         "anchor": "y27",
         "domain": [
          0.3333333333333333,
          0.48
         ],
         "showticklabels": true
        },
        "xaxis28": {
         "anchor": "y28",
         "domain": [
          0.5,
          0.6466666666666667
         ],
         "showticklabels": true
        },
        "xaxis29": {
         "anchor": "y29",
         "domain": [
          0.6666666666666666,
          0.8133333333333332
         ],
         "showticklabels": true
        },
        "xaxis3": {
         "anchor": "y3",
         "categoryarray": [
          "others",
          "joy",
          "sadness",
          "anger",
          "fear",
          "surprise",
          "disgust"
         ],
         "categoryorder": "array",
         "domain": [
          0.3333333333333333,
          0.48
         ],
         "showticklabels": true,
         "title": {
          "text": "emotion_output"
         }
        },
        "xaxis30": {
         "anchor": "y30",
         "domain": [
          0.8333333333333334,
          0.98
         ],
         "showticklabels": true
        },
        "xaxis31": {
         "anchor": "y31",
         "domain": [
          0,
          0.14666666666666667
         ],
         "showticklabels": true
        },
        "xaxis32": {
         "anchor": "y32",
         "domain": [
          0.16666666666666666,
          0.31333333333333335
         ],
         "showticklabels": true
        },
        "xaxis33": {
         "anchor": "y33",
         "domain": [
          0.3333333333333333,
          0.48
         ],
         "showticklabels": true
        },
        "xaxis34": {
         "anchor": "y34",
         "domain": [
          0.5,
          0.6466666666666667
         ],
         "showticklabels": true
        },
        "xaxis35": {
         "anchor": "y35",
         "domain": [
          0.6666666666666666,
          0.8133333333333332
         ],
         "showticklabels": true
        },
        "xaxis36": {
         "anchor": "y36",
         "domain": [
          0.8333333333333334,
          0.98
         ],
         "showticklabels": true
        },
        "xaxis37": {
         "anchor": "y37",
         "domain": [
          0,
          0.14666666666666667
         ],
         "showticklabels": true
        },
        "xaxis38": {
         "anchor": "y38",
         "domain": [
          0.16666666666666666,
          0.31333333333333335
         ],
         "showticklabels": true
        },
        "xaxis39": {
         "anchor": "y39",
         "domain": [
          0.3333333333333333,
          0.48
         ],
         "showticklabels": true
        },
        "xaxis4": {
         "anchor": "y4",
         "categoryarray": [
          "others",
          "joy",
          "sadness",
          "anger",
          "fear",
          "surprise",
          "disgust"
         ],
         "categoryorder": "array",
         "domain": [
          0.5,
          0.6466666666666667
         ],
         "showticklabels": true,
         "title": {
          "text": "emotion_output"
         }
        },
        "xaxis40": {
         "anchor": "y40",
         "domain": [
          0.5,
          0.6466666666666667
         ],
         "showticklabels": true
        },
        "xaxis41": {
         "anchor": "y41",
         "domain": [
          0.6666666666666666,
          0.8133333333333332
         ],
         "showticklabels": true
        },
        "xaxis42": {
         "anchor": "y42",
         "domain": [
          0.8333333333333334,
          0.98
         ],
         "showticklabels": true
        },
        "xaxis43": {
         "anchor": "y43",
         "domain": [
          0,
          0.14666666666666667
         ],
         "showticklabels": true
        },
        "xaxis44": {
         "anchor": "y44",
         "domain": [
          0.16666666666666666,
          0.31333333333333335
         ],
         "showticklabels": true
        },
        "xaxis45": {
         "anchor": "y45",
         "domain": [
          0.3333333333333333,
          0.48
         ],
         "showticklabels": true
        },
        "xaxis46": {
         "anchor": "y46",
         "domain": [
          0.5,
          0.6466666666666667
         ],
         "showticklabels": true
        },
        "xaxis47": {
         "anchor": "y47",
         "domain": [
          0.6666666666666666,
          0.8133333333333332
         ],
         "showticklabels": true
        },
        "xaxis48": {
         "anchor": "y48",
         "domain": [
          0.8333333333333334,
          0.98
         ],
         "showticklabels": true
        },
        "xaxis49": {
         "anchor": "y49",
         "domain": [
          0,
          0.14666666666666667
         ],
         "showticklabels": true
        },
        "xaxis5": {
         "anchor": "y5",
         "categoryarray": [
          "others",
          "joy",
          "sadness",
          "anger",
          "fear",
          "surprise",
          "disgust"
         ],
         "categoryorder": "array",
         "domain": [
          0.6666666666666666,
          0.8133333333333332
         ],
         "showticklabels": true,
         "title": {
          "text": "emotion_output"
         }
        },
        "xaxis50": {
         "anchor": "y50",
         "domain": [
          0.16666666666666666,
          0.31333333333333335
         ],
         "showticklabels": true
        },
        "xaxis51": {
         "anchor": "y51",
         "domain": [
          0.3333333333333333,
          0.48
         ],
         "showticklabels": true
        },
        "xaxis52": {
         "anchor": "y52",
         "domain": [
          0.5,
          0.6466666666666667
         ],
         "showticklabels": true
        },
        "xaxis53": {
         "anchor": "y53",
         "domain": [
          0.6666666666666666,
          0.8133333333333332
         ],
         "showticklabels": true
        },
        "xaxis54": {
         "anchor": "y54",
         "domain": [
          0.8333333333333334,
          0.98
         ],
         "showticklabels": true
        },
        "xaxis55": {
         "anchor": "y55",
         "domain": [
          0,
          0.14666666666666667
         ],
         "showticklabels": true
        },
        "xaxis56": {
         "anchor": "y56",
         "domain": [
          0.16666666666666666,
          0.31333333333333335
         ],
         "showticklabels": true
        },
        "xaxis57": {
         "anchor": "y57",
         "domain": [
          0.3333333333333333,
          0.48
         ],
         "showticklabels": true
        },
        "xaxis58": {
         "anchor": "y58",
         "domain": [
          0.5,
          0.6466666666666667
         ],
         "showticklabels": true
        },
        "xaxis59": {
         "anchor": "y59",
         "domain": [
          0.6666666666666666,
          0.8133333333333332
         ],
         "showticklabels": true
        },
        "xaxis6": {
         "anchor": "y6",
         "categoryarray": [
          "others",
          "joy",
          "sadness",
          "anger",
          "fear",
          "surprise",
          "disgust"
         ],
         "categoryorder": "array",
         "domain": [
          0.8333333333333334,
          0.98
         ],
         "showticklabels": true,
         "title": {
          "text": "emotion_output"
         }
        },
        "xaxis60": {
         "anchor": "y60",
         "domain": [
          0.8333333333333334,
          0.98
         ],
         "showticklabels": true
        },
        "xaxis61": {
         "anchor": "y61",
         "domain": [
          0,
          0.14666666666666667
         ],
         "showticklabels": true
        },
        "xaxis62": {
         "anchor": "y62",
         "domain": [
          0.16666666666666666,
          0.31333333333333335
         ],
         "showticklabels": true
        },
        "xaxis63": {
         "anchor": "y63",
         "domain": [
          0.3333333333333333,
          0.48
         ],
         "showticklabels": true
        },
        "xaxis64": {
         "anchor": "y64",
         "domain": [
          0.5,
          0.6466666666666667
         ],
         "showticklabels": true
        },
        "xaxis65": {
         "anchor": "y65",
         "domain": [
          0.6666666666666666,
          0.8133333333333332
         ],
         "showticklabels": true
        },
        "xaxis66": {
         "anchor": "y66",
         "domain": [
          0.8333333333333334,
          0.98
         ],
         "showticklabels": true
        },
        "xaxis67": {
         "anchor": "y67",
         "domain": [
          0,
          0.14666666666666667
         ],
         "showticklabels": true
        },
        "xaxis68": {
         "anchor": "y68",
         "domain": [
          0.16666666666666666,
          0.31333333333333335
         ],
         "showticklabels": true
        },
        "xaxis69": {
         "anchor": "y69",
         "domain": [
          0.3333333333333333,
          0.48
         ],
         "showticklabels": true
        },
        "xaxis7": {
         "anchor": "y7",
         "domain": [
          0,
          0.14666666666666667
         ],
         "showticklabels": true
        },
        "xaxis70": {
         "anchor": "y70",
         "domain": [
          0.5,
          0.6466666666666667
         ],
         "showticklabels": true
        },
        "xaxis71": {
         "anchor": "y71",
         "domain": [
          0.6666666666666666,
          0.8133333333333332
         ],
         "showticklabels": true
        },
        "xaxis72": {
         "anchor": "y72",
         "domain": [
          0.8333333333333334,
          0.98
         ],
         "showticklabels": true
        },
        "xaxis8": {
         "anchor": "y8",
         "domain": [
          0.16666666666666666,
          0.31333333333333335
         ],
         "showticklabels": true
        },
        "xaxis9": {
         "anchor": "y9",
         "domain": [
          0.3333333333333333,
          0.48
         ],
         "showticklabels": true
        },
        "yaxis": {
         "anchor": "x",
         "domain": [
          0,
          0.05583333333333333
         ],
         "showticklabels": true,
         "title": {
          "text": "counts"
         }
        },
        "yaxis10": {
         "anchor": "x10",
         "domain": [
          0.08583333333333333,
          0.14166666666666666
         ],
         "showticklabels": true
        },
        "yaxis11": {
         "anchor": "x11",
         "domain": [
          0.08583333333333333,
          0.14166666666666666
         ],
         "showticklabels": true
        },
        "yaxis12": {
         "anchor": "x12",
         "domain": [
          0.08583333333333333,
          0.14166666666666666
         ],
         "showticklabels": true
        },
        "yaxis13": {
         "anchor": "x13",
         "domain": [
          0.17166666666666666,
          0.22749999999999998
         ],
         "showticklabels": true,
         "title": {
          "text": "counts"
         }
        },
        "yaxis14": {
         "anchor": "x14",
         "domain": [
          0.17166666666666666,
          0.22749999999999998
         ],
         "showticklabels": true
        },
        "yaxis15": {
         "anchor": "x15",
         "domain": [
          0.17166666666666666,
          0.22749999999999998
         ],
         "showticklabels": true
        },
        "yaxis16": {
         "anchor": "x16",
         "domain": [
          0.17166666666666666,
          0.22749999999999998
         ],
         "showticklabels": true
        },
        "yaxis17": {
         "anchor": "x17",
         "domain": [
          0.17166666666666666,
          0.22749999999999998
         ],
         "showticklabels": true
        },
        "yaxis18": {
         "anchor": "x18",
         "domain": [
          0.17166666666666666,
          0.22749999999999998
         ],
         "showticklabels": true
        },
        "yaxis19": {
         "anchor": "x19",
         "domain": [
          0.25749999999999995,
          0.3133333333333333
         ],
         "showticklabels": true,
         "title": {
          "text": "counts"
         }
        },
        "yaxis2": {
         "anchor": "x2",
         "domain": [
          0,
          0.05583333333333333
         ],
         "showticklabels": true
        },
        "yaxis20": {
         "anchor": "x20",
         "domain": [
          0.25749999999999995,
          0.3133333333333333
         ],
         "showticklabels": true
        },
        "yaxis21": {
         "anchor": "x21",
         "domain": [
          0.25749999999999995,
          0.3133333333333333
         ],
         "showticklabels": true
        },
        "yaxis22": {
         "anchor": "x22",
         "domain": [
          0.25749999999999995,
          0.3133333333333333
         ],
         "showticklabels": true
        },
        "yaxis23": {
         "anchor": "x23",
         "domain": [
          0.25749999999999995,
          0.3133333333333333
         ],
         "showticklabels": true
        },
        "yaxis24": {
         "anchor": "x24",
         "domain": [
          0.25749999999999995,
          0.3133333333333333
         ],
         "showticklabels": true
        },
        "yaxis25": {
         "anchor": "x25",
         "domain": [
          0.3433333333333333,
          0.39916666666666667
         ],
         "showticklabels": true,
         "title": {
          "text": "counts"
         }
        },
        "yaxis26": {
         "anchor": "x26",
         "domain": [
          0.3433333333333333,
          0.39916666666666667
         ],
         "showticklabels": true
        },
        "yaxis27": {
         "anchor": "x27",
         "domain": [
          0.3433333333333333,
          0.39916666666666667
         ],
         "showticklabels": true
        },
        "yaxis28": {
         "anchor": "x28",
         "domain": [
          0.3433333333333333,
          0.39916666666666667
         ],
         "showticklabels": true
        },
        "yaxis29": {
         "anchor": "x29",
         "domain": [
          0.3433333333333333,
          0.39916666666666667
         ],
         "showticklabels": true
        },
        "yaxis3": {
         "anchor": "x3",
         "domain": [
          0,
          0.05583333333333333
         ],
         "showticklabels": true
        },
        "yaxis30": {
         "anchor": "x30",
         "domain": [
          0.3433333333333333,
          0.39916666666666667
         ],
         "showticklabels": true
        },
        "yaxis31": {
         "anchor": "x31",
         "domain": [
          0.4291666666666667,
          0.48500000000000004
         ],
         "showticklabels": true,
         "title": {
          "text": "counts"
         }
        },
        "yaxis32": {
         "anchor": "x32",
         "domain": [
          0.4291666666666667,
          0.48500000000000004
         ],
         "showticklabels": true
        },
        "yaxis33": {
         "anchor": "x33",
         "domain": [
          0.4291666666666667,
          0.48500000000000004
         ],
         "showticklabels": true
        },
        "yaxis34": {
         "anchor": "x34",
         "domain": [
          0.4291666666666667,
          0.48500000000000004
         ],
         "showticklabels": true
        },
        "yaxis35": {
         "anchor": "x35",
         "domain": [
          0.4291666666666667,
          0.48500000000000004
         ],
         "showticklabels": true
        },
        "yaxis36": {
         "anchor": "x36",
         "domain": [
          0.4291666666666667,
          0.48500000000000004
         ],
         "showticklabels": true
        },
        "yaxis37": {
         "anchor": "x37",
         "domain": [
          0.515,
          0.5708333333333333
         ],
         "showticklabels": true,
         "title": {
          "text": "counts"
         }
        },
        "yaxis38": {
         "anchor": "x38",
         "domain": [
          0.515,
          0.5708333333333333
         ],
         "showticklabels": true
        },
        "yaxis39": {
         "anchor": "x39",
         "domain": [
          0.515,
          0.5708333333333333
         ],
         "showticklabels": true
        },
        "yaxis4": {
         "anchor": "x4",
         "domain": [
          0,
          0.05583333333333333
         ],
         "showticklabels": true
        },
        "yaxis40": {
         "anchor": "x40",
         "domain": [
          0.515,
          0.5708333333333333
         ],
         "showticklabels": true
        },
        "yaxis41": {
         "anchor": "x41",
         "domain": [
          0.515,
          0.5708333333333333
         ],
         "showticklabels": true
        },
        "yaxis42": {
         "anchor": "x42",
         "domain": [
          0.515,
          0.5708333333333333
         ],
         "showticklabels": true
        },
        "yaxis43": {
         "anchor": "x43",
         "domain": [
          0.6008333333333333,
          0.6566666666666666
         ],
         "showticklabels": true,
         "title": {
          "text": "counts"
         }
        },
        "yaxis44": {
         "anchor": "x44",
         "domain": [
          0.6008333333333333,
          0.6566666666666666
         ],
         "showticklabels": true
        },
        "yaxis45": {
         "anchor": "x45",
         "domain": [
          0.6008333333333333,
          0.6566666666666666
         ],
         "showticklabels": true
        },
        "yaxis46": {
         "anchor": "x46",
         "domain": [
          0.6008333333333333,
          0.6566666666666666
         ],
         "showticklabels": true
        },
        "yaxis47": {
         "anchor": "x47",
         "domain": [
          0.6008333333333333,
          0.6566666666666666
         ],
         "showticklabels": true
        },
        "yaxis48": {
         "anchor": "x48",
         "domain": [
          0.6008333333333333,
          0.6566666666666666
         ],
         "showticklabels": true
        },
        "yaxis49": {
         "anchor": "x49",
         "domain": [
          0.6866666666666668,
          0.7425
         ],
         "showticklabels": true,
         "title": {
          "text": "counts"
         }
        },
        "yaxis5": {
         "anchor": "x5",
         "domain": [
          0,
          0.05583333333333333
         ],
         "showticklabels": true
        },
        "yaxis50": {
         "anchor": "x50",
         "domain": [
          0.6866666666666668,
          0.7425
         ],
         "showticklabels": true
        },
        "yaxis51": {
         "anchor": "x51",
         "domain": [
          0.6866666666666668,
          0.7425
         ],
         "showticklabels": true
        },
        "yaxis52": {
         "anchor": "x52",
         "domain": [
          0.6866666666666668,
          0.7425
         ],
         "showticklabels": true
        },
        "yaxis53": {
         "anchor": "x53",
         "domain": [
          0.6866666666666668,
          0.7425
         ],
         "showticklabels": true
        },
        "yaxis54": {
         "anchor": "x54",
         "domain": [
          0.6866666666666668,
          0.7425
         ],
         "showticklabels": true
        },
        "yaxis55": {
         "anchor": "x55",
         "domain": [
          0.7725000000000001,
          0.8283333333333334
         ],
         "showticklabels": true,
         "title": {
          "text": "counts"
         }
        },
        "yaxis56": {
         "anchor": "x56",
         "domain": [
          0.7725000000000001,
          0.8283333333333334
         ],
         "showticklabels": true
        },
        "yaxis57": {
         "anchor": "x57",
         "domain": [
          0.7725000000000001,
          0.8283333333333334
         ],
         "showticklabels": true
        },
        "yaxis58": {
         "anchor": "x58",
         "domain": [
          0.7725000000000001,
          0.8283333333333334
         ],
         "showticklabels": true
        },
        "yaxis59": {
         "anchor": "x59",
         "domain": [
          0.7725000000000001,
          0.8283333333333334
         ],
         "showticklabels": true
        },
        "yaxis6": {
         "anchor": "x6",
         "domain": [
          0,
          0.05583333333333333
         ],
         "showticklabels": true
        },
        "yaxis60": {
         "anchor": "x60",
         "domain": [
          0.7725000000000001,
          0.8283333333333334
         ],
         "showticklabels": true
        },
        "yaxis61": {
         "anchor": "x61",
         "domain": [
          0.8583333333333334,
          0.9141666666666667
         ],
         "showticklabels": true,
         "title": {
          "text": "counts"
         }
        },
        "yaxis62": {
         "anchor": "x62",
         "domain": [
          0.8583333333333334,
          0.9141666666666667
         ],
         "showticklabels": true
        },
        "yaxis63": {
         "anchor": "x63",
         "domain": [
          0.8583333333333334,
          0.9141666666666667
         ],
         "showticklabels": true
        },
        "yaxis64": {
         "anchor": "x64",
         "domain": [
          0.8583333333333334,
          0.9141666666666667
         ],
         "showticklabels": true
        },
        "yaxis65": {
         "anchor": "x65",
         "domain": [
          0.8583333333333334,
          0.9141666666666667
         ],
         "showticklabels": true
        },
        "yaxis66": {
         "anchor": "x66",
         "domain": [
          0.8583333333333334,
          0.9141666666666667
         ],
         "showticklabels": true
        },
        "yaxis67": {
         "anchor": "x67",
         "domain": [
          0.9441666666666666,
          0.9999999999999999
         ],
         "showticklabels": true,
         "title": {
          "text": "counts"
         }
        },
        "yaxis68": {
         "anchor": "x68",
         "domain": [
          0.9441666666666666,
          0.9999999999999999
         ],
         "showticklabels": true
        },
        "yaxis69": {
         "anchor": "x69",
         "domain": [
          0.9441666666666666,
          0.9999999999999999
         ],
         "showticklabels": true
        },
        "yaxis7": {
         "anchor": "x7",
         "domain": [
          0.08583333333333333,
          0.14166666666666666
         ],
         "showticklabels": true,
         "title": {
          "text": "counts"
         }
        },
        "yaxis70": {
         "anchor": "x70",
         "domain": [
          0.9441666666666666,
          0.9999999999999999
         ],
         "showticklabels": true
        },
        "yaxis71": {
         "anchor": "x71",
         "domain": [
          0.9441666666666666,
          0.9999999999999999
         ],
         "showticklabels": true
        },
        "yaxis72": {
         "anchor": "x72",
         "domain": [
          0.9441666666666666,
          0.9999999999999999
         ],
         "showticklabels": true
        },
        "yaxis8": {
         "anchor": "x8",
         "domain": [
          0.08583333333333333,
          0.14166666666666666
         ],
         "showticklabels": true
        },
        "yaxis9": {
         "anchor": "x9",
         "domain": [
          0.08583333333333333,
          0.14166666666666666
         ],
         "showticklabels": true
        }
       }
      }
     },
     "metadata": {},
     "output_type": "display_data"
    }
   ],
   "source": [
    "fig = px.bar(\n",
    "    emotion_counts,\n",
    "    x=\"emotion_output\",\n",
    "    y=\"counts\",\n",
    "    facet_row=\"newspaper\",\n",
    "    facet_col=\"year_week\",\n",
    "    color=\"emotion_output\",\n",
    "    color_discrete_sequence=gruvbox_colors,\n",
    "    title=\"Emotion per newspaper\",\n",
    "    height=2100,\n",
    "    width=2100\n",
    "    )\n",
    "\n",
    "fig.for_each_annotation(lambda a: a.update(text=f\"{a.text.split('=')[-1]}\"))\n",
    "fig.update_xaxes(matches=None, showticklabels=True)\n",
    "fig.update_yaxes(matches=None, showticklabels=True)\n",
    "fig.update_layout(showlegend=False)\n",
    "\n",
    "fig.write_html(f\"{BASE_DIR}/reports/emotion_bar-{TIME_STAMPS[0]}-{TIME_STAMPS[-1]}.html\")\n",
    "\n",
    "fig.show()"
   ]
  },
  {
   "attachments": {},
   "cell_type": "markdown",
   "metadata": {},
   "source": [
    "Results have been so far inconclusive un terms of both, sentiment and emotion, with **neutral** and **others** as main results. Still, there are two roads we could take to see the full picture, since we are looking a the results per week.\n",
    "1. Check the partial results per week per newspaper\n",
    "2. Translate the tweets to english and do sentiment analysis on the translation (with the limitations its comes)"
   ]
  },
  {
   "cell_type": "code",
   "execution_count": 70,
   "metadata": {},
   "outputs": [],
   "source": [
    "sentiment_prob = corpus[[\"newspaper\", \"year_week\", \"sentiment_probas_NEG\", \"sentiment_probas_NEU\", \"sentiment_probas_POS\"]].groupby(by=[\"newspaper\", \"year_week\"]).mean()"
   ]
  },
  {
   "cell_type": "code",
   "execution_count": 72,
   "metadata": {},
   "outputs": [],
   "source": [
    "sentiment_prob.reset_index(inplace=True)"
   ]
  },
  {
   "cell_type": "code",
   "execution_count": 73,
   "metadata": {},
   "outputs": [],
   "source": [
    "sentiment_prob = sentiment_prob.melt(id_vars=[\"newspaper\", \"year_week\"], value_vars=[\"sentiment_probas_NEG\", \"sentiment_probas_NEU\", \"sentiment_probas_POS\"], var_name=\"sentiment\", value_name=\"probability\")"
   ]
  },
  {
   "cell_type": "code",
   "execution_count": 74,
   "metadata": {},
   "outputs": [],
   "source": [
    "sentiment_prob[\"sentiment\"] = sentiment_prob[\"sentiment\"].apply(lambda x: x.replace(\"sentiment_probas_\", \"\"))"
   ]
  },
  {
   "cell_type": "code",
   "execution_count": 75,
   "metadata": {},
   "outputs": [
    {
     "data": {
      "text/html": [
       "<div>\n",
       "<style scoped>\n",
       "    .dataframe tbody tr th:only-of-type {\n",
       "        vertical-align: middle;\n",
       "    }\n",
       "\n",
       "    .dataframe tbody tr th {\n",
       "        vertical-align: top;\n",
       "    }\n",
       "\n",
       "    .dataframe thead th {\n",
       "        text-align: right;\n",
       "    }\n",
       "</style>\n",
       "<table border=\"1\" class=\"dataframe\">\n",
       "  <thead>\n",
       "    <tr style=\"text-align: right;\">\n",
       "      <th></th>\n",
       "      <th>newspaper</th>\n",
       "      <th>year_week</th>\n",
       "      <th>sentiment</th>\n",
       "      <th>probability</th>\n",
       "    </tr>\n",
       "  </thead>\n",
       "  <tbody>\n",
       "    <tr>\n",
       "      <th>0</th>\n",
       "      <td>DiarioElPeruano</td>\n",
       "      <td>2022w33</td>\n",
       "      <td>NEG</td>\n",
       "      <td>0.165</td>\n",
       "    </tr>\n",
       "    <tr>\n",
       "      <th>1</th>\n",
       "      <td>DiarioElPeruano</td>\n",
       "      <td>2022w34</td>\n",
       "      <td>NEG</td>\n",
       "      <td>0.176</td>\n",
       "    </tr>\n",
       "    <tr>\n",
       "      <th>2</th>\n",
       "      <td>DiarioElPeruano</td>\n",
       "      <td>2022w39</td>\n",
       "      <td>NEG</td>\n",
       "      <td>0.139</td>\n",
       "    </tr>\n",
       "    <tr>\n",
       "      <th>3</th>\n",
       "      <td>DiarioElPeruano</td>\n",
       "      <td>2022w44</td>\n",
       "      <td>NEG</td>\n",
       "      <td>0.140</td>\n",
       "    </tr>\n",
       "    <tr>\n",
       "      <th>4</th>\n",
       "      <td>DiarioElPeruano</td>\n",
       "      <td>2022w49</td>\n",
       "      <td>NEG</td>\n",
       "      <td>0.182</td>\n",
       "    </tr>\n",
       "  </tbody>\n",
       "</table>\n",
       "</div>"
      ],
      "text/plain": [
       "         newspaper year_week sentiment  probability\n",
       "0  DiarioElPeruano   2022w33       NEG        0.165\n",
       "1  DiarioElPeruano   2022w34       NEG        0.176\n",
       "2  DiarioElPeruano   2022w39       NEG        0.139\n",
       "3  DiarioElPeruano   2022w44       NEG        0.140\n",
       "4  DiarioElPeruano   2022w49       NEG        0.182"
      ]
     },
     "execution_count": 75,
     "metadata": {},
     "output_type": "execute_result"
    }
   ],
   "source": [
    "sentiment_prob.head()"
   ]
  },
  {
   "cell_type": "code",
   "execution_count": 76,
   "metadata": {},
   "outputs": [
    {
     "data": {
      "application/vnd.plotly.v1+json": {
       "config": {
        "plotlyServerURL": "https://plot.ly"
       },
       "data": [
        {
         "hovertemplate": "sentiment=NEG<br>newspaper=DiarioElPeruano<br>year_week=%{x}<br>probability=%{y}<extra></extra>",
         "legendgroup": "NEG",
         "line": {
          "color": "#fabd2f",
          "dash": "solid"
         },
         "marker": {
          "symbol": "circle"
         },
         "mode": "lines",
         "name": "NEG",
         "orientation": "v",
         "showlegend": true,
         "type": "scatter",
         "x": [
          "2022w33",
          "2022w34",
          "2022w39",
          "2022w44",
          "2022w49",
          "2023w2"
         ],
         "xaxis": "x10",
         "y": [
          0.16490809322542238,
          0.17596124175470323,
          0.13919267728430243,
          0.14015402399524246,
          0.18193864535114065,
          0.23705992191443565
         ],
         "yaxis": "y10"
        },
        {
         "hovertemplate": "sentiment=NEG<br>newspaper=ExpresoPeru<br>year_week=%{x}<br>probability=%{y}<extra></extra>",
         "legendgroup": "NEG",
         "line": {
          "color": "#fabd2f",
          "dash": "solid"
         },
         "marker": {
          "symbol": "circle"
         },
         "mode": "lines",
         "name": "NEG",
         "orientation": "v",
         "showlegend": false,
         "type": "scatter",
         "x": [
          "2022w33",
          "2022w34",
          "2022w39",
          "2022w44",
          "2022w49",
          "2023w2"
         ],
         "xaxis": "x11",
         "y": [
          0.41463447414267196,
          0.38297249873777706,
          0.36907046457615944,
          0.37567539227027924,
          0.4728259920477867,
          0.4294145099234347
         ],
         "yaxis": "y11"
        },
        {
         "hovertemplate": "sentiment=NEG<br>newspaper=Gestionpe<br>year_week=%{x}<br>probability=%{y}<extra></extra>",
         "legendgroup": "NEG",
         "line": {
          "color": "#fabd2f",
          "dash": "solid"
         },
         "marker": {
          "symbol": "circle"
         },
         "mode": "lines",
         "name": "NEG",
         "orientation": "v",
         "showlegend": false,
         "type": "scatter",
         "x": [
          "2022w33",
          "2022w34",
          "2022w39",
          "2022w44",
          "2022w49",
          "2023w2"
         ],
         "xaxis": "x12",
         "y": [
          0.3203751267177146,
          0.2980131138215514,
          0.3079503462187716,
          0.29740578432800246,
          0.3185828107332049,
          0.3255435946555575
         ],
         "yaxis": "y12"
        },
        {
         "hovertemplate": "sentiment=NEG<br>newspaper=diariocorreo<br>year_week=%{x}<br>probability=%{y}<extra></extra>",
         "legendgroup": "NEG",
         "line": {
          "color": "#fabd2f",
          "dash": "solid"
         },
         "marker": {
          "symbol": "circle"
         },
         "mode": "lines",
         "name": "NEG",
         "orientation": "v",
         "showlegend": false,
         "type": "scatter",
         "x": [
          "2022w33",
          "2022w34",
          "2022w39",
          "2022w44",
          "2022w49",
          "2023w2"
         ],
         "xaxis": "x7",
         "y": [
          0.3556939764412221,
          0.33305610058326196,
          0.33157604596887014,
          0.36281726537455744,
          0.3616650350715803,
          0.4203561438344322
         ],
         "yaxis": "y7"
        },
        {
         "hovertemplate": "sentiment=NEG<br>newspaper=diarioojo<br>year_week=%{x}<br>probability=%{y}<extra></extra>",
         "legendgroup": "NEG",
         "line": {
          "color": "#fabd2f",
          "dash": "solid"
         },
         "marker": {
          "symbol": "circle"
         },
         "mode": "lines",
         "name": "NEG",
         "orientation": "v",
         "showlegend": false,
         "type": "scatter",
         "x": [
          "2022w33",
          "2022w34",
          "2022w39",
          "2022w44",
          "2022w49",
          "2023w2"
         ],
         "xaxis": "x8",
         "y": [
          0.3544846993705439,
          0.3119763336161168,
          0.35121518298856574,
          0.3460781378272988,
          0.37361675916801007,
          0.4035070240957589
         ],
         "yaxis": "y8"
        },
        {
         "hovertemplate": "sentiment=NEG<br>newspaper=elbuho_pe<br>year_week=%{x}<br>probability=%{y}<extra></extra>",
         "legendgroup": "NEG",
         "line": {
          "color": "#fabd2f",
          "dash": "solid"
         },
         "marker": {
          "symbol": "circle"
         },
         "mode": "lines",
         "name": "NEG",
         "orientation": "v",
         "showlegend": false,
         "type": "scatter",
         "x": [
          "2022w34",
          "2022w39",
          "2022w44",
          "2022w49",
          "2023w2"
         ],
         "xaxis": "x9",
         "y": [
          0.36431615016069907,
          0.3305378442572564,
          0.40301874717818453,
          0.5129047241303828,
          0.4867950648069382
         ],
         "yaxis": "y9"
        },
        {
         "hovertemplate": "sentiment=NEG<br>newspaper=elcomercio_peru<br>year_week=%{x}<br>probability=%{y}<extra></extra>",
         "legendgroup": "NEG",
         "line": {
          "color": "#fabd2f",
          "dash": "solid"
         },
         "marker": {
          "symbol": "circle"
         },
         "mode": "lines",
         "name": "NEG",
         "orientation": "v",
         "showlegend": false,
         "type": "scatter",
         "x": [
          "2022w33",
          "2022w34",
          "2022w39",
          "2022w44",
          "2022w49",
          "2023w2"
         ],
         "xaxis": "x4",
         "y": [
          0.4077394434860078,
          0.3848931506394329,
          0.3854019419486576,
          0.3857948324916235,
          0.4133019191402588,
          0.43725789457083847
         ],
         "yaxis": "y4"
        },
        {
         "hovertemplate": "sentiment=NEG<br>newspaper=ensustrece<br>year_week=%{x}<br>probability=%{y}<extra></extra>",
         "legendgroup": "NEG",
         "line": {
          "color": "#fabd2f",
          "dash": "solid"
         },
         "marker": {
          "symbol": "circle"
         },
         "mode": "lines",
         "name": "NEG",
         "orientation": "v",
         "showlegend": false,
         "type": "scatter",
         "x": [
          "2022w34",
          "2022w39",
          "2022w44",
          "2022w49",
          "2023w2"
         ],
         "xaxis": "x5",
         "y": [
          0.6181870995399853,
          0.5447871526213068,
          0.44854528177529573,
          0.5855866890315983,
          0.555806748336181
         ],
         "yaxis": "y5"
        },
        {
         "hovertemplate": "sentiment=NEG<br>newspaper=larazon_pe<br>year_week=%{x}<br>probability=%{y}<extra></extra>",
         "legendgroup": "NEG",
         "line": {
          "color": "#fabd2f",
          "dash": "solid"
         },
         "marker": {
          "symbol": "circle"
         },
         "mode": "lines",
         "name": "NEG",
         "orientation": "v",
         "showlegend": false,
         "type": "scatter",
         "x": [
          "2022w33",
          "2022w34",
          "2022w39",
          "2022w44",
          "2022w49",
          "2023w2"
         ],
         "xaxis": "x6",
         "y": [
          0.32270611655669956,
          0.23157808951412637,
          0.33314680966452276,
          0.20889872031515105,
          0.24072930043829338,
          0.36651645311595576
         ],
         "yaxis": "y6"
        },
        {
         "hovertemplate": "sentiment=NEG<br>newspaper=larepublica_pe<br>year_week=%{x}<br>probability=%{y}<extra></extra>",
         "legendgroup": "NEG",
         "line": {
          "color": "#fabd2f",
          "dash": "solid"
         },
         "marker": {
          "symbol": "circle"
         },
         "mode": "lines",
         "name": "NEG",
         "orientation": "v",
         "showlegend": false,
         "type": "scatter",
         "x": [
          "2022w33",
          "2022w34",
          "2022w39",
          "2022w44",
          "2022w49",
          "2023w2"
         ],
         "xaxis": "x",
         "y": [
          0.37374391209900265,
          0.34498811523827577,
          0.3160994590703416,
          0.3637131896192092,
          0.3502288383519422,
          0.4127300339812668
         ],
         "yaxis": "y"
        },
        {
         "hovertemplate": "sentiment=NEG<br>newspaper=peru21noticias<br>year_week=%{x}<br>probability=%{y}<extra></extra>",
         "legendgroup": "NEG",
         "line": {
          "color": "#fabd2f",
          "dash": "solid"
         },
         "marker": {
          "symbol": "circle"
         },
         "mode": "lines",
         "name": "NEG",
         "orientation": "v",
         "showlegend": false,
         "type": "scatter",
         "x": [
          "2022w33",
          "2022w34",
          "2022w39",
          "2022w44",
          "2022w49",
          "2023w2"
         ],
         "xaxis": "x2",
         "y": [
          0.32528387072294224,
          0.2821078632493541,
          0.3135769714270094,
          0.32968345179533376,
          0.3307242680689376,
          0.3437475736989152
         ],
         "yaxis": "y2"
        },
        {
         "hovertemplate": "sentiment=NEG<br>newspaper=tromepe<br>year_week=%{x}<br>probability=%{y}<extra></extra>",
         "legendgroup": "NEG",
         "line": {
          "color": "#fabd2f",
          "dash": "solid"
         },
         "marker": {
          "symbol": "circle"
         },
         "mode": "lines",
         "name": "NEG",
         "orientation": "v",
         "showlegend": false,
         "type": "scatter",
         "x": [
          "2022w33",
          "2022w34",
          "2022w39",
          "2022w44",
          "2022w49",
          "2023w2"
         ],
         "xaxis": "x3",
         "y": [
          0.3260377623302411,
          0.2790646633341599,
          0.3143097787499272,
          0.31917535897242505,
          0.3478020542402754,
          0.31482479598552615
         ],
         "yaxis": "y3"
        },
        {
         "hovertemplate": "sentiment=NEU<br>newspaper=DiarioElPeruano<br>year_week=%{x}<br>probability=%{y}<extra></extra>",
         "legendgroup": "NEU",
         "line": {
          "color": "#b8bb26",
          "dash": "solid"
         },
         "marker": {
          "symbol": "circle"
         },
         "mode": "lines",
         "name": "NEU",
         "orientation": "v",
         "showlegend": true,
         "type": "scatter",
         "x": [
          "2022w33",
          "2022w34",
          "2022w39",
          "2022w44",
          "2022w49",
          "2023w2"
         ],
         "xaxis": "x10",
         "y": [
          0.5754310402319681,
          0.5493912744708359,
          0.603355212219521,
          0.562620339174104,
          0.5344494753586713,
          0.55542847684895
         ],
         "yaxis": "y10"
        },
        {
         "hovertemplate": "sentiment=NEU<br>newspaper=ExpresoPeru<br>year_week=%{x}<br>probability=%{y}<extra></extra>",
         "legendgroup": "NEU",
         "line": {
          "color": "#b8bb26",
          "dash": "solid"
         },
         "marker": {
          "symbol": "circle"
         },
         "mode": "lines",
         "name": "NEU",
         "orientation": "v",
         "showlegend": false,
         "type": "scatter",
         "x": [
          "2022w33",
          "2022w34",
          "2022w39",
          "2022w44",
          "2022w49",
          "2023w2"
         ],
         "xaxis": "x11",
         "y": [
          0.46770988142552694,
          0.497451299120887,
          0.5133549563629862,
          0.49274194318896686,
          0.42655330581218004,
          0.4521318311638692
         ],
         "yaxis": "y11"
        },
        {
         "hovertemplate": "sentiment=NEU<br>newspaper=Gestionpe<br>year_week=%{x}<br>probability=%{y}<extra></extra>",
         "legendgroup": "NEU",
         "line": {
          "color": "#b8bb26",
          "dash": "solid"
         },
         "marker": {
          "symbol": "circle"
         },
         "mode": "lines",
         "name": "NEU",
         "orientation": "v",
         "showlegend": false,
         "type": "scatter",
         "x": [
          "2022w33",
          "2022w34",
          "2022w39",
          "2022w44",
          "2022w49",
          "2023w2"
         ],
         "xaxis": "x12",
         "y": [
          0.5619230013441929,
          0.5797445655137055,
          0.5695819105002237,
          0.5733725819317624,
          0.5464732244021371,
          0.5386580191086471
         ],
         "yaxis": "y12"
        },
        {
         "hovertemplate": "sentiment=NEU<br>newspaper=diariocorreo<br>year_week=%{x}<br>probability=%{y}<extra></extra>",
         "legendgroup": "NEU",
         "line": {
          "color": "#b8bb26",
          "dash": "solid"
         },
         "marker": {
          "symbol": "circle"
         },
         "mode": "lines",
         "name": "NEU",
         "orientation": "v",
         "showlegend": false,
         "type": "scatter",
         "x": [
          "2022w33",
          "2022w34",
          "2022w39",
          "2022w44",
          "2022w49",
          "2023w2"
         ],
         "xaxis": "x7",
         "y": [
          0.5102583910250499,
          0.5229486161960831,
          0.5241838178281893,
          0.49331142090228375,
          0.48850905365664476,
          0.475181712593593
         ],
         "yaxis": "y7"
        },
        {
         "hovertemplate": "sentiment=NEU<br>newspaper=diarioojo<br>year_week=%{x}<br>probability=%{y}<extra></extra>",
         "legendgroup": "NEU",
         "line": {
          "color": "#b8bb26",
          "dash": "solid"
         },
         "marker": {
          "symbol": "circle"
         },
         "mode": "lines",
         "name": "NEU",
         "orientation": "v",
         "showlegend": false,
         "type": "scatter",
         "x": [
          "2022w33",
          "2022w34",
          "2022w39",
          "2022w44",
          "2022w49",
          "2023w2"
         ],
         "xaxis": "x8",
         "y": [
          0.4672608528272125,
          0.4834442369606312,
          0.48068225574256346,
          0.4568190782792396,
          0.4454546800720463,
          0.41580686046201226
         ],
         "yaxis": "y8"
        },
        {
         "hovertemplate": "sentiment=NEU<br>newspaper=elbuho_pe<br>year_week=%{x}<br>probability=%{y}<extra></extra>",
         "legendgroup": "NEU",
         "line": {
          "color": "#b8bb26",
          "dash": "solid"
         },
         "marker": {
          "symbol": "circle"
         },
         "mode": "lines",
         "name": "NEU",
         "orientation": "v",
         "showlegend": false,
         "type": "scatter",
         "x": [
          "2022w34",
          "2022w39",
          "2022w44",
          "2022w49",
          "2023w2"
         ],
         "xaxis": "x9",
         "y": [
          0.5044332793753209,
          0.5665001550439707,
          0.49091027447252306,
          0.4007250075168037,
          0.4040640716396627
         ],
         "yaxis": "y9"
        },
        {
         "hovertemplate": "sentiment=NEU<br>newspaper=elcomercio_peru<br>year_week=%{x}<br>probability=%{y}<extra></extra>",
         "legendgroup": "NEU",
         "line": {
          "color": "#b8bb26",
          "dash": "solid"
         },
         "marker": {
          "symbol": "circle"
         },
         "mode": "lines",
         "name": "NEU",
         "orientation": "v",
         "showlegend": false,
         "type": "scatter",
         "x": [
          "2022w33",
          "2022w34",
          "2022w39",
          "2022w44",
          "2022w49",
          "2023w2"
         ],
         "xaxis": "x4",
         "y": [
          0.4905051732458149,
          0.5095468452139157,
          0.5139149186688883,
          0.4879073997395969,
          0.47665914350370475,
          0.4668762374878962
         ],
         "yaxis": "y4"
        },
        {
         "hovertemplate": "sentiment=NEU<br>newspaper=ensustrece<br>year_week=%{x}<br>probability=%{y}<extra></extra>",
         "legendgroup": "NEU",
         "line": {
          "color": "#b8bb26",
          "dash": "solid"
         },
         "marker": {
          "symbol": "circle"
         },
         "mode": "lines",
         "name": "NEU",
         "orientation": "v",
         "showlegend": false,
         "type": "scatter",
         "x": [
          "2022w34",
          "2022w39",
          "2022w44",
          "2022w49",
          "2023w2"
         ],
         "xaxis": "x5",
         "y": [
          0.2945416305058946,
          0.2889707295322104,
          0.4083617615203063,
          0.30546181267974054,
          0.3307336986763403
         ],
         "yaxis": "y5"
        },
        {
         "hovertemplate": "sentiment=NEU<br>newspaper=larazon_pe<br>year_week=%{x}<br>probability=%{y}<extra></extra>",
         "legendgroup": "NEU",
         "line": {
          "color": "#b8bb26",
          "dash": "solid"
         },
         "marker": {
          "symbol": "circle"
         },
         "mode": "lines",
         "name": "NEU",
         "orientation": "v",
         "showlegend": false,
         "type": "scatter",
         "x": [
          "2022w33",
          "2022w34",
          "2022w39",
          "2022w44",
          "2022w49",
          "2023w2"
         ],
         "xaxis": "x6",
         "y": [
          0.46316660258848713,
          0.5221807636320591,
          0.4476013100095864,
          0.541146838089876,
          0.6256322930433921,
          0.45032151964934247
         ],
         "yaxis": "y6"
        },
        {
         "hovertemplate": "sentiment=NEU<br>newspaper=larepublica_pe<br>year_week=%{x}<br>probability=%{y}<extra></extra>",
         "legendgroup": "NEU",
         "line": {
          "color": "#b8bb26",
          "dash": "solid"
         },
         "marker": {
          "symbol": "circle"
         },
         "mode": "lines",
         "name": "NEU",
         "orientation": "v",
         "showlegend": false,
         "type": "scatter",
         "x": [
          "2022w33",
          "2022w34",
          "2022w39",
          "2022w44",
          "2022w49",
          "2023w2"
         ],
         "xaxis": "x",
         "y": [
          0.48806074374224473,
          0.5092457549189282,
          0.5242373638471468,
          0.50365170849657,
          0.5017809055209386,
          0.4708540283077683
         ],
         "yaxis": "y"
        },
        {
         "hovertemplate": "sentiment=NEU<br>newspaper=peru21noticias<br>year_week=%{x}<br>probability=%{y}<extra></extra>",
         "legendgroup": "NEU",
         "line": {
          "color": "#b8bb26",
          "dash": "solid"
         },
         "marker": {
          "symbol": "circle"
         },
         "mode": "lines",
         "name": "NEU",
         "orientation": "v",
         "showlegend": false,
         "type": "scatter",
         "x": [
          "2022w33",
          "2022w34",
          "2022w39",
          "2022w44",
          "2022w49",
          "2023w2"
         ],
         "xaxis": "x2",
         "y": [
          0.494746549163526,
          0.5045288158086411,
          0.5065048490007668,
          0.4818025854802591,
          0.48746481557250637,
          0.4759933950574625
         ],
         "yaxis": "y2"
        },
        {
         "hovertemplate": "sentiment=NEU<br>newspaper=tromepe<br>year_week=%{x}<br>probability=%{y}<extra></extra>",
         "legendgroup": "NEU",
         "line": {
          "color": "#b8bb26",
          "dash": "solid"
         },
         "marker": {
          "symbol": "circle"
         },
         "mode": "lines",
         "name": "NEU",
         "orientation": "v",
         "showlegend": false,
         "type": "scatter",
         "x": [
          "2022w33",
          "2022w34",
          "2022w39",
          "2022w44",
          "2022w49",
          "2023w2"
         ],
         "xaxis": "x3",
         "y": [
          0.4762012989681265,
          0.5175171210424793,
          0.4914581222288217,
          0.4745435459841146,
          0.47016747131814407,
          0.47528561338586556
         ],
         "yaxis": "y3"
        },
        {
         "hovertemplate": "sentiment=POS<br>newspaper=DiarioElPeruano<br>year_week=%{x}<br>probability=%{y}<extra></extra>",
         "legendgroup": "POS",
         "line": {
          "color": "#458588",
          "dash": "solid"
         },
         "marker": {
          "symbol": "circle"
         },
         "mode": "lines",
         "name": "POS",
         "orientation": "v",
         "showlegend": true,
         "type": "scatter",
         "x": [
          "2022w33",
          "2022w34",
          "2022w39",
          "2022w44",
          "2022w49",
          "2023w2"
         ],
         "xaxis": "x10",
         "y": [
          0.25966086154640955,
          0.27464748102705927,
          0.25745210910125316,
          0.29722564339747914,
          0.28361188194051906,
          0.20751160572399385
         ],
         "yaxis": "y10"
        },
        {
         "hovertemplate": "sentiment=POS<br>newspaper=ExpresoPeru<br>year_week=%{x}<br>probability=%{y}<extra></extra>",
         "legendgroup": "POS",
         "line": {
          "color": "#458588",
          "dash": "solid"
         },
         "marker": {
          "symbol": "circle"
         },
         "mode": "lines",
         "name": "POS",
         "orientation": "v",
         "showlegend": false,
         "type": "scatter",
         "x": [
          "2022w33",
          "2022w34",
          "2022w39",
          "2022w44",
          "2022w49",
          "2023w2"
         ],
         "xaxis": "x11",
         "y": [
          0.11765564090770245,
          0.11957620419203661,
          0.11757457474225046,
          0.13158266402733249,
          0.10062070235610009,
          0.11845365731940403
         ],
         "yaxis": "y11"
        },
        {
         "hovertemplate": "sentiment=POS<br>newspaper=Gestionpe<br>year_week=%{x}<br>probability=%{y}<extra></extra>",
         "legendgroup": "POS",
         "line": {
          "color": "#458588",
          "dash": "solid"
         },
         "marker": {
          "symbol": "circle"
         },
         "mode": "lines",
         "name": "POS",
         "orientation": "v",
         "showlegend": false,
         "type": "scatter",
         "x": [
          "2022w33",
          "2022w34",
          "2022w39",
          "2022w44",
          "2022w49",
          "2023w2"
         ],
         "xaxis": "x12",
         "y": [
          0.11770187239573048,
          0.12224231818981934,
          0.1224677421430668,
          0.12922163778363027,
          0.13494396547335621,
          0.13579838648332046
         ],
         "yaxis": "y12"
        },
        {
         "hovertemplate": "sentiment=POS<br>newspaper=diariocorreo<br>year_week=%{x}<br>probability=%{y}<extra></extra>",
         "legendgroup": "POS",
         "line": {
          "color": "#458588",
          "dash": "solid"
         },
         "marker": {
          "symbol": "circle"
         },
         "mode": "lines",
         "name": "POS",
         "orientation": "v",
         "showlegend": false,
         "type": "scatter",
         "x": [
          "2022w33",
          "2022w34",
          "2022w39",
          "2022w44",
          "2022w49",
          "2023w2"
         ],
         "xaxis": "x7",
         "y": [
          0.1340476349853496,
          0.14399528127646993,
          0.14424013766704327,
          0.14387131689770527,
          0.14982591251735286,
          0.10446214869954054
         ],
         "yaxis": "y7"
        },
        {
         "hovertemplate": "sentiment=POS<br>newspaper=diarioojo<br>year_week=%{x}<br>probability=%{y}<extra></extra>",
         "legendgroup": "POS",
         "line": {
          "color": "#458588",
          "dash": "solid"
         },
         "marker": {
          "symbol": "circle"
         },
         "mode": "lines",
         "name": "POS",
         "orientation": "v",
         "showlegend": false,
         "type": "scatter",
         "x": [
          "2022w33",
          "2022w34",
          "2022w39",
          "2022w44",
          "2022w49",
          "2023w2"
         ],
         "xaxis": "x8",
         "y": [
          0.17825444783747646,
          0.20457942869497447,
          0.1681025597207587,
          0.19710278527995756,
          0.18092855795461826,
          0.18068611755256617
         ],
         "yaxis": "y8"
        },
        {
         "hovertemplate": "sentiment=POS<br>newspaper=elbuho_pe<br>year_week=%{x}<br>probability=%{y}<extra></extra>",
         "legendgroup": "POS",
         "line": {
          "color": "#458588",
          "dash": "solid"
         },
         "marker": {
          "symbol": "circle"
         },
         "mode": "lines",
         "name": "POS",
         "orientation": "v",
         "showlegend": false,
         "type": "scatter",
         "x": [
          "2022w34",
          "2022w39",
          "2022w44",
          "2022w49",
          "2023w2"
         ],
         "xaxis": "x9",
         "y": [
          0.13125057073695393,
          0.10296200479851249,
          0.10607097214450698,
          0.08637027091092685,
          0.10914085671926538
         ],
         "yaxis": "y9"
        },
        {
         "hovertemplate": "sentiment=POS<br>newspaper=elcomercio_peru<br>year_week=%{x}<br>probability=%{y}<extra></extra>",
         "legendgroup": "POS",
         "line": {
          "color": "#458588",
          "dash": "solid"
         },
         "marker": {
          "symbol": "circle"
         },
         "mode": "lines",
         "name": "POS",
         "orientation": "v",
         "showlegend": false,
         "type": "scatter",
         "x": [
          "2022w33",
          "2022w34",
          "2022w39",
          "2022w44",
          "2022w49",
          "2023w2"
         ],
         "xaxis": "x4",
         "y": [
          0.10175538677778032,
          0.10556000621665343,
          0.10068314018872115,
          0.12629776481511049,
          0.11003893832739324,
          0.0958658695373144
         ],
         "yaxis": "y4"
        },
        {
         "hovertemplate": "sentiment=POS<br>newspaper=ensustrece<br>year_week=%{x}<br>probability=%{y}<extra></extra>",
         "legendgroup": "POS",
         "line": {
          "color": "#458588",
          "dash": "solid"
         },
         "marker": {
          "symbol": "circle"
         },
         "mode": "lines",
         "name": "POS",
         "orientation": "v",
         "showlegend": false,
         "type": "scatter",
         "x": [
          "2022w34",
          "2022w39",
          "2022w44",
          "2022w49",
          "2023w2"
         ],
         "xaxis": "x5",
         "y": [
          0.0872712508329035,
          0.16624210527362793,
          0.14309295325074345,
          0.10895148934584788,
          0.11345952440751716
         ],
         "yaxis": "y5"
        },
        {
         "hovertemplate": "sentiment=POS<br>newspaper=larazon_pe<br>year_week=%{x}<br>probability=%{y}<extra></extra>",
         "legendgroup": "POS",
         "line": {
          "color": "#458588",
          "dash": "solid"
         },
         "marker": {
          "symbol": "circle"
         },
         "mode": "lines",
         "name": "POS",
         "orientation": "v",
         "showlegend": false,
         "type": "scatter",
         "x": [
          "2022w33",
          "2022w34",
          "2022w39",
          "2022w44",
          "2022w49",
          "2023w2"
         ],
         "xaxis": "x6",
         "y": [
          0.21412729100271496,
          0.24624115920936068,
          0.2192518895869304,
          0.24995443411171436,
          0.13363840416339892,
          0.18316202899114342
         ],
         "yaxis": "y6"
        },
        {
         "hovertemplate": "sentiment=POS<br>newspaper=larepublica_pe<br>year_week=%{x}<br>probability=%{y}<extra></extra>",
         "legendgroup": "POS",
         "line": {
          "color": "#458588",
          "dash": "solid"
         },
         "marker": {
          "symbol": "circle"
         },
         "mode": "lines",
         "name": "POS",
         "orientation": "v",
         "showlegend": false,
         "type": "scatter",
         "x": [
          "2022w33",
          "2022w34",
          "2022w39",
          "2022w44",
          "2022w49",
          "2023w2"
         ],
         "xaxis": "x",
         "y": [
          0.13819534373227857,
          0.14576613012630327,
          0.15966317419753337,
          0.13263510221510305,
          0.14799025554151488,
          0.11641593667437132
         ],
         "yaxis": "y"
        },
        {
         "hovertemplate": "sentiment=POS<br>newspaper=peru21noticias<br>year_week=%{x}<br>probability=%{y}<extra></extra>",
         "legendgroup": "POS",
         "line": {
          "color": "#458588",
          "dash": "solid"
         },
         "marker": {
          "symbol": "circle"
         },
         "mode": "lines",
         "name": "POS",
         "orientation": "v",
         "showlegend": false,
         "type": "scatter",
         "x": [
          "2022w33",
          "2022w34",
          "2022w39",
          "2022w44",
          "2022w49",
          "2023w2"
         ],
         "xaxis": "x2",
         "y": [
          0.17996958146022277,
          0.21336331953726803,
          0.17991817829189535,
          0.1885139626702244,
          0.18181091946478814,
          0.1802590321842581
         ],
         "yaxis": "y2"
        },
        {
         "hovertemplate": "sentiment=POS<br>newspaper=tromepe<br>year_week=%{x}<br>probability=%{y}<extra></extra>",
         "legendgroup": "POS",
         "line": {
          "color": "#458588",
          "dash": "solid"
         },
         "marker": {
          "symbol": "circle"
         },
         "mode": "lines",
         "name": "POS",
         "orientation": "v",
         "showlegend": false,
         "type": "scatter",
         "x": [
          "2022w33",
          "2022w34",
          "2022w39",
          "2022w44",
          "2022w49",
          "2023w2"
         ],
         "xaxis": "x3",
         "y": [
          0.19776094038375402,
          0.20341821555267497,
          0.1942321018463928,
          0.2062810976527587,
          0.18203047489991853,
          0.20988958666677984
         ],
         "yaxis": "y3"
        }
       ],
       "layout": {
        "annotations": [
         {
          "font": {},
          "showarrow": false,
          "text": "larepublica_pe",
          "x": 0.14666666666666667,
          "xanchor": "center",
          "xref": "paper",
          "y": 0.1975,
          "yanchor": "bottom",
          "yref": "paper"
         },
         {
          "font": {},
          "showarrow": false,
          "text": "peru21noticias",
          "x": 0.5,
          "xanchor": "center",
          "xref": "paper",
          "y": 0.1975,
          "yanchor": "bottom",
          "yref": "paper"
         },
         {
          "font": {},
          "showarrow": false,
          "text": "tromepe",
          "x": 0.8533333333333333,
          "xanchor": "center",
          "xref": "paper",
          "y": 0.1975,
          "yanchor": "bottom",
          "yref": "paper"
         },
         {
          "font": {},
          "showarrow": false,
          "text": "elcomercio_peru",
          "x": 0.14666666666666667,
          "xanchor": "center",
          "xref": "paper",
          "y": 0.465,
          "yanchor": "bottom",
          "yref": "paper"
         },
         {
          "font": {},
          "showarrow": false,
          "text": "ensustrece",
          "x": 0.5,
          "xanchor": "center",
          "xref": "paper",
          "y": 0.465,
          "yanchor": "bottom",
          "yref": "paper"
         },
         {
          "font": {},
          "showarrow": false,
          "text": "larazon_pe",
          "x": 0.8533333333333333,
          "xanchor": "center",
          "xref": "paper",
          "y": 0.465,
          "yanchor": "bottom",
          "yref": "paper"
         },
         {
          "font": {},
          "showarrow": false,
          "text": "diariocorreo",
          "x": 0.14666666666666667,
          "xanchor": "center",
          "xref": "paper",
          "y": 0.7325,
          "yanchor": "bottom",
          "yref": "paper"
         },
         {
          "font": {},
          "showarrow": false,
          "text": "diarioojo",
          "x": 0.5,
          "xanchor": "center",
          "xref": "paper",
          "y": 0.7325,
          "yanchor": "bottom",
          "yref": "paper"
         },
         {
          "font": {},
          "showarrow": false,
          "text": "elbuho_pe",
          "x": 0.8533333333333333,
          "xanchor": "center",
          "xref": "paper",
          "y": 0.7325,
          "yanchor": "bottom",
          "yref": "paper"
         },
         {
          "font": {},
          "showarrow": false,
          "text": "DiarioElPeruano",
          "x": 0.14666666666666667,
          "xanchor": "center",
          "xref": "paper",
          "y": 1,
          "yanchor": "bottom",
          "yref": "paper"
         },
         {
          "font": {},
          "showarrow": false,
          "text": "ExpresoPeru",
          "x": 0.5,
          "xanchor": "center",
          "xref": "paper",
          "y": 1,
          "yanchor": "bottom",
          "yref": "paper"
         },
         {
          "font": {},
          "showarrow": false,
          "text": "Gestionpe",
          "x": 0.8533333333333333,
          "xanchor": "center",
          "xref": "paper",
          "y": 1,
          "yanchor": "bottom",
          "yref": "paper"
         }
        ],
        "height": 1600,
        "legend": {
         "title": {
          "text": "sentiment"
         },
         "tracegroupgap": 0
        },
        "template": {
         "data": {
          "bar": [
           {
            "error_x": {
             "color": "#2a3f5f"
            },
            "error_y": {
             "color": "#2a3f5f"
            },
            "marker": {
             "line": {
              "color": "white",
              "width": 0.5
             },
             "pattern": {
              "fillmode": "overlay",
              "size": 10,
              "solidity": 0.2
             }
            },
            "type": "bar"
           }
          ],
          "barpolar": [
           {
            "marker": {
             "line": {
              "color": "white",
              "width": 0.5
             },
             "pattern": {
              "fillmode": "overlay",
              "size": 10,
              "solidity": 0.2
             }
            },
            "type": "barpolar"
           }
          ],
          "carpet": [
           {
            "aaxis": {
             "endlinecolor": "#2a3f5f",
             "gridcolor": "#C8D4E3",
             "linecolor": "#C8D4E3",
             "minorgridcolor": "#C8D4E3",
             "startlinecolor": "#2a3f5f"
            },
            "baxis": {
             "endlinecolor": "#2a3f5f",
             "gridcolor": "#C8D4E3",
             "linecolor": "#C8D4E3",
             "minorgridcolor": "#C8D4E3",
             "startlinecolor": "#2a3f5f"
            },
            "type": "carpet"
           }
          ],
          "choropleth": [
           {
            "colorbar": {
             "outlinewidth": 0,
             "ticks": ""
            },
            "type": "choropleth"
           }
          ],
          "contour": [
           {
            "colorbar": {
             "outlinewidth": 0,
             "ticks": ""
            },
            "colorscale": [
             [
              0,
              "#0d0887"
             ],
             [
              0.1111111111111111,
              "#46039f"
             ],
             [
              0.2222222222222222,
              "#7201a8"
             ],
             [
              0.3333333333333333,
              "#9c179e"
             ],
             [
              0.4444444444444444,
              "#bd3786"
             ],
             [
              0.5555555555555556,
              "#d8576b"
             ],
             [
              0.6666666666666666,
              "#ed7953"
             ],
             [
              0.7777777777777778,
              "#fb9f3a"
             ],
             [
              0.8888888888888888,
              "#fdca26"
             ],
             [
              1,
              "#f0f921"
             ]
            ],
            "type": "contour"
           }
          ],
          "contourcarpet": [
           {
            "colorbar": {
             "outlinewidth": 0,
             "ticks": ""
            },
            "type": "contourcarpet"
           }
          ],
          "heatmap": [
           {
            "colorbar": {
             "outlinewidth": 0,
             "ticks": ""
            },
            "colorscale": [
             [
              0,
              "#0d0887"
             ],
             [
              0.1111111111111111,
              "#46039f"
             ],
             [
              0.2222222222222222,
              "#7201a8"
             ],
             [
              0.3333333333333333,
              "#9c179e"
             ],
             [
              0.4444444444444444,
              "#bd3786"
             ],
             [
              0.5555555555555556,
              "#d8576b"
             ],
             [
              0.6666666666666666,
              "#ed7953"
             ],
             [
              0.7777777777777778,
              "#fb9f3a"
             ],
             [
              0.8888888888888888,
              "#fdca26"
             ],
             [
              1,
              "#f0f921"
             ]
            ],
            "type": "heatmap"
           }
          ],
          "heatmapgl": [
           {
            "colorbar": {
             "outlinewidth": 0,
             "ticks": ""
            },
            "colorscale": [
             [
              0,
              "#0d0887"
             ],
             [
              0.1111111111111111,
              "#46039f"
             ],
             [
              0.2222222222222222,
              "#7201a8"
             ],
             [
              0.3333333333333333,
              "#9c179e"
             ],
             [
              0.4444444444444444,
              "#bd3786"
             ],
             [
              0.5555555555555556,
              "#d8576b"
             ],
             [
              0.6666666666666666,
              "#ed7953"
             ],
             [
              0.7777777777777778,
              "#fb9f3a"
             ],
             [
              0.8888888888888888,
              "#fdca26"
             ],
             [
              1,
              "#f0f921"
             ]
            ],
            "type": "heatmapgl"
           }
          ],
          "histogram": [
           {
            "marker": {
             "pattern": {
              "fillmode": "overlay",
              "size": 10,
              "solidity": 0.2
             }
            },
            "type": "histogram"
           }
          ],
          "histogram2d": [
           {
            "colorbar": {
             "outlinewidth": 0,
             "ticks": ""
            },
            "colorscale": [
             [
              0,
              "#0d0887"
             ],
             [
              0.1111111111111111,
              "#46039f"
             ],
             [
              0.2222222222222222,
              "#7201a8"
             ],
             [
              0.3333333333333333,
              "#9c179e"
             ],
             [
              0.4444444444444444,
              "#bd3786"
             ],
             [
              0.5555555555555556,
              "#d8576b"
             ],
             [
              0.6666666666666666,
              "#ed7953"
             ],
             [
              0.7777777777777778,
              "#fb9f3a"
             ],
             [
              0.8888888888888888,
              "#fdca26"
             ],
             [
              1,
              "#f0f921"
             ]
            ],
            "type": "histogram2d"
           }
          ],
          "histogram2dcontour": [
           {
            "colorbar": {
             "outlinewidth": 0,
             "ticks": ""
            },
            "colorscale": [
             [
              0,
              "#0d0887"
             ],
             [
              0.1111111111111111,
              "#46039f"
             ],
             [
              0.2222222222222222,
              "#7201a8"
             ],
             [
              0.3333333333333333,
              "#9c179e"
             ],
             [
              0.4444444444444444,
              "#bd3786"
             ],
             [
              0.5555555555555556,
              "#d8576b"
             ],
             [
              0.6666666666666666,
              "#ed7953"
             ],
             [
              0.7777777777777778,
              "#fb9f3a"
             ],
             [
              0.8888888888888888,
              "#fdca26"
             ],
             [
              1,
              "#f0f921"
             ]
            ],
            "type": "histogram2dcontour"
           }
          ],
          "mesh3d": [
           {
            "colorbar": {
             "outlinewidth": 0,
             "ticks": ""
            },
            "type": "mesh3d"
           }
          ],
          "parcoords": [
           {
            "line": {
             "colorbar": {
              "outlinewidth": 0,
              "ticks": ""
             }
            },
            "type": "parcoords"
           }
          ],
          "pie": [
           {
            "automargin": true,
            "type": "pie"
           }
          ],
          "scatter": [
           {
            "fillpattern": {
             "fillmode": "overlay",
             "size": 10,
             "solidity": 0.2
            },
            "type": "scatter"
           }
          ],
          "scatter3d": [
           {
            "line": {
             "colorbar": {
              "outlinewidth": 0,
              "ticks": ""
             }
            },
            "marker": {
             "colorbar": {
              "outlinewidth": 0,
              "ticks": ""
             }
            },
            "type": "scatter3d"
           }
          ],
          "scattercarpet": [
           {
            "marker": {
             "colorbar": {
              "outlinewidth": 0,
              "ticks": ""
             }
            },
            "type": "scattercarpet"
           }
          ],
          "scattergeo": [
           {
            "marker": {
             "colorbar": {
              "outlinewidth": 0,
              "ticks": ""
             }
            },
            "type": "scattergeo"
           }
          ],
          "scattergl": [
           {
            "marker": {
             "colorbar": {
              "outlinewidth": 0,
              "ticks": ""
             }
            },
            "type": "scattergl"
           }
          ],
          "scattermapbox": [
           {
            "marker": {
             "colorbar": {
              "outlinewidth": 0,
              "ticks": ""
             }
            },
            "type": "scattermapbox"
           }
          ],
          "scatterpolar": [
           {
            "marker": {
             "colorbar": {
              "outlinewidth": 0,
              "ticks": ""
             }
            },
            "type": "scatterpolar"
           }
          ],
          "scatterpolargl": [
           {
            "marker": {
             "colorbar": {
              "outlinewidth": 0,
              "ticks": ""
             }
            },
            "type": "scatterpolargl"
           }
          ],
          "scatterternary": [
           {
            "marker": {
             "colorbar": {
              "outlinewidth": 0,
              "ticks": ""
             }
            },
            "type": "scatterternary"
           }
          ],
          "surface": [
           {
            "colorbar": {
             "outlinewidth": 0,
             "ticks": ""
            },
            "colorscale": [
             [
              0,
              "#0d0887"
             ],
             [
              0.1111111111111111,
              "#46039f"
             ],
             [
              0.2222222222222222,
              "#7201a8"
             ],
             [
              0.3333333333333333,
              "#9c179e"
             ],
             [
              0.4444444444444444,
              "#bd3786"
             ],
             [
              0.5555555555555556,
              "#d8576b"
             ],
             [
              0.6666666666666666,
              "#ed7953"
             ],
             [
              0.7777777777777778,
              "#fb9f3a"
             ],
             [
              0.8888888888888888,
              "#fdca26"
             ],
             [
              1,
              "#f0f921"
             ]
            ],
            "type": "surface"
           }
          ],
          "table": [
           {
            "cells": {
             "fill": {
              "color": "#EBF0F8"
             },
             "line": {
              "color": "white"
             }
            },
            "header": {
             "fill": {
              "color": "#C8D4E3"
             },
             "line": {
              "color": "white"
             }
            },
            "type": "table"
           }
          ]
         },
         "layout": {
          "annotationdefaults": {
           "arrowcolor": "#2a3f5f",
           "arrowhead": 0,
           "arrowwidth": 1
          },
          "autotypenumbers": "strict",
          "coloraxis": {
           "colorbar": {
            "outlinewidth": 0,
            "ticks": ""
           }
          },
          "colorscale": {
           "diverging": [
            [
             0,
             "#8e0152"
            ],
            [
             0.1,
             "#c51b7d"
            ],
            [
             0.2,
             "#de77ae"
            ],
            [
             0.3,
             "#f1b6da"
            ],
            [
             0.4,
             "#fde0ef"
            ],
            [
             0.5,
             "#f7f7f7"
            ],
            [
             0.6,
             "#e6f5d0"
            ],
            [
             0.7,
             "#b8e186"
            ],
            [
             0.8,
             "#7fbc41"
            ],
            [
             0.9,
             "#4d9221"
            ],
            [
             1,
             "#276419"
            ]
           ],
           "sequential": [
            [
             0,
             "#0d0887"
            ],
            [
             0.1111111111111111,
             "#46039f"
            ],
            [
             0.2222222222222222,
             "#7201a8"
            ],
            [
             0.3333333333333333,
             "#9c179e"
            ],
            [
             0.4444444444444444,
             "#bd3786"
            ],
            [
             0.5555555555555556,
             "#d8576b"
            ],
            [
             0.6666666666666666,
             "#ed7953"
            ],
            [
             0.7777777777777778,
             "#fb9f3a"
            ],
            [
             0.8888888888888888,
             "#fdca26"
            ],
            [
             1,
             "#f0f921"
            ]
           ],
           "sequentialminus": [
            [
             0,
             "#0d0887"
            ],
            [
             0.1111111111111111,
             "#46039f"
            ],
            [
             0.2222222222222222,
             "#7201a8"
            ],
            [
             0.3333333333333333,
             "#9c179e"
            ],
            [
             0.4444444444444444,
             "#bd3786"
            ],
            [
             0.5555555555555556,
             "#d8576b"
            ],
            [
             0.6666666666666666,
             "#ed7953"
            ],
            [
             0.7777777777777778,
             "#fb9f3a"
            ],
            [
             0.8888888888888888,
             "#fdca26"
            ],
            [
             1,
             "#f0f921"
            ]
           ]
          },
          "colorway": [
           "#636efa",
           "#EF553B",
           "#00cc96",
           "#ab63fa",
           "#FFA15A",
           "#19d3f3",
           "#FF6692",
           "#B6E880",
           "#FF97FF",
           "#FECB52"
          ],
          "font": {
           "color": "#2a3f5f"
          },
          "geo": {
           "bgcolor": "white",
           "lakecolor": "white",
           "landcolor": "white",
           "showlakes": true,
           "showland": true,
           "subunitcolor": "#C8D4E3"
          },
          "hoverlabel": {
           "align": "left"
          },
          "hovermode": "closest",
          "mapbox": {
           "style": "light"
          },
          "paper_bgcolor": "white",
          "plot_bgcolor": "white",
          "polar": {
           "angularaxis": {
            "gridcolor": "#EBF0F8",
            "linecolor": "#EBF0F8",
            "ticks": ""
           },
           "bgcolor": "white",
           "radialaxis": {
            "gridcolor": "#EBF0F8",
            "linecolor": "#EBF0F8",
            "ticks": ""
           }
          },
          "scene": {
           "xaxis": {
            "backgroundcolor": "white",
            "gridcolor": "#DFE8F3",
            "gridwidth": 2,
            "linecolor": "#EBF0F8",
            "showbackground": true,
            "ticks": "",
            "zerolinecolor": "#EBF0F8"
           },
           "yaxis": {
            "backgroundcolor": "white",
            "gridcolor": "#DFE8F3",
            "gridwidth": 2,
            "linecolor": "#EBF0F8",
            "showbackground": true,
            "ticks": "",
            "zerolinecolor": "#EBF0F8"
           },
           "zaxis": {
            "backgroundcolor": "white",
            "gridcolor": "#DFE8F3",
            "gridwidth": 2,
            "linecolor": "#EBF0F8",
            "showbackground": true,
            "ticks": "",
            "zerolinecolor": "#EBF0F8"
           }
          },
          "shapedefaults": {
           "line": {
            "color": "#2a3f5f"
           }
          },
          "ternary": {
           "aaxis": {
            "gridcolor": "#DFE8F3",
            "linecolor": "#A2B1C6",
            "ticks": ""
           },
           "baxis": {
            "gridcolor": "#DFE8F3",
            "linecolor": "#A2B1C6",
            "ticks": ""
           },
           "bgcolor": "white",
           "caxis": {
            "gridcolor": "#DFE8F3",
            "linecolor": "#A2B1C6",
            "ticks": ""
           }
          },
          "title": {
           "x": 0.05
          },
          "xaxis": {
           "automargin": true,
           "gridcolor": "#EBF0F8",
           "linecolor": "#EBF0F8",
           "ticks": "",
           "title": {
            "standoff": 15
           },
           "zerolinecolor": "#EBF0F8",
           "zerolinewidth": 2
          },
          "yaxis": {
           "automargin": true,
           "gridcolor": "#EBF0F8",
           "linecolor": "#EBF0F8",
           "ticks": "",
           "title": {
            "standoff": 15
           },
           "zerolinecolor": "#EBF0F8",
           "zerolinewidth": 2
          }
         }
        },
        "title": {
         "text": "Sentiment probability per newspaper"
        },
        "width": 1600,
        "xaxis": {
         "anchor": "y",
         "domain": [
          0,
          0.29333333333333333
         ],
         "showticklabels": true,
         "title": {
          "text": "year_week"
         }
        },
        "xaxis10": {
         "anchor": "y10",
         "domain": [
          0,
          0.29333333333333333
         ],
         "showticklabels": true
        },
        "xaxis11": {
         "anchor": "y11",
         "domain": [
          0.35333333333333333,
          0.6466666666666667
         ],
         "showticklabels": true
        },
        "xaxis12": {
         "anchor": "y12",
         "domain": [
          0.7066666666666667,
          1
         ],
         "showticklabels": true
        },
        "xaxis2": {
         "anchor": "y2",
         "domain": [
          0.35333333333333333,
          0.6466666666666667
         ],
         "showticklabels": true,
         "title": {
          "text": "year_week"
         }
        },
        "xaxis3": {
         "anchor": "y3",
         "domain": [
          0.7066666666666667,
          1
         ],
         "showticklabels": true,
         "title": {
          "text": "year_week"
         }
        },
        "xaxis4": {
         "anchor": "y4",
         "domain": [
          0,
          0.29333333333333333
         ],
         "showticklabels": true
        },
        "xaxis5": {
         "anchor": "y5",
         "domain": [
          0.35333333333333333,
          0.6466666666666667
         ],
         "showticklabels": true
        },
        "xaxis6": {
         "anchor": "y6",
         "domain": [
          0.7066666666666667,
          1
         ],
         "showticklabels": true
        },
        "xaxis7": {
         "anchor": "y7",
         "domain": [
          0,
          0.29333333333333333
         ],
         "showticklabels": true
        },
        "xaxis8": {
         "anchor": "y8",
         "domain": [
          0.35333333333333333,
          0.6466666666666667
         ],
         "showticklabels": true
        },
        "xaxis9": {
         "anchor": "y9",
         "domain": [
          0.7066666666666667,
          1
         ],
         "showticklabels": true
        },
        "yaxis": {
         "anchor": "x",
         "domain": [
          0,
          0.1975
         ],
         "showticklabels": true,
         "title": {
          "text": "probability"
         }
        },
        "yaxis10": {
         "anchor": "x10",
         "domain": [
          0.8025,
          1
         ],
         "matches": "y",
         "showticklabels": true,
         "title": {
          "text": "probability"
         }
        },
        "yaxis11": {
         "anchor": "x11",
         "domain": [
          0.8025,
          1
         ],
         "matches": "y",
         "showticklabels": true
        },
        "yaxis12": {
         "anchor": "x12",
         "domain": [
          0.8025,
          1
         ],
         "matches": "y",
         "showticklabels": true
        },
        "yaxis2": {
         "anchor": "x2",
         "domain": [
          0,
          0.1975
         ],
         "matches": "y",
         "showticklabels": true
        },
        "yaxis3": {
         "anchor": "x3",
         "domain": [
          0,
          0.1975
         ],
         "matches": "y",
         "showticklabels": true
        },
        "yaxis4": {
         "anchor": "x4",
         "domain": [
          0.2675,
          0.465
         ],
         "matches": "y",
         "showticklabels": true,
         "title": {
          "text": "probability"
         }
        },
        "yaxis5": {
         "anchor": "x5",
         "domain": [
          0.2675,
          0.465
         ],
         "matches": "y",
         "showticklabels": true
        },
        "yaxis6": {
         "anchor": "x6",
         "domain": [
          0.2675,
          0.465
         ],
         "matches": "y",
         "showticklabels": true
        },
        "yaxis7": {
         "anchor": "x7",
         "domain": [
          0.535,
          0.7325
         ],
         "matches": "y",
         "showticklabels": true,
         "title": {
          "text": "probability"
         }
        },
        "yaxis8": {
         "anchor": "x8",
         "domain": [
          0.535,
          0.7325
         ],
         "matches": "y",
         "showticklabels": true
        },
        "yaxis9": {
         "anchor": "x9",
         "domain": [
          0.535,
          0.7325
         ],
         "matches": "y",
         "showticklabels": true
        }
       }
      }
     },
     "metadata": {},
     "output_type": "display_data"
    }
   ],
   "source": [
    "fig = px.line(\n",
    "    sentiment_prob,\n",
    "    x=\"year_week\",\n",
    "    y=\"probability\",\n",
    "    facet_col=\"newspaper\",\n",
    "    facet_col_wrap=3,\n",
    "    facet_col_spacing=0.06,\n",
    "    color=\"sentiment\",\n",
    "    color_discrete_sequence=gruvbox_colors,\n",
    "    title=\"Sentiment probability per newspaper\",\n",
    "    height=1600,\n",
    "    width=1600\n",
    "    )\n",
    "\n",
    "fig.for_each_annotation(lambda a: a.update(text=f\"{a.text.split('=')[-1]}\"))\n",
    "fig.update_xaxes(matches=None, showticklabels=True)\n",
    "fig.update_yaxes(showticklabels=True)\n",
    "\n",
    "fig.write_html(f\"{BASE_DIR}/reports/sentiment-prob-bar-{TIME_STAMPS[0]}-{TIME_STAMPS[-1]}.html\")\n",
    "\n",
    "fig.show()"
   ]
  },
  {
   "cell_type": "code",
   "execution_count": 77,
   "metadata": {},
   "outputs": [],
   "source": [
    "emotion_prob = corpus[[\"newspaper\", \"year_week\", \"emotion_probas_anger\", \"emotion_probas_disgust\", \"emotion_probas_fear\", \"emotion_probas_joy\", \"emotion_probas_others\", \"emotion_probas_sadness\", \"emotion_probas_surprise\"]].groupby(by=[\"newspaper\", \"year_week\"]).mean()\n",
    "emotion_prob.reset_index(inplace=True)"
   ]
  },
  {
   "cell_type": "code",
   "execution_count": 78,
   "metadata": {},
   "outputs": [],
   "source": [
    "emotion_prob = emotion_prob.melt(id_vars=[\"newspaper\", \"year_week\"], value_vars=[\"emotion_probas_anger\", \"emotion_probas_disgust\", \"emotion_probas_fear\", \"emotion_probas_joy\", \"emotion_probas_others\", \"emotion_probas_sadness\", \"emotion_probas_surprise\"], var_name=\"emotion\", value_name=\"probability\")"
   ]
  },
  {
   "cell_type": "code",
   "execution_count": 79,
   "metadata": {},
   "outputs": [],
   "source": [
    "emotion_prob[\"emotion\"] = emotion_prob[\"emotion\"].apply(lambda x: x.replace(\"emotion_probas_\", \"\"))"
   ]
  },
  {
   "cell_type": "code",
   "execution_count": 80,
   "metadata": {},
   "outputs": [
    {
     "data": {
      "text/html": [
       "<div>\n",
       "<style scoped>\n",
       "    .dataframe tbody tr th:only-of-type {\n",
       "        vertical-align: middle;\n",
       "    }\n",
       "\n",
       "    .dataframe tbody tr th {\n",
       "        vertical-align: top;\n",
       "    }\n",
       "\n",
       "    .dataframe thead th {\n",
       "        text-align: right;\n",
       "    }\n",
       "</style>\n",
       "<table border=\"1\" class=\"dataframe\">\n",
       "  <thead>\n",
       "    <tr style=\"text-align: right;\">\n",
       "      <th></th>\n",
       "      <th>newspaper</th>\n",
       "      <th>year_week</th>\n",
       "      <th>emotion</th>\n",
       "      <th>probability</th>\n",
       "    </tr>\n",
       "  </thead>\n",
       "  <tbody>\n",
       "    <tr>\n",
       "      <th>0</th>\n",
       "      <td>DiarioElPeruano</td>\n",
       "      <td>2022w33</td>\n",
       "      <td>anger</td>\n",
       "      <td>0.006</td>\n",
       "    </tr>\n",
       "    <tr>\n",
       "      <th>1</th>\n",
       "      <td>DiarioElPeruano</td>\n",
       "      <td>2022w34</td>\n",
       "      <td>anger</td>\n",
       "      <td>0.003</td>\n",
       "    </tr>\n",
       "    <tr>\n",
       "      <th>2</th>\n",
       "      <td>DiarioElPeruano</td>\n",
       "      <td>2022w39</td>\n",
       "      <td>anger</td>\n",
       "      <td>0.003</td>\n",
       "    </tr>\n",
       "    <tr>\n",
       "      <th>3</th>\n",
       "      <td>DiarioElPeruano</td>\n",
       "      <td>2022w44</td>\n",
       "      <td>anger</td>\n",
       "      <td>0.002</td>\n",
       "    </tr>\n",
       "    <tr>\n",
       "      <th>4</th>\n",
       "      <td>DiarioElPeruano</td>\n",
       "      <td>2022w49</td>\n",
       "      <td>anger</td>\n",
       "      <td>0.002</td>\n",
       "    </tr>\n",
       "  </tbody>\n",
       "</table>\n",
       "</div>"
      ],
      "text/plain": [
       "         newspaper year_week emotion  probability\n",
       "0  DiarioElPeruano   2022w33   anger        0.006\n",
       "1  DiarioElPeruano   2022w34   anger        0.003\n",
       "2  DiarioElPeruano   2022w39   anger        0.003\n",
       "3  DiarioElPeruano   2022w44   anger        0.002\n",
       "4  DiarioElPeruano   2022w49   anger        0.002"
      ]
     },
     "execution_count": 80,
     "metadata": {},
     "output_type": "execute_result"
    }
   ],
   "source": [
    "emotion_prob.head()"
   ]
  },
  {
   "cell_type": "code",
   "execution_count": 81,
   "metadata": {},
   "outputs": [
    {
     "data": {
      "application/vnd.plotly.v1+json": {
       "config": {
        "plotlyServerURL": "https://plot.ly"
       },
       "data": [
        {
         "hovertemplate": "emotion=anger<br>newspaper=DiarioElPeruano<br>year_week=%{x}<br>probability=%{y}<extra></extra>",
         "legendgroup": "anger",
         "line": {
          "color": "#fabd2f",
          "dash": "solid"
         },
         "marker": {
          "symbol": "circle"
         },
         "mode": "lines",
         "name": "anger",
         "orientation": "v",
         "showlegend": true,
         "type": "scatter",
         "x": [
          "2022w33",
          "2022w34",
          "2022w39",
          "2022w44",
          "2022w49",
          "2023w2"
         ],
         "xaxis": "x10",
         "y": [
          0.005659565384645629,
          0.003179161354637472,
          0.002882060484815929,
          0.002333359657245393,
          0.002465437191550965,
          0.003354046402280262
         ],
         "yaxis": "y10"
        },
        {
         "hovertemplate": "emotion=anger<br>newspaper=ExpresoPeru<br>year_week=%{x}<br>probability=%{y}<extra></extra>",
         "legendgroup": "anger",
         "line": {
          "color": "#fabd2f",
          "dash": "solid"
         },
         "marker": {
          "symbol": "circle"
         },
         "mode": "lines",
         "name": "anger",
         "orientation": "v",
         "showlegend": false,
         "type": "scatter",
         "x": [
          "2022w33",
          "2022w34",
          "2022w39",
          "2022w44",
          "2022w49",
          "2023w2"
         ],
         "xaxis": "x11",
         "y": [
          0.036121610739269984,
          0.02870384826278146,
          0.023228374366977965,
          0.047735096789442766,
          0.04471518824767554,
          0.05223414810281932
         ],
         "yaxis": "y11"
        },
        {
         "hovertemplate": "emotion=anger<br>newspaper=Gestionpe<br>year_week=%{x}<br>probability=%{y}<extra></extra>",
         "legendgroup": "anger",
         "line": {
          "color": "#fabd2f",
          "dash": "solid"
         },
         "marker": {
          "symbol": "circle"
         },
         "mode": "lines",
         "name": "anger",
         "orientation": "v",
         "showlegend": false,
         "type": "scatter",
         "x": [
          "2022w33",
          "2022w34",
          "2022w39",
          "2022w44",
          "2022w49",
          "2023w2"
         ],
         "xaxis": "x12",
         "y": [
          0.005987885359992462,
          0.005523006463745161,
          0.006374821516363711,
          0.005776801436477399,
          0.005189570027685722,
          0.00678791510986393
         ],
         "yaxis": "y12"
        },
        {
         "hovertemplate": "emotion=anger<br>newspaper=diariocorreo<br>year_week=%{x}<br>probability=%{y}<extra></extra>",
         "legendgroup": "anger",
         "line": {
          "color": "#fabd2f",
          "dash": "solid"
         },
         "marker": {
          "symbol": "circle"
         },
         "mode": "lines",
         "name": "anger",
         "orientation": "v",
         "showlegend": false,
         "type": "scatter",
         "x": [
          "2022w33",
          "2022w34",
          "2022w39",
          "2022w44",
          "2022w49",
          "2023w2"
         ],
         "xaxis": "x7",
         "y": [
          0.016603750802093118,
          0.011863055163606381,
          0.012776167161929279,
          0.020495368862906482,
          0.016746548163584198,
          0.03152947990551561
         ],
         "yaxis": "y7"
        },
        {
         "hovertemplate": "emotion=anger<br>newspaper=diarioojo<br>year_week=%{x}<br>probability=%{y}<extra></extra>",
         "legendgroup": "anger",
         "line": {
          "color": "#fabd2f",
          "dash": "solid"
         },
         "marker": {
          "symbol": "circle"
         },
         "mode": "lines",
         "name": "anger",
         "orientation": "v",
         "showlegend": false,
         "type": "scatter",
         "x": [
          "2022w33",
          "2022w34",
          "2022w39",
          "2022w44",
          "2022w49",
          "2023w2"
         ],
         "xaxis": "x8",
         "y": [
          0.04085403128198375,
          0.032654010583234944,
          0.033557007377186726,
          0.032107998671425456,
          0.0314843388000665,
          0.050489240086743235
         ],
         "yaxis": "y8"
        },
        {
         "hovertemplate": "emotion=anger<br>newspaper=elbuho_pe<br>year_week=%{x}<br>probability=%{y}<extra></extra>",
         "legendgroup": "anger",
         "line": {
          "color": "#fabd2f",
          "dash": "solid"
         },
         "marker": {
          "symbol": "circle"
         },
         "mode": "lines",
         "name": "anger",
         "orientation": "v",
         "showlegend": false,
         "type": "scatter",
         "x": [
          "2022w34",
          "2022w39",
          "2022w44",
          "2022w49",
          "2023w2"
         ],
         "xaxis": "x9",
         "y": [
          0.023121928730061286,
          0.01299870919934882,
          0.020415343174502228,
          0.005753370325644985,
          0.0235979067366792
         ],
         "yaxis": "y9"
        },
        {
         "hovertemplate": "emotion=anger<br>newspaper=elcomercio_peru<br>year_week=%{x}<br>probability=%{y}<extra></extra>",
         "legendgroup": "anger",
         "line": {
          "color": "#fabd2f",
          "dash": "solid"
         },
         "marker": {
          "symbol": "circle"
         },
         "mode": "lines",
         "name": "anger",
         "orientation": "v",
         "showlegend": false,
         "type": "scatter",
         "x": [
          "2022w33",
          "2022w34",
          "2022w39",
          "2022w44",
          "2022w49",
          "2023w2"
         ],
         "xaxis": "x4",
         "y": [
          0.01966138279161373,
          0.025331612838299985,
          0.016839701514555827,
          0.01857082240672862,
          0.021147777342833567,
          0.027108762792022588
         ],
         "yaxis": "y4"
        },
        {
         "hovertemplate": "emotion=anger<br>newspaper=ensustrece<br>year_week=%{x}<br>probability=%{y}<extra></extra>",
         "legendgroup": "anger",
         "line": {
          "color": "#fabd2f",
          "dash": "solid"
         },
         "marker": {
          "symbol": "circle"
         },
         "mode": "lines",
         "name": "anger",
         "orientation": "v",
         "showlegend": false,
         "type": "scatter",
         "x": [
          "2022w34",
          "2022w39",
          "2022w44",
          "2022w49",
          "2023w2"
         ],
         "xaxis": "x5",
         "y": [
          0.09424943994478478,
          0.12325127600342967,
          0.1386451223564412,
          0.09621728355308402,
          0.1224922938781674
         ],
         "yaxis": "y5"
        },
        {
         "hovertemplate": "emotion=anger<br>newspaper=larazon_pe<br>year_week=%{x}<br>probability=%{y}<extra></extra>",
         "legendgroup": "anger",
         "line": {
          "color": "#fabd2f",
          "dash": "solid"
         },
         "marker": {
          "symbol": "circle"
         },
         "mode": "lines",
         "name": "anger",
         "orientation": "v",
         "showlegend": false,
         "type": "scatter",
         "x": [
          "2022w33",
          "2022w34",
          "2022w39",
          "2022w44",
          "2022w49",
          "2023w2"
         ],
         "xaxis": "x6",
         "y": [
          0.040105442998091746,
          0.04105839592205787,
          0.03826012389003279,
          0.004001909370632156,
          0.008635994791360905,
          0.01946882180703126
         ],
         "yaxis": "y6"
        },
        {
         "hovertemplate": "emotion=anger<br>newspaper=larepublica_pe<br>year_week=%{x}<br>probability=%{y}<extra></extra>",
         "legendgroup": "anger",
         "line": {
          "color": "#fabd2f",
          "dash": "solid"
         },
         "marker": {
          "symbol": "circle"
         },
         "mode": "lines",
         "name": "anger",
         "orientation": "v",
         "showlegend": false,
         "type": "scatter",
         "x": [
          "2022w33",
          "2022w34",
          "2022w39",
          "2022w44",
          "2022w49",
          "2023w2"
         ],
         "xaxis": "x",
         "y": [
          0.025388502965313822,
          0.023457460701554994,
          0.014828276442253166,
          0.01950690171284336,
          0.010285734907519292,
          0.024592823376532336
         ],
         "yaxis": "y"
        },
        {
         "hovertemplate": "emotion=anger<br>newspaper=peru21noticias<br>year_week=%{x}<br>probability=%{y}<extra></extra>",
         "legendgroup": "anger",
         "line": {
          "color": "#fabd2f",
          "dash": "solid"
         },
         "marker": {
          "symbol": "circle"
         },
         "mode": "lines",
         "name": "anger",
         "orientation": "v",
         "showlegend": false,
         "type": "scatter",
         "x": [
          "2022w33",
          "2022w34",
          "2022w39",
          "2022w44",
          "2022w49",
          "2023w2"
         ],
         "xaxis": "x2",
         "y": [
          0.023169628838704267,
          0.016446399122319582,
          0.02164131851507394,
          0.02371982837263552,
          0.02213603494548218,
          0.025204039377692555
         ],
         "yaxis": "y2"
        },
        {
         "hovertemplate": "emotion=anger<br>newspaper=tromepe<br>year_week=%{x}<br>probability=%{y}<extra></extra>",
         "legendgroup": "anger",
         "line": {
          "color": "#fabd2f",
          "dash": "solid"
         },
         "marker": {
          "symbol": "circle"
         },
         "mode": "lines",
         "name": "anger",
         "orientation": "v",
         "showlegend": false,
         "type": "scatter",
         "x": [
          "2022w33",
          "2022w34",
          "2022w39",
          "2022w44",
          "2022w49",
          "2023w2"
         ],
         "xaxis": "x3",
         "y": [
          0.035694360155979016,
          0.02579230951881759,
          0.028691713834145444,
          0.03477856584421079,
          0.026807952520316074,
          0.024178499116500763
         ],
         "yaxis": "y3"
        },
        {
         "hovertemplate": "emotion=disgust<br>newspaper=DiarioElPeruano<br>year_week=%{x}<br>probability=%{y}<extra></extra>",
         "legendgroup": "disgust",
         "line": {
          "color": "#b8bb26",
          "dash": "solid"
         },
         "marker": {
          "symbol": "circle"
         },
         "mode": "lines",
         "name": "disgust",
         "orientation": "v",
         "showlegend": true,
         "type": "scatter",
         "x": [
          "2022w33",
          "2022w34",
          "2022w39",
          "2022w44",
          "2022w49",
          "2023w2"
         ],
         "xaxis": "x10",
         "y": [
          0.002268210373554271,
          0.0012280063848811552,
          0.0009265158719687611,
          0.0011861899209922927,
          0.0013683585781127385,
          0.0014437488846144536
         ],
         "yaxis": "y10"
        },
        {
         "hovertemplate": "emotion=disgust<br>newspaper=ExpresoPeru<br>year_week=%{x}<br>probability=%{y}<extra></extra>",
         "legendgroup": "disgust",
         "line": {
          "color": "#b8bb26",
          "dash": "solid"
         },
         "marker": {
          "symbol": "circle"
         },
         "mode": "lines",
         "name": "disgust",
         "orientation": "v",
         "showlegend": false,
         "type": "scatter",
         "x": [
          "2022w33",
          "2022w34",
          "2022w39",
          "2022w44",
          "2022w49",
          "2023w2"
         ],
         "xaxis": "x11",
         "y": [
          0.010838387089403012,
          0.011221316653763306,
          0.009481861397480631,
          0.016454082033865582,
          0.012311296527215746,
          0.017139737029256318
         ],
         "yaxis": "y11"
        },
        {
         "hovertemplate": "emotion=disgust<br>newspaper=Gestionpe<br>year_week=%{x}<br>probability=%{y}<extra></extra>",
         "legendgroup": "disgust",
         "line": {
          "color": "#b8bb26",
          "dash": "solid"
         },
         "marker": {
          "symbol": "circle"
         },
         "mode": "lines",
         "name": "disgust",
         "orientation": "v",
         "showlegend": false,
         "type": "scatter",
         "x": [
          "2022w33",
          "2022w34",
          "2022w39",
          "2022w44",
          "2022w49",
          "2023w2"
         ],
         "xaxis": "x12",
         "y": [
          0.0031858449857252277,
          0.0019117735686415712,
          0.002239760693487312,
          0.0018436386598114042,
          0.0027667403559511867,
          0.002899410023045031
         ],
         "yaxis": "y12"
        },
        {
         "hovertemplate": "emotion=disgust<br>newspaper=diariocorreo<br>year_week=%{x}<br>probability=%{y}<extra></extra>",
         "legendgroup": "disgust",
         "line": {
          "color": "#b8bb26",
          "dash": "solid"
         },
         "marker": {
          "symbol": "circle"
         },
         "mode": "lines",
         "name": "disgust",
         "orientation": "v",
         "showlegend": false,
         "type": "scatter",
         "x": [
          "2022w33",
          "2022w34",
          "2022w39",
          "2022w44",
          "2022w49",
          "2023w2"
         ],
         "xaxis": "x7",
         "y": [
          0.009016255830410703,
          0.0067568435264900644,
          0.006673527608168841,
          0.009013755969402352,
          0.009546143377251706,
          0.012270730637507544
         ],
         "yaxis": "y7"
        },
        {
         "hovertemplate": "emotion=disgust<br>newspaper=diarioojo<br>year_week=%{x}<br>probability=%{y}<extra></extra>",
         "legendgroup": "disgust",
         "line": {
          "color": "#b8bb26",
          "dash": "solid"
         },
         "marker": {
          "symbol": "circle"
         },
         "mode": "lines",
         "name": "disgust",
         "orientation": "v",
         "showlegend": false,
         "type": "scatter",
         "x": [
          "2022w33",
          "2022w34",
          "2022w39",
          "2022w44",
          "2022w49",
          "2023w2"
         ],
         "xaxis": "x8",
         "y": [
          0.013308541284685293,
          0.010293761664384825,
          0.010888808677078818,
          0.009558507431060419,
          0.011335264560317285,
          0.013264302598529405
         ],
         "yaxis": "y8"
        },
        {
         "hovertemplate": "emotion=disgust<br>newspaper=elbuho_pe<br>year_week=%{x}<br>probability=%{y}<extra></extra>",
         "legendgroup": "disgust",
         "line": {
          "color": "#b8bb26",
          "dash": "solid"
         },
         "marker": {
          "symbol": "circle"
         },
         "mode": "lines",
         "name": "disgust",
         "orientation": "v",
         "showlegend": false,
         "type": "scatter",
         "x": [
          "2022w34",
          "2022w39",
          "2022w44",
          "2022w49",
          "2023w2"
         ],
         "xaxis": "x9",
         "y": [
          0.006376160621961202,
          0.00281395743881261,
          0.005233706714428187,
          0.0024417895935596777,
          0.007494099343256537
         ],
         "yaxis": "y9"
        },
        {
         "hovertemplate": "emotion=disgust<br>newspaper=elcomercio_peru<br>year_week=%{x}<br>probability=%{y}<extra></extra>",
         "legendgroup": "disgust",
         "line": {
          "color": "#b8bb26",
          "dash": "solid"
         },
         "marker": {
          "symbol": "circle"
         },
         "mode": "lines",
         "name": "disgust",
         "orientation": "v",
         "showlegend": false,
         "type": "scatter",
         "x": [
          "2022w33",
          "2022w34",
          "2022w39",
          "2022w44",
          "2022w49",
          "2023w2"
         ],
         "xaxis": "x4",
         "y": [
          0.012723170271808519,
          0.01031732184866431,
          0.007330346129094778,
          0.011116008258411391,
          0.010210229164161677,
          0.011544295068792707
         ],
         "yaxis": "y4"
        },
        {
         "hovertemplate": "emotion=disgust<br>newspaper=ensustrece<br>year_week=%{x}<br>probability=%{y}<extra></extra>",
         "legendgroup": "disgust",
         "line": {
          "color": "#b8bb26",
          "dash": "solid"
         },
         "marker": {
          "symbol": "circle"
         },
         "mode": "lines",
         "name": "disgust",
         "orientation": "v",
         "showlegend": false,
         "type": "scatter",
         "x": [
          "2022w34",
          "2022w39",
          "2022w44",
          "2022w49",
          "2023w2"
         ],
         "xaxis": "x5",
         "y": [
          0.018645941410189455,
          0.035205867618634853,
          0.017956752206373494,
          0.04835739489168522,
          0.030197225822121254
         ],
         "yaxis": "y5"
        },
        {
         "hovertemplate": "emotion=disgust<br>newspaper=larazon_pe<br>year_week=%{x}<br>probability=%{y}<extra></extra>",
         "legendgroup": "disgust",
         "line": {
          "color": "#b8bb26",
          "dash": "solid"
         },
         "marker": {
          "symbol": "circle"
         },
         "mode": "lines",
         "name": "disgust",
         "orientation": "v",
         "showlegend": false,
         "type": "scatter",
         "x": [
          "2022w33",
          "2022w34",
          "2022w39",
          "2022w44",
          "2022w49",
          "2023w2"
         ],
         "xaxis": "x6",
         "y": [
          0.02662400051485747,
          0.029443990759803758,
          0.021373386606714558,
          0.0028525158503039725,
          0.003518137221856575,
          0.011331638345916616
         ],
         "yaxis": "y6"
        },
        {
         "hovertemplate": "emotion=disgust<br>newspaper=larepublica_pe<br>year_week=%{x}<br>probability=%{y}<extra></extra>",
         "legendgroup": "disgust",
         "line": {
          "color": "#b8bb26",
          "dash": "solid"
         },
         "marker": {
          "symbol": "circle"
         },
         "mode": "lines",
         "name": "disgust",
         "orientation": "v",
         "showlegend": false,
         "type": "scatter",
         "x": [
          "2022w33",
          "2022w34",
          "2022w39",
          "2022w44",
          "2022w49",
          "2023w2"
         ],
         "xaxis": "x",
         "y": [
          0.009611139811386563,
          0.007454243731285413,
          0.00512884252556404,
          0.007119267304550823,
          0.0036572158710658272,
          0.008946673038880415
         ],
         "yaxis": "y"
        },
        {
         "hovertemplate": "emotion=disgust<br>newspaper=peru21noticias<br>year_week=%{x}<br>probability=%{y}<extra></extra>",
         "legendgroup": "disgust",
         "line": {
          "color": "#b8bb26",
          "dash": "solid"
         },
         "marker": {
          "symbol": "circle"
         },
         "mode": "lines",
         "name": "disgust",
         "orientation": "v",
         "showlegend": false,
         "type": "scatter",
         "x": [
          "2022w33",
          "2022w34",
          "2022w39",
          "2022w44",
          "2022w49",
          "2023w2"
         ],
         "xaxis": "x2",
         "y": [
          0.007477145069615947,
          0.005565600375242134,
          0.006159591454703219,
          0.007120918331856182,
          0.007172100110704589,
          0.00769314874734153
         ],
         "yaxis": "y2"
        },
        {
         "hovertemplate": "emotion=disgust<br>newspaper=tromepe<br>year_week=%{x}<br>probability=%{y}<extra></extra>",
         "legendgroup": "disgust",
         "line": {
          "color": "#b8bb26",
          "dash": "solid"
         },
         "marker": {
          "symbol": "circle"
         },
         "mode": "lines",
         "name": "disgust",
         "orientation": "v",
         "showlegend": false,
         "type": "scatter",
         "x": [
          "2022w33",
          "2022w34",
          "2022w39",
          "2022w44",
          "2022w49",
          "2023w2"
         ],
         "xaxis": "x3",
         "y": [
          0.01342941971246438,
          0.008483116934633144,
          0.010244791192539859,
          0.012458889542570616,
          0.009274852413169856,
          0.008808460092133747
         ],
         "yaxis": "y3"
        },
        {
         "hovertemplate": "emotion=fear<br>newspaper=DiarioElPeruano<br>year_week=%{x}<br>probability=%{y}<extra></extra>",
         "legendgroup": "fear",
         "line": {
          "color": "#458588",
          "dash": "solid"
         },
         "marker": {
          "symbol": "circle"
         },
         "mode": "lines",
         "name": "fear",
         "orientation": "v",
         "showlegend": true,
         "type": "scatter",
         "x": [
          "2022w33",
          "2022w34",
          "2022w39",
          "2022w44",
          "2022w49",
          "2023w2"
         ],
         "xaxis": "x10",
         "y": [
          0.0024104014167528574,
          0.002284614355303347,
          0.0023123464666603677,
          0.001580624305627494,
          0.002739151657905907,
          0.0030660131351733406
         ],
         "yaxis": "y10"
        },
        {
         "hovertemplate": "emotion=fear<br>newspaper=ExpresoPeru<br>year_week=%{x}<br>probability=%{y}<extra></extra>",
         "legendgroup": "fear",
         "line": {
          "color": "#458588",
          "dash": "solid"
         },
         "marker": {
          "symbol": "circle"
         },
         "mode": "lines",
         "name": "fear",
         "orientation": "v",
         "showlegend": false,
         "type": "scatter",
         "x": [
          "2022w33",
          "2022w34",
          "2022w39",
          "2022w44",
          "2022w49",
          "2023w2"
         ],
         "xaxis": "x11",
         "y": [
          0.007419807170473124,
          0.004991514678085178,
          0.012829189444757265,
          0.006427679777903578,
          0.0076478808603715155,
          0.006690236654671311
         ],
         "yaxis": "y11"
        },
        {
         "hovertemplate": "emotion=fear<br>newspaper=Gestionpe<br>year_week=%{x}<br>probability=%{y}<extra></extra>",
         "legendgroup": "fear",
         "line": {
          "color": "#458588",
          "dash": "solid"
         },
         "marker": {
          "symbol": "circle"
         },
         "mode": "lines",
         "name": "fear",
         "orientation": "v",
         "showlegend": false,
         "type": "scatter",
         "x": [
          "2022w33",
          "2022w34",
          "2022w39",
          "2022w44",
          "2022w49",
          "2023w2"
         ],
         "xaxis": "x12",
         "y": [
          0.007107216335342879,
          0.005066355778083407,
          0.005349168391826231,
          0.0041732792239781704,
          0.006091059685923759,
          0.0074635798219897685
         ],
         "yaxis": "y12"
        },
        {
         "hovertemplate": "emotion=fear<br>newspaper=diariocorreo<br>year_week=%{x}<br>probability=%{y}<extra></extra>",
         "legendgroup": "fear",
         "line": {
          "color": "#458588",
          "dash": "solid"
         },
         "marker": {
          "symbol": "circle"
         },
         "mode": "lines",
         "name": "fear",
         "orientation": "v",
         "showlegend": false,
         "type": "scatter",
         "x": [
          "2022w33",
          "2022w34",
          "2022w39",
          "2022w44",
          "2022w49",
          "2023w2"
         ],
         "xaxis": "x7",
         "y": [
          0.010551198501539039,
          0.007460823253864022,
          0.010210510435649148,
          0.011042099375559498,
          0.007332089433166162,
          0.016969018167791155
         ],
         "yaxis": "y7"
        },
        {
         "hovertemplate": "emotion=fear<br>newspaper=diarioojo<br>year_week=%{x}<br>probability=%{y}<extra></extra>",
         "legendgroup": "fear",
         "line": {
          "color": "#458588",
          "dash": "solid"
         },
         "marker": {
          "symbol": "circle"
         },
         "mode": "lines",
         "name": "fear",
         "orientation": "v",
         "showlegend": false,
         "type": "scatter",
         "x": [
          "2022w33",
          "2022w34",
          "2022w39",
          "2022w44",
          "2022w49",
          "2023w2"
         ],
         "xaxis": "x8",
         "y": [
          0.009803432223109164,
          0.006334629712331629,
          0.007103233340418559,
          0.006100568739510653,
          0.007036903968383274,
          0.011342011733931746
         ],
         "yaxis": "y8"
        },
        {
         "hovertemplate": "emotion=fear<br>newspaper=elbuho_pe<br>year_week=%{x}<br>probability=%{y}<extra></extra>",
         "legendgroup": "fear",
         "line": {
          "color": "#458588",
          "dash": "solid"
         },
         "marker": {
          "symbol": "circle"
         },
         "mode": "lines",
         "name": "fear",
         "orientation": "v",
         "showlegend": false,
         "type": "scatter",
         "x": [
          "2022w34",
          "2022w39",
          "2022w44",
          "2022w49",
          "2023w2"
         ],
         "xaxis": "x9",
         "y": [
          0.0052021155505168155,
          0.001936901592380684,
          0.003484584335177266,
          0.0075359241507778115,
          0.011932903669574963
         ],
         "yaxis": "y9"
        },
        {
         "hovertemplate": "emotion=fear<br>newspaper=elcomercio_peru<br>year_week=%{x}<br>probability=%{y}<extra></extra>",
         "legendgroup": "fear",
         "line": {
          "color": "#458588",
          "dash": "solid"
         },
         "marker": {
          "symbol": "circle"
         },
         "mode": "lines",
         "name": "fear",
         "orientation": "v",
         "showlegend": false,
         "type": "scatter",
         "x": [
          "2022w33",
          "2022w34",
          "2022w39",
          "2022w44",
          "2022w49",
          "2023w2"
         ],
         "xaxis": "x4",
         "y": [
          0.018364493923686557,
          0.013438916490290975,
          0.01887954372614331,
          0.014400089329391434,
          0.012382389147720106,
          0.01764898535806093
         ],
         "yaxis": "y4"
        },
        {
         "hovertemplate": "emotion=fear<br>newspaper=ensustrece<br>year_week=%{x}<br>probability=%{y}<extra></extra>",
         "legendgroup": "fear",
         "line": {
          "color": "#458588",
          "dash": "solid"
         },
         "marker": {
          "symbol": "circle"
         },
         "mode": "lines",
         "name": "fear",
         "orientation": "v",
         "showlegend": false,
         "type": "scatter",
         "x": [
          "2022w34",
          "2022w39",
          "2022w44",
          "2022w49",
          "2023w2"
         ],
         "xaxis": "x5",
         "y": [
          0.00382397702014714,
          0.003406796839523227,
          0.0006912832128970573,
          0.003048354405936235,
          0.0025450785624343553
         ],
         "yaxis": "y5"
        },
        {
         "hovertemplate": "emotion=fear<br>newspaper=larazon_pe<br>year_week=%{x}<br>probability=%{y}<extra></extra>",
         "legendgroup": "fear",
         "line": {
          "color": "#458588",
          "dash": "solid"
         },
         "marker": {
          "symbol": "circle"
         },
         "mode": "lines",
         "name": "fear",
         "orientation": "v",
         "showlegend": false,
         "type": "scatter",
         "x": [
          "2022w33",
          "2022w34",
          "2022w39",
          "2022w44",
          "2022w49",
          "2023w2"
         ],
         "xaxis": "x6",
         "y": [
          0.025010408869316308,
          0.027788842851684117,
          0.019872963229788404,
          0.006409032431149267,
          0.001681892117526981,
          0.010951046172219018
         ],
         "yaxis": "y6"
        },
        {
         "hovertemplate": "emotion=fear<br>newspaper=larepublica_pe<br>year_week=%{x}<br>probability=%{y}<extra></extra>",
         "legendgroup": "fear",
         "line": {
          "color": "#458588",
          "dash": "solid"
         },
         "marker": {
          "symbol": "circle"
         },
         "mode": "lines",
         "name": "fear",
         "orientation": "v",
         "showlegend": false,
         "type": "scatter",
         "x": [
          "2022w33",
          "2022w34",
          "2022w39",
          "2022w44",
          "2022w49",
          "2023w2"
         ],
         "xaxis": "x",
         "y": [
          0.007148488595328838,
          0.0056100177993436825,
          0.006053352563738838,
          0.00822347505941772,
          0.0039180416388892485,
          0.007801492285764871
         ],
         "yaxis": "y"
        },
        {
         "hovertemplate": "emotion=fear<br>newspaper=peru21noticias<br>year_week=%{x}<br>probability=%{y}<extra></extra>",
         "legendgroup": "fear",
         "line": {
          "color": "#458588",
          "dash": "solid"
         },
         "marker": {
          "symbol": "circle"
         },
         "mode": "lines",
         "name": "fear",
         "orientation": "v",
         "showlegend": false,
         "type": "scatter",
         "x": [
          "2022w33",
          "2022w34",
          "2022w39",
          "2022w44",
          "2022w49",
          "2023w2"
         ],
         "xaxis": "x2",
         "y": [
          0.005792173805745465,
          0.006279919004480502,
          0.006180754463943249,
          0.00784585094543024,
          0.005808650017693561,
          0.00569007340571954
         ],
         "yaxis": "y2"
        },
        {
         "hovertemplate": "emotion=fear<br>newspaper=tromepe<br>year_week=%{x}<br>probability=%{y}<extra></extra>",
         "legendgroup": "fear",
         "line": {
          "color": "#458588",
          "dash": "solid"
         },
         "marker": {
          "symbol": "circle"
         },
         "mode": "lines",
         "name": "fear",
         "orientation": "v",
         "showlegend": false,
         "type": "scatter",
         "x": [
          "2022w33",
          "2022w34",
          "2022w39",
          "2022w44",
          "2022w49",
          "2023w2"
         ],
         "xaxis": "x3",
         "y": [
          0.00968604974664501,
          0.00616576359493677,
          0.0075840672618758456,
          0.007359173495163871,
          0.006614924872152274,
          0.011286084875809236
         ],
         "yaxis": "y3"
        },
        {
         "hovertemplate": "emotion=joy<br>newspaper=DiarioElPeruano<br>year_week=%{x}<br>probability=%{y}<extra></extra>",
         "legendgroup": "joy",
         "line": {
          "color": "#fe8019",
          "dash": "solid"
         },
         "marker": {
          "symbol": "circle"
         },
         "mode": "lines",
         "name": "joy",
         "orientation": "v",
         "showlegend": true,
         "type": "scatter",
         "x": [
          "2022w33",
          "2022w34",
          "2022w39",
          "2022w44",
          "2022w49",
          "2023w2"
         ],
         "xaxis": "x10",
         "y": [
          0.03651097849164947,
          0.02860923446569359,
          0.029766330124596053,
          0.039647705290780745,
          0.03218369020713234,
          0.0212982876863087
         ],
         "yaxis": "y10"
        },
        {
         "hovertemplate": "emotion=joy<br>newspaper=ExpresoPeru<br>year_week=%{x}<br>probability=%{y}<extra></extra>",
         "legendgroup": "joy",
         "line": {
          "color": "#fe8019",
          "dash": "solid"
         },
         "marker": {
          "symbol": "circle"
         },
         "mode": "lines",
         "name": "joy",
         "orientation": "v",
         "showlegend": false,
         "type": "scatter",
         "x": [
          "2022w33",
          "2022w34",
          "2022w39",
          "2022w44",
          "2022w49",
          "2023w2"
         ],
         "xaxis": "x11",
         "y": [
          0.019190047950851358,
          0.012131165569511583,
          0.018710696458808438,
          0.019498246028953687,
          0.012211117132916114,
          0.010076166210381095
         ],
         "yaxis": "y11"
        },
        {
         "hovertemplate": "emotion=joy<br>newspaper=Gestionpe<br>year_week=%{x}<br>probability=%{y}<extra></extra>",
         "legendgroup": "joy",
         "line": {
          "color": "#fe8019",
          "dash": "solid"
         },
         "marker": {
          "symbol": "circle"
         },
         "mode": "lines",
         "name": "joy",
         "orientation": "v",
         "showlegend": false,
         "type": "scatter",
         "x": [
          "2022w33",
          "2022w34",
          "2022w39",
          "2022w44",
          "2022w49",
          "2023w2"
         ],
         "xaxis": "x12",
         "y": [
          0.007426570307200644,
          0.011967343328440207,
          0.007149884167601711,
          0.01458897015923867,
          0.010273080767307612,
          0.01237128062755294
         ],
         "yaxis": "y12"
        },
        {
         "hovertemplate": "emotion=joy<br>newspaper=diariocorreo<br>year_week=%{x}<br>probability=%{y}<extra></extra>",
         "legendgroup": "joy",
         "line": {
          "color": "#fe8019",
          "dash": "solid"
         },
         "marker": {
          "symbol": "circle"
         },
         "mode": "lines",
         "name": "joy",
         "orientation": "v",
         "showlegend": false,
         "type": "scatter",
         "x": [
          "2022w33",
          "2022w34",
          "2022w39",
          "2022w44",
          "2022w49",
          "2023w2"
         ],
         "xaxis": "x7",
         "y": [
          0.017652679625791434,
          0.019900123332639397,
          0.021684120089664725,
          0.02625621605978584,
          0.020597008436278746,
          0.012834164946602337
         ],
         "yaxis": "y7"
        },
        {
         "hovertemplate": "emotion=joy<br>newspaper=diarioojo<br>year_week=%{x}<br>probability=%{y}<extra></extra>",
         "legendgroup": "joy",
         "line": {
          "color": "#fe8019",
          "dash": "solid"
         },
         "marker": {
          "symbol": "circle"
         },
         "mode": "lines",
         "name": "joy",
         "orientation": "v",
         "showlegend": false,
         "type": "scatter",
         "x": [
          "2022w33",
          "2022w34",
          "2022w39",
          "2022w44",
          "2022w49",
          "2023w2"
         ],
         "xaxis": "x8",
         "y": [
          0.058134670659778155,
          0.07278331458591647,
          0.03644566644083666,
          0.0673134815904337,
          0.046513299832022376,
          0.07089181179407203
         ],
         "yaxis": "y8"
        },
        {
         "hovertemplate": "emotion=joy<br>newspaper=elbuho_pe<br>year_week=%{x}<br>probability=%{y}<extra></extra>",
         "legendgroup": "joy",
         "line": {
          "color": "#fe8019",
          "dash": "solid"
         },
         "marker": {
          "symbol": "circle"
         },
         "mode": "lines",
         "name": "joy",
         "orientation": "v",
         "showlegend": false,
         "type": "scatter",
         "x": [
          "2022w34",
          "2022w39",
          "2022w44",
          "2022w49",
          "2023w2"
         ],
         "xaxis": "x9",
         "y": [
          0.015482102693379697,
          0.0020373842904593833,
          0.016386941501299258,
          0.0016627379042223436,
          0.018417225211271128
         ],
         "yaxis": "y9"
        },
        {
         "hovertemplate": "emotion=joy<br>newspaper=elcomercio_peru<br>year_week=%{x}<br>probability=%{y}<extra></extra>",
         "legendgroup": "joy",
         "line": {
          "color": "#fe8019",
          "dash": "solid"
         },
         "marker": {
          "symbol": "circle"
         },
         "mode": "lines",
         "name": "joy",
         "orientation": "v",
         "showlegend": false,
         "type": "scatter",
         "x": [
          "2022w33",
          "2022w34",
          "2022w39",
          "2022w44",
          "2022w49",
          "2023w2"
         ],
         "xaxis": "x4",
         "y": [
          0.01246771221874403,
          0.00948473369089797,
          0.010162051528141092,
          0.01154987352882597,
          0.01531667329787911,
          0.00845535899924711
         ],
         "yaxis": "y4"
        },
        {
         "hovertemplate": "emotion=joy<br>newspaper=ensustrece<br>year_week=%{x}<br>probability=%{y}<extra></extra>",
         "legendgroup": "joy",
         "line": {
          "color": "#fe8019",
          "dash": "solid"
         },
         "marker": {
          "symbol": "circle"
         },
         "mode": "lines",
         "name": "joy",
         "orientation": "v",
         "showlegend": false,
         "type": "scatter",
         "x": [
          "2022w34",
          "2022w39",
          "2022w44",
          "2022w49",
          "2023w2"
         ],
         "xaxis": "x5",
         "y": [
          0.0030176283520025513,
          0.05610073591723401,
          0.0036506272736005485,
          0.037631781028308484,
          0.06322813169026631
         ],
         "yaxis": "y5"
        },
        {
         "hovertemplate": "emotion=joy<br>newspaper=larazon_pe<br>year_week=%{x}<br>probability=%{y}<extra></extra>",
         "legendgroup": "joy",
         "line": {
          "color": "#fe8019",
          "dash": "solid"
         },
         "marker": {
          "symbol": "circle"
         },
         "mode": "lines",
         "name": "joy",
         "orientation": "v",
         "showlegend": false,
         "type": "scatter",
         "x": [
          "2022w33",
          "2022w34",
          "2022w39",
          "2022w44",
          "2022w49",
          "2023w2"
         ],
         "xaxis": "x6",
         "y": [
          0.035010956745745204,
          0.04556882586233162,
          0.02960735760279931,
          0.04106313262437062,
          0.014465985406838756,
          0.00889357859309632
         ],
         "yaxis": "y6"
        },
        {
         "hovertemplate": "emotion=joy<br>newspaper=larepublica_pe<br>year_week=%{x}<br>probability=%{y}<extra></extra>",
         "legendgroup": "joy",
         "line": {
          "color": "#fe8019",
          "dash": "solid"
         },
         "marker": {
          "symbol": "circle"
         },
         "mode": "lines",
         "name": "joy",
         "orientation": "v",
         "showlegend": false,
         "type": "scatter",
         "x": [
          "2022w33",
          "2022w34",
          "2022w39",
          "2022w44",
          "2022w49",
          "2023w2"
         ],
         "xaxis": "x",
         "y": [
          0.01897085997625775,
          0.014062387840889907,
          0.021154798941980718,
          0.00815116941279229,
          0.02680426294553407,
          0.0063962745344793
         ],
         "yaxis": "y"
        },
        {
         "hovertemplate": "emotion=joy<br>newspaper=peru21noticias<br>year_week=%{x}<br>probability=%{y}<extra></extra>",
         "legendgroup": "joy",
         "line": {
          "color": "#fe8019",
          "dash": "solid"
         },
         "marker": {
          "symbol": "circle"
         },
         "mode": "lines",
         "name": "joy",
         "orientation": "v",
         "showlegend": false,
         "type": "scatter",
         "x": [
          "2022w33",
          "2022w34",
          "2022w39",
          "2022w44",
          "2022w49",
          "2023w2"
         ],
         "xaxis": "x2",
         "y": [
          0.03153329407388539,
          0.04262881234186943,
          0.02608656008936676,
          0.03942608719719035,
          0.03588306397353137,
          0.040268537823909094
         ],
         "yaxis": "y2"
        },
        {
         "hovertemplate": "emotion=joy<br>newspaper=tromepe<br>year_week=%{x}<br>probability=%{y}<extra></extra>",
         "legendgroup": "joy",
         "line": {
          "color": "#fe8019",
          "dash": "solid"
         },
         "marker": {
          "symbol": "circle"
         },
         "mode": "lines",
         "name": "joy",
         "orientation": "v",
         "showlegend": false,
         "type": "scatter",
         "x": [
          "2022w33",
          "2022w34",
          "2022w39",
          "2022w44",
          "2022w49",
          "2023w2"
         ],
         "xaxis": "x3",
         "y": [
          0.05725893233211703,
          0.047634322760433945,
          0.045352601435677944,
          0.06026628674831602,
          0.04711718151801409,
          0.048231050665571894
         ],
         "yaxis": "y3"
        },
        {
         "hovertemplate": "emotion=others<br>newspaper=DiarioElPeruano<br>year_week=%{x}<br>probability=%{y}<extra></extra>",
         "legendgroup": "others",
         "line": {
          "color": "#b16286",
          "dash": "solid"
         },
         "marker": {
          "symbol": "circle"
         },
         "mode": "lines",
         "name": "others",
         "orientation": "v",
         "showlegend": true,
         "type": "scatter",
         "x": [
          "2022w33",
          "2022w34",
          "2022w39",
          "2022w44",
          "2022w49",
          "2023w2"
         ],
         "xaxis": "x10",
         "y": [
          0.9463495885156192,
          0.9362878896063194,
          0.9585728256641763,
          0.9399967424331173,
          0.945747372356072,
          0.9438477161941895
         ],
         "yaxis": "y10"
        },
        {
         "hovertemplate": "emotion=others<br>newspaper=ExpresoPeru<br>year_week=%{x}<br>probability=%{y}<extra></extra>",
         "legendgroup": "others",
         "line": {
          "color": "#b16286",
          "dash": "solid"
         },
         "marker": {
          "symbol": "circle"
         },
         "mode": "lines",
         "name": "others",
         "orientation": "v",
         "showlegend": false,
         "type": "scatter",
         "x": [
          "2022w33",
          "2022w34",
          "2022w39",
          "2022w44",
          "2022w49",
          "2023w2"
         ],
         "xaxis": "x11",
         "y": [
          0.8961500622849677,
          0.9087631798180295,
          0.9043847760329433,
          0.8775679573177909,
          0.8957655723001808,
          0.8787212682910739
         ],
         "yaxis": "y11"
        },
        {
         "hovertemplate": "emotion=others<br>newspaper=Gestionpe<br>year_week=%{x}<br>probability=%{y}<extra></extra>",
         "legendgroup": "others",
         "line": {
          "color": "#b16286",
          "dash": "solid"
         },
         "marker": {
          "symbol": "circle"
         },
         "mode": "lines",
         "name": "others",
         "orientation": "v",
         "showlegend": false,
         "type": "scatter",
         "x": [
          "2022w33",
          "2022w34",
          "2022w39",
          "2022w44",
          "2022w49",
          "2023w2"
         ],
         "xaxis": "x12",
         "y": [
          0.9547540309954363,
          0.959325077833678,
          0.9618881460391078,
          0.9622492107423022,
          0.9550501106436996,
          0.9463125141195636
         ],
         "yaxis": "y12"
        },
        {
         "hovertemplate": "emotion=others<br>newspaper=diariocorreo<br>year_week=%{x}<br>probability=%{y}<extra></extra>",
         "legendgroup": "others",
         "line": {
          "color": "#b16286",
          "dash": "solid"
         },
         "marker": {
          "symbol": "circle"
         },
         "mode": "lines",
         "name": "others",
         "orientation": "v",
         "showlegend": false,
         "type": "scatter",
         "x": [
          "2022w33",
          "2022w34",
          "2022w39",
          "2022w44",
          "2022w49",
          "2023w2"
         ],
         "xaxis": "x7",
         "y": [
          0.9080328396650696,
          0.925015027756618,
          0.9166906393244589,
          0.8854607808616631,
          0.9140712638611822,
          0.8822826046085397
         ],
         "yaxis": "y7"
        },
        {
         "hovertemplate": "emotion=others<br>newspaper=diarioojo<br>year_week=%{x}<br>probability=%{y}<extra></extra>",
         "legendgroup": "others",
         "line": {
          "color": "#b16286",
          "dash": "solid"
         },
         "marker": {
          "symbol": "circle"
         },
         "mode": "lines",
         "name": "others",
         "orientation": "v",
         "showlegend": false,
         "type": "scatter",
         "x": [
          "2022w33",
          "2022w34",
          "2022w39",
          "2022w44",
          "2022w49",
          "2023w2"
         ],
         "xaxis": "x8",
         "y": [
          0.8334659854037344,
          0.8285045786093719,
          0.8691788160127841,
          0.8233737472107063,
          0.8613271857796396,
          0.7992144663454427
         ],
         "yaxis": "y8"
        },
        {
         "hovertemplate": "emotion=others<br>newspaper=elbuho_pe<br>year_week=%{x}<br>probability=%{y}<extra></extra>",
         "legendgroup": "others",
         "line": {
          "color": "#b16286",
          "dash": "solid"
         },
         "marker": {
          "symbol": "circle"
         },
         "mode": "lines",
         "name": "others",
         "orientation": "v",
         "showlegend": false,
         "type": "scatter",
         "x": [
          "2022w34",
          "2022w39",
          "2022w44",
          "2022w49",
          "2023w2"
         ],
         "xaxis": "x9",
         "y": [
          0.9238331243215161,
          0.9662031574347585,
          0.9184221968828857,
          0.95986332255718,
          0.874471499083475
         ],
         "yaxis": "y9"
        },
        {
         "hovertemplate": "emotion=others<br>newspaper=elcomercio_peru<br>year_week=%{x}<br>probability=%{y}<extra></extra>",
         "legendgroup": "others",
         "line": {
          "color": "#b16286",
          "dash": "solid"
         },
         "marker": {
          "symbol": "circle"
         },
         "mode": "lines",
         "name": "others",
         "orientation": "v",
         "showlegend": false,
         "type": "scatter",
         "x": [
          "2022w33",
          "2022w34",
          "2022w39",
          "2022w44",
          "2022w49",
          "2023w2"
         ],
         "xaxis": "x4",
         "y": [
          0.8841633910800838,
          0.8912998037422952,
          0.9055228398308373,
          0.8989088741372023,
          0.9058146203169599,
          0.8675341064650142
         ],
         "yaxis": "y4"
        },
        {
         "hovertemplate": "emotion=others<br>newspaper=ensustrece<br>year_week=%{x}<br>probability=%{y}<extra></extra>",
         "legendgroup": "others",
         "line": {
          "color": "#b16286",
          "dash": "solid"
         },
         "marker": {
          "symbol": "circle"
         },
         "mode": "lines",
         "name": "others",
         "orientation": "v",
         "showlegend": false,
         "type": "scatter",
         "x": [
          "2022w34",
          "2022w39",
          "2022w44",
          "2022w49",
          "2023w2"
         ],
         "xaxis": "x5",
         "y": [
          0.8008773912830899,
          0.7668503836520311,
          0.8316778875887394,
          0.7342502795244482,
          0.7624544110731222
         ],
         "yaxis": "y5"
        },
        {
         "hovertemplate": "emotion=others<br>newspaper=larazon_pe<br>year_week=%{x}<br>probability=%{y}<extra></extra>",
         "legendgroup": "others",
         "line": {
          "color": "#b16286",
          "dash": "solid"
         },
         "marker": {
          "symbol": "circle"
         },
         "mode": "lines",
         "name": "others",
         "orientation": "v",
         "showlegend": false,
         "type": "scatter",
         "x": [
          "2022w33",
          "2022w34",
          "2022w39",
          "2022w44",
          "2022w49",
          "2023w2"
         ],
         "xaxis": "x6",
         "y": [
          0.7650921244947415,
          0.7355854285260042,
          0.7926645790194643,
          0.9284974511778146,
          0.9478245140186378,
          0.9075786941929868
         ],
         "yaxis": "y6"
        },
        {
         "hovertemplate": "emotion=others<br>newspaper=larepublica_pe<br>year_week=%{x}<br>probability=%{y}<extra></extra>",
         "legendgroup": "others",
         "line": {
          "color": "#b16286",
          "dash": "solid"
         },
         "marker": {
          "symbol": "circle"
         },
         "mode": "lines",
         "name": "others",
         "orientation": "v",
         "showlegend": false,
         "type": "scatter",
         "x": [
          "2022w33",
          "2022w34",
          "2022w39",
          "2022w44",
          "2022w49",
          "2023w2"
         ],
         "xaxis": "x",
         "y": [
          0.9091284076942526,
          0.9198898479991121,
          0.923905640192848,
          0.9199100977076722,
          0.9331075750073132,
          0.9167910419563613
         ],
         "yaxis": "y"
        },
        {
         "hovertemplate": "emotion=others<br>newspaper=peru21noticias<br>year_week=%{x}<br>probability=%{y}<extra></extra>",
         "legendgroup": "others",
         "line": {
          "color": "#b16286",
          "dash": "solid"
         },
         "marker": {
          "symbol": "circle"
         },
         "mode": "lines",
         "name": "others",
         "orientation": "v",
         "showlegend": false,
         "type": "scatter",
         "x": [
          "2022w33",
          "2022w34",
          "2022w39",
          "2022w44",
          "2022w49",
          "2023w2"
         ],
         "xaxis": "x2",
         "y": [
          0.8964513828359232,
          0.8995225115252308,
          0.9093040718941243,
          0.8912305664874866,
          0.8989229053431769,
          0.8878575518439036
         ],
         "yaxis": "y2"
        },
        {
         "hovertemplate": "emotion=others<br>newspaper=tromepe<br>year_week=%{x}<br>probability=%{y}<extra></extra>",
         "legendgroup": "others",
         "line": {
          "color": "#b16286",
          "dash": "solid"
         },
         "marker": {
          "symbol": "circle"
         },
         "mode": "lines",
         "name": "others",
         "orientation": "v",
         "showlegend": false,
         "type": "scatter",
         "x": [
          "2022w33",
          "2022w34",
          "2022w39",
          "2022w44",
          "2022w49",
          "2023w2"
         ],
         "xaxis": "x3",
         "y": [
          0.8408294351552996,
          0.8736697862734337,
          0.8615249279458086,
          0.8483386820109196,
          0.8710263333553064,
          0.8410747771907322
         ],
         "yaxis": "y3"
        },
        {
         "hovertemplate": "emotion=sadness<br>newspaper=DiarioElPeruano<br>year_week=%{x}<br>probability=%{y}<extra></extra>",
         "legendgroup": "sadness",
         "line": {
          "color": "#fb4943",
          "dash": "solid"
         },
         "marker": {
          "symbol": "circle"
         },
         "mode": "lines",
         "name": "sadness",
         "orientation": "v",
         "showlegend": true,
         "type": "scatter",
         "x": [
          "2022w33",
          "2022w34",
          "2022w39",
          "2022w44",
          "2022w49",
          "2023w2"
         ],
         "xaxis": "x10",
         "y": [
          0.0032948270689454094,
          0.02599459473749448,
          0.0030091600855750617,
          0.012694120211514233,
          0.012384154193279385,
          0.024309078411196998
         ],
         "yaxis": "y10"
        },
        {
         "hovertemplate": "emotion=sadness<br>newspaper=ExpresoPeru<br>year_week=%{x}<br>probability=%{y}<extra></extra>",
         "legendgroup": "sadness",
         "line": {
          "color": "#fb4943",
          "dash": "solid"
         },
         "marker": {
          "symbol": "circle"
         },
         "mode": "lines",
         "name": "sadness",
         "orientation": "v",
         "showlegend": false,
         "type": "scatter",
         "x": [
          "2022w33",
          "2022w34",
          "2022w39",
          "2022w44",
          "2022w49",
          "2023w2"
         ],
         "xaxis": "x11",
         "y": [
          0.018878509121521485,
          0.025657893594493195,
          0.017378163602631037,
          0.02346166557757757,
          0.018682204413926227,
          0.02751366332277208
         ],
         "yaxis": "y11"
        },
        {
         "hovertemplate": "emotion=sadness<br>newspaper=Gestionpe<br>year_week=%{x}<br>probability=%{y}<extra></extra>",
         "legendgroup": "sadness",
         "line": {
          "color": "#fb4943",
          "dash": "solid"
         },
         "marker": {
          "symbol": "circle"
         },
         "mode": "lines",
         "name": "sadness",
         "orientation": "v",
         "showlegend": false,
         "type": "scatter",
         "x": [
          "2022w33",
          "2022w34",
          "2022w39",
          "2022w44",
          "2022w49",
          "2023w2"
         ],
         "xaxis": "x12",
         "y": [
          0.013105706076173671,
          0.007439960614046524,
          0.0079102763906898,
          0.004000076656502642,
          0.010466141865005352,
          0.014974467140410634
         ],
         "yaxis": "y12"
        },
        {
         "hovertemplate": "emotion=sadness<br>newspaper=diariocorreo<br>year_week=%{x}<br>probability=%{y}<extra></extra>",
         "legendgroup": "sadness",
         "line": {
          "color": "#fb4943",
          "dash": "solid"
         },
         "marker": {
          "symbol": "circle"
         },
         "mode": "lines",
         "name": "sadness",
         "orientation": "v",
         "showlegend": false,
         "type": "scatter",
         "x": [
          "2022w33",
          "2022w34",
          "2022w39",
          "2022w44",
          "2022w49",
          "2023w2"
         ],
         "xaxis": "x7",
         "y": [
          0.026683339099846763,
          0.015387977509664074,
          0.021063565251298766,
          0.03698163584155679,
          0.023101910659145488,
          0.028933105572537282
         ],
         "yaxis": "y7"
        },
        {
         "hovertemplate": "emotion=sadness<br>newspaper=diarioojo<br>year_week=%{x}<br>probability=%{y}<extra></extra>",
         "legendgroup": "sadness",
         "line": {
          "color": "#fb4943",
          "dash": "solid"
         },
         "marker": {
          "symbol": "circle"
         },
         "mode": "lines",
         "name": "sadness",
         "orientation": "v",
         "showlegend": false,
         "type": "scatter",
         "x": [
          "2022w33",
          "2022w34",
          "2022w39",
          "2022w44",
          "2022w49",
          "2023w2"
         ],
         "xaxis": "x8",
         "y": [
          0.03036200055642016,
          0.033790368880805985,
          0.025245424414672677,
          0.045353336034810406,
          0.02898662608828337,
          0.03684799554863043
         ],
         "yaxis": "y8"
        },
        {
         "hovertemplate": "emotion=sadness<br>newspaper=elbuho_pe<br>year_week=%{x}<br>probability=%{y}<extra></extra>",
         "legendgroup": "sadness",
         "line": {
          "color": "#fb4943",
          "dash": "solid"
         },
         "marker": {
          "symbol": "circle"
         },
         "mode": "lines",
         "name": "sadness",
         "orientation": "v",
         "showlegend": false,
         "type": "scatter",
         "x": [
          "2022w34",
          "2022w39",
          "2022w44",
          "2022w49",
          "2023w2"
         ],
         "xaxis": "x9",
         "y": [
          0.019851381733415423,
          0.010227076409831067,
          0.03044324004364974,
          0.01620084828774251,
          0.055524991955774435
         ],
         "yaxis": "y9"
        },
        {
         "hovertemplate": "emotion=sadness<br>newspaper=elcomercio_peru<br>year_week=%{x}<br>probability=%{y}<extra></extra>",
         "legendgroup": "sadness",
         "line": {
          "color": "#fb4943",
          "dash": "solid"
         },
         "marker": {
          "symbol": "circle"
         },
         "mode": "lines",
         "name": "sadness",
         "orientation": "v",
         "showlegend": false,
         "type": "scatter",
         "x": [
          "2022w33",
          "2022w34",
          "2022w39",
          "2022w44",
          "2022w49",
          "2023w2"
         ],
         "xaxis": "x4",
         "y": [
          0.02883457715960167,
          0.029352740793684048,
          0.02484564537252254,
          0.030540666665210266,
          0.023178731664178717,
          0.048764813381251756
         ],
         "yaxis": "y4"
        },
        {
         "hovertemplate": "emotion=sadness<br>newspaper=ensustrece<br>year_week=%{x}<br>probability=%{y}<extra></extra>",
         "legendgroup": "sadness",
         "line": {
          "color": "#fb4943",
          "dash": "solid"
         },
         "marker": {
          "symbol": "circle"
         },
         "mode": "lines",
         "name": "sadness",
         "orientation": "v",
         "showlegend": false,
         "type": "scatter",
         "x": [
          "2022w34",
          "2022w39",
          "2022w44",
          "2022w49",
          "2023w2"
         ],
         "xaxis": "x5",
         "y": [
          0.0717764048143484,
          0.007506260300655604,
          0.0055778016928040115,
          0.07239748414510606,
          0.015048137893245439
         ],
         "yaxis": "y5"
        },
        {
         "hovertemplate": "emotion=sadness<br>newspaper=larazon_pe<br>year_week=%{x}<br>probability=%{y}<extra></extra>",
         "legendgroup": "sadness",
         "line": {
          "color": "#fb4943",
          "dash": "solid"
         },
         "marker": {
          "symbol": "circle"
         },
         "mode": "lines",
         "name": "sadness",
         "orientation": "v",
         "showlegend": false,
         "type": "scatter",
         "x": [
          "2022w33",
          "2022w34",
          "2022w39",
          "2022w44",
          "2022w49",
          "2023w2"
         ],
         "xaxis": "x6",
         "y": [
          0.06520557385498113,
          0.06976929116693403,
          0.0623922475361755,
          0.008420030935156862,
          0.021019409875901018,
          0.029480881923135666
         ],
         "yaxis": "y6"
        },
        {
         "hovertemplate": "emotion=sadness<br>newspaper=larepublica_pe<br>year_week=%{x}<br>probability=%{y}<extra></extra>",
         "legendgroup": "sadness",
         "line": {
          "color": "#fb4943",
          "dash": "solid"
         },
         "marker": {
          "symbol": "circle"
         },
         "mode": "lines",
         "name": "sadness",
         "orientation": "v",
         "showlegend": false,
         "type": "scatter",
         "x": [
          "2022w33",
          "2022w34",
          "2022w39",
          "2022w44",
          "2022w49",
          "2023w2"
         ],
         "xaxis": "x",
         "y": [
          0.020825623303925702,
          0.02099760490896303,
          0.020986619160944853,
          0.028767808456462943,
          0.016115980578161996,
          0.024883725344516654
         ],
         "yaxis": "y"
        },
        {
         "hovertemplate": "emotion=sadness<br>newspaper=peru21noticias<br>year_week=%{x}<br>probability=%{y}<extra></extra>",
         "legendgroup": "sadness",
         "line": {
          "color": "#fb4943",
          "dash": "solid"
         },
         "marker": {
          "symbol": "circle"
         },
         "mode": "lines",
         "name": "sadness",
         "orientation": "v",
         "showlegend": false,
         "type": "scatter",
         "x": [
          "2022w33",
          "2022w34",
          "2022w39",
          "2022w44",
          "2022w49",
          "2023w2"
         ],
         "xaxis": "x2",
         "y": [
          0.02445194299430986,
          0.01664648442946771,
          0.020193972277482635,
          0.018439634052946473,
          0.0204640178372462,
          0.0238709447119895
         ],
         "yaxis": "y2"
        },
        {
         "hovertemplate": "emotion=sadness<br>newspaper=tromepe<br>year_week=%{x}<br>probability=%{y}<extra></extra>",
         "legendgroup": "sadness",
         "line": {
          "color": "#fb4943",
          "dash": "solid"
         },
         "marker": {
          "symbol": "circle"
         },
         "mode": "lines",
         "name": "sadness",
         "orientation": "v",
         "showlegend": false,
         "type": "scatter",
         "x": [
          "2022w33",
          "2022w34",
          "2022w39",
          "2022w44",
          "2022w49",
          "2023w2"
         ],
         "xaxis": "x3",
         "y": [
          0.02729370455834621,
          0.024422171148695854,
          0.029106680538865035,
          0.02210244959070668,
          0.02879808677079857,
          0.04656198547427208
         ],
         "yaxis": "y3"
        },
        {
         "hovertemplate": "emotion=surprise<br>newspaper=DiarioElPeruano<br>year_week=%{x}<br>probability=%{y}<extra></extra>",
         "legendgroup": "surprise",
         "line": {
          "color": "#689d6a",
          "dash": "solid"
         },
         "marker": {
          "symbol": "circle"
         },
         "mode": "lines",
         "name": "surprise",
         "orientation": "v",
         "showlegend": true,
         "type": "scatter",
         "x": [
          "2022w33",
          "2022w34",
          "2022w39",
          "2022w44",
          "2022w49",
          "2023w2"
         ],
         "xaxis": "x10",
         "y": [
          0.0035064306096672018,
          0.0024164996642502957,
          0.002530759862115178,
          0.0025612541575482997,
          0.0031118275450290047,
          0.0026811101683792745
         ],
         "yaxis": "y10"
        },
        {
         "hovertemplate": "emotion=surprise<br>newspaper=ExpresoPeru<br>year_week=%{x}<br>probability=%{y}<extra></extra>",
         "legendgroup": "surprise",
         "line": {
          "color": "#689d6a",
          "dash": "solid"
         },
         "marker": {
          "symbol": "circle"
         },
         "mode": "lines",
         "name": "surprise",
         "orientation": "v",
         "showlegend": false,
         "type": "scatter",
         "x": [
          "2022w33",
          "2022w34",
          "2022w39",
          "2022w44",
          "2022w49",
          "2023w2"
         ],
         "xaxis": "x11",
         "y": [
          0.01140158368017604,
          0.008531088243426684,
          0.01398693527203794,
          0.008855269962133696,
          0.008666740846005268,
          0.007624784680129047
         ],
         "yaxis": "y11"
        },
        {
         "hovertemplate": "emotion=surprise<br>newspaper=Gestionpe<br>year_week=%{x}<br>probability=%{y}<extra></extra>",
         "legendgroup": "surprise",
         "line": {
          "color": "#689d6a",
          "dash": "solid"
         },
         "marker": {
          "symbol": "circle"
         },
         "mode": "lines",
         "name": "surprise",
         "orientation": "v",
         "showlegend": false,
         "type": "scatter",
         "x": [
          "2022w33",
          "2022w34",
          "2022w39",
          "2022w44",
          "2022w49",
          "2023w2"
         ],
         "xaxis": "x12",
         "y": [
          0.008432743766734216,
          0.008766480964419865,
          0.009087944390644297,
          0.007368021576257888,
          0.010163292225931767,
          0.00919082869939132
         ],
         "yaxis": "y12"
        },
        {
         "hovertemplate": "emotion=surprise<br>newspaper=diariocorreo<br>year_week=%{x}<br>probability=%{y}<extra></extra>",
         "legendgroup": "surprise",
         "line": {
          "color": "#689d6a",
          "dash": "solid"
         },
         "marker": {
          "symbol": "circle"
         },
         "mode": "lines",
         "name": "surprise",
         "orientation": "v",
         "showlegend": false,
         "type": "scatter",
         "x": [
          "2022w33",
          "2022w34",
          "2022w39",
          "2022w44",
          "2022w49",
          "2023w2"
         ],
         "xaxis": "x7",
         "y": [
          0.011459939191567101,
          0.013616144081996656,
          0.010901476815636786,
          0.010750136077577244,
          0.008605032387976967,
          0.015180903493144018
         ],
         "yaxis": "y7"
        },
        {
         "hovertemplate": "emotion=surprise<br>newspaper=diarioojo<br>year_week=%{x}<br>probability=%{y}<extra></extra>",
         "legendgroup": "surprise",
         "line": {
          "color": "#689d6a",
          "dash": "solid"
         },
         "marker": {
          "symbol": "circle"
         },
         "mode": "lines",
         "name": "surprise",
         "orientation": "v",
         "showlegend": false,
         "type": "scatter",
         "x": [
          "2022w33",
          "2022w34",
          "2022w39",
          "2022w44",
          "2022w49",
          "2023w2"
         ],
         "xaxis": "x8",
         "y": [
          0.014071340652706495,
          0.01563933928877845,
          0.01758103991414166,
          0.016192358334864456,
          0.013316383109886754,
          0.017950168519834973
         ],
         "yaxis": "y8"
        },
        {
         "hovertemplate": "emotion=surprise<br>newspaper=elbuho_pe<br>year_week=%{x}<br>probability=%{y}<extra></extra>",
         "legendgroup": "surprise",
         "line": {
          "color": "#689d6a",
          "dash": "solid"
         },
         "marker": {
          "symbol": "circle"
         },
         "mode": "lines",
         "name": "surprise",
         "orientation": "v",
         "showlegend": false,
         "type": "scatter",
         "x": [
          "2022w34",
          "2022w39",
          "2022w44",
          "2022w49",
          "2023w2"
         ],
         "xaxis": "x9",
         "y": [
          0.006133188785089919,
          0.0037828091065130512,
          0.005613995626018467,
          0.006542009791335115,
          0.008561376919775892
         ],
         "yaxis": "y9"
        },
        {
         "hovertemplate": "emotion=surprise<br>newspaper=elcomercio_peru<br>year_week=%{x}<br>probability=%{y}<extra></extra>",
         "legendgroup": "surprise",
         "line": {
          "color": "#689d6a",
          "dash": "solid"
         },
         "marker": {
          "symbol": "circle"
         },
         "mode": "lines",
         "name": "surprise",
         "orientation": "v",
         "showlegend": false,
         "type": "scatter",
         "x": [
          "2022w33",
          "2022w34",
          "2022w39",
          "2022w44",
          "2022w49",
          "2023w2"
         ],
         "xaxis": "x4",
         "y": [
          0.02378526967183698,
          0.020774873775731634,
          0.01641986729060818,
          0.014913668084369948,
          0.011949577388352065,
          0.018943673950748256
         ],
         "yaxis": "y4"
        },
        {
         "hovertemplate": "emotion=surprise<br>newspaper=ensustrece<br>year_week=%{x}<br>probability=%{y}<extra></extra>",
         "legendgroup": "surprise",
         "line": {
          "color": "#689d6a",
          "dash": "solid"
         },
         "marker": {
          "symbol": "circle"
         },
         "mode": "lines",
         "name": "surprise",
         "orientation": "v",
         "showlegend": false,
         "type": "scatter",
         "x": [
          "2022w34",
          "2022w39",
          "2022w44",
          "2022w49",
          "2023w2"
         ],
         "xaxis": "x5",
         "y": [
          0.00760925986469374,
          0.007678693197177429,
          0.001800538768293336,
          0.008097388968136247,
          0.0040346965251956135
         ],
         "yaxis": "y5"
        },
        {
         "hovertemplate": "emotion=surprise<br>newspaper=larazon_pe<br>year_week=%{x}<br>probability=%{y}<extra></extra>",
         "legendgroup": "surprise",
         "line": {
          "color": "#689d6a",
          "dash": "solid"
         },
         "marker": {
          "symbol": "circle"
         },
         "mode": "lines",
         "name": "surprise",
         "orientation": "v",
         "showlegend": false,
         "type": "scatter",
         "x": [
          "2022w33",
          "2022w34",
          "2022w39",
          "2022w44",
          "2022w49",
          "2023w2"
         ],
         "xaxis": "x6",
         "y": [
          0.04295149133793289,
          0.050785208897044264,
          0.03582932446693905,
          0.008755928021345059,
          0.0028540641110989134,
          0.012295339519991294
         ],
         "yaxis": "y6"
        },
        {
         "hovertemplate": "emotion=surprise<br>newspaper=larepublica_pe<br>year_week=%{x}<br>probability=%{y}<extra></extra>",
         "legendgroup": "surprise",
         "line": {
          "color": "#689d6a",
          "dash": "solid"
         },
         "marker": {
          "symbol": "circle"
         },
         "mode": "lines",
         "name": "surprise",
         "orientation": "v",
         "showlegend": false,
         "type": "scatter",
         "x": [
          "2022w33",
          "2022w34",
          "2022w39",
          "2022w44",
          "2022w49",
          "2023w2"
         ],
         "xaxis": "x",
         "y": [
          0.008926977874151905,
          0.008528438708694266,
          0.007942469595139036,
          0.008321278417436979,
          0.006111189996957786,
          0.010587967305784683
         ],
         "yaxis": "y"
        },
        {
         "hovertemplate": "emotion=surprise<br>newspaper=peru21noticias<br>year_week=%{x}<br>probability=%{y}<extra></extra>",
         "legendgroup": "surprise",
         "line": {
          "color": "#689d6a",
          "dash": "solid"
         },
         "marker": {
          "symbol": "circle"
         },
         "mode": "lines",
         "name": "surprise",
         "orientation": "v",
         "showlegend": false,
         "type": "scatter",
         "x": [
          "2022w33",
          "2022w34",
          "2022w39",
          "2022w44",
          "2022w49",
          "2023w2"
         ],
         "xaxis": "x2",
         "y": [
          0.011124432780371042,
          0.012910274018818328,
          0.010433733807102604,
          0.012217114523701503,
          0.009613225630681356,
          0.009415700362379929
         ],
         "yaxis": "y2"
        },
        {
         "hovertemplate": "emotion=surprise<br>newspaper=tromepe<br>year_week=%{x}<br>probability=%{y}<extra></extra>",
         "legendgroup": "surprise",
         "line": {
          "color": "#689d6a",
          "dash": "solid"
         },
         "marker": {
          "symbol": "circle"
         },
         "mode": "lines",
         "name": "surprise",
         "orientation": "v",
         "showlegend": false,
         "type": "scatter",
         "x": [
          "2022w33",
          "2022w34",
          "2022w39",
          "2022w44",
          "2022w49",
          "2023w2"
         ],
         "xaxis": "x3",
         "y": [
          0.01580809898222382,
          0.01383252999876006,
          0.017495217064275478,
          0.01469595702431761,
          0.01036067223991078,
          0.01985914417328224
         ],
         "yaxis": "y3"
        }
       ],
       "layout": {
        "annotations": [
         {
          "font": {},
          "showarrow": false,
          "text": "larepublica_pe",
          "x": 0.14666666666666667,
          "xanchor": "center",
          "xref": "paper",
          "y": 0.1975,
          "yanchor": "bottom",
          "yref": "paper"
         },
         {
          "font": {},
          "showarrow": false,
          "text": "peru21noticias",
          "x": 0.5,
          "xanchor": "center",
          "xref": "paper",
          "y": 0.1975,
          "yanchor": "bottom",
          "yref": "paper"
         },
         {
          "font": {},
          "showarrow": false,
          "text": "tromepe",
          "x": 0.8533333333333333,
          "xanchor": "center",
          "xref": "paper",
          "y": 0.1975,
          "yanchor": "bottom",
          "yref": "paper"
         },
         {
          "font": {},
          "showarrow": false,
          "text": "elcomercio_peru",
          "x": 0.14666666666666667,
          "xanchor": "center",
          "xref": "paper",
          "y": 0.465,
          "yanchor": "bottom",
          "yref": "paper"
         },
         {
          "font": {},
          "showarrow": false,
          "text": "ensustrece",
          "x": 0.5,
          "xanchor": "center",
          "xref": "paper",
          "y": 0.465,
          "yanchor": "bottom",
          "yref": "paper"
         },
         {
          "font": {},
          "showarrow": false,
          "text": "larazon_pe",
          "x": 0.8533333333333333,
          "xanchor": "center",
          "xref": "paper",
          "y": 0.465,
          "yanchor": "bottom",
          "yref": "paper"
         },
         {
          "font": {},
          "showarrow": false,
          "text": "diariocorreo",
          "x": 0.14666666666666667,
          "xanchor": "center",
          "xref": "paper",
          "y": 0.7325,
          "yanchor": "bottom",
          "yref": "paper"
         },
         {
          "font": {},
          "showarrow": false,
          "text": "diarioojo",
          "x": 0.5,
          "xanchor": "center",
          "xref": "paper",
          "y": 0.7325,
          "yanchor": "bottom",
          "yref": "paper"
         },
         {
          "font": {},
          "showarrow": false,
          "text": "elbuho_pe",
          "x": 0.8533333333333333,
          "xanchor": "center",
          "xref": "paper",
          "y": 0.7325,
          "yanchor": "bottom",
          "yref": "paper"
         },
         {
          "font": {},
          "showarrow": false,
          "text": "DiarioElPeruano",
          "x": 0.14666666666666667,
          "xanchor": "center",
          "xref": "paper",
          "y": 1,
          "yanchor": "bottom",
          "yref": "paper"
         },
         {
          "font": {},
          "showarrow": false,
          "text": "ExpresoPeru",
          "x": 0.5,
          "xanchor": "center",
          "xref": "paper",
          "y": 1,
          "yanchor": "bottom",
          "yref": "paper"
         },
         {
          "font": {},
          "showarrow": false,
          "text": "Gestionpe",
          "x": 0.8533333333333333,
          "xanchor": "center",
          "xref": "paper",
          "y": 1,
          "yanchor": "bottom",
          "yref": "paper"
         }
        ],
        "height": 1600,
        "legend": {
         "title": {
          "text": "emotion"
         },
         "tracegroupgap": 0
        },
        "template": {
         "data": {
          "bar": [
           {
            "error_x": {
             "color": "#2a3f5f"
            },
            "error_y": {
             "color": "#2a3f5f"
            },
            "marker": {
             "line": {
              "color": "white",
              "width": 0.5
             },
             "pattern": {
              "fillmode": "overlay",
              "size": 10,
              "solidity": 0.2
             }
            },
            "type": "bar"
           }
          ],
          "barpolar": [
           {
            "marker": {
             "line": {
              "color": "white",
              "width": 0.5
             },
             "pattern": {
              "fillmode": "overlay",
              "size": 10,
              "solidity": 0.2
             }
            },
            "type": "barpolar"
           }
          ],
          "carpet": [
           {
            "aaxis": {
             "endlinecolor": "#2a3f5f",
             "gridcolor": "#C8D4E3",
             "linecolor": "#C8D4E3",
             "minorgridcolor": "#C8D4E3",
             "startlinecolor": "#2a3f5f"
            },
            "baxis": {
             "endlinecolor": "#2a3f5f",
             "gridcolor": "#C8D4E3",
             "linecolor": "#C8D4E3",
             "minorgridcolor": "#C8D4E3",
             "startlinecolor": "#2a3f5f"
            },
            "type": "carpet"
           }
          ],
          "choropleth": [
           {
            "colorbar": {
             "outlinewidth": 0,
             "ticks": ""
            },
            "type": "choropleth"
           }
          ],
          "contour": [
           {
            "colorbar": {
             "outlinewidth": 0,
             "ticks": ""
            },
            "colorscale": [
             [
              0,
              "#0d0887"
             ],
             [
              0.1111111111111111,
              "#46039f"
             ],
             [
              0.2222222222222222,
              "#7201a8"
             ],
             [
              0.3333333333333333,
              "#9c179e"
             ],
             [
              0.4444444444444444,
              "#bd3786"
             ],
             [
              0.5555555555555556,
              "#d8576b"
             ],
             [
              0.6666666666666666,
              "#ed7953"
             ],
             [
              0.7777777777777778,
              "#fb9f3a"
             ],
             [
              0.8888888888888888,
              "#fdca26"
             ],
             [
              1,
              "#f0f921"
             ]
            ],
            "type": "contour"
           }
          ],
          "contourcarpet": [
           {
            "colorbar": {
             "outlinewidth": 0,
             "ticks": ""
            },
            "type": "contourcarpet"
           }
          ],
          "heatmap": [
           {
            "colorbar": {
             "outlinewidth": 0,
             "ticks": ""
            },
            "colorscale": [
             [
              0,
              "#0d0887"
             ],
             [
              0.1111111111111111,
              "#46039f"
             ],
             [
              0.2222222222222222,
              "#7201a8"
             ],
             [
              0.3333333333333333,
              "#9c179e"
             ],
             [
              0.4444444444444444,
              "#bd3786"
             ],
             [
              0.5555555555555556,
              "#d8576b"
             ],
             [
              0.6666666666666666,
              "#ed7953"
             ],
             [
              0.7777777777777778,
              "#fb9f3a"
             ],
             [
              0.8888888888888888,
              "#fdca26"
             ],
             [
              1,
              "#f0f921"
             ]
            ],
            "type": "heatmap"
           }
          ],
          "heatmapgl": [
           {
            "colorbar": {
             "outlinewidth": 0,
             "ticks": ""
            },
            "colorscale": [
             [
              0,
              "#0d0887"
             ],
             [
              0.1111111111111111,
              "#46039f"
             ],
             [
              0.2222222222222222,
              "#7201a8"
             ],
             [
              0.3333333333333333,
              "#9c179e"
             ],
             [
              0.4444444444444444,
              "#bd3786"
             ],
             [
              0.5555555555555556,
              "#d8576b"
             ],
             [
              0.6666666666666666,
              "#ed7953"
             ],
             [
              0.7777777777777778,
              "#fb9f3a"
             ],
             [
              0.8888888888888888,
              "#fdca26"
             ],
             [
              1,
              "#f0f921"
             ]
            ],
            "type": "heatmapgl"
           }
          ],
          "histogram": [
           {
            "marker": {
             "pattern": {
              "fillmode": "overlay",
              "size": 10,
              "solidity": 0.2
             }
            },
            "type": "histogram"
           }
          ],
          "histogram2d": [
           {
            "colorbar": {
             "outlinewidth": 0,
             "ticks": ""
            },
            "colorscale": [
             [
              0,
              "#0d0887"
             ],
             [
              0.1111111111111111,
              "#46039f"
             ],
             [
              0.2222222222222222,
              "#7201a8"
             ],
             [
              0.3333333333333333,
              "#9c179e"
             ],
             [
              0.4444444444444444,
              "#bd3786"
             ],
             [
              0.5555555555555556,
              "#d8576b"
             ],
             [
              0.6666666666666666,
              "#ed7953"
             ],
             [
              0.7777777777777778,
              "#fb9f3a"
             ],
             [
              0.8888888888888888,
              "#fdca26"
             ],
             [
              1,
              "#f0f921"
             ]
            ],
            "type": "histogram2d"
           }
          ],
          "histogram2dcontour": [
           {
            "colorbar": {
             "outlinewidth": 0,
             "ticks": ""
            },
            "colorscale": [
             [
              0,
              "#0d0887"
             ],
             [
              0.1111111111111111,
              "#46039f"
             ],
             [
              0.2222222222222222,
              "#7201a8"
             ],
             [
              0.3333333333333333,
              "#9c179e"
             ],
             [
              0.4444444444444444,
              "#bd3786"
             ],
             [
              0.5555555555555556,
              "#d8576b"
             ],
             [
              0.6666666666666666,
              "#ed7953"
             ],
             [
              0.7777777777777778,
              "#fb9f3a"
             ],
             [
              0.8888888888888888,
              "#fdca26"
             ],
             [
              1,
              "#f0f921"
             ]
            ],
            "type": "histogram2dcontour"
           }
          ],
          "mesh3d": [
           {
            "colorbar": {
             "outlinewidth": 0,
             "ticks": ""
            },
            "type": "mesh3d"
           }
          ],
          "parcoords": [
           {
            "line": {
             "colorbar": {
              "outlinewidth": 0,
              "ticks": ""
             }
            },
            "type": "parcoords"
           }
          ],
          "pie": [
           {
            "automargin": true,
            "type": "pie"
           }
          ],
          "scatter": [
           {
            "fillpattern": {
             "fillmode": "overlay",
             "size": 10,
             "solidity": 0.2
            },
            "type": "scatter"
           }
          ],
          "scatter3d": [
           {
            "line": {
             "colorbar": {
              "outlinewidth": 0,
              "ticks": ""
             }
            },
            "marker": {
             "colorbar": {
              "outlinewidth": 0,
              "ticks": ""
             }
            },
            "type": "scatter3d"
           }
          ],
          "scattercarpet": [
           {
            "marker": {
             "colorbar": {
              "outlinewidth": 0,
              "ticks": ""
             }
            },
            "type": "scattercarpet"
           }
          ],
          "scattergeo": [
           {
            "marker": {
             "colorbar": {
              "outlinewidth": 0,
              "ticks": ""
             }
            },
            "type": "scattergeo"
           }
          ],
          "scattergl": [
           {
            "marker": {
             "colorbar": {
              "outlinewidth": 0,
              "ticks": ""
             }
            },
            "type": "scattergl"
           }
          ],
          "scattermapbox": [
           {
            "marker": {
             "colorbar": {
              "outlinewidth": 0,
              "ticks": ""
             }
            },
            "type": "scattermapbox"
           }
          ],
          "scatterpolar": [
           {
            "marker": {
             "colorbar": {
              "outlinewidth": 0,
              "ticks": ""
             }
            },
            "type": "scatterpolar"
           }
          ],
          "scatterpolargl": [
           {
            "marker": {
             "colorbar": {
              "outlinewidth": 0,
              "ticks": ""
             }
            },
            "type": "scatterpolargl"
           }
          ],
          "scatterternary": [
           {
            "marker": {
             "colorbar": {
              "outlinewidth": 0,
              "ticks": ""
             }
            },
            "type": "scatterternary"
           }
          ],
          "surface": [
           {
            "colorbar": {
             "outlinewidth": 0,
             "ticks": ""
            },
            "colorscale": [
             [
              0,
              "#0d0887"
             ],
             [
              0.1111111111111111,
              "#46039f"
             ],
             [
              0.2222222222222222,
              "#7201a8"
             ],
             [
              0.3333333333333333,
              "#9c179e"
             ],
             [
              0.4444444444444444,
              "#bd3786"
             ],
             [
              0.5555555555555556,
              "#d8576b"
             ],
             [
              0.6666666666666666,
              "#ed7953"
             ],
             [
              0.7777777777777778,
              "#fb9f3a"
             ],
             [
              0.8888888888888888,
              "#fdca26"
             ],
             [
              1,
              "#f0f921"
             ]
            ],
            "type": "surface"
           }
          ],
          "table": [
           {
            "cells": {
             "fill": {
              "color": "#EBF0F8"
             },
             "line": {
              "color": "white"
             }
            },
            "header": {
             "fill": {
              "color": "#C8D4E3"
             },
             "line": {
              "color": "white"
             }
            },
            "type": "table"
           }
          ]
         },
         "layout": {
          "annotationdefaults": {
           "arrowcolor": "#2a3f5f",
           "arrowhead": 0,
           "arrowwidth": 1
          },
          "autotypenumbers": "strict",
          "coloraxis": {
           "colorbar": {
            "outlinewidth": 0,
            "ticks": ""
           }
          },
          "colorscale": {
           "diverging": [
            [
             0,
             "#8e0152"
            ],
            [
             0.1,
             "#c51b7d"
            ],
            [
             0.2,
             "#de77ae"
            ],
            [
             0.3,
             "#f1b6da"
            ],
            [
             0.4,
             "#fde0ef"
            ],
            [
             0.5,
             "#f7f7f7"
            ],
            [
             0.6,
             "#e6f5d0"
            ],
            [
             0.7,
             "#b8e186"
            ],
            [
             0.8,
             "#7fbc41"
            ],
            [
             0.9,
             "#4d9221"
            ],
            [
             1,
             "#276419"
            ]
           ],
           "sequential": [
            [
             0,
             "#0d0887"
            ],
            [
             0.1111111111111111,
             "#46039f"
            ],
            [
             0.2222222222222222,
             "#7201a8"
            ],
            [
             0.3333333333333333,
             "#9c179e"
            ],
            [
             0.4444444444444444,
             "#bd3786"
            ],
            [
             0.5555555555555556,
             "#d8576b"
            ],
            [
             0.6666666666666666,
             "#ed7953"
            ],
            [
             0.7777777777777778,
             "#fb9f3a"
            ],
            [
             0.8888888888888888,
             "#fdca26"
            ],
            [
             1,
             "#f0f921"
            ]
           ],
           "sequentialminus": [
            [
             0,
             "#0d0887"
            ],
            [
             0.1111111111111111,
             "#46039f"
            ],
            [
             0.2222222222222222,
             "#7201a8"
            ],
            [
             0.3333333333333333,
             "#9c179e"
            ],
            [
             0.4444444444444444,
             "#bd3786"
            ],
            [
             0.5555555555555556,
             "#d8576b"
            ],
            [
             0.6666666666666666,
             "#ed7953"
            ],
            [
             0.7777777777777778,
             "#fb9f3a"
            ],
            [
             0.8888888888888888,
             "#fdca26"
            ],
            [
             1,
             "#f0f921"
            ]
           ]
          },
          "colorway": [
           "#636efa",
           "#EF553B",
           "#00cc96",
           "#ab63fa",
           "#FFA15A",
           "#19d3f3",
           "#FF6692",
           "#B6E880",
           "#FF97FF",
           "#FECB52"
          ],
          "font": {
           "color": "#2a3f5f"
          },
          "geo": {
           "bgcolor": "white",
           "lakecolor": "white",
           "landcolor": "white",
           "showlakes": true,
           "showland": true,
           "subunitcolor": "#C8D4E3"
          },
          "hoverlabel": {
           "align": "left"
          },
          "hovermode": "closest",
          "mapbox": {
           "style": "light"
          },
          "paper_bgcolor": "white",
          "plot_bgcolor": "white",
          "polar": {
           "angularaxis": {
            "gridcolor": "#EBF0F8",
            "linecolor": "#EBF0F8",
            "ticks": ""
           },
           "bgcolor": "white",
           "radialaxis": {
            "gridcolor": "#EBF0F8",
            "linecolor": "#EBF0F8",
            "ticks": ""
           }
          },
          "scene": {
           "xaxis": {
            "backgroundcolor": "white",
            "gridcolor": "#DFE8F3",
            "gridwidth": 2,
            "linecolor": "#EBF0F8",
            "showbackground": true,
            "ticks": "",
            "zerolinecolor": "#EBF0F8"
           },
           "yaxis": {
            "backgroundcolor": "white",
            "gridcolor": "#DFE8F3",
            "gridwidth": 2,
            "linecolor": "#EBF0F8",
            "showbackground": true,
            "ticks": "",
            "zerolinecolor": "#EBF0F8"
           },
           "zaxis": {
            "backgroundcolor": "white",
            "gridcolor": "#DFE8F3",
            "gridwidth": 2,
            "linecolor": "#EBF0F8",
            "showbackground": true,
            "ticks": "",
            "zerolinecolor": "#EBF0F8"
           }
          },
          "shapedefaults": {
           "line": {
            "color": "#2a3f5f"
           }
          },
          "ternary": {
           "aaxis": {
            "gridcolor": "#DFE8F3",
            "linecolor": "#A2B1C6",
            "ticks": ""
           },
           "baxis": {
            "gridcolor": "#DFE8F3",
            "linecolor": "#A2B1C6",
            "ticks": ""
           },
           "bgcolor": "white",
           "caxis": {
            "gridcolor": "#DFE8F3",
            "linecolor": "#A2B1C6",
            "ticks": ""
           }
          },
          "title": {
           "x": 0.05
          },
          "xaxis": {
           "automargin": true,
           "gridcolor": "#EBF0F8",
           "linecolor": "#EBF0F8",
           "ticks": "",
           "title": {
            "standoff": 15
           },
           "zerolinecolor": "#EBF0F8",
           "zerolinewidth": 2
          },
          "yaxis": {
           "automargin": true,
           "gridcolor": "#EBF0F8",
           "linecolor": "#EBF0F8",
           "ticks": "",
           "title": {
            "standoff": 15
           },
           "zerolinecolor": "#EBF0F8",
           "zerolinewidth": 2
          }
         }
        },
        "title": {
         "text": "Emotion per newspaper"
        },
        "width": 1600,
        "xaxis": {
         "anchor": "y",
         "domain": [
          0,
          0.29333333333333333
         ],
         "showticklabels": true,
         "title": {
          "text": "year_week"
         }
        },
        "xaxis10": {
         "anchor": "y10",
         "domain": [
          0,
          0.29333333333333333
         ],
         "showticklabels": true
        },
        "xaxis11": {
         "anchor": "y11",
         "domain": [
          0.35333333333333333,
          0.6466666666666667
         ],
         "showticklabels": true
        },
        "xaxis12": {
         "anchor": "y12",
         "domain": [
          0.7066666666666667,
          1
         ],
         "showticklabels": true
        },
        "xaxis2": {
         "anchor": "y2",
         "domain": [
          0.35333333333333333,
          0.6466666666666667
         ],
         "showticklabels": true,
         "title": {
          "text": "year_week"
         }
        },
        "xaxis3": {
         "anchor": "y3",
         "domain": [
          0.7066666666666667,
          1
         ],
         "showticklabels": true,
         "title": {
          "text": "year_week"
         }
        },
        "xaxis4": {
         "anchor": "y4",
         "domain": [
          0,
          0.29333333333333333
         ],
         "showticklabels": true
        },
        "xaxis5": {
         "anchor": "y5",
         "domain": [
          0.35333333333333333,
          0.6466666666666667
         ],
         "showticklabels": true
        },
        "xaxis6": {
         "anchor": "y6",
         "domain": [
          0.7066666666666667,
          1
         ],
         "showticklabels": true
        },
        "xaxis7": {
         "anchor": "y7",
         "domain": [
          0,
          0.29333333333333333
         ],
         "showticklabels": true
        },
        "xaxis8": {
         "anchor": "y8",
         "domain": [
          0.35333333333333333,
          0.6466666666666667
         ],
         "showticklabels": true
        },
        "xaxis9": {
         "anchor": "y9",
         "domain": [
          0.7066666666666667,
          1
         ],
         "showticklabels": true
        },
        "yaxis": {
         "anchor": "x",
         "domain": [
          0,
          0.1975
         ],
         "showticklabels": true,
         "title": {
          "text": "probability"
         }
        },
        "yaxis10": {
         "anchor": "x10",
         "domain": [
          0.8025,
          1
         ],
         "matches": "y",
         "showticklabels": true,
         "title": {
          "text": "probability"
         }
        },
        "yaxis11": {
         "anchor": "x11",
         "domain": [
          0.8025,
          1
         ],
         "matches": "y",
         "showticklabels": true
        },
        "yaxis12": {
         "anchor": "x12",
         "domain": [
          0.8025,
          1
         ],
         "matches": "y",
         "showticklabels": true
        },
        "yaxis2": {
         "anchor": "x2",
         "domain": [
          0,
          0.1975
         ],
         "matches": "y",
         "showticklabels": true
        },
        "yaxis3": {
         "anchor": "x3",
         "domain": [
          0,
          0.1975
         ],
         "matches": "y",
         "showticklabels": true
        },
        "yaxis4": {
         "anchor": "x4",
         "domain": [
          0.2675,
          0.465
         ],
         "matches": "y",
         "showticklabels": true,
         "title": {
          "text": "probability"
         }
        },
        "yaxis5": {
         "anchor": "x5",
         "domain": [
          0.2675,
          0.465
         ],
         "matches": "y",
         "showticklabels": true
        },
        "yaxis6": {
         "anchor": "x6",
         "domain": [
          0.2675,
          0.465
         ],
         "matches": "y",
         "showticklabels": true
        },
        "yaxis7": {
         "anchor": "x7",
         "domain": [
          0.535,
          0.7325
         ],
         "matches": "y",
         "showticklabels": true,
         "title": {
          "text": "probability"
         }
        },
        "yaxis8": {
         "anchor": "x8",
         "domain": [
          0.535,
          0.7325
         ],
         "matches": "y",
         "showticklabels": true
        },
        "yaxis9": {
         "anchor": "x9",
         "domain": [
          0.535,
          0.7325
         ],
         "matches": "y",
         "showticklabels": true
        }
       }
      }
     },
     "metadata": {},
     "output_type": "display_data"
    }
   ],
   "source": [
    "fig = px.line(\n",
    "    emotion_prob,\n",
    "    x=\"year_week\",\n",
    "    y=\"probability\",\n",
    "    facet_col=\"newspaper\",\n",
    "    facet_col_wrap=3,\n",
    "    facet_col_spacing=0.06,\n",
    "    color=\"emotion\",\n",
    "    color_discrete_sequence=gruvbox_colors,\n",
    "    title=\"Emotion per newspaper\",\n",
    "    height=1600,\n",
    "    width=1600\n",
    "    )\n",
    "\n",
    "fig.for_each_annotation(lambda a: a.update(text=f\"{a.text.split('=')[-1]}\"))\n",
    "fig.update_xaxes(matches=None, showticklabels=True)\n",
    "fig.update_yaxes(showticklabels=True)\n",
    "\n",
    "fig.write_html(f\"{BASE_DIR}/reports/emotion-prob_bar-{TIME_STAMPS[0]}-{TIME_STAMPS[-1]}.html\")\n",
    "\n",
    "fig.show()"
   ]
  },
  {
   "attachments": {},
   "cell_type": "markdown",
   "metadata": {},
   "source": [
    "Results are still inconclusive. Still it does make sense, because we are talking about newspaper headlines so they are supposed to be a bit more neutral."
   ]
  },
  {
   "cell_type": "code",
   "execution_count": 82,
   "metadata": {},
   "outputs": [],
   "source": [
    "corpus[\"corpus_len\"] = corpus[\"corpus\"].apply(lambda x: len(x))"
   ]
  },
  {
   "cell_type": "code",
   "execution_count": 83,
   "metadata": {},
   "outputs": [
    {
     "name": "stderr",
     "output_type": "stream",
     "text": [
      "/var/folders/4q/zkcwxz6930x6f6zm73_hpvzr0000gp/T/ipykernel_19744/3505469418.py:1: FutureWarning:\n",
      "\n",
      "The default value of numeric_only in DataFrameGroupBy.sum is deprecated. In a future version, numeric_only will default to False. Either specify numeric_only or select only columns which should be valid for the function.\n",
      "\n"
     ]
    },
    {
     "data": {
      "text/html": [
       "<div>\n",
       "<style scoped>\n",
       "    .dataframe tbody tr th:only-of-type {\n",
       "        vertical-align: middle;\n",
       "    }\n",
       "\n",
       "    .dataframe tbody tr th {\n",
       "        vertical-align: top;\n",
       "    }\n",
       "\n",
       "    .dataframe thead th {\n",
       "        text-align: right;\n",
       "    }\n",
       "</style>\n",
       "<table border=\"1\" class=\"dataframe\">\n",
       "  <thead>\n",
       "    <tr style=\"text-align: right;\">\n",
       "      <th></th>\n",
       "      <th>corpus_len</th>\n",
       "    </tr>\n",
       "    <tr>\n",
       "      <th>year_week</th>\n",
       "      <th></th>\n",
       "    </tr>\n",
       "  </thead>\n",
       "  <tbody>\n",
       "    <tr>\n",
       "      <th>2022w33</th>\n",
       "      <td>753242</td>\n",
       "    </tr>\n",
       "    <tr>\n",
       "      <th>2022w34</th>\n",
       "      <td>538434</td>\n",
       "    </tr>\n",
       "    <tr>\n",
       "      <th>2022w39</th>\n",
       "      <td>610327</td>\n",
       "    </tr>\n",
       "    <tr>\n",
       "      <th>2022w44</th>\n",
       "      <td>489837</td>\n",
       "    </tr>\n",
       "    <tr>\n",
       "      <th>2022w49</th>\n",
       "      <td>597057</td>\n",
       "    </tr>\n",
       "    <tr>\n",
       "      <th>2023w2</th>\n",
       "      <td>451792</td>\n",
       "    </tr>\n",
       "  </tbody>\n",
       "</table>\n",
       "</div>"
      ],
      "text/plain": [
       "           corpus_len\n",
       "year_week            \n",
       "2022w33        753242\n",
       "2022w34        538434\n",
       "2022w39        610327\n",
       "2022w44        489837\n",
       "2022w49        597057\n",
       "2023w2         451792"
      ]
     },
     "execution_count": 83,
     "metadata": {},
     "output_type": "execute_result"
    }
   ],
   "source": [
    "corpus[[\"newspaper\", \"year_week\", \"corpus_len\"]].groupby(by=[\"year_week\"]).sum()"
   ]
  }
 ],
 "metadata": {
  "kernelspec": {
   "display_name": "nlp-newspapersAnalysis",
   "language": "python",
   "name": "python3"
  },
  "language_info": {
   "codemirror_mode": {
    "name": "ipython",
    "version": 3
   },
   "file_extension": ".py",
   "mimetype": "text/x-python",
   "name": "python",
   "nbconvert_exporter": "python",
   "pygments_lexer": "ipython3",
   "version": "3.10.9"
  },
  "orig_nbformat": 2,
  "vscode": {
   "interpreter": {
    "hash": "aef0c461847f6a88eedb677fa00493df291ae4b245cdf057d207d54f564bf672"
   }
  }
 },
 "nbformat": 4,
 "nbformat_minor": 2
}
