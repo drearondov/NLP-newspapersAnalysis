{
 "cells": [
  {
   "cell_type": "markdown",
   "metadata": {},
   "source": [
    "# Data Cleaning\n",
    "\n",
    "## Introduction\n",
    "\n",
    "This notebook goes through the steps taken with the data collected in order to get cleaned organized data in two standard text formats. The notebook will contain the nexts steps.\n",
    "\n",
    "1. **Cleaning the data -** I will use text pre-procesing techniques to get the dta into shape.\n",
    "2. **Organizing the data -** I'l organize the data into a way that is easy to input into other algoithms\n",
    "\n",
    "The output of this notebook will be clean, organized data in two standard text formats:\n",
    "\n",
    "1. **Corpus** - a collection of texts\n",
    "2. **Document-Term Matrix** - words counts in matrix format\n",
    "\n",
    "### Problem Statement\n",
    "\n",
    "My goal is to look look a the latest headlines of the main newspapers in Perú and note simmilarities and differences."
   ]
  },
  {
   "cell_type": "markdown",
   "metadata": {},
   "source": [
    "## Getting the data\n",
    "\n",
    "The data was taken from the [Twitter API](https://developer.twitter.com) and the newspaper where selected according to a list found in [Diarios de Perú](http://www.diariosdeperu.com.pe) as well as annecdotal experience. The journals to investigate:\n",
    "\n",
    "| Newspaper | Twitter handle |\n",
    "| ----------- | ----------- |\n",
    "| El Comercio | elcomercio_peru |\n",
    "| La República | larepublica_pe |\n",
    "| Perú 21 | peru21noticias |\n",
    "| Trome | tromepe |\n",
    "| Gestión | Gestionpe |\n",
    "| Diario Correo | diariocorreo |\n",
    "| Diario Expreso | ExpresoPeru |\n",
    "| Diario Ojo | diarioojo |\n",
    "| Diario El Peruano | DiarioElPeruano |\n",
    "| Diario La Razón | larazon_pe |"
   ]
  },
  {
   "cell_type": "code",
   "execution_count": 7,
   "metadata": {},
   "outputs": [],
   "source": [
    "import json\n",
    "import os\n",
    "import re\n",
    "import requests\n",
    "\n",
    "from urllib.parse import urlencode\n",
    "from dotenv import load_dotenv\n",
    "\n",
    "load_dotenv()\n",
    "\n",
    "BASE_DIR = os.environ.get(\"BASE_DIR\")\n",
    "BEARER_TOKEN = os.environ.get(\"BEARER_TOKEN\")"
   ]
  },
  {
   "cell_type": "code",
   "execution_count": null,
   "metadata": {},
   "outputs": [],
   "source": []
  },
  {
   "cell_type": "markdown",
   "metadata": {},
   "source": [
    "### Getting the user ids"
   ]
  },
  {
   "cell_type": "code",
   "execution_count": 30,
   "metadata": {},
   "outputs": [],
   "source": [
    "newspapers = [\n",
    "    \"elcomercio_peru\",\n",
    "    \"larepublica_pe\",\n",
    "    \"peru21noticias\",\n",
    "    \"tromepe\",\n",
    "    \"Gestionpe\",\n",
    "    \"diariocorreo\",\n",
    "    \"ExpresoPeru\",\n",
    "    \"diarioojo\",\n",
    "    \"DiarioElPeruano\",\n",
    "    \"larazon_pe\"\n",
    "]\n",
    "headers = {\"Authorization\": f\"Bearer {BEARER_TOKEN}\"}"
   ]
  },
  {
   "cell_type": "code",
   "execution_count": 31,
   "metadata": {},
   "outputs": [],
   "source": [
    "newspapers_id = {}\n",
    "\n",
    "for newspaper in newspapers:\n",
    "    username_url = f\"https://api.twitter.com/2/users/by/username/{newspaper}\"\n",
    "    response = requests.get(username_url, headers=headers)\n",
    "\n",
    "    newspapers_id[newspaper] = response.json()[\"data\"][\"id\"]\n",
    "\n",
    "with open(f'{BASE_DIR}/data/raw/newspapers_id.json', 'w') as write_file:\n",
    "    json.dump(newspapers_id, write_file)"
   ]
  },
  {
   "cell_type": "markdown",
   "metadata": {},
   "source": [
    "### Getting tweets from newspapers"
   ]
  },
  {
   "cell_type": "code",
   "execution_count": 2,
   "metadata": {},
   "outputs": [],
   "source": [
    "with open(f'{BASE_DIR}/data/raw/newspapers_id.json', 'r') as read_file:\n",
    "    newspapers_id = json.load(read_file)"
   ]
  },
  {
   "cell_type": "markdown",
   "metadata": {},
   "source": [
    "I'm choosing start time and end time of tweets in order to be able to select tweets from different times and be actively collecting tweets as the months go."
   ]
  },
  {
   "cell_type": "code",
   "execution_count": 33,
   "metadata": {},
   "outputs": [
    {
     "name": "stdout",
     "output_type": "stream",
     "text": [
      "elcomercio_peru: status code 200\n",
      "larepublica_pe: status code 200\n",
      "peru21noticias: status code 200\n",
      "tromepe: status code 200\n",
      "Gestionpe: status code 200\n",
      "diariocorreo: status code 200\n",
      "ExpresoPeru: status code 200\n",
      "diarioojo: status code 200\n",
      "DiarioElPeruano: status code 200\n",
      "larazon_pe: status code 200\n"
     ]
    }
   ],
   "source": [
    "for newspaper, newspaper_id in newspapers_id.items():\n",
    "    query = {\n",
    "    \"max_results\": 100,\n",
    "    \"tweet.fields\": \"id,text,created_at,public_metrics,possibly_sensitive,referenced_tweets\",\n",
    "    \"start_time\": \"2020-12-01T00:00:00Z\",\n",
    "    \"end_time\": \"2021-01-15T00:00:00Z\",\n",
    "    }\n",
    "    payload = urlencode(query, safe=\",:\")\n",
    "    \n",
    "    tweets_url = f\"https://api.twitter.com/2/users/{newspaper_id}/tweets\"\n",
    "    response = requests.get(tweets_url, headers=headers, params=payload)\n",
    "    print(f\"{newspaper}: status code {response.status_code}\")\n",
    "\n",
    "    try:\n",
    "        response_data = response.json()[\"data\"] # List of tweets\n",
    "        response_meta = response.json()[\"meta\"]\n",
    "\n",
    "        next_token = response_meta[\"next_token\"]\n",
    "        query[\"pagination_token\"] = next_token\n",
    "        payload = urlencode(query, safe=\",\")\n",
    "    except KeyError:\n",
    "        continue\n",
    "\n",
    "    while True:\n",
    "        new_response = requests.get(tweets_url, headers=headers, params=payload)\n",
    "\n",
    "        response_data += new_response.json()[\"data\"]\n",
    "\n",
    "        response_meta = new_response.json()[\"meta\"]\n",
    "\n",
    "        try:\n",
    "            next_token = response_meta[\"next_token\"]\n",
    "            query[\"pagination_token\"] = next_token\n",
    "            payload = urlencode(query, safe=\",:\")\n",
    "        except KeyError:\n",
    "            with open(f\"{BASE_DIR}/data/raw/data_{newspaper}.json\", \"w\") as write_file:\n",
    "                json.dump({\"data\": response_data}, write_file)\n",
    "            break\n",
    "\n",
    "    with open(f\"{BASE_DIR}/data/raw/data_{newspaper}.json\", \"w\") as write_file:\n",
    "        json.dump({\"data\": response_data}, write_file)"
   ]
  },
  {
   "cell_type": "markdown",
   "metadata": {},
   "source": [
    "## Cleaning the data\n",
    "\n",
    "Since most of the data we are dealing with is text data, I'm goig to be using some common text pre-processing techniques.\n",
    "\n",
    "For that I'm going to follow the MVP __(Minimum Viable Product)__ approach. For that the main resource I'll be using is a talk from PyOhio by [Alice Zhao](https://github.com/adashofdata/nlp-in-python-tutorial/blob/master/1-Data-Cleaning.ipynb). The cleaning steps I'll be taking are.\n",
    "\n",
    "**Removing tweets that are outside of the scope**\n",
    "\n",
    "* Tweets corresponding to the cover page announcement\n",
    "* Tweets corresponding to caricature of the day\n",
    "* Tweets corresponding to the horoscope\n",
    "* ...\n",
    "\n",
    "**Common data cleaning steps on all text:**\n",
    "\n",
    "* Make text all lowercase\n",
    "* Remove punctuation\n",
    "* Remove numerical values\n",
    "* Remove common non.sensical text (\\n)\n",
    "* Tokenize text\n",
    "* Remove stop words\n",
    "\n",
    "**More data cleaning steps after tokenization:**\n",
    "\n",
    "* Stemming/lemmatization\n",
    "* Parts of speech tagging\n",
    "* Create bi-grams or tri-grams\n",
    "* Deal with typos"
   ]
  },
  {
   "cell_type": "code",
   "execution_count": 8,
   "metadata": {},
   "outputs": [],
   "source": [
    "import pandas as pd\n",
    "import numpy as np\n",
    "import pickle as pk\n",
    "\n",
    "pd.options.display.max_colwidth = 300\n",
    "pd.options.display.max_rows = 25"
   ]
  },
  {
   "cell_type": "code",
   "execution_count": 4,
   "metadata": {},
   "outputs": [],
   "source": [
    "newspaper_df = {}\n",
    "\n",
    "for newspaper, newspaper_id in newspapers_id.items():\n",
    "    with open(f'{BASE_DIR}/data/raw/data_{newspaper}.json', 'r') as read_file:\n",
    "        json_file = json.load(read_file)\n",
    "\n",
    "    newspaper_df[newspaper] = pd.json_normalize(json_file[\"data\"])\n",
    "    newspaper_df[newspaper][\"newspaper\"] = newspaper"
   ]
  },
  {
   "cell_type": "code",
   "execution_count": 5,
   "metadata": {},
   "outputs": [],
   "source": [
    "with open(f'{BASE_DIR}/data/interim/newspaper_df.pkl', 'wb') as write_file:\n",
    "    pk.dump(newspaper_df, write_file)"
   ]
  },
  {
   "cell_type": "code",
   "execution_count": 6,
   "metadata": {},
   "outputs": [],
   "source": [
    "data_raw = pd.concat(newspaper_df.values())"
   ]
  },
  {
   "cell_type": "code",
   "execution_count": 7,
   "metadata": {},
   "outputs": [],
   "source": [
    "data_raw[\"created_at\"] = pd.to_datetime(data_raw[\"created_at\"], infer_datetime_format=True, errors='coerce')"
   ]
  },
  {
   "cell_type": "code",
   "execution_count": 8,
   "metadata": {},
   "outputs": [
    {
     "data": {
      "text/html": "<div>\n<style scoped>\n    .dataframe tbody tr th:only-of-type {\n        vertical-align: middle;\n    }\n\n    .dataframe tbody tr th {\n        vertical-align: top;\n    }\n\n    .dataframe thead th {\n        text-align: right;\n    }\n</style>\n<table border=\"1\" class=\"dataframe\">\n  <thead>\n    <tr style=\"text-align: right;\">\n      <th></th>\n      <th>created_at</th>\n      <th>possibly_sensitive</th>\n      <th>text</th>\n      <th>id</th>\n      <th>public_metrics.retweet_count</th>\n      <th>public_metrics.reply_count</th>\n      <th>public_metrics.like_count</th>\n      <th>public_metrics.quote_count</th>\n      <th>referenced_tweets</th>\n      <th>newspaper</th>\n    </tr>\n  </thead>\n  <tbody>\n    <tr>\n      <th>0</th>\n      <td>2021-01-14 23:58:50+00:00</td>\n      <td>False</td>\n      <td>Keiko Fujimori: “Me llena de ilusión y energía haber empezado a caminar para llegar a todo nuestro país” https://t.co/m8E0YzsXIl</td>\n      <td>1349868608600608768</td>\n      <td>6</td>\n      <td>101</td>\n      <td>47</td>\n      <td>6</td>\n      <td>NaN</td>\n      <td>elcomercio_peru</td>\n    </tr>\n    <tr>\n      <th>1</th>\n      <td>2021-01-14 23:55:38+00:00</td>\n      <td>False</td>\n      <td>Línea 1 del Metro de Lima: nuevo horario ante ampliación del toque de queda https://t.co/a3Mqp1a5Yd</td>\n      <td>1349867803319402499</td>\n      <td>1</td>\n      <td>0</td>\n      <td>4</td>\n      <td>0</td>\n      <td>NaN</td>\n      <td>elcomercio_peru</td>\n    </tr>\n    <tr>\n      <th>2</th>\n      <td>2021-01-14 23:52:31+00:00</td>\n      <td>False</td>\n      <td>La policía y los militares de EE.UU. se enfrentan a un enemigos internos https://t.co/PwT8AFUHbG</td>\n      <td>1349867020121214978</td>\n      <td>2</td>\n      <td>0</td>\n      <td>2</td>\n      <td>0</td>\n      <td>NaN</td>\n      <td>elcomercio_peru</td>\n    </tr>\n    <tr>\n      <th>3</th>\n      <td>2021-01-14 23:49:25+00:00</td>\n      <td>False</td>\n      <td>Autos  antiguos en las calles limeñas https://t.co/AOjXuLhzYD</td>\n      <td>1349866239481556992</td>\n      <td>2</td>\n      <td>0</td>\n      <td>11</td>\n      <td>0</td>\n      <td>NaN</td>\n      <td>elcomercio_peru</td>\n    </tr>\n    <tr>\n      <th>4</th>\n      <td>2021-01-14 23:46:13+00:00</td>\n      <td>False</td>\n      <td>Sporting Cristal oficializó el regreso de Jesús Pretell para la temporada 2021 https://t.co/aQ61CkkgsM</td>\n      <td>1349865436259774466</td>\n      <td>0</td>\n      <td>0</td>\n      <td>5</td>\n      <td>0</td>\n      <td>NaN</td>\n      <td>elcomercio_peru</td>\n    </tr>\n  </tbody>\n</table>\n</div>",
      "text/plain": "                 created_at  possibly_sensitive  \\\n0 2021-01-14 23:58:50+00:00               False   \n1 2021-01-14 23:55:38+00:00               False   \n2 2021-01-14 23:52:31+00:00               False   \n3 2021-01-14 23:49:25+00:00               False   \n4 2021-01-14 23:46:13+00:00               False   \n\n                                                                                                                               text  \\\n0  Keiko Fujimori: “Me llena de ilusión y energía haber empezado a caminar para llegar a todo nuestro país” https://t.co/m8E0YzsXIl   \n1                               Línea 1 del Metro de Lima: nuevo horario ante ampliación del toque de queda https://t.co/a3Mqp1a5Yd   \n2                                  La policía y los militares de EE.UU. se enfrentan a un enemigos internos https://t.co/PwT8AFUHbG   \n3                                                                     Autos  antiguos en las calles limeñas https://t.co/AOjXuLhzYD   \n4                            Sporting Cristal oficializó el regreso de Jesús Pretell para la temporada 2021 https://t.co/aQ61CkkgsM   \n\n                    id  public_metrics.retweet_count  \\\n0  1349868608600608768                             6   \n1  1349867803319402499                             1   \n2  1349867020121214978                             2   \n3  1349866239481556992                             2   \n4  1349865436259774466                             0   \n\n   public_metrics.reply_count  public_metrics.like_count  \\\n0                         101                         47   \n1                           0                          4   \n2                           0                          2   \n3                           0                         11   \n4                           0                          5   \n\n   public_metrics.quote_count referenced_tweets        newspaper  \n0                           6               NaN  elcomercio_peru  \n1                           0               NaN  elcomercio_peru  \n2                           0               NaN  elcomercio_peru  \n3                           0               NaN  elcomercio_peru  \n4                           0               NaN  elcomercio_peru  "
     },
     "execution_count": 8,
     "metadata": {},
     "output_type": "execute_result"
    }
   ],
   "source": [
    "data_raw.head()"
   ]
  },
  {
   "cell_type": "code",
   "execution_count": 9,
   "metadata": {},
   "outputs": [
    {
     "data": {
      "text/html": "<div>\n<style scoped>\n    .dataframe tbody tr th:only-of-type {\n        vertical-align: middle;\n    }\n\n    .dataframe tbody tr th {\n        vertical-align: top;\n    }\n\n    .dataframe thead th {\n        text-align: right;\n    }\n</style>\n<table border=\"1\" class=\"dataframe\">\n  <thead>\n    <tr style=\"text-align: right;\">\n      <th></th>\n      <th>created_at</th>\n      <th>possibly_sensitive</th>\n      <th>text</th>\n      <th>id</th>\n      <th>public_metrics.retweet_count</th>\n      <th>public_metrics.reply_count</th>\n      <th>public_metrics.like_count</th>\n      <th>public_metrics.quote_count</th>\n      <th>referenced_tweets</th>\n      <th>newspaper</th>\n    </tr>\n  </thead>\n  <tbody>\n    <tr>\n      <th>1203</th>\n      <td>2020-12-01 04:42:36+00:00</td>\n      <td>False</td>\n      <td>Cerca de la #Navidad, el Instituto Nacional de #Salud recomienda #juguetes que incentiven la actividad familiar, de acuerdo a la edad de los pequeños. Click aquí: https://t.co/jkmJzHunNw</td>\n      <td>1333632569729044480</td>\n      <td>0</td>\n      <td>0</td>\n      <td>3</td>\n      <td>0</td>\n      <td>NaN</td>\n      <td>larazon_pe</td>\n    </tr>\n    <tr>\n      <th>1204</th>\n      <td>2020-12-01 03:59:32+00:00</td>\n      <td>False</td>\n      <td>Los #turistas nacionales podrán acceder a la tarifa de S/ 12 soles por tramo a partir del 1 de diciembre y en 4 horarios de atención.\\n\\nAquí la nota: https://t.co/ODiJ92dH3b</td>\n      <td>1333621728984133632</td>\n      <td>1</td>\n      <td>0</td>\n      <td>6</td>\n      <td>0</td>\n      <td>NaN</td>\n      <td>larazon_pe</td>\n    </tr>\n    <tr>\n      <th>1205</th>\n      <td>2020-12-01 03:46:39+00:00</td>\n      <td>False</td>\n      <td>El Instituto Peruano de Paternidad Responsable (#Inppares ), promueve #campaña totalmente gratuita dual de detección de VIH/Sífilis y luego acceder a una consejería. Click aquí: https://t.co/ZKUh0UEuqs</td>\n      <td>1333618485482622978</td>\n      <td>0</td>\n      <td>0</td>\n      <td>2</td>\n      <td>0</td>\n      <td>NaN</td>\n      <td>larazon_pe</td>\n    </tr>\n    <tr>\n      <th>1206</th>\n      <td>2020-12-01 03:05:43+00:00</td>\n      <td>False</td>\n      <td>El Ministerio del Interior (#Mininter ) descartó la posibilidad sobre la desactivación del Grupo #Terna. Click aquí: https://t.co/qSRjHSzIEE</td>\n      <td>1333608187010965504</td>\n      <td>1</td>\n      <td>0</td>\n      <td>0</td>\n      <td>0</td>\n      <td>NaN</td>\n      <td>larazon_pe</td>\n    </tr>\n    <tr>\n      <th>1207</th>\n      <td>2020-12-01 00:25:12+00:00</td>\n      <td>False</td>\n      <td>El expresidente #OllantaHumala señaló que llama la atención que Vizcarra postule por un partido que lo vacó.\\n\\nNota completa aquí: https://t.co/QSbj2EEIEa</td>\n      <td>1333567792386289666</td>\n      <td>0</td>\n      <td>1</td>\n      <td>1</td>\n      <td>1</td>\n      <td>NaN</td>\n      <td>larazon_pe</td>\n    </tr>\n  </tbody>\n</table>\n</div>",
      "text/plain": "                    created_at  possibly_sensitive  \\\n1203 2020-12-01 04:42:36+00:00               False   \n1204 2020-12-01 03:59:32+00:00               False   \n1205 2020-12-01 03:46:39+00:00               False   \n1206 2020-12-01 03:05:43+00:00               False   \n1207 2020-12-01 00:25:12+00:00               False   \n\n                                                                                                                                                                                                           text  \\\n1203                 Cerca de la #Navidad, el Instituto Nacional de #Salud recomienda #juguetes que incentiven la actividad familiar, de acuerdo a la edad de los pequeños. Click aquí: https://t.co/jkmJzHunNw   \n1204                             Los #turistas nacionales podrán acceder a la tarifa de S/ 12 soles por tramo a partir del 1 de diciembre y en 4 horarios de atención.\\n\\nAquí la nota: https://t.co/ODiJ92dH3b   \n1205  El Instituto Peruano de Paternidad Responsable (#Inppares ), promueve #campaña totalmente gratuita dual de detección de VIH/Sífilis y luego acceder a una consejería. Click aquí: https://t.co/ZKUh0UEuqs   \n1206                                                               El Ministerio del Interior (#Mininter ) descartó la posibilidad sobre la desactivación del Grupo #Terna. Click aquí: https://t.co/qSRjHSzIEE   \n1207                                                El expresidente #OllantaHumala señaló que llama la atención que Vizcarra postule por un partido que lo vacó.\\n\\nNota completa aquí: https://t.co/QSbj2EEIEa   \n\n                       id  public_metrics.retweet_count  \\\n1203  1333632569729044480                             0   \n1204  1333621728984133632                             1   \n1205  1333618485482622978                             0   \n1206  1333608187010965504                             1   \n1207  1333567792386289666                             0   \n\n      public_metrics.reply_count  public_metrics.like_count  \\\n1203                           0                          3   \n1204                           0                          6   \n1205                           0                          2   \n1206                           0                          0   \n1207                           1                          1   \n\n      public_metrics.quote_count referenced_tweets   newspaper  \n1203                           0               NaN  larazon_pe  \n1204                           0               NaN  larazon_pe  \n1205                           0               NaN  larazon_pe  \n1206                           0               NaN  larazon_pe  \n1207                           1               NaN  larazon_pe  "
     },
     "execution_count": 9,
     "metadata": {},
     "output_type": "execute_result"
    }
   ],
   "source": [
    "data_raw.tail()"
   ]
  },
  {
   "cell_type": "code",
   "execution_count": 10,
   "metadata": {},
   "outputs": [
    {
     "name": "stdout",
     "output_type": "stream",
     "text": [
      "<class 'pandas.core.frame.DataFrame'>\n",
      "Int64Index: 18632 entries, 0 to 1207\n",
      "Data columns (total 10 columns):\n",
      " #   Column                        Non-Null Count  Dtype              \n",
      "---  ------                        --------------  -----              \n",
      " 0   created_at                    18632 non-null  datetime64[ns, UTC]\n",
      " 1   possibly_sensitive            18632 non-null  bool               \n",
      " 2   text                          18632 non-null  object             \n",
      " 3   id                            18632 non-null  object             \n",
      " 4   public_metrics.retweet_count  18632 non-null  int64              \n",
      " 5   public_metrics.reply_count    18632 non-null  int64              \n",
      " 6   public_metrics.like_count     18632 non-null  int64              \n",
      " 7   public_metrics.quote_count    18632 non-null  int64              \n",
      " 8   referenced_tweets             875 non-null    object             \n",
      " 9   newspaper                     18632 non-null  object             \n",
      "dtypes: bool(1), datetime64[ns, UTC](1), int64(4), object(4)\n",
      "memory usage: 1.4+ MB\n"
     ]
    }
   ],
   "source": [
    "data_raw.info()"
   ]
  },
  {
   "cell_type": "markdown",
   "metadata": {},
   "source": [
    "From the first looks, as well a the look on the head and tail I get to see how many of the variables are categorical and how many are numerical. Also, I only found missing values in the referenced tweets field. So, first for the numerical value I'm going to take a look of some metrics before the EDA.\n",
    "\n",
    "**Numerical variables:**\n",
    "\n",
    "1. `created_at`: Timestamp of the tweet\n",
    "2. `public_metrics.retweet_count`: Number of times a tweet was retweeted\n",
    "3. `public_metrics.like_count`: Number of likes a tweet has\n",
    "4. `public_metrics.quote_count`: Number of times a tweet was quoted\n",
    "\n",
    "**Categorical variables**\n",
    "\n",
    "1. `id`: Unique identifier of tweet\n",
    "2. `positively_sensitive`: Boolean variable of whether a tweet might contain sensitive information\n",
    "3. `text`: Actual text of the tweet\n",
    "4. `referenced_tweet`: Whether this tweet is a retweet or a quoted tweet\n",
    "5. `newspaper`: Twitter handle if the newspaper the tweet belongs to"
   ]
  },
  {
   "cell_type": "code",
   "execution_count": 11,
   "metadata": {},
   "outputs": [
    {
     "data": {
      "text/plain": "ExpresoPeru        2562\ndiarioojo          2373\nGestionpe          2370\ndiariocorreo       2206\ntromepe            2085\nDiarioElPeruano    1957\nlarepublica_pe     1660\nperu21noticias     1253\nlarazon_pe         1208\nelcomercio_peru     958\nName: newspaper, dtype: int64"
     },
     "execution_count": 11,
     "metadata": {},
     "output_type": "execute_result"
    }
   ],
   "source": [
    "data_raw[\"newspaper\"].value_counts()"
   ]
  },
  {
   "cell_type": "markdown",
   "metadata": {},
   "source": [
    "From the newspaper value counts I found that Expreso more than doubles the ammount of tweets of El Comercio and La Razón. Also, I look for the journals that respond more in the form of *referenced tweets*"
   ]
  },
  {
   "cell_type": "code",
   "execution_count": 12,
   "metadata": {},
   "outputs": [
    {
     "data": {
      "text/plain": "larepublica_pe     661\nDiarioElPeruano    160\nelcomercio_peru     26\nExpresoPeru         23\nGestionpe            3\nperu21noticias       2\nName: newspaper, dtype: int64"
     },
     "execution_count": 12,
     "metadata": {},
     "output_type": "execute_result"
    }
   ],
   "source": [
    "data_raw[\"newspaper\"][data_raw[\"referenced_tweets\"].notna()].value_counts()"
   ]
  },
  {
   "cell_type": "markdown",
   "metadata": {},
   "source": [
    "The journal that retweets, or replies more is **La República**, which is not the one that tweets more, and surprisingly **Expresso** which is the one that tweets the most has barely any retweets.\n",
    "\n",
    "What I found for **La República** is that most of his retweets come from their accounts for sports and politics, and that was supported by the ammount of times that their account names occur, when looking at their most user words."
   ]
  },
  {
   "cell_type": "code",
   "execution_count": 13,
   "metadata": {},
   "outputs": [
    {
     "data": {
      "text/html": "<div>\n<style scoped>\n    .dataframe tbody tr th:only-of-type {\n        vertical-align: middle;\n    }\n\n    .dataframe tbody tr th {\n        vertical-align: top;\n    }\n\n    .dataframe thead th {\n        text-align: right;\n    }\n</style>\n<table border=\"1\" class=\"dataframe\">\n  <thead>\n    <tr style=\"text-align: right;\">\n      <th></th>\n      <th>created_at</th>\n      <th>possibly_sensitive</th>\n      <th>text</th>\n      <th>id</th>\n      <th>public_metrics.retweet_count</th>\n      <th>public_metrics.reply_count</th>\n      <th>public_metrics.like_count</th>\n      <th>public_metrics.quote_count</th>\n      <th>referenced_tweets</th>\n      <th>newspaper</th>\n    </tr>\n  </thead>\n  <tbody>\n    <tr>\n      <th>624</th>\n      <td>2021-01-11 19:04:32+00:00</td>\n      <td>True</td>\n      <td>El MEF determinó la información que las entidades financieras deberán entregar a Sunat para combatir la elusión y evasión tributaria.\\n\\nMás información►https://t.co/aoOjNDW1ef https://t.co/Qet8hKOT4D</td>\n      <td>1348707383187484677</td>\n      <td>6</td>\n      <td>1</td>\n      <td>10</td>\n      <td>0</td>\n      <td>NaN</td>\n      <td>larepublica_pe</td>\n    </tr>\n  </tbody>\n</table>\n</div>",
      "text/plain": "                   created_at  possibly_sensitive  \\\n624 2021-01-11 19:04:32+00:00                True   \n\n                                                                                                                                                                                                         text  \\\n624  El MEF determinó la información que las entidades financieras deberán entregar a Sunat para combatir la elusión y evasión tributaria.\\n\\nMás información►https://t.co/aoOjNDW1ef https://t.co/Qet8hKOT4D   \n\n                      id  public_metrics.retweet_count  \\\n624  1348707383187484677                             6   \n\n     public_metrics.reply_count  public_metrics.like_count  \\\n624                           1                         10   \n\n     public_metrics.quote_count referenced_tweets       newspaper  \n624                           0               NaN  larepublica_pe  "
     },
     "execution_count": 13,
     "metadata": {},
     "output_type": "execute_result"
    }
   ],
   "source": [
    "data_raw[data_raw[\"possibly_sensitive\"] == True]"
   ]
  },
  {
   "cell_type": "markdown",
   "metadata": {},
   "source": [
    "The only possitively sensitive tweets comes from **La Repúbica** and was posted on January 2021. More analysis for the other variables will be done during the EDA process.\n",
    "\n",
    "With that said, I'll begin by removing the posts which are not headlines, as specified at the beginning."
   ]
  },
  {
   "cell_type": "code",
   "execution_count": 17,
   "metadata": {},
   "outputs": [],
   "source": [
    "data = data_raw\n",
    "\n",
    "data.drop(data[data[\"text\"].str.contains('horóscopo diario', flags=re.IGNORECASE, regex=True)].index, inplace=True)\n",
    "data.drop(data[data[\"text\"].str.contains('horóscopo de', flags=re.IGNORECASE, regex=True)].index, inplace=True)\n",
    "data.drop(data[data[\"text\"].str.contains('horóscopo hoy', flags=re.IGNORECASE, regex=True)].index, inplace=True)\n",
    "data.drop(data[data[\"text\"].str.contains('horóscopo y tarot', flags=re.IGNORECASE, regex=True)].index, inplace=True)\n",
    "data.drop(data[data[\"text\"].str.contains('Buenos días', flags=re.IGNORECASE, regex=True)].index, inplace=True)\n",
    "data.drop(data[data[\"text\"].str.contains('la caricatura de', flags=re.IGNORECASE, regex=True)].index, inplace=True)\n",
    "data.drop(data[data[\"text\"].str.contains('las caricaturas de', flags=re.IGNORECASE, regex=True)].index, inplace=True)\n",
    "data.drop(data[data[\"text\"].str.contains('portada impresa', flags=re.IGNORECASE, regex=True)].index, inplace=True)\n",
    "data.drop(data[data[\"text\"].str.contains('trome gol', flags=re.IGNORECASE, regex=True)].index, inplace=True)\n",
    "data.drop(data[data[\"text\"].str.contains('trome gol', flags=re.IGNORECASE, regex=True)].index, inplace=True)\n",
    "data.drop(data[data[\"text\"].str.contains('no te pierdas las chiquitas de hoy', flags=re.IGNORECASE, regex=True)].index, inplace=True)\n",
    "data.drop(data[data[\"text\"].str.contains('esta es la portada', flags=re.IGNORECASE, regex=True)].index, inplace=True)"
   ]
  },
  {
   "cell_type": "code",
   "execution_count": 20,
   "metadata": {},
   "outputs": [
    {
     "data": {
      "text/plain": "ExpresoPeru        2225\ndiarioojo          2039\nGestionpe          2036\ndiariocorreo       1884\ntromepe            1775\nDiarioElPeruano    1660\nlarepublica_pe     1403\nperu21noticias     1043\nlarazon_pe         1004\nelcomercio_peru     798\nName: newspaper, dtype: int64"
     },
     "execution_count": 20,
     "metadata": {},
     "output_type": "execute_result"
    }
   ],
   "source": [
    "data.newspaper.value_counts()"
   ]
  },
  {
   "cell_type": "code",
   "execution_count": 21,
   "metadata": {},
   "outputs": [],
   "source": [
    "import re\n",
    "import string\n",
    "\n",
    "def clean_text_first_pass(text):\n",
    "    \"\"\"Get rid of other punctuation and non-sensical text identified.\n",
    "\n",
    "    Args:\n",
    "        text (string): text to be processed.\n",
    "    \"\"\"\n",
    "    text = text.lower()\n",
    "    text = re.sub(r'^http[s]?:\\/\\/.*[\\r\\n]*', ' ', text)\n",
    "    text = re.sub(r'^bit.ly', ' ', text)\n",
    "    text = re.sub(r'^dozz.es', ' ', text)\n",
    "    text = re.sub('[%s]' % re.escape(string.punctuation), '', text)\n",
    "    text = re.sub('[‘’“”…«»►¿¡|│]', '', text)\n",
    "    text = re.sub('\\w*\\d\\w*', '', text)\n",
    "    text = re.sub('\\n', ' ', text)\n",
    "\n",
    "    return text\n",
    "\n",
    "first_pass = lambda x: clean_text_first_pass(x)"
   ]
  },
  {
   "cell_type": "code",
   "execution_count": 22,
   "metadata": {},
   "outputs": [
    {
     "data": {
      "text/plain": "0                                                                               keiko fujimori me llena de ilusión y energía haber empezado a caminar para llegar a todo nuestro país \n1                                                                                                           línea  del metro de lima nuevo horario ante ampliación del toque de queda \n2                                                                                                              la policía y los militares de eeuu se enfrentan a un enemigos internos \n3                                                                                                                             autos  antiguos en las calles limeñas httpstcoaojxulhzyd\n4                                                                                                          sporting cristal oficializó el regreso de jesús pretell para la temporada  \n                                                                                             ...                                                                                      \n1201                             el portero leaobutrón afirmó que su decisión es estar donde se le necesite si me llama alianza estaré donde me lo pidan  lee la nota completa aquí   \n1202                                                                         universitariodedeportes venció  a binacional y disputará el título nacional  lee la nota completa aquí   \n1203    cerca de la navidad el instituto nacional de salud recomienda juguetes que incentiven la actividad familiar de acuerdo a la edad de los pequeños click aquí httpstcojkmjzhunnw\n1204                                     los turistas nacionales podrán acceder a la tarifa de s  soles por tramo a partir del  de diciembre y en  horarios de atención  aquí la nota \n1206                                                 el ministerio del interior mininter  descartó la posibilidad sobre la desactivación del grupo terna click aquí httpstcoqsrjhsziee\nName: text_clean, Length: 15867, dtype: object"
     },
     "execution_count": 22,
     "metadata": {},
     "output_type": "execute_result"
    }
   ],
   "source": [
    "data[\"text_clean\"] = data.text.apply(first_pass)\n",
    "data[\"text_clean\"]"
   ]
  },
  {
   "cell_type": "code",
   "execution_count": 23,
   "metadata": {},
   "outputs": [
    {
     "data": {
      "text/html": "<div>\n<style scoped>\n    .dataframe tbody tr th:only-of-type {\n        vertical-align: middle;\n    }\n\n    .dataframe tbody tr th {\n        vertical-align: top;\n    }\n\n    .dataframe thead th {\n        text-align: right;\n    }\n</style>\n<table border=\"1\" class=\"dataframe\">\n  <thead>\n    <tr style=\"text-align: right;\">\n      <th></th>\n      <th>created_at</th>\n      <th>possibly_sensitive</th>\n      <th>text</th>\n      <th>id</th>\n      <th>public_metrics.retweet_count</th>\n      <th>public_metrics.reply_count</th>\n      <th>public_metrics.like_count</th>\n      <th>public_metrics.quote_count</th>\n      <th>referenced_tweets</th>\n      <th>newspaper</th>\n      <th>text_clean</th>\n    </tr>\n  </thead>\n  <tbody>\n  </tbody>\n</table>\n</div>",
      "text/plain": "Empty DataFrame\nColumns: [created_at, possibly_sensitive, text, id, public_metrics.retweet_count, public_metrics.reply_count, public_metrics.like_count, public_metrics.quote_count, referenced_tweets, newspaper, text_clean]\nIndex: []"
     },
     "execution_count": 23,
     "metadata": {},
     "output_type": "execute_result"
    }
   ],
   "source": [
    "data[data[\"possibly_sensitive\"] == True]"
   ]
  },
  {
   "cell_type": "code",
   "execution_count": 24,
   "metadata": {},
   "outputs": [
    {
     "data": {
      "text/html": "<div>\n<style scoped>\n    .dataframe tbody tr th:only-of-type {\n        vertical-align: middle;\n    }\n\n    .dataframe tbody tr th {\n        vertical-align: top;\n    }\n\n    .dataframe thead th {\n        text-align: right;\n    }\n</style>\n<table border=\"1\" class=\"dataframe\">\n  <thead>\n    <tr style=\"text-align: right;\">\n      <th></th>\n      <th>created_at</th>\n      <th>possibly_sensitive</th>\n      <th>text</th>\n      <th>id</th>\n      <th>retweet_count</th>\n      <th>reply_count</th>\n      <th>like_count</th>\n      <th>quote_count</th>\n      <th>referenced_tweets</th>\n      <th>newspaper</th>\n      <th>text_clean</th>\n    </tr>\n  </thead>\n  <tbody>\n    <tr>\n      <th>0</th>\n      <td>2021-01-14 23:58:50+00:00</td>\n      <td>False</td>\n      <td>Keiko Fujimori: “Me llena de ilusión y energía haber empezado a caminar para llegar a todo nuestro país” https://t.co/m8E0YzsXIl</td>\n      <td>1349868608600608768</td>\n      <td>6</td>\n      <td>101</td>\n      <td>47</td>\n      <td>6</td>\n      <td>NaN</td>\n      <td>elcomercio_peru</td>\n      <td>keiko fujimori me llena de ilusión y energía haber empezado a caminar para llegar a todo nuestro país</td>\n    </tr>\n    <tr>\n      <th>1</th>\n      <td>2021-01-14 23:55:38+00:00</td>\n      <td>False</td>\n      <td>Línea 1 del Metro de Lima: nuevo horario ante ampliación del toque de queda https://t.co/a3Mqp1a5Yd</td>\n      <td>1349867803319402499</td>\n      <td>1</td>\n      <td>0</td>\n      <td>4</td>\n      <td>0</td>\n      <td>NaN</td>\n      <td>elcomercio_peru</td>\n      <td>línea  del metro de lima nuevo horario ante ampliación del toque de queda</td>\n    </tr>\n    <tr>\n      <th>2</th>\n      <td>2021-01-14 23:52:31+00:00</td>\n      <td>False</td>\n      <td>La policía y los militares de EE.UU. se enfrentan a un enemigos internos https://t.co/PwT8AFUHbG</td>\n      <td>1349867020121214978</td>\n      <td>2</td>\n      <td>0</td>\n      <td>2</td>\n      <td>0</td>\n      <td>NaN</td>\n      <td>elcomercio_peru</td>\n      <td>la policía y los militares de eeuu se enfrentan a un enemigos internos</td>\n    </tr>\n    <tr>\n      <th>3</th>\n      <td>2021-01-14 23:49:25+00:00</td>\n      <td>False</td>\n      <td>Autos  antiguos en las calles limeñas https://t.co/AOjXuLhzYD</td>\n      <td>1349866239481556992</td>\n      <td>2</td>\n      <td>0</td>\n      <td>11</td>\n      <td>0</td>\n      <td>NaN</td>\n      <td>elcomercio_peru</td>\n      <td>autos  antiguos en las calles limeñas httpstcoaojxulhzyd</td>\n    </tr>\n    <tr>\n      <th>4</th>\n      <td>2021-01-14 23:46:13+00:00</td>\n      <td>False</td>\n      <td>Sporting Cristal oficializó el regreso de Jesús Pretell para la temporada 2021 https://t.co/aQ61CkkgsM</td>\n      <td>1349865436259774466</td>\n      <td>0</td>\n      <td>0</td>\n      <td>5</td>\n      <td>0</td>\n      <td>NaN</td>\n      <td>elcomercio_peru</td>\n      <td>sporting cristal oficializó el regreso de jesús pretell para la temporada</td>\n    </tr>\n  </tbody>\n</table>\n</div>",
      "text/plain": "                 created_at  possibly_sensitive  \\\n0 2021-01-14 23:58:50+00:00               False   \n1 2021-01-14 23:55:38+00:00               False   \n2 2021-01-14 23:52:31+00:00               False   \n3 2021-01-14 23:49:25+00:00               False   \n4 2021-01-14 23:46:13+00:00               False   \n\n                                                                                                                               text  \\\n0  Keiko Fujimori: “Me llena de ilusión y energía haber empezado a caminar para llegar a todo nuestro país” https://t.co/m8E0YzsXIl   \n1                               Línea 1 del Metro de Lima: nuevo horario ante ampliación del toque de queda https://t.co/a3Mqp1a5Yd   \n2                                  La policía y los militares de EE.UU. se enfrentan a un enemigos internos https://t.co/PwT8AFUHbG   \n3                                                                     Autos  antiguos en las calles limeñas https://t.co/AOjXuLhzYD   \n4                            Sporting Cristal oficializó el regreso de Jesús Pretell para la temporada 2021 https://t.co/aQ61CkkgsM   \n\n                    id  retweet_count  reply_count  like_count  quote_count  \\\n0  1349868608600608768              6          101          47            6   \n1  1349867803319402499              1            0           4            0   \n2  1349867020121214978              2            0           2            0   \n3  1349866239481556992              2            0          11            0   \n4  1349865436259774466              0            0           5            0   \n\n  referenced_tweets        newspaper  \\\n0               NaN  elcomercio_peru   \n1               NaN  elcomercio_peru   \n2               NaN  elcomercio_peru   \n3               NaN  elcomercio_peru   \n4               NaN  elcomercio_peru   \n\n                                                                                               text_clean  \n0  keiko fujimori me llena de ilusión y energía haber empezado a caminar para llegar a todo nuestro país   \n1                              línea  del metro de lima nuevo horario ante ampliación del toque de queda   \n2                                 la policía y los militares de eeuu se enfrentan a un enemigos internos   \n3                                                autos  antiguos en las calles limeñas httpstcoaojxulhzyd  \n4                             sporting cristal oficializó el regreso de jesús pretell para la temporada    "
     },
     "execution_count": 24,
     "metadata": {},
     "output_type": "execute_result"
    }
   ],
   "source": [
    "data.rename(lambda x: x.replace('public_metrics.', ''), axis='columns', inplace=True)\n",
    "data.head()"
   ]
  },
  {
   "cell_type": "markdown",
   "metadata": {},
   "source": [
    "From checking the resulting text I found that there are some tweets that contain emojis that haven't been removed. For that I will use the `demoji` package."
   ]
  },
  {
   "cell_type": "code",
   "execution_count": 25,
   "metadata": {},
   "outputs": [],
   "source": [
    "import demoji\n",
    "\n",
    "replace_emojis = lambda x: demoji.replace(x, \"\")"
   ]
  },
  {
   "cell_type": "code",
   "execution_count": 26,
   "metadata": {},
   "outputs": [
    {
     "data": {
      "text/html": "<div>\n<style scoped>\n    .dataframe tbody tr th:only-of-type {\n        vertical-align: middle;\n    }\n\n    .dataframe tbody tr th {\n        vertical-align: top;\n    }\n\n    .dataframe thead th {\n        text-align: right;\n    }\n</style>\n<table border=\"1\" class=\"dataframe\">\n  <thead>\n    <tr style=\"text-align: right;\">\n      <th></th>\n      <th>created_at</th>\n      <th>possibly_sensitive</th>\n      <th>text</th>\n      <th>id</th>\n      <th>retweet_count</th>\n      <th>reply_count</th>\n      <th>like_count</th>\n      <th>quote_count</th>\n      <th>referenced_tweets</th>\n      <th>newspaper</th>\n      <th>text_clean</th>\n    </tr>\n  </thead>\n  <tbody>\n    <tr>\n      <th>0</th>\n      <td>2021-01-14 23:58:50+00:00</td>\n      <td>False</td>\n      <td>Keiko Fujimori: “Me llena de ilusión y energía haber empezado a caminar para llegar a todo nuestro país” https://t.co/m8E0YzsXIl</td>\n      <td>1349868608600608768</td>\n      <td>6</td>\n      <td>101</td>\n      <td>47</td>\n      <td>6</td>\n      <td>NaN</td>\n      <td>elcomercio_peru</td>\n      <td>keiko fujimori me llena de ilusión y energía haber empezado a caminar para llegar a todo nuestro país</td>\n    </tr>\n    <tr>\n      <th>1</th>\n      <td>2021-01-14 23:55:38+00:00</td>\n      <td>False</td>\n      <td>Línea 1 del Metro de Lima: nuevo horario ante ampliación del toque de queda https://t.co/a3Mqp1a5Yd</td>\n      <td>1349867803319402499</td>\n      <td>1</td>\n      <td>0</td>\n      <td>4</td>\n      <td>0</td>\n      <td>NaN</td>\n      <td>elcomercio_peru</td>\n      <td>línea  del metro de lima nuevo horario ante ampliación del toque de queda</td>\n    </tr>\n    <tr>\n      <th>2</th>\n      <td>2021-01-14 23:52:31+00:00</td>\n      <td>False</td>\n      <td>La policía y los militares de EE.UU. se enfrentan a un enemigos internos https://t.co/PwT8AFUHbG</td>\n      <td>1349867020121214978</td>\n      <td>2</td>\n      <td>0</td>\n      <td>2</td>\n      <td>0</td>\n      <td>NaN</td>\n      <td>elcomercio_peru</td>\n      <td>la policía y los militares de eeuu se enfrentan a un enemigos internos</td>\n    </tr>\n    <tr>\n      <th>3</th>\n      <td>2021-01-14 23:49:25+00:00</td>\n      <td>False</td>\n      <td>Autos  antiguos en las calles limeñas https://t.co/AOjXuLhzYD</td>\n      <td>1349866239481556992</td>\n      <td>2</td>\n      <td>0</td>\n      <td>11</td>\n      <td>0</td>\n      <td>NaN</td>\n      <td>elcomercio_peru</td>\n      <td>autos  antiguos en las calles limeñas httpstcoaojxulhzyd</td>\n    </tr>\n    <tr>\n      <th>4</th>\n      <td>2021-01-14 23:46:13+00:00</td>\n      <td>False</td>\n      <td>Sporting Cristal oficializó el regreso de Jesús Pretell para la temporada 2021 https://t.co/aQ61CkkgsM</td>\n      <td>1349865436259774466</td>\n      <td>0</td>\n      <td>0</td>\n      <td>5</td>\n      <td>0</td>\n      <td>NaN</td>\n      <td>elcomercio_peru</td>\n      <td>sporting cristal oficializó el regreso de jesús pretell para la temporada</td>\n    </tr>\n  </tbody>\n</table>\n</div>",
      "text/plain": "                 created_at  possibly_sensitive  \\\n0 2021-01-14 23:58:50+00:00               False   \n1 2021-01-14 23:55:38+00:00               False   \n2 2021-01-14 23:52:31+00:00               False   \n3 2021-01-14 23:49:25+00:00               False   \n4 2021-01-14 23:46:13+00:00               False   \n\n                                                                                                                               text  \\\n0  Keiko Fujimori: “Me llena de ilusión y energía haber empezado a caminar para llegar a todo nuestro país” https://t.co/m8E0YzsXIl   \n1                               Línea 1 del Metro de Lima: nuevo horario ante ampliación del toque de queda https://t.co/a3Mqp1a5Yd   \n2                                  La policía y los militares de EE.UU. se enfrentan a un enemigos internos https://t.co/PwT8AFUHbG   \n3                                                                     Autos  antiguos en las calles limeñas https://t.co/AOjXuLhzYD   \n4                            Sporting Cristal oficializó el regreso de Jesús Pretell para la temporada 2021 https://t.co/aQ61CkkgsM   \n\n                    id  retweet_count  reply_count  like_count  quote_count  \\\n0  1349868608600608768              6          101          47            6   \n1  1349867803319402499              1            0           4            0   \n2  1349867020121214978              2            0           2            0   \n3  1349866239481556992              2            0          11            0   \n4  1349865436259774466              0            0           5            0   \n\n  referenced_tweets        newspaper  \\\n0               NaN  elcomercio_peru   \n1               NaN  elcomercio_peru   \n2               NaN  elcomercio_peru   \n3               NaN  elcomercio_peru   \n4               NaN  elcomercio_peru   \n\n                                                                                               text_clean  \n0  keiko fujimori me llena de ilusión y energía haber empezado a caminar para llegar a todo nuestro país   \n1                              línea  del metro de lima nuevo horario ante ampliación del toque de queda   \n2                                 la policía y los militares de eeuu se enfrentan a un enemigos internos   \n3                                                autos  antiguos en las calles limeñas httpstcoaojxulhzyd  \n4                             sporting cristal oficializó el regreso de jesús pretell para la temporada    "
     },
     "execution_count": 26,
     "metadata": {},
     "output_type": "execute_result"
    }
   ],
   "source": [
    "data[\"text_clean\"] = data[\"text_clean\"].apply(replace_emojis)\n",
    "data.head()"
   ]
  },
  {
   "cell_type": "markdown",
   "metadata": {},
   "source": [
    "Also, form redoing the analysis, and looking at the tweeter feeds from many of the newspapers I found that there are some patterns of writing that do not add to the content, like calls to action, that interact with the audience, but do not add any significance to the headline. I'll be checking at the twitter feed for such patterns and add them during cleaning. I'm not adding them as stopwords because these calls to action in specific are groups of words."
   ]
  },
  {
   "cell_type": "code",
   "execution_count": 27,
   "metadata": {},
   "outputs": [],
   "source": [
    "def clean_text_second_pass(text):\n",
    "    \"\"\"Get rid of other punctuation and non-sensical text identified.\n",
    "\n",
    "    Args:\n",
    "        text (string): text to be processed.\n",
    "    \"\"\"\n",
    "    text = re.sub('click aquí', '', text)\n",
    "    text = re.sub('lee aquí el blog de', '', text)\n",
    "    text = re.sub('vía gestionpe', '', text)\n",
    "    text = re.sub('entrevista exclusiva', '', text)\n",
    "    text = re.sub('en vivo', '', text)\n",
    "    text = re.sub('entérate más aquí', '', text)\n",
    "    text = re.sub('lee la columna de', '', text)\n",
    "    text = re.sub('lee y comenta', '', text)\n",
    "    text = re.sub('lea hoy la columna de', '', text)\n",
    "    text = re.sub('escrito por', '', text)\n",
    "    text = re.sub('una nota de', '', text)\n",
    "    text = re.sub('aquí la nota', '', text)\n",
    "    text = re.sub('nota completa aquí', '', text)\n",
    "    text = re.sub('lee más', '', text)\n",
    "\n",
    "    text = re.sub('http[s]?(?:[a-zA-Z]|[0-9]|[$-_@.&+]|[!*\\(\\),]|(?:%[0-9a-fA-F][0-9a-fA-F]))+', '', text)\n",
    "    text = re.sub(r\"\\b[a-zA-Z]\\b\", \"\", text)\n",
    "    text = re.sub('  ', ' ', text)\n",
    "\n",
    "    return text\n",
    "\n",
    "second_pass = lambda x: clean_text_second_pass(x)"
   ]
  },
  {
   "cell_type": "code",
   "execution_count": 29,
   "metadata": {},
   "outputs": [
    {
     "data": {
      "text/html": "<div>\n<style scoped>\n    .dataframe tbody tr th:only-of-type {\n        vertical-align: middle;\n    }\n\n    .dataframe tbody tr th {\n        vertical-align: top;\n    }\n\n    .dataframe thead th {\n        text-align: right;\n    }\n</style>\n<table border=\"1\" class=\"dataframe\">\n  <thead>\n    <tr style=\"text-align: right;\">\n      <th></th>\n      <th>created_at</th>\n      <th>possibly_sensitive</th>\n      <th>text</th>\n      <th>id</th>\n      <th>retweet_count</th>\n      <th>reply_count</th>\n      <th>like_count</th>\n      <th>quote_count</th>\n      <th>referenced_tweets</th>\n      <th>newspaper</th>\n      <th>text_clean</th>\n    </tr>\n  </thead>\n  <tbody>\n    <tr>\n      <th>0</th>\n      <td>2021-01-14 23:58:50+00:00</td>\n      <td>False</td>\n      <td>Keiko Fujimori: “Me llena de ilusión y energía haber empezado a caminar para llegar a todo nuestro país” https://t.co/m8E0YzsXIl</td>\n      <td>1349868608600608768</td>\n      <td>6</td>\n      <td>101</td>\n      <td>47</td>\n      <td>6</td>\n      <td>NaN</td>\n      <td>elcomercio_peru</td>\n      <td>keiko fujimori me llena de ilusión energía haber empezado caminar para llegar todo nuestro país</td>\n    </tr>\n    <tr>\n      <th>1</th>\n      <td>2021-01-14 23:55:38+00:00</td>\n      <td>False</td>\n      <td>Línea 1 del Metro de Lima: nuevo horario ante ampliación del toque de queda https://t.co/a3Mqp1a5Yd</td>\n      <td>1349867803319402499</td>\n      <td>1</td>\n      <td>0</td>\n      <td>4</td>\n      <td>0</td>\n      <td>NaN</td>\n      <td>elcomercio_peru</td>\n      <td>línea del metro de lima nuevo horario ante ampliación del toque de queda</td>\n    </tr>\n    <tr>\n      <th>2</th>\n      <td>2021-01-14 23:52:31+00:00</td>\n      <td>False</td>\n      <td>La policía y los militares de EE.UU. se enfrentan a un enemigos internos https://t.co/PwT8AFUHbG</td>\n      <td>1349867020121214978</td>\n      <td>2</td>\n      <td>0</td>\n      <td>2</td>\n      <td>0</td>\n      <td>NaN</td>\n      <td>elcomercio_peru</td>\n      <td>la policía los militares de eeuu se enfrentan un enemigos internos</td>\n    </tr>\n    <tr>\n      <th>3</th>\n      <td>2021-01-14 23:49:25+00:00</td>\n      <td>False</td>\n      <td>Autos  antiguos en las calles limeñas https://t.co/AOjXuLhzYD</td>\n      <td>1349866239481556992</td>\n      <td>2</td>\n      <td>0</td>\n      <td>11</td>\n      <td>0</td>\n      <td>NaN</td>\n      <td>elcomercio_peru</td>\n      <td>autos antiguos en las calles limeñas</td>\n    </tr>\n    <tr>\n      <th>4</th>\n      <td>2021-01-14 23:46:13+00:00</td>\n      <td>False</td>\n      <td>Sporting Cristal oficializó el regreso de Jesús Pretell para la temporada 2021 https://t.co/aQ61CkkgsM</td>\n      <td>1349865436259774466</td>\n      <td>0</td>\n      <td>0</td>\n      <td>5</td>\n      <td>0</td>\n      <td>NaN</td>\n      <td>elcomercio_peru</td>\n      <td>sporting cristal oficializó el regreso de jesús pretell para la temporada</td>\n    </tr>\n  </tbody>\n</table>\n</div>",
      "text/plain": "                 created_at  possibly_sensitive  \\\n0 2021-01-14 23:58:50+00:00               False   \n1 2021-01-14 23:55:38+00:00               False   \n2 2021-01-14 23:52:31+00:00               False   \n3 2021-01-14 23:49:25+00:00               False   \n4 2021-01-14 23:46:13+00:00               False   \n\n                                                                                                                               text  \\\n0  Keiko Fujimori: “Me llena de ilusión y energía haber empezado a caminar para llegar a todo nuestro país” https://t.co/m8E0YzsXIl   \n1                               Línea 1 del Metro de Lima: nuevo horario ante ampliación del toque de queda https://t.co/a3Mqp1a5Yd   \n2                                  La policía y los militares de EE.UU. se enfrentan a un enemigos internos https://t.co/PwT8AFUHbG   \n3                                                                     Autos  antiguos en las calles limeñas https://t.co/AOjXuLhzYD   \n4                            Sporting Cristal oficializó el regreso de Jesús Pretell para la temporada 2021 https://t.co/aQ61CkkgsM   \n\n                    id  retweet_count  reply_count  like_count  quote_count  \\\n0  1349868608600608768              6          101          47            6   \n1  1349867803319402499              1            0           4            0   \n2  1349867020121214978              2            0           2            0   \n3  1349866239481556992              2            0          11            0   \n4  1349865436259774466              0            0           5            0   \n\n  referenced_tweets        newspaper  \\\n0               NaN  elcomercio_peru   \n1               NaN  elcomercio_peru   \n2               NaN  elcomercio_peru   \n3               NaN  elcomercio_peru   \n4               NaN  elcomercio_peru   \n\n                                                                                         text_clean  \n0  keiko fujimori me llena de ilusión energía haber empezado caminar para llegar todo nuestro país   \n1                         línea del metro de lima nuevo horario ante ampliación del toque de queda   \n2                               la policía los militares de eeuu se enfrentan un enemigos internos   \n3                                                             autos antiguos en las calles limeñas   \n4                        sporting cristal oficializó el regreso de jesús pretell para la temporada   "
     },
     "execution_count": 29,
     "metadata": {},
     "output_type": "execute_result"
    }
   ],
   "source": [
    "data[\"text_clean\"] = data.text_clean.apply(second_pass)\n",
    "data.head()"
   ]
  },
  {
   "cell_type": "code",
   "execution_count": 30,
   "metadata": {},
   "outputs": [],
   "source": [
    "data.to_pickle(f\"{BASE_DIR}/data/interim/data_clean.pkl\")"
   ]
  },
  {
   "cell_type": "markdown",
   "metadata": {},
   "source": [
    "## Organizing the data\n",
    "\n",
    "Now I need to get the data in both of the standar text formats:\n",
    "\n",
    "1. **Corpus -** a collection of text\n",
    "2. **Document-Term matrix -** word counts in matrix format\n",
    "\n",
    "In the case of the tweets, I will start by combining all the clean texts and in the case of *Document-term matrix* tokenising the result."
   ]
  },
  {
   "cell_type": "code",
   "execution_count": 31,
   "metadata": {},
   "outputs": [],
   "source": [
    "df_clean = pd.read_pickle(f\"{BASE_DIR}/data/interim/data_clean.pkl\")"
   ]
  },
  {
   "cell_type": "markdown",
   "metadata": {},
   "source": [
    "### Corpus\n",
    "\n",
    "To create a corpus we will collapse all the existing rows and create another dataframe with the name of the newspaper and the tweets for analysis."
   ]
  },
  {
   "cell_type": "code",
   "execution_count": 32,
   "metadata": {},
   "outputs": [
    {
     "data": {
      "text/html": "<div>\n<style scoped>\n    .dataframe tbody tr th:only-of-type {\n        vertical-align: middle;\n    }\n\n    .dataframe tbody tr th {\n        vertical-align: top;\n    }\n\n    .dataframe thead th {\n        text-align: right;\n    }\n</style>\n<table border=\"1\" class=\"dataframe\">\n  <thead>\n    <tr style=\"text-align: right;\">\n      <th></th>\n      <th>newspaper</th>\n      <th>text_clean</th>\n    </tr>\n  </thead>\n  <tbody>\n    <tr>\n      <th>0</th>\n      <td>DiarioElPeruano</td>\n      <td>conoce las actividades virtuales que se desarrollarán por el aniversario de lima será transmitido por facebook youtube  ministra de defensa nuria esparch resalta la presencia cada vez mayor de mujeres en misiones de paz  ops alerta que la variante del se expande en latinoamérica  crisis política...</td>\n    </tr>\n    <tr>\n      <th>1</th>\n      <td>ExpresoPeru</td>\n      <td>giulliana loza keiko fujimori está realizando visitas al norte del país con la debida autorización judicial  médicos intensivistas sostienen que lima metropolitana debió ser calificada como una región con un nivel de alerta muy alto  partido entre aston villa vs everton fue aplazado por casos de...</td>\n    </tr>\n    <tr>\n      <th>2</th>\n      <td>Gestionpe</td>\n      <td>depósitos en dólares en soles qué convendrá más este año  sinovac defiende su vacuna tras datos decepcionantes de ensayo en brasil  línea del metro de lima establece nuevo horario ante ampliación del toque de queda  en alemania temen que variante británica del covid pueda multiplicar por diez la...</td>\n    </tr>\n    <tr>\n      <th>3</th>\n      <td>diariocorreo</td>\n      <td>san borja minsa lanzan farmacia con servicio delivery para población vulnerable  médicos de essalud extirpan tumor de un kilo salvan niño arequipeño de años video   hombre de años murió después de cobrar su pensión en un banco de huancayo   jne declara infundada apelación del apra para inscripci...</td>\n    </tr>\n    <tr>\n      <th>4</th>\n      <td>diarioojo</td>\n      <td>octogenario muere después de cobrar su pensión en un banco de junín  luciana fuster celebra su cumpleaños en yate de marc anthony el invitado de honor video  mujer acusada de asesinar su esposo él se apuñaló solo video  gigi mitre enfrenta son tentación hay que ser un poquito más conscientes res...</td>\n    </tr>\n    <tr>\n      <th>5</th>\n      <td>elcomercio_peru</td>\n      <td>keiko fujimori me llena de ilusión energía haber empezado caminar para llegar todo nuestro país  línea del metro de lima nuevo horario ante ampliación del toque de queda  la policía los militares de eeuu se enfrentan un enemigos internos  autos antiguos en las calles limeñas  sporting cristal of...</td>\n    </tr>\n    <tr>\n      <th>6</th>\n      <td>larazon_pe</td>\n      <td>la premier violeta bermúdez dijo que se empezará una campaña informativa sobre la importancia de la vacunación ya que muchas personas tienen temor no creen  el exministro de salud lamentó que la titular del minsa no pueda inducir al presidente estrategias mucho más claras  juez del primer juzgad...</td>\n    </tr>\n    <tr>\n      <th>7</th>\n      <td>larepublica_pe</td>\n      <td>rt deporteslr sportboys anunció que seis miembros del plantel dieron positivo  través de un comunicado rosados informaron rt deporteslr el puma carranza se refirió la marcha de hohberg sporting cristal el histórico capitán de la habló acerca del te onu el mundo se dirige hacia un calentamiento c...</td>\n    </tr>\n    <tr>\n      <th>8</th>\n      <td>peru21noticias</td>\n      <td>se registra mamá oso de anteojos su cría paseando por las áreas de machu picchu en cusco video  arturo vidal se puso emotivo para despedir reinaldo rueda de la selección de chile  george forsyth rechaza dinero de publicidad electoral para que estado lo use en el sistema de salud  lambayeque gere...</td>\n    </tr>\n    <tr>\n      <th>9</th>\n      <td>tromepe</td>\n      <td>no le teme los nuevos sabores  lambayeque fiscalía interviene jefe de comisaría incahuasi otros cuatro efectivos por presuntos sobornos  el club estudiantil arrancó los trabajos en su sede pensando en la temporada alex valera jorge murrugarra los nuevos fichajes dijeron presente en la sesión  go...</td>\n    </tr>\n  </tbody>\n</table>\n</div>",
      "text/plain": "         newspaper  \\\n0  DiarioElPeruano   \n1      ExpresoPeru   \n2        Gestionpe   \n3     diariocorreo   \n4        diarioojo   \n5  elcomercio_peru   \n6       larazon_pe   \n7   larepublica_pe   \n8   peru21noticias   \n9          tromepe   \n\n                                                                                                                                                                                                                                                                                                    text_clean  \n0  conoce las actividades virtuales que se desarrollarán por el aniversario de lima será transmitido por facebook youtube  ministra de defensa nuria esparch resalta la presencia cada vez mayor de mujeres en misiones de paz  ops alerta que la variante del se expande en latinoamérica  crisis política...  \n1  giulliana loza keiko fujimori está realizando visitas al norte del país con la debida autorización judicial  médicos intensivistas sostienen que lima metropolitana debió ser calificada como una región con un nivel de alerta muy alto  partido entre aston villa vs everton fue aplazado por casos de...  \n2  depósitos en dólares en soles qué convendrá más este año  sinovac defiende su vacuna tras datos decepcionantes de ensayo en brasil  línea del metro de lima establece nuevo horario ante ampliación del toque de queda  en alemania temen que variante británica del covid pueda multiplicar por diez la...  \n3  san borja minsa lanzan farmacia con servicio delivery para población vulnerable  médicos de essalud extirpan tumor de un kilo salvan niño arequipeño de años video   hombre de años murió después de cobrar su pensión en un banco de huancayo   jne declara infundada apelación del apra para inscripci...  \n4  octogenario muere después de cobrar su pensión en un banco de junín  luciana fuster celebra su cumpleaños en yate de marc anthony el invitado de honor video  mujer acusada de asesinar su esposo él se apuñaló solo video  gigi mitre enfrenta son tentación hay que ser un poquito más conscientes res...  \n5  keiko fujimori me llena de ilusión energía haber empezado caminar para llegar todo nuestro país  línea del metro de lima nuevo horario ante ampliación del toque de queda  la policía los militares de eeuu se enfrentan un enemigos internos  autos antiguos en las calles limeñas  sporting cristal of...  \n6  la premier violeta bermúdez dijo que se empezará una campaña informativa sobre la importancia de la vacunación ya que muchas personas tienen temor no creen  el exministro de salud lamentó que la titular del minsa no pueda inducir al presidente estrategias mucho más claras  juez del primer juzgad...  \n7  rt deporteslr sportboys anunció que seis miembros del plantel dieron positivo  través de un comunicado rosados informaron rt deporteslr el puma carranza se refirió la marcha de hohberg sporting cristal el histórico capitán de la habló acerca del te onu el mundo se dirige hacia un calentamiento c...  \n8  se registra mamá oso de anteojos su cría paseando por las áreas de machu picchu en cusco video  arturo vidal se puso emotivo para despedir reinaldo rueda de la selección de chile  george forsyth rechaza dinero de publicidad electoral para que estado lo use en el sistema de salud  lambayeque gere...  \n9  no le teme los nuevos sabores  lambayeque fiscalía interviene jefe de comisaría incahuasi otros cuatro efectivos por presuntos sobornos  el club estudiantil arrancó los trabajos en su sede pensando en la temporada alex valera jorge murrugarra los nuevos fichajes dijeron presente en la sesión  go...  "
     },
     "execution_count": 32,
     "metadata": {},
     "output_type": "execute_result"
    }
   ],
   "source": [
    "data_corpus = df_clean.groupby(\"newspaper\")[\"text_clean\"].apply(' '.join).reset_index()\n",
    "data_corpus.head(15)"
   ]
  },
  {
   "cell_type": "code",
   "execution_count": 33,
   "metadata": {},
   "outputs": [],
   "source": [
    "data_corpus = data_corpus.set_index('newspaper')"
   ]
  },
  {
   "cell_type": "code",
   "execution_count": 34,
   "metadata": {},
   "outputs": [],
   "source": [
    "data_corpus.to_pickle(f'{BASE_DIR}/data/processed/corpus.pkl')"
   ]
  },
  {
   "cell_type": "markdown",
   "metadata": {},
   "source": [
    "### Document-Term Matrix\n",
    "\n",
    "From the corpus constructed in the step above I'll proceed to tokenizethe text to use with further techniques. For that I'll use scikit-learn's `CountVectorizer`, where every row represents a document and each column is a different row.\n",
    "\n",
    "I'll also remove stop words."
   ]
  },
  {
   "cell_type": "code",
   "execution_count": 4,
   "metadata": {},
   "outputs": [],
   "source": [
    "import spacy\n",
    "nlp = spacy.load('es_core_news_sm')"
   ]
  },
  {
   "cell_type": "code",
   "execution_count": 10,
   "metadata": {},
   "outputs": [],
   "source": [
    "def normalize_text(text):\n",
    "    doc = nlp(text)\n",
    "    words = [t.orth_ for t in doc if not t.is_punct | t.is_stop | t.is_space]\n",
    "\n",
    "    return words\n",
    "\n",
    "normalize = lambda x: normalize_text(x)"
   ]
  },
  {
   "cell_type": "code",
   "execution_count": 9,
   "metadata": {},
   "outputs": [],
   "source": [
    "data_dtm = pd.read_pickle(f'{BASE_DIR}/data/processed/corpus.pkl')"
   ]
  },
  {
   "cell_type": "code",
   "execution_count": 11,
   "metadata": {},
   "outputs": [
    {
     "data": {
      "text/plain": "newspaper\nDiarioElPeruano    [conoce, actividades, virtuales, desarrollarán, aniversario, lima, transmitido, facebook, youtube, ministra, defensa, nuria, esparch, resalta, presencia, mujeres, misiones, paz, ops, alerta, variante, expande, latinoamérica, crisis, política, amenaza, futuro, imperio, económico, trump, debemos, ...\nExpresoPeru        [giulliana, loza, keiko, fujimori, realizando, visitas, norte, país, debida, autorización, judicial, médicos, intensivistas, sostienen, lima, metropolitana, debió, calificada, región, nivel, alerta, alto, partido, aston, villa, vs, everton, aplazado, casos, coronavirus, policía, judicial, buscar...\nGestionpe          [depósitos, dólares, soles, convendrá, año, sinovac, defiende, vacuna, datos, decepcionantes, ensayo, brasil, línea, metro, lima, establece, horario, ampliación, toque, queda, alemania, temen, variante, británica, covid, multiplicar, diez, incidencia, geely, foxconn, crean, alianza, fabricar, ve...\ndiariocorreo       [san, borja, minsa, lanzan, farmacia, servicio, delivery, población, vulnerable, médicos, essalud, extirpan, tumor, kilo, salvan, niño, arequipeño, años, video, hombre, años, murió, cobrar, pensión, banco, huancayo, jne, declara, infundada, apelación, apra, inscripción, listas, parlamentarias, r...\ndiarioojo          [octogenario, muere, cobrar, pensión, banco, junín, luciana, fuster, celebra, cumpleaños, yate, marc, anthony, invitado, honor, video, mujer, acusada, asesinar, esposo, apuñaló, video, gigi, mitre, enfrenta, tentación, poquito, conscientes, responsables, video, san, borja, minsa, lanzan, farmaci...\nelcomercio_peru    [keiko, fujimori, llena, ilusión, energía, empezado, caminar, llegar, país, línea, metro, lima, horario, ampliación, toque, queda, policía, militares, eeuu, enfrentan, enemigos, internos, autos, antiguos, calles, limeñas, sporting, cristal, oficializó, regreso, jesús, pretell, temporada, real, m...\nlarazon_pe         [premier, violeta, bermúdez, empezará, campaña, informativa, importancia, vacunación, personas, temor, creen, exministro, salud, lamentó, titular, minsa, inducir, presidente, estrategias, claras, juez, juzgado, investigación, preparatoria, agustino, dispuso, ubicación, captura, ricardo, josé, be...\nlarepublica_pe     [rt, deporteslr, sportboys, anunció, miembros, plantel, positivo, comunicado, rosados, informaron, rt, deporteslr, puma, carranza, refirió, marcha, hohberg, sporting, cristal, histórico, capitán, habló, acerca, onu, mundo, dirige, calentamiento, catastrófico, siglo, organización, naciones, unida...\nperu21noticias     [registra, mamá, oso, anteojos, cría, paseando, áreas, machu, picchu, cusco, video, arturo, vidal, puso, emotivo, despedir, reinaldo, rueda, selección, chile, george, forsyth, rechaza, dinero, publicidad, electoral, use, sistema, salud, lambayeque, geresa, sugiere, prohibir, ingreso, menores, ed...\ntromepe            [teme, sabores, lambayeque, fiscalía, interviene, jefe, comisaría, incahuasi, efectivos, presuntos, sobornos, club, estudiantil, arrancó, trabajos, sede, pensando, temporada, alex, valera, jorge, murrugarra, fichajes, presente, sesión, gobernador, ayacucho, propone, extranjeros, cometan, delitos...\nName: doc, dtype: object"
     },
     "execution_count": 11,
     "metadata": {},
     "output_type": "execute_result"
    }
   ],
   "source": [
    "data_dtm[\"doc\"] = data_dtm[\"text_clean\"].apply(normalize)\n",
    "data_dtm[\"doc\"]"
   ]
  },
  {
   "cell_type": "code",
   "execution_count": 13,
   "metadata": {},
   "outputs": [
    {
     "data": {
      "text/html": "<div>\n<style scoped>\n    .dataframe tbody tr th:only-of-type {\n        vertical-align: middle;\n    }\n\n    .dataframe tbody tr th {\n        vertical-align: top;\n    }\n\n    .dataframe thead th {\n        text-align: right;\n    }\n</style>\n<table border=\"1\" class=\"dataframe\">\n  <thead>\n    <tr style=\"text-align: right;\">\n      <th></th>\n      <th>text_clean</th>\n      <th>doc</th>\n    </tr>\n    <tr>\n      <th>newspaper</th>\n      <th></th>\n      <th></th>\n    </tr>\n  </thead>\n  <tbody>\n    <tr>\n      <th>DiarioElPeruano</th>\n      <td>conoce las actividades virtuales que se desarrollarán por el aniversario de lima será transmitido por facebook youtube  ministra de defensa nuria esparch resalta la presencia cada vez mayor de mujeres en misiones de paz  ops alerta que la variante del se expande en latinoamérica  crisis política...</td>\n      <td>[conoce, actividades, virtuales, desarrollarán, aniversario, lima, transmitido, facebook, youtube, ministra, defensa, nuria, esparch, resalta, presencia, mujeres, misiones, paz, ops, alerta, variante, expande, latinoamérica, crisis, política, amenaza, futuro, imperio, económico, trump, debemos, ...</td>\n    </tr>\n    <tr>\n      <th>ExpresoPeru</th>\n      <td>giulliana loza keiko fujimori está realizando visitas al norte del país con la debida autorización judicial  médicos intensivistas sostienen que lima metropolitana debió ser calificada como una región con un nivel de alerta muy alto  partido entre aston villa vs everton fue aplazado por casos de...</td>\n      <td>[giulliana, loza, keiko, fujimori, realizando, visitas, norte, país, debida, autorización, judicial, médicos, intensivistas, sostienen, lima, metropolitana, debió, calificada, región, nivel, alerta, alto, partido, aston, villa, vs, everton, aplazado, casos, coronavirus, policía, judicial, buscar...</td>\n    </tr>\n    <tr>\n      <th>Gestionpe</th>\n      <td>depósitos en dólares en soles qué convendrá más este año  sinovac defiende su vacuna tras datos decepcionantes de ensayo en brasil  línea del metro de lima establece nuevo horario ante ampliación del toque de queda  en alemania temen que variante británica del covid pueda multiplicar por diez la...</td>\n      <td>[depósitos, dólares, soles, convendrá, año, sinovac, defiende, vacuna, datos, decepcionantes, ensayo, brasil, línea, metro, lima, establece, horario, ampliación, toque, queda, alemania, temen, variante, británica, covid, multiplicar, diez, incidencia, geely, foxconn, crean, alianza, fabricar, ve...</td>\n    </tr>\n    <tr>\n      <th>diariocorreo</th>\n      <td>san borja minsa lanzan farmacia con servicio delivery para población vulnerable  médicos de essalud extirpan tumor de un kilo salvan niño arequipeño de años video   hombre de años murió después de cobrar su pensión en un banco de huancayo   jne declara infundada apelación del apra para inscripci...</td>\n      <td>[san, borja, minsa, lanzan, farmacia, servicio, delivery, población, vulnerable, médicos, essalud, extirpan, tumor, kilo, salvan, niño, arequipeño, años, video, hombre, años, murió, cobrar, pensión, banco, huancayo, jne, declara, infundada, apelación, apra, inscripción, listas, parlamentarias, r...</td>\n    </tr>\n    <tr>\n      <th>diarioojo</th>\n      <td>octogenario muere después de cobrar su pensión en un banco de junín  luciana fuster celebra su cumpleaños en yate de marc anthony el invitado de honor video  mujer acusada de asesinar su esposo él se apuñaló solo video  gigi mitre enfrenta son tentación hay que ser un poquito más conscientes res...</td>\n      <td>[octogenario, muere, cobrar, pensión, banco, junín, luciana, fuster, celebra, cumpleaños, yate, marc, anthony, invitado, honor, video, mujer, acusada, asesinar, esposo, apuñaló, video, gigi, mitre, enfrenta, tentación, poquito, conscientes, responsables, video, san, borja, minsa, lanzan, farmaci...</td>\n    </tr>\n    <tr>\n      <th>elcomercio_peru</th>\n      <td>keiko fujimori me llena de ilusión energía haber empezado caminar para llegar todo nuestro país  línea del metro de lima nuevo horario ante ampliación del toque de queda  la policía los militares de eeuu se enfrentan un enemigos internos  autos antiguos en las calles limeñas  sporting cristal of...</td>\n      <td>[keiko, fujimori, llena, ilusión, energía, empezado, caminar, llegar, país, línea, metro, lima, horario, ampliación, toque, queda, policía, militares, eeuu, enfrentan, enemigos, internos, autos, antiguos, calles, limeñas, sporting, cristal, oficializó, regreso, jesús, pretell, temporada, real, m...</td>\n    </tr>\n    <tr>\n      <th>larazon_pe</th>\n      <td>la premier violeta bermúdez dijo que se empezará una campaña informativa sobre la importancia de la vacunación ya que muchas personas tienen temor no creen  el exministro de salud lamentó que la titular del minsa no pueda inducir al presidente estrategias mucho más claras  juez del primer juzgad...</td>\n      <td>[premier, violeta, bermúdez, empezará, campaña, informativa, importancia, vacunación, personas, temor, creen, exministro, salud, lamentó, titular, minsa, inducir, presidente, estrategias, claras, juez, juzgado, investigación, preparatoria, agustino, dispuso, ubicación, captura, ricardo, josé, be...</td>\n    </tr>\n    <tr>\n      <th>larepublica_pe</th>\n      <td>rt deporteslr sportboys anunció que seis miembros del plantel dieron positivo  través de un comunicado rosados informaron rt deporteslr el puma carranza se refirió la marcha de hohberg sporting cristal el histórico capitán de la habló acerca del te onu el mundo se dirige hacia un calentamiento c...</td>\n      <td>[rt, deporteslr, sportboys, anunció, miembros, plantel, positivo, comunicado, rosados, informaron, rt, deporteslr, puma, carranza, refirió, marcha, hohberg, sporting, cristal, histórico, capitán, habló, acerca, onu, mundo, dirige, calentamiento, catastrófico, siglo, organización, naciones, unida...</td>\n    </tr>\n    <tr>\n      <th>peru21noticias</th>\n      <td>se registra mamá oso de anteojos su cría paseando por las áreas de machu picchu en cusco video  arturo vidal se puso emotivo para despedir reinaldo rueda de la selección de chile  george forsyth rechaza dinero de publicidad electoral para que estado lo use en el sistema de salud  lambayeque gere...</td>\n      <td>[registra, mamá, oso, anteojos, cría, paseando, áreas, machu, picchu, cusco, video, arturo, vidal, puso, emotivo, despedir, reinaldo, rueda, selección, chile, george, forsyth, rechaza, dinero, publicidad, electoral, use, sistema, salud, lambayeque, geresa, sugiere, prohibir, ingreso, menores, ed...</td>\n    </tr>\n    <tr>\n      <th>tromepe</th>\n      <td>no le teme los nuevos sabores  lambayeque fiscalía interviene jefe de comisaría incahuasi otros cuatro efectivos por presuntos sobornos  el club estudiantil arrancó los trabajos en su sede pensando en la temporada alex valera jorge murrugarra los nuevos fichajes dijeron presente en la sesión  go...</td>\n      <td>[teme, sabores, lambayeque, fiscalía, interviene, jefe, comisaría, incahuasi, efectivos, presuntos, sobornos, club, estudiantil, arrancó, trabajos, sede, pensando, temporada, alex, valera, jorge, murrugarra, fichajes, presente, sesión, gobernador, ayacucho, propone, extranjeros, cometan, delitos...</td>\n    </tr>\n  </tbody>\n</table>\n</div>",
      "text/plain": "                                                                                                                                                                                                                                                                                                                  text_clean  \\\nnewspaper                                                                                                                                                                                                                                                                                                                      \nDiarioElPeruano  conoce las actividades virtuales que se desarrollarán por el aniversario de lima será transmitido por facebook youtube  ministra de defensa nuria esparch resalta la presencia cada vez mayor de mujeres en misiones de paz  ops alerta que la variante del se expande en latinoamérica  crisis política...   \nExpresoPeru      giulliana loza keiko fujimori está realizando visitas al norte del país con la debida autorización judicial  médicos intensivistas sostienen que lima metropolitana debió ser calificada como una región con un nivel de alerta muy alto  partido entre aston villa vs everton fue aplazado por casos de...   \nGestionpe        depósitos en dólares en soles qué convendrá más este año  sinovac defiende su vacuna tras datos decepcionantes de ensayo en brasil  línea del metro de lima establece nuevo horario ante ampliación del toque de queda  en alemania temen que variante británica del covid pueda multiplicar por diez la...   \ndiariocorreo     san borja minsa lanzan farmacia con servicio delivery para población vulnerable  médicos de essalud extirpan tumor de un kilo salvan niño arequipeño de años video   hombre de años murió después de cobrar su pensión en un banco de huancayo   jne declara infundada apelación del apra para inscripci...   \ndiarioojo        octogenario muere después de cobrar su pensión en un banco de junín  luciana fuster celebra su cumpleaños en yate de marc anthony el invitado de honor video  mujer acusada de asesinar su esposo él se apuñaló solo video  gigi mitre enfrenta son tentación hay que ser un poquito más conscientes res...   \nelcomercio_peru  keiko fujimori me llena de ilusión energía haber empezado caminar para llegar todo nuestro país  línea del metro de lima nuevo horario ante ampliación del toque de queda  la policía los militares de eeuu se enfrentan un enemigos internos  autos antiguos en las calles limeñas  sporting cristal of...   \nlarazon_pe       la premier violeta bermúdez dijo que se empezará una campaña informativa sobre la importancia de la vacunación ya que muchas personas tienen temor no creen  el exministro de salud lamentó que la titular del minsa no pueda inducir al presidente estrategias mucho más claras  juez del primer juzgad...   \nlarepublica_pe   rt deporteslr sportboys anunció que seis miembros del plantel dieron positivo  través de un comunicado rosados informaron rt deporteslr el puma carranza se refirió la marcha de hohberg sporting cristal el histórico capitán de la habló acerca del te onu el mundo se dirige hacia un calentamiento c...   \nperu21noticias   se registra mamá oso de anteojos su cría paseando por las áreas de machu picchu en cusco video  arturo vidal se puso emotivo para despedir reinaldo rueda de la selección de chile  george forsyth rechaza dinero de publicidad electoral para que estado lo use en el sistema de salud  lambayeque gere...   \ntromepe          no le teme los nuevos sabores  lambayeque fiscalía interviene jefe de comisaría incahuasi otros cuatro efectivos por presuntos sobornos  el club estudiantil arrancó los trabajos en su sede pensando en la temporada alex valera jorge murrugarra los nuevos fichajes dijeron presente en la sesión  go...   \n\n                                                                                                                                                                                                                                                                                                                         doc  \nnewspaper                                                                                                                                                                                                                                                                                                                     \nDiarioElPeruano  [conoce, actividades, virtuales, desarrollarán, aniversario, lima, transmitido, facebook, youtube, ministra, defensa, nuria, esparch, resalta, presencia, mujeres, misiones, paz, ops, alerta, variante, expande, latinoamérica, crisis, política, amenaza, futuro, imperio, económico, trump, debemos, ...  \nExpresoPeru      [giulliana, loza, keiko, fujimori, realizando, visitas, norte, país, debida, autorización, judicial, médicos, intensivistas, sostienen, lima, metropolitana, debió, calificada, región, nivel, alerta, alto, partido, aston, villa, vs, everton, aplazado, casos, coronavirus, policía, judicial, buscar...  \nGestionpe        [depósitos, dólares, soles, convendrá, año, sinovac, defiende, vacuna, datos, decepcionantes, ensayo, brasil, línea, metro, lima, establece, horario, ampliación, toque, queda, alemania, temen, variante, británica, covid, multiplicar, diez, incidencia, geely, foxconn, crean, alianza, fabricar, ve...  \ndiariocorreo     [san, borja, minsa, lanzan, farmacia, servicio, delivery, población, vulnerable, médicos, essalud, extirpan, tumor, kilo, salvan, niño, arequipeño, años, video, hombre, años, murió, cobrar, pensión, banco, huancayo, jne, declara, infundada, apelación, apra, inscripción, listas, parlamentarias, r...  \ndiarioojo        [octogenario, muere, cobrar, pensión, banco, junín, luciana, fuster, celebra, cumpleaños, yate, marc, anthony, invitado, honor, video, mujer, acusada, asesinar, esposo, apuñaló, video, gigi, mitre, enfrenta, tentación, poquito, conscientes, responsables, video, san, borja, minsa, lanzan, farmaci...  \nelcomercio_peru  [keiko, fujimori, llena, ilusión, energía, empezado, caminar, llegar, país, línea, metro, lima, horario, ampliación, toque, queda, policía, militares, eeuu, enfrentan, enemigos, internos, autos, antiguos, calles, limeñas, sporting, cristal, oficializó, regreso, jesús, pretell, temporada, real, m...  \nlarazon_pe       [premier, violeta, bermúdez, empezará, campaña, informativa, importancia, vacunación, personas, temor, creen, exministro, salud, lamentó, titular, minsa, inducir, presidente, estrategias, claras, juez, juzgado, investigación, preparatoria, agustino, dispuso, ubicación, captura, ricardo, josé, be...  \nlarepublica_pe   [rt, deporteslr, sportboys, anunció, miembros, plantel, positivo, comunicado, rosados, informaron, rt, deporteslr, puma, carranza, refirió, marcha, hohberg, sporting, cristal, histórico, capitán, habló, acerca, onu, mundo, dirige, calentamiento, catastrófico, siglo, organización, naciones, unida...  \nperu21noticias   [registra, mamá, oso, anteojos, cría, paseando, áreas, machu, picchu, cusco, video, arturo, vidal, puso, emotivo, despedir, reinaldo, rueda, selección, chile, george, forsyth, rechaza, dinero, publicidad, electoral, use, sistema, salud, lambayeque, geresa, sugiere, prohibir, ingreso, menores, ed...  \ntromepe          [teme, sabores, lambayeque, fiscalía, interviene, jefe, comisaría, incahuasi, efectivos, presuntos, sobornos, club, estudiantil, arrancó, trabajos, sede, pensando, temporada, alex, valera, jorge, murrugarra, fichajes, presente, sesión, gobernador, ayacucho, propone, extranjeros, cometan, delitos...  "
     },
     "execution_count": 13,
     "metadata": {},
     "output_type": "execute_result"
    }
   ],
   "source": [
    "data_dtm"
   ]
  },
  {
   "cell_type": "code",
   "execution_count": 62,
   "metadata": {},
   "outputs": [
    {
     "data": {
      "text/html": "<div>\n<style scoped>\n    .dataframe tbody tr th:only-of-type {\n        vertical-align: middle;\n    }\n\n    .dataframe tbody tr th {\n        vertical-align: top;\n    }\n\n    .dataframe thead th {\n        text-align: right;\n    }\n</style>\n<table border=\"1\" class=\"dataframe\">\n  <thead>\n    <tr style=\"text-align: right;\">\n      <th></th>\n      <th>giulliana</th>\n      <th>loza</th>\n      <th>keiko</th>\n      <th>fujimori</th>\n      <th>realizando</th>\n      <th>visitas</th>\n      <th>norte</th>\n      <th>país</th>\n      <th>debida</th>\n      <th>autorización</th>\n      <th>...</th>\n      <th>estrictamente</th>\n      <th>esté</th>\n      <th>desactivación</th>\n      <th>terna</th>\n      <th>stephanie</th>\n      <th>frappart</th>\n      <th>vandálicos</th>\n      <th>american</th>\n      <th>airlines</th>\n      <th>ensaya</th>\n    </tr>\n  </thead>\n  <tbody>\n    <tr>\n      <th>ExpresoPeru</th>\n      <td>2</td>\n      <td>2</td>\n      <td>8</td>\n      <td>9</td>\n      <td>1</td>\n      <td>1</td>\n      <td>11</td>\n      <td>52</td>\n      <td>1</td>\n      <td>4</td>\n      <td>...</td>\n      <td>1</td>\n      <td>1</td>\n      <td>1</td>\n      <td>1</td>\n      <td>1</td>\n      <td>1</td>\n      <td>1</td>\n      <td>1</td>\n      <td>1</td>\n      <td>1</td>\n    </tr>\n  </tbody>\n</table>\n<p>1 rows × 6446 columns</p>\n</div>",
      "text/plain": "             giulliana  loza  keiko  fujimori  realizando  visitas  norte  \\\nExpresoPeru          2     2      8         9           1        1     11   \n\n             país  debida  autorización  ...  estrictamente  esté  \\\nExpresoPeru    52       1             4  ...              1     1   \n\n             desactivación  terna  stephanie  frappart  vandálicos  american  \\\nExpresoPeru              1      1          1         1           1         1   \n\n             airlines  ensaya  \nExpresoPeru         1       1  \n\n[1 rows x 6446 columns]"
     },
     "execution_count": 62,
     "metadata": {},
     "output_type": "execute_result"
    }
   ],
   "source": [
    "from collections import Counter\n",
    "\n",
    "frecuency_df = []\n",
    "\n",
    "for i in range(10):\n",
    "    df = pd.DataFrame.from_dict(Counter(data_dtm.doc.loc[i]), orient='index', columns=[data_dtm.newspaper.loc[i]], dtype=np.int64).T\n",
    "    frecuency_df.append(df)\n",
    "\n",
    "frecuency_df[1]"
   ]
  },
  {
   "cell_type": "code",
   "execution_count": 66,
   "metadata": {},
   "outputs": [
    {
     "data": {
      "text/html": "<div>\n<style scoped>\n    .dataframe tbody tr th:only-of-type {\n        vertical-align: middle;\n    }\n\n    .dataframe tbody tr th {\n        vertical-align: top;\n    }\n\n    .dataframe thead th {\n        text-align: right;\n    }\n</style>\n<table border=\"1\" class=\"dataframe\">\n  <thead>\n    <tr style=\"text-align: right;\">\n      <th></th>\n      <th>conoce</th>\n      <th>actividades</th>\n      <th>virtuales</th>\n      <th>desarrollarán</th>\n      <th>aniversario</th>\n      <th>lima</th>\n      <th>transmitido</th>\n      <th>facebook</th>\n      <th>youtube</th>\n      <th>ministra</th>\n      <th>...</th>\n      <th>plata</th>\n      <th>reniec</th>\n      <th>vencido</th>\n      <th>usarse</th>\n      <th>junio</th>\n      <th>raparle</th>\n      <th>enterarse</th>\n      <th>nieta</th>\n      <th>electrónica</th>\n      <th>lograron</th>\n    </tr>\n  </thead>\n  <tbody>\n    <tr>\n      <th>DiarioElPeruano</th>\n      <td>18.0</td>\n      <td>26.0</td>\n      <td>7.0</td>\n      <td>2.0</td>\n      <td>9.0</td>\n      <td>95.0</td>\n      <td>1.0</td>\n      <td>3.0</td>\n      <td>2.0</td>\n      <td>47.0</td>\n      <td>...</td>\n      <td>0.0</td>\n      <td>0.0</td>\n      <td>0.0</td>\n      <td>0.0</td>\n      <td>0.0</td>\n      <td>0.0</td>\n      <td>0.0</td>\n      <td>0.0</td>\n      <td>0.0</td>\n      <td>0.0</td>\n    </tr>\n    <tr>\n      <th>ExpresoPeru</th>\n      <td>0.0</td>\n      <td>0.0</td>\n      <td>0.0</td>\n      <td>0.0</td>\n      <td>0.0</td>\n      <td>0.0</td>\n      <td>0.0</td>\n      <td>0.0</td>\n      <td>0.0</td>\n      <td>0.0</td>\n      <td>...</td>\n      <td>0.0</td>\n      <td>0.0</td>\n      <td>0.0</td>\n      <td>0.0</td>\n      <td>0.0</td>\n      <td>0.0</td>\n      <td>0.0</td>\n      <td>0.0</td>\n      <td>0.0</td>\n      <td>0.0</td>\n    </tr>\n    <tr>\n      <th>Gestionpe</th>\n      <td>0.0</td>\n      <td>0.0</td>\n      <td>0.0</td>\n      <td>0.0</td>\n      <td>0.0</td>\n      <td>0.0</td>\n      <td>0.0</td>\n      <td>0.0</td>\n      <td>0.0</td>\n      <td>0.0</td>\n      <td>...</td>\n      <td>0.0</td>\n      <td>0.0</td>\n      <td>0.0</td>\n      <td>0.0</td>\n      <td>0.0</td>\n      <td>0.0</td>\n      <td>0.0</td>\n      <td>0.0</td>\n      <td>0.0</td>\n      <td>0.0</td>\n    </tr>\n    <tr>\n      <th>diariocorreo</th>\n      <td>0.0</td>\n      <td>0.0</td>\n      <td>0.0</td>\n      <td>0.0</td>\n      <td>0.0</td>\n      <td>0.0</td>\n      <td>0.0</td>\n      <td>0.0</td>\n      <td>0.0</td>\n      <td>0.0</td>\n      <td>...</td>\n      <td>0.0</td>\n      <td>0.0</td>\n      <td>0.0</td>\n      <td>0.0</td>\n      <td>0.0</td>\n      <td>0.0</td>\n      <td>0.0</td>\n      <td>0.0</td>\n      <td>0.0</td>\n      <td>0.0</td>\n    </tr>\n    <tr>\n      <th>diarioojo</th>\n      <td>0.0</td>\n      <td>0.0</td>\n      <td>0.0</td>\n      <td>0.0</td>\n      <td>0.0</td>\n      <td>0.0</td>\n      <td>0.0</td>\n      <td>0.0</td>\n      <td>0.0</td>\n      <td>0.0</td>\n      <td>...</td>\n      <td>0.0</td>\n      <td>0.0</td>\n      <td>0.0</td>\n      <td>0.0</td>\n      <td>0.0</td>\n      <td>0.0</td>\n      <td>0.0</td>\n      <td>0.0</td>\n      <td>0.0</td>\n      <td>0.0</td>\n    </tr>\n    <tr>\n      <th>elcomercio_peru</th>\n      <td>0.0</td>\n      <td>0.0</td>\n      <td>0.0</td>\n      <td>0.0</td>\n      <td>0.0</td>\n      <td>0.0</td>\n      <td>0.0</td>\n      <td>0.0</td>\n      <td>0.0</td>\n      <td>0.0</td>\n      <td>...</td>\n      <td>0.0</td>\n      <td>0.0</td>\n      <td>0.0</td>\n      <td>0.0</td>\n      <td>0.0</td>\n      <td>0.0</td>\n      <td>0.0</td>\n      <td>0.0</td>\n      <td>0.0</td>\n      <td>0.0</td>\n    </tr>\n    <tr>\n      <th>larazon_pe</th>\n      <td>0.0</td>\n      <td>0.0</td>\n      <td>0.0</td>\n      <td>0.0</td>\n      <td>0.0</td>\n      <td>0.0</td>\n      <td>0.0</td>\n      <td>0.0</td>\n      <td>0.0</td>\n      <td>0.0</td>\n      <td>...</td>\n      <td>0.0</td>\n      <td>0.0</td>\n      <td>0.0</td>\n      <td>0.0</td>\n      <td>0.0</td>\n      <td>0.0</td>\n      <td>0.0</td>\n      <td>0.0</td>\n      <td>0.0</td>\n      <td>0.0</td>\n    </tr>\n    <tr>\n      <th>larepublica_pe</th>\n      <td>0.0</td>\n      <td>0.0</td>\n      <td>0.0</td>\n      <td>0.0</td>\n      <td>0.0</td>\n      <td>0.0</td>\n      <td>0.0</td>\n      <td>0.0</td>\n      <td>0.0</td>\n      <td>0.0</td>\n      <td>...</td>\n      <td>0.0</td>\n      <td>0.0</td>\n      <td>0.0</td>\n      <td>0.0</td>\n      <td>0.0</td>\n      <td>0.0</td>\n      <td>0.0</td>\n      <td>0.0</td>\n      <td>0.0</td>\n      <td>0.0</td>\n    </tr>\n    <tr>\n      <th>peru21noticias</th>\n      <td>0.0</td>\n      <td>0.0</td>\n      <td>0.0</td>\n      <td>0.0</td>\n      <td>0.0</td>\n      <td>0.0</td>\n      <td>0.0</td>\n      <td>0.0</td>\n      <td>0.0</td>\n      <td>0.0</td>\n      <td>...</td>\n      <td>0.0</td>\n      <td>0.0</td>\n      <td>0.0</td>\n      <td>0.0</td>\n      <td>0.0</td>\n      <td>0.0</td>\n      <td>0.0</td>\n      <td>0.0</td>\n      <td>0.0</td>\n      <td>0.0</td>\n    </tr>\n    <tr>\n      <th>tromepe</th>\n      <td>0.0</td>\n      <td>0.0</td>\n      <td>0.0</td>\n      <td>0.0</td>\n      <td>0.0</td>\n      <td>0.0</td>\n      <td>0.0</td>\n      <td>0.0</td>\n      <td>0.0</td>\n      <td>0.0</td>\n      <td>...</td>\n      <td>1.0</td>\n      <td>1.0</td>\n      <td>1.0</td>\n      <td>1.0</td>\n      <td>1.0</td>\n      <td>1.0</td>\n      <td>1.0</td>\n      <td>1.0</td>\n      <td>1.0</td>\n      <td>1.0</td>\n    </tr>\n  </tbody>\n</table>\n<p>10 rows × 55362 columns</p>\n</div>",
      "text/plain": "                 conoce  actividades  virtuales  desarrollarán  aniversario  \\\nDiarioElPeruano    18.0         26.0        7.0            2.0          9.0   \nExpresoPeru         0.0          0.0        0.0            0.0          0.0   \nGestionpe           0.0          0.0        0.0            0.0          0.0   \ndiariocorreo        0.0          0.0        0.0            0.0          0.0   \ndiarioojo           0.0          0.0        0.0            0.0          0.0   \nelcomercio_peru     0.0          0.0        0.0            0.0          0.0   \nlarazon_pe          0.0          0.0        0.0            0.0          0.0   \nlarepublica_pe      0.0          0.0        0.0            0.0          0.0   \nperu21noticias      0.0          0.0        0.0            0.0          0.0   \ntromepe             0.0          0.0        0.0            0.0          0.0   \n\n                 lima  transmitido  facebook  youtube  ministra  ...  plata  \\\nDiarioElPeruano  95.0          1.0       3.0      2.0      47.0  ...    0.0   \nExpresoPeru       0.0          0.0       0.0      0.0       0.0  ...    0.0   \nGestionpe         0.0          0.0       0.0      0.0       0.0  ...    0.0   \ndiariocorreo      0.0          0.0       0.0      0.0       0.0  ...    0.0   \ndiarioojo         0.0          0.0       0.0      0.0       0.0  ...    0.0   \nelcomercio_peru   0.0          0.0       0.0      0.0       0.0  ...    0.0   \nlarazon_pe        0.0          0.0       0.0      0.0       0.0  ...    0.0   \nlarepublica_pe    0.0          0.0       0.0      0.0       0.0  ...    0.0   \nperu21noticias    0.0          0.0       0.0      0.0       0.0  ...    0.0   \ntromepe           0.0          0.0       0.0      0.0       0.0  ...    1.0   \n\n                 reniec  vencido  usarse  junio  raparle  enterarse  nieta  \\\nDiarioElPeruano     0.0      0.0     0.0    0.0      0.0        0.0    0.0   \nExpresoPeru         0.0      0.0     0.0    0.0      0.0        0.0    0.0   \nGestionpe           0.0      0.0     0.0    0.0      0.0        0.0    0.0   \ndiariocorreo        0.0      0.0     0.0    0.0      0.0        0.0    0.0   \ndiarioojo           0.0      0.0     0.0    0.0      0.0        0.0    0.0   \nelcomercio_peru     0.0      0.0     0.0    0.0      0.0        0.0    0.0   \nlarazon_pe          0.0      0.0     0.0    0.0      0.0        0.0    0.0   \nlarepublica_pe      0.0      0.0     0.0    0.0      0.0        0.0    0.0   \nperu21noticias      0.0      0.0     0.0    0.0      0.0        0.0    0.0   \ntromepe             1.0      1.0     1.0    1.0      1.0        1.0    1.0   \n\n                 electrónica  lograron  \nDiarioElPeruano          0.0       0.0  \nExpresoPeru              0.0       0.0  \nGestionpe                0.0       0.0  \ndiariocorreo             0.0       0.0  \ndiarioojo                0.0       0.0  \nelcomercio_peru          0.0       0.0  \nlarazon_pe               0.0       0.0  \nlarepublica_pe           0.0       0.0  \nperu21noticias           0.0       0.0  \ntromepe                  1.0       1.0  \n\n[10 rows x 55362 columns]"
     },
     "execution_count": 66,
     "metadata": {},
     "output_type": "execute_result"
    }
   ],
   "source": [
    "dtm = pd.concat(frecuency_df, axis=1).fillna(0)\n",
    "dtm"
   ]
  },
  {
   "cell_type": "code",
   "execution_count": 67,
   "metadata": {},
   "outputs": [],
   "source": [
    "dtm.to_pickle(f'{BASE_DIR}/data/interim/dtm.pkl')"
   ]
  }
 ],
 "metadata": {
  "kernelspec": {
   "display_name": "Python 3",
   "language": "python",
   "name": "python3"
  },
  "language_info": {
   "codemirror_mode": {
    "name": "ipython",
    "version": 3
   },
   "file_extension": ".py",
   "mimetype": "text/x-python",
   "name": "python",
   "nbconvert_exporter": "python",
   "pygments_lexer": "ipython3",
   "version": "3.9.2"
  },
  "orig_nbformat": 2
 },
 "nbformat": 4,
 "nbformat_minor": 2
}