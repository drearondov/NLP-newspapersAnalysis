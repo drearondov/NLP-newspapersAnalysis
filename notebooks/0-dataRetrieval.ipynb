{
 "cells": [
  {
   "cell_type": "markdown",
   "metadata": {},
   "source": [
    "# Data Cleaning\n",
    "\n",
    "## Introduction\n",
    "\n",
    "This notebook goes through the steps taken with the data collected in order to get cleaned organized data in two standard text formats. The notebook will contain the nexts steps.\n",
    "\n",
    "1. **Cleaning the data -** I will use text pre-procesing techniques to get the dta into shape.\n",
    "2. **Organizing the data -** I'l organize the data into a way that is easy to input into other algoithms\n",
    "\n",
    "The output of this notebook will be clean, organized data in two standard text formats:\n",
    "\n",
    "1. **Corpus** - a collection of texts\n",
    "2. **Document-Term Matrix** - words counts in matrix format\n",
    "\n",
    "### Problem Statement\n",
    "\n",
    "My goal is to look look a the latest headlines of the main newspapers in Perú and note simmilarities and differences."
   ]
  },
  {
   "cell_type": "markdown",
   "metadata": {},
   "source": [
    "#### Imports"
   ]
  },
  {
   "cell_type": "code",
   "execution_count": 1,
   "metadata": {},
   "outputs": [],
   "source": [
    "import json\n",
    "import logging\n",
    "import os\n",
    "import sys\n",
    "from datetime import datetime\n",
    "from urllib.parse import urlencode\n",
    "\n",
    "import requests\n",
    "from dotenv import load_dotenv"
   ]
  },
  {
   "cell_type": "markdown",
   "metadata": {},
   "source": [
    "#### Configuration options"
   ]
  },
  {
   "cell_type": "code",
   "execution_count": 2,
   "metadata": {},
   "outputs": [],
   "source": [
    "log_format = \"%(asctime)s - %(name)s - %(levelname)s - %(message)s\"\n",
    "\n",
    "logging.basicConfig(\n",
    "    stream = sys.stdout, \n",
    "    format = log_format, \n",
    "    level = logging.INFO\n",
    ")\n",
    "\n",
    "logger = logging.getLogger()"
   ]
  },
  {
   "cell_type": "markdown",
   "metadata": {},
   "source": [
    "## Getting the data\n",
    "\n",
    "The data was taken from the [Twitter API](https://developer.twitter.com) and the newspaper where selected according to a list found in [Diarios de Perú](http://www.diariosdeperu.com.pe) as well as annecdotal experience. The journals to investigate:\n",
    "\n",
    "| Newspaper | Twitter handle |\n",
    "| ----------- | ----------- |\n",
    "| El Comercio | elcomercio_peru |\n",
    "| La República | larepublica_pe |\n",
    "| Perú 21 | peru21noticias |\n",
    "| Trome | tromepe |\n",
    "| Gestión | Gestionpe |\n",
    "| Diario Correo | diariocorreo |\n",
    "| Diario Expreso | ExpresoPeru |\n",
    "| Diario Ojo | diarioojo |\n",
    "| Diario El Peruano | DiarioElPeruano |\n",
    "| Diario La Razón | larazon_pe |"
   ]
  },
  {
   "cell_type": "code",
   "execution_count": 3,
   "metadata": {},
   "outputs": [],
   "source": [
    "load_dotenv()\n",
    "\n",
    "BASE_DIR = os.environ.get(\"BASE_DIR\")\n",
    "BEARER_TOKEN = os.environ.get(\"BEARER_TOKEN\")"
   ]
  },
  {
   "cell_type": "markdown",
   "metadata": {},
   "source": [
    "### Getting the user ids"
   ]
  },
  {
   "cell_type": "code",
   "execution_count": 4,
   "metadata": {},
   "outputs": [],
   "source": [
    "newspapers = [\n",
    "    \"elcomercio_peru\",\n",
    "    \"larepublica_pe\",\n",
    "    \"peru21noticias\",\n",
    "    \"tromepe\",\n",
    "    \"Gestionpe\",\n",
    "    \"diariocorreo\",\n",
    "    \"ExpresoPeru\",\n",
    "    \"diarioojo\",\n",
    "    \"DiarioElPeruano\",\n",
    "    \"larazon_pe\",\n",
    "    \"elbuho_pe\",\n",
    "    \"ensustrece\"\n",
    "]\n",
    "headers = {\"Authorization\": f\"Bearer {BEARER_TOKEN}\"}"
   ]
  },
  {
   "cell_type": "code",
   "execution_count": 5,
   "metadata": {},
   "outputs": [],
   "source": [
    "newspapers_id = {}\n",
    "\n",
    "for newspaper in newspapers:\n",
    "    username_url = f\"https://api.twitter.com/2/users/by/username/{newspaper}\"\n",
    "    response = requests.get(username_url, headers=headers)\n",
    "\n",
    "    newspapers_id[newspaper] = response.json()[\"data\"][\"id\"]\n",
    "\n",
    "with open(f'{BASE_DIR}/data/raw/newspapers_id.json', 'w') as write_file:\n",
    "    json.dump(newspapers_id, write_file)"
   ]
  },
  {
   "cell_type": "markdown",
   "metadata": {},
   "source": [
    "### Getting tweets from newspapers"
   ]
  },
  {
   "cell_type": "code",
   "execution_count": 5,
   "metadata": {},
   "outputs": [],
   "source": [
    "with open(f'{BASE_DIR}/data/raw/newspapers_id.json', 'r') as read_file:\n",
    "    newspapers_id = json.load(read_file)"
   ]
  },
  {
   "cell_type": "markdown",
   "metadata": {},
   "source": [
    "I'm choosing start time and end time of tweets in order to be able to select tweets from different times and be actively collecting tweets as the months go."
   ]
  },
  {
   "cell_type": "code",
   "execution_count": 6,
   "metadata": {},
   "outputs": [
    {
     "name": "stdout",
     "output_type": "stream",
     "text": [
      "2022-11-21 11:39:28,751 - root - INFO - elcomercio_peru: status code 200\n",
      "2022-11-21 11:39:28,752 - root - INFO - elcomercio_peru: New page\n",
      "2022-11-21 11:39:29,573 - root - INFO - elcomercio_peru: New page\n",
      "2022-11-21 11:39:30,559 - root - INFO - elcomercio_peru: New page\n",
      "2022-11-21 11:39:31,524 - root - INFO - elcomercio_peru: New page\n",
      "2022-11-21 11:39:32,444 - root - INFO - elcomercio_peru: New page\n",
      "2022-11-21 11:39:33,263 - root - INFO - elcomercio_peru: New page\n",
      "2022-11-21 11:39:34,079 - root - INFO - elcomercio_peru: New page\n",
      "2022-11-21 11:39:35,004 - root - INFO - elcomercio_peru: New page\n",
      "2022-11-21 11:39:35,502 - root - INFO - elcomercio_peru: No MORE data found!\n",
      "2022-11-21 11:39:35,526 - root - INFO - elcomercio_peru: Saved!\n",
      "2022-11-21 11:39:36,497 - root - INFO - larepublica_pe: status code 200\n",
      "2022-11-21 11:39:36,499 - root - INFO - larepublica_pe: New page\n",
      "2022-11-21 11:39:37,487 - root - INFO - larepublica_pe: New page\n",
      "2022-11-21 11:39:38,396 - root - INFO - larepublica_pe: New page\n",
      "2022-11-21 11:39:39,285 - root - INFO - larepublica_pe: New page\n",
      "2022-11-21 11:39:40,419 - root - INFO - larepublica_pe: New page\n",
      "2022-11-21 11:39:41,537 - root - INFO - larepublica_pe: New page\n",
      "2022-11-21 11:39:42,474 - root - INFO - larepublica_pe: New page\n",
      "2022-11-21 11:39:43,392 - root - INFO - larepublica_pe: New page\n",
      "2022-11-21 11:39:44,417 - root - INFO - larepublica_pe: New page\n",
      "2022-11-21 11:39:45,342 - root - INFO - larepublica_pe: New page\n",
      "2022-11-21 11:39:46,363 - root - INFO - larepublica_pe: New page\n",
      "2022-11-21 11:39:47,085 - root - INFO - larepublica_pe: No MORE data found!\n",
      "2022-11-21 11:39:47,116 - root - INFO - larepublica_pe: Saved!\n",
      "2022-11-21 11:39:47,876 - root - INFO - peru21noticias: status code 200\n",
      "2022-11-21 11:39:47,878 - root - INFO - peru21noticias: New page\n",
      "2022-11-21 11:39:48,578 - root - INFO - peru21noticias: New page\n",
      "2022-11-21 11:39:49,475 - root - INFO - peru21noticias: New page\n",
      "2022-11-21 11:39:50,324 - root - INFO - peru21noticias: New page\n",
      "2022-11-21 11:39:51,120 - root - INFO - peru21noticias: New page\n",
      "2022-11-21 11:39:52,297 - root - INFO - peru21noticias: New page\n",
      "2022-11-21 11:39:53,027 - root - INFO - peru21noticias: New page\n",
      "2022-11-21 11:39:53,949 - root - INFO - peru21noticias: New page\n",
      "2022-11-21 11:39:54,872 - root - INFO - peru21noticias: New page\n",
      "2022-11-21 11:39:55,648 - root - INFO - peru21noticias: New page\n",
      "2022-11-21 11:39:56,510 - root - INFO - peru21noticias: New page\n",
      "2022-11-21 11:39:57,428 - root - INFO - peru21noticias: New page\n",
      "2022-11-21 11:39:58,246 - root - INFO - peru21noticias: New page\n",
      "2022-11-21 11:39:58,991 - root - INFO - peru21noticias: New page\n",
      "2022-11-21 11:39:59,885 - root - INFO - peru21noticias: No MORE data found!\n",
      "2022-11-21 11:39:59,918 - root - INFO - peru21noticias: Saved!\n",
      "2022-11-21 11:40:00,738 - root - INFO - tromepe: status code 200\n",
      "2022-11-21 11:40:00,739 - root - INFO - tromepe: New page\n",
      "2022-11-21 11:40:01,509 - root - INFO - tromepe: New page\n",
      "2022-11-21 11:40:02,431 - root - INFO - tromepe: New page\n",
      "2022-11-21 11:40:03,297 - root - INFO - tromepe: New page\n",
      "2022-11-21 11:40:04,129 - root - INFO - tromepe: New page\n",
      "2022-11-21 11:40:04,905 - root - INFO - tromepe: New page\n",
      "2022-11-21 11:40:05,929 - root - INFO - tromepe: New page\n",
      "2022-11-21 11:40:06,851 - root - INFO - tromepe: New page\n",
      "2022-11-21 11:40:07,670 - root - INFO - tromepe: New page\n",
      "2022-11-21 11:40:08,490 - root - INFO - tromepe: New page\n",
      "2022-11-21 11:40:09,410 - root - INFO - tromepe: New page\n",
      "2022-11-21 11:40:10,227 - root - INFO - tromepe: New page\n",
      "2022-11-21 11:40:10,684 - root - INFO - tromepe: No MORE data found!\n",
      "2022-11-21 11:40:10,712 - root - INFO - tromepe: Saved!\n",
      "2022-11-21 11:40:11,433 - root - INFO - Gestionpe: status code 200\n",
      "2022-11-21 11:40:11,434 - root - INFO - Gestionpe: New page\n",
      "2022-11-21 11:40:12,209 - root - INFO - Gestionpe: New page\n",
      "2022-11-21 11:40:13,043 - root - INFO - Gestionpe: New page\n",
      "2022-11-21 11:40:13,810 - root - INFO - Gestionpe: New page\n",
      "2022-11-21 11:40:14,539 - root - INFO - Gestionpe: New page\n",
      "2022-11-21 11:40:15,343 - root - INFO - Gestionpe: New page\n",
      "2022-11-21 11:40:16,117 - root - INFO - Gestionpe: New page\n",
      "2022-11-21 11:40:16,883 - root - INFO - Gestionpe: New page\n",
      "2022-11-21 11:40:17,809 - root - INFO - Gestionpe: New page\n",
      "2022-11-21 11:40:18,605 - root - INFO - Gestionpe: New page\n",
      "2022-11-21 11:40:19,475 - root - INFO - Gestionpe: New page\n",
      "2022-11-21 11:40:20,265 - root - INFO - Gestionpe: New page\n",
      "2022-11-21 11:40:21,107 - root - INFO - Gestionpe: New page\n",
      "2022-11-21 11:40:21,902 - root - INFO - Gestionpe: No MORE data found!\n",
      "2022-11-21 11:40:21,934 - root - INFO - Gestionpe: Saved!\n",
      "2022-11-21 11:40:22,672 - root - INFO - diariocorreo: status code 200\n",
      "2022-11-21 11:40:22,673 - root - INFO - diariocorreo: New page\n",
      "2022-11-21 11:40:23,401 - root - INFO - diariocorreo: New page\n",
      "2022-11-21 11:40:24,155 - root - INFO - diariocorreo: New page\n",
      "2022-11-21 11:40:24,975 - root - INFO - diariocorreo: New page\n",
      "2022-11-21 11:40:25,794 - root - INFO - diariocorreo: New page\n",
      "2022-11-21 11:40:26,716 - root - INFO - diariocorreo: New page\n",
      "2022-11-21 11:40:27,442 - root - INFO - diariocorreo: New page\n",
      "2022-11-21 11:40:28,253 - root - INFO - diariocorreo: New page\n",
      "2022-11-21 11:40:28,723 - root - INFO - diariocorreo: No MORE data found!\n",
      "2022-11-21 11:40:28,745 - root - INFO - diariocorreo: Saved!\n",
      "2022-11-21 11:40:29,531 - root - INFO - ExpresoPeru: status code 200\n",
      "2022-11-21 11:40:29,532 - root - INFO - ExpresoPeru: New page\n",
      "2022-11-21 11:40:30,405 - root - INFO - ExpresoPeru: New page\n",
      "2022-11-21 11:40:31,166 - root - INFO - ExpresoPeru: New page\n",
      "2022-11-21 11:40:32,144 - root - INFO - ExpresoPeru: No MORE data found!\n",
      "2022-11-21 11:40:32,154 - root - INFO - ExpresoPeru: Saved!\n",
      "2022-11-21 11:40:32,888 - root - INFO - diarioojo: status code 200\n",
      "2022-11-21 11:40:32,889 - root - INFO - diarioojo: New page\n",
      "2022-11-21 11:40:33,652 - root - INFO - diarioojo: New page\n",
      "2022-11-21 11:40:34,395 - root - INFO - diarioojo: New page\n",
      "2022-11-21 11:40:35,315 - root - INFO - diarioojo: New page\n",
      "2022-11-21 11:40:36,139 - root - INFO - diarioojo: New page\n",
      "2022-11-21 11:40:36,957 - root - INFO - diarioojo: New page\n",
      "2022-11-21 11:40:37,979 - root - INFO - diarioojo: New page\n",
      "2022-11-21 11:40:38,800 - root - INFO - diarioojo: New page\n",
      "2022-11-21 11:40:39,523 - root - INFO - diarioojo: No MORE data found!\n",
      "2022-11-21 11:40:39,546 - root - INFO - diarioojo: Saved!\n",
      "2022-11-21 11:40:40,865 - root - INFO - DiarioElPeruano: status code 200\n",
      "2022-11-21 11:40:40,867 - root - INFO - DiarioElPeruano: New page\n",
      "2022-11-21 11:40:41,962 - root - INFO - DiarioElPeruano: New page\n",
      "2022-11-21 11:40:42,983 - root - INFO - DiarioElPeruano: New page\n",
      "2022-11-21 11:40:43,817 - root - INFO - DiarioElPeruano: No MORE data found!\n",
      "2022-11-21 11:40:43,829 - root - INFO - DiarioElPeruano: Saved!\n",
      "2022-11-21 11:40:44,459 - root - INFO - larazon_pe: status code 200\n",
      "2022-11-21 11:40:44,460 - root - INFO - larazon_pe: New page\n",
      "2022-11-21 11:40:44,955 - root - INFO - larazon_pe: No MORE data found!\n",
      "2022-11-21 11:40:44,960 - root - INFO - larazon_pe: Saved!\n",
      "2022-11-21 11:40:45,713 - root - INFO - elbuho_pe: status code 200\n",
      "2022-11-21 11:40:45,714 - root - INFO - elbuho_pe: New page\n",
      "2022-11-21 11:40:46,493 - root - INFO - elbuho_pe: New page\n",
      "2022-11-21 11:40:47,295 - root - INFO - elbuho_pe: No MORE data found!\n",
      "2022-11-21 11:40:47,303 - root - INFO - elbuho_pe: Saved!\n",
      "2022-11-21 11:40:47,870 - root - INFO - ensustrece: status code 200\n",
      "2022-11-21 11:40:47,871 - root - INFO - ensustrece: No MORE data found!\n",
      "2022-11-21 11:40:47,874 - root - INFO - ensustrece: Saved! FIRST\n"
     ]
    }
   ],
   "source": [
    "for newspaper, newspaper_id in newspapers_id.items():\n",
    "    query = {\n",
    "    \"max_results\": 100,\n",
    "    \"tweet.fields\": \"id,text,created_at,public_metrics,possibly_sensitive,referenced_tweets\",\n",
    "    \"start_time\": \"2022-11-07T00:00:00Z\",\n",
    "    \"end_time\": \"2022-11-14T00:00:00Z\",\n",
    "    }\n",
    "    payload = urlencode(query, safe=\",:\")\n",
    "\n",
    "    DATA_DIR = f\"{BASE_DIR}/data/raw\"\n",
    "    SAVED_DATE = datetime.strptime(query[\"end_time\"][0:10],\"%Y-%m-%d\")\n",
    "    \n",
    "    tweets_url = f\"https://api.twitter.com/2/users/{newspaper_id}/tweets\"\n",
    "    response = requests.get(tweets_url, headers=headers, params=payload)\n",
    "\n",
    "    logger.info(f\"{newspaper}: status code {response.status_code}\")\n",
    "\n",
    "    try:\n",
    "        response_data = response.json()[\"data\"] # List of tweets\n",
    "        response_meta = response.json()[\"meta\"]\n",
    "    except KeyError:\n",
    "        logger.info(f\"{newspaper}: No data found!\")\n",
    "        continue\n",
    "\n",
    "    try:\n",
    "        next_token = response_meta[\"next_token\"]\n",
    "        query[\"pagination_token\"] = next_token\n",
    "        payload = urlencode(query, safe=\",:\")\n",
    "    except KeyError:\n",
    "        logger.info(f\"{newspaper}: No MORE data found!\")\n",
    "\n",
    "        with open(f\"{DATA_DIR}/{SAVED_DATE.isocalendar().year}w{SAVED_DATE.isocalendar().week}_data_{newspaper}.json\", \"w\") as write_file:\n",
    "            json.dump({\"data\": response_data}, write_file)\n",
    "        logging.info(f\"{newspaper}: Saved! FIRST\")\n",
    "        continue\n",
    "\n",
    "    while True:\n",
    "        logger.info(f\"{newspaper}: New page\")\n",
    "        new_response = requests.get(tweets_url, headers=headers, params=payload)\n",
    "\n",
    "        try:\n",
    "            response_data += new_response.json()[\"data\"]\n",
    "            response_meta = new_response.json()[\"meta\"]\n",
    "\n",
    "            next_token = response_meta[\"next_token\"]\n",
    "            query[\"pagination_token\"] = next_token\n",
    "            payload = urlencode(query, safe=\",:\")\n",
    "        except KeyError:\n",
    "            logger.info(f\"{newspaper}: No MORE data found!\")\n",
    "            \n",
    "            with open(f\"{DATA_DIR}/{SAVED_DATE.isocalendar().year}w{SAVED_DATE.isocalendar().week}_data_{newspaper}.json\", \"w\") as write_file:\n",
    "                json.dump({\"data\": response_data}, write_file)\n",
    "                logging.info(f\"{newspaper}: Saved!\")\n",
    "            break\n"
   ]
  }
 ],
 "metadata": {
  "kernelspec": {
   "display_name": "nlp-newspapers",
   "language": "python",
   "name": "python3"
  },
  "language_info": {
   "codemirror_mode": {
    "name": "ipython",
    "version": 3
   },
   "file_extension": ".py",
   "mimetype": "text/x-python",
   "name": "python",
   "nbconvert_exporter": "python",
   "pygments_lexer": "ipython3",
   "version": "3.10.7 (main, Nov  3 2022, 01:13:38) [Clang 14.0.0 (clang-1400.0.29.202)]"
  },
  "orig_nbformat": 2,
  "vscode": {
   "interpreter": {
    "hash": "1aa78d65b0d6fcba87452ddab6b26936b7c5e3a18b9133239393fd7917ebb15f"
   }
  }
 },
 "nbformat": 4,
 "nbformat_minor": 2
}
