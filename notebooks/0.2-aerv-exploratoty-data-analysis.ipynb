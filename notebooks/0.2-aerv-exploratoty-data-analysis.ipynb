{
 "cells": [
  {
   "attachments": {},
   "cell_type": "markdown",
   "metadata": {},
   "source": [
    "# Exploratory Data Analysis\n",
    "\n",
    "## Introduction\n",
    "\n",
    "After cleaning the data we are going to take a look a it. And since we want to know how the information changes across time, we will be looking at tweets from different weeks.\n",
    "\n",
    "1. **Most common words:** Find them and create word clouds. See if anything needs to be removed.\n",
    "2. **Size of vocabulary:** Look at the number of unique words used\n",
    "3. **Engagement metrics across time:** A much insightfull look into the stats obtained during data cleaning.\n"
   ]
  },
  {
   "cell_type": "code",
   "execution_count": 1,
   "metadata": {},
   "outputs": [],
   "source": [
    "import json\n",
    "import numpy as np\n",
    "import os\n",
    "import pandas as pd\n",
    "import plotly.express as px\n",
    "import plotly.io as pio\n",
    "import re\n",
    "import spacy\n",
    "\n",
    "from dash import Dash, dcc, html, Input, Output\n",
    "from dotenv import load_dotenv\n",
    "from itertools import product\n",
    "from jupyter_dash import JupyterDash"
   ]
  },
  {
   "cell_type": "code",
   "execution_count": 2,
   "metadata": {},
   "outputs": [],
   "source": [
    "load_dotenv()\n",
    "\n",
    "BASE_DIR = os.environ.get(\"BASE_DIR\")\n",
    "BEARER_TOKEN = os.environ.get(\"BEARER_TOKEN\")"
   ]
  },
  {
   "cell_type": "code",
   "execution_count": 3,
   "metadata": {},
   "outputs": [],
   "source": [
    "pd.set_option(\"display.max_colwidth\", 300)\n",
    "pd.set_option(\"display.max_rows\", 100)\n",
    "pd.set_option(\"display.max_columns\", 50)\n",
    "pd.set_option(\"display.precision\", 2)\n",
    "pd.set_option(\"display.float_format\",  \"{:,.2f}\".format)\n",
    "\n",
    "pio.templates.default = \"plotly_white\"\n",
    "pio.kaleido.scope.default_scale = 2\n",
    "\n",
    "gruvbox_colors = [\"#fabd2f\", \"#b8bb26\", \"#458588\", \"#fe8019\", \"#b16286\", \"#fb4943\", \"#689d6a\", \"#d79921\", \"#98971a\", \"#83a598\", \"#d65d0e\", \"#d3869b\", \"#cc241d\", \"#8ec07c\", \"#b57614\", \"#79740e\", \"#076678\", \"#af3a03\", \"#8f3f71\", \"#9d0006\", \"#4d7b58\", \"#fbf1c7\", \"#928374\", \"#282828\"]"
   ]
  },
  {
   "cell_type": "code",
   "execution_count": 4,
   "metadata": {},
   "outputs": [],
   "source": [
    "TIME_STAMPS = [(2022, 35), (2022, 40), (2022, 45), (2022, 50), (2023, 3)]"
   ]
  },
  {
   "attachments": {},
   "cell_type": "markdown",
   "metadata": {},
   "source": [
    "### Data Loading\n",
    "\n",
    "There are three documents that I want to load. The corpus frame, document term matrix and clean data."
   ]
  },
  {
   "cell_type": "code",
   "execution_count": 5,
   "metadata": {},
   "outputs": [],
   "source": [
    "corpus = pd.read_feather(f\"{BASE_DIR}/data/processed/corpus-{TIME_STAMPS[0]}-{TIME_STAMPS[-1]}.feather\")\n",
    "dtm = pd.read_feather(f\"{BASE_DIR}/data/processed/dtm-{TIME_STAMPS[0]}-{TIME_STAMPS[-1]}.feather\")\n",
    "data_dtm = pd.read_feather(f\"{BASE_DIR}/data/processed/data-dtm-{TIME_STAMPS[0]}-{TIME_STAMPS[-1]}.feather\")\n",
    "stats_data = pd.read_feather(f\"{BASE_DIR}/data/processed/stats_data-{TIME_STAMPS[0]}-{TIME_STAMPS[-1]}.feather\")\n",
    "top30_df = pd.read_feather(f\"{BASE_DIR}/data/processed/top30_df-{TIME_STAMPS[0]}-{TIME_STAMPS[-1]}.feather\")"
   ]
  },
  {
   "cell_type": "code",
   "execution_count": 6,
   "metadata": {},
   "outputs": [],
   "source": [
    "dtm.set_index(\"index\", inplace=True)\n",
    "data_dtm.set_index(\"index\", inplace=True)\n",
    "corpus.set_index(\"index\", inplace=True)\n",
    "stats_data.set_index(\"index\", inplace=True)"
   ]
  },
  {
   "cell_type": "code",
   "execution_count": 7,
   "metadata": {},
   "outputs": [
    {
     "data": {
      "text/html": [
       "<div>\n",
       "<style scoped>\n",
       "    .dataframe tbody tr th:only-of-type {\n",
       "        vertical-align: middle;\n",
       "    }\n",
       "\n",
       "    .dataframe tbody tr th {\n",
       "        vertical-align: top;\n",
       "    }\n",
       "\n",
       "    .dataframe thead th {\n",
       "        text-align: right;\n",
       "    }\n",
       "</style>\n",
       "<table border=\"1\" class=\"dataframe\">\n",
       "  <thead>\n",
       "    <tr style=\"text-align: right;\">\n",
       "      <th>word</th>\n",
       "      <th>aa</th>\n",
       "      <th>aaaaatención</th>\n",
       "      <th>aaaatención</th>\n",
       "      <th>aactores</th>\n",
       "      <th>aafp</th>\n",
       "      <th>aaguinaga</th>\n",
       "      <th>aahh</th>\n",
       "      <th>aap</th>\n",
       "      <th>aar</th>\n",
       "      <th>aaron</th>\n",
       "      <th>abad</th>\n",
       "      <th>abajo</th>\n",
       "      <th>abancay</th>\n",
       "      <th>abanderados</th>\n",
       "      <th>abandona</th>\n",
       "      <th>abandonada</th>\n",
       "      <th>abandonadas</th>\n",
       "      <th>abandonado</th>\n",
       "      <th>abandonados</th>\n",
       "      <th>abandonan</th>\n",
       "      <th>abandonar</th>\n",
       "      <th>abandonaron</th>\n",
       "      <th>abandonará</th>\n",
       "      <th>abandonen</th>\n",
       "      <th>abandono</th>\n",
       "      <th>...</th>\n",
       "      <th>ünsal</th>\n",
       "      <th>​chocolate</th>\n",
       "      <th>​mantequilla</th>\n",
       "      <th>⃣</th>\n",
       "      <th>→</th>\n",
       "      <th>↓</th>\n",
       "      <th>─</th>\n",
       "      <th>⦿</th>\n",
       "      <th>𝗔𝘂𝗱𝗶𝘁𝗼𝗿𝗶𝗼</th>\n",
       "      <th>𝗖𝗮𝘁𝗮́𝗹𝗼𝗴𝗼</th>\n",
       "      <th>𝗗𝗲𝗹</th>\n",
       "      <th>𝗘𝗱𝗶𝘁𝗼𝗿𝗮</th>\n",
       "      <th>𝗣𝗮𝘁𝗿𝗶𝗰𝗶𝗮</th>\n",
       "      <th>𝗣𝗲𝗿𝘂́</th>\n",
       "      <th>𝗦𝗮́𝗯𝗮𝗱𝗼</th>\n",
       "      <th>𝗨́𝗻𝗲𝘁𝗲</th>\n",
       "      <th>𝗩𝗮𝗹𝗹𝗲</th>\n",
       "      <th>𝗱𝗲</th>\n",
       "      <th>𝗱𝗲𝗹</th>\n",
       "      <th>𝗲𝗱𝗶𝘁𝗼𝗿𝗶𝗮𝗹</th>\n",
       "      <th>𝗵𝗿𝘀</th>\n",
       "      <th>𝗹𝗮</th>\n",
       "      <th>𝗻𝗼𝘃𝗶𝗲𝗺𝗯𝗿𝗲</th>\n",
       "      <th>𝗽𝗿𝗲𝘀𝗲𝗻𝘁𝗮𝗰𝗶𝗼́𝗻</th>\n",
       "      <th>󠁧󠁢󠁥󠁮󠁧󠁿</th>\n",
       "    </tr>\n",
       "    <tr>\n",
       "      <th>index</th>\n",
       "      <th></th>\n",
       "      <th></th>\n",
       "      <th></th>\n",
       "      <th></th>\n",
       "      <th></th>\n",
       "      <th></th>\n",
       "      <th></th>\n",
       "      <th></th>\n",
       "      <th></th>\n",
       "      <th></th>\n",
       "      <th></th>\n",
       "      <th></th>\n",
       "      <th></th>\n",
       "      <th></th>\n",
       "      <th></th>\n",
       "      <th></th>\n",
       "      <th></th>\n",
       "      <th></th>\n",
       "      <th></th>\n",
       "      <th></th>\n",
       "      <th></th>\n",
       "      <th></th>\n",
       "      <th></th>\n",
       "      <th></th>\n",
       "      <th></th>\n",
       "      <th></th>\n",
       "      <th></th>\n",
       "      <th></th>\n",
       "      <th></th>\n",
       "      <th></th>\n",
       "      <th></th>\n",
       "      <th></th>\n",
       "      <th></th>\n",
       "      <th></th>\n",
       "      <th></th>\n",
       "      <th></th>\n",
       "      <th></th>\n",
       "      <th></th>\n",
       "      <th></th>\n",
       "      <th></th>\n",
       "      <th></th>\n",
       "      <th></th>\n",
       "      <th></th>\n",
       "      <th></th>\n",
       "      <th></th>\n",
       "      <th></th>\n",
       "      <th></th>\n",
       "      <th></th>\n",
       "      <th></th>\n",
       "      <th></th>\n",
       "      <th></th>\n",
       "    </tr>\n",
       "  </thead>\n",
       "  <tbody>\n",
       "    <tr>\n",
       "      <th>1558966707611385861</th>\n",
       "      <td>0.00</td>\n",
       "      <td>0.00</td>\n",
       "      <td>0.00</td>\n",
       "      <td>0.00</td>\n",
       "      <td>0.00</td>\n",
       "      <td>0.00</td>\n",
       "      <td>0.00</td>\n",
       "      <td>0.00</td>\n",
       "      <td>0.00</td>\n",
       "      <td>0.00</td>\n",
       "      <td>0.00</td>\n",
       "      <td>0.00</td>\n",
       "      <td>0.00</td>\n",
       "      <td>0.00</td>\n",
       "      <td>0.00</td>\n",
       "      <td>0.00</td>\n",
       "      <td>0.00</td>\n",
       "      <td>0.00</td>\n",
       "      <td>0.00</td>\n",
       "      <td>0.00</td>\n",
       "      <td>0.00</td>\n",
       "      <td>0.00</td>\n",
       "      <td>0.00</td>\n",
       "      <td>0.00</td>\n",
       "      <td>0.00</td>\n",
       "      <td>...</td>\n",
       "      <td>0.00</td>\n",
       "      <td>0.00</td>\n",
       "      <td>0.00</td>\n",
       "      <td>0.00</td>\n",
       "      <td>0.00</td>\n",
       "      <td>0.00</td>\n",
       "      <td>0.00</td>\n",
       "      <td>0.00</td>\n",
       "      <td>0.00</td>\n",
       "      <td>0.00</td>\n",
       "      <td>0.00</td>\n",
       "      <td>0.00</td>\n",
       "      <td>0.00</td>\n",
       "      <td>0.00</td>\n",
       "      <td>0.00</td>\n",
       "      <td>0.00</td>\n",
       "      <td>0.00</td>\n",
       "      <td>0.00</td>\n",
       "      <td>0.00</td>\n",
       "      <td>0.00</td>\n",
       "      <td>0.00</td>\n",
       "      <td>0.00</td>\n",
       "      <td>0.00</td>\n",
       "      <td>0.00</td>\n",
       "      <td>0.00</td>\n",
       "    </tr>\n",
       "    <tr>\n",
       "      <th>1558966968039997441</th>\n",
       "      <td>0.00</td>\n",
       "      <td>0.00</td>\n",
       "      <td>0.00</td>\n",
       "      <td>0.00</td>\n",
       "      <td>0.00</td>\n",
       "      <td>0.00</td>\n",
       "      <td>0.00</td>\n",
       "      <td>0.00</td>\n",
       "      <td>0.00</td>\n",
       "      <td>0.00</td>\n",
       "      <td>0.00</td>\n",
       "      <td>0.00</td>\n",
       "      <td>0.00</td>\n",
       "      <td>0.00</td>\n",
       "      <td>0.00</td>\n",
       "      <td>0.00</td>\n",
       "      <td>0.00</td>\n",
       "      <td>0.00</td>\n",
       "      <td>0.00</td>\n",
       "      <td>0.00</td>\n",
       "      <td>0.00</td>\n",
       "      <td>0.00</td>\n",
       "      <td>0.00</td>\n",
       "      <td>0.00</td>\n",
       "      <td>0.00</td>\n",
       "      <td>...</td>\n",
       "      <td>0.00</td>\n",
       "      <td>0.00</td>\n",
       "      <td>0.00</td>\n",
       "      <td>0.00</td>\n",
       "      <td>0.00</td>\n",
       "      <td>0.00</td>\n",
       "      <td>0.00</td>\n",
       "      <td>0.00</td>\n",
       "      <td>0.00</td>\n",
       "      <td>0.00</td>\n",
       "      <td>0.00</td>\n",
       "      <td>0.00</td>\n",
       "      <td>0.00</td>\n",
       "      <td>0.00</td>\n",
       "      <td>0.00</td>\n",
       "      <td>0.00</td>\n",
       "      <td>0.00</td>\n",
       "      <td>0.00</td>\n",
       "      <td>0.00</td>\n",
       "      <td>0.00</td>\n",
       "      <td>0.00</td>\n",
       "      <td>0.00</td>\n",
       "      <td>0.00</td>\n",
       "      <td>0.00</td>\n",
       "      <td>0.00</td>\n",
       "    </tr>\n",
       "    <tr>\n",
       "      <th>1558967193043361792</th>\n",
       "      <td>0.00</td>\n",
       "      <td>0.00</td>\n",
       "      <td>0.00</td>\n",
       "      <td>0.00</td>\n",
       "      <td>0.00</td>\n",
       "      <td>0.00</td>\n",
       "      <td>0.00</td>\n",
       "      <td>0.00</td>\n",
       "      <td>0.00</td>\n",
       "      <td>0.00</td>\n",
       "      <td>0.00</td>\n",
       "      <td>0.00</td>\n",
       "      <td>0.00</td>\n",
       "      <td>0.00</td>\n",
       "      <td>0.00</td>\n",
       "      <td>0.00</td>\n",
       "      <td>0.00</td>\n",
       "      <td>0.00</td>\n",
       "      <td>0.00</td>\n",
       "      <td>0.00</td>\n",
       "      <td>0.00</td>\n",
       "      <td>0.00</td>\n",
       "      <td>0.00</td>\n",
       "      <td>0.00</td>\n",
       "      <td>0.00</td>\n",
       "      <td>...</td>\n",
       "      <td>0.00</td>\n",
       "      <td>0.00</td>\n",
       "      <td>0.00</td>\n",
       "      <td>0.00</td>\n",
       "      <td>0.00</td>\n",
       "      <td>0.00</td>\n",
       "      <td>0.00</td>\n",
       "      <td>0.00</td>\n",
       "      <td>0.00</td>\n",
       "      <td>0.00</td>\n",
       "      <td>0.00</td>\n",
       "      <td>0.00</td>\n",
       "      <td>0.00</td>\n",
       "      <td>0.00</td>\n",
       "      <td>0.00</td>\n",
       "      <td>0.00</td>\n",
       "      <td>0.00</td>\n",
       "      <td>0.00</td>\n",
       "      <td>0.00</td>\n",
       "      <td>0.00</td>\n",
       "      <td>0.00</td>\n",
       "      <td>0.00</td>\n",
       "      <td>0.00</td>\n",
       "      <td>0.00</td>\n",
       "      <td>0.00</td>\n",
       "    </tr>\n",
       "    <tr>\n",
       "      <th>1558967616777109510</th>\n",
       "      <td>0.00</td>\n",
       "      <td>0.00</td>\n",
       "      <td>0.00</td>\n",
       "      <td>0.00</td>\n",
       "      <td>0.00</td>\n",
       "      <td>0.00</td>\n",
       "      <td>0.00</td>\n",
       "      <td>0.00</td>\n",
       "      <td>0.00</td>\n",
       "      <td>0.00</td>\n",
       "      <td>0.00</td>\n",
       "      <td>0.00</td>\n",
       "      <td>0.00</td>\n",
       "      <td>0.00</td>\n",
       "      <td>0.00</td>\n",
       "      <td>0.00</td>\n",
       "      <td>0.00</td>\n",
       "      <td>0.00</td>\n",
       "      <td>0.00</td>\n",
       "      <td>0.00</td>\n",
       "      <td>0.00</td>\n",
       "      <td>0.00</td>\n",
       "      <td>0.00</td>\n",
       "      <td>0.00</td>\n",
       "      <td>0.00</td>\n",
       "      <td>...</td>\n",
       "      <td>0.00</td>\n",
       "      <td>0.00</td>\n",
       "      <td>0.00</td>\n",
       "      <td>0.00</td>\n",
       "      <td>0.00</td>\n",
       "      <td>0.00</td>\n",
       "      <td>0.00</td>\n",
       "      <td>0.00</td>\n",
       "      <td>0.00</td>\n",
       "      <td>0.00</td>\n",
       "      <td>0.00</td>\n",
       "      <td>0.00</td>\n",
       "      <td>0.00</td>\n",
       "      <td>0.00</td>\n",
       "      <td>0.00</td>\n",
       "      <td>0.00</td>\n",
       "      <td>0.00</td>\n",
       "      <td>0.00</td>\n",
       "      <td>0.00</td>\n",
       "      <td>0.00</td>\n",
       "      <td>0.00</td>\n",
       "      <td>0.00</td>\n",
       "      <td>0.00</td>\n",
       "      <td>0.00</td>\n",
       "      <td>0.00</td>\n",
       "    </tr>\n",
       "    <tr>\n",
       "      <th>1558968396674473985</th>\n",
       "      <td>0.00</td>\n",
       "      <td>0.00</td>\n",
       "      <td>0.00</td>\n",
       "      <td>0.00</td>\n",
       "      <td>0.00</td>\n",
       "      <td>0.00</td>\n",
       "      <td>0.00</td>\n",
       "      <td>0.00</td>\n",
       "      <td>0.00</td>\n",
       "      <td>0.00</td>\n",
       "      <td>0.00</td>\n",
       "      <td>0.00</td>\n",
       "      <td>0.00</td>\n",
       "      <td>0.00</td>\n",
       "      <td>0.00</td>\n",
       "      <td>0.00</td>\n",
       "      <td>0.00</td>\n",
       "      <td>0.00</td>\n",
       "      <td>0.00</td>\n",
       "      <td>0.00</td>\n",
       "      <td>0.00</td>\n",
       "      <td>0.00</td>\n",
       "      <td>0.00</td>\n",
       "      <td>0.00</td>\n",
       "      <td>0.00</td>\n",
       "      <td>...</td>\n",
       "      <td>0.00</td>\n",
       "      <td>0.00</td>\n",
       "      <td>0.00</td>\n",
       "      <td>0.00</td>\n",
       "      <td>0.00</td>\n",
       "      <td>0.00</td>\n",
       "      <td>0.00</td>\n",
       "      <td>0.00</td>\n",
       "      <td>0.00</td>\n",
       "      <td>0.00</td>\n",
       "      <td>0.00</td>\n",
       "      <td>0.00</td>\n",
       "      <td>0.00</td>\n",
       "      <td>0.00</td>\n",
       "      <td>0.00</td>\n",
       "      <td>0.00</td>\n",
       "      <td>0.00</td>\n",
       "      <td>0.00</td>\n",
       "      <td>0.00</td>\n",
       "      <td>0.00</td>\n",
       "      <td>0.00</td>\n",
       "      <td>0.00</td>\n",
       "      <td>0.00</td>\n",
       "      <td>0.00</td>\n",
       "      <td>0.00</td>\n",
       "    </tr>\n",
       "  </tbody>\n",
       "</table>\n",
       "<p>5 rows × 31684 columns</p>\n",
       "</div>"
      ],
      "text/plain": [
       "word                  aa  aaaaatención  aaaatención  aactores  aafp  \\\n",
       "index                                                                 \n",
       "1558966707611385861 0.00          0.00         0.00      0.00  0.00   \n",
       "1558966968039997441 0.00          0.00         0.00      0.00  0.00   \n",
       "1558967193043361792 0.00          0.00         0.00      0.00  0.00   \n",
       "1558967616777109510 0.00          0.00         0.00      0.00  0.00   \n",
       "1558968396674473985 0.00          0.00         0.00      0.00  0.00   \n",
       "\n",
       "word                 aaguinaga  aahh  aap  aar  aaron  abad  abajo  abancay  \\\n",
       "index                                                                         \n",
       "1558966707611385861       0.00  0.00 0.00 0.00   0.00  0.00   0.00     0.00   \n",
       "1558966968039997441       0.00  0.00 0.00 0.00   0.00  0.00   0.00     0.00   \n",
       "1558967193043361792       0.00  0.00 0.00 0.00   0.00  0.00   0.00     0.00   \n",
       "1558967616777109510       0.00  0.00 0.00 0.00   0.00  0.00   0.00     0.00   \n",
       "1558968396674473985       0.00  0.00 0.00 0.00   0.00  0.00   0.00     0.00   \n",
       "\n",
       "word                 abanderados  abandona  abandonada  abandonadas  \\\n",
       "index                                                                 \n",
       "1558966707611385861         0.00      0.00        0.00         0.00   \n",
       "1558966968039997441         0.00      0.00        0.00         0.00   \n",
       "1558967193043361792         0.00      0.00        0.00         0.00   \n",
       "1558967616777109510         0.00      0.00        0.00         0.00   \n",
       "1558968396674473985         0.00      0.00        0.00         0.00   \n",
       "\n",
       "word                 abandonado  abandonados  abandonan  abandonar  \\\n",
       "index                                                                \n",
       "1558966707611385861        0.00         0.00       0.00       0.00   \n",
       "1558966968039997441        0.00         0.00       0.00       0.00   \n",
       "1558967193043361792        0.00         0.00       0.00       0.00   \n",
       "1558967616777109510        0.00         0.00       0.00       0.00   \n",
       "1558968396674473985        0.00         0.00       0.00       0.00   \n",
       "\n",
       "word                 abandonaron  abandonará  abandonen  abandono  ...  ünsal  \\\n",
       "index                                                              ...          \n",
       "1558966707611385861         0.00        0.00       0.00      0.00  ...   0.00   \n",
       "1558966968039997441         0.00        0.00       0.00      0.00  ...   0.00   \n",
       "1558967193043361792         0.00        0.00       0.00      0.00  ...   0.00   \n",
       "1558967616777109510         0.00        0.00       0.00      0.00  ...   0.00   \n",
       "1558968396674473985         0.00        0.00       0.00      0.00  ...   0.00   \n",
       "\n",
       "word                 ​chocolate  ​mantequilla    ⃣    →    ↓    ─    ⦿  \\\n",
       "index                                                                    \n",
       "1558966707611385861        0.00          0.00 0.00 0.00 0.00 0.00 0.00   \n",
       "1558966968039997441        0.00          0.00 0.00 0.00 0.00 0.00 0.00   \n",
       "1558967193043361792        0.00          0.00 0.00 0.00 0.00 0.00 0.00   \n",
       "1558967616777109510        0.00          0.00 0.00 0.00 0.00 0.00 0.00   \n",
       "1558968396674473985        0.00          0.00 0.00 0.00 0.00 0.00 0.00   \n",
       "\n",
       "word                 𝗔𝘂𝗱𝗶𝘁𝗼𝗿𝗶𝗼  𝗖𝗮𝘁𝗮́𝗹𝗼𝗴𝗼  𝗗𝗲𝗹  𝗘𝗱𝗶𝘁𝗼𝗿𝗮  𝗣𝗮𝘁𝗿𝗶𝗰𝗶𝗮  𝗣𝗲𝗿𝘂́  \\\n",
       "index                                                                      \n",
       "1558966707611385861       0.00       0.00 0.00     0.00      0.00   0.00   \n",
       "1558966968039997441       0.00       0.00 0.00     0.00      0.00   0.00   \n",
       "1558967193043361792       0.00       0.00 0.00     0.00      0.00   0.00   \n",
       "1558967616777109510       0.00       0.00 0.00     0.00      0.00   0.00   \n",
       "1558968396674473985       0.00       0.00 0.00     0.00      0.00   0.00   \n",
       "\n",
       "word                 𝗦𝗮́𝗯𝗮𝗱𝗼  𝗨́𝗻𝗲𝘁𝗲  𝗩𝗮𝗹𝗹𝗲   𝗱𝗲  𝗱𝗲𝗹  𝗲𝗱𝗶𝘁𝗼𝗿𝗶𝗮𝗹  𝗵𝗿𝘀   𝗹𝗮  \\\n",
       "index                                                                        \n",
       "1558966707611385861     0.00    0.00   0.00 0.00 0.00       0.00 0.00 0.00   \n",
       "1558966968039997441     0.00    0.00   0.00 0.00 0.00       0.00 0.00 0.00   \n",
       "1558967193043361792     0.00    0.00   0.00 0.00 0.00       0.00 0.00 0.00   \n",
       "1558967616777109510     0.00    0.00   0.00 0.00 0.00       0.00 0.00 0.00   \n",
       "1558968396674473985     0.00    0.00   0.00 0.00 0.00       0.00 0.00 0.00   \n",
       "\n",
       "word                 𝗻𝗼𝘃𝗶𝗲𝗺𝗯𝗿𝗲  𝗽𝗿𝗲𝘀𝗲𝗻𝘁𝗮𝗰𝗶𝗼́𝗻  󠁧󠁢󠁥󠁮󠁧󠁿  \n",
       "index                                                  \n",
       "1558966707611385861       0.00           0.00    0.00  \n",
       "1558966968039997441       0.00           0.00    0.00  \n",
       "1558967193043361792       0.00           0.00    0.00  \n",
       "1558967616777109510       0.00           0.00    0.00  \n",
       "1558968396674473985       0.00           0.00    0.00  \n",
       "\n",
       "[5 rows x 31684 columns]"
      ]
     },
     "execution_count": 7,
     "metadata": {},
     "output_type": "execute_result"
    }
   ],
   "source": [
    "dtm.head()"
   ]
  },
  {
   "cell_type": "code",
   "execution_count": 8,
   "metadata": {},
   "outputs": [
    {
     "data": {
      "text/html": [
       "<div>\n",
       "<style scoped>\n",
       "    .dataframe tbody tr th:only-of-type {\n",
       "        vertical-align: middle;\n",
       "    }\n",
       "\n",
       "    .dataframe tbody tr th {\n",
       "        vertical-align: top;\n",
       "    }\n",
       "\n",
       "    .dataframe thead th {\n",
       "        text-align: right;\n",
       "    }\n",
       "</style>\n",
       "<table border=\"1\" class=\"dataframe\">\n",
       "  <thead>\n",
       "    <tr style=\"text-align: right;\">\n",
       "      <th></th>\n",
       "      <th>id</th>\n",
       "      <th>created_at</th>\n",
       "      <th>newspaper</th>\n",
       "      <th>corpus</th>\n",
       "    </tr>\n",
       "    <tr>\n",
       "      <th>index</th>\n",
       "      <th></th>\n",
       "      <th></th>\n",
       "      <th></th>\n",
       "      <th></th>\n",
       "    </tr>\n",
       "  </thead>\n",
       "  <tbody>\n",
       "    <tr>\n",
       "      <th>0</th>\n",
       "      <td>1564039479391838209</td>\n",
       "      <td>2022-08-28 23:57:24+00:00</td>\n",
       "      <td>elcomercio_peru</td>\n",
       "      <td>venezuela colombia retoman relaciones diplomáticas rotas hace tres años</td>\n",
       "    </tr>\n",
       "    <tr>\n",
       "      <th>2</th>\n",
       "      <td>1564032331706470401</td>\n",
       "      <td>2022-08-28 23:29:00+00:00</td>\n",
       "      <td>elcomercio_peru</td>\n",
       "      <td>amlo afirma que familias ya aceptaron plan de rescate de mineros</td>\n",
       "    </tr>\n",
       "    <tr>\n",
       "      <th>3</th>\n",
       "      <td>1564028601053347843</td>\n",
       "      <td>2022-08-28 23:14:11+00:00</td>\n",
       "      <td>elcomercio_peru</td>\n",
       "      <td>zelensky los ocupantes rusos sentirán las consecuencias de futuras acciones</td>\n",
       "    </tr>\n",
       "    <tr>\n",
       "      <th>5</th>\n",
       "      <td>1564023766937731073</td>\n",
       "      <td>2022-08-28 22:54:58+00:00</td>\n",
       "      <td>elcomercio_peru</td>\n",
       "      <td>autoridades confirman transmisión comunitaria de viruela del mono en panamá</td>\n",
       "    </tr>\n",
       "    <tr>\n",
       "      <th>7</th>\n",
       "      <td>1564017585561141248</td>\n",
       "      <td>2022-08-28 22:30:25+00:00</td>\n",
       "      <td>elcomercio_peru</td>\n",
       "      <td>las imágenes de los enfrentamientos entre seguidores de cristina kirchner la policía en argentina</td>\n",
       "    </tr>\n",
       "  </tbody>\n",
       "</table>\n",
       "</div>"
      ],
      "text/plain": [
       "                        id                created_at        newspaper  \\\n",
       "index                                                                   \n",
       "0      1564039479391838209 2022-08-28 23:57:24+00:00  elcomercio_peru   \n",
       "2      1564032331706470401 2022-08-28 23:29:00+00:00  elcomercio_peru   \n",
       "3      1564028601053347843 2022-08-28 23:14:11+00:00  elcomercio_peru   \n",
       "5      1564023766937731073 2022-08-28 22:54:58+00:00  elcomercio_peru   \n",
       "7      1564017585561141248 2022-08-28 22:30:25+00:00  elcomercio_peru   \n",
       "\n",
       "                                                                                                   corpus  \n",
       "index                                                                                                      \n",
       "0                                venezuela colombia retoman relaciones diplomáticas rotas hace tres años   \n",
       "2                                       amlo afirma que familias ya aceptaron plan de rescate de mineros   \n",
       "3                            zelensky los ocupantes rusos sentirán las consecuencias de futuras acciones   \n",
       "5                            autoridades confirman transmisión comunitaria de viruela del mono en panamá   \n",
       "7      las imágenes de los enfrentamientos entre seguidores de cristina kirchner la policía en argentina   "
      ]
     },
     "execution_count": 8,
     "metadata": {},
     "output_type": "execute_result"
    }
   ],
   "source": [
    "corpus.head()"
   ]
  },
  {
   "cell_type": "code",
   "execution_count": 9,
   "metadata": {},
   "outputs": [
    {
     "name": "stdout",
     "output_type": "stream",
     "text": [
      "<class 'pandas.core.frame.DataFrame'>\n",
      "Int64Index: 34924 entries, 0 to 23\n",
      "Data columns (total 4 columns):\n",
      " #   Column      Non-Null Count  Dtype              \n",
      "---  ------      --------------  -----              \n",
      " 0   id          34924 non-null  object             \n",
      " 1   created_at  34924 non-null  datetime64[ns, UTC]\n",
      " 2   newspaper   34924 non-null  object             \n",
      " 3   corpus      34924 non-null  object             \n",
      "dtypes: datetime64[ns, UTC](1), object(3)\n",
      "memory usage: 1.3+ MB\n"
     ]
    }
   ],
   "source": [
    "corpus.info()"
   ]
  },
  {
   "cell_type": "code",
   "execution_count": 10,
   "metadata": {},
   "outputs": [
    {
     "data": {
      "text/html": [
       "<div>\n",
       "<style scoped>\n",
       "    .dataframe tbody tr th:only-of-type {\n",
       "        vertical-align: middle;\n",
       "    }\n",
       "\n",
       "    .dataframe tbody tr th {\n",
       "        vertical-align: top;\n",
       "    }\n",
       "\n",
       "    .dataframe thead th {\n",
       "        text-align: right;\n",
       "    }\n",
       "</style>\n",
       "<table border=\"1\" class=\"dataframe\">\n",
       "  <thead>\n",
       "    <tr style=\"text-align: right;\">\n",
       "      <th></th>\n",
       "      <th>created_at</th>\n",
       "      <th>possibly_sensitive</th>\n",
       "      <th>id</th>\n",
       "      <th>retweet_count</th>\n",
       "      <th>reply_count</th>\n",
       "      <th>like_count</th>\n",
       "      <th>quote_count</th>\n",
       "      <th>referenced_tweets</th>\n",
       "      <th>newspaper</th>\n",
       "      <th>edit_history_tweet_ids</th>\n",
       "      <th>impression_count</th>\n",
       "    </tr>\n",
       "    <tr>\n",
       "      <th>index</th>\n",
       "      <th></th>\n",
       "      <th></th>\n",
       "      <th></th>\n",
       "      <th></th>\n",
       "      <th></th>\n",
       "      <th></th>\n",
       "      <th></th>\n",
       "      <th></th>\n",
       "      <th></th>\n",
       "      <th></th>\n",
       "      <th></th>\n",
       "    </tr>\n",
       "  </thead>\n",
       "  <tbody>\n",
       "    <tr>\n",
       "      <th>0</th>\n",
       "      <td>2022-08-28 23:57:24+00:00</td>\n",
       "      <td>False</td>\n",
       "      <td>1564039479391838209</td>\n",
       "      <td>0</td>\n",
       "      <td>0</td>\n",
       "      <td>6</td>\n",
       "      <td>1</td>\n",
       "      <td>None</td>\n",
       "      <td>elcomercio_peru</td>\n",
       "      <td>None</td>\n",
       "      <td>NaN</td>\n",
       "    </tr>\n",
       "    <tr>\n",
       "      <th>2</th>\n",
       "      <td>2022-08-28 23:29:00+00:00</td>\n",
       "      <td>False</td>\n",
       "      <td>1564032331706470401</td>\n",
       "      <td>0</td>\n",
       "      <td>0</td>\n",
       "      <td>2</td>\n",
       "      <td>0</td>\n",
       "      <td>None</td>\n",
       "      <td>elcomercio_peru</td>\n",
       "      <td>None</td>\n",
       "      <td>NaN</td>\n",
       "    </tr>\n",
       "    <tr>\n",
       "      <th>3</th>\n",
       "      <td>2022-08-28 23:14:11+00:00</td>\n",
       "      <td>False</td>\n",
       "      <td>1564028601053347843</td>\n",
       "      <td>6</td>\n",
       "      <td>7</td>\n",
       "      <td>18</td>\n",
       "      <td>1</td>\n",
       "      <td>None</td>\n",
       "      <td>elcomercio_peru</td>\n",
       "      <td>None</td>\n",
       "      <td>NaN</td>\n",
       "    </tr>\n",
       "    <tr>\n",
       "      <th>5</th>\n",
       "      <td>2022-08-28 22:54:58+00:00</td>\n",
       "      <td>False</td>\n",
       "      <td>1564023766937731073</td>\n",
       "      <td>1</td>\n",
       "      <td>0</td>\n",
       "      <td>1</td>\n",
       "      <td>1</td>\n",
       "      <td>None</td>\n",
       "      <td>elcomercio_peru</td>\n",
       "      <td>None</td>\n",
       "      <td>NaN</td>\n",
       "    </tr>\n",
       "    <tr>\n",
       "      <th>7</th>\n",
       "      <td>2022-08-28 22:30:25+00:00</td>\n",
       "      <td>False</td>\n",
       "      <td>1564017585561141248</td>\n",
       "      <td>3</td>\n",
       "      <td>0</td>\n",
       "      <td>8</td>\n",
       "      <td>0</td>\n",
       "      <td>None</td>\n",
       "      <td>elcomercio_peru</td>\n",
       "      <td>None</td>\n",
       "      <td>NaN</td>\n",
       "    </tr>\n",
       "  </tbody>\n",
       "</table>\n",
       "</div>"
      ],
      "text/plain": [
       "                     created_at  possibly_sensitive                   id  \\\n",
       "index                                                                      \n",
       "0     2022-08-28 23:57:24+00:00               False  1564039479391838209   \n",
       "2     2022-08-28 23:29:00+00:00               False  1564032331706470401   \n",
       "3     2022-08-28 23:14:11+00:00               False  1564028601053347843   \n",
       "5     2022-08-28 22:54:58+00:00               False  1564023766937731073   \n",
       "7     2022-08-28 22:30:25+00:00               False  1564017585561141248   \n",
       "\n",
       "       retweet_count  reply_count  like_count  quote_count referenced_tweets  \\\n",
       "index                                                                          \n",
       "0                  0            0           6            1              None   \n",
       "2                  0            0           2            0              None   \n",
       "3                  6            7          18            1              None   \n",
       "5                  1            0           1            1              None   \n",
       "7                  3            0           8            0              None   \n",
       "\n",
       "             newspaper edit_history_tweet_ids  impression_count  \n",
       "index                                                            \n",
       "0      elcomercio_peru                   None               NaN  \n",
       "2      elcomercio_peru                   None               NaN  \n",
       "3      elcomercio_peru                   None               NaN  \n",
       "5      elcomercio_peru                   None               NaN  \n",
       "7      elcomercio_peru                   None               NaN  "
      ]
     },
     "execution_count": 10,
     "metadata": {},
     "output_type": "execute_result"
    }
   ],
   "source": [
    "stats_data.head()"
   ]
  },
  {
   "attachments": {},
   "cell_type": "markdown",
   "metadata": {},
   "source": [
    "## Most Common Words"
   ]
  },
  {
   "cell_type": "code",
   "execution_count": 11,
   "metadata": {},
   "outputs": [],
   "source": [
    "newspapers = corpus[\"newspaper\"].unique()"
   ]
  },
  {
   "cell_type": "code",
   "execution_count": 12,
   "metadata": {},
   "outputs": [],
   "source": [
    "year_weeks = corpus[\"created_at\"].dt.isocalendar()[[\"year\", \"week\"]]\n",
    "year_weeks.drop_duplicates(inplace=True)\n",
    "year_weeks = year_weeks.to_numpy()"
   ]
  },
  {
   "cell_type": "code",
   "execution_count": 13,
   "metadata": {},
   "outputs": [],
   "source": [
    "dtm_newspaper = pd.DataFrame(index=dtm.columns)"
   ]
  },
  {
   "cell_type": "code",
   "execution_count": 14,
   "metadata": {},
   "outputs": [],
   "source": [
    "corpus[\"year\"] = corpus[\"created_at\"].dt.isocalendar().year\n",
    "corpus[\"week\"] = corpus[\"created_at\"].dt.isocalendar().week"
   ]
  },
  {
   "cell_type": "code",
   "execution_count": 15,
   "metadata": {},
   "outputs": [],
   "source": [
    "dtm_newspaper = pd.DataFrame(index=dtm.columns)\n",
    "\n",
    "for year_week, newspaper in product(year_weeks, newspapers):\n",
    "    data_ids = corpus.loc[(corpus[\"newspaper\"] == newspaper) & (corpus[\"year\"] == year_week[0]) & (corpus[\"week\"] == year_week[1]) , [\"id\"]]\n",
    "    filtered_data = dtm.filter(items=data_ids[\"id\"], axis=0)\n",
    "    dtm_newspaper[f\"{newspaper}-{year_week[0]}_{year_week[1]}\"] = filtered_data.sum(axis=0)"
   ]
  },
  {
   "cell_type": "code",
   "execution_count": 16,
   "metadata": {},
   "outputs": [],
   "source": [
    "top30_dict = {}\n",
    "\n",
    "for newspaper in dtm_newspaper.columns:\n",
    "    top = dtm_newspaper[newspaper].sort_values(ascending=False).head(30)\n",
    "    top30_dict[newspaper] = list(zip(top.index, top.values))"
   ]
  },
  {
   "cell_type": "code",
   "execution_count": 17,
   "metadata": {},
   "outputs": [
    {
     "data": {
      "text/plain": [
       "{'elcomercio_peru-2022_34': [('agosto', 40.0),\n",
       "  ('perú', 32.0),\n",
       "  ('lima', 23.0),\n",
       "  ('millones', 21.0),\n",
       "  ('covid', 19.0),\n",
       "  ('perucheck', 19.0),\n",
       "  ('años', 17.0),\n",
       "  ('mundo', 14.0),\n",
       "  ('eeuu', 14.0),\n",
       "  ('ucrania', 14.0),\n",
       "  ('méxico', 13.0),\n",
       "  ('colombia', 13.0),\n",
       "  ('mono', 12.0),\n",
       "  ('rusia', 12.0),\n",
       "  ('viruela', 12.0),\n",
       "  ('muerte', 12.0),\n",
       "  ('venezuela', 12.0),\n",
       "  ('tipo', 11.0),\n",
       "  ('cambio', 11.0),\n",
       "  ('dólar', 11.0),\n",
       "  ('us', 11.0),\n",
       "  ('reporta', 10.0),\n",
       "  ('mujer', 10.0),\n",
       "  ('contagios', 9.0),\n",
       "  ('unidos', 9.0),\n",
       "  ('policía', 9.0),\n",
       "  ('precio', 9.0),\n",
       "  ('país', 9.0),\n",
       "  ('bono', 8.0),\n",
       "  ('pasó', 8.0)],\n",
       " 'larepublica_pe-2022_34': [('lrdeportes', 214.0),\n",
       "  ('politicalr', 199.0),\n",
       "  ('video', 141.0),\n",
       "  ('perú', 69.0),\n",
       "  ('envivo', 57.0),\n",
       "  ('paredes', 56.0),\n",
       "  ('castillo', 52.0),\n",
       "  ('lima', 51.0),\n",
       "  ('agosto', 50.0),\n",
       "  ('años', 45.0),\n",
       "  ('verificadorlr', 43.0),\n",
       "  ('yenifer', 39.0),\n",
       "  ('pedro', 35.0),\n",
       "  ('partido', 35.0),\n",
       "  ('prisión', 33.0),\n",
       "  ('alianza', 29.0),\n",
       "  ('pierdas', 28.0),\n",
       "  ('loúltimo', 28.0),\n",
       "  ('fiscalía', 28.0),\n",
       "  ('congreso', 27.0),\n",
       "  ('presidente', 27.0),\n",
       "  ('república', 26.0),\n",
       "  ('fiscal', 25.0),\n",
       "  ('audiencia', 25.0),\n",
       "  ('temblor', 24.0),\n",
       "  ('conoce', 24.0),\n",
       "  ('canal', 24.0),\n",
       "  ('país', 23.0),\n",
       "  ('millones', 23.0),\n",
       "  ('vs', 23.0)],\n",
       " 'peru21noticias-2022_34': [('castillo', 80.0),\n",
       "  ('pedro', 66.0),\n",
       "  ('lima', 55.0),\n",
       "  ('perú', 41.0),\n",
       "  ('agosto', 38.0),\n",
       "  ('paredes', 35.0),\n",
       "  ('años', 32.0),\n",
       "  ('fiscal', 30.0),\n",
       "  ('conoce', 30.0),\n",
       "  ('cortita', 27.0),\n",
       "  ('millones', 26.0),\n",
       "  ('presidente', 25.0),\n",
       "  ('fiscalía', 24.0),\n",
       "  ('yenifer', 23.0),\n",
       "  ('prisión', 23.0),\n",
       "  ('preventiva', 21.0),\n",
       "  ('envivo', 21.0),\n",
       "  ('peruana', 21.0),\n",
       "  ('peruano', 21.0),\n",
       "  ('summum', 20.0),\n",
       "  ('covid', 20.0),\n",
       "  ('piqué', 20.0),\n",
       "  ('audiencia', 19.0),\n",
       "  ('mil', 19.0),\n",
       "  ('premios', 19.0),\n",
       "  ('pedido', 18.0),\n",
       "  ('entrevista', 18.0),\n",
       "  ('gobierno', 17.0),\n",
       "  ('casa', 17.0),\n",
       "  ('café', 17.0)],\n",
       " 'tromepe-2022_34': [('lima', 48.0),\n",
       "  ('vs', 47.0),\n",
       "  ('piqué', 40.0),\n",
       "  ('perú', 31.0),\n",
       "  ('clara', 28.0),\n",
       "  ('años', 27.0),\n",
       "  ('shakira', 26.0),\n",
       "  ('chía', 25.0),\n",
       "  ('lee', 23.0),\n",
       "  ('pedro', 22.0),\n",
       "  ('gerard', 22.0),\n",
       "  ('conoce', 21.0),\n",
       "  ('agosto', 21.0),\n",
       "  ('martí', 21.0),\n",
       "  ('magaly', 20.0),\n",
       "  ('santa', 20.0),\n",
       "  ('gol', 18.0),\n",
       "  ('mil', 17.0),\n",
       "  ('castillo', 17.0),\n",
       "  ('barcelona', 16.0),\n",
       "  ('samahara', 16.0),\n",
       "  ('league', 15.0),\n",
       "  ('rosa', 15.0),\n",
       "  ('covid', 14.0),\n",
       "  ('vía', 14.0),\n",
       "  ('lobatón', 14.0),\n",
       "  ('concierto', 14.0),\n",
       "  ('novia', 14.0),\n",
       "  ('manchester', 14.0),\n",
       "  ('diego', 13.0)],\n",
       " 'Gestionpe-2022_34': [('perú', 45.0),\n",
       "  ('millones', 38.0),\n",
       "  ('us', 35.0),\n",
       "  ('lima', 34.0),\n",
       "  ('bono', 33.0),\n",
       "  ('agosto', 28.0),\n",
       "  ('empresas', 27.0),\n",
       "  ('vídeo', 24.0),\n",
       "  ('video', 22.0),\n",
       "  ('alimentario', 22.0),\n",
       "  ('covid', 19.0),\n",
       "  ('crédito', 18.0),\n",
       "  ('tercerización', 18.0),\n",
       "  ('inversión', 18.0),\n",
       "  ('link', 17.0),\n",
       "  ('eeuu', 16.0),\n",
       "  ('elecciones', 16.0),\n",
       "  ('cierra', 15.0),\n",
       "  ('gestión', 15.0),\n",
       "  ('beneficiarios', 15.0),\n",
       "  ('inflación', 15.0),\n",
       "  ('prepara', 15.0),\n",
       "  ('año', 14.0),\n",
       "  ('riesgo', 14.0),\n",
       "  ('trimestre', 14.0),\n",
       "  ('castillo', 14.0),\n",
       "  ('acceder', 13.0),\n",
       "  ('fed', 13.0),\n",
       "  ('cambio', 13.0),\n",
       "  ('alza', 13.0)],\n",
       " 'diariocorreo-2022_34': [('paredes', 34.0),\n",
       "  ('castillo', 31.0),\n",
       "  ('pedro', 28.0),\n",
       "  ('yenifer', 25.0),\n",
       "  ('libertad', 22.0),\n",
       "  ('lima', 21.0),\n",
       "  ('fiscal', 21.0),\n",
       "  ('fiscalía', 21.0),\n",
       "  ('perú', 19.0),\n",
       "  ('años', 19.0),\n",
       "  ('prisión', 18.0),\n",
       "  ('covid', 17.0),\n",
       "  ('tumbes', 16.0),\n",
       "  ('presidente', 15.0),\n",
       "  ('gobierno', 14.0),\n",
       "  ('preventiva', 13.0),\n",
       "  ('vs', 12.0),\n",
       "  ('popular', 12.0),\n",
       "  ('horas', 12.0),\n",
       "  ('piura', 12.0),\n",
       "  ('agosto', 12.0),\n",
       "  ('tacna', 11.0),\n",
       "  ('puno', 11.0),\n",
       "  ('nación', 10.0),\n",
       "  ('reporta', 10.0),\n",
       "  ('arequipa', 10.0),\n",
       "  ('regional', 10.0),\n",
       "  ('congreso', 10.0),\n",
       "  ('mil', 10.0),\n",
       "  ('barcelona', 9.0)],\n",
       " 'ExpresoPeru-2022_34': [('castillo', 32.0),\n",
       "  ('pedro', 21.0),\n",
       "  ('perú', 17.0),\n",
       "  ('denuncia', 12.0),\n",
       "  ('paredes', 12.0),\n",
       "  ('luis', 10.0),\n",
       "  ('benavides', 9.0),\n",
       "  ('patricia', 9.0),\n",
       "  ('garcía', 7.0),\n",
       "  ('yenifer', 7.0),\n",
       "  ('fiscal', 7.0),\n",
       "  ('humala', 7.0),\n",
       "  ('presidente', 7.0),\n",
       "  ('colchado', 7.0),\n",
       "  ('antauro', 6.0),\n",
       "  ('josé', 6.0),\n",
       "  ('pide', 5.0),\n",
       "  ('mascarillas', 5.0),\n",
       "  ('miró', 5.0),\n",
       "  ('elecciones', 5.0),\n",
       "  ('elguera', 5.0),\n",
       "  ('congreso', 4.0),\n",
       "  ('susana', 4.0),\n",
       "  ('lilia', 4.0),\n",
       "  ('polidatos', 4.0),\n",
       "  ('loúltimo', 4.0),\n",
       "  ('fiscalía', 4.0),\n",
       "  ('enportada', 4.0),\n",
       "  ('villarán', 4.0),\n",
       "  ('años', 4.0)],\n",
       " 'diarioojo-2022_34': [('lima', 25.0),\n",
       "  ('magaly', 25.0),\n",
       "  ('piqué', 24.0),\n",
       "  ('años', 23.0),\n",
       "  ('pedro', 23.0),\n",
       "  ('castillo', 21.0),\n",
       "  ('gerard', 20.0),\n",
       "  ('mil', 19.0),\n",
       "  ('perú', 19.0),\n",
       "  ('shakira', 19.0),\n",
       "  ('covid', 19.0),\n",
       "  ('hija', 18.0),\n",
       "  ('samahara', 16.0),\n",
       "  ('karla', 15.0),\n",
       "  ('fiorella', 14.0),\n",
       "  ('vida', 14.0),\n",
       "  ('san', 13.0),\n",
       "  ('cree', 13.0),\n",
       "  ('paredes', 13.0),\n",
       "  ('juan', 13.0),\n",
       "  ('amor', 12.0),\n",
       "  ('separación', 12.0),\n",
       "  ('gisela', 12.0),\n",
       "  ('novia', 11.0),\n",
       "  ('tarazona', 11.0),\n",
       "  ('brunella', 11.0),\n",
       "  ('boda', 11.0),\n",
       "  ('conoce', 11.0),\n",
       "  ('ethel', 11.0),\n",
       "  ('melissa', 11.0)],\n",
       " 'DiarioElPeruano-2022_34': [('presidente', 26.0),\n",
       "  ('perú', 19.0),\n",
       "  ('pedro', 19.0),\n",
       "  ('castillo', 17.0),\n",
       "  ('normaslegales', 15.0),\n",
       "  ('consejo', 13.0),\n",
       "  ('nacional', 13.0),\n",
       "  ('ministros', 12.0),\n",
       "  ('año', 12.0),\n",
       "  ('años', 11.0),\n",
       "  ('ministerio', 11.0),\n",
       "  ('salud', 11.0),\n",
       "  ('país', 11.0),\n",
       "  ('ministro', 10.0),\n",
       "  ('agosto', 10.0),\n",
       "  ('seguridad', 10.0),\n",
       "  ('lima', 10.0),\n",
       "  ('millones', 10.0),\n",
       "  ('titular', 10.0),\n",
       "  ('gobierno', 10.0),\n",
       "  ('región', 9.0),\n",
       "  ('sector', 9.0),\n",
       "  ('defensa', 9.0),\n",
       "  ('ejecutivo', 9.0),\n",
       "  ('desarrollo', 9.0),\n",
       "  ('conoce', 9.0),\n",
       "  ('congreso', 8.0),\n",
       "  ('andinacanalonline', 8.0),\n",
       "  ('investigación', 8.0),\n",
       "  ('proyectos', 8.0)],\n",
       " 'larazon_pe-2022_34': [('congresista', 3.0),\n",
       "  ('uefa', 2.0),\n",
       "  ('mil', 2.0),\n",
       "  ('setiembre', 2.0),\n",
       "  ('señala', 2.0),\n",
       "  ('millones', 2.0),\n",
       "  ('dinero', 2.0),\n",
       "  ('audiencia', 2.0),\n",
       "  ('pena', 2.0),\n",
       "  ('gobierno', 2.0),\n",
       "  ('championsleague', 2.0),\n",
       "  ('año', 2.0),\n",
       "  ('prisión', 2.0),\n",
       "  ('país', 2.0),\n",
       "  ('paredes', 2.0),\n",
       "  ('fiscal', 2.0),\n",
       "  ('yenifer', 2.0),\n",
       "  ('ingresa', 2.0),\n",
       "  ('castillo', 2.0),\n",
       "  ('presentan', 2.0),\n",
       "  ('realmadrid', 2.0),\n",
       "  ('lee', 2.0),\n",
       "  ('infórmate', 2.0),\n",
       "  ('asaltan', 1.0),\n",
       "  ('web', 1.0),\n",
       "  ('reprograman', 1.0),\n",
       "  ('acusación', 1.0),\n",
       "  ('definen', 1.0),\n",
       "  ('seleccionado', 1.0),\n",
       "  ('mercado', 1.0)],\n",
       " 'elbuho_pe-2022_34': [('elbuho', 19.0),\n",
       "  ('elbuhope', 17.0),\n",
       "  ('alvuelo', 9.0),\n",
       "  ('arequipa', 9.0),\n",
       "  ('fiscal', 7.0),\n",
       "  ('perú', 7.0),\n",
       "  ('elecciones', 7.0),\n",
       "  ('castillo', 6.0),\n",
       "  ('paredes', 6.0),\n",
       "  ('nación', 5.0),\n",
       "  ('humala', 5.0),\n",
       "  ('antauro', 5.0),\n",
       "  ('prisión', 4.0),\n",
       "  ('ministro', 4.0),\n",
       "  ('trabajadores', 4.0),\n",
       "  ('yenifer', 4.0),\n",
       "  ('denuncia', 4.0),\n",
       "  ('exigen', 4.0),\n",
       "  ('pasó', 4.0),\n",
       "  ('pedro', 4.0),\n",
       "  ('benavides', 4.0),\n",
       "  ('pico', 4.0),\n",
       "  ('patricia', 4.0),\n",
       "  ('fiscalía', 4.0),\n",
       "  ('importa', 4.0),\n",
       "  ('fbc', 3.0),\n",
       "  ('congresista', 3.0),\n",
       "  ('pedido', 3.0),\n",
       "  ('huelga', 3.0),\n",
       "  ('libre', 3.0)],\n",
       " 'ensustrece-2022_34': [('ensustrece', 16.0),\n",
       "  ('escribe', 9.0),\n",
       "  ('años', 5.0),\n",
       "  ('castillo', 4.0),\n",
       "  ('completa', 3.0),\n",
       "  ('hildebrandt', 3.0),\n",
       "  ('congreso', 3.0),\n",
       "  ('suma', 3.0),\n",
       "  ('espino', 3.0),\n",
       "  ('fujimorismo', 3.0),\n",
       "  ('presidente', 3.0),\n",
       "  ('medina', 3.0),\n",
       "  ('mecozam', 3.0),\n",
       "  ('hugo', 3.0),\n",
       "  ('alcalde', 3.0),\n",
       "  ('azambranox', 2.0),\n",
       "  ('estigma', 2.0),\n",
       "  ('nenil', 2.0),\n",
       "  ('dinero', 2.0),\n",
       "  ('obtener', 2.0),\n",
       "  ('curso', 2.0),\n",
       "  ('claves', 2.0),\n",
       "  ('josé', 2.0),\n",
       "  ('parlamento', 2.0),\n",
       "  ('reportaje', 2.0),\n",
       "  ('pm', 2.0),\n",
       "  ('pide', 2.0),\n",
       "  ('vladimir', 2.0),\n",
       "  ('soniasuyon', 2.0),\n",
       "  ('repartija', 2.0)],\n",
       " 'elcomercio_peru-2022_33': [('agosto', 48.0),\n",
       "  ('perú', 39.0),\n",
       "  ('años', 33.0),\n",
       "  ('covid', 27.0),\n",
       "  ('millones', 26.0),\n",
       "  ('dólar', 25.0),\n",
       "  ('cambio', 21.0),\n",
       "  ('rusia', 20.0),\n",
       "  ('méxico', 20.0),\n",
       "  ('tipo', 19.0),\n",
       "  ('precio', 18.0),\n",
       "  ('lima', 18.0),\n",
       "  ('gobierno', 17.0),\n",
       "  ('mil', 16.0),\n",
       "  ('reporta', 15.0),\n",
       "  ('ucrania', 15.0),\n",
       "  ('mono', 14.0),\n",
       "  ('eeuu', 14.0),\n",
       "  ('viruela', 14.0),\n",
       "  ('colombia', 13.0),\n",
       "  ('pide', 13.0),\n",
       "  ('chile', 12.0),\n",
       "  ('caso', 12.0),\n",
       "  ('muertos', 12.0),\n",
       "  ('conoce', 11.0),\n",
       "  ('personas', 11.0),\n",
       "  ('horas', 10.0),\n",
       "  ('contagios', 10.0),\n",
       "  ('trump', 10.0),\n",
       "  ('venezuela', 10.0)],\n",
       " 'larepublica_pe-2022_33': [('politicalr', 292.0),\n",
       "  ('lrdeportes', 268.0),\n",
       "  ('video', 197.0),\n",
       "  ('perú', 77.0),\n",
       "  ('lima', 72.0),\n",
       "  ('castillo', 67.0),\n",
       "  ('agosto', 58.0),\n",
       "  ('congreso', 58.0),\n",
       "  ('conoce', 54.0),\n",
       "  ('pedro', 53.0),\n",
       "  ('paredes', 47.0),\n",
       "  ('loúltimo', 46.0),\n",
       "  ('envivo', 41.0),\n",
       "  ('años', 40.0),\n",
       "  ('verificadorlr', 38.0),\n",
       "  ('presidente', 37.0),\n",
       "  ('zambrano', 37.0),\n",
       "  ('alianza', 33.0),\n",
       "  ('carlos', 33.0),\n",
       "  ('yenifer', 32.0),\n",
       "  ('benedetto', 30.0),\n",
       "  ('millones', 30.0),\n",
       "  ('elecciones', 28.0),\n",
       "  ('lrtendencias', 28.0),\n",
       "  ('república', 28.0),\n",
       "  ('melgar', 27.0),\n",
       "  ('liga', 27.0),\n",
       "  ('partido', 27.0),\n",
       "  ('san', 27.0),\n",
       "  ('josé', 26.0)],\n",
       " 'peru21noticias-2022_33': [('castillo', 103.0),\n",
       "  ('pedro', 85.0),\n",
       "  ('perú', 62.0),\n",
       "  ('lima', 60.0),\n",
       "  ('cortita', 51.0),\n",
       "  ('años', 49.0),\n",
       "  ('gobierno', 48.0),\n",
       "  ('congreso', 47.0),\n",
       "  ('presidente', 45.0),\n",
       "  ('conoce', 43.0),\n",
       "  ('paredes', 41.0),\n",
       "  ('palacio', 39.0),\n",
       "  ('agosto', 38.0),\n",
       "  ('yenifer', 35.0),\n",
       "  ('josé', 34.0),\n",
       "  ('mil', 33.0),\n",
       "  ('fiscalía', 32.0),\n",
       "  ('millones', 31.0),\n",
       "  ('vs', 25.0),\n",
       "  ('real', 23.0),\n",
       "  ('covid', 23.0),\n",
       "  ('carlos', 22.0),\n",
       "  ('boca', 22.0),\n",
       "  ('niños', 21.0),\n",
       "  ('cámaras', 21.0),\n",
       "  ('ministro', 21.0),\n",
       "  ('humala', 21.0),\n",
       "  ('niño', 21.0),\n",
       "  ('pide', 20.0),\n",
       "  ('alcalde', 20.0)],\n",
       " 'tromepe-2022_33': [('vs', 69.0),\n",
       "  ('lee', 46.0),\n",
       "  ('lima', 45.0),\n",
       "  ('años', 45.0),\n",
       "  ('zambrano', 35.0),\n",
       "  ('perú', 33.0),\n",
       "  ('diego', 30.0),\n",
       "  ('carlos', 28.0),\n",
       "  ('boca', 27.0),\n",
       "  ('pedro', 27.0),\n",
       "  ('benedetto', 26.0),\n",
       "  ('casa', 26.0),\n",
       "  ('real', 25.0),\n",
       "  ('conoce', 25.0),\n",
       "  ('castillo', 24.0),\n",
       "  ('franco', 23.0),\n",
       "  ('liga', 22.0),\n",
       "  ('madrid', 22.0),\n",
       "  ('paz', 21.0),\n",
       "  ('magaly', 21.0),\n",
       "  ('hora', 20.0),\n",
       "  ('niño', 20.0),\n",
       "  ('mil', 20.0),\n",
       "  ('vía', 20.0),\n",
       "  ('jamila', 20.0),\n",
       "  ('gol', 20.0),\n",
       "  ('barra', 19.0),\n",
       "  ('paredes', 19.0),\n",
       "  ('sofía', 18.0),\n",
       "  ('directo', 18.0)],\n",
       " 'Gestionpe-2022_33': [('perú', 84.0),\n",
       "  ('lima', 63.0),\n",
       "  ('economía', 51.0),\n",
       "  ('millones', 49.0),\n",
       "  ('eeuu', 45.0),\n",
       "  ('elecciones', 39.0),\n",
       "  ('agosto', 35.0),\n",
       "  ('china', 32.0),\n",
       "  ('tasas', 31.0),\n",
       "  ('trabajo', 31.0),\n",
       "  ('años', 30.0),\n",
       "  ('riesgo', 28.0),\n",
       "  ('empresas', 28.0),\n",
       "  ('covid', 27.0),\n",
       "  ('congreso', 27.0),\n",
       "  ('bono', 27.0),\n",
       "  ('año', 26.0),\n",
       "  ('dólar', 25.0),\n",
       "  ('us', 24.0),\n",
       "  ('castillo', 24.0),\n",
       "  ('fed', 24.0),\n",
       "  ('votar', 24.0),\n",
       "  ('video', 24.0),\n",
       "  ('producción', 23.0),\n",
       "  ('gobierno', 23.0),\n",
       "  ('alimentario', 23.0),\n",
       "  ('mercado', 23.0),\n",
       "  ('alza', 23.0),\n",
       "  ('afp', 22.0),\n",
       "  ('peruanos', 22.0)],\n",
       " 'diariocorreo-2022_33': [('castillo', 55.0),\n",
       "  ('pedro', 48.0),\n",
       "  ('congreso', 33.0),\n",
       "  ('gobierno', 32.0),\n",
       "  ('perú', 31.0),\n",
       "  ('paredes', 30.0),\n",
       "  ('libertad', 29.0),\n",
       "  ('yenifer', 26.0),\n",
       "  ('covid', 24.0),\n",
       "  ('lima', 24.0),\n",
       "  ('josé', 24.0),\n",
       "  ('torres', 23.0),\n",
       "  ('prisión', 23.0),\n",
       "  ('años', 23.0),\n",
       "  ('fiscalía', 23.0),\n",
       "  ('presidente', 22.0),\n",
       "  ('mil', 21.0),\n",
       "  ('conoce', 21.0),\n",
       "  ('arequipa', 21.0),\n",
       "  ('piura', 21.0),\n",
       "  ('aníbal', 21.0),\n",
       "  ('tumbes', 20.0),\n",
       "  ('palacio', 20.0),\n",
       "  ('agosto', 20.0),\n",
       "  ('real', 19.0),\n",
       "  ('pide', 19.0),\n",
       "  ('mono', 19.0),\n",
       "  ('vs', 19.0),\n",
       "  ('viruela', 19.0),\n",
       "  ('elecciones', 19.0)],\n",
       " 'ExpresoPeru-2022_33': [('castillo', 47.0),\n",
       "  ('pedro', 25.0),\n",
       "  ('paredes', 23.0),\n",
       "  ('perú', 19.0),\n",
       "  ('congreso', 18.0),\n",
       "  ('yenifer', 18.0),\n",
       "  ('palacio', 17.0),\n",
       "  ('josé', 12.0),\n",
       "  ('torres', 11.0),\n",
       "  ('antauro', 10.0),\n",
       "  ('gobierno', 10.0),\n",
       "  ('luis', 9.0),\n",
       "  ('garcía', 8.0),\n",
       "  ('fiscalía', 8.0),\n",
       "  ('humala', 8.0),\n",
       "  ('aníbal', 8.0),\n",
       "  ('país', 7.0),\n",
       "  ('alvarado', 6.0),\n",
       "  ('enportada', 6.0),\n",
       "  ('niños', 6.0),\n",
       "  ('presidente', 6.0),\n",
       "  ('lima', 6.0),\n",
       "  ('geiner', 6.0),\n",
       "  ('preventiva', 6.0),\n",
       "  ('prisión', 6.0),\n",
       "  ('elguera', 5.0),\n",
       "  ('judicial', 5.0),\n",
       "  ('violencia', 5.0),\n",
       "  ('medina', 5.0),\n",
       "  ('guerra', 5.0)],\n",
       " 'diarioojo-2022_33': [('magaly', 46.0),\n",
       "  ('años', 45.0),\n",
       "  ('lima', 36.0),\n",
       "  ('sofía', 30.0),\n",
       "  ('castillo', 30.0),\n",
       "  ('hija', 29.0),\n",
       "  ('pedro', 28.0),\n",
       "  ('perú', 27.0),\n",
       "  ('franco', 27.0),\n",
       "  ('mil', 26.0),\n",
       "  ('jamila', 26.0),\n",
       "  ('paz', 24.0),\n",
       "  ('diego', 22.0),\n",
       "  ('barra', 22.0),\n",
       "  ('covid', 21.0),\n",
       "  ('conoce', 21.0),\n",
       "  ('revela', 18.0),\n",
       "  ('garcía', 17.0),\n",
       "  ('fiorella', 16.0),\n",
       "  ('zambrano', 16.0),\n",
       "  ('bertie', 15.0),\n",
       "  ('alondra', 15.0),\n",
       "  ('habría', 14.0),\n",
       "  ('programa', 14.0),\n",
       "  ('carlos', 14.0),\n",
       "  ('casa', 13.0),\n",
       "  ('hijo', 13.0),\n",
       "  ('cree', 13.0),\n",
       "  ('dahabreh', 13.0),\n",
       "  ('fiesta', 13.0)],\n",
       " 'DiarioElPeruano-2022_33': [('nacional', 29.0),\n",
       "  ('presidente', 27.0),\n",
       "  ('país', 24.0),\n",
       "  ('pedro', 22.0),\n",
       "  ('castillo', 22.0),\n",
       "  ('gobierno', 20.0),\n",
       "  ('lima', 15.0),\n",
       "  ('perú', 14.0),\n",
       "  ('año', 14.0),\n",
       "  ('millones', 14.0),\n",
       "  ('titular', 13.0),\n",
       "  ('normaslegales', 12.0),\n",
       "  ('república', 12.0),\n",
       "  ('atención', 12.0),\n",
       "  ('años', 11.0),\n",
       "  ('trabajo', 11.0),\n",
       "  ('congreso', 11.0),\n",
       "  ('ministro', 11.0),\n",
       "  ('josé', 10.0),\n",
       "  ('ley', 10.0),\n",
       "  ('soles', 9.0),\n",
       "  ('consejo', 9.0),\n",
       "  ('ministerio', 9.0),\n",
       "  ('programa', 9.0),\n",
       "  ('ejecutivo', 9.0),\n",
       "  ('agosto', 8.0),\n",
       "  ('decreto', 8.0),\n",
       "  ('palacio', 8.0),\n",
       "  ('representantes', 8.0),\n",
       "  ('proceso', 8.0)],\n",
       " 'larazon_pe-2022_33': [('leer', 8.0),\n",
       "  ('mandatario', 4.0),\n",
       "  ('agosto', 4.0),\n",
       "  ('millones', 3.0),\n",
       "  ('país', 3.0),\n",
       "  ('cerca', 3.0),\n",
       "  ('corrupción', 3.0),\n",
       "  ('castillo', 3.0),\n",
       "  ('estadounidenses', 3.0),\n",
       "  ('fiscalía', 3.0),\n",
       "  ('señala', 3.0),\n",
       "  ('cuñada', 3.0),\n",
       "  ('totalmente', 2.0),\n",
       "  ('sueldos', 2.0),\n",
       "  ('peruanos', 2.0),\n",
       "  ('guía', 2.0),\n",
       "  ('auditor', 2.0),\n",
       "  ('anunció', 2.0),\n",
       "  ('cambio', 2.0),\n",
       "  ('casas', 2.0),\n",
       "  ('aníbal', 2.0),\n",
       "  ('unidos', 2.0),\n",
       "  ('ucrania', 2.0),\n",
       "  ('premier', 2.0),\n",
       "  ('medidas', 2.0),\n",
       "  ('momentos', 2.0),\n",
       "  ('retorno', 2.0),\n",
       "  ('años', 2.0),\n",
       "  ('torres', 2.0),\n",
       "  ('perú', 2.0)],\n",
       " 'elbuho_pe-2022_33': [('aa', 0.0),\n",
       "  ('off', 0.0),\n",
       "  ('ofertarán', 0.0),\n",
       "  ('ofertados', 0.0),\n",
       "  ('ofertadas', 0.0),\n",
       "  ('oferta', 0.0),\n",
       "  ('ofensivos', 0.0),\n",
       "  ('ofensivo', 0.0),\n",
       "  ('ofensiva', 0.0),\n",
       "  ('ofensas', 0.0),\n",
       "  ('ofensa', 0.0),\n",
       "  ('ofendiendo', 0.0),\n",
       "  ('ofendido', 0.0),\n",
       "  ('ofender', 0.0),\n",
       "  ('of', 0.0),\n",
       "  ('oeste', 0.0),\n",
       "  ('oei', 0.0),\n",
       "  ('oefa', 0.0),\n",
       "  ('oechsle', 0.0),\n",
       "  ('oea', 0.0),\n",
       "  ('odpe', 0.0),\n",
       "  ('odontólogo', 0.0),\n",
       "  ('odios', 0.0),\n",
       "  ('odio', 0.0),\n",
       "  ('odinga', 0.0),\n",
       "  ('odian', 0.0),\n",
       "  ('odia', 0.0),\n",
       "  ('odesur', 0.0),\n",
       "  ('odesa', 0.0),\n",
       "  ('ofertas', 0.0)],\n",
       " 'ensustrece-2022_33': [('aa', 0.0),\n",
       "  ('off', 0.0),\n",
       "  ('ofertarán', 0.0),\n",
       "  ('ofertados', 0.0),\n",
       "  ('ofertadas', 0.0),\n",
       "  ('oferta', 0.0),\n",
       "  ('ofensivos', 0.0),\n",
       "  ('ofensivo', 0.0),\n",
       "  ('ofensiva', 0.0),\n",
       "  ('ofensas', 0.0),\n",
       "  ('ofensa', 0.0),\n",
       "  ('ofendiendo', 0.0),\n",
       "  ('ofendido', 0.0),\n",
       "  ('ofender', 0.0),\n",
       "  ('of', 0.0),\n",
       "  ('oeste', 0.0),\n",
       "  ('oei', 0.0),\n",
       "  ('oefa', 0.0),\n",
       "  ('oechsle', 0.0),\n",
       "  ('oea', 0.0),\n",
       "  ('odpe', 0.0),\n",
       "  ('odontólogo', 0.0),\n",
       "  ('odios', 0.0),\n",
       "  ('odio', 0.0),\n",
       "  ('odinga', 0.0),\n",
       "  ('odian', 0.0),\n",
       "  ('odia', 0.0),\n",
       "  ('odesur', 0.0),\n",
       "  ('odesa', 0.0),\n",
       "  ('ofertas', 0.0)],\n",
       " 'elcomercio_peru-2022_39': [('lima', 39.0),\n",
       "  ('perú', 38.0),\n",
       "  ('elecciones', 35.0),\n",
       "  ('setiembre', 29.0),\n",
       "  ('rusia', 27.0),\n",
       "  ('ian', 27.0),\n",
       "  ('renezp', 25.0),\n",
       "  ('huracán', 24.0),\n",
       "  ('candidato', 19.0),\n",
       "  ('ucrania', 18.0),\n",
       "  ('florida', 16.0),\n",
       "  ('precio', 16.0),\n",
       "  ('millones', 16.0),\n",
       "  ('años', 15.0),\n",
       "  ('cambio', 14.0),\n",
       "  ('perucheck', 14.0),\n",
       "  ('eeuu', 14.0),\n",
       "  ('tipo', 13.0),\n",
       "  ('regiones', 13.0),\n",
       "  ('candidatos', 13.0),\n",
       "  ('dólar', 13.0),\n",
       "  ('conoce', 13.0),\n",
       "  ('consulta', 11.0),\n",
       "  ('lula', 11.0),\n",
       "  ('bolsonaro', 11.0),\n",
       "  ('agua', 10.0),\n",
       "  ('cuba', 10.0),\n",
       "  ('octubre', 10.0),\n",
       "  ('alcaldía', 10.0),\n",
       "  ('nord', 10.0)],\n",
       " 'larepublica_pe-2022_39': [('politicalr', 235.0),\n",
       "  ('lrdeportes', 182.0),\n",
       "  ('video', 150.0),\n",
       "  ('perú', 90.0),\n",
       "  ('elecciones', 77.0),\n",
       "  ('lima', 74.0),\n",
       "  ('eligebien', 66.0),\n",
       "  ('debatexlr', 48.0),\n",
       "  ('envivo', 47.0),\n",
       "  ('octubre', 42.0),\n",
       "  ('castillo', 41.0),\n",
       "  ('loúltimo', 34.0),\n",
       "  ('votar', 34.0),\n",
       "  ('transmisión', 33.0),\n",
       "  ('minuto', 33.0),\n",
       "  ('años', 32.0),\n",
       "  ('candidatos', 32.0),\n",
       "  ('conoce', 31.0),\n",
       "  ('república', 28.0),\n",
       "  ('electoral', 27.0),\n",
       "  ('personas', 26.0),\n",
       "  ('pierdas', 26.0),\n",
       "  ('vs', 25.0),\n",
       "  ('salvador', 25.0),\n",
       "  ('candidato', 25.0),\n",
       "  ('alvarezrodrich', 24.0),\n",
       "  ('gobierno', 24.0),\n",
       "  ('partido', 24.0),\n",
       "  ('alcaldía', 23.0),\n",
       "  ('pedro', 23.0)],\n",
       " 'peru21noticias-2022_39': [('lima', 72.0),\n",
       "  ('elecciones', 69.0),\n",
       "  ('perú', 67.0),\n",
       "  ('castillo', 43.0),\n",
       "  ('minuto', 36.0),\n",
       "  ('octubre', 35.0),\n",
       "  ('cortita', 35.0),\n",
       "  ('envivo', 33.0),\n",
       "  ('candidato', 32.0),\n",
       "  ('conoce', 30.0),\n",
       "  ('alcaldía', 25.0),\n",
       "  ('urresti', 25.0),\n",
       "  ('años', 24.0),\n",
       "  ('pedro', 24.0),\n",
       "  ('daniel', 23.0),\n",
       "  ('caso', 21.0),\n",
       "  ('vásquez', 20.0),\n",
       "  ('candidatos', 20.0),\n",
       "  ('país', 19.0),\n",
       "  ('debate', 19.0),\n",
       "  ('vs', 19.0),\n",
       "  ('boca', 19.0),\n",
       "  ('mundial', 19.0),\n",
       "  ('lópez', 19.0),\n",
       "  ('avión', 19.0),\n",
       "  ('presidencial', 18.0),\n",
       "  ('fiscalía', 18.0),\n",
       "  ('setiembre', 18.0),\n",
       "  ('debatemunicipaljne', 17.0),\n",
       "  ('aliaga', 17.0)],\n",
       " 'tromepe-2022_39': [('lima', 61.0),\n",
       "  ('perú', 58.0),\n",
       "  ('vs', 58.0),\n",
       "  ('elecciones', 46.0),\n",
       "  ('magaly', 39.0),\n",
       "  ('show', 36.0),\n",
       "  ('lee', 31.0),\n",
       "  ('boca', 31.0),\n",
       "  ('castillo', 29.0),\n",
       "  ('paredes', 28.0),\n",
       "  ('peruana', 28.0),\n",
       "  ('melissa', 25.0),\n",
       "  ('alianza', 25.0),\n",
       "  ('salvador', 25.0),\n",
       "  ('gisela', 24.0),\n",
       "  ('alcaldía', 23.0),\n",
       "  ('selección', 22.0),\n",
       "  ('vida', 20.0),\n",
       "  ('robotina', 20.0),\n",
       "  ('reyna', 20.0),\n",
       "  ('christian', 20.0),\n",
       "  ('bryan', 20.0),\n",
       "  ('san', 19.0),\n",
       "  ('gol', 19.0),\n",
       "  ('candidato', 19.0),\n",
       "  ('rafael', 19.0),\n",
       "  ('robotín', 19.0),\n",
       "  ('octubre', 18.0),\n",
       "  ('conoce', 18.0),\n",
       "  ('pedro', 18.0)],\n",
       " 'Gestionpe-2022_39': [('elecciones', 101.0),\n",
       "  ('perú', 65.0),\n",
       "  ('lima', 58.0),\n",
       "  ('millones', 49.0),\n",
       "  ('votar', 47.0),\n",
       "  ('empresas', 36.0),\n",
       "  ('dólar', 30.0),\n",
       "  ('eeuu', 30.0),\n",
       "  ('año', 30.0),\n",
       "  ('octubre', 30.0),\n",
       "  ('años', 29.0),\n",
       "  ('alza', 28.0),\n",
       "  ('mercados', 27.0),\n",
       "  ('riesgo', 26.0),\n",
       "  ('us', 26.0),\n",
       "  ('lomásleídodesetiembre', 24.0),\n",
       "  ('precios', 24.0),\n",
       "  ('precio', 24.0),\n",
       "  ('crédito', 23.0),\n",
       "  ('castillo', 23.0),\n",
       "  ('inflación', 22.0),\n",
       "  ('mundial', 22.0),\n",
       "  ('dni', 21.0),\n",
       "  ('urresti', 21.0),\n",
       "  ('presidencial', 21.0),\n",
       "  ('avión', 20.0),\n",
       "  ('onpe', 20.0),\n",
       "  ('cobre', 19.0),\n",
       "  ('video', 19.0),\n",
       "  ('recesión', 18.0)],\n",
       " 'diariocorreo-2022_39': [('elecciones', 45.0),\n",
       "  ('lima', 35.0),\n",
       "  ('castillo', 35.0),\n",
       "  ('arequipa', 31.0),\n",
       "  ('perú', 29.0),\n",
       "  ('pedro', 29.0),\n",
       "  ('candidatos', 28.0),\n",
       "  ('años', 22.0),\n",
       "  ('candidato', 21.0),\n",
       "  ('octubre', 21.0),\n",
       "  ('puno', 20.0),\n",
       "  ('piura', 18.0),\n",
       "  ('vs', 17.0),\n",
       "  ('región', 16.0),\n",
       "  ('ministro', 15.0),\n",
       "  ('premium', 15.0),\n",
       "  ('presidente', 15.0),\n",
       "  ('gol', 14.0),\n",
       "  ('tumbes', 14.0),\n",
       "  ('presidencial', 14.0),\n",
       "  ('congreso', 13.0),\n",
       "  ('libertad', 13.0),\n",
       "  ('electoral', 13.0),\n",
       "  ('votación', 13.0),\n",
       "  ('millones', 13.0),\n",
       "  ('mil', 13.0),\n",
       "  ('alcaldía', 13.0),\n",
       "  ('gobierno', 12.0),\n",
       "  ('daniel', 12.0),\n",
       "  ('vásquez', 12.0)],\n",
       " 'ExpresoPeru-2022_39': [('castillo', 30.0),\n",
       "  ('pedro', 21.0),\n",
       "  ('elecciones', 19.0),\n",
       "  ('presidencial', 14.0),\n",
       "  ('avión', 13.0),\n",
       "  ('perú', 13.0),\n",
       "  ('vásquez', 11.0),\n",
       "  ('caso', 10.0),\n",
       "  ('lay', 10.0),\n",
       "  ('lópez', 8.0),\n",
       "  ('aliaga', 8.0),\n",
       "  ('jorge', 8.0),\n",
       "  ('votar', 7.0),\n",
       "  ('deja', 7.0),\n",
       "  ('luis', 7.0),\n",
       "  ('aníbal', 6.0),\n",
       "  ('torres', 6.0),\n",
       "  ('forsyth', 6.0),\n",
       "  ('jne', 6.0),\n",
       "  ('años', 6.0),\n",
       "  ('sobrino', 6.0),\n",
       "  ('presidente', 6.0),\n",
       "  ('urresti', 6.0),\n",
       "  ('rafael', 6.0),\n",
       "  ('mil', 6.0),\n",
       "  ('pide', 6.0),\n",
       "  ('ortiz', 5.0),\n",
       "  ('paredes', 5.0),\n",
       "  ('octubre', 5.0),\n",
       "  ('lima', 5.0)],\n",
       " 'diarioojo-2022_39': [('elecciones', 45.0),\n",
       "  ('magaly', 44.0),\n",
       "  ('robotín', 28.0),\n",
       "  ('lima', 27.0),\n",
       "  ('perú', 24.0),\n",
       "  ('show', 23.0),\n",
       "  ('melissa', 23.0),\n",
       "  ('gisela', 21.0),\n",
       "  ('robotina', 20.0),\n",
       "  ('octubre', 18.0),\n",
       "  ('años', 18.0),\n",
       "  ('paredes', 18.0),\n",
       "  ('castillo', 15.0),\n",
       "  ('boca', 15.0),\n",
       "  ('valcárcel', 15.0),\n",
       "  ('conoce', 13.0),\n",
       "  ('christian', 13.0),\n",
       "  ('peruana', 13.0),\n",
       "  ('hija', 13.0),\n",
       "  ('urresti', 12.0),\n",
       "  ('medina', 12.0),\n",
       "  ('covid', 12.0),\n",
       "  ('rafael', 11.0),\n",
       "  ('san', 11.0),\n",
       "  ('revela', 11.0),\n",
       "  ('municipal', 11.0),\n",
       "  ('alcaldía', 11.0),\n",
       "  ('tv', 11.0),\n",
       "  ('lópez', 11.0),\n",
       "  ('votar', 11.0)],\n",
       " 'DiarioElPeruano-2022_39': [('lima', 27.0),\n",
       "  ('perú', 21.0),\n",
       "  ('alcaldía', 19.0),\n",
       "  ('país', 19.0),\n",
       "  ('nacional', 18.0),\n",
       "  ('debatemunicipaljne', 17.0),\n",
       "  ('elecciones', 14.0),\n",
       "  ('presidente', 14.0),\n",
       "  ('salud', 14.0),\n",
       "  ('ministerio', 14.0),\n",
       "  ('candidatos', 13.0),\n",
       "  ('programa', 12.0),\n",
       "  ('regionales', 12.0),\n",
       "  ('millones', 11.0),\n",
       "  ('octubre', 11.0),\n",
       "  ('año', 11.0),\n",
       "  ('electoral', 9.0),\n",
       "  ('titular', 9.0),\n",
       "  ('municipales', 9.0),\n",
       "  ('pedro', 9.0),\n",
       "  ('castillo', 9.0),\n",
       "  ('ministro', 9.0),\n",
       "  ('obras', 8.0),\n",
       "  ('social', 8.0),\n",
       "  ('san', 8.0),\n",
       "  ('normaslegales', 8.0),\n",
       "  ('proyecto', 8.0),\n",
       "  ('atención', 8.0),\n",
       "  ('ministros', 8.0),\n",
       "  ('derecho', 7.0)],\n",
       " 'larazon_pe-2022_39': [('nota', 5.0),\n",
       "  ('denuncia', 4.0),\n",
       "  ('lima', 4.0),\n",
       "  ('perú', 4.0),\n",
       "  ('fiscal', 3.0),\n",
       "  ('andino', 3.0),\n",
       "  ('san', 3.0),\n",
       "  ('pedro', 2.0),\n",
       "  ('electoral', 2.0),\n",
       "  ('candidatos', 2.0),\n",
       "  ('pide', 2.0),\n",
       "  ('ministerio', 2.0),\n",
       "  ('fútbol', 2.0),\n",
       "  ('congreso', 2.0),\n",
       "  ('baja', 2.0),\n",
       "  ('distrito', 2.0),\n",
       "  ('jurado', 2.0),\n",
       "  ('gobierno', 2.0),\n",
       "  ('rafael', 2.0),\n",
       "  ('metropolitana', 2.0),\n",
       "  ('comunitario', 2.0),\n",
       "  ('proyectos', 2.0),\n",
       "  ('visas', 2.0),\n",
       "  ('lópez', 2.0),\n",
       "  ('portadas', 2.0),\n",
       "  ('candidato', 2.0),\n",
       "  ('castillo', 2.0),\n",
       "  ('nación', 2.0),\n",
       "  ('país', 2.0),\n",
       "  ('señala', 2.0)],\n",
       " 'elbuho_pe-2022_39': [('elbuhope', 50.0),\n",
       "  ('arequipa', 42.0),\n",
       "  ('elecciones', 41.0),\n",
       "  ('elbuho', 22.0),\n",
       "  ('candidatos', 18.0),\n",
       "  ('alvuelo', 16.0),\n",
       "  ('electoral', 12.0),\n",
       "  ('regionales', 10.0),\n",
       "  ('campaña', 10.0),\n",
       "  ('perú', 10.0),\n",
       "  ('candidato', 9.0),\n",
       "  ('urna', 8.0),\n",
       "  ('boca', 8.0),\n",
       "  ('pasó', 7.0),\n",
       "  ('domingo', 6.0),\n",
       "  ('puno', 6.0),\n",
       "  ('alcaldía', 5.0),\n",
       "  ('regional', 5.0),\n",
       "  ('antauro', 5.0),\n",
       "  ('rohel', 5.0),\n",
       "  ('provincial', 5.0),\n",
       "  ('sánchez', 5.0),\n",
       "  ('cobertura', 5.0),\n",
       "  ('gobernador', 5.0),\n",
       "  ('congresista', 5.0),\n",
       "  ('movimientos', 5.0),\n",
       "  ('cierre', 5.0),\n",
       "  ('torres', 5.0),\n",
       "  ('castillo', 5.0),\n",
       "  ('octubre', 5.0)],\n",
       " 'ensustrece-2022_39': [('ensustrece', 8.0),\n",
       "  ('hildebrandt', 7.0),\n",
       "  ('eloymarchan', 4.0),\n",
       "  ('escribe', 4.0),\n",
       "  ('lima', 4.0),\n",
       "  ('presidente', 3.0),\n",
       "  ('canal', 3.0),\n",
       "  ('hume', 2.0),\n",
       "  ('reportaje', 2.0),\n",
       "  ('edición', 2.0),\n",
       "  ('asco', 2.0),\n",
       "  ('justicia', 2.0),\n",
       "  ('quesada', 2.0),\n",
       "  ('fiscal', 2.0),\n",
       "  ('nación', 2.0),\n",
       "  ('maría', 2.0),\n",
       "  ('hermana', 2.0),\n",
       "  ('podcast', 2.0),\n",
       "  ('acaba', 2.0),\n",
       "  ('cifras', 2.0),\n",
       "  ('américa', 2.0),\n",
       "  ('miró', 2.0),\n",
       "  ('gobierno', 2.0),\n",
       "  ('vida', 2.0),\n",
       "  ('gilberto', 2.0),\n",
       "  ('acusación', 1.0),\n",
       "  ('azambranox', 1.0),\n",
       "  ('especie', 1.0),\n",
       "  ('taxista', 1.0),\n",
       "  ('tema', 1.0)],\n",
       " 'elcomercio_peru-2022_44': [('noviembre', 36.0),\n",
       "  ('lula', 33.0),\n",
       "  ('brasil', 26.0),\n",
       "  ('perú', 25.0),\n",
       "  ('lima', 25.0),\n",
       "  ('rusia', 18.0),\n",
       "  ('millones', 18.0),\n",
       "  ('elecciones', 16.0),\n",
       "  ('ucrania', 16.0),\n",
       "  ('corea', 16.0),\n",
       "  ('eeuu', 15.0),\n",
       "  ('dólar', 14.0),\n",
       "  ('covid', 13.0),\n",
       "  ('unidos', 12.0),\n",
       "  ('precio', 12.0),\n",
       "  ('cambio', 12.0),\n",
       "  ('años', 12.0),\n",
       "  ('tipo', 12.0),\n",
       "  ('silva', 11.0),\n",
       "  ('personas', 11.0),\n",
       "  ('colombia', 11.0),\n",
       "  ('bolsonaro', 10.0),\n",
       "  ('victoria', 10.0),\n",
       "  ('conoce', 10.0),\n",
       "  ('santos', 9.0),\n",
       "  ('policía', 9.0),\n",
       "  ('gobierno', 9.0),\n",
       "  ('norte', 9.0),\n",
       "  ('tasas', 8.0),\n",
       "  ('venezuela', 8.0)],\n",
       " 'larepublica_pe-2022_44': [('politicalr', 166.0),\n",
       "  ('lrdeportes', 164.0),\n",
       "  ('video', 103.0),\n",
       "  ('lima', 51.0),\n",
       "  ('noviembre', 51.0),\n",
       "  ('perú', 48.0),\n",
       "  ('castillo', 44.0),\n",
       "  ('alianza', 41.0),\n",
       "  ('melgar', 38.0),\n",
       "  ('liga', 35.0),\n",
       "  ('congreso', 31.0),\n",
       "  ('cristal', 30.0),\n",
       "  ('presidente', 26.0),\n",
       "  ('años', 26.0),\n",
       "  ('canal', 26.0),\n",
       "  ('brasil', 24.0),\n",
       "  ('caso', 24.0),\n",
       "  ('→', 24.0),\n",
       "  ('pedro', 24.0),\n",
       "  ('suscríbete', 23.0),\n",
       "  ('lula', 23.0),\n",
       "  ('youtube', 23.0),\n",
       "  ('verificadorlr', 22.0),\n",
       "  ('lrtendencias', 22.0),\n",
       "  ('oea', 21.0),\n",
       "  ('mira', 21.0),\n",
       "  ('loúltimo', 19.0),\n",
       "  ('país', 19.0),\n",
       "  ('entrevista', 17.0),\n",
       "  ('envivo', 17.0)],\n",
       " 'peru21noticias-2022_44': [('perú', 46.0),\n",
       "  ('castillo', 44.0),\n",
       "  ('lima', 38.0),\n",
       "  ('pedro', 37.0),\n",
       "  ('cortita', 36.0),\n",
       "  ('noviembre', 32.0),\n",
       "  ('conoce', 21.0),\n",
       "  ('presidente', 19.0),\n",
       "  ('vs', 17.0),\n",
       "  ('años', 17.0),\n",
       "  ('oea', 17.0),\n",
       "  ('nacional', 16.0),\n",
       "  ('brasil', 15.0),\n",
       "  ('mundial', 14.0),\n",
       "  ('gol', 13.0),\n",
       "  ('halloween', 13.0),\n",
       "  ('millones', 13.0),\n",
       "  ('país', 13.0),\n",
       "  ('peruana', 12.0),\n",
       "  ('rusia', 12.0),\n",
       "  ('piqué', 12.0),\n",
       "  ('josé', 12.0),\n",
       "  ('congreso', 11.0),\n",
       "  ('fondo', 11.0),\n",
       "  ('odebrecht', 11.0),\n",
       "  ('caso', 11.0),\n",
       "  ('mil', 11.0),\n",
       "  ('san', 11.0),\n",
       "  ('familia', 11.0),\n",
       "  ('sitio', 11.0)],\n",
       " 'tromepe-2022_44': [('lima', 47.0),\n",
       "  ('vs', 36.0),\n",
       "  ('halloween', 31.0),\n",
       "  ('alianza', 27.0),\n",
       "  ('conoce', 23.0),\n",
       "  ('noviembre', 23.0),\n",
       "  ('perú', 23.0),\n",
       "  ('magaly', 21.0),\n",
       "  ('melissa', 21.0),\n",
       "  ('melgar', 21.0),\n",
       "  ('john', 21.0),\n",
       "  ('amor', 21.0),\n",
       "  ('castillo', 20.0),\n",
       "  ('kelvin', 20.0),\n",
       "  ('cristal', 20.0),\n",
       "  ('liga', 19.0),\n",
       "  ('pedro', 19.0),\n",
       "  ('mundial', 18.0),\n",
       "  ('piqué', 18.0),\n",
       "  ('mil', 15.0),\n",
       "  ('gerard', 15.0),\n",
       "  ('disfraz', 14.0),\n",
       "  ('giuliana', 14.0),\n",
       "  ('show', 13.0),\n",
       "  ('américa', 12.0),\n",
       "  ('familia', 12.0),\n",
       "  ('revela', 12.0),\n",
       "  ('sporting', 12.0),\n",
       "  ('paredes', 12.0),\n",
       "  ('clausura', 12.0)],\n",
       " 'Gestionpe-2022_44': [('perú', 76.0),\n",
       "  ('lomásleídodeoctubre', 48.0),\n",
       "  ('noviembre', 46.0),\n",
       "  ('bono', 38.0),\n",
       "  ('alimentario', 34.0),\n",
       "  ('lima', 33.0),\n",
       "  ('tasas', 23.0),\n",
       "  ('fed', 20.0),\n",
       "  ('empresas', 20.0),\n",
       "  ('covid', 20.0),\n",
       "  ('castillo', 20.0),\n",
       "  ('link', 19.0),\n",
       "  ('precios', 19.0),\n",
       "  ('pago', 18.0),\n",
       "  ('eeuu', 17.0),\n",
       "  ('dólar', 17.0),\n",
       "  ('beneficiario', 16.0),\n",
       "  ('producción', 16.0),\n",
       "  ('sube', 16.0),\n",
       "  ('trabajo', 16.0),\n",
       "  ('mercados', 15.0),\n",
       "  ('gobierno', 15.0),\n",
       "  ('peruanos', 14.0),\n",
       "  ('twitter', 14.0),\n",
       "  ('whatsapp', 14.0),\n",
       "  ('soles', 14.0),\n",
       "  ('años', 14.0),\n",
       "  ('rusia', 14.0),\n",
       "  ('unidos', 13.0),\n",
       "  ('espera', 13.0)],\n",
       " 'diariocorreo-2022_44': [('lima', 36.0),\n",
       "  ('castillo', 30.0),\n",
       "  ('noviembre', 24.0),\n",
       "  ('pedro', 21.0),\n",
       "  ('perú', 18.0),\n",
       "  ('vs', 16.0),\n",
       "  ('brasil', 14.0),\n",
       "  ('arequipa', 13.0),\n",
       "  ('mil', 12.0),\n",
       "  ('corea', 12.0),\n",
       "  ('caso', 12.0),\n",
       "  ('alianza', 12.0),\n",
       "  ('rusia', 11.0),\n",
       "  ('sporting', 11.0),\n",
       "  ('cristal', 11.0),\n",
       "  ('tumbes', 11.0),\n",
       "  ('millones', 10.0),\n",
       "  ('gobierno', 10.0),\n",
       "  ('trujillo', 10.0),\n",
       "  ('gol', 10.0),\n",
       "  ('horas', 10.0),\n",
       "  ('melgar', 9.0),\n",
       "  ('mundial', 9.0),\n",
       "  ('halloween', 9.0),\n",
       "  ('presidente', 9.0),\n",
       "  ('fiscalía', 9.0),\n",
       "  ('huancayo', 9.0),\n",
       "  ('congreso', 9.0),\n",
       "  ('lula', 9.0),\n",
       "  ('juan', 9.0)],\n",
       " 'ExpresoPeru-2022_44': [('castillo', 23.0),\n",
       "  ('pedro', 14.0),\n",
       "  ('perú', 12.0),\n",
       "  ('luis', 10.0),\n",
       "  ('brasil', 8.0),\n",
       "  ('oea', 8.0),\n",
       "  ('odebrecht', 7.0),\n",
       "  ('congreso', 6.0),\n",
       "  ('jorge', 6.0),\n",
       "  ('dini', 6.0),\n",
       "  ('lula', 6.0),\n",
       "  ('gobierno', 6.0),\n",
       "  ('césar', 5.0),\n",
       "  ('noviembre', 5.0),\n",
       "  ('nacional', 5.0),\n",
       "  ('polidatos', 5.0),\n",
       "  ('cerrón', 5.0),\n",
       "  ('marcha', 5.0),\n",
       "  ('presidente', 4.0),\n",
       "  ('sepa', 4.0),\n",
       "  ('miró', 4.0),\n",
       "  ('judicial', 4.0),\n",
       "  ('petroperú', 4.0),\n",
       "  ('mil', 4.0),\n",
       "  ('paredes', 4.0),\n",
       "  ('alejandro', 4.0),\n",
       "  ('silva', 4.0),\n",
       "  ('salas', 4.0),\n",
       "  ('halloween', 4.0),\n",
       "  ('lópez', 4.0)],\n",
       " 'diarioojo-2022_44': [('halloween', 39.0),\n",
       "  ('lima', 34.0),\n",
       "  ('kelvin', 28.0),\n",
       "  ('magaly', 27.0),\n",
       "  ('john', 27.0),\n",
       "  ('melissa', 26.0),\n",
       "  ('perú', 23.0),\n",
       "  ('paredes', 19.0),\n",
       "  ('noviembre', 18.0),\n",
       "  ('dalia', 17.0),\n",
       "  ('años', 15.0),\n",
       "  ('gisela', 15.0),\n",
       "  ('hijos', 13.0),\n",
       "  ('alianza', 13.0),\n",
       "  ('covid', 13.0),\n",
       "  ('hija', 12.0),\n",
       "  ('rodrigo', 12.0),\n",
       "  ('pedro', 12.0),\n",
       "  ('mil', 12.0),\n",
       "  ('disfraz', 11.0),\n",
       "  ('revela', 11.0),\n",
       "  ('cree', 11.0),\n",
       "  ('sitio', 11.0),\n",
       "  ('hijo', 11.0),\n",
       "  ('san', 11.0),\n",
       "  ('rengifo', 10.0),\n",
       "  ('millones', 10.0),\n",
       "  ('bono', 10.0),\n",
       "  ('durán', 10.0),\n",
       "  ('vivir', 10.0)],\n",
       " 'DiarioElPeruano-2022_44': [('noviembre', 17.0),\n",
       "  ('perú', 17.0),\n",
       "  ('presidente', 16.0),\n",
       "  ('lima', 16.0),\n",
       "  ('país', 14.0),\n",
       "  ('nacional', 13.0),\n",
       "  ('millones', 12.0),\n",
       "  ('personas', 11.0),\n",
       "  ('digital', 11.0),\n",
       "  ('gobierno', 10.0),\n",
       "  ('conoce', 10.0),\n",
       "  ('pago', 9.0),\n",
       "  ('congreso', 8.0),\n",
       "  ('soles', 8.0),\n",
       "  ('atención', 8.0),\n",
       "  ('pedro', 8.0),\n",
       "  ('trabajo', 8.0),\n",
       "  ('castillo', 8.0),\n",
       "  ('bono', 8.0),\n",
       "  ('oea', 7.0),\n",
       "  ('usuarios', 7.0),\n",
       "  ('alimentario', 7.0),\n",
       "  ('exposición', 7.0),\n",
       "  ('sistema', 7.0),\n",
       "  ('callao', 7.0),\n",
       "  ('trabajadores', 6.0),\n",
       "  ('titular', 6.0),\n",
       "  ('mujer', 6.0),\n",
       "  ('fotográfica', 6.0),\n",
       "  ('minsaperu', 6.0)],\n",
       " 'larazon_pe-2022_44': [('equipo', 5.0),\n",
       "  ('perú', 4.0),\n",
       "  ('cristal', 4.0),\n",
       "  ('torneo', 4.0),\n",
       "  ('especial', 3.0),\n",
       "  ('sporting', 3.0),\n",
       "  ('fiscalía', 3.0),\n",
       "  ('libre', 3.0),\n",
       "  ('país', 3.0),\n",
       "  ('noviembre', 3.0),\n",
       "  ('premierleague', 3.0),\n",
       "  ('congresista', 3.0),\n",
       "  ('ley', 2.0),\n",
       "  ('policía', 2.0),\n",
       "  ('prefectos', 2.0),\n",
       "  ('nacional', 2.0),\n",
       "  ('uefachampionsleague', 2.0),\n",
       "  ('pedido', 2.0),\n",
       "  ('cuadro', 2.0),\n",
       "  ('doblete', 2.0),\n",
       "  ('nota', 2.0),\n",
       "  ('corrupción', 2.0),\n",
       "  ('encontraron', 2.0),\n",
       "  ('lima', 2.0),\n",
       "  ('volvió', 2.0),\n",
       "  ('laligasantander', 2.0),\n",
       "  ('pedro', 2.0),\n",
       "  ('sur', 2.0),\n",
       "  ('asegura', 2.0),\n",
       "  ('martes', 2.0)],\n",
       " 'elbuho_pe-2022_44': [('elbuhope', 40.0),\n",
       "  ('elbuho', 21.0),\n",
       "  ('arequipa', 18.0),\n",
       "  ('perú', 12.0),\n",
       "  ('alvuelo', 9.0),\n",
       "  ('castillo', 6.0),\n",
       "  ('pasó', 6.0),\n",
       "  ('ayacucho', 5.0),\n",
       "  ('salida', 5.0),\n",
       "  ('san', 5.0),\n",
       "  ('entrevista', 5.0),\n",
       "  ('hospital', 5.0),\n",
       "  ('oea', 5.0),\n",
       "  ('melgar', 5.0),\n",
       "  ('fiscalía', 5.0),\n",
       "  ('fbc', 5.0),\n",
       "  ('comprometen', 4.0),\n",
       "  ('sporting', 4.0),\n",
       "  ('josé', 4.0),\n",
       "  ('funcionaria', 4.0),\n",
       "  ('lima', 4.0),\n",
       "  ('elecciones', 4.0),\n",
       "  ('obras', 4.0),\n",
       "  ('presidente', 4.0),\n",
       "  ('corrupción', 4.0),\n",
       "  ('audios', 4.0),\n",
       "  ('pedro', 4.0),\n",
       "  ('pedido', 4.0),\n",
       "  ('cristal', 4.0),\n",
       "  ('partido', 4.0)],\n",
       " 'ensustrece-2022_44': [('hildebrandt', 5.0),\n",
       "  ('castillo', 4.0),\n",
       "  ('izquierda', 4.0),\n",
       "  ('ensustrece', 3.0),\n",
       "  ('señor', 3.0),\n",
       "  ('césar', 2.0),\n",
       "  ('votos', 2.0),\n",
       "  ('cero', 2.0),\n",
       "  ('suspensión', 2.0),\n",
       "  ('podcast', 2.0),\n",
       "  ('evaluará', 1.0),\n",
       "  ('fenatep', 1.0),\n",
       "  ('congreso', 1.0),\n",
       "  ('eloymarchan', 1.0),\n",
       "  ('jalado', 1.0),\n",
       "  ('alcanzado', 1.0),\n",
       "  ('vergüenza', 1.0),\n",
       "  ('oposición', 1.0),\n",
       "  ('frente', 1.0),\n",
       "  ('masoquista', 1.0),\n",
       "  ('pm', 1.0),\n",
       "  ('destrozado', 1.0),\n",
       "  ('voltearle', 1.0),\n",
       "  ('gobierno', 1.0),\n",
       "  ('asunto', 1.0),\n",
       "  ('azambranox', 1.0),\n",
       "  ('diciembre', 1.0),\n",
       "  ('gracias', 1.0),\n",
       "  ('copado', 1.0),\n",
       "  ('sindical', 1.0)],\n",
       " 'elcomercio_peru-2022_49': [('castillo', 52.0),\n",
       "  ('perú', 44.0),\n",
       "  ('pedro', 41.0),\n",
       "  ('diciembre', 39.0),\n",
       "  ('gobierno', 25.0),\n",
       "  ('boluarte', 24.0),\n",
       "  ('golpe', 22.0),\n",
       "  ('covid', 20.0),\n",
       "  ('lima', 20.0),\n",
       "  ('congreso', 20.0),\n",
       "  ('ucrania', 19.0),\n",
       "  ('unidos', 18.0),\n",
       "  ('dina', 17.0),\n",
       "  ('rusia', 16.0),\n",
       "  ('dólar', 14.0),\n",
       "  ('eeuu', 14.0),\n",
       "  ('precio', 14.0),\n",
       "  ('años', 13.0),\n",
       "  ('presidenta', 13.0),\n",
       "  ('tipo', 12.0),\n",
       "  ('cambio', 12.0),\n",
       "  ('politicaecpe', 12.0),\n",
       "  ('china', 12.0),\n",
       "  ('presidente', 11.0),\n",
       "  ('kirchner', 11.0),\n",
       "  ('conoce', 10.0),\n",
       "  ('corrupción', 10.0),\n",
       "  ('colombia', 10.0),\n",
       "  ('pide', 9.0),\n",
       "  ('cristina', 9.0)],\n",
       " 'larepublica_pe-2022_49': [('politicalr', 310.0),\n",
       "  ('lrdeportes', 254.0),\n",
       "  ('castillo', 218.0),\n",
       "  ('pedro', 180.0),\n",
       "  ('video', 116.0),\n",
       "  ('envivo', 98.0),\n",
       "  ('boluarte', 97.0),\n",
       "  ('dina', 88.0),\n",
       "  ('loúltimo', 88.0),\n",
       "  ('congreso', 86.0),\n",
       "  ('perú', 86.0),\n",
       "  ('golpe', 66.0),\n",
       "  ('vacancia', 49.0),\n",
       "  ('lima', 47.0),\n",
       "  ('cierre', 45.0),\n",
       "  ('vs', 43.0),\n",
       "  ('brasil', 43.0),\n",
       "  ('mundial', 42.0),\n",
       "  ('diciembre', 38.0),\n",
       "  ('presidente', 35.0),\n",
       "  ('croacia', 34.0),\n",
       "  ('presidenta', 32.0),\n",
       "  ('años', 31.0),\n",
       "  ('país', 31.0),\n",
       "  ('argentina', 30.0),\n",
       "  ('fiscalía', 30.0),\n",
       "  ('república', 30.0),\n",
       "  ('portugal', 29.0),\n",
       "  ('marruecos', 28.0),\n",
       "  ('ministro', 27.0)],\n",
       " 'peru21noticias-2022_49': [('castillo', 176.0),\n",
       "  ('pedro', 148.0),\n",
       "  ('boluarte', 72.0),\n",
       "  ('dina', 71.0),\n",
       "  ('mundial', 66.0),\n",
       "  ('qatar', 65.0),\n",
       "  ('perú', 63.0),\n",
       "  ('congreso', 62.0),\n",
       "  ('golpe', 59.0),\n",
       "  ('diciembre', 57.0),\n",
       "  ('lima', 56.0),\n",
       "  ('vs', 48.0),\n",
       "  ('presidenta', 41.0),\n",
       "  ('vacancia', 35.0),\n",
       "  ('república', 32.0),\n",
       "  ('gobierno', 32.0),\n",
       "  ('gabinete', 32.0),\n",
       "  ('cortita', 32.0),\n",
       "  ('conoce', 30.0),\n",
       "  ('portugal', 30.0),\n",
       "  ('brasil', 30.0),\n",
       "  ('partido', 29.0),\n",
       "  ('presidente', 28.0),\n",
       "  ('argentina', 26.0),\n",
       "  ('cuartos', 26.0),\n",
       "  ('dini', 24.0),\n",
       "  ('directo', 23.0),\n",
       "  ('envivo', 22.0),\n",
       "  ('croacia', 22.0),\n",
       "  ('ministro', 22.0)],\n",
       " 'tromepe-2022_49': [('castillo', 147.0),\n",
       "  ('pedro', 126.0),\n",
       "  ('qatar', 103.0),\n",
       "  ('mundial', 83.0),\n",
       "  ('vs', 73.0),\n",
       "  ('brasil', 52.0),\n",
       "  ('argentina', 45.0),\n",
       "  ('congreso', 42.0),\n",
       "  ('dina', 41.0),\n",
       "  ('boluarte', 39.0),\n",
       "  ('cristiano', 37.0),\n",
       "  ('golpe', 37.0),\n",
       "  ('magaly', 36.0),\n",
       "  ('portugal', 35.0),\n",
       "  ('lima', 34.0),\n",
       "  ('croacia', 34.0),\n",
       "  ('perú', 34.0),\n",
       "  ('marruecos', 34.0),\n",
       "  ('ronaldo', 32.0),\n",
       "  ('lee', 31.0),\n",
       "  ('cuartos', 31.0),\n",
       "  ('bajos', 26.0),\n",
       "  ('países', 26.0),\n",
       "  ('vacancia', 25.0),\n",
       "  ('selección', 25.0),\n",
       "  ('españa', 25.0),\n",
       "  ('presidente', 24.0),\n",
       "  ('messi', 23.0),\n",
       "  ('canal', 22.0),\n",
       "  ('tv', 21.0)],\n",
       " 'Gestionpe-2022_49': [('castillo', 93.0),\n",
       "  ('pedro', 75.0),\n",
       "  ('perú', 67.0),\n",
       "  ('boluarte', 50.0),\n",
       "  ('golpe', 48.0),\n",
       "  ('dina', 41.0),\n",
       "  ('diciembre', 38.0),\n",
       "  ('millones', 28.0),\n",
       "  ('congreso', 28.0),\n",
       "  ('gobierno', 26.0),\n",
       "  ('año', 26.0),\n",
       "  ('bono', 23.0),\n",
       "  ('vacancia', 22.0),\n",
       "  ('empresas', 21.0),\n",
       "  ('feriados', 21.0),\n",
       "  ('eeuu', 21.0),\n",
       "  ('alimentario', 20.0),\n",
       "  ('mundial', 20.0),\n",
       "  ('pago', 19.0),\n",
       "  ('us', 18.0),\n",
       "  ('lima', 17.0),\n",
       "  ('qatar', 17.0),\n",
       "  ('aviar', 17.0),\n",
       "  ('dólar', 17.0),\n",
       "  ('gripe', 17.0),\n",
       "  ('sector', 16.0),\n",
       "  ('mejores', 16.0),\n",
       "  ('inflación', 15.0),\n",
       "  ('país', 15.0),\n",
       "  ('universidades', 14.0)],\n",
       " 'diariocorreo-2022_49': [('castillo', 74.0),\n",
       "  ('pedro', 68.0),\n",
       "  ('boluarte', 34.0),\n",
       "  ('dina', 33.0),\n",
       "  ('lima', 30.0),\n",
       "  ('golpe', 26.0),\n",
       "  ('perú', 25.0),\n",
       "  ('mundial', 24.0),\n",
       "  ('qatar', 21.0),\n",
       "  ('congreso', 20.0),\n",
       "  ('vs', 19.0),\n",
       "  ('cristiano', 18.0),\n",
       "  ('arequipa', 18.0),\n",
       "  ('gobierno', 18.0),\n",
       "  ('argentina', 18.0),\n",
       "  ('región', 17.0),\n",
       "  ('vacancia', 16.0),\n",
       "  ('brasil', 16.0),\n",
       "  ('mil', 15.0),\n",
       "  ('ronaldo', 15.0),\n",
       "  ('covid', 14.0),\n",
       "  ('diciembre', 14.0),\n",
       "  ('messi', 13.0),\n",
       "  ('países', 13.0),\n",
       "  ('millones', 13.0),\n",
       "  ('años', 12.0),\n",
       "  ('bajos', 12.0),\n",
       "  ('portugal', 12.0),\n",
       "  ('presidenta', 12.0),\n",
       "  ('exjefe', 11.0)],\n",
       " 'ExpresoPeru-2022_49': [('castillo', 67.0),\n",
       "  ('pedro', 37.0),\n",
       "  ('boluarte', 23.0),\n",
       "  ('golpe', 22.0),\n",
       "  ('dina', 20.0),\n",
       "  ('congreso', 19.0),\n",
       "  ('perú', 18.0),\n",
       "  ('vacancia', 14.0),\n",
       "  ('expresoporlademocracia', 11.0),\n",
       "  ('golpista', 10.0),\n",
       "  ('loúltimo', 10.0),\n",
       "  ('qatar', 9.0),\n",
       "  ('presidente', 9.0),\n",
       "  ('gabinete', 7.0),\n",
       "  ('polidatos', 6.0),\n",
       "  ('gobierno', 6.0),\n",
       "  ('cerrón', 6.0),\n",
       "  ('defensa', 5.0),\n",
       "  ('mundial', 5.0),\n",
       "  ('dini', 5.0),\n",
       "  ('presidenta', 5.0),\n",
       "  ('angulo', 5.0),\n",
       "  ('penales', 5.0),\n",
       "  ('pide', 5.0),\n",
       "  ('política', 5.0),\n",
       "  ('enportada', 5.0),\n",
       "  ('ministros', 5.0),\n",
       "  ('luis', 5.0),\n",
       "  ('garcía', 4.0),\n",
       "  ('fernández', 4.0)],\n",
       " 'diarioojo-2022_49': [('castillo', 75.0),\n",
       "  ('pedro', 55.0),\n",
       "  ('magaly', 36.0),\n",
       "  ('golpe', 32.0),\n",
       "  ('lima', 30.0),\n",
       "  ('mundial', 29.0),\n",
       "  ('qatar', 27.0),\n",
       "  ('vs', 25.0),\n",
       "  ('dina', 23.0),\n",
       "  ('perú', 23.0),\n",
       "  ('diciembre', 22.0),\n",
       "  ('boluarte', 22.0),\n",
       "  ('melissa', 21.0),\n",
       "  ('ethel', 20.0),\n",
       "  ('vacancia', 20.0),\n",
       "  ('congreso', 19.0),\n",
       "  ('portugal', 18.0),\n",
       "  ('cristiano', 18.0),\n",
       "  ('covid', 17.0),\n",
       "  ('brasil', 17.0),\n",
       "  ('paredes', 16.0),\n",
       "  ('navidad', 15.0),\n",
       "  ('mensaje', 14.0),\n",
       "  ('ronaldo', 14.0),\n",
       "  ('mil', 14.0),\n",
       "  ('lucho', 13.0),\n",
       "  ('horas', 13.0),\n",
       "  ('gol', 12.0),\n",
       "  ('cáceres', 12.0),\n",
       "  ('año', 12.0)],\n",
       " 'DiarioElPeruano-2022_49': [('dina', 27.0),\n",
       "  ('boluarte', 27.0),\n",
       "  ('presidenta', 25.0),\n",
       "  ('perú', 25.0),\n",
       "  ('gobierno', 20.0),\n",
       "  ('pedro', 20.0),\n",
       "  ('castillo', 18.0),\n",
       "  ('país', 17.0),\n",
       "  ('mundial', 16.0),\n",
       "  ('sector', 15.0),\n",
       "  ('presidente', 14.0),\n",
       "  ('congreso', 13.0),\n",
       "  ('república', 13.0),\n",
       "  ('ministro', 12.0),\n",
       "  ('diálogo', 12.0),\n",
       "  ('normaslegales', 12.0),\n",
       "  ('diciembre', 11.0),\n",
       "  ('año', 11.0),\n",
       "  ('general', 10.0),\n",
       "  ('navidad', 8.0),\n",
       "  ('llamado', 8.0),\n",
       "  ('desarrollo', 8.0),\n",
       "  ('cuartos', 8.0),\n",
       "  ('salud', 8.0),\n",
       "  ('atención', 8.0),\n",
       "  ('palacio', 7.0),\n",
       "  ('nacional', 7.0),\n",
       "  ('especialelperuano', 7.0),\n",
       "  ('derechos', 7.0),\n",
       "  ('conoce', 7.0)],\n",
       " 'larazon_pe-2022_49': [('castillo', 13.0),\n",
       "  ('nota', 12.0),\n",
       "  ('fonavistas', 12.0),\n",
       "  ('pedro', 11.0),\n",
       "  ('diciembre', 10.0),\n",
       "  ('fonavi', 10.0),\n",
       "  ('jubilados', 9.0),\n",
       "  ('onp', 8.0),\n",
       "  ('devolución', 7.0),\n",
       "  ('cronograma', 7.0),\n",
       "  ('boluarte', 7.0),\n",
       "  ('dina', 7.0),\n",
       "  ('pagos', 7.0),\n",
       "  ('pago', 7.0),\n",
       "  ('miércoles', 6.0),\n",
       "  ('nación', 6.0),\n",
       "  ('golpe', 6.0),\n",
       "  ('aportes', 6.0),\n",
       "  ('parcial', 6.0),\n",
       "  ('presidente', 6.0),\n",
       "  ('presidenta', 6.0),\n",
       "  ('lee', 5.0),\n",
       "  ('ministros', 5.0),\n",
       "  ('perú', 5.0),\n",
       "  ('convenio', 5.0),\n",
       "  ('listo', 5.0),\n",
       "  ('banco', 5.0),\n",
       "  ('bustamante', 5.0),\n",
       "  ('gobierno', 5.0),\n",
       "  ('padrón', 5.0)],\n",
       " 'elbuho_pe-2022_49': [('elbuhope', 32.0),\n",
       "  ('castillo', 29.0),\n",
       "  ('congreso', 22.0),\n",
       "  ('pedro', 21.0),\n",
       "  ('elbuho', 19.0),\n",
       "  ('arequipa', 15.0),\n",
       "  ('presidente', 11.0),\n",
       "  ('dina', 9.0),\n",
       "  ('alvuelo', 9.0),\n",
       "  ('boluarte', 9.0),\n",
       "  ('perú', 8.0),\n",
       "  ('cierre', 7.0),\n",
       "  ('crisis', 7.0),\n",
       "  ('vacancia', 7.0),\n",
       "  ('presidenta', 6.0),\n",
       "  ('video', 6.0),\n",
       "  ('república', 6.0),\n",
       "  ('gobierno', 6.0),\n",
       "  ('nación', 6.0),\n",
       "  ('lópez', 5.0),\n",
       "  ('exjefe', 5.0),\n",
       "  ('dini', 5.0),\n",
       "  ('elecciones', 4.0),\n",
       "  ('política', 4.0),\n",
       "  ('constitución', 4.0),\n",
       "  ('mil', 4.0),\n",
       "  ('escribe', 4.0),\n",
       "  ('mensaje', 4.0),\n",
       "  ('opinion', 4.0),\n",
       "  ('excepción', 3.0)],\n",
       " 'ensustrece-2022_49': [('hildebrandt', 10.0),\n",
       "  ('escribe', 8.0),\n",
       "  ('ensustrece', 8.0),\n",
       "  ('castillo', 8.0),\n",
       "  ('pedro', 4.0),\n",
       "  ('chávez', 3.0),\n",
       "  ('podcast', 3.0),\n",
       "  ('presidente', 3.0),\n",
       "  ('comedia', 2.0),\n",
       "  ('miles', 2.0),\n",
       "  ('lima', 2.0),\n",
       "  ('votos', 2.0),\n",
       "  ('golpista', 2.0),\n",
       "  ('unchasqui', 2.0),\n",
       "  ('reportaje', 2.0),\n",
       "  ('golpe', 2.0),\n",
       "  ('venezolanos', 2.0),\n",
       "  ('congreso', 2.0),\n",
       "  ('garcía', 2.0),\n",
       "  ('soles', 1.0),\n",
       "  ('lago', 1.0),\n",
       "  ('esfuerzos', 1.0),\n",
       "  ('años', 1.0),\n",
       "  ('discurso', 1.0),\n",
       "  ('anuncio', 1.0),\n",
       "  ('derecha', 1.0),\n",
       "  ('terminó', 1.0),\n",
       "  ('briceño', 1.0),\n",
       "  ('fracasó', 1.0),\n",
       "  ('agua', 1.0)],\n",
       " 'elcomercio_peru-2023_2': [('enero', 38.0),\n",
       "  ('brasil', 38.0),\n",
       "  ('perú', 33.0),\n",
       "  ('eeuu', 24.0),\n",
       "  ('protestas', 22.0),\n",
       "  ('bolsonaro', 21.0),\n",
       "  ('puno', 20.0),\n",
       "  ('unidos', 19.0),\n",
       "  ('biden', 19.0),\n",
       "  ('asalto', 17.0),\n",
       "  ('méxico', 16.0),\n",
       "  ('años', 16.0),\n",
       "  ('brasilia', 16.0),\n",
       "  ('lima', 15.0),\n",
       "  ('gobierno', 13.0),\n",
       "  ('ucrania', 13.0),\n",
       "  ('conoce', 12.0),\n",
       "  ('precio', 12.0),\n",
       "  ('manifestantes', 12.0),\n",
       "  ('policía', 11.0),\n",
       "  ('colombia', 11.0),\n",
       "  ('bolsonaristas', 11.0),\n",
       "  ('tipo', 10.0),\n",
       "  ('violencia', 10.0),\n",
       "  ('país', 10.0),\n",
       "  ('cambio', 10.0),\n",
       "  ('nacional', 10.0),\n",
       "  ('cusco', 9.0),\n",
       "  ('martes', 9.0),\n",
       "  ('covid', 9.0)],\n",
       " 'larepublica_pe-2023_2': [('politicalr', 191.0),\n",
       "  ('lrdeportes', 143.0),\n",
       "  ('video', 106.0),\n",
       "  ('protestas', 91.0),\n",
       "  ('perú', 79.0),\n",
       "  ('boluarte', 78.0),\n",
       "  ('dina', 68.0),\n",
       "  ('envivo', 64.0),\n",
       "  ('congreso', 58.0),\n",
       "  ('enero', 50.0),\n",
       "  ('puno', 49.0),\n",
       "  ('loúltimo', 43.0),\n",
       "  ('juliaca', 41.0),\n",
       "  ('lima', 40.0),\n",
       "  ('gobierno', 38.0),\n",
       "  ('nacional', 37.0),\n",
       "  ('↓', 31.0),\n",
       "  ('fallecidos', 30.0),\n",
       "  ('país', 29.0),\n",
       "  ('alianza', 29.0),\n",
       "  ('alberto', 29.0),\n",
       "  ('otárola', 27.0),\n",
       "  ('díaz', 27.0),\n",
       "  ('míralo', 26.0),\n",
       "  ('freddy', 26.0),\n",
       "  ('años', 25.0),\n",
       "  ('policía', 24.0),\n",
       "  ('muertes', 24.0),\n",
       "  ('cusco', 23.0),\n",
       "  ('manifestantes', 22.0)],\n",
       " 'peru21noticias-2023_2': [('protestas', 44.0),\n",
       "  ('puno', 41.0),\n",
       "  ('perú', 27.0),\n",
       "  ('congreso', 25.0),\n",
       "  ('país', 24.0),\n",
       "  ('boluarte', 24.0),\n",
       "  ('años', 24.0),\n",
       "  ('gobierno', 24.0),\n",
       "  ('dina', 21.0),\n",
       "  ('lima', 19.0),\n",
       "  ('díaz', 18.0),\n",
       "  ('cortita', 17.0),\n",
       "  ('miss', 17.0),\n",
       "  ('nacional', 17.0),\n",
       "  ('enero', 17.0),\n",
       "  ('otárola', 16.0),\n",
       "  ('cusco', 16.0),\n",
       "  ('voto', 16.0),\n",
       "  ('freddy', 16.0),\n",
       "  ('año', 15.0),\n",
       "  ('evo', 15.0),\n",
       "  ('universo', 14.0),\n",
       "  ('envivo', 14.0),\n",
       "  ('manifestantes', 14.0),\n",
       "  ('peruana', 14.0),\n",
       "  ('policía', 14.0),\n",
       "  ('gabinete', 14.0),\n",
       "  ('confianza', 14.0),\n",
       "  ('congresista', 14.0),\n",
       "  ('pedro', 14.0)],\n",
       " 'tromepe-2023_2': [('miss', 58.0),\n",
       "  ('universo', 55.0),\n",
       "  ('shakira', 49.0),\n",
       "  ('alessia', 40.0),\n",
       "  ('piqué', 35.0),\n",
       "  ('canción', 31.0),\n",
       "  ('rovegno', 30.0),\n",
       "  ('brunella', 28.0),\n",
       "  ('lee', 27.0),\n",
       "  ('puno', 25.0),\n",
       "  ('boda', 24.0),\n",
       "  ('lima', 23.0),\n",
       "  ('alianza', 22.0),\n",
       "  ('perú', 21.0),\n",
       "  ('horna', 20.0),\n",
       "  ('protestas', 20.0),\n",
       "  ('richard', 18.0),\n",
       "  ('vs', 17.0),\n",
       "  ('año', 17.0),\n",
       "  ('christian', 16.0),\n",
       "  ('acuña', 16.0),\n",
       "  ('clara', 16.0),\n",
       "  ('pepa', 14.0),\n",
       "  ('baldessari', 14.0),\n",
       "  ('melissa', 14.0),\n",
       "  ('paredes', 13.0),\n",
       "  ('años', 13.0),\n",
       "  ('otárola', 13.0),\n",
       "  ('oro', 12.0),\n",
       "  ('alberto', 12.0)],\n",
       " 'Gestionpe-2023_2': [('perú', 78.0),\n",
       "  ('protestas', 51.0),\n",
       "  ('año', 51.0),\n",
       "  ('millones', 39.0),\n",
       "  ('enero', 35.0),\n",
       "  ('eeuu', 32.0),\n",
       "  ('gobierno', 31.0),\n",
       "  ('puno', 28.0),\n",
       "  ('otárola', 28.0),\n",
       "  ('empresas', 23.0),\n",
       "  ('bono', 21.0),\n",
       "  ('cusco', 21.0),\n",
       "  ('sur', 20.0),\n",
       "  ('peruanos', 19.0),\n",
       "  ('aeropuerto', 18.0),\n",
       "  ('mercados', 18.0),\n",
       "  ('bonos', 17.0),\n",
       "  ('boluarte', 16.0),\n",
       "  ('fed', 16.0),\n",
       "  ('operaciones', 16.0),\n",
       "  ('us', 16.0),\n",
       "  ('país', 15.0),\n",
       "  ('sector', 15.0),\n",
       "  ('congreso', 15.0),\n",
       "  ('video', 15.0),\n",
       "  ('dólar', 15.0),\n",
       "  ('años', 15.0),\n",
       "  ('premier', 15.0),\n",
       "  ('china', 14.0),\n",
       "  ('gestión', 14.0)],\n",
       " 'diariocorreo-2023_2': [('protestas', 21.0),\n",
       "  ('puno', 19.0),\n",
       "  ('arequipa', 19.0),\n",
       "  ('libertad', 16.0),\n",
       "  ('enero', 14.0),\n",
       "  ('perú', 14.0),\n",
       "  ('otárola', 13.0),\n",
       "  ('dina', 13.0),\n",
       "  ('boluarte', 13.0),\n",
       "  ('gobierno', 13.0),\n",
       "  ('alberto', 12.0),\n",
       "  ('congreso', 11.0),\n",
       "  ('glademiranaya', 10.0),\n",
       "  ('millones', 10.0),\n",
       "  ('lima', 10.0),\n",
       "  ('manifestantes', 9.0),\n",
       "  ('paredes', 9.0),\n",
       "  ('años', 9.0),\n",
       "  ('hospital', 9.0),\n",
       "  ('carretera', 8.0),\n",
       "  ('freddy', 8.0),\n",
       "  ('evo', 8.0),\n",
       "  ('díaz', 8.0),\n",
       "  ('tacna', 7.0),\n",
       "  ('pide', 7.0),\n",
       "  ('muertes', 7.0),\n",
       "  ('juliaca', 7.0),\n",
       "  ('eeuu', 7.0),\n",
       "  ('policía', 7.0),\n",
       "  ('huancayo', 7.0)],\n",
       " 'ExpresoPeru-2023_2': [('boluarte', 18.0),\n",
       "  ('perú', 17.0),\n",
       "  ('garcía', 17.0),\n",
       "  ('protestas', 13.0),\n",
       "  ('dina', 13.0),\n",
       "  ('evo', 10.0),\n",
       "  ('manifestaciones', 10.0),\n",
       "  ('violentas', 10.0),\n",
       "  ('morales', 10.0),\n",
       "  ('luis', 9.0),\n",
       "  ('otárola', 9.0),\n",
       "  ('díaz', 9.0),\n",
       "  ('pide', 9.0),\n",
       "  ('shakira', 8.0),\n",
       "  ('juliaca', 8.0),\n",
       "  ('congreso', 8.0),\n",
       "  ('castillo', 8.0),\n",
       "  ('freddy', 7.0),\n",
       "  ('país', 7.0),\n",
       "  ('pedro', 7.0),\n",
       "  ('josé', 7.0),\n",
       "  ('izquierda', 7.0),\n",
       "  ('juan', 7.0),\n",
       "  ('piqué', 6.0),\n",
       "  ('torres', 6.0),\n",
       "  ('preventiva', 6.0),\n",
       "  ('césar', 6.0),\n",
       "  ('miró', 6.0),\n",
       "  ('gobierno', 6.0),\n",
       "  ('lima', 6.0)],\n",
       " 'diarioojo-2023_2': [('alessia', 36.0),\n",
       "  ('brunella', 36.0),\n",
       "  ('miss', 28.0),\n",
       "  ('boda', 27.0),\n",
       "  ('universo', 26.0),\n",
       "  ('shakira', 22.0),\n",
       "  ('rovegno', 21.0),\n",
       "  ('richard', 19.0),\n",
       "  ('melissa', 19.0),\n",
       "  ('piqué', 17.0),\n",
       "  ('paredes', 15.0),\n",
       "  ('peluchín', 13.0),\n",
       "  ('karla', 12.0),\n",
       "  ('perú', 12.0),\n",
       "  ('canción', 11.0),\n",
       "  ('acuña', 11.0),\n",
       "  ('horna', 11.0),\n",
       "  ('gino', 10.0),\n",
       "  ('tarazona', 10.0),\n",
       "  ('años', 10.0),\n",
       "  ('programa', 9.0),\n",
       "  ('pamela', 9.0),\n",
       "  ('tv', 9.0),\n",
       "  ('protestas', 9.0),\n",
       "  ('mil', 9.0),\n",
       "  ('jazmín', 9.0),\n",
       "  ('galán', 9.0),\n",
       "  ('mensaje', 8.0),\n",
       "  ('garcía', 8.0),\n",
       "  ('pesaressi', 8.0)],\n",
       " 'DiarioElPeruano-2023_2': [('otárola', 21.0),\n",
       "  ('alberto', 21.0),\n",
       "  ('país', 21.0),\n",
       "  ('congreso', 21.0),\n",
       "  ('gobierno', 20.0),\n",
       "  ('presidente', 18.0),\n",
       "  ('lima', 17.0),\n",
       "  ('perú', 17.0),\n",
       "  ('nacional', 16.0),\n",
       "  ('consejo', 14.0),\n",
       "  ('puno', 14.0),\n",
       "  ('titular', 13.0),\n",
       "  ('año', 12.0),\n",
       "  ('ejecutivo', 12.0),\n",
       "  ('ministros', 12.0),\n",
       "  ('dina', 11.0),\n",
       "  ('boluarte', 11.0),\n",
       "  ('cusco', 11.0),\n",
       "  ('paz', 10.0),\n",
       "  ('regiones', 10.0),\n",
       "  ('presidenta', 9.0),\n",
       "  ('diálogo', 9.0),\n",
       "  ('protestas', 9.0),\n",
       "  ('violencia', 9.0),\n",
       "  ('atención', 9.0),\n",
       "  ('normaslegales', 8.0),\n",
       "  ('república', 8.0),\n",
       "  ('servicio', 8.0),\n",
       "  ('ley', 8.0),\n",
       "  ('personas', 8.0)],\n",
       " 'larazon_pe-2023_2': [('protestas', 7.0),\n",
       "  ('ucrania', 5.0),\n",
       "  ('jefe', 4.0),\n",
       "  ('años', 4.0),\n",
       "  ('leer', 3.0),\n",
       "  ('presenta', 3.0),\n",
       "  ('gobierno', 3.0),\n",
       "  ('perú', 3.0),\n",
       "  ('cultura', 3.0),\n",
       "  ('guerra', 3.0),\n",
       "  ('sociales', 3.0),\n",
       "  ('atención', 3.0),\n",
       "  ('busca', 3.0),\n",
       "  ('boluarte', 3.0),\n",
       "  ('país', 3.0),\n",
       "  ('república', 3.0),\n",
       "  ('nacional', 3.0),\n",
       "  ('proyecto', 3.0),\n",
       "  ('gratis', 2.0),\n",
       "  ('abstenciones', 2.0),\n",
       "  ('operativo', 2.0),\n",
       "  ('auditormunicipal', 2.0),\n",
       "  ('auditor', 2.0),\n",
       "  ('difícil', 2.0),\n",
       "  ('perder', 2.0),\n",
       "  ('guía', 2.0),\n",
       "  ('patria', 2.0),\n",
       "  ('pensiones', 2.0),\n",
       "  ('onp', 2.0),\n",
       "  ('diario', 2.0)],\n",
       " 'elbuho_pe-2023_2': [('elbuhope', 45.0),\n",
       "  ('arequipa', 34.0),\n",
       "  ('juliaca', 31.0),\n",
       "  ('elbuho', 28.0),\n",
       "  ('protestas', 20.0),\n",
       "  ('boluarte', 18.0),\n",
       "  ('puno', 18.0),\n",
       "  ('dina', 17.0),\n",
       "  ('fallecidos', 15.0),\n",
       "  ('manifestantes', 12.0),\n",
       "  ('personas', 10.0),\n",
       "  ('literario', 8.0),\n",
       "  ('congresista', 8.0),\n",
       "  ('lima', 8.0),\n",
       "  ('renuncia', 8.0),\n",
       "  ('enfrentamientos', 8.0),\n",
       "  ('regiones', 8.0),\n",
       "  ('búho', 7.0),\n",
       "  ('gobierno', 7.0),\n",
       "  ('muertes', 7.0),\n",
       "  ('comerciantes', 7.0),\n",
       "  ('plaza', 7.0),\n",
       "  ('policías', 7.0),\n",
       "  ('represión', 6.0),\n",
       "  ('xi', 6.0),\n",
       "  ('trabajo', 6.0),\n",
       "  ('concurso', 6.0),\n",
       "  ('votos', 6.0),\n",
       "  ('exigiendo', 6.0),\n",
       "  ('policial', 6.0)],\n",
       " 'ensustrece-2023_2': [('escribe', 9.0),\n",
       "  ('ensustrece', 9.0),\n",
       "  ('hildebrandt', 7.0),\n",
       "  ('boluarte', 4.0),\n",
       "  ('dina', 4.0),\n",
       "  ('gobierno', 3.0),\n",
       "  ('podcast', 3.0),\n",
       "  ('perú', 3.0),\n",
       "  ('piahildebrandt', 2.0),\n",
       "  ('historia', 2.0),\n",
       "  ('quioscos', 2.0),\n",
       "  ('regresa', 2.0),\n",
       "  ('años', 2.0),\n",
       "  ('web', 2.0),\n",
       "  ('leerlo', 2.0),\n",
       "  ('política', 2.0),\n",
       "  ('ramírez', 1.0),\n",
       "  ('evo', 1.0),\n",
       "  ('celular', 1.0),\n",
       "  ('ronald', 1.0),\n",
       "  ('moya', 1.0),\n",
       "  ('renunciar', 1.0),\n",
       "  ('agradezco', 1.0),\n",
       "  ('soncco', 1.0),\n",
       "  ('propaganda', 1.0),\n",
       "  ('martirio', 1.0),\n",
       "  ('magnífico', 1.0),\n",
       "  ('soniasuyon', 1.0),\n",
       "  ('youtube', 1.0),\n",
       "  ('comenzado', 1.0)]}"
      ]
     },
     "execution_count": 17,
     "metadata": {},
     "output_type": "execute_result"
    }
   ],
   "source": [
    "top30_dict"
   ]
  },
  {
   "cell_type": "code",
   "execution_count": 18,
   "metadata": {},
   "outputs": [],
   "source": [
    "top30_df = pd.DataFrame.from_records(top30_dict)"
   ]
  },
  {
   "cell_type": "code",
   "execution_count": 19,
   "metadata": {},
   "outputs": [],
   "source": [
    "top30_df = top30_df.melt(value_vars=top30_df.columns, var_name=\"newspaper_date\", value_name=\"word_count\")\n",
    "\n",
    "top30_df[[\"newspaper\", \"year_week\"]] = top30_df[\"newspaper_date\"].str.split(r\"-\", expand=True)\n",
    "top30_df[[\"year\", \"week\"]] = top30_df[\"year_week\"].str.split(r\"_\", expand=True)\n",
    "top30_df[[\"word\", \"count\"]] = pd.DataFrame(top30_df[\"word_count\"].to_list(), index=top30_df.index)\n",
    "\n",
    "top30_df.drop([\"word_count\", \"newspaper_date\", \"year_week\"], axis=1, inplace=True)\n",
    "\n",
    "top30_df[\"year\"] = pd.to_numeric(top30_df[\"year\"])\n",
    "top30_df[\"week\"] = pd.to_numeric(top30_df[\"week\"])"
   ]
  },
  {
   "cell_type": "code",
   "execution_count": 20,
   "metadata": {},
   "outputs": [
    {
     "name": "stdout",
     "output_type": "stream",
     "text": [
      "<class 'pandas.core.frame.DataFrame'>\n",
      "RangeIndex: 2160 entries, 0 to 2159\n",
      "Data columns (total 5 columns):\n",
      " #   Column     Non-Null Count  Dtype  \n",
      "---  ------     --------------  -----  \n",
      " 0   newspaper  2160 non-null   object \n",
      " 1   year       2160 non-null   int64  \n",
      " 2   week       2160 non-null   int64  \n",
      " 3   word       2160 non-null   object \n",
      " 4   count      2160 non-null   float64\n",
      "dtypes: float64(1), int64(2), object(2)\n",
      "memory usage: 84.5+ KB\n"
     ]
    }
   ],
   "source": [
    "top30_df.info()"
   ]
  },
  {
   "cell_type": "code",
   "execution_count": 21,
   "metadata": {},
   "outputs": [
    {
     "data": {
      "text/html": [
       "<div>\n",
       "<style scoped>\n",
       "    .dataframe tbody tr th:only-of-type {\n",
       "        vertical-align: middle;\n",
       "    }\n",
       "\n",
       "    .dataframe tbody tr th {\n",
       "        vertical-align: top;\n",
       "    }\n",
       "\n",
       "    .dataframe thead th {\n",
       "        text-align: right;\n",
       "    }\n",
       "</style>\n",
       "<table border=\"1\" class=\"dataframe\">\n",
       "  <thead>\n",
       "    <tr style=\"text-align: right;\">\n",
       "      <th></th>\n",
       "      <th>newspaper</th>\n",
       "      <th>year</th>\n",
       "      <th>week</th>\n",
       "      <th>word</th>\n",
       "      <th>count</th>\n",
       "    </tr>\n",
       "  </thead>\n",
       "  <tbody>\n",
       "    <tr>\n",
       "      <th>0</th>\n",
       "      <td>DiarioElPeruano</td>\n",
       "      <td>2022</td>\n",
       "      <td>33</td>\n",
       "      <td>nacional</td>\n",
       "      <td>29.00</td>\n",
       "    </tr>\n",
       "    <tr>\n",
       "      <th>1</th>\n",
       "      <td>DiarioElPeruano</td>\n",
       "      <td>2022</td>\n",
       "      <td>33</td>\n",
       "      <td>presidente</td>\n",
       "      <td>27.00</td>\n",
       "    </tr>\n",
       "    <tr>\n",
       "      <th>2</th>\n",
       "      <td>DiarioElPeruano</td>\n",
       "      <td>2022</td>\n",
       "      <td>33</td>\n",
       "      <td>país</td>\n",
       "      <td>24.00</td>\n",
       "    </tr>\n",
       "    <tr>\n",
       "      <th>3</th>\n",
       "      <td>DiarioElPeruano</td>\n",
       "      <td>2022</td>\n",
       "      <td>33</td>\n",
       "      <td>pedro</td>\n",
       "      <td>22.00</td>\n",
       "    </tr>\n",
       "    <tr>\n",
       "      <th>4</th>\n",
       "      <td>DiarioElPeruano</td>\n",
       "      <td>2022</td>\n",
       "      <td>33</td>\n",
       "      <td>castillo</td>\n",
       "      <td>22.00</td>\n",
       "    </tr>\n",
       "  </tbody>\n",
       "</table>\n",
       "</div>"
      ],
      "text/plain": [
       "         newspaper  year  week        word  count\n",
       "0  DiarioElPeruano  2022    33    nacional  29.00\n",
       "1  DiarioElPeruano  2022    33  presidente  27.00\n",
       "2  DiarioElPeruano  2022    33        país  24.00\n",
       "3  DiarioElPeruano  2022    33       pedro  22.00\n",
       "4  DiarioElPeruano  2022    33    castillo  22.00"
      ]
     },
     "execution_count": 21,
     "metadata": {},
     "output_type": "execute_result"
    }
   ],
   "source": [
    "top30_df.head()"
   ]
  },
  {
   "cell_type": "code",
   "execution_count": 22,
   "metadata": {},
   "outputs": [],
   "source": [
    "top30_df.to_feather(f\"{BASE_DIR}/data/processed/top30_df-{TIME_STAMPS[0]}-{TIME_STAMPS[-1]}.feather\")"
   ]
  },
  {
   "cell_type": "code",
   "execution_count": 23,
   "metadata": {},
   "outputs": [],
   "source": [
    "top30_df[\"hot_topics\"] = top30_df[\"word\"].map({\n",
    "    \"castillo\": \"castillo\",\n",
    "    \"pedro\": \"castillo\",\n",
    "    \"dina\": \"boluarte\",\n",
    "    \"boluarte\": \"boluarte\",\n",
    "    \"perú\": \"país\",\n",
    "    \"país\": \"país\",\n",
    "    \"congreso\": \"congreso\",\n",
    "    \"covid\": \"covid\",\n",
    "    \"protestas\": \"protestas\",\n",
    "    \"manifestaciones\": \"protestas\"\n",
    "})\n",
    "top30_df[\"hot_topics\"].fillna(\"\", inplace=True)"
   ]
  },
  {
   "cell_type": "code",
   "execution_count": 24,
   "metadata": {},
   "outputs": [],
   "source": [
    "with open(f\"{BASE_DIR}/data/processed/top_30-{TIME_STAMPS[0]}-{TIME_STAMPS[-1]}.json\", \"w\") as file:\n",
    "    json.dump(top30_dict, file)"
   ]
  },
  {
   "cell_type": "code",
   "execution_count": 25,
   "metadata": {},
   "outputs": [
    {
     "data": {
      "application/vnd.plotly.v1+json": {
       "config": {
        "plotlyServerURL": "https://plot.ly"
       },
       "data": [
        {
         "alignmentgroup": "True",
         "hovertemplate": "hot_topics=<br>newspaper=DiarioElPeruano<br>week=33<br>word=%{x}<br>count=%{y}<extra></extra>",
         "legendgroup": "",
         "marker": {
          "color": "#fabd2f",
          "pattern": {
           "shape": ""
          }
         },
         "name": "",
         "offsetgroup": "",
         "orientation": "v",
         "showlegend": false,
         "textposition": "auto",
         "type": "bar",
         "x": [
          "nacional",
          "presidente",
          "gobierno",
          "lima",
          "año",
          "millones",
          "titular",
          "normaslegales",
          "república",
          "atención",
          "años",
          "trabajo",
          "ministro",
          "josé",
          "ley",
          "soles",
          "consejo",
          "ministerio",
          "programa",
          "ejecutivo",
          "agosto",
          "decreto",
          "palacio",
          "representantes",
          "proceso"
         ],
         "xaxis": "x67",
         "y": [
          29,
          27,
          20,
          15,
          14,
          14,
          13,
          12,
          12,
          12,
          11,
          11,
          11,
          10,
          10,
          9,
          9,
          9,
          9,
          9,
          8,
          8,
          8,
          8,
          8
         ],
         "yaxis": "y67"
        },
        {
         "alignmentgroup": "True",
         "hovertemplate": "hot_topics=<br>newspaper=DiarioElPeruano<br>week=34<br>word=%{x}<br>count=%{y}<extra></extra>",
         "legendgroup": "",
         "marker": {
          "color": "#fabd2f",
          "pattern": {
           "shape": ""
          }
         },
         "name": "",
         "offsetgroup": "",
         "orientation": "v",
         "showlegend": false,
         "textposition": "auto",
         "type": "bar",
         "x": [
          "presidente",
          "normaslegales",
          "consejo",
          "nacional",
          "ministros",
          "año",
          "años",
          "ministerio",
          "salud",
          "ministro",
          "agosto",
          "seguridad",
          "lima",
          "millones",
          "titular",
          "gobierno",
          "región",
          "sector",
          "defensa",
          "ejecutivo",
          "desarrollo",
          "conoce",
          "andinacanalonline",
          "investigación",
          "proyectos"
         ],
         "xaxis": "x68",
         "y": [
          26,
          15,
          13,
          13,
          12,
          12,
          11,
          11,
          11,
          10,
          10,
          10,
          10,
          10,
          10,
          10,
          9,
          9,
          9,
          9,
          9,
          9,
          8,
          8,
          8
         ],
         "yaxis": "y68"
        },
        {
         "alignmentgroup": "True",
         "hovertemplate": "hot_topics=<br>newspaper=DiarioElPeruano<br>week=39<br>word=%{x}<br>count=%{y}<extra></extra>",
         "legendgroup": "",
         "marker": {
          "color": "#fabd2f",
          "pattern": {
           "shape": ""
          }
         },
         "name": "",
         "offsetgroup": "",
         "orientation": "v",
         "showlegend": false,
         "textposition": "auto",
         "type": "bar",
         "x": [
          "lima",
          "alcaldía",
          "nacional",
          "debatemunicipaljne",
          "elecciones",
          "presidente",
          "salud",
          "ministerio",
          "candidatos",
          "programa",
          "regionales",
          "millones",
          "octubre",
          "año",
          "electoral",
          "titular",
          "municipales",
          "ministro",
          "obras",
          "social",
          "san",
          "normaslegales",
          "proyecto",
          "atención",
          "ministros",
          "derecho"
         ],
         "xaxis": "x69",
         "y": [
          27,
          19,
          18,
          17,
          14,
          14,
          14,
          14,
          13,
          12,
          12,
          11,
          11,
          11,
          9,
          9,
          9,
          9,
          8,
          8,
          8,
          8,
          8,
          8,
          8,
          7
         ],
         "yaxis": "y69"
        },
        {
         "alignmentgroup": "True",
         "hovertemplate": "hot_topics=<br>newspaper=DiarioElPeruano<br>week=44<br>word=%{x}<br>count=%{y}<extra></extra>",
         "legendgroup": "",
         "marker": {
          "color": "#fabd2f",
          "pattern": {
           "shape": ""
          }
         },
         "name": "",
         "offsetgroup": "",
         "orientation": "v",
         "showlegend": false,
         "textposition": "auto",
         "type": "bar",
         "x": [
          "noviembre",
          "presidente",
          "lima",
          "nacional",
          "millones",
          "personas",
          "digital",
          "gobierno",
          "conoce",
          "pago",
          "soles",
          "atención",
          "trabajo",
          "bono",
          "oea",
          "usuarios",
          "alimentario",
          "exposición",
          "sistema",
          "callao",
          "trabajadores",
          "titular",
          "mujer",
          "fotográfica",
          "minsaperu"
         ],
         "xaxis": "x70",
         "y": [
          17,
          16,
          16,
          13,
          12,
          11,
          11,
          10,
          10,
          9,
          8,
          8,
          8,
          8,
          7,
          7,
          7,
          7,
          7,
          7,
          6,
          6,
          6,
          6,
          6
         ],
         "yaxis": "y70"
        },
        {
         "alignmentgroup": "True",
         "hovertemplate": "hot_topics=<br>newspaper=DiarioElPeruano<br>week=49<br>word=%{x}<br>count=%{y}<extra></extra>",
         "legendgroup": "",
         "marker": {
          "color": "#fabd2f",
          "pattern": {
           "shape": ""
          }
         },
         "name": "",
         "offsetgroup": "",
         "orientation": "v",
         "showlegend": false,
         "textposition": "auto",
         "type": "bar",
         "x": [
          "presidenta",
          "gobierno",
          "mundial",
          "sector",
          "presidente",
          "república",
          "ministro",
          "diálogo",
          "normaslegales",
          "diciembre",
          "año",
          "general",
          "navidad",
          "llamado",
          "desarrollo",
          "cuartos",
          "salud",
          "atención",
          "palacio",
          "nacional",
          "especialelperuano",
          "derechos",
          "conoce"
         ],
         "xaxis": "x71",
         "y": [
          25,
          20,
          16,
          15,
          14,
          13,
          12,
          12,
          12,
          11,
          11,
          10,
          8,
          8,
          8,
          8,
          8,
          8,
          7,
          7,
          7,
          7,
          7
         ],
         "yaxis": "y71"
        },
        {
         "alignmentgroup": "True",
         "hovertemplate": "hot_topics=<br>newspaper=DiarioElPeruano<br>week=2<br>word=%{x}<br>count=%{y}<extra></extra>",
         "legendgroup": "",
         "marker": {
          "color": "#fabd2f",
          "pattern": {
           "shape": ""
          }
         },
         "name": "",
         "offsetgroup": "",
         "orientation": "v",
         "showlegend": false,
         "textposition": "auto",
         "type": "bar",
         "x": [
          "otárola",
          "alberto",
          "gobierno",
          "presidente",
          "lima",
          "nacional",
          "consejo",
          "puno",
          "titular",
          "año",
          "ejecutivo",
          "ministros",
          "cusco",
          "paz",
          "regiones",
          "presidenta",
          "diálogo",
          "violencia",
          "atención",
          "normaslegales",
          "república",
          "servicio",
          "ley",
          "personas"
         ],
         "xaxis": "x72",
         "y": [
          21,
          21,
          20,
          18,
          17,
          16,
          14,
          14,
          13,
          12,
          12,
          12,
          11,
          10,
          10,
          9,
          9,
          9,
          9,
          8,
          8,
          8,
          8,
          8
         ],
         "yaxis": "y72"
        },
        {
         "alignmentgroup": "True",
         "hovertemplate": "hot_topics=<br>newspaper=ExpresoPeru<br>week=33<br>word=%{x}<br>count=%{y}<extra></extra>",
         "legendgroup": "",
         "marker": {
          "color": "#fabd2f",
          "pattern": {
           "shape": ""
          }
         },
         "name": "",
         "offsetgroup": "",
         "orientation": "v",
         "showlegend": false,
         "textposition": "auto",
         "type": "bar",
         "x": [
          "paredes",
          "yenifer",
          "palacio",
          "josé",
          "torres",
          "antauro",
          "gobierno",
          "luis",
          "garcía",
          "fiscalía",
          "humala",
          "aníbal",
          "alvarado",
          "enportada",
          "niños",
          "presidente",
          "lima",
          "geiner",
          "preventiva",
          "prisión",
          "elguera",
          "judicial",
          "violencia",
          "medina",
          "guerra"
         ],
         "xaxis": "x61",
         "y": [
          23,
          18,
          17,
          12,
          11,
          10,
          10,
          9,
          8,
          8,
          8,
          8,
          6,
          6,
          6,
          6,
          6,
          6,
          6,
          6,
          5,
          5,
          5,
          5,
          5
         ],
         "yaxis": "y61"
        },
        {
         "alignmentgroup": "True",
         "hovertemplate": "hot_topics=<br>newspaper=ExpresoPeru<br>week=34<br>word=%{x}<br>count=%{y}<extra></extra>",
         "legendgroup": "",
         "marker": {
          "color": "#fabd2f",
          "pattern": {
           "shape": ""
          }
         },
         "name": "",
         "offsetgroup": "",
         "orientation": "v",
         "showlegend": false,
         "textposition": "auto",
         "type": "bar",
         "x": [
          "denuncia",
          "paredes",
          "luis",
          "benavides",
          "patricia",
          "garcía",
          "yenifer",
          "fiscal",
          "humala",
          "presidente",
          "colchado",
          "antauro",
          "josé",
          "pide",
          "mascarillas",
          "miró",
          "elecciones",
          "elguera",
          "susana",
          "lilia",
          "polidatos",
          "loúltimo",
          "fiscalía",
          "enportada",
          "villarán",
          "años"
         ],
         "xaxis": "x62",
         "y": [
          12,
          12,
          10,
          9,
          9,
          7,
          7,
          7,
          7,
          7,
          7,
          6,
          6,
          5,
          5,
          5,
          5,
          5,
          4,
          4,
          4,
          4,
          4,
          4,
          4,
          4
         ],
         "yaxis": "y62"
        },
        {
         "alignmentgroup": "True",
         "hovertemplate": "hot_topics=<br>newspaper=ExpresoPeru<br>week=39<br>word=%{x}<br>count=%{y}<extra></extra>",
         "legendgroup": "",
         "marker": {
          "color": "#fabd2f",
          "pattern": {
           "shape": ""
          }
         },
         "name": "",
         "offsetgroup": "",
         "orientation": "v",
         "showlegend": false,
         "textposition": "auto",
         "type": "bar",
         "x": [
          "elecciones",
          "presidencial",
          "avión",
          "vásquez",
          "caso",
          "lay",
          "lópez",
          "aliaga",
          "jorge",
          "votar",
          "deja",
          "luis",
          "aníbal",
          "torres",
          "forsyth",
          "jne",
          "años",
          "sobrino",
          "presidente",
          "urresti",
          "rafael",
          "mil",
          "pide",
          "ortiz",
          "paredes",
          "octubre",
          "lima"
         ],
         "xaxis": "x63",
         "y": [
          19,
          14,
          13,
          11,
          10,
          10,
          8,
          8,
          8,
          7,
          7,
          7,
          6,
          6,
          6,
          6,
          6,
          6,
          6,
          6,
          6,
          6,
          6,
          5,
          5,
          5,
          5
         ],
         "yaxis": "y63"
        },
        {
         "alignmentgroup": "True",
         "hovertemplate": "hot_topics=<br>newspaper=ExpresoPeru<br>week=44<br>word=%{x}<br>count=%{y}<extra></extra>",
         "legendgroup": "",
         "marker": {
          "color": "#fabd2f",
          "pattern": {
           "shape": ""
          }
         },
         "name": "",
         "offsetgroup": "",
         "orientation": "v",
         "showlegend": false,
         "textposition": "auto",
         "type": "bar",
         "x": [
          "luis",
          "brasil",
          "oea",
          "odebrecht",
          "jorge",
          "dini",
          "lula",
          "gobierno",
          "césar",
          "noviembre",
          "nacional",
          "polidatos",
          "cerrón",
          "marcha",
          "presidente",
          "sepa",
          "miró",
          "judicial",
          "petroperú",
          "mil",
          "paredes",
          "alejandro",
          "silva",
          "salas",
          "halloween",
          "lópez"
         ],
         "xaxis": "x64",
         "y": [
          10,
          8,
          8,
          7,
          6,
          6,
          6,
          6,
          5,
          5,
          5,
          5,
          5,
          5,
          4,
          4,
          4,
          4,
          4,
          4,
          4,
          4,
          4,
          4,
          4,
          4
         ],
         "yaxis": "y64"
        },
        {
         "alignmentgroup": "True",
         "hovertemplate": "hot_topics=<br>newspaper=ExpresoPeru<br>week=49<br>word=%{x}<br>count=%{y}<extra></extra>",
         "legendgroup": "",
         "marker": {
          "color": "#fabd2f",
          "pattern": {
           "shape": ""
          }
         },
         "name": "",
         "offsetgroup": "",
         "orientation": "v",
         "showlegend": false,
         "textposition": "auto",
         "type": "bar",
         "x": [
          "golpe",
          "vacancia",
          "expresoporlademocracia",
          "golpista",
          "loúltimo",
          "qatar",
          "presidente",
          "gabinete",
          "polidatos",
          "gobierno",
          "cerrón",
          "defensa",
          "mundial",
          "dini",
          "presidenta",
          "angulo",
          "penales",
          "pide",
          "política",
          "enportada",
          "ministros",
          "luis",
          "garcía",
          "fernández"
         ],
         "xaxis": "x65",
         "y": [
          22,
          14,
          11,
          10,
          10,
          9,
          9,
          7,
          6,
          6,
          6,
          5,
          5,
          5,
          5,
          5,
          5,
          5,
          5,
          5,
          5,
          5,
          4,
          4
         ],
         "yaxis": "y65"
        },
        {
         "alignmentgroup": "True",
         "hovertemplate": "hot_topics=<br>newspaper=ExpresoPeru<br>week=2<br>word=%{x}<br>count=%{y}<extra></extra>",
         "legendgroup": "",
         "marker": {
          "color": "#fabd2f",
          "pattern": {
           "shape": ""
          }
         },
         "name": "",
         "offsetgroup": "",
         "orientation": "v",
         "showlegend": false,
         "textposition": "auto",
         "type": "bar",
         "x": [
          "garcía",
          "evo",
          "violentas",
          "morales",
          "luis",
          "otárola",
          "díaz",
          "pide",
          "shakira",
          "juliaca",
          "freddy",
          "josé",
          "izquierda",
          "juan",
          "piqué",
          "torres",
          "preventiva",
          "césar",
          "miró",
          "gobierno",
          "lima"
         ],
         "xaxis": "x66",
         "y": [
          17,
          10,
          10,
          10,
          9,
          9,
          9,
          9,
          8,
          8,
          7,
          7,
          7,
          7,
          6,
          6,
          6,
          6,
          6,
          6,
          6
         ],
         "yaxis": "y66"
        },
        {
         "alignmentgroup": "True",
         "hovertemplate": "hot_topics=<br>newspaper=Gestionpe<br>week=33<br>word=%{x}<br>count=%{y}<extra></extra>",
         "legendgroup": "",
         "marker": {
          "color": "#fabd2f",
          "pattern": {
           "shape": ""
          }
         },
         "name": "",
         "offsetgroup": "",
         "orientation": "v",
         "showlegend": false,
         "textposition": "auto",
         "type": "bar",
         "x": [
          "lima",
          "economía",
          "millones",
          "eeuu",
          "elecciones",
          "agosto",
          "china",
          "tasas",
          "trabajo",
          "años",
          "riesgo",
          "empresas",
          "bono",
          "año",
          "dólar",
          "us",
          "fed",
          "votar",
          "video",
          "producción",
          "gobierno",
          "alimentario",
          "mercado",
          "alza",
          "afp",
          "peruanos"
         ],
         "xaxis": "x55",
         "y": [
          63,
          51,
          49,
          45,
          39,
          35,
          32,
          31,
          31,
          30,
          28,
          28,
          27,
          26,
          25,
          24,
          24,
          24,
          24,
          23,
          23,
          23,
          23,
          23,
          22,
          22
         ],
         "yaxis": "y55"
        },
        {
         "alignmentgroup": "True",
         "hovertemplate": "hot_topics=<br>newspaper=Gestionpe<br>week=34<br>word=%{x}<br>count=%{y}<extra></extra>",
         "legendgroup": "",
         "marker": {
          "color": "#fabd2f",
          "pattern": {
           "shape": ""
          }
         },
         "name": "",
         "offsetgroup": "",
         "orientation": "v",
         "showlegend": false,
         "textposition": "auto",
         "type": "bar",
         "x": [
          "millones",
          "us",
          "lima",
          "bono",
          "agosto",
          "empresas",
          "vídeo",
          "video",
          "alimentario",
          "crédito",
          "tercerización",
          "inversión",
          "link",
          "eeuu",
          "elecciones",
          "cierra",
          "gestión",
          "beneficiarios",
          "inflación",
          "prepara",
          "año",
          "riesgo",
          "trimestre",
          "acceder",
          "fed",
          "cambio",
          "alza"
         ],
         "xaxis": "x56",
         "y": [
          38,
          35,
          34,
          33,
          28,
          27,
          24,
          22,
          22,
          18,
          18,
          18,
          17,
          16,
          16,
          15,
          15,
          15,
          15,
          15,
          14,
          14,
          14,
          13,
          13,
          13,
          13
         ],
         "yaxis": "y56"
        },
        {
         "alignmentgroup": "True",
         "hovertemplate": "hot_topics=<br>newspaper=Gestionpe<br>week=39<br>word=%{x}<br>count=%{y}<extra></extra>",
         "legendgroup": "",
         "marker": {
          "color": "#fabd2f",
          "pattern": {
           "shape": ""
          }
         },
         "name": "",
         "offsetgroup": "",
         "orientation": "v",
         "showlegend": false,
         "textposition": "auto",
         "type": "bar",
         "x": [
          "elecciones",
          "lima",
          "millones",
          "votar",
          "empresas",
          "dólar",
          "eeuu",
          "año",
          "octubre",
          "años",
          "alza",
          "mercados",
          "riesgo",
          "us",
          "lomásleídodesetiembre",
          "precios",
          "precio",
          "crédito",
          "inflación",
          "mundial",
          "dni",
          "urresti",
          "presidencial",
          "avión",
          "onpe",
          "cobre",
          "video",
          "recesión"
         ],
         "xaxis": "x57",
         "y": [
          101,
          58,
          49,
          47,
          36,
          30,
          30,
          30,
          30,
          29,
          28,
          27,
          26,
          26,
          24,
          24,
          24,
          23,
          22,
          22,
          21,
          21,
          21,
          20,
          20,
          19,
          19,
          18
         ],
         "yaxis": "y57"
        },
        {
         "alignmentgroup": "True",
         "hovertemplate": "hot_topics=<br>newspaper=Gestionpe<br>week=44<br>word=%{x}<br>count=%{y}<extra></extra>",
         "legendgroup": "",
         "marker": {
          "color": "#fabd2f",
          "pattern": {
           "shape": ""
          }
         },
         "name": "",
         "offsetgroup": "",
         "orientation": "v",
         "showlegend": false,
         "textposition": "auto",
         "type": "bar",
         "x": [
          "lomásleídodeoctubre",
          "noviembre",
          "bono",
          "alimentario",
          "lima",
          "tasas",
          "fed",
          "empresas",
          "link",
          "precios",
          "pago",
          "eeuu",
          "dólar",
          "beneficiario",
          "producción",
          "sube",
          "trabajo",
          "mercados",
          "gobierno",
          "peruanos",
          "twitter",
          "whatsapp",
          "soles",
          "años",
          "rusia",
          "unidos",
          "espera"
         ],
         "xaxis": "x58",
         "y": [
          48,
          46,
          38,
          34,
          33,
          23,
          20,
          20,
          19,
          19,
          18,
          17,
          17,
          16,
          16,
          16,
          16,
          15,
          15,
          14,
          14,
          14,
          14,
          14,
          14,
          13,
          13
         ],
         "yaxis": "y58"
        },
        {
         "alignmentgroup": "True",
         "hovertemplate": "hot_topics=<br>newspaper=Gestionpe<br>week=49<br>word=%{x}<br>count=%{y}<extra></extra>",
         "legendgroup": "",
         "marker": {
          "color": "#fabd2f",
          "pattern": {
           "shape": ""
          }
         },
         "name": "",
         "offsetgroup": "",
         "orientation": "v",
         "showlegend": false,
         "textposition": "auto",
         "type": "bar",
         "x": [
          "golpe",
          "diciembre",
          "millones",
          "gobierno",
          "año",
          "bono",
          "vacancia",
          "empresas",
          "feriados",
          "eeuu",
          "alimentario",
          "mundial",
          "pago",
          "us",
          "lima",
          "qatar",
          "aviar",
          "dólar",
          "gripe",
          "sector",
          "mejores",
          "inflación",
          "universidades"
         ],
         "xaxis": "x59",
         "y": [
          48,
          38,
          28,
          26,
          26,
          23,
          22,
          21,
          21,
          21,
          20,
          20,
          19,
          18,
          17,
          17,
          17,
          17,
          17,
          16,
          16,
          15,
          14
         ],
         "yaxis": "y59"
        },
        {
         "alignmentgroup": "True",
         "hovertemplate": "hot_topics=<br>newspaper=Gestionpe<br>week=2<br>word=%{x}<br>count=%{y}<extra></extra>",
         "legendgroup": "",
         "marker": {
          "color": "#fabd2f",
          "pattern": {
           "shape": ""
          }
         },
         "name": "",
         "offsetgroup": "",
         "orientation": "v",
         "showlegend": false,
         "textposition": "auto",
         "type": "bar",
         "x": [
          "año",
          "millones",
          "enero",
          "eeuu",
          "gobierno",
          "puno",
          "otárola",
          "empresas",
          "bono",
          "cusco",
          "sur",
          "peruanos",
          "aeropuerto",
          "mercados",
          "bonos",
          "fed",
          "operaciones",
          "us",
          "sector",
          "video",
          "dólar",
          "años",
          "premier",
          "china",
          "gestión"
         ],
         "xaxis": "x60",
         "y": [
          51,
          39,
          35,
          32,
          31,
          28,
          28,
          23,
          21,
          21,
          20,
          19,
          18,
          18,
          17,
          16,
          16,
          16,
          15,
          15,
          15,
          15,
          15,
          14,
          14
         ],
         "yaxis": "y60"
        },
        {
         "alignmentgroup": "True",
         "hovertemplate": "hot_topics=<br>newspaper=diariocorreo<br>week=33<br>word=%{x}<br>count=%{y}<extra></extra>",
         "legendgroup": "",
         "marker": {
          "color": "#fabd2f",
          "pattern": {
           "shape": ""
          }
         },
         "name": "",
         "offsetgroup": "",
         "orientation": "v",
         "showlegend": false,
         "textposition": "auto",
         "type": "bar",
         "x": [
          "gobierno",
          "paredes",
          "libertad",
          "yenifer",
          "lima",
          "josé",
          "torres",
          "prisión",
          "años",
          "fiscalía",
          "presidente",
          "mil",
          "conoce",
          "arequipa",
          "piura",
          "aníbal",
          "tumbes",
          "palacio",
          "agosto",
          "real",
          "pide",
          "mono",
          "vs",
          "viruela",
          "elecciones"
         ],
         "xaxis": "x49",
         "y": [
          32,
          30,
          29,
          26,
          24,
          24,
          23,
          23,
          23,
          23,
          22,
          21,
          21,
          21,
          21,
          21,
          20,
          20,
          20,
          19,
          19,
          19,
          19,
          19,
          19
         ],
         "yaxis": "y49"
        },
        {
         "alignmentgroup": "True",
         "hovertemplate": "hot_topics=<br>newspaper=diariocorreo<br>week=34<br>word=%{x}<br>count=%{y}<extra></extra>",
         "legendgroup": "",
         "marker": {
          "color": "#fabd2f",
          "pattern": {
           "shape": ""
          }
         },
         "name": "",
         "offsetgroup": "",
         "orientation": "v",
         "showlegend": false,
         "textposition": "auto",
         "type": "bar",
         "x": [
          "paredes",
          "yenifer",
          "libertad",
          "lima",
          "fiscal",
          "fiscalía",
          "años",
          "prisión",
          "tumbes",
          "presidente",
          "gobierno",
          "preventiva",
          "vs",
          "popular",
          "horas",
          "piura",
          "agosto",
          "tacna",
          "puno",
          "nación",
          "reporta",
          "arequipa",
          "regional",
          "mil",
          "barcelona"
         ],
         "xaxis": "x50",
         "y": [
          34,
          25,
          22,
          21,
          21,
          21,
          19,
          18,
          16,
          15,
          14,
          13,
          12,
          12,
          12,
          12,
          12,
          11,
          11,
          10,
          10,
          10,
          10,
          10,
          9
         ],
         "yaxis": "y50"
        },
        {
         "alignmentgroup": "True",
         "hovertemplate": "hot_topics=<br>newspaper=diariocorreo<br>week=39<br>word=%{x}<br>count=%{y}<extra></extra>",
         "legendgroup": "",
         "marker": {
          "color": "#fabd2f",
          "pattern": {
           "shape": ""
          }
         },
         "name": "",
         "offsetgroup": "",
         "orientation": "v",
         "showlegend": false,
         "textposition": "auto",
         "type": "bar",
         "x": [
          "elecciones",
          "lima",
          "arequipa",
          "candidatos",
          "años",
          "candidato",
          "octubre",
          "puno",
          "piura",
          "vs",
          "región",
          "ministro",
          "premium",
          "presidente",
          "gol",
          "tumbes",
          "presidencial",
          "libertad",
          "electoral",
          "votación",
          "millones",
          "mil",
          "alcaldía",
          "gobierno",
          "daniel",
          "vásquez"
         ],
         "xaxis": "x51",
         "y": [
          45,
          35,
          31,
          28,
          22,
          21,
          21,
          20,
          18,
          17,
          16,
          15,
          15,
          15,
          14,
          14,
          14,
          13,
          13,
          13,
          13,
          13,
          13,
          12,
          12,
          12
         ],
         "yaxis": "y51"
        },
        {
         "alignmentgroup": "True",
         "hovertemplate": "hot_topics=<br>newspaper=diariocorreo<br>week=44<br>word=%{x}<br>count=%{y}<extra></extra>",
         "legendgroup": "",
         "marker": {
          "color": "#fabd2f",
          "pattern": {
           "shape": ""
          }
         },
         "name": "",
         "offsetgroup": "",
         "orientation": "v",
         "showlegend": false,
         "textposition": "auto",
         "type": "bar",
         "x": [
          "lima",
          "noviembre",
          "vs",
          "brasil",
          "arequipa",
          "mil",
          "corea",
          "caso",
          "alianza",
          "rusia",
          "sporting",
          "cristal",
          "tumbes",
          "millones",
          "gobierno",
          "trujillo",
          "gol",
          "horas",
          "melgar",
          "mundial",
          "halloween",
          "presidente",
          "fiscalía",
          "huancayo",
          "lula",
          "juan"
         ],
         "xaxis": "x52",
         "y": [
          36,
          24,
          16,
          14,
          13,
          12,
          12,
          12,
          12,
          11,
          11,
          11,
          11,
          10,
          10,
          10,
          10,
          10,
          9,
          9,
          9,
          9,
          9,
          9,
          9,
          9
         ],
         "yaxis": "y52"
        },
        {
         "alignmentgroup": "True",
         "hovertemplate": "hot_topics=<br>newspaper=diariocorreo<br>week=49<br>word=%{x}<br>count=%{y}<extra></extra>",
         "legendgroup": "",
         "marker": {
          "color": "#fabd2f",
          "pattern": {
           "shape": ""
          }
         },
         "name": "",
         "offsetgroup": "",
         "orientation": "v",
         "showlegend": false,
         "textposition": "auto",
         "type": "bar",
         "x": [
          "lima",
          "golpe",
          "mundial",
          "qatar",
          "vs",
          "cristiano",
          "arequipa",
          "gobierno",
          "argentina",
          "región",
          "vacancia",
          "brasil",
          "mil",
          "ronaldo",
          "diciembre",
          "messi",
          "países",
          "millones",
          "años",
          "bajos",
          "portugal",
          "presidenta",
          "exjefe"
         ],
         "xaxis": "x53",
         "y": [
          30,
          26,
          24,
          21,
          19,
          18,
          18,
          18,
          18,
          17,
          16,
          16,
          15,
          15,
          14,
          13,
          13,
          13,
          12,
          12,
          12,
          12,
          11
         ],
         "yaxis": "y53"
        },
        {
         "alignmentgroup": "True",
         "hovertemplate": "hot_topics=<br>newspaper=diariocorreo<br>week=2<br>word=%{x}<br>count=%{y}<extra></extra>",
         "legendgroup": "",
         "marker": {
          "color": "#fabd2f",
          "pattern": {
           "shape": ""
          }
         },
         "name": "",
         "offsetgroup": "",
         "orientation": "v",
         "showlegend": false,
         "textposition": "auto",
         "type": "bar",
         "x": [
          "puno",
          "arequipa",
          "libertad",
          "enero",
          "otárola",
          "gobierno",
          "alberto",
          "glademiranaya",
          "millones",
          "lima",
          "manifestantes",
          "paredes",
          "años",
          "hospital",
          "carretera",
          "freddy",
          "evo",
          "díaz",
          "tacna",
          "pide",
          "muertes",
          "juliaca",
          "eeuu",
          "policía",
          "huancayo"
         ],
         "xaxis": "x54",
         "y": [
          19,
          19,
          16,
          14,
          13,
          13,
          12,
          10,
          10,
          10,
          9,
          9,
          9,
          9,
          8,
          8,
          8,
          8,
          7,
          7,
          7,
          7,
          7,
          7,
          7
         ],
         "yaxis": "y54"
        },
        {
         "alignmentgroup": "True",
         "hovertemplate": "hot_topics=<br>newspaper=diarioojo<br>week=33<br>word=%{x}<br>count=%{y}<extra></extra>",
         "legendgroup": "",
         "marker": {
          "color": "#fabd2f",
          "pattern": {
           "shape": ""
          }
         },
         "name": "",
         "offsetgroup": "",
         "orientation": "v",
         "showlegend": false,
         "textposition": "auto",
         "type": "bar",
         "x": [
          "magaly",
          "años",
          "lima",
          "sofía",
          "hija",
          "franco",
          "mil",
          "jamila",
          "paz",
          "diego",
          "barra",
          "conoce",
          "revela",
          "garcía",
          "fiorella",
          "zambrano",
          "bertie",
          "alondra",
          "habría",
          "programa",
          "carlos",
          "casa",
          "hijo",
          "cree",
          "dahabreh",
          "fiesta"
         ],
         "xaxis": "x43",
         "y": [
          46,
          45,
          36,
          30,
          29,
          27,
          26,
          26,
          24,
          22,
          22,
          21,
          18,
          17,
          16,
          16,
          15,
          15,
          14,
          14,
          14,
          13,
          13,
          13,
          13,
          13
         ],
         "yaxis": "y43"
        },
        {
         "alignmentgroup": "True",
         "hovertemplate": "hot_topics=<br>newspaper=diarioojo<br>week=34<br>word=%{x}<br>count=%{y}<extra></extra>",
         "legendgroup": "",
         "marker": {
          "color": "#fabd2f",
          "pattern": {
           "shape": ""
          }
         },
         "name": "",
         "offsetgroup": "",
         "orientation": "v",
         "showlegend": false,
         "textposition": "auto",
         "type": "bar",
         "x": [
          "lima",
          "magaly",
          "piqué",
          "años",
          "gerard",
          "mil",
          "shakira",
          "hija",
          "samahara",
          "karla",
          "fiorella",
          "vida",
          "san",
          "cree",
          "paredes",
          "juan",
          "amor",
          "separación",
          "gisela",
          "novia",
          "tarazona",
          "brunella",
          "boda",
          "conoce",
          "ethel",
          "melissa"
         ],
         "xaxis": "x44",
         "y": [
          25,
          25,
          24,
          23,
          20,
          19,
          19,
          18,
          16,
          15,
          14,
          14,
          13,
          13,
          13,
          13,
          12,
          12,
          12,
          11,
          11,
          11,
          11,
          11,
          11,
          11
         ],
         "yaxis": "y44"
        },
        {
         "alignmentgroup": "True",
         "hovertemplate": "hot_topics=<br>newspaper=diarioojo<br>week=39<br>word=%{x}<br>count=%{y}<extra></extra>",
         "legendgroup": "",
         "marker": {
          "color": "#fabd2f",
          "pattern": {
           "shape": ""
          }
         },
         "name": "",
         "offsetgroup": "",
         "orientation": "v",
         "showlegend": false,
         "textposition": "auto",
         "type": "bar",
         "x": [
          "elecciones",
          "magaly",
          "robotín",
          "lima",
          "show",
          "melissa",
          "gisela",
          "robotina",
          "octubre",
          "años",
          "paredes",
          "boca",
          "valcárcel",
          "conoce",
          "christian",
          "peruana",
          "hija",
          "urresti",
          "medina",
          "rafael",
          "san",
          "revela",
          "municipal",
          "alcaldía",
          "tv",
          "lópez",
          "votar"
         ],
         "xaxis": "x45",
         "y": [
          45,
          44,
          28,
          27,
          23,
          23,
          21,
          20,
          18,
          18,
          18,
          15,
          15,
          13,
          13,
          13,
          13,
          12,
          12,
          11,
          11,
          11,
          11,
          11,
          11,
          11,
          11
         ],
         "yaxis": "y45"
        },
        {
         "alignmentgroup": "True",
         "hovertemplate": "hot_topics=<br>newspaper=diarioojo<br>week=44<br>word=%{x}<br>count=%{y}<extra></extra>",
         "legendgroup": "",
         "marker": {
          "color": "#fabd2f",
          "pattern": {
           "shape": ""
          }
         },
         "name": "",
         "offsetgroup": "",
         "orientation": "v",
         "showlegend": false,
         "textposition": "auto",
         "type": "bar",
         "x": [
          "halloween",
          "lima",
          "kelvin",
          "magaly",
          "john",
          "melissa",
          "paredes",
          "noviembre",
          "dalia",
          "años",
          "gisela",
          "hijos",
          "alianza",
          "hija",
          "rodrigo",
          "mil",
          "disfraz",
          "revela",
          "cree",
          "sitio",
          "hijo",
          "san",
          "rengifo",
          "millones",
          "bono",
          "durán",
          "vivir"
         ],
         "xaxis": "x46",
         "y": [
          39,
          34,
          28,
          27,
          27,
          26,
          19,
          18,
          17,
          15,
          15,
          13,
          13,
          12,
          12,
          12,
          11,
          11,
          11,
          11,
          11,
          11,
          10,
          10,
          10,
          10,
          10
         ],
         "yaxis": "y46"
        },
        {
         "alignmentgroup": "True",
         "hovertemplate": "hot_topics=<br>newspaper=diarioojo<br>week=49<br>word=%{x}<br>count=%{y}<extra></extra>",
         "legendgroup": "",
         "marker": {
          "color": "#fabd2f",
          "pattern": {
           "shape": ""
          }
         },
         "name": "",
         "offsetgroup": "",
         "orientation": "v",
         "showlegend": false,
         "textposition": "auto",
         "type": "bar",
         "x": [
          "magaly",
          "golpe",
          "lima",
          "mundial",
          "qatar",
          "vs",
          "diciembre",
          "melissa",
          "ethel",
          "vacancia",
          "portugal",
          "cristiano",
          "brasil",
          "paredes",
          "navidad",
          "mensaje",
          "ronaldo",
          "mil",
          "lucho",
          "horas",
          "gol",
          "cáceres",
          "año"
         ],
         "xaxis": "x47",
         "y": [
          36,
          32,
          30,
          29,
          27,
          25,
          22,
          21,
          20,
          20,
          18,
          18,
          17,
          16,
          15,
          14,
          14,
          14,
          13,
          13,
          12,
          12,
          12
         ],
         "yaxis": "y47"
        },
        {
         "alignmentgroup": "True",
         "hovertemplate": "hot_topics=<br>newspaper=diarioojo<br>week=2<br>word=%{x}<br>count=%{y}<extra></extra>",
         "legendgroup": "",
         "marker": {
          "color": "#fabd2f",
          "pattern": {
           "shape": ""
          }
         },
         "name": "",
         "offsetgroup": "",
         "orientation": "v",
         "showlegend": false,
         "textposition": "auto",
         "type": "bar",
         "x": [
          "alessia",
          "brunella",
          "miss",
          "boda",
          "universo",
          "shakira",
          "rovegno",
          "richard",
          "melissa",
          "piqué",
          "paredes",
          "peluchín",
          "karla",
          "canción",
          "acuña",
          "horna",
          "gino",
          "tarazona",
          "años",
          "programa",
          "pamela",
          "tv",
          "mil",
          "jazmín",
          "galán",
          "mensaje",
          "garcía",
          "pesaressi"
         ],
         "xaxis": "x48",
         "y": [
          36,
          36,
          28,
          27,
          26,
          22,
          21,
          19,
          19,
          17,
          15,
          13,
          12,
          11,
          11,
          11,
          10,
          10,
          10,
          9,
          9,
          9,
          9,
          9,
          9,
          8,
          8,
          8
         ],
         "yaxis": "y48"
        },
        {
         "alignmentgroup": "True",
         "hovertemplate": "hot_topics=<br>newspaper=elbuho_pe<br>week=33<br>word=%{x}<br>count=%{y}<extra></extra>",
         "legendgroup": "",
         "marker": {
          "color": "#fabd2f",
          "pattern": {
           "shape": ""
          }
         },
         "name": "",
         "offsetgroup": "",
         "orientation": "v",
         "showlegend": false,
         "textposition": "auto",
         "type": "bar",
         "x": [
          "aa",
          "off",
          "ofertarán",
          "ofertados",
          "ofertadas",
          "oferta",
          "ofensivos",
          "ofensivo",
          "ofensiva",
          "ofensas",
          "ofensa",
          "ofendiendo",
          "ofendido",
          "ofender",
          "of",
          "oeste",
          "oei",
          "oefa",
          "oechsle",
          "oea",
          "odpe",
          "odontólogo",
          "odios",
          "odio",
          "odinga",
          "odian",
          "odia",
          "odesur",
          "odesa",
          "ofertas"
         ],
         "xaxis": "x37",
         "y": [
          0,
          0,
          0,
          0,
          0,
          0,
          0,
          0,
          0,
          0,
          0,
          0,
          0,
          0,
          0,
          0,
          0,
          0,
          0,
          0,
          0,
          0,
          0,
          0,
          0,
          0,
          0,
          0,
          0,
          0
         ],
         "yaxis": "y37"
        },
        {
         "alignmentgroup": "True",
         "hovertemplate": "hot_topics=<br>newspaper=elbuho_pe<br>week=34<br>word=%{x}<br>count=%{y}<extra></extra>",
         "legendgroup": "",
         "marker": {
          "color": "#fabd2f",
          "pattern": {
           "shape": ""
          }
         },
         "name": "",
         "offsetgroup": "",
         "orientation": "v",
         "showlegend": false,
         "textposition": "auto",
         "type": "bar",
         "x": [
          "elbuho",
          "elbuhope",
          "alvuelo",
          "arequipa",
          "fiscal",
          "elecciones",
          "paredes",
          "nación",
          "humala",
          "antauro",
          "prisión",
          "ministro",
          "trabajadores",
          "yenifer",
          "denuncia",
          "exigen",
          "pasó",
          "benavides",
          "pico",
          "patricia",
          "fiscalía",
          "importa",
          "fbc",
          "congresista",
          "pedido",
          "huelga",
          "libre"
         ],
         "xaxis": "x38",
         "y": [
          19,
          17,
          9,
          9,
          7,
          7,
          6,
          5,
          5,
          5,
          4,
          4,
          4,
          4,
          4,
          4,
          4,
          4,
          4,
          4,
          4,
          4,
          3,
          3,
          3,
          3,
          3
         ],
         "yaxis": "y38"
        },
        {
         "alignmentgroup": "True",
         "hovertemplate": "hot_topics=<br>newspaper=elbuho_pe<br>week=39<br>word=%{x}<br>count=%{y}<extra></extra>",
         "legendgroup": "",
         "marker": {
          "color": "#fabd2f",
          "pattern": {
           "shape": ""
          }
         },
         "name": "",
         "offsetgroup": "",
         "orientation": "v",
         "showlegend": false,
         "textposition": "auto",
         "type": "bar",
         "x": [
          "elbuhope",
          "arequipa",
          "elecciones",
          "elbuho",
          "candidatos",
          "alvuelo",
          "electoral",
          "regionales",
          "campaña",
          "candidato",
          "urna",
          "boca",
          "pasó",
          "domingo",
          "puno",
          "alcaldía",
          "regional",
          "antauro",
          "rohel",
          "provincial",
          "sánchez",
          "cobertura",
          "gobernador",
          "congresista",
          "movimientos",
          "cierre",
          "torres",
          "octubre"
         ],
         "xaxis": "x39",
         "y": [
          50,
          42,
          41,
          22,
          18,
          16,
          12,
          10,
          10,
          9,
          8,
          8,
          7,
          6,
          6,
          5,
          5,
          5,
          5,
          5,
          5,
          5,
          5,
          5,
          5,
          5,
          5,
          5
         ],
         "yaxis": "y39"
        },
        {
         "alignmentgroup": "True",
         "hovertemplate": "hot_topics=<br>newspaper=elbuho_pe<br>week=44<br>word=%{x}<br>count=%{y}<extra></extra>",
         "legendgroup": "",
         "marker": {
          "color": "#fabd2f",
          "pattern": {
           "shape": ""
          }
         },
         "name": "",
         "offsetgroup": "",
         "orientation": "v",
         "showlegend": false,
         "textposition": "auto",
         "type": "bar",
         "x": [
          "elbuhope",
          "elbuho",
          "arequipa",
          "alvuelo",
          "pasó",
          "ayacucho",
          "salida",
          "san",
          "entrevista",
          "hospital",
          "oea",
          "melgar",
          "fiscalía",
          "fbc",
          "comprometen",
          "sporting",
          "josé",
          "funcionaria",
          "lima",
          "elecciones",
          "obras",
          "presidente",
          "corrupción",
          "audios",
          "pedido",
          "cristal",
          "partido"
         ],
         "xaxis": "x40",
         "y": [
          40,
          21,
          18,
          9,
          6,
          5,
          5,
          5,
          5,
          5,
          5,
          5,
          5,
          5,
          4,
          4,
          4,
          4,
          4,
          4,
          4,
          4,
          4,
          4,
          4,
          4,
          4
         ],
         "yaxis": "y40"
        },
        {
         "alignmentgroup": "True",
         "hovertemplate": "hot_topics=<br>newspaper=elbuho_pe<br>week=49<br>word=%{x}<br>count=%{y}<extra></extra>",
         "legendgroup": "",
         "marker": {
          "color": "#fabd2f",
          "pattern": {
           "shape": ""
          }
         },
         "name": "",
         "offsetgroup": "",
         "orientation": "v",
         "showlegend": false,
         "textposition": "auto",
         "type": "bar",
         "x": [
          "elbuhope",
          "elbuho",
          "arequipa",
          "presidente",
          "alvuelo",
          "cierre",
          "crisis",
          "vacancia",
          "presidenta",
          "video",
          "república",
          "gobierno",
          "nación",
          "lópez",
          "exjefe",
          "dini",
          "elecciones",
          "política",
          "constitución",
          "mil",
          "escribe",
          "mensaje",
          "opinion",
          "excepción"
         ],
         "xaxis": "x41",
         "y": [
          32,
          19,
          15,
          11,
          9,
          7,
          7,
          7,
          6,
          6,
          6,
          6,
          6,
          5,
          5,
          5,
          4,
          4,
          4,
          4,
          4,
          4,
          4,
          3
         ],
         "yaxis": "y41"
        },
        {
         "alignmentgroup": "True",
         "hovertemplate": "hot_topics=<br>newspaper=elbuho_pe<br>week=2<br>word=%{x}<br>count=%{y}<extra></extra>",
         "legendgroup": "",
         "marker": {
          "color": "#fabd2f",
          "pattern": {
           "shape": ""
          }
         },
         "name": "",
         "offsetgroup": "",
         "orientation": "v",
         "showlegend": false,
         "textposition": "auto",
         "type": "bar",
         "x": [
          "elbuhope",
          "arequipa",
          "juliaca",
          "elbuho",
          "puno",
          "fallecidos",
          "manifestantes",
          "personas",
          "literario",
          "congresista",
          "lima",
          "renuncia",
          "enfrentamientos",
          "regiones",
          "búho",
          "gobierno",
          "muertes",
          "comerciantes",
          "plaza",
          "policías",
          "represión",
          "xi",
          "trabajo",
          "concurso",
          "votos",
          "exigiendo",
          "policial"
         ],
         "xaxis": "x42",
         "y": [
          45,
          34,
          31,
          28,
          18,
          15,
          12,
          10,
          8,
          8,
          8,
          8,
          8,
          8,
          7,
          7,
          7,
          7,
          7,
          7,
          6,
          6,
          6,
          6,
          6,
          6,
          6
         ],
         "yaxis": "y42"
        },
        {
         "alignmentgroup": "True",
         "hovertemplate": "hot_topics=<br>newspaper=elcomercio_peru<br>week=33<br>word=%{x}<br>count=%{y}<extra></extra>",
         "legendgroup": "",
         "marker": {
          "color": "#fabd2f",
          "pattern": {
           "shape": ""
          }
         },
         "name": "",
         "offsetgroup": "",
         "orientation": "v",
         "showlegend": false,
         "textposition": "auto",
         "type": "bar",
         "x": [
          "agosto",
          "años",
          "millones",
          "dólar",
          "cambio",
          "rusia",
          "méxico",
          "tipo",
          "precio",
          "lima",
          "gobierno",
          "mil",
          "reporta",
          "ucrania",
          "mono",
          "eeuu",
          "viruela",
          "colombia",
          "pide",
          "chile",
          "caso",
          "muertos",
          "conoce",
          "personas",
          "horas",
          "contagios",
          "trump",
          "venezuela"
         ],
         "xaxis": "x31",
         "y": [
          48,
          33,
          26,
          25,
          21,
          20,
          20,
          19,
          18,
          18,
          17,
          16,
          15,
          15,
          14,
          14,
          14,
          13,
          13,
          12,
          12,
          12,
          11,
          11,
          10,
          10,
          10,
          10
         ],
         "yaxis": "y31"
        },
        {
         "alignmentgroup": "True",
         "hovertemplate": "hot_topics=<br>newspaper=elcomercio_peru<br>week=34<br>word=%{x}<br>count=%{y}<extra></extra>",
         "legendgroup": "",
         "marker": {
          "color": "#fabd2f",
          "pattern": {
           "shape": ""
          }
         },
         "name": "",
         "offsetgroup": "",
         "orientation": "v",
         "showlegend": false,
         "textposition": "auto",
         "type": "bar",
         "x": [
          "agosto",
          "lima",
          "millones",
          "perucheck",
          "años",
          "mundo",
          "eeuu",
          "ucrania",
          "méxico",
          "colombia",
          "mono",
          "rusia",
          "viruela",
          "muerte",
          "venezuela",
          "tipo",
          "cambio",
          "dólar",
          "us",
          "reporta",
          "mujer",
          "contagios",
          "unidos",
          "policía",
          "precio",
          "bono",
          "pasó"
         ],
         "xaxis": "x32",
         "y": [
          40,
          23,
          21,
          19,
          17,
          14,
          14,
          14,
          13,
          13,
          12,
          12,
          12,
          12,
          12,
          11,
          11,
          11,
          11,
          10,
          10,
          9,
          9,
          9,
          9,
          8,
          8
         ],
         "yaxis": "y32"
        },
        {
         "alignmentgroup": "True",
         "hovertemplate": "hot_topics=<br>newspaper=elcomercio_peru<br>week=39<br>word=%{x}<br>count=%{y}<extra></extra>",
         "legendgroup": "",
         "marker": {
          "color": "#fabd2f",
          "pattern": {
           "shape": ""
          }
         },
         "name": "",
         "offsetgroup": "",
         "orientation": "v",
         "showlegend": false,
         "textposition": "auto",
         "type": "bar",
         "x": [
          "lima",
          "elecciones",
          "setiembre",
          "rusia",
          "ian",
          "renezp",
          "huracán",
          "candidato",
          "ucrania",
          "florida",
          "precio",
          "millones",
          "años",
          "cambio",
          "perucheck",
          "eeuu",
          "tipo",
          "regiones",
          "candidatos",
          "dólar",
          "conoce",
          "consulta",
          "lula",
          "bolsonaro",
          "agua",
          "cuba",
          "octubre",
          "alcaldía",
          "nord"
         ],
         "xaxis": "x33",
         "y": [
          39,
          35,
          29,
          27,
          27,
          25,
          24,
          19,
          18,
          16,
          16,
          16,
          15,
          14,
          14,
          14,
          13,
          13,
          13,
          13,
          13,
          11,
          11,
          11,
          10,
          10,
          10,
          10,
          10
         ],
         "yaxis": "y33"
        },
        {
         "alignmentgroup": "True",
         "hovertemplate": "hot_topics=<br>newspaper=elcomercio_peru<br>week=44<br>word=%{x}<br>count=%{y}<extra></extra>",
         "legendgroup": "",
         "marker": {
          "color": "#fabd2f",
          "pattern": {
           "shape": ""
          }
         },
         "name": "",
         "offsetgroup": "",
         "orientation": "v",
         "showlegend": false,
         "textposition": "auto",
         "type": "bar",
         "x": [
          "noviembre",
          "lula",
          "brasil",
          "lima",
          "rusia",
          "millones",
          "elecciones",
          "ucrania",
          "corea",
          "eeuu",
          "dólar",
          "unidos",
          "precio",
          "cambio",
          "años",
          "tipo",
          "silva",
          "personas",
          "colombia",
          "bolsonaro",
          "victoria",
          "conoce",
          "santos",
          "policía",
          "gobierno",
          "norte",
          "tasas",
          "venezuela"
         ],
         "xaxis": "x34",
         "y": [
          36,
          33,
          26,
          25,
          18,
          18,
          16,
          16,
          16,
          15,
          14,
          12,
          12,
          12,
          12,
          12,
          11,
          11,
          11,
          10,
          10,
          10,
          9,
          9,
          9,
          9,
          8,
          8
         ],
         "yaxis": "y34"
        },
        {
         "alignmentgroup": "True",
         "hovertemplate": "hot_topics=<br>newspaper=elcomercio_peru<br>week=49<br>word=%{x}<br>count=%{y}<extra></extra>",
         "legendgroup": "",
         "marker": {
          "color": "#fabd2f",
          "pattern": {
           "shape": ""
          }
         },
         "name": "",
         "offsetgroup": "",
         "orientation": "v",
         "showlegend": false,
         "textposition": "auto",
         "type": "bar",
         "x": [
          "diciembre",
          "gobierno",
          "golpe",
          "lima",
          "ucrania",
          "unidos",
          "rusia",
          "dólar",
          "eeuu",
          "precio",
          "años",
          "presidenta",
          "tipo",
          "cambio",
          "politicaecpe",
          "china",
          "presidente",
          "kirchner",
          "conoce",
          "corrupción",
          "colombia",
          "pide",
          "cristina"
         ],
         "xaxis": "x35",
         "y": [
          39,
          25,
          22,
          20,
          19,
          18,
          16,
          14,
          14,
          14,
          13,
          13,
          12,
          12,
          12,
          12,
          11,
          11,
          10,
          10,
          10,
          9,
          9
         ],
         "yaxis": "y35"
        },
        {
         "alignmentgroup": "True",
         "hovertemplate": "hot_topics=<br>newspaper=elcomercio_peru<br>week=2<br>word=%{x}<br>count=%{y}<extra></extra>",
         "legendgroup": "",
         "marker": {
          "color": "#fabd2f",
          "pattern": {
           "shape": ""
          }
         },
         "name": "",
         "offsetgroup": "",
         "orientation": "v",
         "showlegend": false,
         "textposition": "auto",
         "type": "bar",
         "x": [
          "enero",
          "brasil",
          "eeuu",
          "bolsonaro",
          "puno",
          "unidos",
          "biden",
          "asalto",
          "méxico",
          "años",
          "brasilia",
          "lima",
          "gobierno",
          "ucrania",
          "conoce",
          "precio",
          "manifestantes",
          "policía",
          "colombia",
          "bolsonaristas",
          "tipo",
          "violencia",
          "cambio",
          "nacional",
          "cusco",
          "martes"
         ],
         "xaxis": "x36",
         "y": [
          38,
          38,
          24,
          21,
          20,
          19,
          19,
          17,
          16,
          16,
          16,
          15,
          13,
          13,
          12,
          12,
          12,
          11,
          11,
          11,
          10,
          10,
          10,
          10,
          9,
          9
         ],
         "yaxis": "y36"
        },
        {
         "alignmentgroup": "True",
         "hovertemplate": "hot_topics=<br>newspaper=ensustrece<br>week=33<br>word=%{x}<br>count=%{y}<extra></extra>",
         "legendgroup": "",
         "marker": {
          "color": "#fabd2f",
          "pattern": {
           "shape": ""
          }
         },
         "name": "",
         "offsetgroup": "",
         "orientation": "v",
         "showlegend": false,
         "textposition": "auto",
         "type": "bar",
         "x": [
          "aa",
          "off",
          "ofertarán",
          "ofertados",
          "ofertadas",
          "oferta",
          "ofensivos",
          "ofensivo",
          "ofensiva",
          "ofensas",
          "ofensa",
          "ofendiendo",
          "ofendido",
          "ofender",
          "of",
          "oeste",
          "oei",
          "oefa",
          "oechsle",
          "oea",
          "odpe",
          "odontólogo",
          "odios",
          "odio",
          "odinga",
          "odian",
          "odia",
          "odesur",
          "odesa",
          "ofertas"
         ],
         "xaxis": "x25",
         "y": [
          0,
          0,
          0,
          0,
          0,
          0,
          0,
          0,
          0,
          0,
          0,
          0,
          0,
          0,
          0,
          0,
          0,
          0,
          0,
          0,
          0,
          0,
          0,
          0,
          0,
          0,
          0,
          0,
          0,
          0
         ],
         "yaxis": "y25"
        },
        {
         "alignmentgroup": "True",
         "hovertemplate": "hot_topics=<br>newspaper=ensustrece<br>week=34<br>word=%{x}<br>count=%{y}<extra></extra>",
         "legendgroup": "",
         "marker": {
          "color": "#fabd2f",
          "pattern": {
           "shape": ""
          }
         },
         "name": "",
         "offsetgroup": "",
         "orientation": "v",
         "showlegend": false,
         "textposition": "auto",
         "type": "bar",
         "x": [
          "ensustrece",
          "escribe",
          "años",
          "completa",
          "hildebrandt",
          "suma",
          "espino",
          "fujimorismo",
          "presidente",
          "medina",
          "mecozam",
          "hugo",
          "alcalde",
          "azambranox",
          "estigma",
          "nenil",
          "dinero",
          "obtener",
          "curso",
          "claves",
          "josé",
          "parlamento",
          "reportaje",
          "pm",
          "pide",
          "vladimir",
          "soniasuyon",
          "repartija"
         ],
         "xaxis": "x26",
         "y": [
          16,
          9,
          5,
          3,
          3,
          3,
          3,
          3,
          3,
          3,
          3,
          3,
          3,
          2,
          2,
          2,
          2,
          2,
          2,
          2,
          2,
          2,
          2,
          2,
          2,
          2,
          2,
          2
         ],
         "yaxis": "y26"
        },
        {
         "alignmentgroup": "True",
         "hovertemplate": "hot_topics=<br>newspaper=ensustrece<br>week=39<br>word=%{x}<br>count=%{y}<extra></extra>",
         "legendgroup": "",
         "marker": {
          "color": "#fabd2f",
          "pattern": {
           "shape": ""
          }
         },
         "name": "",
         "offsetgroup": "",
         "orientation": "v",
         "showlegend": false,
         "textposition": "auto",
         "type": "bar",
         "x": [
          "ensustrece",
          "hildebrandt",
          "eloymarchan",
          "escribe",
          "lima",
          "presidente",
          "canal",
          "hume",
          "reportaje",
          "edición",
          "asco",
          "justicia",
          "quesada",
          "fiscal",
          "nación",
          "maría",
          "hermana",
          "podcast",
          "acaba",
          "cifras",
          "américa",
          "miró",
          "gobierno",
          "vida",
          "gilberto",
          "acusación",
          "azambranox",
          "especie",
          "taxista",
          "tema"
         ],
         "xaxis": "x27",
         "y": [
          8,
          7,
          4,
          4,
          4,
          3,
          3,
          2,
          2,
          2,
          2,
          2,
          2,
          2,
          2,
          2,
          2,
          2,
          2,
          2,
          2,
          2,
          2,
          2,
          2,
          1,
          1,
          1,
          1,
          1
         ],
         "yaxis": "y27"
        },
        {
         "alignmentgroup": "True",
         "hovertemplate": "hot_topics=<br>newspaper=ensustrece<br>week=44<br>word=%{x}<br>count=%{y}<extra></extra>",
         "legendgroup": "",
         "marker": {
          "color": "#fabd2f",
          "pattern": {
           "shape": ""
          }
         },
         "name": "",
         "offsetgroup": "",
         "orientation": "v",
         "showlegend": false,
         "textposition": "auto",
         "type": "bar",
         "x": [
          "hildebrandt",
          "izquierda",
          "ensustrece",
          "señor",
          "césar",
          "votos",
          "cero",
          "suspensión",
          "podcast",
          "evaluará",
          "fenatep",
          "eloymarchan",
          "jalado",
          "alcanzado",
          "vergüenza",
          "oposición",
          "frente",
          "masoquista",
          "pm",
          "destrozado",
          "voltearle",
          "gobierno",
          "asunto",
          "azambranox",
          "diciembre",
          "gracias",
          "copado",
          "sindical"
         ],
         "xaxis": "x28",
         "y": [
          5,
          4,
          3,
          3,
          2,
          2,
          2,
          2,
          2,
          1,
          1,
          1,
          1,
          1,
          1,
          1,
          1,
          1,
          1,
          1,
          1,
          1,
          1,
          1,
          1,
          1,
          1,
          1
         ],
         "yaxis": "y28"
        },
        {
         "alignmentgroup": "True",
         "hovertemplate": "hot_topics=<br>newspaper=ensustrece<br>week=49<br>word=%{x}<br>count=%{y}<extra></extra>",
         "legendgroup": "",
         "marker": {
          "color": "#fabd2f",
          "pattern": {
           "shape": ""
          }
         },
         "name": "",
         "offsetgroup": "",
         "orientation": "v",
         "showlegend": false,
         "textposition": "auto",
         "type": "bar",
         "x": [
          "hildebrandt",
          "escribe",
          "ensustrece",
          "chávez",
          "podcast",
          "presidente",
          "comedia",
          "miles",
          "lima",
          "votos",
          "golpista",
          "unchasqui",
          "reportaje",
          "golpe",
          "venezolanos",
          "garcía",
          "soles",
          "lago",
          "esfuerzos",
          "años",
          "discurso",
          "anuncio",
          "derecha",
          "terminó",
          "briceño",
          "fracasó",
          "agua"
         ],
         "xaxis": "x29",
         "y": [
          10,
          8,
          8,
          3,
          3,
          3,
          2,
          2,
          2,
          2,
          2,
          2,
          2,
          2,
          2,
          2,
          1,
          1,
          1,
          1,
          1,
          1,
          1,
          1,
          1,
          1,
          1
         ],
         "yaxis": "y29"
        },
        {
         "alignmentgroup": "True",
         "hovertemplate": "hot_topics=<br>newspaper=ensustrece<br>week=2<br>word=%{x}<br>count=%{y}<extra></extra>",
         "legendgroup": "",
         "marker": {
          "color": "#fabd2f",
          "pattern": {
           "shape": ""
          }
         },
         "name": "",
         "offsetgroup": "",
         "orientation": "v",
         "showlegend": false,
         "textposition": "auto",
         "type": "bar",
         "x": [
          "escribe",
          "ensustrece",
          "hildebrandt",
          "gobierno",
          "podcast",
          "piahildebrandt",
          "historia",
          "quioscos",
          "regresa",
          "años",
          "web",
          "leerlo",
          "política",
          "ramírez",
          "evo",
          "celular",
          "ronald",
          "moya",
          "renunciar",
          "agradezco",
          "soncco",
          "propaganda",
          "martirio",
          "magnífico",
          "soniasuyon",
          "youtube",
          "comenzado"
         ],
         "xaxis": "x30",
         "y": [
          9,
          9,
          7,
          3,
          3,
          2,
          2,
          2,
          2,
          2,
          2,
          2,
          2,
          1,
          1,
          1,
          1,
          1,
          1,
          1,
          1,
          1,
          1,
          1,
          1,
          1,
          1
         ],
         "yaxis": "y30"
        },
        {
         "alignmentgroup": "True",
         "hovertemplate": "hot_topics=<br>newspaper=larazon_pe<br>week=33<br>word=%{x}<br>count=%{y}<extra></extra>",
         "legendgroup": "",
         "marker": {
          "color": "#fabd2f",
          "pattern": {
           "shape": ""
          }
         },
         "name": "",
         "offsetgroup": "",
         "orientation": "v",
         "showlegend": false,
         "textposition": "auto",
         "type": "bar",
         "x": [
          "leer",
          "mandatario",
          "agosto",
          "millones",
          "cerca",
          "corrupción",
          "estadounidenses",
          "fiscalía",
          "señala",
          "cuñada",
          "totalmente",
          "sueldos",
          "peruanos",
          "guía",
          "auditor",
          "anunció",
          "cambio",
          "casas",
          "aníbal",
          "unidos",
          "ucrania",
          "premier",
          "medidas",
          "momentos",
          "retorno",
          "años",
          "torres"
         ],
         "xaxis": "x19",
         "y": [
          8,
          4,
          4,
          3,
          3,
          3,
          3,
          3,
          3,
          3,
          2,
          2,
          2,
          2,
          2,
          2,
          2,
          2,
          2,
          2,
          2,
          2,
          2,
          2,
          2,
          2,
          2
         ],
         "yaxis": "y19"
        },
        {
         "alignmentgroup": "True",
         "hovertemplate": "hot_topics=<br>newspaper=larazon_pe<br>week=34<br>word=%{x}<br>count=%{y}<extra></extra>",
         "legendgroup": "",
         "marker": {
          "color": "#fabd2f",
          "pattern": {
           "shape": ""
          }
         },
         "name": "",
         "offsetgroup": "",
         "orientation": "v",
         "showlegend": false,
         "textposition": "auto",
         "type": "bar",
         "x": [
          "congresista",
          "uefa",
          "mil",
          "setiembre",
          "señala",
          "millones",
          "dinero",
          "audiencia",
          "pena",
          "gobierno",
          "championsleague",
          "año",
          "prisión",
          "paredes",
          "fiscal",
          "yenifer",
          "ingresa",
          "presentan",
          "realmadrid",
          "lee",
          "infórmate",
          "asaltan",
          "web",
          "reprograman",
          "acusación",
          "definen",
          "seleccionado",
          "mercado"
         ],
         "xaxis": "x20",
         "y": [
          3,
          2,
          2,
          2,
          2,
          2,
          2,
          2,
          2,
          2,
          2,
          2,
          2,
          2,
          2,
          2,
          2,
          2,
          2,
          2,
          2,
          1,
          1,
          1,
          1,
          1,
          1,
          1
         ],
         "yaxis": "y20"
        },
        {
         "alignmentgroup": "True",
         "hovertemplate": "hot_topics=<br>newspaper=larazon_pe<br>week=39<br>word=%{x}<br>count=%{y}<extra></extra>",
         "legendgroup": "",
         "marker": {
          "color": "#fabd2f",
          "pattern": {
           "shape": ""
          }
         },
         "name": "",
         "offsetgroup": "",
         "orientation": "v",
         "showlegend": false,
         "textposition": "auto",
         "type": "bar",
         "x": [
          "nota",
          "denuncia",
          "lima",
          "fiscal",
          "andino",
          "san",
          "electoral",
          "candidatos",
          "pide",
          "ministerio",
          "fútbol",
          "baja",
          "distrito",
          "jurado",
          "gobierno",
          "rafael",
          "metropolitana",
          "comunitario",
          "proyectos",
          "visas",
          "lópez",
          "portadas",
          "candidato",
          "nación",
          "señala"
         ],
         "xaxis": "x21",
         "y": [
          5,
          4,
          4,
          3,
          3,
          3,
          2,
          2,
          2,
          2,
          2,
          2,
          2,
          2,
          2,
          2,
          2,
          2,
          2,
          2,
          2,
          2,
          2,
          2,
          2
         ],
         "yaxis": "y21"
        },
        {
         "alignmentgroup": "True",
         "hovertemplate": "hot_topics=<br>newspaper=larazon_pe<br>week=44<br>word=%{x}<br>count=%{y}<extra></extra>",
         "legendgroup": "",
         "marker": {
          "color": "#fabd2f",
          "pattern": {
           "shape": ""
          }
         },
         "name": "",
         "offsetgroup": "",
         "orientation": "v",
         "showlegend": false,
         "textposition": "auto",
         "type": "bar",
         "x": [
          "equipo",
          "cristal",
          "torneo",
          "especial",
          "sporting",
          "fiscalía",
          "libre",
          "noviembre",
          "premierleague",
          "congresista",
          "ley",
          "policía",
          "prefectos",
          "nacional",
          "uefachampionsleague",
          "pedido",
          "cuadro",
          "doblete",
          "nota",
          "corrupción",
          "encontraron",
          "lima",
          "volvió",
          "laligasantander",
          "sur",
          "asegura",
          "martes"
         ],
         "xaxis": "x22",
         "y": [
          5,
          4,
          4,
          3,
          3,
          3,
          3,
          3,
          3,
          3,
          2,
          2,
          2,
          2,
          2,
          2,
          2,
          2,
          2,
          2,
          2,
          2,
          2,
          2,
          2,
          2,
          2
         ],
         "yaxis": "y22"
        },
        {
         "alignmentgroup": "True",
         "hovertemplate": "hot_topics=<br>newspaper=larazon_pe<br>week=49<br>word=%{x}<br>count=%{y}<extra></extra>",
         "legendgroup": "",
         "marker": {
          "color": "#fabd2f",
          "pattern": {
           "shape": ""
          }
         },
         "name": "",
         "offsetgroup": "",
         "orientation": "v",
         "showlegend": false,
         "textposition": "auto",
         "type": "bar",
         "x": [
          "nota",
          "fonavistas",
          "diciembre",
          "fonavi",
          "jubilados",
          "onp",
          "devolución",
          "cronograma",
          "pagos",
          "pago",
          "miércoles",
          "nación",
          "golpe",
          "aportes",
          "parcial",
          "presidente",
          "presidenta",
          "lee",
          "ministros",
          "convenio",
          "listo",
          "banco",
          "bustamante",
          "gobierno",
          "padrón"
         ],
         "xaxis": "x23",
         "y": [
          12,
          12,
          10,
          10,
          9,
          8,
          7,
          7,
          7,
          7,
          6,
          6,
          6,
          6,
          6,
          6,
          6,
          5,
          5,
          5,
          5,
          5,
          5,
          5,
          5
         ],
         "yaxis": "y23"
        },
        {
         "alignmentgroup": "True",
         "hovertemplate": "hot_topics=<br>newspaper=larazon_pe<br>week=2<br>word=%{x}<br>count=%{y}<extra></extra>",
         "legendgroup": "",
         "marker": {
          "color": "#fabd2f",
          "pattern": {
           "shape": ""
          }
         },
         "name": "",
         "offsetgroup": "",
         "orientation": "v",
         "showlegend": false,
         "textposition": "auto",
         "type": "bar",
         "x": [
          "ucrania",
          "jefe",
          "años",
          "leer",
          "presenta",
          "gobierno",
          "cultura",
          "guerra",
          "sociales",
          "atención",
          "busca",
          "república",
          "nacional",
          "proyecto",
          "gratis",
          "abstenciones",
          "operativo",
          "auditormunicipal",
          "auditor",
          "difícil",
          "perder",
          "guía",
          "patria",
          "pensiones",
          "onp",
          "diario"
         ],
         "xaxis": "x24",
         "y": [
          5,
          4,
          4,
          3,
          3,
          3,
          3,
          3,
          3,
          3,
          3,
          3,
          3,
          3,
          2,
          2,
          2,
          2,
          2,
          2,
          2,
          2,
          2,
          2,
          2,
          2
         ],
         "yaxis": "y24"
        },
        {
         "alignmentgroup": "True",
         "hovertemplate": "hot_topics=<br>newspaper=larepublica_pe<br>week=33<br>word=%{x}<br>count=%{y}<extra></extra>",
         "legendgroup": "",
         "marker": {
          "color": "#fabd2f",
          "pattern": {
           "shape": ""
          }
         },
         "name": "",
         "offsetgroup": "",
         "orientation": "v",
         "showlegend": false,
         "textposition": "auto",
         "type": "bar",
         "x": [
          "politicalr",
          "lrdeportes",
          "video",
          "lima",
          "agosto",
          "conoce",
          "paredes",
          "loúltimo",
          "envivo",
          "años",
          "verificadorlr",
          "presidente",
          "zambrano",
          "alianza",
          "carlos",
          "yenifer",
          "benedetto",
          "millones",
          "elecciones",
          "lrtendencias",
          "república",
          "melgar",
          "liga",
          "partido",
          "san",
          "josé"
         ],
         "xaxis": "x13",
         "y": [
          292,
          268,
          197,
          72,
          58,
          54,
          47,
          46,
          41,
          40,
          38,
          37,
          37,
          33,
          33,
          32,
          30,
          30,
          28,
          28,
          28,
          27,
          27,
          27,
          27,
          26
         ],
         "yaxis": "y13"
        },
        {
         "alignmentgroup": "True",
         "hovertemplate": "hot_topics=<br>newspaper=larepublica_pe<br>week=34<br>word=%{x}<br>count=%{y}<extra></extra>",
         "legendgroup": "",
         "marker": {
          "color": "#fabd2f",
          "pattern": {
           "shape": ""
          }
         },
         "name": "",
         "offsetgroup": "",
         "orientation": "v",
         "showlegend": false,
         "textposition": "auto",
         "type": "bar",
         "x": [
          "lrdeportes",
          "politicalr",
          "video",
          "envivo",
          "paredes",
          "lima",
          "agosto",
          "años",
          "verificadorlr",
          "yenifer",
          "partido",
          "prisión",
          "alianza",
          "pierdas",
          "loúltimo",
          "fiscalía",
          "presidente",
          "república",
          "fiscal",
          "audiencia",
          "temblor",
          "conoce",
          "canal",
          "millones",
          "vs"
         ],
         "xaxis": "x14",
         "y": [
          214,
          199,
          141,
          57,
          56,
          51,
          50,
          45,
          43,
          39,
          35,
          33,
          29,
          28,
          28,
          28,
          27,
          26,
          25,
          25,
          24,
          24,
          24,
          23,
          23
         ],
         "yaxis": "y14"
        },
        {
         "alignmentgroup": "True",
         "hovertemplate": "hot_topics=<br>newspaper=larepublica_pe<br>week=39<br>word=%{x}<br>count=%{y}<extra></extra>",
         "legendgroup": "",
         "marker": {
          "color": "#fabd2f",
          "pattern": {
           "shape": ""
          }
         },
         "name": "",
         "offsetgroup": "",
         "orientation": "v",
         "showlegend": false,
         "textposition": "auto",
         "type": "bar",
         "x": [
          "politicalr",
          "lrdeportes",
          "video",
          "elecciones",
          "lima",
          "eligebien",
          "debatexlr",
          "envivo",
          "octubre",
          "loúltimo",
          "votar",
          "transmisión",
          "minuto",
          "años",
          "candidatos",
          "conoce",
          "república",
          "electoral",
          "personas",
          "pierdas",
          "vs",
          "salvador",
          "candidato",
          "alvarezrodrich",
          "gobierno",
          "partido",
          "alcaldía"
         ],
         "xaxis": "x15",
         "y": [
          235,
          182,
          150,
          77,
          74,
          66,
          48,
          47,
          42,
          34,
          34,
          33,
          33,
          32,
          32,
          31,
          28,
          27,
          26,
          26,
          25,
          25,
          25,
          24,
          24,
          24,
          23
         ],
         "yaxis": "y15"
        },
        {
         "alignmentgroup": "True",
         "hovertemplate": "hot_topics=<br>newspaper=larepublica_pe<br>week=44<br>word=%{x}<br>count=%{y}<extra></extra>",
         "legendgroup": "",
         "marker": {
          "color": "#fabd2f",
          "pattern": {
           "shape": ""
          }
         },
         "name": "",
         "offsetgroup": "",
         "orientation": "v",
         "showlegend": false,
         "textposition": "auto",
         "type": "bar",
         "x": [
          "politicalr",
          "lrdeportes",
          "video",
          "lima",
          "noviembre",
          "alianza",
          "melgar",
          "liga",
          "cristal",
          "presidente",
          "años",
          "canal",
          "brasil",
          "caso",
          "→",
          "suscríbete",
          "lula",
          "youtube",
          "verificadorlr",
          "lrtendencias",
          "oea",
          "mira",
          "loúltimo",
          "entrevista",
          "envivo"
         ],
         "xaxis": "x16",
         "y": [
          166,
          164,
          103,
          51,
          51,
          41,
          38,
          35,
          30,
          26,
          26,
          26,
          24,
          24,
          24,
          23,
          23,
          23,
          22,
          22,
          21,
          21,
          19,
          17,
          17
         ],
         "yaxis": "y16"
        },
        {
         "alignmentgroup": "True",
         "hovertemplate": "hot_topics=<br>newspaper=larepublica_pe<br>week=49<br>word=%{x}<br>count=%{y}<extra></extra>",
         "legendgroup": "",
         "marker": {
          "color": "#fabd2f",
          "pattern": {
           "shape": ""
          }
         },
         "name": "",
         "offsetgroup": "",
         "orientation": "v",
         "showlegend": false,
         "textposition": "auto",
         "type": "bar",
         "x": [
          "politicalr",
          "lrdeportes",
          "video",
          "envivo",
          "loúltimo",
          "golpe",
          "vacancia",
          "lima",
          "cierre",
          "vs",
          "brasil",
          "mundial",
          "diciembre",
          "presidente",
          "croacia",
          "presidenta",
          "años",
          "argentina",
          "fiscalía",
          "república",
          "portugal",
          "marruecos",
          "ministro"
         ],
         "xaxis": "x17",
         "y": [
          310,
          254,
          116,
          98,
          88,
          66,
          49,
          47,
          45,
          43,
          43,
          42,
          38,
          35,
          34,
          32,
          31,
          30,
          30,
          30,
          29,
          28,
          27
         ],
         "yaxis": "y17"
        },
        {
         "alignmentgroup": "True",
         "hovertemplate": "hot_topics=<br>newspaper=larepublica_pe<br>week=2<br>word=%{x}<br>count=%{y}<extra></extra>",
         "legendgroup": "",
         "marker": {
          "color": "#fabd2f",
          "pattern": {
           "shape": ""
          }
         },
         "name": "",
         "offsetgroup": "",
         "orientation": "v",
         "showlegend": false,
         "textposition": "auto",
         "type": "bar",
         "x": [
          "politicalr",
          "lrdeportes",
          "video",
          "envivo",
          "enero",
          "puno",
          "loúltimo",
          "juliaca",
          "lima",
          "gobierno",
          "nacional",
          "↓",
          "fallecidos",
          "alianza",
          "alberto",
          "otárola",
          "díaz",
          "míralo",
          "freddy",
          "años",
          "policía",
          "muertes",
          "cusco",
          "manifestantes"
         ],
         "xaxis": "x18",
         "y": [
          191,
          143,
          106,
          64,
          50,
          49,
          43,
          41,
          40,
          38,
          37,
          31,
          30,
          29,
          29,
          27,
          27,
          26,
          26,
          25,
          24,
          24,
          23,
          22
         ],
         "yaxis": "y18"
        },
        {
         "alignmentgroup": "True",
         "hovertemplate": "hot_topics=<br>newspaper=peru21noticias<br>week=33<br>word=%{x}<br>count=%{y}<extra></extra>",
         "legendgroup": "",
         "marker": {
          "color": "#fabd2f",
          "pattern": {
           "shape": ""
          }
         },
         "name": "",
         "offsetgroup": "",
         "orientation": "v",
         "showlegend": false,
         "textposition": "auto",
         "type": "bar",
         "x": [
          "lima",
          "cortita",
          "años",
          "gobierno",
          "presidente",
          "conoce",
          "paredes",
          "palacio",
          "agosto",
          "yenifer",
          "josé",
          "mil",
          "fiscalía",
          "millones",
          "vs",
          "real",
          "carlos",
          "boca",
          "niños",
          "cámaras",
          "ministro",
          "humala",
          "niño",
          "pide",
          "alcalde"
         ],
         "xaxis": "x7",
         "y": [
          60,
          51,
          49,
          48,
          45,
          43,
          41,
          39,
          38,
          35,
          34,
          33,
          32,
          31,
          25,
          23,
          22,
          22,
          21,
          21,
          21,
          21,
          21,
          20,
          20
         ],
         "yaxis": "y7"
        },
        {
         "alignmentgroup": "True",
         "hovertemplate": "hot_topics=<br>newspaper=peru21noticias<br>week=34<br>word=%{x}<br>count=%{y}<extra></extra>",
         "legendgroup": "",
         "marker": {
          "color": "#fabd2f",
          "pattern": {
           "shape": ""
          }
         },
         "name": "",
         "offsetgroup": "",
         "orientation": "v",
         "showlegend": false,
         "textposition": "auto",
         "type": "bar",
         "x": [
          "lima",
          "agosto",
          "paredes",
          "años",
          "fiscal",
          "conoce",
          "cortita",
          "millones",
          "presidente",
          "fiscalía",
          "yenifer",
          "prisión",
          "preventiva",
          "envivo",
          "peruana",
          "peruano",
          "summum",
          "piqué",
          "audiencia",
          "mil",
          "premios",
          "pedido",
          "entrevista",
          "gobierno",
          "casa",
          "café"
         ],
         "xaxis": "x8",
         "y": [
          55,
          38,
          35,
          32,
          30,
          30,
          27,
          26,
          25,
          24,
          23,
          23,
          21,
          21,
          21,
          21,
          20,
          20,
          19,
          19,
          19,
          18,
          18,
          17,
          17,
          17
         ],
         "yaxis": "y8"
        },
        {
         "alignmentgroup": "True",
         "hovertemplate": "hot_topics=<br>newspaper=peru21noticias<br>week=39<br>word=%{x}<br>count=%{y}<extra></extra>",
         "legendgroup": "",
         "marker": {
          "color": "#fabd2f",
          "pattern": {
           "shape": ""
          }
         },
         "name": "",
         "offsetgroup": "",
         "orientation": "v",
         "showlegend": false,
         "textposition": "auto",
         "type": "bar",
         "x": [
          "lima",
          "elecciones",
          "minuto",
          "octubre",
          "cortita",
          "envivo",
          "candidato",
          "conoce",
          "alcaldía",
          "urresti",
          "años",
          "daniel",
          "caso",
          "vásquez",
          "candidatos",
          "debate",
          "vs",
          "boca",
          "mundial",
          "lópez",
          "avión",
          "presidencial",
          "fiscalía",
          "setiembre",
          "debatemunicipaljne",
          "aliaga"
         ],
         "xaxis": "x9",
         "y": [
          72,
          69,
          36,
          35,
          35,
          33,
          32,
          30,
          25,
          25,
          24,
          23,
          21,
          20,
          20,
          19,
          19,
          19,
          19,
          19,
          19,
          18,
          18,
          18,
          17,
          17
         ],
         "yaxis": "y9"
        },
        {
         "alignmentgroup": "True",
         "hovertemplate": "hot_topics=<br>newspaper=peru21noticias<br>week=44<br>word=%{x}<br>count=%{y}<extra></extra>",
         "legendgroup": "",
         "marker": {
          "color": "#fabd2f",
          "pattern": {
           "shape": ""
          }
         },
         "name": "",
         "offsetgroup": "",
         "orientation": "v",
         "showlegend": false,
         "textposition": "auto",
         "type": "bar",
         "x": [
          "lima",
          "cortita",
          "noviembre",
          "conoce",
          "presidente",
          "vs",
          "años",
          "oea",
          "nacional",
          "brasil",
          "mundial",
          "gol",
          "halloween",
          "millones",
          "peruana",
          "rusia",
          "piqué",
          "josé",
          "fondo",
          "odebrecht",
          "caso",
          "mil",
          "san",
          "familia",
          "sitio"
         ],
         "xaxis": "x10",
         "y": [
          38,
          36,
          32,
          21,
          19,
          17,
          17,
          17,
          16,
          15,
          14,
          13,
          13,
          13,
          12,
          12,
          12,
          12,
          11,
          11,
          11,
          11,
          11,
          11,
          11
         ],
         "yaxis": "y10"
        },
        {
         "alignmentgroup": "True",
         "hovertemplate": "hot_topics=<br>newspaper=peru21noticias<br>week=49<br>word=%{x}<br>count=%{y}<extra></extra>",
         "legendgroup": "",
         "marker": {
          "color": "#fabd2f",
          "pattern": {
           "shape": ""
          }
         },
         "name": "",
         "offsetgroup": "",
         "orientation": "v",
         "showlegend": false,
         "textposition": "auto",
         "type": "bar",
         "x": [
          "mundial",
          "qatar",
          "golpe",
          "diciembre",
          "lima",
          "vs",
          "presidenta",
          "vacancia",
          "república",
          "gobierno",
          "gabinete",
          "cortita",
          "conoce",
          "portugal",
          "brasil",
          "partido",
          "presidente",
          "argentina",
          "cuartos",
          "dini",
          "directo",
          "envivo",
          "croacia",
          "ministro"
         ],
         "xaxis": "x11",
         "y": [
          66,
          65,
          59,
          57,
          56,
          48,
          41,
          35,
          32,
          32,
          32,
          32,
          30,
          30,
          30,
          29,
          28,
          26,
          26,
          24,
          23,
          22,
          22,
          22
         ],
         "yaxis": "y11"
        },
        {
         "alignmentgroup": "True",
         "hovertemplate": "hot_topics=<br>newspaper=peru21noticias<br>week=2<br>word=%{x}<br>count=%{y}<extra></extra>",
         "legendgroup": "",
         "marker": {
          "color": "#fabd2f",
          "pattern": {
           "shape": ""
          }
         },
         "name": "",
         "offsetgroup": "",
         "orientation": "v",
         "showlegend": false,
         "textposition": "auto",
         "type": "bar",
         "x": [
          "puno",
          "años",
          "gobierno",
          "lima",
          "díaz",
          "cortita",
          "miss",
          "nacional",
          "enero",
          "otárola",
          "cusco",
          "voto",
          "freddy",
          "año",
          "evo",
          "universo",
          "envivo",
          "manifestantes",
          "peruana",
          "policía",
          "gabinete",
          "confianza",
          "congresista"
         ],
         "xaxis": "x12",
         "y": [
          41,
          24,
          24,
          19,
          18,
          17,
          17,
          17,
          17,
          16,
          16,
          16,
          16,
          15,
          15,
          14,
          14,
          14,
          14,
          14,
          14,
          14,
          14
         ],
         "yaxis": "y12"
        },
        {
         "alignmentgroup": "True",
         "hovertemplate": "hot_topics=<br>newspaper=tromepe<br>week=33<br>word=%{x}<br>count=%{y}<extra></extra>",
         "legendgroup": "",
         "marker": {
          "color": "#fabd2f",
          "pattern": {
           "shape": ""
          }
         },
         "name": "",
         "offsetgroup": "",
         "orientation": "v",
         "showlegend": false,
         "textposition": "auto",
         "type": "bar",
         "x": [
          "vs",
          "lee",
          "lima",
          "años",
          "zambrano",
          "diego",
          "carlos",
          "boca",
          "benedetto",
          "casa",
          "real",
          "conoce",
          "franco",
          "liga",
          "madrid",
          "paz",
          "magaly",
          "hora",
          "niño",
          "mil",
          "vía",
          "jamila",
          "gol",
          "barra",
          "paredes",
          "sofía",
          "directo"
         ],
         "xaxis": "x",
         "y": [
          69,
          46,
          45,
          45,
          35,
          30,
          28,
          27,
          26,
          26,
          25,
          25,
          23,
          22,
          22,
          21,
          21,
          20,
          20,
          20,
          20,
          20,
          20,
          19,
          19,
          18,
          18
         ],
         "yaxis": "y"
        },
        {
         "alignmentgroup": "True",
         "hovertemplate": "hot_topics=<br>newspaper=tromepe<br>week=34<br>word=%{x}<br>count=%{y}<extra></extra>",
         "legendgroup": "",
         "marker": {
          "color": "#fabd2f",
          "pattern": {
           "shape": ""
          }
         },
         "name": "",
         "offsetgroup": "",
         "orientation": "v",
         "showlegend": false,
         "textposition": "auto",
         "type": "bar",
         "x": [
          "lima",
          "vs",
          "piqué",
          "clara",
          "años",
          "shakira",
          "chía",
          "lee",
          "gerard",
          "conoce",
          "agosto",
          "martí",
          "magaly",
          "santa",
          "gol",
          "mil",
          "barcelona",
          "samahara",
          "league",
          "rosa",
          "vía",
          "lobatón",
          "concierto",
          "novia",
          "manchester",
          "diego"
         ],
         "xaxis": "x2",
         "y": [
          48,
          47,
          40,
          28,
          27,
          26,
          25,
          23,
          22,
          21,
          21,
          21,
          20,
          20,
          18,
          17,
          16,
          16,
          15,
          15,
          14,
          14,
          14,
          14,
          14,
          13
         ],
         "yaxis": "y2"
        },
        {
         "alignmentgroup": "True",
         "hovertemplate": "hot_topics=<br>newspaper=tromepe<br>week=39<br>word=%{x}<br>count=%{y}<extra></extra>",
         "legendgroup": "",
         "marker": {
          "color": "#fabd2f",
          "pattern": {
           "shape": ""
          }
         },
         "name": "",
         "offsetgroup": "",
         "orientation": "v",
         "showlegend": false,
         "textposition": "auto",
         "type": "bar",
         "x": [
          "lima",
          "vs",
          "elecciones",
          "magaly",
          "show",
          "lee",
          "boca",
          "paredes",
          "peruana",
          "melissa",
          "alianza",
          "salvador",
          "gisela",
          "alcaldía",
          "selección",
          "vida",
          "robotina",
          "reyna",
          "christian",
          "bryan",
          "san",
          "gol",
          "candidato",
          "rafael",
          "robotín",
          "octubre",
          "conoce"
         ],
         "xaxis": "x3",
         "y": [
          61,
          58,
          46,
          39,
          36,
          31,
          31,
          28,
          28,
          25,
          25,
          25,
          24,
          23,
          22,
          20,
          20,
          20,
          20,
          20,
          19,
          19,
          19,
          19,
          19,
          18,
          18
         ],
         "yaxis": "y3"
        },
        {
         "alignmentgroup": "True",
         "hovertemplate": "hot_topics=<br>newspaper=tromepe<br>week=44<br>word=%{x}<br>count=%{y}<extra></extra>",
         "legendgroup": "",
         "marker": {
          "color": "#fabd2f",
          "pattern": {
           "shape": ""
          }
         },
         "name": "",
         "offsetgroup": "",
         "orientation": "v",
         "showlegend": false,
         "textposition": "auto",
         "type": "bar",
         "x": [
          "lima",
          "vs",
          "halloween",
          "alianza",
          "conoce",
          "noviembre",
          "magaly",
          "melissa",
          "melgar",
          "john",
          "amor",
          "kelvin",
          "cristal",
          "liga",
          "mundial",
          "piqué",
          "mil",
          "gerard",
          "disfraz",
          "giuliana",
          "show",
          "américa",
          "familia",
          "revela",
          "sporting",
          "paredes",
          "clausura"
         ],
         "xaxis": "x4",
         "y": [
          47,
          36,
          31,
          27,
          23,
          23,
          21,
          21,
          21,
          21,
          21,
          20,
          20,
          19,
          18,
          18,
          15,
          15,
          14,
          14,
          13,
          12,
          12,
          12,
          12,
          12,
          12
         ],
         "yaxis": "y4"
        },
        {
         "alignmentgroup": "True",
         "hovertemplate": "hot_topics=<br>newspaper=tromepe<br>week=49<br>word=%{x}<br>count=%{y}<extra></extra>",
         "legendgroup": "",
         "marker": {
          "color": "#fabd2f",
          "pattern": {
           "shape": ""
          }
         },
         "name": "",
         "offsetgroup": "",
         "orientation": "v",
         "showlegend": false,
         "textposition": "auto",
         "type": "bar",
         "x": [
          "qatar",
          "mundial",
          "vs",
          "brasil",
          "argentina",
          "cristiano",
          "golpe",
          "magaly",
          "portugal",
          "lima",
          "croacia",
          "marruecos",
          "ronaldo",
          "lee",
          "cuartos",
          "bajos",
          "países",
          "vacancia",
          "selección",
          "españa",
          "presidente",
          "messi",
          "canal",
          "tv"
         ],
         "xaxis": "x5",
         "y": [
          103,
          83,
          73,
          52,
          45,
          37,
          37,
          36,
          35,
          34,
          34,
          34,
          32,
          31,
          31,
          26,
          26,
          25,
          25,
          25,
          24,
          23,
          22,
          21
         ],
         "yaxis": "y5"
        },
        {
         "alignmentgroup": "True",
         "hovertemplate": "hot_topics=<br>newspaper=tromepe<br>week=2<br>word=%{x}<br>count=%{y}<extra></extra>",
         "legendgroup": "",
         "marker": {
          "color": "#fabd2f",
          "pattern": {
           "shape": ""
          }
         },
         "name": "",
         "offsetgroup": "",
         "orientation": "v",
         "showlegend": false,
         "textposition": "auto",
         "type": "bar",
         "x": [
          "miss",
          "universo",
          "shakira",
          "alessia",
          "piqué",
          "canción",
          "rovegno",
          "brunella",
          "lee",
          "puno",
          "boda",
          "lima",
          "alianza",
          "horna",
          "richard",
          "vs",
          "año",
          "christian",
          "acuña",
          "clara",
          "pepa",
          "baldessari",
          "melissa",
          "paredes",
          "años",
          "otárola",
          "oro",
          "alberto"
         ],
         "xaxis": "x6",
         "y": [
          58,
          55,
          49,
          40,
          35,
          31,
          30,
          28,
          27,
          25,
          24,
          23,
          22,
          20,
          18,
          17,
          17,
          16,
          16,
          16,
          14,
          14,
          14,
          13,
          13,
          13,
          12,
          12
         ],
         "yaxis": "y6"
        },
        {
         "alignmentgroup": "True",
         "hovertemplate": "hot_topics=país<br>newspaper=DiarioElPeruano<br>week=33<br>word=%{x}<br>count=%{y}<extra></extra>",
         "legendgroup": "país",
         "marker": {
          "color": "#b8bb26",
          "pattern": {
           "shape": ""
          }
         },
         "name": "país",
         "offsetgroup": "país",
         "orientation": "v",
         "showlegend": true,
         "textposition": "auto",
         "type": "bar",
         "x": [
          "país",
          "perú"
         ],
         "xaxis": "x67",
         "y": [
          24,
          14
         ],
         "yaxis": "y67"
        },
        {
         "alignmentgroup": "True",
         "hovertemplate": "hot_topics=país<br>newspaper=DiarioElPeruano<br>week=34<br>word=%{x}<br>count=%{y}<extra></extra>",
         "legendgroup": "país",
         "marker": {
          "color": "#b8bb26",
          "pattern": {
           "shape": ""
          }
         },
         "name": "país",
         "offsetgroup": "país",
         "orientation": "v",
         "showlegend": false,
         "textposition": "auto",
         "type": "bar",
         "x": [
          "perú",
          "país"
         ],
         "xaxis": "x68",
         "y": [
          19,
          11
         ],
         "yaxis": "y68"
        },
        {
         "alignmentgroup": "True",
         "hovertemplate": "hot_topics=país<br>newspaper=DiarioElPeruano<br>week=39<br>word=%{x}<br>count=%{y}<extra></extra>",
         "legendgroup": "país",
         "marker": {
          "color": "#b8bb26",
          "pattern": {
           "shape": ""
          }
         },
         "name": "país",
         "offsetgroup": "país",
         "orientation": "v",
         "showlegend": false,
         "textposition": "auto",
         "type": "bar",
         "x": [
          "perú",
          "país"
         ],
         "xaxis": "x69",
         "y": [
          21,
          19
         ],
         "yaxis": "y69"
        },
        {
         "alignmentgroup": "True",
         "hovertemplate": "hot_topics=país<br>newspaper=DiarioElPeruano<br>week=44<br>word=%{x}<br>count=%{y}<extra></extra>",
         "legendgroup": "país",
         "marker": {
          "color": "#b8bb26",
          "pattern": {
           "shape": ""
          }
         },
         "name": "país",
         "offsetgroup": "país",
         "orientation": "v",
         "showlegend": false,
         "textposition": "auto",
         "type": "bar",
         "x": [
          "perú",
          "país"
         ],
         "xaxis": "x70",
         "y": [
          17,
          14
         ],
         "yaxis": "y70"
        },
        {
         "alignmentgroup": "True",
         "hovertemplate": "hot_topics=país<br>newspaper=DiarioElPeruano<br>week=49<br>word=%{x}<br>count=%{y}<extra></extra>",
         "legendgroup": "país",
         "marker": {
          "color": "#b8bb26",
          "pattern": {
           "shape": ""
          }
         },
         "name": "país",
         "offsetgroup": "país",
         "orientation": "v",
         "showlegend": false,
         "textposition": "auto",
         "type": "bar",
         "x": [
          "perú",
          "país"
         ],
         "xaxis": "x71",
         "y": [
          25,
          17
         ],
         "yaxis": "y71"
        },
        {
         "alignmentgroup": "True",
         "hovertemplate": "hot_topics=país<br>newspaper=DiarioElPeruano<br>week=2<br>word=%{x}<br>count=%{y}<extra></extra>",
         "legendgroup": "país",
         "marker": {
          "color": "#b8bb26",
          "pattern": {
           "shape": ""
          }
         },
         "name": "país",
         "offsetgroup": "país",
         "orientation": "v",
         "showlegend": false,
         "textposition": "auto",
         "type": "bar",
         "x": [
          "país",
          "perú"
         ],
         "xaxis": "x72",
         "y": [
          21,
          17
         ],
         "yaxis": "y72"
        },
        {
         "alignmentgroup": "True",
         "hovertemplate": "hot_topics=país<br>newspaper=ExpresoPeru<br>week=33<br>word=%{x}<br>count=%{y}<extra></extra>",
         "legendgroup": "país",
         "marker": {
          "color": "#b8bb26",
          "pattern": {
           "shape": ""
          }
         },
         "name": "país",
         "offsetgroup": "país",
         "orientation": "v",
         "showlegend": false,
         "textposition": "auto",
         "type": "bar",
         "x": [
          "perú",
          "país"
         ],
         "xaxis": "x61",
         "y": [
          19,
          7
         ],
         "yaxis": "y61"
        },
        {
         "alignmentgroup": "True",
         "hovertemplate": "hot_topics=país<br>newspaper=ExpresoPeru<br>week=34<br>word=%{x}<br>count=%{y}<extra></extra>",
         "legendgroup": "país",
         "marker": {
          "color": "#b8bb26",
          "pattern": {
           "shape": ""
          }
         },
         "name": "país",
         "offsetgroup": "país",
         "orientation": "v",
         "showlegend": false,
         "textposition": "auto",
         "type": "bar",
         "x": [
          "perú"
         ],
         "xaxis": "x62",
         "y": [
          17
         ],
         "yaxis": "y62"
        },
        {
         "alignmentgroup": "True",
         "hovertemplate": "hot_topics=país<br>newspaper=ExpresoPeru<br>week=39<br>word=%{x}<br>count=%{y}<extra></extra>",
         "legendgroup": "país",
         "marker": {
          "color": "#b8bb26",
          "pattern": {
           "shape": ""
          }
         },
         "name": "país",
         "offsetgroup": "país",
         "orientation": "v",
         "showlegend": false,
         "textposition": "auto",
         "type": "bar",
         "x": [
          "perú"
         ],
         "xaxis": "x63",
         "y": [
          13
         ],
         "yaxis": "y63"
        },
        {
         "alignmentgroup": "True",
         "hovertemplate": "hot_topics=país<br>newspaper=ExpresoPeru<br>week=44<br>word=%{x}<br>count=%{y}<extra></extra>",
         "legendgroup": "país",
         "marker": {
          "color": "#b8bb26",
          "pattern": {
           "shape": ""
          }
         },
         "name": "país",
         "offsetgroup": "país",
         "orientation": "v",
         "showlegend": false,
         "textposition": "auto",
         "type": "bar",
         "x": [
          "perú"
         ],
         "xaxis": "x64",
         "y": [
          12
         ],
         "yaxis": "y64"
        },
        {
         "alignmentgroup": "True",
         "hovertemplate": "hot_topics=país<br>newspaper=ExpresoPeru<br>week=49<br>word=%{x}<br>count=%{y}<extra></extra>",
         "legendgroup": "país",
         "marker": {
          "color": "#b8bb26",
          "pattern": {
           "shape": ""
          }
         },
         "name": "país",
         "offsetgroup": "país",
         "orientation": "v",
         "showlegend": false,
         "textposition": "auto",
         "type": "bar",
         "x": [
          "perú"
         ],
         "xaxis": "x65",
         "y": [
          18
         ],
         "yaxis": "y65"
        },
        {
         "alignmentgroup": "True",
         "hovertemplate": "hot_topics=país<br>newspaper=ExpresoPeru<br>week=2<br>word=%{x}<br>count=%{y}<extra></extra>",
         "legendgroup": "país",
         "marker": {
          "color": "#b8bb26",
          "pattern": {
           "shape": ""
          }
         },
         "name": "país",
         "offsetgroup": "país",
         "orientation": "v",
         "showlegend": false,
         "textposition": "auto",
         "type": "bar",
         "x": [
          "perú",
          "país"
         ],
         "xaxis": "x66",
         "y": [
          17,
          7
         ],
         "yaxis": "y66"
        },
        {
         "alignmentgroup": "True",
         "hovertemplate": "hot_topics=país<br>newspaper=Gestionpe<br>week=33<br>word=%{x}<br>count=%{y}<extra></extra>",
         "legendgroup": "país",
         "marker": {
          "color": "#b8bb26",
          "pattern": {
           "shape": ""
          }
         },
         "name": "país",
         "offsetgroup": "país",
         "orientation": "v",
         "showlegend": false,
         "textposition": "auto",
         "type": "bar",
         "x": [
          "perú"
         ],
         "xaxis": "x55",
         "y": [
          84
         ],
         "yaxis": "y55"
        },
        {
         "alignmentgroup": "True",
         "hovertemplate": "hot_topics=país<br>newspaper=Gestionpe<br>week=34<br>word=%{x}<br>count=%{y}<extra></extra>",
         "legendgroup": "país",
         "marker": {
          "color": "#b8bb26",
          "pattern": {
           "shape": ""
          }
         },
         "name": "país",
         "offsetgroup": "país",
         "orientation": "v",
         "showlegend": false,
         "textposition": "auto",
         "type": "bar",
         "x": [
          "perú"
         ],
         "xaxis": "x56",
         "y": [
          45
         ],
         "yaxis": "y56"
        },
        {
         "alignmentgroup": "True",
         "hovertemplate": "hot_topics=país<br>newspaper=Gestionpe<br>week=39<br>word=%{x}<br>count=%{y}<extra></extra>",
         "legendgroup": "país",
         "marker": {
          "color": "#b8bb26",
          "pattern": {
           "shape": ""
          }
         },
         "name": "país",
         "offsetgroup": "país",
         "orientation": "v",
         "showlegend": false,
         "textposition": "auto",
         "type": "bar",
         "x": [
          "perú"
         ],
         "xaxis": "x57",
         "y": [
          65
         ],
         "yaxis": "y57"
        },
        {
         "alignmentgroup": "True",
         "hovertemplate": "hot_topics=país<br>newspaper=Gestionpe<br>week=44<br>word=%{x}<br>count=%{y}<extra></extra>",
         "legendgroup": "país",
         "marker": {
          "color": "#b8bb26",
          "pattern": {
           "shape": ""
          }
         },
         "name": "país",
         "offsetgroup": "país",
         "orientation": "v",
         "showlegend": false,
         "textposition": "auto",
         "type": "bar",
         "x": [
          "perú"
         ],
         "xaxis": "x58",
         "y": [
          76
         ],
         "yaxis": "y58"
        },
        {
         "alignmentgroup": "True",
         "hovertemplate": "hot_topics=país<br>newspaper=Gestionpe<br>week=49<br>word=%{x}<br>count=%{y}<extra></extra>",
         "legendgroup": "país",
         "marker": {
          "color": "#b8bb26",
          "pattern": {
           "shape": ""
          }
         },
         "name": "país",
         "offsetgroup": "país",
         "orientation": "v",
         "showlegend": false,
         "textposition": "auto",
         "type": "bar",
         "x": [
          "perú",
          "país"
         ],
         "xaxis": "x59",
         "y": [
          67,
          15
         ],
         "yaxis": "y59"
        },
        {
         "alignmentgroup": "True",
         "hovertemplate": "hot_topics=país<br>newspaper=Gestionpe<br>week=2<br>word=%{x}<br>count=%{y}<extra></extra>",
         "legendgroup": "país",
         "marker": {
          "color": "#b8bb26",
          "pattern": {
           "shape": ""
          }
         },
         "name": "país",
         "offsetgroup": "país",
         "orientation": "v",
         "showlegend": false,
         "textposition": "auto",
         "type": "bar",
         "x": [
          "perú",
          "país"
         ],
         "xaxis": "x60",
         "y": [
          78,
          15
         ],
         "yaxis": "y60"
        },
        {
         "alignmentgroup": "True",
         "hovertemplate": "hot_topics=país<br>newspaper=diariocorreo<br>week=33<br>word=%{x}<br>count=%{y}<extra></extra>",
         "legendgroup": "país",
         "marker": {
          "color": "#b8bb26",
          "pattern": {
           "shape": ""
          }
         },
         "name": "país",
         "offsetgroup": "país",
         "orientation": "v",
         "showlegend": false,
         "textposition": "auto",
         "type": "bar",
         "x": [
          "perú"
         ],
         "xaxis": "x49",
         "y": [
          31
         ],
         "yaxis": "y49"
        },
        {
         "alignmentgroup": "True",
         "hovertemplate": "hot_topics=país<br>newspaper=diariocorreo<br>week=34<br>word=%{x}<br>count=%{y}<extra></extra>",
         "legendgroup": "país",
         "marker": {
          "color": "#b8bb26",
          "pattern": {
           "shape": ""
          }
         },
         "name": "país",
         "offsetgroup": "país",
         "orientation": "v",
         "showlegend": false,
         "textposition": "auto",
         "type": "bar",
         "x": [
          "perú"
         ],
         "xaxis": "x50",
         "y": [
          19
         ],
         "yaxis": "y50"
        },
        {
         "alignmentgroup": "True",
         "hovertemplate": "hot_topics=país<br>newspaper=diariocorreo<br>week=39<br>word=%{x}<br>count=%{y}<extra></extra>",
         "legendgroup": "país",
         "marker": {
          "color": "#b8bb26",
          "pattern": {
           "shape": ""
          }
         },
         "name": "país",
         "offsetgroup": "país",
         "orientation": "v",
         "showlegend": false,
         "textposition": "auto",
         "type": "bar",
         "x": [
          "perú"
         ],
         "xaxis": "x51",
         "y": [
          29
         ],
         "yaxis": "y51"
        },
        {
         "alignmentgroup": "True",
         "hovertemplate": "hot_topics=país<br>newspaper=diariocorreo<br>week=44<br>word=%{x}<br>count=%{y}<extra></extra>",
         "legendgroup": "país",
         "marker": {
          "color": "#b8bb26",
          "pattern": {
           "shape": ""
          }
         },
         "name": "país",
         "offsetgroup": "país",
         "orientation": "v",
         "showlegend": false,
         "textposition": "auto",
         "type": "bar",
         "x": [
          "perú"
         ],
         "xaxis": "x52",
         "y": [
          18
         ],
         "yaxis": "y52"
        },
        {
         "alignmentgroup": "True",
         "hovertemplate": "hot_topics=país<br>newspaper=diariocorreo<br>week=49<br>word=%{x}<br>count=%{y}<extra></extra>",
         "legendgroup": "país",
         "marker": {
          "color": "#b8bb26",
          "pattern": {
           "shape": ""
          }
         },
         "name": "país",
         "offsetgroup": "país",
         "orientation": "v",
         "showlegend": false,
         "textposition": "auto",
         "type": "bar",
         "x": [
          "perú"
         ],
         "xaxis": "x53",
         "y": [
          25
         ],
         "yaxis": "y53"
        },
        {
         "alignmentgroup": "True",
         "hovertemplate": "hot_topics=país<br>newspaper=diariocorreo<br>week=2<br>word=%{x}<br>count=%{y}<extra></extra>",
         "legendgroup": "país",
         "marker": {
          "color": "#b8bb26",
          "pattern": {
           "shape": ""
          }
         },
         "name": "país",
         "offsetgroup": "país",
         "orientation": "v",
         "showlegend": false,
         "textposition": "auto",
         "type": "bar",
         "x": [
          "perú"
         ],
         "xaxis": "x54",
         "y": [
          14
         ],
         "yaxis": "y54"
        },
        {
         "alignmentgroup": "True",
         "hovertemplate": "hot_topics=país<br>newspaper=diarioojo<br>week=33<br>word=%{x}<br>count=%{y}<extra></extra>",
         "legendgroup": "país",
         "marker": {
          "color": "#b8bb26",
          "pattern": {
           "shape": ""
          }
         },
         "name": "país",
         "offsetgroup": "país",
         "orientation": "v",
         "showlegend": false,
         "textposition": "auto",
         "type": "bar",
         "x": [
          "perú"
         ],
         "xaxis": "x43",
         "y": [
          27
         ],
         "yaxis": "y43"
        },
        {
         "alignmentgroup": "True",
         "hovertemplate": "hot_topics=país<br>newspaper=diarioojo<br>week=34<br>word=%{x}<br>count=%{y}<extra></extra>",
         "legendgroup": "país",
         "marker": {
          "color": "#b8bb26",
          "pattern": {
           "shape": ""
          }
         },
         "name": "país",
         "offsetgroup": "país",
         "orientation": "v",
         "showlegend": false,
         "textposition": "auto",
         "type": "bar",
         "x": [
          "perú"
         ],
         "xaxis": "x44",
         "y": [
          19
         ],
         "yaxis": "y44"
        },
        {
         "alignmentgroup": "True",
         "hovertemplate": "hot_topics=país<br>newspaper=diarioojo<br>week=39<br>word=%{x}<br>count=%{y}<extra></extra>",
         "legendgroup": "país",
         "marker": {
          "color": "#b8bb26",
          "pattern": {
           "shape": ""
          }
         },
         "name": "país",
         "offsetgroup": "país",
         "orientation": "v",
         "showlegend": false,
         "textposition": "auto",
         "type": "bar",
         "x": [
          "perú"
         ],
         "xaxis": "x45",
         "y": [
          24
         ],
         "yaxis": "y45"
        },
        {
         "alignmentgroup": "True",
         "hovertemplate": "hot_topics=país<br>newspaper=diarioojo<br>week=44<br>word=%{x}<br>count=%{y}<extra></extra>",
         "legendgroup": "país",
         "marker": {
          "color": "#b8bb26",
          "pattern": {
           "shape": ""
          }
         },
         "name": "país",
         "offsetgroup": "país",
         "orientation": "v",
         "showlegend": false,
         "textposition": "auto",
         "type": "bar",
         "x": [
          "perú"
         ],
         "xaxis": "x46",
         "y": [
          23
         ],
         "yaxis": "y46"
        },
        {
         "alignmentgroup": "True",
         "hovertemplate": "hot_topics=país<br>newspaper=diarioojo<br>week=49<br>word=%{x}<br>count=%{y}<extra></extra>",
         "legendgroup": "país",
         "marker": {
          "color": "#b8bb26",
          "pattern": {
           "shape": ""
          }
         },
         "name": "país",
         "offsetgroup": "país",
         "orientation": "v",
         "showlegend": false,
         "textposition": "auto",
         "type": "bar",
         "x": [
          "perú"
         ],
         "xaxis": "x47",
         "y": [
          23
         ],
         "yaxis": "y47"
        },
        {
         "alignmentgroup": "True",
         "hovertemplate": "hot_topics=país<br>newspaper=diarioojo<br>week=2<br>word=%{x}<br>count=%{y}<extra></extra>",
         "legendgroup": "país",
         "marker": {
          "color": "#b8bb26",
          "pattern": {
           "shape": ""
          }
         },
         "name": "país",
         "offsetgroup": "país",
         "orientation": "v",
         "showlegend": false,
         "textposition": "auto",
         "type": "bar",
         "x": [
          "perú"
         ],
         "xaxis": "x48",
         "y": [
          12
         ],
         "yaxis": "y48"
        },
        {
         "alignmentgroup": "True",
         "hovertemplate": "hot_topics=país<br>newspaper=elbuho_pe<br>week=34<br>word=%{x}<br>count=%{y}<extra></extra>",
         "legendgroup": "país",
         "marker": {
          "color": "#b8bb26",
          "pattern": {
           "shape": ""
          }
         },
         "name": "país",
         "offsetgroup": "país",
         "orientation": "v",
         "showlegend": false,
         "textposition": "auto",
         "type": "bar",
         "x": [
          "perú"
         ],
         "xaxis": "x38",
         "y": [
          7
         ],
         "yaxis": "y38"
        },
        {
         "alignmentgroup": "True",
         "hovertemplate": "hot_topics=país<br>newspaper=elbuho_pe<br>week=39<br>word=%{x}<br>count=%{y}<extra></extra>",
         "legendgroup": "país",
         "marker": {
          "color": "#b8bb26",
          "pattern": {
           "shape": ""
          }
         },
         "name": "país",
         "offsetgroup": "país",
         "orientation": "v",
         "showlegend": false,
         "textposition": "auto",
         "type": "bar",
         "x": [
          "perú"
         ],
         "xaxis": "x39",
         "y": [
          10
         ],
         "yaxis": "y39"
        },
        {
         "alignmentgroup": "True",
         "hovertemplate": "hot_topics=país<br>newspaper=elbuho_pe<br>week=44<br>word=%{x}<br>count=%{y}<extra></extra>",
         "legendgroup": "país",
         "marker": {
          "color": "#b8bb26",
          "pattern": {
           "shape": ""
          }
         },
         "name": "país",
         "offsetgroup": "país",
         "orientation": "v",
         "showlegend": false,
         "textposition": "auto",
         "type": "bar",
         "x": [
          "perú"
         ],
         "xaxis": "x40",
         "y": [
          12
         ],
         "yaxis": "y40"
        },
        {
         "alignmentgroup": "True",
         "hovertemplate": "hot_topics=país<br>newspaper=elbuho_pe<br>week=49<br>word=%{x}<br>count=%{y}<extra></extra>",
         "legendgroup": "país",
         "marker": {
          "color": "#b8bb26",
          "pattern": {
           "shape": ""
          }
         },
         "name": "país",
         "offsetgroup": "país",
         "orientation": "v",
         "showlegend": false,
         "textposition": "auto",
         "type": "bar",
         "x": [
          "perú"
         ],
         "xaxis": "x41",
         "y": [
          8
         ],
         "yaxis": "y41"
        },
        {
         "alignmentgroup": "True",
         "hovertemplate": "hot_topics=país<br>newspaper=elcomercio_peru<br>week=33<br>word=%{x}<br>count=%{y}<extra></extra>",
         "legendgroup": "país",
         "marker": {
          "color": "#b8bb26",
          "pattern": {
           "shape": ""
          }
         },
         "name": "país",
         "offsetgroup": "país",
         "orientation": "v",
         "showlegend": false,
         "textposition": "auto",
         "type": "bar",
         "x": [
          "perú"
         ],
         "xaxis": "x31",
         "y": [
          39
         ],
         "yaxis": "y31"
        },
        {
         "alignmentgroup": "True",
         "hovertemplate": "hot_topics=país<br>newspaper=elcomercio_peru<br>week=34<br>word=%{x}<br>count=%{y}<extra></extra>",
         "legendgroup": "país",
         "marker": {
          "color": "#b8bb26",
          "pattern": {
           "shape": ""
          }
         },
         "name": "país",
         "offsetgroup": "país",
         "orientation": "v",
         "showlegend": false,
         "textposition": "auto",
         "type": "bar",
         "x": [
          "perú",
          "país"
         ],
         "xaxis": "x32",
         "y": [
          32,
          9
         ],
         "yaxis": "y32"
        },
        {
         "alignmentgroup": "True",
         "hovertemplate": "hot_topics=país<br>newspaper=elcomercio_peru<br>week=39<br>word=%{x}<br>count=%{y}<extra></extra>",
         "legendgroup": "país",
         "marker": {
          "color": "#b8bb26",
          "pattern": {
           "shape": ""
          }
         },
         "name": "país",
         "offsetgroup": "país",
         "orientation": "v",
         "showlegend": false,
         "textposition": "auto",
         "type": "bar",
         "x": [
          "perú"
         ],
         "xaxis": "x33",
         "y": [
          38
         ],
         "yaxis": "y33"
        },
        {
         "alignmentgroup": "True",
         "hovertemplate": "hot_topics=país<br>newspaper=elcomercio_peru<br>week=44<br>word=%{x}<br>count=%{y}<extra></extra>",
         "legendgroup": "país",
         "marker": {
          "color": "#b8bb26",
          "pattern": {
           "shape": ""
          }
         },
         "name": "país",
         "offsetgroup": "país",
         "orientation": "v",
         "showlegend": false,
         "textposition": "auto",
         "type": "bar",
         "x": [
          "perú"
         ],
         "xaxis": "x34",
         "y": [
          25
         ],
         "yaxis": "y34"
        },
        {
         "alignmentgroup": "True",
         "hovertemplate": "hot_topics=país<br>newspaper=elcomercio_peru<br>week=49<br>word=%{x}<br>count=%{y}<extra></extra>",
         "legendgroup": "país",
         "marker": {
          "color": "#b8bb26",
          "pattern": {
           "shape": ""
          }
         },
         "name": "país",
         "offsetgroup": "país",
         "orientation": "v",
         "showlegend": false,
         "textposition": "auto",
         "type": "bar",
         "x": [
          "perú"
         ],
         "xaxis": "x35",
         "y": [
          44
         ],
         "yaxis": "y35"
        },
        {
         "alignmentgroup": "True",
         "hovertemplate": "hot_topics=país<br>newspaper=elcomercio_peru<br>week=2<br>word=%{x}<br>count=%{y}<extra></extra>",
         "legendgroup": "país",
         "marker": {
          "color": "#b8bb26",
          "pattern": {
           "shape": ""
          }
         },
         "name": "país",
         "offsetgroup": "país",
         "orientation": "v",
         "showlegend": false,
         "textposition": "auto",
         "type": "bar",
         "x": [
          "perú",
          "país"
         ],
         "xaxis": "x36",
         "y": [
          33,
          10
         ],
         "yaxis": "y36"
        },
        {
         "alignmentgroup": "True",
         "hovertemplate": "hot_topics=país<br>newspaper=ensustrece<br>week=2<br>word=%{x}<br>count=%{y}<extra></extra>",
         "legendgroup": "país",
         "marker": {
          "color": "#b8bb26",
          "pattern": {
           "shape": ""
          }
         },
         "name": "país",
         "offsetgroup": "país",
         "orientation": "v",
         "showlegend": false,
         "textposition": "auto",
         "type": "bar",
         "x": [
          "perú"
         ],
         "xaxis": "x30",
         "y": [
          3
         ],
         "yaxis": "y30"
        },
        {
         "alignmentgroup": "True",
         "hovertemplate": "hot_topics=país<br>newspaper=larazon_pe<br>week=33<br>word=%{x}<br>count=%{y}<extra></extra>",
         "legendgroup": "país",
         "marker": {
          "color": "#b8bb26",
          "pattern": {
           "shape": ""
          }
         },
         "name": "país",
         "offsetgroup": "país",
         "orientation": "v",
         "showlegend": false,
         "textposition": "auto",
         "type": "bar",
         "x": [
          "país",
          "perú"
         ],
         "xaxis": "x19",
         "y": [
          3,
          2
         ],
         "yaxis": "y19"
        },
        {
         "alignmentgroup": "True",
         "hovertemplate": "hot_topics=país<br>newspaper=larazon_pe<br>week=34<br>word=%{x}<br>count=%{y}<extra></extra>",
         "legendgroup": "país",
         "marker": {
          "color": "#b8bb26",
          "pattern": {
           "shape": ""
          }
         },
         "name": "país",
         "offsetgroup": "país",
         "orientation": "v",
         "showlegend": false,
         "textposition": "auto",
         "type": "bar",
         "x": [
          "país"
         ],
         "xaxis": "x20",
         "y": [
          2
         ],
         "yaxis": "y20"
        },
        {
         "alignmentgroup": "True",
         "hovertemplate": "hot_topics=país<br>newspaper=larazon_pe<br>week=39<br>word=%{x}<br>count=%{y}<extra></extra>",
         "legendgroup": "país",
         "marker": {
          "color": "#b8bb26",
          "pattern": {
           "shape": ""
          }
         },
         "name": "país",
         "offsetgroup": "país",
         "orientation": "v",
         "showlegend": false,
         "textposition": "auto",
         "type": "bar",
         "x": [
          "perú",
          "país"
         ],
         "xaxis": "x21",
         "y": [
          4,
          2
         ],
         "yaxis": "y21"
        },
        {
         "alignmentgroup": "True",
         "hovertemplate": "hot_topics=país<br>newspaper=larazon_pe<br>week=44<br>word=%{x}<br>count=%{y}<extra></extra>",
         "legendgroup": "país",
         "marker": {
          "color": "#b8bb26",
          "pattern": {
           "shape": ""
          }
         },
         "name": "país",
         "offsetgroup": "país",
         "orientation": "v",
         "showlegend": false,
         "textposition": "auto",
         "type": "bar",
         "x": [
          "perú",
          "país"
         ],
         "xaxis": "x22",
         "y": [
          4,
          3
         ],
         "yaxis": "y22"
        },
        {
         "alignmentgroup": "True",
         "hovertemplate": "hot_topics=país<br>newspaper=larazon_pe<br>week=49<br>word=%{x}<br>count=%{y}<extra></extra>",
         "legendgroup": "país",
         "marker": {
          "color": "#b8bb26",
          "pattern": {
           "shape": ""
          }
         },
         "name": "país",
         "offsetgroup": "país",
         "orientation": "v",
         "showlegend": false,
         "textposition": "auto",
         "type": "bar",
         "x": [
          "perú"
         ],
         "xaxis": "x23",
         "y": [
          5
         ],
         "yaxis": "y23"
        },
        {
         "alignmentgroup": "True",
         "hovertemplate": "hot_topics=país<br>newspaper=larazon_pe<br>week=2<br>word=%{x}<br>count=%{y}<extra></extra>",
         "legendgroup": "país",
         "marker": {
          "color": "#b8bb26",
          "pattern": {
           "shape": ""
          }
         },
         "name": "país",
         "offsetgroup": "país",
         "orientation": "v",
         "showlegend": false,
         "textposition": "auto",
         "type": "bar",
         "x": [
          "perú",
          "país"
         ],
         "xaxis": "x24",
         "y": [
          3,
          3
         ],
         "yaxis": "y24"
        },
        {
         "alignmentgroup": "True",
         "hovertemplate": "hot_topics=país<br>newspaper=larepublica_pe<br>week=33<br>word=%{x}<br>count=%{y}<extra></extra>",
         "legendgroup": "país",
         "marker": {
          "color": "#b8bb26",
          "pattern": {
           "shape": ""
          }
         },
         "name": "país",
         "offsetgroup": "país",
         "orientation": "v",
         "showlegend": false,
         "textposition": "auto",
         "type": "bar",
         "x": [
          "perú"
         ],
         "xaxis": "x13",
         "y": [
          77
         ],
         "yaxis": "y13"
        },
        {
         "alignmentgroup": "True",
         "hovertemplate": "hot_topics=país<br>newspaper=larepublica_pe<br>week=34<br>word=%{x}<br>count=%{y}<extra></extra>",
         "legendgroup": "país",
         "marker": {
          "color": "#b8bb26",
          "pattern": {
           "shape": ""
          }
         },
         "name": "país",
         "offsetgroup": "país",
         "orientation": "v",
         "showlegend": false,
         "textposition": "auto",
         "type": "bar",
         "x": [
          "perú",
          "país"
         ],
         "xaxis": "x14",
         "y": [
          69,
          23
         ],
         "yaxis": "y14"
        },
        {
         "alignmentgroup": "True",
         "hovertemplate": "hot_topics=país<br>newspaper=larepublica_pe<br>week=39<br>word=%{x}<br>count=%{y}<extra></extra>",
         "legendgroup": "país",
         "marker": {
          "color": "#b8bb26",
          "pattern": {
           "shape": ""
          }
         },
         "name": "país",
         "offsetgroup": "país",
         "orientation": "v",
         "showlegend": false,
         "textposition": "auto",
         "type": "bar",
         "x": [
          "perú"
         ],
         "xaxis": "x15",
         "y": [
          90
         ],
         "yaxis": "y15"
        },
        {
         "alignmentgroup": "True",
         "hovertemplate": "hot_topics=país<br>newspaper=larepublica_pe<br>week=44<br>word=%{x}<br>count=%{y}<extra></extra>",
         "legendgroup": "país",
         "marker": {
          "color": "#b8bb26",
          "pattern": {
           "shape": ""
          }
         },
         "name": "país",
         "offsetgroup": "país",
         "orientation": "v",
         "showlegend": false,
         "textposition": "auto",
         "type": "bar",
         "x": [
          "perú",
          "país"
         ],
         "xaxis": "x16",
         "y": [
          48,
          19
         ],
         "yaxis": "y16"
        },
        {
         "alignmentgroup": "True",
         "hovertemplate": "hot_topics=país<br>newspaper=larepublica_pe<br>week=49<br>word=%{x}<br>count=%{y}<extra></extra>",
         "legendgroup": "país",
         "marker": {
          "color": "#b8bb26",
          "pattern": {
           "shape": ""
          }
         },
         "name": "país",
         "offsetgroup": "país",
         "orientation": "v",
         "showlegend": false,
         "textposition": "auto",
         "type": "bar",
         "x": [
          "perú",
          "país"
         ],
         "xaxis": "x17",
         "y": [
          86,
          31
         ],
         "yaxis": "y17"
        },
        {
         "alignmentgroup": "True",
         "hovertemplate": "hot_topics=país<br>newspaper=larepublica_pe<br>week=2<br>word=%{x}<br>count=%{y}<extra></extra>",
         "legendgroup": "país",
         "marker": {
          "color": "#b8bb26",
          "pattern": {
           "shape": ""
          }
         },
         "name": "país",
         "offsetgroup": "país",
         "orientation": "v",
         "showlegend": false,
         "textposition": "auto",
         "type": "bar",
         "x": [
          "perú",
          "país"
         ],
         "xaxis": "x18",
         "y": [
          79,
          29
         ],
         "yaxis": "y18"
        },
        {
         "alignmentgroup": "True",
         "hovertemplate": "hot_topics=país<br>newspaper=peru21noticias<br>week=33<br>word=%{x}<br>count=%{y}<extra></extra>",
         "legendgroup": "país",
         "marker": {
          "color": "#b8bb26",
          "pattern": {
           "shape": ""
          }
         },
         "name": "país",
         "offsetgroup": "país",
         "orientation": "v",
         "showlegend": false,
         "textposition": "auto",
         "type": "bar",
         "x": [
          "perú"
         ],
         "xaxis": "x7",
         "y": [
          62
         ],
         "yaxis": "y7"
        },
        {
         "alignmentgroup": "True",
         "hovertemplate": "hot_topics=país<br>newspaper=peru21noticias<br>week=34<br>word=%{x}<br>count=%{y}<extra></extra>",
         "legendgroup": "país",
         "marker": {
          "color": "#b8bb26",
          "pattern": {
           "shape": ""
          }
         },
         "name": "país",
         "offsetgroup": "país",
         "orientation": "v",
         "showlegend": false,
         "textposition": "auto",
         "type": "bar",
         "x": [
          "perú"
         ],
         "xaxis": "x8",
         "y": [
          41
         ],
         "yaxis": "y8"
        },
        {
         "alignmentgroup": "True",
         "hovertemplate": "hot_topics=país<br>newspaper=peru21noticias<br>week=39<br>word=%{x}<br>count=%{y}<extra></extra>",
         "legendgroup": "país",
         "marker": {
          "color": "#b8bb26",
          "pattern": {
           "shape": ""
          }
         },
         "name": "país",
         "offsetgroup": "país",
         "orientation": "v",
         "showlegend": false,
         "textposition": "auto",
         "type": "bar",
         "x": [
          "perú",
          "país"
         ],
         "xaxis": "x9",
         "y": [
          67,
          19
         ],
         "yaxis": "y9"
        },
        {
         "alignmentgroup": "True",
         "hovertemplate": "hot_topics=país<br>newspaper=peru21noticias<br>week=44<br>word=%{x}<br>count=%{y}<extra></extra>",
         "legendgroup": "país",
         "marker": {
          "color": "#b8bb26",
          "pattern": {
           "shape": ""
          }
         },
         "name": "país",
         "offsetgroup": "país",
         "orientation": "v",
         "showlegend": false,
         "textposition": "auto",
         "type": "bar",
         "x": [
          "perú",
          "país"
         ],
         "xaxis": "x10",
         "y": [
          46,
          13
         ],
         "yaxis": "y10"
        },
        {
         "alignmentgroup": "True",
         "hovertemplate": "hot_topics=país<br>newspaper=peru21noticias<br>week=49<br>word=%{x}<br>count=%{y}<extra></extra>",
         "legendgroup": "país",
         "marker": {
          "color": "#b8bb26",
          "pattern": {
           "shape": ""
          }
         },
         "name": "país",
         "offsetgroup": "país",
         "orientation": "v",
         "showlegend": false,
         "textposition": "auto",
         "type": "bar",
         "x": [
          "perú"
         ],
         "xaxis": "x11",
         "y": [
          63
         ],
         "yaxis": "y11"
        },
        {
         "alignmentgroup": "True",
         "hovertemplate": "hot_topics=país<br>newspaper=peru21noticias<br>week=2<br>word=%{x}<br>count=%{y}<extra></extra>",
         "legendgroup": "país",
         "marker": {
          "color": "#b8bb26",
          "pattern": {
           "shape": ""
          }
         },
         "name": "país",
         "offsetgroup": "país",
         "orientation": "v",
         "showlegend": false,
         "textposition": "auto",
         "type": "bar",
         "x": [
          "perú",
          "país"
         ],
         "xaxis": "x12",
         "y": [
          27,
          24
         ],
         "yaxis": "y12"
        },
        {
         "alignmentgroup": "True",
         "hovertemplate": "hot_topics=país<br>newspaper=tromepe<br>week=33<br>word=%{x}<br>count=%{y}<extra></extra>",
         "legendgroup": "país",
         "marker": {
          "color": "#b8bb26",
          "pattern": {
           "shape": ""
          }
         },
         "name": "país",
         "offsetgroup": "país",
         "orientation": "v",
         "showlegend": false,
         "textposition": "auto",
         "type": "bar",
         "x": [
          "perú"
         ],
         "xaxis": "x",
         "y": [
          33
         ],
         "yaxis": "y"
        },
        {
         "alignmentgroup": "True",
         "hovertemplate": "hot_topics=país<br>newspaper=tromepe<br>week=34<br>word=%{x}<br>count=%{y}<extra></extra>",
         "legendgroup": "país",
         "marker": {
          "color": "#b8bb26",
          "pattern": {
           "shape": ""
          }
         },
         "name": "país",
         "offsetgroup": "país",
         "orientation": "v",
         "showlegend": false,
         "textposition": "auto",
         "type": "bar",
         "x": [
          "perú"
         ],
         "xaxis": "x2",
         "y": [
          31
         ],
         "yaxis": "y2"
        },
        {
         "alignmentgroup": "True",
         "hovertemplate": "hot_topics=país<br>newspaper=tromepe<br>week=39<br>word=%{x}<br>count=%{y}<extra></extra>",
         "legendgroup": "país",
         "marker": {
          "color": "#b8bb26",
          "pattern": {
           "shape": ""
          }
         },
         "name": "país",
         "offsetgroup": "país",
         "orientation": "v",
         "showlegend": false,
         "textposition": "auto",
         "type": "bar",
         "x": [
          "perú"
         ],
         "xaxis": "x3",
         "y": [
          58
         ],
         "yaxis": "y3"
        },
        {
         "alignmentgroup": "True",
         "hovertemplate": "hot_topics=país<br>newspaper=tromepe<br>week=44<br>word=%{x}<br>count=%{y}<extra></extra>",
         "legendgroup": "país",
         "marker": {
          "color": "#b8bb26",
          "pattern": {
           "shape": ""
          }
         },
         "name": "país",
         "offsetgroup": "país",
         "orientation": "v",
         "showlegend": false,
         "textposition": "auto",
         "type": "bar",
         "x": [
          "perú"
         ],
         "xaxis": "x4",
         "y": [
          23
         ],
         "yaxis": "y4"
        },
        {
         "alignmentgroup": "True",
         "hovertemplate": "hot_topics=país<br>newspaper=tromepe<br>week=49<br>word=%{x}<br>count=%{y}<extra></extra>",
         "legendgroup": "país",
         "marker": {
          "color": "#b8bb26",
          "pattern": {
           "shape": ""
          }
         },
         "name": "país",
         "offsetgroup": "país",
         "orientation": "v",
         "showlegend": false,
         "textposition": "auto",
         "type": "bar",
         "x": [
          "perú"
         ],
         "xaxis": "x5",
         "y": [
          34
         ],
         "yaxis": "y5"
        },
        {
         "alignmentgroup": "True",
         "hovertemplate": "hot_topics=país<br>newspaper=tromepe<br>week=2<br>word=%{x}<br>count=%{y}<extra></extra>",
         "legendgroup": "país",
         "marker": {
          "color": "#b8bb26",
          "pattern": {
           "shape": ""
          }
         },
         "name": "país",
         "offsetgroup": "país",
         "orientation": "v",
         "showlegend": false,
         "textposition": "auto",
         "type": "bar",
         "x": [
          "perú"
         ],
         "xaxis": "x6",
         "y": [
          21
         ],
         "yaxis": "y6"
        },
        {
         "alignmentgroup": "True",
         "hovertemplate": "hot_topics=castillo<br>newspaper=DiarioElPeruano<br>week=33<br>word=%{x}<br>count=%{y}<extra></extra>",
         "legendgroup": "castillo",
         "marker": {
          "color": "#458588",
          "pattern": {
           "shape": ""
          }
         },
         "name": "castillo",
         "offsetgroup": "castillo",
         "orientation": "v",
         "showlegend": true,
         "textposition": "auto",
         "type": "bar",
         "x": [
          "pedro",
          "castillo"
         ],
         "xaxis": "x67",
         "y": [
          22,
          22
         ],
         "yaxis": "y67"
        },
        {
         "alignmentgroup": "True",
         "hovertemplate": "hot_topics=castillo<br>newspaper=DiarioElPeruano<br>week=34<br>word=%{x}<br>count=%{y}<extra></extra>",
         "legendgroup": "castillo",
         "marker": {
          "color": "#458588",
          "pattern": {
           "shape": ""
          }
         },
         "name": "castillo",
         "offsetgroup": "castillo",
         "orientation": "v",
         "showlegend": false,
         "textposition": "auto",
         "type": "bar",
         "x": [
          "pedro",
          "castillo"
         ],
         "xaxis": "x68",
         "y": [
          19,
          17
         ],
         "yaxis": "y68"
        },
        {
         "alignmentgroup": "True",
         "hovertemplate": "hot_topics=castillo<br>newspaper=DiarioElPeruano<br>week=39<br>word=%{x}<br>count=%{y}<extra></extra>",
         "legendgroup": "castillo",
         "marker": {
          "color": "#458588",
          "pattern": {
           "shape": ""
          }
         },
         "name": "castillo",
         "offsetgroup": "castillo",
         "orientation": "v",
         "showlegend": false,
         "textposition": "auto",
         "type": "bar",
         "x": [
          "pedro",
          "castillo"
         ],
         "xaxis": "x69",
         "y": [
          9,
          9
         ],
         "yaxis": "y69"
        },
        {
         "alignmentgroup": "True",
         "hovertemplate": "hot_topics=castillo<br>newspaper=DiarioElPeruano<br>week=44<br>word=%{x}<br>count=%{y}<extra></extra>",
         "legendgroup": "castillo",
         "marker": {
          "color": "#458588",
          "pattern": {
           "shape": ""
          }
         },
         "name": "castillo",
         "offsetgroup": "castillo",
         "orientation": "v",
         "showlegend": false,
         "textposition": "auto",
         "type": "bar",
         "x": [
          "pedro",
          "castillo"
         ],
         "xaxis": "x70",
         "y": [
          8,
          8
         ],
         "yaxis": "y70"
        },
        {
         "alignmentgroup": "True",
         "hovertemplate": "hot_topics=castillo<br>newspaper=DiarioElPeruano<br>week=49<br>word=%{x}<br>count=%{y}<extra></extra>",
         "legendgroup": "castillo",
         "marker": {
          "color": "#458588",
          "pattern": {
           "shape": ""
          }
         },
         "name": "castillo",
         "offsetgroup": "castillo",
         "orientation": "v",
         "showlegend": false,
         "textposition": "auto",
         "type": "bar",
         "x": [
          "pedro",
          "castillo"
         ],
         "xaxis": "x71",
         "y": [
          20,
          18
         ],
         "yaxis": "y71"
        },
        {
         "alignmentgroup": "True",
         "hovertemplate": "hot_topics=castillo<br>newspaper=ExpresoPeru<br>week=33<br>word=%{x}<br>count=%{y}<extra></extra>",
         "legendgroup": "castillo",
         "marker": {
          "color": "#458588",
          "pattern": {
           "shape": ""
          }
         },
         "name": "castillo",
         "offsetgroup": "castillo",
         "orientation": "v",
         "showlegend": false,
         "textposition": "auto",
         "type": "bar",
         "x": [
          "castillo",
          "pedro"
         ],
         "xaxis": "x61",
         "y": [
          47,
          25
         ],
         "yaxis": "y61"
        },
        {
         "alignmentgroup": "True",
         "hovertemplate": "hot_topics=castillo<br>newspaper=ExpresoPeru<br>week=34<br>word=%{x}<br>count=%{y}<extra></extra>",
         "legendgroup": "castillo",
         "marker": {
          "color": "#458588",
          "pattern": {
           "shape": ""
          }
         },
         "name": "castillo",
         "offsetgroup": "castillo",
         "orientation": "v",
         "showlegend": false,
         "textposition": "auto",
         "type": "bar",
         "x": [
          "castillo",
          "pedro"
         ],
         "xaxis": "x62",
         "y": [
          32,
          21
         ],
         "yaxis": "y62"
        },
        {
         "alignmentgroup": "True",
         "hovertemplate": "hot_topics=castillo<br>newspaper=ExpresoPeru<br>week=39<br>word=%{x}<br>count=%{y}<extra></extra>",
         "legendgroup": "castillo",
         "marker": {
          "color": "#458588",
          "pattern": {
           "shape": ""
          }
         },
         "name": "castillo",
         "offsetgroup": "castillo",
         "orientation": "v",
         "showlegend": false,
         "textposition": "auto",
         "type": "bar",
         "x": [
          "castillo",
          "pedro"
         ],
         "xaxis": "x63",
         "y": [
          30,
          21
         ],
         "yaxis": "y63"
        },
        {
         "alignmentgroup": "True",
         "hovertemplate": "hot_topics=castillo<br>newspaper=ExpresoPeru<br>week=44<br>word=%{x}<br>count=%{y}<extra></extra>",
         "legendgroup": "castillo",
         "marker": {
          "color": "#458588",
          "pattern": {
           "shape": ""
          }
         },
         "name": "castillo",
         "offsetgroup": "castillo",
         "orientation": "v",
         "showlegend": false,
         "textposition": "auto",
         "type": "bar",
         "x": [
          "castillo",
          "pedro"
         ],
         "xaxis": "x64",
         "y": [
          23,
          14
         ],
         "yaxis": "y64"
        },
        {
         "alignmentgroup": "True",
         "hovertemplate": "hot_topics=castillo<br>newspaper=ExpresoPeru<br>week=49<br>word=%{x}<br>count=%{y}<extra></extra>",
         "legendgroup": "castillo",
         "marker": {
          "color": "#458588",
          "pattern": {
           "shape": ""
          }
         },
         "name": "castillo",
         "offsetgroup": "castillo",
         "orientation": "v",
         "showlegend": false,
         "textposition": "auto",
         "type": "bar",
         "x": [
          "castillo",
          "pedro"
         ],
         "xaxis": "x65",
         "y": [
          67,
          37
         ],
         "yaxis": "y65"
        },
        {
         "alignmentgroup": "True",
         "hovertemplate": "hot_topics=castillo<br>newspaper=ExpresoPeru<br>week=2<br>word=%{x}<br>count=%{y}<extra></extra>",
         "legendgroup": "castillo",
         "marker": {
          "color": "#458588",
          "pattern": {
           "shape": ""
          }
         },
         "name": "castillo",
         "offsetgroup": "castillo",
         "orientation": "v",
         "showlegend": false,
         "textposition": "auto",
         "type": "bar",
         "x": [
          "castillo",
          "pedro"
         ],
         "xaxis": "x66",
         "y": [
          8,
          7
         ],
         "yaxis": "y66"
        },
        {
         "alignmentgroup": "True",
         "hovertemplate": "hot_topics=castillo<br>newspaper=Gestionpe<br>week=33<br>word=%{x}<br>count=%{y}<extra></extra>",
         "legendgroup": "castillo",
         "marker": {
          "color": "#458588",
          "pattern": {
           "shape": ""
          }
         },
         "name": "castillo",
         "offsetgroup": "castillo",
         "orientation": "v",
         "showlegend": false,
         "textposition": "auto",
         "type": "bar",
         "x": [
          "castillo"
         ],
         "xaxis": "x55",
         "y": [
          24
         ],
         "yaxis": "y55"
        },
        {
         "alignmentgroup": "True",
         "hovertemplate": "hot_topics=castillo<br>newspaper=Gestionpe<br>week=34<br>word=%{x}<br>count=%{y}<extra></extra>",
         "legendgroup": "castillo",
         "marker": {
          "color": "#458588",
          "pattern": {
           "shape": ""
          }
         },
         "name": "castillo",
         "offsetgroup": "castillo",
         "orientation": "v",
         "showlegend": false,
         "textposition": "auto",
         "type": "bar",
         "x": [
          "castillo"
         ],
         "xaxis": "x56",
         "y": [
          14
         ],
         "yaxis": "y56"
        },
        {
         "alignmentgroup": "True",
         "hovertemplate": "hot_topics=castillo<br>newspaper=Gestionpe<br>week=39<br>word=%{x}<br>count=%{y}<extra></extra>",
         "legendgroup": "castillo",
         "marker": {
          "color": "#458588",
          "pattern": {
           "shape": ""
          }
         },
         "name": "castillo",
         "offsetgroup": "castillo",
         "orientation": "v",
         "showlegend": false,
         "textposition": "auto",
         "type": "bar",
         "x": [
          "castillo"
         ],
         "xaxis": "x57",
         "y": [
          23
         ],
         "yaxis": "y57"
        },
        {
         "alignmentgroup": "True",
         "hovertemplate": "hot_topics=castillo<br>newspaper=Gestionpe<br>week=44<br>word=%{x}<br>count=%{y}<extra></extra>",
         "legendgroup": "castillo",
         "marker": {
          "color": "#458588",
          "pattern": {
           "shape": ""
          }
         },
         "name": "castillo",
         "offsetgroup": "castillo",
         "orientation": "v",
         "showlegend": false,
         "textposition": "auto",
         "type": "bar",
         "x": [
          "castillo"
         ],
         "xaxis": "x58",
         "y": [
          20
         ],
         "yaxis": "y58"
        },
        {
         "alignmentgroup": "True",
         "hovertemplate": "hot_topics=castillo<br>newspaper=Gestionpe<br>week=49<br>word=%{x}<br>count=%{y}<extra></extra>",
         "legendgroup": "castillo",
         "marker": {
          "color": "#458588",
          "pattern": {
           "shape": ""
          }
         },
         "name": "castillo",
         "offsetgroup": "castillo",
         "orientation": "v",
         "showlegend": false,
         "textposition": "auto",
         "type": "bar",
         "x": [
          "castillo",
          "pedro"
         ],
         "xaxis": "x59",
         "y": [
          93,
          75
         ],
         "yaxis": "y59"
        },
        {
         "alignmentgroup": "True",
         "hovertemplate": "hot_topics=castillo<br>newspaper=diariocorreo<br>week=33<br>word=%{x}<br>count=%{y}<extra></extra>",
         "legendgroup": "castillo",
         "marker": {
          "color": "#458588",
          "pattern": {
           "shape": ""
          }
         },
         "name": "castillo",
         "offsetgroup": "castillo",
         "orientation": "v",
         "showlegend": false,
         "textposition": "auto",
         "type": "bar",
         "x": [
          "castillo",
          "pedro"
         ],
         "xaxis": "x49",
         "y": [
          55,
          48
         ],
         "yaxis": "y49"
        },
        {
         "alignmentgroup": "True",
         "hovertemplate": "hot_topics=castillo<br>newspaper=diariocorreo<br>week=34<br>word=%{x}<br>count=%{y}<extra></extra>",
         "legendgroup": "castillo",
         "marker": {
          "color": "#458588",
          "pattern": {
           "shape": ""
          }
         },
         "name": "castillo",
         "offsetgroup": "castillo",
         "orientation": "v",
         "showlegend": false,
         "textposition": "auto",
         "type": "bar",
         "x": [
          "castillo",
          "pedro"
         ],
         "xaxis": "x50",
         "y": [
          31,
          28
         ],
         "yaxis": "y50"
        },
        {
         "alignmentgroup": "True",
         "hovertemplate": "hot_topics=castillo<br>newspaper=diariocorreo<br>week=39<br>word=%{x}<br>count=%{y}<extra></extra>",
         "legendgroup": "castillo",
         "marker": {
          "color": "#458588",
          "pattern": {
           "shape": ""
          }
         },
         "name": "castillo",
         "offsetgroup": "castillo",
         "orientation": "v",
         "showlegend": false,
         "textposition": "auto",
         "type": "bar",
         "x": [
          "castillo",
          "pedro"
         ],
         "xaxis": "x51",
         "y": [
          35,
          29
         ],
         "yaxis": "y51"
        },
        {
         "alignmentgroup": "True",
         "hovertemplate": "hot_topics=castillo<br>newspaper=diariocorreo<br>week=44<br>word=%{x}<br>count=%{y}<extra></extra>",
         "legendgroup": "castillo",
         "marker": {
          "color": "#458588",
          "pattern": {
           "shape": ""
          }
         },
         "name": "castillo",
         "offsetgroup": "castillo",
         "orientation": "v",
         "showlegend": false,
         "textposition": "auto",
         "type": "bar",
         "x": [
          "castillo",
          "pedro"
         ],
         "xaxis": "x52",
         "y": [
          30,
          21
         ],
         "yaxis": "y52"
        },
        {
         "alignmentgroup": "True",
         "hovertemplate": "hot_topics=castillo<br>newspaper=diariocorreo<br>week=49<br>word=%{x}<br>count=%{y}<extra></extra>",
         "legendgroup": "castillo",
         "marker": {
          "color": "#458588",
          "pattern": {
           "shape": ""
          }
         },
         "name": "castillo",
         "offsetgroup": "castillo",
         "orientation": "v",
         "showlegend": false,
         "textposition": "auto",
         "type": "bar",
         "x": [
          "castillo",
          "pedro"
         ],
         "xaxis": "x53",
         "y": [
          74,
          68
         ],
         "yaxis": "y53"
        },
        {
         "alignmentgroup": "True",
         "hovertemplate": "hot_topics=castillo<br>newspaper=diarioojo<br>week=33<br>word=%{x}<br>count=%{y}<extra></extra>",
         "legendgroup": "castillo",
         "marker": {
          "color": "#458588",
          "pattern": {
           "shape": ""
          }
         },
         "name": "castillo",
         "offsetgroup": "castillo",
         "orientation": "v",
         "showlegend": false,
         "textposition": "auto",
         "type": "bar",
         "x": [
          "castillo",
          "pedro"
         ],
         "xaxis": "x43",
         "y": [
          30,
          28
         ],
         "yaxis": "y43"
        },
        {
         "alignmentgroup": "True",
         "hovertemplate": "hot_topics=castillo<br>newspaper=diarioojo<br>week=34<br>word=%{x}<br>count=%{y}<extra></extra>",
         "legendgroup": "castillo",
         "marker": {
          "color": "#458588",
          "pattern": {
           "shape": ""
          }
         },
         "name": "castillo",
         "offsetgroup": "castillo",
         "orientation": "v",
         "showlegend": false,
         "textposition": "auto",
         "type": "bar",
         "x": [
          "pedro",
          "castillo"
         ],
         "xaxis": "x44",
         "y": [
          23,
          21
         ],
         "yaxis": "y44"
        },
        {
         "alignmentgroup": "True",
         "hovertemplate": "hot_topics=castillo<br>newspaper=diarioojo<br>week=39<br>word=%{x}<br>count=%{y}<extra></extra>",
         "legendgroup": "castillo",
         "marker": {
          "color": "#458588",
          "pattern": {
           "shape": ""
          }
         },
         "name": "castillo",
         "offsetgroup": "castillo",
         "orientation": "v",
         "showlegend": false,
         "textposition": "auto",
         "type": "bar",
         "x": [
          "castillo"
         ],
         "xaxis": "x45",
         "y": [
          15
         ],
         "yaxis": "y45"
        },
        {
         "alignmentgroup": "True",
         "hovertemplate": "hot_topics=castillo<br>newspaper=diarioojo<br>week=44<br>word=%{x}<br>count=%{y}<extra></extra>",
         "legendgroup": "castillo",
         "marker": {
          "color": "#458588",
          "pattern": {
           "shape": ""
          }
         },
         "name": "castillo",
         "offsetgroup": "castillo",
         "orientation": "v",
         "showlegend": false,
         "textposition": "auto",
         "type": "bar",
         "x": [
          "pedro"
         ],
         "xaxis": "x46",
         "y": [
          12
         ],
         "yaxis": "y46"
        },
        {
         "alignmentgroup": "True",
         "hovertemplate": "hot_topics=castillo<br>newspaper=diarioojo<br>week=49<br>word=%{x}<br>count=%{y}<extra></extra>",
         "legendgroup": "castillo",
         "marker": {
          "color": "#458588",
          "pattern": {
           "shape": ""
          }
         },
         "name": "castillo",
         "offsetgroup": "castillo",
         "orientation": "v",
         "showlegend": false,
         "textposition": "auto",
         "type": "bar",
         "x": [
          "castillo",
          "pedro"
         ],
         "xaxis": "x47",
         "y": [
          75,
          55
         ],
         "yaxis": "y47"
        },
        {
         "alignmentgroup": "True",
         "hovertemplate": "hot_topics=castillo<br>newspaper=elbuho_pe<br>week=34<br>word=%{x}<br>count=%{y}<extra></extra>",
         "legendgroup": "castillo",
         "marker": {
          "color": "#458588",
          "pattern": {
           "shape": ""
          }
         },
         "name": "castillo",
         "offsetgroup": "castillo",
         "orientation": "v",
         "showlegend": false,
         "textposition": "auto",
         "type": "bar",
         "x": [
          "castillo",
          "pedro"
         ],
         "xaxis": "x38",
         "y": [
          6,
          4
         ],
         "yaxis": "y38"
        },
        {
         "alignmentgroup": "True",
         "hovertemplate": "hot_topics=castillo<br>newspaper=elbuho_pe<br>week=39<br>word=%{x}<br>count=%{y}<extra></extra>",
         "legendgroup": "castillo",
         "marker": {
          "color": "#458588",
          "pattern": {
           "shape": ""
          }
         },
         "name": "castillo",
         "offsetgroup": "castillo",
         "orientation": "v",
         "showlegend": false,
         "textposition": "auto",
         "type": "bar",
         "x": [
          "castillo"
         ],
         "xaxis": "x39",
         "y": [
          5
         ],
         "yaxis": "y39"
        },
        {
         "alignmentgroup": "True",
         "hovertemplate": "hot_topics=castillo<br>newspaper=elbuho_pe<br>week=44<br>word=%{x}<br>count=%{y}<extra></extra>",
         "legendgroup": "castillo",
         "marker": {
          "color": "#458588",
          "pattern": {
           "shape": ""
          }
         },
         "name": "castillo",
         "offsetgroup": "castillo",
         "orientation": "v",
         "showlegend": false,
         "textposition": "auto",
         "type": "bar",
         "x": [
          "castillo",
          "pedro"
         ],
         "xaxis": "x40",
         "y": [
          6,
          4
         ],
         "yaxis": "y40"
        },
        {
         "alignmentgroup": "True",
         "hovertemplate": "hot_topics=castillo<br>newspaper=elbuho_pe<br>week=49<br>word=%{x}<br>count=%{y}<extra></extra>",
         "legendgroup": "castillo",
         "marker": {
          "color": "#458588",
          "pattern": {
           "shape": ""
          }
         },
         "name": "castillo",
         "offsetgroup": "castillo",
         "orientation": "v",
         "showlegend": false,
         "textposition": "auto",
         "type": "bar",
         "x": [
          "castillo",
          "pedro"
         ],
         "xaxis": "x41",
         "y": [
          29,
          21
         ],
         "yaxis": "y41"
        },
        {
         "alignmentgroup": "True",
         "hovertemplate": "hot_topics=castillo<br>newspaper=elcomercio_peru<br>week=49<br>word=%{x}<br>count=%{y}<extra></extra>",
         "legendgroup": "castillo",
         "marker": {
          "color": "#458588",
          "pattern": {
           "shape": ""
          }
         },
         "name": "castillo",
         "offsetgroup": "castillo",
         "orientation": "v",
         "showlegend": false,
         "textposition": "auto",
         "type": "bar",
         "x": [
          "castillo",
          "pedro"
         ],
         "xaxis": "x35",
         "y": [
          52,
          41
         ],
         "yaxis": "y35"
        },
        {
         "alignmentgroup": "True",
         "hovertemplate": "hot_topics=castillo<br>newspaper=ensustrece<br>week=34<br>word=%{x}<br>count=%{y}<extra></extra>",
         "legendgroup": "castillo",
         "marker": {
          "color": "#458588",
          "pattern": {
           "shape": ""
          }
         },
         "name": "castillo",
         "offsetgroup": "castillo",
         "orientation": "v",
         "showlegend": false,
         "textposition": "auto",
         "type": "bar",
         "x": [
          "castillo"
         ],
         "xaxis": "x26",
         "y": [
          4
         ],
         "yaxis": "y26"
        },
        {
         "alignmentgroup": "True",
         "hovertemplate": "hot_topics=castillo<br>newspaper=ensustrece<br>week=44<br>word=%{x}<br>count=%{y}<extra></extra>",
         "legendgroup": "castillo",
         "marker": {
          "color": "#458588",
          "pattern": {
           "shape": ""
          }
         },
         "name": "castillo",
         "offsetgroup": "castillo",
         "orientation": "v",
         "showlegend": false,
         "textposition": "auto",
         "type": "bar",
         "x": [
          "castillo"
         ],
         "xaxis": "x28",
         "y": [
          4
         ],
         "yaxis": "y28"
        },
        {
         "alignmentgroup": "True",
         "hovertemplate": "hot_topics=castillo<br>newspaper=ensustrece<br>week=49<br>word=%{x}<br>count=%{y}<extra></extra>",
         "legendgroup": "castillo",
         "marker": {
          "color": "#458588",
          "pattern": {
           "shape": ""
          }
         },
         "name": "castillo",
         "offsetgroup": "castillo",
         "orientation": "v",
         "showlegend": false,
         "textposition": "auto",
         "type": "bar",
         "x": [
          "castillo",
          "pedro"
         ],
         "xaxis": "x29",
         "y": [
          8,
          4
         ],
         "yaxis": "y29"
        },
        {
         "alignmentgroup": "True",
         "hovertemplate": "hot_topics=castillo<br>newspaper=larazon_pe<br>week=33<br>word=%{x}<br>count=%{y}<extra></extra>",
         "legendgroup": "castillo",
         "marker": {
          "color": "#458588",
          "pattern": {
           "shape": ""
          }
         },
         "name": "castillo",
         "offsetgroup": "castillo",
         "orientation": "v",
         "showlegend": false,
         "textposition": "auto",
         "type": "bar",
         "x": [
          "castillo"
         ],
         "xaxis": "x19",
         "y": [
          3
         ],
         "yaxis": "y19"
        },
        {
         "alignmentgroup": "True",
         "hovertemplate": "hot_topics=castillo<br>newspaper=larazon_pe<br>week=34<br>word=%{x}<br>count=%{y}<extra></extra>",
         "legendgroup": "castillo",
         "marker": {
          "color": "#458588",
          "pattern": {
           "shape": ""
          }
         },
         "name": "castillo",
         "offsetgroup": "castillo",
         "orientation": "v",
         "showlegend": false,
         "textposition": "auto",
         "type": "bar",
         "x": [
          "castillo"
         ],
         "xaxis": "x20",
         "y": [
          2
         ],
         "yaxis": "y20"
        },
        {
         "alignmentgroup": "True",
         "hovertemplate": "hot_topics=castillo<br>newspaper=larazon_pe<br>week=39<br>word=%{x}<br>count=%{y}<extra></extra>",
         "legendgroup": "castillo",
         "marker": {
          "color": "#458588",
          "pattern": {
           "shape": ""
          }
         },
         "name": "castillo",
         "offsetgroup": "castillo",
         "orientation": "v",
         "showlegend": false,
         "textposition": "auto",
         "type": "bar",
         "x": [
          "pedro",
          "castillo"
         ],
         "xaxis": "x21",
         "y": [
          2,
          2
         ],
         "yaxis": "y21"
        },
        {
         "alignmentgroup": "True",
         "hovertemplate": "hot_topics=castillo<br>newspaper=larazon_pe<br>week=44<br>word=%{x}<br>count=%{y}<extra></extra>",
         "legendgroup": "castillo",
         "marker": {
          "color": "#458588",
          "pattern": {
           "shape": ""
          }
         },
         "name": "castillo",
         "offsetgroup": "castillo",
         "orientation": "v",
         "showlegend": false,
         "textposition": "auto",
         "type": "bar",
         "x": [
          "pedro"
         ],
         "xaxis": "x22",
         "y": [
          2
         ],
         "yaxis": "y22"
        },
        {
         "alignmentgroup": "True",
         "hovertemplate": "hot_topics=castillo<br>newspaper=larazon_pe<br>week=49<br>word=%{x}<br>count=%{y}<extra></extra>",
         "legendgroup": "castillo",
         "marker": {
          "color": "#458588",
          "pattern": {
           "shape": ""
          }
         },
         "name": "castillo",
         "offsetgroup": "castillo",
         "orientation": "v",
         "showlegend": false,
         "textposition": "auto",
         "type": "bar",
         "x": [
          "castillo",
          "pedro"
         ],
         "xaxis": "x23",
         "y": [
          13,
          11
         ],
         "yaxis": "y23"
        },
        {
         "alignmentgroup": "True",
         "hovertemplate": "hot_topics=castillo<br>newspaper=larepublica_pe<br>week=33<br>word=%{x}<br>count=%{y}<extra></extra>",
         "legendgroup": "castillo",
         "marker": {
          "color": "#458588",
          "pattern": {
           "shape": ""
          }
         },
         "name": "castillo",
         "offsetgroup": "castillo",
         "orientation": "v",
         "showlegend": false,
         "textposition": "auto",
         "type": "bar",
         "x": [
          "castillo",
          "pedro"
         ],
         "xaxis": "x13",
         "y": [
          67,
          53
         ],
         "yaxis": "y13"
        },
        {
         "alignmentgroup": "True",
         "hovertemplate": "hot_topics=castillo<br>newspaper=larepublica_pe<br>week=34<br>word=%{x}<br>count=%{y}<extra></extra>",
         "legendgroup": "castillo",
         "marker": {
          "color": "#458588",
          "pattern": {
           "shape": ""
          }
         },
         "name": "castillo",
         "offsetgroup": "castillo",
         "orientation": "v",
         "showlegend": false,
         "textposition": "auto",
         "type": "bar",
         "x": [
          "castillo",
          "pedro"
         ],
         "xaxis": "x14",
         "y": [
          52,
          35
         ],
         "yaxis": "y14"
        },
        {
         "alignmentgroup": "True",
         "hovertemplate": "hot_topics=castillo<br>newspaper=larepublica_pe<br>week=39<br>word=%{x}<br>count=%{y}<extra></extra>",
         "legendgroup": "castillo",
         "marker": {
          "color": "#458588",
          "pattern": {
           "shape": ""
          }
         },
         "name": "castillo",
         "offsetgroup": "castillo",
         "orientation": "v",
         "showlegend": false,
         "textposition": "auto",
         "type": "bar",
         "x": [
          "castillo",
          "pedro"
         ],
         "xaxis": "x15",
         "y": [
          41,
          23
         ],
         "yaxis": "y15"
        },
        {
         "alignmentgroup": "True",
         "hovertemplate": "hot_topics=castillo<br>newspaper=larepublica_pe<br>week=44<br>word=%{x}<br>count=%{y}<extra></extra>",
         "legendgroup": "castillo",
         "marker": {
          "color": "#458588",
          "pattern": {
           "shape": ""
          }
         },
         "name": "castillo",
         "offsetgroup": "castillo",
         "orientation": "v",
         "showlegend": false,
         "textposition": "auto",
         "type": "bar",
         "x": [
          "castillo",
          "pedro"
         ],
         "xaxis": "x16",
         "y": [
          44,
          24
         ],
         "yaxis": "y16"
        },
        {
         "alignmentgroup": "True",
         "hovertemplate": "hot_topics=castillo<br>newspaper=larepublica_pe<br>week=49<br>word=%{x}<br>count=%{y}<extra></extra>",
         "legendgroup": "castillo",
         "marker": {
          "color": "#458588",
          "pattern": {
           "shape": ""
          }
         },
         "name": "castillo",
         "offsetgroup": "castillo",
         "orientation": "v",
         "showlegend": false,
         "textposition": "auto",
         "type": "bar",
         "x": [
          "castillo",
          "pedro"
         ],
         "xaxis": "x17",
         "y": [
          218,
          180
         ],
         "yaxis": "y17"
        },
        {
         "alignmentgroup": "True",
         "hovertemplate": "hot_topics=castillo<br>newspaper=peru21noticias<br>week=33<br>word=%{x}<br>count=%{y}<extra></extra>",
         "legendgroup": "castillo",
         "marker": {
          "color": "#458588",
          "pattern": {
           "shape": ""
          }
         },
         "name": "castillo",
         "offsetgroup": "castillo",
         "orientation": "v",
         "showlegend": false,
         "textposition": "auto",
         "type": "bar",
         "x": [
          "castillo",
          "pedro"
         ],
         "xaxis": "x7",
         "y": [
          103,
          85
         ],
         "yaxis": "y7"
        },
        {
         "alignmentgroup": "True",
         "hovertemplate": "hot_topics=castillo<br>newspaper=peru21noticias<br>week=34<br>word=%{x}<br>count=%{y}<extra></extra>",
         "legendgroup": "castillo",
         "marker": {
          "color": "#458588",
          "pattern": {
           "shape": ""
          }
         },
         "name": "castillo",
         "offsetgroup": "castillo",
         "orientation": "v",
         "showlegend": false,
         "textposition": "auto",
         "type": "bar",
         "x": [
          "castillo",
          "pedro"
         ],
         "xaxis": "x8",
         "y": [
          80,
          66
         ],
         "yaxis": "y8"
        },
        {
         "alignmentgroup": "True",
         "hovertemplate": "hot_topics=castillo<br>newspaper=peru21noticias<br>week=39<br>word=%{x}<br>count=%{y}<extra></extra>",
         "legendgroup": "castillo",
         "marker": {
          "color": "#458588",
          "pattern": {
           "shape": ""
          }
         },
         "name": "castillo",
         "offsetgroup": "castillo",
         "orientation": "v",
         "showlegend": false,
         "textposition": "auto",
         "type": "bar",
         "x": [
          "castillo",
          "pedro"
         ],
         "xaxis": "x9",
         "y": [
          43,
          24
         ],
         "yaxis": "y9"
        },
        {
         "alignmentgroup": "True",
         "hovertemplate": "hot_topics=castillo<br>newspaper=peru21noticias<br>week=44<br>word=%{x}<br>count=%{y}<extra></extra>",
         "legendgroup": "castillo",
         "marker": {
          "color": "#458588",
          "pattern": {
           "shape": ""
          }
         },
         "name": "castillo",
         "offsetgroup": "castillo",
         "orientation": "v",
         "showlegend": false,
         "textposition": "auto",
         "type": "bar",
         "x": [
          "castillo",
          "pedro"
         ],
         "xaxis": "x10",
         "y": [
          44,
          37
         ],
         "yaxis": "y10"
        },
        {
         "alignmentgroup": "True",
         "hovertemplate": "hot_topics=castillo<br>newspaper=peru21noticias<br>week=49<br>word=%{x}<br>count=%{y}<extra></extra>",
         "legendgroup": "castillo",
         "marker": {
          "color": "#458588",
          "pattern": {
           "shape": ""
          }
         },
         "name": "castillo",
         "offsetgroup": "castillo",
         "orientation": "v",
         "showlegend": false,
         "textposition": "auto",
         "type": "bar",
         "x": [
          "castillo",
          "pedro"
         ],
         "xaxis": "x11",
         "y": [
          176,
          148
         ],
         "yaxis": "y11"
        },
        {
         "alignmentgroup": "True",
         "hovertemplate": "hot_topics=castillo<br>newspaper=peru21noticias<br>week=2<br>word=%{x}<br>count=%{y}<extra></extra>",
         "legendgroup": "castillo",
         "marker": {
          "color": "#458588",
          "pattern": {
           "shape": ""
          }
         },
         "name": "castillo",
         "offsetgroup": "castillo",
         "orientation": "v",
         "showlegend": false,
         "textposition": "auto",
         "type": "bar",
         "x": [
          "pedro"
         ],
         "xaxis": "x12",
         "y": [
          14
         ],
         "yaxis": "y12"
        },
        {
         "alignmentgroup": "True",
         "hovertemplate": "hot_topics=castillo<br>newspaper=tromepe<br>week=33<br>word=%{x}<br>count=%{y}<extra></extra>",
         "legendgroup": "castillo",
         "marker": {
          "color": "#458588",
          "pattern": {
           "shape": ""
          }
         },
         "name": "castillo",
         "offsetgroup": "castillo",
         "orientation": "v",
         "showlegend": false,
         "textposition": "auto",
         "type": "bar",
         "x": [
          "pedro",
          "castillo"
         ],
         "xaxis": "x",
         "y": [
          27,
          24
         ],
         "yaxis": "y"
        },
        {
         "alignmentgroup": "True",
         "hovertemplate": "hot_topics=castillo<br>newspaper=tromepe<br>week=34<br>word=%{x}<br>count=%{y}<extra></extra>",
         "legendgroup": "castillo",
         "marker": {
          "color": "#458588",
          "pattern": {
           "shape": ""
          }
         },
         "name": "castillo",
         "offsetgroup": "castillo",
         "orientation": "v",
         "showlegend": false,
         "textposition": "auto",
         "type": "bar",
         "x": [
          "pedro",
          "castillo"
         ],
         "xaxis": "x2",
         "y": [
          22,
          17
         ],
         "yaxis": "y2"
        },
        {
         "alignmentgroup": "True",
         "hovertemplate": "hot_topics=castillo<br>newspaper=tromepe<br>week=39<br>word=%{x}<br>count=%{y}<extra></extra>",
         "legendgroup": "castillo",
         "marker": {
          "color": "#458588",
          "pattern": {
           "shape": ""
          }
         },
         "name": "castillo",
         "offsetgroup": "castillo",
         "orientation": "v",
         "showlegend": false,
         "textposition": "auto",
         "type": "bar",
         "x": [
          "castillo",
          "pedro"
         ],
         "xaxis": "x3",
         "y": [
          29,
          18
         ],
         "yaxis": "y3"
        },
        {
         "alignmentgroup": "True",
         "hovertemplate": "hot_topics=castillo<br>newspaper=tromepe<br>week=44<br>word=%{x}<br>count=%{y}<extra></extra>",
         "legendgroup": "castillo",
         "marker": {
          "color": "#458588",
          "pattern": {
           "shape": ""
          }
         },
         "name": "castillo",
         "offsetgroup": "castillo",
         "orientation": "v",
         "showlegend": false,
         "textposition": "auto",
         "type": "bar",
         "x": [
          "castillo",
          "pedro"
         ],
         "xaxis": "x4",
         "y": [
          20,
          19
         ],
         "yaxis": "y4"
        },
        {
         "alignmentgroup": "True",
         "hovertemplate": "hot_topics=castillo<br>newspaper=tromepe<br>week=49<br>word=%{x}<br>count=%{y}<extra></extra>",
         "legendgroup": "castillo",
         "marker": {
          "color": "#458588",
          "pattern": {
           "shape": ""
          }
         },
         "name": "castillo",
         "offsetgroup": "castillo",
         "orientation": "v",
         "showlegend": false,
         "textposition": "auto",
         "type": "bar",
         "x": [
          "castillo",
          "pedro"
         ],
         "xaxis": "x5",
         "y": [
          147,
          126
         ],
         "yaxis": "y5"
        },
        {
         "alignmentgroup": "True",
         "hovertemplate": "hot_topics=congreso<br>newspaper=DiarioElPeruano<br>week=33<br>word=%{x}<br>count=%{y}<extra></extra>",
         "legendgroup": "congreso",
         "marker": {
          "color": "#fe8019",
          "pattern": {
           "shape": ""
          }
         },
         "name": "congreso",
         "offsetgroup": "congreso",
         "orientation": "v",
         "showlegend": true,
         "textposition": "auto",
         "type": "bar",
         "x": [
          "congreso"
         ],
         "xaxis": "x67",
         "y": [
          11
         ],
         "yaxis": "y67"
        },
        {
         "alignmentgroup": "True",
         "hovertemplate": "hot_topics=congreso<br>newspaper=DiarioElPeruano<br>week=34<br>word=%{x}<br>count=%{y}<extra></extra>",
         "legendgroup": "congreso",
         "marker": {
          "color": "#fe8019",
          "pattern": {
           "shape": ""
          }
         },
         "name": "congreso",
         "offsetgroup": "congreso",
         "orientation": "v",
         "showlegend": false,
         "textposition": "auto",
         "type": "bar",
         "x": [
          "congreso"
         ],
         "xaxis": "x68",
         "y": [
          8
         ],
         "yaxis": "y68"
        },
        {
         "alignmentgroup": "True",
         "hovertemplate": "hot_topics=congreso<br>newspaper=DiarioElPeruano<br>week=44<br>word=%{x}<br>count=%{y}<extra></extra>",
         "legendgroup": "congreso",
         "marker": {
          "color": "#fe8019",
          "pattern": {
           "shape": ""
          }
         },
         "name": "congreso",
         "offsetgroup": "congreso",
         "orientation": "v",
         "showlegend": false,
         "textposition": "auto",
         "type": "bar",
         "x": [
          "congreso"
         ],
         "xaxis": "x70",
         "y": [
          8
         ],
         "yaxis": "y70"
        },
        {
         "alignmentgroup": "True",
         "hovertemplate": "hot_topics=congreso<br>newspaper=DiarioElPeruano<br>week=49<br>word=%{x}<br>count=%{y}<extra></extra>",
         "legendgroup": "congreso",
         "marker": {
          "color": "#fe8019",
          "pattern": {
           "shape": ""
          }
         },
         "name": "congreso",
         "offsetgroup": "congreso",
         "orientation": "v",
         "showlegend": false,
         "textposition": "auto",
         "type": "bar",
         "x": [
          "congreso"
         ],
         "xaxis": "x71",
         "y": [
          13
         ],
         "yaxis": "y71"
        },
        {
         "alignmentgroup": "True",
         "hovertemplate": "hot_topics=congreso<br>newspaper=DiarioElPeruano<br>week=2<br>word=%{x}<br>count=%{y}<extra></extra>",
         "legendgroup": "congreso",
         "marker": {
          "color": "#fe8019",
          "pattern": {
           "shape": ""
          }
         },
         "name": "congreso",
         "offsetgroup": "congreso",
         "orientation": "v",
         "showlegend": false,
         "textposition": "auto",
         "type": "bar",
         "x": [
          "congreso"
         ],
         "xaxis": "x72",
         "y": [
          21
         ],
         "yaxis": "y72"
        },
        {
         "alignmentgroup": "True",
         "hovertemplate": "hot_topics=congreso<br>newspaper=ExpresoPeru<br>week=33<br>word=%{x}<br>count=%{y}<extra></extra>",
         "legendgroup": "congreso",
         "marker": {
          "color": "#fe8019",
          "pattern": {
           "shape": ""
          }
         },
         "name": "congreso",
         "offsetgroup": "congreso",
         "orientation": "v",
         "showlegend": false,
         "textposition": "auto",
         "type": "bar",
         "x": [
          "congreso"
         ],
         "xaxis": "x61",
         "y": [
          18
         ],
         "yaxis": "y61"
        },
        {
         "alignmentgroup": "True",
         "hovertemplate": "hot_topics=congreso<br>newspaper=ExpresoPeru<br>week=34<br>word=%{x}<br>count=%{y}<extra></extra>",
         "legendgroup": "congreso",
         "marker": {
          "color": "#fe8019",
          "pattern": {
           "shape": ""
          }
         },
         "name": "congreso",
         "offsetgroup": "congreso",
         "orientation": "v",
         "showlegend": false,
         "textposition": "auto",
         "type": "bar",
         "x": [
          "congreso"
         ],
         "xaxis": "x62",
         "y": [
          4
         ],
         "yaxis": "y62"
        },
        {
         "alignmentgroup": "True",
         "hovertemplate": "hot_topics=congreso<br>newspaper=ExpresoPeru<br>week=44<br>word=%{x}<br>count=%{y}<extra></extra>",
         "legendgroup": "congreso",
         "marker": {
          "color": "#fe8019",
          "pattern": {
           "shape": ""
          }
         },
         "name": "congreso",
         "offsetgroup": "congreso",
         "orientation": "v",
         "showlegend": false,
         "textposition": "auto",
         "type": "bar",
         "x": [
          "congreso"
         ],
         "xaxis": "x64",
         "y": [
          6
         ],
         "yaxis": "y64"
        },
        {
         "alignmentgroup": "True",
         "hovertemplate": "hot_topics=congreso<br>newspaper=ExpresoPeru<br>week=49<br>word=%{x}<br>count=%{y}<extra></extra>",
         "legendgroup": "congreso",
         "marker": {
          "color": "#fe8019",
          "pattern": {
           "shape": ""
          }
         },
         "name": "congreso",
         "offsetgroup": "congreso",
         "orientation": "v",
         "showlegend": false,
         "textposition": "auto",
         "type": "bar",
         "x": [
          "congreso"
         ],
         "xaxis": "x65",
         "y": [
          19
         ],
         "yaxis": "y65"
        },
        {
         "alignmentgroup": "True",
         "hovertemplate": "hot_topics=congreso<br>newspaper=ExpresoPeru<br>week=2<br>word=%{x}<br>count=%{y}<extra></extra>",
         "legendgroup": "congreso",
         "marker": {
          "color": "#fe8019",
          "pattern": {
           "shape": ""
          }
         },
         "name": "congreso",
         "offsetgroup": "congreso",
         "orientation": "v",
         "showlegend": false,
         "textposition": "auto",
         "type": "bar",
         "x": [
          "congreso"
         ],
         "xaxis": "x66",
         "y": [
          8
         ],
         "yaxis": "y66"
        },
        {
         "alignmentgroup": "True",
         "hovertemplate": "hot_topics=congreso<br>newspaper=Gestionpe<br>week=33<br>word=%{x}<br>count=%{y}<extra></extra>",
         "legendgroup": "congreso",
         "marker": {
          "color": "#fe8019",
          "pattern": {
           "shape": ""
          }
         },
         "name": "congreso",
         "offsetgroup": "congreso",
         "orientation": "v",
         "showlegend": false,
         "textposition": "auto",
         "type": "bar",
         "x": [
          "congreso"
         ],
         "xaxis": "x55",
         "y": [
          27
         ],
         "yaxis": "y55"
        },
        {
         "alignmentgroup": "True",
         "hovertemplate": "hot_topics=congreso<br>newspaper=Gestionpe<br>week=49<br>word=%{x}<br>count=%{y}<extra></extra>",
         "legendgroup": "congreso",
         "marker": {
          "color": "#fe8019",
          "pattern": {
           "shape": ""
          }
         },
         "name": "congreso",
         "offsetgroup": "congreso",
         "orientation": "v",
         "showlegend": false,
         "textposition": "auto",
         "type": "bar",
         "x": [
          "congreso"
         ],
         "xaxis": "x59",
         "y": [
          28
         ],
         "yaxis": "y59"
        },
        {
         "alignmentgroup": "True",
         "hovertemplate": "hot_topics=congreso<br>newspaper=Gestionpe<br>week=2<br>word=%{x}<br>count=%{y}<extra></extra>",
         "legendgroup": "congreso",
         "marker": {
          "color": "#fe8019",
          "pattern": {
           "shape": ""
          }
         },
         "name": "congreso",
         "offsetgroup": "congreso",
         "orientation": "v",
         "showlegend": false,
         "textposition": "auto",
         "type": "bar",
         "x": [
          "congreso"
         ],
         "xaxis": "x60",
         "y": [
          15
         ],
         "yaxis": "y60"
        },
        {
         "alignmentgroup": "True",
         "hovertemplate": "hot_topics=congreso<br>newspaper=diariocorreo<br>week=33<br>word=%{x}<br>count=%{y}<extra></extra>",
         "legendgroup": "congreso",
         "marker": {
          "color": "#fe8019",
          "pattern": {
           "shape": ""
          }
         },
         "name": "congreso",
         "offsetgroup": "congreso",
         "orientation": "v",
         "showlegend": false,
         "textposition": "auto",
         "type": "bar",
         "x": [
          "congreso"
         ],
         "xaxis": "x49",
         "y": [
          33
         ],
         "yaxis": "y49"
        },
        {
         "alignmentgroup": "True",
         "hovertemplate": "hot_topics=congreso<br>newspaper=diariocorreo<br>week=34<br>word=%{x}<br>count=%{y}<extra></extra>",
         "legendgroup": "congreso",
         "marker": {
          "color": "#fe8019",
          "pattern": {
           "shape": ""
          }
         },
         "name": "congreso",
         "offsetgroup": "congreso",
         "orientation": "v",
         "showlegend": false,
         "textposition": "auto",
         "type": "bar",
         "x": [
          "congreso"
         ],
         "xaxis": "x50",
         "y": [
          10
         ],
         "yaxis": "y50"
        },
        {
         "alignmentgroup": "True",
         "hovertemplate": "hot_topics=congreso<br>newspaper=diariocorreo<br>week=39<br>word=%{x}<br>count=%{y}<extra></extra>",
         "legendgroup": "congreso",
         "marker": {
          "color": "#fe8019",
          "pattern": {
           "shape": ""
          }
         },
         "name": "congreso",
         "offsetgroup": "congreso",
         "orientation": "v",
         "showlegend": false,
         "textposition": "auto",
         "type": "bar",
         "x": [
          "congreso"
         ],
         "xaxis": "x51",
         "y": [
          13
         ],
         "yaxis": "y51"
        },
        {
         "alignmentgroup": "True",
         "hovertemplate": "hot_topics=congreso<br>newspaper=diariocorreo<br>week=44<br>word=%{x}<br>count=%{y}<extra></extra>",
         "legendgroup": "congreso",
         "marker": {
          "color": "#fe8019",
          "pattern": {
           "shape": ""
          }
         },
         "name": "congreso",
         "offsetgroup": "congreso",
         "orientation": "v",
         "showlegend": false,
         "textposition": "auto",
         "type": "bar",
         "x": [
          "congreso"
         ],
         "xaxis": "x52",
         "y": [
          9
         ],
         "yaxis": "y52"
        },
        {
         "alignmentgroup": "True",
         "hovertemplate": "hot_topics=congreso<br>newspaper=diariocorreo<br>week=49<br>word=%{x}<br>count=%{y}<extra></extra>",
         "legendgroup": "congreso",
         "marker": {
          "color": "#fe8019",
          "pattern": {
           "shape": ""
          }
         },
         "name": "congreso",
         "offsetgroup": "congreso",
         "orientation": "v",
         "showlegend": false,
         "textposition": "auto",
         "type": "bar",
         "x": [
          "congreso"
         ],
         "xaxis": "x53",
         "y": [
          20
         ],
         "yaxis": "y53"
        },
        {
         "alignmentgroup": "True",
         "hovertemplate": "hot_topics=congreso<br>newspaper=diariocorreo<br>week=2<br>word=%{x}<br>count=%{y}<extra></extra>",
         "legendgroup": "congreso",
         "marker": {
          "color": "#fe8019",
          "pattern": {
           "shape": ""
          }
         },
         "name": "congreso",
         "offsetgroup": "congreso",
         "orientation": "v",
         "showlegend": false,
         "textposition": "auto",
         "type": "bar",
         "x": [
          "congreso"
         ],
         "xaxis": "x54",
         "y": [
          11
         ],
         "yaxis": "y54"
        },
        {
         "alignmentgroup": "True",
         "hovertemplate": "hot_topics=congreso<br>newspaper=diarioojo<br>week=49<br>word=%{x}<br>count=%{y}<extra></extra>",
         "legendgroup": "congreso",
         "marker": {
          "color": "#fe8019",
          "pattern": {
           "shape": ""
          }
         },
         "name": "congreso",
         "offsetgroup": "congreso",
         "orientation": "v",
         "showlegend": false,
         "textposition": "auto",
         "type": "bar",
         "x": [
          "congreso"
         ],
         "xaxis": "x47",
         "y": [
          19
         ],
         "yaxis": "y47"
        },
        {
         "alignmentgroup": "True",
         "hovertemplate": "hot_topics=congreso<br>newspaper=elbuho_pe<br>week=49<br>word=%{x}<br>count=%{y}<extra></extra>",
         "legendgroup": "congreso",
         "marker": {
          "color": "#fe8019",
          "pattern": {
           "shape": ""
          }
         },
         "name": "congreso",
         "offsetgroup": "congreso",
         "orientation": "v",
         "showlegend": false,
         "textposition": "auto",
         "type": "bar",
         "x": [
          "congreso"
         ],
         "xaxis": "x41",
         "y": [
          22
         ],
         "yaxis": "y41"
        },
        {
         "alignmentgroup": "True",
         "hovertemplate": "hot_topics=congreso<br>newspaper=elcomercio_peru<br>week=49<br>word=%{x}<br>count=%{y}<extra></extra>",
         "legendgroup": "congreso",
         "marker": {
          "color": "#fe8019",
          "pattern": {
           "shape": ""
          }
         },
         "name": "congreso",
         "offsetgroup": "congreso",
         "orientation": "v",
         "showlegend": false,
         "textposition": "auto",
         "type": "bar",
         "x": [
          "congreso"
         ],
         "xaxis": "x35",
         "y": [
          20
         ],
         "yaxis": "y35"
        },
        {
         "alignmentgroup": "True",
         "hovertemplate": "hot_topics=congreso<br>newspaper=ensustrece<br>week=34<br>word=%{x}<br>count=%{y}<extra></extra>",
         "legendgroup": "congreso",
         "marker": {
          "color": "#fe8019",
          "pattern": {
           "shape": ""
          }
         },
         "name": "congreso",
         "offsetgroup": "congreso",
         "orientation": "v",
         "showlegend": false,
         "textposition": "auto",
         "type": "bar",
         "x": [
          "congreso"
         ],
         "xaxis": "x26",
         "y": [
          3
         ],
         "yaxis": "y26"
        },
        {
         "alignmentgroup": "True",
         "hovertemplate": "hot_topics=congreso<br>newspaper=ensustrece<br>week=44<br>word=%{x}<br>count=%{y}<extra></extra>",
         "legendgroup": "congreso",
         "marker": {
          "color": "#fe8019",
          "pattern": {
           "shape": ""
          }
         },
         "name": "congreso",
         "offsetgroup": "congreso",
         "orientation": "v",
         "showlegend": false,
         "textposition": "auto",
         "type": "bar",
         "x": [
          "congreso"
         ],
         "xaxis": "x28",
         "y": [
          1
         ],
         "yaxis": "y28"
        },
        {
         "alignmentgroup": "True",
         "hovertemplate": "hot_topics=congreso<br>newspaper=ensustrece<br>week=49<br>word=%{x}<br>count=%{y}<extra></extra>",
         "legendgroup": "congreso",
         "marker": {
          "color": "#fe8019",
          "pattern": {
           "shape": ""
          }
         },
         "name": "congreso",
         "offsetgroup": "congreso",
         "orientation": "v",
         "showlegend": false,
         "textposition": "auto",
         "type": "bar",
         "x": [
          "congreso"
         ],
         "xaxis": "x29",
         "y": [
          2
         ],
         "yaxis": "y29"
        },
        {
         "alignmentgroup": "True",
         "hovertemplate": "hot_topics=congreso<br>newspaper=larazon_pe<br>week=39<br>word=%{x}<br>count=%{y}<extra></extra>",
         "legendgroup": "congreso",
         "marker": {
          "color": "#fe8019",
          "pattern": {
           "shape": ""
          }
         },
         "name": "congreso",
         "offsetgroup": "congreso",
         "orientation": "v",
         "showlegend": false,
         "textposition": "auto",
         "type": "bar",
         "x": [
          "congreso"
         ],
         "xaxis": "x21",
         "y": [
          2
         ],
         "yaxis": "y21"
        },
        {
         "alignmentgroup": "True",
         "hovertemplate": "hot_topics=congreso<br>newspaper=larepublica_pe<br>week=33<br>word=%{x}<br>count=%{y}<extra></extra>",
         "legendgroup": "congreso",
         "marker": {
          "color": "#fe8019",
          "pattern": {
           "shape": ""
          }
         },
         "name": "congreso",
         "offsetgroup": "congreso",
         "orientation": "v",
         "showlegend": false,
         "textposition": "auto",
         "type": "bar",
         "x": [
          "congreso"
         ],
         "xaxis": "x13",
         "y": [
          58
         ],
         "yaxis": "y13"
        },
        {
         "alignmentgroup": "True",
         "hovertemplate": "hot_topics=congreso<br>newspaper=larepublica_pe<br>week=34<br>word=%{x}<br>count=%{y}<extra></extra>",
         "legendgroup": "congreso",
         "marker": {
          "color": "#fe8019",
          "pattern": {
           "shape": ""
          }
         },
         "name": "congreso",
         "offsetgroup": "congreso",
         "orientation": "v",
         "showlegend": false,
         "textposition": "auto",
         "type": "bar",
         "x": [
          "congreso"
         ],
         "xaxis": "x14",
         "y": [
          27
         ],
         "yaxis": "y14"
        },
        {
         "alignmentgroup": "True",
         "hovertemplate": "hot_topics=congreso<br>newspaper=larepublica_pe<br>week=44<br>word=%{x}<br>count=%{y}<extra></extra>",
         "legendgroup": "congreso",
         "marker": {
          "color": "#fe8019",
          "pattern": {
           "shape": ""
          }
         },
         "name": "congreso",
         "offsetgroup": "congreso",
         "orientation": "v",
         "showlegend": false,
         "textposition": "auto",
         "type": "bar",
         "x": [
          "congreso"
         ],
         "xaxis": "x16",
         "y": [
          31
         ],
         "yaxis": "y16"
        },
        {
         "alignmentgroup": "True",
         "hovertemplate": "hot_topics=congreso<br>newspaper=larepublica_pe<br>week=49<br>word=%{x}<br>count=%{y}<extra></extra>",
         "legendgroup": "congreso",
         "marker": {
          "color": "#fe8019",
          "pattern": {
           "shape": ""
          }
         },
         "name": "congreso",
         "offsetgroup": "congreso",
         "orientation": "v",
         "showlegend": false,
         "textposition": "auto",
         "type": "bar",
         "x": [
          "congreso"
         ],
         "xaxis": "x17",
         "y": [
          86
         ],
         "yaxis": "y17"
        },
        {
         "alignmentgroup": "True",
         "hovertemplate": "hot_topics=congreso<br>newspaper=larepublica_pe<br>week=2<br>word=%{x}<br>count=%{y}<extra></extra>",
         "legendgroup": "congreso",
         "marker": {
          "color": "#fe8019",
          "pattern": {
           "shape": ""
          }
         },
         "name": "congreso",
         "offsetgroup": "congreso",
         "orientation": "v",
         "showlegend": false,
         "textposition": "auto",
         "type": "bar",
         "x": [
          "congreso"
         ],
         "xaxis": "x18",
         "y": [
          58
         ],
         "yaxis": "y18"
        },
        {
         "alignmentgroup": "True",
         "hovertemplate": "hot_topics=congreso<br>newspaper=peru21noticias<br>week=33<br>word=%{x}<br>count=%{y}<extra></extra>",
         "legendgroup": "congreso",
         "marker": {
          "color": "#fe8019",
          "pattern": {
           "shape": ""
          }
         },
         "name": "congreso",
         "offsetgroup": "congreso",
         "orientation": "v",
         "showlegend": false,
         "textposition": "auto",
         "type": "bar",
         "x": [
          "congreso"
         ],
         "xaxis": "x7",
         "y": [
          47
         ],
         "yaxis": "y7"
        },
        {
         "alignmentgroup": "True",
         "hovertemplate": "hot_topics=congreso<br>newspaper=peru21noticias<br>week=44<br>word=%{x}<br>count=%{y}<extra></extra>",
         "legendgroup": "congreso",
         "marker": {
          "color": "#fe8019",
          "pattern": {
           "shape": ""
          }
         },
         "name": "congreso",
         "offsetgroup": "congreso",
         "orientation": "v",
         "showlegend": false,
         "textposition": "auto",
         "type": "bar",
         "x": [
          "congreso"
         ],
         "xaxis": "x10",
         "y": [
          11
         ],
         "yaxis": "y10"
        },
        {
         "alignmentgroup": "True",
         "hovertemplate": "hot_topics=congreso<br>newspaper=peru21noticias<br>week=49<br>word=%{x}<br>count=%{y}<extra></extra>",
         "legendgroup": "congreso",
         "marker": {
          "color": "#fe8019",
          "pattern": {
           "shape": ""
          }
         },
         "name": "congreso",
         "offsetgroup": "congreso",
         "orientation": "v",
         "showlegend": false,
         "textposition": "auto",
         "type": "bar",
         "x": [
          "congreso"
         ],
         "xaxis": "x11",
         "y": [
          62
         ],
         "yaxis": "y11"
        },
        {
         "alignmentgroup": "True",
         "hovertemplate": "hot_topics=congreso<br>newspaper=peru21noticias<br>week=2<br>word=%{x}<br>count=%{y}<extra></extra>",
         "legendgroup": "congreso",
         "marker": {
          "color": "#fe8019",
          "pattern": {
           "shape": ""
          }
         },
         "name": "congreso",
         "offsetgroup": "congreso",
         "orientation": "v",
         "showlegend": false,
         "textposition": "auto",
         "type": "bar",
         "x": [
          "congreso"
         ],
         "xaxis": "x12",
         "y": [
          25
         ],
         "yaxis": "y12"
        },
        {
         "alignmentgroup": "True",
         "hovertemplate": "hot_topics=congreso<br>newspaper=tromepe<br>week=49<br>word=%{x}<br>count=%{y}<extra></extra>",
         "legendgroup": "congreso",
         "marker": {
          "color": "#fe8019",
          "pattern": {
           "shape": ""
          }
         },
         "name": "congreso",
         "offsetgroup": "congreso",
         "orientation": "v",
         "showlegend": false,
         "textposition": "auto",
         "type": "bar",
         "x": [
          "congreso"
         ],
         "xaxis": "x5",
         "y": [
          42
         ],
         "yaxis": "y5"
        },
        {
         "alignmentgroup": "True",
         "hovertemplate": "hot_topics=boluarte<br>newspaper=DiarioElPeruano<br>week=49<br>word=%{x}<br>count=%{y}<extra></extra>",
         "legendgroup": "boluarte",
         "marker": {
          "color": "#b16286",
          "pattern": {
           "shape": ""
          }
         },
         "name": "boluarte",
         "offsetgroup": "boluarte",
         "orientation": "v",
         "showlegend": true,
         "textposition": "auto",
         "type": "bar",
         "x": [
          "dina",
          "boluarte"
         ],
         "xaxis": "x71",
         "y": [
          27,
          27
         ],
         "yaxis": "y71"
        },
        {
         "alignmentgroup": "True",
         "hovertemplate": "hot_topics=boluarte<br>newspaper=DiarioElPeruano<br>week=2<br>word=%{x}<br>count=%{y}<extra></extra>",
         "legendgroup": "boluarte",
         "marker": {
          "color": "#b16286",
          "pattern": {
           "shape": ""
          }
         },
         "name": "boluarte",
         "offsetgroup": "boluarte",
         "orientation": "v",
         "showlegend": false,
         "textposition": "auto",
         "type": "bar",
         "x": [
          "dina",
          "boluarte"
         ],
         "xaxis": "x72",
         "y": [
          11,
          11
         ],
         "yaxis": "y72"
        },
        {
         "alignmentgroup": "True",
         "hovertemplate": "hot_topics=boluarte<br>newspaper=ExpresoPeru<br>week=49<br>word=%{x}<br>count=%{y}<extra></extra>",
         "legendgroup": "boluarte",
         "marker": {
          "color": "#b16286",
          "pattern": {
           "shape": ""
          }
         },
         "name": "boluarte",
         "offsetgroup": "boluarte",
         "orientation": "v",
         "showlegend": false,
         "textposition": "auto",
         "type": "bar",
         "x": [
          "boluarte",
          "dina"
         ],
         "xaxis": "x65",
         "y": [
          23,
          20
         ],
         "yaxis": "y65"
        },
        {
         "alignmentgroup": "True",
         "hovertemplate": "hot_topics=boluarte<br>newspaper=ExpresoPeru<br>week=2<br>word=%{x}<br>count=%{y}<extra></extra>",
         "legendgroup": "boluarte",
         "marker": {
          "color": "#b16286",
          "pattern": {
           "shape": ""
          }
         },
         "name": "boluarte",
         "offsetgroup": "boluarte",
         "orientation": "v",
         "showlegend": false,
         "textposition": "auto",
         "type": "bar",
         "x": [
          "boluarte",
          "dina"
         ],
         "xaxis": "x66",
         "y": [
          18,
          13
         ],
         "yaxis": "y66"
        },
        {
         "alignmentgroup": "True",
         "hovertemplate": "hot_topics=boluarte<br>newspaper=Gestionpe<br>week=49<br>word=%{x}<br>count=%{y}<extra></extra>",
         "legendgroup": "boluarte",
         "marker": {
          "color": "#b16286",
          "pattern": {
           "shape": ""
          }
         },
         "name": "boluarte",
         "offsetgroup": "boluarte",
         "orientation": "v",
         "showlegend": false,
         "textposition": "auto",
         "type": "bar",
         "x": [
          "boluarte",
          "dina"
         ],
         "xaxis": "x59",
         "y": [
          50,
          41
         ],
         "yaxis": "y59"
        },
        {
         "alignmentgroup": "True",
         "hovertemplate": "hot_topics=boluarte<br>newspaper=Gestionpe<br>week=2<br>word=%{x}<br>count=%{y}<extra></extra>",
         "legendgroup": "boluarte",
         "marker": {
          "color": "#b16286",
          "pattern": {
           "shape": ""
          }
         },
         "name": "boluarte",
         "offsetgroup": "boluarte",
         "orientation": "v",
         "showlegend": false,
         "textposition": "auto",
         "type": "bar",
         "x": [
          "boluarte"
         ],
         "xaxis": "x60",
         "y": [
          16
         ],
         "yaxis": "y60"
        },
        {
         "alignmentgroup": "True",
         "hovertemplate": "hot_topics=boluarte<br>newspaper=diariocorreo<br>week=49<br>word=%{x}<br>count=%{y}<extra></extra>",
         "legendgroup": "boluarte",
         "marker": {
          "color": "#b16286",
          "pattern": {
           "shape": ""
          }
         },
         "name": "boluarte",
         "offsetgroup": "boluarte",
         "orientation": "v",
         "showlegend": false,
         "textposition": "auto",
         "type": "bar",
         "x": [
          "boluarte",
          "dina"
         ],
         "xaxis": "x53",
         "y": [
          34,
          33
         ],
         "yaxis": "y53"
        },
        {
         "alignmentgroup": "True",
         "hovertemplate": "hot_topics=boluarte<br>newspaper=diariocorreo<br>week=2<br>word=%{x}<br>count=%{y}<extra></extra>",
         "legendgroup": "boluarte",
         "marker": {
          "color": "#b16286",
          "pattern": {
           "shape": ""
          }
         },
         "name": "boluarte",
         "offsetgroup": "boluarte",
         "orientation": "v",
         "showlegend": false,
         "textposition": "auto",
         "type": "bar",
         "x": [
          "dina",
          "boluarte"
         ],
         "xaxis": "x54",
         "y": [
          13,
          13
         ],
         "yaxis": "y54"
        },
        {
         "alignmentgroup": "True",
         "hovertemplate": "hot_topics=boluarte<br>newspaper=diarioojo<br>week=49<br>word=%{x}<br>count=%{y}<extra></extra>",
         "legendgroup": "boluarte",
         "marker": {
          "color": "#b16286",
          "pattern": {
           "shape": ""
          }
         },
         "name": "boluarte",
         "offsetgroup": "boluarte",
         "orientation": "v",
         "showlegend": false,
         "textposition": "auto",
         "type": "bar",
         "x": [
          "dina",
          "boluarte"
         ],
         "xaxis": "x47",
         "y": [
          23,
          22
         ],
         "yaxis": "y47"
        },
        {
         "alignmentgroup": "True",
         "hovertemplate": "hot_topics=boluarte<br>newspaper=elbuho_pe<br>week=49<br>word=%{x}<br>count=%{y}<extra></extra>",
         "legendgroup": "boluarte",
         "marker": {
          "color": "#b16286",
          "pattern": {
           "shape": ""
          }
         },
         "name": "boluarte",
         "offsetgroup": "boluarte",
         "orientation": "v",
         "showlegend": false,
         "textposition": "auto",
         "type": "bar",
         "x": [
          "dina",
          "boluarte"
         ],
         "xaxis": "x41",
         "y": [
          9,
          9
         ],
         "yaxis": "y41"
        },
        {
         "alignmentgroup": "True",
         "hovertemplate": "hot_topics=boluarte<br>newspaper=elbuho_pe<br>week=2<br>word=%{x}<br>count=%{y}<extra></extra>",
         "legendgroup": "boluarte",
         "marker": {
          "color": "#b16286",
          "pattern": {
           "shape": ""
          }
         },
         "name": "boluarte",
         "offsetgroup": "boluarte",
         "orientation": "v",
         "showlegend": false,
         "textposition": "auto",
         "type": "bar",
         "x": [
          "boluarte",
          "dina"
         ],
         "xaxis": "x42",
         "y": [
          18,
          17
         ],
         "yaxis": "y42"
        },
        {
         "alignmentgroup": "True",
         "hovertemplate": "hot_topics=boluarte<br>newspaper=elcomercio_peru<br>week=49<br>word=%{x}<br>count=%{y}<extra></extra>",
         "legendgroup": "boluarte",
         "marker": {
          "color": "#b16286",
          "pattern": {
           "shape": ""
          }
         },
         "name": "boluarte",
         "offsetgroup": "boluarte",
         "orientation": "v",
         "showlegend": false,
         "textposition": "auto",
         "type": "bar",
         "x": [
          "boluarte",
          "dina"
         ],
         "xaxis": "x35",
         "y": [
          24,
          17
         ],
         "yaxis": "y35"
        },
        {
         "alignmentgroup": "True",
         "hovertemplate": "hot_topics=boluarte<br>newspaper=ensustrece<br>week=2<br>word=%{x}<br>count=%{y}<extra></extra>",
         "legendgroup": "boluarte",
         "marker": {
          "color": "#b16286",
          "pattern": {
           "shape": ""
          }
         },
         "name": "boluarte",
         "offsetgroup": "boluarte",
         "orientation": "v",
         "showlegend": false,
         "textposition": "auto",
         "type": "bar",
         "x": [
          "boluarte",
          "dina"
         ],
         "xaxis": "x30",
         "y": [
          4,
          4
         ],
         "yaxis": "y30"
        },
        {
         "alignmentgroup": "True",
         "hovertemplate": "hot_topics=boluarte<br>newspaper=larazon_pe<br>week=49<br>word=%{x}<br>count=%{y}<extra></extra>",
         "legendgroup": "boluarte",
         "marker": {
          "color": "#b16286",
          "pattern": {
           "shape": ""
          }
         },
         "name": "boluarte",
         "offsetgroup": "boluarte",
         "orientation": "v",
         "showlegend": false,
         "textposition": "auto",
         "type": "bar",
         "x": [
          "boluarte",
          "dina"
         ],
         "xaxis": "x23",
         "y": [
          7,
          7
         ],
         "yaxis": "y23"
        },
        {
         "alignmentgroup": "True",
         "hovertemplate": "hot_topics=boluarte<br>newspaper=larazon_pe<br>week=2<br>word=%{x}<br>count=%{y}<extra></extra>",
         "legendgroup": "boluarte",
         "marker": {
          "color": "#b16286",
          "pattern": {
           "shape": ""
          }
         },
         "name": "boluarte",
         "offsetgroup": "boluarte",
         "orientation": "v",
         "showlegend": false,
         "textposition": "auto",
         "type": "bar",
         "x": [
          "boluarte"
         ],
         "xaxis": "x24",
         "y": [
          3
         ],
         "yaxis": "y24"
        },
        {
         "alignmentgroup": "True",
         "hovertemplate": "hot_topics=boluarte<br>newspaper=larepublica_pe<br>week=49<br>word=%{x}<br>count=%{y}<extra></extra>",
         "legendgroup": "boluarte",
         "marker": {
          "color": "#b16286",
          "pattern": {
           "shape": ""
          }
         },
         "name": "boluarte",
         "offsetgroup": "boluarte",
         "orientation": "v",
         "showlegend": false,
         "textposition": "auto",
         "type": "bar",
         "x": [
          "boluarte",
          "dina"
         ],
         "xaxis": "x17",
         "y": [
          97,
          88
         ],
         "yaxis": "y17"
        },
        {
         "alignmentgroup": "True",
         "hovertemplate": "hot_topics=boluarte<br>newspaper=larepublica_pe<br>week=2<br>word=%{x}<br>count=%{y}<extra></extra>",
         "legendgroup": "boluarte",
         "marker": {
          "color": "#b16286",
          "pattern": {
           "shape": ""
          }
         },
         "name": "boluarte",
         "offsetgroup": "boluarte",
         "orientation": "v",
         "showlegend": false,
         "textposition": "auto",
         "type": "bar",
         "x": [
          "boluarte",
          "dina"
         ],
         "xaxis": "x18",
         "y": [
          78,
          68
         ],
         "yaxis": "y18"
        },
        {
         "alignmentgroup": "True",
         "hovertemplate": "hot_topics=boluarte<br>newspaper=peru21noticias<br>week=49<br>word=%{x}<br>count=%{y}<extra></extra>",
         "legendgroup": "boluarte",
         "marker": {
          "color": "#b16286",
          "pattern": {
           "shape": ""
          }
         },
         "name": "boluarte",
         "offsetgroup": "boluarte",
         "orientation": "v",
         "showlegend": false,
         "textposition": "auto",
         "type": "bar",
         "x": [
          "boluarte",
          "dina"
         ],
         "xaxis": "x11",
         "y": [
          72,
          71
         ],
         "yaxis": "y11"
        },
        {
         "alignmentgroup": "True",
         "hovertemplate": "hot_topics=boluarte<br>newspaper=peru21noticias<br>week=2<br>word=%{x}<br>count=%{y}<extra></extra>",
         "legendgroup": "boluarte",
         "marker": {
          "color": "#b16286",
          "pattern": {
           "shape": ""
          }
         },
         "name": "boluarte",
         "offsetgroup": "boluarte",
         "orientation": "v",
         "showlegend": false,
         "textposition": "auto",
         "type": "bar",
         "x": [
          "boluarte",
          "dina"
         ],
         "xaxis": "x12",
         "y": [
          24,
          21
         ],
         "yaxis": "y12"
        },
        {
         "alignmentgroup": "True",
         "hovertemplate": "hot_topics=boluarte<br>newspaper=tromepe<br>week=49<br>word=%{x}<br>count=%{y}<extra></extra>",
         "legendgroup": "boluarte",
         "marker": {
          "color": "#b16286",
          "pattern": {
           "shape": ""
          }
         },
         "name": "boluarte",
         "offsetgroup": "boluarte",
         "orientation": "v",
         "showlegend": false,
         "textposition": "auto",
         "type": "bar",
         "x": [
          "dina",
          "boluarte"
         ],
         "xaxis": "x5",
         "y": [
          41,
          39
         ],
         "yaxis": "y5"
        },
        {
         "alignmentgroup": "True",
         "hovertemplate": "hot_topics=protestas<br>newspaper=DiarioElPeruano<br>week=2<br>word=%{x}<br>count=%{y}<extra></extra>",
         "legendgroup": "protestas",
         "marker": {
          "color": "#fb4943",
          "pattern": {
           "shape": ""
          }
         },
         "name": "protestas",
         "offsetgroup": "protestas",
         "orientation": "v",
         "showlegend": true,
         "textposition": "auto",
         "type": "bar",
         "x": [
          "protestas"
         ],
         "xaxis": "x72",
         "y": [
          9
         ],
         "yaxis": "y72"
        },
        {
         "alignmentgroup": "True",
         "hovertemplate": "hot_topics=protestas<br>newspaper=ExpresoPeru<br>week=2<br>word=%{x}<br>count=%{y}<extra></extra>",
         "legendgroup": "protestas",
         "marker": {
          "color": "#fb4943",
          "pattern": {
           "shape": ""
          }
         },
         "name": "protestas",
         "offsetgroup": "protestas",
         "orientation": "v",
         "showlegend": false,
         "textposition": "auto",
         "type": "bar",
         "x": [
          "protestas",
          "manifestaciones"
         ],
         "xaxis": "x66",
         "y": [
          13,
          10
         ],
         "yaxis": "y66"
        },
        {
         "alignmentgroup": "True",
         "hovertemplate": "hot_topics=protestas<br>newspaper=Gestionpe<br>week=2<br>word=%{x}<br>count=%{y}<extra></extra>",
         "legendgroup": "protestas",
         "marker": {
          "color": "#fb4943",
          "pattern": {
           "shape": ""
          }
         },
         "name": "protestas",
         "offsetgroup": "protestas",
         "orientation": "v",
         "showlegend": false,
         "textposition": "auto",
         "type": "bar",
         "x": [
          "protestas"
         ],
         "xaxis": "x60",
         "y": [
          51
         ],
         "yaxis": "y60"
        },
        {
         "alignmentgroup": "True",
         "hovertemplate": "hot_topics=protestas<br>newspaper=diariocorreo<br>week=2<br>word=%{x}<br>count=%{y}<extra></extra>",
         "legendgroup": "protestas",
         "marker": {
          "color": "#fb4943",
          "pattern": {
           "shape": ""
          }
         },
         "name": "protestas",
         "offsetgroup": "protestas",
         "orientation": "v",
         "showlegend": false,
         "textposition": "auto",
         "type": "bar",
         "x": [
          "protestas"
         ],
         "xaxis": "x54",
         "y": [
          21
         ],
         "yaxis": "y54"
        },
        {
         "alignmentgroup": "True",
         "hovertemplate": "hot_topics=protestas<br>newspaper=diarioojo<br>week=2<br>word=%{x}<br>count=%{y}<extra></extra>",
         "legendgroup": "protestas",
         "marker": {
          "color": "#fb4943",
          "pattern": {
           "shape": ""
          }
         },
         "name": "protestas",
         "offsetgroup": "protestas",
         "orientation": "v",
         "showlegend": false,
         "textposition": "auto",
         "type": "bar",
         "x": [
          "protestas"
         ],
         "xaxis": "x48",
         "y": [
          9
         ],
         "yaxis": "y48"
        },
        {
         "alignmentgroup": "True",
         "hovertemplate": "hot_topics=protestas<br>newspaper=elbuho_pe<br>week=2<br>word=%{x}<br>count=%{y}<extra></extra>",
         "legendgroup": "protestas",
         "marker": {
          "color": "#fb4943",
          "pattern": {
           "shape": ""
          }
         },
         "name": "protestas",
         "offsetgroup": "protestas",
         "orientation": "v",
         "showlegend": false,
         "textposition": "auto",
         "type": "bar",
         "x": [
          "protestas"
         ],
         "xaxis": "x42",
         "y": [
          20
         ],
         "yaxis": "y42"
        },
        {
         "alignmentgroup": "True",
         "hovertemplate": "hot_topics=protestas<br>newspaper=elcomercio_peru<br>week=2<br>word=%{x}<br>count=%{y}<extra></extra>",
         "legendgroup": "protestas",
         "marker": {
          "color": "#fb4943",
          "pattern": {
           "shape": ""
          }
         },
         "name": "protestas",
         "offsetgroup": "protestas",
         "orientation": "v",
         "showlegend": false,
         "textposition": "auto",
         "type": "bar",
         "x": [
          "protestas"
         ],
         "xaxis": "x36",
         "y": [
          22
         ],
         "yaxis": "y36"
        },
        {
         "alignmentgroup": "True",
         "hovertemplate": "hot_topics=protestas<br>newspaper=larazon_pe<br>week=2<br>word=%{x}<br>count=%{y}<extra></extra>",
         "legendgroup": "protestas",
         "marker": {
          "color": "#fb4943",
          "pattern": {
           "shape": ""
          }
         },
         "name": "protestas",
         "offsetgroup": "protestas",
         "orientation": "v",
         "showlegend": false,
         "textposition": "auto",
         "type": "bar",
         "x": [
          "protestas"
         ],
         "xaxis": "x24",
         "y": [
          7
         ],
         "yaxis": "y24"
        },
        {
         "alignmentgroup": "True",
         "hovertemplate": "hot_topics=protestas<br>newspaper=larepublica_pe<br>week=2<br>word=%{x}<br>count=%{y}<extra></extra>",
         "legendgroup": "protestas",
         "marker": {
          "color": "#fb4943",
          "pattern": {
           "shape": ""
          }
         },
         "name": "protestas",
         "offsetgroup": "protestas",
         "orientation": "v",
         "showlegend": false,
         "textposition": "auto",
         "type": "bar",
         "x": [
          "protestas"
         ],
         "xaxis": "x18",
         "y": [
          91
         ],
         "yaxis": "y18"
        },
        {
         "alignmentgroup": "True",
         "hovertemplate": "hot_topics=protestas<br>newspaper=peru21noticias<br>week=2<br>word=%{x}<br>count=%{y}<extra></extra>",
         "legendgroup": "protestas",
         "marker": {
          "color": "#fb4943",
          "pattern": {
           "shape": ""
          }
         },
         "name": "protestas",
         "offsetgroup": "protestas",
         "orientation": "v",
         "showlegend": false,
         "textposition": "auto",
         "type": "bar",
         "x": [
          "protestas"
         ],
         "xaxis": "x12",
         "y": [
          44
         ],
         "yaxis": "y12"
        },
        {
         "alignmentgroup": "True",
         "hovertemplate": "hot_topics=protestas<br>newspaper=tromepe<br>week=2<br>word=%{x}<br>count=%{y}<extra></extra>",
         "legendgroup": "protestas",
         "marker": {
          "color": "#fb4943",
          "pattern": {
           "shape": ""
          }
         },
         "name": "protestas",
         "offsetgroup": "protestas",
         "orientation": "v",
         "showlegend": false,
         "textposition": "auto",
         "type": "bar",
         "x": [
          "protestas"
         ],
         "xaxis": "x6",
         "y": [
          20
         ],
         "yaxis": "y6"
        },
        {
         "alignmentgroup": "True",
         "hovertemplate": "hot_topics=covid<br>newspaper=Gestionpe<br>week=33<br>word=%{x}<br>count=%{y}<extra></extra>",
         "legendgroup": "covid",
         "marker": {
          "color": "#689d6a",
          "pattern": {
           "shape": ""
          }
         },
         "name": "covid",
         "offsetgroup": "covid",
         "orientation": "v",
         "showlegend": true,
         "textposition": "auto",
         "type": "bar",
         "x": [
          "covid"
         ],
         "xaxis": "x55",
         "y": [
          27
         ],
         "yaxis": "y55"
        },
        {
         "alignmentgroup": "True",
         "hovertemplate": "hot_topics=covid<br>newspaper=Gestionpe<br>week=34<br>word=%{x}<br>count=%{y}<extra></extra>",
         "legendgroup": "covid",
         "marker": {
          "color": "#689d6a",
          "pattern": {
           "shape": ""
          }
         },
         "name": "covid",
         "offsetgroup": "covid",
         "orientation": "v",
         "showlegend": false,
         "textposition": "auto",
         "type": "bar",
         "x": [
          "covid"
         ],
         "xaxis": "x56",
         "y": [
          19
         ],
         "yaxis": "y56"
        },
        {
         "alignmentgroup": "True",
         "hovertemplate": "hot_topics=covid<br>newspaper=Gestionpe<br>week=44<br>word=%{x}<br>count=%{y}<extra></extra>",
         "legendgroup": "covid",
         "marker": {
          "color": "#689d6a",
          "pattern": {
           "shape": ""
          }
         },
         "name": "covid",
         "offsetgroup": "covid",
         "orientation": "v",
         "showlegend": false,
         "textposition": "auto",
         "type": "bar",
         "x": [
          "covid"
         ],
         "xaxis": "x58",
         "y": [
          20
         ],
         "yaxis": "y58"
        },
        {
         "alignmentgroup": "True",
         "hovertemplate": "hot_topics=covid<br>newspaper=diariocorreo<br>week=33<br>word=%{x}<br>count=%{y}<extra></extra>",
         "legendgroup": "covid",
         "marker": {
          "color": "#689d6a",
          "pattern": {
           "shape": ""
          }
         },
         "name": "covid",
         "offsetgroup": "covid",
         "orientation": "v",
         "showlegend": false,
         "textposition": "auto",
         "type": "bar",
         "x": [
          "covid"
         ],
         "xaxis": "x49",
         "y": [
          24
         ],
         "yaxis": "y49"
        },
        {
         "alignmentgroup": "True",
         "hovertemplate": "hot_topics=covid<br>newspaper=diariocorreo<br>week=34<br>word=%{x}<br>count=%{y}<extra></extra>",
         "legendgroup": "covid",
         "marker": {
          "color": "#689d6a",
          "pattern": {
           "shape": ""
          }
         },
         "name": "covid",
         "offsetgroup": "covid",
         "orientation": "v",
         "showlegend": false,
         "textposition": "auto",
         "type": "bar",
         "x": [
          "covid"
         ],
         "xaxis": "x50",
         "y": [
          17
         ],
         "yaxis": "y50"
        },
        {
         "alignmentgroup": "True",
         "hovertemplate": "hot_topics=covid<br>newspaper=diariocorreo<br>week=49<br>word=%{x}<br>count=%{y}<extra></extra>",
         "legendgroup": "covid",
         "marker": {
          "color": "#689d6a",
          "pattern": {
           "shape": ""
          }
         },
         "name": "covid",
         "offsetgroup": "covid",
         "orientation": "v",
         "showlegend": false,
         "textposition": "auto",
         "type": "bar",
         "x": [
          "covid"
         ],
         "xaxis": "x53",
         "y": [
          14
         ],
         "yaxis": "y53"
        },
        {
         "alignmentgroup": "True",
         "hovertemplate": "hot_topics=covid<br>newspaper=diarioojo<br>week=33<br>word=%{x}<br>count=%{y}<extra></extra>",
         "legendgroup": "covid",
         "marker": {
          "color": "#689d6a",
          "pattern": {
           "shape": ""
          }
         },
         "name": "covid",
         "offsetgroup": "covid",
         "orientation": "v",
         "showlegend": false,
         "textposition": "auto",
         "type": "bar",
         "x": [
          "covid"
         ],
         "xaxis": "x43",
         "y": [
          21
         ],
         "yaxis": "y43"
        },
        {
         "alignmentgroup": "True",
         "hovertemplate": "hot_topics=covid<br>newspaper=diarioojo<br>week=34<br>word=%{x}<br>count=%{y}<extra></extra>",
         "legendgroup": "covid",
         "marker": {
          "color": "#689d6a",
          "pattern": {
           "shape": ""
          }
         },
         "name": "covid",
         "offsetgroup": "covid",
         "orientation": "v",
         "showlegend": false,
         "textposition": "auto",
         "type": "bar",
         "x": [
          "covid"
         ],
         "xaxis": "x44",
         "y": [
          19
         ],
         "yaxis": "y44"
        },
        {
         "alignmentgroup": "True",
         "hovertemplate": "hot_topics=covid<br>newspaper=diarioojo<br>week=39<br>word=%{x}<br>count=%{y}<extra></extra>",
         "legendgroup": "covid",
         "marker": {
          "color": "#689d6a",
          "pattern": {
           "shape": ""
          }
         },
         "name": "covid",
         "offsetgroup": "covid",
         "orientation": "v",
         "showlegend": false,
         "textposition": "auto",
         "type": "bar",
         "x": [
          "covid"
         ],
         "xaxis": "x45",
         "y": [
          12
         ],
         "yaxis": "y45"
        },
        {
         "alignmentgroup": "True",
         "hovertemplate": "hot_topics=covid<br>newspaper=diarioojo<br>week=44<br>word=%{x}<br>count=%{y}<extra></extra>",
         "legendgroup": "covid",
         "marker": {
          "color": "#689d6a",
          "pattern": {
           "shape": ""
          }
         },
         "name": "covid",
         "offsetgroup": "covid",
         "orientation": "v",
         "showlegend": false,
         "textposition": "auto",
         "type": "bar",
         "x": [
          "covid"
         ],
         "xaxis": "x46",
         "y": [
          13
         ],
         "yaxis": "y46"
        },
        {
         "alignmentgroup": "True",
         "hovertemplate": "hot_topics=covid<br>newspaper=diarioojo<br>week=49<br>word=%{x}<br>count=%{y}<extra></extra>",
         "legendgroup": "covid",
         "marker": {
          "color": "#689d6a",
          "pattern": {
           "shape": ""
          }
         },
         "name": "covid",
         "offsetgroup": "covid",
         "orientation": "v",
         "showlegend": false,
         "textposition": "auto",
         "type": "bar",
         "x": [
          "covid"
         ],
         "xaxis": "x47",
         "y": [
          17
         ],
         "yaxis": "y47"
        },
        {
         "alignmentgroup": "True",
         "hovertemplate": "hot_topics=covid<br>newspaper=elcomercio_peru<br>week=33<br>word=%{x}<br>count=%{y}<extra></extra>",
         "legendgroup": "covid",
         "marker": {
          "color": "#689d6a",
          "pattern": {
           "shape": ""
          }
         },
         "name": "covid",
         "offsetgroup": "covid",
         "orientation": "v",
         "showlegend": false,
         "textposition": "auto",
         "type": "bar",
         "x": [
          "covid"
         ],
         "xaxis": "x31",
         "y": [
          27
         ],
         "yaxis": "y31"
        },
        {
         "alignmentgroup": "True",
         "hovertemplate": "hot_topics=covid<br>newspaper=elcomercio_peru<br>week=34<br>word=%{x}<br>count=%{y}<extra></extra>",
         "legendgroup": "covid",
         "marker": {
          "color": "#689d6a",
          "pattern": {
           "shape": ""
          }
         },
         "name": "covid",
         "offsetgroup": "covid",
         "orientation": "v",
         "showlegend": false,
         "textposition": "auto",
         "type": "bar",
         "x": [
          "covid"
         ],
         "xaxis": "x32",
         "y": [
          19
         ],
         "yaxis": "y32"
        },
        {
         "alignmentgroup": "True",
         "hovertemplate": "hot_topics=covid<br>newspaper=elcomercio_peru<br>week=44<br>word=%{x}<br>count=%{y}<extra></extra>",
         "legendgroup": "covid",
         "marker": {
          "color": "#689d6a",
          "pattern": {
           "shape": ""
          }
         },
         "name": "covid",
         "offsetgroup": "covid",
         "orientation": "v",
         "showlegend": false,
         "textposition": "auto",
         "type": "bar",
         "x": [
          "covid"
         ],
         "xaxis": "x34",
         "y": [
          13
         ],
         "yaxis": "y34"
        },
        {
         "alignmentgroup": "True",
         "hovertemplate": "hot_topics=covid<br>newspaper=elcomercio_peru<br>week=49<br>word=%{x}<br>count=%{y}<extra></extra>",
         "legendgroup": "covid",
         "marker": {
          "color": "#689d6a",
          "pattern": {
           "shape": ""
          }
         },
         "name": "covid",
         "offsetgroup": "covid",
         "orientation": "v",
         "showlegend": false,
         "textposition": "auto",
         "type": "bar",
         "x": [
          "covid"
         ],
         "xaxis": "x35",
         "y": [
          20
         ],
         "yaxis": "y35"
        },
        {
         "alignmentgroup": "True",
         "hovertemplate": "hot_topics=covid<br>newspaper=elcomercio_peru<br>week=2<br>word=%{x}<br>count=%{y}<extra></extra>",
         "legendgroup": "covid",
         "marker": {
          "color": "#689d6a",
          "pattern": {
           "shape": ""
          }
         },
         "name": "covid",
         "offsetgroup": "covid",
         "orientation": "v",
         "showlegend": false,
         "textposition": "auto",
         "type": "bar",
         "x": [
          "covid"
         ],
         "xaxis": "x36",
         "y": [
          9
         ],
         "yaxis": "y36"
        },
        {
         "alignmentgroup": "True",
         "hovertemplate": "hot_topics=covid<br>newspaper=peru21noticias<br>week=33<br>word=%{x}<br>count=%{y}<extra></extra>",
         "legendgroup": "covid",
         "marker": {
          "color": "#689d6a",
          "pattern": {
           "shape": ""
          }
         },
         "name": "covid",
         "offsetgroup": "covid",
         "orientation": "v",
         "showlegend": false,
         "textposition": "auto",
         "type": "bar",
         "x": [
          "covid"
         ],
         "xaxis": "x7",
         "y": [
          23
         ],
         "yaxis": "y7"
        },
        {
         "alignmentgroup": "True",
         "hovertemplate": "hot_topics=covid<br>newspaper=peru21noticias<br>week=34<br>word=%{x}<br>count=%{y}<extra></extra>",
         "legendgroup": "covid",
         "marker": {
          "color": "#689d6a",
          "pattern": {
           "shape": ""
          }
         },
         "name": "covid",
         "offsetgroup": "covid",
         "orientation": "v",
         "showlegend": false,
         "textposition": "auto",
         "type": "bar",
         "x": [
          "covid"
         ],
         "xaxis": "x8",
         "y": [
          20
         ],
         "yaxis": "y8"
        },
        {
         "alignmentgroup": "True",
         "hovertemplate": "hot_topics=covid<br>newspaper=tromepe<br>week=34<br>word=%{x}<br>count=%{y}<extra></extra>",
         "legendgroup": "covid",
         "marker": {
          "color": "#689d6a",
          "pattern": {
           "shape": ""
          }
         },
         "name": "covid",
         "offsetgroup": "covid",
         "orientation": "v",
         "showlegend": false,
         "textposition": "auto",
         "type": "bar",
         "x": [
          "covid"
         ],
         "xaxis": "x2",
         "y": [
          14
         ],
         "yaxis": "y2"
        }
       ],
       "layout": {
        "annotations": [
         {
          "font": {},
          "showarrow": false,
          "text": "33",
          "x": 0.07333333333333333,
          "xanchor": "center",
          "xref": "paper",
          "y": 0.9999999999999999,
          "yanchor": "bottom",
          "yref": "paper"
         },
         {
          "font": {},
          "showarrow": false,
          "text": "34",
          "x": 0.24,
          "xanchor": "center",
          "xref": "paper",
          "y": 0.9999999999999999,
          "yanchor": "bottom",
          "yref": "paper"
         },
         {
          "font": {},
          "showarrow": false,
          "text": "39",
          "x": 0.4066666666666666,
          "xanchor": "center",
          "xref": "paper",
          "y": 0.9999999999999999,
          "yanchor": "bottom",
          "yref": "paper"
         },
         {
          "font": {},
          "showarrow": false,
          "text": "44",
          "x": 0.5733333333333334,
          "xanchor": "center",
          "xref": "paper",
          "y": 0.9999999999999999,
          "yanchor": "bottom",
          "yref": "paper"
         },
         {
          "font": {},
          "showarrow": false,
          "text": "49",
          "x": 0.74,
          "xanchor": "center",
          "xref": "paper",
          "y": 0.9999999999999999,
          "yanchor": "bottom",
          "yref": "paper"
         },
         {
          "font": {},
          "showarrow": false,
          "text": "2",
          "x": 0.9066666666666667,
          "xanchor": "center",
          "xref": "paper",
          "y": 0.9999999999999999,
          "yanchor": "bottom",
          "yref": "paper"
         },
         {
          "font": {},
          "showarrow": false,
          "text": "tromepe",
          "textangle": 90,
          "x": 0.98,
          "xanchor": "left",
          "xref": "paper",
          "y": 0.027916666666666666,
          "yanchor": "middle",
          "yref": "paper"
         },
         {
          "font": {},
          "showarrow": false,
          "text": "peru21noticias",
          "textangle": 90,
          "x": 0.98,
          "xanchor": "left",
          "xref": "paper",
          "y": 0.11374999999999999,
          "yanchor": "middle",
          "yref": "paper"
         },
         {
          "font": {},
          "showarrow": false,
          "text": "larepublica_pe",
          "textangle": 90,
          "x": 0.98,
          "xanchor": "left",
          "xref": "paper",
          "y": 0.19958333333333333,
          "yanchor": "middle",
          "yref": "paper"
         },
         {
          "font": {},
          "showarrow": false,
          "text": "larazon_pe",
          "textangle": 90,
          "x": 0.98,
          "xanchor": "left",
          "xref": "paper",
          "y": 0.28541666666666665,
          "yanchor": "middle",
          "yref": "paper"
         },
         {
          "font": {},
          "showarrow": false,
          "text": "ensustrece",
          "textangle": 90,
          "x": 0.98,
          "xanchor": "left",
          "xref": "paper",
          "y": 0.37124999999999997,
          "yanchor": "middle",
          "yref": "paper"
         },
         {
          "font": {},
          "showarrow": false,
          "text": "elcomercio_peru",
          "textangle": 90,
          "x": 0.98,
          "xanchor": "left",
          "xref": "paper",
          "y": 0.4570833333333334,
          "yanchor": "middle",
          "yref": "paper"
         },
         {
          "font": {},
          "showarrow": false,
          "text": "elbuho_pe",
          "textangle": 90,
          "x": 0.98,
          "xanchor": "left",
          "xref": "paper",
          "y": 0.5429166666666667,
          "yanchor": "middle",
          "yref": "paper"
         },
         {
          "font": {},
          "showarrow": false,
          "text": "diarioojo",
          "textangle": 90,
          "x": 0.98,
          "xanchor": "left",
          "xref": "paper",
          "y": 0.6287499999999999,
          "yanchor": "middle",
          "yref": "paper"
         },
         {
          "font": {},
          "showarrow": false,
          "text": "diariocorreo",
          "textangle": 90,
          "x": 0.98,
          "xanchor": "left",
          "xref": "paper",
          "y": 0.7145833333333333,
          "yanchor": "middle",
          "yref": "paper"
         },
         {
          "font": {},
          "showarrow": false,
          "text": "Gestionpe",
          "textangle": 90,
          "x": 0.98,
          "xanchor": "left",
          "xref": "paper",
          "y": 0.8004166666666668,
          "yanchor": "middle",
          "yref": "paper"
         },
         {
          "font": {},
          "showarrow": false,
          "text": "ExpresoPeru",
          "textangle": 90,
          "x": 0.98,
          "xanchor": "left",
          "xref": "paper",
          "y": 0.88625,
          "yanchor": "middle",
          "yref": "paper"
         },
         {
          "font": {},
          "showarrow": false,
          "text": "DiarioElPeruano",
          "textangle": 90,
          "x": 0.98,
          "xanchor": "left",
          "xref": "paper",
          "y": 0.9720833333333332,
          "yanchor": "middle",
          "yref": "paper"
         }
        ],
        "barmode": "relative",
        "height": 3200,
        "legend": {
         "title": {
          "text": "hot_topics"
         },
         "tracegroupgap": 0
        },
        "template": {
         "data": {
          "bar": [
           {
            "error_x": {
             "color": "#2a3f5f"
            },
            "error_y": {
             "color": "#2a3f5f"
            },
            "marker": {
             "line": {
              "color": "white",
              "width": 0.5
             },
             "pattern": {
              "fillmode": "overlay",
              "size": 10,
              "solidity": 0.2
             }
            },
            "type": "bar"
           }
          ],
          "barpolar": [
           {
            "marker": {
             "line": {
              "color": "white",
              "width": 0.5
             },
             "pattern": {
              "fillmode": "overlay",
              "size": 10,
              "solidity": 0.2
             }
            },
            "type": "barpolar"
           }
          ],
          "carpet": [
           {
            "aaxis": {
             "endlinecolor": "#2a3f5f",
             "gridcolor": "#C8D4E3",
             "linecolor": "#C8D4E3",
             "minorgridcolor": "#C8D4E3",
             "startlinecolor": "#2a3f5f"
            },
            "baxis": {
             "endlinecolor": "#2a3f5f",
             "gridcolor": "#C8D4E3",
             "linecolor": "#C8D4E3",
             "minorgridcolor": "#C8D4E3",
             "startlinecolor": "#2a3f5f"
            },
            "type": "carpet"
           }
          ],
          "choropleth": [
           {
            "colorbar": {
             "outlinewidth": 0,
             "ticks": ""
            },
            "type": "choropleth"
           }
          ],
          "contour": [
           {
            "colorbar": {
             "outlinewidth": 0,
             "ticks": ""
            },
            "colorscale": [
             [
              0,
              "#0d0887"
             ],
             [
              0.1111111111111111,
              "#46039f"
             ],
             [
              0.2222222222222222,
              "#7201a8"
             ],
             [
              0.3333333333333333,
              "#9c179e"
             ],
             [
              0.4444444444444444,
              "#bd3786"
             ],
             [
              0.5555555555555556,
              "#d8576b"
             ],
             [
              0.6666666666666666,
              "#ed7953"
             ],
             [
              0.7777777777777778,
              "#fb9f3a"
             ],
             [
              0.8888888888888888,
              "#fdca26"
             ],
             [
              1,
              "#f0f921"
             ]
            ],
            "type": "contour"
           }
          ],
          "contourcarpet": [
           {
            "colorbar": {
             "outlinewidth": 0,
             "ticks": ""
            },
            "type": "contourcarpet"
           }
          ],
          "heatmap": [
           {
            "colorbar": {
             "outlinewidth": 0,
             "ticks": ""
            },
            "colorscale": [
             [
              0,
              "#0d0887"
             ],
             [
              0.1111111111111111,
              "#46039f"
             ],
             [
              0.2222222222222222,
              "#7201a8"
             ],
             [
              0.3333333333333333,
              "#9c179e"
             ],
             [
              0.4444444444444444,
              "#bd3786"
             ],
             [
              0.5555555555555556,
              "#d8576b"
             ],
             [
              0.6666666666666666,
              "#ed7953"
             ],
             [
              0.7777777777777778,
              "#fb9f3a"
             ],
             [
              0.8888888888888888,
              "#fdca26"
             ],
             [
              1,
              "#f0f921"
             ]
            ],
            "type": "heatmap"
           }
          ],
          "heatmapgl": [
           {
            "colorbar": {
             "outlinewidth": 0,
             "ticks": ""
            },
            "colorscale": [
             [
              0,
              "#0d0887"
             ],
             [
              0.1111111111111111,
              "#46039f"
             ],
             [
              0.2222222222222222,
              "#7201a8"
             ],
             [
              0.3333333333333333,
              "#9c179e"
             ],
             [
              0.4444444444444444,
              "#bd3786"
             ],
             [
              0.5555555555555556,
              "#d8576b"
             ],
             [
              0.6666666666666666,
              "#ed7953"
             ],
             [
              0.7777777777777778,
              "#fb9f3a"
             ],
             [
              0.8888888888888888,
              "#fdca26"
             ],
             [
              1,
              "#f0f921"
             ]
            ],
            "type": "heatmapgl"
           }
          ],
          "histogram": [
           {
            "marker": {
             "pattern": {
              "fillmode": "overlay",
              "size": 10,
              "solidity": 0.2
             }
            },
            "type": "histogram"
           }
          ],
          "histogram2d": [
           {
            "colorbar": {
             "outlinewidth": 0,
             "ticks": ""
            },
            "colorscale": [
             [
              0,
              "#0d0887"
             ],
             [
              0.1111111111111111,
              "#46039f"
             ],
             [
              0.2222222222222222,
              "#7201a8"
             ],
             [
              0.3333333333333333,
              "#9c179e"
             ],
             [
              0.4444444444444444,
              "#bd3786"
             ],
             [
              0.5555555555555556,
              "#d8576b"
             ],
             [
              0.6666666666666666,
              "#ed7953"
             ],
             [
              0.7777777777777778,
              "#fb9f3a"
             ],
             [
              0.8888888888888888,
              "#fdca26"
             ],
             [
              1,
              "#f0f921"
             ]
            ],
            "type": "histogram2d"
           }
          ],
          "histogram2dcontour": [
           {
            "colorbar": {
             "outlinewidth": 0,
             "ticks": ""
            },
            "colorscale": [
             [
              0,
              "#0d0887"
             ],
             [
              0.1111111111111111,
              "#46039f"
             ],
             [
              0.2222222222222222,
              "#7201a8"
             ],
             [
              0.3333333333333333,
              "#9c179e"
             ],
             [
              0.4444444444444444,
              "#bd3786"
             ],
             [
              0.5555555555555556,
              "#d8576b"
             ],
             [
              0.6666666666666666,
              "#ed7953"
             ],
             [
              0.7777777777777778,
              "#fb9f3a"
             ],
             [
              0.8888888888888888,
              "#fdca26"
             ],
             [
              1,
              "#f0f921"
             ]
            ],
            "type": "histogram2dcontour"
           }
          ],
          "mesh3d": [
           {
            "colorbar": {
             "outlinewidth": 0,
             "ticks": ""
            },
            "type": "mesh3d"
           }
          ],
          "parcoords": [
           {
            "line": {
             "colorbar": {
              "outlinewidth": 0,
              "ticks": ""
             }
            },
            "type": "parcoords"
           }
          ],
          "pie": [
           {
            "automargin": true,
            "type": "pie"
           }
          ],
          "scatter": [
           {
            "fillpattern": {
             "fillmode": "overlay",
             "size": 10,
             "solidity": 0.2
            },
            "type": "scatter"
           }
          ],
          "scatter3d": [
           {
            "line": {
             "colorbar": {
              "outlinewidth": 0,
              "ticks": ""
             }
            },
            "marker": {
             "colorbar": {
              "outlinewidth": 0,
              "ticks": ""
             }
            },
            "type": "scatter3d"
           }
          ],
          "scattercarpet": [
           {
            "marker": {
             "colorbar": {
              "outlinewidth": 0,
              "ticks": ""
             }
            },
            "type": "scattercarpet"
           }
          ],
          "scattergeo": [
           {
            "marker": {
             "colorbar": {
              "outlinewidth": 0,
              "ticks": ""
             }
            },
            "type": "scattergeo"
           }
          ],
          "scattergl": [
           {
            "marker": {
             "colorbar": {
              "outlinewidth": 0,
              "ticks": ""
             }
            },
            "type": "scattergl"
           }
          ],
          "scattermapbox": [
           {
            "marker": {
             "colorbar": {
              "outlinewidth": 0,
              "ticks": ""
             }
            },
            "type": "scattermapbox"
           }
          ],
          "scatterpolar": [
           {
            "marker": {
             "colorbar": {
              "outlinewidth": 0,
              "ticks": ""
             }
            },
            "type": "scatterpolar"
           }
          ],
          "scatterpolargl": [
           {
            "marker": {
             "colorbar": {
              "outlinewidth": 0,
              "ticks": ""
             }
            },
            "type": "scatterpolargl"
           }
          ],
          "scatterternary": [
           {
            "marker": {
             "colorbar": {
              "outlinewidth": 0,
              "ticks": ""
             }
            },
            "type": "scatterternary"
           }
          ],
          "surface": [
           {
            "colorbar": {
             "outlinewidth": 0,
             "ticks": ""
            },
            "colorscale": [
             [
              0,
              "#0d0887"
             ],
             [
              0.1111111111111111,
              "#46039f"
             ],
             [
              0.2222222222222222,
              "#7201a8"
             ],
             [
              0.3333333333333333,
              "#9c179e"
             ],
             [
              0.4444444444444444,
              "#bd3786"
             ],
             [
              0.5555555555555556,
              "#d8576b"
             ],
             [
              0.6666666666666666,
              "#ed7953"
             ],
             [
              0.7777777777777778,
              "#fb9f3a"
             ],
             [
              0.8888888888888888,
              "#fdca26"
             ],
             [
              1,
              "#f0f921"
             ]
            ],
            "type": "surface"
           }
          ],
          "table": [
           {
            "cells": {
             "fill": {
              "color": "#EBF0F8"
             },
             "line": {
              "color": "white"
             }
            },
            "header": {
             "fill": {
              "color": "#C8D4E3"
             },
             "line": {
              "color": "white"
             }
            },
            "type": "table"
           }
          ]
         },
         "layout": {
          "annotationdefaults": {
           "arrowcolor": "#2a3f5f",
           "arrowhead": 0,
           "arrowwidth": 1
          },
          "autotypenumbers": "strict",
          "coloraxis": {
           "colorbar": {
            "outlinewidth": 0,
            "ticks": ""
           }
          },
          "colorscale": {
           "diverging": [
            [
             0,
             "#8e0152"
            ],
            [
             0.1,
             "#c51b7d"
            ],
            [
             0.2,
             "#de77ae"
            ],
            [
             0.3,
             "#f1b6da"
            ],
            [
             0.4,
             "#fde0ef"
            ],
            [
             0.5,
             "#f7f7f7"
            ],
            [
             0.6,
             "#e6f5d0"
            ],
            [
             0.7,
             "#b8e186"
            ],
            [
             0.8,
             "#7fbc41"
            ],
            [
             0.9,
             "#4d9221"
            ],
            [
             1,
             "#276419"
            ]
           ],
           "sequential": [
            [
             0,
             "#0d0887"
            ],
            [
             0.1111111111111111,
             "#46039f"
            ],
            [
             0.2222222222222222,
             "#7201a8"
            ],
            [
             0.3333333333333333,
             "#9c179e"
            ],
            [
             0.4444444444444444,
             "#bd3786"
            ],
            [
             0.5555555555555556,
             "#d8576b"
            ],
            [
             0.6666666666666666,
             "#ed7953"
            ],
            [
             0.7777777777777778,
             "#fb9f3a"
            ],
            [
             0.8888888888888888,
             "#fdca26"
            ],
            [
             1,
             "#f0f921"
            ]
           ],
           "sequentialminus": [
            [
             0,
             "#0d0887"
            ],
            [
             0.1111111111111111,
             "#46039f"
            ],
            [
             0.2222222222222222,
             "#7201a8"
            ],
            [
             0.3333333333333333,
             "#9c179e"
            ],
            [
             0.4444444444444444,
             "#bd3786"
            ],
            [
             0.5555555555555556,
             "#d8576b"
            ],
            [
             0.6666666666666666,
             "#ed7953"
            ],
            [
             0.7777777777777778,
             "#fb9f3a"
            ],
            [
             0.8888888888888888,
             "#fdca26"
            ],
            [
             1,
             "#f0f921"
            ]
           ]
          },
          "colorway": [
           "#636efa",
           "#EF553B",
           "#00cc96",
           "#ab63fa",
           "#FFA15A",
           "#19d3f3",
           "#FF6692",
           "#B6E880",
           "#FF97FF",
           "#FECB52"
          ],
          "font": {
           "color": "#2a3f5f"
          },
          "geo": {
           "bgcolor": "white",
           "lakecolor": "white",
           "landcolor": "white",
           "showlakes": true,
           "showland": true,
           "subunitcolor": "#C8D4E3"
          },
          "hoverlabel": {
           "align": "left"
          },
          "hovermode": "closest",
          "mapbox": {
           "style": "light"
          },
          "paper_bgcolor": "white",
          "plot_bgcolor": "white",
          "polar": {
           "angularaxis": {
            "gridcolor": "#EBF0F8",
            "linecolor": "#EBF0F8",
            "ticks": ""
           },
           "bgcolor": "white",
           "radialaxis": {
            "gridcolor": "#EBF0F8",
            "linecolor": "#EBF0F8",
            "ticks": ""
           }
          },
          "scene": {
           "xaxis": {
            "backgroundcolor": "white",
            "gridcolor": "#DFE8F3",
            "gridwidth": 2,
            "linecolor": "#EBF0F8",
            "showbackground": true,
            "ticks": "",
            "zerolinecolor": "#EBF0F8"
           },
           "yaxis": {
            "backgroundcolor": "white",
            "gridcolor": "#DFE8F3",
            "gridwidth": 2,
            "linecolor": "#EBF0F8",
            "showbackground": true,
            "ticks": "",
            "zerolinecolor": "#EBF0F8"
           },
           "zaxis": {
            "backgroundcolor": "white",
            "gridcolor": "#DFE8F3",
            "gridwidth": 2,
            "linecolor": "#EBF0F8",
            "showbackground": true,
            "ticks": "",
            "zerolinecolor": "#EBF0F8"
           }
          },
          "shapedefaults": {
           "line": {
            "color": "#2a3f5f"
           }
          },
          "ternary": {
           "aaxis": {
            "gridcolor": "#DFE8F3",
            "linecolor": "#A2B1C6",
            "ticks": ""
           },
           "baxis": {
            "gridcolor": "#DFE8F3",
            "linecolor": "#A2B1C6",
            "ticks": ""
           },
           "bgcolor": "white",
           "caxis": {
            "gridcolor": "#DFE8F3",
            "linecolor": "#A2B1C6",
            "ticks": ""
           }
          },
          "title": {
           "x": 0.05
          },
          "xaxis": {
           "automargin": true,
           "gridcolor": "#EBF0F8",
           "linecolor": "#EBF0F8",
           "ticks": "",
           "title": {
            "standoff": 15
           },
           "zerolinecolor": "#EBF0F8",
           "zerolinewidth": 2
          },
          "yaxis": {
           "automargin": true,
           "gridcolor": "#EBF0F8",
           "linecolor": "#EBF0F8",
           "ticks": "",
           "title": {
            "standoff": 15
           },
           "zerolinecolor": "#EBF0F8",
           "zerolinewidth": 2
          }
         }
        },
        "title": {
         "text": "Top 30 words per newspaper per week"
        },
        "width": 3200,
        "xaxis": {
         "anchor": "y",
         "categoryorder": "total descending",
         "domain": [
          0,
          0.14666666666666667
         ],
         "showticklabels": true,
         "title": {
          "text": "word"
         }
        },
        "xaxis10": {
         "anchor": "y10",
         "categoryorder": "total descending",
         "domain": [
          0.5,
          0.6466666666666667
         ],
         "showticklabels": true
        },
        "xaxis11": {
         "anchor": "y11",
         "categoryorder": "total descending",
         "domain": [
          0.6666666666666666,
          0.8133333333333332
         ],
         "showticklabels": true
        },
        "xaxis12": {
         "anchor": "y12",
         "categoryorder": "total descending",
         "domain": [
          0.8333333333333334,
          0.98
         ],
         "showticklabels": true
        },
        "xaxis13": {
         "anchor": "y13",
         "categoryorder": "total descending",
         "domain": [
          0,
          0.14666666666666667
         ],
         "showticklabels": true
        },
        "xaxis14": {
         "anchor": "y14",
         "categoryorder": "total descending",
         "domain": [
          0.16666666666666666,
          0.31333333333333335
         ],
         "showticklabels": true
        },
        "xaxis15": {
         "anchor": "y15",
         "categoryorder": "total descending",
         "domain": [
          0.3333333333333333,
          0.48
         ],
         "showticklabels": true
        },
        "xaxis16": {
         "anchor": "y16",
         "categoryorder": "total descending",
         "domain": [
          0.5,
          0.6466666666666667
         ],
         "showticklabels": true
        },
        "xaxis17": {
         "anchor": "y17",
         "categoryorder": "total descending",
         "domain": [
          0.6666666666666666,
          0.8133333333333332
         ],
         "showticklabels": true
        },
        "xaxis18": {
         "anchor": "y18",
         "categoryorder": "total descending",
         "domain": [
          0.8333333333333334,
          0.98
         ],
         "showticklabels": true
        },
        "xaxis19": {
         "anchor": "y19",
         "categoryorder": "total descending",
         "domain": [
          0,
          0.14666666666666667
         ],
         "showticklabels": true
        },
        "xaxis2": {
         "anchor": "y2",
         "categoryorder": "total descending",
         "domain": [
          0.16666666666666666,
          0.31333333333333335
         ],
         "showticklabels": true,
         "title": {
          "text": "word"
         }
        },
        "xaxis20": {
         "anchor": "y20",
         "categoryorder": "total descending",
         "domain": [
          0.16666666666666666,
          0.31333333333333335
         ],
         "showticklabels": true
        },
        "xaxis21": {
         "anchor": "y21",
         "categoryorder": "total descending",
         "domain": [
          0.3333333333333333,
          0.48
         ],
         "showticklabels": true
        },
        "xaxis22": {
         "anchor": "y22",
         "categoryorder": "total descending",
         "domain": [
          0.5,
          0.6466666666666667
         ],
         "showticklabels": true
        },
        "xaxis23": {
         "anchor": "y23",
         "categoryorder": "total descending",
         "domain": [
          0.6666666666666666,
          0.8133333333333332
         ],
         "showticklabels": true
        },
        "xaxis24": {
         "anchor": "y24",
         "categoryorder": "total descending",
         "domain": [
          0.8333333333333334,
          0.98
         ],
         "showticklabels": true
        },
        "xaxis25": {
         "anchor": "y25",
         "categoryorder": "total descending",
         "domain": [
          0,
          0.14666666666666667
         ],
         "showticklabels": true
        },
        "xaxis26": {
         "anchor": "y26",
         "categoryorder": "total descending",
         "domain": [
          0.16666666666666666,
          0.31333333333333335
         ],
         "showticklabels": true
        },
        "xaxis27": {
         "anchor": "y27",
         "categoryorder": "total descending",
         "domain": [
          0.3333333333333333,
          0.48
         ],
         "showticklabels": true
        },
        "xaxis28": {
         "anchor": "y28",
         "categoryorder": "total descending",
         "domain": [
          0.5,
          0.6466666666666667
         ],
         "showticklabels": true
        },
        "xaxis29": {
         "anchor": "y29",
         "categoryorder": "total descending",
         "domain": [
          0.6666666666666666,
          0.8133333333333332
         ],
         "showticklabels": true
        },
        "xaxis3": {
         "anchor": "y3",
         "categoryorder": "total descending",
         "domain": [
          0.3333333333333333,
          0.48
         ],
         "showticklabels": true,
         "title": {
          "text": "word"
         }
        },
        "xaxis30": {
         "anchor": "y30",
         "categoryorder": "total descending",
         "domain": [
          0.8333333333333334,
          0.98
         ],
         "showticklabels": true
        },
        "xaxis31": {
         "anchor": "y31",
         "categoryorder": "total descending",
         "domain": [
          0,
          0.14666666666666667
         ],
         "showticklabels": true
        },
        "xaxis32": {
         "anchor": "y32",
         "categoryorder": "total descending",
         "domain": [
          0.16666666666666666,
          0.31333333333333335
         ],
         "showticklabels": true
        },
        "xaxis33": {
         "anchor": "y33",
         "categoryorder": "total descending",
         "domain": [
          0.3333333333333333,
          0.48
         ],
         "showticklabels": true
        },
        "xaxis34": {
         "anchor": "y34",
         "categoryorder": "total descending",
         "domain": [
          0.5,
          0.6466666666666667
         ],
         "showticklabels": true
        },
        "xaxis35": {
         "anchor": "y35",
         "categoryorder": "total descending",
         "domain": [
          0.6666666666666666,
          0.8133333333333332
         ],
         "showticklabels": true
        },
        "xaxis36": {
         "anchor": "y36",
         "categoryorder": "total descending",
         "domain": [
          0.8333333333333334,
          0.98
         ],
         "showticklabels": true
        },
        "xaxis37": {
         "anchor": "y37",
         "categoryorder": "total descending",
         "domain": [
          0,
          0.14666666666666667
         ],
         "showticklabels": true
        },
        "xaxis38": {
         "anchor": "y38",
         "categoryorder": "total descending",
         "domain": [
          0.16666666666666666,
          0.31333333333333335
         ],
         "showticklabels": true
        },
        "xaxis39": {
         "anchor": "y39",
         "categoryorder": "total descending",
         "domain": [
          0.3333333333333333,
          0.48
         ],
         "showticklabels": true
        },
        "xaxis4": {
         "anchor": "y4",
         "categoryorder": "total descending",
         "domain": [
          0.5,
          0.6466666666666667
         ],
         "showticklabels": true,
         "title": {
          "text": "word"
         }
        },
        "xaxis40": {
         "anchor": "y40",
         "categoryorder": "total descending",
         "domain": [
          0.5,
          0.6466666666666667
         ],
         "showticklabels": true
        },
        "xaxis41": {
         "anchor": "y41",
         "categoryorder": "total descending",
         "domain": [
          0.6666666666666666,
          0.8133333333333332
         ],
         "showticklabels": true
        },
        "xaxis42": {
         "anchor": "y42",
         "categoryorder": "total descending",
         "domain": [
          0.8333333333333334,
          0.98
         ],
         "showticklabels": true
        },
        "xaxis43": {
         "anchor": "y43",
         "categoryorder": "total descending",
         "domain": [
          0,
          0.14666666666666667
         ],
         "showticklabels": true
        },
        "xaxis44": {
         "anchor": "y44",
         "categoryorder": "total descending",
         "domain": [
          0.16666666666666666,
          0.31333333333333335
         ],
         "showticklabels": true
        },
        "xaxis45": {
         "anchor": "y45",
         "categoryorder": "total descending",
         "domain": [
          0.3333333333333333,
          0.48
         ],
         "showticklabels": true
        },
        "xaxis46": {
         "anchor": "y46",
         "categoryorder": "total descending",
         "domain": [
          0.5,
          0.6466666666666667
         ],
         "showticklabels": true
        },
        "xaxis47": {
         "anchor": "y47",
         "categoryorder": "total descending",
         "domain": [
          0.6666666666666666,
          0.8133333333333332
         ],
         "showticklabels": true
        },
        "xaxis48": {
         "anchor": "y48",
         "categoryorder": "total descending",
         "domain": [
          0.8333333333333334,
          0.98
         ],
         "showticklabels": true
        },
        "xaxis49": {
         "anchor": "y49",
         "categoryorder": "total descending",
         "domain": [
          0,
          0.14666666666666667
         ],
         "showticklabels": true
        },
        "xaxis5": {
         "anchor": "y5",
         "categoryorder": "total descending",
         "domain": [
          0.6666666666666666,
          0.8133333333333332
         ],
         "showticklabels": true,
         "title": {
          "text": "word"
         }
        },
        "xaxis50": {
         "anchor": "y50",
         "categoryorder": "total descending",
         "domain": [
          0.16666666666666666,
          0.31333333333333335
         ],
         "showticklabels": true
        },
        "xaxis51": {
         "anchor": "y51",
         "categoryorder": "total descending",
         "domain": [
          0.3333333333333333,
          0.48
         ],
         "showticklabels": true
        },
        "xaxis52": {
         "anchor": "y52",
         "categoryorder": "total descending",
         "domain": [
          0.5,
          0.6466666666666667
         ],
         "showticklabels": true
        },
        "xaxis53": {
         "anchor": "y53",
         "categoryorder": "total descending",
         "domain": [
          0.6666666666666666,
          0.8133333333333332
         ],
         "showticklabels": true
        },
        "xaxis54": {
         "anchor": "y54",
         "categoryorder": "total descending",
         "domain": [
          0.8333333333333334,
          0.98
         ],
         "showticklabels": true
        },
        "xaxis55": {
         "anchor": "y55",
         "categoryorder": "total descending",
         "domain": [
          0,
          0.14666666666666667
         ],
         "showticklabels": true
        },
        "xaxis56": {
         "anchor": "y56",
         "categoryorder": "total descending",
         "domain": [
          0.16666666666666666,
          0.31333333333333335
         ],
         "showticklabels": true
        },
        "xaxis57": {
         "anchor": "y57",
         "categoryorder": "total descending",
         "domain": [
          0.3333333333333333,
          0.48
         ],
         "showticklabels": true
        },
        "xaxis58": {
         "anchor": "y58",
         "categoryorder": "total descending",
         "domain": [
          0.5,
          0.6466666666666667
         ],
         "showticklabels": true
        },
        "xaxis59": {
         "anchor": "y59",
         "categoryorder": "total descending",
         "domain": [
          0.6666666666666666,
          0.8133333333333332
         ],
         "showticklabels": true
        },
        "xaxis6": {
         "anchor": "y6",
         "categoryorder": "total descending",
         "domain": [
          0.8333333333333334,
          0.98
         ],
         "showticklabels": true,
         "title": {
          "text": "word"
         }
        },
        "xaxis60": {
         "anchor": "y60",
         "categoryorder": "total descending",
         "domain": [
          0.8333333333333334,
          0.98
         ],
         "showticklabels": true
        },
        "xaxis61": {
         "anchor": "y61",
         "categoryorder": "total descending",
         "domain": [
          0,
          0.14666666666666667
         ],
         "showticklabels": true
        },
        "xaxis62": {
         "anchor": "y62",
         "categoryorder": "total descending",
         "domain": [
          0.16666666666666666,
          0.31333333333333335
         ],
         "showticklabels": true
        },
        "xaxis63": {
         "anchor": "y63",
         "categoryorder": "total descending",
         "domain": [
          0.3333333333333333,
          0.48
         ],
         "showticklabels": true
        },
        "xaxis64": {
         "anchor": "y64",
         "categoryorder": "total descending",
         "domain": [
          0.5,
          0.6466666666666667
         ],
         "showticklabels": true
        },
        "xaxis65": {
         "anchor": "y65",
         "categoryorder": "total descending",
         "domain": [
          0.6666666666666666,
          0.8133333333333332
         ],
         "showticklabels": true
        },
        "xaxis66": {
         "anchor": "y66",
         "categoryorder": "total descending",
         "domain": [
          0.8333333333333334,
          0.98
         ],
         "showticklabels": true
        },
        "xaxis67": {
         "anchor": "y67",
         "categoryorder": "total descending",
         "domain": [
          0,
          0.14666666666666667
         ],
         "showticklabels": true
        },
        "xaxis68": {
         "anchor": "y68",
         "categoryorder": "total descending",
         "domain": [
          0.16666666666666666,
          0.31333333333333335
         ],
         "showticklabels": true
        },
        "xaxis69": {
         "anchor": "y69",
         "categoryorder": "total descending",
         "domain": [
          0.3333333333333333,
          0.48
         ],
         "showticklabels": true
        },
        "xaxis7": {
         "anchor": "y7",
         "categoryorder": "total descending",
         "domain": [
          0,
          0.14666666666666667
         ],
         "showticklabels": true
        },
        "xaxis70": {
         "anchor": "y70",
         "categoryorder": "total descending",
         "domain": [
          0.5,
          0.6466666666666667
         ],
         "showticklabels": true
        },
        "xaxis71": {
         "anchor": "y71",
         "categoryorder": "total descending",
         "domain": [
          0.6666666666666666,
          0.8133333333333332
         ],
         "showticklabels": true
        },
        "xaxis72": {
         "anchor": "y72",
         "categoryorder": "total descending",
         "domain": [
          0.8333333333333334,
          0.98
         ],
         "showticklabels": true
        },
        "xaxis8": {
         "anchor": "y8",
         "categoryorder": "total descending",
         "domain": [
          0.16666666666666666,
          0.31333333333333335
         ],
         "showticklabels": true
        },
        "xaxis9": {
         "anchor": "y9",
         "categoryorder": "total descending",
         "domain": [
          0.3333333333333333,
          0.48
         ],
         "showticklabels": true
        },
        "yaxis": {
         "anchor": "x",
         "domain": [
          0,
          0.05583333333333333
         ],
         "showticklabels": true,
         "title": {
          "text": "count"
         }
        },
        "yaxis10": {
         "anchor": "x10",
         "domain": [
          0.08583333333333333,
          0.14166666666666666
         ],
         "showticklabels": true
        },
        "yaxis11": {
         "anchor": "x11",
         "domain": [
          0.08583333333333333,
          0.14166666666666666
         ],
         "showticklabels": true
        },
        "yaxis12": {
         "anchor": "x12",
         "domain": [
          0.08583333333333333,
          0.14166666666666666
         ],
         "showticklabels": true
        },
        "yaxis13": {
         "anchor": "x13",
         "domain": [
          0.17166666666666666,
          0.22749999999999998
         ],
         "showticklabels": true,
         "title": {
          "text": "count"
         }
        },
        "yaxis14": {
         "anchor": "x14",
         "domain": [
          0.17166666666666666,
          0.22749999999999998
         ],
         "showticklabels": true
        },
        "yaxis15": {
         "anchor": "x15",
         "domain": [
          0.17166666666666666,
          0.22749999999999998
         ],
         "showticklabels": true
        },
        "yaxis16": {
         "anchor": "x16",
         "domain": [
          0.17166666666666666,
          0.22749999999999998
         ],
         "showticklabels": true
        },
        "yaxis17": {
         "anchor": "x17",
         "domain": [
          0.17166666666666666,
          0.22749999999999998
         ],
         "showticklabels": true
        },
        "yaxis18": {
         "anchor": "x18",
         "domain": [
          0.17166666666666666,
          0.22749999999999998
         ],
         "showticklabels": true
        },
        "yaxis19": {
         "anchor": "x19",
         "domain": [
          0.25749999999999995,
          0.3133333333333333
         ],
         "showticklabels": true,
         "title": {
          "text": "count"
         }
        },
        "yaxis2": {
         "anchor": "x2",
         "domain": [
          0,
          0.05583333333333333
         ],
         "showticklabels": true
        },
        "yaxis20": {
         "anchor": "x20",
         "domain": [
          0.25749999999999995,
          0.3133333333333333
         ],
         "showticklabels": true
        },
        "yaxis21": {
         "anchor": "x21",
         "domain": [
          0.25749999999999995,
          0.3133333333333333
         ],
         "showticklabels": true
        },
        "yaxis22": {
         "anchor": "x22",
         "domain": [
          0.25749999999999995,
          0.3133333333333333
         ],
         "showticklabels": true
        },
        "yaxis23": {
         "anchor": "x23",
         "domain": [
          0.25749999999999995,
          0.3133333333333333
         ],
         "showticklabels": true
        },
        "yaxis24": {
         "anchor": "x24",
         "domain": [
          0.25749999999999995,
          0.3133333333333333
         ],
         "showticklabels": true
        },
        "yaxis25": {
         "anchor": "x25",
         "domain": [
          0.3433333333333333,
          0.39916666666666667
         ],
         "showticklabels": true,
         "title": {
          "text": "count"
         }
        },
        "yaxis26": {
         "anchor": "x26",
         "domain": [
          0.3433333333333333,
          0.39916666666666667
         ],
         "showticklabels": true
        },
        "yaxis27": {
         "anchor": "x27",
         "domain": [
          0.3433333333333333,
          0.39916666666666667
         ],
         "showticklabels": true
        },
        "yaxis28": {
         "anchor": "x28",
         "domain": [
          0.3433333333333333,
          0.39916666666666667
         ],
         "showticklabels": true
        },
        "yaxis29": {
         "anchor": "x29",
         "domain": [
          0.3433333333333333,
          0.39916666666666667
         ],
         "showticklabels": true
        },
        "yaxis3": {
         "anchor": "x3",
         "domain": [
          0,
          0.05583333333333333
         ],
         "showticklabels": true
        },
        "yaxis30": {
         "anchor": "x30",
         "domain": [
          0.3433333333333333,
          0.39916666666666667
         ],
         "showticklabels": true
        },
        "yaxis31": {
         "anchor": "x31",
         "domain": [
          0.4291666666666667,
          0.48500000000000004
         ],
         "showticklabels": true,
         "title": {
          "text": "count"
         }
        },
        "yaxis32": {
         "anchor": "x32",
         "domain": [
          0.4291666666666667,
          0.48500000000000004
         ],
         "showticklabels": true
        },
        "yaxis33": {
         "anchor": "x33",
         "domain": [
          0.4291666666666667,
          0.48500000000000004
         ],
         "showticklabels": true
        },
        "yaxis34": {
         "anchor": "x34",
         "domain": [
          0.4291666666666667,
          0.48500000000000004
         ],
         "showticklabels": true
        },
        "yaxis35": {
         "anchor": "x35",
         "domain": [
          0.4291666666666667,
          0.48500000000000004
         ],
         "showticklabels": true
        },
        "yaxis36": {
         "anchor": "x36",
         "domain": [
          0.4291666666666667,
          0.48500000000000004
         ],
         "showticklabels": true
        },
        "yaxis37": {
         "anchor": "x37",
         "domain": [
          0.515,
          0.5708333333333333
         ],
         "showticklabels": true,
         "title": {
          "text": "count"
         }
        },
        "yaxis38": {
         "anchor": "x38",
         "domain": [
          0.515,
          0.5708333333333333
         ],
         "showticklabels": true
        },
        "yaxis39": {
         "anchor": "x39",
         "domain": [
          0.515,
          0.5708333333333333
         ],
         "showticklabels": true
        },
        "yaxis4": {
         "anchor": "x4",
         "domain": [
          0,
          0.05583333333333333
         ],
         "showticklabels": true
        },
        "yaxis40": {
         "anchor": "x40",
         "domain": [
          0.515,
          0.5708333333333333
         ],
         "showticklabels": true
        },
        "yaxis41": {
         "anchor": "x41",
         "domain": [
          0.515,
          0.5708333333333333
         ],
         "showticklabels": true
        },
        "yaxis42": {
         "anchor": "x42",
         "domain": [
          0.515,
          0.5708333333333333
         ],
         "showticklabels": true
        },
        "yaxis43": {
         "anchor": "x43",
         "domain": [
          0.6008333333333333,
          0.6566666666666666
         ],
         "showticklabels": true,
         "title": {
          "text": "count"
         }
        },
        "yaxis44": {
         "anchor": "x44",
         "domain": [
          0.6008333333333333,
          0.6566666666666666
         ],
         "showticklabels": true
        },
        "yaxis45": {
         "anchor": "x45",
         "domain": [
          0.6008333333333333,
          0.6566666666666666
         ],
         "showticklabels": true
        },
        "yaxis46": {
         "anchor": "x46",
         "domain": [
          0.6008333333333333,
          0.6566666666666666
         ],
         "showticklabels": true
        },
        "yaxis47": {
         "anchor": "x47",
         "domain": [
          0.6008333333333333,
          0.6566666666666666
         ],
         "showticklabels": true
        },
        "yaxis48": {
         "anchor": "x48",
         "domain": [
          0.6008333333333333,
          0.6566666666666666
         ],
         "showticklabels": true
        },
        "yaxis49": {
         "anchor": "x49",
         "domain": [
          0.6866666666666668,
          0.7425
         ],
         "showticklabels": true,
         "title": {
          "text": "count"
         }
        },
        "yaxis5": {
         "anchor": "x5",
         "domain": [
          0,
          0.05583333333333333
         ],
         "showticklabels": true
        },
        "yaxis50": {
         "anchor": "x50",
         "domain": [
          0.6866666666666668,
          0.7425
         ],
         "showticklabels": true
        },
        "yaxis51": {
         "anchor": "x51",
         "domain": [
          0.6866666666666668,
          0.7425
         ],
         "showticklabels": true
        },
        "yaxis52": {
         "anchor": "x52",
         "domain": [
          0.6866666666666668,
          0.7425
         ],
         "showticklabels": true
        },
        "yaxis53": {
         "anchor": "x53",
         "domain": [
          0.6866666666666668,
          0.7425
         ],
         "showticklabels": true
        },
        "yaxis54": {
         "anchor": "x54",
         "domain": [
          0.6866666666666668,
          0.7425
         ],
         "showticklabels": true
        },
        "yaxis55": {
         "anchor": "x55",
         "domain": [
          0.7725000000000001,
          0.8283333333333334
         ],
         "showticklabels": true,
         "title": {
          "text": "count"
         }
        },
        "yaxis56": {
         "anchor": "x56",
         "domain": [
          0.7725000000000001,
          0.8283333333333334
         ],
         "showticklabels": true
        },
        "yaxis57": {
         "anchor": "x57",
         "domain": [
          0.7725000000000001,
          0.8283333333333334
         ],
         "showticklabels": true
        },
        "yaxis58": {
         "anchor": "x58",
         "domain": [
          0.7725000000000001,
          0.8283333333333334
         ],
         "showticklabels": true
        },
        "yaxis59": {
         "anchor": "x59",
         "domain": [
          0.7725000000000001,
          0.8283333333333334
         ],
         "showticklabels": true
        },
        "yaxis6": {
         "anchor": "x6",
         "domain": [
          0,
          0.05583333333333333
         ],
         "showticklabels": true
        },
        "yaxis60": {
         "anchor": "x60",
         "domain": [
          0.7725000000000001,
          0.8283333333333334
         ],
         "showticklabels": true
        },
        "yaxis61": {
         "anchor": "x61",
         "domain": [
          0.8583333333333334,
          0.9141666666666667
         ],
         "showticklabels": true,
         "title": {
          "text": "count"
         }
        },
        "yaxis62": {
         "anchor": "x62",
         "domain": [
          0.8583333333333334,
          0.9141666666666667
         ],
         "showticklabels": true
        },
        "yaxis63": {
         "anchor": "x63",
         "domain": [
          0.8583333333333334,
          0.9141666666666667
         ],
         "showticklabels": true
        },
        "yaxis64": {
         "anchor": "x64",
         "domain": [
          0.8583333333333334,
          0.9141666666666667
         ],
         "showticklabels": true
        },
        "yaxis65": {
         "anchor": "x65",
         "domain": [
          0.8583333333333334,
          0.9141666666666667
         ],
         "showticklabels": true
        },
        "yaxis66": {
         "anchor": "x66",
         "domain": [
          0.8583333333333334,
          0.9141666666666667
         ],
         "showticklabels": true
        },
        "yaxis67": {
         "anchor": "x67",
         "domain": [
          0.9441666666666666,
          0.9999999999999999
         ],
         "showticklabels": true,
         "title": {
          "text": "count"
         }
        },
        "yaxis68": {
         "anchor": "x68",
         "domain": [
          0.9441666666666666,
          0.9999999999999999
         ],
         "showticklabels": true
        },
        "yaxis69": {
         "anchor": "x69",
         "domain": [
          0.9441666666666666,
          0.9999999999999999
         ],
         "showticklabels": true
        },
        "yaxis7": {
         "anchor": "x7",
         "domain": [
          0.08583333333333333,
          0.14166666666666666
         ],
         "showticklabels": true,
         "title": {
          "text": "count"
         }
        },
        "yaxis70": {
         "anchor": "x70",
         "domain": [
          0.9441666666666666,
          0.9999999999999999
         ],
         "showticklabels": true
        },
        "yaxis71": {
         "anchor": "x71",
         "domain": [
          0.9441666666666666,
          0.9999999999999999
         ],
         "showticklabels": true
        },
        "yaxis72": {
         "anchor": "x72",
         "domain": [
          0.9441666666666666,
          0.9999999999999999
         ],
         "showticklabels": true
        },
        "yaxis8": {
         "anchor": "x8",
         "domain": [
          0.08583333333333333,
          0.14166666666666666
         ],
         "showticklabels": true
        },
        "yaxis9": {
         "anchor": "x9",
         "domain": [
          0.08583333333333333,
          0.14166666666666666
         ],
         "showticklabels": true
        }
       }
      }
     },
     "metadata": {},
     "output_type": "display_data"
    }
   ],
   "source": [
    "fig = px.bar(\n",
    "    top30_df,\n",
    "    x=\"word\",\n",
    "    y=\"count\",\n",
    "    facet_row=\"newspaper\",\n",
    "    facet_col=\"week\",\n",
    "    color=\"hot_topics\",\n",
    "    color_discrete_sequence=gruvbox_colors,\n",
    "    title=\"Top 30 words per newspaper per week\",\n",
    "    height=3200,\n",
    "    width=3200\n",
    "    )\n",
    "\n",
    "fig.for_each_annotation(lambda a: a.update(text=f\"{a.text.split('=')[-1]}\"))\n",
    "fig.update_xaxes(matches=None, showticklabels=True, categoryorder='total descending')\n",
    "fig.update_yaxes(matches=None, showticklabels=True)\n",
    "\n",
    "fig.write_html(f\"{BASE_DIR}/reports/top30_bar-{TIME_STAMPS[0]}-{TIME_STAMPS[-1]}.html\")\n",
    "\n",
    "fig.show()"
   ]
  },
  {
   "attachments": {},
   "cell_type": "markdown",
   "metadata": {},
   "source": [
    "## Number of words"
   ]
  },
  {
   "cell_type": "code",
   "execution_count": 26,
   "metadata": {},
   "outputs": [],
   "source": [
    "unique_list = []\n",
    "\n",
    "# Identify the non-zero items in the document-term matrix\n",
    "for newspaper in dtm_newspaper.columns:\n",
    "    uniques = dtm_newspaper[newspaper].to_numpy().nonzero()[0].size\n",
    "    unique_list.append(uniques)\n",
    "\n",
    "# Create a new datafra,e that contains this unique word count\n",
    "data_words = pd.DataFrame(list(zip(dtm_newspaper.columns, unique_list)), columns=['newspaper', 'unique_words'])\n",
    "data_words.set_index('newspaper', inplace=True)\n",
    "data_words.sort_values(by='unique_words', ascending=False)\n",
    "data_words.reset_index(inplace=True)"
   ]
  },
  {
   "cell_type": "code",
   "execution_count": 27,
   "metadata": {},
   "outputs": [],
   "source": [
    "data_words[[\"newspaper\", \"year_week\"]] = data_words[\"newspaper\"].str.split(r\"-\", expand=True)\n",
    "data_words[[\"year\", \"week\"]] = data_words[\"year_week\"].str.split(r\"_\", expand=True)\n",
    "\n",
    "data_words.drop([\"year_week\"], axis=1, inplace=True)\n",
    "\n",
    "data_words[\"year\"] = pd.to_numeric(data_words[\"year\"])\n",
    "data_words[\"week\"] = pd.to_numeric(data_words[\"week\"])"
   ]
  },
  {
   "cell_type": "code",
   "execution_count": 28,
   "metadata": {},
   "outputs": [
    {
     "data": {
      "text/html": [
       "<div>\n",
       "<style scoped>\n",
       "    .dataframe tbody tr th:only-of-type {\n",
       "        vertical-align: middle;\n",
       "    }\n",
       "\n",
       "    .dataframe tbody tr th {\n",
       "        vertical-align: top;\n",
       "    }\n",
       "\n",
       "    .dataframe thead th {\n",
       "        text-align: right;\n",
       "    }\n",
       "</style>\n",
       "<table border=\"1\" class=\"dataframe\">\n",
       "  <thead>\n",
       "    <tr style=\"text-align: right;\">\n",
       "      <th></th>\n",
       "      <th>newspaper</th>\n",
       "      <th>unique_words</th>\n",
       "      <th>year</th>\n",
       "      <th>week</th>\n",
       "    </tr>\n",
       "  </thead>\n",
       "  <tbody>\n",
       "    <tr>\n",
       "      <th>0</th>\n",
       "      <td>elcomercio_peru</td>\n",
       "      <td>2128</td>\n",
       "      <td>2022</td>\n",
       "      <td>34</td>\n",
       "    </tr>\n",
       "    <tr>\n",
       "      <th>1</th>\n",
       "      <td>larepublica_pe</td>\n",
       "      <td>4841</td>\n",
       "      <td>2022</td>\n",
       "      <td>34</td>\n",
       "    </tr>\n",
       "    <tr>\n",
       "      <th>2</th>\n",
       "      <td>peru21noticias</td>\n",
       "      <td>4087</td>\n",
       "      <td>2022</td>\n",
       "      <td>34</td>\n",
       "    </tr>\n",
       "    <tr>\n",
       "      <th>3</th>\n",
       "      <td>tromepe</td>\n",
       "      <td>3290</td>\n",
       "      <td>2022</td>\n",
       "      <td>34</td>\n",
       "    </tr>\n",
       "    <tr>\n",
       "      <th>4</th>\n",
       "      <td>Gestionpe</td>\n",
       "      <td>2187</td>\n",
       "      <td>2022</td>\n",
       "      <td>34</td>\n",
       "    </tr>\n",
       "  </tbody>\n",
       "</table>\n",
       "</div>"
      ],
      "text/plain": [
       "         newspaper  unique_words  year  week\n",
       "0  elcomercio_peru          2128  2022    34\n",
       "1   larepublica_pe          4841  2022    34\n",
       "2   peru21noticias          4087  2022    34\n",
       "3          tromepe          3290  2022    34\n",
       "4        Gestionpe          2187  2022    34"
      ]
     },
     "execution_count": 28,
     "metadata": {},
     "output_type": "execute_result"
    }
   ],
   "source": [
    "data_words.head()"
   ]
  },
  {
   "cell_type": "code",
   "execution_count": 29,
   "metadata": {},
   "outputs": [
    {
     "name": "stdout",
     "output_type": "stream",
     "text": [
      "<class 'pandas.core.frame.DataFrame'>\n",
      "RangeIndex: 72 entries, 0 to 71\n",
      "Data columns (total 4 columns):\n",
      " #   Column        Non-Null Count  Dtype \n",
      "---  ------        --------------  ----- \n",
      " 0   newspaper     72 non-null     object\n",
      " 1   unique_words  72 non-null     int64 \n",
      " 2   year          72 non-null     int64 \n",
      " 3   week          72 non-null     int64 \n",
      "dtypes: int64(3), object(1)\n",
      "memory usage: 2.4+ KB\n"
     ]
    }
   ],
   "source": [
    "data_words.info()"
   ]
  },
  {
   "attachments": {},
   "cell_type": "markdown",
   "metadata": {},
   "source": [
    "Since the number of unique words might be linked to the number of tweets, I will add a column with the number of tweets for each newspaper."
   ]
  },
  {
   "cell_type": "code",
   "execution_count": 30,
   "metadata": {},
   "outputs": [],
   "source": [
    "tweet_number = pd.DataFrame(corpus.groupby(by=[\"newspaper\", \"year\", \"week\"]).count()[\"id\"])\n",
    "tweet_number.rename(columns={'id':'tweet_number'}, inplace=True)"
   ]
  },
  {
   "cell_type": "code",
   "execution_count": 31,
   "metadata": {},
   "outputs": [],
   "source": [
    "tweet_number.reset_index(inplace=True)"
   ]
  },
  {
   "cell_type": "code",
   "execution_count": 32,
   "metadata": {},
   "outputs": [
    {
     "name": "stdout",
     "output_type": "stream",
     "text": [
      "<class 'pandas.core.frame.DataFrame'>\n",
      "RangeIndex: 70 entries, 0 to 69\n",
      "Data columns (total 4 columns):\n",
      " #   Column        Non-Null Count  Dtype \n",
      "---  ------        --------------  ----- \n",
      " 0   newspaper     70 non-null     object\n",
      " 1   year          70 non-null     UInt32\n",
      " 2   week          70 non-null     UInt32\n",
      " 3   tweet_number  70 non-null     int64 \n",
      "dtypes: UInt32(2), int64(1), object(1)\n",
      "memory usage: 1.9+ KB\n"
     ]
    }
   ],
   "source": [
    "tweet_number.info()"
   ]
  },
  {
   "cell_type": "code",
   "execution_count": 33,
   "metadata": {},
   "outputs": [],
   "source": [
    "data_words = data_words.merge(tweet_number)"
   ]
  },
  {
   "cell_type": "code",
   "execution_count": 34,
   "metadata": {},
   "outputs": [
    {
     "data": {
      "text/html": [
       "<div>\n",
       "<style scoped>\n",
       "    .dataframe tbody tr th:only-of-type {\n",
       "        vertical-align: middle;\n",
       "    }\n",
       "\n",
       "    .dataframe tbody tr th {\n",
       "        vertical-align: top;\n",
       "    }\n",
       "\n",
       "    .dataframe thead th {\n",
       "        text-align: right;\n",
       "    }\n",
       "</style>\n",
       "<table border=\"1\" class=\"dataframe\">\n",
       "  <thead>\n",
       "    <tr style=\"text-align: right;\">\n",
       "      <th></th>\n",
       "      <th>newspaper</th>\n",
       "      <th>unique_words</th>\n",
       "      <th>year</th>\n",
       "      <th>week</th>\n",
       "      <th>tweet_number</th>\n",
       "    </tr>\n",
       "  </thead>\n",
       "  <tbody>\n",
       "    <tr>\n",
       "      <th>0</th>\n",
       "      <td>elcomercio_peru</td>\n",
       "      <td>2128</td>\n",
       "      <td>2022</td>\n",
       "      <td>34</td>\n",
       "      <td>457</td>\n",
       "    </tr>\n",
       "    <tr>\n",
       "      <th>1</th>\n",
       "      <td>larepublica_pe</td>\n",
       "      <td>4841</td>\n",
       "      <td>2022</td>\n",
       "      <td>34</td>\n",
       "      <td>827</td>\n",
       "    </tr>\n",
       "    <tr>\n",
       "      <th>2</th>\n",
       "      <td>peru21noticias</td>\n",
       "      <td>4087</td>\n",
       "      <td>2022</td>\n",
       "      <td>34</td>\n",
       "      <td>961</td>\n",
       "    </tr>\n",
       "    <tr>\n",
       "      <th>3</th>\n",
       "      <td>tromepe</td>\n",
       "      <td>3290</td>\n",
       "      <td>2022</td>\n",
       "      <td>34</td>\n",
       "      <td>807</td>\n",
       "    </tr>\n",
       "    <tr>\n",
       "      <th>4</th>\n",
       "      <td>Gestionpe</td>\n",
       "      <td>2187</td>\n",
       "      <td>2022</td>\n",
       "      <td>34</td>\n",
       "      <td>848</td>\n",
       "    </tr>\n",
       "  </tbody>\n",
       "</table>\n",
       "</div>"
      ],
      "text/plain": [
       "         newspaper  unique_words  year  week  tweet_number\n",
       "0  elcomercio_peru          2128  2022    34           457\n",
       "1   larepublica_pe          4841  2022    34           827\n",
       "2   peru21noticias          4087  2022    34           961\n",
       "3          tromepe          3290  2022    34           807\n",
       "4        Gestionpe          2187  2022    34           848"
      ]
     },
     "execution_count": 34,
     "metadata": {},
     "output_type": "execute_result"
    }
   ],
   "source": [
    "data_words.head()"
   ]
  },
  {
   "cell_type": "code",
   "execution_count": 35,
   "metadata": {},
   "outputs": [
    {
     "name": "stdout",
     "output_type": "stream",
     "text": [
      "<class 'pandas.core.frame.DataFrame'>\n",
      "Int64Index: 70 entries, 0 to 69\n",
      "Data columns (total 5 columns):\n",
      " #   Column        Non-Null Count  Dtype \n",
      "---  ------        --------------  ----- \n",
      " 0   newspaper     70 non-null     object\n",
      " 1   unique_words  70 non-null     int64 \n",
      " 2   year          70 non-null     int64 \n",
      " 3   week          70 non-null     int64 \n",
      " 4   tweet_number  70 non-null     int64 \n",
      "dtypes: int64(4), object(1)\n",
      "memory usage: 3.3+ KB\n"
     ]
    }
   ],
   "source": [
    "data_words.info()"
   ]
  },
  {
   "cell_type": "code",
   "execution_count": 36,
   "metadata": {},
   "outputs": [
    {
     "data": {
      "text/html": [
       "<div>\n",
       "<style scoped>\n",
       "    .dataframe tbody tr th:only-of-type {\n",
       "        vertical-align: middle;\n",
       "    }\n",
       "\n",
       "    .dataframe tbody tr th {\n",
       "        vertical-align: top;\n",
       "    }\n",
       "\n",
       "    .dataframe thead th {\n",
       "        text-align: right;\n",
       "    }\n",
       "</style>\n",
       "<table border=\"1\" class=\"dataframe\">\n",
       "  <thead>\n",
       "    <tr style=\"text-align: right;\">\n",
       "      <th></th>\n",
       "      <th>newspaper</th>\n",
       "      <th>unique_words</th>\n",
       "      <th>year</th>\n",
       "      <th>week</th>\n",
       "      <th>tweet_number</th>\n",
       "      <th>word_tweet_ratio</th>\n",
       "    </tr>\n",
       "  </thead>\n",
       "  <tbody>\n",
       "    <tr>\n",
       "      <th>11</th>\n",
       "      <td>ensustrece</td>\n",
       "      <td>342</td>\n",
       "      <td>2022</td>\n",
       "      <td>34</td>\n",
       "      <td>24</td>\n",
       "      <td>14.25</td>\n",
       "    </tr>\n",
       "    <tr>\n",
       "      <th>57</th>\n",
       "      <td>ensustrece</td>\n",
       "      <td>261</td>\n",
       "      <td>2022</td>\n",
       "      <td>49</td>\n",
       "      <td>22</td>\n",
       "      <td>11.86</td>\n",
       "    </tr>\n",
       "    <tr>\n",
       "      <th>69</th>\n",
       "      <td>ensustrece</td>\n",
       "      <td>186</td>\n",
       "      <td>2023</td>\n",
       "      <td>2</td>\n",
       "      <td>16</td>\n",
       "      <td>11.62</td>\n",
       "    </tr>\n",
       "    <tr>\n",
       "      <th>33</th>\n",
       "      <td>ensustrece</td>\n",
       "      <td>215</td>\n",
       "      <td>2022</td>\n",
       "      <td>39</td>\n",
       "      <td>19</td>\n",
       "      <td>11.32</td>\n",
       "    </tr>\n",
       "    <tr>\n",
       "      <th>45</th>\n",
       "      <td>ensustrece</td>\n",
       "      <td>59</td>\n",
       "      <td>2022</td>\n",
       "      <td>44</td>\n",
       "      <td>6</td>\n",
       "      <td>9.83</td>\n",
       "    </tr>\n",
       "    <tr>\n",
       "      <th>42</th>\n",
       "      <td>DiarioElPeruano</td>\n",
       "      <td>1729</td>\n",
       "      <td>2022</td>\n",
       "      <td>44</td>\n",
       "      <td>186</td>\n",
       "      <td>9.30</td>\n",
       "    </tr>\n",
       "    <tr>\n",
       "      <th>8</th>\n",
       "      <td>DiarioElPeruano</td>\n",
       "      <td>1745</td>\n",
       "      <td>2022</td>\n",
       "      <td>34</td>\n",
       "      <td>200</td>\n",
       "      <td>8.72</td>\n",
       "    </tr>\n",
       "    <tr>\n",
       "      <th>20</th>\n",
       "      <td>DiarioElPeruano</td>\n",
       "      <td>1883</td>\n",
       "      <td>2022</td>\n",
       "      <td>33</td>\n",
       "      <td>229</td>\n",
       "      <td>8.22</td>\n",
       "    </tr>\n",
       "    <tr>\n",
       "      <th>10</th>\n",
       "      <td>elbuho_pe</td>\n",
       "      <td>474</td>\n",
       "      <td>2022</td>\n",
       "      <td>34</td>\n",
       "      <td>58</td>\n",
       "      <td>8.17</td>\n",
       "    </tr>\n",
       "    <tr>\n",
       "      <th>54</th>\n",
       "      <td>DiarioElPeruano</td>\n",
       "      <td>1623</td>\n",
       "      <td>2022</td>\n",
       "      <td>49</td>\n",
       "      <td>201</td>\n",
       "      <td>8.07</td>\n",
       "    </tr>\n",
       "    <tr>\n",
       "      <th>43</th>\n",
       "      <td>larazon_pe</td>\n",
       "      <td>460</td>\n",
       "      <td>2022</td>\n",
       "      <td>44</td>\n",
       "      <td>57</td>\n",
       "      <td>8.07</td>\n",
       "    </tr>\n",
       "    <tr>\n",
       "      <th>30</th>\n",
       "      <td>DiarioElPeruano</td>\n",
       "      <td>1811</td>\n",
       "      <td>2022</td>\n",
       "      <td>39</td>\n",
       "      <td>226</td>\n",
       "      <td>8.01</td>\n",
       "    </tr>\n",
       "    <tr>\n",
       "      <th>66</th>\n",
       "      <td>DiarioElPeruano</td>\n",
       "      <td>1700</td>\n",
       "      <td>2023</td>\n",
       "      <td>2</td>\n",
       "      <td>216</td>\n",
       "      <td>7.87</td>\n",
       "    </tr>\n",
       "    <tr>\n",
       "      <th>55</th>\n",
       "      <td>larazon_pe</td>\n",
       "      <td>544</td>\n",
       "      <td>2022</td>\n",
       "      <td>49</td>\n",
       "      <td>70</td>\n",
       "      <td>7.77</td>\n",
       "    </tr>\n",
       "    <tr>\n",
       "      <th>44</th>\n",
       "      <td>elbuho_pe</td>\n",
       "      <td>576</td>\n",
       "      <td>2022</td>\n",
       "      <td>44</td>\n",
       "      <td>77</td>\n",
       "      <td>7.48</td>\n",
       "    </tr>\n",
       "    <tr>\n",
       "      <th>67</th>\n",
       "      <td>larazon_pe</td>\n",
       "      <td>402</td>\n",
       "      <td>2023</td>\n",
       "      <td>2</td>\n",
       "      <td>57</td>\n",
       "      <td>7.05</td>\n",
       "    </tr>\n",
       "    <tr>\n",
       "      <th>56</th>\n",
       "      <td>elbuho_pe</td>\n",
       "      <td>518</td>\n",
       "      <td>2022</td>\n",
       "      <td>49</td>\n",
       "      <td>77</td>\n",
       "      <td>6.73</td>\n",
       "    </tr>\n",
       "    <tr>\n",
       "      <th>31</th>\n",
       "      <td>larazon_pe</td>\n",
       "      <td>362</td>\n",
       "      <td>2022</td>\n",
       "      <td>39</td>\n",
       "      <td>58</td>\n",
       "      <td>6.24</td>\n",
       "    </tr>\n",
       "    <tr>\n",
       "      <th>35</th>\n",
       "      <td>larepublica_pe</td>\n",
       "      <td>4298</td>\n",
       "      <td>2022</td>\n",
       "      <td>44</td>\n",
       "      <td>691</td>\n",
       "      <td>6.22</td>\n",
       "    </tr>\n",
       "    <tr>\n",
       "      <th>1</th>\n",
       "      <td>larepublica_pe</td>\n",
       "      <td>4841</td>\n",
       "      <td>2022</td>\n",
       "      <td>34</td>\n",
       "      <td>827</td>\n",
       "      <td>5.85</td>\n",
       "    </tr>\n",
       "    <tr>\n",
       "      <th>68</th>\n",
       "      <td>elbuho_pe</td>\n",
       "      <td>612</td>\n",
       "      <td>2023</td>\n",
       "      <td>2</td>\n",
       "      <td>105</td>\n",
       "      <td>5.83</td>\n",
       "    </tr>\n",
       "    <tr>\n",
       "      <th>59</th>\n",
       "      <td>larepublica_pe</td>\n",
       "      <td>3814</td>\n",
       "      <td>2023</td>\n",
       "      <td>2</td>\n",
       "      <td>679</td>\n",
       "      <td>5.62</td>\n",
       "    </tr>\n",
       "    <tr>\n",
       "      <th>23</th>\n",
       "      <td>larepublica_pe</td>\n",
       "      <td>4681</td>\n",
       "      <td>2022</td>\n",
       "      <td>39</td>\n",
       "      <td>834</td>\n",
       "      <td>5.61</td>\n",
       "    </tr>\n",
       "    <tr>\n",
       "      <th>32</th>\n",
       "      <td>elbuho_pe</td>\n",
       "      <td>535</td>\n",
       "      <td>2022</td>\n",
       "      <td>39</td>\n",
       "      <td>97</td>\n",
       "      <td>5.52</td>\n",
       "    </tr>\n",
       "    <tr>\n",
       "      <th>13</th>\n",
       "      <td>larepublica_pe</td>\n",
       "      <td>6011</td>\n",
       "      <td>2022</td>\n",
       "      <td>33</td>\n",
       "      <td>1117</td>\n",
       "      <td>5.38</td>\n",
       "    </tr>\n",
       "    <tr>\n",
       "      <th>47</th>\n",
       "      <td>larepublica_pe</td>\n",
       "      <td>4450</td>\n",
       "      <td>2022</td>\n",
       "      <td>49</td>\n",
       "      <td>924</td>\n",
       "      <td>4.82</td>\n",
       "    </tr>\n",
       "    <tr>\n",
       "      <th>40</th>\n",
       "      <td>ExpresoPeru</td>\n",
       "      <td>936</td>\n",
       "      <td>2022</td>\n",
       "      <td>44</td>\n",
       "      <td>195</td>\n",
       "      <td>4.80</td>\n",
       "    </tr>\n",
       "    <tr>\n",
       "      <th>60</th>\n",
       "      <td>peru21noticias</td>\n",
       "      <td>2513</td>\n",
       "      <td>2023</td>\n",
       "      <td>2</td>\n",
       "      <td>525</td>\n",
       "      <td>4.79</td>\n",
       "    </tr>\n",
       "    <tr>\n",
       "      <th>34</th>\n",
       "      <td>elcomercio_peru</td>\n",
       "      <td>2058</td>\n",
       "      <td>2022</td>\n",
       "      <td>44</td>\n",
       "      <td>433</td>\n",
       "      <td>4.75</td>\n",
       "    </tr>\n",
       "    <tr>\n",
       "      <th>36</th>\n",
       "      <td>peru21noticias</td>\n",
       "      <td>3532</td>\n",
       "      <td>2022</td>\n",
       "      <td>44</td>\n",
       "      <td>752</td>\n",
       "      <td>4.70</td>\n",
       "    </tr>\n",
       "    <tr>\n",
       "      <th>0</th>\n",
       "      <td>elcomercio_peru</td>\n",
       "      <td>2128</td>\n",
       "      <td>2022</td>\n",
       "      <td>34</td>\n",
       "      <td>457</td>\n",
       "      <td>4.66</td>\n",
       "    </tr>\n",
       "    <tr>\n",
       "      <th>58</th>\n",
       "      <td>elcomercio_peru</td>\n",
       "      <td>2142</td>\n",
       "      <td>2023</td>\n",
       "      <td>2</td>\n",
       "      <td>462</td>\n",
       "      <td>4.64</td>\n",
       "    </tr>\n",
       "    <tr>\n",
       "      <th>63</th>\n",
       "      <td>diariocorreo</td>\n",
       "      <td>1423</td>\n",
       "      <td>2023</td>\n",
       "      <td>2</td>\n",
       "      <td>308</td>\n",
       "      <td>4.62</td>\n",
       "    </tr>\n",
       "    <tr>\n",
       "      <th>46</th>\n",
       "      <td>elcomercio_peru</td>\n",
       "      <td>2042</td>\n",
       "      <td>2022</td>\n",
       "      <td>49</td>\n",
       "      <td>442</td>\n",
       "      <td>4.62</td>\n",
       "    </tr>\n",
       "    <tr>\n",
       "      <th>6</th>\n",
       "      <td>ExpresoPeru</td>\n",
       "      <td>956</td>\n",
       "      <td>2022</td>\n",
       "      <td>34</td>\n",
       "      <td>208</td>\n",
       "      <td>4.60</td>\n",
       "    </tr>\n",
       "    <tr>\n",
       "      <th>65</th>\n",
       "      <td>diarioojo</td>\n",
       "      <td>1490</td>\n",
       "      <td>2023</td>\n",
       "      <td>2</td>\n",
       "      <td>329</td>\n",
       "      <td>4.53</td>\n",
       "    </tr>\n",
       "    <tr>\n",
       "      <th>39</th>\n",
       "      <td>diariocorreo</td>\n",
       "      <td>2055</td>\n",
       "      <td>2022</td>\n",
       "      <td>44</td>\n",
       "      <td>457</td>\n",
       "      <td>4.50</td>\n",
       "    </tr>\n",
       "    <tr>\n",
       "      <th>12</th>\n",
       "      <td>elcomercio_peru</td>\n",
       "      <td>2624</td>\n",
       "      <td>2022</td>\n",
       "      <td>33</td>\n",
       "      <td>584</td>\n",
       "      <td>4.49</td>\n",
       "    </tr>\n",
       "    <tr>\n",
       "      <th>22</th>\n",
       "      <td>elcomercio_peru</td>\n",
       "      <td>2295</td>\n",
       "      <td>2022</td>\n",
       "      <td>39</td>\n",
       "      <td>512</td>\n",
       "      <td>4.48</td>\n",
       "    </tr>\n",
       "    <tr>\n",
       "      <th>7</th>\n",
       "      <td>diarioojo</td>\n",
       "      <td>2466</td>\n",
       "      <td>2022</td>\n",
       "      <td>34</td>\n",
       "      <td>555</td>\n",
       "      <td>4.44</td>\n",
       "    </tr>\n",
       "    <tr>\n",
       "      <th>28</th>\n",
       "      <td>ExpresoPeru</td>\n",
       "      <td>1145</td>\n",
       "      <td>2022</td>\n",
       "      <td>39</td>\n",
       "      <td>259</td>\n",
       "      <td>4.42</td>\n",
       "    </tr>\n",
       "    <tr>\n",
       "      <th>41</th>\n",
       "      <td>diarioojo</td>\n",
       "      <td>2447</td>\n",
       "      <td>2022</td>\n",
       "      <td>44</td>\n",
       "      <td>555</td>\n",
       "      <td>4.41</td>\n",
       "    </tr>\n",
       "    <tr>\n",
       "      <th>29</th>\n",
       "      <td>diarioojo</td>\n",
       "      <td>2411</td>\n",
       "      <td>2022</td>\n",
       "      <td>39</td>\n",
       "      <td>550</td>\n",
       "      <td>4.38</td>\n",
       "    </tr>\n",
       "    <tr>\n",
       "      <th>64</th>\n",
       "      <td>ExpresoPeru</td>\n",
       "      <td>1105</td>\n",
       "      <td>2023</td>\n",
       "      <td>2</td>\n",
       "      <td>255</td>\n",
       "      <td>4.33</td>\n",
       "    </tr>\n",
       "    <tr>\n",
       "      <th>24</th>\n",
       "      <td>peru21noticias</td>\n",
       "      <td>4190</td>\n",
       "      <td>2022</td>\n",
       "      <td>39</td>\n",
       "      <td>970</td>\n",
       "      <td>4.32</td>\n",
       "    </tr>\n",
       "    <tr>\n",
       "      <th>5</th>\n",
       "      <td>diariocorreo</td>\n",
       "      <td>2046</td>\n",
       "      <td>2022</td>\n",
       "      <td>34</td>\n",
       "      <td>474</td>\n",
       "      <td>4.32</td>\n",
       "    </tr>\n",
       "    <tr>\n",
       "      <th>21</th>\n",
       "      <td>larazon_pe</td>\n",
       "      <td>456</td>\n",
       "      <td>2022</td>\n",
       "      <td>33</td>\n",
       "      <td>106</td>\n",
       "      <td>4.30</td>\n",
       "    </tr>\n",
       "    <tr>\n",
       "      <th>61</th>\n",
       "      <td>tromepe</td>\n",
       "      <td>2685</td>\n",
       "      <td>2023</td>\n",
       "      <td>2</td>\n",
       "      <td>628</td>\n",
       "      <td>4.28</td>\n",
       "    </tr>\n",
       "    <tr>\n",
       "      <th>52</th>\n",
       "      <td>ExpresoPeru</td>\n",
       "      <td>1066</td>\n",
       "      <td>2022</td>\n",
       "      <td>49</td>\n",
       "      <td>250</td>\n",
       "      <td>4.26</td>\n",
       "    </tr>\n",
       "    <tr>\n",
       "      <th>2</th>\n",
       "      <td>peru21noticias</td>\n",
       "      <td>4087</td>\n",
       "      <td>2022</td>\n",
       "      <td>34</td>\n",
       "      <td>961</td>\n",
       "      <td>4.25</td>\n",
       "    </tr>\n",
       "    <tr>\n",
       "      <th>53</th>\n",
       "      <td>diarioojo</td>\n",
       "      <td>2433</td>\n",
       "      <td>2022</td>\n",
       "      <td>49</td>\n",
       "      <td>574</td>\n",
       "      <td>4.24</td>\n",
       "    </tr>\n",
       "    <tr>\n",
       "      <th>37</th>\n",
       "      <td>tromepe</td>\n",
       "      <td>3179</td>\n",
       "      <td>2022</td>\n",
       "      <td>44</td>\n",
       "      <td>759</td>\n",
       "      <td>4.19</td>\n",
       "    </tr>\n",
       "    <tr>\n",
       "      <th>18</th>\n",
       "      <td>ExpresoPeru</td>\n",
       "      <td>1189</td>\n",
       "      <td>2022</td>\n",
       "      <td>33</td>\n",
       "      <td>287</td>\n",
       "      <td>4.14</td>\n",
       "    </tr>\n",
       "    <tr>\n",
       "      <th>27</th>\n",
       "      <td>diariocorreo</td>\n",
       "      <td>2541</td>\n",
       "      <td>2022</td>\n",
       "      <td>39</td>\n",
       "      <td>614</td>\n",
       "      <td>4.14</td>\n",
       "    </tr>\n",
       "    <tr>\n",
       "      <th>19</th>\n",
       "      <td>diarioojo</td>\n",
       "      <td>3245</td>\n",
       "      <td>2022</td>\n",
       "      <td>33</td>\n",
       "      <td>793</td>\n",
       "      <td>4.09</td>\n",
       "    </tr>\n",
       "    <tr>\n",
       "      <th>3</th>\n",
       "      <td>tromepe</td>\n",
       "      <td>3290</td>\n",
       "      <td>2022</td>\n",
       "      <td>34</td>\n",
       "      <td>807</td>\n",
       "      <td>4.08</td>\n",
       "    </tr>\n",
       "    <tr>\n",
       "      <th>14</th>\n",
       "      <td>peru21noticias</td>\n",
       "      <td>5177</td>\n",
       "      <td>2022</td>\n",
       "      <td>33</td>\n",
       "      <td>1287</td>\n",
       "      <td>4.02</td>\n",
       "    </tr>\n",
       "    <tr>\n",
       "      <th>51</th>\n",
       "      <td>diariocorreo</td>\n",
       "      <td>2077</td>\n",
       "      <td>2022</td>\n",
       "      <td>49</td>\n",
       "      <td>529</td>\n",
       "      <td>3.93</td>\n",
       "    </tr>\n",
       "    <tr>\n",
       "      <th>25</th>\n",
       "      <td>tromepe</td>\n",
       "      <td>3684</td>\n",
       "      <td>2022</td>\n",
       "      <td>39</td>\n",
       "      <td>956</td>\n",
       "      <td>3.85</td>\n",
       "    </tr>\n",
       "    <tr>\n",
       "      <th>15</th>\n",
       "      <td>tromepe</td>\n",
       "      <td>4204</td>\n",
       "      <td>2022</td>\n",
       "      <td>33</td>\n",
       "      <td>1095</td>\n",
       "      <td>3.84</td>\n",
       "    </tr>\n",
       "    <tr>\n",
       "      <th>17</th>\n",
       "      <td>diariocorreo</td>\n",
       "      <td>3022</td>\n",
       "      <td>2022</td>\n",
       "      <td>33</td>\n",
       "      <td>793</td>\n",
       "      <td>3.81</td>\n",
       "    </tr>\n",
       "    <tr>\n",
       "      <th>49</th>\n",
       "      <td>tromepe</td>\n",
       "      <td>3502</td>\n",
       "      <td>2022</td>\n",
       "      <td>49</td>\n",
       "      <td>922</td>\n",
       "      <td>3.80</td>\n",
       "    </tr>\n",
       "    <tr>\n",
       "      <th>48</th>\n",
       "      <td>peru21noticias</td>\n",
       "      <td>4022</td>\n",
       "      <td>2022</td>\n",
       "      <td>49</td>\n",
       "      <td>1064</td>\n",
       "      <td>3.78</td>\n",
       "    </tr>\n",
       "    <tr>\n",
       "      <th>9</th>\n",
       "      <td>larazon_pe</td>\n",
       "      <td>192</td>\n",
       "      <td>2022</td>\n",
       "      <td>34</td>\n",
       "      <td>60</td>\n",
       "      <td>3.20</td>\n",
       "    </tr>\n",
       "    <tr>\n",
       "      <th>38</th>\n",
       "      <td>Gestionpe</td>\n",
       "      <td>2167</td>\n",
       "      <td>2022</td>\n",
       "      <td>44</td>\n",
       "      <td>800</td>\n",
       "      <td>2.71</td>\n",
       "    </tr>\n",
       "    <tr>\n",
       "      <th>62</th>\n",
       "      <td>Gestionpe</td>\n",
       "      <td>2421</td>\n",
       "      <td>2023</td>\n",
       "      <td>2</td>\n",
       "      <td>919</td>\n",
       "      <td>2.63</td>\n",
       "    </tr>\n",
       "    <tr>\n",
       "      <th>50</th>\n",
       "      <td>Gestionpe</td>\n",
       "      <td>2119</td>\n",
       "      <td>2022</td>\n",
       "      <td>49</td>\n",
       "      <td>809</td>\n",
       "      <td>2.62</td>\n",
       "    </tr>\n",
       "    <tr>\n",
       "      <th>4</th>\n",
       "      <td>Gestionpe</td>\n",
       "      <td>2187</td>\n",
       "      <td>2022</td>\n",
       "      <td>34</td>\n",
       "      <td>848</td>\n",
       "      <td>2.58</td>\n",
       "    </tr>\n",
       "    <tr>\n",
       "      <th>26</th>\n",
       "      <td>Gestionpe</td>\n",
       "      <td>2655</td>\n",
       "      <td>2022</td>\n",
       "      <td>39</td>\n",
       "      <td>1199</td>\n",
       "      <td>2.21</td>\n",
       "    </tr>\n",
       "    <tr>\n",
       "      <th>16</th>\n",
       "      <td>Gestionpe</td>\n",
       "      <td>2941</td>\n",
       "      <td>2022</td>\n",
       "      <td>33</td>\n",
       "      <td>1509</td>\n",
       "      <td>1.95</td>\n",
       "    </tr>\n",
       "  </tbody>\n",
       "</table>\n",
       "</div>"
      ],
      "text/plain": [
       "          newspaper  unique_words  year  week  tweet_number  word_tweet_ratio\n",
       "11       ensustrece           342  2022    34            24             14.25\n",
       "57       ensustrece           261  2022    49            22             11.86\n",
       "69       ensustrece           186  2023     2            16             11.62\n",
       "33       ensustrece           215  2022    39            19             11.32\n",
       "45       ensustrece            59  2022    44             6              9.83\n",
       "42  DiarioElPeruano          1729  2022    44           186              9.30\n",
       "8   DiarioElPeruano          1745  2022    34           200              8.72\n",
       "20  DiarioElPeruano          1883  2022    33           229              8.22\n",
       "10        elbuho_pe           474  2022    34            58              8.17\n",
       "54  DiarioElPeruano          1623  2022    49           201              8.07\n",
       "43       larazon_pe           460  2022    44            57              8.07\n",
       "30  DiarioElPeruano          1811  2022    39           226              8.01\n",
       "66  DiarioElPeruano          1700  2023     2           216              7.87\n",
       "55       larazon_pe           544  2022    49            70              7.77\n",
       "44        elbuho_pe           576  2022    44            77              7.48\n",
       "67       larazon_pe           402  2023     2            57              7.05\n",
       "56        elbuho_pe           518  2022    49            77              6.73\n",
       "31       larazon_pe           362  2022    39            58              6.24\n",
       "35   larepublica_pe          4298  2022    44           691              6.22\n",
       "1    larepublica_pe          4841  2022    34           827              5.85\n",
       "68        elbuho_pe           612  2023     2           105              5.83\n",
       "59   larepublica_pe          3814  2023     2           679              5.62\n",
       "23   larepublica_pe          4681  2022    39           834              5.61\n",
       "32        elbuho_pe           535  2022    39            97              5.52\n",
       "13   larepublica_pe          6011  2022    33          1117              5.38\n",
       "47   larepublica_pe          4450  2022    49           924              4.82\n",
       "40      ExpresoPeru           936  2022    44           195              4.80\n",
       "60   peru21noticias          2513  2023     2           525              4.79\n",
       "34  elcomercio_peru          2058  2022    44           433              4.75\n",
       "36   peru21noticias          3532  2022    44           752              4.70\n",
       "0   elcomercio_peru          2128  2022    34           457              4.66\n",
       "58  elcomercio_peru          2142  2023     2           462              4.64\n",
       "63     diariocorreo          1423  2023     2           308              4.62\n",
       "46  elcomercio_peru          2042  2022    49           442              4.62\n",
       "6       ExpresoPeru           956  2022    34           208              4.60\n",
       "65        diarioojo          1490  2023     2           329              4.53\n",
       "39     diariocorreo          2055  2022    44           457              4.50\n",
       "12  elcomercio_peru          2624  2022    33           584              4.49\n",
       "22  elcomercio_peru          2295  2022    39           512              4.48\n",
       "7         diarioojo          2466  2022    34           555              4.44\n",
       "28      ExpresoPeru          1145  2022    39           259              4.42\n",
       "41        diarioojo          2447  2022    44           555              4.41\n",
       "29        diarioojo          2411  2022    39           550              4.38\n",
       "64      ExpresoPeru          1105  2023     2           255              4.33\n",
       "24   peru21noticias          4190  2022    39           970              4.32\n",
       "5      diariocorreo          2046  2022    34           474              4.32\n",
       "21       larazon_pe           456  2022    33           106              4.30\n",
       "61          tromepe          2685  2023     2           628              4.28\n",
       "52      ExpresoPeru          1066  2022    49           250              4.26\n",
       "2    peru21noticias          4087  2022    34           961              4.25\n",
       "53        diarioojo          2433  2022    49           574              4.24\n",
       "37          tromepe          3179  2022    44           759              4.19\n",
       "18      ExpresoPeru          1189  2022    33           287              4.14\n",
       "27     diariocorreo          2541  2022    39           614              4.14\n",
       "19        diarioojo          3245  2022    33           793              4.09\n",
       "3           tromepe          3290  2022    34           807              4.08\n",
       "14   peru21noticias          5177  2022    33          1287              4.02\n",
       "51     diariocorreo          2077  2022    49           529              3.93\n",
       "25          tromepe          3684  2022    39           956              3.85\n",
       "15          tromepe          4204  2022    33          1095              3.84\n",
       "17     diariocorreo          3022  2022    33           793              3.81\n",
       "49          tromepe          3502  2022    49           922              3.80\n",
       "48   peru21noticias          4022  2022    49          1064              3.78\n",
       "9        larazon_pe           192  2022    34            60              3.20\n",
       "38        Gestionpe          2167  2022    44           800              2.71\n",
       "62        Gestionpe          2421  2023     2           919              2.63\n",
       "50        Gestionpe          2119  2022    49           809              2.62\n",
       "4         Gestionpe          2187  2022    34           848              2.58\n",
       "26        Gestionpe          2655  2022    39          1199              2.21\n",
       "16        Gestionpe          2941  2022    33          1509              1.95"
      ]
     },
     "execution_count": 36,
     "metadata": {},
     "output_type": "execute_result"
    }
   ],
   "source": [
    "data_words[\"word_tweet_ratio\"] = data_words[\"unique_words\"]/data_words[\"tweet_number\"]\n",
    "data_words.sort_values(by='word_tweet_ratio', ascending=False)"
   ]
  },
  {
   "cell_type": "code",
   "execution_count": 37,
   "metadata": {},
   "outputs": [],
   "source": [
    "data_words.to_csv(f'{BASE_DIR}/reports/tables/words_tweets-{TIME_STAMPS[0]}-{TIME_STAMPS[-1]}.csv')"
   ]
  },
  {
   "cell_type": "code",
   "execution_count": 38,
   "metadata": {},
   "outputs": [
    {
     "data": {
      "application/vnd.plotly.v1+json": {
       "config": {
        "plotlyServerURL": "https://plot.ly"
       },
       "data": [
        {
         "hovertemplate": "newspaper=elcomercio_peru<br>week=34<br>unique_words=%{x}<br>tweet_number=%{y}<extra></extra>",
         "legendgroup": "elcomercio_peru",
         "marker": {
          "color": "#fabd2f",
          "symbol": "circle"
         },
         "mode": "markers",
         "name": "elcomercio_peru",
         "orientation": "v",
         "showlegend": true,
         "type": "scatter",
         "x": [
          2128
         ],
         "xaxis": "x",
         "y": [
          457
         ],
         "yaxis": "y"
        },
        {
         "hovertemplate": "newspaper=elcomercio_peru<br>week=33<br>unique_words=%{x}<br>tweet_number=%{y}<extra></extra>",
         "legendgroup": "elcomercio_peru",
         "marker": {
          "color": "#fabd2f",
          "symbol": "circle"
         },
         "mode": "markers",
         "name": "elcomercio_peru",
         "orientation": "v",
         "showlegend": false,
         "type": "scatter",
         "x": [
          2624
         ],
         "xaxis": "x2",
         "y": [
          584
         ],
         "yaxis": "y2"
        },
        {
         "hovertemplate": "newspaper=elcomercio_peru<br>week=39<br>unique_words=%{x}<br>tweet_number=%{y}<extra></extra>",
         "legendgroup": "elcomercio_peru",
         "marker": {
          "color": "#fabd2f",
          "symbol": "circle"
         },
         "mode": "markers",
         "name": "elcomercio_peru",
         "orientation": "v",
         "showlegend": false,
         "type": "scatter",
         "x": [
          2295
         ],
         "xaxis": "x3",
         "y": [
          512
         ],
         "yaxis": "y3"
        },
        {
         "hovertemplate": "newspaper=elcomercio_peru<br>week=44<br>unique_words=%{x}<br>tweet_number=%{y}<extra></extra>",
         "legendgroup": "elcomercio_peru",
         "marker": {
          "color": "#fabd2f",
          "symbol": "circle"
         },
         "mode": "markers",
         "name": "elcomercio_peru",
         "orientation": "v",
         "showlegend": false,
         "type": "scatter",
         "x": [
          2058
         ],
         "xaxis": "x4",
         "y": [
          433
         ],
         "yaxis": "y4"
        },
        {
         "hovertemplate": "newspaper=elcomercio_peru<br>week=49<br>unique_words=%{x}<br>tweet_number=%{y}<extra></extra>",
         "legendgroup": "elcomercio_peru",
         "marker": {
          "color": "#fabd2f",
          "symbol": "circle"
         },
         "mode": "markers",
         "name": "elcomercio_peru",
         "orientation": "v",
         "showlegend": false,
         "type": "scatter",
         "x": [
          2042
         ],
         "xaxis": "x5",
         "y": [
          442
         ],
         "yaxis": "y5"
        },
        {
         "hovertemplate": "newspaper=elcomercio_peru<br>week=2<br>unique_words=%{x}<br>tweet_number=%{y}<extra></extra>",
         "legendgroup": "elcomercio_peru",
         "marker": {
          "color": "#fabd2f",
          "symbol": "circle"
         },
         "mode": "markers",
         "name": "elcomercio_peru",
         "orientation": "v",
         "showlegend": false,
         "type": "scatter",
         "x": [
          2142
         ],
         "xaxis": "x6",
         "y": [
          462
         ],
         "yaxis": "y6"
        },
        {
         "hovertemplate": "newspaper=larepublica_pe<br>week=34<br>unique_words=%{x}<br>tweet_number=%{y}<extra></extra>",
         "legendgroup": "larepublica_pe",
         "marker": {
          "color": "#b8bb26",
          "symbol": "circle"
         },
         "mode": "markers",
         "name": "larepublica_pe",
         "orientation": "v",
         "showlegend": true,
         "type": "scatter",
         "x": [
          4841
         ],
         "xaxis": "x",
         "y": [
          827
         ],
         "yaxis": "y"
        },
        {
         "hovertemplate": "newspaper=larepublica_pe<br>week=33<br>unique_words=%{x}<br>tweet_number=%{y}<extra></extra>",
         "legendgroup": "larepublica_pe",
         "marker": {
          "color": "#b8bb26",
          "symbol": "circle"
         },
         "mode": "markers",
         "name": "larepublica_pe",
         "orientation": "v",
         "showlegend": false,
         "type": "scatter",
         "x": [
          6011
         ],
         "xaxis": "x2",
         "y": [
          1117
         ],
         "yaxis": "y2"
        },
        {
         "hovertemplate": "newspaper=larepublica_pe<br>week=39<br>unique_words=%{x}<br>tweet_number=%{y}<extra></extra>",
         "legendgroup": "larepublica_pe",
         "marker": {
          "color": "#b8bb26",
          "symbol": "circle"
         },
         "mode": "markers",
         "name": "larepublica_pe",
         "orientation": "v",
         "showlegend": false,
         "type": "scatter",
         "x": [
          4681
         ],
         "xaxis": "x3",
         "y": [
          834
         ],
         "yaxis": "y3"
        },
        {
         "hovertemplate": "newspaper=larepublica_pe<br>week=44<br>unique_words=%{x}<br>tweet_number=%{y}<extra></extra>",
         "legendgroup": "larepublica_pe",
         "marker": {
          "color": "#b8bb26",
          "symbol": "circle"
         },
         "mode": "markers",
         "name": "larepublica_pe",
         "orientation": "v",
         "showlegend": false,
         "type": "scatter",
         "x": [
          4298
         ],
         "xaxis": "x4",
         "y": [
          691
         ],
         "yaxis": "y4"
        },
        {
         "hovertemplate": "newspaper=larepublica_pe<br>week=49<br>unique_words=%{x}<br>tweet_number=%{y}<extra></extra>",
         "legendgroup": "larepublica_pe",
         "marker": {
          "color": "#b8bb26",
          "symbol": "circle"
         },
         "mode": "markers",
         "name": "larepublica_pe",
         "orientation": "v",
         "showlegend": false,
         "type": "scatter",
         "x": [
          4450
         ],
         "xaxis": "x5",
         "y": [
          924
         ],
         "yaxis": "y5"
        },
        {
         "hovertemplate": "newspaper=larepublica_pe<br>week=2<br>unique_words=%{x}<br>tweet_number=%{y}<extra></extra>",
         "legendgroup": "larepublica_pe",
         "marker": {
          "color": "#b8bb26",
          "symbol": "circle"
         },
         "mode": "markers",
         "name": "larepublica_pe",
         "orientation": "v",
         "showlegend": false,
         "type": "scatter",
         "x": [
          3814
         ],
         "xaxis": "x6",
         "y": [
          679
         ],
         "yaxis": "y6"
        },
        {
         "hovertemplate": "newspaper=peru21noticias<br>week=34<br>unique_words=%{x}<br>tweet_number=%{y}<extra></extra>",
         "legendgroup": "peru21noticias",
         "marker": {
          "color": "#458588",
          "symbol": "circle"
         },
         "mode": "markers",
         "name": "peru21noticias",
         "orientation": "v",
         "showlegend": true,
         "type": "scatter",
         "x": [
          4087
         ],
         "xaxis": "x",
         "y": [
          961
         ],
         "yaxis": "y"
        },
        {
         "hovertemplate": "newspaper=peru21noticias<br>week=33<br>unique_words=%{x}<br>tweet_number=%{y}<extra></extra>",
         "legendgroup": "peru21noticias",
         "marker": {
          "color": "#458588",
          "symbol": "circle"
         },
         "mode": "markers",
         "name": "peru21noticias",
         "orientation": "v",
         "showlegend": false,
         "type": "scatter",
         "x": [
          5177
         ],
         "xaxis": "x2",
         "y": [
          1287
         ],
         "yaxis": "y2"
        },
        {
         "hovertemplate": "newspaper=peru21noticias<br>week=39<br>unique_words=%{x}<br>tweet_number=%{y}<extra></extra>",
         "legendgroup": "peru21noticias",
         "marker": {
          "color": "#458588",
          "symbol": "circle"
         },
         "mode": "markers",
         "name": "peru21noticias",
         "orientation": "v",
         "showlegend": false,
         "type": "scatter",
         "x": [
          4190
         ],
         "xaxis": "x3",
         "y": [
          970
         ],
         "yaxis": "y3"
        },
        {
         "hovertemplate": "newspaper=peru21noticias<br>week=44<br>unique_words=%{x}<br>tweet_number=%{y}<extra></extra>",
         "legendgroup": "peru21noticias",
         "marker": {
          "color": "#458588",
          "symbol": "circle"
         },
         "mode": "markers",
         "name": "peru21noticias",
         "orientation": "v",
         "showlegend": false,
         "type": "scatter",
         "x": [
          3532
         ],
         "xaxis": "x4",
         "y": [
          752
         ],
         "yaxis": "y4"
        },
        {
         "hovertemplate": "newspaper=peru21noticias<br>week=49<br>unique_words=%{x}<br>tweet_number=%{y}<extra></extra>",
         "legendgroup": "peru21noticias",
         "marker": {
          "color": "#458588",
          "symbol": "circle"
         },
         "mode": "markers",
         "name": "peru21noticias",
         "orientation": "v",
         "showlegend": false,
         "type": "scatter",
         "x": [
          4022
         ],
         "xaxis": "x5",
         "y": [
          1064
         ],
         "yaxis": "y5"
        },
        {
         "hovertemplate": "newspaper=peru21noticias<br>week=2<br>unique_words=%{x}<br>tweet_number=%{y}<extra></extra>",
         "legendgroup": "peru21noticias",
         "marker": {
          "color": "#458588",
          "symbol": "circle"
         },
         "mode": "markers",
         "name": "peru21noticias",
         "orientation": "v",
         "showlegend": false,
         "type": "scatter",
         "x": [
          2513
         ],
         "xaxis": "x6",
         "y": [
          525
         ],
         "yaxis": "y6"
        },
        {
         "hovertemplate": "newspaper=tromepe<br>week=34<br>unique_words=%{x}<br>tweet_number=%{y}<extra></extra>",
         "legendgroup": "tromepe",
         "marker": {
          "color": "#fe8019",
          "symbol": "circle"
         },
         "mode": "markers",
         "name": "tromepe",
         "orientation": "v",
         "showlegend": true,
         "type": "scatter",
         "x": [
          3290
         ],
         "xaxis": "x",
         "y": [
          807
         ],
         "yaxis": "y"
        },
        {
         "hovertemplate": "newspaper=tromepe<br>week=33<br>unique_words=%{x}<br>tweet_number=%{y}<extra></extra>",
         "legendgroup": "tromepe",
         "marker": {
          "color": "#fe8019",
          "symbol": "circle"
         },
         "mode": "markers",
         "name": "tromepe",
         "orientation": "v",
         "showlegend": false,
         "type": "scatter",
         "x": [
          4204
         ],
         "xaxis": "x2",
         "y": [
          1095
         ],
         "yaxis": "y2"
        },
        {
         "hovertemplate": "newspaper=tromepe<br>week=39<br>unique_words=%{x}<br>tweet_number=%{y}<extra></extra>",
         "legendgroup": "tromepe",
         "marker": {
          "color": "#fe8019",
          "symbol": "circle"
         },
         "mode": "markers",
         "name": "tromepe",
         "orientation": "v",
         "showlegend": false,
         "type": "scatter",
         "x": [
          3684
         ],
         "xaxis": "x3",
         "y": [
          956
         ],
         "yaxis": "y3"
        },
        {
         "hovertemplate": "newspaper=tromepe<br>week=44<br>unique_words=%{x}<br>tweet_number=%{y}<extra></extra>",
         "legendgroup": "tromepe",
         "marker": {
          "color": "#fe8019",
          "symbol": "circle"
         },
         "mode": "markers",
         "name": "tromepe",
         "orientation": "v",
         "showlegend": false,
         "type": "scatter",
         "x": [
          3179
         ],
         "xaxis": "x4",
         "y": [
          759
         ],
         "yaxis": "y4"
        },
        {
         "hovertemplate": "newspaper=tromepe<br>week=49<br>unique_words=%{x}<br>tweet_number=%{y}<extra></extra>",
         "legendgroup": "tromepe",
         "marker": {
          "color": "#fe8019",
          "symbol": "circle"
         },
         "mode": "markers",
         "name": "tromepe",
         "orientation": "v",
         "showlegend": false,
         "type": "scatter",
         "x": [
          3502
         ],
         "xaxis": "x5",
         "y": [
          922
         ],
         "yaxis": "y5"
        },
        {
         "hovertemplate": "newspaper=tromepe<br>week=2<br>unique_words=%{x}<br>tweet_number=%{y}<extra></extra>",
         "legendgroup": "tromepe",
         "marker": {
          "color": "#fe8019",
          "symbol": "circle"
         },
         "mode": "markers",
         "name": "tromepe",
         "orientation": "v",
         "showlegend": false,
         "type": "scatter",
         "x": [
          2685
         ],
         "xaxis": "x6",
         "y": [
          628
         ],
         "yaxis": "y6"
        },
        {
         "hovertemplate": "newspaper=Gestionpe<br>week=34<br>unique_words=%{x}<br>tweet_number=%{y}<extra></extra>",
         "legendgroup": "Gestionpe",
         "marker": {
          "color": "#b16286",
          "symbol": "circle"
         },
         "mode": "markers",
         "name": "Gestionpe",
         "orientation": "v",
         "showlegend": true,
         "type": "scatter",
         "x": [
          2187
         ],
         "xaxis": "x",
         "y": [
          848
         ],
         "yaxis": "y"
        },
        {
         "hovertemplate": "newspaper=Gestionpe<br>week=33<br>unique_words=%{x}<br>tweet_number=%{y}<extra></extra>",
         "legendgroup": "Gestionpe",
         "marker": {
          "color": "#b16286",
          "symbol": "circle"
         },
         "mode": "markers",
         "name": "Gestionpe",
         "orientation": "v",
         "showlegend": false,
         "type": "scatter",
         "x": [
          2941
         ],
         "xaxis": "x2",
         "y": [
          1509
         ],
         "yaxis": "y2"
        },
        {
         "hovertemplate": "newspaper=Gestionpe<br>week=39<br>unique_words=%{x}<br>tweet_number=%{y}<extra></extra>",
         "legendgroup": "Gestionpe",
         "marker": {
          "color": "#b16286",
          "symbol": "circle"
         },
         "mode": "markers",
         "name": "Gestionpe",
         "orientation": "v",
         "showlegend": false,
         "type": "scatter",
         "x": [
          2655
         ],
         "xaxis": "x3",
         "y": [
          1199
         ],
         "yaxis": "y3"
        },
        {
         "hovertemplate": "newspaper=Gestionpe<br>week=44<br>unique_words=%{x}<br>tweet_number=%{y}<extra></extra>",
         "legendgroup": "Gestionpe",
         "marker": {
          "color": "#b16286",
          "symbol": "circle"
         },
         "mode": "markers",
         "name": "Gestionpe",
         "orientation": "v",
         "showlegend": false,
         "type": "scatter",
         "x": [
          2167
         ],
         "xaxis": "x4",
         "y": [
          800
         ],
         "yaxis": "y4"
        },
        {
         "hovertemplate": "newspaper=Gestionpe<br>week=49<br>unique_words=%{x}<br>tweet_number=%{y}<extra></extra>",
         "legendgroup": "Gestionpe",
         "marker": {
          "color": "#b16286",
          "symbol": "circle"
         },
         "mode": "markers",
         "name": "Gestionpe",
         "orientation": "v",
         "showlegend": false,
         "type": "scatter",
         "x": [
          2119
         ],
         "xaxis": "x5",
         "y": [
          809
         ],
         "yaxis": "y5"
        },
        {
         "hovertemplate": "newspaper=Gestionpe<br>week=2<br>unique_words=%{x}<br>tweet_number=%{y}<extra></extra>",
         "legendgroup": "Gestionpe",
         "marker": {
          "color": "#b16286",
          "symbol": "circle"
         },
         "mode": "markers",
         "name": "Gestionpe",
         "orientation": "v",
         "showlegend": false,
         "type": "scatter",
         "x": [
          2421
         ],
         "xaxis": "x6",
         "y": [
          919
         ],
         "yaxis": "y6"
        },
        {
         "hovertemplate": "newspaper=diariocorreo<br>week=34<br>unique_words=%{x}<br>tweet_number=%{y}<extra></extra>",
         "legendgroup": "diariocorreo",
         "marker": {
          "color": "#fb4943",
          "symbol": "circle"
         },
         "mode": "markers",
         "name": "diariocorreo",
         "orientation": "v",
         "showlegend": true,
         "type": "scatter",
         "x": [
          2046
         ],
         "xaxis": "x",
         "y": [
          474
         ],
         "yaxis": "y"
        },
        {
         "hovertemplate": "newspaper=diariocorreo<br>week=33<br>unique_words=%{x}<br>tweet_number=%{y}<extra></extra>",
         "legendgroup": "diariocorreo",
         "marker": {
          "color": "#fb4943",
          "symbol": "circle"
         },
         "mode": "markers",
         "name": "diariocorreo",
         "orientation": "v",
         "showlegend": false,
         "type": "scatter",
         "x": [
          3022
         ],
         "xaxis": "x2",
         "y": [
          793
         ],
         "yaxis": "y2"
        },
        {
         "hovertemplate": "newspaper=diariocorreo<br>week=39<br>unique_words=%{x}<br>tweet_number=%{y}<extra></extra>",
         "legendgroup": "diariocorreo",
         "marker": {
          "color": "#fb4943",
          "symbol": "circle"
         },
         "mode": "markers",
         "name": "diariocorreo",
         "orientation": "v",
         "showlegend": false,
         "type": "scatter",
         "x": [
          2541
         ],
         "xaxis": "x3",
         "y": [
          614
         ],
         "yaxis": "y3"
        },
        {
         "hovertemplate": "newspaper=diariocorreo<br>week=44<br>unique_words=%{x}<br>tweet_number=%{y}<extra></extra>",
         "legendgroup": "diariocorreo",
         "marker": {
          "color": "#fb4943",
          "symbol": "circle"
         },
         "mode": "markers",
         "name": "diariocorreo",
         "orientation": "v",
         "showlegend": false,
         "type": "scatter",
         "x": [
          2055
         ],
         "xaxis": "x4",
         "y": [
          457
         ],
         "yaxis": "y4"
        },
        {
         "hovertemplate": "newspaper=diariocorreo<br>week=49<br>unique_words=%{x}<br>tweet_number=%{y}<extra></extra>",
         "legendgroup": "diariocorreo",
         "marker": {
          "color": "#fb4943",
          "symbol": "circle"
         },
         "mode": "markers",
         "name": "diariocorreo",
         "orientation": "v",
         "showlegend": false,
         "type": "scatter",
         "x": [
          2077
         ],
         "xaxis": "x5",
         "y": [
          529
         ],
         "yaxis": "y5"
        },
        {
         "hovertemplate": "newspaper=diariocorreo<br>week=2<br>unique_words=%{x}<br>tweet_number=%{y}<extra></extra>",
         "legendgroup": "diariocorreo",
         "marker": {
          "color": "#fb4943",
          "symbol": "circle"
         },
         "mode": "markers",
         "name": "diariocorreo",
         "orientation": "v",
         "showlegend": false,
         "type": "scatter",
         "x": [
          1423
         ],
         "xaxis": "x6",
         "y": [
          308
         ],
         "yaxis": "y6"
        },
        {
         "hovertemplate": "newspaper=ExpresoPeru<br>week=34<br>unique_words=%{x}<br>tweet_number=%{y}<extra></extra>",
         "legendgroup": "ExpresoPeru",
         "marker": {
          "color": "#689d6a",
          "symbol": "circle"
         },
         "mode": "markers",
         "name": "ExpresoPeru",
         "orientation": "v",
         "showlegend": true,
         "type": "scatter",
         "x": [
          956
         ],
         "xaxis": "x",
         "y": [
          208
         ],
         "yaxis": "y"
        },
        {
         "hovertemplate": "newspaper=ExpresoPeru<br>week=33<br>unique_words=%{x}<br>tweet_number=%{y}<extra></extra>",
         "legendgroup": "ExpresoPeru",
         "marker": {
          "color": "#689d6a",
          "symbol": "circle"
         },
         "mode": "markers",
         "name": "ExpresoPeru",
         "orientation": "v",
         "showlegend": false,
         "type": "scatter",
         "x": [
          1189
         ],
         "xaxis": "x2",
         "y": [
          287
         ],
         "yaxis": "y2"
        },
        {
         "hovertemplate": "newspaper=ExpresoPeru<br>week=39<br>unique_words=%{x}<br>tweet_number=%{y}<extra></extra>",
         "legendgroup": "ExpresoPeru",
         "marker": {
          "color": "#689d6a",
          "symbol": "circle"
         },
         "mode": "markers",
         "name": "ExpresoPeru",
         "orientation": "v",
         "showlegend": false,
         "type": "scatter",
         "x": [
          1145
         ],
         "xaxis": "x3",
         "y": [
          259
         ],
         "yaxis": "y3"
        },
        {
         "hovertemplate": "newspaper=ExpresoPeru<br>week=44<br>unique_words=%{x}<br>tweet_number=%{y}<extra></extra>",
         "legendgroup": "ExpresoPeru",
         "marker": {
          "color": "#689d6a",
          "symbol": "circle"
         },
         "mode": "markers",
         "name": "ExpresoPeru",
         "orientation": "v",
         "showlegend": false,
         "type": "scatter",
         "x": [
          936
         ],
         "xaxis": "x4",
         "y": [
          195
         ],
         "yaxis": "y4"
        },
        {
         "hovertemplate": "newspaper=ExpresoPeru<br>week=49<br>unique_words=%{x}<br>tweet_number=%{y}<extra></extra>",
         "legendgroup": "ExpresoPeru",
         "marker": {
          "color": "#689d6a",
          "symbol": "circle"
         },
         "mode": "markers",
         "name": "ExpresoPeru",
         "orientation": "v",
         "showlegend": false,
         "type": "scatter",
         "x": [
          1066
         ],
         "xaxis": "x5",
         "y": [
          250
         ],
         "yaxis": "y5"
        },
        {
         "hovertemplate": "newspaper=ExpresoPeru<br>week=2<br>unique_words=%{x}<br>tweet_number=%{y}<extra></extra>",
         "legendgroup": "ExpresoPeru",
         "marker": {
          "color": "#689d6a",
          "symbol": "circle"
         },
         "mode": "markers",
         "name": "ExpresoPeru",
         "orientation": "v",
         "showlegend": false,
         "type": "scatter",
         "x": [
          1105
         ],
         "xaxis": "x6",
         "y": [
          255
         ],
         "yaxis": "y6"
        },
        {
         "hovertemplate": "newspaper=diarioojo<br>week=34<br>unique_words=%{x}<br>tweet_number=%{y}<extra></extra>",
         "legendgroup": "diarioojo",
         "marker": {
          "color": "#d79921",
          "symbol": "circle"
         },
         "mode": "markers",
         "name": "diarioojo",
         "orientation": "v",
         "showlegend": true,
         "type": "scatter",
         "x": [
          2466
         ],
         "xaxis": "x",
         "y": [
          555
         ],
         "yaxis": "y"
        },
        {
         "hovertemplate": "newspaper=diarioojo<br>week=33<br>unique_words=%{x}<br>tweet_number=%{y}<extra></extra>",
         "legendgroup": "diarioojo",
         "marker": {
          "color": "#d79921",
          "symbol": "circle"
         },
         "mode": "markers",
         "name": "diarioojo",
         "orientation": "v",
         "showlegend": false,
         "type": "scatter",
         "x": [
          3245
         ],
         "xaxis": "x2",
         "y": [
          793
         ],
         "yaxis": "y2"
        },
        {
         "hovertemplate": "newspaper=diarioojo<br>week=39<br>unique_words=%{x}<br>tweet_number=%{y}<extra></extra>",
         "legendgroup": "diarioojo",
         "marker": {
          "color": "#d79921",
          "symbol": "circle"
         },
         "mode": "markers",
         "name": "diarioojo",
         "orientation": "v",
         "showlegend": false,
         "type": "scatter",
         "x": [
          2411
         ],
         "xaxis": "x3",
         "y": [
          550
         ],
         "yaxis": "y3"
        },
        {
         "hovertemplate": "newspaper=diarioojo<br>week=44<br>unique_words=%{x}<br>tweet_number=%{y}<extra></extra>",
         "legendgroup": "diarioojo",
         "marker": {
          "color": "#d79921",
          "symbol": "circle"
         },
         "mode": "markers",
         "name": "diarioojo",
         "orientation": "v",
         "showlegend": false,
         "type": "scatter",
         "x": [
          2447
         ],
         "xaxis": "x4",
         "y": [
          555
         ],
         "yaxis": "y4"
        },
        {
         "hovertemplate": "newspaper=diarioojo<br>week=49<br>unique_words=%{x}<br>tweet_number=%{y}<extra></extra>",
         "legendgroup": "diarioojo",
         "marker": {
          "color": "#d79921",
          "symbol": "circle"
         },
         "mode": "markers",
         "name": "diarioojo",
         "orientation": "v",
         "showlegend": false,
         "type": "scatter",
         "x": [
          2433
         ],
         "xaxis": "x5",
         "y": [
          574
         ],
         "yaxis": "y5"
        },
        {
         "hovertemplate": "newspaper=diarioojo<br>week=2<br>unique_words=%{x}<br>tweet_number=%{y}<extra></extra>",
         "legendgroup": "diarioojo",
         "marker": {
          "color": "#d79921",
          "symbol": "circle"
         },
         "mode": "markers",
         "name": "diarioojo",
         "orientation": "v",
         "showlegend": false,
         "type": "scatter",
         "x": [
          1490
         ],
         "xaxis": "x6",
         "y": [
          329
         ],
         "yaxis": "y6"
        },
        {
         "hovertemplate": "newspaper=DiarioElPeruano<br>week=34<br>unique_words=%{x}<br>tweet_number=%{y}<extra></extra>",
         "legendgroup": "DiarioElPeruano",
         "marker": {
          "color": "#98971a",
          "symbol": "circle"
         },
         "mode": "markers",
         "name": "DiarioElPeruano",
         "orientation": "v",
         "showlegend": true,
         "type": "scatter",
         "x": [
          1745
         ],
         "xaxis": "x",
         "y": [
          200
         ],
         "yaxis": "y"
        },
        {
         "hovertemplate": "newspaper=DiarioElPeruano<br>week=33<br>unique_words=%{x}<br>tweet_number=%{y}<extra></extra>",
         "legendgroup": "DiarioElPeruano",
         "marker": {
          "color": "#98971a",
          "symbol": "circle"
         },
         "mode": "markers",
         "name": "DiarioElPeruano",
         "orientation": "v",
         "showlegend": false,
         "type": "scatter",
         "x": [
          1883
         ],
         "xaxis": "x2",
         "y": [
          229
         ],
         "yaxis": "y2"
        },
        {
         "hovertemplate": "newspaper=DiarioElPeruano<br>week=39<br>unique_words=%{x}<br>tweet_number=%{y}<extra></extra>",
         "legendgroup": "DiarioElPeruano",
         "marker": {
          "color": "#98971a",
          "symbol": "circle"
         },
         "mode": "markers",
         "name": "DiarioElPeruano",
         "orientation": "v",
         "showlegend": false,
         "type": "scatter",
         "x": [
          1811
         ],
         "xaxis": "x3",
         "y": [
          226
         ],
         "yaxis": "y3"
        },
        {
         "hovertemplate": "newspaper=DiarioElPeruano<br>week=44<br>unique_words=%{x}<br>tweet_number=%{y}<extra></extra>",
         "legendgroup": "DiarioElPeruano",
         "marker": {
          "color": "#98971a",
          "symbol": "circle"
         },
         "mode": "markers",
         "name": "DiarioElPeruano",
         "orientation": "v",
         "showlegend": false,
         "type": "scatter",
         "x": [
          1729
         ],
         "xaxis": "x4",
         "y": [
          186
         ],
         "yaxis": "y4"
        },
        {
         "hovertemplate": "newspaper=DiarioElPeruano<br>week=49<br>unique_words=%{x}<br>tweet_number=%{y}<extra></extra>",
         "legendgroup": "DiarioElPeruano",
         "marker": {
          "color": "#98971a",
          "symbol": "circle"
         },
         "mode": "markers",
         "name": "DiarioElPeruano",
         "orientation": "v",
         "showlegend": false,
         "type": "scatter",
         "x": [
          1623
         ],
         "xaxis": "x5",
         "y": [
          201
         ],
         "yaxis": "y5"
        },
        {
         "hovertemplate": "newspaper=DiarioElPeruano<br>week=2<br>unique_words=%{x}<br>tweet_number=%{y}<extra></extra>",
         "legendgroup": "DiarioElPeruano",
         "marker": {
          "color": "#98971a",
          "symbol": "circle"
         },
         "mode": "markers",
         "name": "DiarioElPeruano",
         "orientation": "v",
         "showlegend": false,
         "type": "scatter",
         "x": [
          1700
         ],
         "xaxis": "x6",
         "y": [
          216
         ],
         "yaxis": "y6"
        },
        {
         "hovertemplate": "newspaper=larazon_pe<br>week=34<br>unique_words=%{x}<br>tweet_number=%{y}<extra></extra>",
         "legendgroup": "larazon_pe",
         "marker": {
          "color": "#83a598",
          "symbol": "circle"
         },
         "mode": "markers",
         "name": "larazon_pe",
         "orientation": "v",
         "showlegend": true,
         "type": "scatter",
         "x": [
          192
         ],
         "xaxis": "x",
         "y": [
          60
         ],
         "yaxis": "y"
        },
        {
         "hovertemplate": "newspaper=larazon_pe<br>week=33<br>unique_words=%{x}<br>tweet_number=%{y}<extra></extra>",
         "legendgroup": "larazon_pe",
         "marker": {
          "color": "#83a598",
          "symbol": "circle"
         },
         "mode": "markers",
         "name": "larazon_pe",
         "orientation": "v",
         "showlegend": false,
         "type": "scatter",
         "x": [
          456
         ],
         "xaxis": "x2",
         "y": [
          106
         ],
         "yaxis": "y2"
        },
        {
         "hovertemplate": "newspaper=larazon_pe<br>week=39<br>unique_words=%{x}<br>tweet_number=%{y}<extra></extra>",
         "legendgroup": "larazon_pe",
         "marker": {
          "color": "#83a598",
          "symbol": "circle"
         },
         "mode": "markers",
         "name": "larazon_pe",
         "orientation": "v",
         "showlegend": false,
         "type": "scatter",
         "x": [
          362
         ],
         "xaxis": "x3",
         "y": [
          58
         ],
         "yaxis": "y3"
        },
        {
         "hovertemplate": "newspaper=larazon_pe<br>week=44<br>unique_words=%{x}<br>tweet_number=%{y}<extra></extra>",
         "legendgroup": "larazon_pe",
         "marker": {
          "color": "#83a598",
          "symbol": "circle"
         },
         "mode": "markers",
         "name": "larazon_pe",
         "orientation": "v",
         "showlegend": false,
         "type": "scatter",
         "x": [
          460
         ],
         "xaxis": "x4",
         "y": [
          57
         ],
         "yaxis": "y4"
        },
        {
         "hovertemplate": "newspaper=larazon_pe<br>week=49<br>unique_words=%{x}<br>tweet_number=%{y}<extra></extra>",
         "legendgroup": "larazon_pe",
         "marker": {
          "color": "#83a598",
          "symbol": "circle"
         },
         "mode": "markers",
         "name": "larazon_pe",
         "orientation": "v",
         "showlegend": false,
         "type": "scatter",
         "x": [
          544
         ],
         "xaxis": "x5",
         "y": [
          70
         ],
         "yaxis": "y5"
        },
        {
         "hovertemplate": "newspaper=larazon_pe<br>week=2<br>unique_words=%{x}<br>tweet_number=%{y}<extra></extra>",
         "legendgroup": "larazon_pe",
         "marker": {
          "color": "#83a598",
          "symbol": "circle"
         },
         "mode": "markers",
         "name": "larazon_pe",
         "orientation": "v",
         "showlegend": false,
         "type": "scatter",
         "x": [
          402
         ],
         "xaxis": "x6",
         "y": [
          57
         ],
         "yaxis": "y6"
        },
        {
         "hovertemplate": "newspaper=elbuho_pe<br>week=34<br>unique_words=%{x}<br>tweet_number=%{y}<extra></extra>",
         "legendgroup": "elbuho_pe",
         "marker": {
          "color": "#d65d0e",
          "symbol": "circle"
         },
         "mode": "markers",
         "name": "elbuho_pe",
         "orientation": "v",
         "showlegend": true,
         "type": "scatter",
         "x": [
          474
         ],
         "xaxis": "x",
         "y": [
          58
         ],
         "yaxis": "y"
        },
        {
         "hovertemplate": "newspaper=elbuho_pe<br>week=39<br>unique_words=%{x}<br>tweet_number=%{y}<extra></extra>",
         "legendgroup": "elbuho_pe",
         "marker": {
          "color": "#d65d0e",
          "symbol": "circle"
         },
         "mode": "markers",
         "name": "elbuho_pe",
         "orientation": "v",
         "showlegend": false,
         "type": "scatter",
         "x": [
          535
         ],
         "xaxis": "x3",
         "y": [
          97
         ],
         "yaxis": "y3"
        },
        {
         "hovertemplate": "newspaper=elbuho_pe<br>week=44<br>unique_words=%{x}<br>tweet_number=%{y}<extra></extra>",
         "legendgroup": "elbuho_pe",
         "marker": {
          "color": "#d65d0e",
          "symbol": "circle"
         },
         "mode": "markers",
         "name": "elbuho_pe",
         "orientation": "v",
         "showlegend": false,
         "type": "scatter",
         "x": [
          576
         ],
         "xaxis": "x4",
         "y": [
          77
         ],
         "yaxis": "y4"
        },
        {
         "hovertemplate": "newspaper=elbuho_pe<br>week=49<br>unique_words=%{x}<br>tweet_number=%{y}<extra></extra>",
         "legendgroup": "elbuho_pe",
         "marker": {
          "color": "#d65d0e",
          "symbol": "circle"
         },
         "mode": "markers",
         "name": "elbuho_pe",
         "orientation": "v",
         "showlegend": false,
         "type": "scatter",
         "x": [
          518
         ],
         "xaxis": "x5",
         "y": [
          77
         ],
         "yaxis": "y5"
        },
        {
         "hovertemplate": "newspaper=elbuho_pe<br>week=2<br>unique_words=%{x}<br>tweet_number=%{y}<extra></extra>",
         "legendgroup": "elbuho_pe",
         "marker": {
          "color": "#d65d0e",
          "symbol": "circle"
         },
         "mode": "markers",
         "name": "elbuho_pe",
         "orientation": "v",
         "showlegend": false,
         "type": "scatter",
         "x": [
          612
         ],
         "xaxis": "x6",
         "y": [
          105
         ],
         "yaxis": "y6"
        },
        {
         "hovertemplate": "newspaper=ensustrece<br>week=34<br>unique_words=%{x}<br>tweet_number=%{y}<extra></extra>",
         "legendgroup": "ensustrece",
         "marker": {
          "color": "#d3869b",
          "symbol": "circle"
         },
         "mode": "markers",
         "name": "ensustrece",
         "orientation": "v",
         "showlegend": true,
         "type": "scatter",
         "x": [
          342
         ],
         "xaxis": "x",
         "y": [
          24
         ],
         "yaxis": "y"
        },
        {
         "hovertemplate": "newspaper=ensustrece<br>week=39<br>unique_words=%{x}<br>tweet_number=%{y}<extra></extra>",
         "legendgroup": "ensustrece",
         "marker": {
          "color": "#d3869b",
          "symbol": "circle"
         },
         "mode": "markers",
         "name": "ensustrece",
         "orientation": "v",
         "showlegend": false,
         "type": "scatter",
         "x": [
          215
         ],
         "xaxis": "x3",
         "y": [
          19
         ],
         "yaxis": "y3"
        },
        {
         "hovertemplate": "newspaper=ensustrece<br>week=44<br>unique_words=%{x}<br>tweet_number=%{y}<extra></extra>",
         "legendgroup": "ensustrece",
         "marker": {
          "color": "#d3869b",
          "symbol": "circle"
         },
         "mode": "markers",
         "name": "ensustrece",
         "orientation": "v",
         "showlegend": false,
         "type": "scatter",
         "x": [
          59
         ],
         "xaxis": "x4",
         "y": [
          6
         ],
         "yaxis": "y4"
        },
        {
         "hovertemplate": "newspaper=ensustrece<br>week=49<br>unique_words=%{x}<br>tweet_number=%{y}<extra></extra>",
         "legendgroup": "ensustrece",
         "marker": {
          "color": "#d3869b",
          "symbol": "circle"
         },
         "mode": "markers",
         "name": "ensustrece",
         "orientation": "v",
         "showlegend": false,
         "type": "scatter",
         "x": [
          261
         ],
         "xaxis": "x5",
         "y": [
          22
         ],
         "yaxis": "y5"
        },
        {
         "hovertemplate": "newspaper=ensustrece<br>week=2<br>unique_words=%{x}<br>tweet_number=%{y}<extra></extra>",
         "legendgroup": "ensustrece",
         "marker": {
          "color": "#d3869b",
          "symbol": "circle"
         },
         "mode": "markers",
         "name": "ensustrece",
         "orientation": "v",
         "showlegend": false,
         "type": "scatter",
         "x": [
          186
         ],
         "xaxis": "x6",
         "y": [
          16
         ],
         "yaxis": "y6"
        }
       ],
       "layout": {
        "annotations": [
         {
          "font": {},
          "showarrow": false,
          "text": "week=34",
          "x": 0.075,
          "xanchor": "center",
          "xref": "paper",
          "y": 1,
          "yanchor": "bottom",
          "yref": "paper"
         },
         {
          "font": {},
          "showarrow": false,
          "text": "week=33",
          "x": 0.24499999999999997,
          "xanchor": "center",
          "xref": "paper",
          "y": 1,
          "yanchor": "bottom",
          "yref": "paper"
         },
         {
          "font": {},
          "showarrow": false,
          "text": "week=39",
          "x": 0.415,
          "xanchor": "center",
          "xref": "paper",
          "y": 1,
          "yanchor": "bottom",
          "yref": "paper"
         },
         {
          "font": {},
          "showarrow": false,
          "text": "week=44",
          "x": 0.585,
          "xanchor": "center",
          "xref": "paper",
          "y": 1,
          "yanchor": "bottom",
          "yref": "paper"
         },
         {
          "font": {},
          "showarrow": false,
          "text": "week=49",
          "x": 0.7549999999999999,
          "xanchor": "center",
          "xref": "paper",
          "y": 1,
          "yanchor": "bottom",
          "yref": "paper"
         },
         {
          "font": {},
          "showarrow": false,
          "text": "week=2",
          "x": 0.925,
          "xanchor": "center",
          "xref": "paper",
          "y": 1,
          "yanchor": "bottom",
          "yref": "paper"
         }
        ],
        "height": 600,
        "legend": {
         "title": {
          "text": "newspaper"
         },
         "tracegroupgap": 0
        },
        "template": {
         "data": {
          "bar": [
           {
            "error_x": {
             "color": "#2a3f5f"
            },
            "error_y": {
             "color": "#2a3f5f"
            },
            "marker": {
             "line": {
              "color": "white",
              "width": 0.5
             },
             "pattern": {
              "fillmode": "overlay",
              "size": 10,
              "solidity": 0.2
             }
            },
            "type": "bar"
           }
          ],
          "barpolar": [
           {
            "marker": {
             "line": {
              "color": "white",
              "width": 0.5
             },
             "pattern": {
              "fillmode": "overlay",
              "size": 10,
              "solidity": 0.2
             }
            },
            "type": "barpolar"
           }
          ],
          "carpet": [
           {
            "aaxis": {
             "endlinecolor": "#2a3f5f",
             "gridcolor": "#C8D4E3",
             "linecolor": "#C8D4E3",
             "minorgridcolor": "#C8D4E3",
             "startlinecolor": "#2a3f5f"
            },
            "baxis": {
             "endlinecolor": "#2a3f5f",
             "gridcolor": "#C8D4E3",
             "linecolor": "#C8D4E3",
             "minorgridcolor": "#C8D4E3",
             "startlinecolor": "#2a3f5f"
            },
            "type": "carpet"
           }
          ],
          "choropleth": [
           {
            "colorbar": {
             "outlinewidth": 0,
             "ticks": ""
            },
            "type": "choropleth"
           }
          ],
          "contour": [
           {
            "colorbar": {
             "outlinewidth": 0,
             "ticks": ""
            },
            "colorscale": [
             [
              0,
              "#0d0887"
             ],
             [
              0.1111111111111111,
              "#46039f"
             ],
             [
              0.2222222222222222,
              "#7201a8"
             ],
             [
              0.3333333333333333,
              "#9c179e"
             ],
             [
              0.4444444444444444,
              "#bd3786"
             ],
             [
              0.5555555555555556,
              "#d8576b"
             ],
             [
              0.6666666666666666,
              "#ed7953"
             ],
             [
              0.7777777777777778,
              "#fb9f3a"
             ],
             [
              0.8888888888888888,
              "#fdca26"
             ],
             [
              1,
              "#f0f921"
             ]
            ],
            "type": "contour"
           }
          ],
          "contourcarpet": [
           {
            "colorbar": {
             "outlinewidth": 0,
             "ticks": ""
            },
            "type": "contourcarpet"
           }
          ],
          "heatmap": [
           {
            "colorbar": {
             "outlinewidth": 0,
             "ticks": ""
            },
            "colorscale": [
             [
              0,
              "#0d0887"
             ],
             [
              0.1111111111111111,
              "#46039f"
             ],
             [
              0.2222222222222222,
              "#7201a8"
             ],
             [
              0.3333333333333333,
              "#9c179e"
             ],
             [
              0.4444444444444444,
              "#bd3786"
             ],
             [
              0.5555555555555556,
              "#d8576b"
             ],
             [
              0.6666666666666666,
              "#ed7953"
             ],
             [
              0.7777777777777778,
              "#fb9f3a"
             ],
             [
              0.8888888888888888,
              "#fdca26"
             ],
             [
              1,
              "#f0f921"
             ]
            ],
            "type": "heatmap"
           }
          ],
          "heatmapgl": [
           {
            "colorbar": {
             "outlinewidth": 0,
             "ticks": ""
            },
            "colorscale": [
             [
              0,
              "#0d0887"
             ],
             [
              0.1111111111111111,
              "#46039f"
             ],
             [
              0.2222222222222222,
              "#7201a8"
             ],
             [
              0.3333333333333333,
              "#9c179e"
             ],
             [
              0.4444444444444444,
              "#bd3786"
             ],
             [
              0.5555555555555556,
              "#d8576b"
             ],
             [
              0.6666666666666666,
              "#ed7953"
             ],
             [
              0.7777777777777778,
              "#fb9f3a"
             ],
             [
              0.8888888888888888,
              "#fdca26"
             ],
             [
              1,
              "#f0f921"
             ]
            ],
            "type": "heatmapgl"
           }
          ],
          "histogram": [
           {
            "marker": {
             "pattern": {
              "fillmode": "overlay",
              "size": 10,
              "solidity": 0.2
             }
            },
            "type": "histogram"
           }
          ],
          "histogram2d": [
           {
            "colorbar": {
             "outlinewidth": 0,
             "ticks": ""
            },
            "colorscale": [
             [
              0,
              "#0d0887"
             ],
             [
              0.1111111111111111,
              "#46039f"
             ],
             [
              0.2222222222222222,
              "#7201a8"
             ],
             [
              0.3333333333333333,
              "#9c179e"
             ],
             [
              0.4444444444444444,
              "#bd3786"
             ],
             [
              0.5555555555555556,
              "#d8576b"
             ],
             [
              0.6666666666666666,
              "#ed7953"
             ],
             [
              0.7777777777777778,
              "#fb9f3a"
             ],
             [
              0.8888888888888888,
              "#fdca26"
             ],
             [
              1,
              "#f0f921"
             ]
            ],
            "type": "histogram2d"
           }
          ],
          "histogram2dcontour": [
           {
            "colorbar": {
             "outlinewidth": 0,
             "ticks": ""
            },
            "colorscale": [
             [
              0,
              "#0d0887"
             ],
             [
              0.1111111111111111,
              "#46039f"
             ],
             [
              0.2222222222222222,
              "#7201a8"
             ],
             [
              0.3333333333333333,
              "#9c179e"
             ],
             [
              0.4444444444444444,
              "#bd3786"
             ],
             [
              0.5555555555555556,
              "#d8576b"
             ],
             [
              0.6666666666666666,
              "#ed7953"
             ],
             [
              0.7777777777777778,
              "#fb9f3a"
             ],
             [
              0.8888888888888888,
              "#fdca26"
             ],
             [
              1,
              "#f0f921"
             ]
            ],
            "type": "histogram2dcontour"
           }
          ],
          "mesh3d": [
           {
            "colorbar": {
             "outlinewidth": 0,
             "ticks": ""
            },
            "type": "mesh3d"
           }
          ],
          "parcoords": [
           {
            "line": {
             "colorbar": {
              "outlinewidth": 0,
              "ticks": ""
             }
            },
            "type": "parcoords"
           }
          ],
          "pie": [
           {
            "automargin": true,
            "type": "pie"
           }
          ],
          "scatter": [
           {
            "fillpattern": {
             "fillmode": "overlay",
             "size": 10,
             "solidity": 0.2
            },
            "type": "scatter"
           }
          ],
          "scatter3d": [
           {
            "line": {
             "colorbar": {
              "outlinewidth": 0,
              "ticks": ""
             }
            },
            "marker": {
             "colorbar": {
              "outlinewidth": 0,
              "ticks": ""
             }
            },
            "type": "scatter3d"
           }
          ],
          "scattercarpet": [
           {
            "marker": {
             "colorbar": {
              "outlinewidth": 0,
              "ticks": ""
             }
            },
            "type": "scattercarpet"
           }
          ],
          "scattergeo": [
           {
            "marker": {
             "colorbar": {
              "outlinewidth": 0,
              "ticks": ""
             }
            },
            "type": "scattergeo"
           }
          ],
          "scattergl": [
           {
            "marker": {
             "colorbar": {
              "outlinewidth": 0,
              "ticks": ""
             }
            },
            "type": "scattergl"
           }
          ],
          "scattermapbox": [
           {
            "marker": {
             "colorbar": {
              "outlinewidth": 0,
              "ticks": ""
             }
            },
            "type": "scattermapbox"
           }
          ],
          "scatterpolar": [
           {
            "marker": {
             "colorbar": {
              "outlinewidth": 0,
              "ticks": ""
             }
            },
            "type": "scatterpolar"
           }
          ],
          "scatterpolargl": [
           {
            "marker": {
             "colorbar": {
              "outlinewidth": 0,
              "ticks": ""
             }
            },
            "type": "scatterpolargl"
           }
          ],
          "scatterternary": [
           {
            "marker": {
             "colorbar": {
              "outlinewidth": 0,
              "ticks": ""
             }
            },
            "type": "scatterternary"
           }
          ],
          "surface": [
           {
            "colorbar": {
             "outlinewidth": 0,
             "ticks": ""
            },
            "colorscale": [
             [
              0,
              "#0d0887"
             ],
             [
              0.1111111111111111,
              "#46039f"
             ],
             [
              0.2222222222222222,
              "#7201a8"
             ],
             [
              0.3333333333333333,
              "#9c179e"
             ],
             [
              0.4444444444444444,
              "#bd3786"
             ],
             [
              0.5555555555555556,
              "#d8576b"
             ],
             [
              0.6666666666666666,
              "#ed7953"
             ],
             [
              0.7777777777777778,
              "#fb9f3a"
             ],
             [
              0.8888888888888888,
              "#fdca26"
             ],
             [
              1,
              "#f0f921"
             ]
            ],
            "type": "surface"
           }
          ],
          "table": [
           {
            "cells": {
             "fill": {
              "color": "#EBF0F8"
             },
             "line": {
              "color": "white"
             }
            },
            "header": {
             "fill": {
              "color": "#C8D4E3"
             },
             "line": {
              "color": "white"
             }
            },
            "type": "table"
           }
          ]
         },
         "layout": {
          "annotationdefaults": {
           "arrowcolor": "#2a3f5f",
           "arrowhead": 0,
           "arrowwidth": 1
          },
          "autotypenumbers": "strict",
          "coloraxis": {
           "colorbar": {
            "outlinewidth": 0,
            "ticks": ""
           }
          },
          "colorscale": {
           "diverging": [
            [
             0,
             "#8e0152"
            ],
            [
             0.1,
             "#c51b7d"
            ],
            [
             0.2,
             "#de77ae"
            ],
            [
             0.3,
             "#f1b6da"
            ],
            [
             0.4,
             "#fde0ef"
            ],
            [
             0.5,
             "#f7f7f7"
            ],
            [
             0.6,
             "#e6f5d0"
            ],
            [
             0.7,
             "#b8e186"
            ],
            [
             0.8,
             "#7fbc41"
            ],
            [
             0.9,
             "#4d9221"
            ],
            [
             1,
             "#276419"
            ]
           ],
           "sequential": [
            [
             0,
             "#0d0887"
            ],
            [
             0.1111111111111111,
             "#46039f"
            ],
            [
             0.2222222222222222,
             "#7201a8"
            ],
            [
             0.3333333333333333,
             "#9c179e"
            ],
            [
             0.4444444444444444,
             "#bd3786"
            ],
            [
             0.5555555555555556,
             "#d8576b"
            ],
            [
             0.6666666666666666,
             "#ed7953"
            ],
            [
             0.7777777777777778,
             "#fb9f3a"
            ],
            [
             0.8888888888888888,
             "#fdca26"
            ],
            [
             1,
             "#f0f921"
            ]
           ],
           "sequentialminus": [
            [
             0,
             "#0d0887"
            ],
            [
             0.1111111111111111,
             "#46039f"
            ],
            [
             0.2222222222222222,
             "#7201a8"
            ],
            [
             0.3333333333333333,
             "#9c179e"
            ],
            [
             0.4444444444444444,
             "#bd3786"
            ],
            [
             0.5555555555555556,
             "#d8576b"
            ],
            [
             0.6666666666666666,
             "#ed7953"
            ],
            [
             0.7777777777777778,
             "#fb9f3a"
            ],
            [
             0.8888888888888888,
             "#fdca26"
            ],
            [
             1,
             "#f0f921"
            ]
           ]
          },
          "colorway": [
           "#636efa",
           "#EF553B",
           "#00cc96",
           "#ab63fa",
           "#FFA15A",
           "#19d3f3",
           "#FF6692",
           "#B6E880",
           "#FF97FF",
           "#FECB52"
          ],
          "font": {
           "color": "#2a3f5f"
          },
          "geo": {
           "bgcolor": "white",
           "lakecolor": "white",
           "landcolor": "white",
           "showlakes": true,
           "showland": true,
           "subunitcolor": "#C8D4E3"
          },
          "hoverlabel": {
           "align": "left"
          },
          "hovermode": "closest",
          "mapbox": {
           "style": "light"
          },
          "paper_bgcolor": "white",
          "plot_bgcolor": "white",
          "polar": {
           "angularaxis": {
            "gridcolor": "#EBF0F8",
            "linecolor": "#EBF0F8",
            "ticks": ""
           },
           "bgcolor": "white",
           "radialaxis": {
            "gridcolor": "#EBF0F8",
            "linecolor": "#EBF0F8",
            "ticks": ""
           }
          },
          "scene": {
           "xaxis": {
            "backgroundcolor": "white",
            "gridcolor": "#DFE8F3",
            "gridwidth": 2,
            "linecolor": "#EBF0F8",
            "showbackground": true,
            "ticks": "",
            "zerolinecolor": "#EBF0F8"
           },
           "yaxis": {
            "backgroundcolor": "white",
            "gridcolor": "#DFE8F3",
            "gridwidth": 2,
            "linecolor": "#EBF0F8",
            "showbackground": true,
            "ticks": "",
            "zerolinecolor": "#EBF0F8"
           },
           "zaxis": {
            "backgroundcolor": "white",
            "gridcolor": "#DFE8F3",
            "gridwidth": 2,
            "linecolor": "#EBF0F8",
            "showbackground": true,
            "ticks": "",
            "zerolinecolor": "#EBF0F8"
           }
          },
          "shapedefaults": {
           "line": {
            "color": "#2a3f5f"
           }
          },
          "ternary": {
           "aaxis": {
            "gridcolor": "#DFE8F3",
            "linecolor": "#A2B1C6",
            "ticks": ""
           },
           "baxis": {
            "gridcolor": "#DFE8F3",
            "linecolor": "#A2B1C6",
            "ticks": ""
           },
           "bgcolor": "white",
           "caxis": {
            "gridcolor": "#DFE8F3",
            "linecolor": "#A2B1C6",
            "ticks": ""
           }
          },
          "title": {
           "x": 0.05
          },
          "xaxis": {
           "automargin": true,
           "gridcolor": "#EBF0F8",
           "linecolor": "#EBF0F8",
           "ticks": "",
           "title": {
            "standoff": 15
           },
           "zerolinecolor": "#EBF0F8",
           "zerolinewidth": 2
          },
          "yaxis": {
           "automargin": true,
           "gridcolor": "#EBF0F8",
           "linecolor": "#EBF0F8",
           "ticks": "",
           "title": {
            "standoff": 15
           },
           "zerolinecolor": "#EBF0F8",
           "zerolinewidth": 2
          }
         }
        },
        "title": {
         "text": "Unique words per newspaper"
        },
        "width": 2400,
        "xaxis": {
         "anchor": "y",
         "domain": [
          0,
          0.15
         ],
         "title": {
          "text": "unique_words"
         }
        },
        "xaxis2": {
         "anchor": "y2",
         "domain": [
          0.16999999999999998,
          0.31999999999999995
         ],
         "matches": "x",
         "title": {
          "text": "unique_words"
         }
        },
        "xaxis3": {
         "anchor": "y3",
         "domain": [
          0.33999999999999997,
          0.49
         ],
         "matches": "x",
         "title": {
          "text": "unique_words"
         }
        },
        "xaxis4": {
         "anchor": "y4",
         "domain": [
          0.51,
          0.66
         ],
         "matches": "x",
         "title": {
          "text": "unique_words"
         }
        },
        "xaxis5": {
         "anchor": "y5",
         "domain": [
          0.6799999999999999,
          0.83
         ],
         "matches": "x",
         "title": {
          "text": "unique_words"
         }
        },
        "xaxis6": {
         "anchor": "y6",
         "domain": [
          0.85,
          1
         ],
         "matches": "x",
         "title": {
          "text": "unique_words"
         }
        },
        "yaxis": {
         "anchor": "x",
         "domain": [
          0,
          1
         ],
         "title": {
          "text": "tweet_number"
         }
        },
        "yaxis2": {
         "anchor": "x2",
         "domain": [
          0,
          1
         ],
         "matches": "y",
         "showticklabels": false
        },
        "yaxis3": {
         "anchor": "x3",
         "domain": [
          0,
          1
         ],
         "matches": "y",
         "showticklabels": false
        },
        "yaxis4": {
         "anchor": "x4",
         "domain": [
          0,
          1
         ],
         "matches": "y",
         "showticklabels": false
        },
        "yaxis5": {
         "anchor": "x5",
         "domain": [
          0,
          1
         ],
         "matches": "y",
         "showticklabels": false
        },
        "yaxis6": {
         "anchor": "x6",
         "domain": [
          0,
          1
         ],
         "matches": "y",
         "showticklabels": false
        }
       }
      }
     },
     "metadata": {},
     "output_type": "display_data"
    }
   ],
   "source": [
    "fig = px.scatter(\n",
    "    data_words,\n",
    "    \"unique_words\",\n",
    "    \"tweet_number\",\n",
    "    facet_col=\"week\",\n",
    "    color=\"newspaper\",\n",
    "    color_discrete_sequence=gruvbox_colors,\n",
    "    title=\"Unique words per newspaper\",\n",
    "    width=2400,\n",
    "    height=600\n",
    ")\n",
    "\n",
    "fig.show()"
   ]
  },
  {
   "cell_type": "code",
   "execution_count": 39,
   "metadata": {},
   "outputs": [],
   "source": [
    "data_words = pd.read_csv(f'{BASE_DIR}/reports/tables/words_tweets-{TIME_STAMPS[0]}-{TIME_STAMPS[-1]}.csv', index_col=0)"
   ]
  },
  {
   "attachments": {},
   "cell_type": "markdown",
   "metadata": {},
   "source": [
    "## Engagement\n",
    "\n",
    "Now I will be looking into engagement metrics as a whole per newspaper and how it changes, as well as the relationship with the most used words as well as the ammount of vocabulary expressed in the most used words.\n",
    "\n",
    "### Raw stats"
   ]
  },
  {
   "cell_type": "code",
   "execution_count": 40,
   "metadata": {},
   "outputs": [
    {
     "data": {
      "text/html": [
       "<div>\n",
       "<style scoped>\n",
       "    .dataframe tbody tr th:only-of-type {\n",
       "        vertical-align: middle;\n",
       "    }\n",
       "\n",
       "    .dataframe tbody tr th {\n",
       "        vertical-align: top;\n",
       "    }\n",
       "\n",
       "    .dataframe thead th {\n",
       "        text-align: right;\n",
       "    }\n",
       "</style>\n",
       "<table border=\"1\" class=\"dataframe\">\n",
       "  <thead>\n",
       "    <tr style=\"text-align: right;\">\n",
       "      <th></th>\n",
       "      <th>created_at</th>\n",
       "      <th>possibly_sensitive</th>\n",
       "      <th>id</th>\n",
       "      <th>retweet_count</th>\n",
       "      <th>reply_count</th>\n",
       "      <th>like_count</th>\n",
       "      <th>quote_count</th>\n",
       "      <th>referenced_tweets</th>\n",
       "      <th>newspaper</th>\n",
       "      <th>edit_history_tweet_ids</th>\n",
       "      <th>impression_count</th>\n",
       "    </tr>\n",
       "    <tr>\n",
       "      <th>index</th>\n",
       "      <th></th>\n",
       "      <th></th>\n",
       "      <th></th>\n",
       "      <th></th>\n",
       "      <th></th>\n",
       "      <th></th>\n",
       "      <th></th>\n",
       "      <th></th>\n",
       "      <th></th>\n",
       "      <th></th>\n",
       "      <th></th>\n",
       "    </tr>\n",
       "  </thead>\n",
       "  <tbody>\n",
       "    <tr>\n",
       "      <th>0</th>\n",
       "      <td>2022-08-28 23:57:24+00:00</td>\n",
       "      <td>False</td>\n",
       "      <td>1564039479391838209</td>\n",
       "      <td>0</td>\n",
       "      <td>0</td>\n",
       "      <td>6</td>\n",
       "      <td>1</td>\n",
       "      <td>None</td>\n",
       "      <td>elcomercio_peru</td>\n",
       "      <td>None</td>\n",
       "      <td>NaN</td>\n",
       "    </tr>\n",
       "    <tr>\n",
       "      <th>2</th>\n",
       "      <td>2022-08-28 23:29:00+00:00</td>\n",
       "      <td>False</td>\n",
       "      <td>1564032331706470401</td>\n",
       "      <td>0</td>\n",
       "      <td>0</td>\n",
       "      <td>2</td>\n",
       "      <td>0</td>\n",
       "      <td>None</td>\n",
       "      <td>elcomercio_peru</td>\n",
       "      <td>None</td>\n",
       "      <td>NaN</td>\n",
       "    </tr>\n",
       "    <tr>\n",
       "      <th>3</th>\n",
       "      <td>2022-08-28 23:14:11+00:00</td>\n",
       "      <td>False</td>\n",
       "      <td>1564028601053347843</td>\n",
       "      <td>6</td>\n",
       "      <td>7</td>\n",
       "      <td>18</td>\n",
       "      <td>1</td>\n",
       "      <td>None</td>\n",
       "      <td>elcomercio_peru</td>\n",
       "      <td>None</td>\n",
       "      <td>NaN</td>\n",
       "    </tr>\n",
       "    <tr>\n",
       "      <th>5</th>\n",
       "      <td>2022-08-28 22:54:58+00:00</td>\n",
       "      <td>False</td>\n",
       "      <td>1564023766937731073</td>\n",
       "      <td>1</td>\n",
       "      <td>0</td>\n",
       "      <td>1</td>\n",
       "      <td>1</td>\n",
       "      <td>None</td>\n",
       "      <td>elcomercio_peru</td>\n",
       "      <td>None</td>\n",
       "      <td>NaN</td>\n",
       "    </tr>\n",
       "    <tr>\n",
       "      <th>7</th>\n",
       "      <td>2022-08-28 22:30:25+00:00</td>\n",
       "      <td>False</td>\n",
       "      <td>1564017585561141248</td>\n",
       "      <td>3</td>\n",
       "      <td>0</td>\n",
       "      <td>8</td>\n",
       "      <td>0</td>\n",
       "      <td>None</td>\n",
       "      <td>elcomercio_peru</td>\n",
       "      <td>None</td>\n",
       "      <td>NaN</td>\n",
       "    </tr>\n",
       "  </tbody>\n",
       "</table>\n",
       "</div>"
      ],
      "text/plain": [
       "                     created_at  possibly_sensitive                   id  \\\n",
       "index                                                                      \n",
       "0     2022-08-28 23:57:24+00:00               False  1564039479391838209   \n",
       "2     2022-08-28 23:29:00+00:00               False  1564032331706470401   \n",
       "3     2022-08-28 23:14:11+00:00               False  1564028601053347843   \n",
       "5     2022-08-28 22:54:58+00:00               False  1564023766937731073   \n",
       "7     2022-08-28 22:30:25+00:00               False  1564017585561141248   \n",
       "\n",
       "       retweet_count  reply_count  like_count  quote_count referenced_tweets  \\\n",
       "index                                                                          \n",
       "0                  0            0           6            1              None   \n",
       "2                  0            0           2            0              None   \n",
       "3                  6            7          18            1              None   \n",
       "5                  1            0           1            1              None   \n",
       "7                  3            0           8            0              None   \n",
       "\n",
       "             newspaper edit_history_tweet_ids  impression_count  \n",
       "index                                                            \n",
       "0      elcomercio_peru                   None               NaN  \n",
       "2      elcomercio_peru                   None               NaN  \n",
       "3      elcomercio_peru                   None               NaN  \n",
       "5      elcomercio_peru                   None               NaN  \n",
       "7      elcomercio_peru                   None               NaN  "
      ]
     },
     "execution_count": 40,
     "metadata": {},
     "output_type": "execute_result"
    }
   ],
   "source": [
    "stats_data.head()"
   ]
  },
  {
   "cell_type": "code",
   "execution_count": 41,
   "metadata": {},
   "outputs": [
    {
     "name": "stdout",
     "output_type": "stream",
     "text": [
      "<class 'pandas.core.frame.DataFrame'>\n",
      "Int64Index: 34924 entries, 0 to 23\n",
      "Data columns (total 11 columns):\n",
      " #   Column                  Non-Null Count  Dtype              \n",
      "---  ------                  --------------  -----              \n",
      " 0   created_at              34924 non-null  datetime64[ns, UTC]\n",
      " 1   possibly_sensitive      34924 non-null  bool               \n",
      " 2   id                      34924 non-null  object             \n",
      " 3   retweet_count           34924 non-null  int64              \n",
      " 4   reply_count             34924 non-null  int64              \n",
      " 5   like_count              34924 non-null  int64              \n",
      " 6   quote_count             34924 non-null  int64              \n",
      " 7   referenced_tweets       3593 non-null   object             \n",
      " 8   newspaper               34924 non-null  object             \n",
      " 9   edit_history_tweet_ids  21727 non-null  object             \n",
      " 10  impression_count        4499 non-null   float64            \n",
      "dtypes: bool(1), datetime64[ns, UTC](1), float64(1), int64(4), object(4)\n",
      "memory usage: 3.0+ MB\n"
     ]
    }
   ],
   "source": [
    "stats_data.info()"
   ]
  },
  {
   "cell_type": "code",
   "execution_count": 42,
   "metadata": {},
   "outputs": [],
   "source": [
    "stats_data[\"year\"] = stats_data[\"created_at\"].dt.isocalendar().year\n",
    "stats_data[\"week\"] = stats_data[\"created_at\"].dt.isocalendar().week"
   ]
  },
  {
   "cell_type": "code",
   "execution_count": 43,
   "metadata": {},
   "outputs": [],
   "source": [
    "stats_summary = stats_data[[\"newspaper\", \"retweet_count\", \"reply_count\", \"like_count\", \"quote_count\", \"year\", \"week\"]].groupby(by=[\"newspaper\", \"year\", \"week\"]).agg(func=[\"count\", \"min\", \"mean\", \"std\", \"max\", \"sum\"])"
   ]
  },
  {
   "cell_type": "code",
   "execution_count": 44,
   "metadata": {},
   "outputs": [],
   "source": [
    "stats_summary[(\"retweet_count\", \"ratio\")] = stats_summary[(\"retweet_count\", \"sum\")] / stats_summary[(\"retweet_count\", \"count\")]\n",
    "stats_summary[(\"reply_count\", \"ratio\")] = stats_summary[(\"reply_count\", \"sum\")] / stats_summary[(\"reply_count\", \"count\")]\n",
    "stats_summary[(\"like_count\", \"ratio\")] = stats_summary[(\"like_count\", \"sum\")] / stats_summary[(\"like_count\", \"count\")]\n",
    "stats_summary[(\"quote_count\", \"ratio\")] = stats_summary[(\"quote_count\", \"sum\")] / stats_summary[(\"quote_count\", \"count\")]"
   ]
  },
  {
   "cell_type": "code",
   "execution_count": 45,
   "metadata": {},
   "outputs": [],
   "source": [
    "stats_summary = stats_summary.stack()\n",
    "stats_summary = stats_summary.melt(var_name=\"metric\", ignore_index=False)"
   ]
  },
  {
   "cell_type": "code",
   "execution_count": 46,
   "metadata": {},
   "outputs": [],
   "source": [
    "stats_summary = stats_summary.reset_index()\n",
    "stats_summary.rename({\"level_3\": \"stat\"}, axis=1, inplace=True)"
   ]
  },
  {
   "cell_type": "code",
   "execution_count": 47,
   "metadata": {},
   "outputs": [],
   "source": [
    "stats_summary[\"year_week\"] = stats_summary[\"year\"].astype(\"str\") + \"w\" + stats_summary[\"week\"].astype(\"str\")"
   ]
  },
  {
   "cell_type": "code",
   "execution_count": 48,
   "metadata": {},
   "outputs": [
    {
     "data": {
      "text/html": [
       "<div>\n",
       "<style scoped>\n",
       "    .dataframe tbody tr th:only-of-type {\n",
       "        vertical-align: middle;\n",
       "    }\n",
       "\n",
       "    .dataframe tbody tr th {\n",
       "        vertical-align: top;\n",
       "    }\n",
       "\n",
       "    .dataframe thead th {\n",
       "        text-align: right;\n",
       "    }\n",
       "</style>\n",
       "<table border=\"1\" class=\"dataframe\">\n",
       "  <thead>\n",
       "    <tr style=\"text-align: right;\">\n",
       "      <th></th>\n",
       "      <th>newspaper</th>\n",
       "      <th>year</th>\n",
       "      <th>week</th>\n",
       "      <th>stat</th>\n",
       "      <th>metric</th>\n",
       "      <th>value</th>\n",
       "      <th>year_week</th>\n",
       "    </tr>\n",
       "  </thead>\n",
       "  <tbody>\n",
       "    <tr>\n",
       "      <th>0</th>\n",
       "      <td>DiarioElPeruano</td>\n",
       "      <td>2022</td>\n",
       "      <td>33</td>\n",
       "      <td>count</td>\n",
       "      <td>like_count</td>\n",
       "      <td>229.00</td>\n",
       "      <td>2022w33</td>\n",
       "    </tr>\n",
       "    <tr>\n",
       "      <th>1</th>\n",
       "      <td>DiarioElPeruano</td>\n",
       "      <td>2022</td>\n",
       "      <td>33</td>\n",
       "      <td>max</td>\n",
       "      <td>like_count</td>\n",
       "      <td>80.00</td>\n",
       "      <td>2022w33</td>\n",
       "    </tr>\n",
       "    <tr>\n",
       "      <th>2</th>\n",
       "      <td>DiarioElPeruano</td>\n",
       "      <td>2022</td>\n",
       "      <td>33</td>\n",
       "      <td>mean</td>\n",
       "      <td>like_count</td>\n",
       "      <td>12.46</td>\n",
       "      <td>2022w33</td>\n",
       "    </tr>\n",
       "    <tr>\n",
       "      <th>3</th>\n",
       "      <td>DiarioElPeruano</td>\n",
       "      <td>2022</td>\n",
       "      <td>33</td>\n",
       "      <td>min</td>\n",
       "      <td>like_count</td>\n",
       "      <td>0.00</td>\n",
       "      <td>2022w33</td>\n",
       "    </tr>\n",
       "    <tr>\n",
       "      <th>4</th>\n",
       "      <td>DiarioElPeruano</td>\n",
       "      <td>2022</td>\n",
       "      <td>33</td>\n",
       "      <td>ratio</td>\n",
       "      <td>like_count</td>\n",
       "      <td>12.46</td>\n",
       "      <td>2022w33</td>\n",
       "    </tr>\n",
       "  </tbody>\n",
       "</table>\n",
       "</div>"
      ],
      "text/plain": [
       "         newspaper  year  week   stat      metric  value year_week\n",
       "0  DiarioElPeruano  2022    33  count  like_count 229.00   2022w33\n",
       "1  DiarioElPeruano  2022    33    max  like_count  80.00   2022w33\n",
       "2  DiarioElPeruano  2022    33   mean  like_count  12.46   2022w33\n",
       "3  DiarioElPeruano  2022    33    min  like_count   0.00   2022w33\n",
       "4  DiarioElPeruano  2022    33  ratio  like_count  12.46   2022w33"
      ]
     },
     "execution_count": 48,
     "metadata": {},
     "output_type": "execute_result"
    }
   ],
   "source": [
    "stats_summary.head()"
   ]
  },
  {
   "cell_type": "code",
   "execution_count": 49,
   "metadata": {},
   "outputs": [
    {
     "name": "stdout",
     "output_type": "stream",
     "text": [
      "<class 'pandas.core.frame.DataFrame'>\n",
      "RangeIndex: 1960 entries, 0 to 1959\n",
      "Data columns (total 7 columns):\n",
      " #   Column     Non-Null Count  Dtype  \n",
      "---  ------     --------------  -----  \n",
      " 0   newspaper  1960 non-null   object \n",
      " 1   year       1960 non-null   UInt32 \n",
      " 2   week       1960 non-null   UInt32 \n",
      " 3   stat       1960 non-null   object \n",
      " 4   metric     1960 non-null   object \n",
      " 5   value      1960 non-null   float64\n",
      " 6   year_week  1960 non-null   object \n",
      "dtypes: UInt32(2), float64(1), object(4)\n",
      "memory usage: 95.8+ KB\n"
     ]
    }
   ],
   "source": [
    "stats_summary.info()"
   ]
  },
  {
   "cell_type": "code",
   "execution_count": 50,
   "metadata": {},
   "outputs": [
    {
     "data": {
      "application/vnd.plotly.v1+json": {
       "config": {
        "plotlyServerURL": "https://plot.ly"
       },
       "data": [
        {
         "hovertemplate": "newspaper=DiarioElPeruano<br>metric=like_count<br>stat=count<br>year_week=%{x}<br>value=%{y}<extra></extra>",
         "legendgroup": "DiarioElPeruano",
         "line": {
          "color": "#fabd2f",
          "dash": "solid"
         },
         "marker": {
          "symbol": "circle"
         },
         "mode": "lines",
         "name": "DiarioElPeruano",
         "showlegend": true,
         "type": "scattergl",
         "x": [
          "2022w33",
          "2022w34",
          "2022w39",
          "2022w44",
          "2022w49",
          "2023w2"
         ],
         "xaxis": "x22",
         "y": [
          229,
          200,
          226,
          186,
          201,
          216
         ],
         "yaxis": "y22"
        },
        {
         "hovertemplate": "newspaper=DiarioElPeruano<br>metric=like_count<br>stat=max<br>year_week=%{x}<br>value=%{y}<extra></extra>",
         "legendgroup": "DiarioElPeruano",
         "line": {
          "color": "#fabd2f",
          "dash": "solid"
         },
         "marker": {
          "symbol": "circle"
         },
         "mode": "lines",
         "name": "DiarioElPeruano",
         "showlegend": false,
         "type": "scattergl",
         "x": [
          "2022w33",
          "2022w34",
          "2022w39",
          "2022w44",
          "2022w49",
          "2023w2"
         ],
         "xaxis": "x23",
         "y": [
          80,
          77,
          132,
          45,
          239,
          2873
         ],
         "yaxis": "y23"
        },
        {
         "hovertemplate": "newspaper=DiarioElPeruano<br>metric=like_count<br>stat=mean<br>year_week=%{x}<br>value=%{y}<extra></extra>",
         "legendgroup": "DiarioElPeruano",
         "line": {
          "color": "#fabd2f",
          "dash": "solid"
         },
         "marker": {
          "symbol": "circle"
         },
         "mode": "lines",
         "name": "DiarioElPeruano",
         "showlegend": false,
         "type": "scattergl",
         "x": [
          "2022w33",
          "2022w34",
          "2022w39",
          "2022w44",
          "2022w49",
          "2023w2"
         ],
         "xaxis": "x24",
         "y": [
          12.462882096069869,
          11.23,
          8.761061946902656,
          7.758064516129032,
          14.651741293532337,
          40.523148148148145
         ],
         "yaxis": "y24"
        },
        {
         "hovertemplate": "newspaper=DiarioElPeruano<br>metric=like_count<br>stat=min<br>year_week=%{x}<br>value=%{y}<extra></extra>",
         "legendgroup": "DiarioElPeruano",
         "line": {
          "color": "#fabd2f",
          "dash": "solid"
         },
         "marker": {
          "symbol": "circle"
         },
         "mode": "lines",
         "name": "DiarioElPeruano",
         "showlegend": false,
         "type": "scattergl",
         "x": [
          "2022w33",
          "2022w34",
          "2022w39",
          "2022w44",
          "2022w49",
          "2023w2"
         ],
         "xaxis": "x25",
         "y": [
          0,
          0,
          0,
          0,
          0,
          0
         ],
         "yaxis": "y25"
        },
        {
         "hovertemplate": "newspaper=DiarioElPeruano<br>metric=like_count<br>stat=ratio<br>year_week=%{x}<br>value=%{y}<extra></extra>",
         "legendgroup": "DiarioElPeruano",
         "line": {
          "color": "#fabd2f",
          "dash": "solid"
         },
         "marker": {
          "symbol": "circle"
         },
         "mode": "lines",
         "name": "DiarioElPeruano",
         "showlegend": false,
         "type": "scattergl",
         "x": [
          "2022w33",
          "2022w34",
          "2022w39",
          "2022w44",
          "2022w49",
          "2023w2"
         ],
         "xaxis": "x26",
         "y": [
          12.462882096069869,
          11.23,
          8.761061946902656,
          7.758064516129032,
          14.651741293532337,
          40.523148148148145
         ],
         "yaxis": "y26"
        },
        {
         "hovertemplate": "newspaper=DiarioElPeruano<br>metric=like_count<br>stat=std<br>year_week=%{x}<br>value=%{y}<extra></extra>",
         "legendgroup": "DiarioElPeruano",
         "line": {
          "color": "#fabd2f",
          "dash": "solid"
         },
         "marker": {
          "symbol": "circle"
         },
         "mode": "lines",
         "name": "DiarioElPeruano",
         "showlegend": false,
         "type": "scattergl",
         "x": [
          "2022w33",
          "2022w34",
          "2022w39",
          "2022w44",
          "2022w49",
          "2023w2"
         ],
         "xaxis": "x27",
         "y": [
          13.393330118274934,
          10.974025980976892,
          11.63769685979962,
          6.95938522573219,
          21.02922037196662,
          229.63118948130983
         ],
         "yaxis": "y27"
        },
        {
         "hovertemplate": "newspaper=DiarioElPeruano<br>metric=like_count<br>stat=sum<br>year_week=%{x}<br>value=%{y}<extra></extra>",
         "legendgroup": "DiarioElPeruano",
         "line": {
          "color": "#fabd2f",
          "dash": "solid"
         },
         "marker": {
          "symbol": "circle"
         },
         "mode": "lines",
         "name": "DiarioElPeruano",
         "showlegend": false,
         "type": "scattergl",
         "x": [
          "2022w33",
          "2022w34",
          "2022w39",
          "2022w44",
          "2022w49",
          "2023w2"
         ],
         "xaxis": "x28",
         "y": [
          2854,
          2246,
          1980,
          1443,
          2945,
          8753
         ],
         "yaxis": "y28"
        },
        {
         "hovertemplate": "newspaper=DiarioElPeruano<br>metric=quote_count<br>stat=count<br>year_week=%{x}<br>value=%{y}<extra></extra>",
         "legendgroup": "DiarioElPeruano",
         "line": {
          "color": "#fabd2f",
          "dash": "solid"
         },
         "marker": {
          "symbol": "circle"
         },
         "mode": "lines",
         "name": "DiarioElPeruano",
         "showlegend": false,
         "type": "scattergl",
         "x": [
          "2022w33",
          "2022w34",
          "2022w39",
          "2022w44",
          "2022w49",
          "2023w2"
         ],
         "xaxis": "x15",
         "y": [
          229,
          200,
          226,
          186,
          201,
          216
         ],
         "yaxis": "y15"
        },
        {
         "hovertemplate": "newspaper=DiarioElPeruano<br>metric=quote_count<br>stat=max<br>year_week=%{x}<br>value=%{y}<extra></extra>",
         "legendgroup": "DiarioElPeruano",
         "line": {
          "color": "#fabd2f",
          "dash": "solid"
         },
         "marker": {
          "symbol": "circle"
         },
         "mode": "lines",
         "name": "DiarioElPeruano",
         "showlegend": false,
         "type": "scattergl",
         "x": [
          "2022w33",
          "2022w34",
          "2022w39",
          "2022w44",
          "2022w49",
          "2023w2"
         ],
         "xaxis": "x16",
         "y": [
          18,
          4,
          6,
          4,
          21,
          67
         ],
         "yaxis": "y16"
        },
        {
         "hovertemplate": "newspaper=DiarioElPeruano<br>metric=quote_count<br>stat=mean<br>year_week=%{x}<br>value=%{y}<extra></extra>",
         "legendgroup": "DiarioElPeruano",
         "line": {
          "color": "#fabd2f",
          "dash": "solid"
         },
         "marker": {
          "symbol": "circle"
         },
         "mode": "lines",
         "name": "DiarioElPeruano",
         "showlegend": false,
         "type": "scattergl",
         "x": [
          "2022w33",
          "2022w34",
          "2022w39",
          "2022w44",
          "2022w49",
          "2023w2"
         ],
         "xaxis": "x17",
         "y": [
          0.38427947598253276,
          0.345,
          0.1902654867256637,
          0.20430107526881722,
          0.472636815920398,
          1.2361111111111112
         ],
         "yaxis": "y17"
        },
        {
         "hovertemplate": "newspaper=DiarioElPeruano<br>metric=quote_count<br>stat=min<br>year_week=%{x}<br>value=%{y}<extra></extra>",
         "legendgroup": "DiarioElPeruano",
         "line": {
          "color": "#fabd2f",
          "dash": "solid"
         },
         "marker": {
          "symbol": "circle"
         },
         "mode": "lines",
         "name": "DiarioElPeruano",
         "showlegend": false,
         "type": "scattergl",
         "x": [
          "2022w33",
          "2022w34",
          "2022w39",
          "2022w44",
          "2022w49",
          "2023w2"
         ],
         "xaxis": "x18",
         "y": [
          0,
          0,
          0,
          0,
          0,
          0
         ],
         "yaxis": "y18"
        },
        {
         "hovertemplate": "newspaper=DiarioElPeruano<br>metric=quote_count<br>stat=ratio<br>year_week=%{x}<br>value=%{y}<extra></extra>",
         "legendgroup": "DiarioElPeruano",
         "line": {
          "color": "#fabd2f",
          "dash": "solid"
         },
         "marker": {
          "symbol": "circle"
         },
         "mode": "lines",
         "name": "DiarioElPeruano",
         "showlegend": false,
         "type": "scattergl",
         "x": [
          "2022w33",
          "2022w34",
          "2022w39",
          "2022w44",
          "2022w49",
          "2023w2"
         ],
         "xaxis": "x19",
         "y": [
          0.38427947598253276,
          0.345,
          0.1902654867256637,
          0.20430107526881722,
          0.472636815920398,
          1.2361111111111112
         ],
         "yaxis": "y19"
        },
        {
         "hovertemplate": "newspaper=DiarioElPeruano<br>metric=quote_count<br>stat=std<br>year_week=%{x}<br>value=%{y}<extra></extra>",
         "legendgroup": "DiarioElPeruano",
         "line": {
          "color": "#fabd2f",
          "dash": "solid"
         },
         "marker": {
          "symbol": "circle"
         },
         "mode": "lines",
         "name": "DiarioElPeruano",
         "showlegend": false,
         "type": "scattergl",
         "x": [
          "2022w33",
          "2022w34",
          "2022w39",
          "2022w44",
          "2022w49",
          "2023w2"
         ],
         "xaxis": "x20",
         "y": [
          1.414497936647018,
          0.698868432129493,
          0.6139800361242178,
          0.5211036061314122,
          1.670478228663221,
          6.447266712492627
         ],
         "yaxis": "y20"
        },
        {
         "hovertemplate": "newspaper=DiarioElPeruano<br>metric=quote_count<br>stat=sum<br>year_week=%{x}<br>value=%{y}<extra></extra>",
         "legendgroup": "DiarioElPeruano",
         "line": {
          "color": "#fabd2f",
          "dash": "solid"
         },
         "marker": {
          "symbol": "circle"
         },
         "mode": "lines",
         "name": "DiarioElPeruano",
         "showlegend": false,
         "type": "scattergl",
         "x": [
          "2022w33",
          "2022w34",
          "2022w39",
          "2022w44",
          "2022w49",
          "2023w2"
         ],
         "xaxis": "x21",
         "y": [
          88,
          69,
          43,
          38,
          95,
          267
         ],
         "yaxis": "y21"
        },
        {
         "hovertemplate": "newspaper=DiarioElPeruano<br>metric=reply_count<br>stat=count<br>year_week=%{x}<br>value=%{y}<extra></extra>",
         "legendgroup": "DiarioElPeruano",
         "line": {
          "color": "#fabd2f",
          "dash": "solid"
         },
         "marker": {
          "symbol": "circle"
         },
         "mode": "lines",
         "name": "DiarioElPeruano",
         "showlegend": false,
         "type": "scattergl",
         "x": [
          "2022w33",
          "2022w34",
          "2022w39",
          "2022w44",
          "2022w49",
          "2023w2"
         ],
         "xaxis": "x8",
         "y": [
          229,
          200,
          226,
          186,
          201,
          216
         ],
         "yaxis": "y8"
        },
        {
         "hovertemplate": "newspaper=DiarioElPeruano<br>metric=reply_count<br>stat=max<br>year_week=%{x}<br>value=%{y}<extra></extra>",
         "legendgroup": "DiarioElPeruano",
         "line": {
          "color": "#fabd2f",
          "dash": "solid"
         },
         "marker": {
          "symbol": "circle"
         },
         "mode": "lines",
         "name": "DiarioElPeruano",
         "showlegend": false,
         "type": "scattergl",
         "x": [
          "2022w33",
          "2022w34",
          "2022w39",
          "2022w44",
          "2022w49",
          "2023w2"
         ],
         "xaxis": "x9",
         "y": [
          42,
          35,
          11,
          26,
          95,
          642
         ],
         "yaxis": "y9"
        },
        {
         "hovertemplate": "newspaper=DiarioElPeruano<br>metric=reply_count<br>stat=mean<br>year_week=%{x}<br>value=%{y}<extra></extra>",
         "legendgroup": "DiarioElPeruano",
         "line": {
          "color": "#fabd2f",
          "dash": "solid"
         },
         "marker": {
          "symbol": "circle"
         },
         "mode": "lines",
         "name": "DiarioElPeruano",
         "showlegend": false,
         "type": "scattergl",
         "x": [
          "2022w33",
          "2022w34",
          "2022w39",
          "2022w44",
          "2022w49",
          "2023w2"
         ],
         "xaxis": "x10",
         "y": [
          1.9039301310043668,
          1.89,
          0.6814159292035398,
          1.1129032258064515,
          5.159203980099503,
          17.73611111111111
         ],
         "yaxis": "y10"
        },
        {
         "hovertemplate": "newspaper=DiarioElPeruano<br>metric=reply_count<br>stat=min<br>year_week=%{x}<br>value=%{y}<extra></extra>",
         "legendgroup": "DiarioElPeruano",
         "line": {
          "color": "#fabd2f",
          "dash": "solid"
         },
         "marker": {
          "symbol": "circle"
         },
         "mode": "lines",
         "name": "DiarioElPeruano",
         "showlegend": false,
         "type": "scattergl",
         "x": [
          "2022w33",
          "2022w34",
          "2022w39",
          "2022w44",
          "2022w49",
          "2023w2"
         ],
         "xaxis": "x11",
         "y": [
          0,
          0,
          0,
          0,
          0,
          0
         ],
         "yaxis": "y11"
        },
        {
         "hovertemplate": "newspaper=DiarioElPeruano<br>metric=reply_count<br>stat=ratio<br>year_week=%{x}<br>value=%{y}<extra></extra>",
         "legendgroup": "DiarioElPeruano",
         "line": {
          "color": "#fabd2f",
          "dash": "solid"
         },
         "marker": {
          "symbol": "circle"
         },
         "mode": "lines",
         "name": "DiarioElPeruano",
         "showlegend": false,
         "type": "scattergl",
         "x": [
          "2022w33",
          "2022w34",
          "2022w39",
          "2022w44",
          "2022w49",
          "2023w2"
         ],
         "xaxis": "x12",
         "y": [
          1.9039301310043668,
          1.89,
          0.6814159292035398,
          1.1129032258064515,
          5.159203980099503,
          17.73611111111111
         ],
         "yaxis": "y12"
        },
        {
         "hovertemplate": "newspaper=DiarioElPeruano<br>metric=reply_count<br>stat=std<br>year_week=%{x}<br>value=%{y}<extra></extra>",
         "legendgroup": "DiarioElPeruano",
         "line": {
          "color": "#fabd2f",
          "dash": "solid"
         },
         "marker": {
          "symbol": "circle"
         },
         "mode": "lines",
         "name": "DiarioElPeruano",
         "showlegend": false,
         "type": "scattergl",
         "x": [
          "2022w33",
          "2022w34",
          "2022w39",
          "2022w44",
          "2022w49",
          "2023w2"
         ],
         "xaxis": "x13",
         "y": [
          4.765503997057825,
          4.444849088223967,
          1.4438558667719574,
          2.9834036722618027,
          11.74880961473051,
          73.41040919579847
         ],
         "yaxis": "y13"
        },
        {
         "hovertemplate": "newspaper=DiarioElPeruano<br>metric=reply_count<br>stat=sum<br>year_week=%{x}<br>value=%{y}<extra></extra>",
         "legendgroup": "DiarioElPeruano",
         "line": {
          "color": "#fabd2f",
          "dash": "solid"
         },
         "marker": {
          "symbol": "circle"
         },
         "mode": "lines",
         "name": "DiarioElPeruano",
         "showlegend": false,
         "type": "scattergl",
         "x": [
          "2022w33",
          "2022w34",
          "2022w39",
          "2022w44",
          "2022w49",
          "2023w2"
         ],
         "xaxis": "x14",
         "y": [
          436,
          378,
          154,
          207,
          1037,
          3831
         ],
         "yaxis": "y14"
        },
        {
         "hovertemplate": "newspaper=DiarioElPeruano<br>metric=retweet_count<br>stat=count<br>year_week=%{x}<br>value=%{y}<extra></extra>",
         "legendgroup": "DiarioElPeruano",
         "line": {
          "color": "#fabd2f",
          "dash": "solid"
         },
         "marker": {
          "symbol": "circle"
         },
         "mode": "lines",
         "name": "DiarioElPeruano",
         "showlegend": false,
         "type": "scattergl",
         "x": [
          "2022w33",
          "2022w34",
          "2022w39",
          "2022w44",
          "2022w49",
          "2023w2"
         ],
         "xaxis": "x",
         "y": [
          229,
          200,
          226,
          186,
          201,
          216
         ],
         "yaxis": "y"
        },
        {
         "hovertemplate": "newspaper=DiarioElPeruano<br>metric=retweet_count<br>stat=max<br>year_week=%{x}<br>value=%{y}<extra></extra>",
         "legendgroup": "DiarioElPeruano",
         "line": {
          "color": "#fabd2f",
          "dash": "solid"
         },
         "marker": {
          "symbol": "circle"
         },
         "mode": "lines",
         "name": "DiarioElPeruano",
         "showlegend": false,
         "type": "scattergl",
         "x": [
          "2022w33",
          "2022w34",
          "2022w39",
          "2022w44",
          "2022w49",
          "2023w2"
         ],
         "xaxis": "x2",
         "y": [
          28,
          74,
          174,
          29,
          1894,
          543
         ],
         "yaxis": "y2"
        },
        {
         "hovertemplate": "newspaper=DiarioElPeruano<br>metric=retweet_count<br>stat=mean<br>year_week=%{x}<br>value=%{y}<extra></extra>",
         "legendgroup": "DiarioElPeruano",
         "line": {
          "color": "#fabd2f",
          "dash": "solid"
         },
         "marker": {
          "symbol": "circle"
         },
         "mode": "lines",
         "name": "DiarioElPeruano",
         "showlegend": false,
         "type": "scattergl",
         "x": [
          "2022w33",
          "2022w34",
          "2022w39",
          "2022w44",
          "2022w49",
          "2023w2"
         ],
         "xaxis": "x3",
         "y": [
          3.2270742358078603,
          3.15,
          2.433628318584071,
          1.8655913978494623,
          13.044776119402986,
          10.11111111111111
         ],
         "yaxis": "y3"
        },
        {
         "hovertemplate": "newspaper=DiarioElPeruano<br>metric=retweet_count<br>stat=min<br>year_week=%{x}<br>value=%{y}<extra></extra>",
         "legendgroup": "DiarioElPeruano",
         "line": {
          "color": "#fabd2f",
          "dash": "solid"
         },
         "marker": {
          "symbol": "circle"
         },
         "mode": "lines",
         "name": "DiarioElPeruano",
         "showlegend": false,
         "type": "scattergl",
         "x": [
          "2022w33",
          "2022w34",
          "2022w39",
          "2022w44",
          "2022w49",
          "2023w2"
         ],
         "xaxis": "x4",
         "y": [
          0,
          0,
          0,
          0,
          0,
          0
         ],
         "yaxis": "y4"
        },
        {
         "hovertemplate": "newspaper=DiarioElPeruano<br>metric=retweet_count<br>stat=ratio<br>year_week=%{x}<br>value=%{y}<extra></extra>",
         "legendgroup": "DiarioElPeruano",
         "line": {
          "color": "#fabd2f",
          "dash": "solid"
         },
         "marker": {
          "symbol": "circle"
         },
         "mode": "lines",
         "name": "DiarioElPeruano",
         "showlegend": false,
         "type": "scattergl",
         "x": [
          "2022w33",
          "2022w34",
          "2022w39",
          "2022w44",
          "2022w49",
          "2023w2"
         ],
         "xaxis": "x5",
         "y": [
          3.2270742358078603,
          3.15,
          2.433628318584071,
          1.8655913978494623,
          13.044776119402986,
          10.11111111111111
         ],
         "yaxis": "y5"
        },
        {
         "hovertemplate": "newspaper=DiarioElPeruano<br>metric=retweet_count<br>stat=std<br>year_week=%{x}<br>value=%{y}<extra></extra>",
         "legendgroup": "DiarioElPeruano",
         "line": {
          "color": "#fabd2f",
          "dash": "solid"
         },
         "marker": {
          "symbol": "circle"
         },
         "mode": "lines",
         "name": "DiarioElPeruano",
         "showlegend": false,
         "type": "scattergl",
         "x": [
          "2022w33",
          "2022w34",
          "2022w39",
          "2022w44",
          "2022w49",
          "2023w2"
         ],
         "xaxis": "x6",
         "y": [
          3.9281888039594772,
          7.223461217435793,
          11.751785571143126,
          2.936848637337018,
          133.94395464176282,
          53.23188995824901
         ],
         "yaxis": "y6"
        },
        {
         "hovertemplate": "newspaper=DiarioElPeruano<br>metric=retweet_count<br>stat=sum<br>year_week=%{x}<br>value=%{y}<extra></extra>",
         "legendgroup": "DiarioElPeruano",
         "line": {
          "color": "#fabd2f",
          "dash": "solid"
         },
         "marker": {
          "symbol": "circle"
         },
         "mode": "lines",
         "name": "DiarioElPeruano",
         "showlegend": false,
         "type": "scattergl",
         "x": [
          "2022w33",
          "2022w34",
          "2022w39",
          "2022w44",
          "2022w49",
          "2023w2"
         ],
         "xaxis": "x7",
         "y": [
          739,
          630,
          550,
          347,
          2622,
          2184
         ],
         "yaxis": "y7"
        },
        {
         "hovertemplate": "newspaper=ExpresoPeru<br>metric=like_count<br>stat=count<br>year_week=%{x}<br>value=%{y}<extra></extra>",
         "legendgroup": "ExpresoPeru",
         "line": {
          "color": "#b8bb26",
          "dash": "solid"
         },
         "marker": {
          "symbol": "circle"
         },
         "mode": "lines",
         "name": "ExpresoPeru",
         "showlegend": true,
         "type": "scattergl",
         "x": [
          "2022w33",
          "2022w34",
          "2022w39",
          "2022w44",
          "2022w49",
          "2023w2"
         ],
         "xaxis": "x22",
         "y": [
          287,
          208,
          259,
          195,
          250,
          255
         ],
         "yaxis": "y22"
        },
        {
         "hovertemplate": "newspaper=ExpresoPeru<br>metric=like_count<br>stat=max<br>year_week=%{x}<br>value=%{y}<extra></extra>",
         "legendgroup": "ExpresoPeru",
         "line": {
          "color": "#b8bb26",
          "dash": "solid"
         },
         "marker": {
          "symbol": "circle"
         },
         "mode": "lines",
         "name": "ExpresoPeru",
         "showlegend": false,
         "type": "scattergl",
         "x": [
          "2022w33",
          "2022w34",
          "2022w39",
          "2022w44",
          "2022w49",
          "2023w2"
         ],
         "xaxis": "x23",
         "y": [
          1414,
          1811,
          1579,
          1946,
          1635,
          2727
         ],
         "yaxis": "y23"
        },
        {
         "hovertemplate": "newspaper=ExpresoPeru<br>metric=like_count<br>stat=mean<br>year_week=%{x}<br>value=%{y}<extra></extra>",
         "legendgroup": "ExpresoPeru",
         "line": {
          "color": "#b8bb26",
          "dash": "solid"
         },
         "marker": {
          "symbol": "circle"
         },
         "mode": "lines",
         "name": "ExpresoPeru",
         "showlegend": false,
         "type": "scattergl",
         "x": [
          "2022w33",
          "2022w34",
          "2022w39",
          "2022w44",
          "2022w49",
          "2023w2"
         ],
         "xaxis": "x24",
         "y": [
          107.58885017421603,
          128.72115384615384,
          82.17760617760618,
          75.17948717948718,
          107.58,
          107.66666666666667
         ],
         "yaxis": "y24"
        },
        {
         "hovertemplate": "newspaper=ExpresoPeru<br>metric=like_count<br>stat=min<br>year_week=%{x}<br>value=%{y}<extra></extra>",
         "legendgroup": "ExpresoPeru",
         "line": {
          "color": "#b8bb26",
          "dash": "solid"
         },
         "marker": {
          "symbol": "circle"
         },
         "mode": "lines",
         "name": "ExpresoPeru",
         "showlegend": false,
         "type": "scattergl",
         "x": [
          "2022w33",
          "2022w34",
          "2022w39",
          "2022w44",
          "2022w49",
          "2023w2"
         ],
         "xaxis": "x25",
         "y": [
          0,
          0,
          0,
          0,
          0,
          0
         ],
         "yaxis": "y25"
        },
        {
         "hovertemplate": "newspaper=ExpresoPeru<br>metric=like_count<br>stat=ratio<br>year_week=%{x}<br>value=%{y}<extra></extra>",
         "legendgroup": "ExpresoPeru",
         "line": {
          "color": "#b8bb26",
          "dash": "solid"
         },
         "marker": {
          "symbol": "circle"
         },
         "mode": "lines",
         "name": "ExpresoPeru",
         "showlegend": false,
         "type": "scattergl",
         "x": [
          "2022w33",
          "2022w34",
          "2022w39",
          "2022w44",
          "2022w49",
          "2023w2"
         ],
         "xaxis": "x26",
         "y": [
          107.58885017421603,
          128.72115384615384,
          82.17760617760618,
          75.17948717948718,
          107.58,
          107.66666666666667
         ],
         "yaxis": "y26"
        },
        {
         "hovertemplate": "newspaper=ExpresoPeru<br>metric=like_count<br>stat=std<br>year_week=%{x}<br>value=%{y}<extra></extra>",
         "legendgroup": "ExpresoPeru",
         "line": {
          "color": "#b8bb26",
          "dash": "solid"
         },
         "marker": {
          "symbol": "circle"
         },
         "mode": "lines",
         "name": "ExpresoPeru",
         "showlegend": false,
         "type": "scattergl",
         "x": [
          "2022w33",
          "2022w34",
          "2022w39",
          "2022w44",
          "2022w49",
          "2023w2"
         ],
         "xaxis": "x27",
         "y": [
          226.06762621724158,
          296.57829515023127,
          198.83014283081775,
          201.9729837750421,
          232.43720834516398,
          264.1893012153225
         ],
         "yaxis": "y27"
        },
        {
         "hovertemplate": "newspaper=ExpresoPeru<br>metric=like_count<br>stat=sum<br>year_week=%{x}<br>value=%{y}<extra></extra>",
         "legendgroup": "ExpresoPeru",
         "line": {
          "color": "#b8bb26",
          "dash": "solid"
         },
         "marker": {
          "symbol": "circle"
         },
         "mode": "lines",
         "name": "ExpresoPeru",
         "showlegend": false,
         "type": "scattergl",
         "x": [
          "2022w33",
          "2022w34",
          "2022w39",
          "2022w44",
          "2022w49",
          "2023w2"
         ],
         "xaxis": "x28",
         "y": [
          30878,
          26774,
          21284,
          14660,
          26895,
          27455
         ],
         "yaxis": "y28"
        },
        {
         "hovertemplate": "newspaper=ExpresoPeru<br>metric=quote_count<br>stat=count<br>year_week=%{x}<br>value=%{y}<extra></extra>",
         "legendgroup": "ExpresoPeru",
         "line": {
          "color": "#b8bb26",
          "dash": "solid"
         },
         "marker": {
          "symbol": "circle"
         },
         "mode": "lines",
         "name": "ExpresoPeru",
         "showlegend": false,
         "type": "scattergl",
         "x": [
          "2022w33",
          "2022w34",
          "2022w39",
          "2022w44",
          "2022w49",
          "2023w2"
         ],
         "xaxis": "x15",
         "y": [
          287,
          208,
          259,
          195,
          250,
          255
         ],
         "yaxis": "y15"
        },
        {
         "hovertemplate": "newspaper=ExpresoPeru<br>metric=quote_count<br>stat=max<br>year_week=%{x}<br>value=%{y}<extra></extra>",
         "legendgroup": "ExpresoPeru",
         "line": {
          "color": "#b8bb26",
          "dash": "solid"
         },
         "marker": {
          "symbol": "circle"
         },
         "mode": "lines",
         "name": "ExpresoPeru",
         "showlegend": false,
         "type": "scattergl",
         "x": [
          "2022w33",
          "2022w34",
          "2022w39",
          "2022w44",
          "2022w49",
          "2023w2"
         ],
         "xaxis": "x16",
         "y": [
          74,
          79,
          36,
          64,
          56,
          83
         ],
         "yaxis": "y16"
        },
        {
         "hovertemplate": "newspaper=ExpresoPeru<br>metric=quote_count<br>stat=mean<br>year_week=%{x}<br>value=%{y}<extra></extra>",
         "legendgroup": "ExpresoPeru",
         "line": {
          "color": "#b8bb26",
          "dash": "solid"
         },
         "marker": {
          "symbol": "circle"
         },
         "mode": "lines",
         "name": "ExpresoPeru",
         "showlegend": false,
         "type": "scattergl",
         "x": [
          "2022w33",
          "2022w34",
          "2022w39",
          "2022w44",
          "2022w49",
          "2023w2"
         ],
         "xaxis": "x17",
         "y": [
          2.5993031358885017,
          4.399038461538462,
          2.0965250965250966,
          3.9128205128205127,
          4.044,
          3.1098039215686275
         ],
         "yaxis": "y17"
        },
        {
         "hovertemplate": "newspaper=ExpresoPeru<br>metric=quote_count<br>stat=min<br>year_week=%{x}<br>value=%{y}<extra></extra>",
         "legendgroup": "ExpresoPeru",
         "line": {
          "color": "#b8bb26",
          "dash": "solid"
         },
         "marker": {
          "symbol": "circle"
         },
         "mode": "lines",
         "name": "ExpresoPeru",
         "showlegend": false,
         "type": "scattergl",
         "x": [
          "2022w33",
          "2022w34",
          "2022w39",
          "2022w44",
          "2022w49",
          "2023w2"
         ],
         "xaxis": "x18",
         "y": [
          0,
          0,
          0,
          0,
          0,
          0
         ],
         "yaxis": "y18"
        },
        {
         "hovertemplate": "newspaper=ExpresoPeru<br>metric=quote_count<br>stat=ratio<br>year_week=%{x}<br>value=%{y}<extra></extra>",
         "legendgroup": "ExpresoPeru",
         "line": {
          "color": "#b8bb26",
          "dash": "solid"
         },
         "marker": {
          "symbol": "circle"
         },
         "mode": "lines",
         "name": "ExpresoPeru",
         "showlegend": false,
         "type": "scattergl",
         "x": [
          "2022w33",
          "2022w34",
          "2022w39",
          "2022w44",
          "2022w49",
          "2023w2"
         ],
         "xaxis": "x19",
         "y": [
          2.5993031358885017,
          4.399038461538462,
          2.0965250965250966,
          3.9128205128205127,
          4.044,
          3.1098039215686275
         ],
         "yaxis": "y19"
        },
        {
         "hovertemplate": "newspaper=ExpresoPeru<br>metric=quote_count<br>stat=std<br>year_week=%{x}<br>value=%{y}<extra></extra>",
         "legendgroup": "ExpresoPeru",
         "line": {
          "color": "#b8bb26",
          "dash": "solid"
         },
         "marker": {
          "symbol": "circle"
         },
         "mode": "lines",
         "name": "ExpresoPeru",
         "showlegend": false,
         "type": "scattergl",
         "x": [
          "2022w33",
          "2022w34",
          "2022w39",
          "2022w44",
          "2022w49",
          "2023w2"
         ],
         "xaxis": "x20",
         "y": [
          5.799963787150991,
          10.736159455034377,
          4.820252362634554,
          9.960105459611729,
          7.172716042175846,
          9.879375934695451
         ],
         "yaxis": "y20"
        },
        {
         "hovertemplate": "newspaper=ExpresoPeru<br>metric=quote_count<br>stat=sum<br>year_week=%{x}<br>value=%{y}<extra></extra>",
         "legendgroup": "ExpresoPeru",
         "line": {
          "color": "#b8bb26",
          "dash": "solid"
         },
         "marker": {
          "symbol": "circle"
         },
         "mode": "lines",
         "name": "ExpresoPeru",
         "showlegend": false,
         "type": "scattergl",
         "x": [
          "2022w33",
          "2022w34",
          "2022w39",
          "2022w44",
          "2022w49",
          "2023w2"
         ],
         "xaxis": "x21",
         "y": [
          746,
          915,
          543,
          763,
          1011,
          793
         ],
         "yaxis": "y21"
        },
        {
         "hovertemplate": "newspaper=ExpresoPeru<br>metric=reply_count<br>stat=count<br>year_week=%{x}<br>value=%{y}<extra></extra>",
         "legendgroup": "ExpresoPeru",
         "line": {
          "color": "#b8bb26",
          "dash": "solid"
         },
         "marker": {
          "symbol": "circle"
         },
         "mode": "lines",
         "name": "ExpresoPeru",
         "showlegend": false,
         "type": "scattergl",
         "x": [
          "2022w33",
          "2022w34",
          "2022w39",
          "2022w44",
          "2022w49",
          "2023w2"
         ],
         "xaxis": "x8",
         "y": [
          287,
          208,
          259,
          195,
          250,
          255
         ],
         "yaxis": "y8"
        },
        {
         "hovertemplate": "newspaper=ExpresoPeru<br>metric=reply_count<br>stat=max<br>year_week=%{x}<br>value=%{y}<extra></extra>",
         "legendgroup": "ExpresoPeru",
         "line": {
          "color": "#b8bb26",
          "dash": "solid"
         },
         "marker": {
          "symbol": "circle"
         },
         "mode": "lines",
         "name": "ExpresoPeru",
         "showlegend": false,
         "type": "scattergl",
         "x": [
          "2022w33",
          "2022w34",
          "2022w39",
          "2022w44",
          "2022w49",
          "2023w2"
         ],
         "xaxis": "x9",
         "y": [
          337,
          993,
          384,
          727,
          618,
          977
         ],
         "yaxis": "y9"
        },
        {
         "hovertemplate": "newspaper=ExpresoPeru<br>metric=reply_count<br>stat=mean<br>year_week=%{x}<br>value=%{y}<extra></extra>",
         "legendgroup": "ExpresoPeru",
         "line": {
          "color": "#b8bb26",
          "dash": "solid"
         },
         "marker": {
          "symbol": "circle"
         },
         "mode": "lines",
         "name": "ExpresoPeru",
         "showlegend": false,
         "type": "scattergl",
         "x": [
          "2022w33",
          "2022w34",
          "2022w39",
          "2022w44",
          "2022w49",
          "2023w2"
         ],
         "xaxis": "x10",
         "y": [
          18.585365853658537,
          37.19230769230769,
          16.05019305019305,
          36.81025641025641,
          42.42,
          36.37647058823529
         ],
         "yaxis": "y10"
        },
        {
         "hovertemplate": "newspaper=ExpresoPeru<br>metric=reply_count<br>stat=min<br>year_week=%{x}<br>value=%{y}<extra></extra>",
         "legendgroup": "ExpresoPeru",
         "line": {
          "color": "#b8bb26",
          "dash": "solid"
         },
         "marker": {
          "symbol": "circle"
         },
         "mode": "lines",
         "name": "ExpresoPeru",
         "showlegend": false,
         "type": "scattergl",
         "x": [
          "2022w33",
          "2022w34",
          "2022w39",
          "2022w44",
          "2022w49",
          "2023w2"
         ],
         "xaxis": "x11",
         "y": [
          0,
          0,
          0,
          0,
          0,
          0
         ],
         "yaxis": "y11"
        },
        {
         "hovertemplate": "newspaper=ExpresoPeru<br>metric=reply_count<br>stat=ratio<br>year_week=%{x}<br>value=%{y}<extra></extra>",
         "legendgroup": "ExpresoPeru",
         "line": {
          "color": "#b8bb26",
          "dash": "solid"
         },
         "marker": {
          "symbol": "circle"
         },
         "mode": "lines",
         "name": "ExpresoPeru",
         "showlegend": false,
         "type": "scattergl",
         "x": [
          "2022w33",
          "2022w34",
          "2022w39",
          "2022w44",
          "2022w49",
          "2023w2"
         ],
         "xaxis": "x12",
         "y": [
          18.585365853658537,
          37.19230769230769,
          16.05019305019305,
          36.81025641025641,
          42.42,
          36.37647058823529
         ],
         "yaxis": "y12"
        },
        {
         "hovertemplate": "newspaper=ExpresoPeru<br>metric=reply_count<br>stat=std<br>year_week=%{x}<br>value=%{y}<extra></extra>",
         "legendgroup": "ExpresoPeru",
         "line": {
          "color": "#b8bb26",
          "dash": "solid"
         },
         "marker": {
          "symbol": "circle"
         },
         "mode": "lines",
         "name": "ExpresoPeru",
         "showlegend": false,
         "type": "scattergl",
         "x": [
          "2022w33",
          "2022w34",
          "2022w39",
          "2022w44",
          "2022w49",
          "2023w2"
         ],
         "xaxis": "x13",
         "y": [
          39.583569140896294,
          105.04446511210135,
          40.0107711994919,
          102.16108110333386,
          89.31171215305886,
          110.83927959383374
         ],
         "yaxis": "y13"
        },
        {
         "hovertemplate": "newspaper=ExpresoPeru<br>metric=reply_count<br>stat=sum<br>year_week=%{x}<br>value=%{y}<extra></extra>",
         "legendgroup": "ExpresoPeru",
         "line": {
          "color": "#b8bb26",
          "dash": "solid"
         },
         "marker": {
          "symbol": "circle"
         },
         "mode": "lines",
         "name": "ExpresoPeru",
         "showlegend": false,
         "type": "scattergl",
         "x": [
          "2022w33",
          "2022w34",
          "2022w39",
          "2022w44",
          "2022w49",
          "2023w2"
         ],
         "xaxis": "x14",
         "y": [
          5334,
          7736,
          4157,
          7178,
          10605,
          9276
         ],
         "yaxis": "y14"
        },
        {
         "hovertemplate": "newspaper=ExpresoPeru<br>metric=retweet_count<br>stat=count<br>year_week=%{x}<br>value=%{y}<extra></extra>",
         "legendgroup": "ExpresoPeru",
         "line": {
          "color": "#b8bb26",
          "dash": "solid"
         },
         "marker": {
          "symbol": "circle"
         },
         "mode": "lines",
         "name": "ExpresoPeru",
         "showlegend": false,
         "type": "scattergl",
         "x": [
          "2022w33",
          "2022w34",
          "2022w39",
          "2022w44",
          "2022w49",
          "2023w2"
         ],
         "xaxis": "x",
         "y": [
          287,
          208,
          259,
          195,
          250,
          255
         ],
         "yaxis": "y"
        },
        {
         "hovertemplate": "newspaper=ExpresoPeru<br>metric=retweet_count<br>stat=max<br>year_week=%{x}<br>value=%{y}<extra></extra>",
         "legendgroup": "ExpresoPeru",
         "line": {
          "color": "#b8bb26",
          "dash": "solid"
         },
         "marker": {
          "symbol": "circle"
         },
         "mode": "lines",
         "name": "ExpresoPeru",
         "showlegend": false,
         "type": "scattergl",
         "x": [
          "2022w33",
          "2022w34",
          "2022w39",
          "2022w44",
          "2022w49",
          "2023w2"
         ],
         "xaxis": "x2",
         "y": [
          445,
          592,
          417,
          367,
          461,
          705
         ],
         "yaxis": "y2"
        },
        {
         "hovertemplate": "newspaper=ExpresoPeru<br>metric=retweet_count<br>stat=mean<br>year_week=%{x}<br>value=%{y}<extra></extra>",
         "legendgroup": "ExpresoPeru",
         "line": {
          "color": "#b8bb26",
          "dash": "solid"
         },
         "marker": {
          "symbol": "circle"
         },
         "mode": "lines",
         "name": "ExpresoPeru",
         "showlegend": false,
         "type": "scattergl",
         "x": [
          "2022w33",
          "2022w34",
          "2022w39",
          "2022w44",
          "2022w49",
          "2023w2"
         ],
         "xaxis": "x3",
         "y": [
          33.76306620209059,
          37.57211538461539,
          27.015444015444015,
          26.57948717948718,
          29.172,
          29.36470588235294
         ],
         "yaxis": "y3"
        },
        {
         "hovertemplate": "newspaper=ExpresoPeru<br>metric=retweet_count<br>stat=min<br>year_week=%{x}<br>value=%{y}<extra></extra>",
         "legendgroup": "ExpresoPeru",
         "line": {
          "color": "#b8bb26",
          "dash": "solid"
         },
         "marker": {
          "symbol": "circle"
         },
         "mode": "lines",
         "name": "ExpresoPeru",
         "showlegend": false,
         "type": "scattergl",
         "x": [
          "2022w33",
          "2022w34",
          "2022w39",
          "2022w44",
          "2022w49",
          "2023w2"
         ],
         "xaxis": "x4",
         "y": [
          0,
          0,
          0,
          0,
          0,
          0
         ],
         "yaxis": "y4"
        },
        {
         "hovertemplate": "newspaper=ExpresoPeru<br>metric=retweet_count<br>stat=ratio<br>year_week=%{x}<br>value=%{y}<extra></extra>",
         "legendgroup": "ExpresoPeru",
         "line": {
          "color": "#b8bb26",
          "dash": "solid"
         },
         "marker": {
          "symbol": "circle"
         },
         "mode": "lines",
         "name": "ExpresoPeru",
         "showlegend": false,
         "type": "scattergl",
         "x": [
          "2022w33",
          "2022w34",
          "2022w39",
          "2022w44",
          "2022w49",
          "2023w2"
         ],
         "xaxis": "x5",
         "y": [
          33.76306620209059,
          37.57211538461539,
          27.015444015444015,
          26.57948717948718,
          29.172,
          29.36470588235294
         ],
         "yaxis": "y5"
        },
        {
         "hovertemplate": "newspaper=ExpresoPeru<br>metric=retweet_count<br>stat=std<br>year_week=%{x}<br>value=%{y}<extra></extra>",
         "legendgroup": "ExpresoPeru",
         "line": {
          "color": "#b8bb26",
          "dash": "solid"
         },
         "marker": {
          "symbol": "circle"
         },
         "mode": "lines",
         "name": "ExpresoPeru",
         "showlegend": false,
         "type": "scattergl",
         "x": [
          "2022w33",
          "2022w34",
          "2022w39",
          "2022w44",
          "2022w49",
          "2023w2"
         ],
         "xaxis": "x6",
         "y": [
          69.79064318288103,
          80.89944012123105,
          63.562638891753714,
          62.82702148440303,
          57.86369539685414,
          79.64436410489445
         ],
         "yaxis": "y6"
        },
        {
         "hovertemplate": "newspaper=ExpresoPeru<br>metric=retweet_count<br>stat=sum<br>year_week=%{x}<br>value=%{y}<extra></extra>",
         "legendgroup": "ExpresoPeru",
         "line": {
          "color": "#b8bb26",
          "dash": "solid"
         },
         "marker": {
          "symbol": "circle"
         },
         "mode": "lines",
         "name": "ExpresoPeru",
         "showlegend": false,
         "type": "scattergl",
         "x": [
          "2022w33",
          "2022w34",
          "2022w39",
          "2022w44",
          "2022w49",
          "2023w2"
         ],
         "xaxis": "x7",
         "y": [
          9690,
          7815,
          6997,
          5183,
          7293,
          7488
         ],
         "yaxis": "y7"
        },
        {
         "hovertemplate": "newspaper=Gestionpe<br>metric=like_count<br>stat=count<br>year_week=%{x}<br>value=%{y}<extra></extra>",
         "legendgroup": "Gestionpe",
         "line": {
          "color": "#458588",
          "dash": "solid"
         },
         "marker": {
          "symbol": "circle"
         },
         "mode": "lines",
         "name": "Gestionpe",
         "showlegend": true,
         "type": "scattergl",
         "x": [
          "2022w33",
          "2022w34",
          "2022w39",
          "2022w44",
          "2022w49",
          "2023w2"
         ],
         "xaxis": "x22",
         "y": [
          1509,
          848,
          1199,
          800,
          809,
          919
         ],
         "yaxis": "y22"
        },
        {
         "hovertemplate": "newspaper=Gestionpe<br>metric=like_count<br>stat=max<br>year_week=%{x}<br>value=%{y}<extra></extra>",
         "legendgroup": "Gestionpe",
         "line": {
          "color": "#458588",
          "dash": "solid"
         },
         "marker": {
          "symbol": "circle"
         },
         "mode": "lines",
         "name": "Gestionpe",
         "showlegend": false,
         "type": "scattergl",
         "x": [
          "2022w33",
          "2022w34",
          "2022w39",
          "2022w44",
          "2022w49",
          "2023w2"
         ],
         "xaxis": "x23",
         "y": [
          235,
          366,
          590,
          385,
          349,
          870
         ],
         "yaxis": "y23"
        },
        {
         "hovertemplate": "newspaper=Gestionpe<br>metric=like_count<br>stat=mean<br>year_week=%{x}<br>value=%{y}<extra></extra>",
         "legendgroup": "Gestionpe",
         "line": {
          "color": "#458588",
          "dash": "solid"
         },
         "marker": {
          "symbol": "circle"
         },
         "mode": "lines",
         "name": "Gestionpe",
         "showlegend": false,
         "type": "scattergl",
         "x": [
          "2022w33",
          "2022w34",
          "2022w39",
          "2022w44",
          "2022w49",
          "2023w2"
         ],
         "xaxis": "x24",
         "y": [
          3.988071570576541,
          5.423349056603773,
          4.8498748957464555,
          4.3575,
          8.088998763906057,
          7.4178454842219805
         ],
         "yaxis": "y24"
        },
        {
         "hovertemplate": "newspaper=Gestionpe<br>metric=like_count<br>stat=min<br>year_week=%{x}<br>value=%{y}<extra></extra>",
         "legendgroup": "Gestionpe",
         "line": {
          "color": "#458588",
          "dash": "solid"
         },
         "marker": {
          "symbol": "circle"
         },
         "mode": "lines",
         "name": "Gestionpe",
         "showlegend": false,
         "type": "scattergl",
         "x": [
          "2022w33",
          "2022w34",
          "2022w39",
          "2022w44",
          "2022w49",
          "2023w2"
         ],
         "xaxis": "x25",
         "y": [
          0,
          0,
          0,
          0,
          0,
          0
         ],
         "yaxis": "y25"
        },
        {
         "hovertemplate": "newspaper=Gestionpe<br>metric=like_count<br>stat=ratio<br>year_week=%{x}<br>value=%{y}<extra></extra>",
         "legendgroup": "Gestionpe",
         "line": {
          "color": "#458588",
          "dash": "solid"
         },
         "marker": {
          "symbol": "circle"
         },
         "mode": "lines",
         "name": "Gestionpe",
         "showlegend": false,
         "type": "scattergl",
         "x": [
          "2022w33",
          "2022w34",
          "2022w39",
          "2022w44",
          "2022w49",
          "2023w2"
         ],
         "xaxis": "x26",
         "y": [
          3.988071570576541,
          5.423349056603773,
          4.8498748957464555,
          4.3575,
          8.088998763906057,
          7.4178454842219805
         ],
         "yaxis": "y26"
        },
        {
         "hovertemplate": "newspaper=Gestionpe<br>metric=like_count<br>stat=std<br>year_week=%{x}<br>value=%{y}<extra></extra>",
         "legendgroup": "Gestionpe",
         "line": {
          "color": "#458588",
          "dash": "solid"
         },
         "marker": {
          "symbol": "circle"
         },
         "mode": "lines",
         "name": "Gestionpe",
         "showlegend": false,
         "type": "scattergl",
         "x": [
          "2022w33",
          "2022w34",
          "2022w39",
          "2022w44",
          "2022w49",
          "2023w2"
         ],
         "xaxis": "x27",
         "y": [
          11.252225989274626,
          17.46580459672431,
          20.33937802388162,
          18.224567548447066,
          19.317295644091494,
          43.55603341908971
         ],
         "yaxis": "y27"
        },
        {
         "hovertemplate": "newspaper=Gestionpe<br>metric=like_count<br>stat=sum<br>year_week=%{x}<br>value=%{y}<extra></extra>",
         "legendgroup": "Gestionpe",
         "line": {
          "color": "#458588",
          "dash": "solid"
         },
         "marker": {
          "symbol": "circle"
         },
         "mode": "lines",
         "name": "Gestionpe",
         "showlegend": false,
         "type": "scattergl",
         "x": [
          "2022w33",
          "2022w34",
          "2022w39",
          "2022w44",
          "2022w49",
          "2023w2"
         ],
         "xaxis": "x28",
         "y": [
          6018,
          4599,
          5815,
          3486,
          6544,
          6817
         ],
         "yaxis": "y28"
        },
        {
         "hovertemplate": "newspaper=Gestionpe<br>metric=quote_count<br>stat=count<br>year_week=%{x}<br>value=%{y}<extra></extra>",
         "legendgroup": "Gestionpe",
         "line": {
          "color": "#458588",
          "dash": "solid"
         },
         "marker": {
          "symbol": "circle"
         },
         "mode": "lines",
         "name": "Gestionpe",
         "showlegend": false,
         "type": "scattergl",
         "x": [
          "2022w33",
          "2022w34",
          "2022w39",
          "2022w44",
          "2022w49",
          "2023w2"
         ],
         "xaxis": "x15",
         "y": [
          1509,
          848,
          1199,
          800,
          809,
          919
         ],
         "yaxis": "y15"
        },
        {
         "hovertemplate": "newspaper=Gestionpe<br>metric=quote_count<br>stat=max<br>year_week=%{x}<br>value=%{y}<extra></extra>",
         "legendgroup": "Gestionpe",
         "line": {
          "color": "#458588",
          "dash": "solid"
         },
         "marker": {
          "symbol": "circle"
         },
         "mode": "lines",
         "name": "Gestionpe",
         "showlegend": false,
         "type": "scattergl",
         "x": [
          "2022w33",
          "2022w34",
          "2022w39",
          "2022w44",
          "2022w49",
          "2023w2"
         ],
         "xaxis": "x16",
         "y": [
          25,
          18,
          30,
          15,
          28,
          15
         ],
         "yaxis": "y16"
        },
        {
         "hovertemplate": "newspaper=Gestionpe<br>metric=quote_count<br>stat=mean<br>year_week=%{x}<br>value=%{y}<extra></extra>",
         "legendgroup": "Gestionpe",
         "line": {
          "color": "#458588",
          "dash": "solid"
         },
         "marker": {
          "symbol": "circle"
         },
         "mode": "lines",
         "name": "Gestionpe",
         "showlegend": false,
         "type": "scattergl",
         "x": [
          "2022w33",
          "2022w34",
          "2022w39",
          "2022w44",
          "2022w49",
          "2023w2"
         ],
         "xaxis": "x17",
         "y": [
          0.147117296222664,
          0.17806603773584906,
          0.20600500417014178,
          0.1975,
          0.35599505562422745,
          0.23939064200217627
         ],
         "yaxis": "y17"
        },
        {
         "hovertemplate": "newspaper=Gestionpe<br>metric=quote_count<br>stat=min<br>year_week=%{x}<br>value=%{y}<extra></extra>",
         "legendgroup": "Gestionpe",
         "line": {
          "color": "#458588",
          "dash": "solid"
         },
         "marker": {
          "symbol": "circle"
         },
         "mode": "lines",
         "name": "Gestionpe",
         "showlegend": false,
         "type": "scattergl",
         "x": [
          "2022w33",
          "2022w34",
          "2022w39",
          "2022w44",
          "2022w49",
          "2023w2"
         ],
         "xaxis": "x18",
         "y": [
          0,
          0,
          0,
          0,
          0,
          0
         ],
         "yaxis": "y18"
        },
        {
         "hovertemplate": "newspaper=Gestionpe<br>metric=quote_count<br>stat=ratio<br>year_week=%{x}<br>value=%{y}<extra></extra>",
         "legendgroup": "Gestionpe",
         "line": {
          "color": "#458588",
          "dash": "solid"
         },
         "marker": {
          "symbol": "circle"
         },
         "mode": "lines",
         "name": "Gestionpe",
         "showlegend": false,
         "type": "scattergl",
         "x": [
          "2022w33",
          "2022w34",
          "2022w39",
          "2022w44",
          "2022w49",
          "2023w2"
         ],
         "xaxis": "x19",
         "y": [
          0.147117296222664,
          0.17806603773584906,
          0.20600500417014178,
          0.1975,
          0.35599505562422745,
          0.23939064200217627
         ],
         "yaxis": "y19"
        },
        {
         "hovertemplate": "newspaper=Gestionpe<br>metric=quote_count<br>stat=std<br>year_week=%{x}<br>value=%{y}<extra></extra>",
         "legendgroup": "Gestionpe",
         "line": {
          "color": "#458588",
          "dash": "solid"
         },
         "marker": {
          "symbol": "circle"
         },
         "mode": "lines",
         "name": "Gestionpe",
         "showlegend": false,
         "type": "scattergl",
         "x": [
          "2022w33",
          "2022w34",
          "2022w39",
          "2022w44",
          "2022w49",
          "2023w2"
         ],
         "xaxis": "x20",
         "y": [
          0.8148733283598503,
          0.851494989417676,
          1.4749202077877128,
          0.9589803460604199,
          1.4511319514673995,
          1.0762508853179291
         ],
         "yaxis": "y20"
        },
        {
         "hovertemplate": "newspaper=Gestionpe<br>metric=quote_count<br>stat=sum<br>year_week=%{x}<br>value=%{y}<extra></extra>",
         "legendgroup": "Gestionpe",
         "line": {
          "color": "#458588",
          "dash": "solid"
         },
         "marker": {
          "symbol": "circle"
         },
         "mode": "lines",
         "name": "Gestionpe",
         "showlegend": false,
         "type": "scattergl",
         "x": [
          "2022w33",
          "2022w34",
          "2022w39",
          "2022w44",
          "2022w49",
          "2023w2"
         ],
         "xaxis": "x21",
         "y": [
          222,
          151,
          247,
          158,
          288,
          220
         ],
         "yaxis": "y21"
        },
        {
         "hovertemplate": "newspaper=Gestionpe<br>metric=reply_count<br>stat=count<br>year_week=%{x}<br>value=%{y}<extra></extra>",
         "legendgroup": "Gestionpe",
         "line": {
          "color": "#458588",
          "dash": "solid"
         },
         "marker": {
          "symbol": "circle"
         },
         "mode": "lines",
         "name": "Gestionpe",
         "showlegend": false,
         "type": "scattergl",
         "x": [
          "2022w33",
          "2022w34",
          "2022w39",
          "2022w44",
          "2022w49",
          "2023w2"
         ],
         "xaxis": "x8",
         "y": [
          1509,
          848,
          1199,
          800,
          809,
          919
         ],
         "yaxis": "y8"
        },
        {
         "hovertemplate": "newspaper=Gestionpe<br>metric=reply_count<br>stat=max<br>year_week=%{x}<br>value=%{y}<extra></extra>",
         "legendgroup": "Gestionpe",
         "line": {
          "color": "#458588",
          "dash": "solid"
         },
         "marker": {
          "symbol": "circle"
         },
         "mode": "lines",
         "name": "Gestionpe",
         "showlegend": false,
         "type": "scattergl",
         "x": [
          "2022w33",
          "2022w34",
          "2022w39",
          "2022w44",
          "2022w49",
          "2023w2"
         ],
         "xaxis": "x9",
         "y": [
          117,
          196,
          112,
          71,
          96,
          241
         ],
         "yaxis": "y9"
        },
        {
         "hovertemplate": "newspaper=Gestionpe<br>metric=reply_count<br>stat=mean<br>year_week=%{x}<br>value=%{y}<extra></extra>",
         "legendgroup": "Gestionpe",
         "line": {
          "color": "#458588",
          "dash": "solid"
         },
         "marker": {
          "symbol": "circle"
         },
         "mode": "lines",
         "name": "Gestionpe",
         "showlegend": false,
         "type": "scattergl",
         "x": [
          "2022w33",
          "2022w34",
          "2022w39",
          "2022w44",
          "2022w49",
          "2023w2"
         ],
         "xaxis": "x10",
         "y": [
          0.8893306825712393,
          1.2040094339622642,
          0.7773144286905754,
          0.94875,
          2.5550061804697157,
          2.2089227421109903
         ],
         "yaxis": "y10"
        },
        {
         "hovertemplate": "newspaper=Gestionpe<br>metric=reply_count<br>stat=min<br>year_week=%{x}<br>value=%{y}<extra></extra>",
         "legendgroup": "Gestionpe",
         "line": {
          "color": "#458588",
          "dash": "solid"
         },
         "marker": {
          "symbol": "circle"
         },
         "mode": "lines",
         "name": "Gestionpe",
         "showlegend": false,
         "type": "scattergl",
         "x": [
          "2022w33",
          "2022w34",
          "2022w39",
          "2022w44",
          "2022w49",
          "2023w2"
         ],
         "xaxis": "x11",
         "y": [
          0,
          0,
          0,
          0,
          0,
          0
         ],
         "yaxis": "y11"
        },
        {
         "hovertemplate": "newspaper=Gestionpe<br>metric=reply_count<br>stat=ratio<br>year_week=%{x}<br>value=%{y}<extra></extra>",
         "legendgroup": "Gestionpe",
         "line": {
          "color": "#458588",
          "dash": "solid"
         },
         "marker": {
          "symbol": "circle"
         },
         "mode": "lines",
         "name": "Gestionpe",
         "showlegend": false,
         "type": "scattergl",
         "x": [
          "2022w33",
          "2022w34",
          "2022w39",
          "2022w44",
          "2022w49",
          "2023w2"
         ],
         "xaxis": "x12",
         "y": [
          0.8893306825712393,
          1.2040094339622642,
          0.7773144286905754,
          0.94875,
          2.5550061804697157,
          2.2089227421109903
         ],
         "yaxis": "y12"
        },
        {
         "hovertemplate": "newspaper=Gestionpe<br>metric=reply_count<br>stat=std<br>year_week=%{x}<br>value=%{y}<extra></extra>",
         "legendgroup": "Gestionpe",
         "line": {
          "color": "#458588",
          "dash": "solid"
         },
         "marker": {
          "symbol": "circle"
         },
         "mode": "lines",
         "name": "Gestionpe",
         "showlegend": false,
         "type": "scattergl",
         "x": [
          "2022w33",
          "2022w34",
          "2022w39",
          "2022w44",
          "2022w49",
          "2023w2"
         ],
         "xaxis": "x13",
         "y": [
          4.811190965236338,
          8.140422434490327,
          4.837901881816172,
          5.160854237243347,
          7.484290662051457,
          11.449514399874587
         ],
         "yaxis": "y13"
        },
        {
         "hovertemplate": "newspaper=Gestionpe<br>metric=reply_count<br>stat=sum<br>year_week=%{x}<br>value=%{y}<extra></extra>",
         "legendgroup": "Gestionpe",
         "line": {
          "color": "#458588",
          "dash": "solid"
         },
         "marker": {
          "symbol": "circle"
         },
         "mode": "lines",
         "name": "Gestionpe",
         "showlegend": false,
         "type": "scattergl",
         "x": [
          "2022w33",
          "2022w34",
          "2022w39",
          "2022w44",
          "2022w49",
          "2023w2"
         ],
         "xaxis": "x14",
         "y": [
          1342,
          1021,
          932,
          759,
          2067,
          2030
         ],
         "yaxis": "y14"
        },
        {
         "hovertemplate": "newspaper=Gestionpe<br>metric=retweet_count<br>stat=count<br>year_week=%{x}<br>value=%{y}<extra></extra>",
         "legendgroup": "Gestionpe",
         "line": {
          "color": "#458588",
          "dash": "solid"
         },
         "marker": {
          "symbol": "circle"
         },
         "mode": "lines",
         "name": "Gestionpe",
         "showlegend": false,
         "type": "scattergl",
         "x": [
          "2022w33",
          "2022w34",
          "2022w39",
          "2022w44",
          "2022w49",
          "2023w2"
         ],
         "xaxis": "x",
         "y": [
          1509,
          848,
          1199,
          800,
          809,
          919
         ],
         "yaxis": "y"
        },
        {
         "hovertemplate": "newspaper=Gestionpe<br>metric=retweet_count<br>stat=max<br>year_week=%{x}<br>value=%{y}<extra></extra>",
         "legendgroup": "Gestionpe",
         "line": {
          "color": "#458588",
          "dash": "solid"
         },
         "marker": {
          "symbol": "circle"
         },
         "mode": "lines",
         "name": "Gestionpe",
         "showlegend": false,
         "type": "scattergl",
         "x": [
          "2022w33",
          "2022w34",
          "2022w39",
          "2022w44",
          "2022w49",
          "2023w2"
         ],
         "xaxis": "x2",
         "y": [
          49,
          82,
          238,
          179,
          80,
          166
         ],
         "yaxis": "y2"
        },
        {
         "hovertemplate": "newspaper=Gestionpe<br>metric=retweet_count<br>stat=mean<br>year_week=%{x}<br>value=%{y}<extra></extra>",
         "legendgroup": "Gestionpe",
         "line": {
          "color": "#458588",
          "dash": "solid"
         },
         "marker": {
          "symbol": "circle"
         },
         "mode": "lines",
         "name": "Gestionpe",
         "showlegend": false,
         "type": "scattergl",
         "x": [
          "2022w33",
          "2022w34",
          "2022w39",
          "2022w44",
          "2022w49",
          "2023w2"
         ],
         "xaxis": "x3",
         "y": [
          1.077534791252485,
          1.482311320754717,
          1.3527939949958299,
          1.5975,
          1.9592088998763906,
          1.4831338411316648
         ],
         "yaxis": "y3"
        },
        {
         "hovertemplate": "newspaper=Gestionpe<br>metric=retweet_count<br>stat=min<br>year_week=%{x}<br>value=%{y}<extra></extra>",
         "legendgroup": "Gestionpe",
         "line": {
          "color": "#458588",
          "dash": "solid"
         },
         "marker": {
          "symbol": "circle"
         },
         "mode": "lines",
         "name": "Gestionpe",
         "showlegend": false,
         "type": "scattergl",
         "x": [
          "2022w33",
          "2022w34",
          "2022w39",
          "2022w44",
          "2022w49",
          "2023w2"
         ],
         "xaxis": "x4",
         "y": [
          0,
          0,
          0,
          0,
          0,
          0
         ],
         "yaxis": "y4"
        },
        {
         "hovertemplate": "newspaper=Gestionpe<br>metric=retweet_count<br>stat=ratio<br>year_week=%{x}<br>value=%{y}<extra></extra>",
         "legendgroup": "Gestionpe",
         "line": {
          "color": "#458588",
          "dash": "solid"
         },
         "marker": {
          "symbol": "circle"
         },
         "mode": "lines",
         "name": "Gestionpe",
         "showlegend": false,
         "type": "scattergl",
         "x": [
          "2022w33",
          "2022w34",
          "2022w39",
          "2022w44",
          "2022w49",
          "2023w2"
         ],
         "xaxis": "x5",
         "y": [
          1.077534791252485,
          1.482311320754717,
          1.3527939949958299,
          1.5975,
          1.9592088998763906,
          1.4831338411316648
         ],
         "yaxis": "y5"
        },
        {
         "hovertemplate": "newspaper=Gestionpe<br>metric=retweet_count<br>stat=std<br>year_week=%{x}<br>value=%{y}<extra></extra>",
         "legendgroup": "Gestionpe",
         "line": {
          "color": "#458588",
          "dash": "solid"
         },
         "marker": {
          "symbol": "circle"
         },
         "mode": "lines",
         "name": "Gestionpe",
         "showlegend": false,
         "type": "scattergl",
         "x": [
          "2022w33",
          "2022w34",
          "2022w39",
          "2022w44",
          "2022w49",
          "2023w2"
         ],
         "xaxis": "x6",
         "y": [
          2.74078253039675,
          4.282488803717822,
          7.486647442835782,
          7.179130772475897,
          5.035474882687643,
          7.63188248438663
         ],
         "yaxis": "y6"
        },
        {
         "hovertemplate": "newspaper=Gestionpe<br>metric=retweet_count<br>stat=sum<br>year_week=%{x}<br>value=%{y}<extra></extra>",
         "legendgroup": "Gestionpe",
         "line": {
          "color": "#458588",
          "dash": "solid"
         },
         "marker": {
          "symbol": "circle"
         },
         "mode": "lines",
         "name": "Gestionpe",
         "showlegend": false,
         "type": "scattergl",
         "x": [
          "2022w33",
          "2022w34",
          "2022w39",
          "2022w44",
          "2022w49",
          "2023w2"
         ],
         "xaxis": "x7",
         "y": [
          1626,
          1257,
          1622,
          1278,
          1585,
          1363
         ],
         "yaxis": "y7"
        },
        {
         "hovertemplate": "newspaper=diariocorreo<br>metric=like_count<br>stat=count<br>year_week=%{x}<br>value=%{y}<extra></extra>",
         "legendgroup": "diariocorreo",
         "line": {
          "color": "#fe8019",
          "dash": "solid"
         },
         "marker": {
          "symbol": "circle"
         },
         "mode": "lines",
         "name": "diariocorreo",
         "showlegend": true,
         "type": "scattergl",
         "x": [
          "2022w33",
          "2022w34",
          "2022w39",
          "2022w44",
          "2022w49",
          "2023w2"
         ],
         "xaxis": "x22",
         "y": [
          793,
          474,
          614,
          457,
          529,
          308
         ],
         "yaxis": "y22"
        },
        {
         "hovertemplate": "newspaper=diariocorreo<br>metric=like_count<br>stat=max<br>year_week=%{x}<br>value=%{y}<extra></extra>",
         "legendgroup": "diariocorreo",
         "line": {
          "color": "#fe8019",
          "dash": "solid"
         },
         "marker": {
          "symbol": "circle"
         },
         "mode": "lines",
         "name": "diariocorreo",
         "showlegend": false,
         "type": "scattergl",
         "x": [
          "2022w33",
          "2022w34",
          "2022w39",
          "2022w44",
          "2022w49",
          "2023w2"
         ],
         "xaxis": "x23",
         "y": [
          274,
          1209,
          331,
          305,
          966,
          871
         ],
         "yaxis": "y23"
        },
        {
         "hovertemplate": "newspaper=diariocorreo<br>metric=like_count<br>stat=mean<br>year_week=%{x}<br>value=%{y}<extra></extra>",
         "legendgroup": "diariocorreo",
         "line": {
          "color": "#fe8019",
          "dash": "solid"
         },
         "marker": {
          "symbol": "circle"
         },
         "mode": "lines",
         "name": "diariocorreo",
         "showlegend": false,
         "type": "scattergl",
         "x": [
          "2022w33",
          "2022w34",
          "2022w39",
          "2022w44",
          "2022w49",
          "2023w2"
         ],
         "xaxis": "x24",
         "y": [
          7.263556116015132,
          12.69831223628692,
          4.954397394136808,
          6.321663019693654,
          11.793950850661625,
          17.24025974025974
         ],
         "yaxis": "y24"
        },
        {
         "hovertemplate": "newspaper=diariocorreo<br>metric=like_count<br>stat=min<br>year_week=%{x}<br>value=%{y}<extra></extra>",
         "legendgroup": "diariocorreo",
         "line": {
          "color": "#fe8019",
          "dash": "solid"
         },
         "marker": {
          "symbol": "circle"
         },
         "mode": "lines",
         "name": "diariocorreo",
         "showlegend": false,
         "type": "scattergl",
         "x": [
          "2022w33",
          "2022w34",
          "2022w39",
          "2022w44",
          "2022w49",
          "2023w2"
         ],
         "xaxis": "x25",
         "y": [
          0,
          0,
          0,
          0,
          0,
          0
         ],
         "yaxis": "y25"
        },
        {
         "hovertemplate": "newspaper=diariocorreo<br>metric=like_count<br>stat=ratio<br>year_week=%{x}<br>value=%{y}<extra></extra>",
         "legendgroup": "diariocorreo",
         "line": {
          "color": "#fe8019",
          "dash": "solid"
         },
         "marker": {
          "symbol": "circle"
         },
         "mode": "lines",
         "name": "diariocorreo",
         "showlegend": false,
         "type": "scattergl",
         "x": [
          "2022w33",
          "2022w34",
          "2022w39",
          "2022w44",
          "2022w49",
          "2023w2"
         ],
         "xaxis": "x26",
         "y": [
          7.263556116015132,
          12.69831223628692,
          4.954397394136808,
          6.321663019693654,
          11.793950850661625,
          17.24025974025974
         ],
         "yaxis": "y26"
        },
        {
         "hovertemplate": "newspaper=diariocorreo<br>metric=like_count<br>stat=std<br>year_week=%{x}<br>value=%{y}<extra></extra>",
         "legendgroup": "diariocorreo",
         "line": {
          "color": "#fe8019",
          "dash": "solid"
         },
         "marker": {
          "symbol": "circle"
         },
         "mode": "lines",
         "name": "diariocorreo",
         "showlegend": false,
         "type": "scattergl",
         "x": [
          "2022w33",
          "2022w34",
          "2022w39",
          "2022w44",
          "2022w49",
          "2023w2"
         ],
         "xaxis": "x27",
         "y": [
          22.81225295346383,
          63.60574685581672,
          15.649542943309216,
          26.16553727879384,
          47.89047124497483,
          69.5978728937384
         ],
         "yaxis": "y27"
        },
        {
         "hovertemplate": "newspaper=diariocorreo<br>metric=like_count<br>stat=sum<br>year_week=%{x}<br>value=%{y}<extra></extra>",
         "legendgroup": "diariocorreo",
         "line": {
          "color": "#fe8019",
          "dash": "solid"
         },
         "marker": {
          "symbol": "circle"
         },
         "mode": "lines",
         "name": "diariocorreo",
         "showlegend": false,
         "type": "scattergl",
         "x": [
          "2022w33",
          "2022w34",
          "2022w39",
          "2022w44",
          "2022w49",
          "2023w2"
         ],
         "xaxis": "x28",
         "y": [
          5760,
          6019,
          3042,
          2889,
          6239,
          5310
         ],
         "yaxis": "y28"
        },
        {
         "hovertemplate": "newspaper=diariocorreo<br>metric=quote_count<br>stat=count<br>year_week=%{x}<br>value=%{y}<extra></extra>",
         "legendgroup": "diariocorreo",
         "line": {
          "color": "#fe8019",
          "dash": "solid"
         },
         "marker": {
          "symbol": "circle"
         },
         "mode": "lines",
         "name": "diariocorreo",
         "showlegend": false,
         "type": "scattergl",
         "x": [
          "2022w33",
          "2022w34",
          "2022w39",
          "2022w44",
          "2022w49",
          "2023w2"
         ],
         "xaxis": "x15",
         "y": [
          793,
          474,
          614,
          457,
          529,
          308
         ],
         "yaxis": "y15"
        },
        {
         "hovertemplate": "newspaper=diariocorreo<br>metric=quote_count<br>stat=max<br>year_week=%{x}<br>value=%{y}<extra></extra>",
         "legendgroup": "diariocorreo",
         "line": {
          "color": "#fe8019",
          "dash": "solid"
         },
         "marker": {
          "symbol": "circle"
         },
         "mode": "lines",
         "name": "diariocorreo",
         "showlegend": false,
         "type": "scattergl",
         "x": [
          "2022w33",
          "2022w34",
          "2022w39",
          "2022w44",
          "2022w49",
          "2023w2"
         ],
         "xaxis": "x16",
         "y": [
          56,
          38,
          14,
          12,
          18,
          20
         ],
         "yaxis": "y16"
        },
        {
         "hovertemplate": "newspaper=diariocorreo<br>metric=quote_count<br>stat=mean<br>year_week=%{x}<br>value=%{y}<extra></extra>",
         "legendgroup": "diariocorreo",
         "line": {
          "color": "#fe8019",
          "dash": "solid"
         },
         "marker": {
          "symbol": "circle"
         },
         "mode": "lines",
         "name": "diariocorreo",
         "showlegend": false,
         "type": "scattergl",
         "x": [
          "2022w33",
          "2022w34",
          "2022w39",
          "2022w44",
          "2022w49",
          "2023w2"
         ],
         "xaxis": "x17",
         "y": [
          0.4880201765447667,
          0.540084388185654,
          0.26058631921824105,
          0.3172866520787746,
          0.3856332703213611,
          0.4707792207792208
         ],
         "yaxis": "y17"
        },
        {
         "hovertemplate": "newspaper=diariocorreo<br>metric=quote_count<br>stat=min<br>year_week=%{x}<br>value=%{y}<extra></extra>",
         "legendgroup": "diariocorreo",
         "line": {
          "color": "#fe8019",
          "dash": "solid"
         },
         "marker": {
          "symbol": "circle"
         },
         "mode": "lines",
         "name": "diariocorreo",
         "showlegend": false,
         "type": "scattergl",
         "x": [
          "2022w33",
          "2022w34",
          "2022w39",
          "2022w44",
          "2022w49",
          "2023w2"
         ],
         "xaxis": "x18",
         "y": [
          0,
          0,
          0,
          0,
          0,
          0
         ],
         "yaxis": "y18"
        },
        {
         "hovertemplate": "newspaper=diariocorreo<br>metric=quote_count<br>stat=ratio<br>year_week=%{x}<br>value=%{y}<extra></extra>",
         "legendgroup": "diariocorreo",
         "line": {
          "color": "#fe8019",
          "dash": "solid"
         },
         "marker": {
          "symbol": "circle"
         },
         "mode": "lines",
         "name": "diariocorreo",
         "showlegend": false,
         "type": "scattergl",
         "x": [
          "2022w33",
          "2022w34",
          "2022w39",
          "2022w44",
          "2022w49",
          "2023w2"
         ],
         "xaxis": "x19",
         "y": [
          0.4880201765447667,
          0.540084388185654,
          0.26058631921824105,
          0.3172866520787746,
          0.3856332703213611,
          0.4707792207792208
         ],
         "yaxis": "y19"
        },
        {
         "hovertemplate": "newspaper=diariocorreo<br>metric=quote_count<br>stat=std<br>year_week=%{x}<br>value=%{y}<extra></extra>",
         "legendgroup": "diariocorreo",
         "line": {
          "color": "#fe8019",
          "dash": "solid"
         },
         "marker": {
          "symbol": "circle"
         },
         "mode": "lines",
         "name": "diariocorreo",
         "showlegend": false,
         "type": "scattergl",
         "x": [
          "2022w33",
          "2022w34",
          "2022w39",
          "2022w44",
          "2022w49",
          "2023w2"
         ],
         "xaxis": "x20",
         "y": [
          2.436604326938831,
          2.128900299062837,
          0.9526353837797387,
          1.0770670004006917,
          1.3007361063201588,
          1.530085915480724
         ],
         "yaxis": "y20"
        },
        {
         "hovertemplate": "newspaper=diariocorreo<br>metric=quote_count<br>stat=sum<br>year_week=%{x}<br>value=%{y}<extra></extra>",
         "legendgroup": "diariocorreo",
         "line": {
          "color": "#fe8019",
          "dash": "solid"
         },
         "marker": {
          "symbol": "circle"
         },
         "mode": "lines",
         "name": "diariocorreo",
         "showlegend": false,
         "type": "scattergl",
         "x": [
          "2022w33",
          "2022w34",
          "2022w39",
          "2022w44",
          "2022w49",
          "2023w2"
         ],
         "xaxis": "x21",
         "y": [
          387,
          256,
          160,
          145,
          204,
          145
         ],
         "yaxis": "y21"
        },
        {
         "hovertemplate": "newspaper=diariocorreo<br>metric=reply_count<br>stat=count<br>year_week=%{x}<br>value=%{y}<extra></extra>",
         "legendgroup": "diariocorreo",
         "line": {
          "color": "#fe8019",
          "dash": "solid"
         },
         "marker": {
          "symbol": "circle"
         },
         "mode": "lines",
         "name": "diariocorreo",
         "showlegend": false,
         "type": "scattergl",
         "x": [
          "2022w33",
          "2022w34",
          "2022w39",
          "2022w44",
          "2022w49",
          "2023w2"
         ],
         "xaxis": "x8",
         "y": [
          793,
          474,
          614,
          457,
          529,
          308
         ],
         "yaxis": "y8"
        },
        {
         "hovertemplate": "newspaper=diariocorreo<br>metric=reply_count<br>stat=max<br>year_week=%{x}<br>value=%{y}<extra></extra>",
         "legendgroup": "diariocorreo",
         "line": {
          "color": "#fe8019",
          "dash": "solid"
         },
         "marker": {
          "symbol": "circle"
         },
         "mode": "lines",
         "name": "diariocorreo",
         "showlegend": false,
         "type": "scattergl",
         "x": [
          "2022w33",
          "2022w34",
          "2022w39",
          "2022w44",
          "2022w49",
          "2023w2"
         ],
         "xaxis": "x9",
         "y": [
          192,
          167,
          94,
          116,
          233,
          233
         ],
         "yaxis": "y9"
        },
        {
         "hovertemplate": "newspaper=diariocorreo<br>metric=reply_count<br>stat=mean<br>year_week=%{x}<br>value=%{y}<extra></extra>",
         "legendgroup": "diariocorreo",
         "line": {
          "color": "#fe8019",
          "dash": "solid"
         },
         "marker": {
          "symbol": "circle"
         },
         "mode": "lines",
         "name": "diariocorreo",
         "showlegend": false,
         "type": "scattergl",
         "x": [
          "2022w33",
          "2022w34",
          "2022w39",
          "2022w44",
          "2022w49",
          "2023w2"
         ],
         "xaxis": "x10",
         "y": [
          2.6506935687263558,
          3.4894514767932487,
          1.501628664495114,
          2.227571115973742,
          3.6446124763705106,
          5.805194805194805
         ],
         "yaxis": "y10"
        },
        {
         "hovertemplate": "newspaper=diariocorreo<br>metric=reply_count<br>stat=min<br>year_week=%{x}<br>value=%{y}<extra></extra>",
         "legendgroup": "diariocorreo",
         "line": {
          "color": "#fe8019",
          "dash": "solid"
         },
         "marker": {
          "symbol": "circle"
         },
         "mode": "lines",
         "name": "diariocorreo",
         "showlegend": false,
         "type": "scattergl",
         "x": [
          "2022w33",
          "2022w34",
          "2022w39",
          "2022w44",
          "2022w49",
          "2023w2"
         ],
         "xaxis": "x11",
         "y": [
          0,
          0,
          0,
          0,
          0,
          0
         ],
         "yaxis": "y11"
        },
        {
         "hovertemplate": "newspaper=diariocorreo<br>metric=reply_count<br>stat=ratio<br>year_week=%{x}<br>value=%{y}<extra></extra>",
         "legendgroup": "diariocorreo",
         "line": {
          "color": "#fe8019",
          "dash": "solid"
         },
         "marker": {
          "symbol": "circle"
         },
         "mode": "lines",
         "name": "diariocorreo",
         "showlegend": false,
         "type": "scattergl",
         "x": [
          "2022w33",
          "2022w34",
          "2022w39",
          "2022w44",
          "2022w49",
          "2023w2"
         ],
         "xaxis": "x12",
         "y": [
          2.6506935687263558,
          3.4894514767932487,
          1.501628664495114,
          2.227571115973742,
          3.6446124763705106,
          5.805194805194805
         ],
         "yaxis": "y12"
        },
        {
         "hovertemplate": "newspaper=diariocorreo<br>metric=reply_count<br>stat=std<br>year_week=%{x}<br>value=%{y}<extra></extra>",
         "legendgroup": "diariocorreo",
         "line": {
          "color": "#fe8019",
          "dash": "solid"
         },
         "marker": {
          "symbol": "circle"
         },
         "mode": "lines",
         "name": "diariocorreo",
         "showlegend": false,
         "type": "scattergl",
         "x": [
          "2022w33",
          "2022w34",
          "2022w39",
          "2022w44",
          "2022w49",
          "2023w2"
         ],
         "xaxis": "x13",
         "y": [
          11.98927562230713,
          12.927873360884279,
          6.0745099455717995,
          9.87491201425812,
          13.637708636959013,
          19.438897142373186
         ],
         "yaxis": "y13"
        },
        {
         "hovertemplate": "newspaper=diariocorreo<br>metric=reply_count<br>stat=sum<br>year_week=%{x}<br>value=%{y}<extra></extra>",
         "legendgroup": "diariocorreo",
         "line": {
          "color": "#fe8019",
          "dash": "solid"
         },
         "marker": {
          "symbol": "circle"
         },
         "mode": "lines",
         "name": "diariocorreo",
         "showlegend": false,
         "type": "scattergl",
         "x": [
          "2022w33",
          "2022w34",
          "2022w39",
          "2022w44",
          "2022w49",
          "2023w2"
         ],
         "xaxis": "x14",
         "y": [
          2102,
          1654,
          922,
          1018,
          1928,
          1788
         ],
         "yaxis": "y14"
        },
        {
         "hovertemplate": "newspaper=diariocorreo<br>metric=retweet_count<br>stat=count<br>year_week=%{x}<br>value=%{y}<extra></extra>",
         "legendgroup": "diariocorreo",
         "line": {
          "color": "#fe8019",
          "dash": "solid"
         },
         "marker": {
          "symbol": "circle"
         },
         "mode": "lines",
         "name": "diariocorreo",
         "showlegend": false,
         "type": "scattergl",
         "x": [
          "2022w33",
          "2022w34",
          "2022w39",
          "2022w44",
          "2022w49",
          "2023w2"
         ],
         "xaxis": "x",
         "y": [
          793,
          474,
          614,
          457,
          529,
          308
         ],
         "yaxis": "y"
        },
        {
         "hovertemplate": "newspaper=diariocorreo<br>metric=retweet_count<br>stat=max<br>year_week=%{x}<br>value=%{y}<extra></extra>",
         "legendgroup": "diariocorreo",
         "line": {
          "color": "#fe8019",
          "dash": "solid"
         },
         "marker": {
          "symbol": "circle"
         },
         "mode": "lines",
         "name": "diariocorreo",
         "showlegend": false,
         "type": "scattergl",
         "x": [
          "2022w33",
          "2022w34",
          "2022w39",
          "2022w44",
          "2022w49",
          "2023w2"
         ],
         "xaxis": "x2",
         "y": [
          115,
          331,
          137,
          114,
          174,
          376
         ],
         "yaxis": "y2"
        },
        {
         "hovertemplate": "newspaper=diariocorreo<br>metric=retweet_count<br>stat=mean<br>year_week=%{x}<br>value=%{y}<extra></extra>",
         "legendgroup": "diariocorreo",
         "line": {
          "color": "#fe8019",
          "dash": "solid"
         },
         "marker": {
          "symbol": "circle"
         },
         "mode": "lines",
         "name": "diariocorreo",
         "showlegend": false,
         "type": "scattergl",
         "x": [
          "2022w33",
          "2022w34",
          "2022w39",
          "2022w44",
          "2022w49",
          "2023w2"
         ],
         "xaxis": "x3",
         "y": [
          2.621689785624212,
          4.225738396624473,
          1.705211726384365,
          2.341356673960613,
          3.372400756143667,
          5
         ],
         "yaxis": "y3"
        },
        {
         "hovertemplate": "newspaper=diariocorreo<br>metric=retweet_count<br>stat=min<br>year_week=%{x}<br>value=%{y}<extra></extra>",
         "legendgroup": "diariocorreo",
         "line": {
          "color": "#fe8019",
          "dash": "solid"
         },
         "marker": {
          "symbol": "circle"
         },
         "mode": "lines",
         "name": "diariocorreo",
         "showlegend": false,
         "type": "scattergl",
         "x": [
          "2022w33",
          "2022w34",
          "2022w39",
          "2022w44",
          "2022w49",
          "2023w2"
         ],
         "xaxis": "x4",
         "y": [
          0,
          0,
          0,
          0,
          0,
          0
         ],
         "yaxis": "y4"
        },
        {
         "hovertemplate": "newspaper=diariocorreo<br>metric=retweet_count<br>stat=ratio<br>year_week=%{x}<br>value=%{y}<extra></extra>",
         "legendgroup": "diariocorreo",
         "line": {
          "color": "#fe8019",
          "dash": "solid"
         },
         "marker": {
          "symbol": "circle"
         },
         "mode": "lines",
         "name": "diariocorreo",
         "showlegend": false,
         "type": "scattergl",
         "x": [
          "2022w33",
          "2022w34",
          "2022w39",
          "2022w44",
          "2022w49",
          "2023w2"
         ],
         "xaxis": "x5",
         "y": [
          2.621689785624212,
          4.225738396624473,
          1.705211726384365,
          2.341356673960613,
          3.372400756143667,
          5
         ],
         "yaxis": "y5"
        },
        {
         "hovertemplate": "newspaper=diariocorreo<br>metric=retweet_count<br>stat=std<br>year_week=%{x}<br>value=%{y}<extra></extra>",
         "legendgroup": "diariocorreo",
         "line": {
          "color": "#fe8019",
          "dash": "solid"
         },
         "marker": {
          "symbol": "circle"
         },
         "mode": "lines",
         "name": "diariocorreo",
         "showlegend": false,
         "type": "scattergl",
         "x": [
          "2022w33",
          "2022w34",
          "2022w39",
          "2022w44",
          "2022w49",
          "2023w2"
         ],
         "xaxis": "x6",
         "y": [
          8.40082569712909,
          19.242133891127093,
          6.577142102935844,
          9.91905267906852,
          10.907291577947433,
          25.207930089828494
         ],
         "yaxis": "y6"
        },
        {
         "hovertemplate": "newspaper=diariocorreo<br>metric=retweet_count<br>stat=sum<br>year_week=%{x}<br>value=%{y}<extra></extra>",
         "legendgroup": "diariocorreo",
         "line": {
          "color": "#fe8019",
          "dash": "solid"
         },
         "marker": {
          "symbol": "circle"
         },
         "mode": "lines",
         "name": "diariocorreo",
         "showlegend": false,
         "type": "scattergl",
         "x": [
          "2022w33",
          "2022w34",
          "2022w39",
          "2022w44",
          "2022w49",
          "2023w2"
         ],
         "xaxis": "x7",
         "y": [
          2079,
          2003,
          1047,
          1070,
          1784,
          1540
         ],
         "yaxis": "y7"
        },
        {
         "hovertemplate": "newspaper=diarioojo<br>metric=like_count<br>stat=count<br>year_week=%{x}<br>value=%{y}<extra></extra>",
         "legendgroup": "diarioojo",
         "line": {
          "color": "#b16286",
          "dash": "solid"
         },
         "marker": {
          "symbol": "circle"
         },
         "mode": "lines",
         "name": "diarioojo",
         "showlegend": true,
         "type": "scattergl",
         "x": [
          "2022w33",
          "2022w34",
          "2022w39",
          "2022w44",
          "2022w49",
          "2023w2"
         ],
         "xaxis": "x22",
         "y": [
          793,
          555,
          550,
          555,
          574,
          329
         ],
         "yaxis": "y22"
        },
        {
         "hovertemplate": "newspaper=diarioojo<br>metric=like_count<br>stat=max<br>year_week=%{x}<br>value=%{y}<extra></extra>",
         "legendgroup": "diarioojo",
         "line": {
          "color": "#b16286",
          "dash": "solid"
         },
         "marker": {
          "symbol": "circle"
         },
         "mode": "lines",
         "name": "diarioojo",
         "showlegend": false,
         "type": "scattergl",
         "x": [
          "2022w33",
          "2022w34",
          "2022w39",
          "2022w44",
          "2022w49",
          "2023w2"
         ],
         "xaxis": "x23",
         "y": [
          238,
          159,
          38,
          343,
          854,
          115
         ],
         "yaxis": "y23"
        },
        {
         "hovertemplate": "newspaper=diarioojo<br>metric=like_count<br>stat=mean<br>year_week=%{x}<br>value=%{y}<extra></extra>",
         "legendgroup": "diarioojo",
         "line": {
          "color": "#b16286",
          "dash": "solid"
         },
         "marker": {
          "symbol": "circle"
         },
         "mode": "lines",
         "name": "diarioojo",
         "showlegend": false,
         "type": "scattergl",
         "x": [
          "2022w33",
          "2022w34",
          "2022w39",
          "2022w44",
          "2022w49",
          "2023w2"
         ],
         "xaxis": "x24",
         "y": [
          3.5081967213114753,
          3.5513513513513515,
          2.8945454545454545,
          2.727927927927928,
          8.707317073170731,
          2.5045592705167175
         ],
         "yaxis": "y24"
        },
        {
         "hovertemplate": "newspaper=diarioojo<br>metric=like_count<br>stat=min<br>year_week=%{x}<br>value=%{y}<extra></extra>",
         "legendgroup": "diarioojo",
         "line": {
          "color": "#b16286",
          "dash": "solid"
         },
         "marker": {
          "symbol": "circle"
         },
         "mode": "lines",
         "name": "diarioojo",
         "showlegend": false,
         "type": "scattergl",
         "x": [
          "2022w33",
          "2022w34",
          "2022w39",
          "2022w44",
          "2022w49",
          "2023w2"
         ],
         "xaxis": "x25",
         "y": [
          0,
          0,
          0,
          0,
          0,
          0
         ],
         "yaxis": "y25"
        },
        {
         "hovertemplate": "newspaper=diarioojo<br>metric=like_count<br>stat=ratio<br>year_week=%{x}<br>value=%{y}<extra></extra>",
         "legendgroup": "diarioojo",
         "line": {
          "color": "#b16286",
          "dash": "solid"
         },
         "marker": {
          "symbol": "circle"
         },
         "mode": "lines",
         "name": "diarioojo",
         "showlegend": false,
         "type": "scattergl",
         "x": [
          "2022w33",
          "2022w34",
          "2022w39",
          "2022w44",
          "2022w49",
          "2023w2"
         ],
         "xaxis": "x26",
         "y": [
          3.5081967213114753,
          3.5513513513513515,
          2.8945454545454545,
          2.727927927927928,
          8.707317073170731,
          2.5045592705167175
         ],
         "yaxis": "y26"
        },
        {
         "hovertemplate": "newspaper=diarioojo<br>metric=like_count<br>stat=std<br>year_week=%{x}<br>value=%{y}<extra></extra>",
         "legendgroup": "diarioojo",
         "line": {
          "color": "#b16286",
          "dash": "solid"
         },
         "marker": {
          "symbol": "circle"
         },
         "mode": "lines",
         "name": "diarioojo",
         "showlegend": false,
         "type": "scattergl",
         "x": [
          "2022w33",
          "2022w34",
          "2022w39",
          "2022w44",
          "2022w49",
          "2023w2"
         ],
         "xaxis": "x27",
         "y": [
          12.336823662615263,
          10.731317111292373,
          4.903417572609206,
          15.780872963018894,
          49.286972271800984,
          6.98348294389886
         ],
         "yaxis": "y27"
        },
        {
         "hovertemplate": "newspaper=diarioojo<br>metric=like_count<br>stat=sum<br>year_week=%{x}<br>value=%{y}<extra></extra>",
         "legendgroup": "diarioojo",
         "line": {
          "color": "#b16286",
          "dash": "solid"
         },
         "marker": {
          "symbol": "circle"
         },
         "mode": "lines",
         "name": "diarioojo",
         "showlegend": false,
         "type": "scattergl",
         "x": [
          "2022w33",
          "2022w34",
          "2022w39",
          "2022w44",
          "2022w49",
          "2023w2"
         ],
         "xaxis": "x28",
         "y": [
          2782,
          1971,
          1592,
          1514,
          4998,
          824
         ],
         "yaxis": "y28"
        },
        {
         "hovertemplate": "newspaper=diarioojo<br>metric=quote_count<br>stat=count<br>year_week=%{x}<br>value=%{y}<extra></extra>",
         "legendgroup": "diarioojo",
         "line": {
          "color": "#b16286",
          "dash": "solid"
         },
         "marker": {
          "symbol": "circle"
         },
         "mode": "lines",
         "name": "diarioojo",
         "showlegend": false,
         "type": "scattergl",
         "x": [
          "2022w33",
          "2022w34",
          "2022w39",
          "2022w44",
          "2022w49",
          "2023w2"
         ],
         "xaxis": "x15",
         "y": [
          793,
          555,
          550,
          555,
          574,
          329
         ],
         "yaxis": "y15"
        },
        {
         "hovertemplate": "newspaper=diarioojo<br>metric=quote_count<br>stat=max<br>year_week=%{x}<br>value=%{y}<extra></extra>",
         "legendgroup": "diarioojo",
         "line": {
          "color": "#b16286",
          "dash": "solid"
         },
         "marker": {
          "symbol": "circle"
         },
         "mode": "lines",
         "name": "diarioojo",
         "showlegend": false,
         "type": "scattergl",
         "x": [
          "2022w33",
          "2022w34",
          "2022w39",
          "2022w44",
          "2022w49",
          "2023w2"
         ],
         "xaxis": "x16",
         "y": [
          28,
          9,
          3,
          3,
          18,
          5
         ],
         "yaxis": "y16"
        },
        {
         "hovertemplate": "newspaper=diarioojo<br>metric=quote_count<br>stat=mean<br>year_week=%{x}<br>value=%{y}<extra></extra>",
         "legendgroup": "diarioojo",
         "line": {
          "color": "#b16286",
          "dash": "solid"
         },
         "marker": {
          "symbol": "circle"
         },
         "mode": "lines",
         "name": "diarioojo",
         "showlegend": false,
         "type": "scattergl",
         "x": [
          "2022w33",
          "2022w34",
          "2022w39",
          "2022w44",
          "2022w49",
          "2023w2"
         ],
         "xaxis": "x17",
         "y": [
          0.1664564943253468,
          0.0990990990990991,
          0.07818181818181819,
          0.05945945945945946,
          0.21951219512195122,
          0.1033434650455927
         ],
         "yaxis": "y17"
        },
        {
         "hovertemplate": "newspaper=diarioojo<br>metric=quote_count<br>stat=min<br>year_week=%{x}<br>value=%{y}<extra></extra>",
         "legendgroup": "diarioojo",
         "line": {
          "color": "#b16286",
          "dash": "solid"
         },
         "marker": {
          "symbol": "circle"
         },
         "mode": "lines",
         "name": "diarioojo",
         "showlegend": false,
         "type": "scattergl",
         "x": [
          "2022w33",
          "2022w34",
          "2022w39",
          "2022w44",
          "2022w49",
          "2023w2"
         ],
         "xaxis": "x18",
         "y": [
          0,
          0,
          0,
          0,
          0,
          0
         ],
         "yaxis": "y18"
        },
        {
         "hovertemplate": "newspaper=diarioojo<br>metric=quote_count<br>stat=ratio<br>year_week=%{x}<br>value=%{y}<extra></extra>",
         "legendgroup": "diarioojo",
         "line": {
          "color": "#b16286",
          "dash": "solid"
         },
         "marker": {
          "symbol": "circle"
         },
         "mode": "lines",
         "name": "diarioojo",
         "showlegend": false,
         "type": "scattergl",
         "x": [
          "2022w33",
          "2022w34",
          "2022w39",
          "2022w44",
          "2022w49",
          "2023w2"
         ],
         "xaxis": "x19",
         "y": [
          0.1664564943253468,
          0.0990990990990991,
          0.07818181818181819,
          0.05945945945945946,
          0.21951219512195122,
          0.1033434650455927
         ],
         "yaxis": "y19"
        },
        {
         "hovertemplate": "newspaper=diarioojo<br>metric=quote_count<br>stat=std<br>year_week=%{x}<br>value=%{y}<extra></extra>",
         "legendgroup": "diarioojo",
         "line": {
          "color": "#b16286",
          "dash": "solid"
         },
         "marker": {
          "symbol": "circle"
         },
         "mode": "lines",
         "name": "diarioojo",
         "showlegend": false,
         "type": "scattergl",
         "x": [
          "2022w33",
          "2022w34",
          "2022w39",
          "2022w44",
          "2022w49",
          "2023w2"
         ],
         "xaxis": "x20",
         "y": [
          1.125927083074353,
          0.49828143199250485,
          0.34577381295214377,
          0.27216818249546404,
          1.2919008435457946,
          0.436471167252586
         ],
         "yaxis": "y20"
        },
        {
         "hovertemplate": "newspaper=diarioojo<br>metric=quote_count<br>stat=sum<br>year_week=%{x}<br>value=%{y}<extra></extra>",
         "legendgroup": "diarioojo",
         "line": {
          "color": "#b16286",
          "dash": "solid"
         },
         "marker": {
          "symbol": "circle"
         },
         "mode": "lines",
         "name": "diarioojo",
         "showlegend": false,
         "type": "scattergl",
         "x": [
          "2022w33",
          "2022w34",
          "2022w39",
          "2022w44",
          "2022w49",
          "2023w2"
         ],
         "xaxis": "x21",
         "y": [
          132,
          55,
          43,
          33,
          126,
          34
         ],
         "yaxis": "y21"
        },
        {
         "hovertemplate": "newspaper=diarioojo<br>metric=reply_count<br>stat=count<br>year_week=%{x}<br>value=%{y}<extra></extra>",
         "legendgroup": "diarioojo",
         "line": {
          "color": "#b16286",
          "dash": "solid"
         },
         "marker": {
          "symbol": "circle"
         },
         "mode": "lines",
         "name": "diarioojo",
         "showlegend": false,
         "type": "scattergl",
         "x": [
          "2022w33",
          "2022w34",
          "2022w39",
          "2022w44",
          "2022w49",
          "2023w2"
         ],
         "xaxis": "x8",
         "y": [
          793,
          555,
          550,
          555,
          574,
          329
         ],
         "yaxis": "y8"
        },
        {
         "hovertemplate": "newspaper=diarioojo<br>metric=reply_count<br>stat=max<br>year_week=%{x}<br>value=%{y}<extra></extra>",
         "legendgroup": "diarioojo",
         "line": {
          "color": "#b16286",
          "dash": "solid"
         },
         "marker": {
          "symbol": "circle"
         },
         "mode": "lines",
         "name": "diarioojo",
         "showlegend": false,
         "type": "scattergl",
         "x": [
          "2022w33",
          "2022w34",
          "2022w39",
          "2022w44",
          "2022w49",
          "2023w2"
         ],
         "xaxis": "x9",
         "y": [
          138,
          232,
          39,
          103,
          697,
          108
         ],
         "yaxis": "y9"
        },
        {
         "hovertemplate": "newspaper=diarioojo<br>metric=reply_count<br>stat=mean<br>year_week=%{x}<br>value=%{y}<extra></extra>",
         "legendgroup": "diarioojo",
         "line": {
          "color": "#b16286",
          "dash": "solid"
         },
         "marker": {
          "symbol": "circle"
         },
         "mode": "lines",
         "name": "diarioojo",
         "showlegend": false,
         "type": "scattergl",
         "x": [
          "2022w33",
          "2022w34",
          "2022w39",
          "2022w44",
          "2022w49",
          "2023w2"
         ],
         "xaxis": "x10",
         "y": [
          1.0844892812105926,
          1.3477477477477477,
          0.8254545454545454,
          0.7981981981981981,
          4.198606271777003,
          1.033434650455927
         ],
         "yaxis": "y10"
        },
        {
         "hovertemplate": "newspaper=diarioojo<br>metric=reply_count<br>stat=min<br>year_week=%{x}<br>value=%{y}<extra></extra>",
         "legendgroup": "diarioojo",
         "line": {
          "color": "#b16286",
          "dash": "solid"
         },
         "marker": {
          "symbol": "circle"
         },
         "mode": "lines",
         "name": "diarioojo",
         "showlegend": false,
         "type": "scattergl",
         "x": [
          "2022w33",
          "2022w34",
          "2022w39",
          "2022w44",
          "2022w49",
          "2023w2"
         ],
         "xaxis": "x11",
         "y": [
          0,
          0,
          0,
          0,
          0,
          0
         ],
         "yaxis": "y11"
        },
        {
         "hovertemplate": "newspaper=diarioojo<br>metric=reply_count<br>stat=ratio<br>year_week=%{x}<br>value=%{y}<extra></extra>",
         "legendgroup": "diarioojo",
         "line": {
          "color": "#b16286",
          "dash": "solid"
         },
         "marker": {
          "symbol": "circle"
         },
         "mode": "lines",
         "name": "diarioojo",
         "showlegend": false,
         "type": "scattergl",
         "x": [
          "2022w33",
          "2022w34",
          "2022w39",
          "2022w44",
          "2022w49",
          "2023w2"
         ],
         "xaxis": "x12",
         "y": [
          1.0844892812105926,
          1.3477477477477477,
          0.8254545454545454,
          0.7981981981981981,
          4.198606271777003,
          1.033434650455927
         ],
         "yaxis": "y12"
        },
        {
         "hovertemplate": "newspaper=diarioojo<br>metric=reply_count<br>stat=std<br>year_week=%{x}<br>value=%{y}<extra></extra>",
         "legendgroup": "diarioojo",
         "line": {
          "color": "#b16286",
          "dash": "solid"
         },
         "marker": {
          "symbol": "circle"
         },
         "mode": "lines",
         "name": "diarioojo",
         "showlegend": false,
         "type": "scattergl",
         "x": [
          "2022w33",
          "2022w34",
          "2022w39",
          "2022w44",
          "2022w49",
          "2023w2"
         ],
         "xaxis": "x13",
         "y": [
          8.045902026303038,
          11.694045252892055,
          2.5583335153748132,
          5.612871713981534,
          41.10199629307282,
          6.560839155421195
         ],
         "yaxis": "y13"
        },
        {
         "hovertemplate": "newspaper=diarioojo<br>metric=reply_count<br>stat=sum<br>year_week=%{x}<br>value=%{y}<extra></extra>",
         "legendgroup": "diarioojo",
         "line": {
          "color": "#b16286",
          "dash": "solid"
         },
         "marker": {
          "symbol": "circle"
         },
         "mode": "lines",
         "name": "diarioojo",
         "showlegend": false,
         "type": "scattergl",
         "x": [
          "2022w33",
          "2022w34",
          "2022w39",
          "2022w44",
          "2022w49",
          "2023w2"
         ],
         "xaxis": "x14",
         "y": [
          860,
          748,
          454,
          443,
          2410,
          340
         ],
         "yaxis": "y14"
        },
        {
         "hovertemplate": "newspaper=diarioojo<br>metric=retweet_count<br>stat=count<br>year_week=%{x}<br>value=%{y}<extra></extra>",
         "legendgroup": "diarioojo",
         "line": {
          "color": "#b16286",
          "dash": "solid"
         },
         "marker": {
          "symbol": "circle"
         },
         "mode": "lines",
         "name": "diarioojo",
         "showlegend": false,
         "type": "scattergl",
         "x": [
          "2022w33",
          "2022w34",
          "2022w39",
          "2022w44",
          "2022w49",
          "2023w2"
         ],
         "xaxis": "x",
         "y": [
          793,
          555,
          550,
          555,
          574,
          329
         ],
         "yaxis": "y"
        },
        {
         "hovertemplate": "newspaper=diarioojo<br>metric=retweet_count<br>stat=max<br>year_week=%{x}<br>value=%{y}<extra></extra>",
         "legendgroup": "diarioojo",
         "line": {
          "color": "#b16286",
          "dash": "solid"
         },
         "marker": {
          "symbol": "circle"
         },
         "mode": "lines",
         "name": "diarioojo",
         "showlegend": false,
         "type": "scattergl",
         "x": [
          "2022w33",
          "2022w34",
          "2022w39",
          "2022w44",
          "2022w49",
          "2023w2"
         ],
         "xaxis": "x2",
         "y": [
          25,
          15,
          7,
          79,
          68,
          6
         ],
         "yaxis": "y2"
        },
        {
         "hovertemplate": "newspaper=diarioojo<br>metric=retweet_count<br>stat=mean<br>year_week=%{x}<br>value=%{y}<extra></extra>",
         "legendgroup": "diarioojo",
         "line": {
          "color": "#b16286",
          "dash": "solid"
         },
         "marker": {
          "symbol": "circle"
         },
         "mode": "lines",
         "name": "diarioojo",
         "showlegend": false,
         "type": "scattergl",
         "x": [
          "2022w33",
          "2022w34",
          "2022w39",
          "2022w44",
          "2022w49",
          "2023w2"
         ],
         "xaxis": "x3",
         "y": [
          0.41866330390920553,
          0.3801801801801802,
          0.3654545454545455,
          0.5225225225225225,
          0.9947735191637631,
          0.364741641337386
         ],
         "yaxis": "y3"
        },
        {
         "hovertemplate": "newspaper=diarioojo<br>metric=retweet_count<br>stat=min<br>year_week=%{x}<br>value=%{y}<extra></extra>",
         "legendgroup": "diarioojo",
         "line": {
          "color": "#b16286",
          "dash": "solid"
         },
         "marker": {
          "symbol": "circle"
         },
         "mode": "lines",
         "name": "diarioojo",
         "showlegend": false,
         "type": "scattergl",
         "x": [
          "2022w33",
          "2022w34",
          "2022w39",
          "2022w44",
          "2022w49",
          "2023w2"
         ],
         "xaxis": "x4",
         "y": [
          0,
          0,
          0,
          0,
          0,
          0
         ],
         "yaxis": "y4"
        },
        {
         "hovertemplate": "newspaper=diarioojo<br>metric=retweet_count<br>stat=ratio<br>year_week=%{x}<br>value=%{y}<extra></extra>",
         "legendgroup": "diarioojo",
         "line": {
          "color": "#b16286",
          "dash": "solid"
         },
         "marker": {
          "symbol": "circle"
         },
         "mode": "lines",
         "name": "diarioojo",
         "showlegend": false,
         "type": "scattergl",
         "x": [
          "2022w33",
          "2022w34",
          "2022w39",
          "2022w44",
          "2022w49",
          "2023w2"
         ],
         "xaxis": "x5",
         "y": [
          0.41866330390920553,
          0.3801801801801802,
          0.3654545454545455,
          0.5225225225225225,
          0.9947735191637631,
          0.364741641337386
         ],
         "yaxis": "y5"
        },
        {
         "hovertemplate": "newspaper=diarioojo<br>metric=retweet_count<br>stat=std<br>year_week=%{x}<br>value=%{y}<extra></extra>",
         "legendgroup": "diarioojo",
         "line": {
          "color": "#b16286",
          "dash": "solid"
         },
         "marker": {
          "symbol": "circle"
         },
         "mode": "lines",
         "name": "diarioojo",
         "showlegend": false,
         "type": "scattergl",
         "x": [
          "2022w33",
          "2022w34",
          "2022w39",
          "2022w44",
          "2022w49",
          "2023w2"
         ],
         "xaxis": "x6",
         "y": [
          1.5687139199046805,
          1.1052728741452347,
          0.7956434615872554,
          3.4516956719380607,
          3.41462421067097,
          0.8769247176846611
         ],
         "yaxis": "y6"
        },
        {
         "hovertemplate": "newspaper=diarioojo<br>metric=retweet_count<br>stat=sum<br>year_week=%{x}<br>value=%{y}<extra></extra>",
         "legendgroup": "diarioojo",
         "line": {
          "color": "#b16286",
          "dash": "solid"
         },
         "marker": {
          "symbol": "circle"
         },
         "mode": "lines",
         "name": "diarioojo",
         "showlegend": false,
         "type": "scattergl",
         "x": [
          "2022w33",
          "2022w34",
          "2022w39",
          "2022w44",
          "2022w49",
          "2023w2"
         ],
         "xaxis": "x7",
         "y": [
          332,
          211,
          201,
          290,
          571,
          120
         ],
         "yaxis": "y7"
        },
        {
         "hovertemplate": "newspaper=elbuho_pe<br>metric=like_count<br>stat=count<br>year_week=%{x}<br>value=%{y}<extra></extra>",
         "legendgroup": "elbuho_pe",
         "line": {
          "color": "#fb4943",
          "dash": "solid"
         },
         "marker": {
          "symbol": "circle"
         },
         "mode": "lines",
         "name": "elbuho_pe",
         "showlegend": true,
         "type": "scattergl",
         "x": [
          "2022w34",
          "2022w39",
          "2022w44",
          "2022w49",
          "2023w2"
         ],
         "xaxis": "x22",
         "y": [
          58,
          97,
          77,
          77,
          105
         ],
         "yaxis": "y22"
        },
        {
         "hovertemplate": "newspaper=elbuho_pe<br>metric=like_count<br>stat=max<br>year_week=%{x}<br>value=%{y}<extra></extra>",
         "legendgroup": "elbuho_pe",
         "line": {
          "color": "#fb4943",
          "dash": "solid"
         },
         "marker": {
          "symbol": "circle"
         },
         "mode": "lines",
         "name": "elbuho_pe",
         "showlegend": false,
         "type": "scattergl",
         "x": [
          "2022w34",
          "2022w39",
          "2022w44",
          "2022w49",
          "2023w2"
         ],
         "xaxis": "x23",
         "y": [
          44,
          39,
          18,
          50,
          152
         ],
         "yaxis": "y23"
        },
        {
         "hovertemplate": "newspaper=elbuho_pe<br>metric=like_count<br>stat=mean<br>year_week=%{x}<br>value=%{y}<extra></extra>",
         "legendgroup": "elbuho_pe",
         "line": {
          "color": "#fb4943",
          "dash": "solid"
         },
         "marker": {
          "symbol": "circle"
         },
         "mode": "lines",
         "name": "elbuho_pe",
         "showlegend": false,
         "type": "scattergl",
         "x": [
          "2022w34",
          "2022w39",
          "2022w44",
          "2022w49",
          "2023w2"
         ],
         "xaxis": "x24",
         "y": [
          4.172413793103448,
          2.350515463917526,
          1.6233766233766234,
          4.87012987012987,
          14.923809523809524
         ],
         "yaxis": "y24"
        },
        {
         "hovertemplate": "newspaper=elbuho_pe<br>metric=like_count<br>stat=min<br>year_week=%{x}<br>value=%{y}<extra></extra>",
         "legendgroup": "elbuho_pe",
         "line": {
          "color": "#fb4943",
          "dash": "solid"
         },
         "marker": {
          "symbol": "circle"
         },
         "mode": "lines",
         "name": "elbuho_pe",
         "showlegend": false,
         "type": "scattergl",
         "x": [
          "2022w34",
          "2022w39",
          "2022w44",
          "2022w49",
          "2023w2"
         ],
         "xaxis": "x25",
         "y": [
          0,
          0,
          0,
          0,
          0
         ],
         "yaxis": "y25"
        },
        {
         "hovertemplate": "newspaper=elbuho_pe<br>metric=like_count<br>stat=ratio<br>year_week=%{x}<br>value=%{y}<extra></extra>",
         "legendgroup": "elbuho_pe",
         "line": {
          "color": "#fb4943",
          "dash": "solid"
         },
         "marker": {
          "symbol": "circle"
         },
         "mode": "lines",
         "name": "elbuho_pe",
         "showlegend": false,
         "type": "scattergl",
         "x": [
          "2022w34",
          "2022w39",
          "2022w44",
          "2022w49",
          "2023w2"
         ],
         "xaxis": "x26",
         "y": [
          4.172413793103448,
          2.350515463917526,
          1.6233766233766234,
          4.87012987012987,
          14.923809523809524
         ],
         "yaxis": "y26"
        },
        {
         "hovertemplate": "newspaper=elbuho_pe<br>metric=like_count<br>stat=std<br>year_week=%{x}<br>value=%{y}<extra></extra>",
         "legendgroup": "elbuho_pe",
         "line": {
          "color": "#fb4943",
          "dash": "solid"
         },
         "marker": {
          "symbol": "circle"
         },
         "mode": "lines",
         "name": "elbuho_pe",
         "showlegend": false,
         "type": "scattergl",
         "x": [
          "2022w34",
          "2022w39",
          "2022w44",
          "2022w49",
          "2023w2"
         ],
         "xaxis": "x27",
         "y": [
          6.4240172462531,
          4.701598214777172,
          2.7243490822722998,
          8.682030215745758,
          27.54356522580157
         ],
         "yaxis": "y27"
        },
        {
         "hovertemplate": "newspaper=elbuho_pe<br>metric=like_count<br>stat=sum<br>year_week=%{x}<br>value=%{y}<extra></extra>",
         "legendgroup": "elbuho_pe",
         "line": {
          "color": "#fb4943",
          "dash": "solid"
         },
         "marker": {
          "symbol": "circle"
         },
         "mode": "lines",
         "name": "elbuho_pe",
         "showlegend": false,
         "type": "scattergl",
         "x": [
          "2022w34",
          "2022w39",
          "2022w44",
          "2022w49",
          "2023w2"
         ],
         "xaxis": "x28",
         "y": [
          242,
          228,
          125,
          375,
          1567
         ],
         "yaxis": "y28"
        },
        {
         "hovertemplate": "newspaper=elbuho_pe<br>metric=quote_count<br>stat=count<br>year_week=%{x}<br>value=%{y}<extra></extra>",
         "legendgroup": "elbuho_pe",
         "line": {
          "color": "#fb4943",
          "dash": "solid"
         },
         "marker": {
          "symbol": "circle"
         },
         "mode": "lines",
         "name": "elbuho_pe",
         "showlegend": false,
         "type": "scattergl",
         "x": [
          "2022w34",
          "2022w39",
          "2022w44",
          "2022w49",
          "2023w2"
         ],
         "xaxis": "x15",
         "y": [
          58,
          97,
          77,
          77,
          105
         ],
         "yaxis": "y15"
        },
        {
         "hovertemplate": "newspaper=elbuho_pe<br>metric=quote_count<br>stat=max<br>year_week=%{x}<br>value=%{y}<extra></extra>",
         "legendgroup": "elbuho_pe",
         "line": {
          "color": "#fb4943",
          "dash": "solid"
         },
         "marker": {
          "symbol": "circle"
         },
         "mode": "lines",
         "name": "elbuho_pe",
         "showlegend": false,
         "type": "scattergl",
         "x": [
          "2022w34",
          "2022w39",
          "2022w44",
          "2022w49",
          "2023w2"
         ],
         "xaxis": "x16",
         "y": [
          3,
          4,
          1,
          3,
          11
         ],
         "yaxis": "y16"
        },
        {
         "hovertemplate": "newspaper=elbuho_pe<br>metric=quote_count<br>stat=mean<br>year_week=%{x}<br>value=%{y}<extra></extra>",
         "legendgroup": "elbuho_pe",
         "line": {
          "color": "#fb4943",
          "dash": "solid"
         },
         "marker": {
          "symbol": "circle"
         },
         "mode": "lines",
         "name": "elbuho_pe",
         "showlegend": false,
         "type": "scattergl",
         "x": [
          "2022w34",
          "2022w39",
          "2022w44",
          "2022w49",
          "2023w2"
         ],
         "xaxis": "x17",
         "y": [
          0.10344827586206896,
          0.13402061855670103,
          0.05194805194805195,
          0.23376623376623376,
          0.5238095238095238
         ],
         "yaxis": "y17"
        },
        {
         "hovertemplate": "newspaper=elbuho_pe<br>metric=quote_count<br>stat=min<br>year_week=%{x}<br>value=%{y}<extra></extra>",
         "legendgroup": "elbuho_pe",
         "line": {
          "color": "#fb4943",
          "dash": "solid"
         },
         "marker": {
          "symbol": "circle"
         },
         "mode": "lines",
         "name": "elbuho_pe",
         "showlegend": false,
         "type": "scattergl",
         "x": [
          "2022w34",
          "2022w39",
          "2022w44",
          "2022w49",
          "2023w2"
         ],
         "xaxis": "x18",
         "y": [
          0,
          0,
          0,
          0,
          0
         ],
         "yaxis": "y18"
        },
        {
         "hovertemplate": "newspaper=elbuho_pe<br>metric=quote_count<br>stat=ratio<br>year_week=%{x}<br>value=%{y}<extra></extra>",
         "legendgroup": "elbuho_pe",
         "line": {
          "color": "#fb4943",
          "dash": "solid"
         },
         "marker": {
          "symbol": "circle"
         },
         "mode": "lines",
         "name": "elbuho_pe",
         "showlegend": false,
         "type": "scattergl",
         "x": [
          "2022w34",
          "2022w39",
          "2022w44",
          "2022w49",
          "2023w2"
         ],
         "xaxis": "x19",
         "y": [
          0.10344827586206896,
          0.13402061855670103,
          0.05194805194805195,
          0.23376623376623376,
          0.5238095238095238
         ],
         "yaxis": "y19"
        },
        {
         "hovertemplate": "newspaper=elbuho_pe<br>metric=quote_count<br>stat=std<br>year_week=%{x}<br>value=%{y}<extra></extra>",
         "legendgroup": "elbuho_pe",
         "line": {
          "color": "#fb4943",
          "dash": "solid"
         },
         "marker": {
          "symbol": "circle"
         },
         "mode": "lines",
         "name": "elbuho_pe",
         "showlegend": false,
         "type": "scattergl",
         "x": [
          "2022w34",
          "2022w39",
          "2022w44",
          "2022w49",
          "2023w2"
         ],
         "xaxis": "x20",
         "y": [
          0.4468075912442249,
          0.5129340840404805,
          0.2233774181740458,
          0.6047205508615637,
          1.5756270918592166
         ],
         "yaxis": "y20"
        },
        {
         "hovertemplate": "newspaper=elbuho_pe<br>metric=quote_count<br>stat=sum<br>year_week=%{x}<br>value=%{y}<extra></extra>",
         "legendgroup": "elbuho_pe",
         "line": {
          "color": "#fb4943",
          "dash": "solid"
         },
         "marker": {
          "symbol": "circle"
         },
         "mode": "lines",
         "name": "elbuho_pe",
         "showlegend": false,
         "type": "scattergl",
         "x": [
          "2022w34",
          "2022w39",
          "2022w44",
          "2022w49",
          "2023w2"
         ],
         "xaxis": "x21",
         "y": [
          6,
          13,
          4,
          18,
          55
         ],
         "yaxis": "y21"
        },
        {
         "hovertemplate": "newspaper=elbuho_pe<br>metric=reply_count<br>stat=count<br>year_week=%{x}<br>value=%{y}<extra></extra>",
         "legendgroup": "elbuho_pe",
         "line": {
          "color": "#fb4943",
          "dash": "solid"
         },
         "marker": {
          "symbol": "circle"
         },
         "mode": "lines",
         "name": "elbuho_pe",
         "showlegend": false,
         "type": "scattergl",
         "x": [
          "2022w34",
          "2022w39",
          "2022w44",
          "2022w49",
          "2023w2"
         ],
         "xaxis": "x8",
         "y": [
          58,
          97,
          77,
          77,
          105
         ],
         "yaxis": "y8"
        },
        {
         "hovertemplate": "newspaper=elbuho_pe<br>metric=reply_count<br>stat=max<br>year_week=%{x}<br>value=%{y}<extra></extra>",
         "legendgroup": "elbuho_pe",
         "line": {
          "color": "#fb4943",
          "dash": "solid"
         },
         "marker": {
          "symbol": "circle"
         },
         "mode": "lines",
         "name": "elbuho_pe",
         "showlegend": false,
         "type": "scattergl",
         "x": [
          "2022w34",
          "2022w39",
          "2022w44",
          "2022w49",
          "2023w2"
         ],
         "xaxis": "x9",
         "y": [
          8,
          4,
          1,
          7,
          22
         ],
         "yaxis": "y9"
        },
        {
         "hovertemplate": "newspaper=elbuho_pe<br>metric=reply_count<br>stat=mean<br>year_week=%{x}<br>value=%{y}<extra></extra>",
         "legendgroup": "elbuho_pe",
         "line": {
          "color": "#fb4943",
          "dash": "solid"
         },
         "marker": {
          "symbol": "circle"
         },
         "mode": "lines",
         "name": "elbuho_pe",
         "showlegend": false,
         "type": "scattergl",
         "x": [
          "2022w34",
          "2022w39",
          "2022w44",
          "2022w49",
          "2023w2"
         ],
         "xaxis": "x10",
         "y": [
          0.5517241379310345,
          0.14432989690721648,
          0.06493506493506493,
          0.44155844155844154,
          2.2476190476190476
         ],
         "yaxis": "y10"
        },
        {
         "hovertemplate": "newspaper=elbuho_pe<br>metric=reply_count<br>stat=min<br>year_week=%{x}<br>value=%{y}<extra></extra>",
         "legendgroup": "elbuho_pe",
         "line": {
          "color": "#fb4943",
          "dash": "solid"
         },
         "marker": {
          "symbol": "circle"
         },
         "mode": "lines",
         "name": "elbuho_pe",
         "showlegend": false,
         "type": "scattergl",
         "x": [
          "2022w34",
          "2022w39",
          "2022w44",
          "2022w49",
          "2023w2"
         ],
         "xaxis": "x11",
         "y": [
          0,
          0,
          0,
          0,
          0
         ],
         "yaxis": "y11"
        },
        {
         "hovertemplate": "newspaper=elbuho_pe<br>metric=reply_count<br>stat=ratio<br>year_week=%{x}<br>value=%{y}<extra></extra>",
         "legendgroup": "elbuho_pe",
         "line": {
          "color": "#fb4943",
          "dash": "solid"
         },
         "marker": {
          "symbol": "circle"
         },
         "mode": "lines",
         "name": "elbuho_pe",
         "showlegend": false,
         "type": "scattergl",
         "x": [
          "2022w34",
          "2022w39",
          "2022w44",
          "2022w49",
          "2023w2"
         ],
         "xaxis": "x12",
         "y": [
          0.5517241379310345,
          0.14432989690721648,
          0.06493506493506493,
          0.44155844155844154,
          2.2476190476190476
         ],
         "yaxis": "y12"
        },
        {
         "hovertemplate": "newspaper=elbuho_pe<br>metric=reply_count<br>stat=std<br>year_week=%{x}<br>value=%{y}<extra></extra>",
         "legendgroup": "elbuho_pe",
         "line": {
          "color": "#fb4943",
          "dash": "solid"
         },
         "marker": {
          "symbol": "circle"
         },
         "mode": "lines",
         "name": "elbuho_pe",
         "showlegend": false,
         "type": "scattergl",
         "x": [
          "2022w34",
          "2022w39",
          "2022w44",
          "2022w49",
          "2023w2"
         ],
         "xaxis": "x13",
         "y": [
          1.3399713769279127,
          0.520210108226504,
          0.2480270750109402,
          1.2192912791918626,
          4.659112147966177
         ],
         "yaxis": "y13"
        },
        {
         "hovertemplate": "newspaper=elbuho_pe<br>metric=reply_count<br>stat=sum<br>year_week=%{x}<br>value=%{y}<extra></extra>",
         "legendgroup": "elbuho_pe",
         "line": {
          "color": "#fb4943",
          "dash": "solid"
         },
         "marker": {
          "symbol": "circle"
         },
         "mode": "lines",
         "name": "elbuho_pe",
         "showlegend": false,
         "type": "scattergl",
         "x": [
          "2022w34",
          "2022w39",
          "2022w44",
          "2022w49",
          "2023w2"
         ],
         "xaxis": "x14",
         "y": [
          32,
          14,
          5,
          34,
          236
         ],
         "yaxis": "y14"
        },
        {
         "hovertemplate": "newspaper=elbuho_pe<br>metric=retweet_count<br>stat=count<br>year_week=%{x}<br>value=%{y}<extra></extra>",
         "legendgroup": "elbuho_pe",
         "line": {
          "color": "#fb4943",
          "dash": "solid"
         },
         "marker": {
          "symbol": "circle"
         },
         "mode": "lines",
         "name": "elbuho_pe",
         "showlegend": false,
         "type": "scattergl",
         "x": [
          "2022w34",
          "2022w39",
          "2022w44",
          "2022w49",
          "2023w2"
         ],
         "xaxis": "x",
         "y": [
          58,
          97,
          77,
          77,
          105
         ],
         "yaxis": "y"
        },
        {
         "hovertemplate": "newspaper=elbuho_pe<br>metric=retweet_count<br>stat=max<br>year_week=%{x}<br>value=%{y}<extra></extra>",
         "legendgroup": "elbuho_pe",
         "line": {
          "color": "#fb4943",
          "dash": "solid"
         },
         "marker": {
          "symbol": "circle"
         },
         "mode": "lines",
         "name": "elbuho_pe",
         "showlegend": false,
         "type": "scattergl",
         "x": [
          "2022w34",
          "2022w39",
          "2022w44",
          "2022w49",
          "2023w2"
         ],
         "xaxis": "x2",
         "y": [
          18,
          11,
          11,
          1109,
          950
         ],
         "yaxis": "y2"
        },
        {
         "hovertemplate": "newspaper=elbuho_pe<br>metric=retweet_count<br>stat=mean<br>year_week=%{x}<br>value=%{y}<extra></extra>",
         "legendgroup": "elbuho_pe",
         "line": {
          "color": "#fb4943",
          "dash": "solid"
         },
         "marker": {
          "symbol": "circle"
         },
         "mode": "lines",
         "name": "elbuho_pe",
         "showlegend": false,
         "type": "scattergl",
         "x": [
          "2022w34",
          "2022w39",
          "2022w44",
          "2022w49",
          "2023w2"
         ],
         "xaxis": "x3",
         "y": [
          2.8448275862068964,
          2.0103092783505154,
          1.4545454545454546,
          18.116883116883116,
          23.295238095238094
         ],
         "yaxis": "y3"
        },
        {
         "hovertemplate": "newspaper=elbuho_pe<br>metric=retweet_count<br>stat=min<br>year_week=%{x}<br>value=%{y}<extra></extra>",
         "legendgroup": "elbuho_pe",
         "line": {
          "color": "#fb4943",
          "dash": "solid"
         },
         "marker": {
          "symbol": "circle"
         },
         "mode": "lines",
         "name": "elbuho_pe",
         "showlegend": false,
         "type": "scattergl",
         "x": [
          "2022w34",
          "2022w39",
          "2022w44",
          "2022w49",
          "2023w2"
         ],
         "xaxis": "x4",
         "y": [
          0,
          0,
          0,
          0,
          0
         ],
         "yaxis": "y4"
        },
        {
         "hovertemplate": "newspaper=elbuho_pe<br>metric=retweet_count<br>stat=ratio<br>year_week=%{x}<br>value=%{y}<extra></extra>",
         "legendgroup": "elbuho_pe",
         "line": {
          "color": "#fb4943",
          "dash": "solid"
         },
         "marker": {
          "symbol": "circle"
         },
         "mode": "lines",
         "name": "elbuho_pe",
         "showlegend": false,
         "type": "scattergl",
         "x": [
          "2022w34",
          "2022w39",
          "2022w44",
          "2022w49",
          "2023w2"
         ],
         "xaxis": "x5",
         "y": [
          2.8448275862068964,
          2.0103092783505154,
          1.4545454545454546,
          18.116883116883116,
          23.295238095238094
         ],
         "yaxis": "y5"
        },
        {
         "hovertemplate": "newspaper=elbuho_pe<br>metric=retweet_count<br>stat=std<br>year_week=%{x}<br>value=%{y}<extra></extra>",
         "legendgroup": "elbuho_pe",
         "line": {
          "color": "#fb4943",
          "dash": "solid"
         },
         "marker": {
          "symbol": "circle"
         },
         "mode": "lines",
         "name": "elbuho_pe",
         "showlegend": false,
         "type": "scattergl",
         "x": [
          "2022w34",
          "2022w39",
          "2022w44",
          "2022w49",
          "2023w2"
         ],
         "xaxis": "x6",
         "y": [
          2.954637889398846,
          1.873581937986838,
          1.381698559415515,
          126.04353613209813,
          93.40718591710375
         ],
         "yaxis": "y6"
        },
        {
         "hovertemplate": "newspaper=elbuho_pe<br>metric=retweet_count<br>stat=sum<br>year_week=%{x}<br>value=%{y}<extra></extra>",
         "legendgroup": "elbuho_pe",
         "line": {
          "color": "#fb4943",
          "dash": "solid"
         },
         "marker": {
          "symbol": "circle"
         },
         "mode": "lines",
         "name": "elbuho_pe",
         "showlegend": false,
         "type": "scattergl",
         "x": [
          "2022w34",
          "2022w39",
          "2022w44",
          "2022w49",
          "2023w2"
         ],
         "xaxis": "x7",
         "y": [
          165,
          195,
          112,
          1395,
          2446
         ],
         "yaxis": "y7"
        },
        {
         "hovertemplate": "newspaper=elcomercio_peru<br>metric=like_count<br>stat=count<br>year_week=%{x}<br>value=%{y}<extra></extra>",
         "legendgroup": "elcomercio_peru",
         "line": {
          "color": "#689d6a",
          "dash": "solid"
         },
         "marker": {
          "symbol": "circle"
         },
         "mode": "lines",
         "name": "elcomercio_peru",
         "showlegend": true,
         "type": "scattergl",
         "x": [
          "2022w33",
          "2022w34",
          "2022w39",
          "2022w44",
          "2022w49",
          "2023w2"
         ],
         "xaxis": "x22",
         "y": [
          584,
          457,
          512,
          433,
          442,
          462
         ],
         "yaxis": "y22"
        },
        {
         "hovertemplate": "newspaper=elcomercio_peru<br>metric=like_count<br>stat=max<br>year_week=%{x}<br>value=%{y}<extra></extra>",
         "legendgroup": "elcomercio_peru",
         "line": {
          "color": "#689d6a",
          "dash": "solid"
         },
         "marker": {
          "symbol": "circle"
         },
         "mode": "lines",
         "name": "elcomercio_peru",
         "showlegend": false,
         "type": "scattergl",
         "x": [
          "2022w33",
          "2022w34",
          "2022w39",
          "2022w44",
          "2022w49",
          "2023w2"
         ],
         "xaxis": "x23",
         "y": [
          173,
          105,
          77,
          107,
          1657,
          2067
         ],
         "yaxis": "y23"
        },
        {
         "hovertemplate": "newspaper=elcomercio_peru<br>metric=like_count<br>stat=mean<br>year_week=%{x}<br>value=%{y}<extra></extra>",
         "legendgroup": "elcomercio_peru",
         "line": {
          "color": "#689d6a",
          "dash": "solid"
         },
         "marker": {
          "symbol": "circle"
         },
         "mode": "lines",
         "name": "elcomercio_peru",
         "showlegend": false,
         "type": "scattergl",
         "x": [
          "2022w33",
          "2022w34",
          "2022w39",
          "2022w44",
          "2022w49",
          "2023w2"
         ],
         "xaxis": "x24",
         "y": [
          6.1284246575342465,
          6.054704595185996,
          5.0625,
          4.355658198614319,
          15.703619909502262,
          13.097402597402597
         ],
         "yaxis": "y24"
        },
        {
         "hovertemplate": "newspaper=elcomercio_peru<br>metric=like_count<br>stat=min<br>year_week=%{x}<br>value=%{y}<extra></extra>",
         "legendgroup": "elcomercio_peru",
         "line": {
          "color": "#689d6a",
          "dash": "solid"
         },
         "marker": {
          "symbol": "circle"
         },
         "mode": "lines",
         "name": "elcomercio_peru",
         "showlegend": false,
         "type": "scattergl",
         "x": [
          "2022w33",
          "2022w34",
          "2022w39",
          "2022w44",
          "2022w49",
          "2023w2"
         ],
         "xaxis": "x25",
         "y": [
          0,
          0,
          0,
          0,
          0,
          0
         ],
         "yaxis": "y25"
        },
        {
         "hovertemplate": "newspaper=elcomercio_peru<br>metric=like_count<br>stat=ratio<br>year_week=%{x}<br>value=%{y}<extra></extra>",
         "legendgroup": "elcomercio_peru",
         "line": {
          "color": "#689d6a",
          "dash": "solid"
         },
         "marker": {
          "symbol": "circle"
         },
         "mode": "lines",
         "name": "elcomercio_peru",
         "showlegend": false,
         "type": "scattergl",
         "x": [
          "2022w33",
          "2022w34",
          "2022w39",
          "2022w44",
          "2022w49",
          "2023w2"
         ],
         "xaxis": "x26",
         "y": [
          6.1284246575342465,
          6.054704595185996,
          5.0625,
          4.355658198614319,
          15.703619909502262,
          13.097402597402597
         ],
         "yaxis": "y26"
        },
        {
         "hovertemplate": "newspaper=elcomercio_peru<br>metric=like_count<br>stat=std<br>year_week=%{x}<br>value=%{y}<extra></extra>",
         "legendgroup": "elcomercio_peru",
         "line": {
          "color": "#689d6a",
          "dash": "solid"
         },
         "marker": {
          "symbol": "circle"
         },
         "mode": "lines",
         "name": "elcomercio_peru",
         "showlegend": false,
         "type": "scattergl",
         "x": [
          "2022w33",
          "2022w34",
          "2022w39",
          "2022w44",
          "2022w49",
          "2023w2"
         ],
         "xaxis": "x27",
         "y": [
          11.42620203229496,
          8.681704950328717,
          6.812846159897816,
          8.242452866305744,
          83.06640479709087,
          98.10551025764804
         ],
         "yaxis": "y27"
        },
        {
         "hovertemplate": "newspaper=elcomercio_peru<br>metric=like_count<br>stat=sum<br>year_week=%{x}<br>value=%{y}<extra></extra>",
         "legendgroup": "elcomercio_peru",
         "line": {
          "color": "#689d6a",
          "dash": "solid"
         },
         "marker": {
          "symbol": "circle"
         },
         "mode": "lines",
         "name": "elcomercio_peru",
         "showlegend": false,
         "type": "scattergl",
         "x": [
          "2022w33",
          "2022w34",
          "2022w39",
          "2022w44",
          "2022w49",
          "2023w2"
         ],
         "xaxis": "x28",
         "y": [
          3579,
          2767,
          2592,
          1886,
          6941,
          6051
         ],
         "yaxis": "y28"
        },
        {
         "hovertemplate": "newspaper=elcomercio_peru<br>metric=quote_count<br>stat=count<br>year_week=%{x}<br>value=%{y}<extra></extra>",
         "legendgroup": "elcomercio_peru",
         "line": {
          "color": "#689d6a",
          "dash": "solid"
         },
         "marker": {
          "symbol": "circle"
         },
         "mode": "lines",
         "name": "elcomercio_peru",
         "showlegend": false,
         "type": "scattergl",
         "x": [
          "2022w33",
          "2022w34",
          "2022w39",
          "2022w44",
          "2022w49",
          "2023w2"
         ],
         "xaxis": "x15",
         "y": [
          584,
          457,
          512,
          433,
          442,
          462
         ],
         "yaxis": "y15"
        },
        {
         "hovertemplate": "newspaper=elcomercio_peru<br>metric=quote_count<br>stat=max<br>year_week=%{x}<br>value=%{y}<extra></extra>",
         "legendgroup": "elcomercio_peru",
         "line": {
          "color": "#689d6a",
          "dash": "solid"
         },
         "marker": {
          "symbol": "circle"
         },
         "mode": "lines",
         "name": "elcomercio_peru",
         "showlegend": false,
         "type": "scattergl",
         "x": [
          "2022w33",
          "2022w34",
          "2022w39",
          "2022w44",
          "2022w49",
          "2023w2"
         ],
         "xaxis": "x16",
         "y": [
          8,
          7,
          4,
          15,
          101,
          76
         ],
         "yaxis": "y16"
        },
        {
         "hovertemplate": "newspaper=elcomercio_peru<br>metric=quote_count<br>stat=mean<br>year_week=%{x}<br>value=%{y}<extra></extra>",
         "legendgroup": "elcomercio_peru",
         "line": {
          "color": "#689d6a",
          "dash": "solid"
         },
         "marker": {
          "symbol": "circle"
         },
         "mode": "lines",
         "name": "elcomercio_peru",
         "showlegend": false,
         "type": "scattergl",
         "x": [
          "2022w33",
          "2022w34",
          "2022w39",
          "2022w44",
          "2022w49",
          "2023w2"
         ],
         "xaxis": "x17",
         "y": [
          0.2208904109589041,
          0.2275711159737418,
          0.171875,
          0.18475750577367206,
          0.916289592760181,
          0.47835497835497837
         ],
         "yaxis": "y17"
        },
        {
         "hovertemplate": "newspaper=elcomercio_peru<br>metric=quote_count<br>stat=min<br>year_week=%{x}<br>value=%{y}<extra></extra>",
         "legendgroup": "elcomercio_peru",
         "line": {
          "color": "#689d6a",
          "dash": "solid"
         },
         "marker": {
          "symbol": "circle"
         },
         "mode": "lines",
         "name": "elcomercio_peru",
         "showlegend": false,
         "type": "scattergl",
         "x": [
          "2022w33",
          "2022w34",
          "2022w39",
          "2022w44",
          "2022w49",
          "2023w2"
         ],
         "xaxis": "x18",
         "y": [
          0,
          0,
          0,
          0,
          0,
          0
         ],
         "yaxis": "y18"
        },
        {
         "hovertemplate": "newspaper=elcomercio_peru<br>metric=quote_count<br>stat=ratio<br>year_week=%{x}<br>value=%{y}<extra></extra>",
         "legendgroup": "elcomercio_peru",
         "line": {
          "color": "#689d6a",
          "dash": "solid"
         },
         "marker": {
          "symbol": "circle"
         },
         "mode": "lines",
         "name": "elcomercio_peru",
         "showlegend": false,
         "type": "scattergl",
         "x": [
          "2022w33",
          "2022w34",
          "2022w39",
          "2022w44",
          "2022w49",
          "2023w2"
         ],
         "xaxis": "x19",
         "y": [
          0.2208904109589041,
          0.2275711159737418,
          0.171875,
          0.18475750577367206,
          0.916289592760181,
          0.47835497835497837
         ],
         "yaxis": "y19"
        },
        {
         "hovertemplate": "newspaper=elcomercio_peru<br>metric=quote_count<br>stat=std<br>year_week=%{x}<br>value=%{y}<extra></extra>",
         "legendgroup": "elcomercio_peru",
         "line": {
          "color": "#689d6a",
          "dash": "solid"
         },
         "marker": {
          "symbol": "circle"
         },
         "mode": "lines",
         "name": "elcomercio_peru",
         "showlegend": false,
         "type": "scattergl",
         "x": [
          "2022w33",
          "2022w34",
          "2022w39",
          "2022w44",
          "2022w49",
          "2023w2"
         ],
         "xaxis": "x20",
         "y": [
          0.6886797683278629,
          0.6594997505066013,
          0.5175491695067658,
          0.8542098898794361,
          5.964730563190267,
          3.740289973847958
         ],
         "yaxis": "y20"
        },
        {
         "hovertemplate": "newspaper=elcomercio_peru<br>metric=quote_count<br>stat=sum<br>year_week=%{x}<br>value=%{y}<extra></extra>",
         "legendgroup": "elcomercio_peru",
         "line": {
          "color": "#689d6a",
          "dash": "solid"
         },
         "marker": {
          "symbol": "circle"
         },
         "mode": "lines",
         "name": "elcomercio_peru",
         "showlegend": false,
         "type": "scattergl",
         "x": [
          "2022w33",
          "2022w34",
          "2022w39",
          "2022w44",
          "2022w49",
          "2023w2"
         ],
         "xaxis": "x21",
         "y": [
          129,
          104,
          88,
          80,
          405,
          221
         ],
         "yaxis": "y21"
        },
        {
         "hovertemplate": "newspaper=elcomercio_peru<br>metric=reply_count<br>stat=count<br>year_week=%{x}<br>value=%{y}<extra></extra>",
         "legendgroup": "elcomercio_peru",
         "line": {
          "color": "#689d6a",
          "dash": "solid"
         },
         "marker": {
          "symbol": "circle"
         },
         "mode": "lines",
         "name": "elcomercio_peru",
         "showlegend": false,
         "type": "scattergl",
         "x": [
          "2022w33",
          "2022w34",
          "2022w39",
          "2022w44",
          "2022w49",
          "2023w2"
         ],
         "xaxis": "x8",
         "y": [
          584,
          457,
          512,
          433,
          442,
          462
         ],
         "yaxis": "y8"
        },
        {
         "hovertemplate": "newspaper=elcomercio_peru<br>metric=reply_count<br>stat=max<br>year_week=%{x}<br>value=%{y}<extra></extra>",
         "legendgroup": "elcomercio_peru",
         "line": {
          "color": "#689d6a",
          "dash": "solid"
         },
         "marker": {
          "symbol": "circle"
         },
         "mode": "lines",
         "name": "elcomercio_peru",
         "showlegend": false,
         "type": "scattergl",
         "x": [
          "2022w33",
          "2022w34",
          "2022w39",
          "2022w44",
          "2022w49",
          "2023w2"
         ],
         "xaxis": "x9",
         "y": [
          49,
          48,
          11,
          20,
          366,
          768
         ],
         "yaxis": "y9"
        },
        {
         "hovertemplate": "newspaper=elcomercio_peru<br>metric=reply_count<br>stat=mean<br>year_week=%{x}<br>value=%{y}<extra></extra>",
         "legendgroup": "elcomercio_peru",
         "line": {
          "color": "#689d6a",
          "dash": "solid"
         },
         "marker": {
          "symbol": "circle"
         },
         "mode": "lines",
         "name": "elcomercio_peru",
         "showlegend": false,
         "type": "scattergl",
         "x": [
          "2022w33",
          "2022w34",
          "2022w39",
          "2022w44",
          "2022w49",
          "2023w2"
         ],
         "xaxis": "x10",
         "y": [
          1.1284246575342465,
          0.9212253829321663,
          0.66796875,
          1.0877598152424943,
          3.8800904977375565,
          4.703463203463204
         ],
         "yaxis": "y10"
        },
        {
         "hovertemplate": "newspaper=elcomercio_peru<br>metric=reply_count<br>stat=min<br>year_week=%{x}<br>value=%{y}<extra></extra>",
         "legendgroup": "elcomercio_peru",
         "line": {
          "color": "#689d6a",
          "dash": "solid"
         },
         "marker": {
          "symbol": "circle"
         },
         "mode": "lines",
         "name": "elcomercio_peru",
         "showlegend": false,
         "type": "scattergl",
         "x": [
          "2022w33",
          "2022w34",
          "2022w39",
          "2022w44",
          "2022w49",
          "2023w2"
         ],
         "xaxis": "x11",
         "y": [
          0,
          0,
          0,
          0,
          0,
          0
         ],
         "yaxis": "y11"
        },
        {
         "hovertemplate": "newspaper=elcomercio_peru<br>metric=reply_count<br>stat=ratio<br>year_week=%{x}<br>value=%{y}<extra></extra>",
         "legendgroup": "elcomercio_peru",
         "line": {
          "color": "#689d6a",
          "dash": "solid"
         },
         "marker": {
          "symbol": "circle"
         },
         "mode": "lines",
         "name": "elcomercio_peru",
         "showlegend": false,
         "type": "scattergl",
         "x": [
          "2022w33",
          "2022w34",
          "2022w39",
          "2022w44",
          "2022w49",
          "2023w2"
         ],
         "xaxis": "x12",
         "y": [
          1.1284246575342465,
          0.9212253829321663,
          0.66796875,
          1.0877598152424943,
          3.8800904977375565,
          4.703463203463204
         ],
         "yaxis": "y12"
        },
        {
         "hovertemplate": "newspaper=elcomercio_peru<br>metric=reply_count<br>stat=std<br>year_week=%{x}<br>value=%{y}<extra></extra>",
         "legendgroup": "elcomercio_peru",
         "line": {
          "color": "#689d6a",
          "dash": "solid"
         },
         "marker": {
          "symbol": "circle"
         },
         "mode": "lines",
         "name": "elcomercio_peru",
         "showlegend": false,
         "type": "scattergl",
         "x": [
          "2022w33",
          "2022w34",
          "2022w39",
          "2022w44",
          "2022w49",
          "2023w2"
         ],
         "xaxis": "x13",
         "y": [
          3.7046556752070474,
          3.4050929714571048,
          1.4801720740794087,
          2.3730084861860647,
          18.89538239170494,
          36.99675703847774
         ],
         "yaxis": "y13"
        },
        {
         "hovertemplate": "newspaper=elcomercio_peru<br>metric=reply_count<br>stat=sum<br>year_week=%{x}<br>value=%{y}<extra></extra>",
         "legendgroup": "elcomercio_peru",
         "line": {
          "color": "#689d6a",
          "dash": "solid"
         },
         "marker": {
          "symbol": "circle"
         },
         "mode": "lines",
         "name": "elcomercio_peru",
         "showlegend": false,
         "type": "scattergl",
         "x": [
          "2022w33",
          "2022w34",
          "2022w39",
          "2022w44",
          "2022w49",
          "2023w2"
         ],
         "xaxis": "x14",
         "y": [
          659,
          421,
          342,
          471,
          1715,
          2173
         ],
         "yaxis": "y14"
        },
        {
         "hovertemplate": "newspaper=elcomercio_peru<br>metric=retweet_count<br>stat=count<br>year_week=%{x}<br>value=%{y}<extra></extra>",
         "legendgroup": "elcomercio_peru",
         "line": {
          "color": "#689d6a",
          "dash": "solid"
         },
         "marker": {
          "symbol": "circle"
         },
         "mode": "lines",
         "name": "elcomercio_peru",
         "showlegend": false,
         "type": "scattergl",
         "x": [
          "2022w33",
          "2022w34",
          "2022w39",
          "2022w44",
          "2022w49",
          "2023w2"
         ],
         "xaxis": "x",
         "y": [
          584,
          457,
          512,
          433,
          442,
          462
         ],
         "yaxis": "y"
        },
        {
         "hovertemplate": "newspaper=elcomercio_peru<br>metric=retweet_count<br>stat=max<br>year_week=%{x}<br>value=%{y}<extra></extra>",
         "legendgroup": "elcomercio_peru",
         "line": {
          "color": "#689d6a",
          "dash": "solid"
         },
         "marker": {
          "symbol": "circle"
         },
         "mode": "lines",
         "name": "elcomercio_peru",
         "showlegend": false,
         "type": "scattergl",
         "x": [
          "2022w33",
          "2022w34",
          "2022w39",
          "2022w44",
          "2022w49",
          "2023w2"
         ],
         "xaxis": "x2",
         "y": [
          342,
          842,
          354,
          43,
          1128,
          264
         ],
         "yaxis": "y2"
        },
        {
         "hovertemplate": "newspaper=elcomercio_peru<br>metric=retweet_count<br>stat=mean<br>year_week=%{x}<br>value=%{y}<extra></extra>",
         "legendgroup": "elcomercio_peru",
         "line": {
          "color": "#689d6a",
          "dash": "solid"
         },
         "marker": {
          "symbol": "circle"
         },
         "mode": "lines",
         "name": "elcomercio_peru",
         "showlegend": false,
         "type": "scattergl",
         "x": [
          "2022w33",
          "2022w34",
          "2022w39",
          "2022w44",
          "2022w49",
          "2023w2"
         ],
         "xaxis": "x3",
         "y": [
          3.011986301369863,
          5.131291028446389,
          2.650390625,
          1.3371824480369514,
          8.658371040723981,
          3.1645021645021645
         ],
         "yaxis": "y3"
        },
        {
         "hovertemplate": "newspaper=elcomercio_peru<br>metric=retweet_count<br>stat=min<br>year_week=%{x}<br>value=%{y}<extra></extra>",
         "legendgroup": "elcomercio_peru",
         "line": {
          "color": "#689d6a",
          "dash": "solid"
         },
         "marker": {
          "symbol": "circle"
         },
         "mode": "lines",
         "name": "elcomercio_peru",
         "showlegend": false,
         "type": "scattergl",
         "x": [
          "2022w33",
          "2022w34",
          "2022w39",
          "2022w44",
          "2022w49",
          "2023w2"
         ],
         "xaxis": "x4",
         "y": [
          0,
          0,
          0,
          0,
          0,
          0
         ],
         "yaxis": "y4"
        },
        {
         "hovertemplate": "newspaper=elcomercio_peru<br>metric=retweet_count<br>stat=ratio<br>year_week=%{x}<br>value=%{y}<extra></extra>",
         "legendgroup": "elcomercio_peru",
         "line": {
          "color": "#689d6a",
          "dash": "solid"
         },
         "marker": {
          "symbol": "circle"
         },
         "mode": "lines",
         "name": "elcomercio_peru",
         "showlegend": false,
         "type": "scattergl",
         "x": [
          "2022w33",
          "2022w34",
          "2022w39",
          "2022w44",
          "2022w49",
          "2023w2"
         ],
         "xaxis": "x5",
         "y": [
          3.011986301369863,
          5.131291028446389,
          2.650390625,
          1.3371824480369514,
          8.658371040723981,
          3.1645021645021645
         ],
         "yaxis": "y5"
        },
        {
         "hovertemplate": "newspaper=elcomercio_peru<br>metric=retweet_count<br>stat=std<br>year_week=%{x}<br>value=%{y}<extra></extra>",
         "legendgroup": "elcomercio_peru",
         "line": {
          "color": "#689d6a",
          "dash": "solid"
         },
         "marker": {
          "symbol": "circle"
         },
         "mode": "lines",
         "name": "elcomercio_peru",
         "showlegend": false,
         "type": "scattergl",
         "x": [
          "2022w33",
          "2022w34",
          "2022w39",
          "2022w44",
          "2022w49",
          "2023w2"
         ],
         "xaxis": "x6",
         "y": [
          17.748235294872124,
          48.68183769493409,
          16.067033010150507,
          3.1309282149977506,
          60.11812661297635,
          14.43494628544052
         ],
         "yaxis": "y6"
        },
        {
         "hovertemplate": "newspaper=elcomercio_peru<br>metric=retweet_count<br>stat=sum<br>year_week=%{x}<br>value=%{y}<extra></extra>",
         "legendgroup": "elcomercio_peru",
         "line": {
          "color": "#689d6a",
          "dash": "solid"
         },
         "marker": {
          "symbol": "circle"
         },
         "mode": "lines",
         "name": "elcomercio_peru",
         "showlegend": false,
         "type": "scattergl",
         "x": [
          "2022w33",
          "2022w34",
          "2022w39",
          "2022w44",
          "2022w49",
          "2023w2"
         ],
         "xaxis": "x7",
         "y": [
          1759,
          2345,
          1357,
          579,
          3827,
          1462
         ],
         "yaxis": "y7"
        },
        {
         "hovertemplate": "newspaper=ensustrece<br>metric=like_count<br>stat=count<br>year_week=%{x}<br>value=%{y}<extra></extra>",
         "legendgroup": "ensustrece",
         "line": {
          "color": "#d79921",
          "dash": "solid"
         },
         "marker": {
          "symbol": "circle"
         },
         "mode": "lines",
         "name": "ensustrece",
         "showlegend": true,
         "type": "scattergl",
         "x": [
          "2022w34",
          "2022w39",
          "2022w44",
          "2022w49",
          "2023w2"
         ],
         "xaxis": "x22",
         "y": [
          24,
          19,
          6,
          22,
          16
         ],
         "yaxis": "y22"
        },
        {
         "hovertemplate": "newspaper=ensustrece<br>metric=like_count<br>stat=max<br>year_week=%{x}<br>value=%{y}<extra></extra>",
         "legendgroup": "ensustrece",
         "line": {
          "color": "#d79921",
          "dash": "solid"
         },
         "marker": {
          "symbol": "circle"
         },
         "mode": "lines",
         "name": "ensustrece",
         "showlegend": false,
         "type": "scattergl",
         "x": [
          "2022w34",
          "2022w39",
          "2022w44",
          "2022w49",
          "2023w2"
         ],
         "xaxis": "x23",
         "y": [
          831,
          1501,
          966,
          1632,
          1527
         ],
         "yaxis": "y23"
        },
        {
         "hovertemplate": "newspaper=ensustrece<br>metric=like_count<br>stat=mean<br>year_week=%{x}<br>value=%{y}<extra></extra>",
         "legendgroup": "ensustrece",
         "line": {
          "color": "#d79921",
          "dash": "solid"
         },
         "marker": {
          "symbol": "circle"
         },
         "mode": "lines",
         "name": "ensustrece",
         "showlegend": false,
         "type": "scattergl",
         "x": [
          "2022w34",
          "2022w39",
          "2022w44",
          "2022w49",
          "2023w2"
         ],
         "xaxis": "x24",
         "y": [
          162.91666666666666,
          345.36842105263156,
          403.5,
          287.40909090909093,
          310.125
         ],
         "yaxis": "y24"
        },
        {
         "hovertemplate": "newspaper=ensustrece<br>metric=like_count<br>stat=min<br>year_week=%{x}<br>value=%{y}<extra></extra>",
         "legendgroup": "ensustrece",
         "line": {
          "color": "#d79921",
          "dash": "solid"
         },
         "marker": {
          "symbol": "circle"
         },
         "mode": "lines",
         "name": "ensustrece",
         "showlegend": false,
         "type": "scattergl",
         "x": [
          "2022w34",
          "2022w39",
          "2022w44",
          "2022w49",
          "2023w2"
         ],
         "xaxis": "x25",
         "y": [
          0,
          0,
          98,
          0,
          0
         ],
         "yaxis": "y25"
        },
        {
         "hovertemplate": "newspaper=ensustrece<br>metric=like_count<br>stat=ratio<br>year_week=%{x}<br>value=%{y}<extra></extra>",
         "legendgroup": "ensustrece",
         "line": {
          "color": "#d79921",
          "dash": "solid"
         },
         "marker": {
          "symbol": "circle"
         },
         "mode": "lines",
         "name": "ensustrece",
         "showlegend": false,
         "type": "scattergl",
         "x": [
          "2022w34",
          "2022w39",
          "2022w44",
          "2022w49",
          "2023w2"
         ],
         "xaxis": "x26",
         "y": [
          162.91666666666666,
          345.36842105263156,
          403.5,
          287.40909090909093,
          310.125
         ],
         "yaxis": "y26"
        },
        {
         "hovertemplate": "newspaper=ensustrece<br>metric=like_count<br>stat=std<br>year_week=%{x}<br>value=%{y}<extra></extra>",
         "legendgroup": "ensustrece",
         "line": {
          "color": "#d79921",
          "dash": "solid"
         },
         "marker": {
          "symbol": "circle"
         },
         "mode": "lines",
         "name": "ensustrece",
         "showlegend": false,
         "type": "scattergl",
         "x": [
          "2022w34",
          "2022w39",
          "2022w44",
          "2022w49",
          "2023w2"
         ],
         "xaxis": "x27",
         "y": [
          195.86661758466644,
          471.5784617791986,
          339.78625634360196,
          436.2964980367527,
          384.68027849977784
         ],
         "yaxis": "y27"
        },
        {
         "hovertemplate": "newspaper=ensustrece<br>metric=like_count<br>stat=sum<br>year_week=%{x}<br>value=%{y}<extra></extra>",
         "legendgroup": "ensustrece",
         "line": {
          "color": "#d79921",
          "dash": "solid"
         },
         "marker": {
          "symbol": "circle"
         },
         "mode": "lines",
         "name": "ensustrece",
         "showlegend": false,
         "type": "scattergl",
         "x": [
          "2022w34",
          "2022w39",
          "2022w44",
          "2022w49",
          "2023w2"
         ],
         "xaxis": "x28",
         "y": [
          3910,
          6562,
          2421,
          6323,
          4962
         ],
         "yaxis": "y28"
        },
        {
         "hovertemplate": "newspaper=ensustrece<br>metric=quote_count<br>stat=count<br>year_week=%{x}<br>value=%{y}<extra></extra>",
         "legendgroup": "ensustrece",
         "line": {
          "color": "#d79921",
          "dash": "solid"
         },
         "marker": {
          "symbol": "circle"
         },
         "mode": "lines",
         "name": "ensustrece",
         "showlegend": false,
         "type": "scattergl",
         "x": [
          "2022w34",
          "2022w39",
          "2022w44",
          "2022w49",
          "2023w2"
         ],
         "xaxis": "x15",
         "y": [
          24,
          19,
          6,
          22,
          16
         ],
         "yaxis": "y15"
        },
        {
         "hovertemplate": "newspaper=ensustrece<br>metric=quote_count<br>stat=max<br>year_week=%{x}<br>value=%{y}<extra></extra>",
         "legendgroup": "ensustrece",
         "line": {
          "color": "#d79921",
          "dash": "solid"
         },
         "marker": {
          "symbol": "circle"
         },
         "mode": "lines",
         "name": "ensustrece",
         "showlegend": false,
         "type": "scattergl",
         "x": [
          "2022w34",
          "2022w39",
          "2022w44",
          "2022w49",
          "2023w2"
         ],
         "xaxis": "x16",
         "y": [
          26,
          37,
          26,
          29,
          39
         ],
         "yaxis": "y16"
        },
        {
         "hovertemplate": "newspaper=ensustrece<br>metric=quote_count<br>stat=mean<br>year_week=%{x}<br>value=%{y}<extra></extra>",
         "legendgroup": "ensustrece",
         "line": {
          "color": "#d79921",
          "dash": "solid"
         },
         "marker": {
          "symbol": "circle"
         },
         "mode": "lines",
         "name": "ensustrece",
         "showlegend": false,
         "type": "scattergl",
         "x": [
          "2022w34",
          "2022w39",
          "2022w44",
          "2022w49",
          "2023w2"
         ],
         "xaxis": "x17",
         "y": [
          4.083333333333333,
          7.894736842105263,
          10.5,
          3.5454545454545454,
          4.5
         ],
         "yaxis": "y17"
        },
        {
         "hovertemplate": "newspaper=ensustrece<br>metric=quote_count<br>stat=min<br>year_week=%{x}<br>value=%{y}<extra></extra>",
         "legendgroup": "ensustrece",
         "line": {
          "color": "#d79921",
          "dash": "solid"
         },
         "marker": {
          "symbol": "circle"
         },
         "mode": "lines",
         "name": "ensustrece",
         "showlegend": false,
         "type": "scattergl",
         "x": [
          "2022w34",
          "2022w39",
          "2022w44",
          "2022w49",
          "2023w2"
         ],
         "xaxis": "x18",
         "y": [
          0,
          0,
          0,
          0,
          0
         ],
         "yaxis": "y18"
        },
        {
         "hovertemplate": "newspaper=ensustrece<br>metric=quote_count<br>stat=ratio<br>year_week=%{x}<br>value=%{y}<extra></extra>",
         "legendgroup": "ensustrece",
         "line": {
          "color": "#d79921",
          "dash": "solid"
         },
         "marker": {
          "symbol": "circle"
         },
         "mode": "lines",
         "name": "ensustrece",
         "showlegend": false,
         "type": "scattergl",
         "x": [
          "2022w34",
          "2022w39",
          "2022w44",
          "2022w49",
          "2023w2"
         ],
         "xaxis": "x19",
         "y": [
          4.083333333333333,
          7.894736842105263,
          10.5,
          3.5454545454545454,
          4.5
         ],
         "yaxis": "y19"
        },
        {
         "hovertemplate": "newspaper=ensustrece<br>metric=quote_count<br>stat=std<br>year_week=%{x}<br>value=%{y}<extra></extra>",
         "legendgroup": "ensustrece",
         "line": {
          "color": "#d79921",
          "dash": "solid"
         },
         "marker": {
          "symbol": "circle"
         },
         "mode": "lines",
         "name": "ensustrece",
         "showlegend": false,
         "type": "scattergl",
         "x": [
          "2022w34",
          "2022w39",
          "2022w44",
          "2022w49",
          "2023w2"
         ],
         "xaxis": "x20",
         "y": [
          6.092880140442375,
          11.911221305242218,
          10.597169433391164,
          6.723995925944721,
          9.472767986883946
         ],
         "yaxis": "y20"
        },
        {
         "hovertemplate": "newspaper=ensustrece<br>metric=quote_count<br>stat=sum<br>year_week=%{x}<br>value=%{y}<extra></extra>",
         "legendgroup": "ensustrece",
         "line": {
          "color": "#d79921",
          "dash": "solid"
         },
         "marker": {
          "symbol": "circle"
         },
         "mode": "lines",
         "name": "ensustrece",
         "showlegend": false,
         "type": "scattergl",
         "x": [
          "2022w34",
          "2022w39",
          "2022w44",
          "2022w49",
          "2023w2"
         ],
         "xaxis": "x21",
         "y": [
          98,
          150,
          63,
          78,
          72
         ],
         "yaxis": "y21"
        },
        {
         "hovertemplate": "newspaper=ensustrece<br>metric=reply_count<br>stat=count<br>year_week=%{x}<br>value=%{y}<extra></extra>",
         "legendgroup": "ensustrece",
         "line": {
          "color": "#d79921",
          "dash": "solid"
         },
         "marker": {
          "symbol": "circle"
         },
         "mode": "lines",
         "name": "ensustrece",
         "showlegend": false,
         "type": "scattergl",
         "x": [
          "2022w34",
          "2022w39",
          "2022w44",
          "2022w49",
          "2023w2"
         ],
         "xaxis": "x8",
         "y": [
          24,
          19,
          6,
          22,
          16
         ],
         "yaxis": "y8"
        },
        {
         "hovertemplate": "newspaper=ensustrece<br>metric=reply_count<br>stat=max<br>year_week=%{x}<br>value=%{y}<extra></extra>",
         "legendgroup": "ensustrece",
         "line": {
          "color": "#d79921",
          "dash": "solid"
         },
         "marker": {
          "symbol": "circle"
         },
         "mode": "lines",
         "name": "ensustrece",
         "showlegend": false,
         "type": "scattergl",
         "x": [
          "2022w34",
          "2022w39",
          "2022w44",
          "2022w49",
          "2023w2"
         ],
         "xaxis": "x9",
         "y": [
          140,
          107,
          112,
          192,
          309
         ],
         "yaxis": "y9"
        },
        {
         "hovertemplate": "newspaper=ensustrece<br>metric=reply_count<br>stat=mean<br>year_week=%{x}<br>value=%{y}<extra></extra>",
         "legendgroup": "ensustrece",
         "line": {
          "color": "#d79921",
          "dash": "solid"
         },
         "marker": {
          "symbol": "circle"
         },
         "mode": "lines",
         "name": "ensustrece",
         "showlegend": false,
         "type": "scattergl",
         "x": [
          "2022w34",
          "2022w39",
          "2022w44",
          "2022w49",
          "2023w2"
         ],
         "xaxis": "x10",
         "y": [
          15.791666666666666,
          30.05263157894737,
          51,
          29.181818181818183,
          42.3125
         ],
         "yaxis": "y10"
        },
        {
         "hovertemplate": "newspaper=ensustrece<br>metric=reply_count<br>stat=min<br>year_week=%{x}<br>value=%{y}<extra></extra>",
         "legendgroup": "ensustrece",
         "line": {
          "color": "#d79921",
          "dash": "solid"
         },
         "marker": {
          "symbol": "circle"
         },
         "mode": "lines",
         "name": "ensustrece",
         "showlegend": false,
         "type": "scattergl",
         "x": [
          "2022w34",
          "2022w39",
          "2022w44",
          "2022w49",
          "2023w2"
         ],
         "xaxis": "x11",
         "y": [
          0,
          0,
          4,
          0,
          0
         ],
         "yaxis": "y11"
        },
        {
         "hovertemplate": "newspaper=ensustrece<br>metric=reply_count<br>stat=ratio<br>year_week=%{x}<br>value=%{y}<extra></extra>",
         "legendgroup": "ensustrece",
         "line": {
          "color": "#d79921",
          "dash": "solid"
         },
         "marker": {
          "symbol": "circle"
         },
         "mode": "lines",
         "name": "ensustrece",
         "showlegend": false,
         "type": "scattergl",
         "x": [
          "2022w34",
          "2022w39",
          "2022w44",
          "2022w49",
          "2023w2"
         ],
         "xaxis": "x12",
         "y": [
          15.791666666666666,
          30.05263157894737,
          51,
          29.181818181818183,
          42.3125
         ],
         "yaxis": "y12"
        },
        {
         "hovertemplate": "newspaper=ensustrece<br>metric=reply_count<br>stat=std<br>year_week=%{x}<br>value=%{y}<extra></extra>",
         "legendgroup": "ensustrece",
         "line": {
          "color": "#d79921",
          "dash": "solid"
         },
         "marker": {
          "symbol": "circle"
         },
         "mode": "lines",
         "name": "ensustrece",
         "showlegend": false,
         "type": "scattergl",
         "x": [
          "2022w34",
          "2022w39",
          "2022w44",
          "2022w49",
          "2023w2"
         ],
         "xaxis": "x13",
         "y": [
          29.729182218189564,
          40.108843142698774,
          42.44525886362339,
          47.67412831738522,
          77.7129064784823
         ],
         "yaxis": "y13"
        },
        {
         "hovertemplate": "newspaper=ensustrece<br>metric=reply_count<br>stat=sum<br>year_week=%{x}<br>value=%{y}<extra></extra>",
         "legendgroup": "ensustrece",
         "line": {
          "color": "#d79921",
          "dash": "solid"
         },
         "marker": {
          "symbol": "circle"
         },
         "mode": "lines",
         "name": "ensustrece",
         "showlegend": false,
         "type": "scattergl",
         "x": [
          "2022w34",
          "2022w39",
          "2022w44",
          "2022w49",
          "2023w2"
         ],
         "xaxis": "x14",
         "y": [
          379,
          571,
          306,
          642,
          677
         ],
         "yaxis": "y14"
        },
        {
         "hovertemplate": "newspaper=ensustrece<br>metric=retweet_count<br>stat=count<br>year_week=%{x}<br>value=%{y}<extra></extra>",
         "legendgroup": "ensustrece",
         "line": {
          "color": "#d79921",
          "dash": "solid"
         },
         "marker": {
          "symbol": "circle"
         },
         "mode": "lines",
         "name": "ensustrece",
         "showlegend": false,
         "type": "scattergl",
         "x": [
          "2022w34",
          "2022w39",
          "2022w44",
          "2022w49",
          "2023w2"
         ],
         "xaxis": "x",
         "y": [
          24,
          19,
          6,
          22,
          16
         ],
         "yaxis": "y"
        },
        {
         "hovertemplate": "newspaper=ensustrece<br>metric=retweet_count<br>stat=max<br>year_week=%{x}<br>value=%{y}<extra></extra>",
         "legendgroup": "ensustrece",
         "line": {
          "color": "#d79921",
          "dash": "solid"
         },
         "marker": {
          "symbol": "circle"
         },
         "mode": "lines",
         "name": "ensustrece",
         "showlegend": false,
         "type": "scattergl",
         "x": [
          "2022w34",
          "2022w39",
          "2022w44",
          "2022w49",
          "2023w2"
         ],
         "xaxis": "x2",
         "y": [
          500,
          673,
          217,
          348,
          662
         ],
         "yaxis": "y2"
        },
        {
         "hovertemplate": "newspaper=ensustrece<br>metric=retweet_count<br>stat=mean<br>year_week=%{x}<br>value=%{y}<extra></extra>",
         "legendgroup": "ensustrece",
         "line": {
          "color": "#d79921",
          "dash": "solid"
         },
         "marker": {
          "symbol": "circle"
         },
         "mode": "lines",
         "name": "ensustrece",
         "showlegend": false,
         "type": "scattergl",
         "x": [
          "2022w34",
          "2022w39",
          "2022w44",
          "2022w49",
          "2023w2"
         ],
         "xaxis": "x3",
         "y": [
          80.125,
          169.47368421052633,
          130.66666666666666,
          85.22727272727273,
          177.125
         ],
         "yaxis": "y3"
        },
        {
         "hovertemplate": "newspaper=ensustrece<br>metric=retweet_count<br>stat=min<br>year_week=%{x}<br>value=%{y}<extra></extra>",
         "legendgroup": "ensustrece",
         "line": {
          "color": "#d79921",
          "dash": "solid"
         },
         "marker": {
          "symbol": "circle"
         },
         "mode": "lines",
         "name": "ensustrece",
         "showlegend": false,
         "type": "scattergl",
         "x": [
          "2022w34",
          "2022w39",
          "2022w44",
          "2022w49",
          "2023w2"
         ],
         "xaxis": "x4",
         "y": [
          4,
          2,
          18,
          11,
          15
         ],
         "yaxis": "y4"
        },
        {
         "hovertemplate": "newspaper=ensustrece<br>metric=retweet_count<br>stat=ratio<br>year_week=%{x}<br>value=%{y}<extra></extra>",
         "legendgroup": "ensustrece",
         "line": {
          "color": "#d79921",
          "dash": "solid"
         },
         "marker": {
          "symbol": "circle"
         },
         "mode": "lines",
         "name": "ensustrece",
         "showlegend": false,
         "type": "scattergl",
         "x": [
          "2022w34",
          "2022w39",
          "2022w44",
          "2022w49",
          "2023w2"
         ],
         "xaxis": "x5",
         "y": [
          80.125,
          169.47368421052633,
          130.66666666666666,
          85.22727272727273,
          177.125
         ],
         "yaxis": "y5"
        },
        {
         "hovertemplate": "newspaper=ensustrece<br>metric=retweet_count<br>stat=std<br>year_week=%{x}<br>value=%{y}<extra></extra>",
         "legendgroup": "ensustrece",
         "line": {
          "color": "#d79921",
          "dash": "solid"
         },
         "marker": {
          "symbol": "circle"
         },
         "mode": "lines",
         "name": "ensustrece",
         "showlegend": false,
         "type": "scattergl",
         "x": [
          "2022w34",
          "2022w39",
          "2022w44",
          "2022w49",
          "2023w2"
         ],
         "xaxis": "x6",
         "y": [
          104.23439826951895,
          186.24337972456382,
          84.04443269287184,
          87.96261750267598,
          200.58676426923088
         ],
         "yaxis": "y6"
        },
        {
         "hovertemplate": "newspaper=ensustrece<br>metric=retweet_count<br>stat=sum<br>year_week=%{x}<br>value=%{y}<extra></extra>",
         "legendgroup": "ensustrece",
         "line": {
          "color": "#d79921",
          "dash": "solid"
         },
         "marker": {
          "symbol": "circle"
         },
         "mode": "lines",
         "name": "ensustrece",
         "showlegend": false,
         "type": "scattergl",
         "x": [
          "2022w34",
          "2022w39",
          "2022w44",
          "2022w49",
          "2023w2"
         ],
         "xaxis": "x7",
         "y": [
          1923,
          3220,
          784,
          1875,
          2834
         ],
         "yaxis": "y7"
        },
        {
         "hovertemplate": "newspaper=larazon_pe<br>metric=like_count<br>stat=count<br>year_week=%{x}<br>value=%{y}<extra></extra>",
         "legendgroup": "larazon_pe",
         "line": {
          "color": "#98971a",
          "dash": "solid"
         },
         "marker": {
          "symbol": "circle"
         },
         "mode": "lines",
         "name": "larazon_pe",
         "showlegend": true,
         "type": "scattergl",
         "x": [
          "2022w33",
          "2022w34",
          "2022w39",
          "2022w44",
          "2022w49",
          "2023w2"
         ],
         "xaxis": "x22",
         "y": [
          106,
          60,
          58,
          57,
          70,
          57
         ],
         "yaxis": "y22"
        },
        {
         "hovertemplate": "newspaper=larazon_pe<br>metric=like_count<br>stat=max<br>year_week=%{x}<br>value=%{y}<extra></extra>",
         "legendgroup": "larazon_pe",
         "line": {
          "color": "#98971a",
          "dash": "solid"
         },
         "marker": {
          "symbol": "circle"
         },
         "mode": "lines",
         "name": "larazon_pe",
         "showlegend": false,
         "type": "scattergl",
         "x": [
          "2022w33",
          "2022w34",
          "2022w39",
          "2022w44",
          "2022w49",
          "2023w2"
         ],
         "xaxis": "x23",
         "y": [
          23,
          14,
          10,
          12,
          15,
          22
         ],
         "yaxis": "y23"
        },
        {
         "hovertemplate": "newspaper=larazon_pe<br>metric=like_count<br>stat=mean<br>year_week=%{x}<br>value=%{y}<extra></extra>",
         "legendgroup": "larazon_pe",
         "line": {
          "color": "#98971a",
          "dash": "solid"
         },
         "marker": {
          "symbol": "circle"
         },
         "mode": "lines",
         "name": "larazon_pe",
         "showlegend": false,
         "type": "scattergl",
         "x": [
          "2022w33",
          "2022w34",
          "2022w39",
          "2022w44",
          "2022w49",
          "2023w2"
         ],
         "xaxis": "x24",
         "y": [
          1.6415094339622642,
          1.9,
          1.2413793103448276,
          0.8771929824561403,
          1.4,
          1.631578947368421
         ],
         "yaxis": "y24"
        },
        {
         "hovertemplate": "newspaper=larazon_pe<br>metric=like_count<br>stat=min<br>year_week=%{x}<br>value=%{y}<extra></extra>",
         "legendgroup": "larazon_pe",
         "line": {
          "color": "#98971a",
          "dash": "solid"
         },
         "marker": {
          "symbol": "circle"
         },
         "mode": "lines",
         "name": "larazon_pe",
         "showlegend": false,
         "type": "scattergl",
         "x": [
          "2022w33",
          "2022w34",
          "2022w39",
          "2022w44",
          "2022w49",
          "2023w2"
         ],
         "xaxis": "x25",
         "y": [
          0,
          0,
          0,
          0,
          0,
          0
         ],
         "yaxis": "y25"
        },
        {
         "hovertemplate": "newspaper=larazon_pe<br>metric=like_count<br>stat=ratio<br>year_week=%{x}<br>value=%{y}<extra></extra>",
         "legendgroup": "larazon_pe",
         "line": {
          "color": "#98971a",
          "dash": "solid"
         },
         "marker": {
          "symbol": "circle"
         },
         "mode": "lines",
         "name": "larazon_pe",
         "showlegend": false,
         "type": "scattergl",
         "x": [
          "2022w33",
          "2022w34",
          "2022w39",
          "2022w44",
          "2022w49",
          "2023w2"
         ],
         "xaxis": "x26",
         "y": [
          1.6415094339622642,
          1.9,
          1.2413793103448276,
          0.8771929824561403,
          1.4,
          1.631578947368421
         ],
         "yaxis": "y26"
        },
        {
         "hovertemplate": "newspaper=larazon_pe<br>metric=like_count<br>stat=std<br>year_week=%{x}<br>value=%{y}<extra></extra>",
         "legendgroup": "larazon_pe",
         "line": {
          "color": "#98971a",
          "dash": "solid"
         },
         "marker": {
          "symbol": "circle"
         },
         "mode": "lines",
         "name": "larazon_pe",
         "showlegend": false,
         "type": "scattergl",
         "x": [
          "2022w33",
          "2022w34",
          "2022w39",
          "2022w44",
          "2022w49",
          "2023w2"
         ],
         "xaxis": "x27",
         "y": [
          3.318601768804168,
          2.6725218205574923,
          2.02883031574618,
          1.899907661652802,
          2.410123576120924,
          3.160196529531535
         ],
         "yaxis": "y27"
        },
        {
         "hovertemplate": "newspaper=larazon_pe<br>metric=like_count<br>stat=sum<br>year_week=%{x}<br>value=%{y}<extra></extra>",
         "legendgroup": "larazon_pe",
         "line": {
          "color": "#98971a",
          "dash": "solid"
         },
         "marker": {
          "symbol": "circle"
         },
         "mode": "lines",
         "name": "larazon_pe",
         "showlegend": false,
         "type": "scattergl",
         "x": [
          "2022w33",
          "2022w34",
          "2022w39",
          "2022w44",
          "2022w49",
          "2023w2"
         ],
         "xaxis": "x28",
         "y": [
          174,
          114,
          72,
          50,
          98,
          93
         ],
         "yaxis": "y28"
        },
        {
         "hovertemplate": "newspaper=larazon_pe<br>metric=quote_count<br>stat=count<br>year_week=%{x}<br>value=%{y}<extra></extra>",
         "legendgroup": "larazon_pe",
         "line": {
          "color": "#98971a",
          "dash": "solid"
         },
         "marker": {
          "symbol": "circle"
         },
         "mode": "lines",
         "name": "larazon_pe",
         "showlegend": false,
         "type": "scattergl",
         "x": [
          "2022w33",
          "2022w34",
          "2022w39",
          "2022w44",
          "2022w49",
          "2023w2"
         ],
         "xaxis": "x15",
         "y": [
          106,
          60,
          58,
          57,
          70,
          57
         ],
         "yaxis": "y15"
        },
        {
         "hovertemplate": "newspaper=larazon_pe<br>metric=quote_count<br>stat=max<br>year_week=%{x}<br>value=%{y}<extra></extra>",
         "legendgroup": "larazon_pe",
         "line": {
          "color": "#98971a",
          "dash": "solid"
         },
         "marker": {
          "symbol": "circle"
         },
         "mode": "lines",
         "name": "larazon_pe",
         "showlegend": false,
         "type": "scattergl",
         "x": [
          "2022w33",
          "2022w34",
          "2022w39",
          "2022w44",
          "2022w49",
          "2023w2"
         ],
         "xaxis": "x16",
         "y": [
          3,
          2,
          0,
          2,
          1,
          1
         ],
         "yaxis": "y16"
        },
        {
         "hovertemplate": "newspaper=larazon_pe<br>metric=quote_count<br>stat=mean<br>year_week=%{x}<br>value=%{y}<extra></extra>",
         "legendgroup": "larazon_pe",
         "line": {
          "color": "#98971a",
          "dash": "solid"
         },
         "marker": {
          "symbol": "circle"
         },
         "mode": "lines",
         "name": "larazon_pe",
         "showlegend": false,
         "type": "scattergl",
         "x": [
          "2022w33",
          "2022w34",
          "2022w39",
          "2022w44",
          "2022w49",
          "2023w2"
         ],
         "xaxis": "x17",
         "y": [
          0.0660377358490566,
          0.15,
          0,
          0.17543859649122806,
          0.02857142857142857,
          0.03508771929824561
         ],
         "yaxis": "y17"
        },
        {
         "hovertemplate": "newspaper=larazon_pe<br>metric=quote_count<br>stat=min<br>year_week=%{x}<br>value=%{y}<extra></extra>",
         "legendgroup": "larazon_pe",
         "line": {
          "color": "#98971a",
          "dash": "solid"
         },
         "marker": {
          "symbol": "circle"
         },
         "mode": "lines",
         "name": "larazon_pe",
         "showlegend": false,
         "type": "scattergl",
         "x": [
          "2022w33",
          "2022w34",
          "2022w39",
          "2022w44",
          "2022w49",
          "2023w2"
         ],
         "xaxis": "x18",
         "y": [
          0,
          0,
          0,
          0,
          0,
          0
         ],
         "yaxis": "y18"
        },
        {
         "hovertemplate": "newspaper=larazon_pe<br>metric=quote_count<br>stat=ratio<br>year_week=%{x}<br>value=%{y}<extra></extra>",
         "legendgroup": "larazon_pe",
         "line": {
          "color": "#98971a",
          "dash": "solid"
         },
         "marker": {
          "symbol": "circle"
         },
         "mode": "lines",
         "name": "larazon_pe",
         "showlegend": false,
         "type": "scattergl",
         "x": [
          "2022w33",
          "2022w34",
          "2022w39",
          "2022w44",
          "2022w49",
          "2023w2"
         ],
         "xaxis": "x19",
         "y": [
          0.0660377358490566,
          0.15,
          0,
          0.17543859649122806,
          0.02857142857142857,
          0.03508771929824561
         ],
         "yaxis": "y19"
        },
        {
         "hovertemplate": "newspaper=larazon_pe<br>metric=quote_count<br>stat=std<br>year_week=%{x}<br>value=%{y}<extra></extra>",
         "legendgroup": "larazon_pe",
         "line": {
          "color": "#98971a",
          "dash": "solid"
         },
         "marker": {
          "symbol": "circle"
         },
         "mode": "lines",
         "name": "larazon_pe",
         "showlegend": false,
         "type": "scattergl",
         "x": [
          "2022w33",
          "2022w34",
          "2022w39",
          "2022w44",
          "2022w49",
          "2023w2"
         ],
         "xaxis": "x20",
         "y": [
          0.3455531913993176,
          0.44436204509233695,
          0,
          0.4277351908409095,
          0.1678015193509294,
          0.18563715383027588
         ],
         "yaxis": "y20"
        },
        {
         "hovertemplate": "newspaper=larazon_pe<br>metric=quote_count<br>stat=sum<br>year_week=%{x}<br>value=%{y}<extra></extra>",
         "legendgroup": "larazon_pe",
         "line": {
          "color": "#98971a",
          "dash": "solid"
         },
         "marker": {
          "symbol": "circle"
         },
         "mode": "lines",
         "name": "larazon_pe",
         "showlegend": false,
         "type": "scattergl",
         "x": [
          "2022w33",
          "2022w34",
          "2022w39",
          "2022w44",
          "2022w49",
          "2023w2"
         ],
         "xaxis": "x21",
         "y": [
          7,
          9,
          0,
          10,
          2,
          2
         ],
         "yaxis": "y21"
        },
        {
         "hovertemplate": "newspaper=larazon_pe<br>metric=reply_count<br>stat=count<br>year_week=%{x}<br>value=%{y}<extra></extra>",
         "legendgroup": "larazon_pe",
         "line": {
          "color": "#98971a",
          "dash": "solid"
         },
         "marker": {
          "symbol": "circle"
         },
         "mode": "lines",
         "name": "larazon_pe",
         "showlegend": false,
         "type": "scattergl",
         "x": [
          "2022w33",
          "2022w34",
          "2022w39",
          "2022w44",
          "2022w49",
          "2023w2"
         ],
         "xaxis": "x8",
         "y": [
          106,
          60,
          58,
          57,
          70,
          57
         ],
         "yaxis": "y8"
        },
        {
         "hovertemplate": "newspaper=larazon_pe<br>metric=reply_count<br>stat=max<br>year_week=%{x}<br>value=%{y}<extra></extra>",
         "legendgroup": "larazon_pe",
         "line": {
          "color": "#98971a",
          "dash": "solid"
         },
         "marker": {
          "symbol": "circle"
         },
         "mode": "lines",
         "name": "larazon_pe",
         "showlegend": false,
         "type": "scattergl",
         "x": [
          "2022w33",
          "2022w34",
          "2022w39",
          "2022w44",
          "2022w49",
          "2023w2"
         ],
         "xaxis": "x9",
         "y": [
          3,
          2,
          1,
          1,
          5,
          5
         ],
         "yaxis": "y9"
        },
        {
         "hovertemplate": "newspaper=larazon_pe<br>metric=reply_count<br>stat=mean<br>year_week=%{x}<br>value=%{y}<extra></extra>",
         "legendgroup": "larazon_pe",
         "line": {
          "color": "#98971a",
          "dash": "solid"
         },
         "marker": {
          "symbol": "circle"
         },
         "mode": "lines",
         "name": "larazon_pe",
         "showlegend": false,
         "type": "scattergl",
         "x": [
          "2022w33",
          "2022w34",
          "2022w39",
          "2022w44",
          "2022w49",
          "2023w2"
         ],
         "xaxis": "x10",
         "y": [
          0.10377358490566038,
          0.08333333333333333,
          0.06896551724137931,
          0.10526315789473684,
          0.2857142857142857,
          0.24561403508771928
         ],
         "yaxis": "y10"
        },
        {
         "hovertemplate": "newspaper=larazon_pe<br>metric=reply_count<br>stat=min<br>year_week=%{x}<br>value=%{y}<extra></extra>",
         "legendgroup": "larazon_pe",
         "line": {
          "color": "#98971a",
          "dash": "solid"
         },
         "marker": {
          "symbol": "circle"
         },
         "mode": "lines",
         "name": "larazon_pe",
         "showlegend": false,
         "type": "scattergl",
         "x": [
          "2022w33",
          "2022w34",
          "2022w39",
          "2022w44",
          "2022w49",
          "2023w2"
         ],
         "xaxis": "x11",
         "y": [
          0,
          0,
          0,
          0,
          0,
          0
         ],
         "yaxis": "y11"
        },
        {
         "hovertemplate": "newspaper=larazon_pe<br>metric=reply_count<br>stat=ratio<br>year_week=%{x}<br>value=%{y}<extra></extra>",
         "legendgroup": "larazon_pe",
         "line": {
          "color": "#98971a",
          "dash": "solid"
         },
         "marker": {
          "symbol": "circle"
         },
         "mode": "lines",
         "name": "larazon_pe",
         "showlegend": false,
         "type": "scattergl",
         "x": [
          "2022w33",
          "2022w34",
          "2022w39",
          "2022w44",
          "2022w49",
          "2023w2"
         ],
         "xaxis": "x12",
         "y": [
          0.10377358490566038,
          0.08333333333333333,
          0.06896551724137931,
          0.10526315789473684,
          0.2857142857142857,
          0.24561403508771928
         ],
         "yaxis": "y12"
        },
        {
         "hovertemplate": "newspaper=larazon_pe<br>metric=reply_count<br>stat=std<br>year_week=%{x}<br>value=%{y}<extra></extra>",
         "legendgroup": "larazon_pe",
         "line": {
          "color": "#98971a",
          "dash": "solid"
         },
         "marker": {
          "symbol": "circle"
         },
         "mode": "lines",
         "name": "larazon_pe",
         "showlegend": false,
         "type": "scattergl",
         "x": [
          "2022w33",
          "2022w34",
          "2022w39",
          "2022w44",
          "2022w49",
          "2023w2"
         ],
         "xaxis": "x13",
         "y": [
          0.4124086111294145,
          0.33403880149460896,
          0.25560859370538297,
          0.3096201893516238,
          0.8011379070857728,
          0.8920422346340601
         ],
         "yaxis": "y13"
        },
        {
         "hovertemplate": "newspaper=larazon_pe<br>metric=reply_count<br>stat=sum<br>year_week=%{x}<br>value=%{y}<extra></extra>",
         "legendgroup": "larazon_pe",
         "line": {
          "color": "#98971a",
          "dash": "solid"
         },
         "marker": {
          "symbol": "circle"
         },
         "mode": "lines",
         "name": "larazon_pe",
         "showlegend": false,
         "type": "scattergl",
         "x": [
          "2022w33",
          "2022w34",
          "2022w39",
          "2022w44",
          "2022w49",
          "2023w2"
         ],
         "xaxis": "x14",
         "y": [
          11,
          5,
          4,
          6,
          20,
          14
         ],
         "yaxis": "y14"
        },
        {
         "hovertemplate": "newspaper=larazon_pe<br>metric=retweet_count<br>stat=count<br>year_week=%{x}<br>value=%{y}<extra></extra>",
         "legendgroup": "larazon_pe",
         "line": {
          "color": "#98971a",
          "dash": "solid"
         },
         "marker": {
          "symbol": "circle"
         },
         "mode": "lines",
         "name": "larazon_pe",
         "showlegend": false,
         "type": "scattergl",
         "x": [
          "2022w33",
          "2022w34",
          "2022w39",
          "2022w44",
          "2022w49",
          "2023w2"
         ],
         "xaxis": "x",
         "y": [
          106,
          60,
          58,
          57,
          70,
          57
         ],
         "yaxis": "y"
        },
        {
         "hovertemplate": "newspaper=larazon_pe<br>metric=retweet_count<br>stat=max<br>year_week=%{x}<br>value=%{y}<extra></extra>",
         "legendgroup": "larazon_pe",
         "line": {
          "color": "#98971a",
          "dash": "solid"
         },
         "marker": {
          "symbol": "circle"
         },
         "mode": "lines",
         "name": "larazon_pe",
         "showlegend": false,
         "type": "scattergl",
         "x": [
          "2022w33",
          "2022w34",
          "2022w39",
          "2022w44",
          "2022w49",
          "2023w2"
         ],
         "xaxis": "x2",
         "y": [
          15,
          9,
          7,
          11,
          10,
          10
         ],
         "yaxis": "y2"
        },
        {
         "hovertemplate": "newspaper=larazon_pe<br>metric=retweet_count<br>stat=mean<br>year_week=%{x}<br>value=%{y}<extra></extra>",
         "legendgroup": "larazon_pe",
         "line": {
          "color": "#98971a",
          "dash": "solid"
         },
         "marker": {
          "symbol": "circle"
         },
         "mode": "lines",
         "name": "larazon_pe",
         "showlegend": false,
         "type": "scattergl",
         "x": [
          "2022w33",
          "2022w34",
          "2022w39",
          "2022w44",
          "2022w49",
          "2023w2"
         ],
         "xaxis": "x3",
         "y": [
          0.7547169811320755,
          0.9,
          0.3793103448275862,
          0.5263157894736842,
          0.7857142857142857,
          0.7894736842105263
         ],
         "yaxis": "y3"
        },
        {
         "hovertemplate": "newspaper=larazon_pe<br>metric=retweet_count<br>stat=min<br>year_week=%{x}<br>value=%{y}<extra></extra>",
         "legendgroup": "larazon_pe",
         "line": {
          "color": "#98971a",
          "dash": "solid"
         },
         "marker": {
          "symbol": "circle"
         },
         "mode": "lines",
         "name": "larazon_pe",
         "showlegend": false,
         "type": "scattergl",
         "x": [
          "2022w33",
          "2022w34",
          "2022w39",
          "2022w44",
          "2022w49",
          "2023w2"
         ],
         "xaxis": "x4",
         "y": [
          0,
          0,
          0,
          0,
          0,
          0
         ],
         "yaxis": "y4"
        },
        {
         "hovertemplate": "newspaper=larazon_pe<br>metric=retweet_count<br>stat=ratio<br>year_week=%{x}<br>value=%{y}<extra></extra>",
         "legendgroup": "larazon_pe",
         "line": {
          "color": "#98971a",
          "dash": "solid"
         },
         "marker": {
          "symbol": "circle"
         },
         "mode": "lines",
         "name": "larazon_pe",
         "showlegend": false,
         "type": "scattergl",
         "x": [
          "2022w33",
          "2022w34",
          "2022w39",
          "2022w44",
          "2022w49",
          "2023w2"
         ],
         "xaxis": "x5",
         "y": [
          0.7547169811320755,
          0.9,
          0.3793103448275862,
          0.5263157894736842,
          0.7857142857142857,
          0.7894736842105263
         ],
         "yaxis": "y5"
        },
        {
         "hovertemplate": "newspaper=larazon_pe<br>metric=retweet_count<br>stat=std<br>year_week=%{x}<br>value=%{y}<extra></extra>",
         "legendgroup": "larazon_pe",
         "line": {
          "color": "#98971a",
          "dash": "solid"
         },
         "marker": {
          "symbol": "circle"
         },
         "mode": "lines",
         "name": "larazon_pe",
         "showlegend": false,
         "type": "scattergl",
         "x": [
          "2022w33",
          "2022w34",
          "2022w39",
          "2022w44",
          "2022w49",
          "2023w2"
         ],
         "xaxis": "x6",
         "y": [
          2.0180675374734447,
          1.6019056448228322,
          1.0894644782482776,
          1.648649481479297,
          1.6231375694494221,
          1.566807971017863
         ],
         "yaxis": "y6"
        },
        {
         "hovertemplate": "newspaper=larazon_pe<br>metric=retweet_count<br>stat=sum<br>year_week=%{x}<br>value=%{y}<extra></extra>",
         "legendgroup": "larazon_pe",
         "line": {
          "color": "#98971a",
          "dash": "solid"
         },
         "marker": {
          "symbol": "circle"
         },
         "mode": "lines",
         "name": "larazon_pe",
         "showlegend": false,
         "type": "scattergl",
         "x": [
          "2022w33",
          "2022w34",
          "2022w39",
          "2022w44",
          "2022w49",
          "2023w2"
         ],
         "xaxis": "x7",
         "y": [
          80,
          54,
          22,
          30,
          55,
          45
         ],
         "yaxis": "y7"
        },
        {
         "hovertemplate": "newspaper=larepublica_pe<br>metric=like_count<br>stat=count<br>year_week=%{x}<br>value=%{y}<extra></extra>",
         "legendgroup": "larepublica_pe",
         "line": {
          "color": "#83a598",
          "dash": "solid"
         },
         "marker": {
          "symbol": "circle"
         },
         "mode": "lines",
         "name": "larepublica_pe",
         "showlegend": true,
         "type": "scattergl",
         "x": [
          "2022w33",
          "2022w34",
          "2022w39",
          "2022w44",
          "2022w49",
          "2023w2"
         ],
         "xaxis": "x22",
         "y": [
          1117,
          827,
          834,
          691,
          924,
          679
         ],
         "yaxis": "y22"
        },
        {
         "hovertemplate": "newspaper=larepublica_pe<br>metric=like_count<br>stat=max<br>year_week=%{x}<br>value=%{y}<extra></extra>",
         "legendgroup": "larepublica_pe",
         "line": {
          "color": "#83a598",
          "dash": "solid"
         },
         "marker": {
          "symbol": "circle"
         },
         "mode": "lines",
         "name": "larepublica_pe",
         "showlegend": false,
         "type": "scattergl",
         "x": [
          "2022w33",
          "2022w34",
          "2022w39",
          "2022w44",
          "2022w49",
          "2023w2"
         ],
         "xaxis": "x23",
         "y": [
          516,
          715,
          1002,
          3511,
          1641,
          2022
         ],
         "yaxis": "y23"
        },
        {
         "hovertemplate": "newspaper=larepublica_pe<br>metric=like_count<br>stat=mean<br>year_week=%{x}<br>value=%{y}<extra></extra>",
         "legendgroup": "larepublica_pe",
         "line": {
          "color": "#83a598",
          "dash": "solid"
         },
         "marker": {
          "symbol": "circle"
         },
         "mode": "lines",
         "name": "larepublica_pe",
         "showlegend": false,
         "type": "scattergl",
         "x": [
          "2022w33",
          "2022w34",
          "2022w39",
          "2022w44",
          "2022w49",
          "2023w2"
         ],
         "xaxis": "x24",
         "y": [
          10.810205908683974,
          13.412333736396615,
          12.310551558752998,
          20.748191027496382,
          24.877705627705627,
          31.449189985272458
         ],
         "yaxis": "y24"
        },
        {
         "hovertemplate": "newspaper=larepublica_pe<br>metric=like_count<br>stat=min<br>year_week=%{x}<br>value=%{y}<extra></extra>",
         "legendgroup": "larepublica_pe",
         "line": {
          "color": "#83a598",
          "dash": "solid"
         },
         "marker": {
          "symbol": "circle"
         },
         "mode": "lines",
         "name": "larepublica_pe",
         "showlegend": false,
         "type": "scattergl",
         "x": [
          "2022w33",
          "2022w34",
          "2022w39",
          "2022w44",
          "2022w49",
          "2023w2"
         ],
         "xaxis": "x25",
         "y": [
          0,
          0,
          0,
          0,
          0,
          0
         ],
         "yaxis": "y25"
        },
        {
         "hovertemplate": "newspaper=larepublica_pe<br>metric=like_count<br>stat=ratio<br>year_week=%{x}<br>value=%{y}<extra></extra>",
         "legendgroup": "larepublica_pe",
         "line": {
          "color": "#83a598",
          "dash": "solid"
         },
         "marker": {
          "symbol": "circle"
         },
         "mode": "lines",
         "name": "larepublica_pe",
         "showlegend": false,
         "type": "scattergl",
         "x": [
          "2022w33",
          "2022w34",
          "2022w39",
          "2022w44",
          "2022w49",
          "2023w2"
         ],
         "xaxis": "x26",
         "y": [
          10.810205908683974,
          13.412333736396615,
          12.310551558752998,
          20.748191027496382,
          24.877705627705627,
          31.449189985272458
         ],
         "yaxis": "y26"
        },
        {
         "hovertemplate": "newspaper=larepublica_pe<br>metric=like_count<br>stat=std<br>year_week=%{x}<br>value=%{y}<extra></extra>",
         "legendgroup": "larepublica_pe",
         "line": {
          "color": "#83a598",
          "dash": "solid"
         },
         "marker": {
          "symbol": "circle"
         },
         "mode": "lines",
         "name": "larepublica_pe",
         "showlegend": false,
         "type": "scattergl",
         "x": [
          "2022w33",
          "2022w34",
          "2022w39",
          "2022w44",
          "2022w49",
          "2023w2"
         ],
         "xaxis": "x27",
         "y": [
          39.842563870138875,
          50.382512558086276,
          58.84086997799612,
          149.55051584732544,
          108.2163034997926,
          129.07734753849337
         ],
         "yaxis": "y27"
        },
        {
         "hovertemplate": "newspaper=larepublica_pe<br>metric=like_count<br>stat=sum<br>year_week=%{x}<br>value=%{y}<extra></extra>",
         "legendgroup": "larepublica_pe",
         "line": {
          "color": "#83a598",
          "dash": "solid"
         },
         "marker": {
          "symbol": "circle"
         },
         "mode": "lines",
         "name": "larepublica_pe",
         "showlegend": false,
         "type": "scattergl",
         "x": [
          "2022w33",
          "2022w34",
          "2022w39",
          "2022w44",
          "2022w49",
          "2023w2"
         ],
         "xaxis": "x28",
         "y": [
          12075,
          11092,
          10267,
          14337,
          22987,
          21354
         ],
         "yaxis": "y28"
        },
        {
         "hovertemplate": "newspaper=larepublica_pe<br>metric=quote_count<br>stat=count<br>year_week=%{x}<br>value=%{y}<extra></extra>",
         "legendgroup": "larepublica_pe",
         "line": {
          "color": "#83a598",
          "dash": "solid"
         },
         "marker": {
          "symbol": "circle"
         },
         "mode": "lines",
         "name": "larepublica_pe",
         "showlegend": false,
         "type": "scattergl",
         "x": [
          "2022w33",
          "2022w34",
          "2022w39",
          "2022w44",
          "2022w49",
          "2023w2"
         ],
         "xaxis": "x15",
         "y": [
          1117,
          827,
          834,
          691,
          924,
          679
         ],
         "yaxis": "y15"
        },
        {
         "hovertemplate": "newspaper=larepublica_pe<br>metric=quote_count<br>stat=max<br>year_week=%{x}<br>value=%{y}<extra></extra>",
         "legendgroup": "larepublica_pe",
         "line": {
          "color": "#83a598",
          "dash": "solid"
         },
         "marker": {
          "symbol": "circle"
         },
         "mode": "lines",
         "name": "larepublica_pe",
         "showlegend": false,
         "type": "scattergl",
         "x": [
          "2022w33",
          "2022w34",
          "2022w39",
          "2022w44",
          "2022w49",
          "2023w2"
         ],
         "xaxis": "x16",
         "y": [
          63,
          57,
          65,
          310,
          70,
          78
         ],
         "yaxis": "y16"
        },
        {
         "hovertemplate": "newspaper=larepublica_pe<br>metric=quote_count<br>stat=mean<br>year_week=%{x}<br>value=%{y}<extra></extra>",
         "legendgroup": "larepublica_pe",
         "line": {
          "color": "#83a598",
          "dash": "solid"
         },
         "marker": {
          "symbol": "circle"
         },
         "mode": "lines",
         "name": "larepublica_pe",
         "showlegend": false,
         "type": "scattergl",
         "x": [
          "2022w33",
          "2022w34",
          "2022w39",
          "2022w44",
          "2022w49",
          "2023w2"
         ],
         "xaxis": "x17",
         "y": [
          0.41718889883616833,
          0.4534461910519952,
          0.4892086330935252,
          1.0795947901591896,
          1.0064935064935066,
          1.198821796759941
         ],
         "yaxis": "y17"
        },
        {
         "hovertemplate": "newspaper=larepublica_pe<br>metric=quote_count<br>stat=min<br>year_week=%{x}<br>value=%{y}<extra></extra>",
         "legendgroup": "larepublica_pe",
         "line": {
          "color": "#83a598",
          "dash": "solid"
         },
         "marker": {
          "symbol": "circle"
         },
         "mode": "lines",
         "name": "larepublica_pe",
         "showlegend": false,
         "type": "scattergl",
         "x": [
          "2022w33",
          "2022w34",
          "2022w39",
          "2022w44",
          "2022w49",
          "2023w2"
         ],
         "xaxis": "x18",
         "y": [
          0,
          0,
          0,
          0,
          0,
          0
         ],
         "yaxis": "y18"
        },
        {
         "hovertemplate": "newspaper=larepublica_pe<br>metric=quote_count<br>stat=ratio<br>year_week=%{x}<br>value=%{y}<extra></extra>",
         "legendgroup": "larepublica_pe",
         "line": {
          "color": "#83a598",
          "dash": "solid"
         },
         "marker": {
          "symbol": "circle"
         },
         "mode": "lines",
         "name": "larepublica_pe",
         "showlegend": false,
         "type": "scattergl",
         "x": [
          "2022w33",
          "2022w34",
          "2022w39",
          "2022w44",
          "2022w49",
          "2023w2"
         ],
         "xaxis": "x19",
         "y": [
          0.41718889883616833,
          0.4534461910519952,
          0.4892086330935252,
          1.0795947901591896,
          1.0064935064935066,
          1.198821796759941
         ],
         "yaxis": "y19"
        },
        {
         "hovertemplate": "newspaper=larepublica_pe<br>metric=quote_count<br>stat=std<br>year_week=%{x}<br>value=%{y}<extra></extra>",
         "legendgroup": "larepublica_pe",
         "line": {
          "color": "#83a598",
          "dash": "solid"
         },
         "marker": {
          "symbol": "circle"
         },
         "mode": "lines",
         "name": "larepublica_pe",
         "showlegend": false,
         "type": "scattergl",
         "x": [
          "2022w33",
          "2022w34",
          "2022w39",
          "2022w44",
          "2022w49",
          "2023w2"
         ],
         "xaxis": "x20",
         "y": [
          2.505118411473576,
          2.611428986961219,
          2.898524457521404,
          13.025872931695146,
          4.829931173954408,
          5.910612306929633
         ],
         "yaxis": "y20"
        },
        {
         "hovertemplate": "newspaper=larepublica_pe<br>metric=quote_count<br>stat=sum<br>year_week=%{x}<br>value=%{y}<extra></extra>",
         "legendgroup": "larepublica_pe",
         "line": {
          "color": "#83a598",
          "dash": "solid"
         },
         "marker": {
          "symbol": "circle"
         },
         "mode": "lines",
         "name": "larepublica_pe",
         "showlegend": false,
         "type": "scattergl",
         "x": [
          "2022w33",
          "2022w34",
          "2022w39",
          "2022w44",
          "2022w49",
          "2023w2"
         ],
         "xaxis": "x21",
         "y": [
          466,
          375,
          408,
          746,
          930,
          814
         ],
         "yaxis": "y21"
        },
        {
         "hovertemplate": "newspaper=larepublica_pe<br>metric=reply_count<br>stat=count<br>year_week=%{x}<br>value=%{y}<extra></extra>",
         "legendgroup": "larepublica_pe",
         "line": {
          "color": "#83a598",
          "dash": "solid"
         },
         "marker": {
          "symbol": "circle"
         },
         "mode": "lines",
         "name": "larepublica_pe",
         "showlegend": false,
         "type": "scattergl",
         "x": [
          "2022w33",
          "2022w34",
          "2022w39",
          "2022w44",
          "2022w49",
          "2023w2"
         ],
         "xaxis": "x8",
         "y": [
          1117,
          827,
          834,
          691,
          924,
          679
         ],
         "yaxis": "y8"
        },
        {
         "hovertemplate": "newspaper=larepublica_pe<br>metric=reply_count<br>stat=max<br>year_week=%{x}<br>value=%{y}<extra></extra>",
         "legendgroup": "larepublica_pe",
         "line": {
          "color": "#83a598",
          "dash": "solid"
         },
         "marker": {
          "symbol": "circle"
         },
         "mode": "lines",
         "name": "larepublica_pe",
         "showlegend": false,
         "type": "scattergl",
         "x": [
          "2022w33",
          "2022w34",
          "2022w39",
          "2022w44",
          "2022w49",
          "2023w2"
         ],
         "xaxis": "x9",
         "y": [
          115,
          173,
          120,
          743,
          309,
          371
         ],
         "yaxis": "y9"
        },
        {
         "hovertemplate": "newspaper=larepublica_pe<br>metric=reply_count<br>stat=mean<br>year_week=%{x}<br>value=%{y}<extra></extra>",
         "legendgroup": "larepublica_pe",
         "line": {
          "color": "#83a598",
          "dash": "solid"
         },
         "marker": {
          "symbol": "circle"
         },
         "mode": "lines",
         "name": "larepublica_pe",
         "showlegend": false,
         "type": "scattergl",
         "x": [
          "2022w33",
          "2022w34",
          "2022w39",
          "2022w44",
          "2022w49",
          "2023w2"
         ],
         "xaxis": "x10",
         "y": [
          1.9785138764547896,
          2.3143893591293834,
          2.223021582733813,
          4.173661360347323,
          4.877705627705628,
          7.0382916053019144
         ],
         "yaxis": "y10"
        },
        {
         "hovertemplate": "newspaper=larepublica_pe<br>metric=reply_count<br>stat=min<br>year_week=%{x}<br>value=%{y}<extra></extra>",
         "legendgroup": "larepublica_pe",
         "line": {
          "color": "#83a598",
          "dash": "solid"
         },
         "marker": {
          "symbol": "circle"
         },
         "mode": "lines",
         "name": "larepublica_pe",
         "showlegend": false,
         "type": "scattergl",
         "x": [
          "2022w33",
          "2022w34",
          "2022w39",
          "2022w44",
          "2022w49",
          "2023w2"
         ],
         "xaxis": "x11",
         "y": [
          0,
          0,
          0,
          0,
          0,
          0
         ],
         "yaxis": "y11"
        },
        {
         "hovertemplate": "newspaper=larepublica_pe<br>metric=reply_count<br>stat=ratio<br>year_week=%{x}<br>value=%{y}<extra></extra>",
         "legendgroup": "larepublica_pe",
         "line": {
          "color": "#83a598",
          "dash": "solid"
         },
         "marker": {
          "symbol": "circle"
         },
         "mode": "lines",
         "name": "larepublica_pe",
         "showlegend": false,
         "type": "scattergl",
         "x": [
          "2022w33",
          "2022w34",
          "2022w39",
          "2022w44",
          "2022w49",
          "2023w2"
         ],
         "xaxis": "x12",
         "y": [
          1.9785138764547896,
          2.3143893591293834,
          2.223021582733813,
          4.173661360347323,
          4.877705627705628,
          7.0382916053019144
         ],
         "yaxis": "y12"
        },
        {
         "hovertemplate": "newspaper=larepublica_pe<br>metric=reply_count<br>stat=std<br>year_week=%{x}<br>value=%{y}<extra></extra>",
         "legendgroup": "larepublica_pe",
         "line": {
          "color": "#83a598",
          "dash": "solid"
         },
         "marker": {
          "symbol": "circle"
         },
         "mode": "lines",
         "name": "larepublica_pe",
         "showlegend": false,
         "type": "scattergl",
         "x": [
          "2022w33",
          "2022w34",
          "2022w39",
          "2022w44",
          "2022w49",
          "2023w2"
         ],
         "xaxis": "x13",
         "y": [
          8.396613731869389,
          10.161662914106877,
          9.562614654075668,
          33.108148667196915,
          23.061441808903673,
          24.392168469055907
         ],
         "yaxis": "y13"
        },
        {
         "hovertemplate": "newspaper=larepublica_pe<br>metric=reply_count<br>stat=sum<br>year_week=%{x}<br>value=%{y}<extra></extra>",
         "legendgroup": "larepublica_pe",
         "line": {
          "color": "#83a598",
          "dash": "solid"
         },
         "marker": {
          "symbol": "circle"
         },
         "mode": "lines",
         "name": "larepublica_pe",
         "showlegend": false,
         "type": "scattergl",
         "x": [
          "2022w33",
          "2022w34",
          "2022w39",
          "2022w44",
          "2022w49",
          "2023w2"
         ],
         "xaxis": "x14",
         "y": [
          2210,
          1914,
          1854,
          2884,
          4507,
          4779
         ],
         "yaxis": "y14"
        },
        {
         "hovertemplate": "newspaper=larepublica_pe<br>metric=retweet_count<br>stat=count<br>year_week=%{x}<br>value=%{y}<extra></extra>",
         "legendgroup": "larepublica_pe",
         "line": {
          "color": "#83a598",
          "dash": "solid"
         },
         "marker": {
          "symbol": "circle"
         },
         "mode": "lines",
         "name": "larepublica_pe",
         "showlegend": false,
         "type": "scattergl",
         "x": [
          "2022w33",
          "2022w34",
          "2022w39",
          "2022w44",
          "2022w49",
          "2023w2"
         ],
         "xaxis": "x",
         "y": [
          1117,
          827,
          834,
          691,
          924,
          679
         ],
         "yaxis": "y"
        },
        {
         "hovertemplate": "newspaper=larepublica_pe<br>metric=retweet_count<br>stat=max<br>year_week=%{x}<br>value=%{y}<extra></extra>",
         "legendgroup": "larepublica_pe",
         "line": {
          "color": "#83a598",
          "dash": "solid"
         },
         "marker": {
          "symbol": "circle"
         },
         "mode": "lines",
         "name": "larepublica_pe",
         "showlegend": false,
         "type": "scattergl",
         "x": [
          "2022w33",
          "2022w34",
          "2022w39",
          "2022w44",
          "2022w49",
          "2023w2"
         ],
         "xaxis": "x2",
         "y": [
          939,
          570,
          1071,
          1441,
          977,
          2832
         ],
         "yaxis": "y2"
        },
        {
         "hovertemplate": "newspaper=larepublica_pe<br>metric=retweet_count<br>stat=mean<br>year_week=%{x}<br>value=%{y}<extra></extra>",
         "legendgroup": "larepublica_pe",
         "line": {
          "color": "#83a598",
          "dash": "solid"
         },
         "marker": {
          "symbol": "circle"
         },
         "mode": "lines",
         "name": "larepublica_pe",
         "showlegend": false,
         "type": "scattergl",
         "x": [
          "2022w33",
          "2022w34",
          "2022w39",
          "2022w44",
          "2022w49",
          "2023w2"
         ],
         "xaxis": "x3",
         "y": [
          18.05550581915846,
          14.014510278113663,
          13.946043165467627,
          16.574529667149058,
          19.83982683982684,
          37.24447717231222
         ],
         "yaxis": "y3"
        },
        {
         "hovertemplate": "newspaper=larepublica_pe<br>metric=retweet_count<br>stat=min<br>year_week=%{x}<br>value=%{y}<extra></extra>",
         "legendgroup": "larepublica_pe",
         "line": {
          "color": "#83a598",
          "dash": "solid"
         },
         "marker": {
          "symbol": "circle"
         },
         "mode": "lines",
         "name": "larepublica_pe",
         "showlegend": false,
         "type": "scattergl",
         "x": [
          "2022w33",
          "2022w34",
          "2022w39",
          "2022w44",
          "2022w49",
          "2023w2"
         ],
         "xaxis": "x4",
         "y": [
          0,
          0,
          0,
          0,
          0,
          0
         ],
         "yaxis": "y4"
        },
        {
         "hovertemplate": "newspaper=larepublica_pe<br>metric=retweet_count<br>stat=ratio<br>year_week=%{x}<br>value=%{y}<extra></extra>",
         "legendgroup": "larepublica_pe",
         "line": {
          "color": "#83a598",
          "dash": "solid"
         },
         "marker": {
          "symbol": "circle"
         },
         "mode": "lines",
         "name": "larepublica_pe",
         "showlegend": false,
         "type": "scattergl",
         "x": [
          "2022w33",
          "2022w34",
          "2022w39",
          "2022w44",
          "2022w49",
          "2023w2"
         ],
         "xaxis": "x5",
         "y": [
          18.05550581915846,
          14.014510278113663,
          13.946043165467627,
          16.574529667149058,
          19.83982683982684,
          37.24447717231222
         ],
         "yaxis": "y5"
        },
        {
         "hovertemplate": "newspaper=larepublica_pe<br>metric=retweet_count<br>stat=std<br>year_week=%{x}<br>value=%{y}<extra></extra>",
         "legendgroup": "larepublica_pe",
         "line": {
          "color": "#83a598",
          "dash": "solid"
         },
         "marker": {
          "symbol": "circle"
         },
         "mode": "lines",
         "name": "larepublica_pe",
         "showlegend": false,
         "type": "scattergl",
         "x": [
          "2022w33",
          "2022w34",
          "2022w39",
          "2022w44",
          "2022w49",
          "2023w2"
         ],
         "xaxis": "x6",
         "y": [
          61.761845747828026,
          44.07925156734039,
          57.329993699650565,
          73.95126589270485,
          57.615231884882284,
          151.59902580997357
         ],
         "yaxis": "y6"
        },
        {
         "hovertemplate": "newspaper=larepublica_pe<br>metric=retweet_count<br>stat=sum<br>year_week=%{x}<br>value=%{y}<extra></extra>",
         "legendgroup": "larepublica_pe",
         "line": {
          "color": "#83a598",
          "dash": "solid"
         },
         "marker": {
          "symbol": "circle"
         },
         "mode": "lines",
         "name": "larepublica_pe",
         "showlegend": false,
         "type": "scattergl",
         "x": [
          "2022w33",
          "2022w34",
          "2022w39",
          "2022w44",
          "2022w49",
          "2023w2"
         ],
         "xaxis": "x7",
         "y": [
          20168,
          11590,
          11631,
          11453,
          18332,
          25289
         ],
         "yaxis": "y7"
        },
        {
         "hovertemplate": "newspaper=peru21noticias<br>metric=like_count<br>stat=count<br>year_week=%{x}<br>value=%{y}<extra></extra>",
         "legendgroup": "peru21noticias",
         "line": {
          "color": "#d65d0e",
          "dash": "solid"
         },
         "marker": {
          "symbol": "circle"
         },
         "mode": "lines",
         "name": "peru21noticias",
         "showlegend": true,
         "type": "scattergl",
         "x": [
          "2022w33",
          "2022w34",
          "2022w39",
          "2022w44",
          "2022w49",
          "2023w2"
         ],
         "xaxis": "x22",
         "y": [
          1287,
          961,
          970,
          752,
          1064,
          525
         ],
         "yaxis": "y22"
        },
        {
         "hovertemplate": "newspaper=peru21noticias<br>metric=like_count<br>stat=max<br>year_week=%{x}<br>value=%{y}<extra></extra>",
         "legendgroup": "peru21noticias",
         "line": {
          "color": "#d65d0e",
          "dash": "solid"
         },
         "marker": {
          "symbol": "circle"
         },
         "mode": "lines",
         "name": "peru21noticias",
         "showlegend": false,
         "type": "scattergl",
         "x": [
          "2022w33",
          "2022w34",
          "2022w39",
          "2022w44",
          "2022w49",
          "2023w2"
         ],
         "xaxis": "x23",
         "y": [
          1811,
          1283,
          1966,
          2302,
          1074,
          4061
         ],
         "yaxis": "y23"
        },
        {
         "hovertemplate": "newspaper=peru21noticias<br>metric=like_count<br>stat=mean<br>year_week=%{x}<br>value=%{y}<extra></extra>",
         "legendgroup": "peru21noticias",
         "line": {
          "color": "#d65d0e",
          "dash": "solid"
         },
         "marker": {
          "symbol": "circle"
         },
         "mode": "lines",
         "name": "peru21noticias",
         "showlegend": false,
         "type": "scattergl",
         "x": [
          "2022w33",
          "2022w34",
          "2022w39",
          "2022w44",
          "2022w49",
          "2023w2"
         ],
         "xaxis": "x24",
         "y": [
          24.241647241647243,
          24.449531737773153,
          15.742268041237113,
          16.99601063829787,
          23.156954887218046,
          55.29904761904762
         ],
         "yaxis": "y24"
        },
        {
         "hovertemplate": "newspaper=peru21noticias<br>metric=like_count<br>stat=min<br>year_week=%{x}<br>value=%{y}<extra></extra>",
         "legendgroup": "peru21noticias",
         "line": {
          "color": "#d65d0e",
          "dash": "solid"
         },
         "marker": {
          "symbol": "circle"
         },
         "mode": "lines",
         "name": "peru21noticias",
         "showlegend": false,
         "type": "scattergl",
         "x": [
          "2022w33",
          "2022w34",
          "2022w39",
          "2022w44",
          "2022w49",
          "2023w2"
         ],
         "xaxis": "x25",
         "y": [
          0,
          0,
          0,
          0,
          0,
          0
         ],
         "yaxis": "y25"
        },
        {
         "hovertemplate": "newspaper=peru21noticias<br>metric=like_count<br>stat=ratio<br>year_week=%{x}<br>value=%{y}<extra></extra>",
         "legendgroup": "peru21noticias",
         "line": {
          "color": "#d65d0e",
          "dash": "solid"
         },
         "marker": {
          "symbol": "circle"
         },
         "mode": "lines",
         "name": "peru21noticias",
         "showlegend": false,
         "type": "scattergl",
         "x": [
          "2022w33",
          "2022w34",
          "2022w39",
          "2022w44",
          "2022w49",
          "2023w2"
         ],
         "xaxis": "x26",
         "y": [
          24.241647241647243,
          24.449531737773153,
          15.742268041237113,
          16.99601063829787,
          23.156954887218046,
          55.29904761904762
         ],
         "yaxis": "y26"
        },
        {
         "hovertemplate": "newspaper=peru21noticias<br>metric=like_count<br>stat=std<br>year_week=%{x}<br>value=%{y}<extra></extra>",
         "legendgroup": "peru21noticias",
         "line": {
          "color": "#d65d0e",
          "dash": "solid"
         },
         "marker": {
          "symbol": "circle"
         },
         "mode": "lines",
         "name": "peru21noticias",
         "showlegend": false,
         "type": "scattergl",
         "x": [
          "2022w33",
          "2022w34",
          "2022w39",
          "2022w44",
          "2022w49",
          "2023w2"
         ],
         "xaxis": "x27",
         "y": [
          110.05557710834088,
          99.32371214393541,
          84.16631507560423,
          112.76907450695728,
          66.05339204530179,
          273.65474587852367
         ],
         "yaxis": "y27"
        },
        {
         "hovertemplate": "newspaper=peru21noticias<br>metric=like_count<br>stat=sum<br>year_week=%{x}<br>value=%{y}<extra></extra>",
         "legendgroup": "peru21noticias",
         "line": {
          "color": "#d65d0e",
          "dash": "solid"
         },
         "marker": {
          "symbol": "circle"
         },
         "mode": "lines",
         "name": "peru21noticias",
         "showlegend": false,
         "type": "scattergl",
         "x": [
          "2022w33",
          "2022w34",
          "2022w39",
          "2022w44",
          "2022w49",
          "2023w2"
         ],
         "xaxis": "x28",
         "y": [
          31199,
          23496,
          15270,
          12781,
          24639,
          29032
         ],
         "yaxis": "y28"
        },
        {
         "hovertemplate": "newspaper=peru21noticias<br>metric=quote_count<br>stat=count<br>year_week=%{x}<br>value=%{y}<extra></extra>",
         "legendgroup": "peru21noticias",
         "line": {
          "color": "#d65d0e",
          "dash": "solid"
         },
         "marker": {
          "symbol": "circle"
         },
         "mode": "lines",
         "name": "peru21noticias",
         "showlegend": false,
         "type": "scattergl",
         "x": [
          "2022w33",
          "2022w34",
          "2022w39",
          "2022w44",
          "2022w49",
          "2023w2"
         ],
         "xaxis": "x15",
         "y": [
          1287,
          961,
          970,
          752,
          1064,
          525
         ],
         "yaxis": "y15"
        },
        {
         "hovertemplate": "newspaper=peru21noticias<br>metric=quote_count<br>stat=max<br>year_week=%{x}<br>value=%{y}<extra></extra>",
         "legendgroup": "peru21noticias",
         "line": {
          "color": "#d65d0e",
          "dash": "solid"
         },
         "marker": {
          "symbol": "circle"
         },
         "mode": "lines",
         "name": "peru21noticias",
         "showlegend": false,
         "type": "scattergl",
         "x": [
          "2022w33",
          "2022w34",
          "2022w39",
          "2022w44",
          "2022w49",
          "2023w2"
         ],
         "xaxis": "x16",
         "y": [
          128,
          109,
          102,
          47,
          80,
          287
         ],
         "yaxis": "y16"
        },
        {
         "hovertemplate": "newspaper=peru21noticias<br>metric=quote_count<br>stat=mean<br>year_week=%{x}<br>value=%{y}<extra></extra>",
         "legendgroup": "peru21noticias",
         "line": {
          "color": "#d65d0e",
          "dash": "solid"
         },
         "marker": {
          "symbol": "circle"
         },
         "mode": "lines",
         "name": "peru21noticias",
         "showlegend": false,
         "type": "scattergl",
         "x": [
          "2022w33",
          "2022w34",
          "2022w39",
          "2022w44",
          "2022w49",
          "2023w2"
         ],
         "xaxis": "x17",
         "y": [
          0.7257187257187258,
          0.927159209157128,
          0.6288659793814433,
          0.47606382978723405,
          0.8458646616541353,
          1.8876190476190475
         ],
         "yaxis": "y17"
        },
        {
         "hovertemplate": "newspaper=peru21noticias<br>metric=quote_count<br>stat=min<br>year_week=%{x}<br>value=%{y}<extra></extra>",
         "legendgroup": "peru21noticias",
         "line": {
          "color": "#d65d0e",
          "dash": "solid"
         },
         "marker": {
          "symbol": "circle"
         },
         "mode": "lines",
         "name": "peru21noticias",
         "showlegend": false,
         "type": "scattergl",
         "x": [
          "2022w33",
          "2022w34",
          "2022w39",
          "2022w44",
          "2022w49",
          "2023w2"
         ],
         "xaxis": "x18",
         "y": [
          0,
          0,
          0,
          0,
          0,
          0
         ],
         "yaxis": "y18"
        },
        {
         "hovertemplate": "newspaper=peru21noticias<br>metric=quote_count<br>stat=ratio<br>year_week=%{x}<br>value=%{y}<extra></extra>",
         "legendgroup": "peru21noticias",
         "line": {
          "color": "#d65d0e",
          "dash": "solid"
         },
         "marker": {
          "symbol": "circle"
         },
         "mode": "lines",
         "name": "peru21noticias",
         "showlegend": false,
         "type": "scattergl",
         "x": [
          "2022w33",
          "2022w34",
          "2022w39",
          "2022w44",
          "2022w49",
          "2023w2"
         ],
         "xaxis": "x19",
         "y": [
          0.7257187257187258,
          0.927159209157128,
          0.6288659793814433,
          0.47606382978723405,
          0.8458646616541353,
          1.8876190476190475
         ],
         "yaxis": "y19"
        },
        {
         "hovertemplate": "newspaper=peru21noticias<br>metric=quote_count<br>stat=std<br>year_week=%{x}<br>value=%{y}<extra></extra>",
         "legendgroup": "peru21noticias",
         "line": {
          "color": "#d65d0e",
          "dash": "solid"
         },
         "marker": {
          "symbol": "circle"
         },
         "mode": "lines",
         "name": "peru21noticias",
         "showlegend": false,
         "type": "scattergl",
         "x": [
          "2022w33",
          "2022w34",
          "2022w39",
          "2022w44",
          "2022w49",
          "2023w2"
         ],
         "xaxis": "x20",
         "y": [
          4.466932131488464,
          5.589322143665339,
          4.478176845114197,
          2.71592658019252,
          3.824799234705732,
          13.769945251198733
         ],
         "yaxis": "y20"
        },
        {
         "hovertemplate": "newspaper=peru21noticias<br>metric=quote_count<br>stat=sum<br>year_week=%{x}<br>value=%{y}<extra></extra>",
         "legendgroup": "peru21noticias",
         "line": {
          "color": "#d65d0e",
          "dash": "solid"
         },
         "marker": {
          "symbol": "circle"
         },
         "mode": "lines",
         "name": "peru21noticias",
         "showlegend": false,
         "type": "scattergl",
         "x": [
          "2022w33",
          "2022w34",
          "2022w39",
          "2022w44",
          "2022w49",
          "2023w2"
         ],
         "xaxis": "x21",
         "y": [
          934,
          891,
          610,
          358,
          900,
          991
         ],
         "yaxis": "y21"
        },
        {
         "hovertemplate": "newspaper=peru21noticias<br>metric=reply_count<br>stat=count<br>year_week=%{x}<br>value=%{y}<extra></extra>",
         "legendgroup": "peru21noticias",
         "line": {
          "color": "#d65d0e",
          "dash": "solid"
         },
         "marker": {
          "symbol": "circle"
         },
         "mode": "lines",
         "name": "peru21noticias",
         "showlegend": false,
         "type": "scattergl",
         "x": [
          "2022w33",
          "2022w34",
          "2022w39",
          "2022w44",
          "2022w49",
          "2023w2"
         ],
         "xaxis": "x8",
         "y": [
          1287,
          961,
          970,
          752,
          1064,
          525
         ],
         "yaxis": "y8"
        },
        {
         "hovertemplate": "newspaper=peru21noticias<br>metric=reply_count<br>stat=max<br>year_week=%{x}<br>value=%{y}<extra></extra>",
         "legendgroup": "peru21noticias",
         "line": {
          "color": "#d65d0e",
          "dash": "solid"
         },
         "marker": {
          "symbol": "circle"
         },
         "mode": "lines",
         "name": "peru21noticias",
         "showlegend": false,
         "type": "scattergl",
         "x": [
          "2022w33",
          "2022w34",
          "2022w39",
          "2022w44",
          "2022w49",
          "2023w2"
         ],
         "xaxis": "x9",
         "y": [
          748,
          452,
          753,
          479,
          265,
          1102
         ],
         "yaxis": "y9"
        },
        {
         "hovertemplate": "newspaper=peru21noticias<br>metric=reply_count<br>stat=mean<br>year_week=%{x}<br>value=%{y}<extra></extra>",
         "legendgroup": "peru21noticias",
         "line": {
          "color": "#d65d0e",
          "dash": "solid"
         },
         "marker": {
          "symbol": "circle"
         },
         "mode": "lines",
         "name": "peru21noticias",
         "showlegend": false,
         "type": "scattergl",
         "x": [
          "2022w33",
          "2022w34",
          "2022w39",
          "2022w44",
          "2022w49",
          "2023w2"
         ],
         "xaxis": "x10",
         "y": [
          4.340326340326341,
          5.454734651404786,
          3.718556701030928,
          3.8470744680851063,
          5.496240601503759,
          15.129523809523809
         ],
         "yaxis": "y10"
        },
        {
         "hovertemplate": "newspaper=peru21noticias<br>metric=reply_count<br>stat=min<br>year_week=%{x}<br>value=%{y}<extra></extra>",
         "legendgroup": "peru21noticias",
         "line": {
          "color": "#d65d0e",
          "dash": "solid"
         },
         "marker": {
          "symbol": "circle"
         },
         "mode": "lines",
         "name": "peru21noticias",
         "showlegend": false,
         "type": "scattergl",
         "x": [
          "2022w33",
          "2022w34",
          "2022w39",
          "2022w44",
          "2022w49",
          "2023w2"
         ],
         "xaxis": "x11",
         "y": [
          0,
          0,
          0,
          0,
          0,
          0
         ],
         "yaxis": "y11"
        },
        {
         "hovertemplate": "newspaper=peru21noticias<br>metric=reply_count<br>stat=ratio<br>year_week=%{x}<br>value=%{y}<extra></extra>",
         "legendgroup": "peru21noticias",
         "line": {
          "color": "#d65d0e",
          "dash": "solid"
         },
         "marker": {
          "symbol": "circle"
         },
         "mode": "lines",
         "name": "peru21noticias",
         "showlegend": false,
         "type": "scattergl",
         "x": [
          "2022w33",
          "2022w34",
          "2022w39",
          "2022w44",
          "2022w49",
          "2023w2"
         ],
         "xaxis": "x12",
         "y": [
          4.340326340326341,
          5.454734651404786,
          3.718556701030928,
          3.8470744680851063,
          5.496240601503759,
          15.129523809523809
         ],
         "yaxis": "y12"
        },
        {
         "hovertemplate": "newspaper=peru21noticias<br>metric=reply_count<br>stat=std<br>year_week=%{x}<br>value=%{y}<extra></extra>",
         "legendgroup": "peru21noticias",
         "line": {
          "color": "#d65d0e",
          "dash": "solid"
         },
         "marker": {
          "symbol": "circle"
         },
         "mode": "lines",
         "name": "peru21noticias",
         "showlegend": false,
         "type": "scattergl",
         "x": [
          "2022w33",
          "2022w34",
          "2022w39",
          "2022w44",
          "2022w49",
          "2023w2"
         ],
         "xaxis": "x13",
         "y": [
          25.525441476463847,
          26.296234698727456,
          29.292027500801662,
          24.711367475484415,
          16.677506241999566,
          74.88843091356948
         ],
         "yaxis": "y13"
        },
        {
         "hovertemplate": "newspaper=peru21noticias<br>metric=reply_count<br>stat=sum<br>year_week=%{x}<br>value=%{y}<extra></extra>",
         "legendgroup": "peru21noticias",
         "line": {
          "color": "#d65d0e",
          "dash": "solid"
         },
         "marker": {
          "symbol": "circle"
         },
         "mode": "lines",
         "name": "peru21noticias",
         "showlegend": false,
         "type": "scattergl",
         "x": [
          "2022w33",
          "2022w34",
          "2022w39",
          "2022w44",
          "2022w49",
          "2023w2"
         ],
         "xaxis": "x14",
         "y": [
          5586,
          5242,
          3607,
          2893,
          5848,
          7943
         ],
         "yaxis": "y14"
        },
        {
         "hovertemplate": "newspaper=peru21noticias<br>metric=retweet_count<br>stat=count<br>year_week=%{x}<br>value=%{y}<extra></extra>",
         "legendgroup": "peru21noticias",
         "line": {
          "color": "#d65d0e",
          "dash": "solid"
         },
         "marker": {
          "symbol": "circle"
         },
         "mode": "lines",
         "name": "peru21noticias",
         "showlegend": false,
         "type": "scattergl",
         "x": [
          "2022w33",
          "2022w34",
          "2022w39",
          "2022w44",
          "2022w49",
          "2023w2"
         ],
         "xaxis": "x",
         "y": [
          1287,
          961,
          970,
          752,
          1064,
          525
         ],
         "yaxis": "y"
        },
        {
         "hovertemplate": "newspaper=peru21noticias<br>metric=retweet_count<br>stat=max<br>year_week=%{x}<br>value=%{y}<extra></extra>",
         "legendgroup": "peru21noticias",
         "line": {
          "color": "#d65d0e",
          "dash": "solid"
         },
         "marker": {
          "symbol": "circle"
         },
         "mode": "lines",
         "name": "peru21noticias",
         "showlegend": false,
         "type": "scattergl",
         "x": [
          "2022w33",
          "2022w34",
          "2022w39",
          "2022w44",
          "2022w49",
          "2023w2"
         ],
         "xaxis": "x2",
         "y": [
          912,
          739,
          585,
          682,
          396,
          2996
         ],
         "yaxis": "y2"
        },
        {
         "hovertemplate": "newspaper=peru21noticias<br>metric=retweet_count<br>stat=mean<br>year_week=%{x}<br>value=%{y}<extra></extra>",
         "legendgroup": "peru21noticias",
         "line": {
          "color": "#d65d0e",
          "dash": "solid"
         },
         "marker": {
          "symbol": "circle"
         },
         "mode": "lines",
         "name": "peru21noticias",
         "showlegend": false,
         "type": "scattergl",
         "x": [
          "2022w33",
          "2022w34",
          "2022w39",
          "2022w44",
          "2022w49",
          "2023w2"
         ],
         "xaxis": "x3",
         "y": [
          8.174825174825175,
          8.05098855359001,
          4.995876288659794,
          5.980053191489362,
          5.964285714285714,
          16.866666666666667
         ],
         "yaxis": "y3"
        },
        {
         "hovertemplate": "newspaper=peru21noticias<br>metric=retweet_count<br>stat=min<br>year_week=%{x}<br>value=%{y}<extra></extra>",
         "legendgroup": "peru21noticias",
         "line": {
          "color": "#d65d0e",
          "dash": "solid"
         },
         "marker": {
          "symbol": "circle"
         },
         "mode": "lines",
         "name": "peru21noticias",
         "showlegend": false,
         "type": "scattergl",
         "x": [
          "2022w33",
          "2022w34",
          "2022w39",
          "2022w44",
          "2022w49",
          "2023w2"
         ],
         "xaxis": "x4",
         "y": [
          0,
          0,
          0,
          0,
          0,
          0
         ],
         "yaxis": "y4"
        },
        {
         "hovertemplate": "newspaper=peru21noticias<br>metric=retweet_count<br>stat=ratio<br>year_week=%{x}<br>value=%{y}<extra></extra>",
         "legendgroup": "peru21noticias",
         "line": {
          "color": "#d65d0e",
          "dash": "solid"
         },
         "marker": {
          "symbol": "circle"
         },
         "mode": "lines",
         "name": "peru21noticias",
         "showlegend": false,
         "type": "scattergl",
         "x": [
          "2022w33",
          "2022w34",
          "2022w39",
          "2022w44",
          "2022w49",
          "2023w2"
         ],
         "xaxis": "x5",
         "y": [
          8.174825174825175,
          8.05098855359001,
          4.995876288659794,
          5.980053191489362,
          5.964285714285714,
          16.866666666666667
         ],
         "yaxis": "y5"
        },
        {
         "hovertemplate": "newspaper=peru21noticias<br>metric=retweet_count<br>stat=std<br>year_week=%{x}<br>value=%{y}<extra></extra>",
         "legendgroup": "peru21noticias",
         "line": {
          "color": "#d65d0e",
          "dash": "solid"
         },
         "marker": {
          "symbol": "circle"
         },
         "mode": "lines",
         "name": "peru21noticias",
         "showlegend": false,
         "type": "scattergl",
         "x": [
          "2022w33",
          "2022w34",
          "2022w39",
          "2022w44",
          "2022w49",
          "2023w2"
         ],
         "xaxis": "x6",
         "y": [
          43.61917822972773,
          42.76048240832392,
          30.250143642763017,
          39.28676199654195,
          21.23218954480555,
          138.08114294002425
         ],
         "yaxis": "y6"
        },
        {
         "hovertemplate": "newspaper=peru21noticias<br>metric=retweet_count<br>stat=sum<br>year_week=%{x}<br>value=%{y}<extra></extra>",
         "legendgroup": "peru21noticias",
         "line": {
          "color": "#d65d0e",
          "dash": "solid"
         },
         "marker": {
          "symbol": "circle"
         },
         "mode": "lines",
         "name": "peru21noticias",
         "showlegend": false,
         "type": "scattergl",
         "x": [
          "2022w33",
          "2022w34",
          "2022w39",
          "2022w44",
          "2022w49",
          "2023w2"
         ],
         "xaxis": "x7",
         "y": [
          10521,
          7737,
          4846,
          4497,
          6346,
          8855
         ],
         "yaxis": "y7"
        },
        {
         "hovertemplate": "newspaper=tromepe<br>metric=like_count<br>stat=count<br>year_week=%{x}<br>value=%{y}<extra></extra>",
         "legendgroup": "tromepe",
         "line": {
          "color": "#d3869b",
          "dash": "solid"
         },
         "marker": {
          "symbol": "circle"
         },
         "mode": "lines",
         "name": "tromepe",
         "showlegend": true,
         "type": "scattergl",
         "x": [
          "2022w33",
          "2022w34",
          "2022w39",
          "2022w44",
          "2022w49",
          "2023w2"
         ],
         "xaxis": "x22",
         "y": [
          1095,
          807,
          956,
          759,
          922,
          628
         ],
         "yaxis": "y22"
        },
        {
         "hovertemplate": "newspaper=tromepe<br>metric=like_count<br>stat=max<br>year_week=%{x}<br>value=%{y}<extra></extra>",
         "legendgroup": "tromepe",
         "line": {
          "color": "#d3869b",
          "dash": "solid"
         },
         "marker": {
          "symbol": "circle"
         },
         "mode": "lines",
         "name": "tromepe",
         "showlegend": false,
         "type": "scattergl",
         "x": [
          "2022w33",
          "2022w34",
          "2022w39",
          "2022w44",
          "2022w49",
          "2023w2"
         ],
         "xaxis": "x23",
         "y": [
          1453,
          792,
          142,
          319,
          878,
          4533
         ],
         "yaxis": "y23"
        },
        {
         "hovertemplate": "newspaper=tromepe<br>metric=like_count<br>stat=mean<br>year_week=%{x}<br>value=%{y}<extra></extra>",
         "legendgroup": "tromepe",
         "line": {
          "color": "#d3869b",
          "dash": "solid"
         },
         "marker": {
          "symbol": "circle"
         },
         "mode": "lines",
         "name": "tromepe",
         "showlegend": false,
         "type": "scattergl",
         "x": [
          "2022w33",
          "2022w34",
          "2022w39",
          "2022w44",
          "2022w49",
          "2023w2"
         ],
         "xaxis": "x24",
         "y": [
          7.364383561643836,
          4.482032218091698,
          4.922594142259414,
          2.9657444005270093,
          9.329718004338394,
          13.668789808917197
         ],
         "yaxis": "y24"
        },
        {
         "hovertemplate": "newspaper=tromepe<br>metric=like_count<br>stat=min<br>year_week=%{x}<br>value=%{y}<extra></extra>",
         "legendgroup": "tromepe",
         "line": {
          "color": "#d3869b",
          "dash": "solid"
         },
         "marker": {
          "symbol": "circle"
         },
         "mode": "lines",
         "name": "tromepe",
         "showlegend": false,
         "type": "scattergl",
         "x": [
          "2022w33",
          "2022w34",
          "2022w39",
          "2022w44",
          "2022w49",
          "2023w2"
         ],
         "xaxis": "x25",
         "y": [
          0,
          0,
          0,
          0,
          0,
          0
         ],
         "yaxis": "y25"
        },
        {
         "hovertemplate": "newspaper=tromepe<br>metric=like_count<br>stat=ratio<br>year_week=%{x}<br>value=%{y}<extra></extra>",
         "legendgroup": "tromepe",
         "line": {
          "color": "#d3869b",
          "dash": "solid"
         },
         "marker": {
          "symbol": "circle"
         },
         "mode": "lines",
         "name": "tromepe",
         "showlegend": false,
         "type": "scattergl",
         "x": [
          "2022w33",
          "2022w34",
          "2022w39",
          "2022w44",
          "2022w49",
          "2023w2"
         ],
         "xaxis": "x26",
         "y": [
          7.364383561643836,
          4.482032218091698,
          4.922594142259414,
          2.9657444005270093,
          9.329718004338394,
          13.668789808917197
         ],
         "yaxis": "y26"
        },
        {
         "hovertemplate": "newspaper=tromepe<br>metric=like_count<br>stat=std<br>year_week=%{x}<br>value=%{y}<extra></extra>",
         "legendgroup": "tromepe",
         "line": {
          "color": "#d3869b",
          "dash": "solid"
         },
         "marker": {
          "symbol": "circle"
         },
         "mode": "lines",
         "name": "tromepe",
         "showlegend": false,
         "type": "scattergl",
         "x": [
          "2022w33",
          "2022w34",
          "2022w39",
          "2022w44",
          "2022w49",
          "2023w2"
         ],
         "xaxis": "x27",
         "y": [
          67.5587604685742,
          30.85967378052066,
          11.80949444841961,
          13.911286459881545,
          36.050961723370065,
          184.46248093111066
         ],
         "yaxis": "y27"
        },
        {
         "hovertemplate": "newspaper=tromepe<br>metric=like_count<br>stat=sum<br>year_week=%{x}<br>value=%{y}<extra></extra>",
         "legendgroup": "tromepe",
         "line": {
          "color": "#d3869b",
          "dash": "solid"
         },
         "marker": {
          "symbol": "circle"
         },
         "mode": "lines",
         "name": "tromepe",
         "showlegend": false,
         "type": "scattergl",
         "x": [
          "2022w33",
          "2022w34",
          "2022w39",
          "2022w44",
          "2022w49",
          "2023w2"
         ],
         "xaxis": "x28",
         "y": [
          8064,
          3617,
          4706,
          2251,
          8602,
          8584
         ],
         "yaxis": "y28"
        },
        {
         "hovertemplate": "newspaper=tromepe<br>metric=quote_count<br>stat=count<br>year_week=%{x}<br>value=%{y}<extra></extra>",
         "legendgroup": "tromepe",
         "line": {
          "color": "#d3869b",
          "dash": "solid"
         },
         "marker": {
          "symbol": "circle"
         },
         "mode": "lines",
         "name": "tromepe",
         "showlegend": false,
         "type": "scattergl",
         "x": [
          "2022w33",
          "2022w34",
          "2022w39",
          "2022w44",
          "2022w49",
          "2023w2"
         ],
         "xaxis": "x15",
         "y": [
          1095,
          807,
          956,
          759,
          922,
          628
         ],
         "yaxis": "y15"
        },
        {
         "hovertemplate": "newspaper=tromepe<br>metric=quote_count<br>stat=max<br>year_week=%{x}<br>value=%{y}<extra></extra>",
         "legendgroup": "tromepe",
         "line": {
          "color": "#d3869b",
          "dash": "solid"
         },
         "marker": {
          "symbol": "circle"
         },
         "mode": "lines",
         "name": "tromepe",
         "showlegend": false,
         "type": "scattergl",
         "x": [
          "2022w33",
          "2022w34",
          "2022w39",
          "2022w44",
          "2022w49",
          "2023w2"
         ],
         "xaxis": "x16",
         "y": [
          97,
          13,
          9,
          97,
          30,
          95
         ],
         "yaxis": "y16"
        },
        {
         "hovertemplate": "newspaper=tromepe<br>metric=quote_count<br>stat=mean<br>year_week=%{x}<br>value=%{y}<extra></extra>",
         "legendgroup": "tromepe",
         "line": {
          "color": "#d3869b",
          "dash": "solid"
         },
         "marker": {
          "symbol": "circle"
         },
         "mode": "lines",
         "name": "tromepe",
         "showlegend": false,
         "type": "scattergl",
         "x": [
          "2022w33",
          "2022w34",
          "2022w39",
          "2022w44",
          "2022w49",
          "2023w2"
         ],
         "xaxis": "x17",
         "y": [
          0.2730593607305936,
          0.14002478314745972,
          0.13179916317991633,
          0.18181818181818182,
          0.2613882863340564,
          0.29777070063694266
         ],
         "yaxis": "y17"
        },
        {
         "hovertemplate": "newspaper=tromepe<br>metric=quote_count<br>stat=min<br>year_week=%{x}<br>value=%{y}<extra></extra>",
         "legendgroup": "tromepe",
         "line": {
          "color": "#d3869b",
          "dash": "solid"
         },
         "marker": {
          "symbol": "circle"
         },
         "mode": "lines",
         "name": "tromepe",
         "showlegend": false,
         "type": "scattergl",
         "x": [
          "2022w33",
          "2022w34",
          "2022w39",
          "2022w44",
          "2022w49",
          "2023w2"
         ],
         "xaxis": "x18",
         "y": [
          0,
          0,
          0,
          0,
          0,
          0
         ],
         "yaxis": "y18"
        },
        {
         "hovertemplate": "newspaper=tromepe<br>metric=quote_count<br>stat=ratio<br>year_week=%{x}<br>value=%{y}<extra></extra>",
         "legendgroup": "tromepe",
         "line": {
          "color": "#d3869b",
          "dash": "solid"
         },
         "marker": {
          "symbol": "circle"
         },
         "mode": "lines",
         "name": "tromepe",
         "showlegend": false,
         "type": "scattergl",
         "x": [
          "2022w33",
          "2022w34",
          "2022w39",
          "2022w44",
          "2022w49",
          "2023w2"
         ],
         "xaxis": "x19",
         "y": [
          0.2730593607305936,
          0.14002478314745972,
          0.13179916317991633,
          0.18181818181818182,
          0.2613882863340564,
          0.29777070063694266
         ],
         "yaxis": "y19"
        },
        {
         "hovertemplate": "newspaper=tromepe<br>metric=quote_count<br>stat=std<br>year_week=%{x}<br>value=%{y}<extra></extra>",
         "legendgroup": "tromepe",
         "line": {
          "color": "#d3869b",
          "dash": "solid"
         },
         "marker": {
          "symbol": "circle"
         },
         "mode": "lines",
         "name": "tromepe",
         "showlegend": false,
         "type": "scattergl",
         "x": [
          "2022w33",
          "2022w34",
          "2022w39",
          "2022w44",
          "2022w49",
          "2023w2"
         ],
         "xaxis": "x20",
         "y": [
          3.1319774391410355,
          0.7564259040173121,
          0.6369045770369435,
          3.5343973319195534,
          1.4513483277647101,
          3.8960407824198846
         ],
         "yaxis": "y20"
        },
        {
         "hovertemplate": "newspaper=tromepe<br>metric=quote_count<br>stat=sum<br>year_week=%{x}<br>value=%{y}<extra></extra>",
         "legendgroup": "tromepe",
         "line": {
          "color": "#d3869b",
          "dash": "solid"
         },
         "marker": {
          "symbol": "circle"
         },
         "mode": "lines",
         "name": "tromepe",
         "showlegend": false,
         "type": "scattergl",
         "x": [
          "2022w33",
          "2022w34",
          "2022w39",
          "2022w44",
          "2022w49",
          "2023w2"
         ],
         "xaxis": "x21",
         "y": [
          299,
          113,
          126,
          138,
          241,
          187
         ],
         "yaxis": "y21"
        },
        {
         "hovertemplate": "newspaper=tromepe<br>metric=reply_count<br>stat=count<br>year_week=%{x}<br>value=%{y}<extra></extra>",
         "legendgroup": "tromepe",
         "line": {
          "color": "#d3869b",
          "dash": "solid"
         },
         "marker": {
          "symbol": "circle"
         },
         "mode": "lines",
         "name": "tromepe",
         "showlegend": false,
         "type": "scattergl",
         "x": [
          "2022w33",
          "2022w34",
          "2022w39",
          "2022w44",
          "2022w49",
          "2023w2"
         ],
         "xaxis": "x8",
         "y": [
          1095,
          807,
          956,
          759,
          922,
          628
         ],
         "yaxis": "y8"
        },
        {
         "hovertemplate": "newspaper=tromepe<br>metric=reply_count<br>stat=max<br>year_week=%{x}<br>value=%{y}<extra></extra>",
         "legendgroup": "tromepe",
         "line": {
          "color": "#d3869b",
          "dash": "solid"
         },
         "marker": {
          "symbol": "circle"
         },
         "mode": "lines",
         "name": "tromepe",
         "showlegend": false,
         "type": "scattergl",
         "x": [
          "2022w33",
          "2022w34",
          "2022w39",
          "2022w44",
          "2022w49",
          "2023w2"
         ],
         "xaxis": "x9",
         "y": [
          1524,
          299,
          330,
          330,
          306,
          947
         ],
         "yaxis": "y9"
        },
        {
         "hovertemplate": "newspaper=tromepe<br>metric=reply_count<br>stat=mean<br>year_week=%{x}<br>value=%{y}<extra></extra>",
         "legendgroup": "tromepe",
         "line": {
          "color": "#d3869b",
          "dash": "solid"
         },
         "marker": {
          "symbol": "circle"
         },
         "mode": "lines",
         "name": "tromepe",
         "showlegend": false,
         "type": "scattergl",
         "x": [
          "2022w33",
          "2022w34",
          "2022w39",
          "2022w44",
          "2022w49",
          "2023w2"
         ],
         "xaxis": "x10",
         "y": [
          2.7470319634703197,
          1.432465923172243,
          1.747907949790795,
          1.22266139657444,
          2.8308026030368763,
          4.361464968152866
         ],
         "yaxis": "y10"
        },
        {
         "hovertemplate": "newspaper=tromepe<br>metric=reply_count<br>stat=min<br>year_week=%{x}<br>value=%{y}<extra></extra>",
         "legendgroup": "tromepe",
         "line": {
          "color": "#d3869b",
          "dash": "solid"
         },
         "marker": {
          "symbol": "circle"
         },
         "mode": "lines",
         "name": "tromepe",
         "showlegend": false,
         "type": "scattergl",
         "x": [
          "2022w33",
          "2022w34",
          "2022w39",
          "2022w44",
          "2022w49",
          "2023w2"
         ],
         "xaxis": "x11",
         "y": [
          0,
          0,
          0,
          0,
          0,
          0
         ],
         "yaxis": "y11"
        },
        {
         "hovertemplate": "newspaper=tromepe<br>metric=reply_count<br>stat=ratio<br>year_week=%{x}<br>value=%{y}<extra></extra>",
         "legendgroup": "tromepe",
         "line": {
          "color": "#d3869b",
          "dash": "solid"
         },
         "marker": {
          "symbol": "circle"
         },
         "mode": "lines",
         "name": "tromepe",
         "showlegend": false,
         "type": "scattergl",
         "x": [
          "2022w33",
          "2022w34",
          "2022w39",
          "2022w44",
          "2022w49",
          "2023w2"
         ],
         "xaxis": "x12",
         "y": [
          2.7470319634703197,
          1.432465923172243,
          1.747907949790795,
          1.22266139657444,
          2.8308026030368763,
          4.361464968152866
         ],
         "yaxis": "y12"
        },
        {
         "hovertemplate": "newspaper=tromepe<br>metric=reply_count<br>stat=std<br>year_week=%{x}<br>value=%{y}<extra></extra>",
         "legendgroup": "tromepe",
         "line": {
          "color": "#d3869b",
          "dash": "solid"
         },
         "marker": {
          "symbol": "circle"
         },
         "mode": "lines",
         "name": "tromepe",
         "showlegend": false,
         "type": "scattergl",
         "x": [
          "2022w33",
          "2022w34",
          "2022w39",
          "2022w44",
          "2022w49",
          "2023w2"
         ],
         "xaxis": "x13",
         "y": [
          46.846465626887486,
          13.771444788197007,
          12.802660301749366,
          13.255225993042195,
          15.558778091007174,
          51.68400101432598
         ],
         "yaxis": "y13"
        },
        {
         "hovertemplate": "newspaper=tromepe<br>metric=reply_count<br>stat=sum<br>year_week=%{x}<br>value=%{y}<extra></extra>",
         "legendgroup": "tromepe",
         "line": {
          "color": "#d3869b",
          "dash": "solid"
         },
         "marker": {
          "symbol": "circle"
         },
         "mode": "lines",
         "name": "tromepe",
         "showlegend": false,
         "type": "scattergl",
         "x": [
          "2022w33",
          "2022w34",
          "2022w39",
          "2022w44",
          "2022w49",
          "2023w2"
         ],
         "xaxis": "x14",
         "y": [
          3008,
          1156,
          1671,
          928,
          2610,
          2739
         ],
         "yaxis": "y14"
        },
        {
         "hovertemplate": "newspaper=tromepe<br>metric=retweet_count<br>stat=count<br>year_week=%{x}<br>value=%{y}<extra></extra>",
         "legendgroup": "tromepe",
         "line": {
          "color": "#d3869b",
          "dash": "solid"
         },
         "marker": {
          "symbol": "circle"
         },
         "mode": "lines",
         "name": "tromepe",
         "showlegend": false,
         "type": "scattergl",
         "x": [
          "2022w33",
          "2022w34",
          "2022w39",
          "2022w44",
          "2022w49",
          "2023w2"
         ],
         "xaxis": "x",
         "y": [
          1095,
          807,
          956,
          759,
          922,
          628
         ],
         "yaxis": "y"
        },
        {
         "hovertemplate": "newspaper=tromepe<br>metric=retweet_count<br>stat=max<br>year_week=%{x}<br>value=%{y}<extra></extra>",
         "legendgroup": "tromepe",
         "line": {
          "color": "#d3869b",
          "dash": "solid"
         },
         "marker": {
          "symbol": "circle"
         },
         "mode": "lines",
         "name": "tromepe",
         "showlegend": false,
         "type": "scattergl",
         "x": [
          "2022w33",
          "2022w34",
          "2022w39",
          "2022w44",
          "2022w49",
          "2023w2"
         ],
         "xaxis": "x2",
         "y": [
          305,
          184,
          25,
          42,
          115,
          779
         ],
         "yaxis": "y2"
        },
        {
         "hovertemplate": "newspaper=tromepe<br>metric=retweet_count<br>stat=mean<br>year_week=%{x}<br>value=%{y}<extra></extra>",
         "legendgroup": "tromepe",
         "line": {
          "color": "#d3869b",
          "dash": "solid"
         },
         "marker": {
          "symbol": "circle"
         },
         "mode": "lines",
         "name": "tromepe",
         "showlegend": false,
         "type": "scattergl",
         "x": [
          "2022w33",
          "2022w34",
          "2022w39",
          "2022w44",
          "2022w49",
          "2023w2"
         ],
         "xaxis": "x3",
         "y": [
          1.3168949771689498,
          0.7434944237918215,
          0.7489539748953975,
          0.5454545454545454,
          1.5108459869848156,
          2.2070063694267517
         ],
         "yaxis": "y3"
        },
        {
         "hovertemplate": "newspaper=tromepe<br>metric=retweet_count<br>stat=min<br>year_week=%{x}<br>value=%{y}<extra></extra>",
         "legendgroup": "tromepe",
         "line": {
          "color": "#d3869b",
          "dash": "solid"
         },
         "marker": {
          "symbol": "circle"
         },
         "mode": "lines",
         "name": "tromepe",
         "showlegend": false,
         "type": "scattergl",
         "x": [
          "2022w33",
          "2022w34",
          "2022w39",
          "2022w44",
          "2022w49",
          "2023w2"
         ],
         "xaxis": "x4",
         "y": [
          0,
          0,
          0,
          0,
          0,
          0
         ],
         "yaxis": "y4"
        },
        {
         "hovertemplate": "newspaper=tromepe<br>metric=retweet_count<br>stat=ratio<br>year_week=%{x}<br>value=%{y}<extra></extra>",
         "legendgroup": "tromepe",
         "line": {
          "color": "#d3869b",
          "dash": "solid"
         },
         "marker": {
          "symbol": "circle"
         },
         "mode": "lines",
         "name": "tromepe",
         "showlegend": false,
         "type": "scattergl",
         "x": [
          "2022w33",
          "2022w34",
          "2022w39",
          "2022w44",
          "2022w49",
          "2023w2"
         ],
         "xaxis": "x5",
         "y": [
          1.3168949771689498,
          0.7434944237918215,
          0.7489539748953975,
          0.5454545454545454,
          1.5108459869848156,
          2.2070063694267517
         ],
         "yaxis": "y5"
        },
        {
         "hovertemplate": "newspaper=tromepe<br>metric=retweet_count<br>stat=std<br>year_week=%{x}<br>value=%{y}<extra></extra>",
         "legendgroup": "tromepe",
         "line": {
          "color": "#d3869b",
          "dash": "solid"
         },
         "marker": {
          "symbol": "circle"
         },
         "mode": "lines",
         "name": "tromepe",
         "showlegend": false,
         "type": "scattergl",
         "x": [
          "2022w33",
          "2022w34",
          "2022w39",
          "2022w44",
          "2022w49",
          "2023w2"
         ],
         "xaxis": "x6",
         "y": [
          12.334944543645515,
          6.695235829384445,
          1.9022579457371984,
          2.270663490897369,
          4.881037733877225,
          31.319495973362603
         ],
         "yaxis": "y6"
        },
        {
         "hovertemplate": "newspaper=tromepe<br>metric=retweet_count<br>stat=sum<br>year_week=%{x}<br>value=%{y}<extra></extra>",
         "legendgroup": "tromepe",
         "line": {
          "color": "#d3869b",
          "dash": "solid"
         },
         "marker": {
          "symbol": "circle"
         },
         "mode": "lines",
         "name": "tromepe",
         "showlegend": false,
         "type": "scattergl",
         "x": [
          "2022w33",
          "2022w34",
          "2022w39",
          "2022w44",
          "2022w49",
          "2023w2"
         ],
         "xaxis": "x7",
         "y": [
          1442,
          600,
          716,
          414,
          1393,
          1386
         ],
         "yaxis": "y7"
        }
       ],
       "layout": {
        "annotations": [
         {
          "font": {},
          "showarrow": false,
          "text": "count",
          "x": 0.06142857142857142,
          "xanchor": "center",
          "xref": "paper",
          "y": 1,
          "yanchor": "bottom",
          "yref": "paper"
         },
         {
          "font": {},
          "showarrow": false,
          "text": "max",
          "x": 0.20428571428571426,
          "xanchor": "center",
          "xref": "paper",
          "y": 1,
          "yanchor": "bottom",
          "yref": "paper"
         },
         {
          "font": {},
          "showarrow": false,
          "text": "mean",
          "x": 0.3471428571428571,
          "xanchor": "center",
          "xref": "paper",
          "y": 1,
          "yanchor": "bottom",
          "yref": "paper"
         },
         {
          "font": {},
          "showarrow": false,
          "text": "min",
          "x": 0.49,
          "xanchor": "center",
          "xref": "paper",
          "y": 1,
          "yanchor": "bottom",
          "yref": "paper"
         },
         {
          "font": {},
          "showarrow": false,
          "text": "ratio",
          "x": 0.6328571428571428,
          "xanchor": "center",
          "xref": "paper",
          "y": 1,
          "yanchor": "bottom",
          "yref": "paper"
         },
         {
          "font": {},
          "showarrow": false,
          "text": "std",
          "x": 0.7757142857142856,
          "xanchor": "center",
          "xref": "paper",
          "y": 1,
          "yanchor": "bottom",
          "yref": "paper"
         },
         {
          "font": {},
          "showarrow": false,
          "text": "sum",
          "x": 0.9185714285714286,
          "xanchor": "center",
          "xref": "paper",
          "y": 1,
          "yanchor": "bottom",
          "yref": "paper"
         },
         {
          "font": {},
          "showarrow": false,
          "text": "retweet_count",
          "textangle": 90,
          "x": 0.98,
          "xanchor": "left",
          "xref": "paper",
          "y": 0.095,
          "yanchor": "middle",
          "yref": "paper"
         },
         {
          "font": {},
          "showarrow": false,
          "text": "reply_count",
          "textangle": 90,
          "x": 0.98,
          "xanchor": "left",
          "xref": "paper",
          "y": 0.365,
          "yanchor": "middle",
          "yref": "paper"
         },
         {
          "font": {},
          "showarrow": false,
          "text": "quote_count",
          "textangle": 90,
          "x": 0.98,
          "xanchor": "left",
          "xref": "paper",
          "y": 0.635,
          "yanchor": "middle",
          "yref": "paper"
         },
         {
          "font": {},
          "showarrow": false,
          "text": "like_count",
          "textangle": 90,
          "x": 0.98,
          "xanchor": "left",
          "xref": "paper",
          "y": 0.905,
          "yanchor": "middle",
          "yref": "paper"
         }
        ],
        "height": 1200,
        "legend": {
         "title": {
          "text": "newspaper"
         },
         "tracegroupgap": 0
        },
        "template": {
         "data": {
          "bar": [
           {
            "error_x": {
             "color": "#2a3f5f"
            },
            "error_y": {
             "color": "#2a3f5f"
            },
            "marker": {
             "line": {
              "color": "white",
              "width": 0.5
             },
             "pattern": {
              "fillmode": "overlay",
              "size": 10,
              "solidity": 0.2
             }
            },
            "type": "bar"
           }
          ],
          "barpolar": [
           {
            "marker": {
             "line": {
              "color": "white",
              "width": 0.5
             },
             "pattern": {
              "fillmode": "overlay",
              "size": 10,
              "solidity": 0.2
             }
            },
            "type": "barpolar"
           }
          ],
          "carpet": [
           {
            "aaxis": {
             "endlinecolor": "#2a3f5f",
             "gridcolor": "#C8D4E3",
             "linecolor": "#C8D4E3",
             "minorgridcolor": "#C8D4E3",
             "startlinecolor": "#2a3f5f"
            },
            "baxis": {
             "endlinecolor": "#2a3f5f",
             "gridcolor": "#C8D4E3",
             "linecolor": "#C8D4E3",
             "minorgridcolor": "#C8D4E3",
             "startlinecolor": "#2a3f5f"
            },
            "type": "carpet"
           }
          ],
          "choropleth": [
           {
            "colorbar": {
             "outlinewidth": 0,
             "ticks": ""
            },
            "type": "choropleth"
           }
          ],
          "contour": [
           {
            "colorbar": {
             "outlinewidth": 0,
             "ticks": ""
            },
            "colorscale": [
             [
              0,
              "#0d0887"
             ],
             [
              0.1111111111111111,
              "#46039f"
             ],
             [
              0.2222222222222222,
              "#7201a8"
             ],
             [
              0.3333333333333333,
              "#9c179e"
             ],
             [
              0.4444444444444444,
              "#bd3786"
             ],
             [
              0.5555555555555556,
              "#d8576b"
             ],
             [
              0.6666666666666666,
              "#ed7953"
             ],
             [
              0.7777777777777778,
              "#fb9f3a"
             ],
             [
              0.8888888888888888,
              "#fdca26"
             ],
             [
              1,
              "#f0f921"
             ]
            ],
            "type": "contour"
           }
          ],
          "contourcarpet": [
           {
            "colorbar": {
             "outlinewidth": 0,
             "ticks": ""
            },
            "type": "contourcarpet"
           }
          ],
          "heatmap": [
           {
            "colorbar": {
             "outlinewidth": 0,
             "ticks": ""
            },
            "colorscale": [
             [
              0,
              "#0d0887"
             ],
             [
              0.1111111111111111,
              "#46039f"
             ],
             [
              0.2222222222222222,
              "#7201a8"
             ],
             [
              0.3333333333333333,
              "#9c179e"
             ],
             [
              0.4444444444444444,
              "#bd3786"
             ],
             [
              0.5555555555555556,
              "#d8576b"
             ],
             [
              0.6666666666666666,
              "#ed7953"
             ],
             [
              0.7777777777777778,
              "#fb9f3a"
             ],
             [
              0.8888888888888888,
              "#fdca26"
             ],
             [
              1,
              "#f0f921"
             ]
            ],
            "type": "heatmap"
           }
          ],
          "heatmapgl": [
           {
            "colorbar": {
             "outlinewidth": 0,
             "ticks": ""
            },
            "colorscale": [
             [
              0,
              "#0d0887"
             ],
             [
              0.1111111111111111,
              "#46039f"
             ],
             [
              0.2222222222222222,
              "#7201a8"
             ],
             [
              0.3333333333333333,
              "#9c179e"
             ],
             [
              0.4444444444444444,
              "#bd3786"
             ],
             [
              0.5555555555555556,
              "#d8576b"
             ],
             [
              0.6666666666666666,
              "#ed7953"
             ],
             [
              0.7777777777777778,
              "#fb9f3a"
             ],
             [
              0.8888888888888888,
              "#fdca26"
             ],
             [
              1,
              "#f0f921"
             ]
            ],
            "type": "heatmapgl"
           }
          ],
          "histogram": [
           {
            "marker": {
             "pattern": {
              "fillmode": "overlay",
              "size": 10,
              "solidity": 0.2
             }
            },
            "type": "histogram"
           }
          ],
          "histogram2d": [
           {
            "colorbar": {
             "outlinewidth": 0,
             "ticks": ""
            },
            "colorscale": [
             [
              0,
              "#0d0887"
             ],
             [
              0.1111111111111111,
              "#46039f"
             ],
             [
              0.2222222222222222,
              "#7201a8"
             ],
             [
              0.3333333333333333,
              "#9c179e"
             ],
             [
              0.4444444444444444,
              "#bd3786"
             ],
             [
              0.5555555555555556,
              "#d8576b"
             ],
             [
              0.6666666666666666,
              "#ed7953"
             ],
             [
              0.7777777777777778,
              "#fb9f3a"
             ],
             [
              0.8888888888888888,
              "#fdca26"
             ],
             [
              1,
              "#f0f921"
             ]
            ],
            "type": "histogram2d"
           }
          ],
          "histogram2dcontour": [
           {
            "colorbar": {
             "outlinewidth": 0,
             "ticks": ""
            },
            "colorscale": [
             [
              0,
              "#0d0887"
             ],
             [
              0.1111111111111111,
              "#46039f"
             ],
             [
              0.2222222222222222,
              "#7201a8"
             ],
             [
              0.3333333333333333,
              "#9c179e"
             ],
             [
              0.4444444444444444,
              "#bd3786"
             ],
             [
              0.5555555555555556,
              "#d8576b"
             ],
             [
              0.6666666666666666,
              "#ed7953"
             ],
             [
              0.7777777777777778,
              "#fb9f3a"
             ],
             [
              0.8888888888888888,
              "#fdca26"
             ],
             [
              1,
              "#f0f921"
             ]
            ],
            "type": "histogram2dcontour"
           }
          ],
          "mesh3d": [
           {
            "colorbar": {
             "outlinewidth": 0,
             "ticks": ""
            },
            "type": "mesh3d"
           }
          ],
          "parcoords": [
           {
            "line": {
             "colorbar": {
              "outlinewidth": 0,
              "ticks": ""
             }
            },
            "type": "parcoords"
           }
          ],
          "pie": [
           {
            "automargin": true,
            "type": "pie"
           }
          ],
          "scatter": [
           {
            "fillpattern": {
             "fillmode": "overlay",
             "size": 10,
             "solidity": 0.2
            },
            "type": "scatter"
           }
          ],
          "scatter3d": [
           {
            "line": {
             "colorbar": {
              "outlinewidth": 0,
              "ticks": ""
             }
            },
            "marker": {
             "colorbar": {
              "outlinewidth": 0,
              "ticks": ""
             }
            },
            "type": "scatter3d"
           }
          ],
          "scattercarpet": [
           {
            "marker": {
             "colorbar": {
              "outlinewidth": 0,
              "ticks": ""
             }
            },
            "type": "scattercarpet"
           }
          ],
          "scattergeo": [
           {
            "marker": {
             "colorbar": {
              "outlinewidth": 0,
              "ticks": ""
             }
            },
            "type": "scattergeo"
           }
          ],
          "scattergl": [
           {
            "marker": {
             "colorbar": {
              "outlinewidth": 0,
              "ticks": ""
             }
            },
            "type": "scattergl"
           }
          ],
          "scattermapbox": [
           {
            "marker": {
             "colorbar": {
              "outlinewidth": 0,
              "ticks": ""
             }
            },
            "type": "scattermapbox"
           }
          ],
          "scatterpolar": [
           {
            "marker": {
             "colorbar": {
              "outlinewidth": 0,
              "ticks": ""
             }
            },
            "type": "scatterpolar"
           }
          ],
          "scatterpolargl": [
           {
            "marker": {
             "colorbar": {
              "outlinewidth": 0,
              "ticks": ""
             }
            },
            "type": "scatterpolargl"
           }
          ],
          "scatterternary": [
           {
            "marker": {
             "colorbar": {
              "outlinewidth": 0,
              "ticks": ""
             }
            },
            "type": "scatterternary"
           }
          ],
          "surface": [
           {
            "colorbar": {
             "outlinewidth": 0,
             "ticks": ""
            },
            "colorscale": [
             [
              0,
              "#0d0887"
             ],
             [
              0.1111111111111111,
              "#46039f"
             ],
             [
              0.2222222222222222,
              "#7201a8"
             ],
             [
              0.3333333333333333,
              "#9c179e"
             ],
             [
              0.4444444444444444,
              "#bd3786"
             ],
             [
              0.5555555555555556,
              "#d8576b"
             ],
             [
              0.6666666666666666,
              "#ed7953"
             ],
             [
              0.7777777777777778,
              "#fb9f3a"
             ],
             [
              0.8888888888888888,
              "#fdca26"
             ],
             [
              1,
              "#f0f921"
             ]
            ],
            "type": "surface"
           }
          ],
          "table": [
           {
            "cells": {
             "fill": {
              "color": "#EBF0F8"
             },
             "line": {
              "color": "white"
             }
            },
            "header": {
             "fill": {
              "color": "#C8D4E3"
             },
             "line": {
              "color": "white"
             }
            },
            "type": "table"
           }
          ]
         },
         "layout": {
          "annotationdefaults": {
           "arrowcolor": "#2a3f5f",
           "arrowhead": 0,
           "arrowwidth": 1
          },
          "autotypenumbers": "strict",
          "coloraxis": {
           "colorbar": {
            "outlinewidth": 0,
            "ticks": ""
           }
          },
          "colorscale": {
           "diverging": [
            [
             0,
             "#8e0152"
            ],
            [
             0.1,
             "#c51b7d"
            ],
            [
             0.2,
             "#de77ae"
            ],
            [
             0.3,
             "#f1b6da"
            ],
            [
             0.4,
             "#fde0ef"
            ],
            [
             0.5,
             "#f7f7f7"
            ],
            [
             0.6,
             "#e6f5d0"
            ],
            [
             0.7,
             "#b8e186"
            ],
            [
             0.8,
             "#7fbc41"
            ],
            [
             0.9,
             "#4d9221"
            ],
            [
             1,
             "#276419"
            ]
           ],
           "sequential": [
            [
             0,
             "#0d0887"
            ],
            [
             0.1111111111111111,
             "#46039f"
            ],
            [
             0.2222222222222222,
             "#7201a8"
            ],
            [
             0.3333333333333333,
             "#9c179e"
            ],
            [
             0.4444444444444444,
             "#bd3786"
            ],
            [
             0.5555555555555556,
             "#d8576b"
            ],
            [
             0.6666666666666666,
             "#ed7953"
            ],
            [
             0.7777777777777778,
             "#fb9f3a"
            ],
            [
             0.8888888888888888,
             "#fdca26"
            ],
            [
             1,
             "#f0f921"
            ]
           ],
           "sequentialminus": [
            [
             0,
             "#0d0887"
            ],
            [
             0.1111111111111111,
             "#46039f"
            ],
            [
             0.2222222222222222,
             "#7201a8"
            ],
            [
             0.3333333333333333,
             "#9c179e"
            ],
            [
             0.4444444444444444,
             "#bd3786"
            ],
            [
             0.5555555555555556,
             "#d8576b"
            ],
            [
             0.6666666666666666,
             "#ed7953"
            ],
            [
             0.7777777777777778,
             "#fb9f3a"
            ],
            [
             0.8888888888888888,
             "#fdca26"
            ],
            [
             1,
             "#f0f921"
            ]
           ]
          },
          "colorway": [
           "#636efa",
           "#EF553B",
           "#00cc96",
           "#ab63fa",
           "#FFA15A",
           "#19d3f3",
           "#FF6692",
           "#B6E880",
           "#FF97FF",
           "#FECB52"
          ],
          "font": {
           "color": "#2a3f5f"
          },
          "geo": {
           "bgcolor": "white",
           "lakecolor": "white",
           "landcolor": "white",
           "showlakes": true,
           "showland": true,
           "subunitcolor": "#C8D4E3"
          },
          "hoverlabel": {
           "align": "left"
          },
          "hovermode": "closest",
          "mapbox": {
           "style": "light"
          },
          "paper_bgcolor": "white",
          "plot_bgcolor": "white",
          "polar": {
           "angularaxis": {
            "gridcolor": "#EBF0F8",
            "linecolor": "#EBF0F8",
            "ticks": ""
           },
           "bgcolor": "white",
           "radialaxis": {
            "gridcolor": "#EBF0F8",
            "linecolor": "#EBF0F8",
            "ticks": ""
           }
          },
          "scene": {
           "xaxis": {
            "backgroundcolor": "white",
            "gridcolor": "#DFE8F3",
            "gridwidth": 2,
            "linecolor": "#EBF0F8",
            "showbackground": true,
            "ticks": "",
            "zerolinecolor": "#EBF0F8"
           },
           "yaxis": {
            "backgroundcolor": "white",
            "gridcolor": "#DFE8F3",
            "gridwidth": 2,
            "linecolor": "#EBF0F8",
            "showbackground": true,
            "ticks": "",
            "zerolinecolor": "#EBF0F8"
           },
           "zaxis": {
            "backgroundcolor": "white",
            "gridcolor": "#DFE8F3",
            "gridwidth": 2,
            "linecolor": "#EBF0F8",
            "showbackground": true,
            "ticks": "",
            "zerolinecolor": "#EBF0F8"
           }
          },
          "shapedefaults": {
           "line": {
            "color": "#2a3f5f"
           }
          },
          "ternary": {
           "aaxis": {
            "gridcolor": "#DFE8F3",
            "linecolor": "#A2B1C6",
            "ticks": ""
           },
           "baxis": {
            "gridcolor": "#DFE8F3",
            "linecolor": "#A2B1C6",
            "ticks": ""
           },
           "bgcolor": "white",
           "caxis": {
            "gridcolor": "#DFE8F3",
            "linecolor": "#A2B1C6",
            "ticks": ""
           }
          },
          "title": {
           "x": 0.05
          },
          "xaxis": {
           "automargin": true,
           "gridcolor": "#EBF0F8",
           "linecolor": "#EBF0F8",
           "ticks": "",
           "title": {
            "standoff": 15
           },
           "zerolinecolor": "#EBF0F8",
           "zerolinewidth": 2
          },
          "yaxis": {
           "automargin": true,
           "gridcolor": "#EBF0F8",
           "linecolor": "#EBF0F8",
           "ticks": "",
           "title": {
            "standoff": 15
           },
           "zerolinecolor": "#EBF0F8",
           "zerolinewidth": 2
          }
         }
        },
        "title": {
         "text": "Raw engagement stats per newspaper"
        },
        "width": 2100,
        "xaxis": {
         "anchor": "y",
         "domain": [
          0,
          0.12285714285714285
         ],
         "showticklabels": true,
         "tickangle": -45,
         "title": {
          "text": "year_week"
         }
        },
        "xaxis10": {
         "anchor": "y10",
         "domain": [
          0.2857142857142857,
          0.40857142857142853
         ],
         "matches": "x",
         "showticklabels": true,
         "tickangle": -45
        },
        "xaxis11": {
         "anchor": "y11",
         "domain": [
          0.42857142857142855,
          0.5514285714285714
         ],
         "matches": "x",
         "showticklabels": true,
         "tickangle": -45
        },
        "xaxis12": {
         "anchor": "y12",
         "domain": [
          0.5714285714285714,
          0.6942857142857143
         ],
         "matches": "x",
         "showticklabels": true,
         "tickangle": -45
        },
        "xaxis13": {
         "anchor": "y13",
         "domain": [
          0.7142857142857142,
          0.8371428571428571
         ],
         "matches": "x",
         "showticklabels": true,
         "tickangle": -45
        },
        "xaxis14": {
         "anchor": "y14",
         "domain": [
          0.8571428571428571,
          0.98
         ],
         "matches": "x",
         "showticklabels": true,
         "tickangle": -45
        },
        "xaxis15": {
         "anchor": "y15",
         "domain": [
          0,
          0.12285714285714285
         ],
         "matches": "x",
         "showticklabels": true,
         "tickangle": -45
        },
        "xaxis16": {
         "anchor": "y16",
         "domain": [
          0.14285714285714285,
          0.2657142857142857
         ],
         "matches": "x",
         "showticklabels": true,
         "tickangle": -45
        },
        "xaxis17": {
         "anchor": "y17",
         "domain": [
          0.2857142857142857,
          0.40857142857142853
         ],
         "matches": "x",
         "showticklabels": true,
         "tickangle": -45
        },
        "xaxis18": {
         "anchor": "y18",
         "domain": [
          0.42857142857142855,
          0.5514285714285714
         ],
         "matches": "x",
         "showticklabels": true,
         "tickangle": -45
        },
        "xaxis19": {
         "anchor": "y19",
         "domain": [
          0.5714285714285714,
          0.6942857142857143
         ],
         "matches": "x",
         "showticklabels": true,
         "tickangle": -45
        },
        "xaxis2": {
         "anchor": "y2",
         "domain": [
          0.14285714285714285,
          0.2657142857142857
         ],
         "matches": "x",
         "showticklabels": true,
         "tickangle": -45,
         "title": {
          "text": "year_week"
         }
        },
        "xaxis20": {
         "anchor": "y20",
         "domain": [
          0.7142857142857142,
          0.8371428571428571
         ],
         "matches": "x",
         "showticklabels": true,
         "tickangle": -45
        },
        "xaxis21": {
         "anchor": "y21",
         "domain": [
          0.8571428571428571,
          0.98
         ],
         "matches": "x",
         "showticklabels": true,
         "tickangle": -45
        },
        "xaxis22": {
         "anchor": "y22",
         "domain": [
          0,
          0.12285714285714285
         ],
         "matches": "x",
         "showticklabels": true,
         "tickangle": -45
        },
        "xaxis23": {
         "anchor": "y23",
         "domain": [
          0.14285714285714285,
          0.2657142857142857
         ],
         "matches": "x",
         "showticklabels": true,
         "tickangle": -45
        },
        "xaxis24": {
         "anchor": "y24",
         "domain": [
          0.2857142857142857,
          0.40857142857142853
         ],
         "matches": "x",
         "showticklabels": true,
         "tickangle": -45
        },
        "xaxis25": {
         "anchor": "y25",
         "domain": [
          0.42857142857142855,
          0.5514285714285714
         ],
         "matches": "x",
         "showticklabels": true,
         "tickangle": -45
        },
        "xaxis26": {
         "anchor": "y26",
         "domain": [
          0.5714285714285714,
          0.6942857142857143
         ],
         "matches": "x",
         "showticklabels": true,
         "tickangle": -45
        },
        "xaxis27": {
         "anchor": "y27",
         "domain": [
          0.7142857142857142,
          0.8371428571428571
         ],
         "matches": "x",
         "showticklabels": true,
         "tickangle": -45
        },
        "xaxis28": {
         "anchor": "y28",
         "domain": [
          0.8571428571428571,
          0.98
         ],
         "matches": "x",
         "showticklabels": true,
         "tickangle": -45
        },
        "xaxis3": {
         "anchor": "y3",
         "domain": [
          0.2857142857142857,
          0.40857142857142853
         ],
         "matches": "x",
         "showticklabels": true,
         "tickangle": -45,
         "title": {
          "text": "year_week"
         }
        },
        "xaxis4": {
         "anchor": "y4",
         "domain": [
          0.42857142857142855,
          0.5514285714285714
         ],
         "matches": "x",
         "showticklabels": true,
         "tickangle": -45,
         "title": {
          "text": "year_week"
         }
        },
        "xaxis5": {
         "anchor": "y5",
         "domain": [
          0.5714285714285714,
          0.6942857142857143
         ],
         "matches": "x",
         "showticklabels": true,
         "tickangle": -45,
         "title": {
          "text": "year_week"
         }
        },
        "xaxis6": {
         "anchor": "y6",
         "domain": [
          0.7142857142857142,
          0.8371428571428571
         ],
         "matches": "x",
         "showticklabels": true,
         "tickangle": -45,
         "title": {
          "text": "year_week"
         }
        },
        "xaxis7": {
         "anchor": "y7",
         "domain": [
          0.8571428571428571,
          0.98
         ],
         "matches": "x",
         "showticklabels": true,
         "tickangle": -45,
         "title": {
          "text": "year_week"
         }
        },
        "xaxis8": {
         "anchor": "y8",
         "domain": [
          0,
          0.12285714285714285
         ],
         "matches": "x",
         "showticklabels": true,
         "tickangle": -45
        },
        "xaxis9": {
         "anchor": "y9",
         "domain": [
          0.14285714285714285,
          0.2657142857142857
         ],
         "matches": "x",
         "showticklabels": true,
         "tickangle": -45
        },
        "yaxis": {
         "anchor": "x",
         "domain": [
          0,
          0.19
         ],
         "showticklabels": true,
         "title": {
          "text": "value"
         }
        },
        "yaxis10": {
         "anchor": "x10",
         "domain": [
          0.27,
          0.46
         ],
         "showticklabels": true
        },
        "yaxis11": {
         "anchor": "x11",
         "domain": [
          0.27,
          0.46
         ],
         "showticklabels": true
        },
        "yaxis12": {
         "anchor": "x12",
         "domain": [
          0.27,
          0.46
         ],
         "showticklabels": true
        },
        "yaxis13": {
         "anchor": "x13",
         "domain": [
          0.27,
          0.46
         ],
         "showticklabels": true
        },
        "yaxis14": {
         "anchor": "x14",
         "domain": [
          0.27,
          0.46
         ],
         "showticklabels": true
        },
        "yaxis15": {
         "anchor": "x15",
         "domain": [
          0.54,
          0.73
         ],
         "showticklabels": true,
         "title": {
          "text": "value"
         }
        },
        "yaxis16": {
         "anchor": "x16",
         "domain": [
          0.54,
          0.73
         ],
         "showticklabels": true
        },
        "yaxis17": {
         "anchor": "x17",
         "domain": [
          0.54,
          0.73
         ],
         "showticklabels": true
        },
        "yaxis18": {
         "anchor": "x18",
         "domain": [
          0.54,
          0.73
         ],
         "showticklabels": true
        },
        "yaxis19": {
         "anchor": "x19",
         "domain": [
          0.54,
          0.73
         ],
         "showticklabels": true
        },
        "yaxis2": {
         "anchor": "x2",
         "domain": [
          0,
          0.19
         ],
         "showticklabels": true
        },
        "yaxis20": {
         "anchor": "x20",
         "domain": [
          0.54,
          0.73
         ],
         "showticklabels": true
        },
        "yaxis21": {
         "anchor": "x21",
         "domain": [
          0.54,
          0.73
         ],
         "showticklabels": true
        },
        "yaxis22": {
         "anchor": "x22",
         "domain": [
          0.81,
          1
         ],
         "showticklabels": true,
         "title": {
          "text": "value"
         }
        },
        "yaxis23": {
         "anchor": "x23",
         "domain": [
          0.81,
          1
         ],
         "showticklabels": true
        },
        "yaxis24": {
         "anchor": "x24",
         "domain": [
          0.81,
          1
         ],
         "showticklabels": true
        },
        "yaxis25": {
         "anchor": "x25",
         "domain": [
          0.81,
          1
         ],
         "showticklabels": true
        },
        "yaxis26": {
         "anchor": "x26",
         "domain": [
          0.81,
          1
         ],
         "showticklabels": true
        },
        "yaxis27": {
         "anchor": "x27",
         "domain": [
          0.81,
          1
         ],
         "showticklabels": true
        },
        "yaxis28": {
         "anchor": "x28",
         "domain": [
          0.81,
          1
         ],
         "showticklabels": true
        },
        "yaxis3": {
         "anchor": "x3",
         "domain": [
          0,
          0.19
         ],
         "showticklabels": true
        },
        "yaxis4": {
         "anchor": "x4",
         "domain": [
          0,
          0.19
         ],
         "showticklabels": true
        },
        "yaxis5": {
         "anchor": "x5",
         "domain": [
          0,
          0.19
         ],
         "showticklabels": true
        },
        "yaxis6": {
         "anchor": "x6",
         "domain": [
          0,
          0.19
         ],
         "showticklabels": true
        },
        "yaxis7": {
         "anchor": "x7",
         "domain": [
          0,
          0.19
         ],
         "showticklabels": true
        },
        "yaxis8": {
         "anchor": "x8",
         "domain": [
          0.27,
          0.46
         ],
         "showticklabels": true,
         "title": {
          "text": "value"
         }
        },
        "yaxis9": {
         "anchor": "x9",
         "domain": [
          0.27,
          0.46
         ],
         "showticklabels": true
        }
       }
      }
     },
     "metadata": {},
     "output_type": "display_data"
    }
   ],
   "source": [
    "fig = px.line(\n",
    "    stats_summary,\n",
    "    x=\"year_week\",\n",
    "    y=\"value\",\n",
    "    color=\"newspaper\",\n",
    "    facet_row=\"metric\",\n",
    "    facet_row_spacing=0.08,\n",
    "    facet_col=\"stat\",\n",
    "    color_discrete_sequence=gruvbox_colors,\n",
    "    title=\"Raw engagement stats per newspaper\",\n",
    "    width=2100,\n",
    "    height=1200\n",
    ")\n",
    "\n",
    "fig.for_each_annotation(lambda a: a.update(text=f\"{a.text.split('=')[-1]}\"))\n",
    "fig.update_xaxes(showticklabels=True, tickangle = -45)\n",
    "fig.update_yaxes(matches=None, showticklabels=True)\n",
    "\n",
    "fig.show()"
   ]
  },
  {
   "cell_type": "code",
   "execution_count": 51,
   "metadata": {},
   "outputs": [],
   "source": [
    "stats_summary.to_csv(f'{BASE_DIR}/reports/tables/raw_stats_summary-{TIME_STAMPS[0]}-{TIME_STAMPS[-1]}.csv')"
   ]
  },
  {
   "attachments": {},
   "cell_type": "markdown",
   "metadata": {},
   "source": [
    "### Stats for most used words\n",
    "\n",
    "With this bit I want to find out which are the words that drive the most engagement for the newspaper durin the time period selected. For that I'll be building a small dashboard application using [Plotly Dash](https://dash.plotly.com)"
   ]
  },
  {
   "cell_type": "code",
   "execution_count": 52,
   "metadata": {},
   "outputs": [
    {
     "data": {
      "text/html": [
       "<div>\n",
       "<style scoped>\n",
       "    .dataframe tbody tr th:only-of-type {\n",
       "        vertical-align: middle;\n",
       "    }\n",
       "\n",
       "    .dataframe tbody tr th {\n",
       "        vertical-align: top;\n",
       "    }\n",
       "\n",
       "    .dataframe thead th {\n",
       "        text-align: right;\n",
       "    }\n",
       "</style>\n",
       "<table border=\"1\" class=\"dataframe\">\n",
       "  <thead>\n",
       "    <tr style=\"text-align: right;\">\n",
       "      <th></th>\n",
       "      <th>newspaper</th>\n",
       "      <th>year</th>\n",
       "      <th>week</th>\n",
       "      <th>word</th>\n",
       "      <th>count</th>\n",
       "      <th>hot_topics</th>\n",
       "    </tr>\n",
       "  </thead>\n",
       "  <tbody>\n",
       "    <tr>\n",
       "      <th>0</th>\n",
       "      <td>DiarioElPeruano</td>\n",
       "      <td>2022</td>\n",
       "      <td>33</td>\n",
       "      <td>nacional</td>\n",
       "      <td>29.00</td>\n",
       "      <td></td>\n",
       "    </tr>\n",
       "    <tr>\n",
       "      <th>1</th>\n",
       "      <td>DiarioElPeruano</td>\n",
       "      <td>2022</td>\n",
       "      <td>33</td>\n",
       "      <td>presidente</td>\n",
       "      <td>27.00</td>\n",
       "      <td></td>\n",
       "    </tr>\n",
       "    <tr>\n",
       "      <th>2</th>\n",
       "      <td>DiarioElPeruano</td>\n",
       "      <td>2022</td>\n",
       "      <td>33</td>\n",
       "      <td>país</td>\n",
       "      <td>24.00</td>\n",
       "      <td>país</td>\n",
       "    </tr>\n",
       "    <tr>\n",
       "      <th>3</th>\n",
       "      <td>DiarioElPeruano</td>\n",
       "      <td>2022</td>\n",
       "      <td>33</td>\n",
       "      <td>pedro</td>\n",
       "      <td>22.00</td>\n",
       "      <td>castillo</td>\n",
       "    </tr>\n",
       "    <tr>\n",
       "      <th>4</th>\n",
       "      <td>DiarioElPeruano</td>\n",
       "      <td>2022</td>\n",
       "      <td>33</td>\n",
       "      <td>castillo</td>\n",
       "      <td>22.00</td>\n",
       "      <td>castillo</td>\n",
       "    </tr>\n",
       "  </tbody>\n",
       "</table>\n",
       "</div>"
      ],
      "text/plain": [
       "         newspaper  year  week        word  count hot_topics\n",
       "0  DiarioElPeruano  2022    33    nacional  29.00           \n",
       "1  DiarioElPeruano  2022    33  presidente  27.00           \n",
       "2  DiarioElPeruano  2022    33        país  24.00       país\n",
       "3  DiarioElPeruano  2022    33       pedro  22.00   castillo\n",
       "4  DiarioElPeruano  2022    33    castillo  22.00   castillo"
      ]
     },
     "execution_count": 52,
     "metadata": {},
     "output_type": "execute_result"
    }
   ],
   "source": [
    "top30_df.head()"
   ]
  },
  {
   "cell_type": "code",
   "execution_count": 53,
   "metadata": {},
   "outputs": [
    {
     "data": {
      "text/html": [
       "<div>\n",
       "<style scoped>\n",
       "    .dataframe tbody tr th:only-of-type {\n",
       "        vertical-align: middle;\n",
       "    }\n",
       "\n",
       "    .dataframe tbody tr th {\n",
       "        vertical-align: top;\n",
       "    }\n",
       "\n",
       "    .dataframe thead th {\n",
       "        text-align: right;\n",
       "    }\n",
       "</style>\n",
       "<table border=\"1\" class=\"dataframe\">\n",
       "  <thead>\n",
       "    <tr style=\"text-align: right;\">\n",
       "      <th></th>\n",
       "      <th>id</th>\n",
       "      <th>created_at</th>\n",
       "      <th>newspaper</th>\n",
       "      <th>corpus</th>\n",
       "      <th>word</th>\n",
       "    </tr>\n",
       "    <tr>\n",
       "      <th>index</th>\n",
       "      <th></th>\n",
       "      <th></th>\n",
       "      <th></th>\n",
       "      <th></th>\n",
       "      <th></th>\n",
       "    </tr>\n",
       "  </thead>\n",
       "  <tbody>\n",
       "    <tr>\n",
       "      <th>0</th>\n",
       "      <td>1564039479391838209</td>\n",
       "      <td>2022-08-28 23:57:24+00:00</td>\n",
       "      <td>elcomercio_peru</td>\n",
       "      <td>venezuela colombia retoman relaciones diplomáticas rotas hace tres años</td>\n",
       "      <td>venezuela</td>\n",
       "    </tr>\n",
       "    <tr>\n",
       "      <th>0</th>\n",
       "      <td>1564039479391838209</td>\n",
       "      <td>2022-08-28 23:57:24+00:00</td>\n",
       "      <td>elcomercio_peru</td>\n",
       "      <td>venezuela colombia retoman relaciones diplomáticas rotas hace tres años</td>\n",
       "      <td>colombia</td>\n",
       "    </tr>\n",
       "    <tr>\n",
       "      <th>0</th>\n",
       "      <td>1564039479391838209</td>\n",
       "      <td>2022-08-28 23:57:24+00:00</td>\n",
       "      <td>elcomercio_peru</td>\n",
       "      <td>venezuela colombia retoman relaciones diplomáticas rotas hace tres años</td>\n",
       "      <td>retoman</td>\n",
       "    </tr>\n",
       "    <tr>\n",
       "      <th>0</th>\n",
       "      <td>1564039479391838209</td>\n",
       "      <td>2022-08-28 23:57:24+00:00</td>\n",
       "      <td>elcomercio_peru</td>\n",
       "      <td>venezuela colombia retoman relaciones diplomáticas rotas hace tres años</td>\n",
       "      <td>relaciones</td>\n",
       "    </tr>\n",
       "    <tr>\n",
       "      <th>0</th>\n",
       "      <td>1564039479391838209</td>\n",
       "      <td>2022-08-28 23:57:24+00:00</td>\n",
       "      <td>elcomercio_peru</td>\n",
       "      <td>venezuela colombia retoman relaciones diplomáticas rotas hace tres años</td>\n",
       "      <td>diplomáticas</td>\n",
       "    </tr>\n",
       "  </tbody>\n",
       "</table>\n",
       "</div>"
      ],
      "text/plain": [
       "                        id                created_at        newspaper  \\\n",
       "index                                                                   \n",
       "0      1564039479391838209 2022-08-28 23:57:24+00:00  elcomercio_peru   \n",
       "0      1564039479391838209 2022-08-28 23:57:24+00:00  elcomercio_peru   \n",
       "0      1564039479391838209 2022-08-28 23:57:24+00:00  elcomercio_peru   \n",
       "0      1564039479391838209 2022-08-28 23:57:24+00:00  elcomercio_peru   \n",
       "0      1564039479391838209 2022-08-28 23:57:24+00:00  elcomercio_peru   \n",
       "\n",
       "                                                                         corpus  \\\n",
       "index                                                                             \n",
       "0      venezuela colombia retoman relaciones diplomáticas rotas hace tres años    \n",
       "0      venezuela colombia retoman relaciones diplomáticas rotas hace tres años    \n",
       "0      venezuela colombia retoman relaciones diplomáticas rotas hace tres años    \n",
       "0      venezuela colombia retoman relaciones diplomáticas rotas hace tres años    \n",
       "0      venezuela colombia retoman relaciones diplomáticas rotas hace tres años    \n",
       "\n",
       "               word  \n",
       "index                \n",
       "0         venezuela  \n",
       "0          colombia  \n",
       "0           retoman  \n",
       "0        relaciones  \n",
       "0      diplomáticas  "
      ]
     },
     "execution_count": 53,
     "metadata": {},
     "output_type": "execute_result"
    }
   ],
   "source": [
    "data_dtm.head()"
   ]
  },
  {
   "cell_type": "code",
   "execution_count": 54,
   "metadata": {},
   "outputs": [
    {
     "data": {
      "text/html": [
       "<div>\n",
       "<style scoped>\n",
       "    .dataframe tbody tr th:only-of-type {\n",
       "        vertical-align: middle;\n",
       "    }\n",
       "\n",
       "    .dataframe tbody tr th {\n",
       "        vertical-align: top;\n",
       "    }\n",
       "\n",
       "    .dataframe thead th {\n",
       "        text-align: right;\n",
       "    }\n",
       "</style>\n",
       "<table border=\"1\" class=\"dataframe\">\n",
       "  <thead>\n",
       "    <tr style=\"text-align: right;\">\n",
       "      <th></th>\n",
       "      <th>created_at</th>\n",
       "      <th>possibly_sensitive</th>\n",
       "      <th>id</th>\n",
       "      <th>retweet_count</th>\n",
       "      <th>reply_count</th>\n",
       "      <th>like_count</th>\n",
       "      <th>quote_count</th>\n",
       "      <th>referenced_tweets</th>\n",
       "      <th>newspaper</th>\n",
       "      <th>edit_history_tweet_ids</th>\n",
       "      <th>impression_count</th>\n",
       "      <th>year</th>\n",
       "      <th>week</th>\n",
       "    </tr>\n",
       "    <tr>\n",
       "      <th>index</th>\n",
       "      <th></th>\n",
       "      <th></th>\n",
       "      <th></th>\n",
       "      <th></th>\n",
       "      <th></th>\n",
       "      <th></th>\n",
       "      <th></th>\n",
       "      <th></th>\n",
       "      <th></th>\n",
       "      <th></th>\n",
       "      <th></th>\n",
       "      <th></th>\n",
       "      <th></th>\n",
       "    </tr>\n",
       "  </thead>\n",
       "  <tbody>\n",
       "    <tr>\n",
       "      <th>0</th>\n",
       "      <td>2022-08-28 23:57:24+00:00</td>\n",
       "      <td>False</td>\n",
       "      <td>1564039479391838209</td>\n",
       "      <td>0</td>\n",
       "      <td>0</td>\n",
       "      <td>6</td>\n",
       "      <td>1</td>\n",
       "      <td>None</td>\n",
       "      <td>elcomercio_peru</td>\n",
       "      <td>None</td>\n",
       "      <td>NaN</td>\n",
       "      <td>2022</td>\n",
       "      <td>34</td>\n",
       "    </tr>\n",
       "    <tr>\n",
       "      <th>2</th>\n",
       "      <td>2022-08-28 23:29:00+00:00</td>\n",
       "      <td>False</td>\n",
       "      <td>1564032331706470401</td>\n",
       "      <td>0</td>\n",
       "      <td>0</td>\n",
       "      <td>2</td>\n",
       "      <td>0</td>\n",
       "      <td>None</td>\n",
       "      <td>elcomercio_peru</td>\n",
       "      <td>None</td>\n",
       "      <td>NaN</td>\n",
       "      <td>2022</td>\n",
       "      <td>34</td>\n",
       "    </tr>\n",
       "    <tr>\n",
       "      <th>3</th>\n",
       "      <td>2022-08-28 23:14:11+00:00</td>\n",
       "      <td>False</td>\n",
       "      <td>1564028601053347843</td>\n",
       "      <td>6</td>\n",
       "      <td>7</td>\n",
       "      <td>18</td>\n",
       "      <td>1</td>\n",
       "      <td>None</td>\n",
       "      <td>elcomercio_peru</td>\n",
       "      <td>None</td>\n",
       "      <td>NaN</td>\n",
       "      <td>2022</td>\n",
       "      <td>34</td>\n",
       "    </tr>\n",
       "    <tr>\n",
       "      <th>5</th>\n",
       "      <td>2022-08-28 22:54:58+00:00</td>\n",
       "      <td>False</td>\n",
       "      <td>1564023766937731073</td>\n",
       "      <td>1</td>\n",
       "      <td>0</td>\n",
       "      <td>1</td>\n",
       "      <td>1</td>\n",
       "      <td>None</td>\n",
       "      <td>elcomercio_peru</td>\n",
       "      <td>None</td>\n",
       "      <td>NaN</td>\n",
       "      <td>2022</td>\n",
       "      <td>34</td>\n",
       "    </tr>\n",
       "    <tr>\n",
       "      <th>7</th>\n",
       "      <td>2022-08-28 22:30:25+00:00</td>\n",
       "      <td>False</td>\n",
       "      <td>1564017585561141248</td>\n",
       "      <td>3</td>\n",
       "      <td>0</td>\n",
       "      <td>8</td>\n",
       "      <td>0</td>\n",
       "      <td>None</td>\n",
       "      <td>elcomercio_peru</td>\n",
       "      <td>None</td>\n",
       "      <td>NaN</td>\n",
       "      <td>2022</td>\n",
       "      <td>34</td>\n",
       "    </tr>\n",
       "  </tbody>\n",
       "</table>\n",
       "</div>"
      ],
      "text/plain": [
       "                     created_at  possibly_sensitive                   id  \\\n",
       "index                                                                      \n",
       "0     2022-08-28 23:57:24+00:00               False  1564039479391838209   \n",
       "2     2022-08-28 23:29:00+00:00               False  1564032331706470401   \n",
       "3     2022-08-28 23:14:11+00:00               False  1564028601053347843   \n",
       "5     2022-08-28 22:54:58+00:00               False  1564023766937731073   \n",
       "7     2022-08-28 22:30:25+00:00               False  1564017585561141248   \n",
       "\n",
       "       retweet_count  reply_count  like_count  quote_count referenced_tweets  \\\n",
       "index                                                                          \n",
       "0                  0            0           6            1              None   \n",
       "2                  0            0           2            0              None   \n",
       "3                  6            7          18            1              None   \n",
       "5                  1            0           1            1              None   \n",
       "7                  3            0           8            0              None   \n",
       "\n",
       "             newspaper edit_history_tweet_ids  impression_count  year  week  \n",
       "index                                                                        \n",
       "0      elcomercio_peru                   None               NaN  2022    34  \n",
       "2      elcomercio_peru                   None               NaN  2022    34  \n",
       "3      elcomercio_peru                   None               NaN  2022    34  \n",
       "5      elcomercio_peru                   None               NaN  2022    34  \n",
       "7      elcomercio_peru                   None               NaN  2022    34  "
      ]
     },
     "execution_count": 54,
     "metadata": {},
     "output_type": "execute_result"
    }
   ],
   "source": [
    "stats_data.head()"
   ]
  },
  {
   "cell_type": "code",
   "execution_count": 55,
   "metadata": {},
   "outputs": [],
   "source": [
    "data_dtm[\"year\"] = data_dtm[\"created_at\"].dt.isocalendar().year\n",
    "data_dtm[\"week\"] = data_dtm[\"created_at\"].dt.isocalendar().week"
   ]
  },
  {
   "cell_type": "code",
   "execution_count": 56,
   "metadata": {},
   "outputs": [],
   "source": [
    "top30_ids = pd.merge(data_dtm, top30_df,how=\"right\", on=[\"newspaper\", \"year\", \"week\", \"word\"])\n",
    "top30_ids.dropna(subset=[\"id\"], inplace=True)"
   ]
  },
  {
   "cell_type": "code",
   "execution_count": 57,
   "metadata": {},
   "outputs": [],
   "source": [
    "top30_stats = pd.merge(top30_ids, stats_data, how=\"left\", on=[\"id\", \"created_at\", \"newspaper\", \"year\", \"week\"])"
   ]
  },
  {
   "cell_type": "code",
   "execution_count": 58,
   "metadata": {},
   "outputs": [
    {
     "data": {
      "text/html": [
       "<div>\n",
       "<style scoped>\n",
       "    .dataframe tbody tr th:only-of-type {\n",
       "        vertical-align: middle;\n",
       "    }\n",
       "\n",
       "    .dataframe tbody tr th {\n",
       "        vertical-align: top;\n",
       "    }\n",
       "\n",
       "    .dataframe thead th {\n",
       "        text-align: right;\n",
       "    }\n",
       "</style>\n",
       "<table border=\"1\" class=\"dataframe\">\n",
       "  <thead>\n",
       "    <tr style=\"text-align: right;\">\n",
       "      <th></th>\n",
       "      <th>id</th>\n",
       "      <th>created_at</th>\n",
       "      <th>newspaper</th>\n",
       "      <th>corpus</th>\n",
       "      <th>word</th>\n",
       "      <th>year</th>\n",
       "      <th>week</th>\n",
       "      <th>count</th>\n",
       "      <th>hot_topics</th>\n",
       "      <th>possibly_sensitive</th>\n",
       "      <th>retweet_count</th>\n",
       "      <th>reply_count</th>\n",
       "      <th>like_count</th>\n",
       "      <th>quote_count</th>\n",
       "      <th>referenced_tweets</th>\n",
       "      <th>edit_history_tweet_ids</th>\n",
       "      <th>impression_count</th>\n",
       "    </tr>\n",
       "  </thead>\n",
       "  <tbody>\n",
       "    <tr>\n",
       "      <th>0</th>\n",
       "      <td>1561458368761303040</td>\n",
       "      <td>2022-08-21 21:01:00+00:00</td>\n",
       "      <td>DiarioElPeruano</td>\n",
       "      <td>mayoría de fallecidos por accidentes de tránsito en lima tiene entre años revela la policía nacional del perú</td>\n",
       "      <td>nacional</td>\n",
       "      <td>2022</td>\n",
       "      <td>33</td>\n",
       "      <td>29.00</td>\n",
       "      <td></td>\n",
       "      <td>False</td>\n",
       "      <td>2</td>\n",
       "      <td>0</td>\n",
       "      <td>9</td>\n",
       "      <td>0</td>\n",
       "      <td>None</td>\n",
       "      <td>None</td>\n",
       "      <td>NaN</td>\n",
       "    </tr>\n",
       "    <tr>\n",
       "      <th>1</th>\n",
       "      <td>1561378843180630016</td>\n",
       "      <td>2022-08-21 15:44:59+00:00</td>\n",
       "      <td>DiarioElPeruano</td>\n",
       "      <td>el titular del midagriperu andrés alencastre manifestó la necesidad de recuperar la institucionalidad de la autoridad nacional del agua anaperu generar mayores espacios de participación de las organizaciones de usuarios de riego</td>\n",
       "      <td>nacional</td>\n",
       "      <td>2022</td>\n",
       "      <td>33</td>\n",
       "      <td>29.00</td>\n",
       "      <td></td>\n",
       "      <td>False</td>\n",
       "      <td>0</td>\n",
       "      <td>0</td>\n",
       "      <td>3</td>\n",
       "      <td>0</td>\n",
       "      <td>None</td>\n",
       "      <td>None</td>\n",
       "      <td>NaN</td>\n",
       "    </tr>\n",
       "    <tr>\n",
       "      <th>2</th>\n",
       "      <td>1561063176606826507</td>\n",
       "      <td>2022-08-20 18:50:39+00:00</td>\n",
       "      <td>DiarioElPeruano</td>\n",
       "      <td>el proceso de revisión construcción del currículo nacional permitirá contar con un documento diversificado flexible señaló el ministro de educación mineduperu rosendo serna</td>\n",
       "      <td>nacional</td>\n",
       "      <td>2022</td>\n",
       "      <td>33</td>\n",
       "      <td>29.00</td>\n",
       "      <td></td>\n",
       "      <td>False</td>\n",
       "      <td>1</td>\n",
       "      <td>1</td>\n",
       "      <td>14</td>\n",
       "      <td>1</td>\n",
       "      <td>None</td>\n",
       "      <td>None</td>\n",
       "      <td>NaN</td>\n",
       "    </tr>\n",
       "    <tr>\n",
       "      <th>3</th>\n",
       "      <td>1561044528047370240</td>\n",
       "      <td>2022-08-20 17:36:32+00:00</td>\n",
       "      <td>DiarioElPeruano</td>\n",
       "      <td>especialistas del hospital nacional guillermo almenara de essaludperu reconstruyeron el esófago de una adolescente de años para que hoy pueda ingerir alimentos con normalidad luego de pasar años conectada una sonda gástrica</td>\n",
       "      <td>nacional</td>\n",
       "      <td>2022</td>\n",
       "      <td>33</td>\n",
       "      <td>29.00</td>\n",
       "      <td></td>\n",
       "      <td>False</td>\n",
       "      <td>3</td>\n",
       "      <td>0</td>\n",
       "      <td>17</td>\n",
       "      <td>0</td>\n",
       "      <td>None</td>\n",
       "      <td>None</td>\n",
       "      <td>NaN</td>\n",
       "    </tr>\n",
       "    <tr>\n",
       "      <th>4</th>\n",
       "      <td>1561006996408733698</td>\n",
       "      <td>2022-08-20 15:07:24+00:00</td>\n",
       "      <td>DiarioElPeruano</td>\n",
       "      <td>el programa nacional de bienes incautados pronabi entregó en custodia con fines de asignación vehículos un inmueble seis embarcaciones instituciones públicas de las regiones piura cajamarca amazonas lambayeque</td>\n",
       "      <td>nacional</td>\n",
       "      <td>2022</td>\n",
       "      <td>33</td>\n",
       "      <td>29.00</td>\n",
       "      <td></td>\n",
       "      <td>False</td>\n",
       "      <td>1</td>\n",
       "      <td>0</td>\n",
       "      <td>6</td>\n",
       "      <td>0</td>\n",
       "      <td>None</td>\n",
       "      <td>None</td>\n",
       "      <td>NaN</td>\n",
       "    </tr>\n",
       "  </tbody>\n",
       "</table>\n",
       "</div>"
      ],
      "text/plain": [
       "                    id                created_at        newspaper  \\\n",
       "0  1561458368761303040 2022-08-21 21:01:00+00:00  DiarioElPeruano   \n",
       "1  1561378843180630016 2022-08-21 15:44:59+00:00  DiarioElPeruano   \n",
       "2  1561063176606826507 2022-08-20 18:50:39+00:00  DiarioElPeruano   \n",
       "3  1561044528047370240 2022-08-20 17:36:32+00:00  DiarioElPeruano   \n",
       "4  1561006996408733698 2022-08-20 15:07:24+00:00  DiarioElPeruano   \n",
       "\n",
       "                                                                                                                                                                                                                                   corpus  \\\n",
       "0                                                                                                                         mayoría de fallecidos por accidentes de tránsito en lima tiene entre años revela la policía nacional del perú     \n",
       "1  el titular del midagriperu andrés alencastre manifestó la necesidad de recuperar la institucionalidad de la autoridad nacional del agua anaperu generar mayores espacios de participación de las organizaciones de usuarios de riego     \n",
       "2                                                         el proceso de revisión construcción del currículo nacional permitirá contar con un documento diversificado flexible señaló el ministro de educación mineduperu rosendo serna      \n",
       "3       especialistas del hospital nacional guillermo almenara de essaludperu reconstruyeron el esófago de una adolescente de años para que hoy pueda ingerir alimentos con normalidad luego de pasar años conectada una sonda gástrica     \n",
       "4                     el programa nacional de bienes incautados pronabi entregó en custodia con fines de asignación vehículos un inmueble seis embarcaciones instituciones públicas de las regiones piura cajamarca amazonas lambayeque     \n",
       "\n",
       "       word  year  week  count hot_topics  possibly_sensitive  retweet_count  \\\n",
       "0  nacional  2022    33  29.00                          False              2   \n",
       "1  nacional  2022    33  29.00                          False              0   \n",
       "2  nacional  2022    33  29.00                          False              1   \n",
       "3  nacional  2022    33  29.00                          False              3   \n",
       "4  nacional  2022    33  29.00                          False              1   \n",
       "\n",
       "   reply_count  like_count  quote_count referenced_tweets  \\\n",
       "0            0           9            0              None   \n",
       "1            0           3            0              None   \n",
       "2            1          14            1              None   \n",
       "3            0          17            0              None   \n",
       "4            0           6            0              None   \n",
       "\n",
       "  edit_history_tweet_ids  impression_count  \n",
       "0                   None               NaN  \n",
       "1                   None               NaN  \n",
       "2                   None               NaN  \n",
       "3                   None               NaN  \n",
       "4                   None               NaN  "
      ]
     },
     "execution_count": 58,
     "metadata": {},
     "output_type": "execute_result"
    }
   ],
   "source": [
    "top30_stats.head()"
   ]
  },
  {
   "cell_type": "code",
   "execution_count": 59,
   "metadata": {},
   "outputs": [],
   "source": [
    "top30_stats_summary = top30_stats[[\"newspaper\", \"retweet_count\", \"reply_count\", \"like_count\", \"quote_count\", \"word\", \"year\", \"week\"]].groupby(by=[\"newspaper\", \"year\", \"week\", \"word\"]).agg(func=[\"count\", \"min\", \"mean\", \"std\", \"max\", \"sum\"])"
   ]
  },
  {
   "cell_type": "code",
   "execution_count": 60,
   "metadata": {},
   "outputs": [],
   "source": [
    "top30_stats_summary[(\"retweet_count\", \"ratio\")] = top30_stats_summary[(\"retweet_count\", \"sum\")] / top30_stats_summary[(\"retweet_count\", \"count\")]\n",
    "top30_stats_summary[(\"reply_count\", \"ratio\")] = top30_stats_summary[(\"reply_count\", \"sum\")] / top30_stats_summary[(\"reply_count\", \"count\")]\n",
    "top30_stats_summary[(\"like_count\", \"ratio\")] = top30_stats_summary[(\"like_count\", \"sum\")] / top30_stats_summary[(\"like_count\", \"count\")]\n",
    "top30_stats_summary[(\"quote_count\", \"ratio\")] = top30_stats_summary[(\"quote_count\", \"sum\")] / top30_stats_summary[(\"quote_count\", \"count\")]"
   ]
  },
  {
   "cell_type": "code",
   "execution_count": 61,
   "metadata": {},
   "outputs": [],
   "source": [
    "top30_stats_summary = top30_stats_summary.stack()\n",
    "top30_stats_summary = top30_stats_summary.melt(var_name=\"metric\", ignore_index=False)"
   ]
  },
  {
   "cell_type": "code",
   "execution_count": 62,
   "metadata": {},
   "outputs": [],
   "source": [
    "top30_stats_summary = top30_stats_summary.reset_index()\n",
    "top30_stats_summary.rename({\"level_4\": \"stat\"}, axis=1, inplace=True)"
   ]
  },
  {
   "cell_type": "code",
   "execution_count": 63,
   "metadata": {},
   "outputs": [],
   "source": [
    "top30_stats_summary[\"year_week\"] = top30_stats_summary[\"year\"].astype(\"str\") + \"w\" + top30_stats_summary[\"week\"].astype(\"str\")"
   ]
  },
  {
   "cell_type": "code",
   "execution_count": 64,
   "metadata": {},
   "outputs": [
    {
     "data": {
      "text/html": [
       "<div>\n",
       "<style scoped>\n",
       "    .dataframe tbody tr th:only-of-type {\n",
       "        vertical-align: middle;\n",
       "    }\n",
       "\n",
       "    .dataframe tbody tr th {\n",
       "        vertical-align: top;\n",
       "    }\n",
       "\n",
       "    .dataframe thead th {\n",
       "        text-align: right;\n",
       "    }\n",
       "</style>\n",
       "<table border=\"1\" class=\"dataframe\">\n",
       "  <thead>\n",
       "    <tr style=\"text-align: right;\">\n",
       "      <th></th>\n",
       "      <th>newspaper</th>\n",
       "      <th>year</th>\n",
       "      <th>week</th>\n",
       "      <th>word</th>\n",
       "      <th>stat</th>\n",
       "      <th>metric</th>\n",
       "      <th>value</th>\n",
       "      <th>year_week</th>\n",
       "    </tr>\n",
       "  </thead>\n",
       "  <tbody>\n",
       "    <tr>\n",
       "      <th>0</th>\n",
       "      <td>DiarioElPeruano</td>\n",
       "      <td>2022</td>\n",
       "      <td>33</td>\n",
       "      <td>agosto</td>\n",
       "      <td>count</td>\n",
       "      <td>like_count</td>\n",
       "      <td>8.00</td>\n",
       "      <td>2022w33</td>\n",
       "    </tr>\n",
       "    <tr>\n",
       "      <th>1</th>\n",
       "      <td>DiarioElPeruano</td>\n",
       "      <td>2022</td>\n",
       "      <td>33</td>\n",
       "      <td>agosto</td>\n",
       "      <td>max</td>\n",
       "      <td>like_count</td>\n",
       "      <td>24.00</td>\n",
       "      <td>2022w33</td>\n",
       "    </tr>\n",
       "    <tr>\n",
       "      <th>2</th>\n",
       "      <td>DiarioElPeruano</td>\n",
       "      <td>2022</td>\n",
       "      <td>33</td>\n",
       "      <td>agosto</td>\n",
       "      <td>mean</td>\n",
       "      <td>like_count</td>\n",
       "      <td>8.50</td>\n",
       "      <td>2022w33</td>\n",
       "    </tr>\n",
       "    <tr>\n",
       "      <th>3</th>\n",
       "      <td>DiarioElPeruano</td>\n",
       "      <td>2022</td>\n",
       "      <td>33</td>\n",
       "      <td>agosto</td>\n",
       "      <td>min</td>\n",
       "      <td>like_count</td>\n",
       "      <td>2.00</td>\n",
       "      <td>2022w33</td>\n",
       "    </tr>\n",
       "    <tr>\n",
       "      <th>4</th>\n",
       "      <td>DiarioElPeruano</td>\n",
       "      <td>2022</td>\n",
       "      <td>33</td>\n",
       "      <td>agosto</td>\n",
       "      <td>ratio</td>\n",
       "      <td>like_count</td>\n",
       "      <td>8.50</td>\n",
       "      <td>2022w33</td>\n",
       "    </tr>\n",
       "  </tbody>\n",
       "</table>\n",
       "</div>"
      ],
      "text/plain": [
       "         newspaper  year  week    word   stat      metric  value year_week\n",
       "0  DiarioElPeruano  2022    33  agosto  count  like_count   8.00   2022w33\n",
       "1  DiarioElPeruano  2022    33  agosto    max  like_count  24.00   2022w33\n",
       "2  DiarioElPeruano  2022    33  agosto   mean  like_count   8.50   2022w33\n",
       "3  DiarioElPeruano  2022    33  agosto    min  like_count   2.00   2022w33\n",
       "4  DiarioElPeruano  2022    33  agosto  ratio  like_count   8.50   2022w33"
      ]
     },
     "execution_count": 64,
     "metadata": {},
     "output_type": "execute_result"
    }
   ],
   "source": [
    "top30_stats_summary.head()"
   ]
  },
  {
   "cell_type": "code",
   "execution_count": 65,
   "metadata": {},
   "outputs": [],
   "source": [
    "top30_stats_summary[\"hot_topics\"] = top30_stats_summary[\"word\"].map({\n",
    "    \"castillo\": \"castillo\",\n",
    "    \"pedro\": \"castillo\",\n",
    "    \"dina\": \"boluarte\",\n",
    "    \"boluarte\": \"boluarte\",\n",
    "    \"perú\": \"país\",\n",
    "    \"país\": \"país\",\n",
    "    \"congreso\": \"congreso\",\n",
    "    \"covid\": \"covid\",\n",
    "    \"protestas\": \"protestas\",\n",
    "    \"manifestaciones\": \"protestas\"\n",
    "})\n",
    "top30_stats_summary[\"hot_topics\"].fillna(\"\", inplace=True)"
   ]
  },
  {
   "cell_type": "code",
   "execution_count": 66,
   "metadata": {},
   "outputs": [
    {
     "name": "stdout",
     "output_type": "stream",
     "text": [
      "<class 'pandas.core.frame.DataFrame'>\n",
      "RangeIndex: 58572 entries, 0 to 58571\n",
      "Data columns (total 9 columns):\n",
      " #   Column      Non-Null Count  Dtype  \n",
      "---  ------      --------------  -----  \n",
      " 0   newspaper   58572 non-null  object \n",
      " 1   year        58572 non-null  Int64  \n",
      " 2   week        58572 non-null  Int64  \n",
      " 3   word        58572 non-null  object \n",
      " 4   stat        58572 non-null  object \n",
      " 5   metric      58572 non-null  object \n",
      " 6   value       58572 non-null  float64\n",
      " 7   year_week   58572 non-null  object \n",
      " 8   hot_topics  58572 non-null  object \n",
      "dtypes: Int64(2), float64(1), object(6)\n",
      "memory usage: 4.1+ MB\n"
     ]
    }
   ],
   "source": [
    "top30_stats_summary.info()"
   ]
  },
  {
   "cell_type": "code",
   "execution_count": 67,
   "metadata": {},
   "outputs": [],
   "source": [
    "top30_stats_summary.to_csv(f'{BASE_DIR}/reports/tables/top30_stats_summary-{TIME_STAMPS[0]}-{TIME_STAMPS[-1]}.csv')"
   ]
  },
  {
   "attachments": {},
   "cell_type": "markdown",
   "metadata": {},
   "source": [
    "#### Building the app"
   ]
  },
  {
   "cell_type": "code",
   "execution_count": 5,
   "metadata": {},
   "outputs": [],
   "source": [
    "top30_stats_summary = pd.read_csv(f'{BASE_DIR}/reports/tables/top30_stats_summary-{TIME_STAMPS[0]}-{TIME_STAMPS[-1]}.csv', index_col=0)\n",
    "top30_stats_summary[\"hot_topics\"].fillna(\"\", inplace=True)"
   ]
  },
  {
   "cell_type": "code",
   "execution_count": 6,
   "metadata": {},
   "outputs": [],
   "source": [
    "top30_app = JupyterDash(__name__)"
   ]
  },
  {
   "cell_type": "code",
   "execution_count": 7,
   "metadata": {},
   "outputs": [],
   "source": [
    "top30_app.layout = html.Div(children=[\n",
    "    html.H1(\"Top 30 words engagement stats per newspaper\", style={\"font-family\": \"Open Sans\", \"color\": \"#2a3f5f\"}),\n",
    "    html.Br(),\n",
    "    html.Div([\n",
    "        html.Div([\n",
    "            html.Label(\"Stat\", style={\"font-family\": \"Open Sans\", \"color\": \"#2a3f5f\"}),\n",
    "                dcc.RadioItems(\n",
    "                    top30_stats_summary[\"stat\"].unique(),\n",
    "                    \"ratio\",\n",
    "                    id=\"stat\",\n",
    "                    inline=True,\n",
    "                    style={\"font-family\": \"Open Sans\", \"color\": \"#2a3f5f\"})\n",
    "            ]),\n",
    "        html.Div([\n",
    "            html.Label(\"Metric\", style={\"font-family\": \"Open Sans\", \"color\": \"#2a3f5f\"}),\n",
    "            dcc.RadioItems(\n",
    "                top30_stats_summary[\"metric\"].unique(),\n",
    "                \"like_count\",\n",
    "                id=\"metric\",\n",
    "                inline=True,\n",
    "                style={\"font-family\": \"Open Sans\", \"color\": \"#2a3f5f\"}\n",
    "                )]\n",
    "            )],\n",
    "        style={\"display\": \"flex\", \"justify-content\": \"space-around\"}),\n",
    "    html.Br(),\n",
    "    dcc.Graph(id=\"stats_graph\")\n",
    "], style={\"height\": \"3600px\"})"
   ]
  },
  {
   "cell_type": "code",
   "execution_count": 8,
   "metadata": {},
   "outputs": [],
   "source": [
    "@top30_app.callback(\n",
    "    Output(\"stats_graph\", \"figure\"),\n",
    "    Input(\"stat\", \"value\"),\n",
    "    Input(\"metric\", \"value\")\n",
    "    )\n",
    "def update_figure(selected_stat, selected_metric):\n",
    "    filtered_data = top30_stats_summary.loc[(top30_stats_summary[\"stat\"] == selected_stat) & (top30_stats_summary[\"metric\"] == selected_metric)]\n",
    "\n",
    "    fig = px.bar(\n",
    "        filtered_data,\n",
    "        x=\"word\",\n",
    "        y=\"value\",\n",
    "        facet_row=\"newspaper\",\n",
    "        facet_col=\"year_week\",\n",
    "        color=\"hot_topics\",\n",
    "        color_discrete_sequence=gruvbox_colors,\n",
    "        height=3200,\n",
    "        width=3200\n",
    "    )\n",
    "\n",
    "    fig.for_each_annotation(lambda a: a.update(text=f\"{a.text.split('=')[-1]}\"))\n",
    "    fig.update_xaxes(matches=None, showticklabels=True, categoryorder='total descending')\n",
    "    fig.update_yaxes(matches=None, showticklabels=True)\n",
    "\n",
    "    return fig"
   ]
  },
  {
   "cell_type": "code",
   "execution_count": 9,
   "metadata": {},
   "outputs": [
    {
     "data": {
      "text/html": [
       "\n",
       "        <iframe\n",
       "            width=\"100%\"\n",
       "            height=\"650\"\n",
       "            src=\"http://127.0.0.1:8050/\"\n",
       "            frameborder=\"0\"\n",
       "            allowfullscreen\n",
       "            \n",
       "        ></iframe>\n",
       "        "
      ],
      "text/plain": [
       "<IPython.lib.display.IFrame at 0x1796b6b90>"
      ]
     },
     "metadata": {},
     "output_type": "display_data"
    }
   ],
   "source": [
    "if __name__ == \"__main__\":\n",
    "    top30_app.run_server(mode=\"inline\")"
   ]
  }
 ],
 "metadata": {
  "kernelspec": {
   "display_name": "nlp-newspapersAnalysis",
   "language": "python",
   "name": "python3"
  },
  "language_info": {
   "codemirror_mode": {
    "name": "ipython",
    "version": 3
   },
   "file_extension": ".py",
   "mimetype": "text/x-python",
   "name": "python",
   "nbconvert_exporter": "python",
   "pygments_lexer": "ipython3",
   "version": "3.10.9"
  },
  "orig_nbformat": 2,
  "vscode": {
   "interpreter": {
    "hash": "aef0c461847f6a88eedb677fa00493df291ae4b245cdf057d207d54f564bf672"
   }
  }
 },
 "nbformat": 4,
 "nbformat_minor": 2
}
