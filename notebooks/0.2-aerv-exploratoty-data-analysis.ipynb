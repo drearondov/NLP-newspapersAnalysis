{
 "cells": [
  {
   "attachments": {},
   "cell_type": "markdown",
   "metadata": {},
   "source": [
    "# Exploratory Data Analysis\n",
    "\n",
    "## Introduction\n",
    "\n",
    "After cleaning the data we are going to take a look a it. And since we want to know how the information changes across time, we will be looking at tweets from different weeks.\n",
    "\n",
    "1. **Most common words:** Find them and create word clouds. See if anything needs to be removed.\n",
    "2. **Size of vocabulary:** Look at the number of unique words used\n",
    "3. **Engagement metrics across time:** A much insightfull look into the stats obtained during data cleaning.\n"
   ]
  },
  {
   "cell_type": "code",
   "execution_count": 63,
   "metadata": {},
   "outputs": [],
   "source": [
    "import json\n",
    "import numpy as np\n",
    "import os\n",
    "import pandas as pd\n",
    "import plotly.express as px\n",
    "import plotly.io as pio\n",
    "import random\n",
    "import re\n",
    "import spacy\n",
    "\n",
    "from dotenv import load_dotenv\n",
    "from itertools import product\n",
    "from wordcloud import WordCloud"
   ]
  },
  {
   "cell_type": "code",
   "execution_count": 2,
   "metadata": {},
   "outputs": [],
   "source": [
    "load_dotenv()\n",
    "\n",
    "BASE_DIR = os.environ.get(\"BASE_DIR\")\n",
    "BEARER_TOKEN = os.environ.get(\"BEARER_TOKEN\")"
   ]
  },
  {
   "cell_type": "code",
   "execution_count": 83,
   "metadata": {},
   "outputs": [],
   "source": [
    "pd.set_option(\"display.max_colwidth\", 300)\n",
    "pd.set_option(\"display.max_rows\", 25)\n",
    "pd.set_option(\"display.precision\", 2)\n",
    "pd.set_option(\"display.float_format\",  \"{:,.2f}\".format)\n",
    "\n",
    "pio.templates.default = \"plotly_white\"\n",
    "pio.kaleido.scope.default_scale = 2\n",
    "\n",
    "gruvbox_colors = [\"#fe8019\", \"#d65d0e\", \"#af3a03\", \"#8ec07c\", \"#689d6a\", \"#4d7b58\", \"#d3869b\", \"#b16286\", \"#8f3f71\", \"#83a598\", \"#458588\", \"#076678\", \"#fabd2f\", \"#d79921\", \"#b57614\", \"#b8bb26\", \"#98971a\", \"#79740e\", \"#fb4943\", \"#cc241d\",  \"#fbf1c7\"]\n",
    "random.shuffle(gruvbox_colors)"
   ]
  },
  {
   "cell_type": "code",
   "execution_count": 4,
   "metadata": {},
   "outputs": [],
   "source": [
    "TIME_STAMPS = [(2022, 35), (2022, 40), (2022, 45), (2022, 50), (2023, 3)]"
   ]
  },
  {
   "attachments": {},
   "cell_type": "markdown",
   "metadata": {},
   "source": [
    "### Data Loading\n",
    "\n",
    "There are three documents that I want to load. The corpus frame, document term matrix and clean data."
   ]
  },
  {
   "cell_type": "code",
   "execution_count": 5,
   "metadata": {},
   "outputs": [],
   "source": [
    "corpus = pd.read_feather(f\"{BASE_DIR}/data/processed/corpus-{TIME_STAMPS[0]}-{TIME_STAMPS[-1]}.feather\")\n",
    "dtm = pd.read_feather(f\"{BASE_DIR}/data/processed/dtm-{TIME_STAMPS[0]}-{TIME_STAMPS[-1]}.feather\")\n",
    "stats_data = pd.read_feather(f\"{BASE_DIR}/data/processed/stats_data-{TIME_STAMPS[0]}-{TIME_STAMPS[-1]}.feather\")"
   ]
  },
  {
   "cell_type": "code",
   "execution_count": 6,
   "metadata": {},
   "outputs": [],
   "source": [
    "dtm.set_index(\"index\", inplace=True)\n",
    "corpus.set_index(\"index\", inplace=True)\n",
    "stats_data.set_index(\"index\", inplace=True)"
   ]
  },
  {
   "cell_type": "code",
   "execution_count": 7,
   "metadata": {},
   "outputs": [
    {
     "data": {
      "text/html": [
       "<div>\n",
       "<style scoped>\n",
       "    .dataframe tbody tr th:only-of-type {\n",
       "        vertical-align: middle;\n",
       "    }\n",
       "\n",
       "    .dataframe tbody tr th {\n",
       "        vertical-align: top;\n",
       "    }\n",
       "\n",
       "    .dataframe thead th {\n",
       "        text-align: right;\n",
       "    }\n",
       "</style>\n",
       "<table border=\"1\" class=\"dataframe\">\n",
       "  <thead>\n",
       "    <tr style=\"text-align: right;\">\n",
       "      <th></th>\n",
       "      <th>venezuela</th>\n",
       "      <th>colombia</th>\n",
       "      <th>retoman</th>\n",
       "      <th>relaciones</th>\n",
       "      <th>diplomáticas</th>\n",
       "      <th>rotas</th>\n",
       "      <th>años</th>\n",
       "      <th>amlo</th>\n",
       "      <th>afirma</th>\n",
       "      <th>familias</th>\n",
       "      <th>...</th>\n",
       "      <th>lironda</th>\n",
       "      <th>quioscos</th>\n",
       "      <th>leerlo</th>\n",
       "      <th>segmentos</th>\n",
       "      <th>unger</th>\n",
       "      <th>divulgador</th>\n",
       "      <th>jubila</th>\n",
       "      <th>lúcido</th>\n",
       "      <th>agradezco</th>\n",
       "      <th>pasados</th>\n",
       "    </tr>\n",
       "    <tr>\n",
       "      <th>index</th>\n",
       "      <th></th>\n",
       "      <th></th>\n",
       "      <th></th>\n",
       "      <th></th>\n",
       "      <th></th>\n",
       "      <th></th>\n",
       "      <th></th>\n",
       "      <th></th>\n",
       "      <th></th>\n",
       "      <th></th>\n",
       "      <th></th>\n",
       "      <th></th>\n",
       "      <th></th>\n",
       "      <th></th>\n",
       "      <th></th>\n",
       "      <th></th>\n",
       "      <th></th>\n",
       "      <th></th>\n",
       "      <th></th>\n",
       "      <th></th>\n",
       "      <th></th>\n",
       "    </tr>\n",
       "  </thead>\n",
       "  <tbody>\n",
       "    <tr>\n",
       "      <th>1564039479391838209</th>\n",
       "      <td>1.00</td>\n",
       "      <td>1.00</td>\n",
       "      <td>1.00</td>\n",
       "      <td>1.00</td>\n",
       "      <td>1.00</td>\n",
       "      <td>1.00</td>\n",
       "      <td>1.00</td>\n",
       "      <td>0.00</td>\n",
       "      <td>0.00</td>\n",
       "      <td>0.00</td>\n",
       "      <td>...</td>\n",
       "      <td>0.00</td>\n",
       "      <td>0.00</td>\n",
       "      <td>0.00</td>\n",
       "      <td>0.00</td>\n",
       "      <td>0.00</td>\n",
       "      <td>0.00</td>\n",
       "      <td>0.00</td>\n",
       "      <td>0.00</td>\n",
       "      <td>0.00</td>\n",
       "      <td>0.00</td>\n",
       "    </tr>\n",
       "    <tr>\n",
       "      <th>1563901376391954432</th>\n",
       "      <td>1.00</td>\n",
       "      <td>0.00</td>\n",
       "      <td>0.00</td>\n",
       "      <td>0.00</td>\n",
       "      <td>0.00</td>\n",
       "      <td>0.00</td>\n",
       "      <td>0.00</td>\n",
       "      <td>0.00</td>\n",
       "      <td>0.00</td>\n",
       "      <td>0.00</td>\n",
       "      <td>...</td>\n",
       "      <td>0.00</td>\n",
       "      <td>0.00</td>\n",
       "      <td>0.00</td>\n",
       "      <td>0.00</td>\n",
       "      <td>0.00</td>\n",
       "      <td>0.00</td>\n",
       "      <td>0.00</td>\n",
       "      <td>0.00</td>\n",
       "      <td>0.00</td>\n",
       "      <td>0.00</td>\n",
       "    </tr>\n",
       "    <tr>\n",
       "      <th>1563603477875642368</th>\n",
       "      <td>1.00</td>\n",
       "      <td>0.00</td>\n",
       "      <td>0.00</td>\n",
       "      <td>0.00</td>\n",
       "      <td>0.00</td>\n",
       "      <td>0.00</td>\n",
       "      <td>0.00</td>\n",
       "      <td>0.00</td>\n",
       "      <td>0.00</td>\n",
       "      <td>0.00</td>\n",
       "      <td>...</td>\n",
       "      <td>0.00</td>\n",
       "      <td>0.00</td>\n",
       "      <td>0.00</td>\n",
       "      <td>0.00</td>\n",
       "      <td>0.00</td>\n",
       "      <td>0.00</td>\n",
       "      <td>0.00</td>\n",
       "      <td>0.00</td>\n",
       "      <td>0.00</td>\n",
       "      <td>0.00</td>\n",
       "    </tr>\n",
       "    <tr>\n",
       "      <th>1563584254411685890</th>\n",
       "      <td>1.00</td>\n",
       "      <td>0.00</td>\n",
       "      <td>0.00</td>\n",
       "      <td>0.00</td>\n",
       "      <td>0.00</td>\n",
       "      <td>0.00</td>\n",
       "      <td>0.00</td>\n",
       "      <td>0.00</td>\n",
       "      <td>0.00</td>\n",
       "      <td>0.00</td>\n",
       "      <td>...</td>\n",
       "      <td>0.00</td>\n",
       "      <td>0.00</td>\n",
       "      <td>0.00</td>\n",
       "      <td>0.00</td>\n",
       "      <td>0.00</td>\n",
       "      <td>0.00</td>\n",
       "      <td>0.00</td>\n",
       "      <td>0.00</td>\n",
       "      <td>0.00</td>\n",
       "      <td>0.00</td>\n",
       "    </tr>\n",
       "    <tr>\n",
       "      <th>1563357468478283777</th>\n",
       "      <td>1.00</td>\n",
       "      <td>0.00</td>\n",
       "      <td>0.00</td>\n",
       "      <td>0.00</td>\n",
       "      <td>0.00</td>\n",
       "      <td>0.00</td>\n",
       "      <td>0.00</td>\n",
       "      <td>0.00</td>\n",
       "      <td>0.00</td>\n",
       "      <td>0.00</td>\n",
       "      <td>...</td>\n",
       "      <td>0.00</td>\n",
       "      <td>0.00</td>\n",
       "      <td>0.00</td>\n",
       "      <td>0.00</td>\n",
       "      <td>0.00</td>\n",
       "      <td>0.00</td>\n",
       "      <td>0.00</td>\n",
       "      <td>0.00</td>\n",
       "      <td>0.00</td>\n",
       "      <td>0.00</td>\n",
       "    </tr>\n",
       "  </tbody>\n",
       "</table>\n",
       "<p>5 rows × 31684 columns</p>\n",
       "</div>"
      ],
      "text/plain": [
       "                     venezuela  colombia  retoman  relaciones  diplomáticas  \\\n",
       "index                                                                         \n",
       "1564039479391838209       1.00      1.00     1.00        1.00          1.00   \n",
       "1563901376391954432       1.00      0.00     0.00        0.00          0.00   \n",
       "1563603477875642368       1.00      0.00     0.00        0.00          0.00   \n",
       "1563584254411685890       1.00      0.00     0.00        0.00          0.00   \n",
       "1563357468478283777       1.00      0.00     0.00        0.00          0.00   \n",
       "\n",
       "                     rotas  años  amlo  afirma  familias  ...  lironda  \\\n",
       "index                                                     ...            \n",
       "1564039479391838209   1.00  1.00  0.00    0.00      0.00  ...     0.00   \n",
       "1563901376391954432   0.00  0.00  0.00    0.00      0.00  ...     0.00   \n",
       "1563603477875642368   0.00  0.00  0.00    0.00      0.00  ...     0.00   \n",
       "1563584254411685890   0.00  0.00  0.00    0.00      0.00  ...     0.00   \n",
       "1563357468478283777   0.00  0.00  0.00    0.00      0.00  ...     0.00   \n",
       "\n",
       "                     quioscos  leerlo  segmentos  unger  divulgador  jubila  \\\n",
       "index                                                                         \n",
       "1564039479391838209      0.00    0.00       0.00   0.00        0.00    0.00   \n",
       "1563901376391954432      0.00    0.00       0.00   0.00        0.00    0.00   \n",
       "1563603477875642368      0.00    0.00       0.00   0.00        0.00    0.00   \n",
       "1563584254411685890      0.00    0.00       0.00   0.00        0.00    0.00   \n",
       "1563357468478283777      0.00    0.00       0.00   0.00        0.00    0.00   \n",
       "\n",
       "                     lúcido  agradezco  pasados  \n",
       "index                                            \n",
       "1564039479391838209    0.00       0.00     0.00  \n",
       "1563901376391954432    0.00       0.00     0.00  \n",
       "1563603477875642368    0.00       0.00     0.00  \n",
       "1563584254411685890    0.00       0.00     0.00  \n",
       "1563357468478283777    0.00       0.00     0.00  \n",
       "\n",
       "[5 rows x 31684 columns]"
      ]
     },
     "execution_count": 7,
     "metadata": {},
     "output_type": "execute_result"
    }
   ],
   "source": [
    "dtm.head()"
   ]
  },
  {
   "cell_type": "code",
   "execution_count": 7,
   "metadata": {},
   "outputs": [
    {
     "data": {
      "text/html": [
       "<div>\n",
       "<style scoped>\n",
       "    .dataframe tbody tr th:only-of-type {\n",
       "        vertical-align: middle;\n",
       "    }\n",
       "\n",
       "    .dataframe tbody tr th {\n",
       "        vertical-align: top;\n",
       "    }\n",
       "\n",
       "    .dataframe thead th {\n",
       "        text-align: right;\n",
       "    }\n",
       "</style>\n",
       "<table border=\"1\" class=\"dataframe\">\n",
       "  <thead>\n",
       "    <tr style=\"text-align: right;\">\n",
       "      <th></th>\n",
       "      <th>id</th>\n",
       "      <th>created_at</th>\n",
       "      <th>newspaper</th>\n",
       "      <th>corpus</th>\n",
       "    </tr>\n",
       "    <tr>\n",
       "      <th>index</th>\n",
       "      <th></th>\n",
       "      <th></th>\n",
       "      <th></th>\n",
       "      <th></th>\n",
       "    </tr>\n",
       "  </thead>\n",
       "  <tbody>\n",
       "    <tr>\n",
       "      <th>0</th>\n",
       "      <td>1564039479391838209</td>\n",
       "      <td>2022-08-28 23:57:24+00:00</td>\n",
       "      <td>elcomercio_peru</td>\n",
       "      <td>venezuela colombia retoman relaciones diplomáticas rotas hace tres años</td>\n",
       "    </tr>\n",
       "    <tr>\n",
       "      <th>2</th>\n",
       "      <td>1564032331706470401</td>\n",
       "      <td>2022-08-28 23:29:00+00:00</td>\n",
       "      <td>elcomercio_peru</td>\n",
       "      <td>amlo afirma que familias ya aceptaron plan de rescate de mineros</td>\n",
       "    </tr>\n",
       "    <tr>\n",
       "      <th>3</th>\n",
       "      <td>1564028601053347843</td>\n",
       "      <td>2022-08-28 23:14:11+00:00</td>\n",
       "      <td>elcomercio_peru</td>\n",
       "      <td>zelensky los ocupantes rusos sentirán las consecuencias de futuras acciones</td>\n",
       "    </tr>\n",
       "    <tr>\n",
       "      <th>5</th>\n",
       "      <td>1564023766937731073</td>\n",
       "      <td>2022-08-28 22:54:58+00:00</td>\n",
       "      <td>elcomercio_peru</td>\n",
       "      <td>autoridades confirman transmisión comunitaria de viruela del mono en panamá</td>\n",
       "    </tr>\n",
       "    <tr>\n",
       "      <th>7</th>\n",
       "      <td>1564017585561141248</td>\n",
       "      <td>2022-08-28 22:30:25+00:00</td>\n",
       "      <td>elcomercio_peru</td>\n",
       "      <td>las imágenes de los enfrentamientos entre seguidores de cristina kirchner la policía en argentina</td>\n",
       "    </tr>\n",
       "  </tbody>\n",
       "</table>\n",
       "</div>"
      ],
      "text/plain": [
       "                        id                created_at        newspaper  \\\n",
       "index                                                                   \n",
       "0      1564039479391838209 2022-08-28 23:57:24+00:00  elcomercio_peru   \n",
       "2      1564032331706470401 2022-08-28 23:29:00+00:00  elcomercio_peru   \n",
       "3      1564028601053347843 2022-08-28 23:14:11+00:00  elcomercio_peru   \n",
       "5      1564023766937731073 2022-08-28 22:54:58+00:00  elcomercio_peru   \n",
       "7      1564017585561141248 2022-08-28 22:30:25+00:00  elcomercio_peru   \n",
       "\n",
       "                                                                                                   corpus  \n",
       "index                                                                                                      \n",
       "0                                venezuela colombia retoman relaciones diplomáticas rotas hace tres años   \n",
       "2                                       amlo afirma que familias ya aceptaron plan de rescate de mineros   \n",
       "3                            zelensky los ocupantes rusos sentirán las consecuencias de futuras acciones   \n",
       "5                            autoridades confirman transmisión comunitaria de viruela del mono en panamá   \n",
       "7      las imágenes de los enfrentamientos entre seguidores de cristina kirchner la policía en argentina   "
      ]
     },
     "execution_count": 7,
     "metadata": {},
     "output_type": "execute_result"
    }
   ],
   "source": [
    "corpus.head()"
   ]
  },
  {
   "cell_type": "code",
   "execution_count": 8,
   "metadata": {},
   "outputs": [
    {
     "name": "stdout",
     "output_type": "stream",
     "text": [
      "<class 'pandas.core.frame.DataFrame'>\n",
      "Int64Index: 34924 entries, 0 to 23\n",
      "Data columns (total 4 columns):\n",
      " #   Column      Non-Null Count  Dtype              \n",
      "---  ------      --------------  -----              \n",
      " 0   id          34924 non-null  object             \n",
      " 1   created_at  34924 non-null  datetime64[ns, UTC]\n",
      " 2   newspaper   34924 non-null  object             \n",
      " 3   corpus      34924 non-null  object             \n",
      "dtypes: datetime64[ns, UTC](1), object(3)\n",
      "memory usage: 1.3+ MB\n"
     ]
    }
   ],
   "source": [
    "corpus.info()"
   ]
  },
  {
   "cell_type": "code",
   "execution_count": 9,
   "metadata": {},
   "outputs": [
    {
     "data": {
      "text/html": [
       "<div>\n",
       "<style scoped>\n",
       "    .dataframe tbody tr th:only-of-type {\n",
       "        vertical-align: middle;\n",
       "    }\n",
       "\n",
       "    .dataframe tbody tr th {\n",
       "        vertical-align: top;\n",
       "    }\n",
       "\n",
       "    .dataframe thead th {\n",
       "        text-align: right;\n",
       "    }\n",
       "</style>\n",
       "<table border=\"1\" class=\"dataframe\">\n",
       "  <thead>\n",
       "    <tr style=\"text-align: right;\">\n",
       "      <th></th>\n",
       "      <th>created_at</th>\n",
       "      <th>possibly_sensitive</th>\n",
       "      <th>id</th>\n",
       "      <th>retweet_count</th>\n",
       "      <th>reply_count</th>\n",
       "      <th>like_count</th>\n",
       "      <th>quote_count</th>\n",
       "      <th>referenced_tweets</th>\n",
       "      <th>newspaper</th>\n",
       "      <th>edit_history_tweet_ids</th>\n",
       "      <th>impression_count</th>\n",
       "    </tr>\n",
       "    <tr>\n",
       "      <th>index</th>\n",
       "      <th></th>\n",
       "      <th></th>\n",
       "      <th></th>\n",
       "      <th></th>\n",
       "      <th></th>\n",
       "      <th></th>\n",
       "      <th></th>\n",
       "      <th></th>\n",
       "      <th></th>\n",
       "      <th></th>\n",
       "      <th></th>\n",
       "    </tr>\n",
       "  </thead>\n",
       "  <tbody>\n",
       "    <tr>\n",
       "      <th>0</th>\n",
       "      <td>2022-08-28 23:57:24+00:00</td>\n",
       "      <td>False</td>\n",
       "      <td>1564039479391838209</td>\n",
       "      <td>0</td>\n",
       "      <td>0</td>\n",
       "      <td>6</td>\n",
       "      <td>1</td>\n",
       "      <td>None</td>\n",
       "      <td>elcomercio_peru</td>\n",
       "      <td>None</td>\n",
       "      <td>NaN</td>\n",
       "    </tr>\n",
       "    <tr>\n",
       "      <th>2</th>\n",
       "      <td>2022-08-28 23:29:00+00:00</td>\n",
       "      <td>False</td>\n",
       "      <td>1564032331706470401</td>\n",
       "      <td>0</td>\n",
       "      <td>0</td>\n",
       "      <td>2</td>\n",
       "      <td>0</td>\n",
       "      <td>None</td>\n",
       "      <td>elcomercio_peru</td>\n",
       "      <td>None</td>\n",
       "      <td>NaN</td>\n",
       "    </tr>\n",
       "    <tr>\n",
       "      <th>3</th>\n",
       "      <td>2022-08-28 23:14:11+00:00</td>\n",
       "      <td>False</td>\n",
       "      <td>1564028601053347843</td>\n",
       "      <td>6</td>\n",
       "      <td>7</td>\n",
       "      <td>18</td>\n",
       "      <td>1</td>\n",
       "      <td>None</td>\n",
       "      <td>elcomercio_peru</td>\n",
       "      <td>None</td>\n",
       "      <td>NaN</td>\n",
       "    </tr>\n",
       "    <tr>\n",
       "      <th>5</th>\n",
       "      <td>2022-08-28 22:54:58+00:00</td>\n",
       "      <td>False</td>\n",
       "      <td>1564023766937731073</td>\n",
       "      <td>1</td>\n",
       "      <td>0</td>\n",
       "      <td>1</td>\n",
       "      <td>1</td>\n",
       "      <td>None</td>\n",
       "      <td>elcomercio_peru</td>\n",
       "      <td>None</td>\n",
       "      <td>NaN</td>\n",
       "    </tr>\n",
       "    <tr>\n",
       "      <th>7</th>\n",
       "      <td>2022-08-28 22:30:25+00:00</td>\n",
       "      <td>False</td>\n",
       "      <td>1564017585561141248</td>\n",
       "      <td>3</td>\n",
       "      <td>0</td>\n",
       "      <td>8</td>\n",
       "      <td>0</td>\n",
       "      <td>None</td>\n",
       "      <td>elcomercio_peru</td>\n",
       "      <td>None</td>\n",
       "      <td>NaN</td>\n",
       "    </tr>\n",
       "  </tbody>\n",
       "</table>\n",
       "</div>"
      ],
      "text/plain": [
       "                     created_at  possibly_sensitive                   id  \\\n",
       "index                                                                      \n",
       "0     2022-08-28 23:57:24+00:00               False  1564039479391838209   \n",
       "2     2022-08-28 23:29:00+00:00               False  1564032331706470401   \n",
       "3     2022-08-28 23:14:11+00:00               False  1564028601053347843   \n",
       "5     2022-08-28 22:54:58+00:00               False  1564023766937731073   \n",
       "7     2022-08-28 22:30:25+00:00               False  1564017585561141248   \n",
       "\n",
       "       retweet_count  reply_count  like_count  quote_count referenced_tweets  \\\n",
       "index                                                                          \n",
       "0                  0            0           6            1              None   \n",
       "2                  0            0           2            0              None   \n",
       "3                  6            7          18            1              None   \n",
       "5                  1            0           1            1              None   \n",
       "7                  3            0           8            0              None   \n",
       "\n",
       "             newspaper edit_history_tweet_ids  impression_count  \n",
       "index                                                            \n",
       "0      elcomercio_peru                   None               NaN  \n",
       "2      elcomercio_peru                   None               NaN  \n",
       "3      elcomercio_peru                   None               NaN  \n",
       "5      elcomercio_peru                   None               NaN  \n",
       "7      elcomercio_peru                   None               NaN  "
      ]
     },
     "execution_count": 9,
     "metadata": {},
     "output_type": "execute_result"
    }
   ],
   "source": [
    "stats_data.head()"
   ]
  },
  {
   "attachments": {},
   "cell_type": "markdown",
   "metadata": {},
   "source": [
    "## Most Common Words"
   ]
  },
  {
   "cell_type": "code",
   "execution_count": 10,
   "metadata": {},
   "outputs": [],
   "source": [
    "newspapers = corpus[\"newspaper\"].unique()"
   ]
  },
  {
   "cell_type": "code",
   "execution_count": 11,
   "metadata": {},
   "outputs": [],
   "source": [
    "year_weeks = corpus[\"created_at\"].dt.isocalendar()[[\"year\", \"week\"]]\n",
    "year_weeks.drop_duplicates(inplace=True)\n",
    "year_weeks = year_weeks.to_numpy()"
   ]
  },
  {
   "cell_type": "code",
   "execution_count": 12,
   "metadata": {},
   "outputs": [],
   "source": [
    "dtm_newspaper = pd.DataFrame(index=dtm.columns)"
   ]
  },
  {
   "cell_type": "code",
   "execution_count": 13,
   "metadata": {},
   "outputs": [],
   "source": [
    "corpus[\"year\"] = corpus[\"created_at\"].dt.isocalendar().year\n",
    "corpus[\"week\"] = corpus[\"created_at\"].dt.isocalendar().week"
   ]
  },
  {
   "cell_type": "code",
   "execution_count": 14,
   "metadata": {},
   "outputs": [],
   "source": [
    "dtm_newspaper = pd.DataFrame(index=dtm.columns)\n",
    "\n",
    "for year_week, newspaper in product(year_weeks, newspapers):\n",
    "    data_ids = corpus.loc[(corpus[\"newspaper\"] == newspaper) & (corpus[\"year\"] == year_week[0]) & (corpus[\"week\"] == year_week[1]) , [\"id\"]]\n",
    "    filtered_data = dtm.filter(items=data_ids[\"id\"], axis=0)\n",
    "    dtm_newspaper[f\"{newspaper}-{year_week[0]}_{year_week[1]}\"] = filtered_data.sum(axis=0)"
   ]
  },
  {
   "cell_type": "code",
   "execution_count": 15,
   "metadata": {},
   "outputs": [],
   "source": [
    "top30_dict = {}\n",
    "\n",
    "for newspaper in dtm_newspaper.columns:\n",
    "    top = dtm_newspaper[newspaper].sort_values(ascending=False).head(30)\n",
    "    top30_dict[newspaper] = list(zip(top.index, top.values))"
   ]
  },
  {
   "cell_type": "code",
   "execution_count": 16,
   "metadata": {},
   "outputs": [
    {
     "data": {
      "text/plain": [
       "{'elcomercio_peru-2022_34': [('agosto', 40.0),\n",
       "  ('perú', 32.0),\n",
       "  ('lima', 23.0),\n",
       "  ('millones', 21.0),\n",
       "  ('perucheck', 19.0),\n",
       "  ('covid', 19.0),\n",
       "  ('años', 17.0),\n",
       "  ('mundo', 14.0),\n",
       "  ('ucrania', 14.0),\n",
       "  ('eeuu', 14.0),\n",
       "  ('colombia', 13.0),\n",
       "  ('méxico', 13.0),\n",
       "  ('venezuela', 12.0),\n",
       "  ('muerte', 12.0),\n",
       "  ('mono', 12.0),\n",
       "  ('viruela', 12.0),\n",
       "  ('rusia', 12.0),\n",
       "  ('cambio', 11.0),\n",
       "  ('tipo', 11.0),\n",
       "  ('dólar', 11.0),\n",
       "  ('us', 11.0),\n",
       "  ('mujer', 10.0),\n",
       "  ('reporta', 10.0),\n",
       "  ('contagios', 9.0),\n",
       "  ('precio', 9.0),\n",
       "  ('unidos', 9.0),\n",
       "  ('país', 9.0),\n",
       "  ('policía', 9.0),\n",
       "  ('pasó', 8.0),\n",
       "  ('bono', 8.0)],\n",
       " 'larepublica_pe-2022_34': [('lrdeportes', 214.0),\n",
       "  ('politicalr', 199.0),\n",
       "  ('video', 141.0),\n",
       "  ('perú', 69.0),\n",
       "  ('envivo', 57.0),\n",
       "  ('paredes', 56.0),\n",
       "  ('castillo', 52.0),\n",
       "  ('lima', 51.0),\n",
       "  ('agosto', 50.0),\n",
       "  ('años', 45.0),\n",
       "  ('verificadorlr', 43.0),\n",
       "  ('yenifer', 39.0),\n",
       "  ('pedro', 35.0),\n",
       "  ('partido', 35.0),\n",
       "  ('prisión', 33.0),\n",
       "  ('alianza', 29.0),\n",
       "  ('fiscalía', 28.0),\n",
       "  ('loúltimo', 28.0),\n",
       "  ('pierdas', 28.0),\n",
       "  ('congreso', 27.0),\n",
       "  ('presidente', 27.0),\n",
       "  ('república', 26.0),\n",
       "  ('fiscal', 25.0),\n",
       "  ('audiencia', 25.0),\n",
       "  ('canal', 24.0),\n",
       "  ('conoce', 24.0),\n",
       "  ('temblor', 24.0),\n",
       "  ('vs', 23.0),\n",
       "  ('país', 23.0),\n",
       "  ('millones', 23.0)],\n",
       " 'peru21noticias-2022_34': [('castillo', 80.0),\n",
       "  ('pedro', 66.0),\n",
       "  ('lima', 55.0),\n",
       "  ('perú', 41.0),\n",
       "  ('agosto', 38.0),\n",
       "  ('paredes', 35.0),\n",
       "  ('años', 32.0),\n",
       "  ('fiscal', 30.0),\n",
       "  ('conoce', 30.0),\n",
       "  ('cortita', 27.0),\n",
       "  ('millones', 26.0),\n",
       "  ('presidente', 25.0),\n",
       "  ('fiscalía', 24.0),\n",
       "  ('yenifer', 23.0),\n",
       "  ('prisión', 23.0),\n",
       "  ('preventiva', 21.0),\n",
       "  ('peruana', 21.0),\n",
       "  ('peruano', 21.0),\n",
       "  ('envivo', 21.0),\n",
       "  ('covid', 20.0),\n",
       "  ('summum', 20.0),\n",
       "  ('piqué', 20.0),\n",
       "  ('premios', 19.0),\n",
       "  ('mil', 19.0),\n",
       "  ('audiencia', 19.0),\n",
       "  ('pedido', 18.0),\n",
       "  ('entrevista', 18.0),\n",
       "  ('casa', 17.0),\n",
       "  ('gobierno', 17.0),\n",
       "  ('café', 17.0)],\n",
       " 'tromepe-2022_34': [('lima', 48.0),\n",
       "  ('vs', 47.0),\n",
       "  ('piqué', 40.0),\n",
       "  ('perú', 31.0),\n",
       "  ('clara', 28.0),\n",
       "  ('años', 27.0),\n",
       "  ('shakira', 26.0),\n",
       "  ('chía', 25.0),\n",
       "  ('lee', 23.0),\n",
       "  ('pedro', 22.0),\n",
       "  ('gerard', 22.0),\n",
       "  ('conoce', 21.0),\n",
       "  ('martí', 21.0),\n",
       "  ('agosto', 21.0),\n",
       "  ('santa', 20.0),\n",
       "  ('magaly', 20.0),\n",
       "  ('gol', 18.0),\n",
       "  ('castillo', 17.0),\n",
       "  ('mil', 17.0),\n",
       "  ('samahara', 16.0),\n",
       "  ('barcelona', 16.0),\n",
       "  ('rosa', 15.0),\n",
       "  ('league', 15.0),\n",
       "  ('vía', 14.0),\n",
       "  ('concierto', 14.0),\n",
       "  ('covid', 14.0),\n",
       "  ('manchester', 14.0),\n",
       "  ('novia', 14.0),\n",
       "  ('lobatón', 14.0),\n",
       "  ('diego', 13.0)],\n",
       " 'Gestionpe-2022_34': [('perú', 45.0),\n",
       "  ('millones', 38.0),\n",
       "  ('us', 35.0),\n",
       "  ('lima', 34.0),\n",
       "  ('bono', 33.0),\n",
       "  ('agosto', 28.0),\n",
       "  ('empresas', 27.0),\n",
       "  ('vídeo', 24.0),\n",
       "  ('alimentario', 22.0),\n",
       "  ('video', 22.0),\n",
       "  ('covid', 19.0),\n",
       "  ('crédito', 18.0),\n",
       "  ('tercerización', 18.0),\n",
       "  ('inversión', 18.0),\n",
       "  ('link', 17.0),\n",
       "  ('elecciones', 16.0),\n",
       "  ('eeuu', 16.0),\n",
       "  ('inflación', 15.0),\n",
       "  ('prepara', 15.0),\n",
       "  ('beneficiarios', 15.0),\n",
       "  ('gestión', 15.0),\n",
       "  ('cierra', 15.0),\n",
       "  ('castillo', 14.0),\n",
       "  ('año', 14.0),\n",
       "  ('riesgo', 14.0),\n",
       "  ('trimestre', 14.0),\n",
       "  ('fed', 13.0),\n",
       "  ('acceder', 13.0),\n",
       "  ('alza', 13.0),\n",
       "  ('cambio', 13.0)],\n",
       " 'diariocorreo-2022_34': [('paredes', 34.0),\n",
       "  ('castillo', 31.0),\n",
       "  ('pedro', 28.0),\n",
       "  ('yenifer', 25.0),\n",
       "  ('libertad', 22.0),\n",
       "  ('fiscalía', 21.0),\n",
       "  ('fiscal', 21.0),\n",
       "  ('lima', 21.0),\n",
       "  ('perú', 19.0),\n",
       "  ('años', 19.0),\n",
       "  ('prisión', 18.0),\n",
       "  ('covid', 17.0),\n",
       "  ('tumbes', 16.0),\n",
       "  ('presidente', 15.0),\n",
       "  ('gobierno', 14.0),\n",
       "  ('preventiva', 13.0),\n",
       "  ('agosto', 12.0),\n",
       "  ('piura', 12.0),\n",
       "  ('horas', 12.0),\n",
       "  ('popular', 12.0),\n",
       "  ('vs', 12.0),\n",
       "  ('tacna', 11.0),\n",
       "  ('puno', 11.0),\n",
       "  ('reporta', 10.0),\n",
       "  ('congreso', 10.0),\n",
       "  ('nación', 10.0),\n",
       "  ('regional', 10.0),\n",
       "  ('arequipa', 10.0),\n",
       "  ('mil', 10.0),\n",
       "  ('meses', 9.0)],\n",
       " 'ExpresoPeru-2022_34': [('castillo', 32.0),\n",
       "  ('pedro', 21.0),\n",
       "  ('perú', 17.0),\n",
       "  ('paredes', 12.0),\n",
       "  ('denuncia', 12.0),\n",
       "  ('luis', 10.0),\n",
       "  ('benavides', 9.0),\n",
       "  ('patricia', 9.0),\n",
       "  ('yenifer', 7.0),\n",
       "  ('humala', 7.0),\n",
       "  ('colchado', 7.0),\n",
       "  ('fiscal', 7.0),\n",
       "  ('presidente', 7.0),\n",
       "  ('garcía', 7.0),\n",
       "  ('antauro', 6.0),\n",
       "  ('josé', 6.0),\n",
       "  ('pide', 5.0),\n",
       "  ('elecciones', 5.0),\n",
       "  ('miró', 5.0),\n",
       "  ('mascarillas', 5.0),\n",
       "  ('elguera', 5.0),\n",
       "  ('fiscalía', 4.0),\n",
       "  ('lilia', 4.0),\n",
       "  ('susana', 4.0),\n",
       "  ('años', 4.0),\n",
       "  ('ortiz', 4.0),\n",
       "  ('loúltimo', 4.0),\n",
       "  ('pnp', 4.0),\n",
       "  ('enportada', 4.0),\n",
       "  ('beto', 4.0)],\n",
       " 'diarioojo-2022_34': [('magaly', 25.0),\n",
       "  ('lima', 25.0),\n",
       "  ('piqué', 24.0),\n",
       "  ('años', 23.0),\n",
       "  ('pedro', 23.0),\n",
       "  ('castillo', 21.0),\n",
       "  ('gerard', 20.0),\n",
       "  ('mil', 19.0),\n",
       "  ('shakira', 19.0),\n",
       "  ('covid', 19.0),\n",
       "  ('perú', 19.0),\n",
       "  ('hija', 18.0),\n",
       "  ('samahara', 16.0),\n",
       "  ('karla', 15.0),\n",
       "  ('fiorella', 14.0),\n",
       "  ('vida', 14.0),\n",
       "  ('cree', 13.0),\n",
       "  ('paredes', 13.0),\n",
       "  ('san', 13.0),\n",
       "  ('juan', 13.0),\n",
       "  ('gisela', 12.0),\n",
       "  ('amor', 12.0),\n",
       "  ('separación', 12.0),\n",
       "  ('novia', 11.0),\n",
       "  ('ethel', 11.0),\n",
       "  ('brunella', 11.0),\n",
       "  ('tarazona', 11.0),\n",
       "  ('boda', 11.0),\n",
       "  ('conoce', 11.0),\n",
       "  ('retiz', 11.0)],\n",
       " 'DiarioElPeruano-2022_34': [('presidente', 26.0),\n",
       "  ('perú', 19.0),\n",
       "  ('pedro', 19.0),\n",
       "  ('castillo', 17.0),\n",
       "  ('normaslegales', 15.0),\n",
       "  ('nacional', 13.0),\n",
       "  ('consejo', 13.0),\n",
       "  ('año', 12.0),\n",
       "  ('ministros', 12.0),\n",
       "  ('ministerio', 11.0),\n",
       "  ('salud', 11.0),\n",
       "  ('país', 11.0),\n",
       "  ('años', 11.0),\n",
       "  ('titular', 10.0),\n",
       "  ('lima', 10.0),\n",
       "  ('millones', 10.0),\n",
       "  ('agosto', 10.0),\n",
       "  ('gobierno', 10.0),\n",
       "  ('seguridad', 10.0),\n",
       "  ('ministro', 10.0),\n",
       "  ('ejecutivo', 9.0),\n",
       "  ('región', 9.0),\n",
       "  ('defensa', 9.0),\n",
       "  ('sector', 9.0),\n",
       "  ('desarrollo', 9.0),\n",
       "  ('conoce', 9.0),\n",
       "  ('personas', 8.0),\n",
       "  ('investigación', 8.0),\n",
       "  ('busca', 8.0),\n",
       "  ('mujeres', 8.0)],\n",
       " 'larazon_pe-2022_34': [('congresista', 3.0),\n",
       "  ('setiembre', 2.0),\n",
       "  ('ingresa', 2.0),\n",
       "  ('señala', 2.0),\n",
       "  ('dinero', 2.0),\n",
       "  ('pena', 2.0),\n",
       "  ('yenifer', 2.0),\n",
       "  ('fiscal', 2.0),\n",
       "  ('paredes', 2.0),\n",
       "  ('mil', 2.0),\n",
       "  ('infórmate', 2.0),\n",
       "  ('lee', 2.0),\n",
       "  ('gobierno', 2.0),\n",
       "  ('presentan', 2.0),\n",
       "  ('championsleague', 2.0),\n",
       "  ('país', 2.0),\n",
       "  ('millones', 2.0),\n",
       "  ('uefa', 2.0),\n",
       "  ('prisión', 2.0),\n",
       "  ('año', 2.0),\n",
       "  ('castillo', 2.0),\n",
       "  ('realmadrid', 2.0),\n",
       "  ('audiencia', 2.0),\n",
       "  ('cines', 1.0),\n",
       "  ('decreto', 1.0),\n",
       "  ('armada', 1.0),\n",
       "  ('entrevista', 1.0),\n",
       "  ('compromete', 1.0),\n",
       "  ('penal', 1.0),\n",
       "  ('metropolitana', 1.0)],\n",
       " 'elbuho_pe-2022_34': [('elbuho', 19.0),\n",
       "  ('elbuhope', 17.0),\n",
       "  ('alvuelo', 9.0),\n",
       "  ('arequipa', 9.0),\n",
       "  ('perú', 7.0),\n",
       "  ('elecciones', 7.0),\n",
       "  ('fiscal', 7.0),\n",
       "  ('paredes', 6.0),\n",
       "  ('castillo', 6.0),\n",
       "  ('humala', 5.0),\n",
       "  ('antauro', 5.0),\n",
       "  ('nación', 5.0),\n",
       "  ('ministro', 4.0),\n",
       "  ('patricia', 4.0),\n",
       "  ('trabajadores', 4.0),\n",
       "  ('pico', 4.0),\n",
       "  ('benavides', 4.0),\n",
       "  ('yenifer', 4.0),\n",
       "  ('fiscalía', 4.0),\n",
       "  ('denuncia', 4.0),\n",
       "  ('exigen', 4.0),\n",
       "  ('pedro', 4.0),\n",
       "  ('pasó', 4.0),\n",
       "  ('importa', 4.0),\n",
       "  ('prisión', 4.0),\n",
       "  ('melgar', 3.0),\n",
       "  ('libre', 3.0),\n",
       "  ('huelga', 3.0),\n",
       "  ('preventiva', 3.0),\n",
       "  ('presidente', 3.0)],\n",
       " 'ensustrece-2022_34': [('ensustrece', 16.0),\n",
       "  ('escribe', 9.0),\n",
       "  ('años', 5.0),\n",
       "  ('castillo', 4.0),\n",
       "  ('presidente', 3.0),\n",
       "  ('suma', 3.0),\n",
       "  ('fujimorismo', 3.0),\n",
       "  ('hildebrandt', 3.0),\n",
       "  ('completa', 3.0),\n",
       "  ('hugo', 3.0),\n",
       "  ('espino', 3.0),\n",
       "  ('medina', 3.0),\n",
       "  ('alcalde', 3.0),\n",
       "  ('congreso', 3.0),\n",
       "  ('mecozam', 3.0),\n",
       "  ('repartija', 2.0),\n",
       "  ('social', 2.0),\n",
       "  ('estigma', 2.0),\n",
       "  ('meses', 2.0),\n",
       "  ('pide', 2.0),\n",
       "  ('lunes', 2.0),\n",
       "  ('caviar', 2.0),\n",
       "  ('azambranox', 2.0),\n",
       "  ('mcyrigoyen', 2.0),\n",
       "  ('pm', 2.0),\n",
       "  ('antauro', 2.0),\n",
       "  ('obras', 2.0),\n",
       "  ('gama', 2.0),\n",
       "  ('obtener', 2.0),\n",
       "  ('nenil', 2.0)],\n",
       " 'elcomercio_peru-2022_33': [('agosto', 48.0),\n",
       "  ('perú', 39.0),\n",
       "  ('años', 33.0),\n",
       "  ('covid', 27.0),\n",
       "  ('millones', 26.0),\n",
       "  ('dólar', 25.0),\n",
       "  ('cambio', 21.0),\n",
       "  ('méxico', 20.0),\n",
       "  ('rusia', 20.0),\n",
       "  ('tipo', 19.0),\n",
       "  ('lima', 18.0),\n",
       "  ('precio', 18.0),\n",
       "  ('gobierno', 17.0),\n",
       "  ('mil', 16.0),\n",
       "  ('ucrania', 15.0),\n",
       "  ('reporta', 15.0),\n",
       "  ('eeuu', 14.0),\n",
       "  ('mono', 14.0),\n",
       "  ('viruela', 14.0),\n",
       "  ('colombia', 13.0),\n",
       "  ('pide', 13.0),\n",
       "  ('chile', 12.0),\n",
       "  ('caso', 12.0),\n",
       "  ('muertos', 12.0),\n",
       "  ('personas', 11.0),\n",
       "  ('conoce', 11.0),\n",
       "  ('trump', 10.0),\n",
       "  ('contagios', 10.0),\n",
       "  ('horas', 10.0),\n",
       "  ('venezuela', 10.0)],\n",
       " 'larepublica_pe-2022_33': [('politicalr', 292.0),\n",
       "  ('lrdeportes', 268.0),\n",
       "  ('video', 197.0),\n",
       "  ('perú', 77.0),\n",
       "  ('lima', 72.0),\n",
       "  ('castillo', 67.0),\n",
       "  ('congreso', 58.0),\n",
       "  ('agosto', 58.0),\n",
       "  ('conoce', 54.0),\n",
       "  ('pedro', 53.0),\n",
       "  ('paredes', 47.0),\n",
       "  ('loúltimo', 46.0),\n",
       "  ('envivo', 41.0),\n",
       "  ('años', 40.0),\n",
       "  ('verificadorlr', 38.0),\n",
       "  ('presidente', 37.0),\n",
       "  ('zambrano', 37.0),\n",
       "  ('carlos', 33.0),\n",
       "  ('alianza', 33.0),\n",
       "  ('yenifer', 32.0),\n",
       "  ('millones', 30.0),\n",
       "  ('benedetto', 30.0),\n",
       "  ('elecciones', 28.0),\n",
       "  ('lrtendencias', 28.0),\n",
       "  ('república', 28.0),\n",
       "  ('melgar', 27.0),\n",
       "  ('liga', 27.0),\n",
       "  ('partido', 27.0),\n",
       "  ('san', 27.0),\n",
       "  ('comisión', 26.0)],\n",
       " 'peru21noticias-2022_33': [('castillo', 103.0),\n",
       "  ('pedro', 85.0),\n",
       "  ('perú', 62.0),\n",
       "  ('lima', 60.0),\n",
       "  ('cortita', 51.0),\n",
       "  ('años', 49.0),\n",
       "  ('gobierno', 48.0),\n",
       "  ('congreso', 47.0),\n",
       "  ('presidente', 45.0),\n",
       "  ('conoce', 43.0),\n",
       "  ('paredes', 41.0),\n",
       "  ('palacio', 39.0),\n",
       "  ('agosto', 38.0),\n",
       "  ('yenifer', 35.0),\n",
       "  ('josé', 34.0),\n",
       "  ('mil', 33.0),\n",
       "  ('fiscalía', 32.0),\n",
       "  ('millones', 31.0),\n",
       "  ('vs', 25.0),\n",
       "  ('real', 23.0),\n",
       "  ('covid', 23.0),\n",
       "  ('boca', 22.0),\n",
       "  ('carlos', 22.0),\n",
       "  ('ministro', 21.0),\n",
       "  ('niño', 21.0),\n",
       "  ('niños', 21.0),\n",
       "  ('humala', 21.0),\n",
       "  ('cámaras', 21.0),\n",
       "  ('programa', 20.0),\n",
       "  ('alcalde', 20.0)],\n",
       " 'tromepe-2022_33': [('vs', 69.0),\n",
       "  ('lee', 46.0),\n",
       "  ('lima', 45.0),\n",
       "  ('años', 45.0),\n",
       "  ('zambrano', 35.0),\n",
       "  ('perú', 33.0),\n",
       "  ('diego', 30.0),\n",
       "  ('carlos', 28.0),\n",
       "  ('pedro', 27.0),\n",
       "  ('boca', 27.0),\n",
       "  ('casa', 26.0),\n",
       "  ('benedetto', 26.0),\n",
       "  ('real', 25.0),\n",
       "  ('conoce', 25.0),\n",
       "  ('castillo', 24.0),\n",
       "  ('franco', 23.0),\n",
       "  ('madrid', 22.0),\n",
       "  ('liga', 22.0),\n",
       "  ('paz', 21.0),\n",
       "  ('magaly', 21.0),\n",
       "  ('jamila', 20.0),\n",
       "  ('gol', 20.0),\n",
       "  ('vía', 20.0),\n",
       "  ('hora', 20.0),\n",
       "  ('mil', 20.0),\n",
       "  ('niño', 20.0),\n",
       "  ('barra', 19.0),\n",
       "  ('paredes', 19.0),\n",
       "  ('directo', 18.0),\n",
       "  ('sofía', 18.0)],\n",
       " 'Gestionpe-2022_33': [('perú', 84.0),\n",
       "  ('lima', 63.0),\n",
       "  ('economía', 51.0),\n",
       "  ('millones', 49.0),\n",
       "  ('eeuu', 45.0),\n",
       "  ('elecciones', 39.0),\n",
       "  ('agosto', 35.0),\n",
       "  ('china', 32.0),\n",
       "  ('tasas', 31.0),\n",
       "  ('trabajo', 31.0),\n",
       "  ('años', 30.0),\n",
       "  ('riesgo', 28.0),\n",
       "  ('empresas', 28.0),\n",
       "  ('bono', 27.0),\n",
       "  ('congreso', 27.0),\n",
       "  ('covid', 27.0),\n",
       "  ('año', 26.0),\n",
       "  ('dólar', 25.0),\n",
       "  ('us', 24.0),\n",
       "  ('fed', 24.0),\n",
       "  ('votar', 24.0),\n",
       "  ('video', 24.0),\n",
       "  ('castillo', 24.0),\n",
       "  ('alza', 23.0),\n",
       "  ('gobierno', 23.0),\n",
       "  ('producción', 23.0),\n",
       "  ('mercado', 23.0),\n",
       "  ('alimentario', 23.0),\n",
       "  ('peruanos', 22.0),\n",
       "  ('afp', 22.0)],\n",
       " 'diariocorreo-2022_33': [('castillo', 55.0),\n",
       "  ('pedro', 48.0),\n",
       "  ('congreso', 33.0),\n",
       "  ('gobierno', 32.0),\n",
       "  ('perú', 31.0),\n",
       "  ('paredes', 30.0),\n",
       "  ('libertad', 29.0),\n",
       "  ('yenifer', 26.0),\n",
       "  ('lima', 24.0),\n",
       "  ('covid', 24.0),\n",
       "  ('josé', 24.0),\n",
       "  ('prisión', 23.0),\n",
       "  ('años', 23.0),\n",
       "  ('torres', 23.0),\n",
       "  ('fiscalía', 23.0),\n",
       "  ('presidente', 22.0),\n",
       "  ('mil', 21.0),\n",
       "  ('aníbal', 21.0),\n",
       "  ('arequipa', 21.0),\n",
       "  ('piura', 21.0),\n",
       "  ('conoce', 21.0),\n",
       "  ('palacio', 20.0),\n",
       "  ('agosto', 20.0),\n",
       "  ('tumbes', 20.0),\n",
       "  ('pide', 19.0),\n",
       "  ('viruela', 19.0),\n",
       "  ('mono', 19.0),\n",
       "  ('elecciones', 19.0),\n",
       "  ('real', 19.0),\n",
       "  ('vs', 19.0)],\n",
       " 'ExpresoPeru-2022_33': [('castillo', 47.0),\n",
       "  ('pedro', 25.0),\n",
       "  ('paredes', 23.0),\n",
       "  ('perú', 19.0),\n",
       "  ('yenifer', 18.0),\n",
       "  ('congreso', 18.0),\n",
       "  ('palacio', 17.0),\n",
       "  ('josé', 12.0),\n",
       "  ('torres', 11.0),\n",
       "  ('gobierno', 10.0),\n",
       "  ('antauro', 10.0),\n",
       "  ('luis', 9.0),\n",
       "  ('humala', 8.0),\n",
       "  ('aníbal', 8.0),\n",
       "  ('fiscalía', 8.0),\n",
       "  ('garcía', 8.0),\n",
       "  ('país', 7.0),\n",
       "  ('niños', 6.0),\n",
       "  ('alvarado', 6.0),\n",
       "  ('prisión', 6.0),\n",
       "  ('enportada', 6.0),\n",
       "  ('preventiva', 6.0),\n",
       "  ('presidente', 6.0),\n",
       "  ('geiner', 6.0),\n",
       "  ('lima', 6.0),\n",
       "  ('millones', 5.0),\n",
       "  ('ejecutivo', 5.0),\n",
       "  ('ministro', 5.0),\n",
       "  ('medina', 5.0),\n",
       "  ('guerra', 5.0)],\n",
       " 'diarioojo-2022_33': [('magaly', 46.0),\n",
       "  ('años', 45.0),\n",
       "  ('lima', 36.0),\n",
       "  ('sofía', 30.0),\n",
       "  ('castillo', 30.0),\n",
       "  ('hija', 29.0),\n",
       "  ('pedro', 28.0),\n",
       "  ('perú', 27.0),\n",
       "  ('franco', 27.0),\n",
       "  ('jamila', 26.0),\n",
       "  ('mil', 26.0),\n",
       "  ('paz', 24.0),\n",
       "  ('barra', 22.0),\n",
       "  ('diego', 22.0),\n",
       "  ('conoce', 21.0),\n",
       "  ('covid', 21.0),\n",
       "  ('revela', 18.0),\n",
       "  ('garcía', 17.0),\n",
       "  ('zambrano', 16.0),\n",
       "  ('fiorella', 16.0),\n",
       "  ('alondra', 15.0),\n",
       "  ('bertie', 15.0),\n",
       "  ('programa', 14.0),\n",
       "  ('habría', 14.0),\n",
       "  ('carlos', 14.0),\n",
       "  ('fiesta', 13.0),\n",
       "  ('retiz', 13.0),\n",
       "  ('familia', 13.0),\n",
       "  ('deja', 13.0),\n",
       "  ('hijo', 13.0)],\n",
       " 'DiarioElPeruano-2022_33': [('nacional', 29.0),\n",
       "  ('presidente', 27.0),\n",
       "  ('país', 24.0),\n",
       "  ('pedro', 22.0),\n",
       "  ('castillo', 22.0),\n",
       "  ('gobierno', 20.0),\n",
       "  ('lima', 15.0),\n",
       "  ('año', 14.0),\n",
       "  ('millones', 14.0),\n",
       "  ('perú', 14.0),\n",
       "  ('titular', 13.0),\n",
       "  ('normaslegales', 12.0),\n",
       "  ('república', 12.0),\n",
       "  ('atención', 12.0),\n",
       "  ('años', 11.0),\n",
       "  ('trabajo', 11.0),\n",
       "  ('ministro', 11.0),\n",
       "  ('congreso', 11.0),\n",
       "  ('ley', 10.0),\n",
       "  ('josé', 10.0),\n",
       "  ('ejecutivo', 9.0),\n",
       "  ('programa', 9.0),\n",
       "  ('ministerio', 9.0),\n",
       "  ('consejo', 9.0),\n",
       "  ('soles', 9.0),\n",
       "  ('palacio', 8.0),\n",
       "  ('proceso', 8.0),\n",
       "  ('población', 8.0),\n",
       "  ('decreto', 8.0),\n",
       "  ('agosto', 8.0)],\n",
       " 'larazon_pe-2022_33': [('leer', 8.0),\n",
       "  ('mandatario', 4.0),\n",
       "  ('agosto', 4.0),\n",
       "  ('país', 3.0),\n",
       "  ('cerca', 3.0),\n",
       "  ('fiscalía', 3.0),\n",
       "  ('corrupción', 3.0),\n",
       "  ('estadounidenses', 3.0),\n",
       "  ('castillo', 3.0),\n",
       "  ('señala', 3.0),\n",
       "  ('millones', 3.0),\n",
       "  ('cuñada', 3.0),\n",
       "  ('mil', 2.0),\n",
       "  ('sueldos', 2.0),\n",
       "  ('suplemento', 2.0),\n",
       "  ('congreso', 2.0),\n",
       "  ('juanreynoso', 2.0),\n",
       "  ('aníbal', 2.0),\n",
       "  ('reactiva', 2.0),\n",
       "  ('carloszambrano', 2.0),\n",
       "  ('acontecer', 2.0),\n",
       "  ('permitirá', 2.0),\n",
       "  ('puedes', 2.0),\n",
       "  ('us', 2.0),\n",
       "  ('taiwán', 2.0),\n",
       "  ('revela', 2.0),\n",
       "  ('auditor', 2.0),\n",
       "  ('dólares', 2.0),\n",
       "  ('denuncias', 2.0),\n",
       "  ('atención', 2.0)],\n",
       " 'elbuho_pe-2022_33': [('venezuela', 0.0),\n",
       "  ('stick', 0.0),\n",
       "  ('anitta', 0.0),\n",
       "  ('entonó', 0.0),\n",
       "  ('maravilló', 0.0),\n",
       "  ('rebecca', 0.0),\n",
       "  ('dogs', 0.0),\n",
       "  ('dembow', 0.0),\n",
       "  ('psa', 0.0),\n",
       "  ('monos', 0.0),\n",
       "  ('spanic', 0.0),\n",
       "  ('gaby', 0.0),\n",
       "  ('aylín', 0.0),\n",
       "  ('geraldine', 0.0),\n",
       "  ('villanas', 0.0),\n",
       "  ('pachacámac', 0.0),\n",
       "  ('reclutador', 0.0),\n",
       "  ('impresionar', 0.0),\n",
       "  ('agurto', 0.0),\n",
       "  ('internada', 0.0),\n",
       "  ('desacreditó', 0.0),\n",
       "  ('hildebrando', 0.0),\n",
       "  ('chiara', 0.0),\n",
       "  ('rulito', 0.0),\n",
       "  ('lencería', 0.0),\n",
       "  ('luceila', 0.0),\n",
       "  ('maquillados', 0.0),\n",
       "  ('cuestionables', 0.0),\n",
       "  ('my', 0.0),\n",
       "  ('indignada', 0.0)],\n",
       " 'ensustrece-2022_33': [('venezuela', 0.0),\n",
       "  ('stick', 0.0),\n",
       "  ('anitta', 0.0),\n",
       "  ('entonó', 0.0),\n",
       "  ('maravilló', 0.0),\n",
       "  ('rebecca', 0.0),\n",
       "  ('dogs', 0.0),\n",
       "  ('dembow', 0.0),\n",
       "  ('psa', 0.0),\n",
       "  ('monos', 0.0),\n",
       "  ('spanic', 0.0),\n",
       "  ('gaby', 0.0),\n",
       "  ('aylín', 0.0),\n",
       "  ('geraldine', 0.0),\n",
       "  ('villanas', 0.0),\n",
       "  ('pachacámac', 0.0),\n",
       "  ('reclutador', 0.0),\n",
       "  ('impresionar', 0.0),\n",
       "  ('agurto', 0.0),\n",
       "  ('internada', 0.0),\n",
       "  ('desacreditó', 0.0),\n",
       "  ('hildebrando', 0.0),\n",
       "  ('chiara', 0.0),\n",
       "  ('rulito', 0.0),\n",
       "  ('lencería', 0.0),\n",
       "  ('luceila', 0.0),\n",
       "  ('maquillados', 0.0),\n",
       "  ('cuestionables', 0.0),\n",
       "  ('my', 0.0),\n",
       "  ('indignada', 0.0)],\n",
       " 'elcomercio_peru-2022_39': [('lima', 39.0),\n",
       "  ('perú', 38.0),\n",
       "  ('elecciones', 35.0),\n",
       "  ('setiembre', 29.0),\n",
       "  ('rusia', 27.0),\n",
       "  ('ian', 27.0),\n",
       "  ('renezp', 25.0),\n",
       "  ('huracán', 24.0),\n",
       "  ('candidato', 19.0),\n",
       "  ('ucrania', 18.0),\n",
       "  ('precio', 16.0),\n",
       "  ('florida', 16.0),\n",
       "  ('millones', 16.0),\n",
       "  ('años', 15.0),\n",
       "  ('cambio', 14.0),\n",
       "  ('eeuu', 14.0),\n",
       "  ('perucheck', 14.0),\n",
       "  ('candidatos', 13.0),\n",
       "  ('conoce', 13.0),\n",
       "  ('regiones', 13.0),\n",
       "  ('tipo', 13.0),\n",
       "  ('dólar', 13.0),\n",
       "  ('bolsonaro', 11.0),\n",
       "  ('consulta', 11.0),\n",
       "  ('lula', 11.0),\n",
       "  ('túdecides', 10.0),\n",
       "  ('covid', 10.0),\n",
       "  ('alcaldía', 10.0),\n",
       "  ('méxico', 10.0),\n",
       "  ('nord', 10.0)],\n",
       " 'larepublica_pe-2022_39': [('politicalr', 235.0),\n",
       "  ('lrdeportes', 182.0),\n",
       "  ('video', 150.0),\n",
       "  ('perú', 90.0),\n",
       "  ('elecciones', 77.0),\n",
       "  ('lima', 74.0),\n",
       "  ('eligebien', 66.0),\n",
       "  ('debatexlr', 48.0),\n",
       "  ('envivo', 47.0),\n",
       "  ('octubre', 42.0),\n",
       "  ('castillo', 41.0),\n",
       "  ('votar', 34.0),\n",
       "  ('loúltimo', 34.0),\n",
       "  ('transmisión', 33.0),\n",
       "  ('minuto', 33.0),\n",
       "  ('candidatos', 32.0),\n",
       "  ('años', 32.0),\n",
       "  ('conoce', 31.0),\n",
       "  ('república', 28.0),\n",
       "  ('electoral', 27.0),\n",
       "  ('personas', 26.0),\n",
       "  ('pierdas', 26.0),\n",
       "  ('candidato', 25.0),\n",
       "  ('salvador', 25.0),\n",
       "  ('vs', 25.0),\n",
       "  ('alvarezrodrich', 24.0),\n",
       "  ('partido', 24.0),\n",
       "  ('gobierno', 24.0),\n",
       "  ('alcaldía', 23.0),\n",
       "  ('pedro', 23.0)],\n",
       " 'peru21noticias-2022_39': [('lima', 72.0),\n",
       "  ('elecciones', 69.0),\n",
       "  ('perú', 67.0),\n",
       "  ('castillo', 43.0),\n",
       "  ('minuto', 36.0),\n",
       "  ('cortita', 35.0),\n",
       "  ('octubre', 35.0),\n",
       "  ('envivo', 33.0),\n",
       "  ('candidato', 32.0),\n",
       "  ('conoce', 30.0),\n",
       "  ('alcaldía', 25.0),\n",
       "  ('urresti', 25.0),\n",
       "  ('años', 24.0),\n",
       "  ('pedro', 24.0),\n",
       "  ('daniel', 23.0),\n",
       "  ('caso', 21.0),\n",
       "  ('candidatos', 20.0),\n",
       "  ('vásquez', 20.0),\n",
       "  ('avión', 19.0),\n",
       "  ('boca', 19.0),\n",
       "  ('lópez', 19.0),\n",
       "  ('vs', 19.0),\n",
       "  ('país', 19.0),\n",
       "  ('debate', 19.0),\n",
       "  ('mundial', 19.0),\n",
       "  ('fiscalía', 18.0),\n",
       "  ('setiembre', 18.0),\n",
       "  ('presidencial', 18.0),\n",
       "  ('presidente', 17.0),\n",
       "  ('aliaga', 17.0)],\n",
       " 'tromepe-2022_39': [('lima', 61.0),\n",
       "  ('perú', 58.0),\n",
       "  ('vs', 58.0),\n",
       "  ('elecciones', 46.0),\n",
       "  ('magaly', 39.0),\n",
       "  ('show', 36.0),\n",
       "  ('boca', 31.0),\n",
       "  ('lee', 31.0),\n",
       "  ('castillo', 29.0),\n",
       "  ('peruana', 28.0),\n",
       "  ('paredes', 28.0),\n",
       "  ('alianza', 25.0),\n",
       "  ('salvador', 25.0),\n",
       "  ('melissa', 25.0),\n",
       "  ('gisela', 24.0),\n",
       "  ('alcaldía', 23.0),\n",
       "  ('selección', 22.0),\n",
       "  ('reyna', 20.0),\n",
       "  ('christian', 20.0),\n",
       "  ('robotina', 20.0),\n",
       "  ('bryan', 20.0),\n",
       "  ('vida', 20.0),\n",
       "  ('gol', 19.0),\n",
       "  ('robotín', 19.0),\n",
       "  ('san', 19.0),\n",
       "  ('candidato', 19.0),\n",
       "  ('rafael', 19.0),\n",
       "  ('octubre', 18.0),\n",
       "  ('urna', 18.0),\n",
       "  ('medina', 18.0)],\n",
       " 'Gestionpe-2022_39': [('elecciones', 101.0),\n",
       "  ('perú', 65.0),\n",
       "  ('lima', 58.0),\n",
       "  ('millones', 49.0),\n",
       "  ('votar', 47.0),\n",
       "  ('empresas', 36.0),\n",
       "  ('octubre', 30.0),\n",
       "  ('eeuu', 30.0),\n",
       "  ('año', 30.0),\n",
       "  ('dólar', 30.0),\n",
       "  ('años', 29.0),\n",
       "  ('alza', 28.0),\n",
       "  ('mercados', 27.0),\n",
       "  ('us', 26.0),\n",
       "  ('riesgo', 26.0),\n",
       "  ('precio', 24.0),\n",
       "  ('lomásleídodesetiembre', 24.0),\n",
       "  ('precios', 24.0),\n",
       "  ('crédito', 23.0),\n",
       "  ('castillo', 23.0),\n",
       "  ('inflación', 22.0),\n",
       "  ('mundial', 22.0),\n",
       "  ('presidencial', 21.0),\n",
       "  ('urresti', 21.0),\n",
       "  ('dni', 21.0),\n",
       "  ('onpe', 20.0),\n",
       "  ('avión', 20.0),\n",
       "  ('video', 19.0),\n",
       "  ('cobre', 19.0),\n",
       "  ('país', 18.0)],\n",
       " 'diariocorreo-2022_39': [('elecciones', 45.0),\n",
       "  ('lima', 35.0),\n",
       "  ('castillo', 35.0),\n",
       "  ('arequipa', 31.0),\n",
       "  ('pedro', 29.0),\n",
       "  ('perú', 29.0),\n",
       "  ('candidatos', 28.0),\n",
       "  ('años', 22.0),\n",
       "  ('octubre', 21.0),\n",
       "  ('candidato', 21.0),\n",
       "  ('puno', 20.0),\n",
       "  ('piura', 18.0),\n",
       "  ('vs', 17.0),\n",
       "  ('región', 16.0),\n",
       "  ('premium', 15.0),\n",
       "  ('ministro', 15.0),\n",
       "  ('presidente', 15.0),\n",
       "  ('tumbes', 14.0),\n",
       "  ('gol', 14.0),\n",
       "  ('presidencial', 14.0),\n",
       "  ('congreso', 13.0),\n",
       "  ('alcaldía', 13.0),\n",
       "  ('votación', 13.0),\n",
       "  ('libertad', 13.0),\n",
       "  ('mil', 13.0),\n",
       "  ('millones', 13.0),\n",
       "  ('electoral', 13.0),\n",
       "  ('gobierno', 12.0),\n",
       "  ('daniel', 12.0),\n",
       "  ('vásquez', 12.0)],\n",
       " 'ExpresoPeru-2022_39': [('castillo', 30.0),\n",
       "  ('pedro', 21.0),\n",
       "  ('elecciones', 19.0),\n",
       "  ('presidencial', 14.0),\n",
       "  ('perú', 13.0),\n",
       "  ('avión', 13.0),\n",
       "  ('vásquez', 11.0),\n",
       "  ('caso', 10.0),\n",
       "  ('lay', 10.0),\n",
       "  ('jorge', 8.0),\n",
       "  ('aliaga', 8.0),\n",
       "  ('lópez', 8.0),\n",
       "  ('deja', 7.0),\n",
       "  ('luis', 7.0),\n",
       "  ('votar', 7.0),\n",
       "  ('torres', 6.0),\n",
       "  ('urresti', 6.0),\n",
       "  ('mil', 6.0),\n",
       "  ('presidente', 6.0),\n",
       "  ('sobrino', 6.0),\n",
       "  ('rafael', 6.0),\n",
       "  ('pide', 6.0),\n",
       "  ('aníbal', 6.0),\n",
       "  ('forsyth', 6.0),\n",
       "  ('años', 6.0),\n",
       "  ('jne', 6.0),\n",
       "  ('san', 5.0),\n",
       "  ('denuncia', 5.0),\n",
       "  ('cuba', 5.0),\n",
       "  ('paredes', 5.0)],\n",
       " 'diarioojo-2022_39': [('elecciones', 45.0),\n",
       "  ('magaly', 44.0),\n",
       "  ('robotín', 28.0),\n",
       "  ('lima', 27.0),\n",
       "  ('perú', 24.0),\n",
       "  ('show', 23.0),\n",
       "  ('melissa', 23.0),\n",
       "  ('gisela', 21.0),\n",
       "  ('robotina', 20.0),\n",
       "  ('años', 18.0),\n",
       "  ('paredes', 18.0),\n",
       "  ('octubre', 18.0),\n",
       "  ('castillo', 15.0),\n",
       "  ('boca', 15.0),\n",
       "  ('valcárcel', 15.0),\n",
       "  ('peruana', 13.0),\n",
       "  ('conoce', 13.0),\n",
       "  ('christian', 13.0),\n",
       "  ('hija', 13.0),\n",
       "  ('medina', 12.0),\n",
       "  ('urresti', 12.0),\n",
       "  ('covid', 12.0),\n",
       "  ('san', 11.0),\n",
       "  ('municipal', 11.0),\n",
       "  ('votar', 11.0),\n",
       "  ('rafael', 11.0),\n",
       "  ('alcaldía', 11.0),\n",
       "  ('revela', 11.0),\n",
       "  ('tv', 11.0),\n",
       "  ('lópez', 11.0)],\n",
       " 'DiarioElPeruano-2022_39': [('lima', 27.0),\n",
       "  ('perú', 21.0),\n",
       "  ('país', 19.0),\n",
       "  ('alcaldía', 19.0),\n",
       "  ('nacional', 18.0),\n",
       "  ('debatemunicipaljne', 17.0),\n",
       "  ('elecciones', 14.0),\n",
       "  ('ministerio', 14.0),\n",
       "  ('presidente', 14.0),\n",
       "  ('salud', 14.0),\n",
       "  ('candidatos', 13.0),\n",
       "  ('regionales', 12.0),\n",
       "  ('programa', 12.0),\n",
       "  ('millones', 11.0),\n",
       "  ('año', 11.0),\n",
       "  ('octubre', 11.0),\n",
       "  ('titular', 9.0),\n",
       "  ('ministro', 9.0),\n",
       "  ('electoral', 9.0),\n",
       "  ('pedro', 9.0),\n",
       "  ('castillo', 9.0),\n",
       "  ('municipales', 9.0),\n",
       "  ('obras', 8.0),\n",
       "  ('san', 8.0),\n",
       "  ('proyecto', 8.0),\n",
       "  ('normaslegales', 8.0),\n",
       "  ('ministros', 8.0),\n",
       "  ('social', 8.0),\n",
       "  ('atención', 8.0),\n",
       "  ('candidato', 7.0)],\n",
       " 'larazon_pe-2022_39': [('nota', 5.0),\n",
       "  ('perú', 4.0),\n",
       "  ('denuncia', 4.0),\n",
       "  ('lima', 4.0),\n",
       "  ('san', 3.0),\n",
       "  ('fiscal', 3.0),\n",
       "  ('andino', 3.0),\n",
       "  ('caiga', 2.0),\n",
       "  ('renuncia', 2.0),\n",
       "  ('candidatos', 2.0),\n",
       "  ('fútbol', 2.0),\n",
       "  ('metropolitana', 2.0),\n",
       "  ('daniel', 2.0),\n",
       "  ('nación', 2.0),\n",
       "  ('electoral', 2.0),\n",
       "  ('falsas', 2.0),\n",
       "  ('avanza', 2.0),\n",
       "  ('urresti', 2.0),\n",
       "  ('corrupción', 2.0),\n",
       "  ('lee', 2.0),\n",
       "  ('ministerio', 2.0),\n",
       "  ('aliaga', 2.0),\n",
       "  ('proyectos', 2.0),\n",
       "  ('realiza', 2.0),\n",
       "  ('local', 2.0),\n",
       "  ('pide', 2.0),\n",
       "  ('busca', 2.0),\n",
       "  ('lópez', 2.0),\n",
       "  ('congreso', 2.0),\n",
       "  ('luis', 2.0)],\n",
       " 'elbuho_pe-2022_39': [('elbuhope', 50.0),\n",
       "  ('arequipa', 42.0),\n",
       "  ('elecciones', 41.0),\n",
       "  ('elbuho', 22.0),\n",
       "  ('candidatos', 18.0),\n",
       "  ('alvuelo', 16.0),\n",
       "  ('electoral', 12.0),\n",
       "  ('campaña', 10.0),\n",
       "  ('perú', 10.0),\n",
       "  ('regionales', 10.0),\n",
       "  ('candidato', 9.0),\n",
       "  ('urna', 8.0),\n",
       "  ('boca', 8.0),\n",
       "  ('pasó', 7.0),\n",
       "  ('puno', 6.0),\n",
       "  ('domingo', 6.0),\n",
       "  ('torres', 5.0),\n",
       "  ('castillo', 5.0),\n",
       "  ('rohel', 5.0),\n",
       "  ('gobernador', 5.0),\n",
       "  ('antauro', 5.0),\n",
       "  ('provincial', 5.0),\n",
       "  ('cierre', 5.0),\n",
       "  ('sánchez', 5.0),\n",
       "  ('movimientos', 5.0),\n",
       "  ('cobertura', 5.0),\n",
       "  ('octubre', 5.0),\n",
       "  ('congresista', 5.0),\n",
       "  ('regional', 5.0),\n",
       "  ('alcaldía', 5.0)],\n",
       " 'ensustrece-2022_39': [('ensustrece', 8.0),\n",
       "  ('hildebrandt', 7.0),\n",
       "  ('eloymarchan', 4.0),\n",
       "  ('escribe', 4.0),\n",
       "  ('lima', 4.0),\n",
       "  ('canal', 3.0),\n",
       "  ('presidente', 3.0),\n",
       "  ('cifras', 2.0),\n",
       "  ('hermana', 2.0),\n",
       "  ('américa', 2.0),\n",
       "  ('quesada', 2.0),\n",
       "  ('miró', 2.0),\n",
       "  ('gobierno', 2.0),\n",
       "  ('justicia', 2.0),\n",
       "  ('edición', 2.0),\n",
       "  ('vida', 2.0),\n",
       "  ('podcast', 2.0),\n",
       "  ('reportaje', 2.0),\n",
       "  ('gilberto', 2.0),\n",
       "  ('hume', 2.0),\n",
       "  ('asco', 2.0),\n",
       "  ('maría', 2.0),\n",
       "  ('fiscal', 2.0),\n",
       "  ('nación', 2.0),\n",
       "  ('acaba', 2.0),\n",
       "  ('reunió', 1.0),\n",
       "  ('producir', 1.0),\n",
       "  ('automóvil', 1.0),\n",
       "  ('números', 1.0),\n",
       "  ('líos', 1.0)],\n",
       " 'elcomercio_peru-2022_44': [('noviembre', 36.0),\n",
       "  ('lula', 33.0),\n",
       "  ('brasil', 26.0),\n",
       "  ('perú', 25.0),\n",
       "  ('lima', 25.0),\n",
       "  ('rusia', 18.0),\n",
       "  ('millones', 18.0),\n",
       "  ('ucrania', 16.0),\n",
       "  ('elecciones', 16.0),\n",
       "  ('corea', 16.0),\n",
       "  ('eeuu', 15.0),\n",
       "  ('dólar', 14.0),\n",
       "  ('covid', 13.0),\n",
       "  ('cambio', 12.0),\n",
       "  ('tipo', 12.0),\n",
       "  ('precio', 12.0),\n",
       "  ('años', 12.0),\n",
       "  ('unidos', 12.0),\n",
       "  ('personas', 11.0),\n",
       "  ('colombia', 11.0),\n",
       "  ('silva', 11.0),\n",
       "  ('conoce', 10.0),\n",
       "  ('victoria', 10.0),\n",
       "  ('bolsonaro', 10.0),\n",
       "  ('policía', 9.0),\n",
       "  ('santos', 9.0),\n",
       "  ('norte', 9.0),\n",
       "  ('gobierno', 9.0),\n",
       "  ('guerra', 8.0),\n",
       "  ('horas', 8.0)],\n",
       " 'larepublica_pe-2022_44': [('politicalr', 166.0),\n",
       "  ('lrdeportes', 164.0),\n",
       "  ('video', 103.0),\n",
       "  ('noviembre', 51.0),\n",
       "  ('lima', 51.0),\n",
       "  ('perú', 48.0),\n",
       "  ('castillo', 44.0),\n",
       "  ('alianza', 41.0),\n",
       "  ('melgar', 38.0),\n",
       "  ('liga', 35.0),\n",
       "  ('congreso', 31.0),\n",
       "  ('cristal', 30.0),\n",
       "  ('canal', 26.0),\n",
       "  ('años', 26.0),\n",
       "  ('presidente', 26.0),\n",
       "  ('→', 24.0),\n",
       "  ('brasil', 24.0),\n",
       "  ('caso', 24.0),\n",
       "  ('pedro', 24.0),\n",
       "  ('suscríbete', 23.0),\n",
       "  ('youtube', 23.0),\n",
       "  ('lula', 23.0),\n",
       "  ('lrtendencias', 22.0),\n",
       "  ('verificadorlr', 22.0),\n",
       "  ('mira', 21.0),\n",
       "  ('oea', 21.0),\n",
       "  ('país', 19.0),\n",
       "  ('loúltimo', 19.0),\n",
       "  ('denuncia', 17.0),\n",
       "  ('entrevista', 17.0)],\n",
       " 'peru21noticias-2022_44': [('perú', 46.0),\n",
       "  ('castillo', 44.0),\n",
       "  ('lima', 38.0),\n",
       "  ('pedro', 37.0),\n",
       "  ('cortita', 36.0),\n",
       "  ('noviembre', 32.0),\n",
       "  ('conoce', 21.0),\n",
       "  ('presidente', 19.0),\n",
       "  ('vs', 17.0),\n",
       "  ('oea', 17.0),\n",
       "  ('años', 17.0),\n",
       "  ('nacional', 16.0),\n",
       "  ('brasil', 15.0),\n",
       "  ('mundial', 14.0),\n",
       "  ('país', 13.0),\n",
       "  ('gol', 13.0),\n",
       "  ('millones', 13.0),\n",
       "  ('halloween', 13.0),\n",
       "  ('josé', 12.0),\n",
       "  ('peruana', 12.0),\n",
       "  ('piqué', 12.0),\n",
       "  ('rusia', 12.0),\n",
       "  ('peruanos', 11.0),\n",
       "  ('odebrecht', 11.0),\n",
       "  ('san', 11.0),\n",
       "  ('familia', 11.0),\n",
       "  ('congreso', 11.0),\n",
       "  ('mil', 11.0),\n",
       "  ('fondo', 11.0),\n",
       "  ('caso', 11.0)],\n",
       " 'tromepe-2022_44': [('lima', 47.0),\n",
       "  ('vs', 36.0),\n",
       "  ('halloween', 31.0),\n",
       "  ('alianza', 27.0),\n",
       "  ('perú', 23.0),\n",
       "  ('noviembre', 23.0),\n",
       "  ('conoce', 23.0),\n",
       "  ('john', 21.0),\n",
       "  ('amor', 21.0),\n",
       "  ('magaly', 21.0),\n",
       "  ('melissa', 21.0),\n",
       "  ('melgar', 21.0),\n",
       "  ('kelvin', 20.0),\n",
       "  ('castillo', 20.0),\n",
       "  ('cristal', 20.0),\n",
       "  ('pedro', 19.0),\n",
       "  ('liga', 19.0),\n",
       "  ('piqué', 18.0),\n",
       "  ('mundial', 18.0),\n",
       "  ('mil', 15.0),\n",
       "  ('gerard', 15.0),\n",
       "  ('disfraz', 14.0),\n",
       "  ('giuliana', 14.0),\n",
       "  ('show', 13.0),\n",
       "  ('américa', 12.0),\n",
       "  ('revela', 12.0),\n",
       "  ('clausura', 12.0),\n",
       "  ('familia', 12.0),\n",
       "  ('paredes', 12.0),\n",
       "  ('sporting', 12.0)],\n",
       " 'Gestionpe-2022_44': [('perú', 76.0),\n",
       "  ('lomásleídodeoctubre', 48.0),\n",
       "  ('noviembre', 46.0),\n",
       "  ('bono', 38.0),\n",
       "  ('alimentario', 34.0),\n",
       "  ('lima', 33.0),\n",
       "  ('tasas', 23.0),\n",
       "  ('empresas', 20.0),\n",
       "  ('fed', 20.0),\n",
       "  ('covid', 20.0),\n",
       "  ('castillo', 20.0),\n",
       "  ('precios', 19.0),\n",
       "  ('link', 19.0),\n",
       "  ('pago', 18.0),\n",
       "  ('dólar', 17.0),\n",
       "  ('eeuu', 17.0),\n",
       "  ('sube', 16.0),\n",
       "  ('beneficiario', 16.0),\n",
       "  ('producción', 16.0),\n",
       "  ('trabajo', 16.0),\n",
       "  ('mercados', 15.0),\n",
       "  ('gobierno', 15.0),\n",
       "  ('rusia', 14.0),\n",
       "  ('soles', 14.0),\n",
       "  ('whatsapp', 14.0),\n",
       "  ('años', 14.0),\n",
       "  ('peruanos', 14.0),\n",
       "  ('twitter', 14.0),\n",
       "  ('brasil', 13.0),\n",
       "  ('cambio', 13.0)],\n",
       " 'diariocorreo-2022_44': [('lima', 36.0),\n",
       "  ('castillo', 30.0),\n",
       "  ('noviembre', 24.0),\n",
       "  ('pedro', 21.0),\n",
       "  ('perú', 18.0),\n",
       "  ('vs', 16.0),\n",
       "  ('brasil', 14.0),\n",
       "  ('arequipa', 13.0),\n",
       "  ('alianza', 12.0),\n",
       "  ('mil', 12.0),\n",
       "  ('caso', 12.0),\n",
       "  ('corea', 12.0),\n",
       "  ('sporting', 11.0),\n",
       "  ('rusia', 11.0),\n",
       "  ('cristal', 11.0),\n",
       "  ('tumbes', 11.0),\n",
       "  ('millones', 10.0),\n",
       "  ('gol', 10.0),\n",
       "  ('horas', 10.0),\n",
       "  ('trujillo', 10.0),\n",
       "  ('gobierno', 10.0),\n",
       "  ('presidente', 9.0),\n",
       "  ('lula', 9.0),\n",
       "  ('halloween', 9.0),\n",
       "  ('piura', 9.0),\n",
       "  ('mundial', 9.0),\n",
       "  ('huancayo', 9.0),\n",
       "  ('juan', 9.0),\n",
       "  ('melgar', 9.0),\n",
       "  ('congreso', 9.0)],\n",
       " 'ExpresoPeru-2022_44': [('castillo', 23.0),\n",
       "  ('pedro', 14.0),\n",
       "  ('perú', 12.0),\n",
       "  ('luis', 10.0),\n",
       "  ('oea', 8.0),\n",
       "  ('brasil', 8.0),\n",
       "  ('odebrecht', 7.0),\n",
       "  ('lula', 6.0),\n",
       "  ('jorge', 6.0),\n",
       "  ('dini', 6.0),\n",
       "  ('gobierno', 6.0),\n",
       "  ('congreso', 6.0),\n",
       "  ('noviembre', 5.0),\n",
       "  ('césar', 5.0),\n",
       "  ('cerrón', 5.0),\n",
       "  ('polidatos', 5.0),\n",
       "  ('nacional', 5.0),\n",
       "  ('marcha', 5.0),\n",
       "  ('miró', 4.0),\n",
       "  ('presidente', 4.0),\n",
       "  ('halloween', 4.0),\n",
       "  ('lópez', 4.0),\n",
       "  ('garcía', 4.0),\n",
       "  ('salas', 4.0),\n",
       "  ('judicial', 4.0),\n",
       "  ('elguera', 4.0),\n",
       "  ('petroperú', 4.0),\n",
       "  ('sepa', 4.0),\n",
       "  ('alejandro', 4.0),\n",
       "  ('juan', 4.0)],\n",
       " 'diarioojo-2022_44': [('halloween', 39.0),\n",
       "  ('lima', 34.0),\n",
       "  ('kelvin', 28.0),\n",
       "  ('magaly', 27.0),\n",
       "  ('john', 27.0),\n",
       "  ('melissa', 26.0),\n",
       "  ('perú', 23.0),\n",
       "  ('paredes', 19.0),\n",
       "  ('noviembre', 18.0),\n",
       "  ('dalia', 17.0),\n",
       "  ('gisela', 15.0),\n",
       "  ('años', 15.0),\n",
       "  ('alianza', 13.0),\n",
       "  ('covid', 13.0),\n",
       "  ('hijos', 13.0),\n",
       "  ('rodrigo', 12.0),\n",
       "  ('hija', 12.0),\n",
       "  ('pedro', 12.0),\n",
       "  ('mil', 12.0),\n",
       "  ('hijo', 11.0),\n",
       "  ('sitio', 11.0),\n",
       "  ('disfraz', 11.0),\n",
       "  ('revela', 11.0),\n",
       "  ('san', 11.0),\n",
       "  ('cree', 11.0),\n",
       "  ('vs', 10.0),\n",
       "  ('durán', 10.0),\n",
       "  ('fondo', 10.0),\n",
       "  ('millones', 10.0),\n",
       "  ('vivir', 10.0)],\n",
       " 'DiarioElPeruano-2022_44': [('perú', 17.0),\n",
       "  ('noviembre', 17.0),\n",
       "  ('presidente', 16.0),\n",
       "  ('lima', 16.0),\n",
       "  ('país', 14.0),\n",
       "  ('nacional', 13.0),\n",
       "  ('millones', 12.0),\n",
       "  ('digital', 11.0),\n",
       "  ('personas', 11.0),\n",
       "  ('conoce', 10.0),\n",
       "  ('gobierno', 10.0),\n",
       "  ('pago', 9.0),\n",
       "  ('congreso', 8.0),\n",
       "  ('castillo', 8.0),\n",
       "  ('pedro', 8.0),\n",
       "  ('atención', 8.0),\n",
       "  ('bono', 8.0),\n",
       "  ('soles', 8.0),\n",
       "  ('trabajo', 8.0),\n",
       "  ('callao', 7.0),\n",
       "  ('usuarios', 7.0),\n",
       "  ('alimentario', 7.0),\n",
       "  ('oea', 7.0),\n",
       "  ('sistema', 7.0),\n",
       "  ('exposición', 7.0),\n",
       "  ('trabajadores', 6.0),\n",
       "  ('analógico', 6.0),\n",
       "  ('memorias', 6.0),\n",
       "  ('situación', 6.0),\n",
       "  ('económica', 6.0)],\n",
       " 'larazon_pe-2022_44': [('equipo', 5.0),\n",
       "  ('perú', 4.0),\n",
       "  ('cristal', 4.0),\n",
       "  ('torneo', 4.0),\n",
       "  ('sporting', 3.0),\n",
       "  ('libre', 3.0),\n",
       "  ('país', 3.0),\n",
       "  ('noviembre', 3.0),\n",
       "  ('fiscalía', 3.0),\n",
       "  ('premierleague', 3.0),\n",
       "  ('especial', 3.0),\n",
       "  ('congresista', 3.0),\n",
       "  ('lima', 2.0),\n",
       "  ('encontraron', 2.0),\n",
       "  ('ventaja', 2.0),\n",
       "  ('suplemento', 2.0),\n",
       "  ('organización', 2.0),\n",
       "  ('campeonato', 2.0),\n",
       "  ('ministerio', 2.0),\n",
       "  ('corrupción', 2.0),\n",
       "  ('martes', 2.0),\n",
       "  ('cuadro', 2.0),\n",
       "  ('fbcmelgar', 2.0),\n",
       "  ('presentó', 2.0),\n",
       "  ('alejandro', 2.0),\n",
       "  ('laligasantander', 2.0),\n",
       "  ('castillo', 2.0),\n",
       "  ('chelsea', 2.0),\n",
       "  ('pedro', 2.0),\n",
       "  ('constitucional', 2.0)],\n",
       " 'elbuho_pe-2022_44': [('elbuhope', 40.0),\n",
       "  ('elbuho', 21.0),\n",
       "  ('arequipa', 18.0),\n",
       "  ('perú', 12.0),\n",
       "  ('alvuelo', 9.0),\n",
       "  ('pasó', 6.0),\n",
       "  ('castillo', 6.0),\n",
       "  ('ayacucho', 5.0),\n",
       "  ('fiscalía', 5.0),\n",
       "  ('oea', 5.0),\n",
       "  ('hospital', 5.0),\n",
       "  ('fbc', 5.0),\n",
       "  ('melgar', 5.0),\n",
       "  ('entrevista', 5.0),\n",
       "  ('san', 5.0),\n",
       "  ('salida', 5.0),\n",
       "  ('pedido', 4.0),\n",
       "  ('audios', 4.0),\n",
       "  ('funcionaria', 4.0),\n",
       "  ('comprometen', 4.0),\n",
       "  ('obras', 4.0),\n",
       "  ('pedro', 4.0),\n",
       "  ('partido', 4.0),\n",
       "  ('elecciones', 4.0),\n",
       "  ('sporting', 4.0),\n",
       "  ('josé', 4.0),\n",
       "  ('presidente', 4.0),\n",
       "  ('lima', 4.0),\n",
       "  ('cristal', 4.0),\n",
       "  ('corrupción', 4.0)],\n",
       " 'ensustrece-2022_44': [('hildebrandt', 5.0),\n",
       "  ('izquierda', 4.0),\n",
       "  ('castillo', 4.0),\n",
       "  ('ensustrece', 3.0),\n",
       "  ('señor', 3.0),\n",
       "  ('cero', 2.0),\n",
       "  ('votos', 2.0),\n",
       "  ('césar', 2.0),\n",
       "  ('podcast', 2.0),\n",
       "  ('suspensión', 2.0),\n",
       "  ('ensuciado', 1.0),\n",
       "  ('apadrinado', 1.0),\n",
       "  ('jalado', 1.0),\n",
       "  ('voltearle', 1.0),\n",
       "  ('encimar', 1.0),\n",
       "  ('alcanzado', 1.0),\n",
       "  ('click', 1.0),\n",
       "  ('masoquista', 1.0),\n",
       "  ('enciendo', 1.0),\n",
       "  ('movadef', 1.0),\n",
       "  ('llegan', 1.0),\n",
       "  ('docentes', 1.0),\n",
       "  ('frente', 1.0),\n",
       "  ('mineduperu', 1.0),\n",
       "  ('fenatep', 1.0),\n",
       "  ('sentir', 1.0),\n",
       "  ('vergüenza', 1.0),\n",
       "  ('canal', 1.0),\n",
       "  ('acceso', 1.0),\n",
       "  ('gracias', 1.0)],\n",
       " 'elcomercio_peru-2022_49': [('castillo', 52.0),\n",
       "  ('perú', 44.0),\n",
       "  ('pedro', 41.0),\n",
       "  ('diciembre', 39.0),\n",
       "  ('gobierno', 25.0),\n",
       "  ('boluarte', 24.0),\n",
       "  ('golpe', 22.0),\n",
       "  ('congreso', 20.0),\n",
       "  ('covid', 20.0),\n",
       "  ('lima', 20.0),\n",
       "  ('ucrania', 19.0),\n",
       "  ('unidos', 18.0),\n",
       "  ('dina', 17.0),\n",
       "  ('rusia', 16.0),\n",
       "  ('dólar', 14.0),\n",
       "  ('precio', 14.0),\n",
       "  ('eeuu', 14.0),\n",
       "  ('años', 13.0),\n",
       "  ('presidenta', 13.0),\n",
       "  ('politicaecpe', 12.0),\n",
       "  ('cambio', 12.0),\n",
       "  ('china', 12.0),\n",
       "  ('tipo', 12.0),\n",
       "  ('kirchner', 11.0),\n",
       "  ('presidente', 11.0),\n",
       "  ('colombia', 10.0),\n",
       "  ('conoce', 10.0),\n",
       "  ('corrupción', 10.0),\n",
       "  ('mil', 9.0),\n",
       "  ('pide', 9.0)],\n",
       " 'larepublica_pe-2022_49': [('politicalr', 310.0),\n",
       "  ('lrdeportes', 254.0),\n",
       "  ('castillo', 218.0),\n",
       "  ('pedro', 180.0),\n",
       "  ('video', 116.0),\n",
       "  ('envivo', 98.0),\n",
       "  ('boluarte', 97.0),\n",
       "  ('loúltimo', 88.0),\n",
       "  ('dina', 88.0),\n",
       "  ('congreso', 86.0),\n",
       "  ('perú', 86.0),\n",
       "  ('golpe', 66.0),\n",
       "  ('vacancia', 49.0),\n",
       "  ('lima', 47.0),\n",
       "  ('cierre', 45.0),\n",
       "  ('vs', 43.0),\n",
       "  ('brasil', 43.0),\n",
       "  ('mundial', 42.0),\n",
       "  ('diciembre', 38.0),\n",
       "  ('presidente', 35.0),\n",
       "  ('croacia', 34.0),\n",
       "  ('presidenta', 32.0),\n",
       "  ('país', 31.0),\n",
       "  ('años', 31.0),\n",
       "  ('argentina', 30.0),\n",
       "  ('fiscalía', 30.0),\n",
       "  ('república', 30.0),\n",
       "  ('portugal', 29.0),\n",
       "  ('marruecos', 28.0),\n",
       "  ('josé', 27.0)],\n",
       " 'peru21noticias-2022_49': [('castillo', 176.0),\n",
       "  ('pedro', 148.0),\n",
       "  ('boluarte', 72.0),\n",
       "  ('dina', 71.0),\n",
       "  ('mundial', 66.0),\n",
       "  ('qatar', 65.0),\n",
       "  ('perú', 63.0),\n",
       "  ('congreso', 62.0),\n",
       "  ('golpe', 59.0),\n",
       "  ('diciembre', 57.0),\n",
       "  ('lima', 56.0),\n",
       "  ('vs', 48.0),\n",
       "  ('presidenta', 41.0),\n",
       "  ('vacancia', 35.0),\n",
       "  ('cortita', 32.0),\n",
       "  ('gabinete', 32.0),\n",
       "  ('gobierno', 32.0),\n",
       "  ('república', 32.0),\n",
       "  ('portugal', 30.0),\n",
       "  ('brasil', 30.0),\n",
       "  ('conoce', 30.0),\n",
       "  ('partido', 29.0),\n",
       "  ('presidente', 28.0),\n",
       "  ('argentina', 26.0),\n",
       "  ('cuartos', 26.0),\n",
       "  ('dini', 24.0),\n",
       "  ('directo', 23.0),\n",
       "  ('marruecos', 22.0),\n",
       "  ('envivo', 22.0),\n",
       "  ('ministro', 22.0)],\n",
       " 'tromepe-2022_49': [('castillo', 147.0),\n",
       "  ('pedro', 126.0),\n",
       "  ('qatar', 103.0),\n",
       "  ('mundial', 83.0),\n",
       "  ('vs', 73.0),\n",
       "  ('brasil', 52.0),\n",
       "  ('argentina', 45.0),\n",
       "  ('congreso', 42.0),\n",
       "  ('dina', 41.0),\n",
       "  ('boluarte', 39.0),\n",
       "  ('cristiano', 37.0),\n",
       "  ('golpe', 37.0),\n",
       "  ('magaly', 36.0),\n",
       "  ('portugal', 35.0),\n",
       "  ('perú', 34.0),\n",
       "  ('marruecos', 34.0),\n",
       "  ('lima', 34.0),\n",
       "  ('croacia', 34.0),\n",
       "  ('ronaldo', 32.0),\n",
       "  ('cuartos', 31.0),\n",
       "  ('lee', 31.0),\n",
       "  ('bajos', 26.0),\n",
       "  ('países', 26.0),\n",
       "  ('selección', 25.0),\n",
       "  ('españa', 25.0),\n",
       "  ('vacancia', 25.0),\n",
       "  ('presidente', 24.0),\n",
       "  ('messi', 23.0),\n",
       "  ('canal', 22.0),\n",
       "  ('república', 21.0)],\n",
       " 'Gestionpe-2022_49': [('castillo', 93.0),\n",
       "  ('pedro', 75.0),\n",
       "  ('perú', 67.0),\n",
       "  ('boluarte', 50.0),\n",
       "  ('golpe', 48.0),\n",
       "  ('dina', 41.0),\n",
       "  ('diciembre', 38.0),\n",
       "  ('congreso', 28.0),\n",
       "  ('millones', 28.0),\n",
       "  ('año', 26.0),\n",
       "  ('gobierno', 26.0),\n",
       "  ('bono', 23.0),\n",
       "  ('vacancia', 22.0),\n",
       "  ('eeuu', 21.0),\n",
       "  ('feriados', 21.0),\n",
       "  ('empresas', 21.0),\n",
       "  ('alimentario', 20.0),\n",
       "  ('mundial', 20.0),\n",
       "  ('pago', 19.0),\n",
       "  ('us', 18.0),\n",
       "  ('lima', 17.0),\n",
       "  ('aviar', 17.0),\n",
       "  ('gripe', 17.0),\n",
       "  ('dólar', 17.0),\n",
       "  ('qatar', 17.0),\n",
       "  ('sector', 16.0),\n",
       "  ('mejores', 16.0),\n",
       "  ('país', 15.0),\n",
       "  ('inflación', 15.0),\n",
       "  ('méxico', 14.0)],\n",
       " 'diariocorreo-2022_49': [('castillo', 74.0),\n",
       "  ('pedro', 68.0),\n",
       "  ('boluarte', 34.0),\n",
       "  ('dina', 33.0),\n",
       "  ('lima', 30.0),\n",
       "  ('golpe', 26.0),\n",
       "  ('perú', 25.0),\n",
       "  ('mundial', 24.0),\n",
       "  ('qatar', 21.0),\n",
       "  ('congreso', 20.0),\n",
       "  ('vs', 19.0),\n",
       "  ('cristiano', 18.0),\n",
       "  ('argentina', 18.0),\n",
       "  ('gobierno', 18.0),\n",
       "  ('arequipa', 18.0),\n",
       "  ('región', 17.0),\n",
       "  ('brasil', 16.0),\n",
       "  ('vacancia', 16.0),\n",
       "  ('ronaldo', 15.0),\n",
       "  ('mil', 15.0),\n",
       "  ('covid', 14.0),\n",
       "  ('diciembre', 14.0),\n",
       "  ('países', 13.0),\n",
       "  ('millones', 13.0),\n",
       "  ('messi', 13.0),\n",
       "  ('bajos', 12.0),\n",
       "  ('presidenta', 12.0),\n",
       "  ('portugal', 12.0),\n",
       "  ('años', 12.0),\n",
       "  ('dini', 11.0)],\n",
       " 'ExpresoPeru-2022_49': [('castillo', 67.0),\n",
       "  ('pedro', 37.0),\n",
       "  ('boluarte', 23.0),\n",
       "  ('golpe', 22.0),\n",
       "  ('dina', 20.0),\n",
       "  ('congreso', 19.0),\n",
       "  ('perú', 18.0),\n",
       "  ('vacancia', 14.0),\n",
       "  ('expresoporlademocracia', 11.0),\n",
       "  ('golpista', 10.0),\n",
       "  ('loúltimo', 10.0),\n",
       "  ('presidente', 9.0),\n",
       "  ('qatar', 9.0),\n",
       "  ('gabinete', 7.0),\n",
       "  ('gobierno', 6.0),\n",
       "  ('polidatos', 6.0),\n",
       "  ('cerrón', 6.0),\n",
       "  ('dini', 5.0),\n",
       "  ('mundial', 5.0),\n",
       "  ('ministros', 5.0),\n",
       "  ('luis', 5.0),\n",
       "  ('angulo', 5.0),\n",
       "  ('política', 5.0),\n",
       "  ('presidenta', 5.0),\n",
       "  ('pide', 5.0),\n",
       "  ('penales', 5.0),\n",
       "  ('enportada', 5.0),\n",
       "  ('defensa', 5.0),\n",
       "  ('mil', 4.0),\n",
       "  ('julio', 4.0)],\n",
       " 'diarioojo-2022_49': [('castillo', 75.0),\n",
       "  ('pedro', 55.0),\n",
       "  ('magaly', 36.0),\n",
       "  ('golpe', 32.0),\n",
       "  ('lima', 30.0),\n",
       "  ('mundial', 29.0),\n",
       "  ('qatar', 27.0),\n",
       "  ('vs', 25.0),\n",
       "  ('dina', 23.0),\n",
       "  ('perú', 23.0),\n",
       "  ('diciembre', 22.0),\n",
       "  ('boluarte', 22.0),\n",
       "  ('melissa', 21.0),\n",
       "  ('ethel', 20.0),\n",
       "  ('vacancia', 20.0),\n",
       "  ('congreso', 19.0),\n",
       "  ('cristiano', 18.0),\n",
       "  ('portugal', 18.0),\n",
       "  ('covid', 17.0),\n",
       "  ('brasil', 17.0),\n",
       "  ('paredes', 16.0),\n",
       "  ('navidad', 15.0),\n",
       "  ('ronaldo', 14.0),\n",
       "  ('mil', 14.0),\n",
       "  ('mensaje', 14.0),\n",
       "  ('lucho', 13.0),\n",
       "  ('horas', 13.0),\n",
       "  ('año', 12.0),\n",
       "  ('cáceres', 12.0),\n",
       "  ('gol', 12.0)],\n",
       " 'DiarioElPeruano-2022_49': [('boluarte', 27.0),\n",
       "  ('dina', 27.0),\n",
       "  ('presidenta', 25.0),\n",
       "  ('perú', 25.0),\n",
       "  ('gobierno', 20.0),\n",
       "  ('pedro', 20.0),\n",
       "  ('castillo', 18.0),\n",
       "  ('país', 17.0),\n",
       "  ('mundial', 16.0),\n",
       "  ('sector', 15.0),\n",
       "  ('presidente', 14.0),\n",
       "  ('república', 13.0),\n",
       "  ('congreso', 13.0),\n",
       "  ('diálogo', 12.0),\n",
       "  ('normaslegales', 12.0),\n",
       "  ('ministro', 12.0),\n",
       "  ('diciembre', 11.0),\n",
       "  ('año', 11.0),\n",
       "  ('general', 10.0),\n",
       "  ('cuartos', 8.0),\n",
       "  ('navidad', 8.0),\n",
       "  ('llamado', 8.0),\n",
       "  ('atención', 8.0),\n",
       "  ('salud', 8.0),\n",
       "  ('desarrollo', 8.0),\n",
       "  ('conoce', 7.0),\n",
       "  ('nacional', 7.0),\n",
       "  ('especialelperuano', 7.0),\n",
       "  ('ministra', 7.0),\n",
       "  ('derechos', 7.0)],\n",
       " 'larazon_pe-2022_49': [('castillo', 13.0),\n",
       "  ('fonavistas', 12.0),\n",
       "  ('nota', 12.0),\n",
       "  ('pedro', 11.0),\n",
       "  ('diciembre', 10.0),\n",
       "  ('fonavi', 10.0),\n",
       "  ('jubilados', 9.0),\n",
       "  ('onp', 8.0),\n",
       "  ('pago', 7.0),\n",
       "  ('pagos', 7.0),\n",
       "  ('devolución', 7.0),\n",
       "  ('dina', 7.0),\n",
       "  ('cronograma', 7.0),\n",
       "  ('boluarte', 7.0),\n",
       "  ('parcial', 6.0),\n",
       "  ('presidente', 6.0),\n",
       "  ('aportes', 6.0),\n",
       "  ('miércoles', 6.0),\n",
       "  ('golpe', 6.0),\n",
       "  ('nación', 6.0),\n",
       "  ('presidenta', 6.0),\n",
       "  ('república', 5.0),\n",
       "  ('gobierno', 5.0),\n",
       "  ('iniciar', 5.0),\n",
       "  ('convenio', 5.0),\n",
       "  ('listo', 5.0),\n",
       "  ('gabriel', 5.0),\n",
       "  ('gabinete', 5.0),\n",
       "  ('perú', 5.0),\n",
       "  ('padrón', 5.0)],\n",
       " 'elbuho_pe-2022_49': [('elbuhope', 32.0),\n",
       "  ('castillo', 29.0),\n",
       "  ('congreso', 22.0),\n",
       "  ('pedro', 21.0),\n",
       "  ('elbuho', 19.0),\n",
       "  ('arequipa', 15.0),\n",
       "  ('presidente', 11.0),\n",
       "  ('dina', 9.0),\n",
       "  ('alvuelo', 9.0),\n",
       "  ('boluarte', 9.0),\n",
       "  ('perú', 8.0),\n",
       "  ('crisis', 7.0),\n",
       "  ('cierre', 7.0),\n",
       "  ('vacancia', 7.0),\n",
       "  ('presidenta', 6.0),\n",
       "  ('gobierno', 6.0),\n",
       "  ('video', 6.0),\n",
       "  ('nación', 6.0),\n",
       "  ('república', 6.0),\n",
       "  ('dini', 5.0),\n",
       "  ('lópez', 5.0),\n",
       "  ('exjefe', 5.0),\n",
       "  ('elecciones', 4.0),\n",
       "  ('opinion', 4.0),\n",
       "  ('política', 4.0),\n",
       "  ('mensaje', 4.0),\n",
       "  ('escribe', 4.0),\n",
       "  ('constitución', 4.0),\n",
       "  ('mil', 4.0),\n",
       "  ('congresista', 3.0)],\n",
       " 'ensustrece-2022_49': [('hildebrandt', 10.0),\n",
       "  ('castillo', 8.0),\n",
       "  ('escribe', 8.0),\n",
       "  ('ensustrece', 8.0),\n",
       "  ('pedro', 4.0),\n",
       "  ('presidente', 3.0),\n",
       "  ('podcast', 3.0),\n",
       "  ('chávez', 3.0),\n",
       "  ('venezolanos', 2.0),\n",
       "  ('lima', 2.0),\n",
       "  ('congreso', 2.0),\n",
       "  ('votos', 2.0),\n",
       "  ('golpista', 2.0),\n",
       "  ('unchasqui', 2.0),\n",
       "  ('miles', 2.0),\n",
       "  ('golpe', 2.0),\n",
       "  ('comedia', 2.0),\n",
       "  ('reportaje', 2.0),\n",
       "  ('garcía', 2.0),\n",
       "  ('durar', 1.0),\n",
       "  ('escondido', 1.0),\n",
       "  ('empieza', 1.0),\n",
       "  ('grupo', 1.0),\n",
       "  ('dictador', 1.0),\n",
       "  ('deporte', 1.0),\n",
       "  ('aubry', 1.0),\n",
       "  ('procesado', 1.0),\n",
       "  ('celebraban', 1.0),\n",
       "  ('vacado', 1.0),\n",
       "  ('popular', 1.0)],\n",
       " 'elcomercio_peru-2023_2': [('enero', 38.0),\n",
       "  ('brasil', 38.0),\n",
       "  ('perú', 33.0),\n",
       "  ('eeuu', 24.0),\n",
       "  ('protestas', 22.0),\n",
       "  ('bolsonaro', 21.0),\n",
       "  ('puno', 20.0),\n",
       "  ('unidos', 19.0),\n",
       "  ('biden', 19.0),\n",
       "  ('asalto', 17.0),\n",
       "  ('méxico', 16.0),\n",
       "  ('brasilia', 16.0),\n",
       "  ('años', 16.0),\n",
       "  ('lima', 15.0),\n",
       "  ('gobierno', 13.0),\n",
       "  ('ucrania', 13.0),\n",
       "  ('conoce', 12.0),\n",
       "  ('manifestantes', 12.0),\n",
       "  ('precio', 12.0),\n",
       "  ('policía', 11.0),\n",
       "  ('colombia', 11.0),\n",
       "  ('bolsonaristas', 11.0),\n",
       "  ('violencia', 10.0),\n",
       "  ('nacional', 10.0),\n",
       "  ('país', 10.0),\n",
       "  ('tipo', 10.0),\n",
       "  ('cambio', 10.0),\n",
       "  ('covid', 9.0),\n",
       "  ('china', 9.0),\n",
       "  ('cusco', 9.0)],\n",
       " 'larepublica_pe-2023_2': [('politicalr', 191.0),\n",
       "  ('lrdeportes', 143.0),\n",
       "  ('video', 106.0),\n",
       "  ('protestas', 91.0),\n",
       "  ('perú', 79.0),\n",
       "  ('boluarte', 78.0),\n",
       "  ('dina', 68.0),\n",
       "  ('envivo', 64.0),\n",
       "  ('congreso', 58.0),\n",
       "  ('enero', 50.0),\n",
       "  ('puno', 49.0),\n",
       "  ('loúltimo', 43.0),\n",
       "  ('juliaca', 41.0),\n",
       "  ('lima', 40.0),\n",
       "  ('gobierno', 38.0),\n",
       "  ('nacional', 37.0),\n",
       "  ('↓', 31.0),\n",
       "  ('fallecidos', 30.0),\n",
       "  ('alberto', 29.0),\n",
       "  ('país', 29.0),\n",
       "  ('alianza', 29.0),\n",
       "  ('otárola', 27.0),\n",
       "  ('díaz', 27.0),\n",
       "  ('míralo', 26.0),\n",
       "  ('freddy', 26.0),\n",
       "  ('años', 25.0),\n",
       "  ('muertes', 24.0),\n",
       "  ('policía', 24.0),\n",
       "  ('cusco', 23.0),\n",
       "  ('manifestantes', 22.0)],\n",
       " 'peru21noticias-2023_2': [('protestas', 44.0),\n",
       "  ('puno', 41.0),\n",
       "  ('perú', 27.0),\n",
       "  ('congreso', 25.0),\n",
       "  ('gobierno', 24.0),\n",
       "  ('país', 24.0),\n",
       "  ('años', 24.0),\n",
       "  ('boluarte', 24.0),\n",
       "  ('dina', 21.0),\n",
       "  ('lima', 19.0),\n",
       "  ('díaz', 18.0),\n",
       "  ('nacional', 17.0),\n",
       "  ('miss', 17.0),\n",
       "  ('enero', 17.0),\n",
       "  ('cortita', 17.0),\n",
       "  ('otárola', 16.0),\n",
       "  ('freddy', 16.0),\n",
       "  ('cusco', 16.0),\n",
       "  ('voto', 16.0),\n",
       "  ('año', 15.0),\n",
       "  ('evo', 15.0),\n",
       "  ('policía', 14.0),\n",
       "  ('envivo', 14.0),\n",
       "  ('peruana', 14.0),\n",
       "  ('confianza', 14.0),\n",
       "  ('morales', 14.0),\n",
       "  ('pedro', 14.0),\n",
       "  ('manifestantes', 14.0),\n",
       "  ('congresista', 14.0),\n",
       "  ('gabinete', 14.0)],\n",
       " 'tromepe-2023_2': [('miss', 58.0),\n",
       "  ('universo', 55.0),\n",
       "  ('shakira', 49.0),\n",
       "  ('alessia', 40.0),\n",
       "  ('piqué', 35.0),\n",
       "  ('canción', 31.0),\n",
       "  ('rovegno', 30.0),\n",
       "  ('brunella', 28.0),\n",
       "  ('lee', 27.0),\n",
       "  ('puno', 25.0),\n",
       "  ('boda', 24.0),\n",
       "  ('lima', 23.0),\n",
       "  ('alianza', 22.0),\n",
       "  ('perú', 21.0),\n",
       "  ('horna', 20.0),\n",
       "  ('protestas', 20.0),\n",
       "  ('richard', 18.0),\n",
       "  ('vs', 17.0),\n",
       "  ('año', 17.0),\n",
       "  ('christian', 16.0),\n",
       "  ('acuña', 16.0),\n",
       "  ('clara', 16.0),\n",
       "  ('baldessari', 14.0),\n",
       "  ('pepa', 14.0),\n",
       "  ('melissa', 14.0),\n",
       "  ('otárola', 13.0),\n",
       "  ('paredes', 13.0),\n",
       "  ('años', 13.0),\n",
       "  ('hija', 12.0),\n",
       "  ('madrid', 12.0)],\n",
       " 'Gestionpe-2023_2': [('perú', 78.0),\n",
       "  ('año', 51.0),\n",
       "  ('protestas', 51.0),\n",
       "  ('millones', 39.0),\n",
       "  ('enero', 35.0),\n",
       "  ('eeuu', 32.0),\n",
       "  ('gobierno', 31.0),\n",
       "  ('otárola', 28.0),\n",
       "  ('puno', 28.0),\n",
       "  ('empresas', 23.0),\n",
       "  ('cusco', 21.0),\n",
       "  ('bono', 21.0),\n",
       "  ('sur', 20.0),\n",
       "  ('peruanos', 19.0),\n",
       "  ('mercados', 18.0),\n",
       "  ('aeropuerto', 18.0),\n",
       "  ('bonos', 17.0),\n",
       "  ('operaciones', 16.0),\n",
       "  ('us', 16.0),\n",
       "  ('boluarte', 16.0),\n",
       "  ('fed', 16.0),\n",
       "  ('congreso', 15.0),\n",
       "  ('dólar', 15.0),\n",
       "  ('premier', 15.0),\n",
       "  ('sector', 15.0),\n",
       "  ('video', 15.0),\n",
       "  ('años', 15.0),\n",
       "  ('país', 15.0),\n",
       "  ('trabajadores', 14.0),\n",
       "  ('mercado', 14.0)],\n",
       " 'diariocorreo-2023_2': [('protestas', 21.0),\n",
       "  ('puno', 19.0),\n",
       "  ('arequipa', 19.0),\n",
       "  ('libertad', 16.0),\n",
       "  ('perú', 14.0),\n",
       "  ('enero', 14.0),\n",
       "  ('dina', 13.0),\n",
       "  ('boluarte', 13.0),\n",
       "  ('gobierno', 13.0),\n",
       "  ('otárola', 13.0),\n",
       "  ('alberto', 12.0),\n",
       "  ('congreso', 11.0),\n",
       "  ('lima', 10.0),\n",
       "  ('millones', 10.0),\n",
       "  ('glademiranaya', 10.0),\n",
       "  ('paredes', 9.0),\n",
       "  ('años', 9.0),\n",
       "  ('hospital', 9.0),\n",
       "  ('manifestantes', 9.0),\n",
       "  ('freddy', 8.0),\n",
       "  ('carretera', 8.0),\n",
       "  ('evo', 8.0),\n",
       "  ('díaz', 8.0),\n",
       "  ('policía', 7.0),\n",
       "  ('tacna', 7.0),\n",
       "  ('morales', 7.0),\n",
       "  ('eeuu', 7.0),\n",
       "  ('muertes', 7.0),\n",
       "  ('juliaca', 7.0),\n",
       "  ('huancayo', 7.0)],\n",
       " 'ExpresoPeru-2023_2': [('boluarte', 18.0),\n",
       "  ('garcía', 17.0),\n",
       "  ('perú', 17.0),\n",
       "  ('protestas', 13.0),\n",
       "  ('dina', 13.0),\n",
       "  ('violentas', 10.0),\n",
       "  ('manifestaciones', 10.0),\n",
       "  ('evo', 10.0),\n",
       "  ('morales', 10.0),\n",
       "  ('luis', 9.0),\n",
       "  ('díaz', 9.0),\n",
       "  ('otárola', 9.0),\n",
       "  ('pide', 9.0),\n",
       "  ('castillo', 8.0),\n",
       "  ('congreso', 8.0),\n",
       "  ('juliaca', 8.0),\n",
       "  ('shakira', 8.0),\n",
       "  ('pedro', 7.0),\n",
       "  ('josé', 7.0),\n",
       "  ('juan', 7.0),\n",
       "  ('país', 7.0),\n",
       "  ('freddy', 7.0),\n",
       "  ('izquierda', 7.0),\n",
       "  ('prisión', 6.0),\n",
       "  ('miró', 6.0),\n",
       "  ('harold', 6.0),\n",
       "  ('gobierno', 6.0),\n",
       "  ('piqué', 6.0),\n",
       "  ('roberto', 6.0),\n",
       "  ('torres', 6.0)],\n",
       " 'diarioojo-2023_2': [('brunella', 36.0),\n",
       "  ('alessia', 36.0),\n",
       "  ('miss', 28.0),\n",
       "  ('boda', 27.0),\n",
       "  ('universo', 26.0),\n",
       "  ('shakira', 22.0),\n",
       "  ('rovegno', 21.0),\n",
       "  ('richard', 19.0),\n",
       "  ('melissa', 19.0),\n",
       "  ('piqué', 17.0),\n",
       "  ('paredes', 15.0),\n",
       "  ('peluchín', 13.0),\n",
       "  ('karla', 12.0),\n",
       "  ('perú', 12.0),\n",
       "  ('canción', 11.0),\n",
       "  ('horna', 11.0),\n",
       "  ('acuña', 11.0),\n",
       "  ('gino', 10.0),\n",
       "  ('años', 10.0),\n",
       "  ('tarazona', 10.0),\n",
       "  ('mil', 9.0),\n",
       "  ('galán', 9.0),\n",
       "  ('protestas', 9.0),\n",
       "  ('jazmín', 9.0),\n",
       "  ('pamela', 9.0),\n",
       "  ('programa', 9.0),\n",
       "  ('tv', 9.0),\n",
       "  ('mensaje', 8.0),\n",
       "  ('burla', 8.0),\n",
       "  ('pesaressi', 8.0)],\n",
       " 'DiarioElPeruano-2023_2': [('congreso', 21.0),\n",
       "  ('otárola', 21.0),\n",
       "  ('alberto', 21.0),\n",
       "  ('país', 21.0),\n",
       "  ('gobierno', 20.0),\n",
       "  ('presidente', 18.0),\n",
       "  ('lima', 17.0),\n",
       "  ('perú', 17.0),\n",
       "  ('nacional', 16.0),\n",
       "  ('consejo', 14.0),\n",
       "  ('puno', 14.0),\n",
       "  ('titular', 13.0),\n",
       "  ('ministros', 12.0),\n",
       "  ('ejecutivo', 12.0),\n",
       "  ('año', 12.0),\n",
       "  ('cusco', 11.0),\n",
       "  ('boluarte', 11.0),\n",
       "  ('dina', 11.0),\n",
       "  ('regiones', 10.0),\n",
       "  ('paz', 10.0),\n",
       "  ('atención', 9.0),\n",
       "  ('presidenta', 9.0),\n",
       "  ('violencia', 9.0),\n",
       "  ('protestas', 9.0),\n",
       "  ('diálogo', 9.0),\n",
       "  ('anunció', 8.0),\n",
       "  ('enero', 8.0),\n",
       "  ('normaslegales', 8.0),\n",
       "  ('personas', 8.0),\n",
       "  ('servicio', 8.0)],\n",
       " 'larazon_pe-2023_2': [('protestas', 7.0),\n",
       "  ('ucrania', 5.0),\n",
       "  ('jefe', 4.0),\n",
       "  ('años', 4.0),\n",
       "  ('presenta', 3.0),\n",
       "  ('sociales', 3.0),\n",
       "  ('atención', 3.0),\n",
       "  ('guerra', 3.0),\n",
       "  ('país', 3.0),\n",
       "  ('cultura', 3.0),\n",
       "  ('boluarte', 3.0),\n",
       "  ('proyecto', 3.0),\n",
       "  ('busca', 3.0),\n",
       "  ('perú', 3.0),\n",
       "  ('república', 3.0),\n",
       "  ('gobierno', 3.0),\n",
       "  ('nacional', 3.0),\n",
       "  ('leer', 3.0),\n",
       "  ('enero', 2.0),\n",
       "  ('totalmente', 2.0),\n",
       "  ('perder', 2.0),\n",
       "  ('seguridad', 2.0),\n",
       "  ('municipales', 2.0),\n",
       "  ('informado', 2.0),\n",
       "  ('diario', 2.0),\n",
       "  ('guía', 2.0),\n",
       "  ('año', 2.0),\n",
       "  ('traición', 2.0),\n",
       "  ('violentas', 2.0),\n",
       "  ('puedes', 2.0)],\n",
       " 'elbuho_pe-2023_2': [('elbuhope', 45.0),\n",
       "  ('arequipa', 34.0),\n",
       "  ('juliaca', 31.0),\n",
       "  ('elbuho', 28.0),\n",
       "  ('protestas', 20.0),\n",
       "  ('puno', 18.0),\n",
       "  ('boluarte', 18.0),\n",
       "  ('dina', 17.0),\n",
       "  ('fallecidos', 15.0),\n",
       "  ('manifestantes', 12.0),\n",
       "  ('personas', 10.0),\n",
       "  ('literario', 8.0),\n",
       "  ('renuncia', 8.0),\n",
       "  ('enfrentamientos', 8.0),\n",
       "  ('regiones', 8.0),\n",
       "  ('lima', 8.0),\n",
       "  ('congresista', 8.0),\n",
       "  ('plaza', 7.0),\n",
       "  ('muertes', 7.0),\n",
       "  ('policías', 7.0),\n",
       "  ('búho', 7.0),\n",
       "  ('comerciantes', 7.0),\n",
       "  ('gobierno', 7.0),\n",
       "  ('decenas', 6.0),\n",
       "  ('xi', 6.0),\n",
       "  ('represión', 6.0),\n",
       "  ('sur', 6.0),\n",
       "  ('exigiendo', 6.0),\n",
       "  ('concurso', 6.0),\n",
       "  ('policial', 6.0)],\n",
       " 'ensustrece-2023_2': [('ensustrece', 9.0),\n",
       "  ('escribe', 9.0),\n",
       "  ('hildebrandt', 7.0),\n",
       "  ('boluarte', 4.0),\n",
       "  ('dina', 4.0),\n",
       "  ('podcast', 3.0),\n",
       "  ('perú', 3.0),\n",
       "  ('gobierno', 3.0),\n",
       "  ('web', 2.0),\n",
       "  ('regresa', 2.0),\n",
       "  ('piahildebrandt', 2.0),\n",
       "  ('historia', 2.0),\n",
       "  ('quioscos', 2.0),\n",
       "  ('leerlo', 2.0),\n",
       "  ('años', 2.0),\n",
       "  ('política', 2.0),\n",
       "  ('paradero', 1.0),\n",
       "  ('regiones', 1.0),\n",
       "  ('decenas', 1.0),\n",
       "  ('congres', 1.0),\n",
       "  ('computadora', 1.0),\n",
       "  ('comenzado', 1.0),\n",
       "  ('secuestraron', 1.0),\n",
       "  ('media', 1.0),\n",
       "  ('lunes', 1.0),\n",
       "  ('pasados', 1.0),\n",
       "  ('silva', 1.0),\n",
       "  ('hampones', 1.0),\n",
       "  ('isaac', 1.0),\n",
       "  ('pm', 1.0)]}"
      ]
     },
     "execution_count": 16,
     "metadata": {},
     "output_type": "execute_result"
    }
   ],
   "source": [
    "top30_dict"
   ]
  },
  {
   "cell_type": "code",
   "execution_count": 17,
   "metadata": {},
   "outputs": [],
   "source": [
    "top30_df = pd.DataFrame.from_records(top30_dict)"
   ]
  },
  {
   "cell_type": "code",
   "execution_count": 18,
   "metadata": {},
   "outputs": [],
   "source": [
    "top30_df = top30_df.melt(value_vars=top30_df.columns, var_name=\"newspaper_date\", value_name=\"word_count\")\n",
    "\n",
    "top30_df[[\"newspaper\", \"year_week\"]] = top30_df[\"newspaper_date\"].str.split(r\"-\", expand=True)\n",
    "top30_df[[\"year\", \"week\"]] = top30_df[\"year_week\"].str.split(r\"_\", expand=True)\n",
    "top30_df[[\"word\", \"count\"]] = pd.DataFrame(top30_df[\"word_count\"].to_list(), index=top30_df.index)\n",
    "\n",
    "top30_df.drop([\"word_count\", \"newspaper_date\", \"year_week\"], axis=1, inplace=True)\n",
    "\n",
    "top30_df[\"year\"] = pd.to_numeric(top30_df[\"year\"])\n",
    "top30_df[\"week\"] = pd.to_numeric(top30_df[\"week\"])"
   ]
  },
  {
   "cell_type": "code",
   "execution_count": 19,
   "metadata": {},
   "outputs": [
    {
     "name": "stdout",
     "output_type": "stream",
     "text": [
      "<class 'pandas.core.frame.DataFrame'>\n",
      "RangeIndex: 2160 entries, 0 to 2159\n",
      "Data columns (total 5 columns):\n",
      " #   Column     Non-Null Count  Dtype  \n",
      "---  ------     --------------  -----  \n",
      " 0   newspaper  2160 non-null   object \n",
      " 1   year       2160 non-null   int64  \n",
      " 2   week       2160 non-null   int64  \n",
      " 3   word       2160 non-null   object \n",
      " 4   count      2160 non-null   float64\n",
      "dtypes: float64(1), int64(2), object(2)\n",
      "memory usage: 84.5+ KB\n"
     ]
    }
   ],
   "source": [
    "top30_df.info()"
   ]
  },
  {
   "cell_type": "code",
   "execution_count": 20,
   "metadata": {},
   "outputs": [
    {
     "data": {
      "text/html": [
       "<div>\n",
       "<style scoped>\n",
       "    .dataframe tbody tr th:only-of-type {\n",
       "        vertical-align: middle;\n",
       "    }\n",
       "\n",
       "    .dataframe tbody tr th {\n",
       "        vertical-align: top;\n",
       "    }\n",
       "\n",
       "    .dataframe thead th {\n",
       "        text-align: right;\n",
       "    }\n",
       "</style>\n",
       "<table border=\"1\" class=\"dataframe\">\n",
       "  <thead>\n",
       "    <tr style=\"text-align: right;\">\n",
       "      <th></th>\n",
       "      <th>newspaper</th>\n",
       "      <th>year</th>\n",
       "      <th>week</th>\n",
       "      <th>word</th>\n",
       "      <th>count</th>\n",
       "    </tr>\n",
       "  </thead>\n",
       "  <tbody>\n",
       "    <tr>\n",
       "      <th>0</th>\n",
       "      <td>DiarioElPeruano</td>\n",
       "      <td>2022</td>\n",
       "      <td>33</td>\n",
       "      <td>nacional</td>\n",
       "      <td>29.00</td>\n",
       "    </tr>\n",
       "    <tr>\n",
       "      <th>1</th>\n",
       "      <td>DiarioElPeruano</td>\n",
       "      <td>2022</td>\n",
       "      <td>33</td>\n",
       "      <td>presidente</td>\n",
       "      <td>27.00</td>\n",
       "    </tr>\n",
       "    <tr>\n",
       "      <th>2</th>\n",
       "      <td>DiarioElPeruano</td>\n",
       "      <td>2022</td>\n",
       "      <td>33</td>\n",
       "      <td>país</td>\n",
       "      <td>24.00</td>\n",
       "    </tr>\n",
       "    <tr>\n",
       "      <th>3</th>\n",
       "      <td>DiarioElPeruano</td>\n",
       "      <td>2022</td>\n",
       "      <td>33</td>\n",
       "      <td>pedro</td>\n",
       "      <td>22.00</td>\n",
       "    </tr>\n",
       "    <tr>\n",
       "      <th>4</th>\n",
       "      <td>DiarioElPeruano</td>\n",
       "      <td>2022</td>\n",
       "      <td>33</td>\n",
       "      <td>castillo</td>\n",
       "      <td>22.00</td>\n",
       "    </tr>\n",
       "  </tbody>\n",
       "</table>\n",
       "</div>"
      ],
      "text/plain": [
       "         newspaper  year  week        word  count\n",
       "0  DiarioElPeruano  2022    33    nacional  29.00\n",
       "1  DiarioElPeruano  2022    33  presidente  27.00\n",
       "2  DiarioElPeruano  2022    33        país  24.00\n",
       "3  DiarioElPeruano  2022    33       pedro  22.00\n",
       "4  DiarioElPeruano  2022    33    castillo  22.00"
      ]
     },
     "execution_count": 20,
     "metadata": {},
     "output_type": "execute_result"
    }
   ],
   "source": [
    "top30_df.head()"
   ]
  },
  {
   "cell_type": "code",
   "execution_count": 21,
   "metadata": {},
   "outputs": [],
   "source": [
    "top30_df.to_feather(f\"{BASE_DIR}/data/processed/top30_df-{TIME_STAMPS[0]}-{TIME_STAMPS[-1]}.feather\")"
   ]
  },
  {
   "cell_type": "code",
   "execution_count": 39,
   "metadata": {},
   "outputs": [],
   "source": [
    "top30_df[\"hot_topics\"] = top30_df[\"word\"].map({\n",
    "    \"castillo\": \"castillo\",\n",
    "    \"pedro\": \"castillo\",\n",
    "    \"dina\": \"boluarte\",\n",
    "    \"boluarte\": \"boluarte\",\n",
    "    \"perú\": \"país\",\n",
    "    \"país\": \"país\",\n",
    "    \"congreso\": \"congreso\",\n",
    "    \"covid\": \"covid\",\n",
    "    \"protestas\": \"protestas\",\n",
    "    \"manifestaciones\": \"protestas\"\n",
    "})\n",
    "top30_df[\"hot_topics\"].fillna(\"\", inplace=True)"
   ]
  },
  {
   "cell_type": "code",
   "execution_count": 22,
   "metadata": {},
   "outputs": [],
   "source": [
    "with open(f\"{BASE_DIR}/data/processed/top_30-{TIME_STAMPS[0]}-{TIME_STAMPS[-1]}.json\", \"w\") as file:\n",
    "    json.dump(top30_dict, file)"
   ]
  },
  {
   "cell_type": "code",
   "execution_count": 84,
   "metadata": {},
   "outputs": [
    {
     "data": {
      "application/vnd.plotly.v1+json": {
       "config": {
        "plotlyServerURL": "https://plot.ly"
       },
       "data": [
        {
         "alignmentgroup": "True",
         "hovertemplate": "hot_topics=<br>newspaper=DiarioElPeruano<br>week=33<br>word=%{x}<br>count=%{y}<extra></extra>",
         "legendgroup": "",
         "marker": {
          "color": "#b8bb26",
          "pattern": {
           "shape": ""
          }
         },
         "name": "",
         "offsetgroup": "",
         "orientation": "v",
         "showlegend": false,
         "textposition": "auto",
         "type": "bar",
         "x": [
          "nacional",
          "presidente",
          "gobierno",
          "lima",
          "año",
          "millones",
          "titular",
          "normaslegales",
          "república",
          "atención",
          "años",
          "trabajo",
          "ministro",
          "ley",
          "josé",
          "ejecutivo",
          "programa",
          "ministerio",
          "consejo",
          "soles",
          "palacio",
          "proceso",
          "población",
          "decreto",
          "agosto"
         ],
         "xaxis": "x67",
         "y": [
          29,
          27,
          20,
          15,
          14,
          14,
          13,
          12,
          12,
          12,
          11,
          11,
          11,
          10,
          10,
          9,
          9,
          9,
          9,
          9,
          8,
          8,
          8,
          8,
          8
         ],
         "yaxis": "y67"
        },
        {
         "alignmentgroup": "True",
         "hovertemplate": "hot_topics=<br>newspaper=DiarioElPeruano<br>week=34<br>word=%{x}<br>count=%{y}<extra></extra>",
         "legendgroup": "",
         "marker": {
          "color": "#b8bb26",
          "pattern": {
           "shape": ""
          }
         },
         "name": "",
         "offsetgroup": "",
         "orientation": "v",
         "showlegend": false,
         "textposition": "auto",
         "type": "bar",
         "x": [
          "presidente",
          "normaslegales",
          "nacional",
          "consejo",
          "año",
          "ministros",
          "ministerio",
          "salud",
          "años",
          "titular",
          "lima",
          "millones",
          "agosto",
          "gobierno",
          "seguridad",
          "ministro",
          "ejecutivo",
          "región",
          "defensa",
          "sector",
          "desarrollo",
          "conoce",
          "personas",
          "investigación",
          "busca",
          "mujeres"
         ],
         "xaxis": "x68",
         "y": [
          26,
          15,
          13,
          13,
          12,
          12,
          11,
          11,
          11,
          10,
          10,
          10,
          10,
          10,
          10,
          10,
          9,
          9,
          9,
          9,
          9,
          9,
          8,
          8,
          8,
          8
         ],
         "yaxis": "y68"
        },
        {
         "alignmentgroup": "True",
         "hovertemplate": "hot_topics=<br>newspaper=DiarioElPeruano<br>week=39<br>word=%{x}<br>count=%{y}<extra></extra>",
         "legendgroup": "",
         "marker": {
          "color": "#b8bb26",
          "pattern": {
           "shape": ""
          }
         },
         "name": "",
         "offsetgroup": "",
         "orientation": "v",
         "showlegend": false,
         "textposition": "auto",
         "type": "bar",
         "x": [
          "lima",
          "alcaldía",
          "nacional",
          "debatemunicipaljne",
          "elecciones",
          "ministerio",
          "presidente",
          "salud",
          "candidatos",
          "regionales",
          "programa",
          "millones",
          "año",
          "octubre",
          "titular",
          "ministro",
          "electoral",
          "municipales",
          "obras",
          "san",
          "proyecto",
          "normaslegales",
          "ministros",
          "social",
          "atención",
          "candidato"
         ],
         "xaxis": "x69",
         "y": [
          27,
          19,
          18,
          17,
          14,
          14,
          14,
          14,
          13,
          12,
          12,
          11,
          11,
          11,
          9,
          9,
          9,
          9,
          8,
          8,
          8,
          8,
          8,
          8,
          8,
          7
         ],
         "yaxis": "y69"
        },
        {
         "alignmentgroup": "True",
         "hovertemplate": "hot_topics=<br>newspaper=DiarioElPeruano<br>week=44<br>word=%{x}<br>count=%{y}<extra></extra>",
         "legendgroup": "",
         "marker": {
          "color": "#b8bb26",
          "pattern": {
           "shape": ""
          }
         },
         "name": "",
         "offsetgroup": "",
         "orientation": "v",
         "showlegend": false,
         "textposition": "auto",
         "type": "bar",
         "x": [
          "noviembre",
          "presidente",
          "lima",
          "nacional",
          "millones",
          "digital",
          "personas",
          "conoce",
          "gobierno",
          "pago",
          "atención",
          "bono",
          "soles",
          "trabajo",
          "callao",
          "usuarios",
          "alimentario",
          "oea",
          "sistema",
          "exposición",
          "trabajadores",
          "analógico",
          "memorias",
          "situación",
          "económica"
         ],
         "xaxis": "x70",
         "y": [
          17,
          16,
          16,
          13,
          12,
          11,
          11,
          10,
          10,
          9,
          8,
          8,
          8,
          8,
          7,
          7,
          7,
          7,
          7,
          7,
          6,
          6,
          6,
          6,
          6
         ],
         "yaxis": "y70"
        },
        {
         "alignmentgroup": "True",
         "hovertemplate": "hot_topics=<br>newspaper=DiarioElPeruano<br>week=49<br>word=%{x}<br>count=%{y}<extra></extra>",
         "legendgroup": "",
         "marker": {
          "color": "#b8bb26",
          "pattern": {
           "shape": ""
          }
         },
         "name": "",
         "offsetgroup": "",
         "orientation": "v",
         "showlegend": false,
         "textposition": "auto",
         "type": "bar",
         "x": [
          "presidenta",
          "gobierno",
          "mundial",
          "sector",
          "presidente",
          "república",
          "diálogo",
          "normaslegales",
          "ministro",
          "diciembre",
          "año",
          "general",
          "cuartos",
          "navidad",
          "llamado",
          "atención",
          "salud",
          "desarrollo",
          "conoce",
          "nacional",
          "especialelperuano",
          "ministra",
          "derechos"
         ],
         "xaxis": "x71",
         "y": [
          25,
          20,
          16,
          15,
          14,
          13,
          12,
          12,
          12,
          11,
          11,
          10,
          8,
          8,
          8,
          8,
          8,
          8,
          7,
          7,
          7,
          7,
          7
         ],
         "yaxis": "y71"
        },
        {
         "alignmentgroup": "True",
         "hovertemplate": "hot_topics=<br>newspaper=DiarioElPeruano<br>week=2<br>word=%{x}<br>count=%{y}<extra></extra>",
         "legendgroup": "",
         "marker": {
          "color": "#b8bb26",
          "pattern": {
           "shape": ""
          }
         },
         "name": "",
         "offsetgroup": "",
         "orientation": "v",
         "showlegend": false,
         "textposition": "auto",
         "type": "bar",
         "x": [
          "otárola",
          "alberto",
          "gobierno",
          "presidente",
          "lima",
          "nacional",
          "consejo",
          "puno",
          "titular",
          "ministros",
          "ejecutivo",
          "año",
          "cusco",
          "regiones",
          "paz",
          "atención",
          "presidenta",
          "violencia",
          "diálogo",
          "anunció",
          "enero",
          "normaslegales",
          "personas",
          "servicio"
         ],
         "xaxis": "x72",
         "y": [
          21,
          21,
          20,
          18,
          17,
          16,
          14,
          14,
          13,
          12,
          12,
          12,
          11,
          10,
          10,
          9,
          9,
          9,
          9,
          8,
          8,
          8,
          8,
          8
         ],
         "yaxis": "y72"
        },
        {
         "alignmentgroup": "True",
         "hovertemplate": "hot_topics=<br>newspaper=ExpresoPeru<br>week=33<br>word=%{x}<br>count=%{y}<extra></extra>",
         "legendgroup": "",
         "marker": {
          "color": "#b8bb26",
          "pattern": {
           "shape": ""
          }
         },
         "name": "",
         "offsetgroup": "",
         "orientation": "v",
         "showlegend": false,
         "textposition": "auto",
         "type": "bar",
         "x": [
          "paredes",
          "yenifer",
          "palacio",
          "josé",
          "torres",
          "gobierno",
          "antauro",
          "luis",
          "humala",
          "aníbal",
          "fiscalía",
          "garcía",
          "niños",
          "alvarado",
          "prisión",
          "enportada",
          "preventiva",
          "presidente",
          "geiner",
          "lima",
          "millones",
          "ejecutivo",
          "ministro",
          "medina",
          "guerra"
         ],
         "xaxis": "x61",
         "y": [
          23,
          18,
          17,
          12,
          11,
          10,
          10,
          9,
          8,
          8,
          8,
          8,
          6,
          6,
          6,
          6,
          6,
          6,
          6,
          6,
          5,
          5,
          5,
          5,
          5
         ],
         "yaxis": "y61"
        },
        {
         "alignmentgroup": "True",
         "hovertemplate": "hot_topics=<br>newspaper=ExpresoPeru<br>week=34<br>word=%{x}<br>count=%{y}<extra></extra>",
         "legendgroup": "",
         "marker": {
          "color": "#b8bb26",
          "pattern": {
           "shape": ""
          }
         },
         "name": "",
         "offsetgroup": "",
         "orientation": "v",
         "showlegend": false,
         "textposition": "auto",
         "type": "bar",
         "x": [
          "paredes",
          "denuncia",
          "luis",
          "benavides",
          "patricia",
          "yenifer",
          "humala",
          "colchado",
          "fiscal",
          "presidente",
          "garcía",
          "antauro",
          "josé",
          "pide",
          "elecciones",
          "miró",
          "mascarillas",
          "elguera",
          "fiscalía",
          "lilia",
          "susana",
          "años",
          "ortiz",
          "loúltimo",
          "pnp",
          "enportada",
          "beto"
         ],
         "xaxis": "x62",
         "y": [
          12,
          12,
          10,
          9,
          9,
          7,
          7,
          7,
          7,
          7,
          7,
          6,
          6,
          5,
          5,
          5,
          5,
          5,
          4,
          4,
          4,
          4,
          4,
          4,
          4,
          4,
          4
         ],
         "yaxis": "y62"
        },
        {
         "alignmentgroup": "True",
         "hovertemplate": "hot_topics=<br>newspaper=ExpresoPeru<br>week=39<br>word=%{x}<br>count=%{y}<extra></extra>",
         "legendgroup": "",
         "marker": {
          "color": "#b8bb26",
          "pattern": {
           "shape": ""
          }
         },
         "name": "",
         "offsetgroup": "",
         "orientation": "v",
         "showlegend": false,
         "textposition": "auto",
         "type": "bar",
         "x": [
          "elecciones",
          "presidencial",
          "avión",
          "vásquez",
          "caso",
          "lay",
          "jorge",
          "aliaga",
          "lópez",
          "deja",
          "luis",
          "votar",
          "torres",
          "urresti",
          "mil",
          "presidente",
          "sobrino",
          "rafael",
          "pide",
          "aníbal",
          "forsyth",
          "años",
          "jne",
          "san",
          "denuncia",
          "cuba",
          "paredes"
         ],
         "xaxis": "x63",
         "y": [
          19,
          14,
          13,
          11,
          10,
          10,
          8,
          8,
          8,
          7,
          7,
          7,
          6,
          6,
          6,
          6,
          6,
          6,
          6,
          6,
          6,
          6,
          6,
          5,
          5,
          5,
          5
         ],
         "yaxis": "y63"
        },
        {
         "alignmentgroup": "True",
         "hovertemplate": "hot_topics=<br>newspaper=ExpresoPeru<br>week=44<br>word=%{x}<br>count=%{y}<extra></extra>",
         "legendgroup": "",
         "marker": {
          "color": "#b8bb26",
          "pattern": {
           "shape": ""
          }
         },
         "name": "",
         "offsetgroup": "",
         "orientation": "v",
         "showlegend": false,
         "textposition": "auto",
         "type": "bar",
         "x": [
          "luis",
          "oea",
          "brasil",
          "odebrecht",
          "lula",
          "jorge",
          "dini",
          "gobierno",
          "noviembre",
          "césar",
          "cerrón",
          "polidatos",
          "nacional",
          "marcha",
          "miró",
          "presidente",
          "halloween",
          "lópez",
          "garcía",
          "salas",
          "judicial",
          "elguera",
          "petroperú",
          "sepa",
          "alejandro",
          "juan"
         ],
         "xaxis": "x64",
         "y": [
          10,
          8,
          8,
          7,
          6,
          6,
          6,
          6,
          5,
          5,
          5,
          5,
          5,
          5,
          4,
          4,
          4,
          4,
          4,
          4,
          4,
          4,
          4,
          4,
          4,
          4
         ],
         "yaxis": "y64"
        },
        {
         "alignmentgroup": "True",
         "hovertemplate": "hot_topics=<br>newspaper=ExpresoPeru<br>week=49<br>word=%{x}<br>count=%{y}<extra></extra>",
         "legendgroup": "",
         "marker": {
          "color": "#b8bb26",
          "pattern": {
           "shape": ""
          }
         },
         "name": "",
         "offsetgroup": "",
         "orientation": "v",
         "showlegend": false,
         "textposition": "auto",
         "type": "bar",
         "x": [
          "golpe",
          "vacancia",
          "expresoporlademocracia",
          "golpista",
          "loúltimo",
          "presidente",
          "qatar",
          "gabinete",
          "gobierno",
          "polidatos",
          "cerrón",
          "dini",
          "mundial",
          "ministros",
          "luis",
          "angulo",
          "política",
          "presidenta",
          "pide",
          "penales",
          "enportada",
          "defensa",
          "mil",
          "julio"
         ],
         "xaxis": "x65",
         "y": [
          22,
          14,
          11,
          10,
          10,
          9,
          9,
          7,
          6,
          6,
          6,
          5,
          5,
          5,
          5,
          5,
          5,
          5,
          5,
          5,
          5,
          5,
          4,
          4
         ],
         "yaxis": "y65"
        },
        {
         "alignmentgroup": "True",
         "hovertemplate": "hot_topics=<br>newspaper=ExpresoPeru<br>week=2<br>word=%{x}<br>count=%{y}<extra></extra>",
         "legendgroup": "",
         "marker": {
          "color": "#b8bb26",
          "pattern": {
           "shape": ""
          }
         },
         "name": "",
         "offsetgroup": "",
         "orientation": "v",
         "showlegend": false,
         "textposition": "auto",
         "type": "bar",
         "x": [
          "garcía",
          "violentas",
          "evo",
          "morales",
          "luis",
          "díaz",
          "otárola",
          "pide",
          "juliaca",
          "shakira",
          "josé",
          "juan",
          "freddy",
          "izquierda",
          "prisión",
          "miró",
          "harold",
          "gobierno",
          "piqué",
          "roberto",
          "torres"
         ],
         "xaxis": "x66",
         "y": [
          17,
          10,
          10,
          10,
          9,
          9,
          9,
          9,
          8,
          8,
          7,
          7,
          7,
          7,
          6,
          6,
          6,
          6,
          6,
          6,
          6
         ],
         "yaxis": "y66"
        },
        {
         "alignmentgroup": "True",
         "hovertemplate": "hot_topics=<br>newspaper=Gestionpe<br>week=33<br>word=%{x}<br>count=%{y}<extra></extra>",
         "legendgroup": "",
         "marker": {
          "color": "#b8bb26",
          "pattern": {
           "shape": ""
          }
         },
         "name": "",
         "offsetgroup": "",
         "orientation": "v",
         "showlegend": false,
         "textposition": "auto",
         "type": "bar",
         "x": [
          "lima",
          "economía",
          "millones",
          "eeuu",
          "elecciones",
          "agosto",
          "china",
          "tasas",
          "trabajo",
          "años",
          "riesgo",
          "empresas",
          "bono",
          "año",
          "dólar",
          "us",
          "fed",
          "votar",
          "video",
          "alza",
          "gobierno",
          "producción",
          "mercado",
          "alimentario",
          "peruanos",
          "afp"
         ],
         "xaxis": "x55",
         "y": [
          63,
          51,
          49,
          45,
          39,
          35,
          32,
          31,
          31,
          30,
          28,
          28,
          27,
          26,
          25,
          24,
          24,
          24,
          24,
          23,
          23,
          23,
          23,
          23,
          22,
          22
         ],
         "yaxis": "y55"
        },
        {
         "alignmentgroup": "True",
         "hovertemplate": "hot_topics=<br>newspaper=Gestionpe<br>week=34<br>word=%{x}<br>count=%{y}<extra></extra>",
         "legendgroup": "",
         "marker": {
          "color": "#b8bb26",
          "pattern": {
           "shape": ""
          }
         },
         "name": "",
         "offsetgroup": "",
         "orientation": "v",
         "showlegend": false,
         "textposition": "auto",
         "type": "bar",
         "x": [
          "millones",
          "us",
          "lima",
          "bono",
          "agosto",
          "empresas",
          "vídeo",
          "alimentario",
          "video",
          "crédito",
          "tercerización",
          "inversión",
          "link",
          "elecciones",
          "eeuu",
          "inflación",
          "prepara",
          "beneficiarios",
          "gestión",
          "cierra",
          "año",
          "riesgo",
          "trimestre",
          "fed",
          "acceder",
          "alza",
          "cambio"
         ],
         "xaxis": "x56",
         "y": [
          38,
          35,
          34,
          33,
          28,
          27,
          24,
          22,
          22,
          18,
          18,
          18,
          17,
          16,
          16,
          15,
          15,
          15,
          15,
          15,
          14,
          14,
          14,
          13,
          13,
          13,
          13
         ],
         "yaxis": "y56"
        },
        {
         "alignmentgroup": "True",
         "hovertemplate": "hot_topics=<br>newspaper=Gestionpe<br>week=39<br>word=%{x}<br>count=%{y}<extra></extra>",
         "legendgroup": "",
         "marker": {
          "color": "#b8bb26",
          "pattern": {
           "shape": ""
          }
         },
         "name": "",
         "offsetgroup": "",
         "orientation": "v",
         "showlegend": false,
         "textposition": "auto",
         "type": "bar",
         "x": [
          "elecciones",
          "lima",
          "millones",
          "votar",
          "empresas",
          "octubre",
          "eeuu",
          "año",
          "dólar",
          "años",
          "alza",
          "mercados",
          "us",
          "riesgo",
          "precio",
          "lomásleídodesetiembre",
          "precios",
          "crédito",
          "inflación",
          "mundial",
          "presidencial",
          "urresti",
          "dni",
          "onpe",
          "avión",
          "video",
          "cobre"
         ],
         "xaxis": "x57",
         "y": [
          101,
          58,
          49,
          47,
          36,
          30,
          30,
          30,
          30,
          29,
          28,
          27,
          26,
          26,
          24,
          24,
          24,
          23,
          22,
          22,
          21,
          21,
          21,
          20,
          20,
          19,
          19
         ],
         "yaxis": "y57"
        },
        {
         "alignmentgroup": "True",
         "hovertemplate": "hot_topics=<br>newspaper=Gestionpe<br>week=44<br>word=%{x}<br>count=%{y}<extra></extra>",
         "legendgroup": "",
         "marker": {
          "color": "#b8bb26",
          "pattern": {
           "shape": ""
          }
         },
         "name": "",
         "offsetgroup": "",
         "orientation": "v",
         "showlegend": false,
         "textposition": "auto",
         "type": "bar",
         "x": [
          "lomásleídodeoctubre",
          "noviembre",
          "bono",
          "alimentario",
          "lima",
          "tasas",
          "empresas",
          "fed",
          "precios",
          "link",
          "pago",
          "dólar",
          "eeuu",
          "sube",
          "beneficiario",
          "producción",
          "trabajo",
          "mercados",
          "gobierno",
          "rusia",
          "soles",
          "whatsapp",
          "años",
          "peruanos",
          "twitter",
          "brasil",
          "cambio"
         ],
         "xaxis": "x58",
         "y": [
          48,
          46,
          38,
          34,
          33,
          23,
          20,
          20,
          19,
          19,
          18,
          17,
          17,
          16,
          16,
          16,
          16,
          15,
          15,
          14,
          14,
          14,
          14,
          14,
          14,
          13,
          13
         ],
         "yaxis": "y58"
        },
        {
         "alignmentgroup": "True",
         "hovertemplate": "hot_topics=<br>newspaper=Gestionpe<br>week=49<br>word=%{x}<br>count=%{y}<extra></extra>",
         "legendgroup": "",
         "marker": {
          "color": "#b8bb26",
          "pattern": {
           "shape": ""
          }
         },
         "name": "",
         "offsetgroup": "",
         "orientation": "v",
         "showlegend": false,
         "textposition": "auto",
         "type": "bar",
         "x": [
          "golpe",
          "diciembre",
          "millones",
          "año",
          "gobierno",
          "bono",
          "vacancia",
          "eeuu",
          "feriados",
          "empresas",
          "alimentario",
          "mundial",
          "pago",
          "us",
          "lima",
          "aviar",
          "gripe",
          "dólar",
          "qatar",
          "sector",
          "mejores",
          "inflación",
          "méxico"
         ],
         "xaxis": "x59",
         "y": [
          48,
          38,
          28,
          26,
          26,
          23,
          22,
          21,
          21,
          21,
          20,
          20,
          19,
          18,
          17,
          17,
          17,
          17,
          17,
          16,
          16,
          15,
          14
         ],
         "yaxis": "y59"
        },
        {
         "alignmentgroup": "True",
         "hovertemplate": "hot_topics=<br>newspaper=Gestionpe<br>week=2<br>word=%{x}<br>count=%{y}<extra></extra>",
         "legendgroup": "",
         "marker": {
          "color": "#b8bb26",
          "pattern": {
           "shape": ""
          }
         },
         "name": "",
         "offsetgroup": "",
         "orientation": "v",
         "showlegend": false,
         "textposition": "auto",
         "type": "bar",
         "x": [
          "año",
          "millones",
          "enero",
          "eeuu",
          "gobierno",
          "otárola",
          "puno",
          "empresas",
          "cusco",
          "bono",
          "sur",
          "peruanos",
          "mercados",
          "aeropuerto",
          "bonos",
          "operaciones",
          "us",
          "fed",
          "dólar",
          "premier",
          "sector",
          "video",
          "años",
          "trabajadores",
          "mercado"
         ],
         "xaxis": "x60",
         "y": [
          51,
          39,
          35,
          32,
          31,
          28,
          28,
          23,
          21,
          21,
          20,
          19,
          18,
          18,
          17,
          16,
          16,
          16,
          15,
          15,
          15,
          15,
          15,
          14,
          14
         ],
         "yaxis": "y60"
        },
        {
         "alignmentgroup": "True",
         "hovertemplate": "hot_topics=<br>newspaper=diariocorreo<br>week=33<br>word=%{x}<br>count=%{y}<extra></extra>",
         "legendgroup": "",
         "marker": {
          "color": "#b8bb26",
          "pattern": {
           "shape": ""
          }
         },
         "name": "",
         "offsetgroup": "",
         "orientation": "v",
         "showlegend": false,
         "textposition": "auto",
         "type": "bar",
         "x": [
          "gobierno",
          "paredes",
          "libertad",
          "yenifer",
          "lima",
          "josé",
          "prisión",
          "años",
          "torres",
          "fiscalía",
          "presidente",
          "mil",
          "aníbal",
          "arequipa",
          "piura",
          "conoce",
          "palacio",
          "agosto",
          "tumbes",
          "pide",
          "viruela",
          "mono",
          "elecciones",
          "real",
          "vs"
         ],
         "xaxis": "x49",
         "y": [
          32,
          30,
          29,
          26,
          24,
          24,
          23,
          23,
          23,
          23,
          22,
          21,
          21,
          21,
          21,
          21,
          20,
          20,
          20,
          19,
          19,
          19,
          19,
          19,
          19
         ],
         "yaxis": "y49"
        },
        {
         "alignmentgroup": "True",
         "hovertemplate": "hot_topics=<br>newspaper=diariocorreo<br>week=34<br>word=%{x}<br>count=%{y}<extra></extra>",
         "legendgroup": "",
         "marker": {
          "color": "#b8bb26",
          "pattern": {
           "shape": ""
          }
         },
         "name": "",
         "offsetgroup": "",
         "orientation": "v",
         "showlegend": false,
         "textposition": "auto",
         "type": "bar",
         "x": [
          "paredes",
          "yenifer",
          "libertad",
          "fiscalía",
          "fiscal",
          "lima",
          "años",
          "prisión",
          "tumbes",
          "presidente",
          "gobierno",
          "preventiva",
          "agosto",
          "piura",
          "horas",
          "popular",
          "vs",
          "tacna",
          "puno",
          "reporta",
          "nación",
          "regional",
          "arequipa",
          "mil",
          "meses"
         ],
         "xaxis": "x50",
         "y": [
          34,
          25,
          22,
          21,
          21,
          21,
          19,
          18,
          16,
          15,
          14,
          13,
          12,
          12,
          12,
          12,
          12,
          11,
          11,
          10,
          10,
          10,
          10,
          10,
          9
         ],
         "yaxis": "y50"
        },
        {
         "alignmentgroup": "True",
         "hovertemplate": "hot_topics=<br>newspaper=diariocorreo<br>week=39<br>word=%{x}<br>count=%{y}<extra></extra>",
         "legendgroup": "",
         "marker": {
          "color": "#b8bb26",
          "pattern": {
           "shape": ""
          }
         },
         "name": "",
         "offsetgroup": "",
         "orientation": "v",
         "showlegend": false,
         "textposition": "auto",
         "type": "bar",
         "x": [
          "elecciones",
          "lima",
          "arequipa",
          "candidatos",
          "años",
          "octubre",
          "candidato",
          "puno",
          "piura",
          "vs",
          "región",
          "premium",
          "ministro",
          "presidente",
          "tumbes",
          "gol",
          "presidencial",
          "alcaldía",
          "votación",
          "libertad",
          "mil",
          "millones",
          "electoral",
          "gobierno",
          "daniel",
          "vásquez"
         ],
         "xaxis": "x51",
         "y": [
          45,
          35,
          31,
          28,
          22,
          21,
          21,
          20,
          18,
          17,
          16,
          15,
          15,
          15,
          14,
          14,
          14,
          13,
          13,
          13,
          13,
          13,
          13,
          12,
          12,
          12
         ],
         "yaxis": "y51"
        },
        {
         "alignmentgroup": "True",
         "hovertemplate": "hot_topics=<br>newspaper=diariocorreo<br>week=44<br>word=%{x}<br>count=%{y}<extra></extra>",
         "legendgroup": "",
         "marker": {
          "color": "#b8bb26",
          "pattern": {
           "shape": ""
          }
         },
         "name": "",
         "offsetgroup": "",
         "orientation": "v",
         "showlegend": false,
         "textposition": "auto",
         "type": "bar",
         "x": [
          "lima",
          "noviembre",
          "vs",
          "brasil",
          "arequipa",
          "alianza",
          "mil",
          "caso",
          "corea",
          "sporting",
          "rusia",
          "cristal",
          "tumbes",
          "millones",
          "gol",
          "horas",
          "trujillo",
          "gobierno",
          "presidente",
          "lula",
          "halloween",
          "piura",
          "mundial",
          "huancayo",
          "juan",
          "melgar"
         ],
         "xaxis": "x52",
         "y": [
          36,
          24,
          16,
          14,
          13,
          12,
          12,
          12,
          12,
          11,
          11,
          11,
          11,
          10,
          10,
          10,
          10,
          10,
          9,
          9,
          9,
          9,
          9,
          9,
          9,
          9
         ],
         "yaxis": "y52"
        },
        {
         "alignmentgroup": "True",
         "hovertemplate": "hot_topics=<br>newspaper=diariocorreo<br>week=49<br>word=%{x}<br>count=%{y}<extra></extra>",
         "legendgroup": "",
         "marker": {
          "color": "#b8bb26",
          "pattern": {
           "shape": ""
          }
         },
         "name": "",
         "offsetgroup": "",
         "orientation": "v",
         "showlegend": false,
         "textposition": "auto",
         "type": "bar",
         "x": [
          "lima",
          "golpe",
          "mundial",
          "qatar",
          "vs",
          "cristiano",
          "argentina",
          "gobierno",
          "arequipa",
          "región",
          "brasil",
          "vacancia",
          "ronaldo",
          "mil",
          "diciembre",
          "países",
          "millones",
          "messi",
          "bajos",
          "presidenta",
          "portugal",
          "años",
          "dini"
         ],
         "xaxis": "x53",
         "y": [
          30,
          26,
          24,
          21,
          19,
          18,
          18,
          18,
          18,
          17,
          16,
          16,
          15,
          15,
          14,
          13,
          13,
          13,
          12,
          12,
          12,
          12,
          11
         ],
         "yaxis": "y53"
        },
        {
         "alignmentgroup": "True",
         "hovertemplate": "hot_topics=<br>newspaper=diariocorreo<br>week=2<br>word=%{x}<br>count=%{y}<extra></extra>",
         "legendgroup": "",
         "marker": {
          "color": "#b8bb26",
          "pattern": {
           "shape": ""
          }
         },
         "name": "",
         "offsetgroup": "",
         "orientation": "v",
         "showlegend": false,
         "textposition": "auto",
         "type": "bar",
         "x": [
          "puno",
          "arequipa",
          "libertad",
          "enero",
          "gobierno",
          "otárola",
          "alberto",
          "lima",
          "millones",
          "glademiranaya",
          "paredes",
          "años",
          "hospital",
          "manifestantes",
          "freddy",
          "carretera",
          "evo",
          "díaz",
          "policía",
          "tacna",
          "morales",
          "eeuu",
          "muertes",
          "juliaca",
          "huancayo"
         ],
         "xaxis": "x54",
         "y": [
          19,
          19,
          16,
          14,
          13,
          13,
          12,
          10,
          10,
          10,
          9,
          9,
          9,
          9,
          8,
          8,
          8,
          8,
          7,
          7,
          7,
          7,
          7,
          7,
          7
         ],
         "yaxis": "y54"
        },
        {
         "alignmentgroup": "True",
         "hovertemplate": "hot_topics=<br>newspaper=diarioojo<br>week=33<br>word=%{x}<br>count=%{y}<extra></extra>",
         "legendgroup": "",
         "marker": {
          "color": "#b8bb26",
          "pattern": {
           "shape": ""
          }
         },
         "name": "",
         "offsetgroup": "",
         "orientation": "v",
         "showlegend": false,
         "textposition": "auto",
         "type": "bar",
         "x": [
          "magaly",
          "años",
          "lima",
          "sofía",
          "hija",
          "franco",
          "jamila",
          "mil",
          "paz",
          "barra",
          "diego",
          "conoce",
          "revela",
          "garcía",
          "zambrano",
          "fiorella",
          "alondra",
          "bertie",
          "programa",
          "habría",
          "carlos",
          "fiesta",
          "retiz",
          "familia",
          "deja",
          "hijo"
         ],
         "xaxis": "x43",
         "y": [
          46,
          45,
          36,
          30,
          29,
          27,
          26,
          26,
          24,
          22,
          22,
          21,
          18,
          17,
          16,
          16,
          15,
          15,
          14,
          14,
          14,
          13,
          13,
          13,
          13,
          13
         ],
         "yaxis": "y43"
        },
        {
         "alignmentgroup": "True",
         "hovertemplate": "hot_topics=<br>newspaper=diarioojo<br>week=34<br>word=%{x}<br>count=%{y}<extra></extra>",
         "legendgroup": "",
         "marker": {
          "color": "#b8bb26",
          "pattern": {
           "shape": ""
          }
         },
         "name": "",
         "offsetgroup": "",
         "orientation": "v",
         "showlegend": false,
         "textposition": "auto",
         "type": "bar",
         "x": [
          "magaly",
          "lima",
          "piqué",
          "años",
          "gerard",
          "mil",
          "shakira",
          "hija",
          "samahara",
          "karla",
          "fiorella",
          "vida",
          "cree",
          "paredes",
          "san",
          "juan",
          "gisela",
          "amor",
          "separación",
          "novia",
          "ethel",
          "brunella",
          "tarazona",
          "boda",
          "conoce",
          "retiz"
         ],
         "xaxis": "x44",
         "y": [
          25,
          25,
          24,
          23,
          20,
          19,
          19,
          18,
          16,
          15,
          14,
          14,
          13,
          13,
          13,
          13,
          12,
          12,
          12,
          11,
          11,
          11,
          11,
          11,
          11,
          11
         ],
         "yaxis": "y44"
        },
        {
         "alignmentgroup": "True",
         "hovertemplate": "hot_topics=<br>newspaper=diarioojo<br>week=39<br>word=%{x}<br>count=%{y}<extra></extra>",
         "legendgroup": "",
         "marker": {
          "color": "#b8bb26",
          "pattern": {
           "shape": ""
          }
         },
         "name": "",
         "offsetgroup": "",
         "orientation": "v",
         "showlegend": false,
         "textposition": "auto",
         "type": "bar",
         "x": [
          "elecciones",
          "magaly",
          "robotín",
          "lima",
          "show",
          "melissa",
          "gisela",
          "robotina",
          "años",
          "paredes",
          "octubre",
          "boca",
          "valcárcel",
          "peruana",
          "conoce",
          "christian",
          "hija",
          "medina",
          "urresti",
          "san",
          "municipal",
          "votar",
          "rafael",
          "alcaldía",
          "revela",
          "tv",
          "lópez"
         ],
         "xaxis": "x45",
         "y": [
          45,
          44,
          28,
          27,
          23,
          23,
          21,
          20,
          18,
          18,
          18,
          15,
          15,
          13,
          13,
          13,
          13,
          12,
          12,
          11,
          11,
          11,
          11,
          11,
          11,
          11,
          11
         ],
         "yaxis": "y45"
        },
        {
         "alignmentgroup": "True",
         "hovertemplate": "hot_topics=<br>newspaper=diarioojo<br>week=44<br>word=%{x}<br>count=%{y}<extra></extra>",
         "legendgroup": "",
         "marker": {
          "color": "#b8bb26",
          "pattern": {
           "shape": ""
          }
         },
         "name": "",
         "offsetgroup": "",
         "orientation": "v",
         "showlegend": false,
         "textposition": "auto",
         "type": "bar",
         "x": [
          "halloween",
          "lima",
          "kelvin",
          "magaly",
          "john",
          "melissa",
          "paredes",
          "noviembre",
          "dalia",
          "gisela",
          "años",
          "alianza",
          "hijos",
          "rodrigo",
          "hija",
          "mil",
          "hijo",
          "sitio",
          "disfraz",
          "revela",
          "san",
          "cree",
          "vs",
          "durán",
          "fondo",
          "millones",
          "vivir"
         ],
         "xaxis": "x46",
         "y": [
          39,
          34,
          28,
          27,
          27,
          26,
          19,
          18,
          17,
          15,
          15,
          13,
          13,
          12,
          12,
          12,
          11,
          11,
          11,
          11,
          11,
          11,
          10,
          10,
          10,
          10,
          10
         ],
         "yaxis": "y46"
        },
        {
         "alignmentgroup": "True",
         "hovertemplate": "hot_topics=<br>newspaper=diarioojo<br>week=49<br>word=%{x}<br>count=%{y}<extra></extra>",
         "legendgroup": "",
         "marker": {
          "color": "#b8bb26",
          "pattern": {
           "shape": ""
          }
         },
         "name": "",
         "offsetgroup": "",
         "orientation": "v",
         "showlegend": false,
         "textposition": "auto",
         "type": "bar",
         "x": [
          "magaly",
          "golpe",
          "lima",
          "mundial",
          "qatar",
          "vs",
          "diciembre",
          "melissa",
          "ethel",
          "vacancia",
          "cristiano",
          "portugal",
          "brasil",
          "paredes",
          "navidad",
          "ronaldo",
          "mil",
          "mensaje",
          "lucho",
          "horas",
          "año",
          "cáceres",
          "gol"
         ],
         "xaxis": "x47",
         "y": [
          36,
          32,
          30,
          29,
          27,
          25,
          22,
          21,
          20,
          20,
          18,
          18,
          17,
          16,
          15,
          14,
          14,
          14,
          13,
          13,
          12,
          12,
          12
         ],
         "yaxis": "y47"
        },
        {
         "alignmentgroup": "True",
         "hovertemplate": "hot_topics=<br>newspaper=diarioojo<br>week=2<br>word=%{x}<br>count=%{y}<extra></extra>",
         "legendgroup": "",
         "marker": {
          "color": "#b8bb26",
          "pattern": {
           "shape": ""
          }
         },
         "name": "",
         "offsetgroup": "",
         "orientation": "v",
         "showlegend": false,
         "textposition": "auto",
         "type": "bar",
         "x": [
          "brunella",
          "alessia",
          "miss",
          "boda",
          "universo",
          "shakira",
          "rovegno",
          "richard",
          "melissa",
          "piqué",
          "paredes",
          "peluchín",
          "karla",
          "canción",
          "horna",
          "acuña",
          "gino",
          "años",
          "tarazona",
          "mil",
          "galán",
          "jazmín",
          "pamela",
          "programa",
          "tv",
          "mensaje",
          "burla",
          "pesaressi"
         ],
         "xaxis": "x48",
         "y": [
          36,
          36,
          28,
          27,
          26,
          22,
          21,
          19,
          19,
          17,
          15,
          13,
          12,
          11,
          11,
          11,
          10,
          10,
          10,
          9,
          9,
          9,
          9,
          9,
          9,
          8,
          8,
          8
         ],
         "yaxis": "y48"
        },
        {
         "alignmentgroup": "True",
         "hovertemplate": "hot_topics=<br>newspaper=elbuho_pe<br>week=33<br>word=%{x}<br>count=%{y}<extra></extra>",
         "legendgroup": "",
         "marker": {
          "color": "#b8bb26",
          "pattern": {
           "shape": ""
          }
         },
         "name": "",
         "offsetgroup": "",
         "orientation": "v",
         "showlegend": false,
         "textposition": "auto",
         "type": "bar",
         "x": [
          "venezuela",
          "stick",
          "anitta",
          "entonó",
          "maravilló",
          "rebecca",
          "dogs",
          "dembow",
          "psa",
          "monos",
          "spanic",
          "gaby",
          "aylín",
          "geraldine",
          "villanas",
          "pachacámac",
          "reclutador",
          "impresionar",
          "agurto",
          "internada",
          "desacreditó",
          "hildebrando",
          "chiara",
          "rulito",
          "lencería",
          "luceila",
          "maquillados",
          "cuestionables",
          "my",
          "indignada"
         ],
         "xaxis": "x37",
         "y": [
          0,
          0,
          0,
          0,
          0,
          0,
          0,
          0,
          0,
          0,
          0,
          0,
          0,
          0,
          0,
          0,
          0,
          0,
          0,
          0,
          0,
          0,
          0,
          0,
          0,
          0,
          0,
          0,
          0,
          0
         ],
         "yaxis": "y37"
        },
        {
         "alignmentgroup": "True",
         "hovertemplate": "hot_topics=<br>newspaper=elbuho_pe<br>week=34<br>word=%{x}<br>count=%{y}<extra></extra>",
         "legendgroup": "",
         "marker": {
          "color": "#b8bb26",
          "pattern": {
           "shape": ""
          }
         },
         "name": "",
         "offsetgroup": "",
         "orientation": "v",
         "showlegend": false,
         "textposition": "auto",
         "type": "bar",
         "x": [
          "elbuho",
          "elbuhope",
          "alvuelo",
          "arequipa",
          "elecciones",
          "fiscal",
          "paredes",
          "humala",
          "antauro",
          "nación",
          "ministro",
          "patricia",
          "trabajadores",
          "pico",
          "benavides",
          "yenifer",
          "fiscalía",
          "denuncia",
          "exigen",
          "pasó",
          "importa",
          "prisión",
          "melgar",
          "libre",
          "huelga",
          "preventiva",
          "presidente"
         ],
         "xaxis": "x38",
         "y": [
          19,
          17,
          9,
          9,
          7,
          7,
          6,
          5,
          5,
          5,
          4,
          4,
          4,
          4,
          4,
          4,
          4,
          4,
          4,
          4,
          4,
          4,
          3,
          3,
          3,
          3,
          3
         ],
         "yaxis": "y38"
        },
        {
         "alignmentgroup": "True",
         "hovertemplate": "hot_topics=<br>newspaper=elbuho_pe<br>week=39<br>word=%{x}<br>count=%{y}<extra></extra>",
         "legendgroup": "",
         "marker": {
          "color": "#b8bb26",
          "pattern": {
           "shape": ""
          }
         },
         "name": "",
         "offsetgroup": "",
         "orientation": "v",
         "showlegend": false,
         "textposition": "auto",
         "type": "bar",
         "x": [
          "elbuhope",
          "arequipa",
          "elecciones",
          "elbuho",
          "candidatos",
          "alvuelo",
          "electoral",
          "campaña",
          "regionales",
          "candidato",
          "urna",
          "boca",
          "pasó",
          "puno",
          "domingo",
          "torres",
          "rohel",
          "gobernador",
          "antauro",
          "provincial",
          "cierre",
          "sánchez",
          "movimientos",
          "cobertura",
          "octubre",
          "congresista",
          "regional",
          "alcaldía"
         ],
         "xaxis": "x39",
         "y": [
          50,
          42,
          41,
          22,
          18,
          16,
          12,
          10,
          10,
          9,
          8,
          8,
          7,
          6,
          6,
          5,
          5,
          5,
          5,
          5,
          5,
          5,
          5,
          5,
          5,
          5,
          5,
          5
         ],
         "yaxis": "y39"
        },
        {
         "alignmentgroup": "True",
         "hovertemplate": "hot_topics=<br>newspaper=elbuho_pe<br>week=44<br>word=%{x}<br>count=%{y}<extra></extra>",
         "legendgroup": "",
         "marker": {
          "color": "#b8bb26",
          "pattern": {
           "shape": ""
          }
         },
         "name": "",
         "offsetgroup": "",
         "orientation": "v",
         "showlegend": false,
         "textposition": "auto",
         "type": "bar",
         "x": [
          "elbuhope",
          "elbuho",
          "arequipa",
          "alvuelo",
          "pasó",
          "ayacucho",
          "fiscalía",
          "oea",
          "hospital",
          "fbc",
          "melgar",
          "entrevista",
          "san",
          "salida",
          "pedido",
          "audios",
          "funcionaria",
          "comprometen",
          "obras",
          "partido",
          "elecciones",
          "sporting",
          "josé",
          "presidente",
          "lima",
          "cristal",
          "corrupción"
         ],
         "xaxis": "x40",
         "y": [
          40,
          21,
          18,
          9,
          6,
          5,
          5,
          5,
          5,
          5,
          5,
          5,
          5,
          5,
          4,
          4,
          4,
          4,
          4,
          4,
          4,
          4,
          4,
          4,
          4,
          4,
          4
         ],
         "yaxis": "y40"
        },
        {
         "alignmentgroup": "True",
         "hovertemplate": "hot_topics=<br>newspaper=elbuho_pe<br>week=49<br>word=%{x}<br>count=%{y}<extra></extra>",
         "legendgroup": "",
         "marker": {
          "color": "#b8bb26",
          "pattern": {
           "shape": ""
          }
         },
         "name": "",
         "offsetgroup": "",
         "orientation": "v",
         "showlegend": false,
         "textposition": "auto",
         "type": "bar",
         "x": [
          "elbuhope",
          "elbuho",
          "arequipa",
          "presidente",
          "alvuelo",
          "crisis",
          "cierre",
          "vacancia",
          "presidenta",
          "gobierno",
          "video",
          "nación",
          "república",
          "dini",
          "lópez",
          "exjefe",
          "elecciones",
          "opinion",
          "política",
          "mensaje",
          "escribe",
          "constitución",
          "mil",
          "congresista"
         ],
         "xaxis": "x41",
         "y": [
          32,
          19,
          15,
          11,
          9,
          7,
          7,
          7,
          6,
          6,
          6,
          6,
          6,
          5,
          5,
          5,
          4,
          4,
          4,
          4,
          4,
          4,
          4,
          3
         ],
         "yaxis": "y41"
        },
        {
         "alignmentgroup": "True",
         "hovertemplate": "hot_topics=<br>newspaper=elbuho_pe<br>week=2<br>word=%{x}<br>count=%{y}<extra></extra>",
         "legendgroup": "",
         "marker": {
          "color": "#b8bb26",
          "pattern": {
           "shape": ""
          }
         },
         "name": "",
         "offsetgroup": "",
         "orientation": "v",
         "showlegend": false,
         "textposition": "auto",
         "type": "bar",
         "x": [
          "elbuhope",
          "arequipa",
          "juliaca",
          "elbuho",
          "puno",
          "fallecidos",
          "manifestantes",
          "personas",
          "literario",
          "renuncia",
          "enfrentamientos",
          "regiones",
          "lima",
          "congresista",
          "plaza",
          "muertes",
          "policías",
          "búho",
          "comerciantes",
          "gobierno",
          "decenas",
          "xi",
          "represión",
          "sur",
          "exigiendo",
          "concurso",
          "policial"
         ],
         "xaxis": "x42",
         "y": [
          45,
          34,
          31,
          28,
          18,
          15,
          12,
          10,
          8,
          8,
          8,
          8,
          8,
          8,
          7,
          7,
          7,
          7,
          7,
          7,
          6,
          6,
          6,
          6,
          6,
          6,
          6
         ],
         "yaxis": "y42"
        },
        {
         "alignmentgroup": "True",
         "hovertemplate": "hot_topics=<br>newspaper=elcomercio_peru<br>week=33<br>word=%{x}<br>count=%{y}<extra></extra>",
         "legendgroup": "",
         "marker": {
          "color": "#b8bb26",
          "pattern": {
           "shape": ""
          }
         },
         "name": "",
         "offsetgroup": "",
         "orientation": "v",
         "showlegend": false,
         "textposition": "auto",
         "type": "bar",
         "x": [
          "agosto",
          "años",
          "millones",
          "dólar",
          "cambio",
          "méxico",
          "rusia",
          "tipo",
          "lima",
          "precio",
          "gobierno",
          "mil",
          "ucrania",
          "reporta",
          "eeuu",
          "mono",
          "viruela",
          "colombia",
          "pide",
          "chile",
          "caso",
          "muertos",
          "personas",
          "conoce",
          "trump",
          "contagios",
          "horas",
          "venezuela"
         ],
         "xaxis": "x31",
         "y": [
          48,
          33,
          26,
          25,
          21,
          20,
          20,
          19,
          18,
          18,
          17,
          16,
          15,
          15,
          14,
          14,
          14,
          13,
          13,
          12,
          12,
          12,
          11,
          11,
          10,
          10,
          10,
          10
         ],
         "yaxis": "y31"
        },
        {
         "alignmentgroup": "True",
         "hovertemplate": "hot_topics=<br>newspaper=elcomercio_peru<br>week=34<br>word=%{x}<br>count=%{y}<extra></extra>",
         "legendgroup": "",
         "marker": {
          "color": "#b8bb26",
          "pattern": {
           "shape": ""
          }
         },
         "name": "",
         "offsetgroup": "",
         "orientation": "v",
         "showlegend": false,
         "textposition": "auto",
         "type": "bar",
         "x": [
          "agosto",
          "lima",
          "millones",
          "perucheck",
          "años",
          "mundo",
          "ucrania",
          "eeuu",
          "colombia",
          "méxico",
          "venezuela",
          "muerte",
          "mono",
          "viruela",
          "rusia",
          "cambio",
          "tipo",
          "dólar",
          "us",
          "mujer",
          "reporta",
          "contagios",
          "precio",
          "unidos",
          "policía",
          "pasó",
          "bono"
         ],
         "xaxis": "x32",
         "y": [
          40,
          23,
          21,
          19,
          17,
          14,
          14,
          14,
          13,
          13,
          12,
          12,
          12,
          12,
          12,
          11,
          11,
          11,
          11,
          10,
          10,
          9,
          9,
          9,
          9,
          8,
          8
         ],
         "yaxis": "y32"
        },
        {
         "alignmentgroup": "True",
         "hovertemplate": "hot_topics=<br>newspaper=elcomercio_peru<br>week=39<br>word=%{x}<br>count=%{y}<extra></extra>",
         "legendgroup": "",
         "marker": {
          "color": "#b8bb26",
          "pattern": {
           "shape": ""
          }
         },
         "name": "",
         "offsetgroup": "",
         "orientation": "v",
         "showlegend": false,
         "textposition": "auto",
         "type": "bar",
         "x": [
          "lima",
          "elecciones",
          "setiembre",
          "rusia",
          "ian",
          "renezp",
          "huracán",
          "candidato",
          "ucrania",
          "precio",
          "florida",
          "millones",
          "años",
          "cambio",
          "eeuu",
          "perucheck",
          "candidatos",
          "conoce",
          "regiones",
          "tipo",
          "dólar",
          "bolsonaro",
          "consulta",
          "lula",
          "túdecides",
          "alcaldía",
          "méxico",
          "nord"
         ],
         "xaxis": "x33",
         "y": [
          39,
          35,
          29,
          27,
          27,
          25,
          24,
          19,
          18,
          16,
          16,
          16,
          15,
          14,
          14,
          14,
          13,
          13,
          13,
          13,
          13,
          11,
          11,
          11,
          10,
          10,
          10,
          10
         ],
         "yaxis": "y33"
        },
        {
         "alignmentgroup": "True",
         "hovertemplate": "hot_topics=<br>newspaper=elcomercio_peru<br>week=44<br>word=%{x}<br>count=%{y}<extra></extra>",
         "legendgroup": "",
         "marker": {
          "color": "#b8bb26",
          "pattern": {
           "shape": ""
          }
         },
         "name": "",
         "offsetgroup": "",
         "orientation": "v",
         "showlegend": false,
         "textposition": "auto",
         "type": "bar",
         "x": [
          "noviembre",
          "lula",
          "brasil",
          "lima",
          "rusia",
          "millones",
          "ucrania",
          "elecciones",
          "corea",
          "eeuu",
          "dólar",
          "cambio",
          "tipo",
          "precio",
          "años",
          "unidos",
          "personas",
          "colombia",
          "silva",
          "conoce",
          "victoria",
          "bolsonaro",
          "policía",
          "santos",
          "norte",
          "gobierno",
          "guerra",
          "horas"
         ],
         "xaxis": "x34",
         "y": [
          36,
          33,
          26,
          25,
          18,
          18,
          16,
          16,
          16,
          15,
          14,
          12,
          12,
          12,
          12,
          12,
          11,
          11,
          11,
          10,
          10,
          10,
          9,
          9,
          9,
          9,
          8,
          8
         ],
         "yaxis": "y34"
        },
        {
         "alignmentgroup": "True",
         "hovertemplate": "hot_topics=<br>newspaper=elcomercio_peru<br>week=49<br>word=%{x}<br>count=%{y}<extra></extra>",
         "legendgroup": "",
         "marker": {
          "color": "#b8bb26",
          "pattern": {
           "shape": ""
          }
         },
         "name": "",
         "offsetgroup": "",
         "orientation": "v",
         "showlegend": false,
         "textposition": "auto",
         "type": "bar",
         "x": [
          "diciembre",
          "gobierno",
          "golpe",
          "lima",
          "ucrania",
          "unidos",
          "rusia",
          "dólar",
          "precio",
          "eeuu",
          "años",
          "presidenta",
          "politicaecpe",
          "cambio",
          "china",
          "tipo",
          "kirchner",
          "presidente",
          "colombia",
          "conoce",
          "corrupción",
          "mil",
          "pide"
         ],
         "xaxis": "x35",
         "y": [
          39,
          25,
          22,
          20,
          19,
          18,
          16,
          14,
          14,
          14,
          13,
          13,
          12,
          12,
          12,
          12,
          11,
          11,
          10,
          10,
          10,
          9,
          9
         ],
         "yaxis": "y35"
        },
        {
         "alignmentgroup": "True",
         "hovertemplate": "hot_topics=<br>newspaper=elcomercio_peru<br>week=2<br>word=%{x}<br>count=%{y}<extra></extra>",
         "legendgroup": "",
         "marker": {
          "color": "#b8bb26",
          "pattern": {
           "shape": ""
          }
         },
         "name": "",
         "offsetgroup": "",
         "orientation": "v",
         "showlegend": false,
         "textposition": "auto",
         "type": "bar",
         "x": [
          "enero",
          "brasil",
          "eeuu",
          "bolsonaro",
          "puno",
          "unidos",
          "biden",
          "asalto",
          "méxico",
          "brasilia",
          "años",
          "lima",
          "gobierno",
          "ucrania",
          "conoce",
          "manifestantes",
          "precio",
          "policía",
          "colombia",
          "bolsonaristas",
          "violencia",
          "nacional",
          "tipo",
          "cambio",
          "china",
          "cusco"
         ],
         "xaxis": "x36",
         "y": [
          38,
          38,
          24,
          21,
          20,
          19,
          19,
          17,
          16,
          16,
          16,
          15,
          13,
          13,
          12,
          12,
          12,
          11,
          11,
          11,
          10,
          10,
          10,
          10,
          9,
          9
         ],
         "yaxis": "y36"
        },
        {
         "alignmentgroup": "True",
         "hovertemplate": "hot_topics=<br>newspaper=ensustrece<br>week=33<br>word=%{x}<br>count=%{y}<extra></extra>",
         "legendgroup": "",
         "marker": {
          "color": "#b8bb26",
          "pattern": {
           "shape": ""
          }
         },
         "name": "",
         "offsetgroup": "",
         "orientation": "v",
         "showlegend": false,
         "textposition": "auto",
         "type": "bar",
         "x": [
          "venezuela",
          "stick",
          "anitta",
          "entonó",
          "maravilló",
          "rebecca",
          "dogs",
          "dembow",
          "psa",
          "monos",
          "spanic",
          "gaby",
          "aylín",
          "geraldine",
          "villanas",
          "pachacámac",
          "reclutador",
          "impresionar",
          "agurto",
          "internada",
          "desacreditó",
          "hildebrando",
          "chiara",
          "rulito",
          "lencería",
          "luceila",
          "maquillados",
          "cuestionables",
          "my",
          "indignada"
         ],
         "xaxis": "x25",
         "y": [
          0,
          0,
          0,
          0,
          0,
          0,
          0,
          0,
          0,
          0,
          0,
          0,
          0,
          0,
          0,
          0,
          0,
          0,
          0,
          0,
          0,
          0,
          0,
          0,
          0,
          0,
          0,
          0,
          0,
          0
         ],
         "yaxis": "y25"
        },
        {
         "alignmentgroup": "True",
         "hovertemplate": "hot_topics=<br>newspaper=ensustrece<br>week=34<br>word=%{x}<br>count=%{y}<extra></extra>",
         "legendgroup": "",
         "marker": {
          "color": "#b8bb26",
          "pattern": {
           "shape": ""
          }
         },
         "name": "",
         "offsetgroup": "",
         "orientation": "v",
         "showlegend": false,
         "textposition": "auto",
         "type": "bar",
         "x": [
          "ensustrece",
          "escribe",
          "años",
          "presidente",
          "suma",
          "fujimorismo",
          "hildebrandt",
          "completa",
          "hugo",
          "espino",
          "medina",
          "alcalde",
          "mecozam",
          "repartija",
          "social",
          "estigma",
          "meses",
          "pide",
          "lunes",
          "caviar",
          "azambranox",
          "mcyrigoyen",
          "pm",
          "antauro",
          "obras",
          "gama",
          "obtener",
          "nenil"
         ],
         "xaxis": "x26",
         "y": [
          16,
          9,
          5,
          3,
          3,
          3,
          3,
          3,
          3,
          3,
          3,
          3,
          3,
          2,
          2,
          2,
          2,
          2,
          2,
          2,
          2,
          2,
          2,
          2,
          2,
          2,
          2,
          2
         ],
         "yaxis": "y26"
        },
        {
         "alignmentgroup": "True",
         "hovertemplate": "hot_topics=<br>newspaper=ensustrece<br>week=39<br>word=%{x}<br>count=%{y}<extra></extra>",
         "legendgroup": "",
         "marker": {
          "color": "#b8bb26",
          "pattern": {
           "shape": ""
          }
         },
         "name": "",
         "offsetgroup": "",
         "orientation": "v",
         "showlegend": false,
         "textposition": "auto",
         "type": "bar",
         "x": [
          "ensustrece",
          "hildebrandt",
          "eloymarchan",
          "escribe",
          "lima",
          "canal",
          "presidente",
          "cifras",
          "hermana",
          "américa",
          "quesada",
          "miró",
          "gobierno",
          "justicia",
          "edición",
          "vida",
          "podcast",
          "reportaje",
          "gilberto",
          "hume",
          "asco",
          "maría",
          "fiscal",
          "nación",
          "acaba",
          "reunió",
          "producir",
          "automóvil",
          "números",
          "líos"
         ],
         "xaxis": "x27",
         "y": [
          8,
          7,
          4,
          4,
          4,
          3,
          3,
          2,
          2,
          2,
          2,
          2,
          2,
          2,
          2,
          2,
          2,
          2,
          2,
          2,
          2,
          2,
          2,
          2,
          2,
          1,
          1,
          1,
          1,
          1
         ],
         "yaxis": "y27"
        },
        {
         "alignmentgroup": "True",
         "hovertemplate": "hot_topics=<br>newspaper=ensustrece<br>week=44<br>word=%{x}<br>count=%{y}<extra></extra>",
         "legendgroup": "",
         "marker": {
          "color": "#b8bb26",
          "pattern": {
           "shape": ""
          }
         },
         "name": "",
         "offsetgroup": "",
         "orientation": "v",
         "showlegend": false,
         "textposition": "auto",
         "type": "bar",
         "x": [
          "hildebrandt",
          "izquierda",
          "ensustrece",
          "señor",
          "cero",
          "votos",
          "césar",
          "podcast",
          "suspensión",
          "ensuciado",
          "apadrinado",
          "jalado",
          "voltearle",
          "encimar",
          "alcanzado",
          "click",
          "masoquista",
          "enciendo",
          "movadef",
          "llegan",
          "docentes",
          "frente",
          "mineduperu",
          "fenatep",
          "sentir",
          "vergüenza",
          "canal",
          "acceso",
          "gracias"
         ],
         "xaxis": "x28",
         "y": [
          5,
          4,
          3,
          3,
          2,
          2,
          2,
          2,
          2,
          1,
          1,
          1,
          1,
          1,
          1,
          1,
          1,
          1,
          1,
          1,
          1,
          1,
          1,
          1,
          1,
          1,
          1,
          1,
          1
         ],
         "yaxis": "y28"
        },
        {
         "alignmentgroup": "True",
         "hovertemplate": "hot_topics=<br>newspaper=ensustrece<br>week=49<br>word=%{x}<br>count=%{y}<extra></extra>",
         "legendgroup": "",
         "marker": {
          "color": "#b8bb26",
          "pattern": {
           "shape": ""
          }
         },
         "name": "",
         "offsetgroup": "",
         "orientation": "v",
         "showlegend": false,
         "textposition": "auto",
         "type": "bar",
         "x": [
          "hildebrandt",
          "escribe",
          "ensustrece",
          "presidente",
          "podcast",
          "chávez",
          "venezolanos",
          "lima",
          "votos",
          "golpista",
          "unchasqui",
          "miles",
          "golpe",
          "comedia",
          "reportaje",
          "garcía",
          "durar",
          "escondido",
          "empieza",
          "grupo",
          "dictador",
          "deporte",
          "aubry",
          "procesado",
          "celebraban",
          "vacado",
          "popular"
         ],
         "xaxis": "x29",
         "y": [
          10,
          8,
          8,
          3,
          3,
          3,
          2,
          2,
          2,
          2,
          2,
          2,
          2,
          2,
          2,
          2,
          1,
          1,
          1,
          1,
          1,
          1,
          1,
          1,
          1,
          1,
          1
         ],
         "yaxis": "y29"
        },
        {
         "alignmentgroup": "True",
         "hovertemplate": "hot_topics=<br>newspaper=ensustrece<br>week=2<br>word=%{x}<br>count=%{y}<extra></extra>",
         "legendgroup": "",
         "marker": {
          "color": "#b8bb26",
          "pattern": {
           "shape": ""
          }
         },
         "name": "",
         "offsetgroup": "",
         "orientation": "v",
         "showlegend": false,
         "textposition": "auto",
         "type": "bar",
         "x": [
          "ensustrece",
          "escribe",
          "hildebrandt",
          "podcast",
          "gobierno",
          "web",
          "regresa",
          "piahildebrandt",
          "historia",
          "quioscos",
          "leerlo",
          "años",
          "política",
          "paradero",
          "regiones",
          "decenas",
          "congres",
          "computadora",
          "comenzado",
          "secuestraron",
          "media",
          "lunes",
          "pasados",
          "silva",
          "hampones",
          "isaac",
          "pm"
         ],
         "xaxis": "x30",
         "y": [
          9,
          9,
          7,
          3,
          3,
          2,
          2,
          2,
          2,
          2,
          2,
          2,
          2,
          1,
          1,
          1,
          1,
          1,
          1,
          1,
          1,
          1,
          1,
          1,
          1,
          1,
          1
         ],
         "yaxis": "y30"
        },
        {
         "alignmentgroup": "True",
         "hovertemplate": "hot_topics=<br>newspaper=larazon_pe<br>week=33<br>word=%{x}<br>count=%{y}<extra></extra>",
         "legendgroup": "",
         "marker": {
          "color": "#b8bb26",
          "pattern": {
           "shape": ""
          }
         },
         "name": "",
         "offsetgroup": "",
         "orientation": "v",
         "showlegend": false,
         "textposition": "auto",
         "type": "bar",
         "x": [
          "leer",
          "mandatario",
          "agosto",
          "cerca",
          "fiscalía",
          "corrupción",
          "estadounidenses",
          "señala",
          "millones",
          "cuñada",
          "mil",
          "sueldos",
          "suplemento",
          "juanreynoso",
          "aníbal",
          "reactiva",
          "carloszambrano",
          "acontecer",
          "permitirá",
          "puedes",
          "us",
          "taiwán",
          "revela",
          "auditor",
          "dólares",
          "denuncias",
          "atención"
         ],
         "xaxis": "x19",
         "y": [
          8,
          4,
          4,
          3,
          3,
          3,
          3,
          3,
          3,
          3,
          2,
          2,
          2,
          2,
          2,
          2,
          2,
          2,
          2,
          2,
          2,
          2,
          2,
          2,
          2,
          2,
          2
         ],
         "yaxis": "y19"
        },
        {
         "alignmentgroup": "True",
         "hovertemplate": "hot_topics=<br>newspaper=larazon_pe<br>week=34<br>word=%{x}<br>count=%{y}<extra></extra>",
         "legendgroup": "",
         "marker": {
          "color": "#b8bb26",
          "pattern": {
           "shape": ""
          }
         },
         "name": "",
         "offsetgroup": "",
         "orientation": "v",
         "showlegend": false,
         "textposition": "auto",
         "type": "bar",
         "x": [
          "congresista",
          "setiembre",
          "ingresa",
          "señala",
          "dinero",
          "pena",
          "yenifer",
          "fiscal",
          "paredes",
          "mil",
          "infórmate",
          "lee",
          "gobierno",
          "presentan",
          "championsleague",
          "millones",
          "uefa",
          "prisión",
          "año",
          "realmadrid",
          "audiencia",
          "cines",
          "decreto",
          "armada",
          "entrevista",
          "compromete",
          "penal",
          "metropolitana"
         ],
         "xaxis": "x20",
         "y": [
          3,
          2,
          2,
          2,
          2,
          2,
          2,
          2,
          2,
          2,
          2,
          2,
          2,
          2,
          2,
          2,
          2,
          2,
          2,
          2,
          2,
          1,
          1,
          1,
          1,
          1,
          1,
          1
         ],
         "yaxis": "y20"
        },
        {
         "alignmentgroup": "True",
         "hovertemplate": "hot_topics=<br>newspaper=larazon_pe<br>week=39<br>word=%{x}<br>count=%{y}<extra></extra>",
         "legendgroup": "",
         "marker": {
          "color": "#b8bb26",
          "pattern": {
           "shape": ""
          }
         },
         "name": "",
         "offsetgroup": "",
         "orientation": "v",
         "showlegend": false,
         "textposition": "auto",
         "type": "bar",
         "x": [
          "nota",
          "denuncia",
          "lima",
          "san",
          "fiscal",
          "andino",
          "caiga",
          "renuncia",
          "candidatos",
          "fútbol",
          "metropolitana",
          "daniel",
          "nación",
          "electoral",
          "falsas",
          "avanza",
          "urresti",
          "corrupción",
          "lee",
          "ministerio",
          "aliaga",
          "proyectos",
          "realiza",
          "local",
          "pide",
          "busca",
          "lópez",
          "luis"
         ],
         "xaxis": "x21",
         "y": [
          5,
          4,
          4,
          3,
          3,
          3,
          2,
          2,
          2,
          2,
          2,
          2,
          2,
          2,
          2,
          2,
          2,
          2,
          2,
          2,
          2,
          2,
          2,
          2,
          2,
          2,
          2,
          2
         ],
         "yaxis": "y21"
        },
        {
         "alignmentgroup": "True",
         "hovertemplate": "hot_topics=<br>newspaper=larazon_pe<br>week=44<br>word=%{x}<br>count=%{y}<extra></extra>",
         "legendgroup": "",
         "marker": {
          "color": "#b8bb26",
          "pattern": {
           "shape": ""
          }
         },
         "name": "",
         "offsetgroup": "",
         "orientation": "v",
         "showlegend": false,
         "textposition": "auto",
         "type": "bar",
         "x": [
          "equipo",
          "cristal",
          "torneo",
          "sporting",
          "libre",
          "noviembre",
          "fiscalía",
          "premierleague",
          "especial",
          "congresista",
          "lima",
          "encontraron",
          "ventaja",
          "suplemento",
          "organización",
          "campeonato",
          "ministerio",
          "corrupción",
          "martes",
          "cuadro",
          "fbcmelgar",
          "presentó",
          "alejandro",
          "laligasantander",
          "chelsea",
          "constitucional"
         ],
         "xaxis": "x22",
         "y": [
          5,
          4,
          4,
          3,
          3,
          3,
          3,
          3,
          3,
          3,
          2,
          2,
          2,
          2,
          2,
          2,
          2,
          2,
          2,
          2,
          2,
          2,
          2,
          2,
          2,
          2
         ],
         "yaxis": "y22"
        },
        {
         "alignmentgroup": "True",
         "hovertemplate": "hot_topics=<br>newspaper=larazon_pe<br>week=49<br>word=%{x}<br>count=%{y}<extra></extra>",
         "legendgroup": "",
         "marker": {
          "color": "#b8bb26",
          "pattern": {
           "shape": ""
          }
         },
         "name": "",
         "offsetgroup": "",
         "orientation": "v",
         "showlegend": false,
         "textposition": "auto",
         "type": "bar",
         "x": [
          "fonavistas",
          "nota",
          "diciembre",
          "fonavi",
          "jubilados",
          "onp",
          "pago",
          "pagos",
          "devolución",
          "cronograma",
          "parcial",
          "presidente",
          "aportes",
          "miércoles",
          "golpe",
          "nación",
          "presidenta",
          "república",
          "gobierno",
          "iniciar",
          "convenio",
          "listo",
          "gabriel",
          "gabinete",
          "padrón"
         ],
         "xaxis": "x23",
         "y": [
          12,
          12,
          10,
          10,
          9,
          8,
          7,
          7,
          7,
          7,
          6,
          6,
          6,
          6,
          6,
          6,
          6,
          5,
          5,
          5,
          5,
          5,
          5,
          5,
          5
         ],
         "yaxis": "y23"
        },
        {
         "alignmentgroup": "True",
         "hovertemplate": "hot_topics=<br>newspaper=larazon_pe<br>week=2<br>word=%{x}<br>count=%{y}<extra></extra>",
         "legendgroup": "",
         "marker": {
          "color": "#b8bb26",
          "pattern": {
           "shape": ""
          }
         },
         "name": "",
         "offsetgroup": "",
         "orientation": "v",
         "showlegend": false,
         "textposition": "auto",
         "type": "bar",
         "x": [
          "ucrania",
          "jefe",
          "años",
          "presenta",
          "sociales",
          "atención",
          "guerra",
          "cultura",
          "proyecto",
          "busca",
          "república",
          "gobierno",
          "nacional",
          "leer",
          "enero",
          "totalmente",
          "perder",
          "seguridad",
          "municipales",
          "informado",
          "diario",
          "guía",
          "año",
          "traición",
          "violentas",
          "puedes"
         ],
         "xaxis": "x24",
         "y": [
          5,
          4,
          4,
          3,
          3,
          3,
          3,
          3,
          3,
          3,
          3,
          3,
          3,
          3,
          2,
          2,
          2,
          2,
          2,
          2,
          2,
          2,
          2,
          2,
          2,
          2
         ],
         "yaxis": "y24"
        },
        {
         "alignmentgroup": "True",
         "hovertemplate": "hot_topics=<br>newspaper=larepublica_pe<br>week=33<br>word=%{x}<br>count=%{y}<extra></extra>",
         "legendgroup": "",
         "marker": {
          "color": "#b8bb26",
          "pattern": {
           "shape": ""
          }
         },
         "name": "",
         "offsetgroup": "",
         "orientation": "v",
         "showlegend": false,
         "textposition": "auto",
         "type": "bar",
         "x": [
          "politicalr",
          "lrdeportes",
          "video",
          "lima",
          "agosto",
          "conoce",
          "paredes",
          "loúltimo",
          "envivo",
          "años",
          "verificadorlr",
          "presidente",
          "zambrano",
          "carlos",
          "alianza",
          "yenifer",
          "millones",
          "benedetto",
          "elecciones",
          "lrtendencias",
          "república",
          "melgar",
          "liga",
          "partido",
          "san",
          "comisión"
         ],
         "xaxis": "x13",
         "y": [
          292,
          268,
          197,
          72,
          58,
          54,
          47,
          46,
          41,
          40,
          38,
          37,
          37,
          33,
          33,
          32,
          30,
          30,
          28,
          28,
          28,
          27,
          27,
          27,
          27,
          26
         ],
         "yaxis": "y13"
        },
        {
         "alignmentgroup": "True",
         "hovertemplate": "hot_topics=<br>newspaper=larepublica_pe<br>week=34<br>word=%{x}<br>count=%{y}<extra></extra>",
         "legendgroup": "",
         "marker": {
          "color": "#b8bb26",
          "pattern": {
           "shape": ""
          }
         },
         "name": "",
         "offsetgroup": "",
         "orientation": "v",
         "showlegend": false,
         "textposition": "auto",
         "type": "bar",
         "x": [
          "lrdeportes",
          "politicalr",
          "video",
          "envivo",
          "paredes",
          "lima",
          "agosto",
          "años",
          "verificadorlr",
          "yenifer",
          "partido",
          "prisión",
          "alianza",
          "fiscalía",
          "loúltimo",
          "pierdas",
          "presidente",
          "república",
          "fiscal",
          "audiencia",
          "canal",
          "conoce",
          "temblor",
          "vs",
          "millones"
         ],
         "xaxis": "x14",
         "y": [
          214,
          199,
          141,
          57,
          56,
          51,
          50,
          45,
          43,
          39,
          35,
          33,
          29,
          28,
          28,
          28,
          27,
          26,
          25,
          25,
          24,
          24,
          24,
          23,
          23
         ],
         "yaxis": "y14"
        },
        {
         "alignmentgroup": "True",
         "hovertemplate": "hot_topics=<br>newspaper=larepublica_pe<br>week=39<br>word=%{x}<br>count=%{y}<extra></extra>",
         "legendgroup": "",
         "marker": {
          "color": "#b8bb26",
          "pattern": {
           "shape": ""
          }
         },
         "name": "",
         "offsetgroup": "",
         "orientation": "v",
         "showlegend": false,
         "textposition": "auto",
         "type": "bar",
         "x": [
          "politicalr",
          "lrdeportes",
          "video",
          "elecciones",
          "lima",
          "eligebien",
          "debatexlr",
          "envivo",
          "octubre",
          "votar",
          "loúltimo",
          "transmisión",
          "minuto",
          "candidatos",
          "años",
          "conoce",
          "república",
          "electoral",
          "personas",
          "pierdas",
          "candidato",
          "salvador",
          "vs",
          "alvarezrodrich",
          "partido",
          "gobierno",
          "alcaldía"
         ],
         "xaxis": "x15",
         "y": [
          235,
          182,
          150,
          77,
          74,
          66,
          48,
          47,
          42,
          34,
          34,
          33,
          33,
          32,
          32,
          31,
          28,
          27,
          26,
          26,
          25,
          25,
          25,
          24,
          24,
          24,
          23
         ],
         "yaxis": "y15"
        },
        {
         "alignmentgroup": "True",
         "hovertemplate": "hot_topics=<br>newspaper=larepublica_pe<br>week=44<br>word=%{x}<br>count=%{y}<extra></extra>",
         "legendgroup": "",
         "marker": {
          "color": "#b8bb26",
          "pattern": {
           "shape": ""
          }
         },
         "name": "",
         "offsetgroup": "",
         "orientation": "v",
         "showlegend": false,
         "textposition": "auto",
         "type": "bar",
         "x": [
          "politicalr",
          "lrdeportes",
          "video",
          "noviembre",
          "lima",
          "alianza",
          "melgar",
          "liga",
          "cristal",
          "canal",
          "años",
          "presidente",
          "→",
          "brasil",
          "caso",
          "suscríbete",
          "youtube",
          "lula",
          "lrtendencias",
          "verificadorlr",
          "mira",
          "oea",
          "loúltimo",
          "denuncia",
          "entrevista"
         ],
         "xaxis": "x16",
         "y": [
          166,
          164,
          103,
          51,
          51,
          41,
          38,
          35,
          30,
          26,
          26,
          26,
          24,
          24,
          24,
          23,
          23,
          23,
          22,
          22,
          21,
          21,
          19,
          17,
          17
         ],
         "yaxis": "y16"
        },
        {
         "alignmentgroup": "True",
         "hovertemplate": "hot_topics=<br>newspaper=larepublica_pe<br>week=49<br>word=%{x}<br>count=%{y}<extra></extra>",
         "legendgroup": "",
         "marker": {
          "color": "#b8bb26",
          "pattern": {
           "shape": ""
          }
         },
         "name": "",
         "offsetgroup": "",
         "orientation": "v",
         "showlegend": false,
         "textposition": "auto",
         "type": "bar",
         "x": [
          "politicalr",
          "lrdeportes",
          "video",
          "envivo",
          "loúltimo",
          "golpe",
          "vacancia",
          "lima",
          "cierre",
          "vs",
          "brasil",
          "mundial",
          "diciembre",
          "presidente",
          "croacia",
          "presidenta",
          "años",
          "argentina",
          "fiscalía",
          "república",
          "portugal",
          "marruecos",
          "josé"
         ],
         "xaxis": "x17",
         "y": [
          310,
          254,
          116,
          98,
          88,
          66,
          49,
          47,
          45,
          43,
          43,
          42,
          38,
          35,
          34,
          32,
          31,
          30,
          30,
          30,
          29,
          28,
          27
         ],
         "yaxis": "y17"
        },
        {
         "alignmentgroup": "True",
         "hovertemplate": "hot_topics=<br>newspaper=larepublica_pe<br>week=2<br>word=%{x}<br>count=%{y}<extra></extra>",
         "legendgroup": "",
         "marker": {
          "color": "#b8bb26",
          "pattern": {
           "shape": ""
          }
         },
         "name": "",
         "offsetgroup": "",
         "orientation": "v",
         "showlegend": false,
         "textposition": "auto",
         "type": "bar",
         "x": [
          "politicalr",
          "lrdeportes",
          "video",
          "envivo",
          "enero",
          "puno",
          "loúltimo",
          "juliaca",
          "lima",
          "gobierno",
          "nacional",
          "↓",
          "fallecidos",
          "alberto",
          "alianza",
          "otárola",
          "díaz",
          "míralo",
          "freddy",
          "años",
          "muertes",
          "policía",
          "cusco",
          "manifestantes"
         ],
         "xaxis": "x18",
         "y": [
          191,
          143,
          106,
          64,
          50,
          49,
          43,
          41,
          40,
          38,
          37,
          31,
          30,
          29,
          29,
          27,
          27,
          26,
          26,
          25,
          24,
          24,
          23,
          22
         ],
         "yaxis": "y18"
        },
        {
         "alignmentgroup": "True",
         "hovertemplate": "hot_topics=<br>newspaper=peru21noticias<br>week=33<br>word=%{x}<br>count=%{y}<extra></extra>",
         "legendgroup": "",
         "marker": {
          "color": "#b8bb26",
          "pattern": {
           "shape": ""
          }
         },
         "name": "",
         "offsetgroup": "",
         "orientation": "v",
         "showlegend": false,
         "textposition": "auto",
         "type": "bar",
         "x": [
          "lima",
          "cortita",
          "años",
          "gobierno",
          "presidente",
          "conoce",
          "paredes",
          "palacio",
          "agosto",
          "yenifer",
          "josé",
          "mil",
          "fiscalía",
          "millones",
          "vs",
          "real",
          "boca",
          "carlos",
          "ministro",
          "niño",
          "niños",
          "humala",
          "cámaras",
          "programa",
          "alcalde"
         ],
         "xaxis": "x7",
         "y": [
          60,
          51,
          49,
          48,
          45,
          43,
          41,
          39,
          38,
          35,
          34,
          33,
          32,
          31,
          25,
          23,
          22,
          22,
          21,
          21,
          21,
          21,
          21,
          20,
          20
         ],
         "yaxis": "y7"
        },
        {
         "alignmentgroup": "True",
         "hovertemplate": "hot_topics=<br>newspaper=peru21noticias<br>week=34<br>word=%{x}<br>count=%{y}<extra></extra>",
         "legendgroup": "",
         "marker": {
          "color": "#b8bb26",
          "pattern": {
           "shape": ""
          }
         },
         "name": "",
         "offsetgroup": "",
         "orientation": "v",
         "showlegend": false,
         "textposition": "auto",
         "type": "bar",
         "x": [
          "lima",
          "agosto",
          "paredes",
          "años",
          "fiscal",
          "conoce",
          "cortita",
          "millones",
          "presidente",
          "fiscalía",
          "yenifer",
          "prisión",
          "preventiva",
          "peruana",
          "peruano",
          "envivo",
          "summum",
          "piqué",
          "premios",
          "mil",
          "audiencia",
          "pedido",
          "entrevista",
          "casa",
          "gobierno",
          "café"
         ],
         "xaxis": "x8",
         "y": [
          55,
          38,
          35,
          32,
          30,
          30,
          27,
          26,
          25,
          24,
          23,
          23,
          21,
          21,
          21,
          21,
          20,
          20,
          19,
          19,
          19,
          18,
          18,
          17,
          17,
          17
         ],
         "yaxis": "y8"
        },
        {
         "alignmentgroup": "True",
         "hovertemplate": "hot_topics=<br>newspaper=peru21noticias<br>week=39<br>word=%{x}<br>count=%{y}<extra></extra>",
         "legendgroup": "",
         "marker": {
          "color": "#b8bb26",
          "pattern": {
           "shape": ""
          }
         },
         "name": "",
         "offsetgroup": "",
         "orientation": "v",
         "showlegend": false,
         "textposition": "auto",
         "type": "bar",
         "x": [
          "lima",
          "elecciones",
          "minuto",
          "cortita",
          "octubre",
          "envivo",
          "candidato",
          "conoce",
          "alcaldía",
          "urresti",
          "años",
          "daniel",
          "caso",
          "candidatos",
          "vásquez",
          "avión",
          "boca",
          "lópez",
          "vs",
          "debate",
          "mundial",
          "fiscalía",
          "setiembre",
          "presidencial",
          "presidente",
          "aliaga"
         ],
         "xaxis": "x9",
         "y": [
          72,
          69,
          36,
          35,
          35,
          33,
          32,
          30,
          25,
          25,
          24,
          23,
          21,
          20,
          20,
          19,
          19,
          19,
          19,
          19,
          19,
          18,
          18,
          18,
          17,
          17
         ],
         "yaxis": "y9"
        },
        {
         "alignmentgroup": "True",
         "hovertemplate": "hot_topics=<br>newspaper=peru21noticias<br>week=44<br>word=%{x}<br>count=%{y}<extra></extra>",
         "legendgroup": "",
         "marker": {
          "color": "#b8bb26",
          "pattern": {
           "shape": ""
          }
         },
         "name": "",
         "offsetgroup": "",
         "orientation": "v",
         "showlegend": false,
         "textposition": "auto",
         "type": "bar",
         "x": [
          "lima",
          "cortita",
          "noviembre",
          "conoce",
          "presidente",
          "vs",
          "oea",
          "años",
          "nacional",
          "brasil",
          "mundial",
          "gol",
          "millones",
          "halloween",
          "josé",
          "peruana",
          "piqué",
          "rusia",
          "peruanos",
          "odebrecht",
          "san",
          "familia",
          "mil",
          "fondo",
          "caso"
         ],
         "xaxis": "x10",
         "y": [
          38,
          36,
          32,
          21,
          19,
          17,
          17,
          17,
          16,
          15,
          14,
          13,
          13,
          13,
          12,
          12,
          12,
          12,
          11,
          11,
          11,
          11,
          11,
          11,
          11
         ],
         "yaxis": "y10"
        },
        {
         "alignmentgroup": "True",
         "hovertemplate": "hot_topics=<br>newspaper=peru21noticias<br>week=49<br>word=%{x}<br>count=%{y}<extra></extra>",
         "legendgroup": "",
         "marker": {
          "color": "#b8bb26",
          "pattern": {
           "shape": ""
          }
         },
         "name": "",
         "offsetgroup": "",
         "orientation": "v",
         "showlegend": false,
         "textposition": "auto",
         "type": "bar",
         "x": [
          "mundial",
          "qatar",
          "golpe",
          "diciembre",
          "lima",
          "vs",
          "presidenta",
          "vacancia",
          "cortita",
          "gabinete",
          "gobierno",
          "república",
          "portugal",
          "brasil",
          "conoce",
          "partido",
          "presidente",
          "argentina",
          "cuartos",
          "dini",
          "directo",
          "marruecos",
          "envivo",
          "ministro"
         ],
         "xaxis": "x11",
         "y": [
          66,
          65,
          59,
          57,
          56,
          48,
          41,
          35,
          32,
          32,
          32,
          32,
          30,
          30,
          30,
          29,
          28,
          26,
          26,
          24,
          23,
          22,
          22,
          22
         ],
         "yaxis": "y11"
        },
        {
         "alignmentgroup": "True",
         "hovertemplate": "hot_topics=<br>newspaper=peru21noticias<br>week=2<br>word=%{x}<br>count=%{y}<extra></extra>",
         "legendgroup": "",
         "marker": {
          "color": "#b8bb26",
          "pattern": {
           "shape": ""
          }
         },
         "name": "",
         "offsetgroup": "",
         "orientation": "v",
         "showlegend": false,
         "textposition": "auto",
         "type": "bar",
         "x": [
          "puno",
          "gobierno",
          "años",
          "lima",
          "díaz",
          "nacional",
          "miss",
          "enero",
          "cortita",
          "otárola",
          "freddy",
          "cusco",
          "voto",
          "año",
          "evo",
          "policía",
          "envivo",
          "peruana",
          "confianza",
          "morales",
          "manifestantes",
          "congresista",
          "gabinete"
         ],
         "xaxis": "x12",
         "y": [
          41,
          24,
          24,
          19,
          18,
          17,
          17,
          17,
          17,
          16,
          16,
          16,
          16,
          15,
          15,
          14,
          14,
          14,
          14,
          14,
          14,
          14,
          14
         ],
         "yaxis": "y12"
        },
        {
         "alignmentgroup": "True",
         "hovertemplate": "hot_topics=<br>newspaper=tromepe<br>week=33<br>word=%{x}<br>count=%{y}<extra></extra>",
         "legendgroup": "",
         "marker": {
          "color": "#b8bb26",
          "pattern": {
           "shape": ""
          }
         },
         "name": "",
         "offsetgroup": "",
         "orientation": "v",
         "showlegend": false,
         "textposition": "auto",
         "type": "bar",
         "x": [
          "vs",
          "lee",
          "lima",
          "años",
          "zambrano",
          "diego",
          "carlos",
          "boca",
          "casa",
          "benedetto",
          "real",
          "conoce",
          "franco",
          "madrid",
          "liga",
          "paz",
          "magaly",
          "jamila",
          "gol",
          "vía",
          "hora",
          "mil",
          "niño",
          "barra",
          "paredes",
          "directo",
          "sofía"
         ],
         "xaxis": "x",
         "y": [
          69,
          46,
          45,
          45,
          35,
          30,
          28,
          27,
          26,
          26,
          25,
          25,
          23,
          22,
          22,
          21,
          21,
          20,
          20,
          20,
          20,
          20,
          20,
          19,
          19,
          18,
          18
         ],
         "yaxis": "y"
        },
        {
         "alignmentgroup": "True",
         "hovertemplate": "hot_topics=<br>newspaper=tromepe<br>week=34<br>word=%{x}<br>count=%{y}<extra></extra>",
         "legendgroup": "",
         "marker": {
          "color": "#b8bb26",
          "pattern": {
           "shape": ""
          }
         },
         "name": "",
         "offsetgroup": "",
         "orientation": "v",
         "showlegend": false,
         "textposition": "auto",
         "type": "bar",
         "x": [
          "lima",
          "vs",
          "piqué",
          "clara",
          "años",
          "shakira",
          "chía",
          "lee",
          "gerard",
          "conoce",
          "martí",
          "agosto",
          "santa",
          "magaly",
          "gol",
          "mil",
          "samahara",
          "barcelona",
          "rosa",
          "league",
          "vía",
          "concierto",
          "manchester",
          "novia",
          "lobatón",
          "diego"
         ],
         "xaxis": "x2",
         "y": [
          48,
          47,
          40,
          28,
          27,
          26,
          25,
          23,
          22,
          21,
          21,
          21,
          20,
          20,
          18,
          17,
          16,
          16,
          15,
          15,
          14,
          14,
          14,
          14,
          14,
          13
         ],
         "yaxis": "y2"
        },
        {
         "alignmentgroup": "True",
         "hovertemplate": "hot_topics=<br>newspaper=tromepe<br>week=39<br>word=%{x}<br>count=%{y}<extra></extra>",
         "legendgroup": "",
         "marker": {
          "color": "#b8bb26",
          "pattern": {
           "shape": ""
          }
         },
         "name": "",
         "offsetgroup": "",
         "orientation": "v",
         "showlegend": false,
         "textposition": "auto",
         "type": "bar",
         "x": [
          "lima",
          "vs",
          "elecciones",
          "magaly",
          "show",
          "boca",
          "lee",
          "peruana",
          "paredes",
          "alianza",
          "salvador",
          "melissa",
          "gisela",
          "alcaldía",
          "selección",
          "reyna",
          "christian",
          "robotina",
          "bryan",
          "vida",
          "gol",
          "robotín",
          "san",
          "candidato",
          "rafael",
          "octubre",
          "urna",
          "medina"
         ],
         "xaxis": "x3",
         "y": [
          61,
          58,
          46,
          39,
          36,
          31,
          31,
          28,
          28,
          25,
          25,
          25,
          24,
          23,
          22,
          20,
          20,
          20,
          20,
          20,
          19,
          19,
          19,
          19,
          19,
          18,
          18,
          18
         ],
         "yaxis": "y3"
        },
        {
         "alignmentgroup": "True",
         "hovertemplate": "hot_topics=<br>newspaper=tromepe<br>week=44<br>word=%{x}<br>count=%{y}<extra></extra>",
         "legendgroup": "",
         "marker": {
          "color": "#b8bb26",
          "pattern": {
           "shape": ""
          }
         },
         "name": "",
         "offsetgroup": "",
         "orientation": "v",
         "showlegend": false,
         "textposition": "auto",
         "type": "bar",
         "x": [
          "lima",
          "vs",
          "halloween",
          "alianza",
          "noviembre",
          "conoce",
          "john",
          "amor",
          "magaly",
          "melissa",
          "melgar",
          "kelvin",
          "cristal",
          "liga",
          "piqué",
          "mundial",
          "mil",
          "gerard",
          "disfraz",
          "giuliana",
          "show",
          "américa",
          "revela",
          "clausura",
          "familia",
          "paredes",
          "sporting"
         ],
         "xaxis": "x4",
         "y": [
          47,
          36,
          31,
          27,
          23,
          23,
          21,
          21,
          21,
          21,
          21,
          20,
          20,
          19,
          18,
          18,
          15,
          15,
          14,
          14,
          13,
          12,
          12,
          12,
          12,
          12,
          12
         ],
         "yaxis": "y4"
        },
        {
         "alignmentgroup": "True",
         "hovertemplate": "hot_topics=<br>newspaper=tromepe<br>week=49<br>word=%{x}<br>count=%{y}<extra></extra>",
         "legendgroup": "",
         "marker": {
          "color": "#b8bb26",
          "pattern": {
           "shape": ""
          }
         },
         "name": "",
         "offsetgroup": "",
         "orientation": "v",
         "showlegend": false,
         "textposition": "auto",
         "type": "bar",
         "x": [
          "qatar",
          "mundial",
          "vs",
          "brasil",
          "argentina",
          "cristiano",
          "golpe",
          "magaly",
          "portugal",
          "marruecos",
          "lima",
          "croacia",
          "ronaldo",
          "cuartos",
          "lee",
          "bajos",
          "países",
          "selección",
          "españa",
          "vacancia",
          "presidente",
          "messi",
          "canal",
          "república"
         ],
         "xaxis": "x5",
         "y": [
          103,
          83,
          73,
          52,
          45,
          37,
          37,
          36,
          35,
          34,
          34,
          34,
          32,
          31,
          31,
          26,
          26,
          25,
          25,
          25,
          24,
          23,
          22,
          21
         ],
         "yaxis": "y5"
        },
        {
         "alignmentgroup": "True",
         "hovertemplate": "hot_topics=<br>newspaper=tromepe<br>week=2<br>word=%{x}<br>count=%{y}<extra></extra>",
         "legendgroup": "",
         "marker": {
          "color": "#b8bb26",
          "pattern": {
           "shape": ""
          }
         },
         "name": "",
         "offsetgroup": "",
         "orientation": "v",
         "showlegend": false,
         "textposition": "auto",
         "type": "bar",
         "x": [
          "miss",
          "universo",
          "shakira",
          "alessia",
          "piqué",
          "canción",
          "rovegno",
          "brunella",
          "lee",
          "puno",
          "boda",
          "lima",
          "alianza",
          "horna",
          "richard",
          "vs",
          "año",
          "christian",
          "acuña",
          "clara",
          "baldessari",
          "pepa",
          "melissa",
          "otárola",
          "paredes",
          "años",
          "hija",
          "madrid"
         ],
         "xaxis": "x6",
         "y": [
          58,
          55,
          49,
          40,
          35,
          31,
          30,
          28,
          27,
          25,
          24,
          23,
          22,
          20,
          18,
          17,
          17,
          16,
          16,
          16,
          14,
          14,
          14,
          13,
          13,
          13,
          12,
          12
         ],
         "yaxis": "y6"
        },
        {
         "alignmentgroup": "True",
         "hovertemplate": "hot_topics=país<br>newspaper=DiarioElPeruano<br>week=33<br>word=%{x}<br>count=%{y}<extra></extra>",
         "legendgroup": "país",
         "marker": {
          "color": "#458588",
          "pattern": {
           "shape": ""
          }
         },
         "name": "país",
         "offsetgroup": "país",
         "orientation": "v",
         "showlegend": true,
         "textposition": "auto",
         "type": "bar",
         "x": [
          "país",
          "perú"
         ],
         "xaxis": "x67",
         "y": [
          24,
          14
         ],
         "yaxis": "y67"
        },
        {
         "alignmentgroup": "True",
         "hovertemplate": "hot_topics=país<br>newspaper=DiarioElPeruano<br>week=34<br>word=%{x}<br>count=%{y}<extra></extra>",
         "legendgroup": "país",
         "marker": {
          "color": "#458588",
          "pattern": {
           "shape": ""
          }
         },
         "name": "país",
         "offsetgroup": "país",
         "orientation": "v",
         "showlegend": false,
         "textposition": "auto",
         "type": "bar",
         "x": [
          "perú",
          "país"
         ],
         "xaxis": "x68",
         "y": [
          19,
          11
         ],
         "yaxis": "y68"
        },
        {
         "alignmentgroup": "True",
         "hovertemplate": "hot_topics=país<br>newspaper=DiarioElPeruano<br>week=39<br>word=%{x}<br>count=%{y}<extra></extra>",
         "legendgroup": "país",
         "marker": {
          "color": "#458588",
          "pattern": {
           "shape": ""
          }
         },
         "name": "país",
         "offsetgroup": "país",
         "orientation": "v",
         "showlegend": false,
         "textposition": "auto",
         "type": "bar",
         "x": [
          "perú",
          "país"
         ],
         "xaxis": "x69",
         "y": [
          21,
          19
         ],
         "yaxis": "y69"
        },
        {
         "alignmentgroup": "True",
         "hovertemplate": "hot_topics=país<br>newspaper=DiarioElPeruano<br>week=44<br>word=%{x}<br>count=%{y}<extra></extra>",
         "legendgroup": "país",
         "marker": {
          "color": "#458588",
          "pattern": {
           "shape": ""
          }
         },
         "name": "país",
         "offsetgroup": "país",
         "orientation": "v",
         "showlegend": false,
         "textposition": "auto",
         "type": "bar",
         "x": [
          "perú",
          "país"
         ],
         "xaxis": "x70",
         "y": [
          17,
          14
         ],
         "yaxis": "y70"
        },
        {
         "alignmentgroup": "True",
         "hovertemplate": "hot_topics=país<br>newspaper=DiarioElPeruano<br>week=49<br>word=%{x}<br>count=%{y}<extra></extra>",
         "legendgroup": "país",
         "marker": {
          "color": "#458588",
          "pattern": {
           "shape": ""
          }
         },
         "name": "país",
         "offsetgroup": "país",
         "orientation": "v",
         "showlegend": false,
         "textposition": "auto",
         "type": "bar",
         "x": [
          "perú",
          "país"
         ],
         "xaxis": "x71",
         "y": [
          25,
          17
         ],
         "yaxis": "y71"
        },
        {
         "alignmentgroup": "True",
         "hovertemplate": "hot_topics=país<br>newspaper=DiarioElPeruano<br>week=2<br>word=%{x}<br>count=%{y}<extra></extra>",
         "legendgroup": "país",
         "marker": {
          "color": "#458588",
          "pattern": {
           "shape": ""
          }
         },
         "name": "país",
         "offsetgroup": "país",
         "orientation": "v",
         "showlegend": false,
         "textposition": "auto",
         "type": "bar",
         "x": [
          "país",
          "perú"
         ],
         "xaxis": "x72",
         "y": [
          21,
          17
         ],
         "yaxis": "y72"
        },
        {
         "alignmentgroup": "True",
         "hovertemplate": "hot_topics=país<br>newspaper=ExpresoPeru<br>week=33<br>word=%{x}<br>count=%{y}<extra></extra>",
         "legendgroup": "país",
         "marker": {
          "color": "#458588",
          "pattern": {
           "shape": ""
          }
         },
         "name": "país",
         "offsetgroup": "país",
         "orientation": "v",
         "showlegend": false,
         "textposition": "auto",
         "type": "bar",
         "x": [
          "perú",
          "país"
         ],
         "xaxis": "x61",
         "y": [
          19,
          7
         ],
         "yaxis": "y61"
        },
        {
         "alignmentgroup": "True",
         "hovertemplate": "hot_topics=país<br>newspaper=ExpresoPeru<br>week=34<br>word=%{x}<br>count=%{y}<extra></extra>",
         "legendgroup": "país",
         "marker": {
          "color": "#458588",
          "pattern": {
           "shape": ""
          }
         },
         "name": "país",
         "offsetgroup": "país",
         "orientation": "v",
         "showlegend": false,
         "textposition": "auto",
         "type": "bar",
         "x": [
          "perú"
         ],
         "xaxis": "x62",
         "y": [
          17
         ],
         "yaxis": "y62"
        },
        {
         "alignmentgroup": "True",
         "hovertemplate": "hot_topics=país<br>newspaper=ExpresoPeru<br>week=39<br>word=%{x}<br>count=%{y}<extra></extra>",
         "legendgroup": "país",
         "marker": {
          "color": "#458588",
          "pattern": {
           "shape": ""
          }
         },
         "name": "país",
         "offsetgroup": "país",
         "orientation": "v",
         "showlegend": false,
         "textposition": "auto",
         "type": "bar",
         "x": [
          "perú"
         ],
         "xaxis": "x63",
         "y": [
          13
         ],
         "yaxis": "y63"
        },
        {
         "alignmentgroup": "True",
         "hovertemplate": "hot_topics=país<br>newspaper=ExpresoPeru<br>week=44<br>word=%{x}<br>count=%{y}<extra></extra>",
         "legendgroup": "país",
         "marker": {
          "color": "#458588",
          "pattern": {
           "shape": ""
          }
         },
         "name": "país",
         "offsetgroup": "país",
         "orientation": "v",
         "showlegend": false,
         "textposition": "auto",
         "type": "bar",
         "x": [
          "perú"
         ],
         "xaxis": "x64",
         "y": [
          12
         ],
         "yaxis": "y64"
        },
        {
         "alignmentgroup": "True",
         "hovertemplate": "hot_topics=país<br>newspaper=ExpresoPeru<br>week=49<br>word=%{x}<br>count=%{y}<extra></extra>",
         "legendgroup": "país",
         "marker": {
          "color": "#458588",
          "pattern": {
           "shape": ""
          }
         },
         "name": "país",
         "offsetgroup": "país",
         "orientation": "v",
         "showlegend": false,
         "textposition": "auto",
         "type": "bar",
         "x": [
          "perú"
         ],
         "xaxis": "x65",
         "y": [
          18
         ],
         "yaxis": "y65"
        },
        {
         "alignmentgroup": "True",
         "hovertemplate": "hot_topics=país<br>newspaper=ExpresoPeru<br>week=2<br>word=%{x}<br>count=%{y}<extra></extra>",
         "legendgroup": "país",
         "marker": {
          "color": "#458588",
          "pattern": {
           "shape": ""
          }
         },
         "name": "país",
         "offsetgroup": "país",
         "orientation": "v",
         "showlegend": false,
         "textposition": "auto",
         "type": "bar",
         "x": [
          "perú",
          "país"
         ],
         "xaxis": "x66",
         "y": [
          17,
          7
         ],
         "yaxis": "y66"
        },
        {
         "alignmentgroup": "True",
         "hovertemplate": "hot_topics=país<br>newspaper=Gestionpe<br>week=33<br>word=%{x}<br>count=%{y}<extra></extra>",
         "legendgroup": "país",
         "marker": {
          "color": "#458588",
          "pattern": {
           "shape": ""
          }
         },
         "name": "país",
         "offsetgroup": "país",
         "orientation": "v",
         "showlegend": false,
         "textposition": "auto",
         "type": "bar",
         "x": [
          "perú"
         ],
         "xaxis": "x55",
         "y": [
          84
         ],
         "yaxis": "y55"
        },
        {
         "alignmentgroup": "True",
         "hovertemplate": "hot_topics=país<br>newspaper=Gestionpe<br>week=34<br>word=%{x}<br>count=%{y}<extra></extra>",
         "legendgroup": "país",
         "marker": {
          "color": "#458588",
          "pattern": {
           "shape": ""
          }
         },
         "name": "país",
         "offsetgroup": "país",
         "orientation": "v",
         "showlegend": false,
         "textposition": "auto",
         "type": "bar",
         "x": [
          "perú"
         ],
         "xaxis": "x56",
         "y": [
          45
         ],
         "yaxis": "y56"
        },
        {
         "alignmentgroup": "True",
         "hovertemplate": "hot_topics=país<br>newspaper=Gestionpe<br>week=39<br>word=%{x}<br>count=%{y}<extra></extra>",
         "legendgroup": "país",
         "marker": {
          "color": "#458588",
          "pattern": {
           "shape": ""
          }
         },
         "name": "país",
         "offsetgroup": "país",
         "orientation": "v",
         "showlegend": false,
         "textposition": "auto",
         "type": "bar",
         "x": [
          "perú",
          "país"
         ],
         "xaxis": "x57",
         "y": [
          65,
          18
         ],
         "yaxis": "y57"
        },
        {
         "alignmentgroup": "True",
         "hovertemplate": "hot_topics=país<br>newspaper=Gestionpe<br>week=44<br>word=%{x}<br>count=%{y}<extra></extra>",
         "legendgroup": "país",
         "marker": {
          "color": "#458588",
          "pattern": {
           "shape": ""
          }
         },
         "name": "país",
         "offsetgroup": "país",
         "orientation": "v",
         "showlegend": false,
         "textposition": "auto",
         "type": "bar",
         "x": [
          "perú"
         ],
         "xaxis": "x58",
         "y": [
          76
         ],
         "yaxis": "y58"
        },
        {
         "alignmentgroup": "True",
         "hovertemplate": "hot_topics=país<br>newspaper=Gestionpe<br>week=49<br>word=%{x}<br>count=%{y}<extra></extra>",
         "legendgroup": "país",
         "marker": {
          "color": "#458588",
          "pattern": {
           "shape": ""
          }
         },
         "name": "país",
         "offsetgroup": "país",
         "orientation": "v",
         "showlegend": false,
         "textposition": "auto",
         "type": "bar",
         "x": [
          "perú",
          "país"
         ],
         "xaxis": "x59",
         "y": [
          67,
          15
         ],
         "yaxis": "y59"
        },
        {
         "alignmentgroup": "True",
         "hovertemplate": "hot_topics=país<br>newspaper=Gestionpe<br>week=2<br>word=%{x}<br>count=%{y}<extra></extra>",
         "legendgroup": "país",
         "marker": {
          "color": "#458588",
          "pattern": {
           "shape": ""
          }
         },
         "name": "país",
         "offsetgroup": "país",
         "orientation": "v",
         "showlegend": false,
         "textposition": "auto",
         "type": "bar",
         "x": [
          "perú",
          "país"
         ],
         "xaxis": "x60",
         "y": [
          78,
          15
         ],
         "yaxis": "y60"
        },
        {
         "alignmentgroup": "True",
         "hovertemplate": "hot_topics=país<br>newspaper=diariocorreo<br>week=33<br>word=%{x}<br>count=%{y}<extra></extra>",
         "legendgroup": "país",
         "marker": {
          "color": "#458588",
          "pattern": {
           "shape": ""
          }
         },
         "name": "país",
         "offsetgroup": "país",
         "orientation": "v",
         "showlegend": false,
         "textposition": "auto",
         "type": "bar",
         "x": [
          "perú"
         ],
         "xaxis": "x49",
         "y": [
          31
         ],
         "yaxis": "y49"
        },
        {
         "alignmentgroup": "True",
         "hovertemplate": "hot_topics=país<br>newspaper=diariocorreo<br>week=34<br>word=%{x}<br>count=%{y}<extra></extra>",
         "legendgroup": "país",
         "marker": {
          "color": "#458588",
          "pattern": {
           "shape": ""
          }
         },
         "name": "país",
         "offsetgroup": "país",
         "orientation": "v",
         "showlegend": false,
         "textposition": "auto",
         "type": "bar",
         "x": [
          "perú"
         ],
         "xaxis": "x50",
         "y": [
          19
         ],
         "yaxis": "y50"
        },
        {
         "alignmentgroup": "True",
         "hovertemplate": "hot_topics=país<br>newspaper=diariocorreo<br>week=39<br>word=%{x}<br>count=%{y}<extra></extra>",
         "legendgroup": "país",
         "marker": {
          "color": "#458588",
          "pattern": {
           "shape": ""
          }
         },
         "name": "país",
         "offsetgroup": "país",
         "orientation": "v",
         "showlegend": false,
         "textposition": "auto",
         "type": "bar",
         "x": [
          "perú"
         ],
         "xaxis": "x51",
         "y": [
          29
         ],
         "yaxis": "y51"
        },
        {
         "alignmentgroup": "True",
         "hovertemplate": "hot_topics=país<br>newspaper=diariocorreo<br>week=44<br>word=%{x}<br>count=%{y}<extra></extra>",
         "legendgroup": "país",
         "marker": {
          "color": "#458588",
          "pattern": {
           "shape": ""
          }
         },
         "name": "país",
         "offsetgroup": "país",
         "orientation": "v",
         "showlegend": false,
         "textposition": "auto",
         "type": "bar",
         "x": [
          "perú"
         ],
         "xaxis": "x52",
         "y": [
          18
         ],
         "yaxis": "y52"
        },
        {
         "alignmentgroup": "True",
         "hovertemplate": "hot_topics=país<br>newspaper=diariocorreo<br>week=49<br>word=%{x}<br>count=%{y}<extra></extra>",
         "legendgroup": "país",
         "marker": {
          "color": "#458588",
          "pattern": {
           "shape": ""
          }
         },
         "name": "país",
         "offsetgroup": "país",
         "orientation": "v",
         "showlegend": false,
         "textposition": "auto",
         "type": "bar",
         "x": [
          "perú"
         ],
         "xaxis": "x53",
         "y": [
          25
         ],
         "yaxis": "y53"
        },
        {
         "alignmentgroup": "True",
         "hovertemplate": "hot_topics=país<br>newspaper=diariocorreo<br>week=2<br>word=%{x}<br>count=%{y}<extra></extra>",
         "legendgroup": "país",
         "marker": {
          "color": "#458588",
          "pattern": {
           "shape": ""
          }
         },
         "name": "país",
         "offsetgroup": "país",
         "orientation": "v",
         "showlegend": false,
         "textposition": "auto",
         "type": "bar",
         "x": [
          "perú"
         ],
         "xaxis": "x54",
         "y": [
          14
         ],
         "yaxis": "y54"
        },
        {
         "alignmentgroup": "True",
         "hovertemplate": "hot_topics=país<br>newspaper=diarioojo<br>week=33<br>word=%{x}<br>count=%{y}<extra></extra>",
         "legendgroup": "país",
         "marker": {
          "color": "#458588",
          "pattern": {
           "shape": ""
          }
         },
         "name": "país",
         "offsetgroup": "país",
         "orientation": "v",
         "showlegend": false,
         "textposition": "auto",
         "type": "bar",
         "x": [
          "perú"
         ],
         "xaxis": "x43",
         "y": [
          27
         ],
         "yaxis": "y43"
        },
        {
         "alignmentgroup": "True",
         "hovertemplate": "hot_topics=país<br>newspaper=diarioojo<br>week=34<br>word=%{x}<br>count=%{y}<extra></extra>",
         "legendgroup": "país",
         "marker": {
          "color": "#458588",
          "pattern": {
           "shape": ""
          }
         },
         "name": "país",
         "offsetgroup": "país",
         "orientation": "v",
         "showlegend": false,
         "textposition": "auto",
         "type": "bar",
         "x": [
          "perú"
         ],
         "xaxis": "x44",
         "y": [
          19
         ],
         "yaxis": "y44"
        },
        {
         "alignmentgroup": "True",
         "hovertemplate": "hot_topics=país<br>newspaper=diarioojo<br>week=39<br>word=%{x}<br>count=%{y}<extra></extra>",
         "legendgroup": "país",
         "marker": {
          "color": "#458588",
          "pattern": {
           "shape": ""
          }
         },
         "name": "país",
         "offsetgroup": "país",
         "orientation": "v",
         "showlegend": false,
         "textposition": "auto",
         "type": "bar",
         "x": [
          "perú"
         ],
         "xaxis": "x45",
         "y": [
          24
         ],
         "yaxis": "y45"
        },
        {
         "alignmentgroup": "True",
         "hovertemplate": "hot_topics=país<br>newspaper=diarioojo<br>week=44<br>word=%{x}<br>count=%{y}<extra></extra>",
         "legendgroup": "país",
         "marker": {
          "color": "#458588",
          "pattern": {
           "shape": ""
          }
         },
         "name": "país",
         "offsetgroup": "país",
         "orientation": "v",
         "showlegend": false,
         "textposition": "auto",
         "type": "bar",
         "x": [
          "perú"
         ],
         "xaxis": "x46",
         "y": [
          23
         ],
         "yaxis": "y46"
        },
        {
         "alignmentgroup": "True",
         "hovertemplate": "hot_topics=país<br>newspaper=diarioojo<br>week=49<br>word=%{x}<br>count=%{y}<extra></extra>",
         "legendgroup": "país",
         "marker": {
          "color": "#458588",
          "pattern": {
           "shape": ""
          }
         },
         "name": "país",
         "offsetgroup": "país",
         "orientation": "v",
         "showlegend": false,
         "textposition": "auto",
         "type": "bar",
         "x": [
          "perú"
         ],
         "xaxis": "x47",
         "y": [
          23
         ],
         "yaxis": "y47"
        },
        {
         "alignmentgroup": "True",
         "hovertemplate": "hot_topics=país<br>newspaper=diarioojo<br>week=2<br>word=%{x}<br>count=%{y}<extra></extra>",
         "legendgroup": "país",
         "marker": {
          "color": "#458588",
          "pattern": {
           "shape": ""
          }
         },
         "name": "país",
         "offsetgroup": "país",
         "orientation": "v",
         "showlegend": false,
         "textposition": "auto",
         "type": "bar",
         "x": [
          "perú"
         ],
         "xaxis": "x48",
         "y": [
          12
         ],
         "yaxis": "y48"
        },
        {
         "alignmentgroup": "True",
         "hovertemplate": "hot_topics=país<br>newspaper=elbuho_pe<br>week=34<br>word=%{x}<br>count=%{y}<extra></extra>",
         "legendgroup": "país",
         "marker": {
          "color": "#458588",
          "pattern": {
           "shape": ""
          }
         },
         "name": "país",
         "offsetgroup": "país",
         "orientation": "v",
         "showlegend": false,
         "textposition": "auto",
         "type": "bar",
         "x": [
          "perú"
         ],
         "xaxis": "x38",
         "y": [
          7
         ],
         "yaxis": "y38"
        },
        {
         "alignmentgroup": "True",
         "hovertemplate": "hot_topics=país<br>newspaper=elbuho_pe<br>week=39<br>word=%{x}<br>count=%{y}<extra></extra>",
         "legendgroup": "país",
         "marker": {
          "color": "#458588",
          "pattern": {
           "shape": ""
          }
         },
         "name": "país",
         "offsetgroup": "país",
         "orientation": "v",
         "showlegend": false,
         "textposition": "auto",
         "type": "bar",
         "x": [
          "perú"
         ],
         "xaxis": "x39",
         "y": [
          10
         ],
         "yaxis": "y39"
        },
        {
         "alignmentgroup": "True",
         "hovertemplate": "hot_topics=país<br>newspaper=elbuho_pe<br>week=44<br>word=%{x}<br>count=%{y}<extra></extra>",
         "legendgroup": "país",
         "marker": {
          "color": "#458588",
          "pattern": {
           "shape": ""
          }
         },
         "name": "país",
         "offsetgroup": "país",
         "orientation": "v",
         "showlegend": false,
         "textposition": "auto",
         "type": "bar",
         "x": [
          "perú"
         ],
         "xaxis": "x40",
         "y": [
          12
         ],
         "yaxis": "y40"
        },
        {
         "alignmentgroup": "True",
         "hovertemplate": "hot_topics=país<br>newspaper=elbuho_pe<br>week=49<br>word=%{x}<br>count=%{y}<extra></extra>",
         "legendgroup": "país",
         "marker": {
          "color": "#458588",
          "pattern": {
           "shape": ""
          }
         },
         "name": "país",
         "offsetgroup": "país",
         "orientation": "v",
         "showlegend": false,
         "textposition": "auto",
         "type": "bar",
         "x": [
          "perú"
         ],
         "xaxis": "x41",
         "y": [
          8
         ],
         "yaxis": "y41"
        },
        {
         "alignmentgroup": "True",
         "hovertemplate": "hot_topics=país<br>newspaper=elcomercio_peru<br>week=33<br>word=%{x}<br>count=%{y}<extra></extra>",
         "legendgroup": "país",
         "marker": {
          "color": "#458588",
          "pattern": {
           "shape": ""
          }
         },
         "name": "país",
         "offsetgroup": "país",
         "orientation": "v",
         "showlegend": false,
         "textposition": "auto",
         "type": "bar",
         "x": [
          "perú"
         ],
         "xaxis": "x31",
         "y": [
          39
         ],
         "yaxis": "y31"
        },
        {
         "alignmentgroup": "True",
         "hovertemplate": "hot_topics=país<br>newspaper=elcomercio_peru<br>week=34<br>word=%{x}<br>count=%{y}<extra></extra>",
         "legendgroup": "país",
         "marker": {
          "color": "#458588",
          "pattern": {
           "shape": ""
          }
         },
         "name": "país",
         "offsetgroup": "país",
         "orientation": "v",
         "showlegend": false,
         "textposition": "auto",
         "type": "bar",
         "x": [
          "perú",
          "país"
         ],
         "xaxis": "x32",
         "y": [
          32,
          9
         ],
         "yaxis": "y32"
        },
        {
         "alignmentgroup": "True",
         "hovertemplate": "hot_topics=país<br>newspaper=elcomercio_peru<br>week=39<br>word=%{x}<br>count=%{y}<extra></extra>",
         "legendgroup": "país",
         "marker": {
          "color": "#458588",
          "pattern": {
           "shape": ""
          }
         },
         "name": "país",
         "offsetgroup": "país",
         "orientation": "v",
         "showlegend": false,
         "textposition": "auto",
         "type": "bar",
         "x": [
          "perú"
         ],
         "xaxis": "x33",
         "y": [
          38
         ],
         "yaxis": "y33"
        },
        {
         "alignmentgroup": "True",
         "hovertemplate": "hot_topics=país<br>newspaper=elcomercio_peru<br>week=44<br>word=%{x}<br>count=%{y}<extra></extra>",
         "legendgroup": "país",
         "marker": {
          "color": "#458588",
          "pattern": {
           "shape": ""
          }
         },
         "name": "país",
         "offsetgroup": "país",
         "orientation": "v",
         "showlegend": false,
         "textposition": "auto",
         "type": "bar",
         "x": [
          "perú"
         ],
         "xaxis": "x34",
         "y": [
          25
         ],
         "yaxis": "y34"
        },
        {
         "alignmentgroup": "True",
         "hovertemplate": "hot_topics=país<br>newspaper=elcomercio_peru<br>week=49<br>word=%{x}<br>count=%{y}<extra></extra>",
         "legendgroup": "país",
         "marker": {
          "color": "#458588",
          "pattern": {
           "shape": ""
          }
         },
         "name": "país",
         "offsetgroup": "país",
         "orientation": "v",
         "showlegend": false,
         "textposition": "auto",
         "type": "bar",
         "x": [
          "perú"
         ],
         "xaxis": "x35",
         "y": [
          44
         ],
         "yaxis": "y35"
        },
        {
         "alignmentgroup": "True",
         "hovertemplate": "hot_topics=país<br>newspaper=elcomercio_peru<br>week=2<br>word=%{x}<br>count=%{y}<extra></extra>",
         "legendgroup": "país",
         "marker": {
          "color": "#458588",
          "pattern": {
           "shape": ""
          }
         },
         "name": "país",
         "offsetgroup": "país",
         "orientation": "v",
         "showlegend": false,
         "textposition": "auto",
         "type": "bar",
         "x": [
          "perú",
          "país"
         ],
         "xaxis": "x36",
         "y": [
          33,
          10
         ],
         "yaxis": "y36"
        },
        {
         "alignmentgroup": "True",
         "hovertemplate": "hot_topics=país<br>newspaper=ensustrece<br>week=2<br>word=%{x}<br>count=%{y}<extra></extra>",
         "legendgroup": "país",
         "marker": {
          "color": "#458588",
          "pattern": {
           "shape": ""
          }
         },
         "name": "país",
         "offsetgroup": "país",
         "orientation": "v",
         "showlegend": false,
         "textposition": "auto",
         "type": "bar",
         "x": [
          "perú"
         ],
         "xaxis": "x30",
         "y": [
          3
         ],
         "yaxis": "y30"
        },
        {
         "alignmentgroup": "True",
         "hovertemplate": "hot_topics=país<br>newspaper=larazon_pe<br>week=33<br>word=%{x}<br>count=%{y}<extra></extra>",
         "legendgroup": "país",
         "marker": {
          "color": "#458588",
          "pattern": {
           "shape": ""
          }
         },
         "name": "país",
         "offsetgroup": "país",
         "orientation": "v",
         "showlegend": false,
         "textposition": "auto",
         "type": "bar",
         "x": [
          "país"
         ],
         "xaxis": "x19",
         "y": [
          3
         ],
         "yaxis": "y19"
        },
        {
         "alignmentgroup": "True",
         "hovertemplate": "hot_topics=país<br>newspaper=larazon_pe<br>week=34<br>word=%{x}<br>count=%{y}<extra></extra>",
         "legendgroup": "país",
         "marker": {
          "color": "#458588",
          "pattern": {
           "shape": ""
          }
         },
         "name": "país",
         "offsetgroup": "país",
         "orientation": "v",
         "showlegend": false,
         "textposition": "auto",
         "type": "bar",
         "x": [
          "país"
         ],
         "xaxis": "x20",
         "y": [
          2
         ],
         "yaxis": "y20"
        },
        {
         "alignmentgroup": "True",
         "hovertemplate": "hot_topics=país<br>newspaper=larazon_pe<br>week=39<br>word=%{x}<br>count=%{y}<extra></extra>",
         "legendgroup": "país",
         "marker": {
          "color": "#458588",
          "pattern": {
           "shape": ""
          }
         },
         "name": "país",
         "offsetgroup": "país",
         "orientation": "v",
         "showlegend": false,
         "textposition": "auto",
         "type": "bar",
         "x": [
          "perú"
         ],
         "xaxis": "x21",
         "y": [
          4
         ],
         "yaxis": "y21"
        },
        {
         "alignmentgroup": "True",
         "hovertemplate": "hot_topics=país<br>newspaper=larazon_pe<br>week=44<br>word=%{x}<br>count=%{y}<extra></extra>",
         "legendgroup": "país",
         "marker": {
          "color": "#458588",
          "pattern": {
           "shape": ""
          }
         },
         "name": "país",
         "offsetgroup": "país",
         "orientation": "v",
         "showlegend": false,
         "textposition": "auto",
         "type": "bar",
         "x": [
          "perú",
          "país"
         ],
         "xaxis": "x22",
         "y": [
          4,
          3
         ],
         "yaxis": "y22"
        },
        {
         "alignmentgroup": "True",
         "hovertemplate": "hot_topics=país<br>newspaper=larazon_pe<br>week=49<br>word=%{x}<br>count=%{y}<extra></extra>",
         "legendgroup": "país",
         "marker": {
          "color": "#458588",
          "pattern": {
           "shape": ""
          }
         },
         "name": "país",
         "offsetgroup": "país",
         "orientation": "v",
         "showlegend": false,
         "textposition": "auto",
         "type": "bar",
         "x": [
          "perú"
         ],
         "xaxis": "x23",
         "y": [
          5
         ],
         "yaxis": "y23"
        },
        {
         "alignmentgroup": "True",
         "hovertemplate": "hot_topics=país<br>newspaper=larazon_pe<br>week=2<br>word=%{x}<br>count=%{y}<extra></extra>",
         "legendgroup": "país",
         "marker": {
          "color": "#458588",
          "pattern": {
           "shape": ""
          }
         },
         "name": "país",
         "offsetgroup": "país",
         "orientation": "v",
         "showlegend": false,
         "textposition": "auto",
         "type": "bar",
         "x": [
          "país",
          "perú"
         ],
         "xaxis": "x24",
         "y": [
          3,
          3
         ],
         "yaxis": "y24"
        },
        {
         "alignmentgroup": "True",
         "hovertemplate": "hot_topics=país<br>newspaper=larepublica_pe<br>week=33<br>word=%{x}<br>count=%{y}<extra></extra>",
         "legendgroup": "país",
         "marker": {
          "color": "#458588",
          "pattern": {
           "shape": ""
          }
         },
         "name": "país",
         "offsetgroup": "país",
         "orientation": "v",
         "showlegend": false,
         "textposition": "auto",
         "type": "bar",
         "x": [
          "perú"
         ],
         "xaxis": "x13",
         "y": [
          77
         ],
         "yaxis": "y13"
        },
        {
         "alignmentgroup": "True",
         "hovertemplate": "hot_topics=país<br>newspaper=larepublica_pe<br>week=34<br>word=%{x}<br>count=%{y}<extra></extra>",
         "legendgroup": "país",
         "marker": {
          "color": "#458588",
          "pattern": {
           "shape": ""
          }
         },
         "name": "país",
         "offsetgroup": "país",
         "orientation": "v",
         "showlegend": false,
         "textposition": "auto",
         "type": "bar",
         "x": [
          "perú",
          "país"
         ],
         "xaxis": "x14",
         "y": [
          69,
          23
         ],
         "yaxis": "y14"
        },
        {
         "alignmentgroup": "True",
         "hovertemplate": "hot_topics=país<br>newspaper=larepublica_pe<br>week=39<br>word=%{x}<br>count=%{y}<extra></extra>",
         "legendgroup": "país",
         "marker": {
          "color": "#458588",
          "pattern": {
           "shape": ""
          }
         },
         "name": "país",
         "offsetgroup": "país",
         "orientation": "v",
         "showlegend": false,
         "textposition": "auto",
         "type": "bar",
         "x": [
          "perú"
         ],
         "xaxis": "x15",
         "y": [
          90
         ],
         "yaxis": "y15"
        },
        {
         "alignmentgroup": "True",
         "hovertemplate": "hot_topics=país<br>newspaper=larepublica_pe<br>week=44<br>word=%{x}<br>count=%{y}<extra></extra>",
         "legendgroup": "país",
         "marker": {
          "color": "#458588",
          "pattern": {
           "shape": ""
          }
         },
         "name": "país",
         "offsetgroup": "país",
         "orientation": "v",
         "showlegend": false,
         "textposition": "auto",
         "type": "bar",
         "x": [
          "perú",
          "país"
         ],
         "xaxis": "x16",
         "y": [
          48,
          19
         ],
         "yaxis": "y16"
        },
        {
         "alignmentgroup": "True",
         "hovertemplate": "hot_topics=país<br>newspaper=larepublica_pe<br>week=49<br>word=%{x}<br>count=%{y}<extra></extra>",
         "legendgroup": "país",
         "marker": {
          "color": "#458588",
          "pattern": {
           "shape": ""
          }
         },
         "name": "país",
         "offsetgroup": "país",
         "orientation": "v",
         "showlegend": false,
         "textposition": "auto",
         "type": "bar",
         "x": [
          "perú",
          "país"
         ],
         "xaxis": "x17",
         "y": [
          86,
          31
         ],
         "yaxis": "y17"
        },
        {
         "alignmentgroup": "True",
         "hovertemplate": "hot_topics=país<br>newspaper=larepublica_pe<br>week=2<br>word=%{x}<br>count=%{y}<extra></extra>",
         "legendgroup": "país",
         "marker": {
          "color": "#458588",
          "pattern": {
           "shape": ""
          }
         },
         "name": "país",
         "offsetgroup": "país",
         "orientation": "v",
         "showlegend": false,
         "textposition": "auto",
         "type": "bar",
         "x": [
          "perú",
          "país"
         ],
         "xaxis": "x18",
         "y": [
          79,
          29
         ],
         "yaxis": "y18"
        },
        {
         "alignmentgroup": "True",
         "hovertemplate": "hot_topics=país<br>newspaper=peru21noticias<br>week=33<br>word=%{x}<br>count=%{y}<extra></extra>",
         "legendgroup": "país",
         "marker": {
          "color": "#458588",
          "pattern": {
           "shape": ""
          }
         },
         "name": "país",
         "offsetgroup": "país",
         "orientation": "v",
         "showlegend": false,
         "textposition": "auto",
         "type": "bar",
         "x": [
          "perú"
         ],
         "xaxis": "x7",
         "y": [
          62
         ],
         "yaxis": "y7"
        },
        {
         "alignmentgroup": "True",
         "hovertemplate": "hot_topics=país<br>newspaper=peru21noticias<br>week=34<br>word=%{x}<br>count=%{y}<extra></extra>",
         "legendgroup": "país",
         "marker": {
          "color": "#458588",
          "pattern": {
           "shape": ""
          }
         },
         "name": "país",
         "offsetgroup": "país",
         "orientation": "v",
         "showlegend": false,
         "textposition": "auto",
         "type": "bar",
         "x": [
          "perú"
         ],
         "xaxis": "x8",
         "y": [
          41
         ],
         "yaxis": "y8"
        },
        {
         "alignmentgroup": "True",
         "hovertemplate": "hot_topics=país<br>newspaper=peru21noticias<br>week=39<br>word=%{x}<br>count=%{y}<extra></extra>",
         "legendgroup": "país",
         "marker": {
          "color": "#458588",
          "pattern": {
           "shape": ""
          }
         },
         "name": "país",
         "offsetgroup": "país",
         "orientation": "v",
         "showlegend": false,
         "textposition": "auto",
         "type": "bar",
         "x": [
          "perú",
          "país"
         ],
         "xaxis": "x9",
         "y": [
          67,
          19
         ],
         "yaxis": "y9"
        },
        {
         "alignmentgroup": "True",
         "hovertemplate": "hot_topics=país<br>newspaper=peru21noticias<br>week=44<br>word=%{x}<br>count=%{y}<extra></extra>",
         "legendgroup": "país",
         "marker": {
          "color": "#458588",
          "pattern": {
           "shape": ""
          }
         },
         "name": "país",
         "offsetgroup": "país",
         "orientation": "v",
         "showlegend": false,
         "textposition": "auto",
         "type": "bar",
         "x": [
          "perú",
          "país"
         ],
         "xaxis": "x10",
         "y": [
          46,
          13
         ],
         "yaxis": "y10"
        },
        {
         "alignmentgroup": "True",
         "hovertemplate": "hot_topics=país<br>newspaper=peru21noticias<br>week=49<br>word=%{x}<br>count=%{y}<extra></extra>",
         "legendgroup": "país",
         "marker": {
          "color": "#458588",
          "pattern": {
           "shape": ""
          }
         },
         "name": "país",
         "offsetgroup": "país",
         "orientation": "v",
         "showlegend": false,
         "textposition": "auto",
         "type": "bar",
         "x": [
          "perú"
         ],
         "xaxis": "x11",
         "y": [
          63
         ],
         "yaxis": "y11"
        },
        {
         "alignmentgroup": "True",
         "hovertemplate": "hot_topics=país<br>newspaper=peru21noticias<br>week=2<br>word=%{x}<br>count=%{y}<extra></extra>",
         "legendgroup": "país",
         "marker": {
          "color": "#458588",
          "pattern": {
           "shape": ""
          }
         },
         "name": "país",
         "offsetgroup": "país",
         "orientation": "v",
         "showlegend": false,
         "textposition": "auto",
         "type": "bar",
         "x": [
          "perú",
          "país"
         ],
         "xaxis": "x12",
         "y": [
          27,
          24
         ],
         "yaxis": "y12"
        },
        {
         "alignmentgroup": "True",
         "hovertemplate": "hot_topics=país<br>newspaper=tromepe<br>week=33<br>word=%{x}<br>count=%{y}<extra></extra>",
         "legendgroup": "país",
         "marker": {
          "color": "#458588",
          "pattern": {
           "shape": ""
          }
         },
         "name": "país",
         "offsetgroup": "país",
         "orientation": "v",
         "showlegend": false,
         "textposition": "auto",
         "type": "bar",
         "x": [
          "perú"
         ],
         "xaxis": "x",
         "y": [
          33
         ],
         "yaxis": "y"
        },
        {
         "alignmentgroup": "True",
         "hovertemplate": "hot_topics=país<br>newspaper=tromepe<br>week=34<br>word=%{x}<br>count=%{y}<extra></extra>",
         "legendgroup": "país",
         "marker": {
          "color": "#458588",
          "pattern": {
           "shape": ""
          }
         },
         "name": "país",
         "offsetgroup": "país",
         "orientation": "v",
         "showlegend": false,
         "textposition": "auto",
         "type": "bar",
         "x": [
          "perú"
         ],
         "xaxis": "x2",
         "y": [
          31
         ],
         "yaxis": "y2"
        },
        {
         "alignmentgroup": "True",
         "hovertemplate": "hot_topics=país<br>newspaper=tromepe<br>week=39<br>word=%{x}<br>count=%{y}<extra></extra>",
         "legendgroup": "país",
         "marker": {
          "color": "#458588",
          "pattern": {
           "shape": ""
          }
         },
         "name": "país",
         "offsetgroup": "país",
         "orientation": "v",
         "showlegend": false,
         "textposition": "auto",
         "type": "bar",
         "x": [
          "perú"
         ],
         "xaxis": "x3",
         "y": [
          58
         ],
         "yaxis": "y3"
        },
        {
         "alignmentgroup": "True",
         "hovertemplate": "hot_topics=país<br>newspaper=tromepe<br>week=44<br>word=%{x}<br>count=%{y}<extra></extra>",
         "legendgroup": "país",
         "marker": {
          "color": "#458588",
          "pattern": {
           "shape": ""
          }
         },
         "name": "país",
         "offsetgroup": "país",
         "orientation": "v",
         "showlegend": false,
         "textposition": "auto",
         "type": "bar",
         "x": [
          "perú"
         ],
         "xaxis": "x4",
         "y": [
          23
         ],
         "yaxis": "y4"
        },
        {
         "alignmentgroup": "True",
         "hovertemplate": "hot_topics=país<br>newspaper=tromepe<br>week=49<br>word=%{x}<br>count=%{y}<extra></extra>",
         "legendgroup": "país",
         "marker": {
          "color": "#458588",
          "pattern": {
           "shape": ""
          }
         },
         "name": "país",
         "offsetgroup": "país",
         "orientation": "v",
         "showlegend": false,
         "textposition": "auto",
         "type": "bar",
         "x": [
          "perú"
         ],
         "xaxis": "x5",
         "y": [
          34
         ],
         "yaxis": "y5"
        },
        {
         "alignmentgroup": "True",
         "hovertemplate": "hot_topics=país<br>newspaper=tromepe<br>week=2<br>word=%{x}<br>count=%{y}<extra></extra>",
         "legendgroup": "país",
         "marker": {
          "color": "#458588",
          "pattern": {
           "shape": ""
          }
         },
         "name": "país",
         "offsetgroup": "país",
         "orientation": "v",
         "showlegend": false,
         "textposition": "auto",
         "type": "bar",
         "x": [
          "perú"
         ],
         "xaxis": "x6",
         "y": [
          21
         ],
         "yaxis": "y6"
        },
        {
         "alignmentgroup": "True",
         "hovertemplate": "hot_topics=castillo<br>newspaper=DiarioElPeruano<br>week=33<br>word=%{x}<br>count=%{y}<extra></extra>",
         "legendgroup": "castillo",
         "marker": {
          "color": "#fb4943",
          "pattern": {
           "shape": ""
          }
         },
         "name": "castillo",
         "offsetgroup": "castillo",
         "orientation": "v",
         "showlegend": true,
         "textposition": "auto",
         "type": "bar",
         "x": [
          "pedro",
          "castillo"
         ],
         "xaxis": "x67",
         "y": [
          22,
          22
         ],
         "yaxis": "y67"
        },
        {
         "alignmentgroup": "True",
         "hovertemplate": "hot_topics=castillo<br>newspaper=DiarioElPeruano<br>week=34<br>word=%{x}<br>count=%{y}<extra></extra>",
         "legendgroup": "castillo",
         "marker": {
          "color": "#fb4943",
          "pattern": {
           "shape": ""
          }
         },
         "name": "castillo",
         "offsetgroup": "castillo",
         "orientation": "v",
         "showlegend": false,
         "textposition": "auto",
         "type": "bar",
         "x": [
          "pedro",
          "castillo"
         ],
         "xaxis": "x68",
         "y": [
          19,
          17
         ],
         "yaxis": "y68"
        },
        {
         "alignmentgroup": "True",
         "hovertemplate": "hot_topics=castillo<br>newspaper=DiarioElPeruano<br>week=39<br>word=%{x}<br>count=%{y}<extra></extra>",
         "legendgroup": "castillo",
         "marker": {
          "color": "#fb4943",
          "pattern": {
           "shape": ""
          }
         },
         "name": "castillo",
         "offsetgroup": "castillo",
         "orientation": "v",
         "showlegend": false,
         "textposition": "auto",
         "type": "bar",
         "x": [
          "pedro",
          "castillo"
         ],
         "xaxis": "x69",
         "y": [
          9,
          9
         ],
         "yaxis": "y69"
        },
        {
         "alignmentgroup": "True",
         "hovertemplate": "hot_topics=castillo<br>newspaper=DiarioElPeruano<br>week=44<br>word=%{x}<br>count=%{y}<extra></extra>",
         "legendgroup": "castillo",
         "marker": {
          "color": "#fb4943",
          "pattern": {
           "shape": ""
          }
         },
         "name": "castillo",
         "offsetgroup": "castillo",
         "orientation": "v",
         "showlegend": false,
         "textposition": "auto",
         "type": "bar",
         "x": [
          "castillo",
          "pedro"
         ],
         "xaxis": "x70",
         "y": [
          8,
          8
         ],
         "yaxis": "y70"
        },
        {
         "alignmentgroup": "True",
         "hovertemplate": "hot_topics=castillo<br>newspaper=DiarioElPeruano<br>week=49<br>word=%{x}<br>count=%{y}<extra></extra>",
         "legendgroup": "castillo",
         "marker": {
          "color": "#fb4943",
          "pattern": {
           "shape": ""
          }
         },
         "name": "castillo",
         "offsetgroup": "castillo",
         "orientation": "v",
         "showlegend": false,
         "textposition": "auto",
         "type": "bar",
         "x": [
          "pedro",
          "castillo"
         ],
         "xaxis": "x71",
         "y": [
          20,
          18
         ],
         "yaxis": "y71"
        },
        {
         "alignmentgroup": "True",
         "hovertemplate": "hot_topics=castillo<br>newspaper=ExpresoPeru<br>week=33<br>word=%{x}<br>count=%{y}<extra></extra>",
         "legendgroup": "castillo",
         "marker": {
          "color": "#fb4943",
          "pattern": {
           "shape": ""
          }
         },
         "name": "castillo",
         "offsetgroup": "castillo",
         "orientation": "v",
         "showlegend": false,
         "textposition": "auto",
         "type": "bar",
         "x": [
          "castillo",
          "pedro"
         ],
         "xaxis": "x61",
         "y": [
          47,
          25
         ],
         "yaxis": "y61"
        },
        {
         "alignmentgroup": "True",
         "hovertemplate": "hot_topics=castillo<br>newspaper=ExpresoPeru<br>week=34<br>word=%{x}<br>count=%{y}<extra></extra>",
         "legendgroup": "castillo",
         "marker": {
          "color": "#fb4943",
          "pattern": {
           "shape": ""
          }
         },
         "name": "castillo",
         "offsetgroup": "castillo",
         "orientation": "v",
         "showlegend": false,
         "textposition": "auto",
         "type": "bar",
         "x": [
          "castillo",
          "pedro"
         ],
         "xaxis": "x62",
         "y": [
          32,
          21
         ],
         "yaxis": "y62"
        },
        {
         "alignmentgroup": "True",
         "hovertemplate": "hot_topics=castillo<br>newspaper=ExpresoPeru<br>week=39<br>word=%{x}<br>count=%{y}<extra></extra>",
         "legendgroup": "castillo",
         "marker": {
          "color": "#fb4943",
          "pattern": {
           "shape": ""
          }
         },
         "name": "castillo",
         "offsetgroup": "castillo",
         "orientation": "v",
         "showlegend": false,
         "textposition": "auto",
         "type": "bar",
         "x": [
          "castillo",
          "pedro"
         ],
         "xaxis": "x63",
         "y": [
          30,
          21
         ],
         "yaxis": "y63"
        },
        {
         "alignmentgroup": "True",
         "hovertemplate": "hot_topics=castillo<br>newspaper=ExpresoPeru<br>week=44<br>word=%{x}<br>count=%{y}<extra></extra>",
         "legendgroup": "castillo",
         "marker": {
          "color": "#fb4943",
          "pattern": {
           "shape": ""
          }
         },
         "name": "castillo",
         "offsetgroup": "castillo",
         "orientation": "v",
         "showlegend": false,
         "textposition": "auto",
         "type": "bar",
         "x": [
          "castillo",
          "pedro"
         ],
         "xaxis": "x64",
         "y": [
          23,
          14
         ],
         "yaxis": "y64"
        },
        {
         "alignmentgroup": "True",
         "hovertemplate": "hot_topics=castillo<br>newspaper=ExpresoPeru<br>week=49<br>word=%{x}<br>count=%{y}<extra></extra>",
         "legendgroup": "castillo",
         "marker": {
          "color": "#fb4943",
          "pattern": {
           "shape": ""
          }
         },
         "name": "castillo",
         "offsetgroup": "castillo",
         "orientation": "v",
         "showlegend": false,
         "textposition": "auto",
         "type": "bar",
         "x": [
          "castillo",
          "pedro"
         ],
         "xaxis": "x65",
         "y": [
          67,
          37
         ],
         "yaxis": "y65"
        },
        {
         "alignmentgroup": "True",
         "hovertemplate": "hot_topics=castillo<br>newspaper=ExpresoPeru<br>week=2<br>word=%{x}<br>count=%{y}<extra></extra>",
         "legendgroup": "castillo",
         "marker": {
          "color": "#fb4943",
          "pattern": {
           "shape": ""
          }
         },
         "name": "castillo",
         "offsetgroup": "castillo",
         "orientation": "v",
         "showlegend": false,
         "textposition": "auto",
         "type": "bar",
         "x": [
          "castillo",
          "pedro"
         ],
         "xaxis": "x66",
         "y": [
          8,
          7
         ],
         "yaxis": "y66"
        },
        {
         "alignmentgroup": "True",
         "hovertemplate": "hot_topics=castillo<br>newspaper=Gestionpe<br>week=33<br>word=%{x}<br>count=%{y}<extra></extra>",
         "legendgroup": "castillo",
         "marker": {
          "color": "#fb4943",
          "pattern": {
           "shape": ""
          }
         },
         "name": "castillo",
         "offsetgroup": "castillo",
         "orientation": "v",
         "showlegend": false,
         "textposition": "auto",
         "type": "bar",
         "x": [
          "castillo"
         ],
         "xaxis": "x55",
         "y": [
          24
         ],
         "yaxis": "y55"
        },
        {
         "alignmentgroup": "True",
         "hovertemplate": "hot_topics=castillo<br>newspaper=Gestionpe<br>week=34<br>word=%{x}<br>count=%{y}<extra></extra>",
         "legendgroup": "castillo",
         "marker": {
          "color": "#fb4943",
          "pattern": {
           "shape": ""
          }
         },
         "name": "castillo",
         "offsetgroup": "castillo",
         "orientation": "v",
         "showlegend": false,
         "textposition": "auto",
         "type": "bar",
         "x": [
          "castillo"
         ],
         "xaxis": "x56",
         "y": [
          14
         ],
         "yaxis": "y56"
        },
        {
         "alignmentgroup": "True",
         "hovertemplate": "hot_topics=castillo<br>newspaper=Gestionpe<br>week=39<br>word=%{x}<br>count=%{y}<extra></extra>",
         "legendgroup": "castillo",
         "marker": {
          "color": "#fb4943",
          "pattern": {
           "shape": ""
          }
         },
         "name": "castillo",
         "offsetgroup": "castillo",
         "orientation": "v",
         "showlegend": false,
         "textposition": "auto",
         "type": "bar",
         "x": [
          "castillo"
         ],
         "xaxis": "x57",
         "y": [
          23
         ],
         "yaxis": "y57"
        },
        {
         "alignmentgroup": "True",
         "hovertemplate": "hot_topics=castillo<br>newspaper=Gestionpe<br>week=44<br>word=%{x}<br>count=%{y}<extra></extra>",
         "legendgroup": "castillo",
         "marker": {
          "color": "#fb4943",
          "pattern": {
           "shape": ""
          }
         },
         "name": "castillo",
         "offsetgroup": "castillo",
         "orientation": "v",
         "showlegend": false,
         "textposition": "auto",
         "type": "bar",
         "x": [
          "castillo"
         ],
         "xaxis": "x58",
         "y": [
          20
         ],
         "yaxis": "y58"
        },
        {
         "alignmentgroup": "True",
         "hovertemplate": "hot_topics=castillo<br>newspaper=Gestionpe<br>week=49<br>word=%{x}<br>count=%{y}<extra></extra>",
         "legendgroup": "castillo",
         "marker": {
          "color": "#fb4943",
          "pattern": {
           "shape": ""
          }
         },
         "name": "castillo",
         "offsetgroup": "castillo",
         "orientation": "v",
         "showlegend": false,
         "textposition": "auto",
         "type": "bar",
         "x": [
          "castillo",
          "pedro"
         ],
         "xaxis": "x59",
         "y": [
          93,
          75
         ],
         "yaxis": "y59"
        },
        {
         "alignmentgroup": "True",
         "hovertemplate": "hot_topics=castillo<br>newspaper=diariocorreo<br>week=33<br>word=%{x}<br>count=%{y}<extra></extra>",
         "legendgroup": "castillo",
         "marker": {
          "color": "#fb4943",
          "pattern": {
           "shape": ""
          }
         },
         "name": "castillo",
         "offsetgroup": "castillo",
         "orientation": "v",
         "showlegend": false,
         "textposition": "auto",
         "type": "bar",
         "x": [
          "castillo",
          "pedro"
         ],
         "xaxis": "x49",
         "y": [
          55,
          48
         ],
         "yaxis": "y49"
        },
        {
         "alignmentgroup": "True",
         "hovertemplate": "hot_topics=castillo<br>newspaper=diariocorreo<br>week=34<br>word=%{x}<br>count=%{y}<extra></extra>",
         "legendgroup": "castillo",
         "marker": {
          "color": "#fb4943",
          "pattern": {
           "shape": ""
          }
         },
         "name": "castillo",
         "offsetgroup": "castillo",
         "orientation": "v",
         "showlegend": false,
         "textposition": "auto",
         "type": "bar",
         "x": [
          "castillo",
          "pedro"
         ],
         "xaxis": "x50",
         "y": [
          31,
          28
         ],
         "yaxis": "y50"
        },
        {
         "alignmentgroup": "True",
         "hovertemplate": "hot_topics=castillo<br>newspaper=diariocorreo<br>week=39<br>word=%{x}<br>count=%{y}<extra></extra>",
         "legendgroup": "castillo",
         "marker": {
          "color": "#fb4943",
          "pattern": {
           "shape": ""
          }
         },
         "name": "castillo",
         "offsetgroup": "castillo",
         "orientation": "v",
         "showlegend": false,
         "textposition": "auto",
         "type": "bar",
         "x": [
          "castillo",
          "pedro"
         ],
         "xaxis": "x51",
         "y": [
          35,
          29
         ],
         "yaxis": "y51"
        },
        {
         "alignmentgroup": "True",
         "hovertemplate": "hot_topics=castillo<br>newspaper=diariocorreo<br>week=44<br>word=%{x}<br>count=%{y}<extra></extra>",
         "legendgroup": "castillo",
         "marker": {
          "color": "#fb4943",
          "pattern": {
           "shape": ""
          }
         },
         "name": "castillo",
         "offsetgroup": "castillo",
         "orientation": "v",
         "showlegend": false,
         "textposition": "auto",
         "type": "bar",
         "x": [
          "castillo",
          "pedro"
         ],
         "xaxis": "x52",
         "y": [
          30,
          21
         ],
         "yaxis": "y52"
        },
        {
         "alignmentgroup": "True",
         "hovertemplate": "hot_topics=castillo<br>newspaper=diariocorreo<br>week=49<br>word=%{x}<br>count=%{y}<extra></extra>",
         "legendgroup": "castillo",
         "marker": {
          "color": "#fb4943",
          "pattern": {
           "shape": ""
          }
         },
         "name": "castillo",
         "offsetgroup": "castillo",
         "orientation": "v",
         "showlegend": false,
         "textposition": "auto",
         "type": "bar",
         "x": [
          "castillo",
          "pedro"
         ],
         "xaxis": "x53",
         "y": [
          74,
          68
         ],
         "yaxis": "y53"
        },
        {
         "alignmentgroup": "True",
         "hovertemplate": "hot_topics=castillo<br>newspaper=diarioojo<br>week=33<br>word=%{x}<br>count=%{y}<extra></extra>",
         "legendgroup": "castillo",
         "marker": {
          "color": "#fb4943",
          "pattern": {
           "shape": ""
          }
         },
         "name": "castillo",
         "offsetgroup": "castillo",
         "orientation": "v",
         "showlegend": false,
         "textposition": "auto",
         "type": "bar",
         "x": [
          "castillo",
          "pedro"
         ],
         "xaxis": "x43",
         "y": [
          30,
          28
         ],
         "yaxis": "y43"
        },
        {
         "alignmentgroup": "True",
         "hovertemplate": "hot_topics=castillo<br>newspaper=diarioojo<br>week=34<br>word=%{x}<br>count=%{y}<extra></extra>",
         "legendgroup": "castillo",
         "marker": {
          "color": "#fb4943",
          "pattern": {
           "shape": ""
          }
         },
         "name": "castillo",
         "offsetgroup": "castillo",
         "orientation": "v",
         "showlegend": false,
         "textposition": "auto",
         "type": "bar",
         "x": [
          "pedro",
          "castillo"
         ],
         "xaxis": "x44",
         "y": [
          23,
          21
         ],
         "yaxis": "y44"
        },
        {
         "alignmentgroup": "True",
         "hovertemplate": "hot_topics=castillo<br>newspaper=diarioojo<br>week=39<br>word=%{x}<br>count=%{y}<extra></extra>",
         "legendgroup": "castillo",
         "marker": {
          "color": "#fb4943",
          "pattern": {
           "shape": ""
          }
         },
         "name": "castillo",
         "offsetgroup": "castillo",
         "orientation": "v",
         "showlegend": false,
         "textposition": "auto",
         "type": "bar",
         "x": [
          "castillo"
         ],
         "xaxis": "x45",
         "y": [
          15
         ],
         "yaxis": "y45"
        },
        {
         "alignmentgroup": "True",
         "hovertemplate": "hot_topics=castillo<br>newspaper=diarioojo<br>week=44<br>word=%{x}<br>count=%{y}<extra></extra>",
         "legendgroup": "castillo",
         "marker": {
          "color": "#fb4943",
          "pattern": {
           "shape": ""
          }
         },
         "name": "castillo",
         "offsetgroup": "castillo",
         "orientation": "v",
         "showlegend": false,
         "textposition": "auto",
         "type": "bar",
         "x": [
          "pedro"
         ],
         "xaxis": "x46",
         "y": [
          12
         ],
         "yaxis": "y46"
        },
        {
         "alignmentgroup": "True",
         "hovertemplate": "hot_topics=castillo<br>newspaper=diarioojo<br>week=49<br>word=%{x}<br>count=%{y}<extra></extra>",
         "legendgroup": "castillo",
         "marker": {
          "color": "#fb4943",
          "pattern": {
           "shape": ""
          }
         },
         "name": "castillo",
         "offsetgroup": "castillo",
         "orientation": "v",
         "showlegend": false,
         "textposition": "auto",
         "type": "bar",
         "x": [
          "castillo",
          "pedro"
         ],
         "xaxis": "x47",
         "y": [
          75,
          55
         ],
         "yaxis": "y47"
        },
        {
         "alignmentgroup": "True",
         "hovertemplate": "hot_topics=castillo<br>newspaper=elbuho_pe<br>week=34<br>word=%{x}<br>count=%{y}<extra></extra>",
         "legendgroup": "castillo",
         "marker": {
          "color": "#fb4943",
          "pattern": {
           "shape": ""
          }
         },
         "name": "castillo",
         "offsetgroup": "castillo",
         "orientation": "v",
         "showlegend": false,
         "textposition": "auto",
         "type": "bar",
         "x": [
          "castillo",
          "pedro"
         ],
         "xaxis": "x38",
         "y": [
          6,
          4
         ],
         "yaxis": "y38"
        },
        {
         "alignmentgroup": "True",
         "hovertemplate": "hot_topics=castillo<br>newspaper=elbuho_pe<br>week=39<br>word=%{x}<br>count=%{y}<extra></extra>",
         "legendgroup": "castillo",
         "marker": {
          "color": "#fb4943",
          "pattern": {
           "shape": ""
          }
         },
         "name": "castillo",
         "offsetgroup": "castillo",
         "orientation": "v",
         "showlegend": false,
         "textposition": "auto",
         "type": "bar",
         "x": [
          "castillo"
         ],
         "xaxis": "x39",
         "y": [
          5
         ],
         "yaxis": "y39"
        },
        {
         "alignmentgroup": "True",
         "hovertemplate": "hot_topics=castillo<br>newspaper=elbuho_pe<br>week=44<br>word=%{x}<br>count=%{y}<extra></extra>",
         "legendgroup": "castillo",
         "marker": {
          "color": "#fb4943",
          "pattern": {
           "shape": ""
          }
         },
         "name": "castillo",
         "offsetgroup": "castillo",
         "orientation": "v",
         "showlegend": false,
         "textposition": "auto",
         "type": "bar",
         "x": [
          "castillo",
          "pedro"
         ],
         "xaxis": "x40",
         "y": [
          6,
          4
         ],
         "yaxis": "y40"
        },
        {
         "alignmentgroup": "True",
         "hovertemplate": "hot_topics=castillo<br>newspaper=elbuho_pe<br>week=49<br>word=%{x}<br>count=%{y}<extra></extra>",
         "legendgroup": "castillo",
         "marker": {
          "color": "#fb4943",
          "pattern": {
           "shape": ""
          }
         },
         "name": "castillo",
         "offsetgroup": "castillo",
         "orientation": "v",
         "showlegend": false,
         "textposition": "auto",
         "type": "bar",
         "x": [
          "castillo",
          "pedro"
         ],
         "xaxis": "x41",
         "y": [
          29,
          21
         ],
         "yaxis": "y41"
        },
        {
         "alignmentgroup": "True",
         "hovertemplate": "hot_topics=castillo<br>newspaper=elcomercio_peru<br>week=49<br>word=%{x}<br>count=%{y}<extra></extra>",
         "legendgroup": "castillo",
         "marker": {
          "color": "#fb4943",
          "pattern": {
           "shape": ""
          }
         },
         "name": "castillo",
         "offsetgroup": "castillo",
         "orientation": "v",
         "showlegend": false,
         "textposition": "auto",
         "type": "bar",
         "x": [
          "castillo",
          "pedro"
         ],
         "xaxis": "x35",
         "y": [
          52,
          41
         ],
         "yaxis": "y35"
        },
        {
         "alignmentgroup": "True",
         "hovertemplate": "hot_topics=castillo<br>newspaper=ensustrece<br>week=34<br>word=%{x}<br>count=%{y}<extra></extra>",
         "legendgroup": "castillo",
         "marker": {
          "color": "#fb4943",
          "pattern": {
           "shape": ""
          }
         },
         "name": "castillo",
         "offsetgroup": "castillo",
         "orientation": "v",
         "showlegend": false,
         "textposition": "auto",
         "type": "bar",
         "x": [
          "castillo"
         ],
         "xaxis": "x26",
         "y": [
          4
         ],
         "yaxis": "y26"
        },
        {
         "alignmentgroup": "True",
         "hovertemplate": "hot_topics=castillo<br>newspaper=ensustrece<br>week=44<br>word=%{x}<br>count=%{y}<extra></extra>",
         "legendgroup": "castillo",
         "marker": {
          "color": "#fb4943",
          "pattern": {
           "shape": ""
          }
         },
         "name": "castillo",
         "offsetgroup": "castillo",
         "orientation": "v",
         "showlegend": false,
         "textposition": "auto",
         "type": "bar",
         "x": [
          "castillo"
         ],
         "xaxis": "x28",
         "y": [
          4
         ],
         "yaxis": "y28"
        },
        {
         "alignmentgroup": "True",
         "hovertemplate": "hot_topics=castillo<br>newspaper=ensustrece<br>week=49<br>word=%{x}<br>count=%{y}<extra></extra>",
         "legendgroup": "castillo",
         "marker": {
          "color": "#fb4943",
          "pattern": {
           "shape": ""
          }
         },
         "name": "castillo",
         "offsetgroup": "castillo",
         "orientation": "v",
         "showlegend": false,
         "textposition": "auto",
         "type": "bar",
         "x": [
          "castillo",
          "pedro"
         ],
         "xaxis": "x29",
         "y": [
          8,
          4
         ],
         "yaxis": "y29"
        },
        {
         "alignmentgroup": "True",
         "hovertemplate": "hot_topics=castillo<br>newspaper=larazon_pe<br>week=33<br>word=%{x}<br>count=%{y}<extra></extra>",
         "legendgroup": "castillo",
         "marker": {
          "color": "#fb4943",
          "pattern": {
           "shape": ""
          }
         },
         "name": "castillo",
         "offsetgroup": "castillo",
         "orientation": "v",
         "showlegend": false,
         "textposition": "auto",
         "type": "bar",
         "x": [
          "castillo"
         ],
         "xaxis": "x19",
         "y": [
          3
         ],
         "yaxis": "y19"
        },
        {
         "alignmentgroup": "True",
         "hovertemplate": "hot_topics=castillo<br>newspaper=larazon_pe<br>week=34<br>word=%{x}<br>count=%{y}<extra></extra>",
         "legendgroup": "castillo",
         "marker": {
          "color": "#fb4943",
          "pattern": {
           "shape": ""
          }
         },
         "name": "castillo",
         "offsetgroup": "castillo",
         "orientation": "v",
         "showlegend": false,
         "textposition": "auto",
         "type": "bar",
         "x": [
          "castillo"
         ],
         "xaxis": "x20",
         "y": [
          2
         ],
         "yaxis": "y20"
        },
        {
         "alignmentgroup": "True",
         "hovertemplate": "hot_topics=castillo<br>newspaper=larazon_pe<br>week=44<br>word=%{x}<br>count=%{y}<extra></extra>",
         "legendgroup": "castillo",
         "marker": {
          "color": "#fb4943",
          "pattern": {
           "shape": ""
          }
         },
         "name": "castillo",
         "offsetgroup": "castillo",
         "orientation": "v",
         "showlegend": false,
         "textposition": "auto",
         "type": "bar",
         "x": [
          "castillo",
          "pedro"
         ],
         "xaxis": "x22",
         "y": [
          2,
          2
         ],
         "yaxis": "y22"
        },
        {
         "alignmentgroup": "True",
         "hovertemplate": "hot_topics=castillo<br>newspaper=larazon_pe<br>week=49<br>word=%{x}<br>count=%{y}<extra></extra>",
         "legendgroup": "castillo",
         "marker": {
          "color": "#fb4943",
          "pattern": {
           "shape": ""
          }
         },
         "name": "castillo",
         "offsetgroup": "castillo",
         "orientation": "v",
         "showlegend": false,
         "textposition": "auto",
         "type": "bar",
         "x": [
          "castillo",
          "pedro"
         ],
         "xaxis": "x23",
         "y": [
          13,
          11
         ],
         "yaxis": "y23"
        },
        {
         "alignmentgroup": "True",
         "hovertemplate": "hot_topics=castillo<br>newspaper=larepublica_pe<br>week=33<br>word=%{x}<br>count=%{y}<extra></extra>",
         "legendgroup": "castillo",
         "marker": {
          "color": "#fb4943",
          "pattern": {
           "shape": ""
          }
         },
         "name": "castillo",
         "offsetgroup": "castillo",
         "orientation": "v",
         "showlegend": false,
         "textposition": "auto",
         "type": "bar",
         "x": [
          "castillo",
          "pedro"
         ],
         "xaxis": "x13",
         "y": [
          67,
          53
         ],
         "yaxis": "y13"
        },
        {
         "alignmentgroup": "True",
         "hovertemplate": "hot_topics=castillo<br>newspaper=larepublica_pe<br>week=34<br>word=%{x}<br>count=%{y}<extra></extra>",
         "legendgroup": "castillo",
         "marker": {
          "color": "#fb4943",
          "pattern": {
           "shape": ""
          }
         },
         "name": "castillo",
         "offsetgroup": "castillo",
         "orientation": "v",
         "showlegend": false,
         "textposition": "auto",
         "type": "bar",
         "x": [
          "castillo",
          "pedro"
         ],
         "xaxis": "x14",
         "y": [
          52,
          35
         ],
         "yaxis": "y14"
        },
        {
         "alignmentgroup": "True",
         "hovertemplate": "hot_topics=castillo<br>newspaper=larepublica_pe<br>week=39<br>word=%{x}<br>count=%{y}<extra></extra>",
         "legendgroup": "castillo",
         "marker": {
          "color": "#fb4943",
          "pattern": {
           "shape": ""
          }
         },
         "name": "castillo",
         "offsetgroup": "castillo",
         "orientation": "v",
         "showlegend": false,
         "textposition": "auto",
         "type": "bar",
         "x": [
          "castillo",
          "pedro"
         ],
         "xaxis": "x15",
         "y": [
          41,
          23
         ],
         "yaxis": "y15"
        },
        {
         "alignmentgroup": "True",
         "hovertemplate": "hot_topics=castillo<br>newspaper=larepublica_pe<br>week=44<br>word=%{x}<br>count=%{y}<extra></extra>",
         "legendgroup": "castillo",
         "marker": {
          "color": "#fb4943",
          "pattern": {
           "shape": ""
          }
         },
         "name": "castillo",
         "offsetgroup": "castillo",
         "orientation": "v",
         "showlegend": false,
         "textposition": "auto",
         "type": "bar",
         "x": [
          "castillo",
          "pedro"
         ],
         "xaxis": "x16",
         "y": [
          44,
          24
         ],
         "yaxis": "y16"
        },
        {
         "alignmentgroup": "True",
         "hovertemplate": "hot_topics=castillo<br>newspaper=larepublica_pe<br>week=49<br>word=%{x}<br>count=%{y}<extra></extra>",
         "legendgroup": "castillo",
         "marker": {
          "color": "#fb4943",
          "pattern": {
           "shape": ""
          }
         },
         "name": "castillo",
         "offsetgroup": "castillo",
         "orientation": "v",
         "showlegend": false,
         "textposition": "auto",
         "type": "bar",
         "x": [
          "castillo",
          "pedro"
         ],
         "xaxis": "x17",
         "y": [
          218,
          180
         ],
         "yaxis": "y17"
        },
        {
         "alignmentgroup": "True",
         "hovertemplate": "hot_topics=castillo<br>newspaper=peru21noticias<br>week=33<br>word=%{x}<br>count=%{y}<extra></extra>",
         "legendgroup": "castillo",
         "marker": {
          "color": "#fb4943",
          "pattern": {
           "shape": ""
          }
         },
         "name": "castillo",
         "offsetgroup": "castillo",
         "orientation": "v",
         "showlegend": false,
         "textposition": "auto",
         "type": "bar",
         "x": [
          "castillo",
          "pedro"
         ],
         "xaxis": "x7",
         "y": [
          103,
          85
         ],
         "yaxis": "y7"
        },
        {
         "alignmentgroup": "True",
         "hovertemplate": "hot_topics=castillo<br>newspaper=peru21noticias<br>week=34<br>word=%{x}<br>count=%{y}<extra></extra>",
         "legendgroup": "castillo",
         "marker": {
          "color": "#fb4943",
          "pattern": {
           "shape": ""
          }
         },
         "name": "castillo",
         "offsetgroup": "castillo",
         "orientation": "v",
         "showlegend": false,
         "textposition": "auto",
         "type": "bar",
         "x": [
          "castillo",
          "pedro"
         ],
         "xaxis": "x8",
         "y": [
          80,
          66
         ],
         "yaxis": "y8"
        },
        {
         "alignmentgroup": "True",
         "hovertemplate": "hot_topics=castillo<br>newspaper=peru21noticias<br>week=39<br>word=%{x}<br>count=%{y}<extra></extra>",
         "legendgroup": "castillo",
         "marker": {
          "color": "#fb4943",
          "pattern": {
           "shape": ""
          }
         },
         "name": "castillo",
         "offsetgroup": "castillo",
         "orientation": "v",
         "showlegend": false,
         "textposition": "auto",
         "type": "bar",
         "x": [
          "castillo",
          "pedro"
         ],
         "xaxis": "x9",
         "y": [
          43,
          24
         ],
         "yaxis": "y9"
        },
        {
         "alignmentgroup": "True",
         "hovertemplate": "hot_topics=castillo<br>newspaper=peru21noticias<br>week=44<br>word=%{x}<br>count=%{y}<extra></extra>",
         "legendgroup": "castillo",
         "marker": {
          "color": "#fb4943",
          "pattern": {
           "shape": ""
          }
         },
         "name": "castillo",
         "offsetgroup": "castillo",
         "orientation": "v",
         "showlegend": false,
         "textposition": "auto",
         "type": "bar",
         "x": [
          "castillo",
          "pedro"
         ],
         "xaxis": "x10",
         "y": [
          44,
          37
         ],
         "yaxis": "y10"
        },
        {
         "alignmentgroup": "True",
         "hovertemplate": "hot_topics=castillo<br>newspaper=peru21noticias<br>week=49<br>word=%{x}<br>count=%{y}<extra></extra>",
         "legendgroup": "castillo",
         "marker": {
          "color": "#fb4943",
          "pattern": {
           "shape": ""
          }
         },
         "name": "castillo",
         "offsetgroup": "castillo",
         "orientation": "v",
         "showlegend": false,
         "textposition": "auto",
         "type": "bar",
         "x": [
          "castillo",
          "pedro"
         ],
         "xaxis": "x11",
         "y": [
          176,
          148
         ],
         "yaxis": "y11"
        },
        {
         "alignmentgroup": "True",
         "hovertemplate": "hot_topics=castillo<br>newspaper=peru21noticias<br>week=2<br>word=%{x}<br>count=%{y}<extra></extra>",
         "legendgroup": "castillo",
         "marker": {
          "color": "#fb4943",
          "pattern": {
           "shape": ""
          }
         },
         "name": "castillo",
         "offsetgroup": "castillo",
         "orientation": "v",
         "showlegend": false,
         "textposition": "auto",
         "type": "bar",
         "x": [
          "pedro"
         ],
         "xaxis": "x12",
         "y": [
          14
         ],
         "yaxis": "y12"
        },
        {
         "alignmentgroup": "True",
         "hovertemplate": "hot_topics=castillo<br>newspaper=tromepe<br>week=33<br>word=%{x}<br>count=%{y}<extra></extra>",
         "legendgroup": "castillo",
         "marker": {
          "color": "#fb4943",
          "pattern": {
           "shape": ""
          }
         },
         "name": "castillo",
         "offsetgroup": "castillo",
         "orientation": "v",
         "showlegend": false,
         "textposition": "auto",
         "type": "bar",
         "x": [
          "pedro",
          "castillo"
         ],
         "xaxis": "x",
         "y": [
          27,
          24
         ],
         "yaxis": "y"
        },
        {
         "alignmentgroup": "True",
         "hovertemplate": "hot_topics=castillo<br>newspaper=tromepe<br>week=34<br>word=%{x}<br>count=%{y}<extra></extra>",
         "legendgroup": "castillo",
         "marker": {
          "color": "#fb4943",
          "pattern": {
           "shape": ""
          }
         },
         "name": "castillo",
         "offsetgroup": "castillo",
         "orientation": "v",
         "showlegend": false,
         "textposition": "auto",
         "type": "bar",
         "x": [
          "pedro",
          "castillo"
         ],
         "xaxis": "x2",
         "y": [
          22,
          17
         ],
         "yaxis": "y2"
        },
        {
         "alignmentgroup": "True",
         "hovertemplate": "hot_topics=castillo<br>newspaper=tromepe<br>week=39<br>word=%{x}<br>count=%{y}<extra></extra>",
         "legendgroup": "castillo",
         "marker": {
          "color": "#fb4943",
          "pattern": {
           "shape": ""
          }
         },
         "name": "castillo",
         "offsetgroup": "castillo",
         "orientation": "v",
         "showlegend": false,
         "textposition": "auto",
         "type": "bar",
         "x": [
          "castillo"
         ],
         "xaxis": "x3",
         "y": [
          29
         ],
         "yaxis": "y3"
        },
        {
         "alignmentgroup": "True",
         "hovertemplate": "hot_topics=castillo<br>newspaper=tromepe<br>week=44<br>word=%{x}<br>count=%{y}<extra></extra>",
         "legendgroup": "castillo",
         "marker": {
          "color": "#fb4943",
          "pattern": {
           "shape": ""
          }
         },
         "name": "castillo",
         "offsetgroup": "castillo",
         "orientation": "v",
         "showlegend": false,
         "textposition": "auto",
         "type": "bar",
         "x": [
          "castillo",
          "pedro"
         ],
         "xaxis": "x4",
         "y": [
          20,
          19
         ],
         "yaxis": "y4"
        },
        {
         "alignmentgroup": "True",
         "hovertemplate": "hot_topics=castillo<br>newspaper=tromepe<br>week=49<br>word=%{x}<br>count=%{y}<extra></extra>",
         "legendgroup": "castillo",
         "marker": {
          "color": "#fb4943",
          "pattern": {
           "shape": ""
          }
         },
         "name": "castillo",
         "offsetgroup": "castillo",
         "orientation": "v",
         "showlegend": false,
         "textposition": "auto",
         "type": "bar",
         "x": [
          "castillo",
          "pedro"
         ],
         "xaxis": "x5",
         "y": [
          147,
          126
         ],
         "yaxis": "y5"
        },
        {
         "alignmentgroup": "True",
         "hovertemplate": "hot_topics=congreso<br>newspaper=DiarioElPeruano<br>week=33<br>word=%{x}<br>count=%{y}<extra></extra>",
         "legendgroup": "congreso",
         "marker": {
          "color": "#076678",
          "pattern": {
           "shape": ""
          }
         },
         "name": "congreso",
         "offsetgroup": "congreso",
         "orientation": "v",
         "showlegend": true,
         "textposition": "auto",
         "type": "bar",
         "x": [
          "congreso"
         ],
         "xaxis": "x67",
         "y": [
          11
         ],
         "yaxis": "y67"
        },
        {
         "alignmentgroup": "True",
         "hovertemplate": "hot_topics=congreso<br>newspaper=DiarioElPeruano<br>week=44<br>word=%{x}<br>count=%{y}<extra></extra>",
         "legendgroup": "congreso",
         "marker": {
          "color": "#076678",
          "pattern": {
           "shape": ""
          }
         },
         "name": "congreso",
         "offsetgroup": "congreso",
         "orientation": "v",
         "showlegend": false,
         "textposition": "auto",
         "type": "bar",
         "x": [
          "congreso"
         ],
         "xaxis": "x70",
         "y": [
          8
         ],
         "yaxis": "y70"
        },
        {
         "alignmentgroup": "True",
         "hovertemplate": "hot_topics=congreso<br>newspaper=DiarioElPeruano<br>week=49<br>word=%{x}<br>count=%{y}<extra></extra>",
         "legendgroup": "congreso",
         "marker": {
          "color": "#076678",
          "pattern": {
           "shape": ""
          }
         },
         "name": "congreso",
         "offsetgroup": "congreso",
         "orientation": "v",
         "showlegend": false,
         "textposition": "auto",
         "type": "bar",
         "x": [
          "congreso"
         ],
         "xaxis": "x71",
         "y": [
          13
         ],
         "yaxis": "y71"
        },
        {
         "alignmentgroup": "True",
         "hovertemplate": "hot_topics=congreso<br>newspaper=DiarioElPeruano<br>week=2<br>word=%{x}<br>count=%{y}<extra></extra>",
         "legendgroup": "congreso",
         "marker": {
          "color": "#076678",
          "pattern": {
           "shape": ""
          }
         },
         "name": "congreso",
         "offsetgroup": "congreso",
         "orientation": "v",
         "showlegend": false,
         "textposition": "auto",
         "type": "bar",
         "x": [
          "congreso"
         ],
         "xaxis": "x72",
         "y": [
          21
         ],
         "yaxis": "y72"
        },
        {
         "alignmentgroup": "True",
         "hovertemplate": "hot_topics=congreso<br>newspaper=ExpresoPeru<br>week=33<br>word=%{x}<br>count=%{y}<extra></extra>",
         "legendgroup": "congreso",
         "marker": {
          "color": "#076678",
          "pattern": {
           "shape": ""
          }
         },
         "name": "congreso",
         "offsetgroup": "congreso",
         "orientation": "v",
         "showlegend": false,
         "textposition": "auto",
         "type": "bar",
         "x": [
          "congreso"
         ],
         "xaxis": "x61",
         "y": [
          18
         ],
         "yaxis": "y61"
        },
        {
         "alignmentgroup": "True",
         "hovertemplate": "hot_topics=congreso<br>newspaper=ExpresoPeru<br>week=44<br>word=%{x}<br>count=%{y}<extra></extra>",
         "legendgroup": "congreso",
         "marker": {
          "color": "#076678",
          "pattern": {
           "shape": ""
          }
         },
         "name": "congreso",
         "offsetgroup": "congreso",
         "orientation": "v",
         "showlegend": false,
         "textposition": "auto",
         "type": "bar",
         "x": [
          "congreso"
         ],
         "xaxis": "x64",
         "y": [
          6
         ],
         "yaxis": "y64"
        },
        {
         "alignmentgroup": "True",
         "hovertemplate": "hot_topics=congreso<br>newspaper=ExpresoPeru<br>week=49<br>word=%{x}<br>count=%{y}<extra></extra>",
         "legendgroup": "congreso",
         "marker": {
          "color": "#076678",
          "pattern": {
           "shape": ""
          }
         },
         "name": "congreso",
         "offsetgroup": "congreso",
         "orientation": "v",
         "showlegend": false,
         "textposition": "auto",
         "type": "bar",
         "x": [
          "congreso"
         ],
         "xaxis": "x65",
         "y": [
          19
         ],
         "yaxis": "y65"
        },
        {
         "alignmentgroup": "True",
         "hovertemplate": "hot_topics=congreso<br>newspaper=ExpresoPeru<br>week=2<br>word=%{x}<br>count=%{y}<extra></extra>",
         "legendgroup": "congreso",
         "marker": {
          "color": "#076678",
          "pattern": {
           "shape": ""
          }
         },
         "name": "congreso",
         "offsetgroup": "congreso",
         "orientation": "v",
         "showlegend": false,
         "textposition": "auto",
         "type": "bar",
         "x": [
          "congreso"
         ],
         "xaxis": "x66",
         "y": [
          8
         ],
         "yaxis": "y66"
        },
        {
         "alignmentgroup": "True",
         "hovertemplate": "hot_topics=congreso<br>newspaper=Gestionpe<br>week=33<br>word=%{x}<br>count=%{y}<extra></extra>",
         "legendgroup": "congreso",
         "marker": {
          "color": "#076678",
          "pattern": {
           "shape": ""
          }
         },
         "name": "congreso",
         "offsetgroup": "congreso",
         "orientation": "v",
         "showlegend": false,
         "textposition": "auto",
         "type": "bar",
         "x": [
          "congreso"
         ],
         "xaxis": "x55",
         "y": [
          27
         ],
         "yaxis": "y55"
        },
        {
         "alignmentgroup": "True",
         "hovertemplate": "hot_topics=congreso<br>newspaper=Gestionpe<br>week=49<br>word=%{x}<br>count=%{y}<extra></extra>",
         "legendgroup": "congreso",
         "marker": {
          "color": "#076678",
          "pattern": {
           "shape": ""
          }
         },
         "name": "congreso",
         "offsetgroup": "congreso",
         "orientation": "v",
         "showlegend": false,
         "textposition": "auto",
         "type": "bar",
         "x": [
          "congreso"
         ],
         "xaxis": "x59",
         "y": [
          28
         ],
         "yaxis": "y59"
        },
        {
         "alignmentgroup": "True",
         "hovertemplate": "hot_topics=congreso<br>newspaper=Gestionpe<br>week=2<br>word=%{x}<br>count=%{y}<extra></extra>",
         "legendgroup": "congreso",
         "marker": {
          "color": "#076678",
          "pattern": {
           "shape": ""
          }
         },
         "name": "congreso",
         "offsetgroup": "congreso",
         "orientation": "v",
         "showlegend": false,
         "textposition": "auto",
         "type": "bar",
         "x": [
          "congreso"
         ],
         "xaxis": "x60",
         "y": [
          15
         ],
         "yaxis": "y60"
        },
        {
         "alignmentgroup": "True",
         "hovertemplate": "hot_topics=congreso<br>newspaper=diariocorreo<br>week=33<br>word=%{x}<br>count=%{y}<extra></extra>",
         "legendgroup": "congreso",
         "marker": {
          "color": "#076678",
          "pattern": {
           "shape": ""
          }
         },
         "name": "congreso",
         "offsetgroup": "congreso",
         "orientation": "v",
         "showlegend": false,
         "textposition": "auto",
         "type": "bar",
         "x": [
          "congreso"
         ],
         "xaxis": "x49",
         "y": [
          33
         ],
         "yaxis": "y49"
        },
        {
         "alignmentgroup": "True",
         "hovertemplate": "hot_topics=congreso<br>newspaper=diariocorreo<br>week=34<br>word=%{x}<br>count=%{y}<extra></extra>",
         "legendgroup": "congreso",
         "marker": {
          "color": "#076678",
          "pattern": {
           "shape": ""
          }
         },
         "name": "congreso",
         "offsetgroup": "congreso",
         "orientation": "v",
         "showlegend": false,
         "textposition": "auto",
         "type": "bar",
         "x": [
          "congreso"
         ],
         "xaxis": "x50",
         "y": [
          10
         ],
         "yaxis": "y50"
        },
        {
         "alignmentgroup": "True",
         "hovertemplate": "hot_topics=congreso<br>newspaper=diariocorreo<br>week=39<br>word=%{x}<br>count=%{y}<extra></extra>",
         "legendgroup": "congreso",
         "marker": {
          "color": "#076678",
          "pattern": {
           "shape": ""
          }
         },
         "name": "congreso",
         "offsetgroup": "congreso",
         "orientation": "v",
         "showlegend": false,
         "textposition": "auto",
         "type": "bar",
         "x": [
          "congreso"
         ],
         "xaxis": "x51",
         "y": [
          13
         ],
         "yaxis": "y51"
        },
        {
         "alignmentgroup": "True",
         "hovertemplate": "hot_topics=congreso<br>newspaper=diariocorreo<br>week=44<br>word=%{x}<br>count=%{y}<extra></extra>",
         "legendgroup": "congreso",
         "marker": {
          "color": "#076678",
          "pattern": {
           "shape": ""
          }
         },
         "name": "congreso",
         "offsetgroup": "congreso",
         "orientation": "v",
         "showlegend": false,
         "textposition": "auto",
         "type": "bar",
         "x": [
          "congreso"
         ],
         "xaxis": "x52",
         "y": [
          9
         ],
         "yaxis": "y52"
        },
        {
         "alignmentgroup": "True",
         "hovertemplate": "hot_topics=congreso<br>newspaper=diariocorreo<br>week=49<br>word=%{x}<br>count=%{y}<extra></extra>",
         "legendgroup": "congreso",
         "marker": {
          "color": "#076678",
          "pattern": {
           "shape": ""
          }
         },
         "name": "congreso",
         "offsetgroup": "congreso",
         "orientation": "v",
         "showlegend": false,
         "textposition": "auto",
         "type": "bar",
         "x": [
          "congreso"
         ],
         "xaxis": "x53",
         "y": [
          20
         ],
         "yaxis": "y53"
        },
        {
         "alignmentgroup": "True",
         "hovertemplate": "hot_topics=congreso<br>newspaper=diariocorreo<br>week=2<br>word=%{x}<br>count=%{y}<extra></extra>",
         "legendgroup": "congreso",
         "marker": {
          "color": "#076678",
          "pattern": {
           "shape": ""
          }
         },
         "name": "congreso",
         "offsetgroup": "congreso",
         "orientation": "v",
         "showlegend": false,
         "textposition": "auto",
         "type": "bar",
         "x": [
          "congreso"
         ],
         "xaxis": "x54",
         "y": [
          11
         ],
         "yaxis": "y54"
        },
        {
         "alignmentgroup": "True",
         "hovertemplate": "hot_topics=congreso<br>newspaper=diarioojo<br>week=49<br>word=%{x}<br>count=%{y}<extra></extra>",
         "legendgroup": "congreso",
         "marker": {
          "color": "#076678",
          "pattern": {
           "shape": ""
          }
         },
         "name": "congreso",
         "offsetgroup": "congreso",
         "orientation": "v",
         "showlegend": false,
         "textposition": "auto",
         "type": "bar",
         "x": [
          "congreso"
         ],
         "xaxis": "x47",
         "y": [
          19
         ],
         "yaxis": "y47"
        },
        {
         "alignmentgroup": "True",
         "hovertemplate": "hot_topics=congreso<br>newspaper=elbuho_pe<br>week=49<br>word=%{x}<br>count=%{y}<extra></extra>",
         "legendgroup": "congreso",
         "marker": {
          "color": "#076678",
          "pattern": {
           "shape": ""
          }
         },
         "name": "congreso",
         "offsetgroup": "congreso",
         "orientation": "v",
         "showlegend": false,
         "textposition": "auto",
         "type": "bar",
         "x": [
          "congreso"
         ],
         "xaxis": "x41",
         "y": [
          22
         ],
         "yaxis": "y41"
        },
        {
         "alignmentgroup": "True",
         "hovertemplate": "hot_topics=congreso<br>newspaper=elcomercio_peru<br>week=49<br>word=%{x}<br>count=%{y}<extra></extra>",
         "legendgroup": "congreso",
         "marker": {
          "color": "#076678",
          "pattern": {
           "shape": ""
          }
         },
         "name": "congreso",
         "offsetgroup": "congreso",
         "orientation": "v",
         "showlegend": false,
         "textposition": "auto",
         "type": "bar",
         "x": [
          "congreso"
         ],
         "xaxis": "x35",
         "y": [
          20
         ],
         "yaxis": "y35"
        },
        {
         "alignmentgroup": "True",
         "hovertemplate": "hot_topics=congreso<br>newspaper=ensustrece<br>week=34<br>word=%{x}<br>count=%{y}<extra></extra>",
         "legendgroup": "congreso",
         "marker": {
          "color": "#076678",
          "pattern": {
           "shape": ""
          }
         },
         "name": "congreso",
         "offsetgroup": "congreso",
         "orientation": "v",
         "showlegend": false,
         "textposition": "auto",
         "type": "bar",
         "x": [
          "congreso"
         ],
         "xaxis": "x26",
         "y": [
          3
         ],
         "yaxis": "y26"
        },
        {
         "alignmentgroup": "True",
         "hovertemplate": "hot_topics=congreso<br>newspaper=ensustrece<br>week=49<br>word=%{x}<br>count=%{y}<extra></extra>",
         "legendgroup": "congreso",
         "marker": {
          "color": "#076678",
          "pattern": {
           "shape": ""
          }
         },
         "name": "congreso",
         "offsetgroup": "congreso",
         "orientation": "v",
         "showlegend": false,
         "textposition": "auto",
         "type": "bar",
         "x": [
          "congreso"
         ],
         "xaxis": "x29",
         "y": [
          2
         ],
         "yaxis": "y29"
        },
        {
         "alignmentgroup": "True",
         "hovertemplate": "hot_topics=congreso<br>newspaper=larazon_pe<br>week=33<br>word=%{x}<br>count=%{y}<extra></extra>",
         "legendgroup": "congreso",
         "marker": {
          "color": "#076678",
          "pattern": {
           "shape": ""
          }
         },
         "name": "congreso",
         "offsetgroup": "congreso",
         "orientation": "v",
         "showlegend": false,
         "textposition": "auto",
         "type": "bar",
         "x": [
          "congreso"
         ],
         "xaxis": "x19",
         "y": [
          2
         ],
         "yaxis": "y19"
        },
        {
         "alignmentgroup": "True",
         "hovertemplate": "hot_topics=congreso<br>newspaper=larazon_pe<br>week=39<br>word=%{x}<br>count=%{y}<extra></extra>",
         "legendgroup": "congreso",
         "marker": {
          "color": "#076678",
          "pattern": {
           "shape": ""
          }
         },
         "name": "congreso",
         "offsetgroup": "congreso",
         "orientation": "v",
         "showlegend": false,
         "textposition": "auto",
         "type": "bar",
         "x": [
          "congreso"
         ],
         "xaxis": "x21",
         "y": [
          2
         ],
         "yaxis": "y21"
        },
        {
         "alignmentgroup": "True",
         "hovertemplate": "hot_topics=congreso<br>newspaper=larepublica_pe<br>week=33<br>word=%{x}<br>count=%{y}<extra></extra>",
         "legendgroup": "congreso",
         "marker": {
          "color": "#076678",
          "pattern": {
           "shape": ""
          }
         },
         "name": "congreso",
         "offsetgroup": "congreso",
         "orientation": "v",
         "showlegend": false,
         "textposition": "auto",
         "type": "bar",
         "x": [
          "congreso"
         ],
         "xaxis": "x13",
         "y": [
          58
         ],
         "yaxis": "y13"
        },
        {
         "alignmentgroup": "True",
         "hovertemplate": "hot_topics=congreso<br>newspaper=larepublica_pe<br>week=34<br>word=%{x}<br>count=%{y}<extra></extra>",
         "legendgroup": "congreso",
         "marker": {
          "color": "#076678",
          "pattern": {
           "shape": ""
          }
         },
         "name": "congreso",
         "offsetgroup": "congreso",
         "orientation": "v",
         "showlegend": false,
         "textposition": "auto",
         "type": "bar",
         "x": [
          "congreso"
         ],
         "xaxis": "x14",
         "y": [
          27
         ],
         "yaxis": "y14"
        },
        {
         "alignmentgroup": "True",
         "hovertemplate": "hot_topics=congreso<br>newspaper=larepublica_pe<br>week=44<br>word=%{x}<br>count=%{y}<extra></extra>",
         "legendgroup": "congreso",
         "marker": {
          "color": "#076678",
          "pattern": {
           "shape": ""
          }
         },
         "name": "congreso",
         "offsetgroup": "congreso",
         "orientation": "v",
         "showlegend": false,
         "textposition": "auto",
         "type": "bar",
         "x": [
          "congreso"
         ],
         "xaxis": "x16",
         "y": [
          31
         ],
         "yaxis": "y16"
        },
        {
         "alignmentgroup": "True",
         "hovertemplate": "hot_topics=congreso<br>newspaper=larepublica_pe<br>week=49<br>word=%{x}<br>count=%{y}<extra></extra>",
         "legendgroup": "congreso",
         "marker": {
          "color": "#076678",
          "pattern": {
           "shape": ""
          }
         },
         "name": "congreso",
         "offsetgroup": "congreso",
         "orientation": "v",
         "showlegend": false,
         "textposition": "auto",
         "type": "bar",
         "x": [
          "congreso"
         ],
         "xaxis": "x17",
         "y": [
          86
         ],
         "yaxis": "y17"
        },
        {
         "alignmentgroup": "True",
         "hovertemplate": "hot_topics=congreso<br>newspaper=larepublica_pe<br>week=2<br>word=%{x}<br>count=%{y}<extra></extra>",
         "legendgroup": "congreso",
         "marker": {
          "color": "#076678",
          "pattern": {
           "shape": ""
          }
         },
         "name": "congreso",
         "offsetgroup": "congreso",
         "orientation": "v",
         "showlegend": false,
         "textposition": "auto",
         "type": "bar",
         "x": [
          "congreso"
         ],
         "xaxis": "x18",
         "y": [
          58
         ],
         "yaxis": "y18"
        },
        {
         "alignmentgroup": "True",
         "hovertemplate": "hot_topics=congreso<br>newspaper=peru21noticias<br>week=33<br>word=%{x}<br>count=%{y}<extra></extra>",
         "legendgroup": "congreso",
         "marker": {
          "color": "#076678",
          "pattern": {
           "shape": ""
          }
         },
         "name": "congreso",
         "offsetgroup": "congreso",
         "orientation": "v",
         "showlegend": false,
         "textposition": "auto",
         "type": "bar",
         "x": [
          "congreso"
         ],
         "xaxis": "x7",
         "y": [
          47
         ],
         "yaxis": "y7"
        },
        {
         "alignmentgroup": "True",
         "hovertemplate": "hot_topics=congreso<br>newspaper=peru21noticias<br>week=44<br>word=%{x}<br>count=%{y}<extra></extra>",
         "legendgroup": "congreso",
         "marker": {
          "color": "#076678",
          "pattern": {
           "shape": ""
          }
         },
         "name": "congreso",
         "offsetgroup": "congreso",
         "orientation": "v",
         "showlegend": false,
         "textposition": "auto",
         "type": "bar",
         "x": [
          "congreso"
         ],
         "xaxis": "x10",
         "y": [
          11
         ],
         "yaxis": "y10"
        },
        {
         "alignmentgroup": "True",
         "hovertemplate": "hot_topics=congreso<br>newspaper=peru21noticias<br>week=49<br>word=%{x}<br>count=%{y}<extra></extra>",
         "legendgroup": "congreso",
         "marker": {
          "color": "#076678",
          "pattern": {
           "shape": ""
          }
         },
         "name": "congreso",
         "offsetgroup": "congreso",
         "orientation": "v",
         "showlegend": false,
         "textposition": "auto",
         "type": "bar",
         "x": [
          "congreso"
         ],
         "xaxis": "x11",
         "y": [
          62
         ],
         "yaxis": "y11"
        },
        {
         "alignmentgroup": "True",
         "hovertemplate": "hot_topics=congreso<br>newspaper=peru21noticias<br>week=2<br>word=%{x}<br>count=%{y}<extra></extra>",
         "legendgroup": "congreso",
         "marker": {
          "color": "#076678",
          "pattern": {
           "shape": ""
          }
         },
         "name": "congreso",
         "offsetgroup": "congreso",
         "orientation": "v",
         "showlegend": false,
         "textposition": "auto",
         "type": "bar",
         "x": [
          "congreso"
         ],
         "xaxis": "x12",
         "y": [
          25
         ],
         "yaxis": "y12"
        },
        {
         "alignmentgroup": "True",
         "hovertemplate": "hot_topics=congreso<br>newspaper=tromepe<br>week=49<br>word=%{x}<br>count=%{y}<extra></extra>",
         "legendgroup": "congreso",
         "marker": {
          "color": "#076678",
          "pattern": {
           "shape": ""
          }
         },
         "name": "congreso",
         "offsetgroup": "congreso",
         "orientation": "v",
         "showlegend": false,
         "textposition": "auto",
         "type": "bar",
         "x": [
          "congreso"
         ],
         "xaxis": "x5",
         "y": [
          42
         ],
         "yaxis": "y5"
        },
        {
         "alignmentgroup": "True",
         "hovertemplate": "hot_topics=boluarte<br>newspaper=DiarioElPeruano<br>week=49<br>word=%{x}<br>count=%{y}<extra></extra>",
         "legendgroup": "boluarte",
         "marker": {
          "color": "#b57614",
          "pattern": {
           "shape": ""
          }
         },
         "name": "boluarte",
         "offsetgroup": "boluarte",
         "orientation": "v",
         "showlegend": true,
         "textposition": "auto",
         "type": "bar",
         "x": [
          "boluarte",
          "dina"
         ],
         "xaxis": "x71",
         "y": [
          27,
          27
         ],
         "yaxis": "y71"
        },
        {
         "alignmentgroup": "True",
         "hovertemplate": "hot_topics=boluarte<br>newspaper=DiarioElPeruano<br>week=2<br>word=%{x}<br>count=%{y}<extra></extra>",
         "legendgroup": "boluarte",
         "marker": {
          "color": "#b57614",
          "pattern": {
           "shape": ""
          }
         },
         "name": "boluarte",
         "offsetgroup": "boluarte",
         "orientation": "v",
         "showlegend": false,
         "textposition": "auto",
         "type": "bar",
         "x": [
          "boluarte",
          "dina"
         ],
         "xaxis": "x72",
         "y": [
          11,
          11
         ],
         "yaxis": "y72"
        },
        {
         "alignmentgroup": "True",
         "hovertemplate": "hot_topics=boluarte<br>newspaper=ExpresoPeru<br>week=49<br>word=%{x}<br>count=%{y}<extra></extra>",
         "legendgroup": "boluarte",
         "marker": {
          "color": "#b57614",
          "pattern": {
           "shape": ""
          }
         },
         "name": "boluarte",
         "offsetgroup": "boluarte",
         "orientation": "v",
         "showlegend": false,
         "textposition": "auto",
         "type": "bar",
         "x": [
          "boluarte",
          "dina"
         ],
         "xaxis": "x65",
         "y": [
          23,
          20
         ],
         "yaxis": "y65"
        },
        {
         "alignmentgroup": "True",
         "hovertemplate": "hot_topics=boluarte<br>newspaper=ExpresoPeru<br>week=2<br>word=%{x}<br>count=%{y}<extra></extra>",
         "legendgroup": "boluarte",
         "marker": {
          "color": "#b57614",
          "pattern": {
           "shape": ""
          }
         },
         "name": "boluarte",
         "offsetgroup": "boluarte",
         "orientation": "v",
         "showlegend": false,
         "textposition": "auto",
         "type": "bar",
         "x": [
          "boluarte",
          "dina"
         ],
         "xaxis": "x66",
         "y": [
          18,
          13
         ],
         "yaxis": "y66"
        },
        {
         "alignmentgroup": "True",
         "hovertemplate": "hot_topics=boluarte<br>newspaper=Gestionpe<br>week=49<br>word=%{x}<br>count=%{y}<extra></extra>",
         "legendgroup": "boluarte",
         "marker": {
          "color": "#b57614",
          "pattern": {
           "shape": ""
          }
         },
         "name": "boluarte",
         "offsetgroup": "boluarte",
         "orientation": "v",
         "showlegend": false,
         "textposition": "auto",
         "type": "bar",
         "x": [
          "boluarte",
          "dina"
         ],
         "xaxis": "x59",
         "y": [
          50,
          41
         ],
         "yaxis": "y59"
        },
        {
         "alignmentgroup": "True",
         "hovertemplate": "hot_topics=boluarte<br>newspaper=Gestionpe<br>week=2<br>word=%{x}<br>count=%{y}<extra></extra>",
         "legendgroup": "boluarte",
         "marker": {
          "color": "#b57614",
          "pattern": {
           "shape": ""
          }
         },
         "name": "boluarte",
         "offsetgroup": "boluarte",
         "orientation": "v",
         "showlegend": false,
         "textposition": "auto",
         "type": "bar",
         "x": [
          "boluarte"
         ],
         "xaxis": "x60",
         "y": [
          16
         ],
         "yaxis": "y60"
        },
        {
         "alignmentgroup": "True",
         "hovertemplate": "hot_topics=boluarte<br>newspaper=diariocorreo<br>week=49<br>word=%{x}<br>count=%{y}<extra></extra>",
         "legendgroup": "boluarte",
         "marker": {
          "color": "#b57614",
          "pattern": {
           "shape": ""
          }
         },
         "name": "boluarte",
         "offsetgroup": "boluarte",
         "orientation": "v",
         "showlegend": false,
         "textposition": "auto",
         "type": "bar",
         "x": [
          "boluarte",
          "dina"
         ],
         "xaxis": "x53",
         "y": [
          34,
          33
         ],
         "yaxis": "y53"
        },
        {
         "alignmentgroup": "True",
         "hovertemplate": "hot_topics=boluarte<br>newspaper=diariocorreo<br>week=2<br>word=%{x}<br>count=%{y}<extra></extra>",
         "legendgroup": "boluarte",
         "marker": {
          "color": "#b57614",
          "pattern": {
           "shape": ""
          }
         },
         "name": "boluarte",
         "offsetgroup": "boluarte",
         "orientation": "v",
         "showlegend": false,
         "textposition": "auto",
         "type": "bar",
         "x": [
          "dina",
          "boluarte"
         ],
         "xaxis": "x54",
         "y": [
          13,
          13
         ],
         "yaxis": "y54"
        },
        {
         "alignmentgroup": "True",
         "hovertemplate": "hot_topics=boluarte<br>newspaper=diarioojo<br>week=49<br>word=%{x}<br>count=%{y}<extra></extra>",
         "legendgroup": "boluarte",
         "marker": {
          "color": "#b57614",
          "pattern": {
           "shape": ""
          }
         },
         "name": "boluarte",
         "offsetgroup": "boluarte",
         "orientation": "v",
         "showlegend": false,
         "textposition": "auto",
         "type": "bar",
         "x": [
          "dina",
          "boluarte"
         ],
         "xaxis": "x47",
         "y": [
          23,
          22
         ],
         "yaxis": "y47"
        },
        {
         "alignmentgroup": "True",
         "hovertemplate": "hot_topics=boluarte<br>newspaper=elbuho_pe<br>week=49<br>word=%{x}<br>count=%{y}<extra></extra>",
         "legendgroup": "boluarte",
         "marker": {
          "color": "#b57614",
          "pattern": {
           "shape": ""
          }
         },
         "name": "boluarte",
         "offsetgroup": "boluarte",
         "orientation": "v",
         "showlegend": false,
         "textposition": "auto",
         "type": "bar",
         "x": [
          "dina",
          "boluarte"
         ],
         "xaxis": "x41",
         "y": [
          9,
          9
         ],
         "yaxis": "y41"
        },
        {
         "alignmentgroup": "True",
         "hovertemplate": "hot_topics=boluarte<br>newspaper=elbuho_pe<br>week=2<br>word=%{x}<br>count=%{y}<extra></extra>",
         "legendgroup": "boluarte",
         "marker": {
          "color": "#b57614",
          "pattern": {
           "shape": ""
          }
         },
         "name": "boluarte",
         "offsetgroup": "boluarte",
         "orientation": "v",
         "showlegend": false,
         "textposition": "auto",
         "type": "bar",
         "x": [
          "boluarte",
          "dina"
         ],
         "xaxis": "x42",
         "y": [
          18,
          17
         ],
         "yaxis": "y42"
        },
        {
         "alignmentgroup": "True",
         "hovertemplate": "hot_topics=boluarte<br>newspaper=elcomercio_peru<br>week=49<br>word=%{x}<br>count=%{y}<extra></extra>",
         "legendgroup": "boluarte",
         "marker": {
          "color": "#b57614",
          "pattern": {
           "shape": ""
          }
         },
         "name": "boluarte",
         "offsetgroup": "boluarte",
         "orientation": "v",
         "showlegend": false,
         "textposition": "auto",
         "type": "bar",
         "x": [
          "boluarte",
          "dina"
         ],
         "xaxis": "x35",
         "y": [
          24,
          17
         ],
         "yaxis": "y35"
        },
        {
         "alignmentgroup": "True",
         "hovertemplate": "hot_topics=boluarte<br>newspaper=ensustrece<br>week=2<br>word=%{x}<br>count=%{y}<extra></extra>",
         "legendgroup": "boluarte",
         "marker": {
          "color": "#b57614",
          "pattern": {
           "shape": ""
          }
         },
         "name": "boluarte",
         "offsetgroup": "boluarte",
         "orientation": "v",
         "showlegend": false,
         "textposition": "auto",
         "type": "bar",
         "x": [
          "boluarte",
          "dina"
         ],
         "xaxis": "x30",
         "y": [
          4,
          4
         ],
         "yaxis": "y30"
        },
        {
         "alignmentgroup": "True",
         "hovertemplate": "hot_topics=boluarte<br>newspaper=larazon_pe<br>week=49<br>word=%{x}<br>count=%{y}<extra></extra>",
         "legendgroup": "boluarte",
         "marker": {
          "color": "#b57614",
          "pattern": {
           "shape": ""
          }
         },
         "name": "boluarte",
         "offsetgroup": "boluarte",
         "orientation": "v",
         "showlegend": false,
         "textposition": "auto",
         "type": "bar",
         "x": [
          "dina",
          "boluarte"
         ],
         "xaxis": "x23",
         "y": [
          7,
          7
         ],
         "yaxis": "y23"
        },
        {
         "alignmentgroup": "True",
         "hovertemplate": "hot_topics=boluarte<br>newspaper=larazon_pe<br>week=2<br>word=%{x}<br>count=%{y}<extra></extra>",
         "legendgroup": "boluarte",
         "marker": {
          "color": "#b57614",
          "pattern": {
           "shape": ""
          }
         },
         "name": "boluarte",
         "offsetgroup": "boluarte",
         "orientation": "v",
         "showlegend": false,
         "textposition": "auto",
         "type": "bar",
         "x": [
          "boluarte"
         ],
         "xaxis": "x24",
         "y": [
          3
         ],
         "yaxis": "y24"
        },
        {
         "alignmentgroup": "True",
         "hovertemplate": "hot_topics=boluarte<br>newspaper=larepublica_pe<br>week=49<br>word=%{x}<br>count=%{y}<extra></extra>",
         "legendgroup": "boluarte",
         "marker": {
          "color": "#b57614",
          "pattern": {
           "shape": ""
          }
         },
         "name": "boluarte",
         "offsetgroup": "boluarte",
         "orientation": "v",
         "showlegend": false,
         "textposition": "auto",
         "type": "bar",
         "x": [
          "boluarte",
          "dina"
         ],
         "xaxis": "x17",
         "y": [
          97,
          88
         ],
         "yaxis": "y17"
        },
        {
         "alignmentgroup": "True",
         "hovertemplate": "hot_topics=boluarte<br>newspaper=larepublica_pe<br>week=2<br>word=%{x}<br>count=%{y}<extra></extra>",
         "legendgroup": "boluarte",
         "marker": {
          "color": "#b57614",
          "pattern": {
           "shape": ""
          }
         },
         "name": "boluarte",
         "offsetgroup": "boluarte",
         "orientation": "v",
         "showlegend": false,
         "textposition": "auto",
         "type": "bar",
         "x": [
          "boluarte",
          "dina"
         ],
         "xaxis": "x18",
         "y": [
          78,
          68
         ],
         "yaxis": "y18"
        },
        {
         "alignmentgroup": "True",
         "hovertemplate": "hot_topics=boluarte<br>newspaper=peru21noticias<br>week=49<br>word=%{x}<br>count=%{y}<extra></extra>",
         "legendgroup": "boluarte",
         "marker": {
          "color": "#b57614",
          "pattern": {
           "shape": ""
          }
         },
         "name": "boluarte",
         "offsetgroup": "boluarte",
         "orientation": "v",
         "showlegend": false,
         "textposition": "auto",
         "type": "bar",
         "x": [
          "boluarte",
          "dina"
         ],
         "xaxis": "x11",
         "y": [
          72,
          71
         ],
         "yaxis": "y11"
        },
        {
         "alignmentgroup": "True",
         "hovertemplate": "hot_topics=boluarte<br>newspaper=peru21noticias<br>week=2<br>word=%{x}<br>count=%{y}<extra></extra>",
         "legendgroup": "boluarte",
         "marker": {
          "color": "#b57614",
          "pattern": {
           "shape": ""
          }
         },
         "name": "boluarte",
         "offsetgroup": "boluarte",
         "orientation": "v",
         "showlegend": false,
         "textposition": "auto",
         "type": "bar",
         "x": [
          "boluarte",
          "dina"
         ],
         "xaxis": "x12",
         "y": [
          24,
          21
         ],
         "yaxis": "y12"
        },
        {
         "alignmentgroup": "True",
         "hovertemplate": "hot_topics=boluarte<br>newspaper=tromepe<br>week=49<br>word=%{x}<br>count=%{y}<extra></extra>",
         "legendgroup": "boluarte",
         "marker": {
          "color": "#b57614",
          "pattern": {
           "shape": ""
          }
         },
         "name": "boluarte",
         "offsetgroup": "boluarte",
         "orientation": "v",
         "showlegend": false,
         "textposition": "auto",
         "type": "bar",
         "x": [
          "dina",
          "boluarte"
         ],
         "xaxis": "x5",
         "y": [
          41,
          39
         ],
         "yaxis": "y5"
        },
        {
         "alignmentgroup": "True",
         "hovertemplate": "hot_topics=protestas<br>newspaper=DiarioElPeruano<br>week=2<br>word=%{x}<br>count=%{y}<extra></extra>",
         "legendgroup": "protestas",
         "marker": {
          "color": "#79740e",
          "pattern": {
           "shape": ""
          }
         },
         "name": "protestas",
         "offsetgroup": "protestas",
         "orientation": "v",
         "showlegend": true,
         "textposition": "auto",
         "type": "bar",
         "x": [
          "protestas"
         ],
         "xaxis": "x72",
         "y": [
          9
         ],
         "yaxis": "y72"
        },
        {
         "alignmentgroup": "True",
         "hovertemplate": "hot_topics=protestas<br>newspaper=ExpresoPeru<br>week=2<br>word=%{x}<br>count=%{y}<extra></extra>",
         "legendgroup": "protestas",
         "marker": {
          "color": "#79740e",
          "pattern": {
           "shape": ""
          }
         },
         "name": "protestas",
         "offsetgroup": "protestas",
         "orientation": "v",
         "showlegend": false,
         "textposition": "auto",
         "type": "bar",
         "x": [
          "protestas",
          "manifestaciones"
         ],
         "xaxis": "x66",
         "y": [
          13,
          10
         ],
         "yaxis": "y66"
        },
        {
         "alignmentgroup": "True",
         "hovertemplate": "hot_topics=protestas<br>newspaper=Gestionpe<br>week=2<br>word=%{x}<br>count=%{y}<extra></extra>",
         "legendgroup": "protestas",
         "marker": {
          "color": "#79740e",
          "pattern": {
           "shape": ""
          }
         },
         "name": "protestas",
         "offsetgroup": "protestas",
         "orientation": "v",
         "showlegend": false,
         "textposition": "auto",
         "type": "bar",
         "x": [
          "protestas"
         ],
         "xaxis": "x60",
         "y": [
          51
         ],
         "yaxis": "y60"
        },
        {
         "alignmentgroup": "True",
         "hovertemplate": "hot_topics=protestas<br>newspaper=diariocorreo<br>week=2<br>word=%{x}<br>count=%{y}<extra></extra>",
         "legendgroup": "protestas",
         "marker": {
          "color": "#79740e",
          "pattern": {
           "shape": ""
          }
         },
         "name": "protestas",
         "offsetgroup": "protestas",
         "orientation": "v",
         "showlegend": false,
         "textposition": "auto",
         "type": "bar",
         "x": [
          "protestas"
         ],
         "xaxis": "x54",
         "y": [
          21
         ],
         "yaxis": "y54"
        },
        {
         "alignmentgroup": "True",
         "hovertemplate": "hot_topics=protestas<br>newspaper=diarioojo<br>week=2<br>word=%{x}<br>count=%{y}<extra></extra>",
         "legendgroup": "protestas",
         "marker": {
          "color": "#79740e",
          "pattern": {
           "shape": ""
          }
         },
         "name": "protestas",
         "offsetgroup": "protestas",
         "orientation": "v",
         "showlegend": false,
         "textposition": "auto",
         "type": "bar",
         "x": [
          "protestas"
         ],
         "xaxis": "x48",
         "y": [
          9
         ],
         "yaxis": "y48"
        },
        {
         "alignmentgroup": "True",
         "hovertemplate": "hot_topics=protestas<br>newspaper=elbuho_pe<br>week=2<br>word=%{x}<br>count=%{y}<extra></extra>",
         "legendgroup": "protestas",
         "marker": {
          "color": "#79740e",
          "pattern": {
           "shape": ""
          }
         },
         "name": "protestas",
         "offsetgroup": "protestas",
         "orientation": "v",
         "showlegend": false,
         "textposition": "auto",
         "type": "bar",
         "x": [
          "protestas"
         ],
         "xaxis": "x42",
         "y": [
          20
         ],
         "yaxis": "y42"
        },
        {
         "alignmentgroup": "True",
         "hovertemplate": "hot_topics=protestas<br>newspaper=elcomercio_peru<br>week=2<br>word=%{x}<br>count=%{y}<extra></extra>",
         "legendgroup": "protestas",
         "marker": {
          "color": "#79740e",
          "pattern": {
           "shape": ""
          }
         },
         "name": "protestas",
         "offsetgroup": "protestas",
         "orientation": "v",
         "showlegend": false,
         "textposition": "auto",
         "type": "bar",
         "x": [
          "protestas"
         ],
         "xaxis": "x36",
         "y": [
          22
         ],
         "yaxis": "y36"
        },
        {
         "alignmentgroup": "True",
         "hovertemplate": "hot_topics=protestas<br>newspaper=larazon_pe<br>week=2<br>word=%{x}<br>count=%{y}<extra></extra>",
         "legendgroup": "protestas",
         "marker": {
          "color": "#79740e",
          "pattern": {
           "shape": ""
          }
         },
         "name": "protestas",
         "offsetgroup": "protestas",
         "orientation": "v",
         "showlegend": false,
         "textposition": "auto",
         "type": "bar",
         "x": [
          "protestas"
         ],
         "xaxis": "x24",
         "y": [
          7
         ],
         "yaxis": "y24"
        },
        {
         "alignmentgroup": "True",
         "hovertemplate": "hot_topics=protestas<br>newspaper=larepublica_pe<br>week=2<br>word=%{x}<br>count=%{y}<extra></extra>",
         "legendgroup": "protestas",
         "marker": {
          "color": "#79740e",
          "pattern": {
           "shape": ""
          }
         },
         "name": "protestas",
         "offsetgroup": "protestas",
         "orientation": "v",
         "showlegend": false,
         "textposition": "auto",
         "type": "bar",
         "x": [
          "protestas"
         ],
         "xaxis": "x18",
         "y": [
          91
         ],
         "yaxis": "y18"
        },
        {
         "alignmentgroup": "True",
         "hovertemplate": "hot_topics=protestas<br>newspaper=peru21noticias<br>week=2<br>word=%{x}<br>count=%{y}<extra></extra>",
         "legendgroup": "protestas",
         "marker": {
          "color": "#79740e",
          "pattern": {
           "shape": ""
          }
         },
         "name": "protestas",
         "offsetgroup": "protestas",
         "orientation": "v",
         "showlegend": false,
         "textposition": "auto",
         "type": "bar",
         "x": [
          "protestas"
         ],
         "xaxis": "x12",
         "y": [
          44
         ],
         "yaxis": "y12"
        },
        {
         "alignmentgroup": "True",
         "hovertemplate": "hot_topics=protestas<br>newspaper=tromepe<br>week=2<br>word=%{x}<br>count=%{y}<extra></extra>",
         "legendgroup": "protestas",
         "marker": {
          "color": "#79740e",
          "pattern": {
           "shape": ""
          }
         },
         "name": "protestas",
         "offsetgroup": "protestas",
         "orientation": "v",
         "showlegend": false,
         "textposition": "auto",
         "type": "bar",
         "x": [
          "protestas"
         ],
         "xaxis": "x6",
         "y": [
          20
         ],
         "yaxis": "y6"
        },
        {
         "alignmentgroup": "True",
         "hovertemplate": "hot_topics=covid<br>newspaper=Gestionpe<br>week=33<br>word=%{x}<br>count=%{y}<extra></extra>",
         "legendgroup": "covid",
         "marker": {
          "color": "#fabd2f",
          "pattern": {
           "shape": ""
          }
         },
         "name": "covid",
         "offsetgroup": "covid",
         "orientation": "v",
         "showlegend": true,
         "textposition": "auto",
         "type": "bar",
         "x": [
          "covid"
         ],
         "xaxis": "x55",
         "y": [
          27
         ],
         "yaxis": "y55"
        },
        {
         "alignmentgroup": "True",
         "hovertemplate": "hot_topics=covid<br>newspaper=Gestionpe<br>week=34<br>word=%{x}<br>count=%{y}<extra></extra>",
         "legendgroup": "covid",
         "marker": {
          "color": "#fabd2f",
          "pattern": {
           "shape": ""
          }
         },
         "name": "covid",
         "offsetgroup": "covid",
         "orientation": "v",
         "showlegend": false,
         "textposition": "auto",
         "type": "bar",
         "x": [
          "covid"
         ],
         "xaxis": "x56",
         "y": [
          19
         ],
         "yaxis": "y56"
        },
        {
         "alignmentgroup": "True",
         "hovertemplate": "hot_topics=covid<br>newspaper=Gestionpe<br>week=44<br>word=%{x}<br>count=%{y}<extra></extra>",
         "legendgroup": "covid",
         "marker": {
          "color": "#fabd2f",
          "pattern": {
           "shape": ""
          }
         },
         "name": "covid",
         "offsetgroup": "covid",
         "orientation": "v",
         "showlegend": false,
         "textposition": "auto",
         "type": "bar",
         "x": [
          "covid"
         ],
         "xaxis": "x58",
         "y": [
          20
         ],
         "yaxis": "y58"
        },
        {
         "alignmentgroup": "True",
         "hovertemplate": "hot_topics=covid<br>newspaper=diariocorreo<br>week=33<br>word=%{x}<br>count=%{y}<extra></extra>",
         "legendgroup": "covid",
         "marker": {
          "color": "#fabd2f",
          "pattern": {
           "shape": ""
          }
         },
         "name": "covid",
         "offsetgroup": "covid",
         "orientation": "v",
         "showlegend": false,
         "textposition": "auto",
         "type": "bar",
         "x": [
          "covid"
         ],
         "xaxis": "x49",
         "y": [
          24
         ],
         "yaxis": "y49"
        },
        {
         "alignmentgroup": "True",
         "hovertemplate": "hot_topics=covid<br>newspaper=diariocorreo<br>week=34<br>word=%{x}<br>count=%{y}<extra></extra>",
         "legendgroup": "covid",
         "marker": {
          "color": "#fabd2f",
          "pattern": {
           "shape": ""
          }
         },
         "name": "covid",
         "offsetgroup": "covid",
         "orientation": "v",
         "showlegend": false,
         "textposition": "auto",
         "type": "bar",
         "x": [
          "covid"
         ],
         "xaxis": "x50",
         "y": [
          17
         ],
         "yaxis": "y50"
        },
        {
         "alignmentgroup": "True",
         "hovertemplate": "hot_topics=covid<br>newspaper=diariocorreo<br>week=49<br>word=%{x}<br>count=%{y}<extra></extra>",
         "legendgroup": "covid",
         "marker": {
          "color": "#fabd2f",
          "pattern": {
           "shape": ""
          }
         },
         "name": "covid",
         "offsetgroup": "covid",
         "orientation": "v",
         "showlegend": false,
         "textposition": "auto",
         "type": "bar",
         "x": [
          "covid"
         ],
         "xaxis": "x53",
         "y": [
          14
         ],
         "yaxis": "y53"
        },
        {
         "alignmentgroup": "True",
         "hovertemplate": "hot_topics=covid<br>newspaper=diarioojo<br>week=33<br>word=%{x}<br>count=%{y}<extra></extra>",
         "legendgroup": "covid",
         "marker": {
          "color": "#fabd2f",
          "pattern": {
           "shape": ""
          }
         },
         "name": "covid",
         "offsetgroup": "covid",
         "orientation": "v",
         "showlegend": false,
         "textposition": "auto",
         "type": "bar",
         "x": [
          "covid"
         ],
         "xaxis": "x43",
         "y": [
          21
         ],
         "yaxis": "y43"
        },
        {
         "alignmentgroup": "True",
         "hovertemplate": "hot_topics=covid<br>newspaper=diarioojo<br>week=34<br>word=%{x}<br>count=%{y}<extra></extra>",
         "legendgroup": "covid",
         "marker": {
          "color": "#fabd2f",
          "pattern": {
           "shape": ""
          }
         },
         "name": "covid",
         "offsetgroup": "covid",
         "orientation": "v",
         "showlegend": false,
         "textposition": "auto",
         "type": "bar",
         "x": [
          "covid"
         ],
         "xaxis": "x44",
         "y": [
          19
         ],
         "yaxis": "y44"
        },
        {
         "alignmentgroup": "True",
         "hovertemplate": "hot_topics=covid<br>newspaper=diarioojo<br>week=39<br>word=%{x}<br>count=%{y}<extra></extra>",
         "legendgroup": "covid",
         "marker": {
          "color": "#fabd2f",
          "pattern": {
           "shape": ""
          }
         },
         "name": "covid",
         "offsetgroup": "covid",
         "orientation": "v",
         "showlegend": false,
         "textposition": "auto",
         "type": "bar",
         "x": [
          "covid"
         ],
         "xaxis": "x45",
         "y": [
          12
         ],
         "yaxis": "y45"
        },
        {
         "alignmentgroup": "True",
         "hovertemplate": "hot_topics=covid<br>newspaper=diarioojo<br>week=44<br>word=%{x}<br>count=%{y}<extra></extra>",
         "legendgroup": "covid",
         "marker": {
          "color": "#fabd2f",
          "pattern": {
           "shape": ""
          }
         },
         "name": "covid",
         "offsetgroup": "covid",
         "orientation": "v",
         "showlegend": false,
         "textposition": "auto",
         "type": "bar",
         "x": [
          "covid"
         ],
         "xaxis": "x46",
         "y": [
          13
         ],
         "yaxis": "y46"
        },
        {
         "alignmentgroup": "True",
         "hovertemplate": "hot_topics=covid<br>newspaper=diarioojo<br>week=49<br>word=%{x}<br>count=%{y}<extra></extra>",
         "legendgroup": "covid",
         "marker": {
          "color": "#fabd2f",
          "pattern": {
           "shape": ""
          }
         },
         "name": "covid",
         "offsetgroup": "covid",
         "orientation": "v",
         "showlegend": false,
         "textposition": "auto",
         "type": "bar",
         "x": [
          "covid"
         ],
         "xaxis": "x47",
         "y": [
          17
         ],
         "yaxis": "y47"
        },
        {
         "alignmentgroup": "True",
         "hovertemplate": "hot_topics=covid<br>newspaper=elcomercio_peru<br>week=33<br>word=%{x}<br>count=%{y}<extra></extra>",
         "legendgroup": "covid",
         "marker": {
          "color": "#fabd2f",
          "pattern": {
           "shape": ""
          }
         },
         "name": "covid",
         "offsetgroup": "covid",
         "orientation": "v",
         "showlegend": false,
         "textposition": "auto",
         "type": "bar",
         "x": [
          "covid"
         ],
         "xaxis": "x31",
         "y": [
          27
         ],
         "yaxis": "y31"
        },
        {
         "alignmentgroup": "True",
         "hovertemplate": "hot_topics=covid<br>newspaper=elcomercio_peru<br>week=34<br>word=%{x}<br>count=%{y}<extra></extra>",
         "legendgroup": "covid",
         "marker": {
          "color": "#fabd2f",
          "pattern": {
           "shape": ""
          }
         },
         "name": "covid",
         "offsetgroup": "covid",
         "orientation": "v",
         "showlegend": false,
         "textposition": "auto",
         "type": "bar",
         "x": [
          "covid"
         ],
         "xaxis": "x32",
         "y": [
          19
         ],
         "yaxis": "y32"
        },
        {
         "alignmentgroup": "True",
         "hovertemplate": "hot_topics=covid<br>newspaper=elcomercio_peru<br>week=39<br>word=%{x}<br>count=%{y}<extra></extra>",
         "legendgroup": "covid",
         "marker": {
          "color": "#fabd2f",
          "pattern": {
           "shape": ""
          }
         },
         "name": "covid",
         "offsetgroup": "covid",
         "orientation": "v",
         "showlegend": false,
         "textposition": "auto",
         "type": "bar",
         "x": [
          "covid"
         ],
         "xaxis": "x33",
         "y": [
          10
         ],
         "yaxis": "y33"
        },
        {
         "alignmentgroup": "True",
         "hovertemplate": "hot_topics=covid<br>newspaper=elcomercio_peru<br>week=44<br>word=%{x}<br>count=%{y}<extra></extra>",
         "legendgroup": "covid",
         "marker": {
          "color": "#fabd2f",
          "pattern": {
           "shape": ""
          }
         },
         "name": "covid",
         "offsetgroup": "covid",
         "orientation": "v",
         "showlegend": false,
         "textposition": "auto",
         "type": "bar",
         "x": [
          "covid"
         ],
         "xaxis": "x34",
         "y": [
          13
         ],
         "yaxis": "y34"
        },
        {
         "alignmentgroup": "True",
         "hovertemplate": "hot_topics=covid<br>newspaper=elcomercio_peru<br>week=49<br>word=%{x}<br>count=%{y}<extra></extra>",
         "legendgroup": "covid",
         "marker": {
          "color": "#fabd2f",
          "pattern": {
           "shape": ""
          }
         },
         "name": "covid",
         "offsetgroup": "covid",
         "orientation": "v",
         "showlegend": false,
         "textposition": "auto",
         "type": "bar",
         "x": [
          "covid"
         ],
         "xaxis": "x35",
         "y": [
          20
         ],
         "yaxis": "y35"
        },
        {
         "alignmentgroup": "True",
         "hovertemplate": "hot_topics=covid<br>newspaper=elcomercio_peru<br>week=2<br>word=%{x}<br>count=%{y}<extra></extra>",
         "legendgroup": "covid",
         "marker": {
          "color": "#fabd2f",
          "pattern": {
           "shape": ""
          }
         },
         "name": "covid",
         "offsetgroup": "covid",
         "orientation": "v",
         "showlegend": false,
         "textposition": "auto",
         "type": "bar",
         "x": [
          "covid"
         ],
         "xaxis": "x36",
         "y": [
          9
         ],
         "yaxis": "y36"
        },
        {
         "alignmentgroup": "True",
         "hovertemplate": "hot_topics=covid<br>newspaper=peru21noticias<br>week=33<br>word=%{x}<br>count=%{y}<extra></extra>",
         "legendgroup": "covid",
         "marker": {
          "color": "#fabd2f",
          "pattern": {
           "shape": ""
          }
         },
         "name": "covid",
         "offsetgroup": "covid",
         "orientation": "v",
         "showlegend": false,
         "textposition": "auto",
         "type": "bar",
         "x": [
          "covid"
         ],
         "xaxis": "x7",
         "y": [
          23
         ],
         "yaxis": "y7"
        },
        {
         "alignmentgroup": "True",
         "hovertemplate": "hot_topics=covid<br>newspaper=peru21noticias<br>week=34<br>word=%{x}<br>count=%{y}<extra></extra>",
         "legendgroup": "covid",
         "marker": {
          "color": "#fabd2f",
          "pattern": {
           "shape": ""
          }
         },
         "name": "covid",
         "offsetgroup": "covid",
         "orientation": "v",
         "showlegend": false,
         "textposition": "auto",
         "type": "bar",
         "x": [
          "covid"
         ],
         "xaxis": "x8",
         "y": [
          20
         ],
         "yaxis": "y8"
        },
        {
         "alignmentgroup": "True",
         "hovertemplate": "hot_topics=covid<br>newspaper=tromepe<br>week=34<br>word=%{x}<br>count=%{y}<extra></extra>",
         "legendgroup": "covid",
         "marker": {
          "color": "#fabd2f",
          "pattern": {
           "shape": ""
          }
         },
         "name": "covid",
         "offsetgroup": "covid",
         "orientation": "v",
         "showlegend": false,
         "textposition": "auto",
         "type": "bar",
         "x": [
          "covid"
         ],
         "xaxis": "x2",
         "y": [
          14
         ],
         "yaxis": "y2"
        }
       ],
       "layout": {
        "annotations": [
         {
          "font": {},
          "showarrow": false,
          "text": "33",
          "x": 0.07333333333333333,
          "xanchor": "center",
          "xref": "paper",
          "y": 0.9999999999999999,
          "yanchor": "bottom",
          "yref": "paper"
         },
         {
          "font": {},
          "showarrow": false,
          "text": "34",
          "x": 0.24,
          "xanchor": "center",
          "xref": "paper",
          "y": 0.9999999999999999,
          "yanchor": "bottom",
          "yref": "paper"
         },
         {
          "font": {},
          "showarrow": false,
          "text": "39",
          "x": 0.4066666666666666,
          "xanchor": "center",
          "xref": "paper",
          "y": 0.9999999999999999,
          "yanchor": "bottom",
          "yref": "paper"
         },
         {
          "font": {},
          "showarrow": false,
          "text": "44",
          "x": 0.5733333333333334,
          "xanchor": "center",
          "xref": "paper",
          "y": 0.9999999999999999,
          "yanchor": "bottom",
          "yref": "paper"
         },
         {
          "font": {},
          "showarrow": false,
          "text": "49",
          "x": 0.74,
          "xanchor": "center",
          "xref": "paper",
          "y": 0.9999999999999999,
          "yanchor": "bottom",
          "yref": "paper"
         },
         {
          "font": {},
          "showarrow": false,
          "text": "2",
          "x": 0.9066666666666667,
          "xanchor": "center",
          "xref": "paper",
          "y": 0.9999999999999999,
          "yanchor": "bottom",
          "yref": "paper"
         },
         {
          "font": {},
          "showarrow": false,
          "text": "tromepe",
          "textangle": 90,
          "x": 0.98,
          "xanchor": "left",
          "xref": "paper",
          "y": 0.027916666666666666,
          "yanchor": "middle",
          "yref": "paper"
         },
         {
          "font": {},
          "showarrow": false,
          "text": "peru21noticias",
          "textangle": 90,
          "x": 0.98,
          "xanchor": "left",
          "xref": "paper",
          "y": 0.11374999999999999,
          "yanchor": "middle",
          "yref": "paper"
         },
         {
          "font": {},
          "showarrow": false,
          "text": "larepublica_pe",
          "textangle": 90,
          "x": 0.98,
          "xanchor": "left",
          "xref": "paper",
          "y": 0.19958333333333333,
          "yanchor": "middle",
          "yref": "paper"
         },
         {
          "font": {},
          "showarrow": false,
          "text": "larazon_pe",
          "textangle": 90,
          "x": 0.98,
          "xanchor": "left",
          "xref": "paper",
          "y": 0.28541666666666665,
          "yanchor": "middle",
          "yref": "paper"
         },
         {
          "font": {},
          "showarrow": false,
          "text": "ensustrece",
          "textangle": 90,
          "x": 0.98,
          "xanchor": "left",
          "xref": "paper",
          "y": 0.37124999999999997,
          "yanchor": "middle",
          "yref": "paper"
         },
         {
          "font": {},
          "showarrow": false,
          "text": "elcomercio_peru",
          "textangle": 90,
          "x": 0.98,
          "xanchor": "left",
          "xref": "paper",
          "y": 0.4570833333333334,
          "yanchor": "middle",
          "yref": "paper"
         },
         {
          "font": {},
          "showarrow": false,
          "text": "elbuho_pe",
          "textangle": 90,
          "x": 0.98,
          "xanchor": "left",
          "xref": "paper",
          "y": 0.5429166666666667,
          "yanchor": "middle",
          "yref": "paper"
         },
         {
          "font": {},
          "showarrow": false,
          "text": "diarioojo",
          "textangle": 90,
          "x": 0.98,
          "xanchor": "left",
          "xref": "paper",
          "y": 0.6287499999999999,
          "yanchor": "middle",
          "yref": "paper"
         },
         {
          "font": {},
          "showarrow": false,
          "text": "diariocorreo",
          "textangle": 90,
          "x": 0.98,
          "xanchor": "left",
          "xref": "paper",
          "y": 0.7145833333333333,
          "yanchor": "middle",
          "yref": "paper"
         },
         {
          "font": {},
          "showarrow": false,
          "text": "Gestionpe",
          "textangle": 90,
          "x": 0.98,
          "xanchor": "left",
          "xref": "paper",
          "y": 0.8004166666666668,
          "yanchor": "middle",
          "yref": "paper"
         },
         {
          "font": {},
          "showarrow": false,
          "text": "ExpresoPeru",
          "textangle": 90,
          "x": 0.98,
          "xanchor": "left",
          "xref": "paper",
          "y": 0.88625,
          "yanchor": "middle",
          "yref": "paper"
         },
         {
          "font": {},
          "showarrow": false,
          "text": "DiarioElPeruano",
          "textangle": 90,
          "x": 0.98,
          "xanchor": "left",
          "xref": "paper",
          "y": 0.9720833333333332,
          "yanchor": "middle",
          "yref": "paper"
         }
        ],
        "barmode": "relative",
        "height": 3200,
        "legend": {
         "title": {
          "text": "hot_topics"
         },
         "tracegroupgap": 0
        },
        "template": {
         "data": {
          "bar": [
           {
            "error_x": {
             "color": "#2a3f5f"
            },
            "error_y": {
             "color": "#2a3f5f"
            },
            "marker": {
             "line": {
              "color": "white",
              "width": 0.5
             },
             "pattern": {
              "fillmode": "overlay",
              "size": 10,
              "solidity": 0.2
             }
            },
            "type": "bar"
           }
          ],
          "barpolar": [
           {
            "marker": {
             "line": {
              "color": "white",
              "width": 0.5
             },
             "pattern": {
              "fillmode": "overlay",
              "size": 10,
              "solidity": 0.2
             }
            },
            "type": "barpolar"
           }
          ],
          "carpet": [
           {
            "aaxis": {
             "endlinecolor": "#2a3f5f",
             "gridcolor": "#C8D4E3",
             "linecolor": "#C8D4E3",
             "minorgridcolor": "#C8D4E3",
             "startlinecolor": "#2a3f5f"
            },
            "baxis": {
             "endlinecolor": "#2a3f5f",
             "gridcolor": "#C8D4E3",
             "linecolor": "#C8D4E3",
             "minorgridcolor": "#C8D4E3",
             "startlinecolor": "#2a3f5f"
            },
            "type": "carpet"
           }
          ],
          "choropleth": [
           {
            "colorbar": {
             "outlinewidth": 0,
             "ticks": ""
            },
            "type": "choropleth"
           }
          ],
          "contour": [
           {
            "colorbar": {
             "outlinewidth": 0,
             "ticks": ""
            },
            "colorscale": [
             [
              0,
              "#0d0887"
             ],
             [
              0.1111111111111111,
              "#46039f"
             ],
             [
              0.2222222222222222,
              "#7201a8"
             ],
             [
              0.3333333333333333,
              "#9c179e"
             ],
             [
              0.4444444444444444,
              "#bd3786"
             ],
             [
              0.5555555555555556,
              "#d8576b"
             ],
             [
              0.6666666666666666,
              "#ed7953"
             ],
             [
              0.7777777777777778,
              "#fb9f3a"
             ],
             [
              0.8888888888888888,
              "#fdca26"
             ],
             [
              1,
              "#f0f921"
             ]
            ],
            "type": "contour"
           }
          ],
          "contourcarpet": [
           {
            "colorbar": {
             "outlinewidth": 0,
             "ticks": ""
            },
            "type": "contourcarpet"
           }
          ],
          "heatmap": [
           {
            "colorbar": {
             "outlinewidth": 0,
             "ticks": ""
            },
            "colorscale": [
             [
              0,
              "#0d0887"
             ],
             [
              0.1111111111111111,
              "#46039f"
             ],
             [
              0.2222222222222222,
              "#7201a8"
             ],
             [
              0.3333333333333333,
              "#9c179e"
             ],
             [
              0.4444444444444444,
              "#bd3786"
             ],
             [
              0.5555555555555556,
              "#d8576b"
             ],
             [
              0.6666666666666666,
              "#ed7953"
             ],
             [
              0.7777777777777778,
              "#fb9f3a"
             ],
             [
              0.8888888888888888,
              "#fdca26"
             ],
             [
              1,
              "#f0f921"
             ]
            ],
            "type": "heatmap"
           }
          ],
          "heatmapgl": [
           {
            "colorbar": {
             "outlinewidth": 0,
             "ticks": ""
            },
            "colorscale": [
             [
              0,
              "#0d0887"
             ],
             [
              0.1111111111111111,
              "#46039f"
             ],
             [
              0.2222222222222222,
              "#7201a8"
             ],
             [
              0.3333333333333333,
              "#9c179e"
             ],
             [
              0.4444444444444444,
              "#bd3786"
             ],
             [
              0.5555555555555556,
              "#d8576b"
             ],
             [
              0.6666666666666666,
              "#ed7953"
             ],
             [
              0.7777777777777778,
              "#fb9f3a"
             ],
             [
              0.8888888888888888,
              "#fdca26"
             ],
             [
              1,
              "#f0f921"
             ]
            ],
            "type": "heatmapgl"
           }
          ],
          "histogram": [
           {
            "marker": {
             "pattern": {
              "fillmode": "overlay",
              "size": 10,
              "solidity": 0.2
             }
            },
            "type": "histogram"
           }
          ],
          "histogram2d": [
           {
            "colorbar": {
             "outlinewidth": 0,
             "ticks": ""
            },
            "colorscale": [
             [
              0,
              "#0d0887"
             ],
             [
              0.1111111111111111,
              "#46039f"
             ],
             [
              0.2222222222222222,
              "#7201a8"
             ],
             [
              0.3333333333333333,
              "#9c179e"
             ],
             [
              0.4444444444444444,
              "#bd3786"
             ],
             [
              0.5555555555555556,
              "#d8576b"
             ],
             [
              0.6666666666666666,
              "#ed7953"
             ],
             [
              0.7777777777777778,
              "#fb9f3a"
             ],
             [
              0.8888888888888888,
              "#fdca26"
             ],
             [
              1,
              "#f0f921"
             ]
            ],
            "type": "histogram2d"
           }
          ],
          "histogram2dcontour": [
           {
            "colorbar": {
             "outlinewidth": 0,
             "ticks": ""
            },
            "colorscale": [
             [
              0,
              "#0d0887"
             ],
             [
              0.1111111111111111,
              "#46039f"
             ],
             [
              0.2222222222222222,
              "#7201a8"
             ],
             [
              0.3333333333333333,
              "#9c179e"
             ],
             [
              0.4444444444444444,
              "#bd3786"
             ],
             [
              0.5555555555555556,
              "#d8576b"
             ],
             [
              0.6666666666666666,
              "#ed7953"
             ],
             [
              0.7777777777777778,
              "#fb9f3a"
             ],
             [
              0.8888888888888888,
              "#fdca26"
             ],
             [
              1,
              "#f0f921"
             ]
            ],
            "type": "histogram2dcontour"
           }
          ],
          "mesh3d": [
           {
            "colorbar": {
             "outlinewidth": 0,
             "ticks": ""
            },
            "type": "mesh3d"
           }
          ],
          "parcoords": [
           {
            "line": {
             "colorbar": {
              "outlinewidth": 0,
              "ticks": ""
             }
            },
            "type": "parcoords"
           }
          ],
          "pie": [
           {
            "automargin": true,
            "type": "pie"
           }
          ],
          "scatter": [
           {
            "fillpattern": {
             "fillmode": "overlay",
             "size": 10,
             "solidity": 0.2
            },
            "type": "scatter"
           }
          ],
          "scatter3d": [
           {
            "line": {
             "colorbar": {
              "outlinewidth": 0,
              "ticks": ""
             }
            },
            "marker": {
             "colorbar": {
              "outlinewidth": 0,
              "ticks": ""
             }
            },
            "type": "scatter3d"
           }
          ],
          "scattercarpet": [
           {
            "marker": {
             "colorbar": {
              "outlinewidth": 0,
              "ticks": ""
             }
            },
            "type": "scattercarpet"
           }
          ],
          "scattergeo": [
           {
            "marker": {
             "colorbar": {
              "outlinewidth": 0,
              "ticks": ""
             }
            },
            "type": "scattergeo"
           }
          ],
          "scattergl": [
           {
            "marker": {
             "colorbar": {
              "outlinewidth": 0,
              "ticks": ""
             }
            },
            "type": "scattergl"
           }
          ],
          "scattermapbox": [
           {
            "marker": {
             "colorbar": {
              "outlinewidth": 0,
              "ticks": ""
             }
            },
            "type": "scattermapbox"
           }
          ],
          "scatterpolar": [
           {
            "marker": {
             "colorbar": {
              "outlinewidth": 0,
              "ticks": ""
             }
            },
            "type": "scatterpolar"
           }
          ],
          "scatterpolargl": [
           {
            "marker": {
             "colorbar": {
              "outlinewidth": 0,
              "ticks": ""
             }
            },
            "type": "scatterpolargl"
           }
          ],
          "scatterternary": [
           {
            "marker": {
             "colorbar": {
              "outlinewidth": 0,
              "ticks": ""
             }
            },
            "type": "scatterternary"
           }
          ],
          "surface": [
           {
            "colorbar": {
             "outlinewidth": 0,
             "ticks": ""
            },
            "colorscale": [
             [
              0,
              "#0d0887"
             ],
             [
              0.1111111111111111,
              "#46039f"
             ],
             [
              0.2222222222222222,
              "#7201a8"
             ],
             [
              0.3333333333333333,
              "#9c179e"
             ],
             [
              0.4444444444444444,
              "#bd3786"
             ],
             [
              0.5555555555555556,
              "#d8576b"
             ],
             [
              0.6666666666666666,
              "#ed7953"
             ],
             [
              0.7777777777777778,
              "#fb9f3a"
             ],
             [
              0.8888888888888888,
              "#fdca26"
             ],
             [
              1,
              "#f0f921"
             ]
            ],
            "type": "surface"
           }
          ],
          "table": [
           {
            "cells": {
             "fill": {
              "color": "#EBF0F8"
             },
             "line": {
              "color": "white"
             }
            },
            "header": {
             "fill": {
              "color": "#C8D4E3"
             },
             "line": {
              "color": "white"
             }
            },
            "type": "table"
           }
          ]
         },
         "layout": {
          "annotationdefaults": {
           "arrowcolor": "#2a3f5f",
           "arrowhead": 0,
           "arrowwidth": 1
          },
          "autotypenumbers": "strict",
          "coloraxis": {
           "colorbar": {
            "outlinewidth": 0,
            "ticks": ""
           }
          },
          "colorscale": {
           "diverging": [
            [
             0,
             "#8e0152"
            ],
            [
             0.1,
             "#c51b7d"
            ],
            [
             0.2,
             "#de77ae"
            ],
            [
             0.3,
             "#f1b6da"
            ],
            [
             0.4,
             "#fde0ef"
            ],
            [
             0.5,
             "#f7f7f7"
            ],
            [
             0.6,
             "#e6f5d0"
            ],
            [
             0.7,
             "#b8e186"
            ],
            [
             0.8,
             "#7fbc41"
            ],
            [
             0.9,
             "#4d9221"
            ],
            [
             1,
             "#276419"
            ]
           ],
           "sequential": [
            [
             0,
             "#0d0887"
            ],
            [
             0.1111111111111111,
             "#46039f"
            ],
            [
             0.2222222222222222,
             "#7201a8"
            ],
            [
             0.3333333333333333,
             "#9c179e"
            ],
            [
             0.4444444444444444,
             "#bd3786"
            ],
            [
             0.5555555555555556,
             "#d8576b"
            ],
            [
             0.6666666666666666,
             "#ed7953"
            ],
            [
             0.7777777777777778,
             "#fb9f3a"
            ],
            [
             0.8888888888888888,
             "#fdca26"
            ],
            [
             1,
             "#f0f921"
            ]
           ],
           "sequentialminus": [
            [
             0,
             "#0d0887"
            ],
            [
             0.1111111111111111,
             "#46039f"
            ],
            [
             0.2222222222222222,
             "#7201a8"
            ],
            [
             0.3333333333333333,
             "#9c179e"
            ],
            [
             0.4444444444444444,
             "#bd3786"
            ],
            [
             0.5555555555555556,
             "#d8576b"
            ],
            [
             0.6666666666666666,
             "#ed7953"
            ],
            [
             0.7777777777777778,
             "#fb9f3a"
            ],
            [
             0.8888888888888888,
             "#fdca26"
            ],
            [
             1,
             "#f0f921"
            ]
           ]
          },
          "colorway": [
           "#636efa",
           "#EF553B",
           "#00cc96",
           "#ab63fa",
           "#FFA15A",
           "#19d3f3",
           "#FF6692",
           "#B6E880",
           "#FF97FF",
           "#FECB52"
          ],
          "font": {
           "color": "#2a3f5f"
          },
          "geo": {
           "bgcolor": "white",
           "lakecolor": "white",
           "landcolor": "white",
           "showlakes": true,
           "showland": true,
           "subunitcolor": "#C8D4E3"
          },
          "hoverlabel": {
           "align": "left"
          },
          "hovermode": "closest",
          "mapbox": {
           "style": "light"
          },
          "paper_bgcolor": "white",
          "plot_bgcolor": "white",
          "polar": {
           "angularaxis": {
            "gridcolor": "#EBF0F8",
            "linecolor": "#EBF0F8",
            "ticks": ""
           },
           "bgcolor": "white",
           "radialaxis": {
            "gridcolor": "#EBF0F8",
            "linecolor": "#EBF0F8",
            "ticks": ""
           }
          },
          "scene": {
           "xaxis": {
            "backgroundcolor": "white",
            "gridcolor": "#DFE8F3",
            "gridwidth": 2,
            "linecolor": "#EBF0F8",
            "showbackground": true,
            "ticks": "",
            "zerolinecolor": "#EBF0F8"
           },
           "yaxis": {
            "backgroundcolor": "white",
            "gridcolor": "#DFE8F3",
            "gridwidth": 2,
            "linecolor": "#EBF0F8",
            "showbackground": true,
            "ticks": "",
            "zerolinecolor": "#EBF0F8"
           },
           "zaxis": {
            "backgroundcolor": "white",
            "gridcolor": "#DFE8F3",
            "gridwidth": 2,
            "linecolor": "#EBF0F8",
            "showbackground": true,
            "ticks": "",
            "zerolinecolor": "#EBF0F8"
           }
          },
          "shapedefaults": {
           "line": {
            "color": "#2a3f5f"
           }
          },
          "ternary": {
           "aaxis": {
            "gridcolor": "#DFE8F3",
            "linecolor": "#A2B1C6",
            "ticks": ""
           },
           "baxis": {
            "gridcolor": "#DFE8F3",
            "linecolor": "#A2B1C6",
            "ticks": ""
           },
           "bgcolor": "white",
           "caxis": {
            "gridcolor": "#DFE8F3",
            "linecolor": "#A2B1C6",
            "ticks": ""
           }
          },
          "title": {
           "x": 0.05
          },
          "xaxis": {
           "automargin": true,
           "gridcolor": "#EBF0F8",
           "linecolor": "#EBF0F8",
           "ticks": "",
           "title": {
            "standoff": 15
           },
           "zerolinecolor": "#EBF0F8",
           "zerolinewidth": 2
          },
          "yaxis": {
           "automargin": true,
           "gridcolor": "#EBF0F8",
           "linecolor": "#EBF0F8",
           "ticks": "",
           "title": {
            "standoff": 15
           },
           "zerolinecolor": "#EBF0F8",
           "zerolinewidth": 2
          }
         }
        },
        "title": {
         "text": "Top 30 words per newspaper per week"
        },
        "width": 3200,
        "xaxis": {
         "anchor": "y",
         "categoryorder": "total descending",
         "domain": [
          0,
          0.14666666666666667
         ],
         "showticklabels": true,
         "title": {
          "text": "word"
         }
        },
        "xaxis10": {
         "anchor": "y10",
         "categoryorder": "total descending",
         "domain": [
          0.5,
          0.6466666666666667
         ],
         "showticklabels": true
        },
        "xaxis11": {
         "anchor": "y11",
         "categoryorder": "total descending",
         "domain": [
          0.6666666666666666,
          0.8133333333333332
         ],
         "showticklabels": true
        },
        "xaxis12": {
         "anchor": "y12",
         "categoryorder": "total descending",
         "domain": [
          0.8333333333333334,
          0.98
         ],
         "showticklabels": true
        },
        "xaxis13": {
         "anchor": "y13",
         "categoryorder": "total descending",
         "domain": [
          0,
          0.14666666666666667
         ],
         "showticklabels": true
        },
        "xaxis14": {
         "anchor": "y14",
         "categoryorder": "total descending",
         "domain": [
          0.16666666666666666,
          0.31333333333333335
         ],
         "showticklabels": true
        },
        "xaxis15": {
         "anchor": "y15",
         "categoryorder": "total descending",
         "domain": [
          0.3333333333333333,
          0.48
         ],
         "showticklabels": true
        },
        "xaxis16": {
         "anchor": "y16",
         "categoryorder": "total descending",
         "domain": [
          0.5,
          0.6466666666666667
         ],
         "showticklabels": true
        },
        "xaxis17": {
         "anchor": "y17",
         "categoryorder": "total descending",
         "domain": [
          0.6666666666666666,
          0.8133333333333332
         ],
         "showticklabels": true
        },
        "xaxis18": {
         "anchor": "y18",
         "categoryorder": "total descending",
         "domain": [
          0.8333333333333334,
          0.98
         ],
         "showticklabels": true
        },
        "xaxis19": {
         "anchor": "y19",
         "categoryorder": "total descending",
         "domain": [
          0,
          0.14666666666666667
         ],
         "showticklabels": true
        },
        "xaxis2": {
         "anchor": "y2",
         "categoryorder": "total descending",
         "domain": [
          0.16666666666666666,
          0.31333333333333335
         ],
         "showticklabels": true,
         "title": {
          "text": "word"
         }
        },
        "xaxis20": {
         "anchor": "y20",
         "categoryorder": "total descending",
         "domain": [
          0.16666666666666666,
          0.31333333333333335
         ],
         "showticklabels": true
        },
        "xaxis21": {
         "anchor": "y21",
         "categoryorder": "total descending",
         "domain": [
          0.3333333333333333,
          0.48
         ],
         "showticklabels": true
        },
        "xaxis22": {
         "anchor": "y22",
         "categoryorder": "total descending",
         "domain": [
          0.5,
          0.6466666666666667
         ],
         "showticklabels": true
        },
        "xaxis23": {
         "anchor": "y23",
         "categoryorder": "total descending",
         "domain": [
          0.6666666666666666,
          0.8133333333333332
         ],
         "showticklabels": true
        },
        "xaxis24": {
         "anchor": "y24",
         "categoryorder": "total descending",
         "domain": [
          0.8333333333333334,
          0.98
         ],
         "showticklabels": true
        },
        "xaxis25": {
         "anchor": "y25",
         "categoryorder": "total descending",
         "domain": [
          0,
          0.14666666666666667
         ],
         "showticklabels": true
        },
        "xaxis26": {
         "anchor": "y26",
         "categoryorder": "total descending",
         "domain": [
          0.16666666666666666,
          0.31333333333333335
         ],
         "showticklabels": true
        },
        "xaxis27": {
         "anchor": "y27",
         "categoryorder": "total descending",
         "domain": [
          0.3333333333333333,
          0.48
         ],
         "showticklabels": true
        },
        "xaxis28": {
         "anchor": "y28",
         "categoryorder": "total descending",
         "domain": [
          0.5,
          0.6466666666666667
         ],
         "showticklabels": true
        },
        "xaxis29": {
         "anchor": "y29",
         "categoryorder": "total descending",
         "domain": [
          0.6666666666666666,
          0.8133333333333332
         ],
         "showticklabels": true
        },
        "xaxis3": {
         "anchor": "y3",
         "categoryorder": "total descending",
         "domain": [
          0.3333333333333333,
          0.48
         ],
         "showticklabels": true,
         "title": {
          "text": "word"
         }
        },
        "xaxis30": {
         "anchor": "y30",
         "categoryorder": "total descending",
         "domain": [
          0.8333333333333334,
          0.98
         ],
         "showticklabels": true
        },
        "xaxis31": {
         "anchor": "y31",
         "categoryorder": "total descending",
         "domain": [
          0,
          0.14666666666666667
         ],
         "showticklabels": true
        },
        "xaxis32": {
         "anchor": "y32",
         "categoryorder": "total descending",
         "domain": [
          0.16666666666666666,
          0.31333333333333335
         ],
         "showticklabels": true
        },
        "xaxis33": {
         "anchor": "y33",
         "categoryorder": "total descending",
         "domain": [
          0.3333333333333333,
          0.48
         ],
         "showticklabels": true
        },
        "xaxis34": {
         "anchor": "y34",
         "categoryorder": "total descending",
         "domain": [
          0.5,
          0.6466666666666667
         ],
         "showticklabels": true
        },
        "xaxis35": {
         "anchor": "y35",
         "categoryorder": "total descending",
         "domain": [
          0.6666666666666666,
          0.8133333333333332
         ],
         "showticklabels": true
        },
        "xaxis36": {
         "anchor": "y36",
         "categoryorder": "total descending",
         "domain": [
          0.8333333333333334,
          0.98
         ],
         "showticklabels": true
        },
        "xaxis37": {
         "anchor": "y37",
         "categoryorder": "total descending",
         "domain": [
          0,
          0.14666666666666667
         ],
         "showticklabels": true
        },
        "xaxis38": {
         "anchor": "y38",
         "categoryorder": "total descending",
         "domain": [
          0.16666666666666666,
          0.31333333333333335
         ],
         "showticklabels": true
        },
        "xaxis39": {
         "anchor": "y39",
         "categoryorder": "total descending",
         "domain": [
          0.3333333333333333,
          0.48
         ],
         "showticklabels": true
        },
        "xaxis4": {
         "anchor": "y4",
         "categoryorder": "total descending",
         "domain": [
          0.5,
          0.6466666666666667
         ],
         "showticklabels": true,
         "title": {
          "text": "word"
         }
        },
        "xaxis40": {
         "anchor": "y40",
         "categoryorder": "total descending",
         "domain": [
          0.5,
          0.6466666666666667
         ],
         "showticklabels": true
        },
        "xaxis41": {
         "anchor": "y41",
         "categoryorder": "total descending",
         "domain": [
          0.6666666666666666,
          0.8133333333333332
         ],
         "showticklabels": true
        },
        "xaxis42": {
         "anchor": "y42",
         "categoryorder": "total descending",
         "domain": [
          0.8333333333333334,
          0.98
         ],
         "showticklabels": true
        },
        "xaxis43": {
         "anchor": "y43",
         "categoryorder": "total descending",
         "domain": [
          0,
          0.14666666666666667
         ],
         "showticklabels": true
        },
        "xaxis44": {
         "anchor": "y44",
         "categoryorder": "total descending",
         "domain": [
          0.16666666666666666,
          0.31333333333333335
         ],
         "showticklabels": true
        },
        "xaxis45": {
         "anchor": "y45",
         "categoryorder": "total descending",
         "domain": [
          0.3333333333333333,
          0.48
         ],
         "showticklabels": true
        },
        "xaxis46": {
         "anchor": "y46",
         "categoryorder": "total descending",
         "domain": [
          0.5,
          0.6466666666666667
         ],
         "showticklabels": true
        },
        "xaxis47": {
         "anchor": "y47",
         "categoryorder": "total descending",
         "domain": [
          0.6666666666666666,
          0.8133333333333332
         ],
         "showticklabels": true
        },
        "xaxis48": {
         "anchor": "y48",
         "categoryorder": "total descending",
         "domain": [
          0.8333333333333334,
          0.98
         ],
         "showticklabels": true
        },
        "xaxis49": {
         "anchor": "y49",
         "categoryorder": "total descending",
         "domain": [
          0,
          0.14666666666666667
         ],
         "showticklabels": true
        },
        "xaxis5": {
         "anchor": "y5",
         "categoryorder": "total descending",
         "domain": [
          0.6666666666666666,
          0.8133333333333332
         ],
         "showticklabels": true,
         "title": {
          "text": "word"
         }
        },
        "xaxis50": {
         "anchor": "y50",
         "categoryorder": "total descending",
         "domain": [
          0.16666666666666666,
          0.31333333333333335
         ],
         "showticklabels": true
        },
        "xaxis51": {
         "anchor": "y51",
         "categoryorder": "total descending",
         "domain": [
          0.3333333333333333,
          0.48
         ],
         "showticklabels": true
        },
        "xaxis52": {
         "anchor": "y52",
         "categoryorder": "total descending",
         "domain": [
          0.5,
          0.6466666666666667
         ],
         "showticklabels": true
        },
        "xaxis53": {
         "anchor": "y53",
         "categoryorder": "total descending",
         "domain": [
          0.6666666666666666,
          0.8133333333333332
         ],
         "showticklabels": true
        },
        "xaxis54": {
         "anchor": "y54",
         "categoryorder": "total descending",
         "domain": [
          0.8333333333333334,
          0.98
         ],
         "showticklabels": true
        },
        "xaxis55": {
         "anchor": "y55",
         "categoryorder": "total descending",
         "domain": [
          0,
          0.14666666666666667
         ],
         "showticklabels": true
        },
        "xaxis56": {
         "anchor": "y56",
         "categoryorder": "total descending",
         "domain": [
          0.16666666666666666,
          0.31333333333333335
         ],
         "showticklabels": true
        },
        "xaxis57": {
         "anchor": "y57",
         "categoryorder": "total descending",
         "domain": [
          0.3333333333333333,
          0.48
         ],
         "showticklabels": true
        },
        "xaxis58": {
         "anchor": "y58",
         "categoryorder": "total descending",
         "domain": [
          0.5,
          0.6466666666666667
         ],
         "showticklabels": true
        },
        "xaxis59": {
         "anchor": "y59",
         "categoryorder": "total descending",
         "domain": [
          0.6666666666666666,
          0.8133333333333332
         ],
         "showticklabels": true
        },
        "xaxis6": {
         "anchor": "y6",
         "categoryorder": "total descending",
         "domain": [
          0.8333333333333334,
          0.98
         ],
         "showticklabels": true,
         "title": {
          "text": "word"
         }
        },
        "xaxis60": {
         "anchor": "y60",
         "categoryorder": "total descending",
         "domain": [
          0.8333333333333334,
          0.98
         ],
         "showticklabels": true
        },
        "xaxis61": {
         "anchor": "y61",
         "categoryorder": "total descending",
         "domain": [
          0,
          0.14666666666666667
         ],
         "showticklabels": true
        },
        "xaxis62": {
         "anchor": "y62",
         "categoryorder": "total descending",
         "domain": [
          0.16666666666666666,
          0.31333333333333335
         ],
         "showticklabels": true
        },
        "xaxis63": {
         "anchor": "y63",
         "categoryorder": "total descending",
         "domain": [
          0.3333333333333333,
          0.48
         ],
         "showticklabels": true
        },
        "xaxis64": {
         "anchor": "y64",
         "categoryorder": "total descending",
         "domain": [
          0.5,
          0.6466666666666667
         ],
         "showticklabels": true
        },
        "xaxis65": {
         "anchor": "y65",
         "categoryorder": "total descending",
         "domain": [
          0.6666666666666666,
          0.8133333333333332
         ],
         "showticklabels": true
        },
        "xaxis66": {
         "anchor": "y66",
         "categoryorder": "total descending",
         "domain": [
          0.8333333333333334,
          0.98
         ],
         "showticklabels": true
        },
        "xaxis67": {
         "anchor": "y67",
         "categoryorder": "total descending",
         "domain": [
          0,
          0.14666666666666667
         ],
         "showticklabels": true
        },
        "xaxis68": {
         "anchor": "y68",
         "categoryorder": "total descending",
         "domain": [
          0.16666666666666666,
          0.31333333333333335
         ],
         "showticklabels": true
        },
        "xaxis69": {
         "anchor": "y69",
         "categoryorder": "total descending",
         "domain": [
          0.3333333333333333,
          0.48
         ],
         "showticklabels": true
        },
        "xaxis7": {
         "anchor": "y7",
         "categoryorder": "total descending",
         "domain": [
          0,
          0.14666666666666667
         ],
         "showticklabels": true
        },
        "xaxis70": {
         "anchor": "y70",
         "categoryorder": "total descending",
         "domain": [
          0.5,
          0.6466666666666667
         ],
         "showticklabels": true
        },
        "xaxis71": {
         "anchor": "y71",
         "categoryorder": "total descending",
         "domain": [
          0.6666666666666666,
          0.8133333333333332
         ],
         "showticklabels": true
        },
        "xaxis72": {
         "anchor": "y72",
         "categoryorder": "total descending",
         "domain": [
          0.8333333333333334,
          0.98
         ],
         "showticklabels": true
        },
        "xaxis8": {
         "anchor": "y8",
         "categoryorder": "total descending",
         "domain": [
          0.16666666666666666,
          0.31333333333333335
         ],
         "showticklabels": true
        },
        "xaxis9": {
         "anchor": "y9",
         "categoryorder": "total descending",
         "domain": [
          0.3333333333333333,
          0.48
         ],
         "showticklabels": true
        },
        "yaxis": {
         "anchor": "x",
         "domain": [
          0,
          0.05583333333333333
         ],
         "showticklabels": true,
         "title": {
          "text": "count"
         }
        },
        "yaxis10": {
         "anchor": "x10",
         "domain": [
          0.08583333333333333,
          0.14166666666666666
         ],
         "showticklabels": true
        },
        "yaxis11": {
         "anchor": "x11",
         "domain": [
          0.08583333333333333,
          0.14166666666666666
         ],
         "showticklabels": true
        },
        "yaxis12": {
         "anchor": "x12",
         "domain": [
          0.08583333333333333,
          0.14166666666666666
         ],
         "showticklabels": true
        },
        "yaxis13": {
         "anchor": "x13",
         "domain": [
          0.17166666666666666,
          0.22749999999999998
         ],
         "showticklabels": true,
         "title": {
          "text": "count"
         }
        },
        "yaxis14": {
         "anchor": "x14",
         "domain": [
          0.17166666666666666,
          0.22749999999999998
         ],
         "showticklabels": true
        },
        "yaxis15": {
         "anchor": "x15",
         "domain": [
          0.17166666666666666,
          0.22749999999999998
         ],
         "showticklabels": true
        },
        "yaxis16": {
         "anchor": "x16",
         "domain": [
          0.17166666666666666,
          0.22749999999999998
         ],
         "showticklabels": true
        },
        "yaxis17": {
         "anchor": "x17",
         "domain": [
          0.17166666666666666,
          0.22749999999999998
         ],
         "showticklabels": true
        },
        "yaxis18": {
         "anchor": "x18",
         "domain": [
          0.17166666666666666,
          0.22749999999999998
         ],
         "showticklabels": true
        },
        "yaxis19": {
         "anchor": "x19",
         "domain": [
          0.25749999999999995,
          0.3133333333333333
         ],
         "showticklabels": true,
         "title": {
          "text": "count"
         }
        },
        "yaxis2": {
         "anchor": "x2",
         "domain": [
          0,
          0.05583333333333333
         ],
         "showticklabels": true
        },
        "yaxis20": {
         "anchor": "x20",
         "domain": [
          0.25749999999999995,
          0.3133333333333333
         ],
         "showticklabels": true
        },
        "yaxis21": {
         "anchor": "x21",
         "domain": [
          0.25749999999999995,
          0.3133333333333333
         ],
         "showticklabels": true
        },
        "yaxis22": {
         "anchor": "x22",
         "domain": [
          0.25749999999999995,
          0.3133333333333333
         ],
         "showticklabels": true
        },
        "yaxis23": {
         "anchor": "x23",
         "domain": [
          0.25749999999999995,
          0.3133333333333333
         ],
         "showticklabels": true
        },
        "yaxis24": {
         "anchor": "x24",
         "domain": [
          0.25749999999999995,
          0.3133333333333333
         ],
         "showticklabels": true
        },
        "yaxis25": {
         "anchor": "x25",
         "domain": [
          0.3433333333333333,
          0.39916666666666667
         ],
         "showticklabels": true,
         "title": {
          "text": "count"
         }
        },
        "yaxis26": {
         "anchor": "x26",
         "domain": [
          0.3433333333333333,
          0.39916666666666667
         ],
         "showticklabels": true
        },
        "yaxis27": {
         "anchor": "x27",
         "domain": [
          0.3433333333333333,
          0.39916666666666667
         ],
         "showticklabels": true
        },
        "yaxis28": {
         "anchor": "x28",
         "domain": [
          0.3433333333333333,
          0.39916666666666667
         ],
         "showticklabels": true
        },
        "yaxis29": {
         "anchor": "x29",
         "domain": [
          0.3433333333333333,
          0.39916666666666667
         ],
         "showticklabels": true
        },
        "yaxis3": {
         "anchor": "x3",
         "domain": [
          0,
          0.05583333333333333
         ],
         "showticklabels": true
        },
        "yaxis30": {
         "anchor": "x30",
         "domain": [
          0.3433333333333333,
          0.39916666666666667
         ],
         "showticklabels": true
        },
        "yaxis31": {
         "anchor": "x31",
         "domain": [
          0.4291666666666667,
          0.48500000000000004
         ],
         "showticklabels": true,
         "title": {
          "text": "count"
         }
        },
        "yaxis32": {
         "anchor": "x32",
         "domain": [
          0.4291666666666667,
          0.48500000000000004
         ],
         "showticklabels": true
        },
        "yaxis33": {
         "anchor": "x33",
         "domain": [
          0.4291666666666667,
          0.48500000000000004
         ],
         "showticklabels": true
        },
        "yaxis34": {
         "anchor": "x34",
         "domain": [
          0.4291666666666667,
          0.48500000000000004
         ],
         "showticklabels": true
        },
        "yaxis35": {
         "anchor": "x35",
         "domain": [
          0.4291666666666667,
          0.48500000000000004
         ],
         "showticklabels": true
        },
        "yaxis36": {
         "anchor": "x36",
         "domain": [
          0.4291666666666667,
          0.48500000000000004
         ],
         "showticklabels": true
        },
        "yaxis37": {
         "anchor": "x37",
         "domain": [
          0.515,
          0.5708333333333333
         ],
         "showticklabels": true,
         "title": {
          "text": "count"
         }
        },
        "yaxis38": {
         "anchor": "x38",
         "domain": [
          0.515,
          0.5708333333333333
         ],
         "showticklabels": true
        },
        "yaxis39": {
         "anchor": "x39",
         "domain": [
          0.515,
          0.5708333333333333
         ],
         "showticklabels": true
        },
        "yaxis4": {
         "anchor": "x4",
         "domain": [
          0,
          0.05583333333333333
         ],
         "showticklabels": true
        },
        "yaxis40": {
         "anchor": "x40",
         "domain": [
          0.515,
          0.5708333333333333
         ],
         "showticklabels": true
        },
        "yaxis41": {
         "anchor": "x41",
         "domain": [
          0.515,
          0.5708333333333333
         ],
         "showticklabels": true
        },
        "yaxis42": {
         "anchor": "x42",
         "domain": [
          0.515,
          0.5708333333333333
         ],
         "showticklabels": true
        },
        "yaxis43": {
         "anchor": "x43",
         "domain": [
          0.6008333333333333,
          0.6566666666666666
         ],
         "showticklabels": true,
         "title": {
          "text": "count"
         }
        },
        "yaxis44": {
         "anchor": "x44",
         "domain": [
          0.6008333333333333,
          0.6566666666666666
         ],
         "showticklabels": true
        },
        "yaxis45": {
         "anchor": "x45",
         "domain": [
          0.6008333333333333,
          0.6566666666666666
         ],
         "showticklabels": true
        },
        "yaxis46": {
         "anchor": "x46",
         "domain": [
          0.6008333333333333,
          0.6566666666666666
         ],
         "showticklabels": true
        },
        "yaxis47": {
         "anchor": "x47",
         "domain": [
          0.6008333333333333,
          0.6566666666666666
         ],
         "showticklabels": true
        },
        "yaxis48": {
         "anchor": "x48",
         "domain": [
          0.6008333333333333,
          0.6566666666666666
         ],
         "showticklabels": true
        },
        "yaxis49": {
         "anchor": "x49",
         "domain": [
          0.6866666666666668,
          0.7425
         ],
         "showticklabels": true,
         "title": {
          "text": "count"
         }
        },
        "yaxis5": {
         "anchor": "x5",
         "domain": [
          0,
          0.05583333333333333
         ],
         "showticklabels": true
        },
        "yaxis50": {
         "anchor": "x50",
         "domain": [
          0.6866666666666668,
          0.7425
         ],
         "showticklabels": true
        },
        "yaxis51": {
         "anchor": "x51",
         "domain": [
          0.6866666666666668,
          0.7425
         ],
         "showticklabels": true
        },
        "yaxis52": {
         "anchor": "x52",
         "domain": [
          0.6866666666666668,
          0.7425
         ],
         "showticklabels": true
        },
        "yaxis53": {
         "anchor": "x53",
         "domain": [
          0.6866666666666668,
          0.7425
         ],
         "showticklabels": true
        },
        "yaxis54": {
         "anchor": "x54",
         "domain": [
          0.6866666666666668,
          0.7425
         ],
         "showticklabels": true
        },
        "yaxis55": {
         "anchor": "x55",
         "domain": [
          0.7725000000000001,
          0.8283333333333334
         ],
         "showticklabels": true,
         "title": {
          "text": "count"
         }
        },
        "yaxis56": {
         "anchor": "x56",
         "domain": [
          0.7725000000000001,
          0.8283333333333334
         ],
         "showticklabels": true
        },
        "yaxis57": {
         "anchor": "x57",
         "domain": [
          0.7725000000000001,
          0.8283333333333334
         ],
         "showticklabels": true
        },
        "yaxis58": {
         "anchor": "x58",
         "domain": [
          0.7725000000000001,
          0.8283333333333334
         ],
         "showticklabels": true
        },
        "yaxis59": {
         "anchor": "x59",
         "domain": [
          0.7725000000000001,
          0.8283333333333334
         ],
         "showticklabels": true
        },
        "yaxis6": {
         "anchor": "x6",
         "domain": [
          0,
          0.05583333333333333
         ],
         "showticklabels": true
        },
        "yaxis60": {
         "anchor": "x60",
         "domain": [
          0.7725000000000001,
          0.8283333333333334
         ],
         "showticklabels": true
        },
        "yaxis61": {
         "anchor": "x61",
         "domain": [
          0.8583333333333334,
          0.9141666666666667
         ],
         "showticklabels": true,
         "title": {
          "text": "count"
         }
        },
        "yaxis62": {
         "anchor": "x62",
         "domain": [
          0.8583333333333334,
          0.9141666666666667
         ],
         "showticklabels": true
        },
        "yaxis63": {
         "anchor": "x63",
         "domain": [
          0.8583333333333334,
          0.9141666666666667
         ],
         "showticklabels": true
        },
        "yaxis64": {
         "anchor": "x64",
         "domain": [
          0.8583333333333334,
          0.9141666666666667
         ],
         "showticklabels": true
        },
        "yaxis65": {
         "anchor": "x65",
         "domain": [
          0.8583333333333334,
          0.9141666666666667
         ],
         "showticklabels": true
        },
        "yaxis66": {
         "anchor": "x66",
         "domain": [
          0.8583333333333334,
          0.9141666666666667
         ],
         "showticklabels": true
        },
        "yaxis67": {
         "anchor": "x67",
         "domain": [
          0.9441666666666666,
          0.9999999999999999
         ],
         "showticklabels": true,
         "title": {
          "text": "count"
         }
        },
        "yaxis68": {
         "anchor": "x68",
         "domain": [
          0.9441666666666666,
          0.9999999999999999
         ],
         "showticklabels": true
        },
        "yaxis69": {
         "anchor": "x69",
         "domain": [
          0.9441666666666666,
          0.9999999999999999
         ],
         "showticklabels": true
        },
        "yaxis7": {
         "anchor": "x7",
         "domain": [
          0.08583333333333333,
          0.14166666666666666
         ],
         "showticklabels": true,
         "title": {
          "text": "count"
         }
        },
        "yaxis70": {
         "anchor": "x70",
         "domain": [
          0.9441666666666666,
          0.9999999999999999
         ],
         "showticklabels": true
        },
        "yaxis71": {
         "anchor": "x71",
         "domain": [
          0.9441666666666666,
          0.9999999999999999
         ],
         "showticklabels": true
        },
        "yaxis72": {
         "anchor": "x72",
         "domain": [
          0.9441666666666666,
          0.9999999999999999
         ],
         "showticklabels": true
        },
        "yaxis8": {
         "anchor": "x8",
         "domain": [
          0.08583333333333333,
          0.14166666666666666
         ],
         "showticklabels": true
        },
        "yaxis9": {
         "anchor": "x9",
         "domain": [
          0.08583333333333333,
          0.14166666666666666
         ],
         "showticklabels": true
        }
       }
      }
     },
     "metadata": {},
     "output_type": "display_data"
    }
   ],
   "source": [
    "fig = px.bar(\n",
    "    top30_df,\n",
    "    x=\"word\",\n",
    "    y=\"count\",\n",
    "    facet_row=\"newspaper\",\n",
    "    facet_col=\"week\",\n",
    "    color=\"hot_topics\",\n",
    "    color_discrete_sequence=gruvbox_colors,\n",
    "    title=\"Top 30 words per newspaper per week\",\n",
    "    height=3200,\n",
    "    width=3200\n",
    "    )\n",
    "\n",
    "fig.for_each_annotation(lambda a: a.update(text=f\"{a.text.split('=')[-1]}\"))\n",
    "fig.update_xaxes(matches=None, showticklabels=True, categoryorder='total descending')\n",
    "fig.update_yaxes(matches=None, showticklabels=True)\n",
    "\n",
    "fig.write_html(f\"{BASE_DIR}/reports/top30_bar-{TIME_STAMPS[0]}-{TIME_STAMPS[-1]}.html\")\n",
    "\n",
    "fig.show()"
   ]
  },
  {
   "cell_type": "markdown",
   "metadata": {},
   "source": [
    "## Number of words\n",
    "\n",
    "### Analysis"
   ]
  },
  {
   "cell_type": "code",
   "execution_count": 113,
   "metadata": {},
   "outputs": [],
   "source": [
    "unique_list = []\n",
    "\n",
    "# Identify the non-zero items in the document-term matrix\n",
    "for newspaper in dtm_newspaper.columns:\n",
    "    uniques = dtm_newspaper[newspaper].to_numpy().nonzero()[0].size\n",
    "    unique_list.append(uniques)\n",
    "\n",
    "# Create a new datafra,e that contains this unique word count\n",
    "data_words = pd.DataFrame(list(zip(dtm_newspaper.columns, unique_list)), columns=['newspaper', 'unique_words'])\n",
    "data_words.set_index('newspaper', inplace=True)\n",
    "data_words.sort_values(by='unique_words', ascending=False)\n",
    "data_words.reset_index(inplace=True)"
   ]
  },
  {
   "cell_type": "code",
   "execution_count": 114,
   "metadata": {},
   "outputs": [],
   "source": [
    "data_words[[\"newspaper\", \"year_week\"]] = data_words[\"newspaper\"].str.split(r\"-\", expand=True)\n",
    "data_words[[\"year\", \"week\"]] = data_words[\"year_week\"].str.split(r\"_\", expand=True)\n",
    "\n",
    "data_words.drop([\"year_week\"], axis=1, inplace=True)\n",
    "\n",
    "data_words[\"year\"] = pd.to_numeric(data_words[\"year\"])\n",
    "data_words[\"week\"] = pd.to_numeric(data_words[\"week\"])"
   ]
  },
  {
   "cell_type": "code",
   "execution_count": 122,
   "metadata": {},
   "outputs": [
    {
     "data": {
      "text/html": [
       "<div>\n",
       "<style scoped>\n",
       "    .dataframe tbody tr th:only-of-type {\n",
       "        vertical-align: middle;\n",
       "    }\n",
       "\n",
       "    .dataframe tbody tr th {\n",
       "        vertical-align: top;\n",
       "    }\n",
       "\n",
       "    .dataframe thead th {\n",
       "        text-align: right;\n",
       "    }\n",
       "</style>\n",
       "<table border=\"1\" class=\"dataframe\">\n",
       "  <thead>\n",
       "    <tr style=\"text-align: right;\">\n",
       "      <th></th>\n",
       "      <th>newspaper</th>\n",
       "      <th>unique_words</th>\n",
       "      <th>year</th>\n",
       "      <th>week</th>\n",
       "    </tr>\n",
       "  </thead>\n",
       "  <tbody>\n",
       "    <tr>\n",
       "      <th>0</th>\n",
       "      <td>elcomercio_peru</td>\n",
       "      <td>2128</td>\n",
       "      <td>2022</td>\n",
       "      <td>34</td>\n",
       "    </tr>\n",
       "    <tr>\n",
       "      <th>1</th>\n",
       "      <td>larepublica_pe</td>\n",
       "      <td>4841</td>\n",
       "      <td>2022</td>\n",
       "      <td>34</td>\n",
       "    </tr>\n",
       "    <tr>\n",
       "      <th>2</th>\n",
       "      <td>peru21noticias</td>\n",
       "      <td>4087</td>\n",
       "      <td>2022</td>\n",
       "      <td>34</td>\n",
       "    </tr>\n",
       "    <tr>\n",
       "      <th>3</th>\n",
       "      <td>tromepe</td>\n",
       "      <td>3290</td>\n",
       "      <td>2022</td>\n",
       "      <td>34</td>\n",
       "    </tr>\n",
       "    <tr>\n",
       "      <th>4</th>\n",
       "      <td>Gestionpe</td>\n",
       "      <td>2187</td>\n",
       "      <td>2022</td>\n",
       "      <td>34</td>\n",
       "    </tr>\n",
       "  </tbody>\n",
       "</table>\n",
       "</div>"
      ],
      "text/plain": [
       "         newspaper  unique_words  year  week\n",
       "0  elcomercio_peru          2128  2022    34\n",
       "1   larepublica_pe          4841  2022    34\n",
       "2   peru21noticias          4087  2022    34\n",
       "3          tromepe          3290  2022    34\n",
       "4        Gestionpe          2187  2022    34"
      ]
     },
     "execution_count": 122,
     "metadata": {},
     "output_type": "execute_result"
    }
   ],
   "source": [
    "data_words.head()"
   ]
  },
  {
   "cell_type": "code",
   "execution_count": 123,
   "metadata": {},
   "outputs": [
    {
     "name": "stdout",
     "output_type": "stream",
     "text": [
      "<class 'pandas.core.frame.DataFrame'>\n",
      "RangeIndex: 72 entries, 0 to 71\n",
      "Data columns (total 4 columns):\n",
      " #   Column        Non-Null Count  Dtype \n",
      "---  ------        --------------  ----- \n",
      " 0   newspaper     72 non-null     object\n",
      " 1   unique_words  72 non-null     int64 \n",
      " 2   year          72 non-null     int64 \n",
      " 3   week          72 non-null     int64 \n",
      "dtypes: int64(3), object(1)\n",
      "memory usage: 2.4+ KB\n"
     ]
    }
   ],
   "source": [
    "data_words.info()"
   ]
  },
  {
   "cell_type": "markdown",
   "metadata": {},
   "source": [
    "since the number of unique words might be linked to the number of tweets, I will add a column with the number of tweets for each newspaper."
   ]
  },
  {
   "cell_type": "code",
   "execution_count": 118,
   "metadata": {},
   "outputs": [],
   "source": [
    "tweet_number = pd.DataFrame(corpus.groupby(by=[\"newspaper\", \"year\", \"week\"]).count()[\"id\"])\n",
    "tweet_number.rename(columns={'id':'tweet_number'}, inplace=True)"
   ]
  },
  {
   "cell_type": "code",
   "execution_count": 126,
   "metadata": {},
   "outputs": [],
   "source": [
    "tweet_number.reset_index(inplace=True)"
   ]
  },
  {
   "cell_type": "code",
   "execution_count": 127,
   "metadata": {},
   "outputs": [
    {
     "name": "stdout",
     "output_type": "stream",
     "text": [
      "<class 'pandas.core.frame.DataFrame'>\n",
      "RangeIndex: 70 entries, 0 to 69\n",
      "Data columns (total 5 columns):\n",
      " #   Column        Non-Null Count  Dtype \n",
      "---  ------        --------------  ----- \n",
      " 0   index         70 non-null     int64 \n",
      " 1   newspaper     70 non-null     object\n",
      " 2   year          70 non-null     UInt32\n",
      " 3   week          70 non-null     UInt32\n",
      " 4   tweet_number  70 non-null     int64 \n",
      "dtypes: UInt32(2), int64(2), object(1)\n",
      "memory usage: 2.4+ KB\n"
     ]
    }
   ],
   "source": [
    "tweet_number.info()"
   ]
  },
  {
   "cell_type": "code",
   "execution_count": 129,
   "metadata": {},
   "outputs": [],
   "source": [
    "data_words = data_words.merge(tweet_number)"
   ]
  },
  {
   "cell_type": "code",
   "execution_count": 130,
   "metadata": {},
   "outputs": [
    {
     "data": {
      "text/html": [
       "<div>\n",
       "<style scoped>\n",
       "    .dataframe tbody tr th:only-of-type {\n",
       "        vertical-align: middle;\n",
       "    }\n",
       "\n",
       "    .dataframe tbody tr th {\n",
       "        vertical-align: top;\n",
       "    }\n",
       "\n",
       "    .dataframe thead th {\n",
       "        text-align: right;\n",
       "    }\n",
       "</style>\n",
       "<table border=\"1\" class=\"dataframe\">\n",
       "  <thead>\n",
       "    <tr style=\"text-align: right;\">\n",
       "      <th></th>\n",
       "      <th>newspaper</th>\n",
       "      <th>unique_words</th>\n",
       "      <th>year</th>\n",
       "      <th>week</th>\n",
       "      <th>index</th>\n",
       "      <th>tweet_number</th>\n",
       "    </tr>\n",
       "  </thead>\n",
       "  <tbody>\n",
       "    <tr>\n",
       "      <th>0</th>\n",
       "      <td>elcomercio_peru</td>\n",
       "      <td>2128</td>\n",
       "      <td>2022</td>\n",
       "      <td>34</td>\n",
       "      <td>36</td>\n",
       "      <td>457</td>\n",
       "    </tr>\n",
       "    <tr>\n",
       "      <th>1</th>\n",
       "      <td>larepublica_pe</td>\n",
       "      <td>4841</td>\n",
       "      <td>2022</td>\n",
       "      <td>34</td>\n",
       "      <td>53</td>\n",
       "      <td>827</td>\n",
       "    </tr>\n",
       "    <tr>\n",
       "      <th>2</th>\n",
       "      <td>peru21noticias</td>\n",
       "      <td>4087</td>\n",
       "      <td>2022</td>\n",
       "      <td>34</td>\n",
       "      <td>59</td>\n",
       "      <td>961</td>\n",
       "    </tr>\n",
       "    <tr>\n",
       "      <th>3</th>\n",
       "      <td>tromepe</td>\n",
       "      <td>3290</td>\n",
       "      <td>2022</td>\n",
       "      <td>34</td>\n",
       "      <td>65</td>\n",
       "      <td>807</td>\n",
       "    </tr>\n",
       "    <tr>\n",
       "      <th>4</th>\n",
       "      <td>Gestionpe</td>\n",
       "      <td>2187</td>\n",
       "      <td>2022</td>\n",
       "      <td>34</td>\n",
       "      <td>13</td>\n",
       "      <td>848</td>\n",
       "    </tr>\n",
       "  </tbody>\n",
       "</table>\n",
       "</div>"
      ],
      "text/plain": [
       "         newspaper  unique_words  year  week  index  tweet_number\n",
       "0  elcomercio_peru          2128  2022    34     36           457\n",
       "1   larepublica_pe          4841  2022    34     53           827\n",
       "2   peru21noticias          4087  2022    34     59           961\n",
       "3          tromepe          3290  2022    34     65           807\n",
       "4        Gestionpe          2187  2022    34     13           848"
      ]
     },
     "execution_count": 130,
     "metadata": {},
     "output_type": "execute_result"
    }
   ],
   "source": [
    "data_words.head()"
   ]
  },
  {
   "cell_type": "code",
   "execution_count": 131,
   "metadata": {},
   "outputs": [
    {
     "name": "stdout",
     "output_type": "stream",
     "text": [
      "<class 'pandas.core.frame.DataFrame'>\n",
      "Int64Index: 70 entries, 0 to 69\n",
      "Data columns (total 6 columns):\n",
      " #   Column        Non-Null Count  Dtype \n",
      "---  ------        --------------  ----- \n",
      " 0   newspaper     70 non-null     object\n",
      " 1   unique_words  70 non-null     int64 \n",
      " 2   year          70 non-null     int64 \n",
      " 3   week          70 non-null     int64 \n",
      " 4   index         70 non-null     int64 \n",
      " 5   tweet_number  70 non-null     int64 \n",
      "dtypes: int64(5), object(1)\n",
      "memory usage: 3.8+ KB\n"
     ]
    }
   ],
   "source": [
    "data_words.info()"
   ]
  },
  {
   "cell_type": "code",
   "execution_count": 132,
   "metadata": {},
   "outputs": [
    {
     "data": {
      "text/html": [
       "<div>\n",
       "<style scoped>\n",
       "    .dataframe tbody tr th:only-of-type {\n",
       "        vertical-align: middle;\n",
       "    }\n",
       "\n",
       "    .dataframe tbody tr th {\n",
       "        vertical-align: top;\n",
       "    }\n",
       "\n",
       "    .dataframe thead th {\n",
       "        text-align: right;\n",
       "    }\n",
       "</style>\n",
       "<table border=\"1\" class=\"dataframe\">\n",
       "  <thead>\n",
       "    <tr style=\"text-align: right;\">\n",
       "      <th></th>\n",
       "      <th>newspaper</th>\n",
       "      <th>unique_words</th>\n",
       "      <th>year</th>\n",
       "      <th>week</th>\n",
       "      <th>index</th>\n",
       "      <th>tweet_number</th>\n",
       "      <th>word_tweet_ratio</th>\n",
       "    </tr>\n",
       "  </thead>\n",
       "  <tbody>\n",
       "    <tr>\n",
       "      <th>11</th>\n",
       "      <td>ensustrece</td>\n",
       "      <td>342</td>\n",
       "      <td>2022</td>\n",
       "      <td>34</td>\n",
       "      <td>41</td>\n",
       "      <td>24</td>\n",
       "      <td>14.25</td>\n",
       "    </tr>\n",
       "    <tr>\n",
       "      <th>57</th>\n",
       "      <td>ensustrece</td>\n",
       "      <td>261</td>\n",
       "      <td>2022</td>\n",
       "      <td>49</td>\n",
       "      <td>44</td>\n",
       "      <td>22</td>\n",
       "      <td>11.86</td>\n",
       "    </tr>\n",
       "    <tr>\n",
       "      <th>69</th>\n",
       "      <td>ensustrece</td>\n",
       "      <td>186</td>\n",
       "      <td>2023</td>\n",
       "      <td>2</td>\n",
       "      <td>45</td>\n",
       "      <td>16</td>\n",
       "      <td>11.62</td>\n",
       "    </tr>\n",
       "    <tr>\n",
       "      <th>33</th>\n",
       "      <td>ensustrece</td>\n",
       "      <td>215</td>\n",
       "      <td>2022</td>\n",
       "      <td>39</td>\n",
       "      <td>42</td>\n",
       "      <td>19</td>\n",
       "      <td>11.32</td>\n",
       "    </tr>\n",
       "    <tr>\n",
       "      <th>45</th>\n",
       "      <td>ensustrece</td>\n",
       "      <td>59</td>\n",
       "      <td>2022</td>\n",
       "      <td>44</td>\n",
       "      <td>43</td>\n",
       "      <td>6</td>\n",
       "      <td>9.83</td>\n",
       "    </tr>\n",
       "    <tr>\n",
       "      <th>...</th>\n",
       "      <td>...</td>\n",
       "      <td>...</td>\n",
       "      <td>...</td>\n",
       "      <td>...</td>\n",
       "      <td>...</td>\n",
       "      <td>...</td>\n",
       "      <td>...</td>\n",
       "    </tr>\n",
       "    <tr>\n",
       "      <th>62</th>\n",
       "      <td>Gestionpe</td>\n",
       "      <td>2421</td>\n",
       "      <td>2023</td>\n",
       "      <td>2</td>\n",
       "      <td>17</td>\n",
       "      <td>919</td>\n",
       "      <td>2.63</td>\n",
       "    </tr>\n",
       "    <tr>\n",
       "      <th>50</th>\n",
       "      <td>Gestionpe</td>\n",
       "      <td>2119</td>\n",
       "      <td>2022</td>\n",
       "      <td>49</td>\n",
       "      <td>16</td>\n",
       "      <td>809</td>\n",
       "      <td>2.62</td>\n",
       "    </tr>\n",
       "    <tr>\n",
       "      <th>4</th>\n",
       "      <td>Gestionpe</td>\n",
       "      <td>2187</td>\n",
       "      <td>2022</td>\n",
       "      <td>34</td>\n",
       "      <td>13</td>\n",
       "      <td>848</td>\n",
       "      <td>2.58</td>\n",
       "    </tr>\n",
       "    <tr>\n",
       "      <th>26</th>\n",
       "      <td>Gestionpe</td>\n",
       "      <td>2655</td>\n",
       "      <td>2022</td>\n",
       "      <td>39</td>\n",
       "      <td>14</td>\n",
       "      <td>1199</td>\n",
       "      <td>2.21</td>\n",
       "    </tr>\n",
       "    <tr>\n",
       "      <th>16</th>\n",
       "      <td>Gestionpe</td>\n",
       "      <td>2941</td>\n",
       "      <td>2022</td>\n",
       "      <td>33</td>\n",
       "      <td>12</td>\n",
       "      <td>1509</td>\n",
       "      <td>1.95</td>\n",
       "    </tr>\n",
       "  </tbody>\n",
       "</table>\n",
       "<p>70 rows × 7 columns</p>\n",
       "</div>"
      ],
      "text/plain": [
       "     newspaper  unique_words  year  week  index  tweet_number  \\\n",
       "11  ensustrece           342  2022    34     41            24   \n",
       "57  ensustrece           261  2022    49     44            22   \n",
       "69  ensustrece           186  2023     2     45            16   \n",
       "33  ensustrece           215  2022    39     42            19   \n",
       "45  ensustrece            59  2022    44     43             6   \n",
       "..         ...           ...   ...   ...    ...           ...   \n",
       "62   Gestionpe          2421  2023     2     17           919   \n",
       "50   Gestionpe          2119  2022    49     16           809   \n",
       "4    Gestionpe          2187  2022    34     13           848   \n",
       "26   Gestionpe          2655  2022    39     14          1199   \n",
       "16   Gestionpe          2941  2022    33     12          1509   \n",
       "\n",
       "    word_tweet_ratio  \n",
       "11             14.25  \n",
       "57             11.86  \n",
       "69             11.62  \n",
       "33             11.32  \n",
       "45              9.83  \n",
       "..               ...  \n",
       "62              2.63  \n",
       "50              2.62  \n",
       "4               2.58  \n",
       "26              2.21  \n",
       "16              1.95  \n",
       "\n",
       "[70 rows x 7 columns]"
      ]
     },
     "execution_count": 132,
     "metadata": {},
     "output_type": "execute_result"
    }
   ],
   "source": [
    "data_words[\"word_tweet_ratio\"] = data_words[\"unique_words\"]/data_words[\"tweet_number\"]\n",
    "data_words.sort_values(by='word_tweet_ratio', ascending=False)"
   ]
  },
  {
   "cell_type": "code",
   "execution_count": 133,
   "metadata": {},
   "outputs": [],
   "source": [
    "data_words.to_csv(f'{BASE_DIR}/reports/tables/words_tweets-{TIME_STAMPS[0]}-{TIME_STAMPS[-1]}.csv')"
   ]
  },
  {
   "cell_type": "code",
   "execution_count": 137,
   "metadata": {},
   "outputs": [
    {
     "data": {
      "application/vnd.plotly.v1+json": {
       "config": {
        "plotlyServerURL": "https://plot.ly"
       },
       "data": [
        {
         "hovertemplate": "newspaper=elcomercio_peru<br>week=34<br>unique_words=%{x}<br>tweet_number=%{y}<extra></extra>",
         "legendgroup": "elcomercio_peru",
         "marker": {
          "color": "#b8bb26",
          "symbol": "circle"
         },
         "mode": "markers",
         "name": "elcomercio_peru",
         "orientation": "v",
         "showlegend": true,
         "type": "scatter",
         "x": [
          2128
         ],
         "xaxis": "x",
         "y": [
          457
         ],
         "yaxis": "y"
        },
        {
         "hovertemplate": "newspaper=elcomercio_peru<br>week=33<br>unique_words=%{x}<br>tweet_number=%{y}<extra></extra>",
         "legendgroup": "elcomercio_peru",
         "marker": {
          "color": "#b8bb26",
          "symbol": "circle"
         },
         "mode": "markers",
         "name": "elcomercio_peru",
         "orientation": "v",
         "showlegend": false,
         "type": "scatter",
         "x": [
          2624
         ],
         "xaxis": "x2",
         "y": [
          584
         ],
         "yaxis": "y2"
        },
        {
         "hovertemplate": "newspaper=elcomercio_peru<br>week=39<br>unique_words=%{x}<br>tweet_number=%{y}<extra></extra>",
         "legendgroup": "elcomercio_peru",
         "marker": {
          "color": "#b8bb26",
          "symbol": "circle"
         },
         "mode": "markers",
         "name": "elcomercio_peru",
         "orientation": "v",
         "showlegend": false,
         "type": "scatter",
         "x": [
          2295
         ],
         "xaxis": "x3",
         "y": [
          512
         ],
         "yaxis": "y3"
        },
        {
         "hovertemplate": "newspaper=elcomercio_peru<br>week=44<br>unique_words=%{x}<br>tweet_number=%{y}<extra></extra>",
         "legendgroup": "elcomercio_peru",
         "marker": {
          "color": "#b8bb26",
          "symbol": "circle"
         },
         "mode": "markers",
         "name": "elcomercio_peru",
         "orientation": "v",
         "showlegend": false,
         "type": "scatter",
         "x": [
          2058
         ],
         "xaxis": "x4",
         "y": [
          433
         ],
         "yaxis": "y4"
        },
        {
         "hovertemplate": "newspaper=elcomercio_peru<br>week=49<br>unique_words=%{x}<br>tweet_number=%{y}<extra></extra>",
         "legendgroup": "elcomercio_peru",
         "marker": {
          "color": "#b8bb26",
          "symbol": "circle"
         },
         "mode": "markers",
         "name": "elcomercio_peru",
         "orientation": "v",
         "showlegend": false,
         "type": "scatter",
         "x": [
          2042
         ],
         "xaxis": "x5",
         "y": [
          442
         ],
         "yaxis": "y5"
        },
        {
         "hovertemplate": "newspaper=elcomercio_peru<br>week=2<br>unique_words=%{x}<br>tweet_number=%{y}<extra></extra>",
         "legendgroup": "elcomercio_peru",
         "marker": {
          "color": "#b8bb26",
          "symbol": "circle"
         },
         "mode": "markers",
         "name": "elcomercio_peru",
         "orientation": "v",
         "showlegend": false,
         "type": "scatter",
         "x": [
          2142
         ],
         "xaxis": "x6",
         "y": [
          462
         ],
         "yaxis": "y6"
        },
        {
         "hovertemplate": "newspaper=larepublica_pe<br>week=34<br>unique_words=%{x}<br>tweet_number=%{y}<extra></extra>",
         "legendgroup": "larepublica_pe",
         "marker": {
          "color": "#458588",
          "symbol": "circle"
         },
         "mode": "markers",
         "name": "larepublica_pe",
         "orientation": "v",
         "showlegend": true,
         "type": "scatter",
         "x": [
          4841
         ],
         "xaxis": "x",
         "y": [
          827
         ],
         "yaxis": "y"
        },
        {
         "hovertemplate": "newspaper=larepublica_pe<br>week=33<br>unique_words=%{x}<br>tweet_number=%{y}<extra></extra>",
         "legendgroup": "larepublica_pe",
         "marker": {
          "color": "#458588",
          "symbol": "circle"
         },
         "mode": "markers",
         "name": "larepublica_pe",
         "orientation": "v",
         "showlegend": false,
         "type": "scatter",
         "x": [
          6011
         ],
         "xaxis": "x2",
         "y": [
          1117
         ],
         "yaxis": "y2"
        },
        {
         "hovertemplate": "newspaper=larepublica_pe<br>week=39<br>unique_words=%{x}<br>tweet_number=%{y}<extra></extra>",
         "legendgroup": "larepublica_pe",
         "marker": {
          "color": "#458588",
          "symbol": "circle"
         },
         "mode": "markers",
         "name": "larepublica_pe",
         "orientation": "v",
         "showlegend": false,
         "type": "scatter",
         "x": [
          4681
         ],
         "xaxis": "x3",
         "y": [
          834
         ],
         "yaxis": "y3"
        },
        {
         "hovertemplate": "newspaper=larepublica_pe<br>week=44<br>unique_words=%{x}<br>tweet_number=%{y}<extra></extra>",
         "legendgroup": "larepublica_pe",
         "marker": {
          "color": "#458588",
          "symbol": "circle"
         },
         "mode": "markers",
         "name": "larepublica_pe",
         "orientation": "v",
         "showlegend": false,
         "type": "scatter",
         "x": [
          4298
         ],
         "xaxis": "x4",
         "y": [
          691
         ],
         "yaxis": "y4"
        },
        {
         "hovertemplate": "newspaper=larepublica_pe<br>week=49<br>unique_words=%{x}<br>tweet_number=%{y}<extra></extra>",
         "legendgroup": "larepublica_pe",
         "marker": {
          "color": "#458588",
          "symbol": "circle"
         },
         "mode": "markers",
         "name": "larepublica_pe",
         "orientation": "v",
         "showlegend": false,
         "type": "scatter",
         "x": [
          4450
         ],
         "xaxis": "x5",
         "y": [
          924
         ],
         "yaxis": "y5"
        },
        {
         "hovertemplate": "newspaper=larepublica_pe<br>week=2<br>unique_words=%{x}<br>tweet_number=%{y}<extra></extra>",
         "legendgroup": "larepublica_pe",
         "marker": {
          "color": "#458588",
          "symbol": "circle"
         },
         "mode": "markers",
         "name": "larepublica_pe",
         "orientation": "v",
         "showlegend": false,
         "type": "scatter",
         "x": [
          3814
         ],
         "xaxis": "x6",
         "y": [
          679
         ],
         "yaxis": "y6"
        },
        {
         "hovertemplate": "newspaper=peru21noticias<br>week=34<br>unique_words=%{x}<br>tweet_number=%{y}<extra></extra>",
         "legendgroup": "peru21noticias",
         "marker": {
          "color": "#fb4943",
          "symbol": "circle"
         },
         "mode": "markers",
         "name": "peru21noticias",
         "orientation": "v",
         "showlegend": true,
         "type": "scatter",
         "x": [
          4087
         ],
         "xaxis": "x",
         "y": [
          961
         ],
         "yaxis": "y"
        },
        {
         "hovertemplate": "newspaper=peru21noticias<br>week=33<br>unique_words=%{x}<br>tweet_number=%{y}<extra></extra>",
         "legendgroup": "peru21noticias",
         "marker": {
          "color": "#fb4943",
          "symbol": "circle"
         },
         "mode": "markers",
         "name": "peru21noticias",
         "orientation": "v",
         "showlegend": false,
         "type": "scatter",
         "x": [
          5177
         ],
         "xaxis": "x2",
         "y": [
          1287
         ],
         "yaxis": "y2"
        },
        {
         "hovertemplate": "newspaper=peru21noticias<br>week=39<br>unique_words=%{x}<br>tweet_number=%{y}<extra></extra>",
         "legendgroup": "peru21noticias",
         "marker": {
          "color": "#fb4943",
          "symbol": "circle"
         },
         "mode": "markers",
         "name": "peru21noticias",
         "orientation": "v",
         "showlegend": false,
         "type": "scatter",
         "x": [
          4190
         ],
         "xaxis": "x3",
         "y": [
          970
         ],
         "yaxis": "y3"
        },
        {
         "hovertemplate": "newspaper=peru21noticias<br>week=44<br>unique_words=%{x}<br>tweet_number=%{y}<extra></extra>",
         "legendgroup": "peru21noticias",
         "marker": {
          "color": "#fb4943",
          "symbol": "circle"
         },
         "mode": "markers",
         "name": "peru21noticias",
         "orientation": "v",
         "showlegend": false,
         "type": "scatter",
         "x": [
          3532
         ],
         "xaxis": "x4",
         "y": [
          752
         ],
         "yaxis": "y4"
        },
        {
         "hovertemplate": "newspaper=peru21noticias<br>week=49<br>unique_words=%{x}<br>tweet_number=%{y}<extra></extra>",
         "legendgroup": "peru21noticias",
         "marker": {
          "color": "#fb4943",
          "symbol": "circle"
         },
         "mode": "markers",
         "name": "peru21noticias",
         "orientation": "v",
         "showlegend": false,
         "type": "scatter",
         "x": [
          4022
         ],
         "xaxis": "x5",
         "y": [
          1064
         ],
         "yaxis": "y5"
        },
        {
         "hovertemplate": "newspaper=peru21noticias<br>week=2<br>unique_words=%{x}<br>tweet_number=%{y}<extra></extra>",
         "legendgroup": "peru21noticias",
         "marker": {
          "color": "#fb4943",
          "symbol": "circle"
         },
         "mode": "markers",
         "name": "peru21noticias",
         "orientation": "v",
         "showlegend": false,
         "type": "scatter",
         "x": [
          2513
         ],
         "xaxis": "x6",
         "y": [
          525
         ],
         "yaxis": "y6"
        },
        {
         "hovertemplate": "newspaper=tromepe<br>week=34<br>unique_words=%{x}<br>tweet_number=%{y}<extra></extra>",
         "legendgroup": "tromepe",
         "marker": {
          "color": "#076678",
          "symbol": "circle"
         },
         "mode": "markers",
         "name": "tromepe",
         "orientation": "v",
         "showlegend": true,
         "type": "scatter",
         "x": [
          3290
         ],
         "xaxis": "x",
         "y": [
          807
         ],
         "yaxis": "y"
        },
        {
         "hovertemplate": "newspaper=tromepe<br>week=33<br>unique_words=%{x}<br>tweet_number=%{y}<extra></extra>",
         "legendgroup": "tromepe",
         "marker": {
          "color": "#076678",
          "symbol": "circle"
         },
         "mode": "markers",
         "name": "tromepe",
         "orientation": "v",
         "showlegend": false,
         "type": "scatter",
         "x": [
          4204
         ],
         "xaxis": "x2",
         "y": [
          1095
         ],
         "yaxis": "y2"
        },
        {
         "hovertemplate": "newspaper=tromepe<br>week=39<br>unique_words=%{x}<br>tweet_number=%{y}<extra></extra>",
         "legendgroup": "tromepe",
         "marker": {
          "color": "#076678",
          "symbol": "circle"
         },
         "mode": "markers",
         "name": "tromepe",
         "orientation": "v",
         "showlegend": false,
         "type": "scatter",
         "x": [
          3684
         ],
         "xaxis": "x3",
         "y": [
          956
         ],
         "yaxis": "y3"
        },
        {
         "hovertemplate": "newspaper=tromepe<br>week=44<br>unique_words=%{x}<br>tweet_number=%{y}<extra></extra>",
         "legendgroup": "tromepe",
         "marker": {
          "color": "#076678",
          "symbol": "circle"
         },
         "mode": "markers",
         "name": "tromepe",
         "orientation": "v",
         "showlegend": false,
         "type": "scatter",
         "x": [
          3179
         ],
         "xaxis": "x4",
         "y": [
          759
         ],
         "yaxis": "y4"
        },
        {
         "hovertemplate": "newspaper=tromepe<br>week=49<br>unique_words=%{x}<br>tweet_number=%{y}<extra></extra>",
         "legendgroup": "tromepe",
         "marker": {
          "color": "#076678",
          "symbol": "circle"
         },
         "mode": "markers",
         "name": "tromepe",
         "orientation": "v",
         "showlegend": false,
         "type": "scatter",
         "x": [
          3502
         ],
         "xaxis": "x5",
         "y": [
          922
         ],
         "yaxis": "y5"
        },
        {
         "hovertemplate": "newspaper=tromepe<br>week=2<br>unique_words=%{x}<br>tweet_number=%{y}<extra></extra>",
         "legendgroup": "tromepe",
         "marker": {
          "color": "#076678",
          "symbol": "circle"
         },
         "mode": "markers",
         "name": "tromepe",
         "orientation": "v",
         "showlegend": false,
         "type": "scatter",
         "x": [
          2685
         ],
         "xaxis": "x6",
         "y": [
          628
         ],
         "yaxis": "y6"
        },
        {
         "hovertemplate": "newspaper=Gestionpe<br>week=34<br>unique_words=%{x}<br>tweet_number=%{y}<extra></extra>",
         "legendgroup": "Gestionpe",
         "marker": {
          "color": "#b57614",
          "symbol": "circle"
         },
         "mode": "markers",
         "name": "Gestionpe",
         "orientation": "v",
         "showlegend": true,
         "type": "scatter",
         "x": [
          2187
         ],
         "xaxis": "x",
         "y": [
          848
         ],
         "yaxis": "y"
        },
        {
         "hovertemplate": "newspaper=Gestionpe<br>week=33<br>unique_words=%{x}<br>tweet_number=%{y}<extra></extra>",
         "legendgroup": "Gestionpe",
         "marker": {
          "color": "#b57614",
          "symbol": "circle"
         },
         "mode": "markers",
         "name": "Gestionpe",
         "orientation": "v",
         "showlegend": false,
         "type": "scatter",
         "x": [
          2941
         ],
         "xaxis": "x2",
         "y": [
          1509
         ],
         "yaxis": "y2"
        },
        {
         "hovertemplate": "newspaper=Gestionpe<br>week=39<br>unique_words=%{x}<br>tweet_number=%{y}<extra></extra>",
         "legendgroup": "Gestionpe",
         "marker": {
          "color": "#b57614",
          "symbol": "circle"
         },
         "mode": "markers",
         "name": "Gestionpe",
         "orientation": "v",
         "showlegend": false,
         "type": "scatter",
         "x": [
          2655
         ],
         "xaxis": "x3",
         "y": [
          1199
         ],
         "yaxis": "y3"
        },
        {
         "hovertemplate": "newspaper=Gestionpe<br>week=44<br>unique_words=%{x}<br>tweet_number=%{y}<extra></extra>",
         "legendgroup": "Gestionpe",
         "marker": {
          "color": "#b57614",
          "symbol": "circle"
         },
         "mode": "markers",
         "name": "Gestionpe",
         "orientation": "v",
         "showlegend": false,
         "type": "scatter",
         "x": [
          2167
         ],
         "xaxis": "x4",
         "y": [
          800
         ],
         "yaxis": "y4"
        },
        {
         "hovertemplate": "newspaper=Gestionpe<br>week=49<br>unique_words=%{x}<br>tweet_number=%{y}<extra></extra>",
         "legendgroup": "Gestionpe",
         "marker": {
          "color": "#b57614",
          "symbol": "circle"
         },
         "mode": "markers",
         "name": "Gestionpe",
         "orientation": "v",
         "showlegend": false,
         "type": "scatter",
         "x": [
          2119
         ],
         "xaxis": "x5",
         "y": [
          809
         ],
         "yaxis": "y5"
        },
        {
         "hovertemplate": "newspaper=Gestionpe<br>week=2<br>unique_words=%{x}<br>tweet_number=%{y}<extra></extra>",
         "legendgroup": "Gestionpe",
         "marker": {
          "color": "#b57614",
          "symbol": "circle"
         },
         "mode": "markers",
         "name": "Gestionpe",
         "orientation": "v",
         "showlegend": false,
         "type": "scatter",
         "x": [
          2421
         ],
         "xaxis": "x6",
         "y": [
          919
         ],
         "yaxis": "y6"
        },
        {
         "hovertemplate": "newspaper=diariocorreo<br>week=34<br>unique_words=%{x}<br>tweet_number=%{y}<extra></extra>",
         "legendgroup": "diariocorreo",
         "marker": {
          "color": "#79740e",
          "symbol": "circle"
         },
         "mode": "markers",
         "name": "diariocorreo",
         "orientation": "v",
         "showlegend": true,
         "type": "scatter",
         "x": [
          2046
         ],
         "xaxis": "x",
         "y": [
          474
         ],
         "yaxis": "y"
        },
        {
         "hovertemplate": "newspaper=diariocorreo<br>week=33<br>unique_words=%{x}<br>tweet_number=%{y}<extra></extra>",
         "legendgroup": "diariocorreo",
         "marker": {
          "color": "#79740e",
          "symbol": "circle"
         },
         "mode": "markers",
         "name": "diariocorreo",
         "orientation": "v",
         "showlegend": false,
         "type": "scatter",
         "x": [
          3022
         ],
         "xaxis": "x2",
         "y": [
          793
         ],
         "yaxis": "y2"
        },
        {
         "hovertemplate": "newspaper=diariocorreo<br>week=39<br>unique_words=%{x}<br>tweet_number=%{y}<extra></extra>",
         "legendgroup": "diariocorreo",
         "marker": {
          "color": "#79740e",
          "symbol": "circle"
         },
         "mode": "markers",
         "name": "diariocorreo",
         "orientation": "v",
         "showlegend": false,
         "type": "scatter",
         "x": [
          2541
         ],
         "xaxis": "x3",
         "y": [
          614
         ],
         "yaxis": "y3"
        },
        {
         "hovertemplate": "newspaper=diariocorreo<br>week=44<br>unique_words=%{x}<br>tweet_number=%{y}<extra></extra>",
         "legendgroup": "diariocorreo",
         "marker": {
          "color": "#79740e",
          "symbol": "circle"
         },
         "mode": "markers",
         "name": "diariocorreo",
         "orientation": "v",
         "showlegend": false,
         "type": "scatter",
         "x": [
          2055
         ],
         "xaxis": "x4",
         "y": [
          457
         ],
         "yaxis": "y4"
        },
        {
         "hovertemplate": "newspaper=diariocorreo<br>week=49<br>unique_words=%{x}<br>tweet_number=%{y}<extra></extra>",
         "legendgroup": "diariocorreo",
         "marker": {
          "color": "#79740e",
          "symbol": "circle"
         },
         "mode": "markers",
         "name": "diariocorreo",
         "orientation": "v",
         "showlegend": false,
         "type": "scatter",
         "x": [
          2077
         ],
         "xaxis": "x5",
         "y": [
          529
         ],
         "yaxis": "y5"
        },
        {
         "hovertemplate": "newspaper=diariocorreo<br>week=2<br>unique_words=%{x}<br>tweet_number=%{y}<extra></extra>",
         "legendgroup": "diariocorreo",
         "marker": {
          "color": "#79740e",
          "symbol": "circle"
         },
         "mode": "markers",
         "name": "diariocorreo",
         "orientation": "v",
         "showlegend": false,
         "type": "scatter",
         "x": [
          1423
         ],
         "xaxis": "x6",
         "y": [
          308
         ],
         "yaxis": "y6"
        },
        {
         "hovertemplate": "newspaper=ExpresoPeru<br>week=34<br>unique_words=%{x}<br>tweet_number=%{y}<extra></extra>",
         "legendgroup": "ExpresoPeru",
         "marker": {
          "color": "#fabd2f",
          "symbol": "circle"
         },
         "mode": "markers",
         "name": "ExpresoPeru",
         "orientation": "v",
         "showlegend": true,
         "type": "scatter",
         "x": [
          956
         ],
         "xaxis": "x",
         "y": [
          208
         ],
         "yaxis": "y"
        },
        {
         "hovertemplate": "newspaper=ExpresoPeru<br>week=33<br>unique_words=%{x}<br>tweet_number=%{y}<extra></extra>",
         "legendgroup": "ExpresoPeru",
         "marker": {
          "color": "#fabd2f",
          "symbol": "circle"
         },
         "mode": "markers",
         "name": "ExpresoPeru",
         "orientation": "v",
         "showlegend": false,
         "type": "scatter",
         "x": [
          1189
         ],
         "xaxis": "x2",
         "y": [
          287
         ],
         "yaxis": "y2"
        },
        {
         "hovertemplate": "newspaper=ExpresoPeru<br>week=39<br>unique_words=%{x}<br>tweet_number=%{y}<extra></extra>",
         "legendgroup": "ExpresoPeru",
         "marker": {
          "color": "#fabd2f",
          "symbol": "circle"
         },
         "mode": "markers",
         "name": "ExpresoPeru",
         "orientation": "v",
         "showlegend": false,
         "type": "scatter",
         "x": [
          1145
         ],
         "xaxis": "x3",
         "y": [
          259
         ],
         "yaxis": "y3"
        },
        {
         "hovertemplate": "newspaper=ExpresoPeru<br>week=44<br>unique_words=%{x}<br>tweet_number=%{y}<extra></extra>",
         "legendgroup": "ExpresoPeru",
         "marker": {
          "color": "#fabd2f",
          "symbol": "circle"
         },
         "mode": "markers",
         "name": "ExpresoPeru",
         "orientation": "v",
         "showlegend": false,
         "type": "scatter",
         "x": [
          936
         ],
         "xaxis": "x4",
         "y": [
          195
         ],
         "yaxis": "y4"
        },
        {
         "hovertemplate": "newspaper=ExpresoPeru<br>week=49<br>unique_words=%{x}<br>tweet_number=%{y}<extra></extra>",
         "legendgroup": "ExpresoPeru",
         "marker": {
          "color": "#fabd2f",
          "symbol": "circle"
         },
         "mode": "markers",
         "name": "ExpresoPeru",
         "orientation": "v",
         "showlegend": false,
         "type": "scatter",
         "x": [
          1066
         ],
         "xaxis": "x5",
         "y": [
          250
         ],
         "yaxis": "y5"
        },
        {
         "hovertemplate": "newspaper=ExpresoPeru<br>week=2<br>unique_words=%{x}<br>tweet_number=%{y}<extra></extra>",
         "legendgroup": "ExpresoPeru",
         "marker": {
          "color": "#fabd2f",
          "symbol": "circle"
         },
         "mode": "markers",
         "name": "ExpresoPeru",
         "orientation": "v",
         "showlegend": false,
         "type": "scatter",
         "x": [
          1105
         ],
         "xaxis": "x6",
         "y": [
          255
         ],
         "yaxis": "y6"
        },
        {
         "hovertemplate": "newspaper=diarioojo<br>week=34<br>unique_words=%{x}<br>tweet_number=%{y}<extra></extra>",
         "legendgroup": "diarioojo",
         "marker": {
          "color": "#4d7b58",
          "symbol": "circle"
         },
         "mode": "markers",
         "name": "diarioojo",
         "orientation": "v",
         "showlegend": true,
         "type": "scatter",
         "x": [
          2466
         ],
         "xaxis": "x",
         "y": [
          555
         ],
         "yaxis": "y"
        },
        {
         "hovertemplate": "newspaper=diarioojo<br>week=33<br>unique_words=%{x}<br>tweet_number=%{y}<extra></extra>",
         "legendgroup": "diarioojo",
         "marker": {
          "color": "#4d7b58",
          "symbol": "circle"
         },
         "mode": "markers",
         "name": "diarioojo",
         "orientation": "v",
         "showlegend": false,
         "type": "scatter",
         "x": [
          3245
         ],
         "xaxis": "x2",
         "y": [
          793
         ],
         "yaxis": "y2"
        },
        {
         "hovertemplate": "newspaper=diarioojo<br>week=39<br>unique_words=%{x}<br>tweet_number=%{y}<extra></extra>",
         "legendgroup": "diarioojo",
         "marker": {
          "color": "#4d7b58",
          "symbol": "circle"
         },
         "mode": "markers",
         "name": "diarioojo",
         "orientation": "v",
         "showlegend": false,
         "type": "scatter",
         "x": [
          2411
         ],
         "xaxis": "x3",
         "y": [
          550
         ],
         "yaxis": "y3"
        },
        {
         "hovertemplate": "newspaper=diarioojo<br>week=44<br>unique_words=%{x}<br>tweet_number=%{y}<extra></extra>",
         "legendgroup": "diarioojo",
         "marker": {
          "color": "#4d7b58",
          "symbol": "circle"
         },
         "mode": "markers",
         "name": "diarioojo",
         "orientation": "v",
         "showlegend": false,
         "type": "scatter",
         "x": [
          2447
         ],
         "xaxis": "x4",
         "y": [
          555
         ],
         "yaxis": "y4"
        },
        {
         "hovertemplate": "newspaper=diarioojo<br>week=49<br>unique_words=%{x}<br>tweet_number=%{y}<extra></extra>",
         "legendgroup": "diarioojo",
         "marker": {
          "color": "#4d7b58",
          "symbol": "circle"
         },
         "mode": "markers",
         "name": "diarioojo",
         "orientation": "v",
         "showlegend": false,
         "type": "scatter",
         "x": [
          2433
         ],
         "xaxis": "x5",
         "y": [
          574
         ],
         "yaxis": "y5"
        },
        {
         "hovertemplate": "newspaper=diarioojo<br>week=2<br>unique_words=%{x}<br>tweet_number=%{y}<extra></extra>",
         "legendgroup": "diarioojo",
         "marker": {
          "color": "#4d7b58",
          "symbol": "circle"
         },
         "mode": "markers",
         "name": "diarioojo",
         "orientation": "v",
         "showlegend": false,
         "type": "scatter",
         "x": [
          1490
         ],
         "xaxis": "x6",
         "y": [
          329
         ],
         "yaxis": "y6"
        },
        {
         "hovertemplate": "newspaper=DiarioElPeruano<br>week=34<br>unique_words=%{x}<br>tweet_number=%{y}<extra></extra>",
         "legendgroup": "DiarioElPeruano",
         "marker": {
          "color": "#b16286",
          "symbol": "circle"
         },
         "mode": "markers",
         "name": "DiarioElPeruano",
         "orientation": "v",
         "showlegend": true,
         "type": "scatter",
         "x": [
          1745
         ],
         "xaxis": "x",
         "y": [
          200
         ],
         "yaxis": "y"
        },
        {
         "hovertemplate": "newspaper=DiarioElPeruano<br>week=33<br>unique_words=%{x}<br>tweet_number=%{y}<extra></extra>",
         "legendgroup": "DiarioElPeruano",
         "marker": {
          "color": "#b16286",
          "symbol": "circle"
         },
         "mode": "markers",
         "name": "DiarioElPeruano",
         "orientation": "v",
         "showlegend": false,
         "type": "scatter",
         "x": [
          1883
         ],
         "xaxis": "x2",
         "y": [
          229
         ],
         "yaxis": "y2"
        },
        {
         "hovertemplate": "newspaper=DiarioElPeruano<br>week=39<br>unique_words=%{x}<br>tweet_number=%{y}<extra></extra>",
         "legendgroup": "DiarioElPeruano",
         "marker": {
          "color": "#b16286",
          "symbol": "circle"
         },
         "mode": "markers",
         "name": "DiarioElPeruano",
         "orientation": "v",
         "showlegend": false,
         "type": "scatter",
         "x": [
          1811
         ],
         "xaxis": "x3",
         "y": [
          226
         ],
         "yaxis": "y3"
        },
        {
         "hovertemplate": "newspaper=DiarioElPeruano<br>week=44<br>unique_words=%{x}<br>tweet_number=%{y}<extra></extra>",
         "legendgroup": "DiarioElPeruano",
         "marker": {
          "color": "#b16286",
          "symbol": "circle"
         },
         "mode": "markers",
         "name": "DiarioElPeruano",
         "orientation": "v",
         "showlegend": false,
         "type": "scatter",
         "x": [
          1729
         ],
         "xaxis": "x4",
         "y": [
          186
         ],
         "yaxis": "y4"
        },
        {
         "hovertemplate": "newspaper=DiarioElPeruano<br>week=49<br>unique_words=%{x}<br>tweet_number=%{y}<extra></extra>",
         "legendgroup": "DiarioElPeruano",
         "marker": {
          "color": "#b16286",
          "symbol": "circle"
         },
         "mode": "markers",
         "name": "DiarioElPeruano",
         "orientation": "v",
         "showlegend": false,
         "type": "scatter",
         "x": [
          1623
         ],
         "xaxis": "x5",
         "y": [
          201
         ],
         "yaxis": "y5"
        },
        {
         "hovertemplate": "newspaper=DiarioElPeruano<br>week=2<br>unique_words=%{x}<br>tweet_number=%{y}<extra></extra>",
         "legendgroup": "DiarioElPeruano",
         "marker": {
          "color": "#b16286",
          "symbol": "circle"
         },
         "mode": "markers",
         "name": "DiarioElPeruano",
         "orientation": "v",
         "showlegend": false,
         "type": "scatter",
         "x": [
          1700
         ],
         "xaxis": "x6",
         "y": [
          216
         ],
         "yaxis": "y6"
        },
        {
         "hovertemplate": "newspaper=larazon_pe<br>week=34<br>unique_words=%{x}<br>tweet_number=%{y}<extra></extra>",
         "legendgroup": "larazon_pe",
         "marker": {
          "color": "#af3a03",
          "symbol": "circle"
         },
         "mode": "markers",
         "name": "larazon_pe",
         "orientation": "v",
         "showlegend": true,
         "type": "scatter",
         "x": [
          192
         ],
         "xaxis": "x",
         "y": [
          60
         ],
         "yaxis": "y"
        },
        {
         "hovertemplate": "newspaper=larazon_pe<br>week=33<br>unique_words=%{x}<br>tweet_number=%{y}<extra></extra>",
         "legendgroup": "larazon_pe",
         "marker": {
          "color": "#af3a03",
          "symbol": "circle"
         },
         "mode": "markers",
         "name": "larazon_pe",
         "orientation": "v",
         "showlegend": false,
         "type": "scatter",
         "x": [
          456
         ],
         "xaxis": "x2",
         "y": [
          106
         ],
         "yaxis": "y2"
        },
        {
         "hovertemplate": "newspaper=larazon_pe<br>week=39<br>unique_words=%{x}<br>tweet_number=%{y}<extra></extra>",
         "legendgroup": "larazon_pe",
         "marker": {
          "color": "#af3a03",
          "symbol": "circle"
         },
         "mode": "markers",
         "name": "larazon_pe",
         "orientation": "v",
         "showlegend": false,
         "type": "scatter",
         "x": [
          362
         ],
         "xaxis": "x3",
         "y": [
          58
         ],
         "yaxis": "y3"
        },
        {
         "hovertemplate": "newspaper=larazon_pe<br>week=44<br>unique_words=%{x}<br>tweet_number=%{y}<extra></extra>",
         "legendgroup": "larazon_pe",
         "marker": {
          "color": "#af3a03",
          "symbol": "circle"
         },
         "mode": "markers",
         "name": "larazon_pe",
         "orientation": "v",
         "showlegend": false,
         "type": "scatter",
         "x": [
          460
         ],
         "xaxis": "x4",
         "y": [
          57
         ],
         "yaxis": "y4"
        },
        {
         "hovertemplate": "newspaper=larazon_pe<br>week=49<br>unique_words=%{x}<br>tweet_number=%{y}<extra></extra>",
         "legendgroup": "larazon_pe",
         "marker": {
          "color": "#af3a03",
          "symbol": "circle"
         },
         "mode": "markers",
         "name": "larazon_pe",
         "orientation": "v",
         "showlegend": false,
         "type": "scatter",
         "x": [
          544
         ],
         "xaxis": "x5",
         "y": [
          70
         ],
         "yaxis": "y5"
        },
        {
         "hovertemplate": "newspaper=larazon_pe<br>week=2<br>unique_words=%{x}<br>tweet_number=%{y}<extra></extra>",
         "legendgroup": "larazon_pe",
         "marker": {
          "color": "#af3a03",
          "symbol": "circle"
         },
         "mode": "markers",
         "name": "larazon_pe",
         "orientation": "v",
         "showlegend": false,
         "type": "scatter",
         "x": [
          402
         ],
         "xaxis": "x6",
         "y": [
          57
         ],
         "yaxis": "y6"
        },
        {
         "hovertemplate": "newspaper=elbuho_pe<br>week=34<br>unique_words=%{x}<br>tweet_number=%{y}<extra></extra>",
         "legendgroup": "elbuho_pe",
         "marker": {
          "color": "#83a598",
          "symbol": "circle"
         },
         "mode": "markers",
         "name": "elbuho_pe",
         "orientation": "v",
         "showlegend": true,
         "type": "scatter",
         "x": [
          474
         ],
         "xaxis": "x",
         "y": [
          58
         ],
         "yaxis": "y"
        },
        {
         "hovertemplate": "newspaper=elbuho_pe<br>week=39<br>unique_words=%{x}<br>tweet_number=%{y}<extra></extra>",
         "legendgroup": "elbuho_pe",
         "marker": {
          "color": "#83a598",
          "symbol": "circle"
         },
         "mode": "markers",
         "name": "elbuho_pe",
         "orientation": "v",
         "showlegend": false,
         "type": "scatter",
         "x": [
          535
         ],
         "xaxis": "x3",
         "y": [
          97
         ],
         "yaxis": "y3"
        },
        {
         "hovertemplate": "newspaper=elbuho_pe<br>week=44<br>unique_words=%{x}<br>tweet_number=%{y}<extra></extra>",
         "legendgroup": "elbuho_pe",
         "marker": {
          "color": "#83a598",
          "symbol": "circle"
         },
         "mode": "markers",
         "name": "elbuho_pe",
         "orientation": "v",
         "showlegend": false,
         "type": "scatter",
         "x": [
          576
         ],
         "xaxis": "x4",
         "y": [
          77
         ],
         "yaxis": "y4"
        },
        {
         "hovertemplate": "newspaper=elbuho_pe<br>week=49<br>unique_words=%{x}<br>tweet_number=%{y}<extra></extra>",
         "legendgroup": "elbuho_pe",
         "marker": {
          "color": "#83a598",
          "symbol": "circle"
         },
         "mode": "markers",
         "name": "elbuho_pe",
         "orientation": "v",
         "showlegend": false,
         "type": "scatter",
         "x": [
          518
         ],
         "xaxis": "x5",
         "y": [
          77
         ],
         "yaxis": "y5"
        },
        {
         "hovertemplate": "newspaper=elbuho_pe<br>week=2<br>unique_words=%{x}<br>tweet_number=%{y}<extra></extra>",
         "legendgroup": "elbuho_pe",
         "marker": {
          "color": "#83a598",
          "symbol": "circle"
         },
         "mode": "markers",
         "name": "elbuho_pe",
         "orientation": "v",
         "showlegend": false,
         "type": "scatter",
         "x": [
          612
         ],
         "xaxis": "x6",
         "y": [
          105
         ],
         "yaxis": "y6"
        },
        {
         "hovertemplate": "newspaper=ensustrece<br>week=34<br>unique_words=%{x}<br>tweet_number=%{y}<extra></extra>",
         "legendgroup": "ensustrece",
         "marker": {
          "color": "#d3869b",
          "symbol": "circle"
         },
         "mode": "markers",
         "name": "ensustrece",
         "orientation": "v",
         "showlegend": true,
         "type": "scatter",
         "x": [
          342
         ],
         "xaxis": "x",
         "y": [
          24
         ],
         "yaxis": "y"
        },
        {
         "hovertemplate": "newspaper=ensustrece<br>week=39<br>unique_words=%{x}<br>tweet_number=%{y}<extra></extra>",
         "legendgroup": "ensustrece",
         "marker": {
          "color": "#d3869b",
          "symbol": "circle"
         },
         "mode": "markers",
         "name": "ensustrece",
         "orientation": "v",
         "showlegend": false,
         "type": "scatter",
         "x": [
          215
         ],
         "xaxis": "x3",
         "y": [
          19
         ],
         "yaxis": "y3"
        },
        {
         "hovertemplate": "newspaper=ensustrece<br>week=44<br>unique_words=%{x}<br>tweet_number=%{y}<extra></extra>",
         "legendgroup": "ensustrece",
         "marker": {
          "color": "#d3869b",
          "symbol": "circle"
         },
         "mode": "markers",
         "name": "ensustrece",
         "orientation": "v",
         "showlegend": false,
         "type": "scatter",
         "x": [
          59
         ],
         "xaxis": "x4",
         "y": [
          6
         ],
         "yaxis": "y4"
        },
        {
         "hovertemplate": "newspaper=ensustrece<br>week=49<br>unique_words=%{x}<br>tweet_number=%{y}<extra></extra>",
         "legendgroup": "ensustrece",
         "marker": {
          "color": "#d3869b",
          "symbol": "circle"
         },
         "mode": "markers",
         "name": "ensustrece",
         "orientation": "v",
         "showlegend": false,
         "type": "scatter",
         "x": [
          261
         ],
         "xaxis": "x5",
         "y": [
          22
         ],
         "yaxis": "y5"
        },
        {
         "hovertemplate": "newspaper=ensustrece<br>week=2<br>unique_words=%{x}<br>tweet_number=%{y}<extra></extra>",
         "legendgroup": "ensustrece",
         "marker": {
          "color": "#d3869b",
          "symbol": "circle"
         },
         "mode": "markers",
         "name": "ensustrece",
         "orientation": "v",
         "showlegend": false,
         "type": "scatter",
         "x": [
          186
         ],
         "xaxis": "x6",
         "y": [
          16
         ],
         "yaxis": "y6"
        }
       ],
       "layout": {
        "annotations": [
         {
          "font": {},
          "showarrow": false,
          "text": "week=34",
          "x": 0.075,
          "xanchor": "center",
          "xref": "paper",
          "y": 1,
          "yanchor": "bottom",
          "yref": "paper"
         },
         {
          "font": {},
          "showarrow": false,
          "text": "week=33",
          "x": 0.24499999999999997,
          "xanchor": "center",
          "xref": "paper",
          "y": 1,
          "yanchor": "bottom",
          "yref": "paper"
         },
         {
          "font": {},
          "showarrow": false,
          "text": "week=39",
          "x": 0.415,
          "xanchor": "center",
          "xref": "paper",
          "y": 1,
          "yanchor": "bottom",
          "yref": "paper"
         },
         {
          "font": {},
          "showarrow": false,
          "text": "week=44",
          "x": 0.585,
          "xanchor": "center",
          "xref": "paper",
          "y": 1,
          "yanchor": "bottom",
          "yref": "paper"
         },
         {
          "font": {},
          "showarrow": false,
          "text": "week=49",
          "x": 0.7549999999999999,
          "xanchor": "center",
          "xref": "paper",
          "y": 1,
          "yanchor": "bottom",
          "yref": "paper"
         },
         {
          "font": {},
          "showarrow": false,
          "text": "week=2",
          "x": 0.925,
          "xanchor": "center",
          "xref": "paper",
          "y": 1,
          "yanchor": "bottom",
          "yref": "paper"
         }
        ],
        "height": 600,
        "legend": {
         "title": {
          "text": "newspaper"
         },
         "tracegroupgap": 0
        },
        "template": {
         "data": {
          "bar": [
           {
            "error_x": {
             "color": "#2a3f5f"
            },
            "error_y": {
             "color": "#2a3f5f"
            },
            "marker": {
             "line": {
              "color": "white",
              "width": 0.5
             },
             "pattern": {
              "fillmode": "overlay",
              "size": 10,
              "solidity": 0.2
             }
            },
            "type": "bar"
           }
          ],
          "barpolar": [
           {
            "marker": {
             "line": {
              "color": "white",
              "width": 0.5
             },
             "pattern": {
              "fillmode": "overlay",
              "size": 10,
              "solidity": 0.2
             }
            },
            "type": "barpolar"
           }
          ],
          "carpet": [
           {
            "aaxis": {
             "endlinecolor": "#2a3f5f",
             "gridcolor": "#C8D4E3",
             "linecolor": "#C8D4E3",
             "minorgridcolor": "#C8D4E3",
             "startlinecolor": "#2a3f5f"
            },
            "baxis": {
             "endlinecolor": "#2a3f5f",
             "gridcolor": "#C8D4E3",
             "linecolor": "#C8D4E3",
             "minorgridcolor": "#C8D4E3",
             "startlinecolor": "#2a3f5f"
            },
            "type": "carpet"
           }
          ],
          "choropleth": [
           {
            "colorbar": {
             "outlinewidth": 0,
             "ticks": ""
            },
            "type": "choropleth"
           }
          ],
          "contour": [
           {
            "colorbar": {
             "outlinewidth": 0,
             "ticks": ""
            },
            "colorscale": [
             [
              0,
              "#0d0887"
             ],
             [
              0.1111111111111111,
              "#46039f"
             ],
             [
              0.2222222222222222,
              "#7201a8"
             ],
             [
              0.3333333333333333,
              "#9c179e"
             ],
             [
              0.4444444444444444,
              "#bd3786"
             ],
             [
              0.5555555555555556,
              "#d8576b"
             ],
             [
              0.6666666666666666,
              "#ed7953"
             ],
             [
              0.7777777777777778,
              "#fb9f3a"
             ],
             [
              0.8888888888888888,
              "#fdca26"
             ],
             [
              1,
              "#f0f921"
             ]
            ],
            "type": "contour"
           }
          ],
          "contourcarpet": [
           {
            "colorbar": {
             "outlinewidth": 0,
             "ticks": ""
            },
            "type": "contourcarpet"
           }
          ],
          "heatmap": [
           {
            "colorbar": {
             "outlinewidth": 0,
             "ticks": ""
            },
            "colorscale": [
             [
              0,
              "#0d0887"
             ],
             [
              0.1111111111111111,
              "#46039f"
             ],
             [
              0.2222222222222222,
              "#7201a8"
             ],
             [
              0.3333333333333333,
              "#9c179e"
             ],
             [
              0.4444444444444444,
              "#bd3786"
             ],
             [
              0.5555555555555556,
              "#d8576b"
             ],
             [
              0.6666666666666666,
              "#ed7953"
             ],
             [
              0.7777777777777778,
              "#fb9f3a"
             ],
             [
              0.8888888888888888,
              "#fdca26"
             ],
             [
              1,
              "#f0f921"
             ]
            ],
            "type": "heatmap"
           }
          ],
          "heatmapgl": [
           {
            "colorbar": {
             "outlinewidth": 0,
             "ticks": ""
            },
            "colorscale": [
             [
              0,
              "#0d0887"
             ],
             [
              0.1111111111111111,
              "#46039f"
             ],
             [
              0.2222222222222222,
              "#7201a8"
             ],
             [
              0.3333333333333333,
              "#9c179e"
             ],
             [
              0.4444444444444444,
              "#bd3786"
             ],
             [
              0.5555555555555556,
              "#d8576b"
             ],
             [
              0.6666666666666666,
              "#ed7953"
             ],
             [
              0.7777777777777778,
              "#fb9f3a"
             ],
             [
              0.8888888888888888,
              "#fdca26"
             ],
             [
              1,
              "#f0f921"
             ]
            ],
            "type": "heatmapgl"
           }
          ],
          "histogram": [
           {
            "marker": {
             "pattern": {
              "fillmode": "overlay",
              "size": 10,
              "solidity": 0.2
             }
            },
            "type": "histogram"
           }
          ],
          "histogram2d": [
           {
            "colorbar": {
             "outlinewidth": 0,
             "ticks": ""
            },
            "colorscale": [
             [
              0,
              "#0d0887"
             ],
             [
              0.1111111111111111,
              "#46039f"
             ],
             [
              0.2222222222222222,
              "#7201a8"
             ],
             [
              0.3333333333333333,
              "#9c179e"
             ],
             [
              0.4444444444444444,
              "#bd3786"
             ],
             [
              0.5555555555555556,
              "#d8576b"
             ],
             [
              0.6666666666666666,
              "#ed7953"
             ],
             [
              0.7777777777777778,
              "#fb9f3a"
             ],
             [
              0.8888888888888888,
              "#fdca26"
             ],
             [
              1,
              "#f0f921"
             ]
            ],
            "type": "histogram2d"
           }
          ],
          "histogram2dcontour": [
           {
            "colorbar": {
             "outlinewidth": 0,
             "ticks": ""
            },
            "colorscale": [
             [
              0,
              "#0d0887"
             ],
             [
              0.1111111111111111,
              "#46039f"
             ],
             [
              0.2222222222222222,
              "#7201a8"
             ],
             [
              0.3333333333333333,
              "#9c179e"
             ],
             [
              0.4444444444444444,
              "#bd3786"
             ],
             [
              0.5555555555555556,
              "#d8576b"
             ],
             [
              0.6666666666666666,
              "#ed7953"
             ],
             [
              0.7777777777777778,
              "#fb9f3a"
             ],
             [
              0.8888888888888888,
              "#fdca26"
             ],
             [
              1,
              "#f0f921"
             ]
            ],
            "type": "histogram2dcontour"
           }
          ],
          "mesh3d": [
           {
            "colorbar": {
             "outlinewidth": 0,
             "ticks": ""
            },
            "type": "mesh3d"
           }
          ],
          "parcoords": [
           {
            "line": {
             "colorbar": {
              "outlinewidth": 0,
              "ticks": ""
             }
            },
            "type": "parcoords"
           }
          ],
          "pie": [
           {
            "automargin": true,
            "type": "pie"
           }
          ],
          "scatter": [
           {
            "fillpattern": {
             "fillmode": "overlay",
             "size": 10,
             "solidity": 0.2
            },
            "type": "scatter"
           }
          ],
          "scatter3d": [
           {
            "line": {
             "colorbar": {
              "outlinewidth": 0,
              "ticks": ""
             }
            },
            "marker": {
             "colorbar": {
              "outlinewidth": 0,
              "ticks": ""
             }
            },
            "type": "scatter3d"
           }
          ],
          "scattercarpet": [
           {
            "marker": {
             "colorbar": {
              "outlinewidth": 0,
              "ticks": ""
             }
            },
            "type": "scattercarpet"
           }
          ],
          "scattergeo": [
           {
            "marker": {
             "colorbar": {
              "outlinewidth": 0,
              "ticks": ""
             }
            },
            "type": "scattergeo"
           }
          ],
          "scattergl": [
           {
            "marker": {
             "colorbar": {
              "outlinewidth": 0,
              "ticks": ""
             }
            },
            "type": "scattergl"
           }
          ],
          "scattermapbox": [
           {
            "marker": {
             "colorbar": {
              "outlinewidth": 0,
              "ticks": ""
             }
            },
            "type": "scattermapbox"
           }
          ],
          "scatterpolar": [
           {
            "marker": {
             "colorbar": {
              "outlinewidth": 0,
              "ticks": ""
             }
            },
            "type": "scatterpolar"
           }
          ],
          "scatterpolargl": [
           {
            "marker": {
             "colorbar": {
              "outlinewidth": 0,
              "ticks": ""
             }
            },
            "type": "scatterpolargl"
           }
          ],
          "scatterternary": [
           {
            "marker": {
             "colorbar": {
              "outlinewidth": 0,
              "ticks": ""
             }
            },
            "type": "scatterternary"
           }
          ],
          "surface": [
           {
            "colorbar": {
             "outlinewidth": 0,
             "ticks": ""
            },
            "colorscale": [
             [
              0,
              "#0d0887"
             ],
             [
              0.1111111111111111,
              "#46039f"
             ],
             [
              0.2222222222222222,
              "#7201a8"
             ],
             [
              0.3333333333333333,
              "#9c179e"
             ],
             [
              0.4444444444444444,
              "#bd3786"
             ],
             [
              0.5555555555555556,
              "#d8576b"
             ],
             [
              0.6666666666666666,
              "#ed7953"
             ],
             [
              0.7777777777777778,
              "#fb9f3a"
             ],
             [
              0.8888888888888888,
              "#fdca26"
             ],
             [
              1,
              "#f0f921"
             ]
            ],
            "type": "surface"
           }
          ],
          "table": [
           {
            "cells": {
             "fill": {
              "color": "#EBF0F8"
             },
             "line": {
              "color": "white"
             }
            },
            "header": {
             "fill": {
              "color": "#C8D4E3"
             },
             "line": {
              "color": "white"
             }
            },
            "type": "table"
           }
          ]
         },
         "layout": {
          "annotationdefaults": {
           "arrowcolor": "#2a3f5f",
           "arrowhead": 0,
           "arrowwidth": 1
          },
          "autotypenumbers": "strict",
          "coloraxis": {
           "colorbar": {
            "outlinewidth": 0,
            "ticks": ""
           }
          },
          "colorscale": {
           "diverging": [
            [
             0,
             "#8e0152"
            ],
            [
             0.1,
             "#c51b7d"
            ],
            [
             0.2,
             "#de77ae"
            ],
            [
             0.3,
             "#f1b6da"
            ],
            [
             0.4,
             "#fde0ef"
            ],
            [
             0.5,
             "#f7f7f7"
            ],
            [
             0.6,
             "#e6f5d0"
            ],
            [
             0.7,
             "#b8e186"
            ],
            [
             0.8,
             "#7fbc41"
            ],
            [
             0.9,
             "#4d9221"
            ],
            [
             1,
             "#276419"
            ]
           ],
           "sequential": [
            [
             0,
             "#0d0887"
            ],
            [
             0.1111111111111111,
             "#46039f"
            ],
            [
             0.2222222222222222,
             "#7201a8"
            ],
            [
             0.3333333333333333,
             "#9c179e"
            ],
            [
             0.4444444444444444,
             "#bd3786"
            ],
            [
             0.5555555555555556,
             "#d8576b"
            ],
            [
             0.6666666666666666,
             "#ed7953"
            ],
            [
             0.7777777777777778,
             "#fb9f3a"
            ],
            [
             0.8888888888888888,
             "#fdca26"
            ],
            [
             1,
             "#f0f921"
            ]
           ],
           "sequentialminus": [
            [
             0,
             "#0d0887"
            ],
            [
             0.1111111111111111,
             "#46039f"
            ],
            [
             0.2222222222222222,
             "#7201a8"
            ],
            [
             0.3333333333333333,
             "#9c179e"
            ],
            [
             0.4444444444444444,
             "#bd3786"
            ],
            [
             0.5555555555555556,
             "#d8576b"
            ],
            [
             0.6666666666666666,
             "#ed7953"
            ],
            [
             0.7777777777777778,
             "#fb9f3a"
            ],
            [
             0.8888888888888888,
             "#fdca26"
            ],
            [
             1,
             "#f0f921"
            ]
           ]
          },
          "colorway": [
           "#636efa",
           "#EF553B",
           "#00cc96",
           "#ab63fa",
           "#FFA15A",
           "#19d3f3",
           "#FF6692",
           "#B6E880",
           "#FF97FF",
           "#FECB52"
          ],
          "font": {
           "color": "#2a3f5f"
          },
          "geo": {
           "bgcolor": "white",
           "lakecolor": "white",
           "landcolor": "white",
           "showlakes": true,
           "showland": true,
           "subunitcolor": "#C8D4E3"
          },
          "hoverlabel": {
           "align": "left"
          },
          "hovermode": "closest",
          "mapbox": {
           "style": "light"
          },
          "paper_bgcolor": "white",
          "plot_bgcolor": "white",
          "polar": {
           "angularaxis": {
            "gridcolor": "#EBF0F8",
            "linecolor": "#EBF0F8",
            "ticks": ""
           },
           "bgcolor": "white",
           "radialaxis": {
            "gridcolor": "#EBF0F8",
            "linecolor": "#EBF0F8",
            "ticks": ""
           }
          },
          "scene": {
           "xaxis": {
            "backgroundcolor": "white",
            "gridcolor": "#DFE8F3",
            "gridwidth": 2,
            "linecolor": "#EBF0F8",
            "showbackground": true,
            "ticks": "",
            "zerolinecolor": "#EBF0F8"
           },
           "yaxis": {
            "backgroundcolor": "white",
            "gridcolor": "#DFE8F3",
            "gridwidth": 2,
            "linecolor": "#EBF0F8",
            "showbackground": true,
            "ticks": "",
            "zerolinecolor": "#EBF0F8"
           },
           "zaxis": {
            "backgroundcolor": "white",
            "gridcolor": "#DFE8F3",
            "gridwidth": 2,
            "linecolor": "#EBF0F8",
            "showbackground": true,
            "ticks": "",
            "zerolinecolor": "#EBF0F8"
           }
          },
          "shapedefaults": {
           "line": {
            "color": "#2a3f5f"
           }
          },
          "ternary": {
           "aaxis": {
            "gridcolor": "#DFE8F3",
            "linecolor": "#A2B1C6",
            "ticks": ""
           },
           "baxis": {
            "gridcolor": "#DFE8F3",
            "linecolor": "#A2B1C6",
            "ticks": ""
           },
           "bgcolor": "white",
           "caxis": {
            "gridcolor": "#DFE8F3",
            "linecolor": "#A2B1C6",
            "ticks": ""
           }
          },
          "title": {
           "x": 0.05
          },
          "xaxis": {
           "automargin": true,
           "gridcolor": "#EBF0F8",
           "linecolor": "#EBF0F8",
           "ticks": "",
           "title": {
            "standoff": 15
           },
           "zerolinecolor": "#EBF0F8",
           "zerolinewidth": 2
          },
          "yaxis": {
           "automargin": true,
           "gridcolor": "#EBF0F8",
           "linecolor": "#EBF0F8",
           "ticks": "",
           "title": {
            "standoff": 15
           },
           "zerolinecolor": "#EBF0F8",
           "zerolinewidth": 2
          }
         }
        },
        "title": {
         "text": "Unique words per newspaper"
        },
        "width": 2400,
        "xaxis": {
         "anchor": "y",
         "domain": [
          0,
          0.15
         ],
         "title": {
          "text": "unique_words"
         }
        },
        "xaxis2": {
         "anchor": "y2",
         "domain": [
          0.16999999999999998,
          0.31999999999999995
         ],
         "matches": "x",
         "title": {
          "text": "unique_words"
         }
        },
        "xaxis3": {
         "anchor": "y3",
         "domain": [
          0.33999999999999997,
          0.49
         ],
         "matches": "x",
         "title": {
          "text": "unique_words"
         }
        },
        "xaxis4": {
         "anchor": "y4",
         "domain": [
          0.51,
          0.66
         ],
         "matches": "x",
         "title": {
          "text": "unique_words"
         }
        },
        "xaxis5": {
         "anchor": "y5",
         "domain": [
          0.6799999999999999,
          0.83
         ],
         "matches": "x",
         "title": {
          "text": "unique_words"
         }
        },
        "xaxis6": {
         "anchor": "y6",
         "domain": [
          0.85,
          1
         ],
         "matches": "x",
         "title": {
          "text": "unique_words"
         }
        },
        "yaxis": {
         "anchor": "x",
         "domain": [
          0,
          1
         ],
         "title": {
          "text": "tweet_number"
         }
        },
        "yaxis2": {
         "anchor": "x2",
         "domain": [
          0,
          1
         ],
         "matches": "y",
         "showticklabels": false
        },
        "yaxis3": {
         "anchor": "x3",
         "domain": [
          0,
          1
         ],
         "matches": "y",
         "showticklabels": false
        },
        "yaxis4": {
         "anchor": "x4",
         "domain": [
          0,
          1
         ],
         "matches": "y",
         "showticklabels": false
        },
        "yaxis5": {
         "anchor": "x5",
         "domain": [
          0,
          1
         ],
         "matches": "y",
         "showticklabels": false
        },
        "yaxis6": {
         "anchor": "x6",
         "domain": [
          0,
          1
         ],
         "matches": "y",
         "showticklabels": false
        }
       }
      }
     },
     "metadata": {},
     "output_type": "display_data"
    }
   ],
   "source": [
    "fig = px.scatter(\n",
    "    data_words,\n",
    "    \"unique_words\",\n",
    "    \"tweet_number\",\n",
    "    facet_col=\"week\",\n",
    "    color=\"newspaper\",\n",
    "    color_discrete_sequence=gruvbox_colors,\n",
    "    title=\"Unique words per newspaper\",\n",
    "    width=2400,\n",
    "    height=600\n",
    ")\n",
    "\n",
    "fig.show()"
   ]
  }
 ],
 "metadata": {
  "kernelspec": {
   "display_name": "nlp-newspapersAnalysis",
   "language": "python",
   "name": "python3"
  },
  "language_info": {
   "codemirror_mode": {
    "name": "ipython",
    "version": 3
   },
   "file_extension": ".py",
   "mimetype": "text/x-python",
   "name": "python",
   "nbconvert_exporter": "python",
   "pygments_lexer": "ipython3",
   "version": "3.10.9"
  },
  "orig_nbformat": 2,
  "vscode": {
   "interpreter": {
    "hash": "aef0c461847f6a88eedb677fa00493df291ae4b245cdf057d207d54f564bf672"
   }
  }
 },
 "nbformat": 4,
 "nbformat_minor": 2
}
