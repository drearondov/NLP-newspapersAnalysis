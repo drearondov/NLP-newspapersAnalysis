{
 "cells": [
  {
   "cell_type": "markdown",
   "metadata": {},
   "source": [
    "# Topic Modeling\n",
    "\n",
    "## Introduction\n",
    "\n",
    "I'll be doing topic modeling for the newspaper headlines, though I don't expect to find much difference in between the papers, maybe a topic or two will change.\n",
    "\n",
    "For that I'll be using **Latent Dirichlet Allocation (LDA)**, which is a topic modeling technique, with the *Gensim* package and *Spacy*.\n",
    "\n",
    "In regards to inputs and outputs, I'll be working with the **Document Term Matrix (DTM)** as en inpus, and the outputs will be list with topics for each newspaper."
   ]
  },
  {
   "cell_type": "code",
   "execution_count": 1,
   "metadata": {},
   "outputs": [],
   "source": [
    "import os\n",
    "import numpy as np\n",
    "import pandas as pd\n",
    "import plotly.express as px\n",
    "import plotly.io as pio\n",
    "\n",
    "from dotenv import load_dotenv\n",
    "from gensim import matutils, models\n",
    "from scipy import sparse"
   ]
  },
  {
   "cell_type": "code",
   "execution_count": null,
   "metadata": {},
   "outputs": [],
   "source": [
    "load_dotenv()\n",
    "\n",
    "BASE_DIR = os.environ.get(\"BASE_DIR\")\n",
    "BEARER_TOKEN = os.environ.get(\"BEARER_TOKEN\")"
   ]
  },
  {
   "cell_type": "code",
   "execution_count": null,
   "metadata": {},
   "outputs": [],
   "source": [
    "pd.set_option(\"display.max_colwidth\", 300)\n",
    "pd.set_option(\"display.max_rows\", 100)\n",
    "pd.set_option(\"display.max_columns\", 50)\n",
    "pd.set_option(\"display.precision\", 2)\n",
    "pd.set_option(\"display.float_format\",  \"{:,.3f}\".format)\n",
    "\n",
    "pio.templates.default = \"plotly_white\"\n",
    "pio.kaleido.scope.default_scale = 2\n",
    "\n",
    "gruvbox_colors = [\"#fabd2f\", \"#b8bb26\", \"#458588\", \"#fe8019\", \"#b16286\", \"#fb4943\", \"#689d6a\", \"#d79921\", \"#98971a\", \"#83a598\", \"#d65d0e\", \"#d3869b\", \"#cc241d\", \"#8ec07c\", \"#b57614\", \"#79740e\", \"#076678\", \"#af3a03\", \"#8f3f71\", \"#9d0006\", \"#4d7b58\", \"#fbf1c7\", \"#928374\", \"#282828\"]"
   ]
  },
  {
   "cell_type": "code",
   "execution_count": 8,
   "metadata": {},
   "outputs": [],
   "source": [
    "tweet_data = pd.read_pickle(f\"{BASE_DIR}/data/processed/dtm_stop.pkl\").T"
   ]
  },
  {
   "cell_type": "code",
   "execution_count": 7,
   "metadata": {},
   "outputs": [],
   "source": [
    "sparse_dtm = sparse.csc_matrix(tweet_data)\n",
    "tweet_corpus = matutils.Sparse2Corpus(sparse_dtm)"
   ]
  },
  {
   "cell_type": "code",
   "execution_count": 14,
   "metadata": {},
   "outputs": [],
   "source": [
    "id2word = {}\n",
    "\n",
    "for index, word in enumerate(tweet_data.T.columns):\n",
    "    id2word[index] = word"
   ]
  },
  {
   "cell_type": "code",
   "execution_count": 20,
   "metadata": {},
   "outputs": [
    {
     "data": {
      "text/plain": [
       "[(0,\n",
       "  '0.001*\"trump\" + 0.001*\"presidente\" + 0.001*\"país\" + 0.001*\"alianza\" + 0.001*\"salud\" + 0.001*\"uu\" + 0.001*\"ee\" + 0.001*\"personas\" + 0.001*\"capitolio\" + 0.001*\"personas\"'),\n",
       " (1,\n",
       "  '0.003*\"normaslegales\" + 0.003*\"nacional\" + 0.002*\"presidente\" + 0.002*\"ley\" + 0.002*\"salud\" + 0.002*\"navidad\" + 0.002*\"minsaperu\" + 0.002*\"país\" + 0.002*\"francisco\" + 0.002*\"pandemia\"'),\n",
       " (2,\n",
       "  '0.003*\"sagasti\" + 0.003*\"luis\" + 0.002*\"vizcarra\" + 0.002*\"ley\" + 0.002*\"josé\" + 0.002*\"francisco\" + 0.002*\"garcía\" + 0.002*\"presidente\" + 0.001*\"césar\" + 0.001*\"martín\"'),\n",
       " (3,\n",
       "  '0.002*\"eeuu\" + 0.002*\"covid\" + 0.001*\"ley\" + 0.001*\"mundo\" + 0.001*\"pandemia\" + 0.001*\"libertad\" + 0.001*\"casos\" + 0.001*\"trump\" + 0.001*\"personas\" + 0.001*\"coronavirusenperú\"')]"
      ]
     },
     "execution_count": 20,
     "metadata": {},
     "output_type": "execute_result"
    }
   ],
   "source": [
    "lda = models.LdaModel(corpus=tweet_corpus, id2word=id2word, num_topics=4, passes=10)\n",
    "lda.print_topics()"
   ]
  }
 ],
 "metadata": {
  "kernelspec": {
   "display_name": "nlp-newspapersAnalysis",
   "language": "python",
   "name": "python3"
  },
  "language_info": {
   "codemirror_mode": {
    "name": "ipython",
    "version": 3
   },
   "file_extension": ".py",
   "mimetype": "text/x-python",
   "name": "python",
   "nbconvert_exporter": "python",
   "pygments_lexer": "ipython3",
   "version": "3.10.9 (main, Dec 13 2022, 19:39:49) [Clang 14.0.0 (clang-1400.0.29.202)]"
  },
  "orig_nbformat": 2,
  "vscode": {
   "interpreter": {
    "hash": "aef0c461847f6a88eedb677fa00493df291ae4b245cdf057d207d54f564bf672"
   }
  }
 },
 "nbformat": 4,
 "nbformat_minor": 2
}
